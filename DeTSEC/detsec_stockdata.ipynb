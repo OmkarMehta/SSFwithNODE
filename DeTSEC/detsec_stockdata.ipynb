{
  "nbformat": 4,
  "nbformat_minor": 0,
  "metadata": {
    "orig_nbformat": 4,
    "colab": {
      "name": "detsec_stockdata.ipynb",
      "provenance": [],
      "collapsed_sections": []
    },
    "language_info": {
      "name": "python"
    },
    "kernelspec": {
      "name": "python3",
      "display_name": "Python 3"
    }
  },
  "cells": [
    {
      "cell_type": "markdown",
      "metadata": {
        "id": "K3BReyTTydHb"
      },
      "source": [
        "# DETSEC on EGC Dataset\n"
      ]
    },
    {
      "cell_type": "markdown",
      "metadata": {
        "id": "D8gLt_rh5q3O"
      },
      "source": [
        "## Data Collection and Transformation"
      ]
    },
    {
      "cell_type": "code",
      "metadata": {
        "id": "yeVEskKe5dkw"
      },
      "source": [
        "import pandas as pd\n",
        "import numpy as np\n",
        "from sklearn import preprocessing\n",
        "df = pd.read_csv(f\"data-lag5-forecast5.csv\", index_col=0)\n",
        "data = preprocessing.normalize(df.values)\n",
        "file = \"stock/data.npy\"\n",
        "# np.save(file, data)\n",
        "lis = [100] * data.shape[0]\n",
        "seq_length = np.array(lis)\n",
        "seq_file = \"stock/seq_length.npy\"\n",
        "# np.save(seq_file, seq_length)"
      ],
      "execution_count": 1,
      "outputs": []
    },
    {
      "cell_type": "markdown",
      "metadata": {
        "id": "cZW4m4HKyLqD"
      },
      "source": [
        "## Libraries"
      ]
    },
    {
      "cell_type": "code",
      "metadata": {
        "id": "6QeSJ5ADyLqF"
      },
      "source": [
        "import sys\n",
        "import os\n",
        "import numpy as np\n",
        "import math\n",
        "from operator import itemgetter, attrgetter, methodcaller\n",
        "import tensorflow as tf\n",
        "# from tensorflow import keras\n",
        "# from tensorflow.keras import layers\n",
        "import random\n",
        "from sklearn.metrics import accuracy_score\n",
        "from sklearn.metrics import precision_recall_fscore_support\n",
        "from sklearn.metrics import f1_score\n",
        "from sklearn.ensemble import RandomForestClassifier\n",
        "from sklearn.utils import shuffle\n",
        "from sklearn.metrics import confusion_matrix\n",
        "# from tensorflow.contrib.rnn import DropoutWrapper\n",
        "import time\n",
        "import calendar\n",
        "from sklearn.cluster import KMeans\n",
        "from sklearn.metrics import normalized_mutual_info_score\n",
        "# from tensorflow.contrib import rnn\n",
        "from scipy.spatial import distance\n",
        "from operator import itemgetter\n",
        "import random as rand\n",
        "from sklearn.cluster import KMeans"
      ],
      "execution_count": 2,
      "outputs": []
    },
    {
      "cell_type": "code",
      "metadata": {
        "id": "lab5G36o2732"
      },
      "source": [
        "from tensorflow.compat.v1.nn.rnn_cell import DropoutWrapper"
      ],
      "execution_count": 3,
      "outputs": []
    },
    {
      "cell_type": "code",
      "metadata": {
        "id": "-vIHKCQ63Kku"
      },
      "source": [
        "from tensorflow.compat.v1.nn import rnn_cell as rnn"
      ],
      "execution_count": 4,
      "outputs": []
    },
    {
      "cell_type": "code",
      "metadata": {
        "id": "dQ36Y8ml4WoZ"
      },
      "source": [
        "tf.compat.v1.disable_eager_execution()"
      ],
      "execution_count": 5,
      "outputs": []
    },
    {
      "cell_type": "code",
      "metadata": {
        "id": "Ea0GohUn6DXx"
      },
      "source": [
        "tf.compat.v1.reset_default_graph()"
      ],
      "execution_count": 6,
      "outputs": []
    },
    {
      "cell_type": "markdown",
      "metadata": {
        "id": "KWX99TmdyLqF"
      },
      "source": [
        "## buildMaskBatch"
      ]
    },
    {
      "cell_type": "code",
      "metadata": {
        "id": "5WlSE01IyLqG"
      },
      "source": [
        "def buildMaskBatch(batch_seql, max_size):\n",
        "\tmask_batch = []\n",
        "\tfor el in batch_seql:\n",
        "\t\tmask_batch.append(  np.concatenate( (np.ones(el), np.zeros(max_size - el)) ) )\n",
        "\treturn np.array(mask_batch)"
      ],
      "execution_count": 7,
      "outputs": []
    },
    {
      "cell_type": "markdown",
      "metadata": {
        "id": "Gyj0BiMpyLqG"
      },
      "source": [
        "## extractFeatures"
      ]
    },
    {
      "cell_type": "code",
      "metadata": {
        "id": "fS-_o0B-yLqG"
      },
      "source": [
        "def extractFeatures(ts_data, seq_length, mask_val):\n",
        "\tbatchsz = 1024\n",
        "\titerations = int(ts_data.shape[0] / batchsz)\n",
        "\tif ts_data.shape[0] % batchsz != 0:\n",
        "\t\titerations+=1\n",
        "\tfeatures = None\n",
        "\n",
        "\tfor ibatch in range(iterations):\n",
        "\t\tbatch_data, batch_seqL = getBatch(ts_data, seq_length, ibatch, batchsz)\n",
        "\t\tbatch_mask, _ = getBatch(mask_val, mask_val, ibatch, batchsz)\n",
        "\t\tpartial_features = sess.run(embedding,feed_dict={input_t:batch_data, seqL:batch_seqL, mask: batch_mask})\n",
        "\t\tif features is None:\n",
        "\t\t\tfeatures = partial_features\n",
        "\t\telse:\n",
        "\t\t\tfeatures = np.vstack((features, partial_features))\n",
        "\n",
        "\t\tdel batch_data\n",
        "\t\tdel batch_mask\n",
        "\treturn features"
      ],
      "execution_count": 8,
      "outputs": []
    },
    {
      "cell_type": "markdown",
      "metadata": {
        "id": "0lPqnChyyLqH"
      },
      "source": [
        "## gate and gating"
      ]
    },
    {
      "cell_type": "code",
      "metadata": {
        "id": "5lx5P24byLqH"
      },
      "source": [
        "def gate(vec):\n",
        "    mask = tf.compat.v1.layers.dense(vec, vec.get_shape()[1], activation=tf.sigmoid)\n",
        "    return mask"
      ],
      "execution_count": 9,
      "outputs": []
    },
    {
      "cell_type": "code",
      "metadata": {
        "id": "UGdwRXS7yLqH"
      },
      "source": [
        "def gating(outputs_list, mask):\n",
        "\tgating_results = None\n",
        "\tif mask is None:\n",
        "\t\tfor i in range(len(outputs_list)):\n",
        "\t\t\tval = outputs_list[i]\n",
        "\t\t\tmultiplication = val * gate(val)\n",
        "\t\t\tif gating_results is None:\n",
        "\t\t\t\tgating_results = multiplication\n",
        "\t\t\telse:\n",
        "\t\t\t\tgating_results = gating_results + multiplication\n",
        "\t\treturn gating_results\n",
        "\n",
        "\tfor i in range(len(outputs_list)):\n",
        "\t\tval = outputs_list[i]\n",
        "\t\tmultiplication = val * gate(val)\n",
        "\t\tmultiplication = tf.compat.v1.transpose( multiplication )\n",
        "\t\tmultiplication = multiplication * mask[:,i]\n",
        "\t\tmultiplication = tf.compat.v1.transpose( multiplication )\n",
        "\t\tif gating_results is None:\n",
        "\t\t\tgating_results = multiplication\n",
        "\t\telse:\n",
        "\t\t\tgating_results = gating_results +multiplication\n",
        "\n",
        "\treturn gating_results"
      ],
      "execution_count": 10,
      "outputs": []
    },
    {
      "cell_type": "markdown",
      "metadata": {
        "id": "EfS0KgxKyLqI"
      },
      "source": [
        "## attention"
      ]
    },
    {
      "cell_type": "code",
      "metadata": {
        "id": "EbwI4oPiyLqI"
      },
      "source": [
        "def attention(outputs_list, nunits, attention_size):\n",
        "\toutputs = tf.stack(outputs_list, axis=1)\n",
        "\n",
        "\t# Trainable parameters\n",
        "\tW_omega = tf.compat.v1.Variable(tf.compat.v1.random_normal([nunits, attention_size], stddev=0.1))\n",
        "\tb_omega = tf.compat.v1.Variable(tf.compat.v1.random_normal([attention_size], stddev=0.1))\n",
        "\tu_omega = tf.compat.v1.Variable(tf.compat.v1.random_normal([attention_size], stddev=0.1))\n",
        "\n",
        "\t# Applying fully connected layer with non-linear activation to each of the B*T timestamps;\n",
        "\t#  the shape of `v` is (B,T,D)*(D,A)=(B,T,A), where A=attention_size\n",
        "\tv = tf.compat.v1.tanh(tf.compat.v1.tensordot(outputs, W_omega, axes=1) + b_omega)\n",
        "\t# For each of the timestamps its vector of size A from `v` is reduced with `u` vector\n",
        "\tvu = tf.compat.v1.tensordot(v, u_omega, axes=1)   # (B,T) shape\n",
        "\talphas = tf.compat.v1.nn.softmax(vu)              # (B,T) shape also\n",
        "\n",
        "\toutput = tf.compat.v1.reduce_sum(outputs * tf.compat.v1.expand_dims(alphas, -1), 1)\n",
        "\toutput = tf.compat.v1.reshape(output, [-1, nunits])\n",
        "\treturn output\n"
      ],
      "execution_count": 11,
      "outputs": []
    },
    {
      "cell_type": "markdown",
      "metadata": {
        "id": "pnYT3FyYyLqJ"
      },
      "source": [
        "## getBatch"
      ]
    },
    {
      "cell_type": "code",
      "metadata": {
        "id": "PO8fLwQbyLqJ"
      },
      "source": [
        "def getBatch(X, Y, i, batch_size):\n",
        "    start_id = i*batch_size\n",
        "    end_id = min( (i+1) * batch_size, X.shape[0])\n",
        "    batch_x = X[start_id:end_id]\n",
        "    batch_y = Y[start_id:end_id]\n",
        "    return batch_x, batch_y\n"
      ],
      "execution_count": 12,
      "outputs": []
    },
    {
      "cell_type": "markdown",
      "metadata": {
        "id": "6-vyE_ylyLqJ"
      },
      "source": [
        "## AE3"
      ]
    },
    {
      "cell_type": "code",
      "metadata": {
        "id": "DFWCXcOqyLqJ"
      },
      "source": [
        "\n",
        "def AE3(x, b_size, n_dim, seqL, mask, toReuse):\n",
        "\twith tf.compat.v1.variable_scope(\"ENCDEC\",reuse=toReuse):\n",
        "\t\tn_splits = x.get_shape()[1] / n_dim\n",
        "\t\tn_splits = int(n_splits)\n",
        "\t\tx_list = tf.compat.v1.split(x, n_splits, axis=1)\n",
        "\t\tx_list_bw = tf.compat.v1.stack(x_list[::-1],axis=1)\n",
        "\t\tx_list = tf.compat.v1.stack(x_list,axis=1)\n",
        "\t\t#FIXED TO 512 for big dataset\n",
        "\t\t#FOR SMALL DATASET WE RECOMMEND 64 OR 32\n",
        "\t\tnunits = 64\n",
        "\t\toutputsEncLFW = None\n",
        "\t\toutputsEncLBW = None\n",
        "\n",
        "\t\twith tf.compat.v1.variable_scope(\"encoderFWL\", reuse=toReuse):\n",
        "\t\t\tcellEncoderFW = rnn.GRUCell(nunits)\n",
        "\t\t\toutputsEncLFW,_=tf.compat.v1.nn.dynamic_rnn(cellEncoderFW, x_list, sequence_length = seqL, dtype=\"float32\")\n",
        "\n",
        "\t\twith tf.compat.v1.variable_scope(\"encoderBWL\", reuse=toReuse):\n",
        "\t\t\tcellEncoderBW = rnn.GRUCell(nunits)\n",
        "\t\t\toutputsEncLBW,_=tf.compat.v1.nn.dynamic_rnn(cellEncoderBW, x_list_bw, sequence_length = seqL, dtype=\"float32\")\n",
        "\n",
        "\t\tfinal_list_fw = []\n",
        "\t\tfor i in range( n_splits ):\n",
        "\t\t\tfinal_list_fw.append( outputsEncLFW[:,i,:] )\n",
        "\n",
        "\t\tfinal_list_bw = []\n",
        "\t\tfor i in range( n_splits ):\n",
        "\t\t\tfinal_list_bw.append( outputsEncLBW[:,i,:] )\n",
        "\n",
        "\t\tencoder_fw = attention(final_list_fw, nunits, nunits)\n",
        "\t\tencoder_bw = attention(final_list_bw, nunits, nunits)\n",
        "\t\tencoder = gate(encoder_fw) * encoder_fw + gate(encoder_bw) * encoder_bw\n",
        "\n",
        "\t\tx_list2decode = []\n",
        "\t\tx_list2decode_bw = []\n",
        "\t\tfor i in range(n_splits):\n",
        "\t\t\tx_list2decode.append( tf.compat.v1.identity(encoder) )\n",
        "\t\t\tx_list2decode_bw.append( tf.compat.v1.identity(encoder) )\n",
        "\n",
        "\t\tx_list2decode = tf.compat.v1.stack(x_list2decode, axis=1)\n",
        "\t\tx_list2decode_bw = tf.compat.v1.stack(x_list2decode_bw, axis=1)\n",
        "\n",
        "\t\twith tf.compat.v1.variable_scope(\"decoderG\", reuse=toReuse):\n",
        "\t\t\tcellDecoder = rnn.GRUCell(nunits)\n",
        "\t\t\toutputsDecG,_=tf.compat.v1.nn.dynamic_rnn(cellDecoder, x_list2decode, sequence_length = seqL, dtype=\"float32\")\n",
        "\n",
        "\t\twith tf.compat.v1.variable_scope(\"decoderGFW\", reuse=toReuse):\n",
        "\t\t\tcellDecoder = rnn.GRUCell(nunits)\n",
        "\t\t\toutputsDecGFW,_=tf.compat.v1.nn.dynamic_rnn(cellDecoder, x_list2decode_bw, sequence_length = seqL, dtype=\"float32\")\n",
        "\n",
        "\t\tout_list = []\n",
        "\t\tout_list_bw = []\n",
        "\t\tfor i in range(n_splits):\n",
        "\t\t\ttemp_cell = outputsDecG[:,i,:]\n",
        "\t\t\ttt = tf.compat.v1.layers.dense(temp_cell, n_dim, activation=None)\n",
        "\t\t\tout_list.append( tt )\n",
        "\n",
        "\t\t\ttemp_cell2 = outputsDecGFW[:,i,:]\n",
        "\t\t\ttt2 = tf.compat.v1.layers.dense(temp_cell, n_dim, activation=None)\n",
        "\t\t\tout_list_bw.append(tt2)\n",
        "\n",
        "\t\treconstruct = tf.compat.v1.concat(out_list, axis=1)\n",
        "\t\treconstruct2 = tf.compat.v1.concat(out_list_bw[::1], axis=1)\n",
        "\n",
        "\t\treturn reconstruct, reconstruct2, encoder"
      ],
      "execution_count": 13,
      "outputs": []
    },
    {
      "cell_type": "markdown",
      "metadata": {
        "id": "8Q8UU5JKyLqK"
      },
      "source": [
        "## dirName, n_dims, n_clusters"
      ]
    },
    {
      "cell_type": "code",
      "metadata": {
        "id": "l_1nPLpsyLqL"
      },
      "source": [
        "dirName = \"stock\"\n",
        "n_dims = 10\n",
        "n_clusters = 3\n"
      ],
      "execution_count": 14,
      "outputs": []
    },
    {
      "cell_type": "markdown",
      "metadata": {
        "id": "sV8cTnZ0yLqL"
      },
      "source": [
        "## output_dir, dataFileName, seqLFileName"
      ]
    },
    {
      "cell_type": "code",
      "metadata": {
        "id": "2ww8iQt4yLqL"
      },
      "source": [
        "output_dir = 'output'\n",
        "#DATA FILE with size:\t(nSamples, (n_dims * max_length) )\n",
        "dataFileName = dirName+\"/data.npy\"\n",
        "#SEQUENCE LENGTH FILE with size: ( nSamples, )\n",
        "#It contains the sequence length (multiplied by n_dims) for each sequence with positional reference to the data.npy file\n",
        "#This means that, if a time series has 4 attributes and it has a lenght equal to 20, the corresponding values in the seq_length.npy file will be 80\n",
        "seqLFileName = dirName+\"/seq_length.npy\""
      ],
      "execution_count": 15,
      "outputs": []
    },
    {
      "cell_type": "markdown",
      "metadata": {
        "id": "6zAOLQaVyLqL"
      },
      "source": [
        "## data, n_row, n_col, seqLength, orig_data, orig_seqLength, n_feat"
      ]
    },
    {
      "cell_type": "code",
      "metadata": {
        "id": "o-pJQxkByLqM"
      },
      "source": [
        "data = np.load(dataFileName)\n",
        "n_row = data.shape[0]\n",
        "n_col = data.shape[1]\n",
        "\n",
        "seqLength = np.load(seqLFileName)\n",
        "\n",
        "orig_data = data\n",
        "orig_seqLength = seqLength\n",
        "n_feat = data.shape[1]\n"
      ],
      "execution_count": 16,
      "outputs": []
    },
    {
      "cell_type": "markdown",
      "metadata": {
        "id": "TqqtpvVpyLqM"
      },
      "source": [
        "## b_size, dropOut, seqL, input_t, mask, target_t, sess"
      ]
    },
    {
      "cell_type": "code",
      "metadata": {
        "colab": {
          "base_uri": "https://localhost:8080/"
        },
        "id": "r3HqyXSb3nNk",
        "outputId": "b23a4d16-a4f9-495b-e047-233c03b799cb"
      },
      "source": [
        "print(tf.__version__)"
      ],
      "execution_count": 17,
      "outputs": [
        {
          "output_type": "stream",
          "name": "stdout",
          "text": [
            "2.6.0\n"
          ]
        }
      ]
    },
    {
      "cell_type": "code",
      "metadata": {
        "id": "pxdgjbGfyLqM"
      },
      "source": [
        "b_size = tf.compat.v1.placeholder(tf.float32, () , name=\"b_size\")\n",
        "dropOut = tf.compat.v1.placeholder(tf.float32, () , name=\"dropOut\")\n",
        "seqL = tf.compat.v1.placeholder(tf.float32, (None) , name=\"seqL\")\n",
        "input_t = tf.compat.v1.placeholder(tf.float32, (None, n_feat), name='inputs')\n",
        "mask = tf.compat.v1.placeholder(tf.float32, (None, n_feat), name='mask')\n",
        "target_t = tf.compat.v1.placeholder(tf.float32, (None, n_feat), name='target_t')\n",
        "\n",
        "sess = tf.compat.v1.InteractiveSession()"
      ],
      "execution_count": 18,
      "outputs": []
    },
    {
      "cell_type": "code",
      "metadata": {
        "colab": {
          "base_uri": "https://localhost:8080/"
        },
        "id": "49jSh-_P5MgV",
        "outputId": "dde6b929-c2ca-484c-fd4e-a7d0539ea588"
      },
      "source": [
        "input_t.get_shape()[1]"
      ],
      "execution_count": 19,
      "outputs": [
        {
          "output_type": "execute_result",
          "data": {
            "text/plain": [
              "100"
            ]
          },
          "metadata": {},
          "execution_count": 19
        }
      ]
    },
    {
      "cell_type": "markdown",
      "metadata": {
        "id": "DUeJxXeHyLqM"
      },
      "source": [
        "## reconstruction (forward), reconstruction2 (backward), embedding "
      ]
    },
    {
      "cell_type": "code",
      "metadata": {
        "colab": {
          "base_uri": "https://localhost:8080/"
        },
        "id": "JA7CShLWyLqN",
        "outputId": "56f6c8d1-210d-49df-92aa-bcd4803c2455"
      },
      "source": [
        "\n",
        "reconstruction, reconstruction2, embedding = AE3(input_t, b_size, n_dims, seqL, mask, False)"
      ],
      "execution_count": 20,
      "outputs": [
        {
          "output_type": "stream",
          "name": "stdout",
          "text": [
            "WARNING:tensorflow:From <ipython-input-13-148d159a2890>:17: dynamic_rnn (from tensorflow.python.ops.rnn) is deprecated and will be removed in a future version.\n",
            "Instructions for updating:\n",
            "Please use `keras.layers.RNN(cell)`, which is equivalent to this API\n",
            "WARNING:tensorflow:From /usr/local/lib/python3.7/dist-packages/keras/layers/legacy_rnn/rnn_cell_impl.py:572: calling Constant.__init__ (from tensorflow.python.ops.init_ops) with dtype is deprecated and will be removed in a future version.\n",
            "Instructions for updating:\n",
            "Call initializer instance with the dtype argument instead of passing it to the constructor\n",
            "WARNING:tensorflow:From /usr/local/lib/python3.7/dist-packages/keras/layers/legacy_rnn/rnn_cell_impl.py:582: calling Zeros.__init__ (from tensorflow.python.ops.init_ops) with dtype is deprecated and will be removed in a future version.\n",
            "Instructions for updating:\n",
            "Call initializer instance with the dtype argument instead of passing it to the constructor\n"
          ]
        },
        {
          "output_type": "stream",
          "name": "stderr",
          "text": [
            "/usr/local/lib/python3.7/dist-packages/keras/layers/legacy_rnn/rnn_cell_impl.py:524: UserWarning: `tf.nn.rnn_cell.GRUCell` is deprecated and will be removed in a future version. This class is equivalent as `tf.keras.layers.GRUCell`, and will be replaced by that in Tensorflow 2.0.\n",
            "  warnings.warn(\"`tf.nn.rnn_cell.GRUCell` is deprecated and will be removed \"\n",
            "/usr/local/lib/python3.7/dist-packages/keras/engine/base_layer_v1.py:1684: UserWarning: `layer.add_variable` is deprecated and will be removed in a future version. Please use `layer.add_weight` method instead.\n",
            "  warnings.warn('`layer.add_variable` is deprecated and '\n",
            "/usr/local/lib/python3.7/dist-packages/keras/legacy_tf_layers/core.py:236: UserWarning: `tf.layers.dense` is deprecated and will be removed in a future version. Please use `tf.keras.layers.Dense` instead.\n",
            "  warnings.warn('`tf.layers.dense` is deprecated and '\n",
            "/usr/local/lib/python3.7/dist-packages/keras/engine/base_layer_v1.py:1676: UserWarning: `layer.apply` is deprecated and will be removed in a future version. Please use `layer.__call__` method instead.\n",
            "  warnings.warn('`layer.apply` is deprecated and '\n"
          ]
        }
      ]
    },
    {
      "cell_type": "markdown",
      "metadata": {
        "id": "AJmIOCctyLqN"
      },
      "source": [
        "## b_centroids, loss_fw, loss_bw, cost, opt"
      ]
    },
    {
      "cell_type": "code",
      "metadata": {
        "id": "97kl9ATByLqN"
      },
      "source": [
        "b_centroids = tf.compat.v1.placeholder(tf.float32, (None, embedding.get_shape()[1]), name='b_centroids')\n",
        "loss_fw = tf.compat.v1.square( (target_t - reconstruction) * mask )\n",
        "loss_fw = tf.compat.v1.reduce_sum(loss_fw, axis=1)\n",
        "\n",
        "loss_bw = tf.compat.v1.square( (target_t - reconstruction2) * mask )\n",
        "loss_bw = tf.compat.v1.reduce_sum(loss_bw, axis=1)\n",
        "\n",
        "cost = tf.compat.v1.reduce_mean(loss_fw) + tf.compat.v1.reduce_mean(loss_bw)  #+ latent_loss\n",
        "opt = tf.compat.v1.train.AdamOptimizer(learning_rate=0.0001).minimize(cost)"
      ],
      "execution_count": 21,
      "outputs": []
    },
    {
      "cell_type": "markdown",
      "metadata": {
        "id": "LTBkWYIjyLqN"
      },
      "source": [
        "# CLUSTERING REFINEMENT CENTROIDS"
      ]
    },
    {
      "cell_type": "markdown",
      "metadata": {
        "id": "6j4dYUSuyLqN"
      },
      "source": [
        "## loss_crc, cost_crc, opt_crc, batchsz, hm_epochs, iterations, max_length, best_loss, noise_factor, th, new_centroids, kmeans_labels"
      ]
    },
    {
      "cell_type": "code",
      "metadata": {
        "id": "vskI_Ch9yLqN"
      },
      "source": [
        "loss_crc = tf.compat.v1.reduce_sum(tf.square( embedding - b_centroids ), axis=1)\n",
        "loss_crc = tf.compat.v1.reduce_mean(loss_crc)\n",
        "\n",
        "cost_crc = loss_crc + cost\n",
        "opt_crc = tf.compat.v1.train.AdamOptimizer(learning_rate=0.0001).minimize(cost_crc)\n",
        "\n",
        "tf.compat.v1.global_variables_initializer().run()\n",
        "\n",
        "batchsz = 128\n",
        "hm_epochs = 75\n",
        "\n",
        "iterations = int(data.shape[0] / batchsz)\n",
        "max_length = data.shape[1]\n",
        "\n",
        "if data.shape[0] % batchsz != 0:\n",
        "    iterations+=1\n",
        "\n",
        "best_loss = sys.float_info.max\n",
        "noise_factor = 0.01\n",
        "\n",
        "th = 25 #number of epochs for the autoencoder pretraining step\n",
        "new_centroids = None\n",
        "kmeans_labels = None\n"
      ],
      "execution_count": 22,
      "outputs": []
    },
    {
      "cell_type": "code",
      "metadata": {
        "id": "tuUabua-Q2De"
      },
      "source": [
        "loss_crc_list = []\n",
        "cost_list = []"
      ],
      "execution_count": 26,
      "outputs": []
    },
    {
      "cell_type": "markdown",
      "metadata": {
        "id": "lQ_wjyC8yLqN"
      },
      "source": [
        "## Training\n"
      ]
    },
    {
      "cell_type": "code",
      "metadata": {
        "colab": {
          "base_uri": "https://localhost:8080/"
        },
        "id": "g6n4soZWyLqN",
        "outputId": "1d7863ca-2423-4c95-a809-d1fc19559143"
      },
      "source": [
        "for e in range(hm_epochs):\n",
        "\tstart = time.time()\n",
        "\tlossi = 0\n",
        "\tdata, seqLength = shuffle(data, seqLength, random_state=0)\n",
        "\tcostT = 0\n",
        "\tcostT2 = 0\n",
        "\tif e < th:\n",
        "\t\tdata, seqLength = shuffle(data, seqLength, random_state=0)\n",
        "\telse:\n",
        "\t\tmask_val = buildMaskBatch(seqLength, max_length)\n",
        "\t\tfeatures = extractFeatures(data, seqLength, mask_val)\n",
        "\t\tkmeans = KMeans(n_clusters=n_clusters, n_init=20, random_state=random.randint(1,10000000)).fit(features)\n",
        "\t\tnew_centroids = kmeans.cluster_centers_\n",
        "\t\tkmeans_labels = kmeans.labels_\n",
        "\t\tembeddings_data = extractFeatures(data, seqLength, mask_val)\n",
        "\t\tdata, seqLength, kmeans_labels = shuffle(data, seqLength, kmeans_labels, random_state=0)\n",
        "\n",
        "\tfor ibatch in range(iterations):\n",
        "\t\tbatch_data, batch_seql = getBatch(data, seqLength, ibatch, batchsz)\n",
        "\t\tmask_batch = buildMaskBatch(batch_seql, batch_data.shape[1])\n",
        "\t\tcost_L = 0\n",
        "\n",
        "\t\t#PRETRAINING ENCODER for 50 EPOCHS\n",
        "\t\tif e < th:\n",
        "\t\t\t_, cost_L= sess.run([opt, cost],feed_dict={ input_t:batch_data,\n",
        "\t\t\t\t\t\t\t\t\t\t\t\t\t\ttarget_t:batch_data,\n",
        "\t\t\t\t\t\t\t\t\t\t\t\t\t\tb_size: batch_data.shape[0],\n",
        "\t\t\t\t\t\t\t\t\t\t\t\t\t\tseqL: batch_seql,\n",
        "\t\t\t\t\t\t\t\t\t\t\t\t\t\tmask: mask_batch\n",
        "\t\t\t\t\t\t\t\t\t\t\t\t\t\t})\n",
        "\t\t\tcost_C=0\n",
        "\t\t#COMBINED TRAINING WITH ENCO/DEC + CLUSTERING REFINEMENT\n",
        "\t\telse:\n",
        "\t\t\tbatch_km_labels, _ = getBatch(kmeans_labels, kmeans_labels, ibatch, batchsz)\n",
        "\t\t\tbatch_centroids = []\n",
        "\t\t\tfor el in batch_km_labels:\n",
        "\t\t\t\tbatch_centroids.append( new_centroids[el]  )\n",
        "\t\t\tbatch_centroids = np.array(batch_centroids)\n",
        "\t\t\t_, cost_L, cost_C = sess.run([opt_crc, cost, loss_crc], feed_dict={\n",
        "\t\t\t\t\t\t\t\t\t\t\t\t\tinput_t:batch_data,\n",
        "\t\t\t\t\t\t\t\t\t\t\t\t\ttarget_t:batch_data,\n",
        "\t\t\t\t\t\t\t\t\t\t\t\t\t#centroids: centroids_val,\n",
        "\t\t\t\t\t\t\t\t\t\t\t\t\tb_size: int(batch_data.shape[0]),\n",
        "\t\t\t\t\t\t\t\t\t\t\t\t\tseqL: batch_seql,\n",
        "\t\t\t\t\t\t\t\t\t\t\t\t\tmask: mask_batch,\n",
        "\t\t\t\t\t\t\t\t\t\t\t\t\tb_centroids: batch_centroids\n",
        "\t\t\t\t\t\t\t\t\t\t\t\t\t})\n",
        "\n",
        "\t\tcostT+=cost_L\n",
        "\t\tcostT2+=cost_C\n",
        "\t\tdel batch_data\n",
        "\t\tdel batch_seql\n",
        "\t\tdel mask_batch\n",
        "\n",
        "\tmask_val = buildMaskBatch(seqLength, max_length)\n",
        "\tembedd = extractFeatures(data, seqLength, mask_val)\n",
        "\tkmeans = KMeans(n_clusters=n_clusters, random_state=0).fit(embedd)\n",
        "\tprint(\"Epoch:\",e,\"| COST_EMB:\",costT/iterations,\" | COST_CRC: \", costT2/iterations)\n",
        "\tcost_list.append(costT/iterations)\n",
        "\tloss_crc_list.append(costT2/iterations)\n"
      ],
      "execution_count": 27,
      "outputs": [
        {
          "output_type": "stream",
          "name": "stdout",
          "text": [
            "Epoch: 0 | COST_EMB: 0.007108181663271453  | COST_CRC:  0.0\n",
            "Epoch: 1 | COST_EMB: 0.00699419579986069  | COST_CRC:  0.0\n",
            "Epoch: 2 | COST_EMB: 0.006896724091675231  | COST_CRC:  0.0\n",
            "Epoch: 3 | COST_EMB: 0.006774001589744652  | COST_CRC:  0.0\n",
            "Epoch: 4 | COST_EMB: 0.006630130279710684  | COST_CRC:  0.0\n",
            "Epoch: 5 | COST_EMB: 0.00646437354947603  | COST_CRC:  0.0\n",
            "Epoch: 6 | COST_EMB: 0.006272838211978081  | COST_CRC:  0.0\n",
            "Epoch: 7 | COST_EMB: 0.006065871838785747  | COST_CRC:  0.0\n",
            "Epoch: 8 | COST_EMB: 0.005836299817674059  | COST_CRC:  0.0\n",
            "Epoch: 9 | COST_EMB: 0.005586560388100605  | COST_CRC:  0.0\n",
            "Epoch: 10 | COST_EMB: 0.005301939967832474  | COST_CRC:  0.0\n",
            "Epoch: 11 | COST_EMB: 0.004986471781093214  | COST_CRC:  0.0\n",
            "Epoch: 12 | COST_EMB: 0.00464805706142985  | COST_CRC:  0.0\n",
            "Epoch: 13 | COST_EMB: 0.004318107165908688  | COST_CRC:  0.0\n",
            "Epoch: 14 | COST_EMB: 0.004008156272075163  | COST_CRC:  0.0\n",
            "Epoch: 15 | COST_EMB: 0.0037430427431390085  | COST_CRC:  0.0\n",
            "Epoch: 16 | COST_EMB: 0.0035264131332200673  | COST_CRC:  0.0\n",
            "Epoch: 17 | COST_EMB: 0.0033577544954679316  | COST_CRC:  0.0\n",
            "Epoch: 18 | COST_EMB: 0.003225489689539822  | COST_CRC:  0.0\n",
            "Epoch: 19 | COST_EMB: 0.0031348379099712014  | COST_CRC:  0.0\n",
            "Epoch: 20 | COST_EMB: 0.0030603312626086847  | COST_CRC:  0.0\n",
            "Epoch: 21 | COST_EMB: 0.00301091936564753  | COST_CRC:  0.0\n",
            "Epoch: 22 | COST_EMB: 0.002977889930464761  | COST_CRC:  0.0\n",
            "Epoch: 23 | COST_EMB: 0.00294882673573084  | COST_CRC:  0.0\n",
            "Epoch: 24 | COST_EMB: 0.0029282875213693218  | COST_CRC:  0.0\n",
            "Epoch: 25 | COST_EMB: 0.0029611807112044915  | COST_CRC:  0.00042851047701862637\n",
            "Epoch: 26 | COST_EMB: 0.0029052275494135245  | COST_CRC:  0.00037272927782771784\n",
            "Epoch: 27 | COST_EMB: 0.00289935981189566  | COST_CRC:  0.00033117334225040085\n",
            "Epoch: 28 | COST_EMB: 0.0028932450004119092  | COST_CRC:  0.00029926428620003794\n",
            "Epoch: 29 | COST_EMB: 0.00288597437080055  | COST_CRC:  0.000271108701810359\n",
            "Epoch: 30 | COST_EMB: 0.0028757557720093738  | COST_CRC:  0.00024833033994245516\n",
            "Epoch: 31 | COST_EMB: 0.002868978362086983  | COST_CRC:  0.00022843556734856475\n",
            "Epoch: 32 | COST_EMB: 0.0028550535946759202  | COST_CRC:  0.00021141751575568278\n",
            "Epoch: 33 | COST_EMB: 0.002845308579573477  | COST_CRC:  0.00019799549934557744\n",
            "Epoch: 34 | COST_EMB: 0.002829887566067988  | COST_CRC:  0.00018456377345876443\n",
            "Epoch: 35 | COST_EMB: 0.002812766028991925  | COST_CRC:  0.0001745667617623916\n",
            "Epoch: 36 | COST_EMB: 0.0027964753394443837  | COST_CRC:  0.00016478318824228292\n",
            "Epoch: 37 | COST_EMB: 0.00277650534180264  | COST_CRC:  0.00015674751786584103\n",
            "Epoch: 38 | COST_EMB: 0.002754106190641997  | COST_CRC:  0.00014954327520817054\n",
            "Epoch: 39 | COST_EMB: 0.0027244134212316817  | COST_CRC:  0.00014285679519941499\n",
            "Epoch: 40 | COST_EMB: 0.00269567193808379  | COST_CRC:  0.00013793265375723846\n",
            "Epoch: 41 | COST_EMB: 0.002649681045176097  | COST_CRC:  0.00013304865565957877\n",
            "Epoch: 42 | COST_EMB: 0.002596360354723714  | COST_CRC:  0.00012911874510652125\n",
            "Epoch: 43 | COST_EMB: 0.00255002126112462  | COST_CRC:  0.00012555820285342634\n",
            "Epoch: 44 | COST_EMB: 0.0024856276583498115  | COST_CRC:  0.00012260945535787855\n",
            "Epoch: 45 | COST_EMB: 0.002404339676205483  | COST_CRC:  0.00012051308729775772\n",
            "Epoch: 46 | COST_EMB: 0.0023438842128223132  | COST_CRC:  0.00011873345531981498\n",
            "Epoch: 47 | COST_EMB: 0.0022776566560394943  | COST_CRC:  0.0001165082682202516\n",
            "Epoch: 48 | COST_EMB: 0.0022297861595347366  | COST_CRC:  0.00011439186124893019\n",
            "Epoch: 49 | COST_EMB: 0.0021779225257141563  | COST_CRC:  0.00011201986332212097\n",
            "Epoch: 50 | COST_EMB: 0.002133456321812614  | COST_CRC:  0.0001098545124468199\n",
            "Epoch: 51 | COST_EMB: 0.0020982408095348293  | COST_CRC:  0.00010758219927776649\n",
            "Epoch: 52 | COST_EMB: 0.002072169003815996  | COST_CRC:  0.00010540979237895627\n",
            "Epoch: 53 | COST_EMB: 0.0020418405402254647  | COST_CRC:  0.00010328527656460807\n",
            "Epoch: 54 | COST_EMB: 0.0020262602009569054  | COST_CRC:  0.00010138925020727723\n",
            "Epoch: 55 | COST_EMB: 0.0020040396327478073  | COST_CRC:  9.921382501796528e-05\n",
            "Epoch: 56 | COST_EMB: 0.001989428783648662  | COST_CRC:  9.7100432910901e-05\n",
            "Epoch: 57 | COST_EMB: 0.001971579014530612  | COST_CRC:  9.498832373995033e-05\n",
            "Epoch: 58 | COST_EMB: 0.00195747137835949  | COST_CRC:  9.308000803997779e-05\n",
            "Epoch: 59 | COST_EMB: 0.0019480335414064703  | COST_CRC:  9.131183794735951e-05\n",
            "Epoch: 60 | COST_EMB: 0.001937026268230978  | COST_CRC:  8.926720912559032e-05\n",
            "Epoch: 61 | COST_EMB: 0.001931973432422315  | COST_CRC:  8.737436986867728e-05\n",
            "Epoch: 62 | COST_EMB: 0.0019174116286670877  | COST_CRC:  8.550898876689774e-05\n",
            "Epoch: 63 | COST_EMB: 0.0019104328602749519  | COST_CRC:  8.368593547154445e-05\n",
            "Epoch: 64 | COST_EMB: 0.0019084354757858569  | COST_CRC:  8.181564125051309e-05\n",
            "Epoch: 65 | COST_EMB: 0.0019008812208773282  | COST_CRC:  8.013777641709476e-05\n",
            "Epoch: 66 | COST_EMB: 0.0018955604327231567  | COST_CRC:  7.874076412504085e-05\n",
            "Epoch: 67 | COST_EMB: 0.0018920640291143504  | COST_CRC:  7.719132265756054e-05\n",
            "Epoch: 68 | COST_EMB: 0.0018851023633033037  | COST_CRC:  7.565888725886387e-05\n",
            "Epoch: 69 | COST_EMB: 0.0018803753179286128  | COST_CRC:  7.422785778611864e-05\n",
            "Epoch: 70 | COST_EMB: 0.0018754011086587394  | COST_CRC:  7.285268595546889e-05\n",
            "Epoch: 71 | COST_EMB: 0.0018794078135951644  | COST_CRC:  7.164080563126374e-05\n",
            "Epoch: 72 | COST_EMB: 0.0018718118290293705  | COST_CRC:  7.053383878353988e-05\n",
            "Epoch: 73 | COST_EMB: 0.001868775717436124  | COST_CRC:  6.920577084803314e-05\n",
            "Epoch: 74 | COST_EMB: 0.001868865990434729  | COST_CRC:  6.809730442159528e-05\n"
          ]
        }
      ]
    },
    {
      "cell_type": "markdown",
      "metadata": {
        "id": "NPQcEypQ-zdf"
      },
      "source": [
        "## [Save model](https://cv-tricks.com/tensorflow-tutorial/save-restore-tensorflow-models-quick-complete-tutorial/)"
      ]
    },
    {
      "cell_type": "code",
      "metadata": {
        "colab": {
          "base_uri": "https://localhost:8080/",
          "height": 35
        },
        "id": "ghNK4Pal-yRO",
        "outputId": "2a82face-eeb7-43ca-f539-6de41506f839"
      },
      "source": [
        "saver = tf.compat.v1.train.Saver()\n",
        "saver.save(sess, 'stock-cluster-model')"
      ],
      "execution_count": 29,
      "outputs": [
        {
          "output_type": "execute_result",
          "data": {
            "application/vnd.google.colaboratory.intrinsic+json": {
              "type": "string"
            },
            "text/plain": [
              "'stock-cluster-model'"
            ]
          },
          "metadata": {},
          "execution_count": 29
        }
      ]
    },
    {
      "cell_type": "markdown",
      "metadata": {
        "id": "B3mFLHevT4ck"
      },
      "source": [
        "## Plot Loss"
      ]
    },
    {
      "cell_type": "code",
      "metadata": {
        "id": "fpWpj9JnW7he"
      },
      "source": [
        "import matplotlib.pyplot as plt\n"
      ],
      "execution_count": 31,
      "outputs": []
    },
    {
      "cell_type": "code",
      "metadata": {
        "colab": {
          "base_uri": "https://localhost:8080/",
          "height": 295
        },
        "id": "HcYSHqdET6Ud",
        "outputId": "e774802f-cbbf-4ef7-b3d3-4fd0919f2252"
      },
      "source": [
        "plt.plot(loss_crc_list)\n",
        "plt.title(f'KMeans Loss')\n",
        "plt.ylabel('KMeans Loss')\n",
        "plt.xlabel('Epochs')\n",
        "plt.savefig(f\"KMeans Loss.pdf\", dpi = 150)\n",
        "plt.show()"
      ],
      "execution_count": 32,
      "outputs": [
        {
          "output_type": "display_data",
          "data": {
            "image/png": "[encoded data removed]",
            "text/plain": [
              "<Figure size 432x288 with 1 Axes>"
            ]
          },
          "metadata": {
            "needs_background": "light"
          }
        }
      ]
    },
    {
      "cell_type": "code",
      "metadata": {
        "colab": {
          "base_uri": "https://localhost:8080/",
          "height": 295
        },
        "id": "QS46LvjKUQCm",
        "outputId": "4e634f0f-e605-4e58-f4f7-1d4590b0b17e"
      },
      "source": [
        "plt.plot(cost_list)\n",
        "plt.title(f'Loss by Auto Encoder')\n",
        "plt.ylabel('Loss by Auto Encoder')\n",
        "plt.xlabel('Epochs')\n",
        "plt.savefig(f\"Loss by Auto Encoder.pdf\", dpi = 150)\n",
        "plt.show()"
      ],
      "execution_count": 33,
      "outputs": [
        {
          "output_type": "display_data",
          "data": {
            "image/png": "[encoded data removed]",
            "text/plain": [
              "<Figure size 432x288 with 1 Axes>"
            ]
          },
          "metadata": {
            "needs_background": "light"
          }
        }
      ]
    },
    {
      "cell_type": "markdown",
      "metadata": {
        "id": "3pPYaubhyLqO"
      },
      "source": [
        "## output_dir, mask_val, embedd, kmeans, data representation, clustering assignment"
      ]
    },
    {
      "cell_type": "code",
      "metadata": {
        "id": "pGu1GKPyyLqO"
      },
      "source": [
        "output_dir = output_dir+\"_detsec512\"\n",
        "if not os.path.exists(output_dir):\n",
        "\tos.mkdir(output_dir)\n",
        "\n",
        "mask_val = buildMaskBatch(orig_seqLength, max_length)\n",
        "embedd = extractFeatures(orig_data, orig_seqLength, mask_val)\n",
        "kmeans = KMeans(n_clusters=n_clusters, random_state=0).fit(embedd)\n"
      ],
      "execution_count": 34,
      "outputs": []
    },
    {
      "cell_type": "code",
      "metadata": {
        "colab": {
          "base_uri": "https://localhost:8080/"
        },
        "id": "Q-Q85LeMCjSD",
        "outputId": "2660c3c6-0964-4a64-cfe1-981973a7abe9"
      },
      "source": [
        "y = kmeans.labels_ \n",
        "y"
      ],
      "execution_count": 35,
      "outputs": [
        {
          "output_type": "execute_result",
          "data": {
            "text/plain": [
              "array([1, 1, 1, ..., 2, 2, 2], dtype=int32)"
            ]
          },
          "metadata": {},
          "execution_count": 35
        }
      ]
    },
    {
      "cell_type": "code",
      "metadata": {
        "id": "-LmM1BCnDIRG"
      },
      "source": [
        "cluster_0 = df.values[y==0, :]\n",
        "cluster_1 = df.values[y==1, :]\n",
        "cluster_2 = df.values[y==2, :]"
      ],
      "execution_count": 36,
      "outputs": []
    },
    {
      "cell_type": "code",
      "metadata": {
        "colab": {
          "base_uri": "https://localhost:8080/"
        },
        "id": "g3BTu1zrDg3I",
        "outputId": "f4962728-4d19-4c69-c700-65123d2c5c0c"
      },
      "source": [
        "cluster_0.shape"
      ],
      "execution_count": 37,
      "outputs": [
        {
          "output_type": "execute_result",
          "data": {
            "text/plain": [
              "(3490, 100)"
            ]
          },
          "metadata": {},
          "execution_count": 37
        }
      ]
    },
    {
      "cell_type": "code",
      "metadata": {
        "colab": {
          "base_uri": "https://localhost:8080/"
        },
        "id": "GEZsHI7PDoyF",
        "outputId": "92dd653c-0a19-4b09-e6c4-07304cecbb16"
      },
      "source": [
        "cluster_1.shape"
      ],
      "execution_count": 38,
      "outputs": [
        {
          "output_type": "execute_result",
          "data": {
            "text/plain": [
              "(4792, 100)"
            ]
          },
          "metadata": {},
          "execution_count": 38
        }
      ]
    },
    {
      "cell_type": "code",
      "metadata": {
        "colab": {
          "base_uri": "https://localhost:8080/"
        },
        "id": "OFo8GvvGDp4q",
        "outputId": "afe9a9a0-8063-461b-f5b9-2fd3e03fd55b"
      },
      "source": [
        "cluster_2.shape"
      ],
      "execution_count": 39,
      "outputs": [
        {
          "output_type": "execute_result",
          "data": {
            "text/plain": [
              "(15905, 100)"
            ]
          },
          "metadata": {},
          "execution_count": 39
        }
      ]
    },
    {
      "cell_type": "code",
      "metadata": {
        "id": "9FVL9j-fDtmA"
      },
      "source": [
        "np.save(\"cluster_0.npy\", cluster_0)\n",
        "np.save(\"cluster_1.npy\", cluster_1)\n",
        "np.save(\"cluster_2.npy\", cluster_2)"
      ],
      "execution_count": 40,
      "outputs": []
    },
    {
      "cell_type": "code",
      "metadata": {
        "id": "fEGipO7wCU3X"
      },
      "source": [
        "#SAVE THE DATA REPRESENTATION\n",
        "np.save(\"detsec_features.npy\", embedd )\n",
        "#SAVE THE CLUSTERING ASSIGNMENT\n",
        "np.save(\"detsec_clust_assignment.npy\", np.array(kmeans.labels_) )"
      ],
      "execution_count": 41,
      "outputs": []
    },
    {
      "cell_type": "code",
      "metadata": {
        "colab": {
          "base_uri": "https://localhost:8080/"
        },
        "id": "Z32_6r8KXjHe",
        "outputId": "fa75e5db-9d10-42f8-b5f8-bc496a549e06"
      },
      "source": [
        "embedd.shape"
      ],
      "execution_count": 45,
      "outputs": [
        {
          "output_type": "execute_result",
          "data": {
            "text/plain": [
              "(24187, 64)"
            ]
          },
          "metadata": {},
          "execution_count": 45
        }
      ]
    },
    {
      "cell_type": "code",
      "metadata": {
        "id": "S20ZuUTcXYl-"
      },
      "source": [
        "from sklearn.decomposition import PCA\n",
        "pca = PCA(n_components=2)\n",
        "principalComponents = pca.fit_transform(embedd)"
      ],
      "execution_count": 47,
      "outputs": []
    },
    {
      "cell_type": "code",
      "metadata": {
        "colab": {
          "base_uri": "https://localhost:8080/"
        },
        "id": "045ORmaSX2Fg",
        "outputId": "50e5e59a-7bf4-46a2-b49c-3fd83504e4fd"
      },
      "source": [
        "principalComponents.shape"
      ],
      "execution_count": 48,
      "outputs": [
        {
          "output_type": "execute_result",
          "data": {
            "text/plain": [
              "(24187, 2)"
            ]
          },
          "metadata": {},
          "execution_count": 48
        }
      ]
    },
    {
      "cell_type": "code",
      "metadata": {
        "id": "knn6bnBEX5Os"
      },
      "source": [
        "y_kmeans = kmeans.predict(embedd)"
      ],
      "execution_count": 49,
      "outputs": []
    },
    {
      "cell_type": "code",
      "metadata": {
        "colab": {
          "base_uri": "https://localhost:8080/",
          "height": 282
        },
        "id": "M0Xg4tbMX-SM",
        "outputId": "fa22070a-0da6-4154-8265-2fc12ea2e5ac"
      },
      "source": [
        "plt.scatter(principalComponents[:, 0], principalComponents[:, 1], c=y_kmeans, s=50, cmap='viridis')\n",
        "\n",
        "# centers = kmeans.cluster_centers_\n",
        "# plt.scatter(centers[:, 0], centers[:, 1], c='black', s=200, alpha=0.5);"
      ],
      "execution_count": 51,
      "outputs": [
        {
          "output_type": "execute_result",
          "data": {
            "text/plain": [
              "<matplotlib.collections.PathCollection at 0x7f22d61e23d0>"
            ]
          },
          "metadata": {},
          "execution_count": 51
        },
        {
          "output_type": "display_data",
          "data": {
            "image/png": "[encoded data removed]",
            "text/plain": [
              "<Figure size 432x288 with 1 Axes>"
            ]
          },
          "metadata": {
            "needs_background": "light"
          }
        }
      ]
    },
    {
      "cell_type": "code",
      "metadata": {
        "id": "sRv_0aP4YEEK"
      },
      "source": [
        ""
      ],
      "execution_count": null,
      "outputs": []
    }
  ]
}