{
 "cells": [
  {
   "cell_type": "markdown",
   "metadata": {},
   "source": [
    "# Pyddm\n",
    "## &copy;  [Omkar Mehta](omehta2@illinois.edu) ##\n",
    "### Industrial and Enterprise Systems Engineering, The Grainger College of Engineering,  UIUC ###\n",
    "\n",
    "<hr style=\"border:2px solid blue\"> </hr>\n",
    "\n",
    "\n",
    "PyDDM can simulate models and generate artificial data, or it can fit them to data. Below are high-level overviews for how to accomplish each.\n",
    "\n",
    "To simulate models and generate artificial data:\n",
    "\n",
    "1. Optionally, define unique components of your model. Models are modular, and allow specifying a dynamic drift rate, noise level, diffusion bounds, starting position of the integrator, or post-simulation modifications to the RT histogram. Many common models for these are included by default, but for advance functionality you may need to subclass [Drift](https://pyddm.readthedocs.io/en/stable/apidoc/dependences.html#ddm.models.drift.Drift), [Noise](https://pyddm.readthedocs.io/en/stable/apidoc/dependences.html#ddm.models.noise.Noise), [Bound](https://pyddm.readthedocs.io/en/stable/apidoc/dependences.html#ddm.models.bound.Bound), [InitialCondition](https://pyddm.readthedocs.io/en/stable/apidoc/dependences.html#ddm.models.ic.InitialCondition), or [Overlay](https://pyddm.readthedocs.io/en/stable/apidoc/dependences.html#ddm.models.overlay.Overlay). These model components may depend on “conditions”, i.e. prespecified values associated with the behavioral task which change from trial to trial (e.g. stimulus coherence), or “parameters”, i.e. values which apply to all trials and should be fit to the subject.\n",
    "2. Define a model. Models are represented by creating an instance of the [Model](https://pyddm.readthedocs.io/en/stable/apidoc/model.html#ddm.model.Model) class, and specifying the model components to use for it. These model component can [either be the model components included in PyDDM](https://pyddm.readthedocs.io/en/stable/apidoc/dependences.html) or ones you created in step 1. Values must be specified for all parameters required by model components.\n",
    "3. Simulate the model using the [Model.solve()](https://pyddm.readthedocs.io/en/stable/apidoc/model.html#ddm.model.Model.solve) method to generate a [Solution](https://pyddm.readthedocs.io/en/stable/apidoc/model.html#ddm.solution.Solution) object. If you have multiple conditions, you must run [Model.solve()](https://pyddm.readthedocs.io/en/stable/apidoc/model.html#ddm.model.Model.solve) separately for each set of conditions and generate separate [Solution](https://pyddm.readthedocs.io/en/stable/apidoc/model.html#ddm.solution.Solution) objects.\n",
    "4. Run the [Solution.resample()](https://pyddm.readthedocs.io/en/stable/apidoc/model.html#ddm.solution.Solution.resample) method of the [Solution](https://pyddm.readthedocs.io/en/stable/apidoc/model.html#ddm.solution.Solution) object to generate a [Sample](https://pyddm.readthedocs.io/en/stable/apidoc/model.html#ddm.sample.Sample). If you have multiple [Solution](https://pyddm.readthedocs.io/en/stable/apidoc/model.html#ddm.solution.Solution) objects (for multiple task conditions), you will need to generate multiple [Sample](https://pyddm.readthedocs.io/en/stable/apidoc/model.html#ddm.sample.Sample) objects as well. These can be added together with the “+” operator to form one single [Sample](https://pyddm.readthedocs.io/en/stable/apidoc/model.html#ddm.sample.Sample) object.\n",
    "\n",
    "## Model with default conditions\n",
    "\n",
    "**Drift is 0 and Noise is constant.**\n",
    "```\n",
    "> dx = 0.005\n",
    "> T_dur = 2.\n",
    "> dt = 0.005\n",
    "> drift=DriftConstant(drift=0),\n",
    "> noise=NoiseConstant(noise=1),\n",
    "> bound=BoundConstant(B=1),\n",
    "> IC=ICPointSourceCenter(),\n",
    "> overlay=OverlayNone()\n",
    "```"
   ]
  },
  {
   "cell_type": "code",
   "execution_count": 1,
   "metadata": {},
   "outputs": [],
   "source": [
    "# !pip install scipy\n",
    "# !pip install numpy\n",
    "# !pip install pyddm\n",
    "# !pip install matplotlib\n",
    "# !pip install pandas\n",
    "# !pip install paranoid-scientist\n",
    "# !pip install pathos\n",
    "# !pip install plotly"
   ]
  },
  {
   "cell_type": "code",
   "execution_count": 2,
   "metadata": {},
   "outputs": [],
   "source": [
    "# libraries\n",
    "from ddm import Model\n",
    "from ddm.models import DriftConstant, NoiseConstant, BoundConstant, OverlayNonDecision, OverlayNone\n",
    "from ddm.functions import fit_adjust_model, display_model\n",
    "\n",
    "model = Model(name='Simple model',\n",
    "              drift=DriftConstant(drift=2.0),  # https://github.com/mwshinn/PyDDM/blob/master/ddm/models/drift.py\n",
    "              noise=NoiseConstant(noise=1.5),  # https://github.com/mwshinn/PyDDM/blob/master/ddm/models/noise.py\n",
    "              bound=BoundConstant(B=1.1),  # https://github.com/mwshinn/PyDDM/blob/master/ddm/models/bound.py\n",
    "              overlay=OverlayNone(),  # https://github.com/mwshinn/PyDDM/blob/master/ddm/models/overlay.py\n",
    "              dx=.001, dt=.01, T_dur=2)\n"
   ]
  },
  {
   "cell_type": "code",
   "execution_count": 3,
   "metadata": {},
   "outputs": [
    {
     "name": "stdout",
     "output_type": "stream",
     "text": [
      "Number of timesteps is 201.0\n",
      "Shape of t_domain() is 201\n",
      "Number of x_steps is 2201\n"
     ]
    }
   ],
   "source": [
    "print(f'Number of timesteps is {2/0.01+1}')  # considers initial state\n",
    "model.t_domain()\n",
    "print(f\"Shape of t_domain() is {model.t_domain().shape[0]}\")\n",
    "# print(f'Number of x_steps is {1.1/0.001+1}') since B=1.1\n",
    "print(f'Number of x_steps is {model.x_domain(conditions={}).shape[0]}')"
   ]
  },
  {
   "cell_type": "code",
   "execution_count": 4,
   "metadata": {},
   "outputs": [
    {
     "name": "stdout",
     "output_type": "stream",
     "text": [
      "Model Simple model information:\n",
      "Drift component DriftConstant:\n",
      "    constant\n",
      "    Fixed parameters:\n",
      "    - drift: 2.000000\n",
      "Noise component NoiseConstant:\n",
      "    constant\n",
      "    Fixed parameters:\n",
      "    - noise: 1.500000\n",
      "Bound component BoundConstant:\n",
      "    constant\n",
      "    Fixed parameters:\n",
      "    - B: 1.100000\n",
      "IC component ICPointSourceCenter:\n",
      "    point_source_center\n",
      "    (No parameters)\n",
      "Overlay component OverlayNone:\n",
      "    No overlay\n",
      "    (No parameters)\n",
      "\n"
     ]
    }
   ],
   "source": [
    "display_model(model)"
   ]
  },
  {
   "cell_type": "code",
   "execution_count": 5,
   "metadata": {},
   "outputs": [],
   "source": [
    "# # simulate_trial() simulates decision variable for a single trial. Uses Runge-Kutta by default.\n",
    "# model.simulate_trial()\n",
    "\n",
    "# simulated_solution() simulate individual trials (simulate_trial) 1000 times by default to yield a histogram.\n",
    "# model.simulated_solution() "
   ]
  },
  {
   "cell_type": "code",
   "execution_count": 6,
   "metadata": {},
   "outputs": [
    {
     "data": {
      "text/plain": [
       "(2201, 201)"
      ]
     },
     "execution_count": 6,
     "metadata": {},
     "output_type": "execute_result"
    }
   ],
   "source": [
    "# solve() solves the model using an analytical solution and returns a Solution object describing the joing PDF distrobution of reaction times\n",
    "sol = model.solve(return_evolution=True)\n",
    "\n",
    "# stores the pdf evolution of the reaction times. Returns x_domain by t_domain numpy error\n",
    "pdf_evol = sol.pdf_evolution()\n",
    "# print(f'Number of x_steps is {1.1/0.001+1}') since B=1.1\n",
    "pdf_evol.shape\n",
    "# returns the pdf of correct reaction times\n",
    "# len(sol.pdf_corr())\n",
    "\n",
    "# print(sol.corr)\n",
    "\n",
    "# print('\\n')\n",
    "\n",
    "# print(sol.pdf_corr())"
   ]
  },
  {
   "cell_type": "code",
   "execution_count": 7,
   "metadata": {},
   "outputs": [
    {
     "data": {
      "text/plain": [
       "array([[0.00000000e+00, 9.91081419e-07, 5.12110809e-06, ...,\n",
       "        9.93100445e-07, 9.62504415e-07, 9.32851006e-07],\n",
       "       [0.00000000e+00, 1.98401450e-06, 1.02516959e-05, ...,\n",
       "        1.98796516e-06, 1.92671875e-06, 1.86735925e-06],\n",
       "       [0.00000000e+00, 2.97889088e-06, 1.53921485e-05, ...,\n",
       "        2.98459448e-06, 2.89264332e-06, 2.80352504e-06],\n",
       "       ...,\n",
       "       [0.00000000e+00, 2.09796214e-05, 1.08403248e-04, ...,\n",
       "        2.10197905e-05, 2.03722003e-05, 1.97445614e-05],\n",
       "       [0.00000000e+00, 1.39978061e-05, 7.23287313e-05, ...,\n",
       "        1.40256792e-05, 1.35935677e-05, 1.31747690e-05],\n",
       "       [0.00000000e+00, 7.00481298e-06, 3.61952144e-05, ...,\n",
       "        7.01908315e-06, 6.80283505e-06, 6.59324926e-06]])"
      ]
     },
     "execution_count": 7,
     "metadata": {},
     "output_type": "execute_result"
    }
   ],
   "source": [
    "pdf_evol"
   ]
  },
  {
   "cell_type": "markdown",
   "metadata": {},
   "source": [
    "## Plot PDF evolution using Plotly\n"
   ]
  },
  {
   "cell_type": "code",
   "execution_count": 8,
   "metadata": {
    "scrolled": false
   },
   "outputs": [],
   "source": [
    "# import plotly.graph_objects as go\n",
    "# import numpy as np\n",
    "# z=pdf_evol\n",
    "# sh_0, sh_1 = z.shape\n",
    "# x, y = np.linspace(0, 2.2, sh_0), np.linspace(0, 2, sh_1)\n",
    "# fig = go.Figure(data=[go.Surface(z=z.T, x=x, y=y)])\n",
    "\n",
    "# fig.update_layout(title='PDF Evolution', autosize=False,\n",
    "#                   width=500, height=500,\n",
    "#                   margin=dict(l=65, r=50, b=65, t=90))\n",
    "\n",
    "# fig.show()\n"
   ]
  },
  {
   "cell_type": "markdown",
   "metadata": {},
   "source": [
    "## Wiener process/Brownian motion\n",
    "\n",
    "A standard scalar [Wiener process](https://en.wikipedia.org/wiki/Wiener_process) is generated by the [stochastic differential equation](https://en.wikipedia.org/wiki/Stochastic_differential_equation).\n",
    "\n",
    "$$\n",
    "dX_{t} = dW_{t}\n",
    "$$\n",
    "\n",
    "Here the drift term is zero and the diffusion coefficient is 1/2. Thus the corresponding Fokker–Planck equation is\n",
    "$$\n",
    "\\frac{\\partial p(x,t)}{\\partial t} = \\frac{1}{2} \\frac{\\partial^2 p(x,t)}{{\\partial x}^{2}}\n",
    "$$\n",
    "\n",
    "which is the simplest form of a diffusion equation. If the initial condition is $ {\\displaystyle p(x,0)=\\delta (x)}$, the solution is\n",
    "$$\n",
    "p(x,t) = \\frac{1}{\\sqrt {2\\pi t}} e^{-x^2/(2t)}\n",
    "$$"
   ]
  },
  {
   "cell_type": "code",
   "execution_count": 9,
   "metadata": {},
   "outputs": [
    {
     "name": "stdout",
     "output_type": "stream",
     "text": [
      "Number of timesteps is 1001.0\n",
      "Shape of t_domain() is 1001\n",
      "Number of x_steps is 4001\n",
      "Model Weiner Process information:\n",
      "Drift component DriftConstant:\n",
      "    constant\n",
      "    Fixed parameters:\n",
      "    - drift: 0.000000\n",
      "Noise component NoiseConstant:\n",
      "    constant\n",
      "    Fixed parameters:\n",
      "    - noise: 0.500000\n",
      "Bound component BoundConstant:\n",
      "    constant\n",
      "    Fixed parameters:\n",
      "    - B: 2.000000\n",
      "IC component ICUniform:\n",
      "    Uniform\n",
      "    (No parameters)\n",
      "Overlay component OverlayNone:\n",
      "    No overlay\n",
      "    (No parameters)\n",
      "\n",
      "None\n"
     ]
    }
   ],
   "source": [
    "# libraries\n",
    "from ddm import Model\n",
    "from ddm.models import DriftConstant, NoiseConstant, BoundConstant, OverlayNonDecision\n",
    "from ddm.functions import fit_adjust_model, display_model\n",
    "from ddm.models import ICUniform, ICGaussian, ICArbitrary, ICRange, ICPointSourceCenter\n",
    "\n",
    "# Weiner process with ICUniform\n",
    "model = Model(name='Weiner Process',\n",
    "              drift=DriftConstant(drift=0.0),  # https://github.com/mwshinn/PyDDM/blob/master/ddm/models/drift.py\n",
    "              noise=NoiseConstant(noise=0.5),  # https://github.com/mwshinn/PyDDM/blob/master/ddm/models/noise.py\n",
    "              IC = ICUniform(),\n",
    "              bound=BoundConstant(B=2),  # https://github.com/mwshinn/PyDDM/blob/master/ddm/models/bound.py\n",
    "              overlay=OverlayNone(),  # https://github.com/mwshinn/PyDDM/blob/master/ddm/models/overlay.py\n",
    "              dx=.001, dt=.01, T_dur=10)\n",
    "\n",
    "print(f'Number of timesteps is {10/0.01+1}')  # considers initial state\n",
    "model.t_domain()\n",
    "print(f\"Shape of t_domain() is {model.t_domain().shape[0]}\")\n",
    "# print(f'Number of x_steps is {1.1/0.001+1}') since B=1.1\n",
    "print(f'Number of x_steps is {model.x_domain(conditions={}).shape[0]}')\n",
    "\n",
    "print(display_model(model))\n",
    "\n",
    "# solve() solves the model using an analytical solution and returns a Solution object describing the joing PDF distrobution of reaction times\n",
    "sol = model.solve(return_evolution=True)\n",
    "\n",
    "# stores the pdf evolution of the reaction times. Returns x_domain by t_domain numpy error\n",
    "pdf_evol = sol.pdf_evolution()\n",
    "\n",
    "# import plotly.graph_objects as go\n",
    "# import numpy as np\n",
    "# z=pdf_evol\n",
    "# sh_0, sh_1 = z.shape\n",
    "# x, y = np.linspace(-5, 5, sh_0), np.linspace(0, 10, sh_1)\n",
    "# fig = go.Figure(data=[go.Surface(z=z.T, x=x, y=y)])\n",
    "\n",
    "# fig.update_layout(title='PDF Evolution for Weiner Process', autosize=False,\n",
    "#                   width=500, height=500,\n",
    "#                   margin=dict(l=65, r=50, b=65, t=90))\n",
    "\n",
    "# fig.show()\n"
   ]
  },
  {
   "cell_type": "markdown",
   "metadata": {},
   "source": [
    "## Ornstein–Uhlenbeck process\n",
    "\n",
    "The Ornstein–Uhlenbeck process ${\\displaystyle x_{t}} $is defined by the following [stochastic differential equation](https://en.wikipedia.org/wiki/Stochastic_differential_equation):\n",
    "$$\n",
    "dx_{t} = -\\theta dt + \\sigma dW_{t}\n",
    "$$\n",
    "\n",
    "where ${\\displaystyle \\theta >0}$ and ${\\displaystyle \\sigma >0}$ are parameters and ${\\displaystyle W_{t}}$ denotes the Wiener process\n",
    "\n",
    "### OU-v1\n",
    "\n",
    "> drift=DriftLinear(drift=0.0, t=0.2, x=0.1),  # https://github.com/mwshinn/PyDDM/blob/master/ddm/models/drift.py\n",
    "\n",
    "> noise=NoiseConstant(noise=0.5),  # https://github.com/mwshinn/PyDDM/blob/master/ddm/models/noise.py\n",
    "\n",
    "> IC = ICArbitrary(scipy.stats.binom.pmf(n=4000, p=0.4, k=range(0, 4001))),\n",
    "\n",
    "> bound=BoundConstant(B=2),  # https://github.com/mwshinn/PyDDM/blob/master/ddm/models/bound.py\n",
    "\n",
    "> overlay=OverlayNone(),  # https://github.com/mwshinn/PyDDM/blob/master/ddm/models/overlay.py\n",
    "\n",
    "> dx=.001, dt=.01, T_dur=10\n"
   ]
  },
  {
   "cell_type": "code",
   "execution_count": 10,
   "metadata": {},
   "outputs": [
    {
     "name": "stdout",
     "output_type": "stream",
     "text": [
      "Number of timesteps is 1001.0\n",
      "Shape of t_domain() is 1001\n",
      "Number of x_steps is 4001\n",
      "Model OU Process information:\n",
      "Drift component DriftLinear:\n",
      "    linear_xt\n",
      "    Fixed parameters:\n",
      "    - drift: 0.000000\n",
      "    - x: 0.100000\n",
      "    - t: 0.200000\n",
      "Noise component NoiseConstant:\n",
      "    constant\n",
      "    Fixed parameters:\n",
      "    - noise: 0.500000\n",
      "Bound component BoundConstant:\n",
      "    constant\n",
      "    Fixed parameters:\n",
      "    - B: 2.000000\n",
      "IC component ICArbitrary:\n",
      "    Arbitrary distribution\n",
      "    (No parameters)\n",
      "Overlay component OverlayNone:\n",
      "    No overlay\n",
      "    (No parameters)\n",
      "\n",
      "None\n"
     ]
    }
   ],
   "source": [
    "# libraries\n",
    "from ddm import Model\n",
    "from ddm.models import DriftConstant, NoiseConstant, BoundConstant, OverlayNonDecision, DriftLinear, OverlayNone\n",
    "from ddm.functions import fit_adjust_model, display_model\n",
    "from ddm.models import ICUniform, ICGaussian, ICArbitrary, ICRange, ICPointSourceCenter\n",
    "import scipy.stats\n",
    "# Weiner process with ICUniform\n",
    "model = Model(name='OU Process',\n",
    "              drift=DriftLinear(drift=0.0, t=0.2, x=0.1),  # https://github.com/mwshinn/PyDDM/blob/master/ddm/models/drift.py\n",
    "              noise=NoiseConstant(noise=0.5),  # https://github.com/mwshinn/PyDDM/blob/master/ddm/models/noise.py\n",
    "              IC = ICArbitrary(scipy.stats.binom.pmf(n=4000, p=0.4, k=range(0, 4001))),\n",
    "              bound=BoundConstant(B=2),  # https://github.com/mwshinn/PyDDM/blob/master/ddm/models/bound.py\n",
    "              overlay=OverlayNone(),  # https://github.com/mwshinn/PyDDM/blob/master/ddm/models/overlay.py\n",
    "              dx=.001, dt=.01, T_dur=10)\n",
    "\n",
    "print(f'Number of timesteps is {10/0.01+1}')  # considers initial state\n",
    "model.t_domain()\n",
    "print(f\"Shape of t_domain() is {model.t_domain().shape[0]}\")\n",
    "# print(f'Number of x_steps is {1.1/0.001+1}') since B=1.1\n",
    "print(f'Number of x_steps is {model.x_domain(conditions={}).shape[0]}')\n",
    "\n",
    "print(display_model(model))\n",
    "\n",
    "# solve() solves the model using an analytical solution and returns a Solution object describing the joing PDF distrobution of reaction times\n",
    "sol = model.solve(return_evolution=True)\n",
    "\n",
    "# stores the pdf evolution of the reaction times. Returns x_domain by t_domain numpy error\n",
    "pdf_evol = sol.pdf_evolution()\n",
    "\n",
    "# import plotly.graph_objects as go\n",
    "# import numpy as np\n",
    "# z=pdf_evol\n",
    "# sh_0, sh_1 = z.shape\n",
    "# x, y = np.linspace(-5, 5, sh_0), np.linspace(0, 10, sh_1)\n",
    "# fig = go.Figure(data=[go.Surface(z=z.T, x=x, y=y)])\n",
    "\n",
    "# fig.update_layout(title='PDF Evolution for OU Process', autosize=False,\n",
    "#                   width=500, height=500,\n",
    "#                   margin=dict(l=65, r=50, b=65, t=90))\n",
    "\n",
    "# fig.show()\n"
   ]
  },
  {
   "cell_type": "markdown",
   "metadata": {},
   "source": [
    "# Get Median, IQR, Std, Mean\n",
    "## Drift and Noise Models\n",
    "\n",
    "### Leaky/Unstable Integrator\n",
    "\n",
    "Leaky/unstable integrators are implemented in [DriftLinear](https://pyddm.readthedocs.io/en/stable/apidoc/dependences.html#ddm.models.drift.DriftLinear). For a leaky integrator, set the parameter x to be less than 0. For an unstable integrator, set the parameter x to be greater than 0. "
   ]
  },
  {
   "cell_type": "code",
   "execution_count": 10,
   "metadata": {},
   "outputs": [],
   "source": [
    "def get_median(array, axis = 0):\n",
    "    return np.median(array, axis = axis)  #, keepdims=True)\n",
    "def get_iqr(array, axis = 0):\n",
    "    return scipy.stats.iqr(array, axis = axis)\n",
    "def get_std(array, axis = 0):\n",
    "    return np.std(array, axis = axis)\n",
    "def get_mean(array, axis = 0):\n",
    "    return np.mean(array, axis = axis)"
   ]
  },
  {
   "cell_type": "code",
   "execution_count": 106,
   "metadata": {},
   "outputs": [],
   "source": [
    "class BoundIncreasing(Bound):\n",
    "    name = \"increasing_linear\"\n",
    "    required_parameters = [\"B\", \"t\"]\n",
    "    def get_bound(self, t, *args, **kwargs):\n",
    "        return max(self.B + self.t*t, 0.)\n",
    "class NoiseIncreasing(Noise):\n",
    "    name = \"Increasing Noise with time and space\"\n",
    "    required_parameters = [\"noise\", \"x\"]\n",
    "    def get_noise(self, x, t, **kwargs):\n",
    "        return self.noise - self.x*x\n",
    "class DriftIncreasing(Drift):\n",
    "    name = \"Increasing Drift with time and space\"\n",
    "    required_parameters = [\"drift\", \"x\", \"t\"]\n",
    "    def get_drift(self, x, t, **kwargs):\n",
    "        return self.drift - self.x*x - self.t*t"
   ]
  },
  {
   "cell_type": "code",
   "execution_count": 118,
   "metadata": {},
   "outputs": [
    {
     "name": "stdout",
     "output_type": "stream",
     "text": [
      "Number of timesteps is 1001.0\n",
      "Shape of t_domain() is 1001\n",
      "Number of x_steps is 4001\n",
      "Model OU Process information:\n",
      "Drift component DriftLinear:\n",
      "    linear_xt\n",
      "    Fixed parameters:\n",
      "    - drift: 1.000000\n",
      "    - x: -0.700000\n",
      "    - t: 0.400000\n",
      "Noise component NoiseIncreasing:\n",
      "    Increasing Noise with time and space\n",
      "    Fixed parameters:\n",
      "    - noise: 0.630000\n",
      "    - x: 0.100000\n",
      "Bound component BoundConstant:\n",
      "    constant\n",
      "    Fixed parameters:\n",
      "    - B: 2.000000\n",
      "IC component ICArbitrary:\n",
      "    Arbitrary distribution\n",
      "    (No parameters)\n",
      "Overlay component OverlayNone:\n",
      "    No overlay\n",
      "    (No parameters)\n",
      "\n",
      "None\n"
     ]
    }
   ],
   "source": [
    "# libraries\n",
    "from ddm import Model\n",
    "from ddm.models import DriftConstant, NoiseConstant, BoundConstant, OverlayNonDecision, DriftLinear, Noise\n",
    "from ddm.functions import fit_adjust_model, display_model\n",
    "from ddm.models import ICUniform, ICGaussian, ICArbitrary, ICRange, ICPointSourceCenter\n",
    "import scipy.stats\n",
    "import numpy as np\n",
    "\n",
    "dx = .001\n",
    "dt = 0.01\n",
    "T_dur = 10\n",
    "B = 2\n",
    "\n",
    "# initial condition\n",
    "x = np.arange(0, 4.001, dx)\n",
    "dist = (scipy.stats.norm.pdf(x, 0.5, 3.3)[:-1]/sum(scipy.stats.norm.pdf(x, 0.5, 3.3)[:-1]))\n",
    "# Weiner process with ICUniform\n",
    "model = Model(name='OU Process',\n",
    "              drift=DriftLinear(drift=1.0, t=0.4, x=-0.7),  # https://github.com/mwshinn/PyDDM/blob/master/ddm/models/drift.py\n",
    "              noise=NoiseIncreasing(noise=0.63, x=0.1),  # https://github.com/mwshinn/PyDDM/blob/master/ddm/models/noise.py\n",
    "              IC = ICArbitrary(dist=dist),\n",
    "              bound=BoundConstant(B=B),  # https://github.com/mwshinn/PyDDM/blob/master/ddm/models/bound.py\n",
    "              overlay=OverlayNone(),  # https://github.com/mwshinn/PyDDM/blob/master/ddm/models/overlay.py\n",
    "              dx=dx, dt=dt, T_dur=T_dur)\n",
    "\n",
    "print(f'Number of timesteps is {10/0.01+1}')  # considers initial state\n",
    "model.t_domain()\n",
    "print(f\"Shape of t_domain() is {model.t_domain().shape[0]}\")\n",
    "# print(f'Number of x_steps is {1.1/0.001+1}') since B=1.1\n",
    "print(f'Number of x_steps is {model.x_domain(conditions={}).shape[0]}')\n",
    "\n",
    "print(display_model(model))\n",
    "\n",
    "# solve() solves the model using an analytical solution and returns a Solution object describing the joing PDF distrobution of reaction times\n",
    "sol = model.solve(return_evolution=True)\n",
    "\n",
    "# stores the pdf evolution of the reaction times. Returns x_domain by t_domain numpy error\n",
    "pdf_evol = sol.pdf_evolution()\n",
    "\n",
    "# import plotly.graph_objects as go\n",
    "# import numpy as np\n",
    "# z=pdf_evol\n",
    "# sh_0, sh_1 = z.shape\n",
    "# x, t = np.linspace(-5, 5, sh_0), np.linspace(0, 10, sh_1)\n",
    "# fig = go.Figure(data=[go.Surface(z=z.T, x=x, y=t)])\n",
    "\n",
    "# fig.update_layout(title=f'PDF Evolution for OU Process', autosize=False,\n",
    "#                   width=500, height=500,\n",
    "#                   margin=dict(l=65, r=50, b=65, t=90))\n",
    "\n",
    "# fig.show()\n"
   ]
  },
  {
   "cell_type": "code",
   "execution_count": 119,
   "metadata": {},
   "outputs": [
    {
     "data": {
      "text/plain": [
       "(4001,)"
      ]
     },
     "execution_count": 119,
     "metadata": {},
     "output_type": "execute_result"
    }
   ],
   "source": [
    "dist.shape"
   ]
  },
  {
   "cell_type": "code",
   "execution_count": 120,
   "metadata": {},
   "outputs": [
    {
     "name": "stdout",
     "output_type": "stream",
     "text": [
      "   t_domain    median       iqr       std      mean\n",
      "0      0.00  0.262161  0.069198  0.039213  0.249938\n",
      "1      0.01  0.258457  0.070205  0.046921  0.245352\n",
      "2      0.02  0.257851  0.072114  0.052167  0.243397\n",
      "3      0.03  0.257720  0.073769  0.056153  0.242090\n",
      "4      0.04  0.257836  0.075281  0.059528  0.241096\n"
     ]
    },
    {
     "data": {
      "text/plain": [
       "<AxesSubplot:xlabel='t_domain'>"
      ]
     },
     "execution_count": 120,
     "metadata": {},
     "output_type": "execute_result"
    },
    {
     "data": {
      "image/png": "[encoded data removed]",
      "text/plain": [
       "<Figure size 432x288 with 1 Axes>"
      ]
     },
     "metadata": {
      "needs_background": "light"
     },
     "output_type": "display_data"
    }
   ],
   "source": [
    "pdf_median = get_median(pdf_evol)\n",
    "pdf_iqr = get_iqr(pdf_evol)\n",
    "pdf_std = get_std(pdf_evol)\n",
    "pdf_mean = get_mean(pdf_evol)\n",
    "\n",
    "import seaborn as sns\n",
    "import pandas as pd\n",
    "t_domain = np.arange(0, T_dur+dt, dt)\n",
    "data = {\n",
    "    't_domain': t_domain,\n",
    "    'median': pdf_median,\n",
    "    'iqr': pdf_iqr,\n",
    "    'std': pdf_std,\n",
    "    'mean': pdf_mean\n",
    "}\n",
    "\n",
    "data_df = pd.DataFrame(data)\n",
    "print(data_df.head())\n",
    "data_df.set_index('t_domain').plot()"
   ]
  },
  {
   "cell_type": "code",
   "execution_count": 121,
   "metadata": {},
   "outputs": [
    {
     "data": {
      "text/plain": [
       "<AxesSubplot:>"
      ]
     },
     "execution_count": 121,
     "metadata": {},
     "output_type": "execute_result"
    },
    {
     "data": {
      "image/png": "[encoded data removed]",
      "text/plain": [
       "<Figure size 432x288 with 1 Axes>"
      ]
     },
     "metadata": {
      "needs_background": "light"
     },
     "output_type": "display_data"
    }
   ],
   "source": [
    "data_df['median'].plot()"
   ]
  },
  {
   "cell_type": "code",
   "execution_count": null,
   "metadata": {},
   "outputs": [],
   "source": [
    "model"
   ]
  },
  {
   "cell_type": "markdown",
   "metadata": {},
   "source": [
    "# Get drift from data\n",
    "\n",
    "We will be using [Simulating Stock Prices in Python using Geometric Brownian motion](https://towardsdatascience.com/simulating-stock-prices-in-python-using-geometric-brownian-motion-8dfd6e8c6b18) as reference.\n",
    "\n",
    "Content:\n",
    "1. What GBM does\n",
    "2. What input parameters we need for GBM simulation\n",
    "3. The components of GBM: Drift and Diffusion\n",
    "4. Building the discrete-time GBM model\n",
    "5. Making predictions\n",
    "\n",
    "```\n",
    "# Parameter Definitions\n",
    "\n",
    "# So    :   initial stock price\n",
    "# dt    :   time increment -> a day in our case\n",
    "# T     :   length of the prediction time horizon(how many time points to predict, same unit with dt(days))\n",
    "# N     :   number of time points in the prediction time horizon -> T/dt\n",
    "# t     :   array for time points in the prediction time horizon [1, 2, 3, .. , N]\n",
    "# mu    :   mean of historical daily returns\n",
    "# sigma :   standard deviation of historical daily returns\n",
    "# b     :   array for brownian increments\n",
    "# W     :   array for brownian path\n",
    "```"
   ]
  },
  {
   "cell_type": "code",
   "execution_count": 2,
   "metadata": {},
   "outputs": [
    {
     "data": {
      "image/png": "[encoded data removed]",
      "text/plain": [
       "<Figure size 1080x360 with 1 Axes>"
      ]
     },
     "metadata": {
      "needs_background": "light"
     },
     "output_type": "display_data"
    }
   ],
   "source": [
    "# 1. What GBM does\n",
    "import pandas as pd\n",
    "import numpy as np\n",
    "import quandl\n",
    "import matplotlib.pyplot as plt\n",
    "from pandas.plotting import register_matplotlib_converters\n",
    "register_matplotlib_converters()\n",
    "\n",
    "# Plot of E.ON(a big scale energy company in Europe) \n",
    "# stock prices since beginning of 2019 (up to July)\n",
    "\n",
    "prices = quandl.get(\"EOD/MSFT\", \n",
    "                authtoken=\"pNHLvptFyzyj8UHDrces\", \n",
    "                start_date = '2016-01-01', end_date = '2016-07-31'\n",
    "                ).reset_index(drop = False)[['Date', 'Close']]\n",
    "# prices               \n",
    "plt.figure(figsize = (15, 5))\n",
    "plt.plot(prices['Date'], prices['Close'])\n",
    "plt.xlabel('Days')\n",
    "plt.ylabel('Stock Prices, €')\n",
    "plt.show()\n",
    "\n"
   ]
  },
  {
   "cell_type": "code",
   "execution_count": 6,
   "metadata": {},
   "outputs": [
    {
     "data": {
      "text/html": [
       "<div>\n",
       "<style scoped>\n",
       "    .dataframe tbody tr th:only-of-type {\n",
       "        vertical-align: middle;\n",
       "    }\n",
       "\n",
       "    .dataframe tbody tr th {\n",
       "        vertical-align: top;\n",
       "    }\n",
       "\n",
       "    .dataframe thead th {\n",
       "        text-align: right;\n",
       "    }\n",
       "</style>\n",
       "<table border=\"1\" class=\"dataframe\">\n",
       "  <thead>\n",
       "    <tr style=\"text-align: right;\">\n",
       "      <th></th>\n",
       "      <th>Date</th>\n",
       "      <th>Close</th>\n",
       "    </tr>\n",
       "  </thead>\n",
       "  <tbody>\n",
       "    <tr>\n",
       "      <th>0</th>\n",
       "      <td>2016-01-04</td>\n",
       "      <td>54.80</td>\n",
       "    </tr>\n",
       "    <tr>\n",
       "      <th>1</th>\n",
       "      <td>2016-01-05</td>\n",
       "      <td>55.05</td>\n",
       "    </tr>\n",
       "    <tr>\n",
       "      <th>2</th>\n",
       "      <td>2016-01-06</td>\n",
       "      <td>54.05</td>\n",
       "    </tr>\n",
       "    <tr>\n",
       "      <th>3</th>\n",
       "      <td>2016-01-07</td>\n",
       "      <td>52.17</td>\n",
       "    </tr>\n",
       "    <tr>\n",
       "      <th>4</th>\n",
       "      <td>2016-01-08</td>\n",
       "      <td>52.33</td>\n",
       "    </tr>\n",
       "  </tbody>\n",
       "</table>\n",
       "</div>"
      ],
      "text/plain": [
       "        Date  Close\n",
       "0 2016-01-04  54.80\n",
       "1 2016-01-05  55.05\n",
       "2 2016-01-06  54.05\n",
       "3 2016-01-07  52.17\n",
       "4 2016-01-08  52.33"
      ]
     },
     "execution_count": 6,
     "metadata": {},
     "output_type": "execute_result"
    }
   ],
   "source": [
    "prices.head()"
   ]
  },
  {
   "cell_type": "code",
   "execution_count": null,
   "metadata": {},
   "outputs": [],
   "source": []
  }
 ],
 "metadata": {
  "interpreter": {
   "hash": "aee8b7b246df8f9039afb4144a1f6fd8d2ca17a180786b69acc140d282b71a49"
  },
  "kernelspec": {
   "display_name": "Python 3 (ipykernel)",
   "language": "python",
   "name": "python3"
  },
  "language_info": {
   "codemirror_mode": {
    "name": "ipython",
    "version": 3
   },
   "file_extension": ".py",
   "mimetype": "text/x-python",
   "name": "python",
   "nbconvert_exporter": "python",
   "pygments_lexer": "ipython3",
   "version": "3.8.9"
  },
  "metadata": {
   "interpreter": {
    "hash": "4cd7ab41f5fca4b9b44701077e38c5ffd31fe66a6cab21e0214b68d958d0e462"
   }
  }
 },
 "nbformat": 4,
 "nbformat_minor": 4
}
