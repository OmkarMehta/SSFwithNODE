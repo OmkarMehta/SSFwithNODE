{
 "cells": [
  {
   "cell_type": "markdown",
   "metadata": {},
   "source": [
    "<center><font size=\"6\"> Seagate Analytics Technical Test </font></center>\n",
    "\n",
    "\n",
    "# Instruction\n",
    "\n",
    "You are given a dataset for prediction of Graduate Admissions into US universities from an International applicant's perspective. \n",
    "\n",
    "## Content\n",
    "The dataset contains several parameters which are considered important during the application for Masters Programs. The parameters included are : \n",
    "1. GRE Scores ( out of 340 ) \n",
    "2. TOEFL Scores ( out of 120 ) \n",
    "3. University Rating ( out of 5 ) \n",
    "4. Statement of Purpose and Letter of Recommendation Strength ( out of 5 ) \n",
    "5. Undergraduate GPA ( out of 10 ) \n",
    "6. Research Experience ( either 0 or 1 ) \n",
    "7. **Label**: Chance of Admit ( either 0 or 1 )\n",
    "\n",
    "## Acknowledgements\n",
    "This dataset is inspired by the UCLA Graduate Dataset. The test scores and GPA are in the older format. The dataset is owned by Mohan S Acharya.\n",
    "\n",
    "Mohan S Acharya, Asfia Armaan, Aneeta S Antony : A Comparison of Regression Models for Prediction of Graduate Admissions, IEEE International Conference on Computational Intelligence in Data Science 2019"
   ]
  },
  {
   "cell_type": "markdown",
   "metadata": {},
   "source": [
    "# TO-DO\n",
    "\n",
    "1. Load the dataset as a dataframe, replace all missing values “?” with NaN\n",
    "2. For missing values in column “GRE Score” and \"TOEFL Score\": substitute with the average value of the column\n",
    "3. For missing values in column \"Research\": remove rows with NA, and change the data format from \"str\" to \"float\"\n",
    "4. Select columns 2, 3, 4, 5, 6, 7, 8 as features, the last column as label\n",
    "5. Normalize each column to have zero mean in the data\n",
    "6. Split the dataset into Training Data (80%) and Testing Data (20%)\n",
    "7. Build a classification model using Training Data\n",
    "8. Test and assess the model\n",
    "9. Briefly describe your results"
   ]
  },
  {
   "cell_type": "code",
   "execution_count": 1,
   "metadata": {},
   "outputs": [],
   "source": [
    "path = '../data/Admission_dataset.csv'"
   ]
  },
  {
   "cell_type": "code",
   "execution_count": null,
   "metadata": {},
   "outputs": [],
   "source": []
  }
 ],
 "metadata": {
  "kernelspec": {
   "display_name": "Python 3",
   "language": "python",
   "name": "python3"
  },
  "language_info": {
   "codemirror_mode": {
    "name": "ipython",
    "version": 3
   },
   "file_extension": ".py",
   "mimetype": "text/x-python",
   "name": "python",
   "nbconvert_exporter": "python",
   "pygments_lexer": "ipython3",
   "version": "3.7.7"
  },
  "toc": {
   "base_numbering": 1,
   "nav_menu": {},
   "number_sections": true,
   "sideBar": true,
   "skip_h1_title": false,
   "title_cell": "Table of Contents",
   "title_sidebar": "Contents",
   "toc_cell": false,
   "toc_position": {},
   "toc_section_display": true,
   "toc_window_display": false
  }
 },
 "nbformat": 4,
 "nbformat_minor": 2
}
