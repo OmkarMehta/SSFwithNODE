{
  "nbformat": 4,
  "nbformat_minor": 0,
  "metadata": {
    "colab": {
      "name": "data-generator.ipynb",
      "provenance": [],
      "collapsed_sections": []
    },
    "kernelspec": {
      "name": "python3",
      "display_name": "Python 3"
    },
    "language_info": {
      "name": "python"
    }
  },
  "cells": [
    {
      "cell_type": "markdown",
      "metadata": {
        "id": "vH6mNrjwEqWY"
      },
      "source": [
        "# Install torchdiffeq, yfinance, tslearn"
      ]
    },
    {
      "cell_type": "code",
      "metadata": {
        "colab": {
          "base_uri": "https://localhost:8080/"
        },
        "id": "T4EgFvOqEwGp",
        "outputId": "a2c2ac5e-6eb8-47e8-a6b3-b8712559c5cf"
      },
      "source": [
        "def pip_install_required():\n",
        "    # Install the latest version of author's repo neural ode implementation\n",
        "    !git clone https://github.com/rtqichen/torchdiffeq.git\n",
        "    !cd torchdiffeq && pip install -e .\n",
        "    !ls torchdiffeq/torchdiffeq\n",
        "    !pip install yfinance\n",
        "    !pip install tslearn\n",
        "pip_install_required()"
      ],
      "execution_count": 37,
      "outputs": [
        {
          "output_type": "stream",
          "name": "stdout",
          "text": [
            "Cloning into 'torchdiffeq'...\n",
            "remote: Enumerating objects: 1138, done.\u001b[K\n",
            "remote: Counting objects: 100% (434/434), done.\u001b[K\n",
            "remote: Compressing objects: 100% (194/194), done.\u001b[K\n",
            "remote: Total 1138 (delta 256), reused 400 (delta 240), pack-reused 704\u001b[K\n",
            "Receiving objects: 100% (1138/1138), 8.29 MiB | 34.37 MiB/s, done.\n",
            "Resolving deltas: 100% (682/682), done.\n",
            "Obtaining file:///content/torchdiffeq\n",
            "Requirement already satisfied: torch>=1.3.0 in /usr/local/lib/python3.7/dist-packages (from torchdiffeq==0.2.2) (1.9.0+cu111)\n",
            "Requirement already satisfied: scipy>=1.4.0 in /usr/local/lib/python3.7/dist-packages (from torchdiffeq==0.2.2) (1.4.1)\n",
            "Requirement already satisfied: numpy>=1.13.3 in /usr/local/lib/python3.7/dist-packages (from scipy>=1.4.0->torchdiffeq==0.2.2) (1.19.5)\n",
            "Requirement already satisfied: typing-extensions in /usr/local/lib/python3.7/dist-packages (from torch>=1.3.0->torchdiffeq==0.2.2) (3.7.4.3)\n",
            "Installing collected packages: torchdiffeq\n",
            "  Running setup.py develop for torchdiffeq\n",
            "Successfully installed torchdiffeq-0.2.2\n",
            "_impl  __init__.py\n",
            "Collecting yfinance\n",
            "  Downloading yfinance-0.1.63.tar.gz (26 kB)\n",
            "Requirement already satisfied: pandas>=0.24 in /usr/local/lib/python3.7/dist-packages (from yfinance) (1.1.5)\n",
            "Requirement already satisfied: numpy>=1.15 in /usr/local/lib/python3.7/dist-packages (from yfinance) (1.19.5)\n",
            "Requirement already satisfied: requests>=2.20 in /usr/local/lib/python3.7/dist-packages (from yfinance) (2.23.0)\n",
            "Requirement already satisfied: multitasking>=0.0.7 in /usr/local/lib/python3.7/dist-packages (from yfinance) (0.0.9)\n",
            "Collecting lxml>=4.5.1\n",
            "  Downloading lxml-4.6.3-cp37-cp37m-manylinux2014_x86_64.whl (6.3 MB)\n",
            "\u001b[K     |████████████████████████████████| 6.3 MB 7.7 MB/s \n",
            "\u001b[?25hRequirement already satisfied: python-dateutil>=2.7.3 in /usr/local/lib/python3.7/dist-packages (from pandas>=0.24->yfinance) (2.8.2)\n",
            "Requirement already satisfied: pytz>=2017.2 in /usr/local/lib/python3.7/dist-packages (from pandas>=0.24->yfinance) (2018.9)\n",
            "Requirement already satisfied: six>=1.5 in /usr/local/lib/python3.7/dist-packages (from python-dateutil>=2.7.3->pandas>=0.24->yfinance) (1.15.0)\n",
            "Requirement already satisfied: urllib3!=1.25.0,!=1.25.1,<1.26,>=1.21.1 in /usr/local/lib/python3.7/dist-packages (from requests>=2.20->yfinance) (1.24.3)\n",
            "Requirement already satisfied: idna<3,>=2.5 in /usr/local/lib/python3.7/dist-packages (from requests>=2.20->yfinance) (2.10)\n",
            "Requirement already satisfied: chardet<4,>=3.0.2 in /usr/local/lib/python3.7/dist-packages (from requests>=2.20->yfinance) (3.0.4)\n",
            "Requirement already satisfied: certifi>=2017.4.17 in /usr/local/lib/python3.7/dist-packages (from requests>=2.20->yfinance) (2021.5.30)\n",
            "Building wheels for collected packages: yfinance\n",
            "  Building wheel for yfinance (setup.py) ... \u001b[?25l\u001b[?25hdone\n",
            "  Created wheel for yfinance: filename=yfinance-0.1.63-py2.py3-none-any.whl size=23918 sha256=51ddce85e868b648363720692e5d291c8db4aec89de7a6a4fd2f216c9fd08054\n",
            "  Stored in directory: /root/.cache/pip/wheels/fe/87/8b/7ec24486e001d3926537f5f7801f57a74d181be25b11157983\n",
            "Successfully built yfinance\n",
            "Installing collected packages: lxml, yfinance\n",
            "  Attempting uninstall: lxml\n",
            "    Found existing installation: lxml 4.2.6\n",
            "    Uninstalling lxml-4.2.6:\n",
            "      Successfully uninstalled lxml-4.2.6\n",
            "Successfully installed lxml-4.6.3 yfinance-0.1.63\n",
            "Collecting tslearn\n",
            "  Downloading tslearn-0.5.2-cp37-cp37m-manylinux_2_5_x86_64.manylinux1_x86_64.manylinux_2_12_x86_64.manylinux2010_x86_64.whl (793 kB)\n",
            "\u001b[K     |████████████████████████████████| 793 kB 5.1 MB/s \n",
            "\u001b[?25hRequirement already satisfied: Cython in /usr/local/lib/python3.7/dist-packages (from tslearn) (0.29.24)\n",
            "Requirement already satisfied: joblib in /usr/local/lib/python3.7/dist-packages (from tslearn) (1.0.1)\n",
            "Requirement already satisfied: scipy in /usr/local/lib/python3.7/dist-packages (from tslearn) (1.4.1)\n",
            "Requirement already satisfied: numpy in /usr/local/lib/python3.7/dist-packages (from tslearn) (1.19.5)\n",
            "Requirement already satisfied: numba in /usr/local/lib/python3.7/dist-packages (from tslearn) (0.51.2)\n",
            "Requirement already satisfied: scikit-learn in /usr/local/lib/python3.7/dist-packages (from tslearn) (0.22.2.post1)\n",
            "Requirement already satisfied: setuptools in /usr/local/lib/python3.7/dist-packages (from numba->tslearn) (57.4.0)\n",
            "Requirement already satisfied: llvmlite<0.35,>=0.34.0.dev0 in /usr/local/lib/python3.7/dist-packages (from numba->tslearn) (0.34.0)\n",
            "Installing collected packages: tslearn\n",
            "Successfully installed tslearn-0.5.2\n"
          ]
        }
      ]
    },
    {
      "cell_type": "markdown",
      "metadata": {
        "id": "HrDix25SG9ZJ"
      },
      "source": [
        "# Get $\\mu$ data "
      ]
    },
    {
      "cell_type": "markdown",
      "metadata": {
        "id": "_rnOO-kSSdb-"
      },
      "source": [
        "$ \\mu_{t} $ is stock price.\n"
      ]
    },
    {
      "cell_type": "code",
      "metadata": {
        "colab": {
          "base_uri": "https://localhost:8080/"
        },
        "id": "XjosinFbEzbA",
        "outputId": "8aaf9410-447c-4bb0-b3e7-bbd3df5099d0"
      },
      "source": [
        "# 1. Get Open and Close Price of asset (o, c) for each trading day.\n",
        "# libraries\n",
        "from pandas_datareader import data as pdr\n",
        "import yfinance as yf\n",
        "import os\n",
        "\n",
        "print(f\"Get Open and Close Price of Assets\")\n",
        "def download_raw_stock_data(filepath, tickers, start, end, period = '1d'):\n",
        "    \"\"\"\n",
        "    Download Stock tickers\n",
        "    :Parameters:\n",
        "        filepath: str\n",
        "            path to store the raw data\n",
        "        tickers : str, list\n",
        "            List of tickers to download\n",
        "        period: str\n",
        "            the frequency at which to gather the data; common options would include ‘1d’ (daily), ‘1mo’ (monthly), ‘1y’ (yearly)\n",
        "        start: str\n",
        "            the date to start gathering the data. For example ‘2010–1–1’\n",
        "        end: str\n",
        "            the date to end gathering the data. For example ‘2020–1–25’\n",
        "    \n",
        "    \"\"\"\n",
        "    #define the ticker symbol\n",
        "    tickerSymbol = tickers\n",
        "\n",
        "    #get data on this ticker\n",
        "    tickerData = yf.Ticker(tickerSymbol)\n",
        "\n",
        "    #get the historical prices for this ticker\n",
        "    tickerDf = tickerData.history(period=period, start=start, end=end)\n",
        "    tickerDf.to_csv(filepath)\n",
        "\n",
        "\n",
        "def download_data(dict_tickers, path, period, start, end):\n",
        "    print(f\"Get Open and Close Price of Assets\")\n",
        "    if not os.path.exists(path):\n",
        "        # https://appdividend.com/2021/07/03/how-to-create-directory-if-not-exist-in-python/\n",
        "        # Create a new directory\n",
        "        os.makedirs(path)\n",
        "        print(f\"{path} directory is created\")\n",
        "        \n",
        "    for tickerName, ticker in dict_tickers.items():\n",
        "        tickerName = tickerName\n",
        "        ticker = ticker\n",
        "        filepath = f\"{path}/{tickerName}.csv\"\n",
        "        download_raw_stock_data(filepath, ticker, start, end, period)\n",
        "\n",
        "\n",
        "    print('\\n')\n",
        "\n",
        "    print(f\"The size of each asset\")\n",
        "    import pandas as pd\n",
        "    for tickerName in dict_tickers.keys():\n",
        "        df = pd.read_csv(f\"{path}/{tickerName}.csv\")\n",
        "        print(f\"{tickerName} size: {len(df)}\")\n",
        "        \n",
        "dict_tickers = {\n",
        "    'Apple': 'AAPL',\n",
        "    'Microsoft': 'MSFT',\n",
        "    'Google': 'GOOG',\n",
        "    'Bitcoin': 'BTC-USD',\n",
        "    'Facebook': 'FB',\n",
        "    'Walmart': 'WMT',\n",
        "    'Amazon': 'AMZN',\n",
        "    'CVS': 'CVS',\n",
        "    'Berkshire': 'BRK-B',\n",
        "    'ExxonMobil': 'XOM',\n",
        "    'AtandT': 'T',\n",
        "    'Costco': 'COST',\n",
        "    'Walgreens': 'WBA',\n",
        "    'Kroger': 'KR',\n",
        "    'JPMorgan': 'JPM',\n",
        "    'Verizon': 'VZ',\n",
        "    'FordMotor': 'F',\n",
        "    'GeneralMotors': 'GM',\n",
        "    'Dell': 'DELL',\n",
        "    'BankOfAmerica': 'BAC',\n",
        "    'Target': 'TGT',\n",
        "    'GeneralElectric': 'GE',\n",
        "    'JohnsonandJohnson': 'JNJ',\n",
        "    'Nvidia': 'NVDA',\n",
        "    'Intel': 'INTC',\n",
        "}\n",
        "\n",
        "\n",
        "period = '1d'\n",
        "start='2000-1-1'\n",
        "end='2021-8-31'\n",
        "path = f\"raw-stock-data/data-{start.split('-')[0]}-{end.split('-')[0]}\"\n",
        "download_data(dict_tickers, path, period, start, end)\n"
      ],
      "execution_count": 38,
      "outputs": [
        {
          "output_type": "stream",
          "name": "stdout",
          "text": [
            "Get Open and Close Price of Assets\n",
            "Get Open and Close Price of Assets\n",
            "raw-stock-data/data-2000-2021 directory is created\n",
            "\n",
            "\n",
            "The size of each asset\n",
            "Apple size: 5450\n",
            "Microsoft size: 5450\n",
            "Google size: 4288\n",
            "Bitcoin size: 2537\n",
            "Facebook size: 2336\n",
            "Walmart size: 5450\n",
            "Amazon size: 5450\n",
            "CVS size: 5450\n",
            "Berkshire size: 5450\n",
            "ExxonMobil size: 5450\n",
            "AtandT size: 5450\n",
            "Costco size: 5450\n",
            "Walgreens size: 5450\n",
            "Kroger size: 5450\n",
            "JPMorgan size: 5450\n",
            "Verizon size: 5450\n",
            "FordMotor size: 5450\n",
            "GeneralMotors size: 2713\n",
            "Dell size: 1268\n",
            "BankOfAmerica size: 5450\n",
            "Target size: 5450\n",
            "GeneralElectric size: 5450\n",
            "JohnsonandJohnson size: 5450\n",
            "Nvidia size: 5451\n",
            "Intel size: 5450\n"
          ]
        }
      ]
    },
    {
      "cell_type": "code",
      "metadata": {
        "colab": {
          "base_uri": "https://localhost:8080/"
        },
        "id": "dsb82Ij6Fke3",
        "outputId": "95e7a30c-c2c8-4b46-dd2e-6c494ae2f656"
      },
      "source": [
        "pd.read_csv(f\"raw-stock-data/data-2000-2021/Apple.csv\")['Open'].values.shape"
      ],
      "execution_count": 44,
      "outputs": [
        {
          "output_type": "execute_result",
          "data": {
            "text/plain": [
              "(5450,)"
            ]
          },
          "metadata": {},
          "execution_count": 44
        }
      ]
    },
    {
      "cell_type": "code",
      "metadata": {
        "id": "C1OrEoqIFHyH"
      },
      "source": [
        "def bundle_data(path):\n",
        "    data = {}\n",
        "    for tickerName in dict_tickers.keys():\n",
        "        data[tickerName] = pd.read_csv(f\"{path}/{tickerName}.csv\")['Open'].values\n",
        "    return data"
      ],
      "execution_count": 45,
      "outputs": []
    },
    {
      "cell_type": "code",
      "metadata": {
        "id": "0tVUVY0AF5gh"
      },
      "source": [
        "start='2000-1-1'\n",
        "end='2021-8-31'\n",
        "path = f\"raw-stock-data/data-{start.split('-')[0]}-{end.split('-')[0]}\"\n",
        "raw_data_dict = bundle_data(path)"
      ],
      "execution_count": 46,
      "outputs": []
    },
    {
      "cell_type": "code",
      "metadata": {
        "colab": {
          "base_uri": "https://localhost:8080/"
        },
        "id": "DNmOJSXwGV50",
        "outputId": "4f90e17b-b256-4aa1-9d0a-7d1de09bea5c"
      },
      "source": [
        "def get_bundle(raw_data_dict):\n",
        "    data = raw_data_dict['Apple']\n",
        "    # 4. Bundle all sequences together\n",
        "    for tickerName in raw_data_dict.keys():\n",
        "        if tickerName != 'Apple':\n",
        "            data1 = raw_data_dict[tickerName]\n",
        "            data = np.concatenate((data, data1))\n",
        "            \n",
        "            print(f\"data.shape {data.shape}\")\n",
        "    return data\n",
        "import numpy as np\n",
        "mu_data = get_bundle(raw_data_dict)\n"
      ],
      "execution_count": 49,
      "outputs": [
        {
          "output_type": "stream",
          "name": "stdout",
          "text": [
            "data.shape (10900,)\n",
            "data.shape (15188,)\n",
            "data.shape (17725,)\n",
            "data.shape (20061,)\n",
            "data.shape (25511,)\n",
            "data.shape (30961,)\n",
            "data.shape (36411,)\n",
            "data.shape (41861,)\n",
            "data.shape (47311,)\n",
            "data.shape (52761,)\n",
            "data.shape (58211,)\n",
            "data.shape (63661,)\n",
            "data.shape (69111,)\n",
            "data.shape (74561,)\n",
            "data.shape (80011,)\n",
            "data.shape (85461,)\n",
            "data.shape (88174,)\n",
            "data.shape (89442,)\n",
            "data.shape (94892,)\n",
            "data.shape (100342,)\n",
            "data.shape (105792,)\n",
            "data.shape (111242,)\n",
            "data.shape (116693,)\n",
            "data.shape (122143,)\n"
          ]
        }
      ]
    },
    {
      "cell_type": "code",
      "metadata": {
        "colab": {
          "base_uri": "https://localhost:8080/"
        },
        "id": "8ncVvkMWGw7o",
        "outputId": "6c66ffbe-d3ef-4830-9e3e-e6ff58f259cb"
      },
      "source": [
        "mu_data.shape"
      ],
      "execution_count": 50,
      "outputs": [
        {
          "output_type": "execute_result",
          "data": {
            "text/plain": [
              "(122143,)"
            ]
          },
          "metadata": {},
          "execution_count": 50
        }
      ]
    },
    {
      "cell_type": "code",
      "metadata": {
        "id": "tHRdfLHSXWkY"
      },
      "source": [
        ""
      ],
      "execution_count": 106,
      "outputs": []
    },
    {
      "cell_type": "markdown",
      "metadata": {
        "id": "smxEqM6iHESB"
      },
      "source": [
        "# Get $\\sigma$ data"
      ]
    },
    {
      "cell_type": "markdown",
      "metadata": {
        "id": "xMm1PhegTJNz"
      },
      "source": [
        "$ \\sigma_{t}^{2} = \\sigma_{0}^2 * t + \\epsilon $ \n",
        "\n",
        "where $ t $ goes from $ (0, datasize) $ and $ \\epsilon $ is a `np.random.random()."
      ]
    },
    {
      "cell_type": "code",
      "metadata": {
        "id": "1HJugEuFHHzv"
      },
      "source": [
        "sigma_0 = 1./mu_data.shape[0]\n",
        "def get_sigma_values(sigma_0, t, epsilon):\n",
        "    return sigma_0 * t + epsilon"
      ],
      "execution_count": 58,
      "outputs": []
    },
    {
      "cell_type": "code",
      "metadata": {
        "colab": {
          "base_uri": "https://localhost:8080/"
        },
        "id": "arUOJmidHHxk",
        "outputId": "955ad250-7ee8-4a98-806c-ffcdea40100f"
      },
      "source": [
        "t = np.arange(1, mu_data.shape[0])\n",
        "print(t.shape)\n",
        "t\n"
      ],
      "execution_count": 57,
      "outputs": [
        {
          "output_type": "stream",
          "name": "stdout",
          "text": [
            "(122142,)\n"
          ]
        },
        {
          "output_type": "execute_result",
          "data": {
            "text/plain": [
              "array([     1,      2,      3, ..., 122140, 122141, 122142])"
            ]
          },
          "metadata": {},
          "execution_count": 57
        }
      ]
    },
    {
      "cell_type": "code",
      "metadata": {
        "colab": {
          "base_uri": "https://localhost:8080/"
        },
        "id": "3Kys5aheLAsO",
        "outputId": "5e911afc-bcd1-42cf-cafd-5b9cf84f3123"
      },
      "source": [
        "np.random.random()/mu_data.shape[0]"
      ],
      "execution_count": 60,
      "outputs": [
        {
          "output_type": "execute_result",
          "data": {
            "text/plain": [
              "5.640790403560235e-06"
            ]
          },
          "metadata": {},
          "execution_count": 60
        }
      ]
    },
    {
      "cell_type": "code",
      "metadata": {
        "id": "OQrBRABRHHvM"
      },
      "source": [
        "def get_sigma_data(sigma_0):\n",
        "    data = [0 for i in range(mu_data.shape[0])]\n",
        "    data[0] = sigma_0\n",
        "    for i in range(1, mu_data.shape[0]):\n",
        "        data[i] = get_sigma_values(sigma_0, i, np.random.random())\n",
        "    return data"
      ],
      "execution_count": 87,
      "outputs": []
    },
    {
      "cell_type": "code",
      "metadata": {
        "colab": {
          "base_uri": "https://localhost:8080/"
        },
        "id": "qsnJfomdHHsA",
        "outputId": "47f14870-7d35-4a92-ce65-b3628269dc0a"
      },
      "source": [
        "sigma_0 = 1.\n",
        "sigma_data = get_sigma_data(sigma_0)\n",
        "print(len(sigma_data))"
      ],
      "execution_count": 112,
      "outputs": [
        {
          "output_type": "stream",
          "name": "stdout",
          "text": [
            "122143\n"
          ]
        }
      ]
    },
    {
      "cell_type": "markdown",
      "metadata": {
        "id": "RVSGt73vLkd4"
      },
      "source": [
        "# Get data"
      ]
    },
    {
      "cell_type": "code",
      "metadata": {
        "id": "ed4YHaQ9MXOR"
      },
      "source": [
        "x = np.linspace(-10,10,100)"
      ],
      "execution_count": 93,
      "outputs": []
    },
    {
      "cell_type": "code",
      "metadata": {
        "colab": {
          "base_uri": "https://localhost:8080/"
        },
        "id": "QRTfp6CAMSSL",
        "outputId": "5f5a5a1a-e391-4435-8a55-4fe038935693"
      },
      "source": [
        "arr = norm.pdf(x)\n",
        "arr"
      ],
      "execution_count": 94,
      "outputs": [
        {
          "output_type": "execute_result",
          "data": {
            "text/plain": [
              "array([7.69459863e-23, 5.68442201e-22, 4.03145816e-21, 2.74481769e-20,\n",
              "       1.79407401e-19, 1.12575195e-18, 6.78141882e-18, 3.92169602e-17,\n",
              "       2.17722239e-16, 1.16039850e-15, 5.93727315e-15, 2.91636853e-14,\n",
              "       1.37522348e-13, 6.22557774e-13, 2.70558725e-12, 1.12880502e-11,\n",
              "       4.52118024e-11, 1.73844203e-10, 6.41717835e-10, 2.27406833e-09,\n",
              "       7.73639102e-09, 2.52667171e-08, 7.92199799e-08, 2.38449349e-07,\n",
              "       6.89021948e-07, 1.91137312e-06, 5.09018302e-06, 1.30135811e-05,\n",
              "       3.19400618e-05, 7.52575687e-05, 1.70231576e-04, 3.69662637e-04,\n",
              "       7.70631042e-04, 1.54227900e-03, 2.96315857e-03, 5.46540492e-03,\n",
              "       9.67754721e-03, 1.64506763e-02, 2.68458845e-02, 4.20578610e-02,\n",
              "       6.32546052e-02, 9.13298239e-02, 1.26592680e-01, 1.68453513e-01,\n",
              "       2.15192461e-01, 2.63906165e-01, 3.10704486e-01, 3.51172916e-01,\n",
              "       3.81039507e-01, 3.96912251e-01, 3.96912251e-01, 3.81039507e-01,\n",
              "       3.51172916e-01, 3.10704486e-01, 2.63906165e-01, 2.15192461e-01,\n",
              "       1.68453513e-01, 1.26592680e-01, 9.13298239e-02, 6.32546052e-02,\n",
              "       4.20578610e-02, 2.68458845e-02, 1.64506763e-02, 9.67754721e-03,\n",
              "       5.46540492e-03, 2.96315857e-03, 1.54227900e-03, 7.70631042e-04,\n",
              "       3.69662637e-04, 1.70231576e-04, 7.52575687e-05, 3.19400618e-05,\n",
              "       1.30135811e-05, 5.09018302e-06, 1.91137312e-06, 6.89021948e-07,\n",
              "       2.38449349e-07, 7.92199799e-08, 2.52667171e-08, 7.73639102e-09,\n",
              "       2.27406833e-09, 6.41717835e-10, 1.73844203e-10, 4.52118024e-11,\n",
              "       1.12880502e-11, 2.70558725e-12, 6.22557774e-13, 1.37522348e-13,\n",
              "       2.91636853e-14, 5.93727315e-15, 1.16039850e-15, 2.17722239e-16,\n",
              "       3.92169602e-17, 6.78141882e-18, 1.12575195e-18, 1.79407401e-19,\n",
              "       2.74481769e-20, 4.03145816e-21, 5.68442201e-22, 7.69459863e-23])"
            ]
          },
          "metadata": {},
          "execution_count": 94
        }
      ]
    },
    {
      "cell_type": "code",
      "metadata": {
        "id": "ofuoM9foNdbk"
      },
      "source": [
        "arr = np.reshape(arr, (1, arr.shape[0]))"
      ],
      "execution_count": null,
      "outputs": []
    },
    {
      "cell_type": "code",
      "metadata": {
        "colab": {
          "base_uri": "https://localhost:8080/"
        },
        "id": "OIPo6exiMq7c",
        "outputId": "82227e44-0c1d-41e3-b7cf-dfc40d44728f"
      },
      "source": [
        "np.concatenate((arr, arr), axis = 0)"
      ],
      "execution_count": 85,
      "outputs": [
        {
          "output_type": "execute_result",
          "data": {
            "text/plain": [
              "array([[7.69459863e-23, 5.68442201e-22, 4.03145816e-21, 2.74481769e-20,\n",
              "        1.79407401e-19, 1.12575195e-18, 6.78141882e-18, 3.92169602e-17,\n",
              "        2.17722239e-16, 1.16039850e-15, 5.93727315e-15, 2.91636853e-14,\n",
              "        1.37522348e-13, 6.22557774e-13, 2.70558725e-12, 1.12880502e-11,\n",
              "        4.52118024e-11, 1.73844203e-10, 6.41717835e-10, 2.27406833e-09,\n",
              "        7.73639102e-09, 2.52667171e-08, 7.92199799e-08, 2.38449349e-07,\n",
              "        6.89021948e-07, 1.91137312e-06, 5.09018302e-06, 1.30135811e-05,\n",
              "        3.19400618e-05, 7.52575687e-05, 1.70231576e-04, 3.69662637e-04,\n",
              "        7.70631042e-04, 1.54227900e-03, 2.96315857e-03, 5.46540492e-03,\n",
              "        9.67754721e-03, 1.64506763e-02, 2.68458845e-02, 4.20578610e-02,\n",
              "        6.32546052e-02, 9.13298239e-02, 1.26592680e-01, 1.68453513e-01,\n",
              "        2.15192461e-01, 2.63906165e-01, 3.10704486e-01, 3.51172916e-01,\n",
              "        3.81039507e-01, 3.96912251e-01, 3.96912251e-01, 3.81039507e-01,\n",
              "        3.51172916e-01, 3.10704486e-01, 2.63906165e-01, 2.15192461e-01,\n",
              "        1.68453513e-01, 1.26592680e-01, 9.13298239e-02, 6.32546052e-02,\n",
              "        4.20578610e-02, 2.68458845e-02, 1.64506763e-02, 9.67754721e-03,\n",
              "        5.46540492e-03, 2.96315857e-03, 1.54227900e-03, 7.70631042e-04,\n",
              "        3.69662637e-04, 1.70231576e-04, 7.52575687e-05, 3.19400618e-05,\n",
              "        1.30135811e-05, 5.09018302e-06, 1.91137312e-06, 6.89021948e-07,\n",
              "        2.38449349e-07, 7.92199799e-08, 2.52667171e-08, 7.73639102e-09,\n",
              "        2.27406833e-09, 6.41717835e-10, 1.73844203e-10, 4.52118024e-11,\n",
              "        1.12880502e-11, 2.70558725e-12, 6.22557774e-13, 1.37522348e-13,\n",
              "        2.91636853e-14, 5.93727315e-15, 1.16039850e-15, 2.17722239e-16,\n",
              "        3.92169602e-17, 6.78141882e-18, 1.12575195e-18, 1.79407401e-19,\n",
              "        2.74481769e-20, 4.03145816e-21, 5.68442201e-22, 7.69459863e-23],\n",
              "       [7.69459863e-23, 5.68442201e-22, 4.03145816e-21, 2.74481769e-20,\n",
              "        1.79407401e-19, 1.12575195e-18, 6.78141882e-18, 3.92169602e-17,\n",
              "        2.17722239e-16, 1.16039850e-15, 5.93727315e-15, 2.91636853e-14,\n",
              "        1.37522348e-13, 6.22557774e-13, 2.70558725e-12, 1.12880502e-11,\n",
              "        4.52118024e-11, 1.73844203e-10, 6.41717835e-10, 2.27406833e-09,\n",
              "        7.73639102e-09, 2.52667171e-08, 7.92199799e-08, 2.38449349e-07,\n",
              "        6.89021948e-07, 1.91137312e-06, 5.09018302e-06, 1.30135811e-05,\n",
              "        3.19400618e-05, 7.52575687e-05, 1.70231576e-04, 3.69662637e-04,\n",
              "        7.70631042e-04, 1.54227900e-03, 2.96315857e-03, 5.46540492e-03,\n",
              "        9.67754721e-03, 1.64506763e-02, 2.68458845e-02, 4.20578610e-02,\n",
              "        6.32546052e-02, 9.13298239e-02, 1.26592680e-01, 1.68453513e-01,\n",
              "        2.15192461e-01, 2.63906165e-01, 3.10704486e-01, 3.51172916e-01,\n",
              "        3.81039507e-01, 3.96912251e-01, 3.96912251e-01, 3.81039507e-01,\n",
              "        3.51172916e-01, 3.10704486e-01, 2.63906165e-01, 2.15192461e-01,\n",
              "        1.68453513e-01, 1.26592680e-01, 9.13298239e-02, 6.32546052e-02,\n",
              "        4.20578610e-02, 2.68458845e-02, 1.64506763e-02, 9.67754721e-03,\n",
              "        5.46540492e-03, 2.96315857e-03, 1.54227900e-03, 7.70631042e-04,\n",
              "        3.69662637e-04, 1.70231576e-04, 7.52575687e-05, 3.19400618e-05,\n",
              "        1.30135811e-05, 5.09018302e-06, 1.91137312e-06, 6.89021948e-07,\n",
              "        2.38449349e-07, 7.92199799e-08, 2.52667171e-08, 7.73639102e-09,\n",
              "        2.27406833e-09, 6.41717835e-10, 1.73844203e-10, 4.52118024e-11,\n",
              "        1.12880502e-11, 2.70558725e-12, 6.22557774e-13, 1.37522348e-13,\n",
              "        2.91636853e-14, 5.93727315e-15, 1.16039850e-15, 2.17722239e-16,\n",
              "        3.92169602e-17, 6.78141882e-18, 1.12575195e-18, 1.79407401e-19,\n",
              "        2.74481769e-20, 4.03145816e-21, 5.68442201e-22, 7.69459863e-23]])"
            ]
          },
          "metadata": {},
          "execution_count": 85
        }
      ]
    },
    {
      "cell_type": "code",
      "metadata": {
        "id": "s6jYpr9-P6nQ"
      },
      "source": [
        ""
      ],
      "execution_count": null,
      "outputs": []
    },
    {
      "cell_type": "markdown",
      "metadata": {
        "id": "gzGY-5OaUNzK"
      },
      "source": [
        "Then, we will sample: \n",
        "$\n",
        "X \\sim N(\\mu_{t},\\sigma_{t}^2) \\\\\n",
        "$"
      ]
    },
    {
      "cell_type": "code",
      "metadata": {
        "id": "arZNvtb_LY5l"
      },
      "source": [
        "def generate_data(mu_data, sigma_data):\n",
        "    x = np.linspace(-10,10,100)\n",
        "    data = norm.pdf(x, loc = mu_data[0], scale = sigma_data[0])\n",
        "    data = np.reshape(data, (1, data.shape[0]))\n",
        "    for i in range(1, mu_data.shape[0]):\n",
        "        data1 = norm.pdf(x, loc = mu_data[i], scale=sigma_data[i])\n",
        "        data1 = np.reshape(data1, (1, data1.shape[0]))\n",
        "        data = np.concatenate((data, data1), axis=0)\n",
        "    \n",
        "    return data"
      ],
      "execution_count": 118,
      "outputs": []
    },
    {
      "cell_type": "code",
      "metadata": {
        "colab": {
          "base_uri": "https://localhost:8080/",
          "height": 465
        },
        "id": "Vu1L-290P7VB",
        "outputId": "67c2c1ac-b752-4767-f16c-df1f5634535c"
      },
      "source": [
        "pd.DataFrame(data)"
      ],
      "execution_count": 119,
      "outputs": [
        {
          "output_type": "execute_result",
          "data": {
            "text/html": [
              "<div>\n",
              "<style scoped>\n",
              "    .dataframe tbody tr th:only-of-type {\n",
              "        vertical-align: middle;\n",
              "    }\n",
              "\n",
              "    .dataframe tbody tr th {\n",
              "        vertical-align: top;\n",
              "    }\n",
              "\n",
              "    .dataframe thead th {\n",
              "        text-align: right;\n",
              "    }\n",
              "</style>\n",
              "<table border=\"1\" class=\"dataframe\">\n",
              "  <thead>\n",
              "    <tr style=\"text-align: right;\">\n",
              "      <th></th>\n",
              "      <th>0</th>\n",
              "      <th>1</th>\n",
              "      <th>2</th>\n",
              "      <th>3</th>\n",
              "      <th>4</th>\n",
              "      <th>5</th>\n",
              "      <th>6</th>\n",
              "      <th>7</th>\n",
              "      <th>8</th>\n",
              "      <th>9</th>\n",
              "      <th>10</th>\n",
              "      <th>11</th>\n",
              "      <th>12</th>\n",
              "      <th>13</th>\n",
              "      <th>14</th>\n",
              "      <th>15</th>\n",
              "      <th>16</th>\n",
              "      <th>17</th>\n",
              "      <th>18</th>\n",
              "      <th>19</th>\n",
              "      <th>20</th>\n",
              "      <th>21</th>\n",
              "      <th>22</th>\n",
              "      <th>23</th>\n",
              "      <th>24</th>\n",
              "      <th>25</th>\n",
              "      <th>26</th>\n",
              "      <th>27</th>\n",
              "      <th>28</th>\n",
              "      <th>29</th>\n",
              "      <th>30</th>\n",
              "      <th>31</th>\n",
              "      <th>32</th>\n",
              "      <th>33</th>\n",
              "      <th>34</th>\n",
              "      <th>35</th>\n",
              "      <th>36</th>\n",
              "      <th>37</th>\n",
              "      <th>38</th>\n",
              "      <th>39</th>\n",
              "      <th>...</th>\n",
              "      <th>60</th>\n",
              "      <th>61</th>\n",
              "      <th>62</th>\n",
              "      <th>63</th>\n",
              "      <th>64</th>\n",
              "      <th>65</th>\n",
              "      <th>66</th>\n",
              "      <th>67</th>\n",
              "      <th>68</th>\n",
              "      <th>69</th>\n",
              "      <th>70</th>\n",
              "      <th>71</th>\n",
              "      <th>72</th>\n",
              "      <th>73</th>\n",
              "      <th>74</th>\n",
              "      <th>75</th>\n",
              "      <th>76</th>\n",
              "      <th>77</th>\n",
              "      <th>78</th>\n",
              "      <th>79</th>\n",
              "      <th>80</th>\n",
              "      <th>81</th>\n",
              "      <th>82</th>\n",
              "      <th>83</th>\n",
              "      <th>84</th>\n",
              "      <th>85</th>\n",
              "      <th>86</th>\n",
              "      <th>87</th>\n",
              "      <th>88</th>\n",
              "      <th>89</th>\n",
              "      <th>90</th>\n",
              "      <th>91</th>\n",
              "      <th>92</th>\n",
              "      <th>93</th>\n",
              "      <th>94</th>\n",
              "      <th>95</th>\n",
              "      <th>96</th>\n",
              "      <th>97</th>\n",
              "      <th>98</th>\n",
              "      <th>99</th>\n",
              "    </tr>\n",
              "  </thead>\n",
              "  <tbody>\n",
              "    <tr>\n",
              "      <th>0</th>\n",
              "      <td>7.694599e-23</td>\n",
              "      <td>5.684422e-22</td>\n",
              "      <td>4.031458e-21</td>\n",
              "      <td>2.744818e-20</td>\n",
              "      <td>1.794074e-19</td>\n",
              "      <td>1.125752e-18</td>\n",
              "      <td>6.781419e-18</td>\n",
              "      <td>3.921696e-17</td>\n",
              "      <td>2.177222e-16</td>\n",
              "      <td>1.160399e-15</td>\n",
              "      <td>5.937273e-15</td>\n",
              "      <td>2.916369e-14</td>\n",
              "      <td>1.375223e-13</td>\n",
              "      <td>6.225578e-13</td>\n",
              "      <td>2.705587e-12</td>\n",
              "      <td>1.128805e-11</td>\n",
              "      <td>4.521180e-11</td>\n",
              "      <td>1.738442e-10</td>\n",
              "      <td>6.417178e-10</td>\n",
              "      <td>2.274068e-09</td>\n",
              "      <td>7.736391e-09</td>\n",
              "      <td>2.526672e-08</td>\n",
              "      <td>7.921998e-08</td>\n",
              "      <td>2.384493e-07</td>\n",
              "      <td>6.890219e-07</td>\n",
              "      <td>1.911373e-06</td>\n",
              "      <td>5.090183e-06</td>\n",
              "      <td>1.301358e-05</td>\n",
              "      <td>3.194006e-05</td>\n",
              "      <td>7.525757e-05</td>\n",
              "      <td>1.702316e-04</td>\n",
              "      <td>3.696626e-04</td>\n",
              "      <td>7.706310e-04</td>\n",
              "      <td>1.542279e-03</td>\n",
              "      <td>2.963159e-03</td>\n",
              "      <td>5.465405e-03</td>\n",
              "      <td>9.677547e-03</td>\n",
              "      <td>1.645068e-02</td>\n",
              "      <td>2.684588e-02</td>\n",
              "      <td>4.205786e-02</td>\n",
              "      <td>...</td>\n",
              "      <td>4.205786e-02</td>\n",
              "      <td>2.684588e-02</td>\n",
              "      <td>1.645068e-02</td>\n",
              "      <td>9.677547e-03</td>\n",
              "      <td>5.465405e-03</td>\n",
              "      <td>2.963159e-03</td>\n",
              "      <td>1.542279e-03</td>\n",
              "      <td>7.706310e-04</td>\n",
              "      <td>3.696626e-04</td>\n",
              "      <td>1.702316e-04</td>\n",
              "      <td>7.525757e-05</td>\n",
              "      <td>3.194006e-05</td>\n",
              "      <td>1.301358e-05</td>\n",
              "      <td>5.090183e-06</td>\n",
              "      <td>1.911373e-06</td>\n",
              "      <td>6.890219e-07</td>\n",
              "      <td>2.384493e-07</td>\n",
              "      <td>7.921998e-08</td>\n",
              "      <td>2.526672e-08</td>\n",
              "      <td>7.736391e-09</td>\n",
              "      <td>2.274068e-09</td>\n",
              "      <td>6.417178e-10</td>\n",
              "      <td>1.738442e-10</td>\n",
              "      <td>4.521180e-11</td>\n",
              "      <td>1.128805e-11</td>\n",
              "      <td>2.705587e-12</td>\n",
              "      <td>6.225578e-13</td>\n",
              "      <td>1.375223e-13</td>\n",
              "      <td>2.916369e-14</td>\n",
              "      <td>5.937273e-15</td>\n",
              "      <td>1.160399e-15</td>\n",
              "      <td>2.177222e-16</td>\n",
              "      <td>3.921696e-17</td>\n",
              "      <td>6.781419e-18</td>\n",
              "      <td>1.125752e-18</td>\n",
              "      <td>1.794074e-19</td>\n",
              "      <td>2.744818e-20</td>\n",
              "      <td>4.031458e-21</td>\n",
              "      <td>5.684422e-22</td>\n",
              "      <td>7.694599e-23</td>\n",
              "    </tr>\n",
              "    <tr>\n",
              "      <th>1</th>\n",
              "      <td>0.000000e+00</td>\n",
              "      <td>0.000000e+00</td>\n",
              "      <td>0.000000e+00</td>\n",
              "      <td>0.000000e+00</td>\n",
              "      <td>0.000000e+00</td>\n",
              "      <td>0.000000e+00</td>\n",
              "      <td>0.000000e+00</td>\n",
              "      <td>0.000000e+00</td>\n",
              "      <td>0.000000e+00</td>\n",
              "      <td>0.000000e+00</td>\n",
              "      <td>0.000000e+00</td>\n",
              "      <td>0.000000e+00</td>\n",
              "      <td>0.000000e+00</td>\n",
              "      <td>0.000000e+00</td>\n",
              "      <td>0.000000e+00</td>\n",
              "      <td>0.000000e+00</td>\n",
              "      <td>0.000000e+00</td>\n",
              "      <td>0.000000e+00</td>\n",
              "      <td>0.000000e+00</td>\n",
              "      <td>0.000000e+00</td>\n",
              "      <td>0.000000e+00</td>\n",
              "      <td>0.000000e+00</td>\n",
              "      <td>0.000000e+00</td>\n",
              "      <td>0.000000e+00</td>\n",
              "      <td>0.000000e+00</td>\n",
              "      <td>0.000000e+00</td>\n",
              "      <td>0.000000e+00</td>\n",
              "      <td>0.000000e+00</td>\n",
              "      <td>0.000000e+00</td>\n",
              "      <td>0.000000e+00</td>\n",
              "      <td>0.000000e+00</td>\n",
              "      <td>0.000000e+00</td>\n",
              "      <td>0.000000e+00</td>\n",
              "      <td>0.000000e+00</td>\n",
              "      <td>0.000000e+00</td>\n",
              "      <td>0.000000e+00</td>\n",
              "      <td>0.000000e+00</td>\n",
              "      <td>0.000000e+00</td>\n",
              "      <td>0.000000e+00</td>\n",
              "      <td>0.000000e+00</td>\n",
              "      <td>...</td>\n",
              "      <td>0.000000e+00</td>\n",
              "      <td>0.000000e+00</td>\n",
              "      <td>0.000000e+00</td>\n",
              "      <td>0.000000e+00</td>\n",
              "      <td>0.000000e+00</td>\n",
              "      <td>0.000000e+00</td>\n",
              "      <td>0.000000e+00</td>\n",
              "      <td>0.000000e+00</td>\n",
              "      <td>0.000000e+00</td>\n",
              "      <td>0.000000e+00</td>\n",
              "      <td>0.000000e+00</td>\n",
              "      <td>0.000000e+00</td>\n",
              "      <td>0.000000e+00</td>\n",
              "      <td>0.000000e+00</td>\n",
              "      <td>0.000000e+00</td>\n",
              "      <td>0.000000e+00</td>\n",
              "      <td>0.000000e+00</td>\n",
              "      <td>0.000000e+00</td>\n",
              "      <td>0.000000e+00</td>\n",
              "      <td>0.000000e+00</td>\n",
              "      <td>0.000000e+00</td>\n",
              "      <td>0.000000e+00</td>\n",
              "      <td>0.000000e+00</td>\n",
              "      <td>0.000000e+00</td>\n",
              "      <td>0.000000e+00</td>\n",
              "      <td>0.000000e+00</td>\n",
              "      <td>0.000000e+00</td>\n",
              "      <td>0.000000e+00</td>\n",
              "      <td>0.000000e+00</td>\n",
              "      <td>0.000000e+00</td>\n",
              "      <td>0.000000e+00</td>\n",
              "      <td>0.000000e+00</td>\n",
              "      <td>0.000000e+00</td>\n",
              "      <td>0.000000e+00</td>\n",
              "      <td>0.000000e+00</td>\n",
              "      <td>0.000000e+00</td>\n",
              "      <td>0.000000e+00</td>\n",
              "      <td>0.000000e+00</td>\n",
              "      <td>0.000000e+00</td>\n",
              "      <td>0.000000e+00</td>\n",
              "    </tr>\n",
              "    <tr>\n",
              "      <th>2</th>\n",
              "      <td>0.000000e+00</td>\n",
              "      <td>0.000000e+00</td>\n",
              "      <td>0.000000e+00</td>\n",
              "      <td>0.000000e+00</td>\n",
              "      <td>0.000000e+00</td>\n",
              "      <td>0.000000e+00</td>\n",
              "      <td>0.000000e+00</td>\n",
              "      <td>0.000000e+00</td>\n",
              "      <td>0.000000e+00</td>\n",
              "      <td>0.000000e+00</td>\n",
              "      <td>0.000000e+00</td>\n",
              "      <td>0.000000e+00</td>\n",
              "      <td>0.000000e+00</td>\n",
              "      <td>0.000000e+00</td>\n",
              "      <td>0.000000e+00</td>\n",
              "      <td>0.000000e+00</td>\n",
              "      <td>0.000000e+00</td>\n",
              "      <td>0.000000e+00</td>\n",
              "      <td>0.000000e+00</td>\n",
              "      <td>0.000000e+00</td>\n",
              "      <td>0.000000e+00</td>\n",
              "      <td>0.000000e+00</td>\n",
              "      <td>0.000000e+00</td>\n",
              "      <td>0.000000e+00</td>\n",
              "      <td>0.000000e+00</td>\n",
              "      <td>0.000000e+00</td>\n",
              "      <td>0.000000e+00</td>\n",
              "      <td>0.000000e+00</td>\n",
              "      <td>0.000000e+00</td>\n",
              "      <td>0.000000e+00</td>\n",
              "      <td>0.000000e+00</td>\n",
              "      <td>0.000000e+00</td>\n",
              "      <td>0.000000e+00</td>\n",
              "      <td>0.000000e+00</td>\n",
              "      <td>0.000000e+00</td>\n",
              "      <td>0.000000e+00</td>\n",
              "      <td>0.000000e+00</td>\n",
              "      <td>0.000000e+00</td>\n",
              "      <td>0.000000e+00</td>\n",
              "      <td>0.000000e+00</td>\n",
              "      <td>...</td>\n",
              "      <td>0.000000e+00</td>\n",
              "      <td>0.000000e+00</td>\n",
              "      <td>0.000000e+00</td>\n",
              "      <td>0.000000e+00</td>\n",
              "      <td>0.000000e+00</td>\n",
              "      <td>0.000000e+00</td>\n",
              "      <td>0.000000e+00</td>\n",
              "      <td>0.000000e+00</td>\n",
              "      <td>0.000000e+00</td>\n",
              "      <td>0.000000e+00</td>\n",
              "      <td>0.000000e+00</td>\n",
              "      <td>0.000000e+00</td>\n",
              "      <td>0.000000e+00</td>\n",
              "      <td>0.000000e+00</td>\n",
              "      <td>0.000000e+00</td>\n",
              "      <td>0.000000e+00</td>\n",
              "      <td>0.000000e+00</td>\n",
              "      <td>0.000000e+00</td>\n",
              "      <td>0.000000e+00</td>\n",
              "      <td>0.000000e+00</td>\n",
              "      <td>0.000000e+00</td>\n",
              "      <td>0.000000e+00</td>\n",
              "      <td>0.000000e+00</td>\n",
              "      <td>0.000000e+00</td>\n",
              "      <td>0.000000e+00</td>\n",
              "      <td>0.000000e+00</td>\n",
              "      <td>0.000000e+00</td>\n",
              "      <td>0.000000e+00</td>\n",
              "      <td>0.000000e+00</td>\n",
              "      <td>0.000000e+00</td>\n",
              "      <td>0.000000e+00</td>\n",
              "      <td>0.000000e+00</td>\n",
              "      <td>0.000000e+00</td>\n",
              "      <td>0.000000e+00</td>\n",
              "      <td>0.000000e+00</td>\n",
              "      <td>0.000000e+00</td>\n",
              "      <td>0.000000e+00</td>\n",
              "      <td>0.000000e+00</td>\n",
              "      <td>0.000000e+00</td>\n",
              "      <td>0.000000e+00</td>\n",
              "    </tr>\n",
              "    <tr>\n",
              "      <th>3</th>\n",
              "      <td>2.032605e-254</td>\n",
              "      <td>4.707463e-253</td>\n",
              "      <td>1.081009e-251</td>\n",
              "      <td>2.461389e-250</td>\n",
              "      <td>5.556992e-249</td>\n",
              "      <td>1.243964e-247</td>\n",
              "      <td>2.761113e-246</td>\n",
              "      <td>6.076719e-245</td>\n",
              "      <td>1.326058e-243</td>\n",
              "      <td>2.869225e-242</td>\n",
              "      <td>6.155668e-241</td>\n",
              "      <td>1.309466e-239</td>\n",
              "      <td>2.761988e-238</td>\n",
              "      <td>5.776407e-237</td>\n",
              "      <td>1.197850e-235</td>\n",
              "      <td>2.462949e-234</td>\n",
              "      <td>5.021310e-233</td>\n",
              "      <td>1.015049e-231</td>\n",
              "      <td>2.034538e-230</td>\n",
              "      <td>4.043457e-229</td>\n",
              "      <td>7.967984e-228</td>\n",
              "      <td>1.556871e-226</td>\n",
              "      <td>3.016236e-225</td>\n",
              "      <td>5.794106e-224</td>\n",
              "      <td>1.103611e-222</td>\n",
              "      <td>2.084272e-221</td>\n",
              "      <td>3.903022e-220</td>\n",
              "      <td>7.246966e-219</td>\n",
              "      <td>1.334197e-217</td>\n",
              "      <td>2.435523e-216</td>\n",
              "      <td>4.408318e-215</td>\n",
              "      <td>7.911561e-214</td>\n",
              "      <td>1.407862e-212</td>\n",
              "      <td>2.484084e-211</td>\n",
              "      <td>4.345913e-210</td>\n",
              "      <td>7.538837e-209</td>\n",
              "      <td>1.296690e-207</td>\n",
              "      <td>2.211447e-206</td>\n",
              "      <td>3.739602e-205</td>\n",
              "      <td>6.270219e-204</td>\n",
              "      <td>...</td>\n",
              "      <td>4.551488e-179</td>\n",
              "      <td>6.329917e-178</td>\n",
              "      <td>8.728731e-177</td>\n",
              "      <td>1.193473e-175</td>\n",
              "      <td>1.618016e-174</td>\n",
              "      <td>2.175011e-173</td>\n",
              "      <td>2.899003e-172</td>\n",
              "      <td>3.831285e-171</td>\n",
              "      <td>5.020519e-170</td>\n",
              "      <td>6.523209e-169</td>\n",
              "      <td>8.403932e-168</td>\n",
              "      <td>1.073525e-166</td>\n",
              "      <td>1.359723e-165</td>\n",
              "      <td>1.707644e-164</td>\n",
              "      <td>2.126437e-163</td>\n",
              "      <td>2.625526e-162</td>\n",
              "      <td>3.214316e-161</td>\n",
              "      <td>3.901839e-160</td>\n",
              "      <td>4.696331e-159</td>\n",
              "      <td>5.604753e-158</td>\n",
              "      <td>6.632280e-157</td>\n",
              "      <td>7.781758e-156</td>\n",
              "      <td>9.053178e-155</td>\n",
              "      <td>1.044318e-153</td>\n",
              "      <td>1.194465e-152</td>\n",
              "      <td>1.354635e-151</td>\n",
              "      <td>1.523280e-150</td>\n",
              "      <td>1.698422e-149</td>\n",
              "      <td>1.877673e-148</td>\n",
              "      <td>2.058273e-147</td>\n",
              "      <td>2.237146e-146</td>\n",
              "      <td>2.410984e-145</td>\n",
              "      <td>2.576338e-144</td>\n",
              "      <td>2.729731e-143</td>\n",
              "      <td>2.867776e-142</td>\n",
              "      <td>2.987303e-141</td>\n",
              "      <td>3.085473e-140</td>\n",
              "      <td>3.159896e-139</td>\n",
              "      <td>3.208724e-138</td>\n",
              "      <td>3.230728e-137</td>\n",
              "    </tr>\n",
              "    <tr>\n",
              "      <th>4</th>\n",
              "      <td>5.283609e-132</td>\n",
              "      <td>2.686803e-131</td>\n",
              "      <td>1.360263e-130</td>\n",
              "      <td>6.856329e-130</td>\n",
              "      <td>3.440665e-129</td>\n",
              "      <td>1.718997e-128</td>\n",
              "      <td>8.550465e-128</td>\n",
              "      <td>4.234345e-127</td>\n",
              "      <td>2.087683e-126</td>\n",
              "      <td>1.024766e-125</td>\n",
              "      <td>5.008031e-125</td>\n",
              "      <td>2.436638e-124</td>\n",
              "      <td>1.180313e-123</td>\n",
              "      <td>5.692262e-123</td>\n",
              "      <td>2.733095e-122</td>\n",
              "      <td>1.306491e-121</td>\n",
              "      <td>6.217845e-121</td>\n",
              "      <td>2.946153e-120</td>\n",
              "      <td>1.389801e-119</td>\n",
              "      <td>6.527275e-119</td>\n",
              "      <td>3.052060e-118</td>\n",
              "      <td>1.420810e-117</td>\n",
              "      <td>6.585080e-117</td>\n",
              "      <td>3.038560e-116</td>\n",
              "      <td>1.395907e-115</td>\n",
              "      <td>6.384505e-115</td>\n",
              "      <td>2.907233e-114</td>\n",
              "      <td>1.317996e-113</td>\n",
              "      <td>5.948816e-113</td>\n",
              "      <td>2.673183e-112</td>\n",
              "      <td>1.195938e-111</td>\n",
              "      <td>5.326855e-111</td>\n",
              "      <td>2.362190e-110</td>\n",
              "      <td>1.042895e-109</td>\n",
              "      <td>4.584038e-109</td>\n",
              "      <td>2.006032e-108</td>\n",
              "      <td>8.739958e-108</td>\n",
              "      <td>3.791078e-107</td>\n",
              "      <td>1.637186e-106</td>\n",
              "      <td>7.039069e-106</td>\n",
              "      <td>...</td>\n",
              "      <td>5.083868e-93</td>\n",
              "      <td>1.983413e-92</td>\n",
              "      <td>7.703960e-92</td>\n",
              "      <td>2.979180e-91</td>\n",
              "      <td>1.146995e-90</td>\n",
              "      <td>4.396508e-90</td>\n",
              "      <td>1.677785e-89</td>\n",
              "      <td>6.374506e-89</td>\n",
              "      <td>2.411231e-88</td>\n",
              "      <td>9.080564e-88</td>\n",
              "      <td>3.404621e-87</td>\n",
              "      <td>1.270886e-86</td>\n",
              "      <td>4.723093e-86</td>\n",
              "      <td>1.747544e-85</td>\n",
              "      <td>6.437419e-85</td>\n",
              "      <td>2.360898e-84</td>\n",
              "      <td>8.620344e-84</td>\n",
              "      <td>3.133675e-83</td>\n",
              "      <td>1.134136e-82</td>\n",
              "      <td>4.086562e-82</td>\n",
              "      <td>1.465997e-81</td>\n",
              "      <td>5.235883e-81</td>\n",
              "      <td>1.861781e-80</td>\n",
              "      <td>6.590970e-80</td>\n",
              "      <td>2.323014e-79</td>\n",
              "      <td>8.151478e-79</td>\n",
              "      <td>2.847755e-78</td>\n",
              "      <td>9.904919e-78</td>\n",
              "      <td>3.429897e-77</td>\n",
              "      <td>1.182478e-76</td>\n",
              "      <td>4.058701e-76</td>\n",
              "      <td>1.386957e-75</td>\n",
              "      <td>4.718681e-75</td>\n",
              "      <td>1.598307e-74</td>\n",
              "      <td>5.389913e-74</td>\n",
              "      <td>1.809611e-73</td>\n",
              "      <td>6.048817e-73</td>\n",
              "      <td>2.012972e-72</td>\n",
              "      <td>6.669400e-72</td>\n",
              "      <td>2.199975e-71</td>\n",
              "    </tr>\n",
              "    <tr>\n",
              "      <th>...</th>\n",
              "      <td>...</td>\n",
              "      <td>...</td>\n",
              "      <td>...</td>\n",
              "      <td>...</td>\n",
              "      <td>...</td>\n",
              "      <td>...</td>\n",
              "      <td>...</td>\n",
              "      <td>...</td>\n",
              "      <td>...</td>\n",
              "      <td>...</td>\n",
              "      <td>...</td>\n",
              "      <td>...</td>\n",
              "      <td>...</td>\n",
              "      <td>...</td>\n",
              "      <td>...</td>\n",
              "      <td>...</td>\n",
              "      <td>...</td>\n",
              "      <td>...</td>\n",
              "      <td>...</td>\n",
              "      <td>...</td>\n",
              "      <td>...</td>\n",
              "      <td>...</td>\n",
              "      <td>...</td>\n",
              "      <td>...</td>\n",
              "      <td>...</td>\n",
              "      <td>...</td>\n",
              "      <td>...</td>\n",
              "      <td>...</td>\n",
              "      <td>...</td>\n",
              "      <td>...</td>\n",
              "      <td>...</td>\n",
              "      <td>...</td>\n",
              "      <td>...</td>\n",
              "      <td>...</td>\n",
              "      <td>...</td>\n",
              "      <td>...</td>\n",
              "      <td>...</td>\n",
              "      <td>...</td>\n",
              "      <td>...</td>\n",
              "      <td>...</td>\n",
              "      <td>...</td>\n",
              "      <td>...</td>\n",
              "      <td>...</td>\n",
              "      <td>...</td>\n",
              "      <td>...</td>\n",
              "      <td>...</td>\n",
              "      <td>...</td>\n",
              "      <td>...</td>\n",
              "      <td>...</td>\n",
              "      <td>...</td>\n",
              "      <td>...</td>\n",
              "      <td>...</td>\n",
              "      <td>...</td>\n",
              "      <td>...</td>\n",
              "      <td>...</td>\n",
              "      <td>...</td>\n",
              "      <td>...</td>\n",
              "      <td>...</td>\n",
              "      <td>...</td>\n",
              "      <td>...</td>\n",
              "      <td>...</td>\n",
              "      <td>...</td>\n",
              "      <td>...</td>\n",
              "      <td>...</td>\n",
              "      <td>...</td>\n",
              "      <td>...</td>\n",
              "      <td>...</td>\n",
              "      <td>...</td>\n",
              "      <td>...</td>\n",
              "      <td>...</td>\n",
              "      <td>...</td>\n",
              "      <td>...</td>\n",
              "      <td>...</td>\n",
              "      <td>...</td>\n",
              "      <td>...</td>\n",
              "      <td>...</td>\n",
              "      <td>...</td>\n",
              "      <td>...</td>\n",
              "      <td>...</td>\n",
              "      <td>...</td>\n",
              "      <td>...</td>\n",
              "    </tr>\n",
              "    <tr>\n",
              "      <th>96</th>\n",
              "      <td>3.356452e-03</td>\n",
              "      <td>3.361219e-03</td>\n",
              "      <td>3.365977e-03</td>\n",
              "      <td>3.370728e-03</td>\n",
              "      <td>3.375469e-03</td>\n",
              "      <td>3.380202e-03</td>\n",
              "      <td>3.384927e-03</td>\n",
              "      <td>3.389642e-03</td>\n",
              "      <td>3.394349e-03</td>\n",
              "      <td>3.399047e-03</td>\n",
              "      <td>3.403736e-03</td>\n",
              "      <td>3.408416e-03</td>\n",
              "      <td>3.413088e-03</td>\n",
              "      <td>3.417750e-03</td>\n",
              "      <td>3.422403e-03</td>\n",
              "      <td>3.427047e-03</td>\n",
              "      <td>3.431682e-03</td>\n",
              "      <td>3.436307e-03</td>\n",
              "      <td>3.440923e-03</td>\n",
              "      <td>3.445530e-03</td>\n",
              "      <td>3.450128e-03</td>\n",
              "      <td>3.454716e-03</td>\n",
              "      <td>3.459294e-03</td>\n",
              "      <td>3.463863e-03</td>\n",
              "      <td>3.468422e-03</td>\n",
              "      <td>3.472971e-03</td>\n",
              "      <td>3.477511e-03</td>\n",
              "      <td>3.482041e-03</td>\n",
              "      <td>3.486561e-03</td>\n",
              "      <td>3.491071e-03</td>\n",
              "      <td>3.495572e-03</td>\n",
              "      <td>3.500062e-03</td>\n",
              "      <td>3.504542e-03</td>\n",
              "      <td>3.509012e-03</td>\n",
              "      <td>3.513472e-03</td>\n",
              "      <td>3.517922e-03</td>\n",
              "      <td>3.522361e-03</td>\n",
              "      <td>3.526790e-03</td>\n",
              "      <td>3.531209e-03</td>\n",
              "      <td>3.535617e-03</td>\n",
              "      <td>...</td>\n",
              "      <td>3.625685e-03</td>\n",
              "      <td>3.629850e-03</td>\n",
              "      <td>3.634004e-03</td>\n",
              "      <td>3.638146e-03</td>\n",
              "      <td>3.642276e-03</td>\n",
              "      <td>3.646394e-03</td>\n",
              "      <td>3.650501e-03</td>\n",
              "      <td>3.654596e-03</td>\n",
              "      <td>3.658678e-03</td>\n",
              "      <td>3.662749e-03</td>\n",
              "      <td>3.666808e-03</td>\n",
              "      <td>3.670855e-03</td>\n",
              "      <td>3.674889e-03</td>\n",
              "      <td>3.678912e-03</td>\n",
              "      <td>3.682922e-03</td>\n",
              "      <td>3.686920e-03</td>\n",
              "      <td>3.690905e-03</td>\n",
              "      <td>3.694878e-03</td>\n",
              "      <td>3.698839e-03</td>\n",
              "      <td>3.702787e-03</td>\n",
              "      <td>3.706723e-03</td>\n",
              "      <td>3.710646e-03</td>\n",
              "      <td>3.714556e-03</td>\n",
              "      <td>3.718454e-03</td>\n",
              "      <td>3.722339e-03</td>\n",
              "      <td>3.726211e-03</td>\n",
              "      <td>3.730071e-03</td>\n",
              "      <td>3.733917e-03</td>\n",
              "      <td>3.737751e-03</td>\n",
              "      <td>3.741572e-03</td>\n",
              "      <td>3.745379e-03</td>\n",
              "      <td>3.749174e-03</td>\n",
              "      <td>3.752956e-03</td>\n",
              "      <td>3.756724e-03</td>\n",
              "      <td>3.760479e-03</td>\n",
              "      <td>3.764221e-03</td>\n",
              "      <td>3.767949e-03</td>\n",
              "      <td>3.771665e-03</td>\n",
              "      <td>3.775366e-03</td>\n",
              "      <td>3.779055e-03</td>\n",
              "    </tr>\n",
              "    <tr>\n",
              "      <th>97</th>\n",
              "      <td>3.311239e-03</td>\n",
              "      <td>3.315814e-03</td>\n",
              "      <td>3.320381e-03</td>\n",
              "      <td>3.324939e-03</td>\n",
              "      <td>3.329489e-03</td>\n",
              "      <td>3.334031e-03</td>\n",
              "      <td>3.338565e-03</td>\n",
              "      <td>3.343090e-03</td>\n",
              "      <td>3.347607e-03</td>\n",
              "      <td>3.352115e-03</td>\n",
              "      <td>3.356615e-03</td>\n",
              "      <td>3.361106e-03</td>\n",
              "      <td>3.365588e-03</td>\n",
              "      <td>3.370062e-03</td>\n",
              "      <td>3.374527e-03</td>\n",
              "      <td>3.378983e-03</td>\n",
              "      <td>3.383430e-03</td>\n",
              "      <td>3.387868e-03</td>\n",
              "      <td>3.392298e-03</td>\n",
              "      <td>3.396718e-03</td>\n",
              "      <td>3.401129e-03</td>\n",
              "      <td>3.405531e-03</td>\n",
              "      <td>3.409924e-03</td>\n",
              "      <td>3.414308e-03</td>\n",
              "      <td>3.418683e-03</td>\n",
              "      <td>3.423048e-03</td>\n",
              "      <td>3.427403e-03</td>\n",
              "      <td>3.431750e-03</td>\n",
              "      <td>3.436087e-03</td>\n",
              "      <td>3.440414e-03</td>\n",
              "      <td>3.444732e-03</td>\n",
              "      <td>3.449040e-03</td>\n",
              "      <td>3.453339e-03</td>\n",
              "      <td>3.457627e-03</td>\n",
              "      <td>3.461906e-03</td>\n",
              "      <td>3.466176e-03</td>\n",
              "      <td>3.470435e-03</td>\n",
              "      <td>3.474685e-03</td>\n",
              "      <td>3.478924e-03</td>\n",
              "      <td>3.483154e-03</td>\n",
              "      <td>...</td>\n",
              "      <td>3.569573e-03</td>\n",
              "      <td>3.573570e-03</td>\n",
              "      <td>3.577556e-03</td>\n",
              "      <td>3.581531e-03</td>\n",
              "      <td>3.585494e-03</td>\n",
              "      <td>3.589446e-03</td>\n",
              "      <td>3.593387e-03</td>\n",
              "      <td>3.597317e-03</td>\n",
              "      <td>3.601235e-03</td>\n",
              "      <td>3.605141e-03</td>\n",
              "      <td>3.609036e-03</td>\n",
              "      <td>3.612920e-03</td>\n",
              "      <td>3.616792e-03</td>\n",
              "      <td>3.620652e-03</td>\n",
              "      <td>3.624501e-03</td>\n",
              "      <td>3.628338e-03</td>\n",
              "      <td>3.632163e-03</td>\n",
              "      <td>3.635977e-03</td>\n",
              "      <td>3.639778e-03</td>\n",
              "      <td>3.643568e-03</td>\n",
              "      <td>3.647345e-03</td>\n",
              "      <td>3.651111e-03</td>\n",
              "      <td>3.654865e-03</td>\n",
              "      <td>3.658606e-03</td>\n",
              "      <td>3.662335e-03</td>\n",
              "      <td>3.666053e-03</td>\n",
              "      <td>3.669758e-03</td>\n",
              "      <td>3.673450e-03</td>\n",
              "      <td>3.677131e-03</td>\n",
              "      <td>3.680799e-03</td>\n",
              "      <td>3.684454e-03</td>\n",
              "      <td>3.688097e-03</td>\n",
              "      <td>3.691728e-03</td>\n",
              "      <td>3.695346e-03</td>\n",
              "      <td>3.698952e-03</td>\n",
              "      <td>3.702545e-03</td>\n",
              "      <td>3.706125e-03</td>\n",
              "      <td>3.709693e-03</td>\n",
              "      <td>3.713247e-03</td>\n",
              "      <td>3.716789e-03</td>\n",
              "    </tr>\n",
              "    <tr>\n",
              "      <th>98</th>\n",
              "      <td>3.303045e-03</td>\n",
              "      <td>3.307510e-03</td>\n",
              "      <td>3.311967e-03</td>\n",
              "      <td>3.316416e-03</td>\n",
              "      <td>3.320857e-03</td>\n",
              "      <td>3.325289e-03</td>\n",
              "      <td>3.329713e-03</td>\n",
              "      <td>3.334128e-03</td>\n",
              "      <td>3.338535e-03</td>\n",
              "      <td>3.342933e-03</td>\n",
              "      <td>3.347323e-03</td>\n",
              "      <td>3.351705e-03</td>\n",
              "      <td>3.356077e-03</td>\n",
              "      <td>3.360441e-03</td>\n",
              "      <td>3.364796e-03</td>\n",
              "      <td>3.369143e-03</td>\n",
              "      <td>3.373480e-03</td>\n",
              "      <td>3.377809e-03</td>\n",
              "      <td>3.382128e-03</td>\n",
              "      <td>3.386439e-03</td>\n",
              "      <td>3.390741e-03</td>\n",
              "      <td>3.395033e-03</td>\n",
              "      <td>3.399317e-03</td>\n",
              "      <td>3.403591e-03</td>\n",
              "      <td>3.407856e-03</td>\n",
              "      <td>3.412112e-03</td>\n",
              "      <td>3.416358e-03</td>\n",
              "      <td>3.420595e-03</td>\n",
              "      <td>3.424822e-03</td>\n",
              "      <td>3.429041e-03</td>\n",
              "      <td>3.433249e-03</td>\n",
              "      <td>3.437448e-03</td>\n",
              "      <td>3.441637e-03</td>\n",
              "      <td>3.445817e-03</td>\n",
              "      <td>3.449987e-03</td>\n",
              "      <td>3.454147e-03</td>\n",
              "      <td>3.458298e-03</td>\n",
              "      <td>3.462438e-03</td>\n",
              "      <td>3.466569e-03</td>\n",
              "      <td>3.470689e-03</td>\n",
              "      <td>...</td>\n",
              "      <td>3.554841e-03</td>\n",
              "      <td>3.558731e-03</td>\n",
              "      <td>3.562610e-03</td>\n",
              "      <td>3.566477e-03</td>\n",
              "      <td>3.570334e-03</td>\n",
              "      <td>3.574180e-03</td>\n",
              "      <td>3.578014e-03</td>\n",
              "      <td>3.581837e-03</td>\n",
              "      <td>3.585649e-03</td>\n",
              "      <td>3.589449e-03</td>\n",
              "      <td>3.593238e-03</td>\n",
              "      <td>3.597016e-03</td>\n",
              "      <td>3.600782e-03</td>\n",
              "      <td>3.604537e-03</td>\n",
              "      <td>3.608280e-03</td>\n",
              "      <td>3.612012e-03</td>\n",
              "      <td>3.615731e-03</td>\n",
              "      <td>3.619440e-03</td>\n",
              "      <td>3.623136e-03</td>\n",
              "      <td>3.626821e-03</td>\n",
              "      <td>3.630494e-03</td>\n",
              "      <td>3.634155e-03</td>\n",
              "      <td>3.637804e-03</td>\n",
              "      <td>3.641441e-03</td>\n",
              "      <td>3.645066e-03</td>\n",
              "      <td>3.648679e-03</td>\n",
              "      <td>3.652280e-03</td>\n",
              "      <td>3.655869e-03</td>\n",
              "      <td>3.659446e-03</td>\n",
              "      <td>3.663010e-03</td>\n",
              "      <td>3.666563e-03</td>\n",
              "      <td>3.670103e-03</td>\n",
              "      <td>3.673630e-03</td>\n",
              "      <td>3.677146e-03</td>\n",
              "      <td>3.680648e-03</td>\n",
              "      <td>3.684139e-03</td>\n",
              "      <td>3.687617e-03</td>\n",
              "      <td>3.691082e-03</td>\n",
              "      <td>3.694535e-03</td>\n",
              "      <td>3.697975e-03</td>\n",
              "    </tr>\n",
              "    <tr>\n",
              "      <th>99</th>\n",
              "      <td>3.294942e-03</td>\n",
              "      <td>3.299293e-03</td>\n",
              "      <td>3.303635e-03</td>\n",
              "      <td>3.307969e-03</td>\n",
              "      <td>3.312295e-03</td>\n",
              "      <td>3.316612e-03</td>\n",
              "      <td>3.320921e-03</td>\n",
              "      <td>3.325222e-03</td>\n",
              "      <td>3.329514e-03</td>\n",
              "      <td>3.333798e-03</td>\n",
              "      <td>3.338073e-03</td>\n",
              "      <td>3.342340e-03</td>\n",
              "      <td>3.346598e-03</td>\n",
              "      <td>3.350847e-03</td>\n",
              "      <td>3.355088e-03</td>\n",
              "      <td>3.359319e-03</td>\n",
              "      <td>3.363542e-03</td>\n",
              "      <td>3.367756e-03</td>\n",
              "      <td>3.371961e-03</td>\n",
              "      <td>3.376158e-03</td>\n",
              "      <td>3.380345e-03</td>\n",
              "      <td>3.384523e-03</td>\n",
              "      <td>3.388692e-03</td>\n",
              "      <td>3.392851e-03</td>\n",
              "      <td>3.397002e-03</td>\n",
              "      <td>3.401143e-03</td>\n",
              "      <td>3.405275e-03</td>\n",
              "      <td>3.409398e-03</td>\n",
              "      <td>3.413511e-03</td>\n",
              "      <td>3.417615e-03</td>\n",
              "      <td>3.421709e-03</td>\n",
              "      <td>3.425794e-03</td>\n",
              "      <td>3.429869e-03</td>\n",
              "      <td>3.433935e-03</td>\n",
              "      <td>3.437990e-03</td>\n",
              "      <td>3.442037e-03</td>\n",
              "      <td>3.446073e-03</td>\n",
              "      <td>3.450100e-03</td>\n",
              "      <td>3.454117e-03</td>\n",
              "      <td>3.458123e-03</td>\n",
              "      <td>...</td>\n",
              "      <td>3.539903e-03</td>\n",
              "      <td>3.543681e-03</td>\n",
              "      <td>3.547448e-03</td>\n",
              "      <td>3.551204e-03</td>\n",
              "      <td>3.554949e-03</td>\n",
              "      <td>3.558683e-03</td>\n",
              "      <td>3.562405e-03</td>\n",
              "      <td>3.566117e-03</td>\n",
              "      <td>3.569818e-03</td>\n",
              "      <td>3.573507e-03</td>\n",
              "      <td>3.577185e-03</td>\n",
              "      <td>3.580852e-03</td>\n",
              "      <td>3.584507e-03</td>\n",
              "      <td>3.588151e-03</td>\n",
              "      <td>3.591784e-03</td>\n",
              "      <td>3.595405e-03</td>\n",
              "      <td>3.599015e-03</td>\n",
              "      <td>3.602613e-03</td>\n",
              "      <td>3.606199e-03</td>\n",
              "      <td>3.609774e-03</td>\n",
              "      <td>3.613337e-03</td>\n",
              "      <td>3.616889e-03</td>\n",
              "      <td>3.620428e-03</td>\n",
              "      <td>3.623956e-03</td>\n",
              "      <td>3.627472e-03</td>\n",
              "      <td>3.630976e-03</td>\n",
              "      <td>3.634468e-03</td>\n",
              "      <td>3.637949e-03</td>\n",
              "      <td>3.641417e-03</td>\n",
              "      <td>3.644873e-03</td>\n",
              "      <td>3.648317e-03</td>\n",
              "      <td>3.651749e-03</td>\n",
              "      <td>3.655169e-03</td>\n",
              "      <td>3.658576e-03</td>\n",
              "      <td>3.661971e-03</td>\n",
              "      <td>3.665354e-03</td>\n",
              "      <td>3.668725e-03</td>\n",
              "      <td>3.672083e-03</td>\n",
              "      <td>3.675429e-03</td>\n",
              "      <td>3.678762e-03</td>\n",
              "    </tr>\n",
              "    <tr>\n",
              "      <th>100</th>\n",
              "      <td>3.254681e-03</td>\n",
              "      <td>3.258944e-03</td>\n",
              "      <td>3.263200e-03</td>\n",
              "      <td>3.267448e-03</td>\n",
              "      <td>3.271687e-03</td>\n",
              "      <td>3.275919e-03</td>\n",
              "      <td>3.280143e-03</td>\n",
              "      <td>3.284359e-03</td>\n",
              "      <td>3.288566e-03</td>\n",
              "      <td>3.292766e-03</td>\n",
              "      <td>3.296957e-03</td>\n",
              "      <td>3.301140e-03</td>\n",
              "      <td>3.305314e-03</td>\n",
              "      <td>3.309480e-03</td>\n",
              "      <td>3.313638e-03</td>\n",
              "      <td>3.317788e-03</td>\n",
              "      <td>3.321928e-03</td>\n",
              "      <td>3.326061e-03</td>\n",
              "      <td>3.330184e-03</td>\n",
              "      <td>3.334299e-03</td>\n",
              "      <td>3.338406e-03</td>\n",
              "      <td>3.342504e-03</td>\n",
              "      <td>3.346592e-03</td>\n",
              "      <td>3.350673e-03</td>\n",
              "      <td>3.354744e-03</td>\n",
              "      <td>3.358806e-03</td>\n",
              "      <td>3.362860e-03</td>\n",
              "      <td>3.366904e-03</td>\n",
              "      <td>3.370939e-03</td>\n",
              "      <td>3.374966e-03</td>\n",
              "      <td>3.378983e-03</td>\n",
              "      <td>3.382991e-03</td>\n",
              "      <td>3.386990e-03</td>\n",
              "      <td>3.390979e-03</td>\n",
              "      <td>3.394959e-03</td>\n",
              "      <td>3.398930e-03</td>\n",
              "      <td>3.402892e-03</td>\n",
              "      <td>3.406844e-03</td>\n",
              "      <td>3.410787e-03</td>\n",
              "      <td>3.414720e-03</td>\n",
              "      <td>...</td>\n",
              "      <td>3.495042e-03</td>\n",
              "      <td>3.498755e-03</td>\n",
              "      <td>3.502458e-03</td>\n",
              "      <td>3.506150e-03</td>\n",
              "      <td>3.509831e-03</td>\n",
              "      <td>3.513502e-03</td>\n",
              "      <td>3.517162e-03</td>\n",
              "      <td>3.520811e-03</td>\n",
              "      <td>3.524450e-03</td>\n",
              "      <td>3.528078e-03</td>\n",
              "      <td>3.531695e-03</td>\n",
              "      <td>3.535301e-03</td>\n",
              "      <td>3.538896e-03</td>\n",
              "      <td>3.542481e-03</td>\n",
              "      <td>3.546054e-03</td>\n",
              "      <td>3.549616e-03</td>\n",
              "      <td>3.553168e-03</td>\n",
              "      <td>3.556708e-03</td>\n",
              "      <td>3.560237e-03</td>\n",
              "      <td>3.563755e-03</td>\n",
              "      <td>3.567261e-03</td>\n",
              "      <td>3.570757e-03</td>\n",
              "      <td>3.574241e-03</td>\n",
              "      <td>3.577713e-03</td>\n",
              "      <td>3.581175e-03</td>\n",
              "      <td>3.584624e-03</td>\n",
              "      <td>3.588063e-03</td>\n",
              "      <td>3.591490e-03</td>\n",
              "      <td>3.594905e-03</td>\n",
              "      <td>3.598309e-03</td>\n",
              "      <td>3.601701e-03</td>\n",
              "      <td>3.605081e-03</td>\n",
              "      <td>3.608450e-03</td>\n",
              "      <td>3.611807e-03</td>\n",
              "      <td>3.615152e-03</td>\n",
              "      <td>3.618486e-03</td>\n",
              "      <td>3.621807e-03</td>\n",
              "      <td>3.625117e-03</td>\n",
              "      <td>3.628415e-03</td>\n",
              "      <td>3.631701e-03</td>\n",
              "    </tr>\n",
              "  </tbody>\n",
              "</table>\n",
              "<p>101 rows × 100 columns</p>\n",
              "</div>"
            ],
            "text/plain": [
              "                0              1   ...             98             99\n",
              "0     7.694599e-23   5.684422e-22  ...   5.684422e-22   7.694599e-23\n",
              "1     0.000000e+00   0.000000e+00  ...   0.000000e+00   0.000000e+00\n",
              "2     0.000000e+00   0.000000e+00  ...   0.000000e+00   0.000000e+00\n",
              "3    2.032605e-254  4.707463e-253  ...  3.208724e-138  3.230728e-137\n",
              "4    5.283609e-132  2.686803e-131  ...   6.669400e-72   2.199975e-71\n",
              "..             ...            ...  ...            ...            ...\n",
              "96    3.356452e-03   3.361219e-03  ...   3.775366e-03   3.779055e-03\n",
              "97    3.311239e-03   3.315814e-03  ...   3.713247e-03   3.716789e-03\n",
              "98    3.303045e-03   3.307510e-03  ...   3.694535e-03   3.697975e-03\n",
              "99    3.294942e-03   3.299293e-03  ...   3.675429e-03   3.678762e-03\n",
              "100   3.254681e-03   3.258944e-03  ...   3.628415e-03   3.631701e-03\n",
              "\n",
              "[101 rows x 100 columns]"
            ]
          },
          "metadata": {},
          "execution_count": 119
        }
      ]
    },
    {
      "cell_type": "code",
      "metadata": {
        "id": "D3a8bHiGPNw1"
      },
      "source": [
        "data = generate_data(mu_data[-100:], sigma_data[:100])"
      ],
      "execution_count": 120,
      "outputs": []
    },
    {
      "cell_type": "code",
      "metadata": {
        "id": "ZkFI3y3HPN5F"
      },
      "source": [
        "df = pd.DataFrame(data)\n",
        "df.to_csv(\"trial-1-generated-data.csv\", index=0)"
      ],
      "execution_count": 121,
      "outputs": []
    },
    {
      "cell_type": "code",
      "metadata": {
        "colab": {
          "base_uri": "https://localhost:8080/"
        },
        "id": "zGr26lKfLnH3",
        "outputId": "d1ef1a67-3387-4137-b724-664c9618a684"
      },
      "source": [
        "import plotly.graph_objects as go\n",
        "import numpy as np\n",
        "z= df.values\n",
        "print(z.shape)\n",
        "sh_0, sh_1 = z.shape\n"
      ],
      "execution_count": 122,
      "outputs": [
        {
          "output_type": "stream",
          "name": "stdout",
          "text": [
            "(100, 100)\n"
          ]
        }
      ]
    },
    {
      "cell_type": "code",
      "metadata": {
        "colab": {
          "base_uri": "https://localhost:8080/"
        },
        "id": "KypoEFsmWfcW",
        "outputId": "b85f32d5-513c-4d7a-de2f-8484ce80ab74"
      },
      "source": [
        "np.linspace(0, 100, 101)"
      ],
      "execution_count": 123,
      "outputs": [
        {
          "output_type": "execute_result",
          "data": {
            "text/plain": [
              "array([  0.,   1.,   2.,   3.,   4.,   5.,   6.,   7.,   8.,   9.,  10.,\n",
              "        11.,  12.,  13.,  14.,  15.,  16.,  17.,  18.,  19.,  20.,  21.,\n",
              "        22.,  23.,  24.,  25.,  26.,  27.,  28.,  29.,  30.,  31.,  32.,\n",
              "        33.,  34.,  35.,  36.,  37.,  38.,  39.,  40.,  41.,  42.,  43.,\n",
              "        44.,  45.,  46.,  47.,  48.,  49.,  50.,  51.,  52.,  53.,  54.,\n",
              "        55.,  56.,  57.,  58.,  59.,  60.,  61.,  62.,  63.,  64.,  65.,\n",
              "        66.,  67.,  68.,  69.,  70.,  71.,  72.,  73.,  74.,  75.,  76.,\n",
              "        77.,  78.,  79.,  80.,  81.,  82.,  83.,  84.,  85.,  86.,  87.,\n",
              "        88.,  89.,  90.,  91.,  92.,  93.,  94.,  95.,  96.,  97.,  98.,\n",
              "        99., 100.])"
            ]
          },
          "metadata": {},
          "execution_count": 123
        }
      ]
    },
    {
      "cell_type": "code",
      "metadata": {
        "colab": {
          "base_uri": "https://localhost:8080/",
          "height": 517
        },
        "id": "dcZUSPb9WNYY",
        "outputId": "e5a72c22-bb3e-447c-e337-33f3db04bf47"
      },
      "source": [
        "t, x = np.linspace(0, sh_0, sh_0+1), np.linspace(0, sh_1, sh_1+1)\n",
        "fig = go.Figure(data=[go.Surface(z=z.T, x=x, y=t)])\n",
        "\n",
        "fig.update_layout(title=f'PDF Evolution', autosize=False,\n",
        "                  width=500, height=500,\n",
        "                  margin=dict(l=65, r=50, b=65, t=90))"
      ],
      "execution_count": 125,
      "outputs": [
        {
          "output_type": "display_data",
          "data": {
            "text/html": [
              "<html>\n",
              "<head><meta charset=\"utf-8\" /></head>\n",
              "<body>\n",
              "    <div>\n",
              "            <script src=\"https://cdnjs.cloudflare.com/ajax/libs/mathjax/2.7.5/MathJax.js?config=TeX-AMS-MML_SVG\"></script><script type=\"text/javascript\">if (window.MathJax) {MathJax.Hub.Config({SVG: {font: \"STIX-Web\"}});}</script>\n",
              "                <script type=\"text/javascript\">window.PlotlyConfig = {MathJaxConfig: 'local'};</script>\n",
              "        <script src=\"https://cdn.plot.ly/plotly-latest.min.js\"></script>    \n",
              "            <div id=\"f47d8dfe-695b-4581-a294-0f7c1cd231a5\" class=\"plotly-graph-div\" style=\"height:500px; width:500px;\"></div>\n",
              "            <script type=\"text/javascript\">\n",
              "                \n",
              "                    window.PLOTLYENV=window.PLOTLYENV || {};\n",
              "                    \n",
              "                if (document.getElementById(\"f47d8dfe-695b-4581-a294-0f7c1cd231a5\")) {\n",
              "                    Plotly.newPlot(\n",
              "                        'f47d8dfe-695b-4581-a294-0f7c1cd231a5',\n",
              "                        [{\"type\": \"surface\", \"x\": [0.0, 1.0, 2.0, 3.0, 4.0, 5.0, 6.0, 7.0, 8.0, 9.0, 10.0, 11.0, 12.0, 13.0, 14.0, 15.0, 16.0, 17.0, 18.0, 19.0, 20.0, 21.0, 22.0, 23.0, 24.0, 25.0, 26.0, 27.0, 28.0, 29.0, 30.0, 31.0, 32.0, 33.0, 34.0, 35.0, 36.0, 37.0, 38.0, 39.0, 40.0, 41.0, 42.0, 43.0, 44.0, 45.0, 46.0, 47.0, 48.0, 49.0, 50.0, 51.0, 52.0, 53.0, 54.0, 55.0, 56.0, 57.0, 58.0, 59.0, 60.0, 61.0, 62.0, 63.0, 64.0, 65.0, 66.0, 67.0, 68.0, 69.0, 70.0, 71.0, 72.0, 73.0, 74.0, 75.0, 76.0, 77.0, 78.0, 79.0, 80.0, 81.0, 82.0, 83.0, 84.0, 85.0, 86.0, 87.0, 88.0, 89.0, 90.0, 91.0, 92.0, 93.0, 94.0, 95.0, 96.0, 97.0, 98.0, 99.0, 100.0], \"y\": [0.0, 1.0, 2.0, 3.0, 4.0, 5.0, 6.0, 7.0, 8.0, 9.0, 10.0, 11.0, 12.0, 13.0, 14.0, 15.0, 16.0, 17.0, 18.0, 19.0, 20.0, 21.0, 22.0, 23.0, 24.0, 25.0, 26.0, 27.0, 28.0, 29.0, 30.0, 31.0, 32.0, 33.0, 34.0, 35.0, 36.0, 37.0, 38.0, 39.0, 40.0, 41.0, 42.0, 43.0, 44.0, 45.0, 46.0, 47.0, 48.0, 49.0, 50.0, 51.0, 52.0, 53.0, 54.0, 55.0, 56.0, 57.0, 58.0, 59.0, 60.0, 61.0, 62.0, 63.0, 64.0, 65.0, 66.0, 67.0, 68.0, 69.0, 70.0, 71.0, 72.0, 73.0, 74.0, 75.0, 76.0, 77.0, 78.0, 79.0, 80.0, 81.0, 82.0, 83.0, 84.0, 85.0, 86.0, 87.0, 88.0, 89.0, 90.0, 91.0, 92.0, 93.0, 94.0, 95.0, 96.0, 97.0, 98.0, 99.0, 100.0], \"z\": [[0.0, 0.0, 2.0326052554166587e-254, 5.283608843128042e-132, 1.7254142690277128e-55, 3.5233838633186487e-40, 3.061414769592312e-28, 4.251842400344076e-22, 3.7799068280489417e-19, 7.026909853215471e-15, 1.9112545150062258e-11, 7.459322428414699e-10, 1.3786432232304448e-08, 1.6250804653285484e-07, 9.189347429687879e-07, 2.177203519749291e-06, 7.181847826823886e-06, 2.3009274554626073e-05, 4.165301087170557e-05, 6.873102125629576e-05, 0.0001092487748695849, 0.0001405767588249534, 0.0002753711196726924, 0.0004424391419626255, 0.0006176808340784708, 0.0006991389765038645, 0.0006851746698485474, 0.0009078881978238336, 0.0011735247844302471, 0.0011324815889572335, 0.001179738779129678, 0.0013197419312640573, 0.0015154049813240677, 0.001676388165576985, 0.0018098798856188637, 0.0018883748620536656, 0.001970947204130748, 0.002153773054726417, 0.002276989051130765, 0.0024569839306332387, 0.0025422529018894885, 0.0026420045215348634, 0.0027157467842939915, 0.002800057490885698, 0.002838455702612013, 0.0029404114035811025, 0.002983860832890058, 0.0030430825889746407, 0.003212822954018016, 0.003284038304990563, 0.003398770870273421, 0.0034632787247720854, 0.00346967157602314, 0.0035551740286507614, 0.0035338163339945165, 0.0035310386831000013, 0.0034788374795251087, 0.0035964489607112032, 0.0036236518522180135, 0.0036178176085695565, 0.003598808646386777, 0.0036443945040345004, 0.0037211462096726463, 0.0037114841150275727, 0.0036702837010660905, 0.00365177244578149, 0.003622244511158699, 0.00366313047062533, 0.003676889456740856, 0.0037505491630829835, 0.0037243042231791704, 0.003699320926997479, 0.003647601499620629, 0.0037068675646550375, 0.003762754007888263, 0.0037355293849754777, 0.003734140621787513, 0.0036913116251639806, 0.0036786844464709793, 0.0036394687898983944, 0.003627668741789184, 0.0036033604490682287, 0.0035778378265925704, 0.0035652097888455012, 0.0035408731590877342, 0.0035185636817320976, 0.003496370290701035, 0.0034865471705460213, 0.003477585025618162, 0.0034721479596320284, 0.0034553758609019046, 0.0034446087505852646, 0.0034448360956199297, 0.0034307043130294593, 0.003395647914717185, 0.0033564516863856457, 0.0033112390424145577, 0.0033030451227638504, 0.003294942000939935, 0.0032546806079555945], [0.0, 0.0, 4.707463420507527e-253, 2.6868025884164824e-131, 3.411930475818707e-55, 5.68054238693612e-40, 4.260630396001446e-28, 5.493827354097066e-22, 4.7139291077221755e-19, 8.27606579495058e-15, 2.1685020263029495e-11, 8.278485044335599e-10, 1.504191867434434e-08, 1.7483404181741578e-07, 9.775107551624242e-07, 2.3039502296785476e-06, 7.540597767750537e-06, 2.3994895293359618e-05, 4.3265123374917745e-05, 7.115347220271945e-05, 0.00011267975048488147, 0.00014479104468909904, 0.00028262396159939914, 0.000452692537206616, 0.0006305388365032987, 0.0007128608011735811, 0.0006985287668624889, 0.0009234059424919437, 0.001192047446065867, 0.0011500566357913865, 0.001197318088976856, 0.0013381424775323367, 0.0015344306059298634, 0.0016963204025072262, 0.0018302160091181949, 0.0019086791198968797, 0.0019913895703474564, 0.002174869065826321, 0.0022981093537514674, 0.002478327020261518, 0.0025629196746923513, 0.002662458909689166, 0.002736084703832371, 0.0028202977116829125, 0.0028583268817592737, 0.002959446288711081, 0.00300253573367674, 0.003061480376627328, 0.0032310364264654433, 0.0033020337262363053, 0.0034166584942039607, 0.0034802699925196284, 0.0034866669378638923, 0.003571507776321872, 0.0035497841600438387, 0.003546610304818153, 0.0034937090284242003, 0.003610843417756722, 0.003637763895640979, 0.0036312844460681766, 0.003612097525081558, 0.003657350982819902, 0.003733514204293607, 0.00372359869601756, 0.0036820252330405224, 0.0036631335731870667, 0.0036331430182769114, 0.003673952150489173, 0.0036872556939963968, 0.003760489904168379, 0.003734207186726453, 0.003708796176959438, 0.003656750680646232, 0.003715802340082872, 0.003771230710398083, 0.003743777019730595, 0.00374230387750946, 0.0036991118905882183, 0.0036864029823368573, 0.0036468350766852, 0.0036348338176749417, 0.003610396449315682, 0.0035846135643707606, 0.0035717929171280014, 0.003547284018531523, 0.003524806193723702, 0.003502405205934225, 0.003492462995622869, 0.003483228466012179, 0.003477674997126377, 0.003460756974798561, 0.0034497756351208803, 0.0034498832392512984, 0.0034356794429347428, 0.0034004793233717054, 0.0033612187669550234, 0.003315813923741941, 0.0033075102696246686, 0.003299292501616975, 0.003258944174190027], [0.0, 0.0, 1.0810091639628777e-251, 1.3602625912374403e-130, 6.734234965497742e-55, 9.146532539817189e-40, 5.924238387306271e-28, 7.093551958774751e-22, 5.875103825889617e-19, 9.742835210253367e-15, 2.4594555025484612e-11, 9.184773021898749e-10, 1.6407472052233214e-08, 1.8805329829959504e-07, 1.0396270296859053e-06, 2.437658285325721e-06, 7.916105114717886e-06, 2.5019526722391288e-05, 4.493441837645274e-05, 7.365351191324965e-05, 0.00011620767757094284, 0.00014911832333051008, 0.00029004424784444233, 0.00046315002410282657, 0.0006436223698143305, 0.0007268074492888922, 0.0007121003034551811, 0.0009391398178518076, 0.0012108022521585588, 0.0011678486275175698, 0.001215104296532254, 0.0013567422304459156, 0.0015536367209683702, 0.0017164280743934624, 0.0018507179432157245, 0.001929139555074168, 0.002011981490908917, 0.0021961066230306793, 0.0023193605145027593, 0.002499789413642072, 0.0025836913205979, 0.002683009243855416, 0.0027565128157599605, 0.0028406222519372828, 0.002878276625591993, 0.0029785469120444524, 0.0030212712912168387, 0.0030799339735234567, 0.0032492974172810313, 0.003320072399762921, 0.003434584474468372, 0.0034972918121384494, 0.0035036926698154124, 0.0035878654760730846, 0.003565774598298654, 0.003562202541235465, 0.00350859907461694, 0.0036252510786966056, 0.003651887228756728, 0.003644760013746045, 0.0036253948505380455, 0.003670313596692118, 0.0037458845869082743, 0.003735715012950301, 0.0036937681028099845, 0.0036744951898874745, 0.0036440411582558036, 0.003684772496121814, 0.003697619091868027, 0.0037704254688189763, 0.003744105324471185, 0.0037182660074973266, 0.003665894527485825, 0.0037247304020327082, 0.003779698959006728, 0.003752016192209171, 0.0037504585429139455, 0.003706903560384881, 0.0036941129640129123, 0.003654192781429391, 0.0036419901615805084, 0.003617423843333249, 0.0035913806480475535, 0.0035783672847375697, 0.003553686187149512, 0.0035310400664713584, 0.003508431486175596, 0.0034983701573936413, 0.0034888630381009647, 0.0034831931033011917, 0.0034661291919767527, 0.003454933531079448, 0.003454921282369694, 0.0034406455569523146, 0.003405301953533384, 0.0033659774098890095, 0.0033203806502564493, 0.0033119672516200085, 0.003303634825510146, 0.0032631998743743794], [0.0, 0.0, 2.4613893031178155e-250, 6.8563289881674185e-130, 1.326653973792488e-54, 1.4708215957807123e-39, 8.229968381900053e-28, 9.152577160546836e-22, 7.317767247126879e-19, 1.1464329217311758e-14, 2.7884055345759883e-11, 1.0187134946203378e-09, 1.7892342419850196e-08, 2.0222728050401016e-07, 1.1054846720897403e-06, 2.5786845887001396e-06, 8.309091289490061e-06, 2.6084566249194716e-05, 4.666270749408201e-05, 7.62333283682978e-05, 0.00011983492572813864, 0.00015356118564900916, 0.0002976351521941517, 0.0004738147858736313, 0.0006569343832845333, 0.0007409815952920835, 0.0007258918557964205, 0.0009550918474007332, 0.0012297909751653865, 0.0011858592070106992, 0.0012330988517167715, 0.0013755423757922357, 0.00157302413340806, 0.0017367118099826328, 0.001871386148647323, 0.0019497565166458764, 0.0020327232269742547, 0.002217485843563851, 0.0023407425460494203, 0.0025213710040838796, 0.0026045676703525446, 0.0027036553048528232, 0.002777030869388769, 0.0028610308290928227, 0.0028983046402159198, 0.0029977129582270247, 0.003040067184542764, 0.00309844304997389, 0.0032676055668223788, 0.003338153958691906, 0.0034525484284709355, 0.0035143438177453997, 0.003520748405027207, 0.003604246770680345, 0.003581787305310317, 0.0035778150613764636, 0.0035235073135296696, 0.0036396716425340335, 0.003666021556976394, 0.003658244037316752, 0.0036387003553067323, 0.0036832820848710485, 0.0037582571092733197, 0.0037478328258333847, 0.003705512083954394, 0.0036858570815133064, 0.0036549387313673234, 0.0036955913077139813, 0.003707979462386537, 0.0037803556769996326, 0.003753998458663163, 0.003727730253356154, 0.0036750328855339313, 0.003733651598787139, 0.003788158611143588, 0.0037602467665192483, 0.0037586044841970674, 0.0037146865109105717, 0.003701814270193537, 0.003661541792121616, 0.003649137666294744, 0.0036244425274689065, 0.0035981389802392087, 0.003584932798621409, 0.0035600795760552515, 0.003537265215024912, 0.003514449051063633, 0.003504268577997008, 0.003494488669265882, 0.0034887022077665954, 0.0034714924450292774, 0.003460082375005532, 0.003459950163542788, 0.003445602595162753, 0.0034101157483859535, 0.0033707275602106795, 0.003324939170881259, 0.003316416019500769, 0.0033079689252380013, 0.0032674476631291446], [0.0, 0.0, 5.556991773812132e-249, 3.440665389449298e-129, 2.608605247798184e-54, 2.362111245502649e-39, 1.1422752944663837e-27, 1.1800867698449651e-21, 9.109031103233531e-19, 1.3483846842170098e-14, 3.1601720809812634e-11, 1.129540380045611e-09, 1.9506521009459416e-08, 2.1742143491147282e-07, 1.1752953917018766e-06, 2.727402855941033e-06, 8.720305689933942e-06, 2.719145498208115e-05, 4.84518512143983e-05, 7.889516054691251e-05, 0.00012356391051545604, 0.0001581222683656691, 0.00030539988946902635, 0.0004846900336288365, 0.0006704778419581652, 0.0007553859236822489, 0.0007399060099451675, 0.0009712640545547983, 0.001249015380215286, 0.0012040900109476283, 0.0012513031974298687, 0.0013945440902313336, 0.0015925936397410793, 0.0017571722264086342, 0.0018922210743119766, 0.001970530342202721, 0.002053615028372509, 0.002239006833136537, 0.0023622554501123304, 0.002543071674477725, 0.002625548545626773, 0.002724396865105532, 0.0027976386060591853, 0.0028815231530393043, 0.0029184106247320853, 0.003016944106072311, 0.003058923087308365, 0.003117007271301414, 0.003285960510984111, 0.0033562780319926974, 0.0034705499697565635, 0.0035314256402998456, 0.0035378337734984946, 0.0036206513002757902, 0.0035978219351552507, 0.003593447531990142, 0.003538433438589957, 0.0036541048065979165, 0.003680166584173976, 0.003671736241188921, 0.003652013770679586, 0.003696256185461694, 0.003770631522257734, 0.003759951893849217, 0.0037172569492999303, 0.0036972190330234545, 0.0036658355373007205, 0.003706408384910492, 0.0037183366171340986, 0.003790280348334828, 0.0037638864112068465, 0.003737188748993578, 0.0036841655999262693, 0.003742565778421192, 0.0037966095241066173, 0.003768468606653856, 0.003766741567448518, 0.0037224606184390295, 0.0037095067794943727, 0.00366888199669474, 0.00365627622456255, 0.003631452398030758, 0.0036048884635356496, 0.003591489365711113, 0.003566464096352704, 0.003543481554430455, 0.0035204578202408703, 0.0035101581795804492, 0.0035001052869097125, 0.003494202240158766, 0.0034768466665786118, 0.003465222103480639, 0.0034649698213800066, 0.0034505504976887003, 0.003414920651154622, 0.0033754691629805955, 0.0033294894345767064, 0.0033208565240573215, 0.0033122947534608665, 0.003271687495113548], [0.0, 0.0, 1.2439637091096835e-247, 1.7189970300615526e-128, 5.1196511518429885e-54, 3.7885893287898265e-39, 1.5839824928252304e-27, 1.5204613395017768e-21, 1.1331732790834246e-18, 1.5851882425629127e-14, 3.580167592734424e-11, 1.2520380695864997e-09, 2.126079645062484e-08, 2.3370542994640956e-07, 1.249282010726363e-06, 2.8842043268556063e-06, 9.150526627644862e-06, 2.8341678835501505e-05, 5.030375989283819e-05, 8.16412992492417e-05, 0.00012739709397326175, 0.0001628042544302038, 0.0003133417155384978, 0.0004957790060674159, 0.0006842557261927126, 0.0007700231285477656, 0.0007541453614128988, 0.0009876584622207595, 0.001268477224640294, 0.001222542669396346, 0.0012697187691821823, 0.0014137485409690819, 0.0016123460257320723, 0.0017778099289660425, 0.0019132231570784296, 0.0019914613576994763, 0.0020746571334546364, 0.002260669685821095, 0.0023838992173673998, 0.0025648912972187025, 0.002646633758959342, 0.00274523368859926, 0.0028183357591040395, 0.0029020989260834084, 0.002938594271213473, 0.0030362400285488768, 0.0030778386677798304, 0.0031356262978349367, 0.0033043618811977975, 0.003374444244484857, 0.0034885887080157896, 0.0035485369076106305, 0.003554948402085257, 0.003637078702356236, 0.0036138781394431147, 0.0036090996175580105, 0.0035533771412338796, 0.003668550266551102, 0.0036943220126945736, 0.003685236348473928, 0.0036653348266975105, 0.003709235635461642, 0.0037830075758502036, 0.0037720719753620967, 0.0037290024709255537, 0.003708580828711195, 0.003676731375168096, 0.003717223526815914, 0.003728690367249549, 0.003800199302113798, 0.003773769003666388, 0.0037466413285844745, 0.003693292515543899, 0.0037514727888064373, 0.0038050515550662137, 0.0037766815764946273, 0.003774869658655123, 0.003730225759164308, 0.0037171903704554016, 0.003676213283026612, 0.0036634057290874785, 0.0036384533512895233, 0.0036116290005027535, 0.0035980368929248224, 0.0035728396591382535, 0.003549688999732227, 0.0035264577133556417, 0.0035160388843019424, 0.003505712818458194, 0.0034996931301414106, 0.003482191789278303, 0.003470352653124508, 0.0034699801945337707, 0.0034554892046960526, 0.0034197166051071794, 0.0033802021632978506, 0.0033340313903412336, 0.003325288716120409, 0.0033166122628816947, 0.003275919325026348], [0.0, 0.0, 2.7611129892827864e-246, 8.550464552491981e-128, 1.0028908755685679e-53, 6.068642459053815e-39, 2.1945068803857642e-27, 1.957616965945327e-21, 1.4088054144858876e-18, 1.8627292911429484e-14, 4.054467387775996e-11, 1.3873926151437184e-09, 2.3166814985932684e-08, 2.511534091750429e-07, 1.327678994872347e-06, 3.0494985000157e-06, 9.600562290287473e-06, 2.9536769652984743e-05, 5.22203947626378e-05, 8.447408791987657e-05, 0.00013133698514042726, 0.00016760987341948112, 0.00032146392731918175, 0.0005070849691622951, 0.0006982710311863048, 0.0007848959130866784, 0.0007686125147156644, 0.001004277092360833, 0.0012881782575014011, 0.001241218805400461, 0.0012883469947243885, 0.001433156885427894, 0.0016322820661659055, 0.0017986255108832872, 0.0019343928215917333, 0.0020125498772887935, 0.0020958497689457962, 0.002282474483927377, 0.0024056738273451, 0.0025868297341294258, 0.0026678231137020844, 0.002766165530838627, 0.0028391220538133053, 0.0029227578429204767, 0.0029588552646822633, 0.0030556003927681707, 0.0030968135888270404, 0.003154299784904082, 0.0033228093044322306, 0.003392652216840648, 0.0035066642490900924, 0.003565677244343284, 0.003572091914507572, 0.003653528611791868, 0.003629955567325155, 0.0036247709803023317, 0.003568338110913478, 0.0036830077163986998, 0.003708487543362759, 0.0036987440809937194, 0.003678663252157876, 0.00372222017076862, 0.0037953850191665725, 0.0037841928279253732, 0.003740748420169605, 0.003719942252210344, 0.0036876260435100092, 0.003728036532000248, 0.003739040523433716, 0.003810112357295713, 0.0037836460572706785, 0.0037560878260255175, 0.0037024134770173808, 0.0037603724776151294, 0.0038134845610690972, 0.0037848855398154298, 0.003782988623704409, 0.003737981809203958, 0.0037248649215440477, 0.0036835355389428386, 0.003670526072534352, 0.003645445283481029, 0.0036183604936846406, 0.003604575287169373, 0.0035792061755027297, 0.003555887465974507, 0.003532448650063842, 0.003521910614331639, 0.003511311191361555, 0.0035051748074072407, 0.003487527745814356, 0.0034754739605963965, 0.003474981221700726, 0.003460418656395156, 0.0034245035535550917, 0.0033849265063011207, 0.003338564987212329, 0.0033297125465620407, 0.003320921406246918, 0.003280143107606632], [0.0, 0.0, 6.076719070780299e-245, 4.234344536199465e-127, 1.9608677106033863e-53, 9.708282517074984e-39, 3.0375993606460736e-27, 2.51866818568477e-21, 1.7503957337948743e-18, 2.1878649705694548e-14, 4.5898880741220324e-11, 1.5369059567045637e-09, 2.5237144945974663e-08, 2.6984425835797224e-07, 1.4107330062619235e-06, 3.223713894110473e-06, 1.007125172900648e-05, 3.0778306347581006e-05, 5.4203768952350114e-05, 8.73959234715724e-05, 0.0001353861405653493, 0.00017254190192668946, 0.00032976986275617476, 0.0005186112158279323, 0.0007125267664904975, 0.0008000069891149755, 0.0007833100829147668, 0.0010211219655503671, 0.0013081202191090654, 0.0012601200345589746, 0.0013071892936723814, 0.0014527702709150048, 0.001652402524594345, 0.00181961955309534, 0.0019557304800797274, 0.002033796203155141, 0.002117193149797927, 0.002304421297879139, 0.002427579248330656, 0.002608886836384004, 0.0026891164039654527, 0.0027871921388051067, 0.002859997207399453, 0.002943499590606913, 0.0029791932830876638, 0.003075024859972841, 0.0031158475079153727, 0.0031730273828342037, 0.003341302403194101, 0.003410901565587939, 0.003524776194977568, 0.0035828462720275235, 0.0035892639313572033, 0.003670000660835173, 0.003646053865502778, 0.0036404612801945475, 0.0035833160351043795, 0.0036974768484965633, 0.0037226628754910575, 0.003712259159288729, 0.0036919987746221686, 0.003735209526188153, 0.003807763600457365, 0.003796314208288667, 0.0037524945676364377, 0.003731303086501447, 0.003698519340301124, 0.0037388471985046663, 0.0037493868959547704, 0.0038200193325148733, 0.003793517392918429, 0.003765528074939791, 0.0037115283287309487, 0.003769264692324356, 0.0038219083990422096, 0.0037930803602860092, 0.0037910983283881727, 0.0037457286446022273, 0.0037325303111582875, 0.0036908486522195727, 0.003677637147531886, 0.003652428090808713, 0.003625082845605961, 0.0036111044553424573, 0.0035855635565334317, 0.0035620768682035125, 0.0035384305500306807, 0.0035277732918535553, 0.0035169003330960597, 0.0035106472016794518, 0.0034928544689066285, 0.003480585962596362, 0.0034799728416229823, 0.0034653387930419946, 0.0034292814398546164, 0.0033896421371697057, 0.003343090174267469, 0.003334127966296393, 0.003325222136347303, 0.003284358797634618], [0.0, 0.0, 1.326058400364532e-243, 2.0876830774333417e-126, 3.82669822278167e-53, 1.5510653500038544e-38, 4.200790420355736e-27, 3.2382106036502636e-21, 2.1734618782909393e-18, 2.5685803499541884e-14, 5.1940749038746254e-11, 1.7020067584374344e-09, 2.7485345761582555e-08, 2.8986188702681303e-07, 1.4987034793823574e-06, 3.407298836260888e-06, 1.0563465871252434e-05, 3.206791605965318e-05, 5.625594851152976e-05, 9.040925710883176e-05, 0.00013954716481038456, 0.00017760316394066215, 0.00033826290078697624, 0.0005303610655704359, 0.0007270259555083164, 0.0008153590765626871, 0.0007982406871460212, 0.0010381951005284233, 0.0013283048405384693, 0.0012792479646014405, 0.0013262470771287804, 0.0014725898342883104, 0.0016727081530816996, 0.0018407926240159597, 0.001977236532159477, 0.0020552006253489337, 0.0021386874790426487, 0.00232651018609099, 0.0024496154372649144, 0.0026310624444327636, 0.00271051341456473, 0.0028083132509156847, 0.0028809609289634553, 0.0029643238485332194, 0.002999607997284336, 0.0030945130855255533, 0.0031349400770979566, 0.003191808736941838, 0.0033598407955290617, 0.0034291919031134905, 0.0035429241438389406, 0.003600043609065022, 0.00360646407010548, 0.0036864944791300935, 0.0036621726782363334, 0.003656170174963897, 0.003598310599313557, 0.00371195735355988, 0.0037368477068885696, 0.003725781302625911, 0.003705341120423729, 0.0037482034354413, 0.0038201430671153777, 0.00380843587240514, 0.003764240683203125, 0.0037426631139180285, 0.0037094110629558924, 0.0037496553238472877, 0.003759729294653618, 0.0038299200460859347, 0.003803382831183279, 0.0037749619086814195, 0.003720636914826723, 0.0037781492802202057, 0.003830322925796625, 0.0038012659014756453, 0.00379919863840606, 0.003753466141333264, 0.0037401864176297684, 0.003698152510586296, 0.003684738846675324, 0.0036594016694461206, 0.003631795958774203, 0.003617624304334784, 0.00359191171331615, 0.0035682571214693047, 0.00354440333293245, 0.0035336268390672586, 0.0035224801711655454, 0.003516110242713203, 0.003498171891310228, 0.0034856885958665573, 0.003484954993089348, 0.0034702495549393847, 0.0034340502074079004, 0.0033943490011245823, 0.003347606900625062, 0.0033385349262807064, 0.0033295144060188045, 0.003288566349932451], [0.0, 0.0, 2.869225319704388e-242, 1.0247663268639762e-125, 7.45386355837281e-53, 2.47488270742692e-38, 5.8041484726069434e-27, 4.1603524358388e-21, 2.6971081124504095e-18, 3.014169468624002e-14, 5.875599032744358e-11, 1.884262208535652e-09, 2.992604180764571e-08, 3.112955252813128e-07, 1.591863220865405e-06, 3.6007222780079505e-06, 1.10781085593573e-05, 3.3407275331837625e-05, 5.83790534441679e-05, 9.351659515081091e-05, 0.00014382271094921304, 0.0001827965312148609, 0.0003469464612875948, 0.0005423378641199959, 0.0007417716349774502, 0.0008309549029577495, 0.0008134069561375562, 0.0010554985137413023, 0.001348733843139569, 0.001298604194958518, 0.0013455217473008533, 0.001492616701619869, 0.001693199691949517, 0.0018621452793095208, 0.001998911364643737, 0.0020767634216208755, 0.002160332947644535, 0.002348741194845976, 0.0024717823396458857, 0.0026533563879277563, 0.002732013920966943, 0.0028295285969821855, 0.002902012919461471, 0.002985230288397669, 0.0030200990710114194, 0.0031140647188982943, 0.0031540909430083875, 0.0032106434875305567, 0.0033784240950231765, 0.003447522837666603, 0.00356110769000391, 0.003617268870737447, 0.003623691945111449, 0.0037030096937214047, 0.003678311647354089, 0.0036718973201062075, 0.003613321487087275, 0.0037264489206719257, 0.003751041733869697, 0.0037393102290068487, 0.0037186900146755856, 0.003761201631172468, 0.00383252316568335, 0.0038205575754388485, 0.003775986536026215, 0.003754022116152886, 0.003720301008334285, 0.003760460705028984, 0.0037700675289493225, 0.0038398143160091615, 0.0038132421923189217, 0.003784389160340218, 0.0037297390792089195, 0.003787026088401962, 0.003838727998031471, 0.0038094420268568155, 0.003807289419369164, 0.0037611941753043316, 0.003747833119226933, 0.003705447001728624, 0.003691831062529071, 0.0036663659155394233, 0.003638499735681987, 0.0036241347410322436, 0.0035982505569372033, 0.0035744281408276878, 0.0035503669184582865, 0.003539471178189559, 0.003528050633102967, 0.0035215638602970967, 0.003503479945816901, 0.0034907817971925126, 0.0034899276149365664, 0.0034751508824381726, 0.0034388097996640864, 0.0033990470434294502, 0.003352115115445391, 0.0033429333775161847, 0.003333798168143417, 0.0032927657193650064], [0.0, 0.0, 6.155667736407545e-241, 5.008031118454673e-125, 1.4491721108010711e-52, 3.9438099779459334e-38, 8.012222258117616e-27, 5.341288699450397e-21, 3.3448390929569146e-18, 3.535444685662944e-14, 6.644065761016676e-11, 2.085390863670428e-09, 3.257500139000724e-08, 3.3424003653074844e-07, 1.6904990338937025e-06, 3.804474639694911e-06, 1.161611761518602e-05, 3.479811130097546e-05, 6.057525874944138e-05, 9.672049985299357e-05, 0.00014821548105662549, 0.00018812492362552268, 0.0003558240050004093, 0.0005545449830453599, 0.000756766854438516, 0.0008467972028976216, 0.0008288115257160884, 0.0010730342188790096, 0.001369408938042007, 0.001318190316328007, 0.0013650146971148714, 0.0015128519878571, 0.0017138778695203398, 0.0018836780616624952, 0.0020207553513474476, 0.0020984848572565278, 0.002182129734354762, 0.0023711143581737724, 0.002494079889431025, 0.0026757684856490746, 0.0027536176892385355, 0.0028508378981712914, 0.0029231528716721833, 0.003006218574180655, 0.003040666160872162, 0.0031336794036621925, 0.0031732997468538987, 0.003229531269887271, 0.00339705191080476, 0.0034658939733631213, 0.00357932642397786, 0.003634521669214775, 0.0036409471676302806, 0.0037195459290643306, 0.0036944704122614386, 0.0036876423688929055, 0.003628348380019171, 0.0037409512372929238, 0.0037652446512630054, 0.0037528456551759967, 0.0037320451812783884, 0.003774203844957334, 0.0038449036418616873, 0.0038326790717721428, 0.0037877318945485467, 0.0037653798742644335, 0.0037311889727475647, 0.0037712631385392464, 0.0037804014078445585, 0.003849701959975711, 0.0038230952962642665, 0.0037938096627463704, 0.003738834665548092, 0.0037958949637862983, 0.0038471234723378707, 0.0038176085998088746, 0.0038153705368036256, 0.0037689126223590355, 0.003755470294158162, 0.0037127320132911033, 0.0036989136876293387, 0.00367332072520993, 0.0036451940788093814, 0.0036306356723180854, 0.0036045799984854676, 0.0035805898413421256, 0.003556321226311939, 0.0035453062314562012, 0.003533611646471944, 0.0035270079842546647, 0.0035087785652564373, 0.0034958655034044305, 0.0034948906460505547, 0.0034800427159384223, 0.0034435601601204213, 0.0034037362093917857, 0.0033566147679315603, 0.003347323271048894, 0.0033380733756500323, 0.003296956860840683], [0.0, 0.0, 1.3094659107663721e-239, 2.4366384227812715e-124, 2.8121585374425573e-52, 6.276451494767954e-38, 1.1050309424504844e-26, 6.85256052656515e-21, 4.14555472424529e-18, 4.144978640719491e-14, 7.510234943172928e-11, 2.3072766252393837e-09, 3.544922120494934e-08, 3.587962469316406e-07, 1.7949123680506332e-06, 4.019068683967983e-06, 1.2178465931176048e-05, 3.624220290678637e-05, 6.284679546931162e-05, 0.00010002359022706472, 0.0001527282266902316, 0.00019359130951844287, 0.0003648990334433519, 0.0005669858193501521, 0.0007720146756882751, 0.0008628887175085707, 0.0008444570383016658, 0.0010908042264047334, 0.0013903318256549685, 0.0013380079102364086, 0.001384727309826993, 0.0015332967964817134, 0.0017347434018605927, 0.0019053915005546101, 0.0020427688528943328, 0.002120365184911189, 0.0022040780055651967, 0.0023936296977295503, 0.0025165080089402333, 0.0026982985454319635, 0.0027753244759937327, 0.002872240866965288, 0.0029443804701648523, 0.003027288362119677, 0.0030613089163141725, 0.0031533567774778308, 0.0031925661244090004, 0.0032484717142789456, 0.003415723847546617, 0.0034843049101898177, 0.0035975799324488964, 0.0036518016135638942, 0.003658229345821978, 0.003736102807034377, 0.0037106486099503042, 0.003703404972380181, 0.003643390957758508, 0.0037554639892690604, 0.003779456152420204, 0.0037663872966289974, 0.003745406342928439, 0.003787209807310826, 0.003857284240516273, 0.003844800115013146, 0.0037994765265061173, 0.0037767361686830985, 0.0037420747519640945, 0.0037820624203620656, 0.0037907307399311033, 0.0038595827953729297, 0.003832941962648625, 0.0038032232484751256, 0.0037479235172853927, 0.003804755753111504, 0.0038555092052028847, 0.003825765483621744, 0.0038234418561542494, 0.0037766213582805506, 0.0037630978205749105, 0.0037200074328800257, 0.0037059866144867953, 0.0036802659945566123, 0.0036518788906262085, 0.0036371270050750827, 0.003610899949054417, 0.0035867421380856453, 0.0035622661762135382, 0.0035511319211235606, 0.0035391631388683046, 0.0035324425444458463, 0.0035140676824980616, 0.0035009396513784713, 0.00349984402536764, 0.0034849249958906173, 0.0034483012323233606, 0.003408416444363884, 0.0033611058073304335, 0.003351704557970664, 0.003342339981515292, 0.0033011397293122103], [0.0, 0.0, 2.7619876712391007e-238, 1.180312630757141e-123, 5.4467938504444355e-52, 9.975833855818914e-38, 1.5226597450184946e-26, 8.785178820095956e-21, 5.1347655835688595e-18, 4.8573837641221875e-14, 8.486154875532392e-11, 2.5519839413743146e-09, 3.856701661969728e-08, 3.8507129230263944e-07, 1.9054199954472476e-06, 4.245040419126867e-06, 1.2766162588066355e-05, 3.7741382117036875e-05, 6.519595174249345e-05, 0.00010342854285838596, 0.00015736374936356354, 0.00019919870604388795, 0.0003741750887999734, 0.0005796637950507628, 0.0007875181722177353, 0.0008792321938926329, 0.0008603461423908107, 0.0011088105430773273, 0.0014115041951620279, 0.0013580585485960595, 0.0014046609586306834, 0.0015539522191664798, 0.001755796992522647, 0.0019272861120297397, 0.002064952216523625, 0.0021424046444450543, 0.0022261779151629218, 0.0024162872226735264, 0.0025390666087596347, 0.002720946364094798, 0.0027971340283436947, 0.0028937372071235023, 0.0029656953912680344, 0.003048439300685026, 0.0030820269796102777, 0.0031730964720860753, 0.003211889706009597, 0.003267464445949763, 0.003434439505468667, 0.0035027552440091317, 0.00361586779829524, 0.00366910830975746, 0.0036755380847603453, 0.0037526799469374027, 0.0037268458750087476, 0.003719184779418365, 0.0036584488980185926, 0.0037699868608416245, 0.0037936759292252456, 0.0037799348676211156, 0.0037587732211258125, 0.0038002192476952077, 0.00386966470568633, 0.0038569204580032814, 0.003811220198935012, 0.0037880907792177693, 0.003752958141215204, 0.003792858345981878, 0.0038010553333953597, 0.003869456639289697, 0.0038427820107969236, 0.0038126297498515174, 0.0037570054776368466, 0.003813608302941719, 0.0038638850530134765, 0.0038339125414996044, 0.0038315032427881255, 0.003784320258794863, 0.0037707155765748664, 0.0037272731480662486, 0.003713049735589217, 0.0036872016196586267, 0.0036585540735943685, 0.0036436086461877175, 0.003617210319744162, 0.003592884946142759, 0.003568201687901373, 0.0035569481694703435, 0.003544705037921635, 0.0035378674707684807, 0.0035193472304518372, 0.003506004178038048, 0.0035047876918758024, 0.00348979766279685, 0.003453032959869674, 0.0034130876937439173, 0.0033655881829335846, 0.003356077189419984, 0.0033465979387644405, 0.00330531427977744], [0.0, 0.0, 5.77640700675623e-237, 5.6922624808359856e-123, 1.0529879001999427e-51, 1.5835109587730071e-37, 2.0962268037391964e-26, 1.125483751254616e-20, 6.356076823940796e-18, 5.689634999467485e-14, 9.585311105295666e-11, 2.8217743359321972e-09, 4.194811814219602e-08, 4.131789833270043e-07, 2.022354713975856e-06, 4.482950033060476e-06, 1.3380253999603262e-05, 3.929753516892681e-05, 6.762507386428436e-05, 0.00010693809272046925, 0.00016212490101004344, 0.00020495017947910011, 0.0003836557537899602, 0.0005925823567356131, 0.00080328042863505, 0.0008958303845621963, 0.0008764814920280531, 0.0011270551714668534, 0.0014329277240110936, 0.0013783437932579207, 0.0014248170062607687, 0.00157481933542984, 0.0017770393322860901, 0.0019493623984665864, 0.0020873057758969507, 0.002164603462758752, 0.0022484296043852525, 0.0024390869295512116, 0.002561755587646144, 0.00274371172736789, 0.002819046083846416, 0.0029153266136444896, 0.0029870973030390277, 0.0030696710305561327, 0.003102819985840021, 0.0031928981132994367, 0.003231270116547549, 0.0032865090851187167, 0.0034531984803409864, 0.0035212445665642913, 0.003634189600592967, 0.003686441360683046, 0.003692872986442235, 0.003769276965519905, 0.0037430618396307983, 0.003734981436661494, 0.0036735218765853333, 0.003784519534656283, 0.0038079036721035565, 0.003793488081175764, 0.003772145536182591, 0.0038132318945282486, 0.003882044780592365, 0.0038690398528248723, 0.003822962678178385, 0.00379944348506228, 0.0037638389352010705, 0.0038036507103895345, 0.003811374996023908, 0.003879323308521779, 0.003852615259734939, 0.003822028998955104, 0.0037660803895976517, 0.0038224524596711883, 0.0038722508720604835, 0.003842049636564618, 0.0038395545619982724, 0.0037920091995740234, 0.0037783234402051103, 0.0037345290463880135, 0.003720102943404156, 0.0036941274965778524, 0.0036652195301701542, 0.0036500805025443585, 0.0036235110216634994, 0.003599018180611377, 0.0035741276811336606, 0.0035627548987992824, 0.00355023727129683, 0.0035432826931597904, 0.0035246171420700635, 0.0035110590203551173, 0.0035097215846159073, 0.0034946606572120223, 0.003457755286407555, 0.0034177499029769804, 0.0033700618440782384, 0.0033604411165829035, 0.0033508472004721832, 0.003309480467280154], [0.0, 0.0, 1.1978497546792644e-235, 2.7330946898161856e-122, 2.031828873542654e-51, 2.510323977050349e-37, 2.883239038928314e-26, 1.4408499336586e-20, 7.862998646067507e-18, 6.66144222993685e-14, 1.0822791751322334e-10, 3.1191243734658203e-09, 4.5613774469204704e-08, 4.432401898834107e-07, 2.1460660785561543e-06, 4.733382858506652e-06, 1.4021825084495357e-05, 4.091260382639164e-05, 7.013656735172001e-05, 0.00011055503398581719, 0.0001670145844372821, 0.00021084884553785756, 0.0003933446515196671, 0.0006057449751055524, 0.0008193045400731181, 0.0009126860468621782, 0.000892865746265818, 0.0011455401094632204, 0.0014546040773995037, 0.0013988651955600762, 0.0014451968045941584, 0.001595899212288454, 0.0017984710988982818, 0.001971620848349164, 0.0021098298509054417, 0.0021869618536292557, 0.0022708332016752836, 0.0024620288021744373, 0.002584574832432821, 0.002766594409823183, 0.0028410603704573973, 0.00293700877272895, 0.0030085858652340253, 0.0030909831845986053, 0.0031236875628717917, 0.0032127613209939157, 0.0032507069754657467, 0.003305605246977643, 0.003472000363487217, 0.003539772465484795, 0.0036525449146240967, 0.0037038003661525633, 0.003710233649797071, 0.003785893476979548, 0.003759296133626483, 0.003750794588577047, 0.0036886095673259816, 0.003799061691772489, 0.0038221390700313813, 0.0038070466490931353, 0.0037855230072311665, 0.0038262474751914657, 0.003894424207644167, 0.0038811580508088, 0.0038347037298934964, 0.0038107940648019582, 0.003774716928096674, 0.0038144393080883116, 0.0038216895352090967, 0.0038891826195772113, 0.003862441528194562, 0.0038314208276247303, 0.0037751480959464945, 0.0038312880695285313, 0.0038806065185426064, 0.003850176631860639, 0.0038475956790072763, 0.0037996880562394, 0.0037859212894652793, 0.0037417750153537813, 0.0037271461303815963, 0.0037010435213614286, 0.0036718751628065835, 0.0036565424810394527, 0.0036298019659319514, 0.003605141756604731, 0.0035800440756903256, 0.0035685520314388416, 0.0035557597666956444, 0.0035486881415978657, 0.003529877350348676, 0.0035161041153514705, 0.0035146456426829523, 0.0034995139197450385, 0.0034624681556377265, 0.003422403017556142, 0.003374526740148218, 0.003364796290693934, 0.0033550877197635375, 0.003313638246910857], [0.0, 0.0, 2.4629490175013267e-234, 1.3064907393211895e-121, 3.913201208939899e-51, 3.9744341912152234e-37, 3.962141721723037e-26, 1.843270914002365e-20, 9.721153728353647e-18, 7.795679844753486e-14, 1.2215471088034253e-10, 3.446745177485745e-09, 4.958686252354269e-08, 4.753832453766815e-07, 2.2769211612557457e-06, 4.9969503703791175e-06, 1.4692000465875608e-05, 4.2588586652993e-05, 7.27328980135069e-05, 0.00011428222083248206, 0.00017203575377114545, 0.00021689786966655402, 0.00040324544531222985, 0.0006191551444951649, 0.0008355936115818582, 0.0009298019423797993, 0.0009095015686126476, 0.001164267349777959, 0.0014765349077543598, 0.001419624295871998, 0.001465801694247306, 0.0016171929039077314, 0.0018200929568142103, 0.0019940619360371745, 0.00213252474747709, 0.0022094800175462112, 0.0022933888225379648, 0.002485112811503109, 0.002607524217935077, 0.0027895941748048354, 0.0028631766064811295, 0.0029587833617433935, 0.0030301607292789793, 0.0031123753878419705, 0.0031446293313455867, 0.0032326857091014073, 0.0032701998967536263, 0.003324752541689701, 0.0034908447417884136, 0.0035583385242922744, 0.0036709333118850294, 0.0037211849229119593, 0.003727619670696654, 0.0038025290929759106, 0.003775548384432077, 0.0037666238774558976, 0.003703711642198013, 0.003813613011673029, 0.0038363818105452514, 0.0038206102819589383, 0.003798905352232667, 0.00383926571603846, 0.003906802728448891, 0.0038932748025422214, 0.003846443119058807, 0.0038221422964202136, 0.003785591913557766, 0.003825223933099968, 0.0038319987579546588, 0.003899034388681713, 0.003872260634619091, 0.003840805067463318, 0.0037842084392498807, 0.0038401149785810304, 0.0038889518485704017, 0.0038582933903569564, 0.003855626458970948, 0.0038073567043649488, 0.0037935090023107527, 0.003749010942445069, 0.0037341791889566388, 0.003707949590044292, 0.003678520873955724, 0.0036629944885757056, 0.003636083063681825, 0.0036112555892532957, 0.003585950791374783, 0.0035743394897449214, 0.003561272451858243, 0.0035540837461031606, 0.0035351277883286544, 0.0035211394001000286, 0.003519559805227302, 0.0035043573910600047, 0.00346717151131455, 0.003427046983023498, 0.0033789828205748845, 0.003369142663036947, 0.0033593194498146876, 0.0033177875738075804], [0.0, 0.0, 5.021309693917372e-233, 6.217844976856615e-121, 7.522436579685805e-51, 6.284311176291905e-37, 5.439842654871281e-26, 2.3564079938998766e-20, 1.2010966846001509e-17, 9.118881960337202e-14, 1.3782213320247226e-10, 3.807603628219592e-09, 5.389200491410528e-08, 5.097443719717285e-07, 2.4153053411819496e-06, 5.274291215905162e-06, 1.5391945698510586e-05, 4.4327540300039177e-05, 7.541659302414548e-05, 0.00011812256824568279, 0.00017719141488904295, 0.00022310046732624015, 0.00041336183851682987, 0.0006328163823747945, 0.0008521507575050294, 0.0009471808363419076, 0.0009263916264697392, 0.0011832388794391726, 0.0014987218542081967, 0.0014406226231346644, 0.0014866330041704817, 0.001638701451250412, 0.001841905556935739, 0.0020166861215363003, 0.0021553907573844014, 0.0022321581415487403, 0.0023160965693967725, 0.0025083389155277983, 0.002630603606857738, 0.0028127107743607144, 0.002885394500523353, 0.0029806500491845753, 0.003051821538241214, 0.003133847257458105, 0.0031656449046564314, 0.0032526708856026117, 0.003289748488943196, 0.0033439505743882826, 0.003509731197687261, 0.0035769423224067337, 0.003689354360095336, 0.003738594624651196, 0.0037450306419652382, 0.0038191834226414694, 0.00379181821712055, 0.003782468943422432, 0.0037188277712581776, 0.0038281731722736917, 0.003850631579751578, 0.0038341786891532208, 0.003812292287985459, 0.0038522863424033404, 0.003919180083819189, 0.0039053898578763585, 0.0038581806099811282, 0.003833487957305176, 0.003796463684726891, 0.0038360043789708326, 0.003842302470881366, 0.0039088784317841225, 0.003882072397168541, 0.00385018154984266, 0.0037932612618664955, 0.0038489330327389293, 0.0038972867181702965, 0.0038663997749520257, 0.003863646766981992, 0.003815015019480486, 0.003801086456655829, 0.0037562367151192932, 0.0037412020115521684, 0.0037148455986517324, 0.0036851565660710336, 0.003669436432066285, 0.0036423542260602616, 0.0036173595937067176, 0.003591847748015718, 0.003580117196102561, 0.0035667752545647615, 0.0035594694367399797, 0.0035403683890974182, 0.0035261648117261347, 0.003524464011455931, 0.003509191011877423, 0.00347186529724713, 0.0034316817449712217, 0.0033834300348380927, 0.0033734801849460757, 0.0033635423438538414, 0.0033219284031566812], [0.0, 0.0, 1.0150492274743383e-231, 2.946153301148558e-120, 1.44333185051658e-50, 9.923774519907983e-37, 7.461903816662501e-26, 3.0102509523341797e-20, 1.4830939809584076e-17, 1.0661813039895576e-13, 1.5544098669876418e-10, 4.204945375579706e-09, 5.855569527614984e-08, 5.464681276661707e-07, 2.5616231250572206e-06, 5.566072278320867e-06, 1.612286852398089e-05, 4.6131580809551044e-05, 7.819024200164094e-05, 0.00012207905281378954, 0.00018248462584185372, 0.00022945990426007104, 0.00042369757429667066, 0.0006467322288330427, 0.0008689791008415928, 0.0009648254969998676, 0.0009435385905557878, 0.0012024566792797203, 0.0015211665420700562, 0.0014618616943965945, 0.001507692051238902, 0.0016604258817232611, 0.0018639095363502565, 0.0020394938502684553, 0.0021784281580523855, 0.0022549963990627117, 0.002338956531450991, 0.0025317070591531396, 0.0026538128497029688, 0.002835943949174818, 0.00290771375144416, 0.003002608494644686, 0.0030735679268017705, 0.0031553984027403894, 0.0031867338889384387, 0.0032727164525204826, 0.003309352355105534, 0.0033631989451763955, 0.0035286593091927217, 0.0035955834351531473, 0.0037078076232069006, 0.0037560290620145013, 0.003762466153389886, 0.003835856072592799, 0.0038081052544122348, 0.0037983294244448686, 0.0037339576226717137, 0.0038427418499330894, 0.0038648880623363643, 0.003847751578859309, 0.0038256835301337592, 0.00386530907860922, 0.003931556013781425, 0.0039175029659343375, 0.003869915966302823, 0.0038448308242563845, 0.003807332034239453, 0.0038467804387779386, 0.003852600480232711, 0.003918714564561859, 0.003891876633724988, 0.0038595501059082563, 0.0038023064059515706, 0.0038577420777597547, 0.0039056109832886028, 0.00387449564847723, 0.0038716564680736803, 0.0038226628770749696, 0.0038086535303769225, 0.0037634522208126187, 0.0037482144905815443, 0.0037217314432019433, 0.003691782141609695, 0.003675868218437012, 0.0036486153642312975, 0.0036234536851357394, 0.003597734865468868, 0.003585885072927651, 0.0035722681026368543, 0.003564845143617971, 0.0035455990857902386, 0.0035311802874088507, 0.0035293582006336653, 0.0035140147229753924, 0.003476549457300427, 0.0034363072490426155, 0.003387868332467126, 0.0033778088078066128, 0.0033677563551620824, 0.0033260606901936436], [0.0, 0.0, 2.0345375701214484e-230, 1.389801223270697e-119, 2.764108971140272e-50, 1.565066983176876e-36, 1.0226333025107012e-25, 3.8427825989020815e-20, 1.8301636424647365e-17, 1.246012505574025e-13, 1.7524674106793044e-10, 4.642319813206816e-09, 6.360643197428935e-08, 5.857078761700317e-07, 2.716298999404707e-06, 5.872989774869259e-06, 1.68860201540365e-05, 4.8002884931658346e-05, 8.105649808817184e-05, 0.00012615471351797695, 0.00018791849726392022, 0.00023597949674559812, 0.000434256435395241, 0.0006609062460395688, 0.000886081772591534, 0.0009827386950019956, 0.0009609451343201215, 0.0012219227234186746, 0.0015438705822920602, 0.0014833430143458537, 0.0015289801398407966, 0.0016823672088219334, 0.0018861055180688102, 0.002062485552842076, 0.0022016372123669302, 0.00227799494973857, 0.0023619687845336467, 0.002555217174082092, 0.0026771517846791207, 0.002859293428500648, 0.0029301340483119187, 0.0030246583487773438, 0.0030953995212285074, 0.003177028425083575, 0.0032078958830495407, 0.0032928220059142196, 0.003329011092847772, 0.003382497249126471, 0.0035476286498850717, 0.0036142614337684575, 0.0037262926614134123, 0.003773487822610905, 0.0037799257917311107, 0.003852546646942021, 0.003824409116685694, 0.003814204956345764, 0.0037491008627217066, 0.003857318719462591, 0.003879150941575039, 0.0038613286580728343, 0.003839078793176328, 0.00387833364797681, 0.0039439302575839455, 0.003929613875119097, 0.0038816489510090655, 0.0038561706734915172, 0.0038181967542298117, 0.00385755190513519, 0.0038628925918806254, 0.00392854260242641, 0.003901673161897938, 0.0038689105665841556, 0.0038113437134612745, 0.003866541959252648, 0.003913924499795561, 0.003882580873700643, 0.0038796554272235374, 0.0038303001525997952, 0.0038162101013157644, 0.003770657346942818, 0.0037552165184512837, 0.003728607019708579, 0.003698397503034964, 0.0036822897546285598, 0.0036548663893779206, 0.0036295377787341383, 0.003603612063618816, 0.0035916430426686397, 0.003577750923939257, 0.0035702107968936156, 0.0035508198115916357, 0.0035361857643822488, 0.0035342423120844216, 0.0035188284651908037, 0.003481223935396362, 0.0034409234409331665, 0.0033922976630416475, 0.003382128483055912, 0.0033719614370742246, 0.003330184390203874], [0.0, 0.0, 4.0434570536524495e-229, 6.527275369050363e-119, 5.283545236128801e-50, 2.4650504179359762e-36, 1.4002229539114112e-25, 4.90207358663012e-20, 2.2570528151473907e-17, 1.4555113933562151e-13, 1.9750231287226814e-10, 5.123607170300155e-09, 6.907486067672283e-08, 6.276262805944039e-07, 2.8797783152844855e-06, 6.19577038984705e-06, 1.7682696582311324e-05, 4.994369145598081e-05, 8.401807903305753e-05, 0.0001303526525148203, 0.0001934961927705151, 0.0002426626118313295, 0.0004450422438804332, 0.0006753420176879657, 0.0009034619110860844, 0.001000923202753545, 0.0009786139333441274, 0.0012416389787361234, 0.0015668355709315903, 0.001505068074838148, 0.0015504985614624863, 0.0017045264317740924, 0.0019084941107637646, 0.002085661644822458, 0.002225018168483599, 0.002301153939289716, 0.0023851333909701176, 0.002578869178701086, 0.0027006202376104894, 0.0028827589300955414, 0.002952655070358025, 0.0030467992532643654, 0.0031173159393499523, 0.0031987369179643757, 0.003229130478556888, 0.0033129871358737865, 0.0033487242943105854, 0.0034018450762806343, 0.0035666387889213558, 0.003632975885408937, 0.0037448090311602102, 0.0037909704910250477, 0.003797409140733779, 0.003869254747308453, 0.003840729421988811, 0.0038300951728127103, 0.0037642571558186215, 0.0038719034541364003, 0.0038934198993424087, 0.0038749096326108636, 0.003852477790475268, 0.003891359772833085, 0.003956302553705424, 0.003941722333121358, 0.003893379326435152, 0.003867507280653178, 0.0038290576363374292, 0.0038683185701995654, 0.0038731786113312227, 0.0039383623605288385, 0.003911461799029708, 0.003878262762577824, 0.0038203730261571235, 0.003875332522682716, 0.00392222712348937, 0.0038906553133307986, 0.0038876435093570375, 0.0038379267214720867, 0.0038237560472826086, 0.003777851980912132, 0.003762207987563759, 0.0037354722241833183, 0.0037050025528185065, 0.003688700947598661, 0.0036611072127041384, 0.003635611789720655, 0.00360947926238077, 0.003597391027808248, 0.0035832236463813416, 0.0035755663267717274, 0.0035560304997367905, 0.0035411811799367105, 0.0035391162851924523, 0.003523632179420537, 0.003485888675514928, 0.0034455302663915915, 0.0033967179761926476, 0.003386439162184289, 0.0033761575429796685, 0.0033342994585235054], [0.0, 0.0, 7.967984254034373e-228, 3.052060070223687e-118, 1.0080382325427264e-49, 3.8775331402248856e-36, 1.9154967974665733e-25, 6.248916694616175e-20, 2.7817882405808955e-17, 1.6994589833153516e-13, 2.2250114515734616e-10, 5.653047889517262e-09, 7.499392633647067e-08, 6.723958219850137e-07, 3.0525282065346125e-06, 6.5351724434434554e-06, 1.8514239924561334e-05, 5.1956302556519364e-05, 8.70777682773434e-05, 0.0001346760359110958, 0.0001992209293421805, 0.000249512667556989, 0.0004560588608660884, 0.0006900431484185408, 0.0009211226613023443, 0.0010193817937642464, 0.0009965476647309734, 0.001261607404341342, 0.0015900630886091396, 0.0015270383544210401, 0.0015722485942705185, 0.0017269045351808315, 0.0019310759085060386, 0.0021090225265022345, 0.0022485712596368875, 0.0023244734993314946, 0.0024084503994374565, 0.002602662977966084, 0.0027242180218480286, 0.002906340160155999, 0.0029752764869325475, 0.003069030840783338, 0.003139316790529927, 0.0032205234669227976, 0.003250437259722898, 0.0033332114265149843, 0.00336849154616616, 0.0034212420116514386, 0.003585689291041241, 0.003651726353157928, 0.0037633562851544906, 0.0038084766488282735, 0.00381491578113831, 0.003885979972830517, 0.003857065786050075, 0.003845999705409215, 0.003779426164509988, 0.003886495725701769, 0.0039076946161227385, 0.003888494207121137, 0.0038658802342649147, 0.0039043871745200417, 0.003968672639863264, 0.00395382808692764, 0.0039051068542738723, 0.0038788404208157236, 0.0038399144717130474, 0.003879080225677369, 0.0038834583437305768, 0.003948173653765327, 0.0039212423622008484, 0.003887606524385035, 0.003829394185610405, 0.0038841136133753954, 0.003930518710100259, 0.0038987188300204766, 0.0038956205793513085, 0.00384554245907801, 0.003831291246059445, 0.003785036010110136, 0.0037691887903198947, 0.0037423269526384332, 0.0037115971934427627, 0.003695101704324315, 0.0036673377454370403, 0.0036416756333409336, 0.0036153363817023653, 0.003603128950865182, 0.0035886861979186804, 0.00358091166350694, 0.003561231083512948, 0.00354616647142022, 0.0035439800594035814, 0.003528425806622664, 0.003490543621695298, 0.0034501276712208986, 0.003401129221603385, 0.0033907407967359213, 0.0033803446263232545, 0.003338405850540196], [0.0, 0.0, 1.5568709364355246e-226, 1.420810363766204e-117, 1.9195962058883748e-49, 6.091469378657246e-36, 2.618018094903087e-25, 7.960136988057511e-20, 3.426391303496118e-17, 1.9833877884913144e-13, 2.505706182271664e-10, 6.235274471570747e-09, 8.139903514382022e-08, 7.20199343771299e-07, 3.235038542483653e-06, 6.8919870971115216e-06, 1.938203978756638e-05, 5.404308514954803e-05, 9.023841603929496e-05, 0.000139128094530025, 0.00020509597769533978, 0.000256533133156883, 0.0004673101862105489, 0.0007050132632207978, 0.0009390671741622153, 0.0010381172419834162, 0.0010147490064836243, 0.0012818299510344467, 0.0016135546999619741, 0.0015492553178544008, 0.0015942315026909752, 0.0017495024886564814, 0.0019538514905019797, 0.0021325685826720057, 0.0022722967039500077, 0.0023479537472208293, 0.0024319198448244676, 0.0026265984632895803, 0.0027479449381810394, 0.0029300368132540028, 0.0029979979574607032, 0.003091352734976018, 0.0031614016756429573, 0.003242387649544204, 0.0032718158034920146, 0.00335349445597507, 0.0033883124296166765, 0.003440687635223046, 0.003604779716573302, 0.00367051239603397, 0.0037819339723758633, 0.003826005874590001, 0.003832445290692148, 0.0039027219201778584, 0.003873417822290089, 0.0038619181835857774, 0.003794607549490243, 0.00390109520438933, 0.003921974771019942, 0.003902082085091388, 0.003879285835660819, 0.0039174155734035335, 0.003981040253022079, 0.003965930882828366, 0.003916831295582922, 0.003890169868492139, 0.003850767051024914, 0.0038898366628305108, 0.003893731593870536, 0.003957976296782733, 0.003931014668235582, 0.003896941682294775, 0.0038384070332066257, 0.003892885076520831, 0.0039387991152945384, 0.003906771286370499, 0.003903586502038846, 0.0038531472407760813, 0.003838815575403228, 0.003792209321916621, 0.0037761588191218744, 0.0037491711010893642, 0.003718181327403291, 0.003701491931803996, 0.0036735578988288694, 0.003647729224869457, 0.0036211833415654483, 0.0036088567343958485, 0.0035941385065546023, 0.00358624673740521, 0.003566421496260829, 0.0035511415762396626, 0.0035488335742264554, 0.00353320928781764, 0.003495188718036932, 0.003454715601279432, 0.0034055313490103365, 0.003395033338309747, 0.003384522640606115, 0.003342503521693928], [0.0, 0.0, 3.0162356394166437e-225, 6.585079955499947e-117, 3.648581620645184e-49, 9.557084978652807e-36, 3.5749570945618127e-25, 1.0132748099566556e-19, 4.217745767921344e-17, 2.313696834889287e-13, 2.820758255078952e-10, 6.875345980306912e-09, 8.832822704385253e-08, 7.712306232367417e-07, 3.4278229161132387e-06, 7.267039596208368e-06, 2.0287534666813777e-05, 5.620647226396776e-05, 9.350294040006332e-05, 0.0001437121246681816, 0.000211124662638553, 0.00026372752924579086, 0.0004788001581917867, 0.0007202560068154458, 0.0009572986058156635, 0.0010571323211226416, 0.0010332206368711722, 0.0013023085607615395, 0.0016373119530936685, 0.0015717204156271579, 0.001616448536985985, 0.0017723212464668616, 0.0019768214208299266, 0.002156300182391209, 0.002296194704245214, 0.0023715947858965344, 0.0024555417480925604, 0.002650675512428579, 0.002771800774749848, 0.0029538485722743666, 0.0030208191314002454, 0.0031137645504175425, 0.0031835701870504478, 0.0032643290354421373, 0.0032932656794781284, 0.0033738357964089257, 0.0034081865203932776, 0.003460181521952869, 0.0036239096214416926, 0.003689333568999313, 0.003800541638087255, 0.0038435577438893755, 0.0038499972441615104, 0.003919480183563691, 0.0038897851418332793, 0.003877850234691149, 0.00380980096961074, 0.003915701558923578, 0.003936260041767903, 0.003915672968858778, 0.0038926943046688253, 0.0039304446888821926, 0.003993405129402223, 0.003978030466425999, 0.003928552410792386, 0.0039014953976409675, 0.0038616151644650437, 0.0039005876724828264, 0.0039039981661945574, 0.003967770103984179, 0.003940778533707269, 0.003906268066394175, 0.0038474114101499715, 0.003901646757178277, 0.003947068194678686, 0.003914812544933527, 0.003911541142211236, 0.003860740941900493, 0.0038463289130490986, 0.003799371803704464, 0.0037831179663758456, 0.003756004565557291, 0.003724754857211134, 0.0037078715370598655, 0.003679767584159094, 0.003653772479611496, 0.0036270200619878744, 0.003614574300996072, 0.0035995805003417535, 0.003591571478825312, 0.0035716016713760327, 0.0035561064318621184, 0.003553676769233776, 0.00353798256408951, 0.003499823908700687, 0.0034592940024819312, 0.0034099243082041414, 0.0033993167385603655, 0.003388691539386531, 0.00334659242747781], [0.0, 0.0, 5.794105982206819e-224, 3.03856048442567e-116, 6.921808085529155e-49, 1.4974959794725573e-35, 4.877261036746408e-25, 1.2889166937910225e-19, 5.188650097607505e-17, 2.697783783025399e-13, 3.1742375172129263e-10, 7.578785416073589e-09, 9.582235944386201e-08, 8.256949711518042e-07, 3.631419668661014e-06, 7.661190550635183e-06, 2.123221337305671e-05, 5.844896442354784e-05, 9.687432838876051e-05, 0.00014843148884226658, 0.000217310363413799, 0.0002710994279867828, 0.000490532753158696, 0.0007357750430157665, 0.0009758201169082508, 0.001076429803966074, 0.0010519652337834873, 0.0013230451660634541, 0.0016613363790196408, 0.001594435083470448, 0.0016389009328275422, 0.0017953617471660693, 0.0019999862481765228, 0.0021802176787592458, 0.002320265447854736, 0.002395396703720344, 0.0024793161161374144, 0.0026748939893735733, 0.0027957853069595093, 0.0029777751083531166, 0.0030437396481997345, 0.0031362658925864757, 0.0032058219085776764, 0.003286347186241891, 0.0033147864499526976, 0.0033942350139857798, 0.0034281133887555525, 0.003479723241773685, 0.0036430785571732504, 0.0037081894229687943, 0.0038191788238461904, 0.003861131829327193, 0.003867571213343415, 0.003936254354757382, 0.0039061673535198153, 0.0038937954839837886, 0.0038250060818899078, 0.003930314456533469, 0.003950550104740903, 0.003929266559619418, 0.003906105350194247, 0.003943474239396432, 0.004005767004488399, 0.003990126582643253, 0.003940269959712257, 0.003912816781673269, 0.003872458601755517, 0.003911333045026435, 0.00391425786480358, 0.0039775548895346555, 0.003950533774943888, 0.003915585506573456, 0.0038564071574677832, 0.003910398500280497, 0.003955325803803437, 0.003922842468217883, 0.003919484364622888, 0.003868323437764439, 0.0038538311367136303, 0.003806523342842523, 0.0037900661244946385, 0.0037628272420717206, 0.0037313176853951764, 0.003714240427139995, 0.0036859667127364837, 0.0036598053129050455, 0.0036328464630253064, 0.0036202815733028157, 0.0036050121073836696, 0.0035968858181803314, 0.0035767715423104477, 0.0035610609758161653, 0.003558509584063551, 0.003542745576587099, 0.0035044491379099293, 0.0034638628208005806, 0.0034143080490305496, 0.003403590949198941, 0.003392851276280787, 0.003350672523438871], [0.0, 0.0, 1.103611237648398e-222, 1.3959074201677196e-115, 1.310679015204652e-48, 2.3433799924308427e-35, 6.6479560966784e-25, 1.638375137621002e-19, 6.379092765939815e-17, 3.1441966213674906e-13, 3.5706789417513324e-10, 8.35162018011349e-09, 1.0392530276769527e-07, 8.838098607470188e-07, 3.846392951663873e-06, 8.075337254201113e-06, 2.221761648781391e-05, 6.0773131040448745e-05, 0.0001003556370661554, 0.0001532896165249311, 0.00022365651402214722, 0.0002786524532403645, 0.0005025119851581326, 0.000751574054068157, 0.0009946348718329508, 0.0010960124616683573, 0.0010709854740742258, 0.0013440416895181499, 0.001685629491108793, 0.0016174007418672306, 0.001661589910868706, 0.0018186249132318493, 0.0020233465055728276, 0.0022043214086869484, 0.002344509106432358, 0.0024193595743187014, 0.0025032429416514982, 0.0026992537442385453, 0.0028198982973945503, 0.003001816080816944, 0.00306675913725772, 0.003158856357835705, 0.0032281564154915767, 0.0033084416555648434, 0.0033363776698335616, 0.003414691668886501, 0.0034480925994915266, 0.0034993123595962036, 0.003662286070905014, 0.0037270795048191235, 0.0038378450675164125, 0.0038787277005381186, 0.0038851667670779973, 0.003953044023097261, 0.003922564063917745, 0.0039097535546434945, 0.0038402225415235716, 0.003944933562963154, 0.0039648446349641875, 0.003942862557438003, 0.003919518680051125, 0.003956503942437529, 0.004018125613038328, 0.004002218975731362, 0.003951983701540026, 0.0039241337934596485, 0.0038832971521548234, 0.003922072570428138, 0.0039245104934619275, 0.003987330467366663, 0.003960280208033557, 0.003924893832530902, 0.003865394116015061, 0.0039191401506382005, 0.0039635717981678755, 0.003930860918691362, 0.003927416033994779, 0.003875894603663454, 0.003861322124098065, 0.003813663826698523, 0.0037970031859004805, 0.003769639026673073, 0.0037378697145045154, 0.003720598509120579, 0.0036921551959011845, 0.0036658276401227764, 0.0036386624647730143, 0.0036259784739959013, 0.003610433255836327, 0.003602189685939168, 0.003581931042573664, 0.003566005145693168, 0.0035633319584203317, 0.003547498266525219, 0.0035090643499516377, 0.0034684220022660646, 0.0034186825213913656, 0.003407855921994098, 0.003397001804964021, 0.003354743765178865], [0.0, 0.0, 2.0842715719893993e-221, 6.384505169516545e-115, 2.4771621925461204e-48, 3.6623226707253517e-35, 9.053307288265598e-25, 2.0810990314645726e-19, 7.837796765936215e-17, 3.66280774164452e-13, 4.0151337188709827e-10, 9.200425868611609e-09, 1.1268414854759362e-07, 9.458055872401188e-07, 4.073333827451745e-06, 8.51041504342683e-06, 2.324533784785067e-05, 6.318161181938245e-05, 0.00010394999460617076, 0.00015829000486881374, 0.00023016660353317075, 0.0002863902806943484, 0.0005147419055372823, 0.0007676567399717032, 0.0010137460379662168, 0.0011158830630402094, 0.0010902840328922004, 0.0013653000431768432, 0.001710192784521367, 0.0016406187955584919, 0.0016845166763122521, 0.0018421116506996396, 0.002046902710130288, 0.0022286116926684167, 0.002368925835765681, 0.0024434834564253357, 0.002527322202987469, 0.0027237546131520284, 0.0028441394957347777, 0.0030259711371237084, 0.003089877217882844, 0.003181535533364185, 0.003250573274479331, 0.0033306119890135597, 0.0033580388866744637, 0.0034352053153014358, 0.003468123711918153, 0.003518948435312109, 0.0036815317053921527, 0.003746003357398533, 0.003856539903279864, 0.0038963449242031714, 0.0039027834712610917, 0.003969848775503657, 0.003938974877335331, 0.003925724067783237, 0.00385545000189544, 0.003959558542482858, 0.00397914330612463, 0.003956460661257519, 0.003932934000971594, 0.0039695335145567955, 0.004030480689091482, 0.0040143073892784055, 0.003963693394868303, 0.0039354462053373075, 0.0038941306044642378, 0.0039328060382358455, 0.003934755855603232, 0.003997096651185857, 0.003970017648830066, 0.0039341928737778396, 0.0038743721264789736, 0.003927871552944471, 0.003971806033223548, 0.0039388677587850725, 0.003935336015018196, 0.003883454314878753, 0.0038688017528915666, 0.0038207931426419536, 0.0038039290430277226, 0.003776439815415269, 0.0037444108471108256, 0.0037269456901081605, 0.0036983329450268007, 0.0036718393766739803, 0.0036444679873676683, 0.0036316649257997304, 0.0036158438739097186, 0.0036074830126280326, 0.003587080105734382, 0.003570938879148584, 0.003568143832076457, 0.003552240575185862, 0.003513669489177516, 0.0034729714929686182, 0.003423047675245396, 0.003412111608772822, 0.0034011430791710804, 0.003358806108355068], [0.0, 0.0, 3.903022076944167e-220, 2.9072325139398816e-114, 4.6729791620878743e-48, 5.716198850762669e-35, 1.2317805906250274e-24, 2.64157559253205e-19, 9.624088883530107e-17, 4.265013595863485e-13, 4.5132257151719014e-10, 1.0132373651928759e-08, 1.2214943077905372e-07, 1.01192595916815e-06, 4.312861409109954e-06, 8.967398696494257e-06, 2.4317026058651687e-05, 6.56771181717354e-05, 0.0001076606013743372, 0.00016343621941793986, 0.00023684417637745978, 0.00029431663797383433, 0.0005272266025209616, 0.00078402681777662, 0.0010331567848883138, 0.0011360443738217302, 0.0011098635830011751, 0.0013868221279939462, 0.0017350277356431157, 0.0016640906330461025, 0.0017076824184768813, 0.0018658228487953735, 0.0020706553627766393, 0.0022530888345533013, 0.0023935157755891347, 0.002467768393724679, 0.0025515538640224853, 0.002748396418149276, 0.002868508638672188, 0.0030502399128040677, 0.003113093499254887, 0.003204302997189554, 0.0032730720436277973, 0.0033528577241576877, 0.0033797696406552714, 0.003455775501428829, 0.0034882062798823324, 0.003538631023797573, 0.0037008149990163143, 0.003764960519536826, 0.003875262861649037, 0.003913983064062497, 0.003920420888857112, 0.003986668196492159, 0.0039553993958336, 0.003941706642461178, 0.0038706881145877344, 0.003974189057899866, 0.003993445790581531, 0.003970060568909081, 0.003946351018615332, 0.003982562671374825, 0.004042831965977877, 0.0040263915662176976, 0.003975398797692514, 0.003946753789117164, 0.003904958747034242, 0.0039435332375850505, 0.003944993754336403, 0.004006853254476743, 0.003979745912958432, 0.003943482459643653, 0.0038833410293833874, 0.003936592551779228, 0.003980028364378585, 0.003946862850897272, 0.003943244172358505, 0.003891002446680586, 0.003876269900774479, 0.003827911178046972, 0.003810843588325566, 0.0037832295043683257, 0.0037509409858107363, 0.003733281877241858, 0.0037044998715224757, 0.0036778404380065264, 0.0036502629509891516, 0.0036373408514850073, 0.003621243889869413, 0.0036127657288319505, 0.00359221866542182, 0.0035758621139032566, 0.003572945144873297, 0.0035569724439194, 0.003518264500005104, 0.003477511239059083, 0.003427403460609396, 0.0034163579614213627, 0.003405275052697374, 0.0033628595086810783], [0.0, 0.0, 7.246965974634628e-219, 1.3179962911316256e-113, 8.798619773339488e-48, 8.910352520060168e-35, 1.674427807910363e-24, 3.350612752738016e-19, 1.181016049570829e-16, 4.963963576822915e-13, 5.071213837209529e-10, 1.1155281512523544e-08, 1.3237536130049588e-07, 1.0824290228124495e-06, 4.565624040936255e-06, 9.447303873037397e-06, 2.5434386036866757e-05, 6.826243463893823e-05, 0.00011149073100233247, 0.00016873189480560793, 0.00024369283262156563, 0.0003024353047306914, 0.0005399702007634356, 0.0008006880208614251, 0.0010528702835879173, 0.0011564991559434353, 0.001129726794088094, 0.0014086098332508977, 0.001760135801515923, 0.0016878176260924282, 0.0017310883103610422, 0.001889759379567095, 0.002094604947991775, 0.0022777531213195607, 0.002418279049397758, 0.002492214414696155, 0.0025759378740234755, 0.002773178967065511, 0.0028930054498289694, 0.0030746220314041973, 0.0031364075803867533, 0.0032271583181216145, 0.0032956522724037498, 0.003375178390520615, 0.0034015694645729245, 0.0034764017694738115, 0.0035083398517624376, 0.003558359674917236, 0.0037201354857944067, 0.003783950526055808, 0.003894013469479668, 0.003931641680928427, 0.003938078579912191, 0.004003501868187115, 0.0039718372192391075, 0.003957700895692863, 0.0038859365293919938, 0.003988824770569657, 0.00400775175937753, 0.003983661977121834, 0.003959769437579101, 0.0039955911275908204, 0.004055179176326941, 0.004038471248836225, 0.0039870996674186325, 0.003958056316090995, 0.003915781367770979, 0.003954253957205329, 0.003955223992451617, 0.004016600090508369, 0.003989464815820489, 0.0039527624192808065, 0.0038923006650934196, 0.003945302991613693, 0.003988238647001826, 0.003954846057397218, 0.003951140370658911, 0.003898538874331591, 0.003883726445421591, 0.0038350178202953113, 0.003817746714260797, 0.0037900079896209583, 0.003757460033228204, 0.0037396069776955932, 0.0037106558868349824, 0.0036838307396088073, 0.003656047275862358, 0.003643006173870467, 0.0036266332320381268, 0.003618037765196257, 0.0035973466553271285, 0.003580774787744716, 0.0035777358367224967, 0.0035616938141457867, 0.0035228493269188815, 0.0034820411867499588, 0.003431749827559016, 0.003420594931886131, 0.0034093976793997294, 0.0033669039219276133], [0.0, 0.0, 1.334196965055929e-217, 5.948815589565227e-113, 1.6535470652516633e-47, 1.3871367556343803e-34, 2.2740838581716793e-24, 4.246941990683317e-19, 1.4483800053813263e-16, 5.774822264611574e-13, 5.69606088581815e-10, 1.2277669634161178e-08, 1.4342007999728708e-07, 1.157587821042065e-06, 4.83230052042425e-06, 9.951188595456863e-06, 2.6599180581679405e-05, 7.094042032433332e-05, 0.00011544373145770044, 0.00017418073543787102, 0.00025071622822471555, 0.00031075011271192155, 0.0005529768608743588, 0.0008176440981886857, 0.0010728897056509845, 0.0011772501667751125, 0.0011498763320598024, 0.0014306650359739712, 0.0017855184192649936, 0.0017118011292168113, 0.001754735508204475, 0.0019139220975154861, 0.00211875193354365, 0.0023026048228467636, 0.00244321576426182, 0.0025168215324593685, 0.0026004741675133888, 0.002798102053430359, 0.002917629639676663, 0.003099117104429643, 0.003159819050087421, 0.0032501010557367117, 0.0033183135016349725, 0.0033975735095669378, 0.0034234378838330927, 0.0034970836556479515, 0.0035285239704703607, 0.0035781339335286635, 0.0037394926953877783, 0.0038029729077801028, 0.003912791249983803, 0.003949320332698801, 0.0039557561015676175, 0.004020349370335346, 0.003988287945156897, 0.00397370644246363, 0.0039011948943200258, 0.0040034653404071655, 0.004022060882249633, 0.003997264581532981, 0.003973188961406386, 0.004008618596992006, 0.004067522052076433, 0.004050546178783158, 0.00399879576087097, 0.003969353557038644, 0.0039265982541427475, 0.003964967985426886, 0.003965446372426333, 0.004026336972340059, 0.003999174172600485, 0.003962032581669893, 0.00390125087382, 0.003954002716814871, 0.003996436736426966, 0.003962817240629026, 0.003959024474544235, 0.0039060634730901625, 0.0038911712645054043, 0.003842112956779191, 0.0038246383133205206, 0.003796775167283182, 0.0037639678920168974, 0.003745920898680321, 0.003716800902450804, 0.0036898101970117, 0.0036618208822589973, 0.003648660815824601, 0.0036320118287972874, 0.0036232990524281052, 0.0036024640092048033, 0.0035856768385284753, 0.003582515847607216, 0.0035664046273557516, 0.003527423914471382, 0.0034865612823164597, 0.003436086726229745, 0.0034248224721746, 0.0034135109131972403, 0.003370939303923309], [0.0, 0.0, 2.435522725598154e-216, 2.6731831888169526e-112, 3.1017006129716303e-47, 2.1566541627744354e-34, 3.0856985710595778e-24, 5.379220151403149e-19, 1.7751693432124434e-16, 6.715069748523895e-13, 6.395509542692582e-10, 1.3508820255284951e-08, 1.5534592066881845e-07, 1.237691187938516e-06, 5.113601362810868e-06, 1.0480154772426118e-05, 2.781323197501425e-05, 7.371401033275187e-05, 0.00011952302610782665, 0.0001797865161617087, 0.0002579180752766238, 0.00031926494580628354, 0.00056625077891845, 0.0008348988135392347, 0.001093218222433932, 0.0011983001583625314, 0.0011703148583283088, 0.0014529896003461539, 0.001811177005522715, 0.0017360424791890022, 0.0017786251510475486, 0.0019383118392233697, 0.0021430967702242955, 0.0023276441916899996, 0.0024683260106423037, 0.0025415897446202625, 0.002625162664138464, 0.0028231654563634348, 0.0029423809054564664, 0.0031237247312903378, 0.0031833274869258626, 0.0032731307603529954, 0.003341055263492186, 0.003420042594690711, 0.003445374416442568, 0.0035178206901693983, 0.00354875817345408, 0.0035979533394872813, 0.0037588861531118387, 0.0038220271915483666, 0.0039315957227432155, 0.0039670185743705825, 0.003973453008073546, 0.004037210280320103, 0.004004751168983684, 0.003989722895741175, 0.003916462855615021, 0.004018110425898167, 0.0040363728276403615, 0.004010868076697882, 0.003986609292597127, 0.004021644792463122, 0.004079860324481436, 0.004062616097078403, 0.0040104868343000186, 0.003980645282235255, 0.003937409193186536, 0.003975675110187129, 0.0039756606964313455, 0.004036063712827155, 0.00400887379827072, 0.003971292775624691, 0.003910191495624453, 0.003962691571650043, 0.004004622487956699, 0.0039707762629155405, 0.003966896348624699, 0.003913576118213819, 0.00389860423569941, 0.0038491964749042375, 0.0038315182780149035, 0.003803530933488921, 0.0037704644648625784, 0.003752223547446265, 0.003722934829898228, 0.00369577872579052, 0.003667583690499409, 0.0036543047002673855, 0.0036373796085886053, 0.0036285495212979584, 0.0036075706608740933, 0.00359056820417933, 0.003587285117583374, 0.003571104825112004, 0.0035319882072842985, 0.0034910714720975634, 0.0034404141068178594, 0.0034290405343561994, 0.0034176147080721207, 0.0033749656105555195], [0.0, 0.0, 4.408318207768659e-215, 1.1959384620983468e-111, 5.807169406685291e-47, 3.3487179614166552e-34, 4.183189122677128e-24, 6.808527662623993e-19, 2.1743407461570705e-16, 7.804845375388263e-13, 7.178166190352989e-10, 1.4858842320946015e-08, 1.6821969343799052e-07, 1.323044580602841e-06, 5.410270109228445e-06, 1.1035349765241408e-05, 2.9078423610466913e-05, 7.658621721697554e-05, 0.0001237321147772068, 0.00018555308291695773, 0.00026530214221571043, 0.0003279837400685514, 0.0005797961858885009, 0.0008524559447247189, 0.0011138590042211387, 0.0012196518766520719, 0.0011910450290846383, 0.0014755853771131735, 0.0018371129558493273, 0.0017605429945196408, 0.0018027583602885087, 0.00196292942298429, 0.002167639891585982, 0.0023528714628544265, 0.00249360986220732, 0.0025665190331182414, 0.002650003268536556, 0.002848368940471138, 0.002967258931100735, 0.003148444499246764, 0.003206932459195958, 0.003296246973006591, 0.00336387708147183, 0.0034425851512045243, 0.003467378573002378, 0.003538612397263598, 0.0035690419927007625, 0.003617817427651793, 0.0037783153799461, 0.0038411129002248754, 0.003950426403723191, 0.003984735958053765, 0.003991168850802984, 0.004054084173175237, 0.004021226483921232, 0.004005749866488323, 0.003931740057762822, 0.004032759684110798, 0.004050687262709016, 0.004024472156100271, 0.004000030132617536, 0.004034669425995986, 0.004092193724123399, 0.004074680744121227, 0.004022172643390344, 0.003991931261458574, 0.003948213971514592, 0.003986375119037278, 0.0039858667663368605, 0.004045780124626795, 0.004018563507597184, 0.0039805428297972545, 0.003919122370423094, 0.0039713694002912825, 0.004012795756866878, 0.003978722986562206, 0.003974755857499717, 0.003921076684962579, 0.0039060252366813777, 0.003856268262092405, 0.0038383865008799214, 0.0038102751843986154, 0.0037769496544854853, 0.003758514831285155, 0.003729057580749436, 0.0037017362415669806, 0.0036733356209543606, 0.0036599377501720094, 0.0036427364999156416, 0.0036337891026411054, 0.0036126665442204184, 0.0035954488226926577, 0.003592043586780894, 0.003575794349050428, 0.0035365421500495944, 0.003495571702497067, 0.0034447319195813676, 0.0034332490705632243, 0.003421709018070558, 0.0033789827977711157], [0.0, 0.0, 7.911561295427905e-214, 5.326854596226273e-111, 1.0852015854356993e-46, 5.1929419797115435e-34, 5.665894400351482e-24, 8.611483857315354e-19, 2.661619481909279e-16, 9.067341000902555e-13, 8.053593331429137e-10, 1.6338741290516904e-08, 1.821129846245922e-07, 1.4139709495834855e-06, 5.723084679505227e-06, 1.1617967997649442e-05, 3.0396701650802613e-05, 7.956013243021597e-05, 0.0001280745747970239, 0.0001914843533710623, 0.00027287225402705315, 0.00033691048372078055, 0.0005936173471513545, 0.0008703192827783652, 0.0011348152193668022, 0.00124130806070336, 0.00121206949456135, 0.0014984542029838005, 0.0018633276441505453, 0.001785303974947922, 0.0018271362392386903, 0.0019877756484302255, 0.002192381713677606, 0.002378286853570534, 0.0025190673756494896, 0.0025916093640743474, 0.00267499587020655, 0.0028737122557446902, 0.0029922633871556784, 0.0031732759833573115, 0.003230633524882393, 0.003319449225428684, 0.0033867784703797217, 0.003465200676329362, 0.0034894498567016458, 0.0035594582951645913, 0.003589374954740372, 0.0036377257278900625, 0.003797779892544635, 0.0038602295527115226, 0.003969282805286661, 0.004002472032985529, 0.004008903178266068, 0.004070970621599601, 0.004037713480989952, 0.004021786963675986, 0.003947026143503352, 0.004047412770707206, 0.0040650038533430605, 0.004038076512162549, 0.004013451181910003, 0.004047692208699157, 0.004104521980919261, 0.004086739859698926, 0.00403385294326852, 0.0040032112639962715, 0.00395901237532103, 0.003997067799149022, 0.003996064383718607, 0.0040554860202037055, 0.004028243115145241, 0.003989782572683012, 0.00392804333799184, 0.003980036046819973, 0.004020956398410687, 0.003986657273860952, 0.0039826028657617, 0.00392856504860235, 0.003913434145136635, 0.0038633282057849013, 0.0038452428744801064, 0.0038170078162018395, 0.0037834233636427276, 0.0037647946575324626, 0.003735169066622603, 0.003707682660011155, 0.0036790765940468684, 0.003665559888566604, 0.0036480824313453787, 0.0036390177273591525, 0.0036177515931967745, 0.003600318632135715, 0.003596791195404941, 0.0035804731408812787, 0.0035410856875306086, 0.003500061919984641, 0.003449040114840956, 0.0034374480329917244, 0.003425793797303566, 0.0033829908215772773], [0.0, 0.0, 1.407861621520061e-212, 2.362189573650041e-110, 2.024126488450192e-46, 8.042391382197954e-34, 7.667193585121108e-24, 1.0884128868589887e-18, 3.25607857043999e-16, 1.0529250640730247e-12, 9.032411443570898e-10, 1.7960494482613054e-08, 1.971024750477612e-07, 1.5108116494014278e-06, 6.052858770658675e-06, 1.2229252609767621e-05, 3.177007671383463e-05, 8.263892778371123e-05, 0.00013255406204602273, 0.00019758431753567432, 0.0002806322924193655, 0.00034604921712994686, 0.000607718561866459, 0.0008884926311238732, 0.0011560900334212246, 0.001263271441889968, 0.001233390898283763, 0.0015215979000244883, 0.0018898224220922357, 0.0018103267009265305, 0.0018517598726758278, 0.002012851296158553, 0.0022173226347813597, 0.0024038905630701752, 0.0025446985905043396, 0.0026168606876404866, 0.0027001403433788962, 0.002899195137459426, 0.00301739393070529, 0.0031982187464268427, 0.0032544302316275873, 0.003342737040023531, 0.003409758936315569, 0.0034878886591853163, 0.0035115877633121917, 0.003580357896116906, 0.0036097565806498325, 0.003657677765085499, 0.0038172792032469685, 0.0038793766639601927, 0.003988164436208718, 0.004020226345544713, 0.004026655536124613, 0.004087869195971685, 0.004054211749042698, 0.004037833794296301, 0.003962320753842198, 0.004062069339955322, 0.004079322264169621, 0.004051680836256191, 0.00402687213990311, 0.004060712850807653, 0.004116844824130618, 0.004098793182995564, 0.004045527488511138, 0.004014485058653324, 0.003969804190388478, 0.004007752937321199, 0.004006253349863968, 0.004065181211836018, 0.00403791243528532, 0.003999011832625884, 0.0039369542379708465, 0.003988691355231352, 0.00402910426782282, 0.003994578987094091, 0.003990437237999853, 0.003936041084408312, 0.003920830838761372, 0.0038703761934451267, 0.0038520872914113, 0.0038237287251199205, 0.003789885495130674, 0.003771062933569649, 0.003741269199183987, 0.003713617896843439, 0.003684806530254004, 0.0036711710385359795, 0.0036534173315097905, 0.003644235326421532, 0.003622825741825157, 0.0036051775706489376, 0.0036015278837371704, 0.0035851411423903886, 0.0035456187645631666, 0.0035045420710968773, 0.0034533386429809357, 0.003441637373902409, 0.003429868999947833, 0.0033869896380423], [0.0, 0.0, 2.4840838704791574e-211, 1.0428949181710943e-109, 3.7683061703702415e-46, 1.2439237884829565e-33, 1.0366003655379405e-23, 1.3746757022887663e-18, 3.9808364235325307e-16, 1.2221284344605754e-12, 1.0126411182653447e-09, 1.9737132364283608e-08, 2.1327027776786197e-07, 1.6139273906868257e-06, 6.400443302125118e-06, 1.2870497156689176e-05, 3.320062558645266e-05, 8.582585690849227e-05, 0.00013717431198163155, 0.00020385703836413082, 0.00028858619598030655, 0.00035540403276133447, 0.000622104162376641, 0.0009069798047223195, 0.0011776866082415323, 0.0012855447430882726, 0.001255011876309987, 0.0015450182750484783, 0.0019165986185122998, 0.0018356124331039376, 0.0018766303263955265, 0.002038157127358314, 0.0022424630351497517, 0.0024296827723634114, 0.002570503528969758, 0.0026422729378497724, 0.002725436546887309, 0.0029248173060753857, 0.0030426502052965446, 0.003223272338956467, 0.0032783221166996336, 0.0033661099298474017, 0.003432817976658362, 0.003510648580783093, 0.0035337917811838785, 0.0036013107063780406, 0.003630186386057705, 0.0036776730591439157, 0.003836812820089397, 0.0038985537449855332, 0.00400707080169147, 0.004037998439266538, 0.004044425467206943, 0.004104779464364473, 0.004070720874778778, 0.004053889963375954, 0.003977623528062356, 0.004076729044740771, 0.004093642158567098, 0.004065284818712232, 0.004040292705021714, 0.004073731061692771, 0.004129161982372958, 0.0041108404526007565, 0.004057196033152838, 0.004025752413759435, 0.003980589202094758, 0.004018430319986505, 0.004016433465778145, 0.004074865511621104, 0.004047571282198632, 0.004008230437823419, 0.003945854909869149, 0.003997335169439048, 0.004037239220323662, 0.0040024879885382095, 0.003998258838804, 0.003943504667668321, 0.003928215195265939, 0.0038774121125616035, 0.0038589196443034176, 0.0038304378074085635, 0.003796335951787352, 0.0037773195668264017, 0.0037473578901500337, 0.003719541867836514, 0.0036905253501087064, 0.003676771123223354, 0.0036587411291074175, 0.0036494418308670087, 0.003627888924197967, 0.003610025576447239, 0.0036062535921369656, 0.003589798295440357, 0.003550141326056689, 0.0035090121024383488, 0.003457627454450185, 0.0034458170456215416, 0.0034339345802465787, 0.003390979203296384], [0.0, 0.0, 4.345913233415184e-210, 4.584038443860643e-109, 7.0022243153953456e-46, 1.921494640518483e-33, 1.4002102834873867e-23, 1.7349930348203384e-18, 4.863896620887532e-16, 1.417875516272283e-12, 1.1348676929760816e-09, 2.16828262186841e-08, 2.3070429632494253e-07, 1.7236992354787193e-06, 6.766727908768062e-06, 1.3543047352342912e-05, 3.469049296653396e-05, 8.912425672033687e-05, 0.0001419391406602638, 0.00021030665232880824, 0.0002967379603094167, 0.00036497907510702756, 0.0006367785135707342, 0.0009257846291970128, 0.0011996081010869322, 0.0013081306778545642, 0.0012769350564598243, 0.0015687171189994757, 0.0019436575388298949, 0.001861162411804232, 0.0019017486467610223, 0.0020636938834358936, 0.0022678032767430244, 0.002455663644016245, 0.002596482195726574, 0.0026678460324680146, 0.002750884324041652, 0.0029505784671392233, 0.0030680318408658454, 0.0032484362990945507, 0.0033023087069612668, 0.00338956739858846, 0.0034559550800526725, 0.0035334799140163756, 0.0035560613912407144, 0.00362231622622153, 0.0036506638811494084, 0.0036977111250008814, 0.003856380246816734, 0.003917760302878117, 0.0040260014033792705, 0.004055787854857641, 0.004062212511523005, 0.00412170099256052, 0.004087240442758173, 0.004069955073989702, 0.003992934103736123, 0.004091391536578902, 0.004107963198676901, 0.004078888148831857, 0.004053712574697134, 0.0040867465498719705, 0.004141473183624969, 0.00412288140651852, 0.004068858330694405, 0.004037013097176499, 0.003991367195419607, 0.004029099733218261, 0.004026604532190352, 0.00408453873148144, 0.004057219469882909, 0.00401743821633195, 0.00395474519306932, 0.004005967333279659, 0.004045361111123493, 0.004010384140468087, 0.004006067532768404, 0.003950955673686305, 0.003935587092378151, 0.003884435850650922, 0.0038657398258231993, 0.003837134959360472, 0.0038027746364948413, 0.003783564464782888, 0.0037534350512894725, 0.0037254544888173148, 0.003696232974201601, 0.0036823600658320876, 0.0036640537529049324, 0.003654637171805178, 0.003632941074479425, 0.0036148625878213094, 0.003610968261042681, 0.003594444541971753, 0.003554653316995298, 0.003513471960682658, 0.003461906499763098, 0.0034499870005418407, 0.003437990492510397, 0.003394959473532438], [0.0, 0.0, 7.538837106281417e-209, 2.0060319608776504e-108, 1.2986949791687218e-45, 2.9642949683914844e-33, 1.8896533615875103e-23, 2.1881954602707083e-18, 5.939158096281635e-16, 1.6442249253941498e-12, 1.271372276719655e-09, 2.3812982654165878e-08, 2.4949860457923715e-07, 1.8405296372768985e-06, 7.152642482702333e-06, 1.4248302859150956e-05, 3.624189323242748e-05, 9.253754888688451e-05, 0.00014685244574569849, 0.00021693736997734133, 0.0003050916381279667, 0.00037477854058887676, 0.0006517460122176996, 0.0009449109399361879, 0.0012218576636985514, 0.0013310319495904908, 0.001299163057532629, 0.0015926962063299984, 0.0019710004644521353, 0.0018869778565045205, 0.0019271158602512948, 0.0020894622856401893, 0.002293343702967054, 0.0024818333219292776, 0.002622634577760274, 0.002693579872846389, 0.002776483502502059, 0.002976478311187464, 0.0030935384536667962, 0.003273710152589004, 0.0033263895188399, 0.003413108940547606, 0.0034791697263958183, 0.0035563821236550106, 0.0035783960669777087, 0.0036433739499406263, 0.003671188570672974, 0.0037177914726295516, 0.0038759809828944783, 0.003936995840817999, 0.004044955739374308, 0.004073594130211355, 0.004080016206279757, 0.004138633344067265, 0.004103770035415946, 0.004086028727274057, 0.004008252116737155, 0.004106056465626947, 0.0041222850454152886, 0.004092490514897086, 0.0040671314453774214, 0.004099759023018837, 0.0041537781552378845, 0.004134915782176166, 0.004080514134110921, 0.004048266876306107, 0.004002137954951426, 0.00403976096273719, 0.004036766349560033, 0.004094200683170481, 0.0040668568121581625, 0.00402663499607177, 0.0039636249268321525, 0.004014587690517315, 0.004053469795426687, 0.004018267305160606, 0.0040138631844955945, 0.003958393977785672, 0.003942946407846605, 0.003891447295260685, 0.0038725477286769834, 0.00384382007730798, 0.0038092014521816796, 0.0037897975349719983, 0.0037595005944254228, 0.0037313556756689964, 0.003701929323182811, 0.0036879377896274195, 0.003669355131738717, 0.0036598212804179763, 0.00363798212690699, 0.003619688543138912, 0.0036156718309728864, 0.003599079824004311, 0.0035591546824389237, 0.003517921592573488, 0.003466175729500525, 0.003454147191123376, 0.0034420366911181157, 0.003398930405006869], [0.0, 0.0, 1.2966900530245567e-207, 8.739957926631627e-108, 2.4041391922969703e-45, 4.567099689594536e-33, 2.5478743236250298e-23, 2.7578166395476854e-18, 7.247629489579902e-16, 1.9058390516312536e-12, 1.423764206600314e-09, 2.614434544810193e-08, 2.6975384930911565e-07, 1.9648435274717858e-06, 7.5591587649664615e-06, 1.4987719124000446e-05, 3.78571122396565e-05, 9.606924129584537e-05, 0.00015191820750440753, 0.00022375347646667946, 0.00031365133936500276, 0.00038480667743529803, 0.0006670110862719125, 0.0009643625811735181, 0.00124443844136393, 0.0013542512506969553, 0.0013216984885142174, 0.001616957294374519, 0.00199862865217842, 0.0019130599653100903, 0.0019527329730076855, 0.0021154630346873608, 0.0023190846384117925, 0.002508191931117371, 0.002648960644183955, 0.002719474343775354, 0.002802233894154314, 0.0030025165136511604, 0.003119169646199279, 0.0032990934127408093, 0.003350564058298697, 0.0034367340406202753, 0.003502461386825954, 0.0035793546663390424, 0.0036007952744585006, 0.00366448336585256, 0.003691759953945342, 0.003737913607048993, 0.0038956145235214267, 0.003956259858088667, 0.00406393330425255, 0.004091416800423301, 0.004097836085896846, 0.004155576080132567, 0.004120309233076883, 0.004102110522441188, 0.0040235772012526755, 0.004120723480696314, 0.004136607358485337, 0.00410609160418154, 0.0040805490125377245, 0.004112768187973134, 0.004166076623944915, 0.004146943316433261, 0.004092163195859944, 0.004059513518097098, 0.0040129012648940825, 0.004050413793918242, 0.004046918718083107, 0.004103851178278569, 0.004076483122672466, 0.004035820604832315, 0.003972493950301346, 0.004023196084848275, 0.004061565128435931, 0.004026137344898676, 0.004021645658600208, 0.003965819455312731, 0.003950293019443992, 0.0038984463339724594, 0.003879343245613474, 0.003850493057625687, 0.003815616301825262, 0.0037960186849816, 0.003765554431437496, 0.0037372453443329052, 0.0037076143177637755, 0.003693504217938203, 0.0036746451945164366, 0.0036649940879611826, 0.0036430120157927683, 0.003624503380846183, 0.0036203642425276053, 0.0036037040836381278, 0.003563645367524413, 0.00352236094492566, 0.003470435094310722, 0.003458297569894465, 0.003446073130517638, 0.003402891954040384], [0.0, 0.0, 2.211446875286187e-206, 3.791078112591822e-107, 4.442151435110268e-45, 7.027427941655422e-33, 3.4322651941047535e-23, 3.4732461297382924e-18, 8.838887937043657e-16, 2.208071262043727e-12, 1.5938271972746305e-09, 2.8695105250877018e-08, 2.915776767734089e-07, 2.097089449814802e-06, 7.987291988067852e-06, 1.576280926101556e-05, 3.953850914444498e-05, 9.972292952319506e-05, 0.00015714048978667525, 0.0002307593320739288, 0.00032242123121886874, 0.0003950677855312722, 0.0006825781941492534, 0.0009841434050463413, 0.0012673535719662894, 0.0013777912617165702, 0.0013445439477729262, 0.0016415021227175167, 0.002026543333602512, 0.001939409914427404, 0.0019786009703790675, 0.002141696810385258, 0.0023450263885903076, 0.0025347395774903587, 0.0026754603460625026, 0.0027455293133398164, 0.002828135294986528, 0.0030286927347619266, 0.00314492500713989, 0.0033245855803588644, 0.003374831820808743, 0.0034604421742792106, 0.0035258295237110605, 0.003602396990573607, 0.003623258472313753, 0.0036856439563034233, 0.0037123775248592023, 0.003758077028333016, 0.003915280359642702, 0.003975551850091385, 0.004082933589080063, 0.0041092553978072386, 0.0041156716820225535, 0.004172528759760459, 0.004136857613970327, 0.0041182000567929755, 0.004038908989795842, 0.004135392229264999, 0.004150929796389009, 0.004119691102961323, 0.00409396497069074, 0.0041257737507509155, 0.0041783683158707115, 0.004158963745590635, 0.004103805267889761, 0.004070752789053156, 0.004023656909073726, 0.004061058011797443, 0.004057061437698251, 0.004113490028238852, 0.0040860982149077555, 0.004044994870277378, 0.003981352102508218, 0.00403179235990552, 0.0040696469653564455, 0.004033994121975171, 0.004029414819712831, 0.003973231981640103, 0.003957626804970429, 0.0039054328544047313, 0.0038861262694265103, 0.003857153796733091, 0.0038220190884542525, 0.003802227822456791, 0.003771596474263902, 0.003743123410810546, 0.0037132878787190684, 0.0036990592741586417, 0.0036799238702186076, 0.003670155525765926, 0.0036480306755249303, 0.0036293070394689325, 0.0036250454363895577, 0.0036083172630548624, 0.0035681253174666373, 0.003526789964626181, 0.003474684544910292, 0.003462438089452572, 0.0034500997652267976, 0.003406844077018783], [0.0, 0.0, 3.739601749148619e-205, 1.637185994316691e-106, 8.192348442244744e-45, 1.079913936785237e-32, 4.6194539975763814e-23, 4.371159271840388e-18, 1.077283031281799e-15, 2.5570653015718567e-12, 1.783537419721802e-09, 3.1485017709383856e-08, 3.150851844981627e-07, 2.2377407446273505e-06, 8.438102570414935e-06, 1.6575145981582935e-05, 4.1288518253622277e-05, 0.00010350229830020141, 0.00016252344099232206, 0.00023795937268292707, 0.0003314055381934779, 0.00040556621624090046, 0.0006984518239736948, 0.0010042572706315852, 0.0012906061850186136, 0.0014016546504647851, 0.0013677020222449203, 0.0016663324125565605, 0.0020547457145125483, 0.001966028857635065, 0.0020047208164657177, 0.0021681642712576095, 0.0023711692396784874, 0.002561476347634869, 0.0027021336162381003, 0.0027717446327756136, 0.002854187484967158, 0.0030550066194594432, 0.0031708041112737378, 0.0033501861437161182, 0.0033991922913222737, 0.003484232807558209, 0.003549273590638845, 0.003625508536724672, 0.003645785111740316, 0.003706855197673647, 0.003733040771890373, 0.0037782812316194733, 0.003934977977963228, 0.003994871308359935, 0.004101956081429686, 0.004127109451911211, 0.004133522523550025, 0.004189490939727138, 0.004153414754245207, 0.004134296925735277, 0.004054247113218264, 0.0041500623574901255, 0.0041652520164393485, 0.004133288696525971, 0.004107379013397247, 0.0041387754165547325, 0.004190652956540921, 0.004170976805399448, 0.0041154401016476735, 0.004081984455240438, 0.004034404670945656, 0.004071693401078795, 0.00406719430809319, 0.004123117044333228, 0.004095701902185657, 0.004054157619950325, 0.00399019922237642, 0.004040376359263376, 0.0040777151614002135, 0.004041837498696859, 0.0040371705324838535, 0.003980631432170154, 0.0039649476422567815, 0.00391240674421586, 0.0038928966929578468, 0.0038638021910972313, 0.0038284097151509875, 0.003808424855102151, 0.003777626634903557, 0.0037489897911655613, 0.0037189499268882173, 0.003704602881750029, 0.003685191087900177, 0.003675305525240191, 0.0036530380405691235, 0.003634099457613939, 0.0036297153533254014, 0.003612919304518927, 0.0035725944775595944, 0.0035312085986352933, 0.0034789240320851293, 0.003466568702465203, 0.0034541165498342056, 0.003410786730393756], [0.0, 0.0, 6.270218993548397e-204, 7.039068727465765e-106, 1.5080119262489104e-44, 1.6573671477135797e-32, 6.211656523288529e-23, 5.4972893889975914e-18, 1.312177412178331e-15, 2.9598685381467074e-12, 1.9950833625878906e-09, 3.453553060517059e-08, 3.403993996025781e-07, 2.38729678448219e-06, 8.91269786364018e-06, 1.742636357205059e-05, 4.310965090041672e-05, 0.00010741112297808996, 0.00016807129501981812, 0.00024535811024546883, 0.00034060854210860774, 0.0004163063722018831, 0.0007146364927940519, 0.001024708042959351, 0.0013141994006827028, 0.0014258440711498147, 0.0013911752866088622, 0.0016914498660605573, 0.00208323697428911, 0.0019929179257528852, 0.002031093453661969, 0.0021948660541680634, 0.002397513458255491, 0.00258840230859731, 0.0027289803691570706, 0.0027981201363273442, 0.0028803902279243834, 0.0030814577973004124, 0.00319680651942763, 0.0033758945785070404, 0.0034236449442470117, 0.0035081053970368653, 0.00357279303240759, 0.0036486887370156466, 0.0036683746365011763, 0.0037281165603840925, 0.003753749178105735, 0.003798525707120077, 0.003954706860961621, 0.004014217720575743, 0.004121000265398058, 0.004144978489533955, 0.004151388136633785, 0.004206462174597169, 0.0041699802279853, 0.004150400722792356, 0.004069591200722679, 0.004164733510220611, 0.004179573674772779, 0.004146884069189518, 0.004120790833276741, 0.004151772889783906, 0.004202930270891775, 0.004182982231070311, 0.004127067448088338, 0.004093208282295261, 0.004045144333601222, 0.00408231974614118, 0.004077317128711029, 0.004132732037698309, 0.004105293997673323, 0.004063308681279342, 0.003999035148726678, 0.004048947926442131, 0.0040857695717902215, 0.004049667337388359, 0.004044912661587323, 0.003988017682338416, 0.003972255409167999, 0.003919367891107049, 0.0038996544090999286, 0.0038704381372353276, 0.003834788085053892, 0.003814609690684003, 0.003783644825418197, 0.0037548444015256957, 0.0037246003831775242, 0.0037101349642424857, 0.0036904467766920948, 0.0036804440178703204, 0.003658034045469889, 0.003638880573970248, 0.0036343739341869728, 0.0036175101503786887, 0.0035770527931775218, 0.0035356167939875342, 0.0034831535066913635, 0.003470689361670804, 0.0034581234390000997, 0.0034147198706836763], [0.0, 0.0, 1.042434019466416e-202, 3.013105147309551e-105, 2.7706549370311505e-44, 2.540300778006761e-32, 8.345093290555236e-23, 6.9086225566447676e-18, 1.5972976140550578e-15, 3.4245609134490405e-12, 2.2308876418966e-09, 3.7869920640151624e-08, 3.676517850352558e-07, 2.5462842631249275e-06, 9.412233953802206e-06, 1.8318159919482614e-05, 4.5004497345597334e-05, 0.00011145327098911059, 0.000173788372197544, 0.00025296013321609266, 0.0003500345820834852, 0.00042729270709128197, 0.0007311367457705901, 0.0010454995920041025, 0.0013381363287732664, 0.0014503621634815004, 0.0014149663024500612, 0.0017168561657232712, 0.0021120182653015032, 0.002020078226109168, 0.002057719802197775, 0.0022218027739441893, 0.0024240592910450003, 0.0026155175076680985, 0.0027560005006981303, 0.0028246556411075903, 0.002906743271426894, 0.003108045882369007, 0.0032229317784046897, 0.003401710347806424, 0.003448189243421621, 0.0035320593898263103, 0.0035963872850179063, 0.0036719370155248584, 0.0036910264829261834, 0.0037494275089027494, 0.0037745022211717, 0.003818809940130702, 0.0039744664869045335, 0.004033590570583419, 0.004140065621623033, 0.004162862034741605, 0.004169268044706519, 0.0042234420167399245, 0.0041865536072246716, 0.0041665110396215095, 0.00408494087987578, 0.004179405331009964, 0.004193894426361519, 0.0041604769043016325, 0.004134200122018147, 0.004164765874044876, 0.004215199983279743, 0.004194979757282453, 0.004138687057682149, 0.00410442403543181, 0.004055875679774755, 0.0040929368310453325, 0.004087429698756615, 0.004142334819331404, 0.004114874314389302, 0.00407244788158269, 0.004007859720281545, 0.004057506904912674, 0.004093810051764708, 0.0040574835003960846, 0.004052641071724811, 0.003995390607617029, 0.003979549983606454, 0.003926316182825305, 0.003906399310798678, 0.0038770615317174273, 0.003841154101359886, 0.0038207822370326695, 0.003789650957934481, 0.003760687158084779, 0.0037302391685618834, 0.0037156554452367004, 0.0036956908658028888, 0.003685570935222526, 0.0036630186248520725, 0.0036436503273104704, 0.0036390211199125236, 0.0036220897430676614, 0.0035815002097759935, 0.003540014497792777, 0.0034873729196563024, 0.0034748000198796527, 0.003462120387457192, 0.0034186434544743955], [0.0, 0.0, 1.718394818249597e-201, 1.2840894154242819e-104, 5.080908931298217e-44, 3.8885563033605496e-32, 1.1201132515568595e-22, 8.676113616431087e-18, 1.9431649817766004e-15, 3.960401701054151e-12, 2.4936309392948792e-09, 4.1513440542606835e-08, 3.9698277514973955e-07, 2.715258539437326e-06, 9.937917517440601e-06, 1.9252298585812635e-05, 4.697572870337385e-05, 0.00011563270330272099, 0.0001796790801959289, 0.00026077010695932726, 0.00035968805449292383, 0.00043852972536193057, 0.0007479571553312002, 0.001066635791653501, 0.0013624200677472052, 0.0014752115517692257, 0.0014390776174142193, 0.0017425529737122845, 0.002141090712302435, 0.0020475108420063546, 0.002084600759679283, 0.002248975023001515, 0.0024508069646573378, 0.0026428219721671645, 0.002783193888002094, 0.0028513509469575682, 0.0029332463466661173, 0.003134770473188863, 0.0032491794209203832, 0.0034276329020295503, 0.0034728246420922516, 0.0035560942235559564, 0.0036200557756654495, 0.003695252788183904, 0.003713740079913576, 0.0037707875017520525, 0.0037952993733632546, 0.0038391334110421897, 0.003994256329861407, 0.004052989338406675, 0.00415915162730143, 0.004180759608884672, 0.0041871617684961495, 0.004240430016346227, 0.004203134461963327, 0.0041826274660278695, 0.004100295776621205, 0.004194077462129194, 0.004208213925026118, 0.004174066884258859, 0.004147606570390617, 0.004177754072161631, 0.004227461817491256, 0.004206969118192954, 0.004150298680423677, 0.004115631479449907, 0.004066598491850533, 0.004103544439540809, 0.004097531817202903, 0.004151925200096522, 0.004124442665209416, 0.004081575048073976, 0.004016672775670159, 0.004066053138101146, 0.004101836456581415, 0.004065285850092213, 0.0040603556276292896, 0.004002750083518189, 0.003986831243515287, 0.003933251507166415, 0.0039131312910562766, 0.003883672271169054, 0.0038475076673268114, 0.0038269424020447333, 0.0037956449446461117, 0.0037665179771046997, 0.003735866204086608, 0.0037211642484056688, 0.0037009232845202377, 0.0036906862089443903, 0.0036679917134222408, 0.0036484086564920796, 0.003643656851527964, 0.0036266580251057023, 0.0035859366728930317, 0.0035444016572372893, 0.0034915822219793754, 0.003478900629974758, 0.0034661073500115154, 0.003422557438420039], [0.0, 0.0, 2.808703171033063e-200, 5.4482639802652914e-104, 9.299972940913961e-44, 5.944679937837014e-32, 1.5021027825531372e-22, 1.0888044642247733e-17, 2.362457773941155e-15, 4.577996444029621e-12, 2.7862782645192253e-09, 4.549347720814166e-08, 4.2854234210787216e-07, 2.8948050382763526e-06, 1.0491007733437117e-05, 2.0230610930698006e-05, 4.902609889141335e-05, 0.00011995347587556531, 0.00018574791491916915, 0.00026879277412827137, 0.00036957341289528415, 0.0004500219819488631, 0.0007651023202968338, 0.0010881205186548146, 0.0013870537036781998, 0.001500394844009076, 0.0014635117643509118, 0.0017685419312134965, 0.0021704554118212056, 0.0020752168321851354, 0.002111737200628528, 0.002276383370967719, 0.002477756685332526, 0.0026703157092308146, 0.002810560389303077, 0.002878205836309247, 0.0029598991683399203, 0.003161631152636612, 0.0032755489655400356, 0.003453661678893725, 0.003497550582890249, 0.0035802093263612583, 0.003643797922734564, 0.0037186354627768907, 0.003736514848932287, 0.0037921959915168247, 0.0038161401015735282, 0.0038594955953516552, 0.004014075859719694, 0.004072413500264653, 0.004178257756207161, 0.00419867073061529, 0.00420506882604317, 0.004257425721445243, 0.0042197223601830825, 0.004198749589979392, 0.0041156555152926655, 0.004208749544579858, 0.004222531823448085, 0.004187653690515951, 0.004161009868254432, 0.004190737186186213, 0.004239715496752475, 0.004218950047446021, 0.004161902065840147, 0.004126830378742806, 0.004077312551869787, 0.00411414235507302, 0.004107623282797375, 0.0041615029907303945, 0.004133998862872668, 0.0040906900078674455, 0.0040254741534330295, 0.004074586469393598, 0.004109848641521852, 0.004073074248878643, 0.004068056194068997, 0.004010095985597576, 0.003994099066881754, 0.003940173751977914, 0.003919850242933957, 0.0038902702522738593, 0.003853848686275839, 0.0038330900936853016, 0.003801626697815944, 0.0037723367749173797, 0.003741481410869249, 0.0037266612974964346, 0.0037061439622125478, 0.0036957897707663753, 0.003672953245970096, 0.003653155500458708, 0.0036482810701481015, 0.0036312149391002054, 0.003590362128150209, 0.0035487782195847777, 0.0034957813647330752, 0.0034829911449127536, 0.003470084281543274, 0.0034264617792437993], [0.0, 0.0, 4.551947520747048e-199, 2.301457263118459e-103, 1.6990386704426337e-43, 9.076228015647009e-32, 2.012539172444915e-22, 1.365417463125112e-17, 2.870443356473256e-15, 5.289486747634801e-12, 3.112107754507296e-09, 4.983972163444822e-08, 4.624905946605198e-07, 3.085540710054173e-06, 1.1072818251616378e-05, 2.1254998283331196e-05, 5.1158446604274965e-05, 0.00012441974109387292, 0.00019199946137519528, 0.00027703295501338394, 0.00037969516793150555, 0.00046177408194512313, 0.000782576864975935, 0.001109957651538974, 0.0014120403092167427, 0.001525914630960331, 0.001488271260446929, 0.0017948246577713296, 0.0022001134315556125, 0.0021031972302871967, 0.002139129976022367, 0.0023040283643070607, 0.002504908638684361, 0.0026979987055999973, 0.002838099843761243, 0.0029052200740489888, 0.0029867014345378168, 0.0031886274878570016, 0.0033020399166178104, 0.0034797961033812192, 0.0035223664978109824, 0.0036044041168725, 0.0036676131357929, 0.0037420844389405485, 0.003759350204025062, 0.0038136524248528125, 0.0038370238673239403, 0.0038798959636742935, 0.004033924542200477, 0.004091862528588639, 0.004197383478709722, 0.004216594915904762, 0.004222988732718273, 0.004274428677921573, 0.0042363168678636225, 0.00421487699762203, 0.004131019718627242, 0.00422342121810722, 0.004236847773182649, 0.004201237003597283, 0.004174409704571963, 0.0042037149174092925, 0.004251960743739115, 0.004230922278182322, 0.004173496962999971, 0.004138020497305043, 0.004088017641537736, 0.004124730360790276, 0.004117703894068468, 0.004171068001848521, 0.004143542719987164, 0.004099792587983284, 0.004034263692026826, 0.004083106742140664, 0.00411784646189557, 0.0040808485591909745, 0.004075742635851335, 0.004017428189457821, 0.004001353331740582, 0.003947082805162067, 0.003926556059554794, 0.0038968553717762737, 0.0038601770615938947, 0.0038392252199902686, 0.003807596129778104, 0.0037781434679267575, 0.003747084710101422, 0.003732146516331831, 0.003711352828330526, 0.0037008815525033266, 0.003677903157369886, 0.0036578907982414443, 0.003652893716977877, 0.0036357604277473, 0.003594776521253751, 0.0035531441321774407, 0.003499970299063901, 0.0034870715177247897, 0.0034740511370076853, 0.0034303564337387245], [0.0, 0.0, 7.314710797156689e-198, 9.678979820500868e-103, 3.098176438451153e-43, 1.3839460283903996e-31, 2.69399019211217e-22, 1.711086287961966e-17, 3.4854949242526612e-15, 6.108765943494702e-12, 3.474742239625423e-09, 5.458435145516803e-08, 4.98998410917836e-07, 3.288115550954352e-06, 1.1684719218995612e-05, 2.2327434163418882e-05, 5.33756973095145e-05, 0.0001290357492068669, 0.00019843839452254617, 0.0002854955478603334, 0.00039005788719448066, 0.0004737906802463285, 0.0008003854382275992, 0.0011321510695222385, 0.0014373829425357704, 0.0015517734852115092, 0.0015133586063496307, 0.0018214027506247771, 0.002230065809762711, 0.002131453044316713, 0.0021667799128307803, 0.0023319105259451364, 0.002532262989445549, 0.00272587092741004, 0.0028658120712971628, 0.0029323934073827228, 0.003013652826627725, 0.0032157590301796287, 0.0033286517642372023, 0.003506035587703595, 0.0035472718081938238, 0.003628678004204618, 0.0036915008155869733, 0.003765599108165253, 0.003782245551812363, 0.003835156242495881, 0.0038579501267748902, 0.003900333981755688, 0.004053801838874556, 0.004111335892039178, 0.004216528261793036, 0.004234531678061361, 0.004240921001240256, 0.004291438429532576, 0.004252917548998758, 0.00423100927329508, 0.004146388007778825, 0.004238092121213546, 0.0042511614246716215, 0.004214816503108367, 0.004187805767418742, 0.0042166869663708174, 0.004264197280586349, 0.004242885543048365, 0.0041850831205213134, 0.004149201598740307, 0.0040987135422306566, 0.004135308239550866, 0.004127773449332029, 0.0041806200439512275, 0.004153074049036049, 0.0041088826153529425, 0.00404304122982919, 0.0040916137996622436, 0.004125829773044431, 0.004088608643502488, 0.004083414817826749, 0.0040247465707519536, 0.0040085939161773245, 0.0039539785546788535, 0.003933248634106496, 0.003903427526484169, 0.0038664926967360838, 0.0038453476890685807, 0.003813553152940104, 0.0037839379726107634, 0.003752676023050629, 0.0037376198288122226, 0.0037165498124087596, 0.0037059614860559804, 0.003682841382581822, 0.0036626144889601287, 0.0036574947333136063, 0.0036402944338330355, 0.0035991797979956427, 0.003557499342437018, 0.003504148976193297, 0.0034911417015174298, 0.0034780078714358276, 0.003434241358768519], [0.0, 0.0, 1.1654820396575336e-196, 4.05264116147204e-102, 5.638847306847638e-43, 2.1075104887035515e-31, 3.602920294042222e-22, 2.1427389637941674e-17, 4.2297088610202094e-15, 7.051724023796333e-12, 3.878183826925815e-09, 5.976222692701597e-08, 5.382481067852862e-07, 3.50321418570812e-06, 1.2328139364565711e-05, 2.3449966551489075e-05, 5.568086526564864e-05, 0.00013380584974972062, 0.00020506948009276022, 0.00029418552915575136, 0.0004006661950680253, 0.0004860764811633655, 0.0008185327124931953, 0.0011547046513855517, 0.0014630846462620405, 0.0015779739602361019, 0.0015387762852804604, 0.0018482777840394334, 0.0022603135546485974, 0.0021599852561007284, 0.0021946878135546246, 0.002360030354894095, 0.0025598198812139972, 0.002753932319981924, 0.0028936968724278035, 0.002959725565702738, 0.0030407530091442997, 0.003243025315037315, 0.0033553839841530455, 0.0035323795312674783, 0.003572265924703318, 0.003653030387948049, 0.003715460354038708, 0.003789178853796927, 0.0038052002914970976, 0.003856706879271801, 0.003878918330737006, 0.003920809110484625, 0.004073707207178948, 0.0041308330555235905, 0.004235691569074667, 0.00425248052774843, 0.004258865141694186, 0.004308454517925914, 0.004269523965612904, 0.004247145999546717, 0.0041617600023317065, 0.004252761891171504, 0.004265472427256363, 0.004228391867747447, 0.0042011977439946075, 0.004229653032870747, 0.0042764248288987335, 0.004254839574205945, 0.004196660286580718, 0.0041603734462693715, 0.004109400035002987, 0.004145875773930178, 0.004137831746697799, 0.004190158927429745, 0.004162592662383479, 0.004117959916824468, 0.004051806605143549, 0.004100107485252196, 0.004133798430346897, 0.004096354364328128, 0.004091072604892623, 0.004032051005186866, 0.004015820698331724, 0.003960860888548943, 0.003939927859844207, 0.003909986613271511, 0.003872795495228109, 0.003851457409104505, 0.0038194976797849612, 0.0037897202055233066, 0.0037582552710620854, 0.003743081158917252, 0.003721734844067287, 0.0037110295034124678, 0.0036877678566534923, 0.0036673265118246498, 0.003662084060544213, 0.003644816900234584, 0.0036035719042547295, 0.003561843797865834, 0.0035083173474185964, 0.003495201649473542, 0.0034819544399354867, 0.0034381165112683286], [0.0, 0.0, 1.8412913898741877e-195, 1.689384926196608e-101, 1.0243675841678204e-42, 3.205215032327911e-31, 4.814157283392786e-22, 2.6813747830170692e-17, 5.1296418343540925e-15, 8.136525672473003e-12, 4.326851771281408e-09, 6.541110127566805e-08, 5.80434141807315e-07, 3.731557514881125e-06, 1.300456814345736e-05, 2.4624720208633698e-05, 5.807705556111403e-05, 0.0001387344929545576, 0.0002118975753868812, 0.0003031079538797265, 0.0004115247725347043, 0.0004986362380025891, 0.0008370233827962312, 0.0011776222743315995, 0.001489148446393433, 0.001604518589438154, 0.0015645267621387678, 0.0018754513086356706, 0.0022908576437574136, 0.002188794820748586, 0.0022228544557630087, 0.002388388325878379, 0.0025875794362003298, 0.002782182807615133, 0.0029217540281042407, 0.002987216260456086, 0.0030680016296788935, 0.0032704258618861544, 0.00338223603773509, 0.0035588273206417533, 0.0035973482473114888, 0.0036774606581606592, 0.0037394911342429503, 0.0038128230510398623, 0.003828213814870146, 0.0038783037641066786, 0.003899927924682972, 0.003941320805906415, 0.004093640100433841, 0.004150353480213881, 0.004254872860825395, 0.004270440973002745, 0.004276820661549867, 0.004325476482657316, 0.004286135677777743, 0.004263286757149707, 0.0041771353203143334, 0.00426743016403771, 0.0042797804291908725, 0.0042419627753171926, 0.004214585320634933, 0.00424261281597984, 0.004288643109760218, 0.004266784103341617, 0.004208228208921775, 0.004171535802738054, 0.004120076900594466, 0.004156432746227841, 0.004147878584075924, 0.004199684462572314, 0.004172098372280588, 0.004127024319167861, 0.004060559656203955, 0.004108587642183042, 0.004141752289222327, 0.004104085584228499, 0.00409871586199719, 0.004039341368526773, 0.004023033556401081, 0.003967729694856689, 0.003946593630093307, 0.003916532529081024, 0.0038790853606686993, 0.003857554288359896, 0.0038254296228733163, 0.003795490083296247, 0.0037638223755605453, 0.0037485304307075737, 0.0037269078530131733, 0.0037160855366498236, 0.0036926825147212713, 0.0036720268061362373, 0.0036666616401524687, 0.0036493277699214247, 0.0036079527859978157, 0.003566177446047855, 0.0035124753641139605, 0.003499251314853191, 0.0034858907976919977, 0.003441981848245534], [0.0, 0.0, 2.884350083558938e-194, 7.01133915501696e-101, 1.8573879501859448e-42, 4.868345951721718e-31, 6.42677168767457e-22, 3.3530240805424605e-17, 6.217190246398197e-15, 9.383925700302062e-12, 4.825623927774548e-09, 7.157184635979074e-08, 6.25763864227462e-07, 3.973904428646255e-06, 1.3715557941313405e-05, 2.5853899045740406e-05, 6.056746617329512e-05, 0.00014382623114794847, 0.00021892763004465469, 0.00031226795572385056, 0.0004226383569517654, 0.0005114747526129169, 0.0008558621657101995, 0.0012009078128196239, 0.001515577351202348, 0.0016314098851879378, 0.001590612482596115, 0.001902924850713113, 0.0023216990233596965, 0.002217882666110509, 0.002251280591630346, 0.002416984888961118, 0.0026155417549766744, 0.0028106222933821793, 0.002949983299551087, 0.003014865185014673, 0.0030953983187711432, 0.0032979601741272503, 0.003409207371913132, 0.003585378329526234, 0.0036225181652813723, 0.003701968195360698, 0.0037635925304659507, 0.003836531066960443, 0.00385128550631671, 0.003899946320038023, 0.003920978348759886, 0.003961868519236719, 0.004113599967859975, 0.00416989662356504, 0.004274071593989142, 0.00428841251925315, 0.004294787065680554, 0.0043425038612085595, 0.004302752243629092, 0.004279431125117305, 0.004192513578213198, 0.0042820965746663674, 0.004294085077654974, 0.004255528902736472, 0.0042279681828219515, 0.004255566014050541, 0.004300851843744199, 0.004278718861676244, 0.004219786634863827, 0.004182688430625211, 0.004130743919437304, 0.0041669789384749, 0.00415791375918348, 0.004209196459570292, 0.004181590990871493, 0.0041360756490804364, 0.0040693002211799325, 0.004117054113710685, 0.0041496912051352626, 0.0041118021658138595, 0.004106344454143427, 0.004046617536596685, 0.004030232368643624, 0.003974584861753124, 0.003953245838252207, 0.003923065170926859, 0.003885362196732042, 0.003863638235176468, 0.0038313488948455545, 0.003801247522641386, 0.003769377258052125, 0.0037539675683266045, 0.003732068769042088, 0.003721129517935487, 0.003697585292011737, 0.0036767153112887596, 0.0036712274137162284, 0.0036538269859565397, 0.003612322389280774, 0.0035705002346497284, 0.0035166229777313183, 0.0035032906509945335, 0.003489816899969091, 0.003445837326780543], [0.0, 0.0, 4.480040411631193e-193, 2.8970449461753025e-100, 3.361481497539096e-42, 7.384864459676719e-31, 8.571808199801915e-22, 4.189929562135374e-17, 7.530638815834608e-15, 1.0817626728221793e-11, 5.3798821029404e-09, 7.828869466917221e-08, 6.744582971421647e-07, 4.231053589041506e-06, 1.4462726339653025e-05, 2.7139788542207024e-05, 6.315539004663369e-05, 0.0001490857201333074, 0.00022616468678494591, 0.0003216707472736407, 0.0004340117417944562, 0.0005245968748991991, 0.0008750537982942198, 0.0012245651373780982, 0.001542374350125377, 0.0016586503378478207, 0.0016170358721812265, 0.001930699911571556, 0.0023528386078402967, 0.0022472496922355287, 0.0022799669474732865, 0.0024458204691712618, 0.002643706916226815, 0.0028392506589248194, 0.0029783844281077447, 0.0030426720145470647, 0.0031229426898022766, 0.0033256277390301928, 0.0034362974191237427, 0.0036120319187217843, 0.0036477750571517133, 0.003726552370520839, 0.00378776390814486, 0.0038603022604917774, 0.003874414742823477, 0.00392163396422642, 0.003942069037802214, 0.003982451696875882, 0.004133586254596467, 0.004189461939333757, 0.00429328722220328, 0.0043063946693395, 0.004312763856381979, 0.004359536189005678, 0.004319373219383989, 0.004295578680719319, 0.004207894390986888, 0.004296760756723059, 0.004308386018767624, 0.0042690899260522195, 0.004241346015196147, 0.004268512324727913, 0.004313050750923634, 0.004290643579974584, 0.004231335311310729, 0.004193831092050791, 0.004141400871663384, 0.004177514132441024, 0.004167937069551039, 0.004218694728524297, 0.004191070330199308, 0.004145113733192207, 0.004078028138181335, 0.004125506743079132, 0.004157615033599746, 0.004119503971748128, 0.004113958246392977, 0.004053879385285883, 0.004037417013381881, 0.003981426277458946, 0.003959884377795164, 0.003929584435897253, 0.0038916259071702037, 0.003869709157978066, 0.0038372554084239257, 0.0038069924403524463, 0.003774919840126136, 0.0037593924960022686, 0.003737217522039878, 0.003726161379528811, 0.003702476123843079, 0.0036813919667700156, 0.003675781322909663, 0.003658314491497604, 0.003616680660249639, 0.0035748121114218337, 0.0035207601398013068, 0.003507319611314704, 0.003493732702109734, 0.003449682904027579], [0.0, 0.0, 6.899607787037298e-192, 1.1917670880480492e-99, 6.07211699915553e-42, 1.1187690939215349e-30, 1.142244285873093e-21, 5.2319992066776764e-17, 9.115909961622942e-15, 1.2464684564480313e-11, 5.995561648501882e-09, 8.560949873218656e-08, 7.267529676952115e-07, 4.503845282732167e-06, 1.5247758442975433e-05, 2.8484758214072985e-05, 6.584421718877165e-05, 0.0001545177205565503, 0.00023361388211590493, 0.0003313216201541281, 0.0004456497763659642, 0.0005380075023012583, 0.0008946030369962578, 0.00124859811339529, 0.0015695424126394642, 0.0016862424147886018, 0.0016437993353557658, 0.0019587779668285145, 0.0023842772790860153, 0.0022768967708288687, 0.0023089142232875785, 0.0024748954661315613, 0.0026720749764977745, 0.0028680677642520663, 0.0030069571350714993, 0.003070636405892044, 0.003150634338890112, 0.0033534280276582775, 0.0034635055972586223, 0.0036387874361019507, 0.0036731182907228893, 0.0037512125450632895, 0.0038120046238881945, 0.0038841359824392653, 0.0038976008939866137, 0.00394336610796787, 0.003963199421345287, 0.004003069780423778, 0.004153598401719066, 0.004209048877597508, 0.004312519195819278, 0.004324386923531832, 0.004330750533391609, 0.004376572999437377, 0.0043359981593579415, 0.004311728999498374, 0.0042232773720802886, 0.004311422342698627, 0.004322682897600315, 0.004282645520451387, 0.004254718501567744, 0.004281451444960661, 0.0043252395508812, 0.004302557988554925, 0.004242873984759647, 0.0042049635487838985, 0.004152047537111494, 0.004188038109641742, 0.004177948312529238, 0.004228179079450356, 0.004200536202212179, 0.004154138398071282, 0.00408674324526322, 0.004133945373525231, 0.004165523630183623, 0.0041271908647528945, 0.004121557103870061, 0.004061126790551391, 0.004044587369006062, 0.0039882538302675186, 0.003966509142275082, 0.003936090221157199, 0.003897876395815569, 0.003875766965272934, 0.0038431490764146694, 0.0038127247533070573, 0.0037804500434569033, 0.0037648051380487343, 0.003742354041984144, 0.0037311810537825657, 0.003707354945626516, 0.00368605671216303, 0.0036803233095045003, 0.0036627902297981744, 0.0036210275451417106, 0.0035791130241993284, 0.003524886801934209, 0.0035113381493107115, 0.003497638159536973, 0.0034535185372154705], [0.0, 0.0, 1.0535990916714566e-190, 4.881007099440797e-99, 1.0947900497083048e-41, 1.6926814206549877e-30, 1.5207314224715955e-21, 6.528591794103619e-17, 1.1028051421856367e-14, 1.4355967393649204e-11, 6.679205669194864e-09, 9.35860090699493e-08, 7.828987813307029e-07, 4.793163346315957e-06, 1.6072409268308782e-05, 2.9891264131437028e-05, 6.863743678361167e-05, 0.00016012709925333058, 0.00024128044701337488, 0.00034122594513741366, 0.0004575573654732594, 0.0005517115792380052, 0.0009145146565237268, 0.0012730105998878497, 0.0015970844871247302, 0.001714188559396475, 0.0016709052545811065, 0.001987160465733546, 0.0024160158858731406, 0.0023068247447089406, 0.002338123092285028, 0.0025042102536875113, 0.0027006459699528986, 0.0028970734475400237, 0.003035701121542494, 0.0030987579974339633, 0.0031784728447858167, 0.0033813604947955126, 0.003490831309614565, 0.003665644216586082, 0.0036985472230440467, 0.003775948070855972, 0.0038363140254773147, 0.003908031575487068, 0.00392084332202058, 0.00396514215670674, 0.003984368923639378, 0.004023722206695171, 0.004173635846258857, 0.004228656884774066, 0.004331766961923722, 0.00434238877954985, 0.004348746593908213, 0.0043936138238736735, 0.004352626615982415, 0.004327881655286327, 0.004238662133438922, 0.004326080963923196, 0.004336975358190586, 0.004296195360272987, 0.004268085324928273, 0.004294383071012218, 0.0043374179627195175, 0.004314461817298772, 0.004254402401309908, 0.00421608556225092, 0.004162683695334599, 0.004198550651345708, 0.004187947285295392, 0.004237649322286077, 0.004209988418769333, 0.004163149470229268, 0.004095445380430733, 0.004142369848283413, 0.004173416850512863, 0.004134862707611432, 0.004129140891765399, 0.00406835962842146, 0.004051743313977442, 0.003995067408547872, 0.0039731200253263245, 0.003942582423951122, 0.00390411356658327, 0.003881811565655995, 0.003849029811710134, 0.003818444378468736, 0.003785967789805602, 0.0037702054188681645, 0.0037474782589458147, 0.0037361884731444417, 0.003712221692867702, 0.003690709487147343, 0.0036848533153712496, 0.0036672541442088788, 0.0036253629902866526, 0.0035834029209031943, 0.003529002915820891, 0.003515346218560323, 0.003501533227754778, 0.0034573441836484426], [0.0, 0.0, 1.595272516244912e-189, 1.9902580442021236e-98, 1.9701661660046182e-41, 2.5576836620324893e-30, 2.0228003570152086e-21, 8.140709514254795e-17, 1.3333006320470822e-14, 1.6526675647034388e-11, 7.438024246294928e-09, 1.0227417189956838e-07, 8.431629431946382e-07, 5.099937166225287e-06, 1.69385061978647e-05, 3.136185148496359e-05, 7.153863932011931e-05, 0.0001659188305761225, 0.0002491697075660057, 0.0003513891722109736, 0.0004697394690681008, 0.0005657140965160244, 0.0009347934486813263, 0.0012978064482475178, 0.0016250034997142124, 0.0017424911900708355, 0.0016983559893763267, 0.0020158488304795313, 0.0024480552432550834, 0.0023370344272641273, 0.0023675942004306896, 0.0025337651795373454, 0.0027294199081265083, 0.0029262675249336215, 0.0030646160682706804, 0.003127036408979957, 0.0032064577687724847, 0.003409424578875448, 0.0035182739448451107, 0.0036926015821139692, 0.0037240612004014587, 0.003800758290209824, 0.003860691451868918, 0.003931988374205523, 0.003944141381767791, 0.003986961510049359, 0.004005576963664341, 0.0040444084077355625, 0.004193698021221387, 0.004248285403641397, 0.0043510299643596895, 0.004360399732582667, 0.00436675153261169, 0.0044106581916847545, 0.004369258139822491, 0.0043440362202208874, 0.004254048285523455, 0.00434073625058031, 0.004351263043555668, 0.004309739119020216, 0.004281446167462219, 0.004307306898471906, 0.0043495857050714305, 0.004326354795660594, 0.004265920306671878, 0.0042271968935436765, 0.004173309125607142, 0.004209051538581998, 0.004197933784860117, 0.004247105266896832, 0.004219426791647148, 0.004172146776126704, 0.00410413438164401, 0.004150780010590457, 0.004181294550275888, 0.0041425193631727236, 0.004136709475340144, 0.004075577774999054, 0.004058884726831743, 0.004001866900747706, 0.003979716920667522, 0.003949060941605544, 0.003910337323473621, 0.003887842867811117, 0.0038548975272909023, 0.003824151232888876, 0.00379147300102208, 0.003775593262952457, 0.0037525901030907188, 0.003741183570158556, 0.003717076301168141, 0.003695350231500306, 0.003689371282480443, 0.0036717061781786067, 0.0036296869421075903, 0.0035876817495412807, 0.003533108433233742, 0.0035193437727229575, 0.003505417862348879, 0.003461159800706901], [0.0, 0.0, 2.3949855111489478e-188, 8.07962554265418e-98, 3.538801283882346e-41, 3.8597152557056956e-30, 2.6881933335201836e-21, 1.0143688384739524e-16, 1.610971786382478e-14, 1.901693026336146e-11, 8.279959110649383e-09, 1.11734447856915e-07, 9.078299288484625e-07, 5.425143755294239e-06, 1.7847951495411145e-05, 3.2899157201211376e-05, 7.455151873562002e-05, 0.00017189799769938078, 0.0002572870855855293, 0.000361816830605491, 0.0004822011018524644, 0.0005800200907020591, 0.0009554442211759108, 0.0013229895009660533, 0.0016533023531307125, 0.0017711526992131856, 0.0017261538753675666, 0.002044844455511074, 0.0024803961319502803, 0.002367526601909475, 0.0023973281659803746, 0.0025635605648632047, 0.0027583967796801995, 0.0029556497903503345, 0.003093701635504736, 0.003155471241638994, 0.003234588654565492, 0.003437619701911822, 0.003545832876913856, 0.003719658841622036, 0.0037496595583081417, 0.0038256425358771558, 0.003885136233198526, 0.0039560057050594885, 0.003967494420709083, 0.00400882356177826, 0.0040268229551448246, 0.0040651278108375915, 0.004213784355606256, 0.0042679338733579405, 0.004370307643748491, 0.004378419275308823, 0.004384764841683165, 0.004427705630260047, 0.004385892279594734, 0.004360192264762391, 0.004269435437324339, 0.004355387831721176, 0.004365545595706183, 0.004323276469372671, 0.0042948007105587565, 0.004320222622266158, 0.004361742496110318, 0.004338236652677596, 0.004277427446175903, 0.004238297303427616, 0.004183923606932367, 0.004219540552147436, 0.004207907608073982, 0.004256546723081966, 0.004228851132545243, 0.004181130142178491, 0.00411281008682308, 0.004159175703690245, 0.004189156585227891, 0.004150160694355477, 0.004144262719929804, 0.0040827811064653345, 0.004066011486182527, 0.004008652195396394, 0.003986299722104393, 0.003955525671531763, 0.0039165475705745505, 0.0038938607805133977, 0.003860752136227919, 0.0038298452337087326, 0.003796965599046685, 0.0037809685948849924, 0.0037576895046811647, 0.0037461662774669552, 0.0037219187062265974, 0.0036999788850983705, 0.0036938771529038622, 0.003676146275255693, 0.0036339993471222105, 0.003591949458209349, 0.0035372033060276083, 0.0035233307655405726, 0.0035092920189876095, 0.0034649653458482224], [0.0, 0.0, 3.5651631540112173e-187, 3.2655397606279494e-97, 6.344403562012986e-41, 5.817019756579788e-30, 3.569233447677445e-21, 1.2630496945914512e-16, 1.9452630210167197e-14, 2.187243798551195e-11, 9.213754233524552e-09, 1.220321530804763e-07, 9.772025065320717e-07, 5.769809908068835e-06, 1.880272488692309e-05, 3.4505912606441794e-05, 7.767987457227524e-05, 0.00017806979390095403, 0.0002656380991806169, 0.0003725145287809925, 0.0004949473328476875, 0.0005946346434588018, 0.0009764717963883003, 0.0013485635903385483, 0.0016819839255110074, 0.001800175452207301, 0.0017543012233290026, 0.0020741487068302138, 0.0025130392977305593, 0.002398302021543472, 0.0024273255790186617, 0.0025935967039635854, 0.002787576550160871, 0.002985220015285888, 0.003122957462843052, 0.0031840620777028894, 0.003262865028214761, 0.003465945269431088, 0.0035735074650494725, 0.003746815291021062, 0.003775341621494697, 0.0038506001310511426, 0.003909647690785004, 0.003980082886417622, 0.003990901778975056, 0.004030727699867063, 0.0040481063065660496, 0.004085879838557913, 0.004233894274427117, 0.004287601729483312, 0.004389599437511763, 0.004396446897916581, 0.004402786010825365, 0.004444755665027506, 0.004402528582185261, 0.004376349357710771, 0.0042848231963765965, 0.004370035335279046, 0.004379822655660002, 0.00433680708319864, 0.004308148634823561, 0.004333129936669837, 0.004373888053560487, 0.0043501071169795595, 0.004288923564781281, 0.004249386552350041, 0.004194526918049687, 0.004230017472613944, 0.00421786855163418, 0.0042659735005810126, 0.004238261253092571, 0.004190099394759347, 0.004121472333852792, 0.004167556770838545, 0.004197002811195183, 0.004157786564152165, 0.00415180049094819, 0.00408996949908316, 0.004073123470724588, 0.0040154231811079895, 0.003992868323532555, 0.003961976511228528, 0.003922744212064048, 0.003899865212631436, 0.003866593551684612, 0.0038355262981614067, 0.003802445505912098, 0.0037863313393423754, 0.0037627763940775104, 0.0037511365278111177, 0.0037267488438405038, 0.0037045953879183786, 0.003698370868815772, 0.003680574379089109, 0.003638300151943853, 0.003596205995092119, 0.00354128748614073, 0.0035273071508385516, 0.003513155653422746, 0.0034687607766075404], [0.0, 0.0, 5.2621647395104685e-186, 1.3140158854334937e-96, 1.135289781684875e-40, 8.75553415054333e-30, 4.7347427186034946e-21, 1.5715777627223947e-16, 2.3474658042479665e-14, 2.5145243384228502e-11, 1.0249032840543603e-08, 1.3323782407212447e-07, 1.0516028132891283e-06, 6.135014436945938e-06, 1.9804886206015678e-05, 3.618494613849212e-05, 8.092761414535841e-05, 0.00018443952381789273, 0.0002742283632927216, 0.00038348795437005023, 0.0005079832849265813, 0.0006095628808434298, 0.0009978810101118583, 0.0013745325371452516, 0.0017110510692176632, 0.0018295617863909495, 0.0017828003182156268, 0.002103762921299616, 0.0025459854508101485, 0.0024293614080050634, 0.0024575870009974974, 0.0026238738638871537, 0.0028169591617605246, 0.003014977948622088, 0.003152383169086811, 0.003212808480529246, 0.0032912863980088906, 0.0034944006704068433, 0.0036012970537024538, 0.0037740702131754734, 0.0038011067039014235, 0.0038756303893664147, 0.003934225137136107, 0.004004219228562603, 0.004014362789358229, 0.004052673306495989, 0.004069426421190171, 0.004106663908734603, 0.004254027198732134, 0.004307288403999377, 0.0044089047798939185, 0.004414482088124485, 0.004420814527283261, 0.004461807819473117, 0.004419166592667996, 0.00439250706622268, 0.004300211168774777, 0.004384678388083694, 0.004394093863456175, 0.004350330631567496, 0.0043214896200907, 0.004346028535317583, 0.0043860220947076044, 0.004361965916798729, 0.004300408407085276, 0.004260464400448374, 0.004205118837442073, 0.0042404820803359266, 0.004227816412091228, 0.00427538540907994, 0.00424765696485355, 0.004199054360209269, 0.004130120960587749, 0.004175923055307788, 0.0042048330840795305, 0.0041653968356330584, 0.004159322653891347, 0.004097142829200577, 0.004080220559237348, 0.0040221797465842405, 0.003999422618940342, 0.003968413358284716, 0.0039289271522125885, 0.003905856073129606, 0.0038724216869190187, 0.0038411943435738335, 0.003807912643745157, 0.003791681421096183, 0.003767850701739735, 0.003756094254033459, 0.0037315666499073722, 0.0037091996800388527, 0.0037028523724941488, 0.003684990433429643, 0.0036425893032826125, 0.003600451308464307, 0.0035453609255956765, 0.0035312728825265933, 0.0035170087214903413, 0.003472546050598532], [0.0, 0.0, 7.701192560297012e-185, 5.26414874175195e-96, 2.027701218597417e-40, 1.3161384866119932e-29, 6.275159828458577e-21, 1.95407941549221e-16, 2.831071026201131e-14, 2.8894578464864844e-11, 1.1396381393560057e-08, 1.4542760782817034e-07, 1.131373487343402e-06, 6.5218904912301495e-06, 2.0856578104604726e-05, 3.793918610621614e-05, 8.42987547218731e-05, 0.0001910126046747463, 0.00028306359019229007, 0.00039474287407681506, 0.0005213141343078131, 0.0006248099725683207, 0.0010196767102577553, 0.0014009001493120773, 0.0017405066096386958, 0.0018593140100193917, 0.0018116534181880524, 0.002133688405943429, 0.0025792352652355475, 0.002460705451531064, 0.0024881129642755524, 0.002654392284068077, 0.0028465445330779476, 0.0030449233164367728, 0.0031819783520951996, 0.003241709994426418, 0.003319852254381219, 0.0035229852771961577, 0.0036292009725035807, 0.0038014228778842237, 0.003826954108671707, 0.0039007326149007792, 0.003958867875955047, 0.004028414033702313, 0.004037876777326056, 0.004074659758068037, 0.0040907826970732015, 0.004127479434505085, 0.00427418254562487, 0.004326993325331746, 0.00442822310198497, 0.004432524331202201, 0.00443884987586499, 0.004478861615160614, 0.004435805854323122, 0.004408664955828814, 0.004315598959188029, 0.004399316615876029, 0.004408358858168978, 0.004363846784762154, 0.004334823345434611, 0.004358918111215264, 0.004398144336409171, 0.004373812779979731, 0.004311881717332184, 0.004271530607558468, 0.004215699143343478, 0.004250934155457683, 0.00423775098585568, 0.004284782258217391, 0.004257038079334193, 0.004207994864839018, 0.004138755804857253, 0.004184274400391863, 0.004212647259862498, 0.004172991371950264, 0.004166829074341508, 0.004104300973254318, 0.004087302630588259, 0.0040289217806176, 0.004005962502411625, 0.003974836110382013, 0.00393509629538558, 0.003911833271070343, 0.003878236455285917, 0.0038468492873687692, 0.003813366934768689, 0.0037970187650147027, 0.0037729123582290196, 0.0037610393890788294, 0.003736372060426203, 0.0037137917016412886, 0.003707321606321912, 0.0036893943821310893, 0.0036468667479464317, 0.0036046853466916743, 0.003549423576500283, 0.0035352279145995937, 0.0035208511791115695, 0.0034763211255142016], [0.0, 0.0, 1.1175321774633324e-183, 2.0996049380504725e-95, 3.6147852369458663e-40, 1.9758654481324666e-29, 8.309218416552592e-21, 2.4279483433225376e-16, 3.412186832293221e-14, 3.3187822011430467e-11, 1.2667441127641666e-08, 1.5868367881491895e-07, 1.2168788591913854e-06, 6.931627961199207e-06, 2.196002882917534e-05, 3.977166349591307e-05, 8.779742570798942e-05, 0.0001977945674823956, 0.0002921495899337069, 0.000406285133530639, 0.000534945110011839, 0.0006403811312233988, 0.0010418637555268048, 0.0014276702205499568, 0.0017703533439753622, 0.0018894344012208625, 0.0018408627536295674, 0.0021639264372459955, 0.002612789378276416, 0.0024923348102141225, 0.0025189039716584497, 0.002685152175962941, 0.002876332558882325, 0.003075055821815988, 0.0032117425886428403, 0.0032707661445405037, 0.003348562069817866, 0.0035516984454778693, 0.00365721853622418, 0.003828872541863256, 0.0038528831281466596, 0.003925906102178049, 0.003983575202148108, 0.004052666595981948, 0.004061443061034793, 0.004096686425225799, 0.0041121745270825205, 0.00414832582432455, 0.004294359728285622, 0.0043467159183716445, 0.00444755383174368, 0.004450573109991626, 0.004456891538963036, 0.004495916571751399, 0.004452445908655736, 0.004424822590451386, 0.004330986170875343, 0.004413949643322814, 0.004422617277922056, 0.004377355212291629, 0.004348149489182152, 0.0043717983567514804, 0.004410254495105064, 0.004385647433989556, 0.004323343239422427, 0.004282584933222932, 0.004226267613746292, 0.004261373477920843, 0.004247672069204873, 0.004294163857590963, 0.004266404407988258, 0.004216920734935597, 0.0041473767044702585, 0.004192610649410925, 0.004220445194609805, 0.0041805700363417705, 0.004174319617971033, 0.00411144380777331, 0.004094369563736198, 0.004035649172094235, 0.004012487868128638, 0.003981244665297593, 0.003941251546045804, 0.0039177967156164145, 0.003884037770238945, 0.003852491047066777, 0.003818808301303335, 0.0038023432960646846, 0.003777961294209311, 0.0037659718659960218, 0.003741165011498892, 0.0037183713930114357, 0.003711778512788149, 0.00369378616915143, 0.0036511324328421906, 0.0036089080582320616, 0.0035534753910485798, 0.003539172201138534, 0.003524682982293558, 0.0034800859591276674], [0.0, 0.0, 1.6079428269607824e-182, 8.337366941907657e-95, 6.431945298415867e-40, 2.962442842496856e-29, 1.0992653392032753e-20, 3.0145852722226696e-16, 4.110033741567537e-14, 3.81015822676222e-11, 1.4075007775594848e-08, 1.7309468444718622e-07, 1.3085062039539325e-06, 7.365475969263882e-06, 2.311755506297395e-05, 4.1685514824081076e-05, 9.142787084369916e-05, 0.00020479105820543072, 0.00030149227076731725, 0.00041812065709304205, 0.0005488814932776747, 0.0006562816114595732, 0.0010644470140478057, 0.001454846528973247, 0.0018005940400183397, 0.0019199252069443844, 0.0018704305261556741, 0.002194478260448614, 0.002646648389817698, 0.0025242501094614182, 0.0025499604959400026, 0.002716153722689397, 0.0029063231098788696, 0.0031053751446684357, 0.003241675434279448, 0.003299976436744419, 0.0033774152987677527, 0.003580539514192848, 0.0036853490447381386, 0.003856418448729587, 0.0038788930438610866, 0.003951150136172018, 0.004008346401833291, 0.004076976201497104, 0.004085060951344204, 0.00411875267286892, 0.004133601298914947, 0.004169202481984927, 0.004314558155993183, 0.004366455604498186, 0.004466896394021109, 0.004468627904928259, 0.0044749389965756834, 0.004512972207024696, 0.0044690862954146916, 0.004440979532421788, 0.004346372405700922, 0.004428577094031494, 0.004436868759902683, 0.004390855582903666, 0.004361467728924739, 0.004384668963709139, 0.004422352286828122, 0.004397469605927577, 0.004334792716921694, 0.004293627136699517, 0.0042368240264088215, 0.004271799827471836, 0.004257579458289682, 0.004303530016763488, 0.004275755762223421, 0.004225831796767766, 0.004155983497220345, 0.004200931645716195, 0.004228226744475678, 0.004188132692135496, 0.004181794150546375, 0.004118571209382172, 0.004101421237734881, 0.004042361809997056, 0.0040189986103747865, 0.003987638920906804, 0.003947392808755851, 0.003923746316033202, 0.0038898255453327342, 0.0038581195402882145, 0.0038242366657693823, 0.0038076549393130793, 0.003782997440448897, 0.003770891617939265, 0.0037459454393316393, 0.003722938694540589, 0.0037162230344893474, 0.0036981657385540168, 0.003655386304976806, 0.003613119391636434, 0.003557516321521729, 0.0035431056963113653, 0.003528504087130224, 0.0034838405092929457], [0.0, 0.0, 2.2939802800756194e-181, 3.296113389252645e-94, 1.1423087121286388e-39, 4.435876311872294e-29, 1.4529540179257718e-20, 3.7403014145757086e-16, 4.947530940413806e-14, 4.372291816298112e-11, 1.5633140160801244e-08, 1.8875622081593122e-07, 1.4066670576067717e-06, 7.824745450302159e-06, 2.4331564834364635e-05, 4.3683985035740145e-05, 9.519445040301542e-05, 0.00021200783889604072, 0.000311097639506846, 0.0004302554476167865, 0.0005631286169398259, 0.000672516709132734, 0.0010874313619823276, 0.0014824328356973764, 0.001831231434912596, 0.0019507886419000756, 0.0019003589076163551, 0.002225345088844538, 0.0026808128617531934, 0.0025564519414542452, 0.0025812829794446155, 0.002747397078666628, 0.0029365160324765346, 0.003135880941542262, 0.003271776423191799, 0.0033293403575291023, 0.003406411377554675, 0.0036095078054862615, 0.0037135917829857422, 0.0038840598289869945, 0.0039049831265407183, 0.003976463992311586, 0.004033180752350019, 0.004101342128307816, 0.004108729751833134, 0.004140857860172222, 0.004155062395115404, 0.004190108806634335, 0.004334777234147053, 0.004386211801601046, 0.004486250210584479, 0.004486688194062854, 0.0044929917263287445, 0.004530028036897895, 0.004485726552611633, 0.004457135342498424, 0.004361757264149715, 0.004443198590565154, 0.004451112940376105, 0.004404347564597456, 0.004374777741530551, 0.00439752962327709, 0.004434437427214781, 0.004409279022535622, 0.004346229893070136, 0.004304656976969515, 0.004247368158862799, 0.004282212983669376, 0.004267472949141311, 0.004312880545269331, 0.004285091953407453, 0.0042347278765915534, 0.0041645760208906925, 0.004209237232694787, 0.004235991765707219, 0.004195679202753345, 0.004189252537932027, 0.004125683054804728, 0.004108457531736267, 0.004049059583408722, 0.004025494623537486, 0.003994018775185844, 0.003953519988180567, 0.003929681981690981, 0.003895599694225035, 0.003863734684755223, 0.0038296519506885907, 0.003812953619928784, 0.0037880207278219833, 0.0037757985781697303, 0.003750713280236352, 0.0037274935467268753, 0.0037206551141306136, 0.0037025330345087557, 0.0036596283114583203, 0.003617319295549917, 0.0035615463202889565, 0.003547028354373891, 0.003532314449803111, 0.003487584733945729], [0.0, 0.0, 3.2450191907411836e-180, 1.2973503335288122e-93, 2.0249110039419166e-39, 6.633545483759953e-29, 1.9187048895996116e-20, 4.637421037365348e-16, 5.951990062395452e-14, 5.015071608098675e-11, 1.735727839075089e-08, 2.0577134050237547e-07, 1.5117985997879594e-06, 8.310811823235193e-06, 2.560456049151795e-05, 4.5770430447478616e-05, 9.910164339796987e-05, 0.00021945078879233507, 0.00032097180185053343, 0.000442695586155802, 0.0005776918647646634, 0.0006890917604077929, 0.001110821682095895, 0.0015104328834159575, 0.0018622682339112173, 0.001982026887492299, 0.0019306500390912928, 0.0022565281030724094, 0.002715283317380753, 0.00258894086460864, 0.0026128718335709715, 0.0027788823692577575, 0.002966911148557887, 0.003166572845444237, 0.003302045068068037, 0.003358857373896875, 0.003435549724291426, 0.0036386026246518787, 0.0037419460209393287, 0.003911795900013367, 0.003931152636100758, 0.0040018469364870015, 0.0040580775222698855, 0.004125763646453555, 0.004132448758815948, 0.004163001340604464, 0.004176557193096151, 0.004211044192797073, 0.004355016364290078, 0.004405983924103521, 0.00450561470014142, 0.0045047534530833315, 0.004511049203497548, 0.004547083575447113, 0.004502366216540229, 0.004473289579884702, 0.004377140345343076, 0.004457813754457581, 0.004465349454700003, 0.004417830824636437, 0.0043880792031568295, 0.0044103800260618465, 0.00444650963151576, 0.004421075410208077, 0.004357654510791571, 0.004315674212746212, 0.004257899788420935, 0.004292612725891994, 0.0042773523376780885, 0.004322215252620708, 0.004294412792874424, 0.004243608800655784, 0.004173154113259074, 0.004217527253774533, 0.004243740114648765, 0.004203209431715262, 0.004196694646094488, 0.004132779220867518, 0.004115478324993966, 0.004055742381514671, 0.004031975802110982, 0.004000384126214454, 0.003959632989089493, 0.0039356036220672, 0.0039013601306788436, 0.003869336398293712, 0.00383505407868602, 0.0038182392631843885, 0.003793031087310253, 0.003780692680057028, 0.003755468470632056, 0.0037320358901765374, 0.0037250746945269066, 0.003706888001293283, 0.003663858399496992, 0.0036215077187128383, 0.0035655653398084784, 0.0035509401296706503, 0.0035361140265822203, 0.003491318591104173], [0.0, 0.0, 4.5514876697089894e-179, 5.083868274023155e-93, 3.582693835026886e-39, 9.907152081683584e-29, 2.5314623385178726e-20, 5.745625986780734e-16, 7.155935592737838e-14, 5.7497241153780933e-11, 1.9264372438713968e-08, 2.2425109441079715e-07, 1.6243651059579631e-06, 8.825117755896291e-06, 2.6939141743518833e-05, 4.794832173428174e-05, 0.0001031540497845795, 0.0002271259053789801, 0.0003311209626542699, 0.0004554472316247217, 0.0005925766707455806, 0.0007060121408222609, 0.0011346228622955436, 0.0015388503949576094, 0.0018937071091185368, 0.002013642090745898, 0.0019613060298783323, 0.0022880284504083353, 0.0027500602407992993, 0.0026217174030372463, 0.0026447274383371512, 0.0028106096904143155, 0.00299750825525123, 0.0031974504656614037, 0.0033324808599643815, 0.0033885269332570005, 0.003464829738796034, 0.0036678232600784147, 0.003770411013570772, 0.003939625866049681, 0.003957400821645759, 0.004027298225057286, 0.004083035971408459, 0.0041502400179692055, 0.004156217261359806, 0.004185182461947765, 0.004198085065156598, 0.00423200803039412, 0.004375274944131542, 0.004425771382985988, 0.004524989278364556, 0.004522823155336962, 0.004529110901029202, 0.004564138334927973, 0.0045190048217955865, 0.0044894418022472125, 0.004392521247054576, 0.004472422206228438, 0.00447957793733904, 0.0044313050295611695, 0.004401371789262237, 0.004423219862099346, 0.004458568614606796, 0.004432858495002055, 0.004369066312702763, 0.004326678602483364, 0.004268418692184478, 0.004302998833345575, 0.004287217419712298, 0.004331533948314014, 0.004303718091930916, 0.004252474395207619, 0.004181717612102853, 0.004225801552428813, 0.004251471647746261, 0.004210723242643291, 0.004204120341106224, 0.004139859584503309, 0.004122483496866659, 0.004062410093606136, 0.0040384420406991755, 0.004006734872178601, 0.0039657317163593105, 0.003941511146748762, 0.003907106768564531, 0.0038749245988353507, 0.0038404429724918625, 0.003823511794457914, 0.003798028450004449, 0.003785573857080708, 0.003760210947046295, 0.003736565665605218, 0.0037294817186042536, 0.003711230583294147, 0.0036680765164063866, 0.0036256846099617652, 0.0035695733326284386, 0.0035548409766357984, 0.0035399027738268465, 0.0034950420388696777], [0.0, 0.0, 6.32991653103782e-178, 1.98341323815822e-92, 6.326955164721018e-39, 1.4777085406950608e-28, 3.336888807122625e-20, 7.113593990785258e-16, 8.598074337627194e-14, 6.58898842760587e-11, 2.1373021959688024e-08, 2.4431510965058917e-07, 1.7448594717658157e-06, 9.369176025223636e-06, 2.833800876789621e-05, 5.022124695909992e-05, 0.00010735639266888228, 0.00023503930540799188, 0.0003415514261550129, 0.00046851662040679016, 0.0006077885183562567, 0.0007232832643088704, 0.001158839794133754, 0.001567689071822705, 0.0019255506982228448, 0.0020456363632257927, 0.001992328956475395, 0.002319847244056809, 0.002785144076307911, 0.002654782046012571, 0.0026768501419273294, 0.002842579108322867, 0.0030283071247050116, 0.00322851338758525, 0.0033630832681742716, 0.0034183484633234923, 0.0034942508025101217, 0.0036971689831979725, 0.003798986000820856, 0.003967548918190651, 0.0039837269214707954, 0.0040528171048588, 0.004108055350838163, 0.004174770496901999, 0.004180034541302828, 0.0042074005663176725, 0.004219645378503697, 0.0042529997047641545, 0.004395552367570675, 0.004445573585809757, 0.004544373357916458, 0.004540896771852809, 0.004547176289565106, 0.004581191825796572, 0.004535641901293864, 0.0045055915657340705, 0.004407899565725956, 0.004487023565398555, 0.0044937980218795245, 0.0044447698452023034, 0.004414655174619303, 0.004436048820866799, 0.004470614090999427, 0.004444628002647594, 0.004380465041122713, 0.004337669904383705, 0.004278924647050815, 0.004313371085070933, 0.004297067990957025, 0.004340836441836166, 0.004313007661862245, 0.004261324486498107, 0.004190266355203998, 0.004234059972181409, 0.004259186221551636, 0.004218220499265647, 0.004211529489149643, 0.004146924022754612, 0.004129472926821501, 0.004069062609083169, 0.004044893234018453, 0.004013070911373162, 0.003971816074976285, 0.003947404465434305, 0.003912839521861972, 0.003880499204419552, 0.0038458185549432654, 0.003828771139234558, 0.0038030127471059307, 0.0037904420428317514, 0.0037649406461165375, 0.0037410828138392392, 0.003733876129400978, 0.0037155607250079887, 0.0036722826096044644, 0.0036298499182305373, 0.003573570251387833, 0.0035587308497939886, 0.0035436806479864076, 0.003498755035427664], [0.0, 0.0, 8.728730959686564e-177, 7.70396006597376e-92, 1.1152214703654144e-38, 2.201230756029806e-28, 4.3945962020709115e-20, 8.800993376225643e-16, 1.0324440250255885e-13, 7.547312848127685e-11, 2.3703628249288525e-08, 2.6609220560030355e-07, 1.873804812552253e-06, 9.944572474781704e-06, 2.980396538448914e-05, 5.259291464401577e-05, 0.0001117135205110614, 0.00024319722587749153, 0.00035226959614275506, 0.00048191006590889455, 0.0006233329397613517, 0.0007409105821767711, 0.001183477371278765, 0.0015969525927003456, 0.001957801603219027, 0.002078011779950285, 0.002023720861556151, 0.002351985562440675, 0.00282053522780713, 0.0026881352474318, 0.002709240260240185, 0.002874790659053937, 0.0030593075038646412, 0.0032597611725384687, 0.0033938517401000115, 0.0034483213720151984, 0.003523812278419438, 0.003726639048436578, 0.0038276702075704994, 0.003995564234377063, 0.004010130163064005, 0.004078402813214986, 0.004133134902902209, 0.004199354329329432, 0.004203899873273114, 0.004229654990183906, 0.004241237495272919, 0.004274018596685095, 0.004415848024720619, 0.0044653899367413175, 0.004563766348474924, 0.004558973771364459, 0.004565244837463748, 0.0045982435567306764, 0.004552276986292072, 0.0045217384249934215, 0.004423274896483226, 0.004501617450505325, 0.0045080093410441585, 0.004458224936693613, 0.004427929033326949, 0.00444886659129459, 0.004482645774851828, 0.004456383658557897, 0.00439185043808201, 0.004348647876407499, 0.004289417429721102, 0.004323729259951414, 0.004306903847033011, 0.004350122542670958, 0.004322281313938711, 0.004270158900787749, 0.004198800180354095, 0.004242302356611341, 0.004266883692727184, 0.004225701065420774, 0.004218921956521055, 0.004153972412777201, 0.004136446494437556, 0.004075699817457674, 0.0040513292769005105, 0.004019392142204619, 0.003977885970038708, 0.003953283487936477, 0.003918558304662667, 0.00388606013319546, 0.003851180748986161, 0.0038340172231084374, 0.0038079839099282556, 0.003795297171014076, 0.0037696575045915795, 0.003745587275816892, 0.0037382578700689176, 0.0037198783710427116, 0.0036764766266146687, 0.0036340035925513073, 0.0035775560488174396, 0.0035626097037612524, 0.0035474476056012775, 0.0035024575390483564], [0.0, 0.0, 1.1934733997802175e-175, 2.979179941511041e-91, 1.9620442215054526e-38, 3.2747578826986115e-28, 5.782334257439859e-20, 1.0880909847217892e-15, 1.2389745395775277e-13, 8.641076104167501e-11, 2.627855932080874e-08, 2.8972105039219603e-07, 2.0117561409976067e-06, 1.0552969071584605e-05, 3.13399222954699e-05, 5.506715688175957e-05, 0.0001162304093255964, 0.00025160602496617776, 0.0003632819760792774, 0.000495633958062494, 0.0006392155149840045, 0.0007588995820508236, 0.0012085404879513125, 0.0016266446119658118, 0.0019904623891214635, 0.0021107703782983008, 0.0020554837529397265, 0.002384444448490365, 0.002856234058202745, 0.0027217774252833718, 0.0027418980764391822, 0.002907244348213319, 0.0030905091142517656, 0.003291193357604372, 0.0034247857011269578, 0.0034784450473582104, 0.0035535135109766055, 0.0037562326931668624, 0.003856462843613917, 0.004023670979389795, 0.004036609763110438, 0.004104054577947274, 0.004158273861229607, 0.004223990753378166, 0.004227812524708634, 0.004251945064391724, 0.004262860772549808, 0.004295064082396146, 0.004436161301932817, 0.0044852198365769634, 0.004583167656758643, 0.004577053620332982, 0.004583316010823755, 0.004615293034651114, 0.004568909606408062, 0.004537881933192125, 0.004438646833152893, 0.0045162034791182215, 0.004522211526706897, 0.0044716699684851135, 0.004441193038823081, 0.00446167286177825, 0.004494663379979684, 0.004468125187839629, 0.004403222245332203, 0.0043596122762811175, 0.004299896816707914, 0.004334073136720509, 0.004316724783475559, 0.0043593920603054405, 0.00433153885942185, 0.0042789774643520705, 0.0042073189253593905, 0.004250528549357738, 0.004274563918049942, 0.004233164805061427, 0.004226297609634653, 0.004161004631843633, 0.0041434040794091995, 0.004082321608356422, 0.004057750064295186, 0.004025698463193736, 0.003983941306759343, 0.003959148124184225, 0.0039242630311718835, 0.0038916073034239392, 0.0038565294776770937, 0.0038392499717843304, 0.0038129418698987384, 0.003800139175446027, 0.0037743614593329453, 0.003750078992589712, 0.0037426268838746464, 0.0037241834661186656, 0.0036806585150670115, 0.003638145582055571, 0.0035815306777407458, 0.003566477493245877, 0.0035512036033036143, 0.00350614950808756], [0.0, 0.0, 1.6180162974942823e-174, 1.1469945241884438e-90, 3.4453850554971055e-38, 4.865524405801051e-28, 7.601414003063312e-20, 1.3442796609265665e-15, 1.4858973067779354e-13, 9.888836066698499e-11, 2.9122329146482645e-08, 3.1535086016533064e-07, 2.159302125998216e-06, 1.1196107064157859e-05, 3.294890039124762e-05, 5.764793248621591e-05, 0.0001209121648752997, 0.00026027218292125315, 0.0003745951691619539, 0.0005096947627692005, 0.0006554418710294776, 0.0007772557867685516, 0.001234034037327838, 0.0016567687581588056, 0.0020235355826675196, 0.0021439141569109346, 0.0020876196025546817, 0.002417224908932605, 0.002892240888812231, 0.0027557089611154563, 0.0027748238405048494, 0.0029399401505959084, 0.0031219116517460666, 0.003322809455459013, 0.003455884554500304, 0.0035087188573906312, 0.00358335382602607, 0.003785949137662898, 0.0038853631036336643, 0.004051868304845529, 0.004063164927497277, 0.004129771617387171, 0.004183471450751261, 0.004248678999243895, 0.0042517717558780005, 0.004274270114183987, 0.0042845145623921195, 0.004316135533620387, 0.004456491581821848, 0.004505062682767841, 0.00460257668655319, 0.004595135782970191, 0.004601389273507204, 0.004632339764743369, 0.0045855392896407, 0.0045540216420345975, 0.004454014968278349, 0.004530781267854417, 0.004536404209907897, 0.004485104604356269, 0.004454446863897261, 0.004474467320190486, 0.004506666619867125, 0.00447985231530325, 0.004414580204355225, 0.004370562861505651, 0.004310362584342931, 0.004344402493969517, 0.004326530595741415, 0.004368644804236298, 0.004340780109570706, 0.004287780003487209, 0.004215822428045818, 0.004258738394124695, 0.004282226754416079, 0.004240611582258739, 0.004233656315026488, 0.004168020557346771, 0.004150345561549549, 0.004088927871524087, 0.004064155491273295, 0.004031989772978261, 0.0039899819904678745, 0.003964998284225076, 0.00392995361571077, 0.0038971406334795617, 0.0038618646641850485, 0.0038444693110794167, 0.0038178865585600185, 0.0038049679900618717, 0.0037790524473162897, 0.0037545579053237564, 0.003746983114200693, 0.0037284759550698164, 0.0036848282226991593, 0.003642275835975205, 0.0035854940910748758, 0.0035703341730492855, 0.00355494859781819, 0.0035098309009874394], [0.0, 0.0, 2.175011468789882e-173, 4.396507828913071e-90, 6.038763818341854e-38, 7.219663393054733e-28, 9.983723765620143e-20, 1.6596057903668402e-15, 1.780925515700238e-13, 1.1311609251502481e-10, 3.2261792184247164e-08, 3.431421435486159e-07, 2.3170669359304626e-06, 1.18758102437336e-05, 3.4634034121873296e-05, 6.033933018045303e-05, 0.00012576402485702347, 0.00026920230289748467, 0.0003862158783308134, 0.0005240990212898007, 0.0006720176809643243, 0.0007959847532343173, 0.001259962909910243, 0.0016873286324427617, 0.002057023671012004, 0.002177445074587592, 0.002120130345397595, 0.0024503279135788176, 0.002928555998774065, 0.0027899301995065354, 0.0028080177687892214, 0.00297287800984217, 0.0031535147863696817, 0.0033546089542060877, 0.003487147681204497, 0.00353914215006974, 0.0036133325307313533, 0.003815787585057213, 0.003914370167177648, 0.004080155349194204, 0.004089794851320412, 0.004155553140389531, 0.004208726887717124, 0.00427341828921221, 0.004275776819902093, 0.004296629459223843, 0.004306198211852531, 0.004337232317587854, 0.004476838243290684, 0.00452491786944535, 0.004621992838737365, 0.0046132197212621325, 0.004619464087163199, 0.004649383250479385, 0.00460216556239023, 0.0045701571017818235, 0.0044693788931363726, 0.004545350432394506, 0.004550587020868564, 0.004498528507429257, 0.00446769018070345, 0.004487249653893282, 0.00451865520767769, 0.004491564765473376, 0.004425924056372847, 0.00438149938936556, 0.0043208145087846395, 0.00435471711015521, 0.0043363210792157075, 0.004377880583976251, 0.004350004875648115, 0.00429656634451551, 0.00422431052626406, 0.004266931734686149, 0.0042898720588452925, 0.0042480412612063, 0.004240997939358451, 0.004175020066803306, 0.004157270820793887, 0.004095518496826274, 0.004070545453029451, 0.004038265970315608, 0.0039960079266133436, 0.003970833878227404, 0.003935629972718488, 0.003902660041852589, 0.003867186231793272, 0.0038496751669250193, 0.0038228179075716303, 0.0038097835489132943, 0.0037837304056327955, 0.0037590239553008877, 0.0037513265045467582, 0.0037327557828449173, 0.0036889856973575177, 0.003646394303643495, 0.0035894462418315145, 0.0035741796980669088, 0.003558682545963221, 0.003513501676277293], [0.0, 0.0, 2.899003386113992e-172, 1.6777847944132928e-89, 1.0564273288328977e-37, 1.0698948059066243e-27, 1.3100796547051864e-19, 2.0474398551669376e-15, 2.133208295370913e-13, 1.2933184742328574e-10, 3.572635439123541e-08, 3.7326749395221476e-07, 2.4857121695351526e-06, 1.259398831042426e-05, 3.6398574933460255e-05, 6.31455718206893e-05, 0.00013079136107672841, 0.0002784031117450568, 0.00039815090621709263, 0.0005388533495754935, 0.0006889486629504717, 0.0008150920712303018, 0.0012863319918622923, 0.0017183278070455848, 0.002090929100412955, 0.002211365049177043, 0.0021530178784865163, 0.002483754394613438, 0.002965179624460142, 0.0028244414475382504, 0.0028414800435725774, 0.003006057838097341, 0.0031853181620743187, 0.0033865913172146703, 0.003518574439845346, 0.0035697142531816027, 0.0036434489135045794, 0.0038457472213000244, 0.003943483198638079, 0.004108531237718167, 0.0041164987188923655, 0.004181398346347019, 0.004234039379714465, 0.004298207837680448, 0.004299826962776585, 0.004319022413618099, 0.004327911063001956, 0.004358353797059154, 0.004497200661556398, 0.00454478478744696, 0.004641415511309903, 0.004631304894992863, 0.004637539911251708, 0.004666422993639567, 0.004618787949478822, 0.004586287861270536, 0.0044847381977538, 0.004559910587498358, 0.004564759589006699, 0.004511941340182335, 0.0044809226607728314, 0.004500019549750049, 0.004530628856265353, 0.004503262262599212, 0.004437253542356164, 0.00439242161693734, 0.00433125236602608, 0.004365016763607531, 0.00434609602921889, 0.004387099209060469, 0.0043592129689270015, 0.004305336313791129, 0.004232783057894599, 0.004275108414890756, 0.0042974996884851905, 0.0042554537062242425, 0.004248322349422248, 0.004182003037857286, 0.004164179737203082, 0.004102093374252544, 0.004076919844884905, 0.004044526954085551, 0.004002019020766602, 0.003976654816482726, 0.003941292016754343, 0.003908165447150965, 0.003872494103901103, 0.0038548674653683425, 0.0038277358487115625, 0.0038145857861708915, 0.0037883952714905756, 0.0037634770839200474, 0.00375565699853093, 0.003737022894508685, 0.0036931308869983105, 0.003650500934496172, 0.0035933870831178346, 0.0035780140232890664, 0.0035624054046511896, 0.003517161792574331], [0.0, 0.0, 3.8312845266174775e-171, 6.374506295317298e-89, 1.8446437946993494e-37, 1.583441575457471e-27, 1.7175517228272861e-19, 2.524109912532548e-15, 2.55359087943222e-13, 1.4780476585974103e-10, 3.954820201008148e-08, 4.0591243236654805e-07, 2.6659388777274027e-06, 1.3352640346165858e-05, 3.8245894769021744e-05, 6.607101565449484e-05, 0.00013599968161153586, 0.0002878814607438396, 0.00041040715503149833, 0.0005539644375401322, 0.0007062405792336169, 0.0008345833621839006, 0.0013131461633127679, 0.0017497698236821377, 0.002125254274909117, 0.0022456759564637462, 0.002186284059809606, 0.002517505245882367, 0.0030021119588914892, 0.0028592429742707102, 0.002875210812622634, 0.003039479515673529, 0.0032173213965311096, 0.003418755982959858, 0.0035501641665348833, 0.003600434474253146, 0.0036737022439383453, 0.0038758272151207004, 0.003972701347232411, 0.004136995082533098, 0.004143275703751623, 0.004207306425205753, 0.004259408125687204, 0.004323046851180525, 0.004323921423395335, 0.00434144828594124, 0.004349652452953415, 0.004379499330349596, 0.004517578208176298, 0.00456466282434241, 0.004660844099416505, 0.004649390761768473, 0.0046556162030676595, 0.004683458494334998, 0.0046354059741713066, 0.004602413467932558, 0.004500092470924299, 0.0045744613470210475, 0.004578921542951739, 0.004525342764463253, 0.004494143975026705, 0.0045127766941378605, 0.004542587278185587, 0.004514944530664998, 0.004448568403035142, 0.004403329301098242, 0.004341675931902597, 0.004375301232537323, 0.004355855241013691, 0.004396300489052988, 0.00436840420069669, 0.0043140897377056545, 0.004241239860852788, 0.004283268278666777, 0.0043051095006157, 0.004262848781763318, 0.00425562941214339, 0.004188969348283643, 0.004171072190967019, 0.004108652393919452, 0.004083278562290373, 0.004050772623292909, 0.0040080151786227565, 0.0039824610094079775, 0.003946939662499908, 0.003913656768102295, 0.0038777882040257946, 0.003860046132574213, 0.003832640313877828, 0.0038193746361256577, 0.0037930469822160676, 0.0037679172326985327, 0.003759974539890898, 0.00374127723524297, 0.003697263739688667, 0.003654595678072438, 0.003597316568137416, 0.003581837103801839, 0.0035661171308896734, 0.00352081120858445], [0.0, 0.0, 5.02051883094931e-170, 2.4112306283748843e-88, 3.2148943657599435e-37, 2.340452565237139e-27, 2.2497223500578886e-19, 3.1095408726493214e-15, 3.0549205518963697e-13, 1.6883919161241365e-10, 4.376254950408975e-08, 4.4127630349272645e-07, 2.858489679707752e-06, 1.4153858396160229e-05, 4.017948963301115e-05, 6.912015961140154e-05, 0.00014139463295629486, 0.00029764432628164933, 0.0004229916263903752, 0.0005694390482722875, 0.0007238992350853483, 0.0008544642778911385, 0.0013404102966255332, 0.0017816581919588243, 0.0021600015549895274, 0.002280379629049749, 0.0022199307072692607, 0.002551581322181794, 0.0030393531511575143, 0.002894335010220441, 0.0029092101887563415, 0.0030731428907147633, 0.003249524080923336, 0.0034511023648663734, 0.0035819161747789904, 0.003631302100466768, 0.003704091772739958, 0.0039060267179914817, 0.004002023746986265, 0.004165545982590657, 0.0041701249686733124, 0.004233276557482168, 0.004284832315956353, 0.004347934528402776, 0.004348059433574661, 0.00436390637926011, 0.004371421713886512, 0.004400668271353844, 0.004537970251074491, 0.004584551364460295, 0.004680277995377239, 0.004667476777041372, 0.004673692417765293, 0.004700489251029833, 0.004652019158196088, 0.004618533467814303, 0.004515441300225318, 0.004589002323928916, 0.004593072510560092, 0.00453873244150278, 0.004507353793789443, 0.004525520772959716, 0.004554530185706468, 0.004526611293400514, 0.004459868378908166, 0.004414222198535005, 0.004352084982099631, 0.004385570295044066, 0.004365598509812104, 0.004405484233553152, 0.0043775783822692284, 0.0043228264426937325, 0.004249680773093928, 0.004291411170026968, 0.00431270135265346, 0.004270226352408984, 0.004262918994585178, 0.004195918875991721, 0.004177948062408025, 0.004115195446073573, 0.004089621500828875, 0.0040570028770702486, 0.004013996306003609, 0.003988252367547787, 0.003952572824761154, 0.003919133923555837, 0.003883068455804341, 0.003865211094826819, 0.00383753123509002, 0.0038241500331904826, 0.003797685475255431, 0.00377234434327327, 0.00376427907248517, 0.00374551875034792, 0.003701384203607697, 0.003658678484015997, 0.0036012346501911726, 0.003585648894787942, 0.0035698176817821697, 0.0035244498831030033], [0.0, 0.0, 6.523209202938399e-169, 9.080564462046905e-88, 5.5924512165545666e-37, 3.454892021085095e-27, 2.9441165433926385e-19, 3.8280286091893755e-15, 3.652406179519696e-13, 1.9277910523305405e-10, 4.8407908112675204e-08, 4.795732281564634e-07, 3.0641509768184336e-06, 1.4999831160476653e-05, 4.220298321872816e-05, 7.22976446239741e-05, 0.00014698200215211655, 0.0003076988104740687, 0.00043591142107799054, 0.0005852840171859184, 0.0007419304776984332, 0.0008747404991957582, 0.0013681292546366415, 0.0018139963877606637, 0.0021951732562555484, 0.002315477855232523, 0.002253959597622043, 0.0025859834385476067, 0.003076903305838988, 0.0029297177468411415, 0.0029434782494044296, 0.0031070477788651724, 0.003281925779742035, 0.0034836298511551835, 0.0036138297553678757, 0.0036623163985774853, 0.0037346167316680634, 0.00393634486409349, 0.004031449516718373, 0.004194183023682922, 0.004197045665681289, 0.00425930791428108, 0.0043103111322415465, 0.004372870060220773, 0.004372240218078499, 0.004386395991159252, 0.004393218173072481, 0.004421859969571076, 0.0045583761545688875, 0.004604449788915039, 0.004699716588714265, 0.004685562394134834, 0.0046917680083827734, 0.004717514760563914, 0.004668627021766238, 0.004634647405596448, 0.0045307842720351404, 0.004603533130315726, 0.004607212118930562, 0.004552110031928267, 0.004520551786801538, 0.004538251471656903, 0.004566457290819834, 0.004538262274291607, 0.004471153210251652, 0.004425100065752633, 0.004362479292160537, 0.004395823729123654, 0.004375325630782383, 0.004414650252202062, 0.004386735324985722, 0.004331546255238702, 0.004258105632618354, 0.004299536933073484, 0.004320275102156227, 0.004277586282885496, 0.00427019096395269, 0.00420285149902881, 0.004184807231984297, 0.004121722421094538, 0.0040959485562185585, 0.0040632176146805634, 0.004019962308860108, 0.003994028801576764, 0.003958191418470567, 0.00392459683248448, 0.003888334782995297, 0.0038703622785314475, 0.0038424085444908806, 0.0038289119119016353, 0.003802310688175941, 0.0037767583574020882, 0.0037685705402942787, 0.003749747385243152, 0.00370549222704757, 0.0036627493020760815, 0.00360514128267827, 0.0035894493515275963, 0.003573507014528917, 0.003528077775015579], [0.0, 0.0, 8.403931908918407e-168, 3.40462149684835e-87, 9.709994989112563e-37, 5.0933784754153136e-27, 3.849355741632911e-19, 4.709176606614137e-15, 4.3640404220095986e-13, 2.200130927668831e-10, 5.3526376599440366e-08, 5.210331150894669e-07, 3.2837552676547906e-06, 1.589284779739877e-05, 4.432013059762868e-05, 7.560825797726444e-05, 0.00015276771889424735, 0.00031805214172334187, 0.00044917373874314254, 0.0006015062511085023, 0.0007603401950347035, 0.000895417734623628, 0.0013963078888586927, 0.001846787851621205, 0.0022307716480758377, 0.002350972377879107, 0.0022883724654147244, 0.0026207123695456283, 0.0031147624824349996, 0.002965391336007456, 0.0029780150361788512, 0.00314119396294038, 0.0033145260305846255, 0.00351633780469323, 0.0036459041762694315, 0.0036934766148326785, 0.003765276333471701, 0.003966780770285038, 0.004060977760027538, 0.004222905278448587, 0.00422403693606162, 0.004285399657314936, 0.004335843747683681, 0.004397852629717163, 0.004396462994644444, 0.0044089164137669215, 0.0044150411528998176, 0.00444307377013068, 0.004578795279398642, 0.004624357475634248, 0.004719159266179921, 0.0047036470642678, 0.004709842425867054, 0.004734534518175576, 0.0046852290836007894, 0.004650754824613759, 0.004546120971550088, 0.004618053377418932, 0.004621339994419882, 0.004565475195777319, 0.004533737623232704, 0.004550968475221385, 0.004578368305252482, 0.004549897196590786, 0.004482422637129686, 0.004435962659083186, 0.004372858637494412, 0.004406061312676185, 0.004385036399056055, 0.004423798354689034, 0.004395874840222678, 0.004340249001878241, 0.004266514277476528, 0.0043076454120027745, 0.0043278306068272815, 0.004284928438059995, 0.004277445187596775, 0.004209767095583672, 0.0041916495802933355, 0.004128233209498065, 0.004102259624315539, 0.004069416735519973, 0.004025913093274787, 0.003999790222301772, 0.003963795358689285, 0.003930045413986734, 0.003893587109480605, 0.003875499610216218, 0.003847272174347856, 0.003833660206920253, 0.003806922558667385, 0.0037811592169649895, 0.0037728488874219962, 0.0037539630854689183, 0.003709587758414594, 0.0036668080821084833, 0.003609036419097049, 0.0035932384293994022, 0.00357718508642772, 0.0035316948432987656], [0.0, 0.0, 1.0735252279141134e-166, 1.2708863791296576e-86, 1.6827403617627845e-36, 7.499188219356472e-27, 5.028379833404847e-19, 5.789028383486081e-15, 5.211095200818686e-13, 2.5097991138791323e-10, 5.916395587206995e-08, 5.659027352978719e-07, 3.518183568005055e-06, 1.683530184001837e-05, 4.6534821969443124e-05, 7.905693668443926e-05, 0.00015875785761655976, 0.00032871167521384683, 0.00046278587752827797, 0.000618112727305446, 0.0007791343146250241, 0.0009165017189721489, 0.0014249510376526313, 0.0018800359870757382, 0.00226679895223458, 0.0023868648932968664, 0.002323171001916791, 0.0026557688485629267, 0.0031529306947940764, 0.0030013558895019294, 0.0030128205544432993, 0.0031755811926022347, 0.0033473243439565716, 0.003549225562846273, 0.0036781386825255145, 0.0037247819748944706, 0.0037960697718318276, 0.00399733353607227, 0.00409060756528165, 0.004251711806380948, 0.004251097910377454, 0.004311550938924311, 0.004361429326868646, 0.004422881412210483, 0.0044207269740106836, 0.004431466933781743, 0.0044368899709005, 0.004464309013818445, 0.004599226982752003, 0.004644273799386472, 0.004738605411785132, 0.004721730236579929, 0.004727915119098997, 0.004751548017524637, 0.004701824860946178, 0.004666855266875078, 0.00456145098280186, 0.004632562675636035, 0.004635455762658316, 0.004578827592511511, 0.00454691097169505, 0.00456367146820827, 0.004590262940477408, 0.004561515783327823, 0.004493676399403682, 0.004446809734694626, 0.004383222793383972, 0.004416282823513772, 0.004394730609734954, 0.004432928350758067, 0.004404996739398373, 0.004348934509210022, 0.004274906545774138, 0.004315736451110499, 0.004335367724519832, 0.004292252682946597, 0.004284681533018039, 0.004216665543990079, 0.004198474988075371, 0.004134727701938993, 0.004108554601116728, 0.004075600139120411, 0.004031848565464219, 0.004005536540664207, 0.003969384560609214, 0.003935479587288707, 0.0038988253592674156, 0.0038806230165338218, 0.0038521220570546574, 0.003838394853033831, 0.0038115210245434528, 0.003785546863965422, 0.0037771140580965382, 0.0037581657966872686, 0.0037136707462302925, 0.0036708547740765727, 0.0036129200130459406, 0.0035970160838812077, 0.003580851854874765, 0.003535301047020927], [0.0, 0.0, 1.3597231647928138e-165, 4.723093142805592e-86, 2.910693809400113e-36, 1.1027051284404559e-26, 6.562587085385481e-19, 7.111435538899491e-15, 6.218702731656016e-13, 2.8617472027267243e-10, 6.537088926615242e-08, 6.144468623762516e-07, 3.7683679392516336e-06, 1.7829695227488007e-05, 4.885108647187454e-05, 8.264877088624325e-05, 0.00016495863954987626, 0.000339684893341618, 0.0004767552336293383, 0.0006351104924396442, 0.0007983188023208129, 0.0009379982118543754, 0.0014540635243672116, 0.0019137441589981428, 0.0023032573415734925, 0.002423157050101302, 0.0023583568540497184, 0.002691153567100404, 0.0031914079105497374, 0.0030376114785053377, 0.003047894772886909, 0.0032102091840370303, 0.003380320203076207, 0.003582292437334984, 0.0037105324961512125, 0.0037562316837647645, 0.003826996221305329, 0.004028002243582159, 0.004120338005608769, 0.004280601653837701, 0.004278227708485328, 0.004337760902099602, 0.004387067025852172, 0.0044479555752830035, 0.004445031359943805, 0.00445404683250005, 0.004458763939776786, 0.004485565037103295, 0.00461967061829462, 0.004664198131809316, 0.004758054406828189, 0.004739811358156912, 0.0047459855349187546, 0.004768554750715615, 0.004718413869597894, 0.004682948273083477, 0.004576773888675, 0.004647060634541065, 0.004649559048565375, 0.004592166881030202, 0.004560071500256345, 0.0045763601347483356, 0.004602140907725083, 0.0045731177573204145, 0.00450491423674211, 0.004457641048599658, 0.004393571534993428, 0.004426488039368385, 0.004404408057898268, 0.004442040050214335, 0.004414100833979219, 0.0043576026038973795, 0.0042832822756772165, 0.00432380989479644, 0.00434288631324143, 0.004299558882710488, 0.004291899867870841, 0.004223546722730344, 0.004205283336216802, 0.004141205789214315, 0.004114833382762671, 0.0040817677251523184, 0.004037768631781449, 0.00401126766774228, 0.003974958939555159, 0.003940899271746092, 0.003904049456489905, 0.003885732424263255, 0.003856958125132821, 0.0038431157851577026, 0.0038161060237431265, 0.0037899212405315434, 0.003781365996671776, 0.003762355464683213, 0.0037177411391324747, 0.0036748893280523273, 0.003616792018224386, 0.0036007822705509773, 0.0035845072773654472, 0.0035388963453429688], [0.0, 0.0, 1.7076436587301594e-164, 1.7475442940391756e-85, 5.0252449664916e-36, 1.6193524027316274e-26, 8.557148314994265e-19, 8.729709151125998e-15, 7.416536420514722e-13, 3.2615605244344756e-10, 7.220203040429918e-08, 6.669494822683413e-07, 4.035294128923357e-06, 1.8878642452245335e-05, 5.127309604850097e-05, 8.63890072718136e-05, 0.00017137643475123276, 0.0003509794060753499, 0.0004910893007845184, 0.0006525066614650469, 0.000817899660996622, 0.0009599129961975321, 0.0014836501554464005, 0.0019479156919219077, 0.002340148938627964, 0.0024598504480812097, 0.002393931623313387, 0.002726867174066949, 0.0032301940505606564, 0.0030741581330905945, 0.003083237623101354, 0.0032450776196372654, 0.0034135130636827726, 0.00361553771409427, 0.0037430848160371288, 0.0037878249257129984, 0.0038580548372715456, 0.004058785957537883, 0.004150168138890268, 0.0043095738540525315, 0.004305425439552867, 0.004364028680503962, 0.004412755992185797, 0.004473074278809552, 0.004469375349267513, 0.004476655385843868, 0.004480662367428604, 0.0045068411721645215, 0.004640125536198264, 0.004684129841437965, 0.00477750562992383, 0.004757889874056036, 0.0047640531181513835, 0.004785554208321103, 0.00473499562392229, 0.0046990333826565575, 0.004592089270924503, 0.004661546862901147, 0.004663649476365607, 0.0046054927196844, 0.0045732188764533175, 0.004589034158560598, 0.004614001917994788, 0.004584702841184877, 0.004516135888630216, 0.00446845635666464, 0.004403904637376407, 0.00443667673789971, 0.004414068538609607, 0.0044511332629306715, 0.004423186935486141, 0.004366253112674977, 0.0042916413054172485, 0.004331865587569421, 0.004350386231158378, 0.004306846902672027, 0.004299100059967292, 0.004230410510438859, 0.004212074505753622, 0.004147667362266214, 0.0041210958655403754, 0.004087919393427334, 0.004043673198718448, 0.004016983514753289, 0.003980518410986939, 0.003946304386846148, 0.003909259325411098, 0.0038908277603115545, 0.0038617803112332605, 0.003847822938336528, 0.0038206774943320733, 0.003794282288917491, 0.003785604647628437, 0.0037665320353658864, 0.0037217988858763134, 0.0036789116942173503, 0.003620652388433754, 0.003604536945087661, 0.003588151311495184, 0.0035424806975191086], [0.0, 0.0, 2.1264369723724404e-163, 6.437418910795452e-85, 8.659628414745928e-36, 2.3749812252880424e-26, 1.1147821740170783e-18, 1.0708611651269124e-14, 8.83960822853274e-13, 3.7155361146007105e-10, 7.97172406678235e-08, 7.237150761213271e-07, 4.320004327141575e-06, 1.998487482441434e-05, 5.38051693733676e-05, 9.028305251823382e-05, 0.00017801776410113055, 0.0003626029512463241, 0.0005057956696901661, 0.0006703084164531346, 0.0008378829292033025, 0.0009822518766957177, 0.0015137157185049635, 0.0019825538683456625, 0.0023774758142578335, 0.0024969466370616407, 0.002429896864709947, 0.002762910275075359, 0.003269288988355683, 0.003110995841720402, 0.0031188489991614307, 0.003280186147687144, 0.0034469023538477306, 0.003648960653135973, 0.0037757948178547486, 0.0038195608642066304, 0.0038892447558813623, 0.004089683725236592, 0.0041800970077561, 0.004338627427148538, 0.004332690202077915, 0.004390353398497444, 0.0044384953649439255, 0.004498236674987363, 0.004493758131892215, 0.004499291864389574, 0.004502584556981511, 0.0045281367469195396, 0.00466059108316998, 0.004704068293734074, 0.004796958457032693, 0.004775965227331996, 0.004782117311632732, 0.004802545879405362, 0.004751569636878578, 0.004715110133746918, 0.004607396710193549, 0.004676020968693179, 0.004677726669604487, 0.004618804766290719, 0.004586352767305047, 0.004601693222964962, 0.004625845682065979, 0.0045962707573468774, 0.00452734109437981, 0.004479255414618485, 0.00441422187548388, 0.004446848696703024, 0.004423711846924087, 0.004460207798854078, 0.004432254855500977, 0.004374885862354491, 0.0042999834732963035, 0.004339903374052239, 0.004357867336600149, 0.0043141166083108294, 0.0043062819772812415, 0.0042372567859056244, 0.0042188483778748545, 0.004154112312185094, 0.004127341945886143, 0.0040940550439009845, 0.004049562172908548, 0.004022683993055898, 0.00398606289050152, 0.003951694852209678, 0.003914454890424691, 0.0038959089517155267, 0.0038665885481378253, 0.003852516247745774, 0.0038252353745040295, 0.003798629951504649, 0.0037898299555753127, 0.0037706954547697042, 0.003725843935335411, 0.003682921822863898, 0.0036245010775782555, 0.0036082800632720583, 0.0035917839149602333, 0.0035460540628976423], [0.0, 0.0, 2.6255258072031586e-162, 2.3608981265674564e-84, 1.489438518327281e-35, 3.4786907848411365e-26, 1.4509683787565794e-18, 1.312675748045443e-14, 1.0529201773719717e-12, 4.2307698580659784e-10, 8.798181845097202e-08, 7.850699800295438e-07, 4.623600042749991e-06, 2.1151244854474188e-05, 5.645177583059567e-05, 9.433647674606315e-05, 0.00018488930126572573, 0.0003745633947646433, 0.0005208820273420113, 0.0006885230053512069, 0.0008582746797712897, 0.0010050206782165195, 0.0015442649803725553, 0.0020176619270237755, 0.002415239986273225, 0.0025344471157649913, 0.002466254085665526, 0.0027992834317402964, 0.003308692549583954, 0.003148124550748847, 0.0031547287572093433, 0.0033155343820518873, 0.003480487473789466, 0.0036825604884149162, 0.0038086616539649083, 0.00385143864184441, 0.003920565094008879, 0.004120694576529608, 0.004210123639582143, 0.004367761380153475, 0.004360021083909105, 0.004416734171162387, 0.004464284274752025, 0.004523441908366927, 0.004518178890845514, 0.004521955533397214, 0.0045245298068152485, 0.004549451085052159, 0.004681066602481667, 0.0047240128511150436, 0.004816412261491087, 0.004794036859062964, 0.0048001775562355594, 0.004819529251548097, 0.004768135420040998, 0.004731178063262772, 0.0046226957860313654, 0.004690482559120606, 0.004691790251164392, 0.004632102678145394, 0.004599472839326423, 0.0046143370108949, 0.004637671910509684, 0.004607821228052197, 0.004538529593139064, 0.004490037978061616, 0.004424523024172131, 0.004457003693317102, 0.004433337777895423, 0.004469263468012237, 0.004441304405672883, 0.004383500679830306, 0.004308308617692167, 0.004347923098986587, 0.0043653294880637945, 0.004321367865269878, 0.004313445487952285, 0.004244085428079789, 0.004225604833925986, 0.004160540530212618, 0.004133571520388408, 0.004100174576675378, 0.004055435461128894, 0.004028369014152411, 0.003991592293835126, 0.003957070587593008, 0.003919636076056858, 0.003900975925643481, 0.0038713827687608554, 0.003857195648693194, 0.0038297796025821896, 0.003802964170802907, 0.0037940418652504574, 0.0037748456690555217, 0.003729876236502875, 0.003686919664395894, 0.0036283380396658544, 0.0036120115809876842, 0.0035954050455585095, 0.0035496164009217093], [0.0, 0.0, 3.214316072698394e-161, 8.620344469496271e-84, 2.556979284575212e-35, 5.0887171033350795e-26, 1.8868303639001665e-18, 1.6079504147293253e-14, 1.2533963510407097e-12, 4.815253836817289e-10, 9.7066962507545e-08, 8.513638256154535e-07, 4.947245102963203e-06, 2.2380730755161395e-05, 5.921753954718314e-05, 9.855501698793675e-05, 0.0001919978746208318, 0.0003868687307591587, 0.0005363561562999715, 0.0007071577406714156, 0.0008790810183635829, 0.0010282252441613559, 0.0015753026851066262, 0.0020532430612424627, 0.0024534434180559263, 0.002572353330670651, 0.0025030047449501043, 0.0028359871609785247, 0.003348404511470304, 0.0031855441639271364, 0.0031908767150428054, 0.003351121901870985, 0.0035142677956914196, 0.003716336427698449, 0.0038416844533294384, 0.0038834573802924576, 0.003952014949205689, 0.004151817523805063, 0.0042402470464897105, 0.004396974707016848, 0.004387417162267843, 0.00444317010433004, 0.004490121843815923, 0.004548689115883853, 0.004542636802303589, 0.004544645652840487, 0.004546497410592875, 0.004570783506041374, 0.004701551434000083, 0.004743962872983671, 0.004835866414041099, 0.004812104208376896, 0.0048182332908959105, 0.004836503810868425, 0.004784692483621157, 0.00474723670688872, 0.004637986076911225, 0.004704931240630295, 0.004705839843280661, 0.004645386112038363, 0.004612578758541657, 0.004626965204910215, 0.004649480313699959, 0.004619353975377536, 0.0045497011239023595, 0.004500803802474938, 0.004434807858210728, 0.00446714150523214, 0.004442946126583048, 0.004478300080520038, 0.004450335397724739, 0.004392097392085201, 0.0043166165770634765, 0.004355924607237995, 0.004372772544218371, 0.004328600539359613, 0.004320590460289755, 0.004250896316073187, 0.004232343755412407, 0.004166951907744735, 0.004139784485790559, 0.004106277892001891, 0.0040612929703028764, 0.0040340384896910535, 0.0039971065368653675, 0.00396243151288997, 0.003924802806968079, 0.003906028609396961, 0.00387616290615073, 0.0038618610766203093, 0.0038343101170205908, 0.0038072848894519255, 0.00379824032152239, 0.003778982624511791, 0.0037338957384923806, 0.00369090516932995, 0.0036321632288091863, 0.003615731454221635, 0.0035990146611904, 0.0035531676711300585], [0.0, 0.0, 3.90183931235797e-160, 3.133674550915574e-83, 4.3814024100760584e-35, 7.434257918743322e-26, 2.4514031592676213e-18, 1.9682431122142286e-14, 1.4911177870572754e-12, 5.477985017416528e-10, 1.070502718469483e-07, 9.229710655506135e-07, 5.292168780406309e-06, 2.3676441063437504e-05, 6.210724347700958e-05, 0.00010294458066718774, 0.00019935046913452668, 0.0003995270816384595, 0.0005522259338747415, 0.000726219998109498, 0.000900308081978002, 0.001051871434779336, 0.001606833551974496, 0.002089300417081877, 0.0024920880171767704, 0.0026106666748735973, 0.0025401502515959426, 0.002873021934311673, 0.003388424602276202, 0.0032232545419136546, 0.0032272926517071237, 0.003386948251255522, 0.0035482426635237286, 0.003750287652439467, 0.0038748623214260136, 0.0039156161802231994, 0.003983593399657801, 0.0041830515619729934, 0.004270466225347167, 0.004426266388628851, 0.004414877503771761, 0.00446966029460842, 0.004516007185952248, 0.004573977426891743, 0.004567131035623463, 0.00456736147743738, 0.004568486657290477, 0.004592133325190662, 0.004722044914217281, 0.004763917715758182, 0.0048553202828610425, 0.004830166712478099, 0.004836283952639732, 0.004853469042049029, 0.004801240336490546, 0.00476328559910668, 0.004653267160248572, 0.004719366618929508, 0.004719875067557753, 0.004658654724267434, 0.00462567019049788, 0.004639577487209836, 0.004661270601825376, 0.004630868721241359, 0.004560855425520149, 0.0045115526432288385, 0.004445076152290538, 0.00447726190989769, 0.004452536688059235, 0.004487317446586109, 0.00445934764345958, 0.004400675826196067, 0.004324907189954876, 0.004363907743800764, 0.004380196363909351, 0.0043358144965620375, 0.004327716762776722, 0.004257689329163871, 0.004239065024002832, 0.004173346336334723, 0.004145980738993782, 0.004112364890283858, 0.004067134607502578, 0.004039692331468229, 0.004002605535613357, 0.003967777548133875, 0.00392995500795495, 0.003911066930412471, 0.003880928893491419, 0.003866512467103886, 0.0038388268564054956, 0.003811592050222396, 0.0038024252693912917, 0.0037831062675557155, 0.003737902390539242, 0.003694878288296384, 0.0036359765992264657, 0.0036194396390654467, 0.003602612719859574, 0.003556707833157811], [0.0, 0.0, 4.696330927746479e-159, 1.1341357950474472e-82, 7.493425269989029e-35, 1.0846853525909434e-25, 3.182025111726278e-18, 2.4075522793831977e-14, 1.7728256333751226e-12, 6.229086532497432e-10, 1.1801628479152608e-07, 1.000292588276781e-06, 5.659669051451128e-06, 2.5041619383212315e-05, 6.512583353389007e-05, 0.00010751124908328568, 0.00020695422820507468, 0.0004125466980702614, 0.0005684993312344186, 0.000745717215092187, 0.0009219620373983301, 0.0010759651254345067, 0.0016388622734049697, 0.0021258370916647723, 0.0025311756340095056, 0.002649388486942337, 0.0025776919638149354, 0.0029103881771717875, 0.00342875250076648, 0.0032612555017885536, 0.003263976307091452, 0.0034230129389896764, 0.003582411392868477, 0.003784413317653032, 0.003908194340166257, 0.0039479141212571895, 0.004015299504145239, 0.004214395668452945, 0.004300780157773728, 0.004455635392841154, 0.004442401164459595, 0.004496203829411416, 0.004541939406619974, 0.00459930596319608, 0.004591660753376175, 0.00459010225668148, 0.004590496831227472, 0.004613499853657806, 0.004742546376281448, 0.00478387673290265, 0.004874773233596229, 0.004848223806674038, 0.004854328976609745, 0.004870424428360508, 0.004817778486203225, 0.004779324273216965, 0.004668538612419279, 0.004733788299002973, 0.004733895544985476, 0.004671908170652508, 0.004638746800278779, 0.004652173539644683, 0.004673042484900541, 0.004642365187414767, 0.004571992236708864, 0.004522284255592218, 0.004455327681031747, 0.00448736468473063, 0.00446210925741625, 0.004496315376519358, 0.0044683409547670245, 0.004409235809339609, 0.004333180295002156, 0.004371872353802915, 0.004387600806163047, 0.00434300960303482, 0.004334824264073989, 0.004264464346799647, 0.004245768521532746, 0.004179723707696214, 0.004152160177059878, 0.004118435472079264, 0.004072960279951213, 0.00404533045143081, 0.004008089206245826, 0.00397310861349949, 0.0039350926039519955, 0.003916090816263205, 0.0038856806641040373, 0.0038711497558574113, 0.0038433297594567726, 0.0038158855960172986, 0.003806596653990205, 0.0037872165447344003, 0.003741896142001474, 0.003698838972040232, 0.0036397781052423953, 0.003623136091715958, 0.0036061991796738, 0.0035602368467372225], [0.0, 0.0, 5.6047534830554636e-158, 4.086562276284268e-82, 1.2791719362553628e-34, 1.5805446248776892e-25, 4.1266671434199405e-18, 2.942819401111679e-14, 2.1064475092384732e-12, 7.079942941550318e-10, 1.3005705996969302e-07, 1.0837574263471923e-06, 6.051115989781535e-06, 2.6479649249359575e-05, 6.827842277135507e-05, 0.00011226128090074262, 0.0002148164554507999, 0.0004259359588765445, 0.0005851844124294272, 0.0007656568892523039, 0.0009440490795939864, 0.0011005122048263149, 0.001671393512909887, 0.0021628561313921713, 0.002570708060341675, 0.002688520049776632, 0.0026156311879152526, 0.002948086268209918, 0.003469387835682025, 0.0032995468165730444, 0.0033009273815293202, 0.0034593154382365496, 0.0036167732707485995, 0.0038187125517966164, 0.0039416795678171536, 0.00398035026190785, 0.004047132302004347, 0.004245848803164066, 0.004331187810145432, 0.004485080674489579, 0.004469987189817519, 0.0045227997869891345, 0.004567917602953105, 0.004624673839089126, 0.004616225111380841, 0.004612867234873944, 0.0046125272120974775, 0.004634882398485217, 0.004763055150028201, 0.0048038392749577595, 0.004894224629390078, 0.004866274924402379, 0.0048723677960925416, 0.0048873694516858995, 0.004834306439018683, 0.004795352261359516, 0.004683800008778014, 0.004748195885130052, 0.004747900895955313, 0.004685146106549869, 0.004651808252518326, 0.00466475304373058, 0.004684795672777662, 0.004653843095532402, 0.004583111296060848, 0.004532998394741541, 0.004465562218991912, 0.004497449607123141, 0.0044716636297735, 0.004505293680735534, 0.004477315143629725, 0.004417777168798074, 0.004341435730937429, 0.004379818282511133, 0.004394985730191031, 0.004350185725115388, 0.004341912833024098, 0.004271221248601616, 0.004252454130007833, 0.0041860839137062315, 0.004158322697214103, 0.004124489538103428, 0.004078769895025564, 0.004050952761678399, 0.004013557465077247, 0.003978424629305016, 0.003940215520033485, 0.00392110019466077, 0.0038904181514483847, 0.0038757728787325667, 0.0038478187650292798, 0.00382016546987316, 0.0038107544205862247, 0.0037913134027260063, 0.0037458769423608573, 0.0037027871714222682, 0.0036435677012890805, 0.003626820768476172, 0.003609773998845752, 0.0035637546716984435], [0.0, 0.0, 6.632279969024173e-157, 1.4659970035165464e-81, 2.179509516827414e-34, 2.300099290043986e-25, 5.346902364680658e-18, 3.594532316695335e-14, 2.501300138632635e-12, 8.043350999544265e-10, 1.4327280219011648e-07, 1.17382456297013e-06, 6.467955299140188e-06, 2.799405911340005e-05, 7.157029560665289e-05, 0.0001172011156379748, 0.00022294461644845629, 0.00043970337084175385, 0.0006022893333339978, 0.0007860465768305625, 0.0009665754300678676, 0.0011255185731632073, 0.0017044319029760249, 0.0022003605301666733, 0.0026106870279829554, 0.0027280625894653904, 0.0026539691772176593, 0.002986116538608006, 0.0035103301852187066, 0.0033381282147536026, 0.0033381455354036414, 0.003495855186248397, 0.0036513275554605315, 0.00385318445665403, 0.003975317038925781, 0.004012923639529168, 0.0040790908130927984, 0.004277409908517728, 0.004361688133603275, 0.004514601175418639, 0.004497634614806958, 0.004549447236459502, 0.004593940863794484, 0.004650080161385846, 0.004640823258739616, 0.004635655651156122, 0.0046345770749997815, 0.004656280262630781, 0.00478357056201227, 0.004823804689571977, 0.00491367383091555, 0.004884319497258297, 0.004890399842545943, 0.004904303592545403, 0.004850823699924861, 0.004811369094535283, 0.004699050923676763, 0.0047625889809020045, 0.004761890740276829, 0.00469836818686655, 0.004664854211414561, 0.004677315680661223, 0.0046965298751581504, 0.004665302167103399, 0.00459421234205432, 0.004543694815769923, 0.0044757795406740325, 0.004507516454450716, 0.004481199600284715, 0.004514252169763778, 0.004486270022129817, 0.004426299731964975, 0.004349673336594283, 0.00438774537533572, 0.004402350995394554, 0.00435734272932504, 0.004348982338655327, 0.004277959914367707, 0.004259121731607409, 0.0041924268464082195, 0.0041644681968479895, 0.0041305269892316955, 0.004084563360258425, 0.0040565591744655995, 0.004019010228571943, 0.003983725516014053, 0.003945323681415244, 0.003926094993456917, 0.003895141289124497, 0.0038803817717207026, 0.003852293812114239, 0.0038244316149613064, 0.0038148985145816925, 0.003795396788340898, 0.0037498447412239993, 0.003706722837420014, 0.0036473453419069296, 0.0036304936257561104, 0.0036133371356938198, 0.003567261267970282], [0.0, 0.0, 7.781757588426612e-156, 5.235883087192163e-81, 3.706550496075503e-34, 3.342898888642221e-25, 6.92168839260844e-18, 4.3874489100100706e-14, 2.9683254795045267e-12, 9.133687619033535e-10, 1.5777253632127605e-07, 1.270984841500635e-06, 6.911711989221996e-06, 2.958852745105532e-05, 7.500691208629322e-05, 0.00012233737715246042, 0.00023134634041657078, 0.00045385756843138183, 0.0006198223405024917, 0.0008068938910031477, 0.000989547335152075, 0.0011509901402892604, 0.0017379820429278179, 0.002238353227603893, 0.00265111420737151, 0.0027680172741451742, 0.0026927071309719203, 0.0030244792713943224, 0.0035515790765127627, 0.003376999379811278, 0.0033756303887563306, 0.0035326315840814248, 0.003686073476410663, 0.003887828107223112, 0.004009105764247463, 0.004045633270266386, 0.004111174037757402, 0.004309077909412716, 0.004392280064063575, 0.0045441958245079645, 0.0045253424638938234, 0.004576145237841117, 0.004620008269730729, 0.004675524029460838, 0.00466545433787354, 0.004658466739542852, 0.0046566456904713685, 0.004677692744999212, 0.0048040919355396144, 0.004843772321533078, 0.0049331201964069055, 0.004902356955021993, 0.004908424545626581, 0.004921226330121272, 0.0048673297726613465, 0.0048273743026277455, 0.004714290930483452, 0.004776967189239352, 0.004775864697194158, 0.00471157406607476, 0.004677884340743423, 0.004689861131321196, 0.004708244801604259, 0.004676742123522361, 0.004605295113063367, 0.00455437327369623, 0.004485979420534642, 0.004517565004080168, 0.00449071696414513, 0.004523190654253195, 0.004495205402455371, 0.004434803326350823, 0.004357892950912957, 0.004395653477835551, 0.004409696461368973, 0.004364480482373042, 0.004356032650185684, 0.004284680224076211, 0.0042657712086878585, 0.004198752398015077, 0.00417059657352218, 0.004136547726502116, 0.004090340583341031, 0.004062149602204285, 0.0040244474133462075, 0.003989011194237583, 0.003950417013456455, 0.003931075140645253, 0.003899850010874189, 0.003884976370954306, 0.003856754839840612, 0.0038286839745891197, 0.003819028881515388, 0.0037994666485227898, 0.0037537994883233942, 0.0037106459211287465, 0.0036511109817455646, 0.0036341546200736735, 0.0036168885486429175, 0.0035707565955809583], [0.0, 0.0, 9.053177941782003e-155, 1.8617814355343517e-80, 6.291618445823467e-34, 4.852178095665722e-25, 8.952180088529365e-18, 5.351464515425737e-14, 3.5203656913921964e-12, 1.0367096883468972e-09, 1.7367483248833943e-07, 1.3757629827918072e-06, 7.383994198685814e-06, 3.126688799169185e-05, 7.859391219026676e-05, 0.00012767687711837404, 0.00024002942184016686, 0.00046840731341825625, 0.0006377917699389016, 0.0008282065001341564, 0.0010129710642512125, 0.0011769328237638138, 0.0017720484967613378, 0.0022768371072326614, 0.0026919912061788747, 0.002808385212859771, 0.0027318461932736415, 0.003063174700762735, 0.0035931339851328513, 0.0034161599497563033, 0.0034133815209027077, 0.003569643996315273, 0.003721010233955685, 0.003922642551607231, 0.004043044730677323, 0.004078478149009716, 0.004143380956804655, 0.004340851713232961, 0.004422962522230544, 0.004573863537700629, 0.004553109751079263, 0.004602892842087347, 0.004646118893128307, 0.004701004535286287, 0.004690117484559289, 0.004681299728956414, 0.0046787323245195385, 0.004699119140473921, 0.004824618590699971, 0.004863741512800038, 0.004952563081691793, 0.004920386725686486, 0.00492644133321773, 0.004938137142282905, 0.004883824159742733, 0.004843367414424612, 0.004729519601600703, 0.004791330112409318, 0.004789822385402578, 0.004724763398226378, 0.004690898303872672, 0.004702389076299053, 0.004719940161550755, 0.004688162686080361, 0.004616359347367971, 0.004565033523474213, 0.0044961616329919135, 0.00452759503337768, 0.0045002155165986815, 0.004532108944979436, 0.00450412109690688, 0.00444328777958887, 0.004366094412945524, 0.004403542435723027, 0.004417021987908168, 0.00437159885116073, 0.004363063637026915, 0.0042913820578893164, 0.0042724024437860685, 0.004205060460912187, 0.004176707724969244, 0.004142551651118138, 0.004096101472125502, 0.004067723957465868, 0.0040298689361704144, 0.003994281584735935, 0.0039554954416614815, 0.003936040564362975, 0.0039045442505825953, 0.0038895566127084735, 0.0038612017874764806, 0.003832922492201285, 0.0038231454670637215, 0.0038035229303498923, 0.0037577411335184803, 0.0037145563737625135, 0.003654864575564721, 0.0036378037080554947, 0.00362042819622529, 0.0035742406146588653], [0.0, 0.0, 1.0443183929372036e-153, 6.590970190031772e-80, 1.065948290693885e-33, 7.033752138598064e-25, 1.1567847449574441e-17, 6.522650756728508e-14, 4.172483103236072e-12, 1.1761698157772342e-09, 1.9110858609563018e-07, 1.4887197154836358e-06, 7.886497169251769e-06, 3.303313506948341e-05, 8.233712017187764e-05, 0.0001332266184927107, 0.0002490018220331765, 0.00048336149441381894, 0.0006562060457778207, 0.0008499921259520317, 0.0010368529080330136, 0.0012033525468940526, 0.001806635790950079, 0.002315814994684545, 0.002733319567913861, 0.0028491674544212035, 0.002771387451982011, 0.0031022030113960542, 0.003634994334579049, 0.003455609516668206, 0.0034513984700508442, 0.0036068917507772356, 0.0037561369992469154, 0.003957626810910631, 0.004077132901185351, 0.004111457249351117, 0.0041757105314741486, 0.004372730209847885, 0.004453734413611074, 0.004603603218033366, 0.004580935479931842, 0.004629689091121712, 0.004672271798170738, 0.004726520763470928, 0.004714811827966827, 0.004704153843261139, 0.0047008362386551155, 0.004720558739949376, 0.004845149844399783, 0.004883711602535311, 0.0049720018402236565, 0.004938408235485614, 0.0049444496314573734, 0.004955035505612091, 0.004900306362482146, 0.004859347957639621, 0.004744736508484718, 0.004805677352043385, 0.004803763423065165, 0.004737935836967507, 0.004703895763775849, 0.004714899195900427, 0.004731615664316636, 0.004699563575976001, 0.004627404783164052, 0.004575675320001665, 0.0045063259524338005, 0.004537606319716851, 0.004509695052945231, 0.004541006852851275, 0.004513016917903727, 0.00445175291944085, 0.004374277561861065, 0.004411412094869044, 0.0044243274350089686, 0.004378697702785618, 0.004370075168788496, 0.00429806529615665, 0.004279015319622851, 0.004211350927660444, 0.004182801549096518, 0.004148538664451286, 0.004101845934627272, 0.0040732821529835634, 0.004035274713971127, 0.003999536608420748, 0.003960558891681659, 0.003940991192892579, 0.003909223942279713, 0.0038941224334023746, 0.0038656345944304113, 0.003837147111381043, 0.0038272482170419115, 0.003807565581036056, 0.0037616696267966988, 0.003718454146655138, 0.00365860607823516, 0.003641440846437792, 0.003623956037081317, 0.0035777132854333212], [0.0, 0.0, 1.1944646714400364e-152, 2.323014369778528e-79, 1.8025661137045853e-33, 1.0182964333630453e-24, 1.49342449939433e-17, 7.944498715215686e-14, 4.94233228241528e-12, 1.3337817548234108e-09, 2.1021385638828608e-07, 1.6104540244746135e-06, 8.421007374841617e-06, 3.489142909591346e-05, 8.624254892994327e-05, 0.00013899379896576978, 0.0002582716706348021, 0.0004987291263017317, 0.000675073678875268, 0.0008722585416491245, 0.0010611991765660442, 0.0012302552367205652, 0.0018417484122230231, 0.002355289655873309, 0.002775100770526082, 0.0028903649862727083, 0.002811331937638774, 0.003141564337793726, 0.003677159495788959, 0.00349534762624159, 0.0034896807329259853, 0.003644374138271463, 0.003791452914078615, 0.003992779879137732, 0.004111369214754939, 0.0041445695235441515, 0.004208161703414771, 0.004404712271615329, 0.004484594628531787, 0.004633413755668714, 0.004608818643621226, 0.004656533017874491, 0.00469846604089694, 0.004752071791300049, 0.0047395364906979405, 0.00472702830129868, 0.004722956689926196, 0.004742010830364002, 0.004865685010395583, 0.0049036819271374545, 0.004991435823114466, 0.004956420908922285, 0.004962448864766496, 0.004971920895428462, 0.00491677588101493, 0.0048753154589345205, 0.004759941221664274, 0.00482000850915493, 0.004817687427829528, 0.004751091035553103, 0.004716876383046307, 0.004727391170161216, 0.004743271019116868, 0.004710944514326468, 0.004638431158573556, 0.004586298418129599, 0.004516472153226187, 0.004547598640486778, 0.004519155368547781, 0.004549884188917211, 0.004521892677990668, 0.00446019857380274, 0.00438244223695086, 0.0044192623013079545, 0.004431612662875571, 0.004385776904545487, 0.004377067115281635, 0.004304729819418799, 0.0042856097191063865, 0.004217623690999287, 0.004188877943988915, 0.004154508668043847, 0.004107573879027518, 0.004078824101654649, 0.004040664663833214, 0.004004776186356951, 0.0039656072893171105, 0.003945926954663586, 0.003913889020141937, 0.0038986737696007183, 0.003870053200252834, 0.0038413577758514366, 0.00383133707740518, 0.0038115945479319105, 0.003765584918274542, 0.003722339191261225, 0.0036623354447395573, 0.003645065992067226, 0.0036274720299603147, 0.003581174568235329], [0.0, 0.0, 1.3546347214259282e-151, 8.151477650432789e-79, 3.042478879616795e-33, 1.4723064687601404e-24, 1.9262868801544543e-17, 9.669405436784972e-14, 5.850592382214244e-12, 1.5118245188950686e-09, 2.3114276748115214e-07, 1.7416055229895178e-06, 8.989406809697734e-06, 3.684610215302808e-05, 9.03164044099053e-05, 0.00014498581439168772, 0.00026784726703600164, 0.000514519349571098, 0.0006944032653077386, 0.000895013569903614, 0.0010860161974043205, 0.0012576468219558945, 0.0018773908053155693, 0.0023952637951649507, 0.0028173362250095905, 0.002931978733354049, 0.0028516806223889196, 0.003181258763604145, 0.003719628786651224, 0.0035353737773378365, 0.0035282277644002598, 0.0036820904123131422, 0.003826957090740454, 0.004028100723096393, 0.004145752586325024, 0.0041778139024669855, 0.004240733394663818, 0.00443679675338713, 0.00451554204215832, 0.004663294027929057, 0.00463675822495334, 0.004683423646320618, 0.004724700669240699, 0.004777656688776479, 0.004764290588825681, 0.004749922316923938, 0.00474509293095252, 0.004763474694733557, 0.004886223399327763, 0.004923651820274129, 0.00501086437916777, 0.004974424168796969, 0.004980438455877622, 0.004988792785815107, 0.004933232214322498, 0.00489126944394118, 0.004775133310759847, 0.004834323184156943, 0.004831594016844621, 0.004764228646861651, 0.004729839823911305, 0.004739864678860801, 0.00475490593507417, 0.00472230522217865, 0.004649438211654565, 0.004596902572671451, 0.004526600009721055, 0.004557571773100146, 0.004528596258839717, 0.004558740764372058, 0.0045307481898443375, 0.004468624570710509, 0.004390588277633585, 0.004427092901242532, 0.004438877531923967, 0.004392836323942506, 0.004384039346523269, 0.004311375508410854, 0.004292185525335645, 0.004223878643849721, 0.004194936807911754, 0.004160461563611551, 0.004113285213675603, 0.004084349716542736, 0.004046038703001951, 0.004010000239764721, 0.003970640560518543, 0.003950847778254252, 0.003918539418493604, 0.0039032105580152176, 0.003874457544637403, 0.0038455544294765547, 0.0038354119942499306, 0.0038156097785260077, 0.0037694869581986158, 0.0037262114591571664, 0.003666052630173413, 0.0036486791019017463, 0.003630976133721342, 0.003584624423498322], [0.0, 0.0, 1.5232795392172848e-150, 2.847755406131562e-78, 5.12560631704849e-33, 2.125979404516638e-24, 2.4823649929197097e-17, 1.1760449998648957e-13, 6.921469176920044e-12, 1.7128521077938556e-09, 2.5406047600665786e-07, 1.8828569538241252e-06, 9.593677439386366e-06, 3.890166370662086e-05, 9.45650900301984e-05, 0.00015121026219455723, 0.00027773708173220197, 0.0005307414295466287, 0.0007142034847778806, 0.0009182650808229718, 0.0011113103136186145, 0.0012855332308761606, 0.0019135673706939045, 0.002435740053538928, 0.002860027274007201, 0.0029740095569696754, 0.0028924344189034546, 0.0032212863209618633, 0.003762401471526647, 0.003575687421542872, 0.003567038977127785, 0.003720039788867855, 0.0038626486118741366, 0.004063588282305212, 0.004180281906735806, 0.004211189295588535, 0.0042734245076289715, 0.004468982492517336, 0.004546575514516892, 0.004693242899332601, 0.004664753196406994, 0.004710359991518834, 0.004750974723071295, 0.004803274518662627, 0.004789073231934695, 0.00477283509904166, 0.004767244209960382, 0.004784949612185033, 0.004906764318754761, 0.004943620612915469, 0.005030286854912057, 0.0049924174362363976, 0.004998417825863581, 0.005005650649644364, 0.004949674860256342, 0.004907209437283845, 0.004790312344502854, 0.004848620976879859, 0.0048454828067776385, 0.0047773483234099185, 0.004742785748246155, 0.004752319401535316, 0.0047665201212308324, 0.004733645420520273, 0.004660425680411423, 0.0046074875384123125, 0.004536709296264683, 0.004567525495001331, 0.004538017519332063, 0.004567576390563562, 0.0045395832662797325, 0.004477030738345884, 0.004398715523460506, 0.004434903741048943, 0.00444612190278636, 0.004399875828687317, 0.00439099173274006, 0.004318002244065934, 0.004298742621603823, 0.004230115679317351, 0.004200978039313581, 0.004166397253046248, 0.004118979847091494, 0.004089858910880021, 0.0040513967488851315, 0.004015208690021444, 0.003975658631389055, 0.003955753592393287, 0.003923175071808515, 0.003907732735506047, 0.0038788475674223694, 0.003849737016262778, 0.0038394729138149257, 0.003819611220445955, 0.00377337569694668, 0.003730070902042143, 0.003669757589745946, 0.003652280133011439, 0.0036344683073339943, 0.0035880628117589248], [0.0, 0.0, 1.6984216842415898e-149, 9.904918919648895e-78, 8.618748836521345e-33, 3.065891072936357e-24, 3.1960773819878373e-17, 1.4293513853684575e-13, 8.183277603003678e-12, 1.9397252454468588e-09, 2.7914620976666336e-07, 2.0349368255149734e-06, 1.023590581854934e-05, 4.1062806438295124e-05, 9.899521113001761e-05, 0.0001576749447455068, 0.0002879497575982912, 0.0005474047555130806, 0.0007344830989252564, 0.0009420209898082696, 0.0011370878817743536, 0.00131392038916584, 0.0019502824622533925, 0.002476721006741257, 0.002903175190416092, 0.0030164582536601715, 0.002933594179304685, 0.003261646989829936, 0.0038054767607771387, 0.0036162879627312174, 0.0036061137411853546, 0.003758221446096216, 0.0038985265303342655, 0.00409924146890493, 0.004214956042678111, 0.004244694590937797, 0.004306233925073202, 0.00450126830887306, 0.004577693890518144, 0.004723259221631282, 0.004692802520172034, 0.004737341059652107, 0.0047772872342352396, 0.004828924336523521, 0.004813883523162453, 0.004795765851643671, 0.0047894097708181226, 0.004806434857991058, 0.004927307073187667, 0.004963587633367797, 0.005049702594634443, 0.005010400130722529, 0.0050163863941664975, 0.005022493958603784, 0.00496610331556221, 0.004923134962601532, 0.004805477890755012, 0.004862901486589454, 0.004859353413830985, 0.004790449717367763, 0.00475571381758843, 0.004764755017490982, 0.004778113286560554, 0.004744964830291058, 0.004671393302804904, 0.00461805307011817, 0.004546799787205845, 0.004577459583674528, 0.004547418945620734, 0.004576390878998999, 0.004548397720256739, 0.004485416905042123, 0.004406823814120683, 0.004442694667281717, 0.004453345636315592, 0.00440689528670314, 0.004397924144372392, 0.0043246099075187235, 0.004305280891401763, 0.004236334690695398, 0.004207001536828984, 0.004172315638418588, 0.0041246576879681975, 0.00409535159806955, 0.004056738719055167, 0.004020401458663684, 0.0039806614281859285, 0.003960644325961566, 0.0039277959147114815, 0.0039122402390833096, 0.0038832232085919452, 0.0038539054803600173, 0.003843519782482476, 0.0038235988214595546, 0.0037772510850287034, 0.0037339174717391285, 0.003673450278780993, 0.0036558690425793827, 0.0036379485098792094, 0.0035914896936576966], [0.0, 0.0, 1.8776729723020144e-148, 3.4298968678145846e-77, 1.4465202178153864e-32, 4.415615243751751e-24, 4.111269152113848e-17, 1.7359810175105268e-13, 9.669117235531962e-12, 2.1956466001896445e-09, 3.06594382015943e-07, 2.198622189348485e-06, 1.0918287879216097e-05, 4.33344121951027e-05, 0.00010361357943440565, 0.00016438787270593892, 0.0002984941110818431, 0.0005645188397312862, 0.0007552509495406458, 0.0009662892553386269, 0.0011633552698559907, 0.001342814217715832, 0.001987540384991657, 0.0025182091634301483, 0.0029467811759951866, 0.0030593255540774227, 0.0029751606940944812, 0.0033023406973477277, 0.0038488538103027647, 0.0036571747566365486, 0.0036454513837188766, 0.003796634524103872, 0.003934589869053561, 0.004135059167573966, 0.004249773836646459, 0.004278328655076425, 0.004339160510102632, 0.004533653004848061, 0.004608895999983266, 0.004753341833850605, 0.004720905148188941, 0.0047643658480693175, 0.004803637226599182, 0.00485460519077087, 0.004838720559241379, 0.004818713773846778, 0.004811588853072217, 0.0048279297036047854, 0.004947850964125224, 0.004983552207307716, 0.005069110940414659, 0.005028371670121713, 0.005034343578627018, 0.00503932218322228, 0.0049825170759044204, 0.004939045542570562, 0.00482062951652782, 0.004877164312004846, 0.004873205453759326, 0.004803532480573001, 0.004768623693152232, 0.004777171205817457, 0.004789685139980333, 0.004756263172393924, 0.004682340816762401, 0.00462859892254519, 0.004556871256904047, 0.004587373816651891, 0.004556800333393823, 0.004585184041351813, 0.004557191364886633, 0.004493782899289775, 0.004414912989446176, 0.004450465526678728, 0.004460548593589555, 0.004413894566129873, 0.0044048364520783674, 0.004331198380108991, 0.004311800218421385, 0.004242535571467725, 0.004213007199281416, 0.004178216621980701, 0.00413031864517418, 0.00410082769168747, 0.004062064531251194, 0.0040255784673891406, 0.003985648877322435, 0.003965519907993836, 0.003932401881979846, 0.003916733005908478, 0.003887584408277664, 0.003858059766062955, 0.003847552546779604, 0.003827572529475931, 0.0037811130730879103, 0.0037377511201958833, 0.0036771306527179, 0.003659445787902485, 0.00364141670055006, 0.003594905029939883], [0.0, 0.0, 2.0582726142500806e-147, 1.1824780706729677e-76, 2.42318234350971e-32, 6.3512990542478975e-24, 5.2837408629586266e-17, 2.1068898693124513e-13, 1.1417654968373998e-11, 2.484199847930448e-09, 3.366157862574751e-07, 2.3747415632880276e-06, 1.1643133893424705e-05, 4.572155805519229e-05, 0.00010842721753237873, 0.00017135726833197949, 0.0003093791333105087, 0.0005820933163431528, 0.0007765159566824133, 0.000991077876675133, 0.001190118855137739, 0.001372220630374964, 0.0020253453926569707, 0.0025602069633148304, 0.0029908463599749753, 0.0031026121218640478, 0.0030171346910858685, 0.0033433673171843928, 0.003892531721087075, 0.003698347110428884, 0.0036850511885956746, 0.0038352781246970475, 0.003970837620912424, 0.00417104023544818, 0.004284734106895822, 0.004312090333074521, 0.004372203106157339, 0.004566135365378969, 0.004640180657672436, 0.00478348956233143, 0.004749060022189955, 0.004791433345328212, 0.004830023716093932, 0.004880316122708146, 0.004863583430541857, 0.004841678059931319, 0.004833780691983895, 0.004849433416695317, 0.004968395290089239, 0.005003513657816544, 0.005088511232159367, 0.0050463314707141, 0.005052288795513758, 0.00505613479289642, 0.0049989156358903565, 0.004954940698927241, 0.004835766788002146, 0.004891409051316569, 0.004887038541886707, 0.004816596264546335, 0.0047815150358425105, 0.004789567645401266, 0.004801235390362367, 0.004767540167706207, 0.0046932679601881366, 0.004639124850448999, 0.0045669234797377735, 0.004597267971521687, 0.0045661614784388745, 0.004593955689468227, 0.0045659640134386075, 0.004502128549742472, 0.004422982889417259, 0.004458216166166155, 0.00446773063591562, 0.004420873535328193, 0.004411728526737796, 0.004337767543385126, 0.004318300486559115, 0.004248718215311863, 0.004218994925686007, 0.004184100106168863, 0.004135962627755798, 0.00410628710548529, 0.004067374103381169, 0.004030739638058607, 0.003990620905369623, 0.003970380267680432, 0.0039369929085450155, 0.003921210973295871, 0.0038919311067597425, 0.003862199817812279, 0.0038515711533792267, 0.003831532292546668, 0.0037849616119018225, 0.0037415717994859583, 0.0036807986671124194, 0.0036630103263923346, 0.0036448728386525497, 0.003598308781456163], [0.0, 0.0, 2.2371461046914717e-146, 4.0587006976718804e-76, 4.0516226297186396e-32, 9.1236945164808e-24, 6.78444125390486e-17, 2.555227634741605e-13, 1.3474031265667504e-11, 2.809392973271636e-09, 3.694388766917986e-07, 2.564178009059902e-06, 1.2412873613823527e-05, 4.8229522507637386e-05, 0.00011344336336357746, 0.00017859156873500603, 0.0003206139911094105, 0.0006001379401629792, 0.0007982871166934836, 0.0010163948914836747, 0.0012173850220006952, 0.0014021455316551535, 0.0020637016853726686, 0.0026027167752883337, 0.0030353717976703003, 0.003146318552537488, 0.00305951683433849, 0.0033847266688983627, 0.0039365095387509895, 0.003739804282298709, 0.003724912396062892, 0.003874151311143701, 0.004007268748613022, 0.004207183502044878, 0.004319835647402184, 0.004345978448489745, 0.0044053605370051865, 0.004598714157964264, 0.00467154666331556, 0.0048137012207737076, 0.004777266073741686, 0.004818542531239634, 0.00485644571075964, 0.004906056166576687, 0.0048884712211161516, 0.0048646578993803745, 0.004855984518566366, 0.0048709452611835884, 0.004988939346660404, 0.005023471305415113, 0.005107902807636768, 0.005064278947223272, 0.005070221459552977, 0.005072931255916927, 0.0050152984890951035, 0.004970819952490664, 0.004850889270547942, 0.004905635302204749, 0.004900852293123749, 0.004829640720506346, 0.004794387506269451, 0.004801944014939255, 0.004812763746546007, 0.004778795537090916, 0.004704174470973404, 0.004649630608594008, 0.004576956230112741, 0.0046071418259364715, 0.004575502176650186, 0.004602705635373875, 0.004574715479346297, 0.0045104536852227034, 0.004431033354167628, 0.0044659464328634735, 0.00447489162483505, 0.0044278320628836475, 0.004418600239456191, 0.004344317279107661, 0.004324781579919299, 0.004254882516102023, 0.004224964615252376, 0.0041899659936061795, 0.004141589544939713, 0.004111729753392125, 0.004072667353523976, 0.0040358848926979225, 0.00399557743905812, 0.003975225334368977, 0.003941568929493985, 0.0039256740787140835, 0.0038962632444684364, 0.0038663255801959237, 0.003855575549101326, 0.003835478058866934, 0.0037887966523833033, 0.0037453794618096856, 0.0036844542776376023, 0.0036665626155760393, 0.003648316883606407, 0.0036017009091633963], [0.0, 0.0, 2.4109839113426823e-145, 1.3869565436198135e-75, 6.761657755996307e-32, 1.3089279582366578e-23, 8.703494095386977e-17, 3.0967650321773036e-13, 1.589090874501437e-11, 3.175706241475464e-09, 4.0531113973467214e-07, 2.7678723687984615e-06, 1.3230061595836325e-05, 5.0863791744321835e-05, 0.00011866947470871857, 0.0001860994290929698, 0.0003322080279243289, 0.0006186625853524882, 0.0008205735001175136, 0.0010422483733760722, 0.0012451601596962663, 0.001432594814390418, 0.0021026134072382814, 0.0026457408955548782, 0.0030803584690967203, 0.0031904453723792907, 0.003102307723098282, 0.00342641851730308, 0.003980786253115443, 0.003781545481048127, 0.0037650342024120693, 0.0039132531079404355, 0.004043882184557843, 0.004243487769191116, 0.004355077227826873, 0.0043799918033497155, 0.004438631606738646, 0.004631388132685964, 0.004702992801645349, 0.004843975610282165, 0.004805522224289225, 0.0048456923769130324, 0.004882902210792102, 0.004931824349602806, 0.004913383008743208, 0.0048876524769196125, 0.0048781995596225885, 0.004892464497278783, 0.005009482426514511, 0.005043424468098925, 0.005127285002511527, 0.005082213512846092, 0.005088140983958475, 0.0050897110394953066, 0.005031665128086236, 0.004986682823185665, 0.004865996528744067, 0.004919842661857348, 0.004914646321984933, 0.004842665499384535, 0.004807240764762905, 0.004814299992952105, 0.004824269917349725, 0.004790029001408007, 0.00471506008700683, 0.004660115951762744, 0.004586969282470185, 0.004616995157621268, 0.004584822224036116, 0.004611433691280446, 0.004583445576214312, 0.0045187581347276035, 0.0044390642239896284, 0.004473656174088428, 0.004482031422127416, 0.004434770017610751, 0.004425451461568757, 0.004350847469252798, 0.004331243382817632, 0.004261028367912118, 0.004230916167387449, 0.004195814187105248, 0.00414719930613532, 0.004117155549516957, 0.00407794419993151, 0.004041014153499935, 0.0040005184052799144, 0.003980055037566089, 0.003946129880070863, 0.003930122259787457, 0.003900580761985402, 0.003870436997950293, 0.003859565680914117, 0.003839409776776611, 0.0037926181455815995, 0.003749174059495176, 0.0036880974400846853, 0.003670102613097071, 0.003651748794945881, 0.0036050813741253652], [0.0, 0.0, 2.576337697125673e-144, 4.718680567126196e-75, 1.1263119356076472e-31, 1.8754158750760328e-23, 1.1155272098582376e-16, 3.750401908351603e-13, 1.8729684578940898e-11, 3.58814531527859e-09, 4.4450056229898666e-07, 2.9868266678061875e-06, 1.4097382704870626e-05, 5.363006606147086e-05, 0.000124113233678891, 0.0001938897258070608, 0.00034417076464642927, 0.0006376772439769955, 0.0008433842495128876, 0.0010686464293690092, 0.0012734506600559823, 0.00146357435735002, 0.0021420846439081224, 0.0026892815457526266, 0.003125807277591075, 0.0032349930373300408, 0.0031455078907418697, 0.0034684425718392595, 0.0040253607977730295, 0.003823569865689308, 0.0038054157596501188, 0.003952582500585287, 0.0040806768307328975, 0.004279951810956412, 0.004390457593484757, 0.004414129178137757, 0.004472015099774675, 0.0046641560222340575, 0.004734517842432718, 0.0048743115194139555, 0.0048338273852017635, 0.004872881844803213, 0.004909392208590211, 0.0049576196920459335, 0.0049383178649743415, 0.004910660972557811, 0.004900425037783613, 0.004913990381515224, 0.005030023819459071, 0.005063372461373644, 0.005146657150379999, 0.005100134579282783, 0.005106046780461706, 0.005106473609790675, 0.005048015044448764, 0.005002528830065895, 0.004881088126398219, 0.004934030726988496, 0.004928420242605923, 0.004855670251840427, 0.004820074471386878, 0.004826635257797875, 0.004835753611583118, 0.004801240281525693, 0.004725924546184663, 0.00467058063476521, 0.004596962411295158, 0.0046268277443817715, 0.004594121416726395, 0.004620139669592314, 0.004592154117824777, 0.004527041727434736, 0.004447075339339469, 0.004481345237362009, 0.004489149889815017, 0.004441687268557082, 0.004432282064644375, 0.004357357996015923, 0.004337685779784578, 0.004267155665018779, 0.004236849481698259, 0.004201644589670827, 0.004152791820937159, 0.00412256440815087, 0.004083204561030783, 0.004046127342826444, 0.004005443731090155, 0.003984869306939085, 0.003950675695678396, 0.00393455545429751, 0.003904883600045047, 0.0038745340159614993, 0.0038635414959352172, 0.0038433273947614155, 0.003796426042683379, 0.003752955544999308, 0.0036917281103639827, 0.003673630276716104, 0.003655168532320525, 0.0036084501375135214], [0.0, 0.0, 2.729730522063329e-143, 1.5983069955564591e-74, 1.8726020406697603e-31, 2.683590629921814e-23, 1.4284783851946424e-16, 4.5387709387355326e-13, 2.2061891304060444e-11, 4.052300035238246e-09, 4.872972028283796e-07, 3.222107690136229e-06, 1.5017657811932182e-05, 5.6534266368108076e-05, 0.00012978255119851337, 0.00020197155959809647, 0.0003565119003342041, 0.0006571920244401455, 0.0008667285771632279, 0.001095597197260333, 0.0013022629151477384, 0.001495090022806022, 0.0021821194201481196, 0.0027333408710725794, 0.0031717190484368135, 0.003279961931890442, 0.0031891178037261225, 0.0035107984859539866, 0.004070232049668891, 0.0038658765450504057, 0.003846056175176834, 0.003992138435356462, 0.004117651558595584, 0.0043165743735898085, 0.00442597546531631, 0.0044483893317820355, 0.004505509780857663, 0.0046970165419337176, 0.004766120540524535, 0.00490470772422827, 0.004862180457819704, 0.004900109888758411, 0.004935914688804556, 0.004983441207247751, 0.0049632748551798325, 0.004933682561627997, 0.0049226601715475085, 0.004935522166789767, 0.005050562812470317, 0.005083314598290955, 0.0051660185828057556, 0.005118041556767224, 0.005123938259342116, 0.0051232184319367205, 0.005064347728810226, 0.005018357491337041, 0.004896163626566995, 0.004948199093856921, 0.0049421736687610095, 0.004868654628276733, 0.004832888285954079, 0.004838949487685602, 0.004847214538058943, 0.004812429098331776, 0.004736767586421083, 0.004681024412448253, 0.004606935391124841, 0.0046366393641125644, 0.004603399550979458, 0.004628823382913193, 0.004600840918143872, 0.004535304292707896, 0.004455066540842453, 0.004489013470413442, 0.004496246890167285, 0.00444858368500737, 0.0044390919204896, 0.0043638487418151345, 0.004344108655568779, 0.004273264301904363, 0.00424276445799476, 0.00420745710450251, 0.004158366999127331, 0.004127956243769308, 0.004088448355426008, 0.004051224383210158, 0.00401035334370893, 0.0039896680723176745, 0.003955206311879481, 0.003938973600184398, 0.0039091716995358775, 0.003878616579266585, 0.0038675029414328085, 0.0038472308614540224, 0.0038002202950137673, 0.003756723870908722, 0.0036953462445057737, 0.0036771455643118504, 0.003658576055495994, 0.0036118071606077236], [0.0, 0.0, 2.867776324873336e-142, 5.38991255069017e-74, 3.1075176413187224e-31, 3.8350566262695636e-23, 1.8275705658401048e-16, 5.488954336311361e-13, 2.5970814156252253e-11, 4.574409430806159e-09, 5.34014871371101e-07, 3.4748507338506704e-06, 1.599384968087589e-05, 5.958254079839513e-05, 0.00013568557147654347, 0.000210354258536858, 0.00036924131282827324, 0.000677217149794705, 0.0008906157626831375, 0.001123108842922241, 0.0013316033148785484, 0.0015271476540556102, 0.0022227216973716535, 0.00277792093837429, 0.0032180945274947453, 0.003325352368029041, 0.0032331378605432877, 0.0035534858564868843, 0.004115398828691041, 0.003908464577389127, 0.003886954511469073, 0.004031919819097228, 0.0041548052089672655, 0.004353354175461479, 0.004461629539863589, 0.004482771001648054, 0.004539114395065448, 0.004729968389775252, 0.004797799635883729, 0.00493516298833792, 0.004890580333503298, 0.004927375454069582, 0.004962468628387146, 0.005009287901682369, 0.004988253038596386, 0.0049567164148292524, 0.00494490417531881, 0.0049570591023996935, 0.005071098689730638, 0.00510325018948476, 0.005185368629355418, 0.005135933854097459, 0.0051418148294577, 0.005139944970068856, 0.005080662670865928, 0.005034168324380163, 0.004911222591576039, 0.004962347358284429, 0.004955906213880568, 0.004881618278854558, 0.004845681868040509, 0.004851242360688938, 0.004858652405605175, 0.004823595172745001, 0.004747588945658536, 0.00469144703970497, 0.004616887996556866, 0.004646429794805339, 0.004612656423189772, 0.004637484644052776, 0.004609505791328384, 0.0045435456601029, 0.0044630376692982015, 0.004496660721185161, 0.004503322285705204, 0.004455459136487588, 0.0044458809011526336, 0.004370319589294756, 0.004350511895140483, 0.0042793541732599714, 0.00424866099629263, 0.004213251634997381, 0.0041639247506779185, 0.0041333309710343095, 0.004093675501900693, 0.004056305197356633, 0.004015247170523056, 0.003994451263695668, 0.003959721664398688, 0.0039433766355483485, 0.003913445001501857, 0.003882684633054753, 0.003871449964826804, 0.0038511201256351854, 0.0038040008540373804, 0.003760478989940804, 0.0036989517986611834, 0.0036806484338819004, 0.003661971324354822, 0.0036151524047969806], [0.0, 0.0, 2.9873030762085473e-141, 1.8096106129769228e-73, 5.147104881000479e-31, 5.473487493667816e-23, 2.336047195695265e-16, 6.633334041567488e-13, 3.0553357060161854e-11, 5.161433581961322e-09, 5.849929252934834e-07, 3.7462635529488026e-06, 1.7029069050376198e-05, 6.278127142448795e-05, 0.00014183067646028863, 0.0002190473810024287, 0.0003823690592546233, 0.0006977629559269131, 0.0009150551505179412, 0.001151189557511058, 0.001361478244543994, 0.0015597530728985144, 0.0022638953711552386, 0.0028230237342992603, 0.0032649343798398134, 0.0033711645840970796, 0.0032775683906822134, 0.003596504223063676, 0.0041608598972704, 0.003951332970014181, 0.003928109785771818, 0.004071925519006981, 0.004192136591930681, 0.004390289907008789, 0.004497418489250183, 0.00451727290353463, 0.0045728276678184635, 0.004763010246446889, 0.004829553853631739, 0.0049656760629628914, 0.004919025893682778, 0.0049546774775210255, 0.004989052996642286, 0.005035158775007496, 0.005013251468375507, 0.004979761698269165, 0.004967156259448569, 0.004978600434081077, 0.005091630732666358, 0.0051231785432077175, 0.005204706617634779, 0.005153810878666433, 0.0051596758982757574, 0.005156652687351508, 0.0050969593594043325, 0.005049960845775172, 0.004926264583040317, 0.0049764751156744945, 0.004969617491068633, 0.004894560853508682, 0.004858454877000121, 0.004863513554759835, 0.0048700669230770975, 0.0048347382257264435, 0.0047583883618780905, 0.004701848271484114, 0.0046268200022576665, 0.0046561988145571425, 0.004621891829895186, 0.004646123266033399, 0.004618148551732258, 0.004551765659373386, 0.004470988565685885, 0.00450428683783779, 0.004510375939205718, 0.004462313492769041, 0.004452648878927305, 0.004376770421328856, 0.004356895383694947, 0.0042854251739884545, 0.0042545389968160685, 0.004219028084752681, 0.0041694649857533855, 0.00413868850479675, 0.004098885919419723, 0.00406136970814623, 0.0040201251390878595, 0.003999218811232664, 0.003964221689123773, 0.003947764498651101, 0.003917703447143743, 0.003886738122668585, 0.0038753825136900056, 0.003854995136234854, 0.003807767671359362, 0.003764220854944675, 0.003702544729103071, 0.003684138843543555, 0.0036653542988972173, 0.003618485831580188], [0.0, 0.0, 3.085473415148313e-140, 6.048817022828656e-73, 8.509298083447436e-31, 7.801773081687308e-23, 2.983293945793649e-16, 8.010599444833418e-13, 3.5922193954166915e-11, 5.821133008296964e-09, 6.405981875524055e-07, 4.0376304930923415e-06, 1.8126580913535285e-05, 6.613708106619117e-05, 0.00014822649026593874, 0.0002280607185624372, 0.00039590537641184706, 0.000718839889611938, 0.0009400561473362831, 0.0011798475545932397, 0.0013918940823244793, 0.001592912077069963, 0.0023056442687348915, 0.002868651163382759, 0.0033122391884045145, 0.003417398743750989, 0.003322409653596085, 0.0036398530674973946, 0.004206613959990741, 0.003994480678914779, 0.003969520969796225, 0.004112154362438657, 0.004229644486732229, 0.004427380230686961, 0.004533340961165142, 0.0045518937316732806, 0.004606648304892002, 0.00479614077537033, 0.004861381904093362, 0.0049962456869858726, 0.004947516009909996, 0.004982014887442232, 0.00501566675527858, 0.005061052820116621, 0.00503826919163273, 0.0050028175735069074, 0.004989415630274947, 0.005000145404047655, 0.005112158219985948, 0.005143098965368137, 0.005224031873325229, 0.005171672036492931, 0.005177520871903886, 0.005173341046005577, 0.005113237282332595, 0.0050657345713244345, 0.004941289161884492, 0.004990581961030916, 0.004983307113120518, 0.004907482001962871, 0.00487120697197951, 0.00487576274774226, 0.004881457799369419, 0.0048458579782909164, 0.00476916557310982, 0.004712227862799527, 0.004636731182970839, 0.004665946201578628, 0.004631105567784286, 0.0046547390620966895, 0.004626769013913149, 0.004559964120476615, 0.004478919071169462, 0.004511891668755133, 0.004517407713706134, 0.004469146623872446, 0.004459395726357062, 0.004383201121024752, 0.00436325900665585, 0.004291477199207419, 0.0042603983600006026, 0.004224786357568465, 0.004174987614712995, 0.004144028760098584, 0.004104079527131452, 0.0040664178386360435, 0.004024987177128959, 0.00400397064525574, 0.003968706322107192, 0.00395213712791735, 0.00392194697782044, 0.0038907769936052674, 0.0038793005357492614, 0.0038588558423332878, 0.0038115206987264067, 0.0037679494189021725, 0.0037061249922269103, 0.003687616751534658, 0.00366872493924184, 0.003621807402566866], [0.0, 0.0, 3.1598963938208613e-139, 2.0129716425798333e-72, 1.4041249664493723e-30, 1.1106042576127365e-22, 3.806426578149699e-16, 9.666940871430192e-13, 4.2208247296799504e-11, 6.562156324276659e-09, 7.012269947754711e-07, 4.350316828380969e-06, 1.928981099786725e-05, 6.965684019334502e-05, 0.00015488188357970297, 0.0002374042987689469, 0.00040986068103788576, 0.0007404585064380407, 0.00096562821931444, 0.0012090910671873696, 0.0014228571967285606, 0.0016266304376295893, 0.0023479721464840543, 0.002914805046164854, 0.003360009452629604, 0.0034640549348830163, 0.0033676618376771383, 0.0036835318131975274, 0.0042526596632087585, 0.004037906608398383, 0.004011186989424829, 0.004152605136702609, 0.004267327641689156, 0.004464623780924362, 0.004569395578850916, 0.004586632158731109, 0.004640574992431632, 0.004829358622739127, 0.004893282482843962, 0.005026870587009767, 0.004976049543911595, 0.00500938660376103, 0.005042308858462081, 0.005086969023192221, 0.005063305249497761, 0.00502588319759697, 0.005011681490164355, 0.005021693251030181, 0.005132680427718598, 0.005163010759567196, 0.005243343720220465, 0.005189516732252731, 0.005195349155121159, 0.0051900095073360505, 0.005129495926702237, 0.005081489016076495, 0.004956295888363404, 0.005004667488976543, 0.004996974692540502, 0.004920381373745258, 0.004883937811932673, 0.0048879896173859615, 0.004892824743428417, 0.004856954151518394, 0.0047799203174431915, 0.004722585568739598, 0.004646621313525506, 0.0046756717342023215, 0.004640297433703746, 0.004663331845710232, 0.004635366992638993, 0.0045681408735792775, 0.0044868290271029045, 0.004519475062549147, 0.004524417472508528, 0.004475958400072021, 0.004466121316238935, 0.00438961157172653, 0.004369602649678705, 0.004297510144252229, 0.004266238986495879, 0.004230526357450258, 0.004180492548113209, 0.004149351652175076, 0.00410925624436978, 0.004071449512061852, 0.004029833212544037, 0.0040087066962611545, 0.003973175499567605, 0.003956494461936181, 0.003926175535050336, 0.0038948011915178036, 0.003883203978886625, 0.003862702193162169, 0.0038152598880277938, 0.0037716646349288366, 0.0037096925445516665, 0.0036910821162144287, 0.003672083205626588, 0.0036251170794778954], [0.0, 0.0, 3.2087241979306944e-138, 6.66939997355365e-72, 2.312592379301242e-30, 1.578927499672853e-22, 4.852279887931232e-16, 1.1657461937103702e-12, 4.956354145475888e-11, 7.3941369662894425e-09, 7.673073827357702e-07, 4.6857733065483645e-06, 2.0522352448196446e-05, 7.334767391651119e-05, 0.00016180597802319187, 0.00024708838786356984, 0.0004242455699517489, 0.0007626294685970699, 0.0009917808893112959, 0.0012389283447219626, 0.0014543739439835926, 0.0016609138963067673, 0.0023908826873739854, 0.00296148711730152, 0.0034082455871227413, 0.0035111331685605115, 0.0034133250592388704, 0.003727539824587401, 0.004298995594684554, 0.0040816096107369314, 0.0040531067244241135, 0.004193276588877006, 0.0043051847741018, 0.004502019164082424, 0.004605580941095399, 0.004621486835817219, 0.004674606396971813, 0.004862662417559919, 0.00492525427075906, 0.00505754947741719, 0.005004625347643668, 0.0050367915380580145, 0.0050689782528705735, 0.0051129063637599505, 0.005088358677165487, 0.0050489577231335285, 0.005033953037553169, 0.005043243210316259, 0.005153196629253189, 0.005182913227136506, 0.005262641480263495, 0.005207344369309978, 0.005213160151409534, 0.005206657531759775, 0.005145734778734962, 0.005097223694349937, 0.004971284322082672, 0.0050187312937721, 0.0050106198415596, 0.004933258618203773, 0.004896647055635795, 0.004900193841360271, 0.004904167464264103, 0.004868026466565481, 0.004790652333037497, 0.004732921144476718, 0.004656490168844716, 0.004685375190890897, 0.0046494672246657105, 0.004671901430574226, 0.004643942302894558, 0.004576295749063297, 0.004494718275035441, 0.004527036868064929, 0.0045314050791841485, 0.00448274869189956, 0.004472825521627518, 0.004396001657018543, 0.004375926198654258, 0.0043035239046790115, 0.00427206077716846, 0.0042362479886117145, 0.004185979696710097, 0.004154657096457036, 0.0041144159906562295, 0.004076464651840051, 0.004034663173404622, 0.004013426894916023, 0.003977629157891388, 0.003960836439462496, 0.003930389060512644, 0.0038988106622162345, 0.0038870927911405, 0.0038665341381057122, 0.0038189851912964093, 0.0037753664562748855, 0.003713247342720677, 0.0036945348960642885, 0.0036754290584093694, 0.003628414824146248], [0.0, 0.0, 3.2307283844393074e-137, 2.199975108440627e-71, 3.8016639398151984e-30, 2.2418258811880493e-22, 6.17989657167445e-16, 1.4047849567148509e-12, 5.816448530243283e-11, 8.327799869513467e-09, 8.393014171549272e-07, 5.045540910055818e-06, 2.1827972714793244e-05, 7.721696906113989e-05, 0.00016900815047645, 0.00025712349338524477, 0.0004390708200656717, 0.0007853635425389929, 0.001018523733933015, 0.0012693676499088882, 0.0014864506653739394, 0.0016957681628029144, 0.002434379498417531, 0.00300869902367658, 0.0034569479203256947, 0.0035586333779743574, 0.0034593993615061186, 0.0037718764065300375, 0.004345620283222658, 0.004125588485821664, 0.004095279008164497, 0.004234167425624951, 0.004343214570170857, 0.004539564958420337, 0.004641895622228007, 0.004656456392492618, 0.004708741165457647, 0.004896050771696453, 0.004957295934066344, 0.005088281060431942, 0.005033242263347943, 0.0050642285936222204, 0.005095673877748984, 0.005138863814743875, 0.005113428503947859, 0.005072040298295445, 0.0050562294669899855, 0.005064794513790665, 0.005173706095377651, 0.0052028056671760145, 0.005281924473583938, 0.005225154349748746, 0.005230953262985452, 0.005223284578833374, 0.00516195332384862, 0.005112938119757355, 0.0049862540220193706, 0.005032772969335056, 0.005024242172153366, 0.004946113384521615, 0.004909334361702117, 0.004912375097267947, 0.00491548567096242, 0.0048790746446768654, 0.004801361358132288, 0.004743234345276776, 0.004666337523953835, 0.0046950563502454684, 0.004658614737855157, 0.004680447630628156, 0.004652494759888025, 0.004584428577531638, 0.004502586656716797, 0.004534576934385692, 0.004538370397577813, 0.004489517370148511, 0.004479508215838933, 0.004402371260728925, 0.004382229539711895, 0.004309518376267648, 0.004277863633104608, 0.004241951155477262, 0.004191448971461729, 0.004159945008573043, 0.004119558685702027, 0.004081463181569588, 0.00403947698795786, 0.00401813117206001, 0.003982067233634139, 0.003965162999418452, 0.003934587496048735, 0.0039028053516688495, 0.0038909669207068, 0.0038703516267017753, 0.00382269656070977, 0.0037790548363261984, 0.0037167893435025297, 0.003697975049688691, 0.0036787624580688918, 0.003631700598517722]]}],\n",
              "                        {\"autosize\": false, \"height\": 500, \"margin\": {\"b\": 65, \"l\": 65, \"r\": 50, \"t\": 90}, \"template\": {\"data\": {\"bar\": [{\"error_x\": {\"color\": \"#2a3f5f\"}, \"error_y\": {\"color\": \"#2a3f5f\"}, \"marker\": {\"line\": {\"color\": \"#E5ECF6\", \"width\": 0.5}}, \"type\": \"bar\"}], \"barpolar\": [{\"marker\": {\"line\": {\"color\": \"#E5ECF6\", \"width\": 0.5}}, \"type\": \"barpolar\"}], \"carpet\": [{\"aaxis\": {\"endlinecolor\": \"#2a3f5f\", \"gridcolor\": \"white\", \"linecolor\": \"white\", \"minorgridcolor\": \"white\", \"startlinecolor\": \"#2a3f5f\"}, \"baxis\": {\"endlinecolor\": \"#2a3f5f\", \"gridcolor\": \"white\", \"linecolor\": \"white\", \"minorgridcolor\": \"white\", \"startlinecolor\": \"#2a3f5f\"}, \"type\": \"carpet\"}], \"choropleth\": [{\"colorbar\": {\"outlinewidth\": 0, \"ticks\": \"\"}, \"type\": \"choropleth\"}], \"contour\": [{\"colorbar\": {\"outlinewidth\": 0, \"ticks\": \"\"}, \"colorscale\": [[0.0, \"#0d0887\"], [0.1111111111111111, \"#46039f\"], [0.2222222222222222, \"#7201a8\"], [0.3333333333333333, \"#9c179e\"], [0.4444444444444444, \"#bd3786\"], [0.5555555555555556, \"#d8576b\"], [0.6666666666666666, \"#ed7953\"], [0.7777777777777778, \"#fb9f3a\"], [0.8888888888888888, \"#fdca26\"], [1.0, \"#f0f921\"]], \"type\": \"contour\"}], \"contourcarpet\": [{\"colorbar\": {\"outlinewidth\": 0, \"ticks\": \"\"}, \"type\": \"contourcarpet\"}], \"heatmap\": [{\"colorbar\": {\"outlinewidth\": 0, \"ticks\": \"\"}, \"colorscale\": [[0.0, \"#0d0887\"], [0.1111111111111111, \"#46039f\"], [0.2222222222222222, \"#7201a8\"], [0.3333333333333333, \"#9c179e\"], [0.4444444444444444, \"#bd3786\"], [0.5555555555555556, \"#d8576b\"], [0.6666666666666666, \"#ed7953\"], [0.7777777777777778, \"#fb9f3a\"], [0.8888888888888888, \"#fdca26\"], [1.0, \"#f0f921\"]], \"type\": \"heatmap\"}], \"heatmapgl\": [{\"colorbar\": {\"outlinewidth\": 0, \"ticks\": \"\"}, \"colorscale\": [[0.0, \"#0d0887\"], [0.1111111111111111, \"#46039f\"], [0.2222222222222222, \"#7201a8\"], [0.3333333333333333, \"#9c179e\"], [0.4444444444444444, \"#bd3786\"], [0.5555555555555556, \"#d8576b\"], [0.6666666666666666, \"#ed7953\"], [0.7777777777777778, \"#fb9f3a\"], [0.8888888888888888, \"#fdca26\"], [1.0, \"#f0f921\"]], \"type\": \"heatmapgl\"}], \"histogram\": [{\"marker\": {\"colorbar\": {\"outlinewidth\": 0, \"ticks\": \"\"}}, \"type\": \"histogram\"}], \"histogram2d\": [{\"colorbar\": {\"outlinewidth\": 0, \"ticks\": \"\"}, \"colorscale\": [[0.0, \"#0d0887\"], [0.1111111111111111, \"#46039f\"], [0.2222222222222222, \"#7201a8\"], [0.3333333333333333, \"#9c179e\"], [0.4444444444444444, \"#bd3786\"], [0.5555555555555556, \"#d8576b\"], [0.6666666666666666, \"#ed7953\"], [0.7777777777777778, \"#fb9f3a\"], [0.8888888888888888, \"#fdca26\"], [1.0, \"#f0f921\"]], \"type\": \"histogram2d\"}], \"histogram2dcontour\": [{\"colorbar\": {\"outlinewidth\": 0, \"ticks\": \"\"}, \"colorscale\": [[0.0, \"#0d0887\"], [0.1111111111111111, \"#46039f\"], [0.2222222222222222, \"#7201a8\"], [0.3333333333333333, \"#9c179e\"], [0.4444444444444444, \"#bd3786\"], [0.5555555555555556, \"#d8576b\"], [0.6666666666666666, \"#ed7953\"], [0.7777777777777778, \"#fb9f3a\"], [0.8888888888888888, \"#fdca26\"], [1.0, \"#f0f921\"]], \"type\": \"histogram2dcontour\"}], \"mesh3d\": [{\"colorbar\": {\"outlinewidth\": 0, \"ticks\": \"\"}, \"type\": \"mesh3d\"}], \"parcoords\": [{\"line\": {\"colorbar\": {\"outlinewidth\": 0, \"ticks\": \"\"}}, \"type\": \"parcoords\"}], \"pie\": [{\"automargin\": true, \"type\": \"pie\"}], \"scatter\": [{\"marker\": {\"colorbar\": {\"outlinewidth\": 0, \"ticks\": \"\"}}, \"type\": \"scatter\"}], \"scatter3d\": [{\"line\": {\"colorbar\": {\"outlinewidth\": 0, \"ticks\": \"\"}}, \"marker\": {\"colorbar\": {\"outlinewidth\": 0, \"ticks\": \"\"}}, \"type\": \"scatter3d\"}], \"scattercarpet\": [{\"marker\": {\"colorbar\": {\"outlinewidth\": 0, \"ticks\": \"\"}}, \"type\": \"scattercarpet\"}], \"scattergeo\": [{\"marker\": {\"colorbar\": {\"outlinewidth\": 0, \"ticks\": \"\"}}, \"type\": \"scattergeo\"}], \"scattergl\": [{\"marker\": {\"colorbar\": {\"outlinewidth\": 0, \"ticks\": \"\"}}, \"type\": \"scattergl\"}], \"scattermapbox\": [{\"marker\": {\"colorbar\": {\"outlinewidth\": 0, \"ticks\": \"\"}}, \"type\": \"scattermapbox\"}], \"scatterpolar\": [{\"marker\": {\"colorbar\": {\"outlinewidth\": 0, \"ticks\": \"\"}}, \"type\": \"scatterpolar\"}], \"scatterpolargl\": [{\"marker\": {\"colorbar\": {\"outlinewidth\": 0, \"ticks\": \"\"}}, \"type\": \"scatterpolargl\"}], \"scatterternary\": [{\"marker\": {\"colorbar\": {\"outlinewidth\": 0, \"ticks\": \"\"}}, \"type\": \"scatterternary\"}], \"surface\": [{\"colorbar\": {\"outlinewidth\": 0, \"ticks\": \"\"}, \"colorscale\": [[0.0, \"#0d0887\"], [0.1111111111111111, \"#46039f\"], [0.2222222222222222, \"#7201a8\"], [0.3333333333333333, \"#9c179e\"], [0.4444444444444444, \"#bd3786\"], [0.5555555555555556, \"#d8576b\"], [0.6666666666666666, \"#ed7953\"], [0.7777777777777778, \"#fb9f3a\"], [0.8888888888888888, \"#fdca26\"], [1.0, \"#f0f921\"]], \"type\": \"surface\"}], \"table\": [{\"cells\": {\"fill\": {\"color\": \"#EBF0F8\"}, \"line\": {\"color\": \"white\"}}, \"header\": {\"fill\": {\"color\": \"#C8D4E3\"}, \"line\": {\"color\": \"white\"}}, \"type\": \"table\"}]}, \"layout\": {\"annotationdefaults\": {\"arrowcolor\": \"#2a3f5f\", \"arrowhead\": 0, \"arrowwidth\": 1}, \"coloraxis\": {\"colorbar\": {\"outlinewidth\": 0, \"ticks\": \"\"}}, \"colorscale\": {\"diverging\": [[0, \"#8e0152\"], [0.1, \"#c51b7d\"], [0.2, \"#de77ae\"], [0.3, \"#f1b6da\"], [0.4, \"#fde0ef\"], [0.5, \"#f7f7f7\"], [0.6, \"#e6f5d0\"], [0.7, \"#b8e186\"], [0.8, \"#7fbc41\"], [0.9, \"#4d9221\"], [1, \"#276419\"]], \"sequential\": [[0.0, \"#0d0887\"], [0.1111111111111111, \"#46039f\"], [0.2222222222222222, \"#7201a8\"], [0.3333333333333333, \"#9c179e\"], [0.4444444444444444, \"#bd3786\"], [0.5555555555555556, \"#d8576b\"], [0.6666666666666666, \"#ed7953\"], [0.7777777777777778, \"#fb9f3a\"], [0.8888888888888888, \"#fdca26\"], [1.0, \"#f0f921\"]], \"sequentialminus\": [[0.0, \"#0d0887\"], [0.1111111111111111, \"#46039f\"], [0.2222222222222222, \"#7201a8\"], [0.3333333333333333, \"#9c179e\"], [0.4444444444444444, \"#bd3786\"], [0.5555555555555556, \"#d8576b\"], [0.6666666666666666, \"#ed7953\"], [0.7777777777777778, \"#fb9f3a\"], [0.8888888888888888, \"#fdca26\"], [1.0, \"#f0f921\"]]}, \"colorway\": [\"#636efa\", \"#EF553B\", \"#00cc96\", \"#ab63fa\", \"#FFA15A\", \"#19d3f3\", \"#FF6692\", \"#B6E880\", \"#FF97FF\", \"#FECB52\"], \"font\": {\"color\": \"#2a3f5f\"}, \"geo\": {\"bgcolor\": \"white\", \"lakecolor\": \"white\", \"landcolor\": \"#E5ECF6\", \"showlakes\": true, \"showland\": true, \"subunitcolor\": \"white\"}, \"hoverlabel\": {\"align\": \"left\"}, \"hovermode\": \"closest\", \"mapbox\": {\"style\": \"light\"}, \"paper_bgcolor\": \"white\", \"plot_bgcolor\": \"#E5ECF6\", \"polar\": {\"angularaxis\": {\"gridcolor\": \"white\", \"linecolor\": \"white\", \"ticks\": \"\"}, \"bgcolor\": \"#E5ECF6\", \"radialaxis\": {\"gridcolor\": \"white\", \"linecolor\": \"white\", \"ticks\": \"\"}}, \"scene\": {\"xaxis\": {\"backgroundcolor\": \"#E5ECF6\", \"gridcolor\": \"white\", \"gridwidth\": 2, \"linecolor\": \"white\", \"showbackground\": true, \"ticks\": \"\", \"zerolinecolor\": \"white\"}, \"yaxis\": {\"backgroundcolor\": \"#E5ECF6\", \"gridcolor\": \"white\", \"gridwidth\": 2, \"linecolor\": \"white\", \"showbackground\": true, \"ticks\": \"\", \"zerolinecolor\": \"white\"}, \"zaxis\": {\"backgroundcolor\": \"#E5ECF6\", \"gridcolor\": \"white\", \"gridwidth\": 2, \"linecolor\": \"white\", \"showbackground\": true, \"ticks\": \"\", \"zerolinecolor\": \"white\"}}, \"shapedefaults\": {\"line\": {\"color\": \"#2a3f5f\"}}, \"ternary\": {\"aaxis\": {\"gridcolor\": \"white\", \"linecolor\": \"white\", \"ticks\": \"\"}, \"baxis\": {\"gridcolor\": \"white\", \"linecolor\": \"white\", \"ticks\": \"\"}, \"bgcolor\": \"#E5ECF6\", \"caxis\": {\"gridcolor\": \"white\", \"linecolor\": \"white\", \"ticks\": \"\"}}, \"title\": {\"x\": 0.05}, \"xaxis\": {\"automargin\": true, \"gridcolor\": \"white\", \"linecolor\": \"white\", \"ticks\": \"\", \"title\": {\"standoff\": 15}, \"zerolinecolor\": \"white\", \"zerolinewidth\": 2}, \"yaxis\": {\"automargin\": true, \"gridcolor\": \"white\", \"linecolor\": \"white\", \"ticks\": \"\", \"title\": {\"standoff\": 15}, \"zerolinecolor\": \"white\", \"zerolinewidth\": 2}}}, \"title\": {\"text\": \"PDF Evolution\"}, \"width\": 500},\n",
              "                        {\"responsive\": true}\n",
              "                    ).then(function(){\n",
              "                            \n",
              "var gd = document.getElementById('f47d8dfe-695b-4581-a294-0f7c1cd231a5');\n",
              "var x = new MutationObserver(function (mutations, observer) {{\n",
              "        var display = window.getComputedStyle(gd).display;\n",
              "        if (!display || display === 'none') {{\n",
              "            console.log([gd, 'removed!']);\n",
              "            Plotly.purge(gd);\n",
              "            observer.disconnect();\n",
              "        }}\n",
              "}});\n",
              "\n",
              "// Listen for the removal of the full notebook cells\n",
              "var notebookContainer = gd.closest('#notebook-container');\n",
              "if (notebookContainer) {{\n",
              "    x.observe(notebookContainer, {childList: true});\n",
              "}}\n",
              "\n",
              "// Listen for the clearing of the current output cell\n",
              "var outputEl = gd.closest('.output');\n",
              "if (outputEl) {{\n",
              "    x.observe(outputEl, {childList: true});\n",
              "}}\n",
              "\n",
              "                        })\n",
              "                };\n",
              "                \n",
              "            </script>\n",
              "        </div>\n",
              "</body>\n",
              "</html>"
            ]
          },
          "metadata": {}
        }
      ]
    },
    {
      "cell_type": "code",
      "metadata": {
        "id": "LyXfG3wKLnGC"
      },
      "source": [
        "fig.write_html(\"trial-1-data-generation.html\")"
      ],
      "execution_count": 126,
      "outputs": []
    },
    {
      "cell_type": "code",
      "metadata": {
        "id": "o3i5HqBsLnEH"
      },
      "source": [
        ""
      ],
      "execution_count": null,
      "outputs": []
    },
    {
      "cell_type": "code",
      "metadata": {
        "id": "Q5rSumgsLnBq"
      },
      "source": [
        ""
      ],
      "execution_count": null,
      "outputs": []
    },
    {
      "cell_type": "code",
      "metadata": {
        "id": "3gP7PGjK55S-"
      },
      "source": [
        "from scipy.stats import norm\n",
        "import numpy as np\n",
        "import matplotlib.pyplot as plt\n",
        "import pandas as pd\n"
      ],
      "execution_count": 21,
      "outputs": []
    },
    {
      "cell_type": "code",
      "metadata": {
        "id": "N5ie5TUzDohp"
      },
      "source": [
        "df = pd.read_csv(\"data.csv\").drop('Unnamed: 0', axis=1)"
      ],
      "execution_count": 33,
      "outputs": []
    },
    {
      "cell_type": "code",
      "metadata": {
        "colab": {
          "base_uri": "https://localhost:8080/",
          "height": 237
        },
        "id": "OxXgWK9JEJGV",
        "outputId": "5dc9cc74-3180-4dff-e9cf-9e43e2ec315c"
      },
      "source": [
        "df.head()"
      ],
      "execution_count": 36,
      "outputs": [
        {
          "output_type": "execute_result",
          "data": {
            "text/html": [
              "<div>\n",
              "<style scoped>\n",
              "    .dataframe tbody tr th:only-of-type {\n",
              "        vertical-align: middle;\n",
              "    }\n",
              "\n",
              "    .dataframe tbody tr th {\n",
              "        vertical-align: top;\n",
              "    }\n",
              "\n",
              "    .dataframe thead th {\n",
              "        text-align: right;\n",
              "    }\n",
              "</style>\n",
              "<table border=\"1\" class=\"dataframe\">\n",
              "  <thead>\n",
              "    <tr style=\"text-align: right;\">\n",
              "      <th></th>\n",
              "      <th>var1(t-5)</th>\n",
              "      <th>var2(t-5)</th>\n",
              "      <th>var3(t-5)</th>\n",
              "      <th>var4(t-5)</th>\n",
              "      <th>var5(t-5)</th>\n",
              "      <th>var6(t-5)</th>\n",
              "      <th>var7(t-5)</th>\n",
              "      <th>var8(t-5)</th>\n",
              "      <th>var9(t-5)</th>\n",
              "      <th>var10(t-5)</th>\n",
              "      <th>var1(t-4)</th>\n",
              "      <th>var2(t-4)</th>\n",
              "      <th>var3(t-4)</th>\n",
              "      <th>var4(t-4)</th>\n",
              "      <th>var5(t-4)</th>\n",
              "      <th>var6(t-4)</th>\n",
              "      <th>var7(t-4)</th>\n",
              "      <th>var8(t-4)</th>\n",
              "      <th>var9(t-4)</th>\n",
              "      <th>var10(t-4)</th>\n",
              "      <th>var1(t-3)</th>\n",
              "      <th>var2(t-3)</th>\n",
              "      <th>var3(t-3)</th>\n",
              "      <th>var4(t-3)</th>\n",
              "      <th>var5(t-3)</th>\n",
              "      <th>var6(t-3)</th>\n",
              "      <th>var7(t-3)</th>\n",
              "      <th>var8(t-3)</th>\n",
              "      <th>var9(t-3)</th>\n",
              "      <th>var10(t-3)</th>\n",
              "      <th>var1(t-2)</th>\n",
              "      <th>var2(t-2)</th>\n",
              "      <th>var3(t-2)</th>\n",
              "      <th>var4(t-2)</th>\n",
              "      <th>var5(t-2)</th>\n",
              "      <th>var6(t-2)</th>\n",
              "      <th>var7(t-2)</th>\n",
              "      <th>var8(t-2)</th>\n",
              "      <th>var9(t-2)</th>\n",
              "      <th>var10(t-2)</th>\n",
              "      <th>var1(t-1)</th>\n",
              "      <th>var2(t-1)</th>\n",
              "      <th>var3(t-1)</th>\n",
              "      <th>var4(t-1)</th>\n",
              "      <th>var5(t-1)</th>\n",
              "      <th>var6(t-1)</th>\n",
              "      <th>var7(t-1)</th>\n",
              "      <th>var8(t-1)</th>\n",
              "      <th>var9(t-1)</th>\n",
              "      <th>var10(t-1)</th>\n",
              "      <th>var1(t)</th>\n",
              "      <th>var2(t)</th>\n",
              "      <th>var3(t)</th>\n",
              "      <th>var4(t)</th>\n",
              "      <th>var5(t)</th>\n",
              "      <th>var6(t)</th>\n",
              "      <th>var7(t)</th>\n",
              "      <th>var8(t)</th>\n",
              "      <th>var9(t)</th>\n",
              "      <th>var10(t)</th>\n",
              "      <th>tickerName</th>\n",
              "    </tr>\n",
              "  </thead>\n",
              "  <tbody>\n",
              "    <tr>\n",
              "      <th>0</th>\n",
              "      <td>0.803995</td>\n",
              "      <td>0.858137</td>\n",
              "      <td>0.829868</td>\n",
              "      <td>0.785788</td>\n",
              "      <td>0.795370</td>\n",
              "      <td>0.797286</td>\n",
              "      <td>0.813578</td>\n",
              "      <td>0.728290</td>\n",
              "      <td>0.739790</td>\n",
              "      <td>0.762789</td>\n",
              "      <td>0.781954</td>\n",
              "      <td>0.749373</td>\n",
              "      <td>0.735478</td>\n",
              "      <td>0.711042</td>\n",
              "      <td>0.728290</td>\n",
              "      <td>0.668399</td>\n",
              "      <td>0.724337</td>\n",
              "      <td>0.741706</td>\n",
              "      <td>0.766622</td>\n",
              "      <td>0.769975</td>\n",
              "      <td>0.774288</td>\n",
              "      <td>0.796807</td>\n",
              "      <td>0.809744</td>\n",
              "      <td>0.816931</td>\n",
              "      <td>0.885448</td>\n",
              "      <td>0.870116</td>\n",
              "      <td>0.875865</td>\n",
              "      <td>0.853346</td>\n",
              "      <td>0.831305</td>\n",
              "      <td>0.814536</td>\n",
              "      <td>0.804953</td>\n",
              "      <td>0.860533</td>\n",
              "      <td>0.843284</td>\n",
              "      <td>0.844721</td>\n",
              "      <td>0.834180</td>\n",
              "      <td>0.843284</td>\n",
              "      <td>0.829389</td>\n",
              "      <td>0.779080</td>\n",
              "      <td>0.774288</td>\n",
              "      <td>0.795370</td>\n",
              "      <td>0.797286</td>\n",
              "      <td>0.768538</td>\n",
              "      <td>0.772372</td>\n",
              "      <td>0.757518</td>\n",
              "      <td>0.769017</td>\n",
              "      <td>0.792016</td>\n",
              "      <td>0.796807</td>\n",
              "      <td>0.827952</td>\n",
              "      <td>0.827952</td>\n",
              "      <td>0.874428</td>\n",
              "      <td>0.873949</td>\n",
              "      <td>0.880657</td>\n",
              "      <td>0.874907</td>\n",
              "      <td>0.863407</td>\n",
              "      <td>0.865325</td>\n",
              "      <td>0.870116</td>\n",
              "      <td>0.871074</td>\n",
              "      <td>0.833701</td>\n",
              "      <td>0.838013</td>\n",
              "      <td>0.887844</td>\n",
              "      <td>Apple</td>\n",
              "    </tr>\n",
              "    <tr>\n",
              "      <th>1</th>\n",
              "      <td>0.781954</td>\n",
              "      <td>0.749373</td>\n",
              "      <td>0.735478</td>\n",
              "      <td>0.711042</td>\n",
              "      <td>0.728290</td>\n",
              "      <td>0.668399</td>\n",
              "      <td>0.724337</td>\n",
              "      <td>0.741706</td>\n",
              "      <td>0.766622</td>\n",
              "      <td>0.769975</td>\n",
              "      <td>0.774288</td>\n",
              "      <td>0.796807</td>\n",
              "      <td>0.809744</td>\n",
              "      <td>0.816931</td>\n",
              "      <td>0.885448</td>\n",
              "      <td>0.870116</td>\n",
              "      <td>0.875865</td>\n",
              "      <td>0.853346</td>\n",
              "      <td>0.831305</td>\n",
              "      <td>0.814536</td>\n",
              "      <td>0.804953</td>\n",
              "      <td>0.860533</td>\n",
              "      <td>0.843284</td>\n",
              "      <td>0.844721</td>\n",
              "      <td>0.834180</td>\n",
              "      <td>0.843284</td>\n",
              "      <td>0.829389</td>\n",
              "      <td>0.779080</td>\n",
              "      <td>0.774288</td>\n",
              "      <td>0.795370</td>\n",
              "      <td>0.797286</td>\n",
              "      <td>0.768538</td>\n",
              "      <td>0.772372</td>\n",
              "      <td>0.757518</td>\n",
              "      <td>0.769017</td>\n",
              "      <td>0.792016</td>\n",
              "      <td>0.796807</td>\n",
              "      <td>0.827952</td>\n",
              "      <td>0.827952</td>\n",
              "      <td>0.874428</td>\n",
              "      <td>0.873949</td>\n",
              "      <td>0.880657</td>\n",
              "      <td>0.874907</td>\n",
              "      <td>0.863407</td>\n",
              "      <td>0.865325</td>\n",
              "      <td>0.870116</td>\n",
              "      <td>0.871074</td>\n",
              "      <td>0.833701</td>\n",
              "      <td>0.838013</td>\n",
              "      <td>0.887844</td>\n",
              "      <td>0.883532</td>\n",
              "      <td>0.912280</td>\n",
              "      <td>0.902697</td>\n",
              "      <td>0.874907</td>\n",
              "      <td>0.883053</td>\n",
              "      <td>0.880657</td>\n",
              "      <td>0.878741</td>\n",
              "      <td>0.852867</td>\n",
              "      <td>0.844242</td>\n",
              "      <td>0.872511</td>\n",
              "      <td>Apple</td>\n",
              "    </tr>\n",
              "    <tr>\n",
              "      <th>2</th>\n",
              "      <td>0.774288</td>\n",
              "      <td>0.796807</td>\n",
              "      <td>0.809744</td>\n",
              "      <td>0.816931</td>\n",
              "      <td>0.885448</td>\n",
              "      <td>0.870116</td>\n",
              "      <td>0.875865</td>\n",
              "      <td>0.853346</td>\n",
              "      <td>0.831305</td>\n",
              "      <td>0.814536</td>\n",
              "      <td>0.804953</td>\n",
              "      <td>0.860533</td>\n",
              "      <td>0.843284</td>\n",
              "      <td>0.844721</td>\n",
              "      <td>0.834180</td>\n",
              "      <td>0.843284</td>\n",
              "      <td>0.829389</td>\n",
              "      <td>0.779080</td>\n",
              "      <td>0.774288</td>\n",
              "      <td>0.795370</td>\n",
              "      <td>0.797286</td>\n",
              "      <td>0.768538</td>\n",
              "      <td>0.772372</td>\n",
              "      <td>0.757518</td>\n",
              "      <td>0.769017</td>\n",
              "      <td>0.792016</td>\n",
              "      <td>0.796807</td>\n",
              "      <td>0.827952</td>\n",
              "      <td>0.827952</td>\n",
              "      <td>0.874428</td>\n",
              "      <td>0.873949</td>\n",
              "      <td>0.880657</td>\n",
              "      <td>0.874907</td>\n",
              "      <td>0.863407</td>\n",
              "      <td>0.865325</td>\n",
              "      <td>0.870116</td>\n",
              "      <td>0.871074</td>\n",
              "      <td>0.833701</td>\n",
              "      <td>0.838013</td>\n",
              "      <td>0.887844</td>\n",
              "      <td>0.883532</td>\n",
              "      <td>0.912280</td>\n",
              "      <td>0.902697</td>\n",
              "      <td>0.874907</td>\n",
              "      <td>0.883053</td>\n",
              "      <td>0.880657</td>\n",
              "      <td>0.878741</td>\n",
              "      <td>0.852867</td>\n",
              "      <td>0.844242</td>\n",
              "      <td>0.872511</td>\n",
              "      <td>0.868079</td>\n",
              "      <td>0.891198</td>\n",
              "      <td>0.899343</td>\n",
              "      <td>0.883172</td>\n",
              "      <td>0.880178</td>\n",
              "      <td>0.846159</td>\n",
              "      <td>0.844242</td>\n",
              "      <td>0.868199</td>\n",
              "      <td>0.870595</td>\n",
              "      <td>0.878741</td>\n",
              "      <td>Apple</td>\n",
              "    </tr>\n",
              "    <tr>\n",
              "      <th>3</th>\n",
              "      <td>0.804953</td>\n",
              "      <td>0.860533</td>\n",
              "      <td>0.843284</td>\n",
              "      <td>0.844721</td>\n",
              "      <td>0.834180</td>\n",
              "      <td>0.843284</td>\n",
              "      <td>0.829389</td>\n",
              "      <td>0.779080</td>\n",
              "      <td>0.774288</td>\n",
              "      <td>0.795370</td>\n",
              "      <td>0.797286</td>\n",
              "      <td>0.768538</td>\n",
              "      <td>0.772372</td>\n",
              "      <td>0.757518</td>\n",
              "      <td>0.769017</td>\n",
              "      <td>0.792016</td>\n",
              "      <td>0.796807</td>\n",
              "      <td>0.827952</td>\n",
              "      <td>0.827952</td>\n",
              "      <td>0.874428</td>\n",
              "      <td>0.873949</td>\n",
              "      <td>0.880657</td>\n",
              "      <td>0.874907</td>\n",
              "      <td>0.863407</td>\n",
              "      <td>0.865325</td>\n",
              "      <td>0.870116</td>\n",
              "      <td>0.871074</td>\n",
              "      <td>0.833701</td>\n",
              "      <td>0.838013</td>\n",
              "      <td>0.887844</td>\n",
              "      <td>0.883532</td>\n",
              "      <td>0.912280</td>\n",
              "      <td>0.902697</td>\n",
              "      <td>0.874907</td>\n",
              "      <td>0.883053</td>\n",
              "      <td>0.880657</td>\n",
              "      <td>0.878741</td>\n",
              "      <td>0.852867</td>\n",
              "      <td>0.844242</td>\n",
              "      <td>0.872511</td>\n",
              "      <td>0.868079</td>\n",
              "      <td>0.891198</td>\n",
              "      <td>0.899343</td>\n",
              "      <td>0.883172</td>\n",
              "      <td>0.880178</td>\n",
              "      <td>0.846159</td>\n",
              "      <td>0.844242</td>\n",
              "      <td>0.868199</td>\n",
              "      <td>0.870595</td>\n",
              "      <td>0.878741</td>\n",
              "      <td>0.908926</td>\n",
              "      <td>0.999003</td>\n",
              "      <td>0.973610</td>\n",
              "      <td>0.935279</td>\n",
              "      <td>0.957319</td>\n",
              "      <td>0.981276</td>\n",
              "      <td>0.965943</td>\n",
              "      <td>0.963548</td>\n",
              "      <td>0.969297</td>\n",
              "      <td>0.941986</td>\n",
              "      <td>Apple</td>\n",
              "    </tr>\n",
              "    <tr>\n",
              "      <th>4</th>\n",
              "      <td>0.797286</td>\n",
              "      <td>0.768538</td>\n",
              "      <td>0.772372</td>\n",
              "      <td>0.757518</td>\n",
              "      <td>0.769017</td>\n",
              "      <td>0.792016</td>\n",
              "      <td>0.796807</td>\n",
              "      <td>0.827952</td>\n",
              "      <td>0.827952</td>\n",
              "      <td>0.874428</td>\n",
              "      <td>0.873949</td>\n",
              "      <td>0.880657</td>\n",
              "      <td>0.874907</td>\n",
              "      <td>0.863407</td>\n",
              "      <td>0.865325</td>\n",
              "      <td>0.870116</td>\n",
              "      <td>0.871074</td>\n",
              "      <td>0.833701</td>\n",
              "      <td>0.838013</td>\n",
              "      <td>0.887844</td>\n",
              "      <td>0.883532</td>\n",
              "      <td>0.912280</td>\n",
              "      <td>0.902697</td>\n",
              "      <td>0.874907</td>\n",
              "      <td>0.883053</td>\n",
              "      <td>0.880657</td>\n",
              "      <td>0.878741</td>\n",
              "      <td>0.852867</td>\n",
              "      <td>0.844242</td>\n",
              "      <td>0.872511</td>\n",
              "      <td>0.868079</td>\n",
              "      <td>0.891198</td>\n",
              "      <td>0.899343</td>\n",
              "      <td>0.883172</td>\n",
              "      <td>0.880178</td>\n",
              "      <td>0.846159</td>\n",
              "      <td>0.844242</td>\n",
              "      <td>0.868199</td>\n",
              "      <td>0.870595</td>\n",
              "      <td>0.878741</td>\n",
              "      <td>0.908926</td>\n",
              "      <td>0.999003</td>\n",
              "      <td>0.973610</td>\n",
              "      <td>0.935279</td>\n",
              "      <td>0.957319</td>\n",
              "      <td>0.981276</td>\n",
              "      <td>0.965943</td>\n",
              "      <td>0.963548</td>\n",
              "      <td>0.969297</td>\n",
              "      <td>0.941986</td>\n",
              "      <td>0.941986</td>\n",
              "      <td>0.935279</td>\n",
              "      <td>0.926654</td>\n",
              "      <td>0.937195</td>\n",
              "      <td>0.932884</td>\n",
              "      <td>0.964027</td>\n",
              "      <td>0.936237</td>\n",
              "      <td>0.930008</td>\n",
              "      <td>0.929289</td>\n",
              "      <td>0.875865</td>\n",
              "      <td>Apple</td>\n",
              "    </tr>\n",
              "  </tbody>\n",
              "</table>\n",
              "</div>"
            ],
            "text/plain": [
              "   var1(t-5)  var2(t-5)  var3(t-5)  ...   var9(t)  var10(t)  tickerName\n",
              "0   0.803995   0.858137   0.829868  ...  0.838013  0.887844       Apple\n",
              "1   0.781954   0.749373   0.735478  ...  0.844242  0.872511       Apple\n",
              "2   0.774288   0.796807   0.809744  ...  0.870595  0.878741       Apple\n",
              "3   0.804953   0.860533   0.843284  ...  0.969297  0.941986       Apple\n",
              "4   0.797286   0.768538   0.772372  ...  0.929289  0.875865       Apple\n",
              "\n",
              "[5 rows x 61 columns]"
            ]
          },
          "metadata": {},
          "execution_count": 36
        }
      ]
    },
    {
      "cell_type": "code",
      "metadata": {
        "id": "TAlihRSoDNjg"
      },
      "source": [
        "def data_generator():\n",
        "    "
      ],
      "execution_count": null,
      "outputs": []
    },
    {
      "cell_type": "code",
      "metadata": {
        "id": "yUJCbrkqDNop"
      },
      "source": [
        ""
      ],
      "execution_count": null,
      "outputs": []
    },
    {
      "cell_type": "code",
      "metadata": {
        "id": "kajjBG5gDNrX"
      },
      "source": [
        ""
      ],
      "execution_count": null,
      "outputs": []
    },
    {
      "cell_type": "code",
      "metadata": {
        "id": "UBBiIeBdDNtd"
      },
      "source": [
        ""
      ],
      "execution_count": null,
      "outputs": []
    },
    {
      "cell_type": "code",
      "metadata": {
        "id": "ubt1m0nrDNvz"
      },
      "source": [
        ""
      ],
      "execution_count": null,
      "outputs": []
    },
    {
      "cell_type": "markdown",
      "metadata": {
        "id": "FJDf29x2Bg78"
      },
      "source": [
        "# [Reference](https://nbviewer.org/github/shinokada/python-for-ib-diploma-mathematics/blob/master/Normal_distribution.ipynb)"
      ]
    },
    {
      "cell_type": "code",
      "metadata": {
        "colab": {
          "base_uri": "https://localhost:8080/"
        },
        "id": "THMG-kjY_YyG",
        "outputId": "00bb1be6-1fb4-40e8-fb8a-8ab16c6346e2"
      },
      "source": [
        "from scipy.stats import norm\n",
        "import numpy as np\n",
        "import matplotlib.pyplot as plt\n",
        "\n",
        "norm.pdf(x=1.0, loc=0, scale=1)\n"
      ],
      "execution_count": 7,
      "outputs": [
        {
          "output_type": "execute_result",
          "data": {
            "text/plain": [
              "0.24197072451914337"
            ]
          },
          "metadata": {},
          "execution_count": 7
        }
      ]
    },
    {
      "cell_type": "code",
      "metadata": {
        "colab": {
          "base_uri": "https://localhost:8080/",
          "height": 271
        },
        "id": "MntSkotbBpbQ",
        "outputId": "459fcddd-1326-4cde-a6db-e72fc0b3e13f"
      },
      "source": [
        "fig, ax = plt.subplots()\n",
        "x= np.arange(-4,4,0.001)\n",
        "ax.plot(x, norm.pdf(x))\n",
        "ax.set_ylim(0,0.45) # range\n",
        "ax.axhline(y=0.24,xmax=0.61,color='r') # horizontal line\n",
        "ax.axvline(x=1, ymax=0.53, color='r',alpha=0.5) # vertical line\n",
        "xplot = ax.plot([1], [0.24], marker='o', markersize=15, color=\"red\") # coordinate point\n",
        "ax.set_yticks([]) # remove y axis label\n",
        "ax.set_xticks([]) # remove x axis label\n",
        "ax.set_xlabel('x',fontsize=20) # set x label\n",
        "ax.set_ylabel('pdf(x)',fontsize=20,rotation=0) # set y label\n",
        "ax.xaxis.set_label_coords(0.61, -0.02) # x label coordinate\n",
        "ax.yaxis.set_label_coords(-0.1, 0.5) # y label coordinate\n",
        "plt.show()"
      ],
      "execution_count": 8,
      "outputs": [
        {
          "output_type": "display_data",
          "data": {
            "image/png": "[encoded data removed]",
            "text/plain": [
              "<Figure size 432x288 with 1 Axes>"
            ]
          },
          "metadata": {}
        }
      ]
    },
    {
      "cell_type": "code",
      "metadata": {
        "colab": {
          "base_uri": "https://localhost:8080/",
          "height": 298
        },
        "id": "f8YXiEx5BriH",
        "outputId": "99c4089c-eb36-491d-eb49-6bf9088af6c0"
      },
      "source": [
        "fig, ax = plt.subplots()\n",
        "x= np.arange(-4,4,0.001)\n",
        "ax.set_title('N(0,$1^2$)')\n",
        "ax.set_xlabel('x')\n",
        "ax.set_ylabel('f(x)')\n",
        "ax.plot(x, norm.pdf(x))\n",
        "ax.set_ylim(0,0.45)\n",
        "\n",
        "plt.show()"
      ],
      "execution_count": 9,
      "outputs": [
        {
          "output_type": "display_data",
          "data": {
            "image/png": "[encoded data removed]",
            "text/plain": [
              "<Figure size 432x288 with 1 Axes>"
            ]
          },
          "metadata": {
            "needs_background": "light"
          }
        }
      ]
    },
    {
      "cell_type": "code",
      "metadata": {
        "colab": {
          "base_uri": "https://localhost:8080/",
          "height": 295
        },
        "id": "4yB0i9DoBzVZ",
        "outputId": "c13d75a5-25a7-4734-dc7f-60b9e433c108"
      },
      "source": [
        "fig, ax = plt.subplots()\n",
        "x = np.linspace(-10,10,100)\n",
        "stdvs = [1.0, 2.0, 3.0, 4.0]\n",
        "\n",
        "for s in stdvs:\n",
        "    ax.plot(x, norm.pdf(x,scale=s), label='stdv=%.1f' % s)\n",
        "    \n",
        "ax.set_xlabel('x')\n",
        "ax.set_ylabel('pdf(x)')\n",
        "ax.set_title('Normal Distribution')\n",
        "ax.legend(loc='best', frameon=True)\n",
        "ax.set_ylim(0,0.45)\n",
        "ax.grid(True)"
      ],
      "execution_count": 10,
      "outputs": [
        {
          "output_type": "display_data",
          "data": {
            "image/png": "[encoded data removed]",
            "text/plain": [
              "<Figure size 432x288 with 1 Axes>"
            ]
          },
          "metadata": {
            "needs_background": "light"
          }
        }
      ]
    },
    {
      "cell_type": "code",
      "metadata": {
        "colab": {
          "base_uri": "https://localhost:8080/",
          "height": 295
        },
        "id": "A7fJrbavB8AQ",
        "outputId": "cc2a3942-fe9c-43bf-9832-3e6e69df01e6"
      },
      "source": [
        "fig, ax = plt.subplots()\n",
        "x = np.linspace(-10,10,100)\n",
        "means = [0.0, 1.0, 2.0, 5.0]\n",
        "\n",
        "for mean in means:\n",
        "    ax.plot(x, norm.pdf(x,loc=mean), label='mean=%.1f' % mean)\n",
        "    \n",
        "ax.set_xlabel('x')\n",
        "ax.set_ylabel('pdf(x)')\n",
        "ax.set_title('Normal Distribution')\n",
        "ax.legend(loc='best', frameon=True)\n",
        "ax.set_ylim(0,0.45)\n",
        "ax.grid(True)"
      ],
      "execution_count": 11,
      "outputs": [
        {
          "output_type": "display_data",
          "data": {
            "image/png": "[encoded data removed]",
            "text/plain": [
              "<Figure size 432x288 with 1 Axes>"
            ]
          },
          "metadata": {
            "needs_background": "light"
          }
        }
      ]
    },
    {
      "cell_type": "code",
      "metadata": {
        "colab": {
          "base_uri": "https://localhost:8080/",
          "height": 295
        },
        "id": "AmqZZc-pCArC",
        "outputId": "a54ca215-f5d0-40d9-abe1-852118123b5f"
      },
      "source": [
        "fig, ax = plt.subplots()\n",
        "xs = norm.rvs(scale=2,size=1000)\n",
        "x = np.linspace(-10,10,100)\n",
        "p = norm.pdf(x,scale=2)\n",
        "v = np.var(xs)\n",
        "m = np.mean(xs)\n",
        "\n",
        "ax = fig.add_subplot(111)\n",
        "ax.hist(xs, bins=10, alpha=0.5, density=True)\n",
        "ax.plot(x,p, 'r-', lw=2)\n",
        "ax.set_xlabel('x')\n",
        "ax.set_ylabel('pdf(x)')\n",
        "ax.set_title(f'mean={m:.2f}, var={v:.2f}')\n",
        "ax.grid(True)"
      ],
      "execution_count": 12,
      "outputs": [
        {
          "output_type": "display_data",
          "data": {
            "image/png": "[encoded data removed]",
            "text/plain": [
              "<Figure size 432x288 with 2 Axes>"
            ]
          },
          "metadata": {
            "needs_background": "light"
          }
        }
      ]
    },
    {
      "cell_type": "code",
      "metadata": {
        "colab": {
          "base_uri": "https://localhost:8080/",
          "height": 295
        },
        "id": "oz4QHg5ACLRQ",
        "outputId": "0f69e3cd-3830-4c43-fbe2-a8d4ac546488"
      },
      "source": [
        "fig, ax = plt.subplots()\n",
        "# for distribution curve\n",
        "x= np.arange(-4,4,0.001)\n",
        "ax.plot(x, norm.pdf(x))\n",
        "ax.set_title(\"Cumulative normal distribution\")\n",
        "ax.set_xlabel('x')\n",
        "ax.set_ylabel('pdf(x)')\n",
        "ax.grid(True)\n",
        "\n",
        "# for fill_between\n",
        "px=np.arange(-4,1,0.01)\n",
        "ax.set_ylim(0,0.5)\n",
        "ax.fill_between(px,norm.pdf(px),alpha=0.5, color='g')\n",
        "# for text\n",
        "ax.text(-1,0.1,\"cdf(x)\", fontsize=20)\n",
        "plt.show()"
      ],
      "execution_count": 13,
      "outputs": [
        {
          "output_type": "display_data",
          "data": {
            "image/png": "[encoded data removed]",
            "text/plain": [
              "<Figure size 432x288 with 1 Axes>"
            ]
          },
          "metadata": {
            "needs_background": "light"
          }
        }
      ]
    },
    {
      "cell_type": "code",
      "metadata": {
        "colab": {
          "base_uri": "https://localhost:8080/"
        },
        "id": "imEx5PdGCRfO",
        "outputId": "ef0a58c8-e2ac-4fc7-e7f1-4c5a254a50fe"
      },
      "source": [
        "from scipy.stats import norm\n",
        "\n",
        "lessthan2=norm.cdf(x=2, loc=3, scale=2)\n",
        "print(lessthan2)"
      ],
      "execution_count": 14,
      "outputs": [
        {
          "output_type": "stream",
          "name": "stdout",
          "text": [
            "0.3085375387259869\n"
          ]
        }
      ]
    },
    {
      "cell_type": "code",
      "metadata": {
        "colab": {
          "base_uri": "https://localhost:8080/",
          "height": 298
        },
        "id": "dkYoRrgpCUG9",
        "outputId": "fd2784b1-1912-4bc8-fa94-57681b627b15"
      },
      "source": [
        "fig, ax = plt.subplots()\n",
        "\n",
        "# for distribution curve\n",
        "x= np.arange(-4,10,0.001)\n",
        "ax.plot(x, norm.pdf(x,loc=3,scale=2))\n",
        "ax.set_title(\"N(3,$2^2$)\")\n",
        "ax.set_xlabel('x')\n",
        "ax.set_ylabel('pdf(x)')\n",
        "ax.grid(True)\n",
        "\n",
        "# for fill_between\n",
        "px=np.arange(-4,2,0.01)\n",
        "ax.set_ylim(0,0.25)\n",
        "ax.fill_between(px,norm.pdf(px,loc=3,scale=2),alpha=0.5, color='g')\n",
        "\n",
        "# for text\n",
        "ax.text(-0.5,0.02,round(lessthan2,2), fontsize=20)\n",
        "plt.show()"
      ],
      "execution_count": 15,
      "outputs": [
        {
          "output_type": "display_data",
          "data": {
            "image/png": "[encoded data removed]",
            "text/plain": [
              "<Figure size 432x288 with 1 Axes>"
            ]
          },
          "metadata": {
            "needs_background": "light"
          }
        }
      ]
    },
    {
      "cell_type": "code",
      "metadata": {
        "colab": {
          "base_uri": "https://localhost:8080/"
        },
        "id": "seAMOrfwCXEQ",
        "outputId": "99ae64ca-6882-48d5-de4b-ae9055223df2"
      },
      "source": [
        "norm.ppf(q=0.506, loc=1, scale=3)"
      ],
      "execution_count": 16,
      "outputs": [
        {
          "output_type": "execute_result",
          "data": {
            "text/plain": [
              "1.045121010035907"
            ]
          },
          "metadata": {},
          "execution_count": 16
        }
      ]
    },
    {
      "cell_type": "code",
      "metadata": {
        "colab": {
          "base_uri": "https://localhost:8080/",
          "height": 298
        },
        "id": "GIfFvFp5CddA",
        "outputId": "0f02080d-8547-44fe-e8bd-9b8c3ec704fc"
      },
      "source": [
        "fig, ax = plt.subplots()\n",
        "x= np.arange(-10,10,0.001)\n",
        "ax.plot(x, norm.pdf(x,loc=1,scale=3))\n",
        "ax.set_title(\"N(1,$3^2$)\")\n",
        "ax.set_xlabel('x')\n",
        "ax.set_ylabel('pdf(x)')\n",
        "ax.grid(True)\n",
        "\n",
        "xpoint=norm.ppf(q=0.506, loc=1, scale=3)\n",
        "px=np.arange(-10,xpoint,0.01)\n",
        "ax.set_ylim(0,0.15)\n",
        "ax.fill_between(px,norm.pdf(px,loc=1,scale=3),alpha=0.5, color='g')\n",
        "\n",
        "ax.text(.8,0.02,\"x= %.2f\" %xpoint, fontsize=20)\n",
        "ax.text(-5,0.05,\"P(X)=0.506\", fontsize=20)\n",
        "plt.show()"
      ],
      "execution_count": 17,
      "outputs": [
        {
          "output_type": "display_data",
          "data": {
            "image/png": "[encoded data removed]",
            "text/plain": [
              "<Figure size 432x288 with 1 Axes>"
            ]
          },
          "metadata": {
            "needs_background": "light"
          }
        }
      ]
    },
    {
      "cell_type": "code",
      "metadata": {
        "colab": {
          "base_uri": "https://localhost:8080/",
          "height": 312
        },
        "id": "0UScll7FCjSX",
        "outputId": "cf9fa3e3-c3b5-4c32-d2c9-58cf0e0071b0"
      },
      "source": [
        "from scipy.stats import multivariate_normal\n",
        "\n",
        "x,y = np.meshgrid(np.linspace(-10,10,100),np.linspace(-10,10,100))\n",
        "pos = np.dstack((x,y))\n",
        "mean = np.array([1, 2])\n",
        "cov  = np.array([[3,0],[0,15]])\n",
        "rv = multivariate_normal(mean,cov)\n",
        "z = rv.pdf(pos)\n",
        "\n",
        "fig = plt.figure()\n",
        "ax = fig.add_subplot(111,aspect='equal')\n",
        "ax.contourf(x,y,z)\n",
        "ax.set_xlim(-10,10)\n",
        "ax.set_ylim(-10,10)\n",
        "ax.set_xlabel('x')\n",
        "ax.set_ylabel('y')\n",
        "ax.set_title('pdf')"
      ],
      "execution_count": 18,
      "outputs": [
        {
          "output_type": "execute_result",
          "data": {
            "text/plain": [
              "Text(0.5, 1.0, 'pdf')"
            ]
          },
          "metadata": {},
          "execution_count": 18
        },
        {
          "output_type": "display_data",
          "data": {
            "image/png": "[encoded data removed]",
            "text/plain": [
              "<Figure size 432x288 with 1 Axes>"
            ]
          },
          "metadata": {
            "needs_background": "light"
          }
        }
      ]
    },
    {
      "cell_type": "code",
      "metadata": {
        "id": "1gp40o3zCt4c"
      },
      "source": [
        ""
      ],
      "execution_count": null,
      "outputs": []
    }
  ]
}