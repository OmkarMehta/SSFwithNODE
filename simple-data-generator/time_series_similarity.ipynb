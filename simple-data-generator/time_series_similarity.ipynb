{
  "nbformat": 4,
  "nbformat_minor": 0,
  "metadata": {
    "colab": {
      "name": "time_series_similarity.ipynb",
      "provenance": [],
      "collapsed_sections": []
    },
    "kernelspec": {
      "name": "python3",
      "display_name": "Python 3"
    },
    "language_info": {
      "name": "python"
    }
  },
  "cells": [
    {
      "cell_type": "markdown",
      "metadata": {
        "id": "uA-p-8kPspwH"
      },
      "source": [
        "# Install this (important)"
      ]
    },
    {
      "cell_type": "code",
      "metadata": {
        "colab": {
          "base_uri": "https://localhost:8080/"
        },
        "id": "mModaxDbsFH9",
        "outputId": "2e0ea82b-25f1-49d5-fa47-00b0d7011a72"
      },
      "source": [
        "# Install the latest version of author's repo neural ode implementation\n",
        "!git clone https://github.com/rtqichen/torchdiffeq.git\n",
        "!cd torchdiffeq && pip install -e .\n",
        "!ls torchdiffeq/torchdiffeq"
      ],
      "execution_count": 2,
      "outputs": [
        {
          "output_type": "stream",
          "name": "stdout",
          "text": [
            "fatal: destination path 'torchdiffeq' already exists and is not an empty directory.\n",
            "Obtaining file:///content/torchdiffeq\n",
            "Requirement already satisfied: torch>=1.3.0 in /usr/local/lib/python3.7/dist-packages (from torchdiffeq==0.2.2) (1.9.0+cu102)\n",
            "Requirement already satisfied: scipy>=1.4.0 in /usr/local/lib/python3.7/dist-packages (from torchdiffeq==0.2.2) (1.4.1)\n",
            "Requirement already satisfied: numpy>=1.13.3 in /usr/local/lib/python3.7/dist-packages (from scipy>=1.4.0->torchdiffeq==0.2.2) (1.19.5)\n",
            "Requirement already satisfied: typing-extensions in /usr/local/lib/python3.7/dist-packages (from torch>=1.3.0->torchdiffeq==0.2.2) (3.7.4.3)\n",
            "Installing collected packages: torchdiffeq\n",
            "  Attempting uninstall: torchdiffeq\n",
            "    Found existing installation: torchdiffeq 0.2.2\n",
            "    Can't uninstall 'torchdiffeq'. No files were found to uninstall.\n",
            "  Running setup.py develop for torchdiffeq\n",
            "Successfully installed torchdiffeq-0.2.2\n",
            "_impl  __init__.py\n"
          ]
        }
      ]
    },
    {
      "cell_type": "code",
      "metadata": {
        "colab": {
          "base_uri": "https://localhost:8080/"
        },
        "id": "LsnxSsoMzQrp",
        "outputId": "59dd6253-ffbb-4c3c-95d1-a541650e177d"
      },
      "source": [
        "!pip install yfinance"
      ],
      "execution_count": 3,
      "outputs": [
        {
          "output_type": "stream",
          "name": "stdout",
          "text": [
            "Requirement already satisfied: yfinance in /usr/local/lib/python3.7/dist-packages (0.1.63)\n",
            "Requirement already satisfied: multitasking>=0.0.7 in /usr/local/lib/python3.7/dist-packages (from yfinance) (0.0.9)\n",
            "Requirement already satisfied: lxml>=4.5.1 in /usr/local/lib/python3.7/dist-packages (from yfinance) (4.6.3)\n",
            "Requirement already satisfied: numpy>=1.15 in /usr/local/lib/python3.7/dist-packages (from yfinance) (1.19.5)\n",
            "Requirement already satisfied: pandas>=0.24 in /usr/local/lib/python3.7/dist-packages (from yfinance) (1.1.5)\n",
            "Requirement already satisfied: requests>=2.20 in /usr/local/lib/python3.7/dist-packages (from yfinance) (2.23.0)\n",
            "Requirement already satisfied: pytz>=2017.2 in /usr/local/lib/python3.7/dist-packages (from pandas>=0.24->yfinance) (2018.9)\n",
            "Requirement already satisfied: python-dateutil>=2.7.3 in /usr/local/lib/python3.7/dist-packages (from pandas>=0.24->yfinance) (2.8.2)\n",
            "Requirement already satisfied: six>=1.5 in /usr/local/lib/python3.7/dist-packages (from python-dateutil>=2.7.3->pandas>=0.24->yfinance) (1.15.0)\n",
            "Requirement already satisfied: certifi>=2017.4.17 in /usr/local/lib/python3.7/dist-packages (from requests>=2.20->yfinance) (2021.5.30)\n",
            "Requirement already satisfied: idna<3,>=2.5 in /usr/local/lib/python3.7/dist-packages (from requests>=2.20->yfinance) (2.10)\n",
            "Requirement already satisfied: urllib3!=1.25.0,!=1.25.1,<1.26,>=1.21.1 in /usr/local/lib/python3.7/dist-packages (from requests>=2.20->yfinance) (1.24.3)\n",
            "Requirement already satisfied: chardet<4,>=3.0.2 in /usr/local/lib/python3.7/dist-packages (from requests>=2.20->yfinance) (3.0.4)\n"
          ]
        }
      ]
    },
    {
      "cell_type": "markdown",
      "metadata": {
        "id": "MmW7-fNXvpjK"
      },
      "source": [
        "# K Means"
      ]
    },
    {
      "cell_type": "code",
      "metadata": {
        "id": "rwJslKhovvNW"
      },
      "source": [
        ""
      ],
      "execution_count": 3,
      "outputs": []
    },
    {
      "cell_type": "markdown",
      "metadata": {
        "id": "BcAd1jnYvt7H"
      },
      "source": [
        "## Rough of K Means\n",
        "\n",
        "1. Get Open and Close Price of asset (o, c) for each trading day.\n",
        "2. Transform it into sequences.\n",
        "    - $d_{i} : {o_{1}c_{1} ... o_{5}c_{5}}$\n",
        "    - where $d_{i}$ is a sequence of o and c for the week `i`.\n",
        "3. Transform $d_{i}$ to sequences of lag * len($d_{i}$) length.\n",
        "4. Normalize these sequences to a range (0, 1).\n",
        "5. Clustering algorithm. "
      ]
    },
    {
      "cell_type": "code",
      "metadata": {
        "colab": {
          "base_uri": "https://localhost:8080/"
        },
        "id": "vYHu8FG1w9E9",
        "outputId": "663209ea-6298-4a81-8a2a-2372622f672d"
      },
      "source": [
        "# 1. Get Open and Close Price of asset (o, c) for each trading day.\n",
        "# libraries\n",
        "from pandas_datareader import data as pdr\n",
        "import yfinance as yf\n",
        "import os\n",
        "\n",
        "print(f\"Get Open and Close Price of Assets\")\n",
        "def download_raw_stock_data(filepath, tickers, start, end, period = '1d'):\n",
        "    \"\"\"\n",
        "    Download Stock tickers\n",
        "    :Parameters:\n",
        "        filepath: str\n",
        "            path to store the raw data\n",
        "        tickers : str, list\n",
        "            List of tickers to download\n",
        "        period: str\n",
        "            the frequency at which to gather the data; common options would include ‘1d’ (daily), ‘1mo’ (monthly), ‘1y’ (yearly)\n",
        "        start: str\n",
        "            the date to start gathering the data. For example ‘2010–1–1’\n",
        "        end: str\n",
        "            the date to end gathering the data. For example ‘2020–1–25’\n",
        "    \n",
        "    \"\"\"\n",
        "    #define the ticker symbol\n",
        "    tickerSymbol = tickers\n",
        "\n",
        "    #get data on this ticker\n",
        "    tickerData = yf.Ticker(tickerSymbol)\n",
        "\n",
        "    #get the historical prices for this ticker\n",
        "    tickerDf = tickerData.history(period=period, start=start, end=end)\n",
        "    tickerDf.to_csv(filepath)\n",
        "\n",
        "dict_tickers = {\n",
        "    'Apple': 'AAPL',\n",
        "    'Microsoft': 'MSFT',\n",
        "    'Google': 'GOOG',\n",
        "    'Bitcoin': 'BTC-USD',\n",
        "    'Facebook': 'FB',\n",
        "    'Walmart': 'WMT',\n",
        "    'Amazon': 'AMZN',\n",
        "    'CVS': 'CVS',\n",
        "    'Berkshire': 'BRK-B',\n",
        "    'ExxonMobil': 'XOM',\n",
        "    'AtandT': 'T',\n",
        "    'Costco': 'COST',\n",
        "    'Walgreens': 'WBA',\n",
        "    'Kroger': 'KR',\n",
        "    'JPMorgan': 'JPM',\n",
        "    'Verizon': 'VZ',\n",
        "    'FordMotor': 'F',\n",
        "    'GeneralMotors': 'GM',\n",
        "    'Dell': 'DELL',\n",
        "    'BankOfAmerica': 'BAC',\n",
        "    'Target': 'TGT',\n",
        "    'GeneralElectric': 'GE',\n",
        "    'JohnsonandJohnson': 'JNJ',\n",
        "    'Nvidia': 'NVDA',\n",
        "    'Intel': 'INTC',\n",
        "}\n",
        "\n",
        "path = f\"raw-stock-data/data-1970-2021\"\n",
        "if not os.path.exists(path):\n",
        "    # https://appdividend.com/2021/07/03/how-to-create-directory-if-not-exist-in-python/\n",
        "    # Create a new directory\n",
        "    os.makedirs(path)\n",
        "    print(f\"{path} directory is created\")\n",
        "period = '1d'\n",
        "start='1970-1-1'\n",
        "end='2021-8-31'\n",
        "for tickerName, ticker in dict_tickers.items():\n",
        "    tickerName = tickerName\n",
        "    ticker = ticker\n",
        "    filepath = f\"{path}/{tickerName}.csv\"\n",
        "    download_raw_stock_data(filepath, ticker, start, end, period)\n",
        "\n",
        "\n",
        "print('\\n')\n",
        "\n",
        "print(f\"The size of each asset\")\n",
        "import pandas as pd\n",
        "for tickerName in dict_tickers.keys():\n",
        "    df = pd.read_csv(f\"{path}/{tickerName}.csv\")\n",
        "    print(f\"{tickerName} size: {len(df)}\")"
      ],
      "execution_count": 4,
      "outputs": [
        {
          "output_type": "stream",
          "name": "stdout",
          "text": [
            "Get Open and Close Price of Assets\n",
            "\n",
            "\n",
            "The size of each asset\n",
            "Apple size: 10266\n",
            "Microsoft size: 8940\n",
            "Google size: 4288\n",
            "Bitcoin size: 2537\n",
            "Facebook size: 2336\n",
            "Walmart size: 12340\n",
            "Amazon size: 6114\n",
            "CVS size: 12237\n",
            "Berkshire size: 6371\n",
            "ExxonMobil size: 13030\n",
            "AtandT size: 9522\n",
            "Costco size: 8859\n",
            "Walgreens size: 10454\n",
            "Kroger size: 13030\n",
            "JPMorgan size: 10454\n",
            "Verizon size: 9522\n",
            "FordMotor size: 12420\n",
            "GeneralMotors size: 2713\n",
            "Dell size: 1268\n",
            "BankOfAmerica size: 12199\n",
            "Target size: 12238\n",
            "GeneralElectric size: 13031\n",
            "JohnsonandJohnson size: 13032\n",
            "Nvidia size: 5690\n",
            "Intel size: 10453\n"
          ]
        }
      ]
    },
    {
      "cell_type": "code",
      "metadata": {
        "colab": {
          "base_uri": "https://localhost:8080/"
        },
        "id": "i0mxiP_J4LvW",
        "outputId": "dced7e96-d845-4fe2-f2bb-1c01deea3775"
      },
      "source": [
        "len(dict_tickers.keys())"
      ],
      "execution_count": 5,
      "outputs": [
        {
          "output_type": "execute_result",
          "data": {
            "text/plain": [
              "25"
            ]
          },
          "metadata": {},
          "execution_count": 5
        }
      ]
    },
    {
      "cell_type": "markdown",
      "metadata": {
        "id": "PslCRoOlBIEc"
      },
      "source": [
        "### 2. Transform it into sequences.\n",
        "    - $d_{i} : {o_{1}c_{1} ... o_{5}c_{5}}$\n",
        "    - where $d_{i}$ is a sequence of o and c for the week `i`.\n",
        "3. Transform $d_{i}$ to sequences of lag * len($d_{i}$) length.\n"
      ]
    },
    {
      "cell_type": "code",
      "metadata": {
        "id": "BL0nozG8ynms"
      },
      "source": [
        "# 2. Get weekly data.\n",
        "# 3. Transform $d_{i}$ to sequences of lag * len($d_{i}$) length.\n",
        "\n",
        "def stockDataTransformer(filepath):\n",
        "    df = pd.read_csv(filepath)\n",
        "    df.set_index('Date', inplace=True)\n",
        "    df1 = df[['Open', 'Close']].copy()\n",
        "    data = df1.values\n",
        "    n_samples = data.shape[0]//10*10\n",
        "    reshape_number = n_samples*data.shape[1]//10\n",
        "    data1 = data[:n_samples].reshape((reshape_number, 10))\n",
        "    return data1\n",
        "\n",
        "def series_to_supervised(data, n_in=1, n_out=1, dropnan=True):\n",
        "    \"\"\"\n",
        "    Frame a time series as a supervised learning dataset.\n",
        "    Arguments:\n",
        "        data: Sequence of observations as a list or NumPy array.\n",
        "        n_in: Number of lag observations as input (X).\n",
        "        n_out: Number of observations as output (y).\n",
        "        dropnan: Boolean whether or not to drop rows with NaN values.\n",
        "    Returns:\n",
        "        Pandas DataFrame of series framed for supervised learning.\n",
        "    \"\"\"\n",
        "    n_vars = 1 if type(data) is list else data.shape[1]\n",
        "    df = pd.DataFrame(data)\n",
        "    cols, names = list(), list()\n",
        "    # input sequence (t-n, ... t-1)\n",
        "    for i in range(n_in, 0, -1):\n",
        "        cols.append(df.shift(i))\n",
        "        names += [('var%d(t-%d)' % (j+1, i)) for j in range(n_vars)]\n",
        "    # forecast sequence (t, t+1, ... t+n)\n",
        "    for i in range(0, n_out):\n",
        "        cols.append(df.shift(-i))\n",
        "        if i == 0:\n",
        "            names += [('var%d(t)' % (j+1)) for j in range(n_vars)]\n",
        "        else:\n",
        "            names += [('var%d(t+%d)' % (j+1, i)) for j in range(n_vars)]\n",
        "    # put it all together\n",
        "    agg = concat(cols, axis=1)\n",
        "    agg.columns = names\n",
        "    # drop rows with NaN values\n",
        "    if dropnan:\n",
        "        agg.dropna(inplace=True)\n",
        "    return agg\n"
      ],
      "execution_count": 6,
      "outputs": []
    },
    {
      "cell_type": "code",
      "metadata": {
        "colab": {
          "base_uri": "https://localhost:8080/"
        },
        "id": "R8q5WFNK0eDZ",
        "outputId": "06c3aac5-203b-422e-8b10-0a024f0b0bee"
      },
      "source": [
        "from pandas import concat\n",
        "week_sequence = {}\n",
        "lag = 5\n",
        "for tickerName in dict_tickers.keys():\n",
        "    filepath = f\"{path}/{tickerName}.csv\"\n",
        "    # Get the data in the required format\n",
        "    data = stockDataTransformer(filepath)\n",
        "    print(f\"{tickerName} data.shape {data.shape}\")\n",
        "    data_orig = series_to_supervised(data, lag).values\n",
        "    print(f'{tickerName} Data Original after series to supervised on data {data_orig.shape}')\n",
        "    week_sequence[tickerName] = data_orig"
      ],
      "execution_count": 7,
      "outputs": [
        {
          "output_type": "stream",
          "name": "stdout",
          "text": [
            "Apple data.shape (2052, 10)\n",
            "Apple Data Original after series to supervised on data (2047, 60)\n",
            "Microsoft data.shape (1788, 10)\n",
            "Microsoft Data Original after series to supervised on data (1783, 60)\n",
            "Google data.shape (856, 10)\n",
            "Google Data Original after series to supervised on data (851, 60)\n",
            "Bitcoin data.shape (506, 10)\n",
            "Bitcoin Data Original after series to supervised on data (501, 60)\n",
            "Facebook data.shape (466, 10)\n",
            "Facebook Data Original after series to supervised on data (461, 60)\n",
            "Walmart data.shape (2468, 10)\n",
            "Walmart Data Original after series to supervised on data (2463, 60)\n",
            "Amazon data.shape (1222, 10)\n",
            "Amazon Data Original after series to supervised on data (1217, 60)\n",
            "CVS data.shape (2446, 10)\n",
            "CVS Data Original after series to supervised on data (2441, 60)\n",
            "Berkshire data.shape (1274, 10)\n",
            "Berkshire Data Original after series to supervised on data (1269, 60)\n",
            "ExxonMobil data.shape (2606, 10)\n",
            "ExxonMobil Data Original after series to supervised on data (2601, 60)\n",
            "AtandT data.shape (1904, 10)\n",
            "AtandT Data Original after series to supervised on data (1899, 60)\n",
            "Costco data.shape (1770, 10)\n",
            "Costco Data Original after series to supervised on data (1765, 60)\n",
            "Walgreens data.shape (2090, 10)\n",
            "Walgreens Data Original after series to supervised on data (2085, 60)\n",
            "Kroger data.shape (2606, 10)\n",
            "Kroger Data Original after series to supervised on data (2601, 60)\n",
            "JPMorgan data.shape (2090, 10)\n",
            "JPMorgan Data Original after series to supervised on data (2085, 60)\n",
            "Verizon data.shape (1904, 10)\n",
            "Verizon Data Original after series to supervised on data (1899, 60)\n",
            "FordMotor data.shape (2484, 10)\n",
            "FordMotor Data Original after series to supervised on data (2479, 60)\n",
            "GeneralMotors data.shape (542, 10)\n",
            "GeneralMotors Data Original after series to supervised on data (537, 60)\n",
            "Dell data.shape (252, 10)\n",
            "Dell Data Original after series to supervised on data (247, 60)\n",
            "BankOfAmerica data.shape (2438, 10)\n",
            "BankOfAmerica Data Original after series to supervised on data (2433, 60)\n",
            "Target data.shape (2446, 10)\n",
            "Target Data Original after series to supervised on data (2441, 60)\n",
            "GeneralElectric data.shape (2606, 10)\n",
            "GeneralElectric Data Original after series to supervised on data (2601, 60)\n",
            "JohnsonandJohnson data.shape (2606, 10)\n",
            "JohnsonandJohnson Data Original after series to supervised on data (2601, 60)\n",
            "Nvidia data.shape (1138, 10)\n",
            "Nvidia Data Original after series to supervised on data (1127, 60)\n",
            "Intel data.shape (2090, 10)\n",
            "Intel Data Original after series to supervised on data (2085, 60)\n"
          ]
        }
      ]
    },
    {
      "cell_type": "code",
      "metadata": {
        "colab": {
          "base_uri": "https://localhost:8080/"
        },
        "id": "SvIdGj4r1chm",
        "outputId": "b7a39a22-27c1-47e2-bd5b-6f32bea87881"
      },
      "source": [
        "import numpy as np\n",
        "data = week_sequence['Apple']\n",
        "# 4. Bundle all sequences together\n",
        "for tickerName in week_sequence.keys():\n",
        "    if tickerName != 'Apple':\n",
        "        data1 = week_sequence[tickerName]\n",
        "        data = np.concatenate((data, data1))\n",
        "        print(f\"data.shape {data.shape}\")\n"
      ],
      "execution_count": 8,
      "outputs": [
        {
          "output_type": "stream",
          "name": "stdout",
          "text": [
            "data.shape (3830, 60)\n",
            "data.shape (4681, 60)\n",
            "data.shape (5182, 60)\n",
            "data.shape (5643, 60)\n",
            "data.shape (8106, 60)\n",
            "data.shape (9323, 60)\n",
            "data.shape (11764, 60)\n",
            "data.shape (13033, 60)\n",
            "data.shape (15634, 60)\n",
            "data.shape (17533, 60)\n",
            "data.shape (19298, 60)\n",
            "data.shape (21383, 60)\n",
            "data.shape (23984, 60)\n",
            "data.shape (26069, 60)\n",
            "data.shape (27968, 60)\n",
            "data.shape (30447, 60)\n",
            "data.shape (30984, 60)\n",
            "data.shape (31231, 60)\n",
            "data.shape (33664, 60)\n",
            "data.shape (36105, 60)\n",
            "data.shape (38706, 60)\n",
            "data.shape (41307, 60)\n",
            "data.shape (42434, 60)\n",
            "data.shape (44519, 60)\n"
          ]
        }
      ]
    },
    {
      "cell_type": "code",
      "metadata": {
        "id": "M_wWh2OJFJaB"
      },
      "source": [
        "data_df = pd.DataFrame(data)\n",
        "data_df.to_csv(f\"all_assets_sequences.csv\")"
      ],
      "execution_count": 9,
      "outputs": []
    },
    {
      "cell_type": "code",
      "metadata": {
        "colab": {
          "base_uri": "https://localhost:8080/"
        },
        "id": "Tgcw0tj54F6g",
        "outputId": "ae48762c-274f-4dd8-e5d9-c6c0a90c1884"
      },
      "source": [
        "data.shape"
      ],
      "execution_count": 10,
      "outputs": [
        {
          "output_type": "execute_result",
          "data": {
            "text/plain": [
              "(44519, 60)"
            ]
          },
          "metadata": {},
          "execution_count": 10
        }
      ]
    },
    {
      "cell_type": "code",
      "metadata": {
        "id": "AbdkOC5Uzde6"
      },
      "source": [
        "# import numpy as np\n",
        "# a1 = np.array([[1, 2, 3], [4, 5, 6]])\n",
        "# a2 = np.array([[7, 8, 9], [10, 11, 12], [13, 14, 15]])\n",
        "# a3 = np.array([[7, 8, 9], [10, 11, 12], [13, 14, 15]])\n",
        "# np.concatenate((a1, a2, a3))"
      ],
      "execution_count": 11,
      "outputs": []
    },
    {
      "cell_type": "code",
      "metadata": {
        "colab": {
          "base_uri": "https://localhost:8080/",
          "height": 220
        },
        "id": "M5MG5n5AG2u6",
        "outputId": "e51e81e7-5012-4a95-add3-d21b143165e0"
      },
      "source": [
        "data_df.head()"
      ],
      "execution_count": 12,
      "outputs": [
        {
          "output_type": "execute_result",
          "data": {
            "text/html": [
              "<div>\n",
              "<style scoped>\n",
              "    .dataframe tbody tr th:only-of-type {\n",
              "        vertical-align: middle;\n",
              "    }\n",
              "\n",
              "    .dataframe tbody tr th {\n",
              "        vertical-align: top;\n",
              "    }\n",
              "\n",
              "    .dataframe thead th {\n",
              "        text-align: right;\n",
              "    }\n",
              "</style>\n",
              "<table border=\"1\" class=\"dataframe\">\n",
              "  <thead>\n",
              "    <tr style=\"text-align: right;\">\n",
              "      <th></th>\n",
              "      <th>0</th>\n",
              "      <th>1</th>\n",
              "      <th>2</th>\n",
              "      <th>3</th>\n",
              "      <th>4</th>\n",
              "      <th>5</th>\n",
              "      <th>6</th>\n",
              "      <th>7</th>\n",
              "      <th>8</th>\n",
              "      <th>9</th>\n",
              "      <th>10</th>\n",
              "      <th>11</th>\n",
              "      <th>12</th>\n",
              "      <th>13</th>\n",
              "      <th>14</th>\n",
              "      <th>15</th>\n",
              "      <th>16</th>\n",
              "      <th>17</th>\n",
              "      <th>18</th>\n",
              "      <th>19</th>\n",
              "      <th>20</th>\n",
              "      <th>21</th>\n",
              "      <th>22</th>\n",
              "      <th>23</th>\n",
              "      <th>24</th>\n",
              "      <th>25</th>\n",
              "      <th>26</th>\n",
              "      <th>27</th>\n",
              "      <th>28</th>\n",
              "      <th>29</th>\n",
              "      <th>30</th>\n",
              "      <th>31</th>\n",
              "      <th>32</th>\n",
              "      <th>33</th>\n",
              "      <th>34</th>\n",
              "      <th>35</th>\n",
              "      <th>36</th>\n",
              "      <th>37</th>\n",
              "      <th>38</th>\n",
              "      <th>39</th>\n",
              "      <th>40</th>\n",
              "      <th>41</th>\n",
              "      <th>42</th>\n",
              "      <th>43</th>\n",
              "      <th>44</th>\n",
              "      <th>45</th>\n",
              "      <th>46</th>\n",
              "      <th>47</th>\n",
              "      <th>48</th>\n",
              "      <th>49</th>\n",
              "      <th>50</th>\n",
              "      <th>51</th>\n",
              "      <th>52</th>\n",
              "      <th>53</th>\n",
              "      <th>54</th>\n",
              "      <th>55</th>\n",
              "      <th>56</th>\n",
              "      <th>57</th>\n",
              "      <th>58</th>\n",
              "      <th>59</th>\n",
              "    </tr>\n",
              "  </thead>\n",
              "  <tbody>\n",
              "    <tr>\n",
              "      <th>0</th>\n",
              "      <td>0.100600</td>\n",
              "      <td>0.100600</td>\n",
              "      <td>0.095789</td>\n",
              "      <td>0.095352</td>\n",
              "      <td>0.088790</td>\n",
              "      <td>0.088353</td>\n",
              "      <td>0.090540</td>\n",
              "      <td>0.090540</td>\n",
              "      <td>0.093165</td>\n",
              "      <td>0.093165</td>\n",
              "      <td>0.098851</td>\n",
              "      <td>0.098851</td>\n",
              "      <td>0.103662</td>\n",
              "      <td>0.103662</td>\n",
              "      <td>0.108036</td>\n",
              "      <td>0.108036</td>\n",
              "      <td>0.113722</td>\n",
              "      <td>0.113722</td>\n",
              "      <td>0.124219</td>\n",
              "      <td>0.124219</td>\n",
              "      <td>0.125969</td>\n",
              "      <td>0.125969</td>\n",
              "      <td>0.123345</td>\n",
              "      <td>0.122907</td>\n",
              "      <td>0.119846</td>\n",
              "      <td>0.119408</td>\n",
              "      <td>0.120720</td>\n",
              "      <td>0.120720</td>\n",
              "      <td>0.118534</td>\n",
              "      <td>0.118096</td>\n",
              "      <td>0.113284</td>\n",
              "      <td>0.112847</td>\n",
              "      <td>0.108473</td>\n",
              "      <td>0.108036</td>\n",
              "      <td>0.106287</td>\n",
              "      <td>0.105849</td>\n",
              "      <td>0.111535</td>\n",
              "      <td>0.111535</td>\n",
              "      <td>0.111535</td>\n",
              "      <td>0.110660</td>\n",
              "      <td>0.107161</td>\n",
              "      <td>0.106724</td>\n",
              "      <td>0.107161</td>\n",
              "      <td>0.107161</td>\n",
              "      <td>0.109348</td>\n",
              "      <td>0.109348</td>\n",
              "      <td>0.108911</td>\n",
              "      <td>0.108473</td>\n",
              "      <td>0.115034</td>\n",
              "      <td>0.115034</td>\n",
              "      <td>0.111972</td>\n",
              "      <td>0.111535</td>\n",
              "      <td>0.113722</td>\n",
              "      <td>0.113722</td>\n",
              "      <td>0.115034</td>\n",
              "      <td>0.115034</td>\n",
              "      <td>0.115034</td>\n",
              "      <td>0.114597</td>\n",
              "      <td>0.113284</td>\n",
              "      <td>0.112847</td>\n",
              "    </tr>\n",
              "    <tr>\n",
              "      <th>1</th>\n",
              "      <td>0.098851</td>\n",
              "      <td>0.098851</td>\n",
              "      <td>0.103662</td>\n",
              "      <td>0.103662</td>\n",
              "      <td>0.108036</td>\n",
              "      <td>0.108036</td>\n",
              "      <td>0.113722</td>\n",
              "      <td>0.113722</td>\n",
              "      <td>0.124219</td>\n",
              "      <td>0.124219</td>\n",
              "      <td>0.125969</td>\n",
              "      <td>0.125969</td>\n",
              "      <td>0.123345</td>\n",
              "      <td>0.122907</td>\n",
              "      <td>0.119846</td>\n",
              "      <td>0.119408</td>\n",
              "      <td>0.120720</td>\n",
              "      <td>0.120720</td>\n",
              "      <td>0.118534</td>\n",
              "      <td>0.118096</td>\n",
              "      <td>0.113284</td>\n",
              "      <td>0.112847</td>\n",
              "      <td>0.108473</td>\n",
              "      <td>0.108036</td>\n",
              "      <td>0.106287</td>\n",
              "      <td>0.105849</td>\n",
              "      <td>0.111535</td>\n",
              "      <td>0.111535</td>\n",
              "      <td>0.111535</td>\n",
              "      <td>0.110660</td>\n",
              "      <td>0.107161</td>\n",
              "      <td>0.106724</td>\n",
              "      <td>0.107161</td>\n",
              "      <td>0.107161</td>\n",
              "      <td>0.109348</td>\n",
              "      <td>0.109348</td>\n",
              "      <td>0.108911</td>\n",
              "      <td>0.108473</td>\n",
              "      <td>0.115034</td>\n",
              "      <td>0.115034</td>\n",
              "      <td>0.111972</td>\n",
              "      <td>0.111535</td>\n",
              "      <td>0.113722</td>\n",
              "      <td>0.113722</td>\n",
              "      <td>0.115034</td>\n",
              "      <td>0.115034</td>\n",
              "      <td>0.115034</td>\n",
              "      <td>0.114597</td>\n",
              "      <td>0.113284</td>\n",
              "      <td>0.112847</td>\n",
              "      <td>0.112847</td>\n",
              "      <td>0.111972</td>\n",
              "      <td>0.108911</td>\n",
              "      <td>0.108473</td>\n",
              "      <td>0.104974</td>\n",
              "      <td>0.104537</td>\n",
              "      <td>0.099725</td>\n",
              "      <td>0.098851</td>\n",
              "      <td>0.093602</td>\n",
              "      <td>0.093165</td>\n",
              "    </tr>\n",
              "    <tr>\n",
              "      <th>2</th>\n",
              "      <td>0.125969</td>\n",
              "      <td>0.125969</td>\n",
              "      <td>0.123345</td>\n",
              "      <td>0.122907</td>\n",
              "      <td>0.119846</td>\n",
              "      <td>0.119408</td>\n",
              "      <td>0.120720</td>\n",
              "      <td>0.120720</td>\n",
              "      <td>0.118534</td>\n",
              "      <td>0.118096</td>\n",
              "      <td>0.113284</td>\n",
              "      <td>0.112847</td>\n",
              "      <td>0.108473</td>\n",
              "      <td>0.108036</td>\n",
              "      <td>0.106287</td>\n",
              "      <td>0.105849</td>\n",
              "      <td>0.111535</td>\n",
              "      <td>0.111535</td>\n",
              "      <td>0.111535</td>\n",
              "      <td>0.110660</td>\n",
              "      <td>0.107161</td>\n",
              "      <td>0.106724</td>\n",
              "      <td>0.107161</td>\n",
              "      <td>0.107161</td>\n",
              "      <td>0.109348</td>\n",
              "      <td>0.109348</td>\n",
              "      <td>0.108911</td>\n",
              "      <td>0.108473</td>\n",
              "      <td>0.115034</td>\n",
              "      <td>0.115034</td>\n",
              "      <td>0.111972</td>\n",
              "      <td>0.111535</td>\n",
              "      <td>0.113722</td>\n",
              "      <td>0.113722</td>\n",
              "      <td>0.115034</td>\n",
              "      <td>0.115034</td>\n",
              "      <td>0.115034</td>\n",
              "      <td>0.114597</td>\n",
              "      <td>0.113284</td>\n",
              "      <td>0.112847</td>\n",
              "      <td>0.112847</td>\n",
              "      <td>0.111972</td>\n",
              "      <td>0.108911</td>\n",
              "      <td>0.108473</td>\n",
              "      <td>0.104974</td>\n",
              "      <td>0.104537</td>\n",
              "      <td>0.099725</td>\n",
              "      <td>0.098851</td>\n",
              "      <td>0.093602</td>\n",
              "      <td>0.093165</td>\n",
              "      <td>0.096664</td>\n",
              "      <td>0.096664</td>\n",
              "      <td>0.100163</td>\n",
              "      <td>0.100163</td>\n",
              "      <td>0.100163</td>\n",
              "      <td>0.100163</td>\n",
              "      <td>0.100600</td>\n",
              "      <td>0.100600</td>\n",
              "      <td>0.096226</td>\n",
              "      <td>0.095352</td>\n",
              "    </tr>\n",
              "    <tr>\n",
              "      <th>3</th>\n",
              "      <td>0.113284</td>\n",
              "      <td>0.112847</td>\n",
              "      <td>0.108473</td>\n",
              "      <td>0.108036</td>\n",
              "      <td>0.106287</td>\n",
              "      <td>0.105849</td>\n",
              "      <td>0.111535</td>\n",
              "      <td>0.111535</td>\n",
              "      <td>0.111535</td>\n",
              "      <td>0.110660</td>\n",
              "      <td>0.107161</td>\n",
              "      <td>0.106724</td>\n",
              "      <td>0.107161</td>\n",
              "      <td>0.107161</td>\n",
              "      <td>0.109348</td>\n",
              "      <td>0.109348</td>\n",
              "      <td>0.108911</td>\n",
              "      <td>0.108473</td>\n",
              "      <td>0.115034</td>\n",
              "      <td>0.115034</td>\n",
              "      <td>0.111972</td>\n",
              "      <td>0.111535</td>\n",
              "      <td>0.113722</td>\n",
              "      <td>0.113722</td>\n",
              "      <td>0.115034</td>\n",
              "      <td>0.115034</td>\n",
              "      <td>0.115034</td>\n",
              "      <td>0.114597</td>\n",
              "      <td>0.113284</td>\n",
              "      <td>0.112847</td>\n",
              "      <td>0.112847</td>\n",
              "      <td>0.111972</td>\n",
              "      <td>0.108911</td>\n",
              "      <td>0.108473</td>\n",
              "      <td>0.104974</td>\n",
              "      <td>0.104537</td>\n",
              "      <td>0.099725</td>\n",
              "      <td>0.098851</td>\n",
              "      <td>0.093602</td>\n",
              "      <td>0.093165</td>\n",
              "      <td>0.096664</td>\n",
              "      <td>0.096664</td>\n",
              "      <td>0.100163</td>\n",
              "      <td>0.100163</td>\n",
              "      <td>0.100163</td>\n",
              "      <td>0.100163</td>\n",
              "      <td>0.100600</td>\n",
              "      <td>0.100600</td>\n",
              "      <td>0.096226</td>\n",
              "      <td>0.095352</td>\n",
              "      <td>0.095352</td>\n",
              "      <td>0.095352</td>\n",
              "      <td>0.092728</td>\n",
              "      <td>0.092290</td>\n",
              "      <td>0.091853</td>\n",
              "      <td>0.091415</td>\n",
              "      <td>0.090103</td>\n",
              "      <td>0.089228</td>\n",
              "      <td>0.091415</td>\n",
              "      <td>0.091415</td>\n",
              "    </tr>\n",
              "    <tr>\n",
              "      <th>4</th>\n",
              "      <td>0.107161</td>\n",
              "      <td>0.106724</td>\n",
              "      <td>0.107161</td>\n",
              "      <td>0.107161</td>\n",
              "      <td>0.109348</td>\n",
              "      <td>0.109348</td>\n",
              "      <td>0.108911</td>\n",
              "      <td>0.108473</td>\n",
              "      <td>0.115034</td>\n",
              "      <td>0.115034</td>\n",
              "      <td>0.111972</td>\n",
              "      <td>0.111535</td>\n",
              "      <td>0.113722</td>\n",
              "      <td>0.113722</td>\n",
              "      <td>0.115034</td>\n",
              "      <td>0.115034</td>\n",
              "      <td>0.115034</td>\n",
              "      <td>0.114597</td>\n",
              "      <td>0.113284</td>\n",
              "      <td>0.112847</td>\n",
              "      <td>0.112847</td>\n",
              "      <td>0.111972</td>\n",
              "      <td>0.108911</td>\n",
              "      <td>0.108473</td>\n",
              "      <td>0.104974</td>\n",
              "      <td>0.104537</td>\n",
              "      <td>0.099725</td>\n",
              "      <td>0.098851</td>\n",
              "      <td>0.093602</td>\n",
              "      <td>0.093165</td>\n",
              "      <td>0.096664</td>\n",
              "      <td>0.096664</td>\n",
              "      <td>0.100163</td>\n",
              "      <td>0.100163</td>\n",
              "      <td>0.100163</td>\n",
              "      <td>0.100163</td>\n",
              "      <td>0.100600</td>\n",
              "      <td>0.100600</td>\n",
              "      <td>0.096226</td>\n",
              "      <td>0.095352</td>\n",
              "      <td>0.095352</td>\n",
              "      <td>0.095352</td>\n",
              "      <td>0.092728</td>\n",
              "      <td>0.092290</td>\n",
              "      <td>0.091853</td>\n",
              "      <td>0.091415</td>\n",
              "      <td>0.090103</td>\n",
              "      <td>0.089228</td>\n",
              "      <td>0.091415</td>\n",
              "      <td>0.091415</td>\n",
              "      <td>0.095352</td>\n",
              "      <td>0.095352</td>\n",
              "      <td>0.090103</td>\n",
              "      <td>0.089665</td>\n",
              "      <td>0.085292</td>\n",
              "      <td>0.084854</td>\n",
              "      <td>0.086166</td>\n",
              "      <td>0.086166</td>\n",
              "      <td>0.083979</td>\n",
              "      <td>0.083105</td>\n",
              "    </tr>\n",
              "  </tbody>\n",
              "</table>\n",
              "</div>"
            ],
            "text/plain": [
              "         0         1         2   ...        57        58        59\n",
              "0  0.100600  0.100600  0.095789  ...  0.114597  0.113284  0.112847\n",
              "1  0.098851  0.098851  0.103662  ...  0.098851  0.093602  0.093165\n",
              "2  0.125969  0.125969  0.123345  ...  0.100600  0.096226  0.095352\n",
              "3  0.113284  0.112847  0.108473  ...  0.089228  0.091415  0.091415\n",
              "4  0.107161  0.106724  0.107161  ...  0.086166  0.083979  0.083105\n",
              "\n",
              "[5 rows x 60 columns]"
            ]
          },
          "metadata": {},
          "execution_count": 12
        }
      ]
    },
    {
      "cell_type": "code",
      "metadata": {
        "colab": {
          "base_uri": "https://localhost:8080/",
          "height": 310
        },
        "id": "W6ci3UIjCNPv",
        "outputId": "f774f427-6106-46ef-a393-6f7f30b757d1"
      },
      "source": [
        "data_df.describe()"
      ],
      "execution_count": 13,
      "outputs": [
        {
          "output_type": "execute_result",
          "data": {
            "text/html": [
              "<div>\n",
              "<style scoped>\n",
              "    .dataframe tbody tr th:only-of-type {\n",
              "        vertical-align: middle;\n",
              "    }\n",
              "\n",
              "    .dataframe tbody tr th {\n",
              "        vertical-align: top;\n",
              "    }\n",
              "\n",
              "    .dataframe thead th {\n",
              "        text-align: right;\n",
              "    }\n",
              "</style>\n",
              "<table border=\"1\" class=\"dataframe\">\n",
              "  <thead>\n",
              "    <tr style=\"text-align: right;\">\n",
              "      <th></th>\n",
              "      <th>0</th>\n",
              "      <th>1</th>\n",
              "      <th>2</th>\n",
              "      <th>3</th>\n",
              "      <th>4</th>\n",
              "      <th>5</th>\n",
              "      <th>6</th>\n",
              "      <th>7</th>\n",
              "      <th>8</th>\n",
              "      <th>9</th>\n",
              "      <th>10</th>\n",
              "      <th>11</th>\n",
              "      <th>12</th>\n",
              "      <th>13</th>\n",
              "      <th>14</th>\n",
              "      <th>15</th>\n",
              "      <th>16</th>\n",
              "      <th>17</th>\n",
              "      <th>18</th>\n",
              "      <th>19</th>\n",
              "      <th>20</th>\n",
              "      <th>21</th>\n",
              "      <th>22</th>\n",
              "      <th>23</th>\n",
              "      <th>24</th>\n",
              "      <th>25</th>\n",
              "      <th>26</th>\n",
              "      <th>27</th>\n",
              "      <th>28</th>\n",
              "      <th>29</th>\n",
              "      <th>30</th>\n",
              "      <th>31</th>\n",
              "      <th>32</th>\n",
              "      <th>33</th>\n",
              "      <th>34</th>\n",
              "      <th>35</th>\n",
              "      <th>36</th>\n",
              "      <th>37</th>\n",
              "      <th>38</th>\n",
              "      <th>39</th>\n",
              "      <th>40</th>\n",
              "      <th>41</th>\n",
              "      <th>42</th>\n",
              "      <th>43</th>\n",
              "      <th>44</th>\n",
              "      <th>45</th>\n",
              "      <th>46</th>\n",
              "      <th>47</th>\n",
              "      <th>48</th>\n",
              "      <th>49</th>\n",
              "      <th>50</th>\n",
              "      <th>51</th>\n",
              "      <th>52</th>\n",
              "      <th>53</th>\n",
              "      <th>54</th>\n",
              "      <th>55</th>\n",
              "      <th>56</th>\n",
              "      <th>57</th>\n",
              "      <th>58</th>\n",
              "      <th>59</th>\n",
              "    </tr>\n",
              "  </thead>\n",
              "  <tbody>\n",
              "    <tr>\n",
              "      <th>count</th>\n",
              "      <td>44519.000000</td>\n",
              "      <td>44519.000000</td>\n",
              "      <td>44519.000000</td>\n",
              "      <td>44519.000000</td>\n",
              "      <td>44519.000000</td>\n",
              "      <td>44519.000000</td>\n",
              "      <td>44519.000000</td>\n",
              "      <td>44519.000000</td>\n",
              "      <td>44519.000000</td>\n",
              "      <td>44519.000000</td>\n",
              "      <td>44519.000000</td>\n",
              "      <td>44519.000000</td>\n",
              "      <td>44519.000000</td>\n",
              "      <td>44519.000000</td>\n",
              "      <td>44519.000000</td>\n",
              "      <td>44519.000000</td>\n",
              "      <td>44519.000000</td>\n",
              "      <td>44519.000000</td>\n",
              "      <td>44519.000000</td>\n",
              "      <td>44519.000000</td>\n",
              "      <td>44519.000000</td>\n",
              "      <td>44519.000000</td>\n",
              "      <td>44519.000000</td>\n",
              "      <td>44519.000000</td>\n",
              "      <td>44519.000000</td>\n",
              "      <td>44519.000000</td>\n",
              "      <td>44519.000000</td>\n",
              "      <td>44519.000000</td>\n",
              "      <td>44519.000000</td>\n",
              "      <td>44519.000000</td>\n",
              "      <td>44519.000000</td>\n",
              "      <td>44519.000000</td>\n",
              "      <td>44519.000000</td>\n",
              "      <td>44519.000000</td>\n",
              "      <td>44519.000000</td>\n",
              "      <td>44519.000000</td>\n",
              "      <td>44519.000000</td>\n",
              "      <td>44519.000000</td>\n",
              "      <td>44519.000000</td>\n",
              "      <td>44519.000000</td>\n",
              "      <td>44519.000000</td>\n",
              "      <td>44519.000000</td>\n",
              "      <td>44519.000000</td>\n",
              "      <td>44519.000000</td>\n",
              "      <td>44519.000000</td>\n",
              "      <td>44519.000000</td>\n",
              "      <td>44519.000000</td>\n",
              "      <td>44519.000000</td>\n",
              "      <td>44519.000000</td>\n",
              "      <td>44519.000000</td>\n",
              "      <td>44519.000000</td>\n",
              "      <td>44519.000000</td>\n",
              "      <td>44519.000000</td>\n",
              "      <td>44519.000000</td>\n",
              "      <td>44519.000000</td>\n",
              "      <td>44519.000000</td>\n",
              "      <td>44519.000000</td>\n",
              "      <td>44519.000000</td>\n",
              "      <td>44519.000000</td>\n",
              "      <td>44519.000000</td>\n",
              "    </tr>\n",
              "    <tr>\n",
              "      <th>mean</th>\n",
              "      <td>143.326754</td>\n",
              "      <td>143.556962</td>\n",
              "      <td>143.567953</td>\n",
              "      <td>143.942304</td>\n",
              "      <td>143.998145</td>\n",
              "      <td>143.861114</td>\n",
              "      <td>143.848445</td>\n",
              "      <td>144.661275</td>\n",
              "      <td>144.660656</td>\n",
              "      <td>144.482077</td>\n",
              "      <td>144.468054</td>\n",
              "      <td>144.685298</td>\n",
              "      <td>144.693030</td>\n",
              "      <td>145.035860</td>\n",
              "      <td>145.090002</td>\n",
              "      <td>144.937464</td>\n",
              "      <td>144.924900</td>\n",
              "      <td>145.715903</td>\n",
              "      <td>145.716824</td>\n",
              "      <td>145.572275</td>\n",
              "      <td>145.558567</td>\n",
              "      <td>145.801274</td>\n",
              "      <td>145.809853</td>\n",
              "      <td>146.196381</td>\n",
              "      <td>146.245669</td>\n",
              "      <td>146.132497</td>\n",
              "      <td>146.120825</td>\n",
              "      <td>146.892487</td>\n",
              "      <td>146.894251</td>\n",
              "      <td>146.807375</td>\n",
              "      <td>146.792283</td>\n",
              "      <td>147.018700</td>\n",
              "      <td>147.027329</td>\n",
              "      <td>147.414727</td>\n",
              "      <td>147.463898</td>\n",
              "      <td>147.324769</td>\n",
              "      <td>147.313388</td>\n",
              "      <td>148.160424</td>\n",
              "      <td>148.162613</td>\n",
              "      <td>148.059187</td>\n",
              "      <td>148.044326</td>\n",
              "      <td>148.269282</td>\n",
              "      <td>148.277065</td>\n",
              "      <td>148.642487</td>\n",
              "      <td>148.690170</td>\n",
              "      <td>148.524158</td>\n",
              "      <td>148.512449</td>\n",
              "      <td>149.362952</td>\n",
              "      <td>149.363484</td>\n",
              "      <td>149.303425</td>\n",
              "      <td>149.288806</td>\n",
              "      <td>149.571573</td>\n",
              "      <td>149.578828</td>\n",
              "      <td>149.934253</td>\n",
              "      <td>149.981171</td>\n",
              "      <td>149.825322</td>\n",
              "      <td>149.812850</td>\n",
              "      <td>150.669947</td>\n",
              "      <td>150.671085</td>\n",
              "      <td>150.569703</td>\n",
              "    </tr>\n",
              "    <tr>\n",
              "      <th>std</th>\n",
              "      <td>1561.360280</td>\n",
              "      <td>1561.263573</td>\n",
              "      <td>1561.635344</td>\n",
              "      <td>1565.206277</td>\n",
              "      <td>1566.596872</td>\n",
              "      <td>1561.499029</td>\n",
              "      <td>1561.208231</td>\n",
              "      <td>1582.395527</td>\n",
              "      <td>1582.534877</td>\n",
              "      <td>1574.367076</td>\n",
              "      <td>1574.156424</td>\n",
              "      <td>1573.720086</td>\n",
              "      <td>1573.991595</td>\n",
              "      <td>1576.678398</td>\n",
              "      <td>1578.020134</td>\n",
              "      <td>1572.562021</td>\n",
              "      <td>1572.261499</td>\n",
              "      <td>1592.746377</td>\n",
              "      <td>1592.916942</td>\n",
              "      <td>1585.644770</td>\n",
              "      <td>1585.434351</td>\n",
              "      <td>1585.641479</td>\n",
              "      <td>1585.910080</td>\n",
              "      <td>1589.726496</td>\n",
              "      <td>1591.055508</td>\n",
              "      <td>1586.705169</td>\n",
              "      <td>1586.420443</td>\n",
              "      <td>1606.242895</td>\n",
              "      <td>1606.409939</td>\n",
              "      <td>1600.822191</td>\n",
              "      <td>1600.559579</td>\n",
              "      <td>1600.316439</td>\n",
              "      <td>1600.591251</td>\n",
              "      <td>1604.369356</td>\n",
              "      <td>1605.675710</td>\n",
              "      <td>1600.641377</td>\n",
              "      <td>1600.366177</td>\n",
              "      <td>1622.153693</td>\n",
              "      <td>1622.330666</td>\n",
              "      <td>1616.327653</td>\n",
              "      <td>1616.067859</td>\n",
              "      <td>1615.793432</td>\n",
              "      <td>1616.047433</td>\n",
              "      <td>1619.137335</td>\n",
              "      <td>1620.388564</td>\n",
              "      <td>1614.620843</td>\n",
              "      <td>1614.342279</td>\n",
              "      <td>1636.013879</td>\n",
              "      <td>1636.152224</td>\n",
              "      <td>1631.438623</td>\n",
              "      <td>1631.184825</td>\n",
              "      <td>1632.635855</td>\n",
              "      <td>1632.878701</td>\n",
              "      <td>1635.652773</td>\n",
              "      <td>1636.867376</td>\n",
              "      <td>1631.463530</td>\n",
              "      <td>1631.167523</td>\n",
              "      <td>1652.789908</td>\n",
              "      <td>1652.938185</td>\n",
              "      <td>1647.046436</td>\n",
              "    </tr>\n",
              "    <tr>\n",
              "      <th>min</th>\n",
              "      <td>0.000000</td>\n",
              "      <td>0.008925</td>\n",
              "      <td>0.000000</td>\n",
              "      <td>0.009762</td>\n",
              "      <td>0.000000</td>\n",
              "      <td>0.009762</td>\n",
              "      <td>0.000000</td>\n",
              "      <td>0.009343</td>\n",
              "      <td>0.000000</td>\n",
              "      <td>0.008925</td>\n",
              "      <td>0.000000</td>\n",
              "      <td>0.008925</td>\n",
              "      <td>0.000000</td>\n",
              "      <td>0.009762</td>\n",
              "      <td>0.000000</td>\n",
              "      <td>0.009762</td>\n",
              "      <td>0.000000</td>\n",
              "      <td>0.009343</td>\n",
              "      <td>0.000000</td>\n",
              "      <td>0.008925</td>\n",
              "      <td>0.000000</td>\n",
              "      <td>0.008925</td>\n",
              "      <td>0.000000</td>\n",
              "      <td>0.009762</td>\n",
              "      <td>0.000000</td>\n",
              "      <td>0.009762</td>\n",
              "      <td>0.000000</td>\n",
              "      <td>0.009343</td>\n",
              "      <td>0.000000</td>\n",
              "      <td>0.008925</td>\n",
              "      <td>0.000000</td>\n",
              "      <td>0.008925</td>\n",
              "      <td>0.000000</td>\n",
              "      <td>0.009762</td>\n",
              "      <td>0.000000</td>\n",
              "      <td>0.009762</td>\n",
              "      <td>0.000000</td>\n",
              "      <td>0.009343</td>\n",
              "      <td>0.000000</td>\n",
              "      <td>0.008925</td>\n",
              "      <td>0.000000</td>\n",
              "      <td>0.008925</td>\n",
              "      <td>0.000000</td>\n",
              "      <td>0.009762</td>\n",
              "      <td>0.000000</td>\n",
              "      <td>0.009762</td>\n",
              "      <td>0.000000</td>\n",
              "      <td>0.009343</td>\n",
              "      <td>0.000000</td>\n",
              "      <td>0.008925</td>\n",
              "      <td>0.000000</td>\n",
              "      <td>0.008925</td>\n",
              "      <td>0.000000</td>\n",
              "      <td>0.009762</td>\n",
              "      <td>0.000000</td>\n",
              "      <td>0.009762</td>\n",
              "      <td>0.000000</td>\n",
              "      <td>0.009343</td>\n",
              "      <td>0.000000</td>\n",
              "      <td>0.008925</td>\n",
              "    </tr>\n",
              "    <tr>\n",
              "      <th>25%</th>\n",
              "      <td>2.334530</td>\n",
              "      <td>2.350912</td>\n",
              "      <td>2.338380</td>\n",
              "      <td>2.351323</td>\n",
              "      <td>2.339026</td>\n",
              "      <td>2.353353</td>\n",
              "      <td>2.338582</td>\n",
              "      <td>2.354526</td>\n",
              "      <td>2.336502</td>\n",
              "      <td>2.352322</td>\n",
              "      <td>2.341209</td>\n",
              "      <td>2.356086</td>\n",
              "      <td>2.344389</td>\n",
              "      <td>2.357088</td>\n",
              "      <td>2.345494</td>\n",
              "      <td>2.367255</td>\n",
              "      <td>2.345415</td>\n",
              "      <td>2.364257</td>\n",
              "      <td>2.342610</td>\n",
              "      <td>2.361993</td>\n",
              "      <td>2.348264</td>\n",
              "      <td>2.363112</td>\n",
              "      <td>2.350473</td>\n",
              "      <td>2.365337</td>\n",
              "      <td>2.354773</td>\n",
              "      <td>2.374587</td>\n",
              "      <td>2.354480</td>\n",
              "      <td>2.371607</td>\n",
              "      <td>2.355491</td>\n",
              "      <td>2.369767</td>\n",
              "      <td>2.354227</td>\n",
              "      <td>2.370727</td>\n",
              "      <td>2.354808</td>\n",
              "      <td>2.374772</td>\n",
              "      <td>2.361858</td>\n",
              "      <td>2.381872</td>\n",
              "      <td>2.364218</td>\n",
              "      <td>2.381428</td>\n",
              "      <td>2.361766</td>\n",
              "      <td>2.377781</td>\n",
              "      <td>2.362320</td>\n",
              "      <td>2.376927</td>\n",
              "      <td>2.363540</td>\n",
              "      <td>2.380481</td>\n",
              "      <td>2.366353</td>\n",
              "      <td>2.390439</td>\n",
              "      <td>2.372736</td>\n",
              "      <td>2.389261</td>\n",
              "      <td>2.372945</td>\n",
              "      <td>2.386641</td>\n",
              "      <td>2.371493</td>\n",
              "      <td>2.386278</td>\n",
              "      <td>2.371212</td>\n",
              "      <td>2.388479</td>\n",
              "      <td>2.376051</td>\n",
              "      <td>2.399190</td>\n",
              "      <td>2.383370</td>\n",
              "      <td>2.395535</td>\n",
              "      <td>2.379120</td>\n",
              "      <td>2.395716</td>\n",
              "    </tr>\n",
              "    <tr>\n",
              "      <th>50%</th>\n",
              "      <td>13.873389</td>\n",
              "      <td>13.862838</td>\n",
              "      <td>13.846232</td>\n",
              "      <td>13.806182</td>\n",
              "      <td>13.845951</td>\n",
              "      <td>13.874209</td>\n",
              "      <td>13.861861</td>\n",
              "      <td>13.863469</td>\n",
              "      <td>13.881424</td>\n",
              "      <td>13.884635</td>\n",
              "      <td>13.901965</td>\n",
              "      <td>13.904846</td>\n",
              "      <td>13.884625</td>\n",
              "      <td>13.860000</td>\n",
              "      <td>13.878150</td>\n",
              "      <td>13.910000</td>\n",
              "      <td>13.894620</td>\n",
              "      <td>13.883585</td>\n",
              "      <td>13.905629</td>\n",
              "      <td>13.911323</td>\n",
              "      <td>13.930000</td>\n",
              "      <td>13.949349</td>\n",
              "      <td>13.917448</td>\n",
              "      <td>13.891825</td>\n",
              "      <td>13.909185</td>\n",
              "      <td>13.953528</td>\n",
              "      <td>13.942241</td>\n",
              "      <td>13.915284</td>\n",
              "      <td>13.937500</td>\n",
              "      <td>13.950000</td>\n",
              "      <td>13.972192</td>\n",
              "      <td>13.983660</td>\n",
              "      <td>13.974025</td>\n",
              "      <td>13.930000</td>\n",
              "      <td>13.954012</td>\n",
              "      <td>13.985452</td>\n",
              "      <td>13.976659</td>\n",
              "      <td>13.951267</td>\n",
              "      <td>13.983426</td>\n",
              "      <td>13.983271</td>\n",
              "      <td>14.011193</td>\n",
              "      <td>14.028831</td>\n",
              "      <td>14.007610</td>\n",
              "      <td>13.985303</td>\n",
              "      <td>13.994852</td>\n",
              "      <td>14.012940</td>\n",
              "      <td>13.998434</td>\n",
              "      <td>13.990123</td>\n",
              "      <td>14.019964</td>\n",
              "      <td>14.011902</td>\n",
              "      <td>14.034861</td>\n",
              "      <td>14.070749</td>\n",
              "      <td>14.050000</td>\n",
              "      <td>14.034338</td>\n",
              "      <td>14.035334</td>\n",
              "      <td>14.046103</td>\n",
              "      <td>14.029787</td>\n",
              "      <td>14.025319</td>\n",
              "      <td>14.062950</td>\n",
              "      <td>14.037113</td>\n",
              "    </tr>\n",
              "    <tr>\n",
              "      <th>75%</th>\n",
              "      <td>39.500000</td>\n",
              "      <td>39.501873</td>\n",
              "      <td>39.509166</td>\n",
              "      <td>39.510733</td>\n",
              "      <td>39.520974</td>\n",
              "      <td>39.512060</td>\n",
              "      <td>39.522678</td>\n",
              "      <td>39.556742</td>\n",
              "      <td>39.564292</td>\n",
              "      <td>39.600275</td>\n",
              "      <td>39.575775</td>\n",
              "      <td>39.590862</td>\n",
              "      <td>39.592392</td>\n",
              "      <td>39.638565</td>\n",
              "      <td>39.588183</td>\n",
              "      <td>39.606850</td>\n",
              "      <td>39.589931</td>\n",
              "      <td>39.613039</td>\n",
              "      <td>39.627126</td>\n",
              "      <td>39.688128</td>\n",
              "      <td>39.650084</td>\n",
              "      <td>39.674967</td>\n",
              "      <td>39.674971</td>\n",
              "      <td>39.743093</td>\n",
              "      <td>39.650168</td>\n",
              "      <td>39.679392</td>\n",
              "      <td>39.669662</td>\n",
              "      <td>39.710138</td>\n",
              "      <td>39.701791</td>\n",
              "      <td>39.739588</td>\n",
              "      <td>39.746257</td>\n",
              "      <td>39.750807</td>\n",
              "      <td>39.741079</td>\n",
              "      <td>39.816566</td>\n",
              "      <td>39.774366</td>\n",
              "      <td>39.758804</td>\n",
              "      <td>39.771185</td>\n",
              "      <td>39.761845</td>\n",
              "      <td>39.767293</td>\n",
              "      <td>39.829519</td>\n",
              "      <td>39.849941</td>\n",
              "      <td>39.853748</td>\n",
              "      <td>39.830334</td>\n",
              "      <td>39.886009</td>\n",
              "      <td>39.837312</td>\n",
              "      <td>39.832453</td>\n",
              "      <td>39.878108</td>\n",
              "      <td>39.876333</td>\n",
              "      <td>39.844524</td>\n",
              "      <td>39.890995</td>\n",
              "      <td>39.923560</td>\n",
              "      <td>39.959169</td>\n",
              "      <td>39.953035</td>\n",
              "      <td>39.972689</td>\n",
              "      <td>39.949264</td>\n",
              "      <td>39.906942</td>\n",
              "      <td>39.975337</td>\n",
              "      <td>39.970890</td>\n",
              "      <td>39.929771</td>\n",
              "      <td>39.978300</td>\n",
              "    </tr>\n",
              "    <tr>\n",
              "      <th>max</th>\n",
              "      <td>61529.921875</td>\n",
              "      <td>61243.085938</td>\n",
              "      <td>61221.132812</td>\n",
              "      <td>63503.457031</td>\n",
              "      <td>63523.753906</td>\n",
              "      <td>63109.695312</td>\n",
              "      <td>63075.195312</td>\n",
              "      <td>63314.011719</td>\n",
              "      <td>63258.503906</td>\n",
              "      <td>61572.789062</td>\n",
              "      <td>61529.921875</td>\n",
              "      <td>61243.085938</td>\n",
              "      <td>61221.132812</td>\n",
              "      <td>63503.457031</td>\n",
              "      <td>63523.753906</td>\n",
              "      <td>63109.695312</td>\n",
              "      <td>63075.195312</td>\n",
              "      <td>63314.011719</td>\n",
              "      <td>63258.503906</td>\n",
              "      <td>61572.789062</td>\n",
              "      <td>61529.921875</td>\n",
              "      <td>61243.085938</td>\n",
              "      <td>61221.132812</td>\n",
              "      <td>63503.457031</td>\n",
              "      <td>63523.753906</td>\n",
              "      <td>63109.695312</td>\n",
              "      <td>63075.195312</td>\n",
              "      <td>63314.011719</td>\n",
              "      <td>63258.503906</td>\n",
              "      <td>61572.789062</td>\n",
              "      <td>61529.921875</td>\n",
              "      <td>61243.085938</td>\n",
              "      <td>61221.132812</td>\n",
              "      <td>63503.457031</td>\n",
              "      <td>63523.753906</td>\n",
              "      <td>63109.695312</td>\n",
              "      <td>63075.195312</td>\n",
              "      <td>63314.011719</td>\n",
              "      <td>63258.503906</td>\n",
              "      <td>61572.789062</td>\n",
              "      <td>61529.921875</td>\n",
              "      <td>61243.085938</td>\n",
              "      <td>61221.132812</td>\n",
              "      <td>63503.457031</td>\n",
              "      <td>63523.753906</td>\n",
              "      <td>63109.695312</td>\n",
              "      <td>63075.195312</td>\n",
              "      <td>63314.011719</td>\n",
              "      <td>63258.503906</td>\n",
              "      <td>61572.789062</td>\n",
              "      <td>61529.921875</td>\n",
              "      <td>61243.085938</td>\n",
              "      <td>61221.132812</td>\n",
              "      <td>63503.457031</td>\n",
              "      <td>63523.753906</td>\n",
              "      <td>63109.695312</td>\n",
              "      <td>63075.195312</td>\n",
              "      <td>63314.011719</td>\n",
              "      <td>63258.503906</td>\n",
              "      <td>61572.789062</td>\n",
              "    </tr>\n",
              "  </tbody>\n",
              "</table>\n",
              "</div>"
            ],
            "text/plain": [
              "                 0             1   ...            58            59\n",
              "count  44519.000000  44519.000000  ...  44519.000000  44519.000000\n",
              "mean     143.326754    143.556962  ...    150.671085    150.569703\n",
              "std     1561.360280   1561.263573  ...   1652.938185   1647.046436\n",
              "min        0.000000      0.008925  ...      0.000000      0.008925\n",
              "25%        2.334530      2.350912  ...      2.379120      2.395716\n",
              "50%       13.873389     13.862838  ...     14.062950     14.037113\n",
              "75%       39.500000     39.501873  ...     39.929771     39.978300\n",
              "max    61529.921875  61243.085938  ...  63258.503906  61572.789062\n",
              "\n",
              "[8 rows x 60 columns]"
            ]
          },
          "metadata": {},
          "execution_count": 13
        }
      ]
    },
    {
      "cell_type": "markdown",
      "metadata": {
        "id": "t5IdKSsxBO1H"
      },
      "source": [
        "### 4. Normalize these sequences to a range (0, 1).\n"
      ]
    },
    {
      "cell_type": "code",
      "metadata": {
        "id": "qoi5Czkuyr9C"
      },
      "source": [
        "# 4. Normalize these sequences to a range (0, 1).\n",
        "from sklearn import preprocessing \n",
        "# https://www.journaldev.com/45109/normalize-data-in-python\n",
        "# Normalizes the sample\n",
        "data_normalized = preprocessing.normalize(data_df)\n",
        "data_normalized_df = pd.DataFrame(data_normalized)\n",
        "data_normalized_df.to_csv(f\"all_assets_sequences_lag{lag+1}_normalized.csv\")"
      ],
      "execution_count": 14,
      "outputs": []
    },
    {
      "cell_type": "markdown",
      "metadata": {
        "id": "Ur_S8-Dk7yX-"
      },
      "source": [
        "### 5. Clustering algorithm. \n"
      ]
    },
    {
      "cell_type": "markdown",
      "metadata": {
        "id": "E1Be3yIbFqbi"
      },
      "source": [
        "#### k-means clustering"
      ]
    },
    {
      "cell_type": "code",
      "metadata": {
        "id": "CZLxTLr6GcBt"
      },
      "source": [
        "# 5. Clustering algorithm. \n",
        "# K Means\n",
        "\n",
        "# K-Means Clustering\n",
        "\n",
        "# One of the most commonly used methods of clustering is K-means Clustering \n",
        "# K Means allows us to define the required number of clusters\n",
        "# Now we first start by taking an arbitrary number of k. Let’s say we take k=3 \n",
        "# Now to form three groups from the set of data\n",
        "# Algorithm chooses three random points as the centroid \n",
        "# It also computes Euclidean distances from the centroid to all other data points\n",
        "# The algorithm after measuring the distances of all the data points \n",
        "# from the centroid associates each data point with a centroid based on its proximity\n",
        "\n",
        "# Silhouette Score\n",
        "# Clusters are well apart from each other as the silhouette score is closer to 1\n",
        "# Silhouette Coefficient score is a metric used to calculate the goodness of a clustering technique \n",
        "# Its value ranges from -1 to 1.\n",
        "# 1: Means clusters are well apart from each other and clearly distinguished.\n",
        "# 0: Means clusters are indifferent, or we can say that the distance between clusters is not significant.\n",
        "# -1: Means clusters are assigned in the wrong way.\n",
        "\n",
        "# Deciding Value of K\n",
        "# The most crucial aspect of K-Means clustering is deciding the value of K\n",
        "# We do this by performing Elbow Analysis \n",
        "\n",
        "# Library\n",
        "from sklearn.cluster import KMeans\n",
        "from sklearn.metrics import silhouette_score\n",
        "import matplotlib.pyplot as plt"
      ],
      "execution_count": 26,
      "outputs": []
    },
    {
      "cell_type": "code",
      "metadata": {
        "id": "7VlMi0yZyr0n",
        "colab": {
          "base_uri": "https://localhost:8080/"
        },
        "outputId": "f9440f66-84c7-47ca-b590-14bfef47fde1"
      },
      "source": [
        "\n",
        "wcss=[]\n",
        "for i in range(1, 11):\n",
        "    kmeans = KMeans(n_clusters = i, init = 'k-means++', max_iter = 300,\n",
        "                    n_init = 10, random_state = 0)\n",
        "    kmeans.fit(data_normalized)\n",
        "    print(f\"Inertia for clusters = {i}: {kmeans.inertia_}\")\n",
        "    wcss.append(kmeans.inertia_)\n",
        "\n",
        "print('Within Cluster Sum of Square (WCSS) for 10 Clusters')\n",
        "\n",
        "# Inference : \n",
        "# Cluster 1 means only one cluster, inshort variance of the dataset\n",
        "# Variance in Cluster 1 = 1515\n",
        "# Cluster 2 means two cluster i.e, Variance in Cluster 2 = 104\n",
        "# Same way for Variance in Cluster 3 = 79\n",
        "# Vairance in Cluster is also knows as Within Cluster Sum of Square (WCSS)\n",
        "# Normally as we increase number of clusters, within Sum of Square will decrease "
      ],
      "execution_count": 20,
      "outputs": [
        {
          "output_type": "stream",
          "name": "stdout",
          "text": [
            "Inertia for clusters = 1: 1515.044273595585\n",
            "Inertia for clusters = 2: 104.88214872385694\n",
            "Inertia for clusters = 3: 79.4871242290849\n",
            "Inertia for clusters = 4: 69.00996510116616\n",
            "Inertia for clusters = 5: 63.400644946306976\n",
            "Inertia for clusters = 6: 59.7607321687586\n",
            "Inertia for clusters = 7: 56.38934693098034\n",
            "Inertia for clusters = 8: 53.92187064141196\n",
            "Inertia for clusters = 9: 51.900027158181\n",
            "Inertia for clusters = 10: 50.290825053026715\n",
            "Within Cluster Sum of Square (WCSS) for 10 Clusters\n"
          ]
        }
      ]
    },
    {
      "cell_type": "code",
      "metadata": {
        "colab": {
          "base_uri": "https://localhost:8080/",
          "height": 311
        },
        "id": "waK-0qDRF1z7",
        "outputId": "72c836c4-d42f-4bcb-e68d-175cc2f1674c"
      },
      "source": [
        "# We now plot the WCSS obtained \n",
        "\n",
        "# WCSS or within-cluster sum of squares is a measure of \n",
        "# how internally coherent the clusters are K-Means tries to minimize this criterion\n",
        "\n",
        "plt.plot(range(1, 11), wcss)\n",
        "plt.title('The elbow method')\n",
        "plt.xlabel('Number of clusters')\n",
        "plt.ylabel('WCSS')\n",
        "\n",
        "# Inference : \n",
        "# In the elbow graph, we look for the points where the drop falls and the line smoothens out\n",
        "# In the above graph, this happens for k=2. \n",
        "# Another way of understanding this is that we note the point at which the WCSS is less \n",
        "# and try to find the number of clusters for our dataset. \n",
        "# We see that at the number of clusters = 2, WCSS is less than 100, which is good for us. \n",
        "# So we take k =2.\n",
        "# We will check Silhouette Coefficient also for 2 and 3 Clusters respectively"
      ],
      "execution_count": 14,
      "outputs": [
        {
          "output_type": "execute_result",
          "data": {
            "text/plain": [
              "Text(0, 0.5, 'WCSS')"
            ]
          },
          "metadata": {},
          "execution_count": 14
        },
        {
          "output_type": "display_data",
          "data": {
            "image/png": "[encoded data removed]",
            "text/plain": [
              "<Figure size 432x288 with 1 Axes>"
            ]
          },
          "metadata": {
            "needs_background": "light"
          }
        }
      ]
    },
    {
      "cell_type": "code",
      "metadata": {
        "colab": {
          "base_uri": "https://localhost:8080/"
        },
        "id": "tAPxJ-hZGW68",
        "outputId": "88fb04a9-b386-49b6-c726-a4e4f3fe5c1b"
      },
      "source": [
        "# Running K-Means Model\n",
        "\n",
        "# We now run K-Means clustering for obtaining a 2 cluster solution.\n",
        "cluster_Kmeans = KMeans(n_clusters=2)\n",
        "model_kmeans = cluster_Kmeans.fit(data_normalized)\n",
        "pred_kmeans = model_kmeans.labels_\n",
        "# print(pred_kmeans)\n",
        "\n",
        "# Frequency count of the Output clusters\n",
        "unique, counts = np.unique(pred_kmeans, return_counts=True)\n",
        "dict(zip(unique, counts))"
      ],
      "execution_count": 15,
      "outputs": [
        {
          "output_type": "execute_result",
          "data": {
            "text/plain": [
              "{0: 41939, 1: 2580}"
            ]
          },
          "metadata": {},
          "execution_count": 15
        }
      ]
    },
    {
      "cell_type": "code",
      "metadata": {
        "colab": {
          "base_uri": "https://localhost:8080/"
        },
        "id": "g7P-7WdFHKyD",
        "outputId": "44bd8fd0-9a83-470b-a952-fa549b875008"
      },
      "source": [
        "# Frequency count of the Output clusters\n",
        "unique, counts = np.unique(pred_kmeans, return_counts=True)\n",
        "print('K Means Output Cluster Frequency')\n",
        "print(dict(zip(unique, counts)))\n",
        "# Silhouette Score\n",
        "print('Silhouette Score for 2 Clusters')\n",
        "print(silhouette_score(data_normalized,pred_kmeans))\n",
        "print(\"\\n\")\n",
        "\n",
        "# In the above output we got value labels: ‘0’, ‘1’\n",
        "\n",
        "# Inference :   \n",
        "# Silhouette Score = 0.91 which is great (should be tend to 1)"
      ],
      "execution_count": 16,
      "outputs": [
        {
          "output_type": "stream",
          "name": "stdout",
          "text": [
            "K Means Output Cluster Frequency\n",
            "{0: 41939, 1: 2580}\n",
            "Silhouette Score for 2 Clusters\n",
            "0.9263668833516382\n",
            "\n",
            "\n"
          ]
        }
      ]
    },
    {
      "cell_type": "code",
      "metadata": {
        "colab": {
          "base_uri": "https://localhost:8080/"
        },
        "id": "M5trhgeeHdwk",
        "outputId": "19eea4e4-efe8-4868-b022-0c36891ee338"
      },
      "source": [
        "# If we take 4 Cluster to Check Silhouetter Score\n",
        "cluster_Kmeans = KMeans(n_clusters=3)\n",
        "model_kmeans = cluster_Kmeans.fit(data_normalized)\n",
        "labels_1 = model_kmeans.labels_\n",
        "print(\"Silhouette Score for 3 Cluster\")\n",
        "print(silhouette_score(data_normalized,labels_1))\n",
        "\n",
        "# Inference : \n",
        "# As we can observe Score is 0.29 (decrease so reject 3 Cluster)\n",
        "# Optimal number of cluster=2 as its silhouette score is greater than that of 3 clusters"
      ],
      "execution_count": 27,
      "outputs": [
        {
          "output_type": "stream",
          "name": "stdout",
          "text": [
            "Silhouette Score for 3 Cluster\n",
            "0.29355198034137153\n"
          ]
        }
      ]
    },
    {
      "cell_type": "markdown",
      "metadata": {
        "id": "YMFr8HnOLWz5"
      },
      "source": [
        "#### Hierarchial Clustering"
      ]
    },
    {
      "cell_type": "code",
      "metadata": {
        "id": "qH5JUeFzLFbj"
      },
      "source": [
        "# Hierarchical Clustering \n",
        "\n",
        "# Agglomerative Clustering which is a method of clustering \n",
        "# which builds a hierarchy of clusters by merging together small clusters\n",
        "\n",
        "# Silhouette Score\n",
        "# Clusters are well apart from each other as the silhouette score is closer to 1\n",
        "# Silhouette Coefficient score is a metric used to calculate the goodness of a clustering technique \n",
        "# Its value ranges from -1 to 1.\n",
        "# 1: Means clusters are well apart from each other and clearly distinguished.\n",
        "# 0: Means clusters are indifferent, or we can say that the distance between clusters is not significant.\n",
        "# -1: Means clusters are assigned in the wrong way.\n",
        "\n",
        "# Importing Libraries\n",
        "\n",
        "from sklearn.cluster import AgglomerativeClustering\n",
        "from sklearn.metrics import silhouette_score\n"
      ],
      "execution_count": 21,
      "outputs": []
    },
    {
      "cell_type": "code",
      "metadata": {
        "id": "PV-80u_YLtq_"
      },
      "source": [
        "# Plotting of Dendrogram\n",
        "\n",
        "# We make use of dendrogram to decide the number of clusters required for our dataset\n",
        "# A dendrogram is a tree diagram which illustrates the arrangement of clusters.\n",
        "import scipy.cluster.hierarchy as sch\n",
        "import os\n",
        "# We finally plot a Dendrogram \n",
        "# which helps us in deciding what the threshold values should be for the clustering algorithm\n",
        "# Basically, we decide the number of clusters by using this dendrogram.\n",
        "path = f\"plots-similarity\"\n",
        "if not os.path.exists(path):\n",
        "    # https://appdividend.com/2021/07/03/how-to-create-directory-if-not-exist-in-python/\n",
        "    # Create a new directory\n",
        "    os.makedirs(path)\n",
        "    print(f\"{path} directory is created\")\n",
        "Z = sch.linkage(data_normalized, method = 'median')\n",
        "plt.figure(figsize=(20,7))\n",
        "den = sch.dendrogram(Z)\n",
        "plt.title('Dendrogram for the clustering of the data')\n",
        "plt.xlabel('Type')\n",
        "plt.ylabel('Euclidean distance in the space with other variables')\n",
        "plt.savefig(f\"{path}/Dendrogram for the clustering of the data (median).pdf\", dpi = 150)\n",
        "plt.show()"
      ],
      "execution_count": null,
      "outputs": []
    },
    {
      "cell_type": "code",
      "metadata": {
        "id": "OvHsqqeWPZfl"
      },
      "source": [
        "# Single Linkage - Nearest Point\n",
        "\n",
        "Z = sch.linkage(data_normalized, method = 'single')\n",
        "plt.figure(figsize=(20,7))\n",
        "den = sch.dendrogram(Z)\n",
        "plt.title('Dendrogram for the clustering of the data')\n",
        "plt.xlabel('Type')\n",
        "plt.ylabel('Euclidean distance in the space with other variables')\n",
        "plt.savefig(f\"{path}/Dendrogram for the clustering of the data (single linkage - nearest point).pdf\", dpi = 150)\n",
        "plt.show()"
      ],
      "execution_count": null,
      "outputs": []
    },
    {
      "cell_type": "code",
      "metadata": {
        "id": "A4pITkRoPhb_"
      },
      "source": [
        "# Complete Linkage - Farthest Point \n",
        "\n",
        "Z = sch.linkage(iris_X_1, method = 'complete')\n",
        "plt.figure(figsize=(20,7))\n",
        "den = sch.dendrogram(Z)\n",
        "plt.title('Dendrogram for the clustering of the dataset iris)')\n",
        "plt.xlabel('Type')\n",
        "plt.ylabel('Euclidean distance in the space with other variables')\n",
        "plt.savefig(f\"{path}/Dendrogram for the clustering of the data (complete linkage - farthest point).pdf\", dpi = 150)\n",
        "plt.show()"
      ],
      "execution_count": null,
      "outputs": []
    },
    {
      "cell_type": "code",
      "metadata": {
        "id": "HxOFuf5zQubY"
      },
      "source": [
        "# Average Linkage - Average Distance between all points\n",
        "\n",
        "Z = sch.linkage(iris_X_1, method = 'average')\n",
        "plt.figure(figsize=(20,7))\n",
        "den = sch.dendrogram(Z)\n",
        "plt.title('Dendrogram for the clustering of the dataset iris)')\n",
        "plt.xlabel('Type')\n",
        "plt.ylabel('Euclidean distance in the space with other variables')\n",
        "plt.savefig(f\"{path}/Dendrogram for the clustering of the data (average linkage).pdf\", dpi = 150)\n",
        "plt.show()"
      ],
      "execution_count": null,
      "outputs": []
    },
    {
      "cell_type": "code",
      "metadata": {
        "colab": {
          "base_uri": "https://localhost:8080/"
        },
        "id": "2zj9ZC0tQ9OB",
        "outputId": "6d8a148a-0137-46c1-ee9d-9ae493138d13"
      },
      "source": [
        "# Building an Agglomerative Clustering Model\n",
        "# Initialise Model\n",
        "# We analyse the above-created dendrogram \n",
        "# decide that we will be making 2 clusters for this data\n",
        "\n",
        "cluster_H = AgglomerativeClustering(n_clusters=2)\n",
        "cluster_H"
      ],
      "execution_count": 22,
      "outputs": [
        {
          "output_type": "execute_result",
          "data": {
            "text/plain": [
              "AgglomerativeClustering(affinity='euclidean', compute_full_tree='auto',\n",
              "                        connectivity=None, distance_threshold=None,\n",
              "                        linkage='ward', memory=None, n_clusters=2)"
            ]
          },
          "metadata": {},
          "execution_count": 22
        }
      ]
    },
    {
      "cell_type": "code",
      "metadata": {
        "id": "9MHBIWsSRC2y"
      },
      "source": [
        "# Fitting Model\n",
        "# After building Agglomerative clustering, we will fit our data \n",
        "# Note that only the independent variables from the data \n",
        "# are taken into account for the purpose of clustering\n",
        "\n",
        "model_clt = cluster_H.fit(data_normalized)\n",
        "model_clt"
      ],
      "execution_count": null,
      "outputs": []
    },
    {
      "cell_type": "code",
      "metadata": {
        "id": "xeK_wKw9RKCx"
      },
      "source": [
        "# Predicting Output Class\n",
        "\n",
        "print('Output Clusters are')\n",
        "pred1 = model_clt.labels_\n",
        "print(pred1)\n",
        "# Frequency count of the Output clusters\n",
        "unique, counts = np.unique(pred1, return_counts=True)\n",
        "print(dict(zip(unique, counts)))"
      ],
      "execution_count": null,
      "outputs": []
    },
    {
      "cell_type": "code",
      "metadata": {
        "id": "n6BZvGrqRO9-"
      },
      "source": [
        "print('Hierarchical Clustering Output Cluster')\n",
        "print(dict(zip(unique, counts)))\n",
        "# Silhouette Score\n",
        "print('Silhouette Score for 2 Clusters')\n",
        "print(silhouette_score(data_normalized,pred1))\n",
        "print('\\n')\n",
        "\n"
      ],
      "execution_count": null,
      "outputs": []
    },
    {
      "cell_type": "markdown",
      "metadata": {
        "id": "dF-OVlo1SuLp"
      },
      "source": [
        "#### DBSCAN Clustering"
      ]
    },
    {
      "cell_type": "code",
      "metadata": {
        "id": "e5KtfrQDStDP"
      },
      "source": [
        "# DBSCAN\n",
        "\n",
        "# Density-based spatial clustering of applications with noise, or DBSCAN \n",
        "# It is a popular clustering algorithm used as a replacement for k-means clustering\n",
        "# To run it doesn’t require an input for the number of clusters \n",
        "# But DBSCAN does need to tune two other parameters\n",
        "# 'eps' parameter is the maximum distance between two data points \n",
        "# to be considered in the same neighborhood. \n",
        "# 'min_samples' parameter is the minimum amount of data points \n",
        "# in a neighborhood to be considered a cluster\n",
        "\n",
        "# Silhouette Score\n",
        "# Clusters are well apart from each other as the silhouette score is closer to 1\n",
        "# Silhouette Coefficient score is a metric used to calculate the goodness of a clustering technique \n",
        "# Its value ranges from -1 to 1.\n",
        "# 1: Means clusters are well apart from each other and clearly distinguished.\n",
        "# 0: Means clusters are indifferent, or we can say that the distance between clusters is not significant.\n",
        "# -1: Means clusters are assigned in the wrong way.\n",
        "\n",
        "from sklearn.cluster import DBSCAN"
      ],
      "execution_count": 6,
      "outputs": []
    },
    {
      "cell_type": "code",
      "metadata": {
        "colab": {
          "base_uri": "https://localhost:8080/"
        },
        "id": "wvw7DhVNS-yQ",
        "outputId": "833697e4-839a-4b6f-c1aa-058c2b1016d2"
      },
      "source": [
        "# DBSCAN Clustering\n",
        "\n",
        "# Declaring Model\n",
        "clt_DB = DBSCAN()\n",
        "\n",
        "# By Default Parameters in dbscan\n",
        "clt_DB\n",
        "\n",
        "# Inference :\n",
        "# By Default \n",
        "# eps = 0.5, if we increase this size of cluster will increase\n",
        "# distance metric = euclidean\n",
        "# min_samples = 5"
      ],
      "execution_count": 7,
      "outputs": [
        {
          "output_type": "execute_result",
          "data": {
            "text/plain": [
              "DBSCAN(algorithm='auto', eps=0.5, leaf_size=30, metric='euclidean',\n",
              "       metric_params=None, min_samples=5, n_jobs=None, p=None)"
            ]
          },
          "metadata": {},
          "execution_count": 7
        }
      ]
    },
    {
      "cell_type": "code",
      "metadata": {
        "id": "MujPpSykT1Oi"
      },
      "source": [
        "# Fitting the model\n",
        "model_dbscan = clt_DB.fit(data_normalized)\n",
        "pred_dbscan = model_dbscan.labels_\n",
        "print(\"DBScan Output Cluster v1\")\n",
        "# print(pred_dbscan)\n"
      ],
      "execution_count": null,
      "outputs": []
    },
    {
      "cell_type": "code",
      "metadata": {
        "id": "Ghcmdag2UI-6"
      },
      "source": [
        "#Frequency count of the Output clusters\n",
        "unique, counts = np.unique(pred_dbscan, return_counts=True)\n",
        "freq_1 = dict(zip(unique, counts))\n",
        "print(\"Frequency of DBScan Output Cluster v1\")\n",
        "print(freq_1)"
      ],
      "execution_count": null,
      "outputs": []
    },
    {
      "cell_type": "code",
      "metadata": {
        "id": "ZVVdv6z2USvg"
      },
      "source": [
        "# Optimize value of eps through Elbow Method\n",
        "\n",
        "# eps is the maximum distance between two points. \n",
        "# It is this distance that the algorithm uses to decide on whether to club the two points together\n",
        "# We will make use of the average distances of every point to its k nearest neighbors\n",
        "# These k distances are then plotted in ascending order\n",
        "# The point where you see an elbow like bend corresponds to the optimal *eps* value\n",
        "# At that point, a sharp change in the distance occurs, and thus this point serves as a threshold\n",
        "\n",
        "#! pip install rpy2\n",
        "%reload_ext rpy2.ipython"
      ],
      "execution_count": 27,
      "outputs": []
    },
    {
      "cell_type": "code",
      "metadata": {
        "id": "QEbsA1GLUoAI"
      },
      "source": [
        "%%R\n",
        "#install.packages('dbscan')\n",
        "library(dbscan)\n",
        "data(iris)\n",
        "iris <- as.matrix(iris[,1:4])\n",
        "dbscan::kNNdistplot(iris[, -c(5,4,3)], k =  4)\n",
        "\n",
        "# Inference : \n",
        "# It looks like 0.42 is the optimal value for eps\n",
        "abline(h = 0.42, lty = 2)"
      ],
      "execution_count": null,
      "outputs": []
    },
    {
      "cell_type": "code",
      "metadata": {
        "id": "ZJ3jAcI3VfD6"
      },
      "source": [
        "# Now updating value of eps = 0.42\n",
        "\n",
        "clt_DB = DBSCAN(eps=0.42)\n",
        "model_dbscan = clt_DB.fit(data_normalized)\n",
        "pred_dbscan = model_dbscan.labels_\n",
        "\n",
        "# Frequency count of the Output clusters\n",
        "unique, counts = np.unique(pred_dbscan, return_counts=True)\n",
        "print('DBScan Output Cluster v2')\n",
        "print(dict(zip(unique, counts)))\n",
        "# Silhouette Score\n",
        "print('Silhouette Score for 2 Clusters')\n",
        "print(silhouette_score(data_normalized,pred_dbscan))\n",
        "\n",
        "print('\\n')\n",
        "\n",
        "# Inference : \n",
        "# In DBScan Cluster output Version 1,one class was missing i.e, no '2' class \n",
        "# But in DBScan New Output Cluster Version 2, distribution is much better\n",
        "# So we should check and set parameters correctly i.e, eps\n",
        "# All which are not classified in any Cluster are classified as OUTLIER\n",
        "# Silhouette Score is 0.35 which is too less"
      ],
      "execution_count": null,
      "outputs": []
    },
    {
      "cell_type": "markdown",
      "metadata": {
        "id": "vEbEP5LDVwTz"
      },
      "source": [
        "#### Gaussian Mixture Model"
      ]
    },
    {
      "cell_type": "code",
      "metadata": {
        "id": "jsWkbGAQVvja"
      },
      "source": [
        "# Gaussian Mixture Model\n",
        "\n",
        "# Gaussian Mixture Models are probabilistic models\n",
        "# It use the soft clustering approach for distributing the points in different clusters\n",
        "# Gaussian Mixture Models (GMMs) assume that there are a certain number of Gaussian distributions, \n",
        "# and each of these distributions represent a cluster.\n",
        "# Hence, a Gaussian Mixture Model tends to group the data points belonging to a single distribution together.\n",
        "\n",
        "# Silhouette Score\n",
        "# Clusters are well apart from each other as the silhouette score is closer to 1\n",
        "# Silhouette Coefficient score is a metric used to calculate the goodness of a clustering technique \n",
        "# Its value ranges from -1 to 1.\n",
        "# 1: Means clusters are well apart from each other and clearly distinguished.\n",
        "# 0: Means clusters are indifferent, or we can say that the distance between clusters is not significant.\n",
        "# -1: Means clusters are assigned in the wrong way.\n",
        "\n",
        "from sklearn.metrics import silhouette_score\n",
        "# Gaussian Mixture Model\n",
        "from sklearn.mixture import GaussianMixture\n",
        "\n"
      ],
      "execution_count": 15,
      "outputs": []
    },
    {
      "cell_type": "code",
      "metadata": {
        "colab": {
          "base_uri": "https://localhost:8080/"
        },
        "id": "r6-TKahYWDzz",
        "outputId": "edc417a2-0b82-4c00-9628-99368678ffc1"
      },
      "source": [
        "gmm = GaussianMixture(n_components=2)\n",
        "model_gmm = gmm.fit(data_normalized)\n",
        "model_gmm"
      ],
      "execution_count": 16,
      "outputs": [
        {
          "output_type": "execute_result",
          "data": {
            "text/plain": [
              "GaussianMixture(covariance_type='full', init_params='kmeans', max_iter=100,\n",
              "                means_init=None, n_components=2, n_init=1, precisions_init=None,\n",
              "                random_state=None, reg_covar=1e-06, tol=0.001, verbose=0,\n",
              "                verbose_interval=10, warm_start=False, weights_init=None)"
            ]
          },
          "metadata": {},
          "execution_count": 16
        }
      ]
    },
    {
      "cell_type": "code",
      "metadata": {
        "colab": {
          "base_uri": "https://localhost:8080/"
        },
        "id": "kO4A2az-WDb9",
        "outputId": "094c756c-d38a-4ea7-ebff-93e5211afa81"
      },
      "source": [
        "# GMM Output\n",
        "labels = model_gmm.predict(data_normalized)\n",
        "print(\"Gaussian Output Clusters\")\n",
        "# print(labels)\n",
        "unique, counts = np.unique(labels, return_counts=True)\n",
        "pred_2 = dict(zip(unique, counts))\n",
        "print(\"Frequency of Gaussian Output Cluster\")\n",
        "print(pred_2)"
      ],
      "execution_count": 17,
      "outputs": [
        {
          "output_type": "stream",
          "name": "stdout",
          "text": [
            "Gaussian Output Clusters\n",
            "Frequency of Gaussian Output Cluster\n",
            "{0: 41935, 1: 2584}\n"
          ]
        }
      ]
    },
    {
      "cell_type": "code",
      "metadata": {
        "colab": {
          "base_uri": "https://localhost:8080/"
        },
        "id": "FplNlKFJWMwP",
        "outputId": "f7c9b265-41b9-4a96-b727-961777dca2d7"
      },
      "source": [
        "# Frequency count of the Output clusters\n",
        "unique, counts = np.unique(labels, return_counts=True)\n",
        "print('GaussianMixture Output Cluster Frequency')\n",
        "print(dict(zip(unique, counts)))\n",
        "# Silhouette Score\n",
        "print('Silhouette Score for 2 Clusters')\n",
        "print(silhouette_score(data_normalized,labels))\n",
        "print('\\n')"
      ],
      "execution_count": 19,
      "outputs": [
        {
          "output_type": "stream",
          "name": "stdout",
          "text": [
            "GaussianMixture Output Cluster Frequency\n",
            "{0: 41935, 1: 2584}\n",
            "Silhouette Score for 2 Clusters\n",
            "0.9263142588077031\n",
            "\n",
            "\n"
          ]
        }
      ]
    },
    {
      "cell_type": "code",
      "metadata": {
        "id": "kczoUmWZWSDi"
      },
      "source": [
        ""
      ],
      "execution_count": null,
      "outputs": []
    }
  ]
}