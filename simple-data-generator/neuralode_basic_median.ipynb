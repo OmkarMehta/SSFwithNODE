{
 "cells": [
  {
   "cell_type": "code",
   "execution_count": 1,
   "id": "278c76a4",
   "metadata": {},
   "outputs": [],
   "source": [
    "# # Install the latest version of author's repo neural ode implementation\n",
    "# !git clone https://github.com/rtqichen/torchdiffeq.git\n",
    "# !cd torchdiffeq && pip install -e .\n",
    "# !ls torchdiffeq/torchdiffeq"
   ]
  },
  {
   "cell_type": "code",
   "execution_count": 6,
   "id": "ec1fd209",
   "metadata": {},
   "outputs": [
    {
     "name": "stdout",
     "output_type": "stream",
     "text": [
      "(506, 1)\n",
      "   median_stockprice_week\n",
      "0                6.522572\n",
      "1                6.432569\n",
      "2                6.384427\n",
      "3                6.225123\n",
      "4                5.997283\n",
      "5                6.049106\n",
      "6                6.187098\n",
      "7                6.240301\n",
      "8                6.642778\n",
      "9                6.888709\n",
      "(502, 5)\n",
      "    week(t-4)  week(t-3)  week(t-2)  week(t-1)   week(t)\n",
      "0    6.522572   6.432569   6.384427   6.225123  5.997283\n",
      "1    6.432569   6.384427   6.225123   5.997283  6.049106\n",
      "2    6.384427   6.225123   5.997283   6.049106  6.187098\n",
      "3    6.225123   5.997283   6.049106   6.187098  6.240301\n",
      "4    5.997283   6.049106   6.187098   6.240301  6.642778\n",
      "5    6.049106   6.187098   6.240301   6.642778  6.888709\n",
      "6    6.187098   6.240301   6.642778   6.888709  6.890396\n",
      "7    6.240301   6.642778   6.888709   6.890396  7.080826\n",
      "8    6.642778   6.888709   6.890396   7.080826  7.292260\n",
      "9    6.888709   6.890396   7.080826   7.292260  7.421818\n",
      "10   6.890396   7.080826   7.292260   7.421818  7.603969\n",
      "11   7.080826   7.292260   7.421818   7.603969  8.183534\n",
      "12   7.292260   7.421818   7.603969   8.183534  8.063482\n",
      "13   7.421818   7.603969   8.183534   8.063482  7.753154\n",
      "14   7.603969   8.183534   8.063482   7.753154  7.802984\n",
      "15   8.183534   8.063482   7.753154   7.802984  7.458158\n",
      "16   8.063482   7.753154   7.802984   7.458158  7.980841\n",
      "17   7.753154   7.802984   7.458158   7.980841  7.703169\n",
      "18   7.802984   7.458158   7.980841   7.703169  7.906170\n",
      "19   7.458158   7.980841   7.703169   7.906170  8.347130\n"
     ]
    }
   ],
   "source": [
    "# importing libraries\n",
    "import os\n",
    "import time\n",
    "import numpy as np\n",
    "import numpy.random as npr\n",
    "import matplotlib.pyplot as plt\n",
    "import pandas as pd\n",
    "from pandas import concat\n",
    "import torch\n",
    "import torch.nn as nn\n",
    "import torch.optim as optim\n",
    "import torch.nn.functional as F\n",
    "\n",
    "from torchdiffeq.torchdiffeq import odeint\n",
    "\n",
    "device = torch.device(\"cuda\" if torch.cuda.is_available() else \"cpu\")\n",
    "\n",
    "# from torchdiffeq import odeint, odeint_adjoint\n",
    "from stockDataTransformer import stockDataTransformer\n",
    "\n",
    "# FileName\n",
    "tickerName = 'Apple'\n",
    "# Filepath\n",
    "filepath = f\"raw-stock-data/{tickerName}.csv\"\n",
    "# Get the data in the required format\n",
    "data = stockDataTransformer(filepath)\n",
    "\n",
    "# Total Data Size\n",
    "data_size = data.shape[0]\n",
    "\n",
    "def get_median(array, axis = 1):\n",
    "    # https://numpy.org/doc/stable/reference/generated/numpy.median.html\n",
    "    return np.median(array, axis = axis).reshape(data_size, 1)  #, keepdims=True)\n",
    "\n",
    "median_data = get_median(data)\n",
    "\n",
    "def series_to_supervised(data, n_in=1, n_out=1, dropnan=True):\n",
    "    \"\"\"\n",
    "    Frame a time series as a supervised learning dataset.\n",
    "    Arguments:\n",
    "        data: Sequence of observations as a list or NumPy array.\n",
    "        n_in: Number of lag observations as input (X).\n",
    "        n_out: Number of observations as output (y).\n",
    "        dropnan: Boolean whether or not to drop rows with NaN values.\n",
    "    Returns:\n",
    "        Pandas DataFrame of series framed for supervised learning.\n",
    "    \"\"\"\n",
    "    n_vars = 1 if type(data) is list else data.shape[1]\n",
    "    df = pd.DataFrame(data)\n",
    "    cols, names = list(), list()\n",
    "    # input sequence (t-n, ... t-1)\n",
    "    for i in range(n_in, 0, -1):\n",
    "        cols.append(df.shift(i))\n",
    "        names += [('var%d(t-%d)' % (j+1, i)) for j in range(n_vars)]\n",
    "    # forecast sequence (t, t+1, ... t+n)\n",
    "    for i in range(0, n_out):\n",
    "        cols.append(df.shift(-i))\n",
    "        if i == 0:\n",
    "            names += [('var%d(t)' % (j+1)) for j in range(n_vars)]\n",
    "        else:\n",
    "            names += [('var%d(t+%d)' % (j+1, i)) for j in range(n_vars)]\n",
    "    # put it all together\n",
    "    agg = concat(cols, axis=1)\n",
    "    agg.columns = names\n",
    "    # drop rows with NaN values\n",
    "    if dropnan:\n",
    "        agg.dropna(inplace=True)\n",
    "    return agg\n",
    "# Median data for each week\n",
    "print(median_data.shape)\n",
    "print(pd.DataFrame(median_data, columns = ['median_stockprice_week']).head(10))\n",
    "\n",
    "# Convert median_data to (n_samples, 5) matrix\n",
    "data_m1 = series_to_supervised(median_data, 4).values\n",
    "print(data_m1.shape)\n",
    "print(pd.DataFrame(data_m1, columns = ['week(t-4)', 'week(t-3)', 'week(t-2)', 'week(t-1)', 'week(t)']).head(20))"
   ]
  },
  {
   "cell_type": "code",
   "execution_count": 8,
   "id": "a8133793",
   "metadata": {},
   "outputs": [
    {
     "name": "stdout",
     "output_type": "stream",
     "text": [
      "training size is 401\n",
      "test size is 101\n"
     ]
    }
   ],
   "source": [
    "# size of the data\n",
    "data_size = data_m1.shape[0]\n",
    "dim_input = data_m1.shape[1]\n",
    "# batch time and batch size\n",
    "batch_time = 6  # time steps ahead that we need to predict, for each training sample\n",
    "train_size = int(0.8*data_size)  # training size\n",
    "print(f\"training size is {train_size}\")\n",
    "test_size = data_size - train_size\n",
    "print(f\"test size is {test_size}\")\n",
    "niters = 2000  # training epochs\n",
    "test_freq = 50\n",
    "viz = True"
   ]
  },
  {
   "cell_type": "code",
   "execution_count": 11,
   "id": "0c0b6861",
   "metadata": {},
   "outputs": [
    {
     "name": "stdout",
     "output_type": "stream",
     "text": [
      "torch.Size([502, 1, 5])\n",
      "torch.Size([95])\n"
     ]
    }
   ],
   "source": [
    "# Convert to tensor\n",
    "# https://pytorch.org/docs/stable/generated/torch.from_numpy.html\n",
    "data_torch = torch.from_numpy(data_m1)  # https://pytorch.org/docs/stable/generated/torch.from_numpy.html\n",
    "# true_y.shape\n",
    "# Reshape it to get in (m, 1, dim_input)\n",
    "data_torch = torch.reshape(data_torch, (data_size, 1, dim_input))  # https://pytorch.org/docs/stable/generated/torch.reshape.html\n",
    "print(data_torch.shape)\n",
    "\n",
    "# predictions on test_data's time size (test_size-batch_time, 1)\n",
    "# Time steps\n",
    "t = torch.linspace(0., test_size-batch_time, test_size-batch_time)\n",
    "print(t.shape)\n",
    "\n",
    "# # Initial value\n",
    "# true_y0 = torch.reshape(true_y[0:batch_size], (batch_size, 1, dim))\n",
    "# # true_y0\n"
   ]
  },
  {
   "cell_type": "code",
   "execution_count": 12,
   "id": "9d5dfb14",
   "metadata": {},
   "outputs": [
    {
     "data": {
      "text/plain": [
       "tensor([  0,   1,   2,   3,   4,   5,   6,   7,   8,   9,  10,  11,  12,  13,\n",
       "         14,  15,  16,  17,  18,  19,  20,  21,  22,  23,  24,  25,  26,  27,\n",
       "         28,  29,  30,  31,  32,  33,  34,  35,  36,  37,  38,  39,  40,  41,\n",
       "         42,  43,  44,  45,  46,  47,  48,  49,  50,  51,  52,  53,  54,  55,\n",
       "         56,  57,  58,  59,  60,  61,  62,  63,  64,  65,  66,  67,  68,  69,\n",
       "         70,  71,  72,  73,  74,  75,  76,  77,  78,  79,  80,  81,  82,  83,\n",
       "         84,  85,  86,  87,  88,  89,  90,  91,  92,  93,  94,  95,  96,  97,\n",
       "         98,  99, 100, 101, 102, 103, 104, 105, 106, 107, 108, 109, 110, 111,\n",
       "        112, 113, 114, 115, 116, 117, 118, 119, 120, 121, 122, 123, 124, 125,\n",
       "        126, 127, 128, 129, 130, 131, 132, 133, 134, 135, 136, 137, 138, 139,\n",
       "        140, 141, 142, 143, 144, 145, 146, 147, 148, 149, 150, 151, 152, 153,\n",
       "        154, 155, 156, 157, 158, 159, 160, 161, 162, 163, 164, 165, 166, 167,\n",
       "        168, 169, 170, 171, 172, 173, 174, 175, 176, 177, 178, 179, 180, 181,\n",
       "        182, 183, 184, 185, 186, 187, 188, 189, 190, 191, 192, 193, 194, 195,\n",
       "        196, 197, 198, 199, 200, 201, 202, 203, 204, 205, 206, 207, 208, 209,\n",
       "        210, 211, 212, 213, 214, 215, 216, 217, 218, 219, 220, 221, 222, 223,\n",
       "        224, 225, 226, 227, 228, 229, 230, 231, 232, 233, 234, 235, 236, 237,\n",
       "        238, 239, 240, 241, 242, 243, 244, 245, 246, 247, 248, 249, 250, 251,\n",
       "        252, 253, 254, 255, 256, 257, 258, 259, 260, 261, 262, 263, 264, 265,\n",
       "        266, 267, 268, 269, 270, 271, 272, 273, 274, 275, 276, 277, 278, 279,\n",
       "        280, 281, 282, 283, 284, 285, 286, 287, 288, 289, 290, 291, 292, 293,\n",
       "        294, 295, 296, 297, 298, 299, 300, 301, 302, 303, 304, 305, 306, 307,\n",
       "        308, 309, 310, 311, 312, 313, 314, 315, 316, 317, 318, 319, 320, 321,\n",
       "        322, 323, 324, 325, 326, 327, 328, 329, 330, 331, 332, 333, 334, 335,\n",
       "        336, 337, 338, 339, 340, 341, 342, 343, 344, 345, 346, 347, 348, 349,\n",
       "        350, 351, 352, 353, 354, 355, 356, 357, 358, 359, 360, 361, 362, 363,\n",
       "        364, 365, 366, 367, 368, 369, 370, 371, 372, 373, 374, 375, 376, 377,\n",
       "        378, 379, 380, 381, 382, 383, 384, 385, 386, 387, 388, 389, 390, 391,\n",
       "        392, 393, 394])"
      ]
     },
     "execution_count": 12,
     "metadata": {},
     "output_type": "execute_result"
    }
   ],
   "source": [
    "torch.arange(0, train_size-batch_time)"
   ]
  },
  {
   "cell_type": "code",
   "execution_count": 16,
   "id": "60065898",
   "metadata": {},
   "outputs": [
    {
     "data": {
      "text/plain": [
       "tensor([401, 402, 403, 404, 405, 406, 407, 408, 409, 410, 411, 412, 413, 414,\n",
       "        415, 416, 417, 418, 419, 420, 421, 422, 423, 424, 425, 426, 427, 428,\n",
       "        429, 430, 431, 432, 433, 434, 435, 436, 437, 438, 439, 440, 441, 442,\n",
       "        443, 444, 445, 446, 447, 448, 449, 450, 451, 452, 453, 454, 455, 456,\n",
       "        457, 458, 459, 460, 461, 462, 463, 464, 465, 466, 467, 468, 469, 470,\n",
       "        471, 472, 473, 474, 475, 476, 477, 478, 479, 480, 481, 482, 483, 484,\n",
       "        485, 486, 487, 488, 489, 490, 491, 492, 493, 494, 495])"
      ]
     },
     "execution_count": 16,
     "metadata": {},
     "output_type": "execute_result"
    }
   ],
   "source": [
    "torch.arange(train_size, data_size-batch_time)"
   ]
  },
  {
   "cell_type": "code",
   "execution_count": 18,
   "id": "8b8d5e3a",
   "metadata": {},
   "outputs": [],
   "source": [
    "def get_batch(mode):\n",
    "    if mode == 'train:':\n",
    "        # Get mini batches\n",
    "        s = torch.arange(0, train_size-batch_time)  # https://pytorch.org/docs/stable/generated/torch.arange.html\n",
    "        # Get the #s initial values from data \n",
    "        batch_y0 = data_torch[s]  # (M, D): m = number of examples, D = dimension\n",
    "    elif mode == 'test':\n",
    "        s = torch.arange(train_size, data_size-batch_time)\n",
    "        batch_y0 = data_torch[s]\n",
    "    # The time steps ahead for each sample\n",
    "    batch_t = t[:batch_time]  # (T)\n",
    "    # For each initial value, we will have T values \n",
    "    batch_y = torch.stack([data_torch[s + i] for i in range(0, batch_time)], dim=0)  # (T, M, D)\n",
    "    # batch_y = torch.reshape(batch_y, (batch_time, batch_size, 1, 1))\n",
    "    return batch_y0, batch_t, batch_y"
   ]
  },
  {
   "cell_type": "code",
   "execution_count": 90,
   "id": "0cf09a09",
   "metadata": {},
   "outputs": [],
   "source": [
    "# s = torch.arange(0, batch_size+0)"
   ]
  },
  {
   "cell_type": "code",
   "execution_count": 91,
   "id": "7da1b374",
   "metadata": {},
   "outputs": [],
   "source": [
    "# true_y.shape"
   ]
  },
  {
   "cell_type": "code",
   "execution_count": 92,
   "id": "c6f078ab",
   "metadata": {},
   "outputs": [],
   "source": [
    "# true_y[s+5].shape"
   ]
  },
  {
   "cell_type": "code",
   "execution_count": 93,
   "id": "087e488d",
   "metadata": {},
   "outputs": [
    {
     "name": "stdout",
     "output_type": "stream",
     "text": [
      "torch.Size([5])\n",
      "torch.Size([200, 1, 5])\n",
      "torch.Size([5, 200, 1, 5])\n"
     ]
    }
   ],
   "source": [
    "batch_y0, batch_t, batch_y = get_batch('train')\n",
    "print(batch_t.shape)\n",
    "print(batch_y0.shape)\n",
    "print(batch_y.shape)"
   ]
  },
  {
   "cell_type": "code",
   "execution_count": 94,
   "id": "a9aec06b",
   "metadata": {},
   "outputs": [],
   "source": [
    "# batch_y0"
   ]
  },
  {
   "cell_type": "code",
   "execution_count": 95,
   "id": "77ae1774",
   "metadata": {},
   "outputs": [],
   "source": [
    "# batch_y"
   ]
  },
  {
   "cell_type": "code",
   "execution_count": 96,
   "id": "5721f8d5",
   "metadata": {},
   "outputs": [],
   "source": [
    "# torch.reshape(batch_y, (batch_time, batch_size, 1, 1))"
   ]
  },
  {
   "cell_type": "code",
   "execution_count": 97,
   "id": "682facc0",
   "metadata": {},
   "outputs": [],
   "source": [
    "class ODEFunc(nn.Module):\n",
    "\n",
    "    def __init__(self):\n",
    "        super(ODEFunc, self).__init__()\n",
    "\n",
    "        self.net = nn.Sequential(\n",
    "            nn.Linear(dim, 150),\n",
    "            nn.Tanh(),\n",
    "            nn.Linear(150, 50),\n",
    "            nn.Tanh(),\n",
    "            nn.Linear(50, 50),\n",
    "            nn.Tanh(),\n",
    "            nn.Linear(50, dim),\n",
    "        )\n",
    "        self.net = self.net.double()\n",
    "        for m in self.net.modules():\n",
    "            if isinstance(m, nn.Linear):\n",
    "                nn.init.normal_(m.weight, mean=0, std=0.1)\n",
    "                nn.init.constant_(m.bias, val=0)\n",
    "\n",
    "    def forward(self, t, y):\n",
    "        return self.net(y)\n",
    "# func = ODEFunc()\n",
    "\n",
    "def visualize(t, true_y, pred_y, odefunc, itr):\n",
    "  \n",
    "    if viz:\n",
    "      \n",
    "        plt.figure()\n",
    "        plt.plot(t.numpy(), true_y.numpy()[:, 0, 0], 'g-')\n",
    "        plt.plot(t.numpy(), pred_y.numpy()[:, 0, 0], '--')\n",
    "        # plt.savefig(DATA_TYPE + '/ts' + str(itr) + '.png')\n",
    "        plt.show()\n",
    "        \n",
    "class RunningAverageMeter(object):\n",
    "    \"\"\"Computes and stores the average and current value\"\"\"\n",
    "\n",
    "    def __init__(self, momentum=0.99):\n",
    "        self.momentum = momentum\n",
    "        self.reset()\n",
    "\n",
    "    def reset(self):\n",
    "        self.val = None\n",
    "        self.avg = 0\n",
    "\n",
    "    def update(self, val):\n",
    "        if self.val is None:\n",
    "            self.avg = val\n",
    "        else:\n",
    "            self.avg = self.avg * self.momentum + val * (1 - self.momentum)\n",
    "        self.val = val"
   ]
  },
  {
   "cell_type": "code",
   "execution_count": 98,
   "id": "ecd40ace",
   "metadata": {},
   "outputs": [],
   "source": [
    "# batch_y.shape"
   ]
  },
  {
   "cell_type": "code",
   "execution_count": 99,
   "id": "c214d759",
   "metadata": {},
   "outputs": [],
   "source": [
    "# pred_y.shape"
   ]
  },
  {
   "cell_type": "code",
   "execution_count": 100,
   "id": "4bf67714",
   "metadata": {},
   "outputs": [
    {
     "name": "stdout",
     "output_type": "stream",
     "text": [
      "Iter 0050 | Total Loss 0.606091\n",
      "Iter 0100 | Total Loss 0.593498\n",
      "Iter 0150 | Total Loss 0.559316\n",
      "Iter 0200 | Total Loss 0.511749\n",
      "Iter 0250 | Total Loss 0.541931\n",
      "Iter 0300 | Total Loss 0.504318\n",
      "Iter 0350 | Total Loss 0.534582\n",
      "Iter 0400 | Total Loss 0.528441\n",
      "Iter 0450 | Total Loss 0.478669\n",
      "Iter 0500 | Total Loss 0.474686\n",
      "Iter 0550 | Total Loss 0.473845\n",
      "Iter 0600 | Total Loss 0.476809\n",
      "Iter 0650 | Total Loss 0.471579\n",
      "Iter 0700 | Total Loss 0.462885\n",
      "Iter 0750 | Total Loss 0.463534\n",
      "Iter 0800 | Total Loss 0.480760\n",
      "Iter 0850 | Total Loss 0.454909\n",
      "Iter 0900 | Total Loss 0.447412\n",
      "Iter 0950 | Total Loss 0.462135\n",
      "Iter 1000 | Total Loss 0.444028\n"
     ]
    }
   ],
   "source": [
    "ii = 0\n",
    "niters = 1000\n",
    "\n",
    "func = ODEFunc()\n",
    "optimizer = optim.RMSprop(func.parameters(), lr=1e-3)\n",
    "end = time.time()\n",
    "\n",
    "time_meter = RunningAverageMeter(0.97)\n",
    "loss_meter = RunningAverageMeter(0.97)\n",
    "\n",
    "for itr in range(1, niters + 1):\n",
    "    optimizer.zero_grad()\n",
    "    batch_y0, batch_t, batch_y = get_batch(0)\n",
    "    pred_y = odeint(func, batch_y0, batch_t)\n",
    "    # print(pred_y.shape)\n",
    "    loss = torch.mean(torch.abs(pred_y - batch_y))\n",
    "    loss.backward()\n",
    "    optimizer.step()\n",
    "\n",
    "    time_meter.update(time.time() - end)\n",
    "    loss_meter.update(loss.item())\n",
    "    if itr%50==0:\n",
    "        with torch.no_grad():\n",
    "            print('Iter {:04d} | Total Loss {:.6f}'.format(itr, loss.item()))\n",
    "            # visualize(batch_t, batch_y, pred_y, func, ii)\n",
    "\n",
    "#     if itr % 50 == 0:\n",
    "#         with torch.no_grad():\n",
    "#             pred_y = odeint(func, true_y0, t)\n",
    "#             print(pred_y.shape)\n",
    "#             loss = torch.mean(torch.abs(pred_y - true_y))\n",
    "#             print('Iter {:04d} | Total Loss {:.6f}'.format(itr, loss.item()))\n",
    "#             visualize(true_y, pred_y, func, ii)\n",
    "#             ii += 1\n",
    "\n",
    "    end = time.time()"
   ]
  },
  {
   "cell_type": "code",
   "execution_count": 101,
   "id": "166dd877",
   "metadata": {},
   "outputs": [],
   "source": [
    "# Initial value\n",
    "test_y = torch.reshape(true_y[batch_size:batch_size*2], (batch_size, 1, dim))\n",
    "# print(test_y)\n",
    "\n",
    "# Time steps\n",
    "t = torch.linspace(1., 5., 5)\n",
    "pred_y = odeint(func, test_y, t)"
   ]
  },
  {
   "cell_type": "code",
   "execution_count": 102,
   "id": "38f005cd",
   "metadata": {},
   "outputs": [
    {
     "data": {
      "text/plain": [
       "torch.Size([5, 200, 1, 5])"
      ]
     },
     "execution_count": 102,
     "metadata": {},
     "output_type": "execute_result"
    }
   ],
   "source": [
    "pred_y.shape"
   ]
  },
  {
   "cell_type": "code",
   "execution_count": 107,
   "id": "0860e744",
   "metadata": {},
   "outputs": [
    {
     "data": {
      "text/plain": [
       "torch.Size([1, 5])"
      ]
     },
     "execution_count": 107,
     "metadata": {},
     "output_type": "execute_result"
    }
   ],
   "source": [
    "pred_y[0][0].shape"
   ]
  },
  {
   "cell_type": "code",
   "execution_count": 118,
   "id": "59bf756b",
   "metadata": {},
   "outputs": [
    {
     "data": {
      "text/html": [
       "<div>\n",
       "<style scoped>\n",
       "    .dataframe tbody tr th:only-of-type {\n",
       "        vertical-align: middle;\n",
       "    }\n",
       "\n",
       "    .dataframe tbody tr th {\n",
       "        vertical-align: top;\n",
       "    }\n",
       "\n",
       "    .dataframe thead th {\n",
       "        text-align: right;\n",
       "    }\n",
       "</style>\n",
       "<table border=\"1\" class=\"dataframe\">\n",
       "  <thead>\n",
       "    <tr style=\"text-align: right;\">\n",
       "      <th></th>\n",
       "      <th>0</th>\n",
       "      <th>1</th>\n",
       "      <th>2</th>\n",
       "      <th>3</th>\n",
       "      <th>4</th>\n",
       "    </tr>\n",
       "  </thead>\n",
       "  <tbody>\n",
       "    <tr>\n",
       "      <th>0</th>\n",
       "      <td>6.522572</td>\n",
       "      <td>6.432569</td>\n",
       "      <td>6.384427</td>\n",
       "      <td>6.225123</td>\n",
       "      <td>5.997283</td>\n",
       "    </tr>\n",
       "    <tr>\n",
       "      <th>1</th>\n",
       "      <td>6.432569</td>\n",
       "      <td>6.384427</td>\n",
       "      <td>6.225123</td>\n",
       "      <td>5.997283</td>\n",
       "      <td>6.049106</td>\n",
       "    </tr>\n",
       "    <tr>\n",
       "      <th>2</th>\n",
       "      <td>6.384427</td>\n",
       "      <td>6.225123</td>\n",
       "      <td>5.997283</td>\n",
       "      <td>6.049106</td>\n",
       "      <td>6.187098</td>\n",
       "    </tr>\n",
       "    <tr>\n",
       "      <th>3</th>\n",
       "      <td>6.225123</td>\n",
       "      <td>5.997283</td>\n",
       "      <td>6.049106</td>\n",
       "      <td>6.187098</td>\n",
       "      <td>6.240301</td>\n",
       "    </tr>\n",
       "    <tr>\n",
       "      <th>4</th>\n",
       "      <td>5.997283</td>\n",
       "      <td>6.049106</td>\n",
       "      <td>6.187098</td>\n",
       "      <td>6.240301</td>\n",
       "      <td>6.642778</td>\n",
       "    </tr>\n",
       "    <tr>\n",
       "      <th>5</th>\n",
       "      <td>6.049106</td>\n",
       "      <td>6.187098</td>\n",
       "      <td>6.240301</td>\n",
       "      <td>6.642778</td>\n",
       "      <td>6.888709</td>\n",
       "    </tr>\n",
       "    <tr>\n",
       "      <th>6</th>\n",
       "      <td>6.187098</td>\n",
       "      <td>6.240301</td>\n",
       "      <td>6.642778</td>\n",
       "      <td>6.888709</td>\n",
       "      <td>6.890396</td>\n",
       "    </tr>\n",
       "    <tr>\n",
       "      <th>7</th>\n",
       "      <td>6.240301</td>\n",
       "      <td>6.642778</td>\n",
       "      <td>6.888709</td>\n",
       "      <td>6.890396</td>\n",
       "      <td>7.080826</td>\n",
       "    </tr>\n",
       "    <tr>\n",
       "      <th>8</th>\n",
       "      <td>6.642778</td>\n",
       "      <td>6.888709</td>\n",
       "      <td>6.890396</td>\n",
       "      <td>7.080826</td>\n",
       "      <td>7.292260</td>\n",
       "    </tr>\n",
       "    <tr>\n",
       "      <th>9</th>\n",
       "      <td>6.888709</td>\n",
       "      <td>6.890396</td>\n",
       "      <td>7.080826</td>\n",
       "      <td>7.292260</td>\n",
       "      <td>7.421818</td>\n",
       "    </tr>\n",
       "    <tr>\n",
       "      <th>10</th>\n",
       "      <td>6.890396</td>\n",
       "      <td>7.080826</td>\n",
       "      <td>7.292260</td>\n",
       "      <td>7.421818</td>\n",
       "      <td>7.603969</td>\n",
       "    </tr>\n",
       "    <tr>\n",
       "      <th>11</th>\n",
       "      <td>7.080826</td>\n",
       "      <td>7.292260</td>\n",
       "      <td>7.421818</td>\n",
       "      <td>7.603969</td>\n",
       "      <td>8.183534</td>\n",
       "    </tr>\n",
       "    <tr>\n",
       "      <th>12</th>\n",
       "      <td>7.292260</td>\n",
       "      <td>7.421818</td>\n",
       "      <td>7.603969</td>\n",
       "      <td>8.183534</td>\n",
       "      <td>8.063482</td>\n",
       "    </tr>\n",
       "    <tr>\n",
       "      <th>13</th>\n",
       "      <td>7.421818</td>\n",
       "      <td>7.603969</td>\n",
       "      <td>8.183534</td>\n",
       "      <td>8.063482</td>\n",
       "      <td>7.753154</td>\n",
       "    </tr>\n",
       "    <tr>\n",
       "      <th>14</th>\n",
       "      <td>7.603969</td>\n",
       "      <td>8.183534</td>\n",
       "      <td>8.063482</td>\n",
       "      <td>7.753154</td>\n",
       "      <td>7.802984</td>\n",
       "    </tr>\n",
       "    <tr>\n",
       "      <th>15</th>\n",
       "      <td>8.183534</td>\n",
       "      <td>8.063482</td>\n",
       "      <td>7.753154</td>\n",
       "      <td>7.802984</td>\n",
       "      <td>7.458158</td>\n",
       "    </tr>\n",
       "    <tr>\n",
       "      <th>16</th>\n",
       "      <td>8.063482</td>\n",
       "      <td>7.753154</td>\n",
       "      <td>7.802984</td>\n",
       "      <td>7.458158</td>\n",
       "      <td>7.980841</td>\n",
       "    </tr>\n",
       "    <tr>\n",
       "      <th>17</th>\n",
       "      <td>7.753154</td>\n",
       "      <td>7.802984</td>\n",
       "      <td>7.458158</td>\n",
       "      <td>7.980841</td>\n",
       "      <td>7.703169</td>\n",
       "    </tr>\n",
       "    <tr>\n",
       "      <th>18</th>\n",
       "      <td>7.802984</td>\n",
       "      <td>7.458158</td>\n",
       "      <td>7.980841</td>\n",
       "      <td>7.703169</td>\n",
       "      <td>7.906170</td>\n",
       "    </tr>\n",
       "    <tr>\n",
       "      <th>19</th>\n",
       "      <td>7.458158</td>\n",
       "      <td>7.980841</td>\n",
       "      <td>7.703169</td>\n",
       "      <td>7.906170</td>\n",
       "      <td>8.347130</td>\n",
       "    </tr>\n",
       "  </tbody>\n",
       "</table>\n",
       "</div>"
      ],
      "text/plain": [
       "           0         1         2         3         4\n",
       "0   6.522572  6.432569  6.384427  6.225123  5.997283\n",
       "1   6.432569  6.384427  6.225123  5.997283  6.049106\n",
       "2   6.384427  6.225123  5.997283  6.049106  6.187098\n",
       "3   6.225123  5.997283  6.049106  6.187098  6.240301\n",
       "4   5.997283  6.049106  6.187098  6.240301  6.642778\n",
       "5   6.049106  6.187098  6.240301  6.642778  6.888709\n",
       "6   6.187098  6.240301  6.642778  6.888709  6.890396\n",
       "7   6.240301  6.642778  6.888709  6.890396  7.080826\n",
       "8   6.642778  6.888709  6.890396  7.080826  7.292260\n",
       "9   6.888709  6.890396  7.080826  7.292260  7.421818\n",
       "10  6.890396  7.080826  7.292260  7.421818  7.603969\n",
       "11  7.080826  7.292260  7.421818  7.603969  8.183534\n",
       "12  7.292260  7.421818  7.603969  8.183534  8.063482\n",
       "13  7.421818  7.603969  8.183534  8.063482  7.753154\n",
       "14  7.603969  8.183534  8.063482  7.753154  7.802984\n",
       "15  8.183534  8.063482  7.753154  7.802984  7.458158\n",
       "16  8.063482  7.753154  7.802984  7.458158  7.980841\n",
       "17  7.753154  7.802984  7.458158  7.980841  7.703169\n",
       "18  7.802984  7.458158  7.980841  7.703169  7.906170\n",
       "19  7.458158  7.980841  7.703169  7.906170  8.347130"
      ]
     },
     "execution_count": 118,
     "metadata": {},
     "output_type": "execute_result"
    }
   ],
   "source": [
    "pd.DataFrame(data_m1).head(20)"
   ]
  },
  {
   "cell_type": "code",
   "execution_count": 114,
   "id": "75e03ba4",
   "metadata": {},
   "outputs": [
    {
     "data": {
      "text/plain": [
       "(200,)"
      ]
     },
     "execution_count": 114,
     "metadata": {},
     "output_type": "execute_result"
    }
   ],
   "source": [
    "pred_y.detach().numpy()[0, :, 0, 0].shape"
   ]
  },
  {
   "cell_type": "code",
   "execution_count": 117,
   "id": "d024131c",
   "metadata": {},
   "outputs": [
    {
     "data": {
      "text/plain": [
       "(502, 1, 5)"
      ]
     },
     "execution_count": 117,
     "metadata": {},
     "output_type": "execute_result"
    }
   ],
   "source": [
    "true_y.numpy().shape"
   ]
  },
  {
   "cell_type": "code",
   "execution_count": 127,
   "id": "0d4d68b8",
   "metadata": {},
   "outputs": [],
   "source": [
    "# Initial value\n",
    "test_y = torch.reshape(true_y[:batch_size], (batch_size, 1, dim))\n",
    "# print(test_y)\n",
    "\n",
    "# Time steps\n",
    "t = torch.linspace(1., 5., 5)\n",
    "pred_y = odeint(func, test_y, t)"
   ]
  },
  {
   "cell_type": "code",
   "execution_count": 128,
   "id": "b2b8d425",
   "metadata": {},
   "outputs": [
    {
     "data": {
      "image/png": "[encoded data removed]",
      "text/plain": [
       "<Figure size 432x288 with 1 Axes>"
      ]
     },
     "metadata": {
      "needs_background": "light"
     },
     "output_type": "display_data"
    }
   ],
   "source": [
    "# W6th median prediction\n",
    "t = torch.linspace(1., batch_size, batch_size)\n",
    "plt.figure()\n",
    "plt.plot(t.numpy(), true_y.numpy()[5:205, 0, 0], 'g', label = 'orig')\n",
    "plt.plot(t.numpy(), pred_y.detach().numpy()[0,:, 0, 0], '--', label = 'week6')\n",
    "# plt.plot(t.numpy(), pred_y.detach().numpy()[0,:, 0, 1], '--', label = 'week7')\n",
    "# plt.plot(t.numpy(), pred_y.detach().numpy()[0,:, 0, 2], '--', label = 'week8')\n",
    "# plt.plot(t.numpy(), pred_y.detach().numpy()[0,:, 0, 3], '--', label = 'week9')\n",
    "# plt.plot(t.numpy(), pred_y.detach().numpy()[0,:, 0, 4], '--', label = 'week10')\n",
    "plt.title(f\"Apple's Median Open Stock price\")\n",
    "plt.legend(framealpha=1, frameon=True);\n",
    "plt.show()"
   ]
  },
  {
   "cell_type": "code",
   "execution_count": 120,
   "id": "7f3eda5e",
   "metadata": {},
   "outputs": [
    {
     "data": {
      "image/png": "[encoded data removed]",
      "text/plain": [
       "<Figure size 432x288 with 1 Axes>"
      ]
     },
     "metadata": {
      "needs_background": "light"
     },
     "output_type": "display_data"
    }
   ],
   "source": [
    "# W6th median prediction\n",
    "t = torch.linspace(1., batch_size, batch_size)\n",
    "plt.figure()\n",
    "plt.plot(t.numpy(), true_y.numpy()[205:405, 0, 0], 'g', label = 'orig')\n",
    "plt.plot(t.numpy(), pred_y.detach().numpy()[0,:, 0, 0], '--', label = 'week6')\n",
    "# plt.plot(t.numpy(), pred_y.detach().numpy()[0,:, 0, 1], '--', label = 'week7')\n",
    "# plt.plot(t.numpy(), pred_y.detach().numpy()[0,:, 0, 2], '--', label = 'week8')\n",
    "# plt.plot(t.numpy(), pred_y.detach().numpy()[0,:, 0, 3], '--', label = 'week9')\n",
    "# plt.plot(t.numpy(), pred_y.detach().numpy()[0,:, 0, 4], '--', label = 'week10')\n",
    "plt.title(f\"Apple's Median Open Stock price\")\n",
    "plt.legend(framealpha=1, frameon=True);\n",
    "plt.show()"
   ]
  },
  {
   "cell_type": "code",
   "execution_count": 121,
   "id": "48c7fbec",
   "metadata": {},
   "outputs": [
    {
     "data": {
      "image/png": "[encoded data removed]",
      "text/plain": [
       "<Figure size 432x288 with 1 Axes>"
      ]
     },
     "metadata": {
      "needs_background": "light"
     },
     "output_type": "display_data"
    }
   ],
   "source": [
    "# W6th median prediction\n",
    "t = torch.linspace(1., batch_size, batch_size)\n",
    "plt.figure()\n",
    "plt.plot(t.numpy(), true_y.numpy()[206:406, 0, 0], 'g', label = 'orig')\n",
    "# plt.plot(t.numpy(), pred_y.detach().numpy()[0,:, 0, 0], '--', label = 'week6')\n",
    "plt.plot(t.numpy(), pred_y.detach().numpy()[0,:, 0, 1], '--', label = 'week7')\n",
    "# plt.plot(t.numpy(), pred_y.detach().numpy()[0,:, 0, 2], '--', label = 'week8')\n",
    "# plt.plot(t.numpy(), pred_y.detach().numpy()[0,:, 0, 3], '--', label = 'week9')\n",
    "# plt.plot(t.numpy(), pred_y.detach().numpy()[0,:, 0, 4], '--', label = 'week10')\n",
    "plt.title(f\"Apple's Median Open Stock price\")\n",
    "plt.legend(framealpha=1, frameon=True);\n",
    "plt.show()"
   ]
  },
  {
   "cell_type": "code",
   "execution_count": 123,
   "id": "40786085",
   "metadata": {},
   "outputs": [
    {
     "data": {
      "text/plain": [
       "tensor([[15.9389, 16.7556, 17.3313, 16.7315, 16.9359]], dtype=torch.float64)"
      ]
     },
     "execution_count": 123,
     "metadata": {},
     "output_type": "execute_result"
    }
   ],
   "source": [
    "true_y[205]"
   ]
  },
  {
   "cell_type": "code",
   "execution_count": 126,
   "id": "a8d2696c",
   "metadata": {},
   "outputs": [
    {
     "data": {
      "text/plain": [
       "tensor([[17.9435, 17.3982, 17.0787, 17.4903, 17.3796]], dtype=torch.float64,\n",
       "       grad_fn=<SelectBackward>)"
      ]
     },
     "execution_count": 126,
     "metadata": {},
     "output_type": "execute_result"
    }
   ],
   "source": [
    "pred_y[0][0]"
   ]
  },
  {
   "cell_type": "code",
   "execution_count": null,
   "id": "e0df1bba",
   "metadata": {},
   "outputs": [],
   "source": []
  }
 ],
 "metadata": {
  "kernelspec": {
   "display_name": "Python 3 (ipykernel)",
   "language": "python",
   "name": "python3"
  },
  "language_info": {
   "codemirror_mode": {
    "name": "ipython",
    "version": 3
   },
   "file_extension": ".py",
   "mimetype": "text/x-python",
   "name": "python",
   "nbconvert_exporter": "python",
   "pygments_lexer": "ipython3",
   "version": "3.8.9"
  }
 },
 "nbformat": 4,
 "nbformat_minor": 5
}
