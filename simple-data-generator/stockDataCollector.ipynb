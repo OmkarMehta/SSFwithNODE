{
 "cells": [
  {
   "cell_type": "code",
   "execution_count": 1,
   "source": [
    "import yfinance as yf\n",
    "help(yf.Ticker.history)"
   ],
   "outputs": [
    {
     "output_type": "stream",
     "name": "stderr",
     "text": [
      "/home/mehta.omkar/.local/lib/python3.8/site-packages/requests/__init__.py:102: RequestsDependencyWarning: urllib3 (1.26.6) or chardet (2.3.0)/charset_normalizer (2.0.4) doesn't match a supported version!\n",
      "  warnings.warn(\"urllib3 ({}) or chardet ({})/charset_normalizer ({}) doesn't match a supported \"\n"
     ]
    },
    {
     "output_type": "stream",
     "name": "stdout",
     "text": [
      "Help on function history in module yfinance.base:\n",
      "\n",
      "history(self, period='1mo', interval='1d', start=None, end=None, prepost=False, actions=True, auto_adjust=True, back_adjust=False, proxy=None, rounding=False, tz=None, **kwargs)\n",
      "    :Parameters:\n",
      "        period : str\n",
      "            Valid periods: 1d,5d,1mo,3mo,6mo,1y,2y,5y,10y,ytd,max\n",
      "            Either Use period parameter or use start and end\n",
      "        interval : str\n",
      "            Valid intervals: 1m,2m,5m,15m,30m,60m,90m,1h,1d,5d,1wk,1mo,3mo\n",
      "            Intraday data cannot extend last 60 days\n",
      "        start: str\n",
      "            Download start date string (YYYY-MM-DD) or _datetime.\n",
      "            Default is 1900-01-01\n",
      "        end: str\n",
      "            Download end date string (YYYY-MM-DD) or _datetime.\n",
      "            Default is now\n",
      "        prepost : bool\n",
      "            Include Pre and Post market data in results?\n",
      "            Default is False\n",
      "        auto_adjust: bool\n",
      "            Adjust all OHLC automatically? Default is True\n",
      "        back_adjust: bool\n",
      "            Back-adjusted data to mimic true historical prices\n",
      "        proxy: str\n",
      "            Optional. Proxy server URL scheme. Default is None\n",
      "        rounding: bool\n",
      "            Round values to 2 decimal places?\n",
      "            Optional. Default is False = precision suggested by Yahoo!\n",
      "        tz: str\n",
      "            Optional timezone locale for dates.\n",
      "            (default data is returned as non-localized dates)\n",
      "        **kwargs: dict\n",
      "            debug: bool\n",
      "                Optional. If passed as False, will suppress\n",
      "                error message printing to console.\n",
      "\n"
     ]
    }
   ],
   "metadata": {}
  },
  {
   "cell_type": "code",
   "execution_count": 2,
   "source": [
    "# libraries\n",
    "from pandas_datareader import data as pdr\n",
    "import yfinance as yf\n",
    "\n",
    "def download_raw_stock_data(filepath, tickers, start, end, period = '1d'):\n",
    "    \"\"\"\n",
    "    Download Stock tickers\n",
    "    :Parameters:\n",
    "        filepath: str\n",
    "            path to store the raw data\n",
    "        tickers : str, list\n",
    "            List of tickers to download\n",
    "        period: str\n",
    "            the frequency at which to gather the data; common options would include ‘1d’ (daily), ‘1mo’ (monthly), ‘1y’ (yearly)\n",
    "        start: str\n",
    "            the date to start gathering the data. For example ‘2010–1–1’\n",
    "        end: str\n",
    "            the date to end gathering the data. For example ‘2020–1–25’\n",
    "    \n",
    "    \"\"\"\n",
    "    #define the ticker symbol\n",
    "    tickerSymbol = tickers\n",
    "\n",
    "    #get data on this ticker\n",
    "    tickerData = yf.Ticker(tickerSymbol)\n",
    "\n",
    "    #get the historical prices for this ticker\n",
    "    tickerDf = tickerData.history(period=period, start=start, end=end)\n",
    "    tickerDf.to_csv(filepath)"
   ],
   "outputs": [],
   "metadata": {}
  },
  {
   "cell_type": "code",
   "execution_count": null,
   "source": [
    "dict_tickers = {\n",
    "    'Apple': 'AAPL',\n",
    "    'Microsoft': 'MSFT',\n",
    "    'Google': 'GOOG',\n",
    "    'Bitcoin': 'BTC-USD',\n",
    "    'Facebook': 'FB',\n",
    "    'Walmart': 'WMT',\n",
    "    'Amazon': 'AMZN',\n",
    "    'CVS': 'CVS',\n",
    "    'Berkshire': 'BRK-B',\n",
    "    'ExxonMobil': 'XOM',\n",
    "    'AtandT': 'T',\n",
    "    'Costco': 'COST',\n",
    "    'Walgreens': 'WBA',\n",
    "    'Kroger': 'KR',\n",
    "    'JPMorgan': 'JPM',\n",
    "    'Verizon': 'VZ',\n",
    "    'FordMotor': 'F',\n",
    "    'GeneralMotors': 'GM',\n",
    "    'Dell': 'DELL',\n",
    "    'BankOfAmerica': 'BAC',\n",
    "    'Target': 'TGT',\n",
    "    'GeneralElectric': 'GE',\n",
    "    'JohnsonandJohnson': 'JNJ',\n",
    "    'Nvidia': 'NVDA',\n",
    "    'Intel': 'INTC',\n",
    "}\n",
    "period = '1d'\n",
    "start='2000-1-1'\n",
    "end='2021-8-31'\n",
    "for tickerName, ticker in dict_tickers.items():\n",
    "    tickerName = tickerName\n",
    "    ticker = ticker\n",
    "    filepath = f\"raw-stock-data/data-2000-2021/{tickerName}.csv\"\n",
    "    download_raw_stock_data(filepath, ticker, start, end, period)\n"
   ],
   "outputs": [],
   "metadata": {}
  },
  {
   "cell_type": "code",
   "execution_count": 4,
   "source": [
    "for tickerName in dict_tickers.keys():\n",
    "    print(tickerName)"
   ],
   "outputs": [
    {
     "output_type": "stream",
     "name": "stdout",
     "text": [
      "Apple\n",
      "Microsoft\n",
      "Google\n",
      "Bitcoin\n",
      "Facebook\n",
      "Walmart\n",
      "Amazon\n",
      "CVS\n",
      "Berkshire\n",
      "ExxonMobil\n",
      "AtandT\n",
      "Costco\n",
      "Walgreens\n",
      "Kroger\n",
      "JPMorgan\n",
      "Verizon\n",
      "FordMotor\n",
      "GeneralMotors\n",
      "Dell\n",
      "BankOfAmerica\n",
      "Target\n",
      "GeneralElectric\n",
      "JohnsonandJohnson\n",
      "Nvidia\n",
      "Intel\n"
     ]
    }
   ],
   "metadata": {}
  },
  {
   "cell_type": "code",
   "execution_count": 5,
   "source": [
    "import pandas as pd\n",
    "for tickerName in dict_tickers.keys():\n",
    "    df = pd.read_csv(f\"raw-stock-data/{tickerName}.csv\")\n",
    "    print(f\"{tickerName} size: {len(df)}\")"
   ],
   "outputs": [
    {
     "output_type": "stream",
     "name": "stdout",
     "text": [
      "Apple size: 10014\n",
      "Microsoft size: 8688\n",
      "Google size: 4036\n",
      "Bitcoin size: 2175\n",
      "Facebook size: 2084\n",
      "Walmart size: 12088\n",
      "Amazon size: 5862\n",
      "CVS size: 11985\n",
      "Berkshire size: 6119\n",
      "ExxonMobil size: 12778\n",
      "AtandT size: 9270\n",
      "Costco size: 8607\n",
      "Walgreens size: 10202\n",
      "Kroger size: 12778\n",
      "JPMorgan size: 10202\n",
      "Verizon size: 9270\n",
      "FordMotor size: 12168\n",
      "GeneralMotors size: 2461\n",
      "Dell size: 1016\n",
      "BankOfAmerica size: 11947\n",
      "Target size: 11986\n",
      "GeneralElectric size: 12779\n",
      "JohnsonandJohnson size: 12780\n",
      "Nvidia size: 5438\n",
      "Intel size: 10201\n"
     ]
    }
   ],
   "metadata": {}
  },
  {
   "cell_type": "markdown",
   "source": [
    "### Clearly, ExxonMobil and Kroger has more data."
   ],
   "metadata": {}
  },
  {
   "cell_type": "code",
   "execution_count": 6,
   "source": [
    "df.set_index('Date', inplace=True)\n",
    "df1 = df[['Open', 'Close']].copy()\n",
    "df1.head(5)"
   ],
   "outputs": [
    {
     "output_type": "execute_result",
     "data": {
      "text/html": [
       "<div>\n",
       "<style scoped>\n",
       "    .dataframe tbody tr th:only-of-type {\n",
       "        vertical-align: middle;\n",
       "    }\n",
       "\n",
       "    .dataframe tbody tr th {\n",
       "        vertical-align: top;\n",
       "    }\n",
       "\n",
       "    .dataframe thead th {\n",
       "        text-align: right;\n",
       "    }\n",
       "</style>\n",
       "<table border=\"1\" class=\"dataframe\">\n",
       "  <thead>\n",
       "    <tr style=\"text-align: right;\">\n",
       "      <th></th>\n",
       "      <th>Open</th>\n",
       "      <th>Close</th>\n",
       "    </tr>\n",
       "    <tr>\n",
       "      <th>Date</th>\n",
       "      <th></th>\n",
       "      <th></th>\n",
       "    </tr>\n",
       "  </thead>\n",
       "  <tbody>\n",
       "    <tr>\n",
       "      <th>1980-12-12</th>\n",
       "      <td>0.100600</td>\n",
       "      <td>0.100600</td>\n",
       "    </tr>\n",
       "    <tr>\n",
       "      <th>1980-12-15</th>\n",
       "      <td>0.095789</td>\n",
       "      <td>0.095352</td>\n",
       "    </tr>\n",
       "    <tr>\n",
       "      <th>1980-12-16</th>\n",
       "      <td>0.088790</td>\n",
       "      <td>0.088353</td>\n",
       "    </tr>\n",
       "    <tr>\n",
       "      <th>1980-12-17</th>\n",
       "      <td>0.090540</td>\n",
       "      <td>0.090540</td>\n",
       "    </tr>\n",
       "    <tr>\n",
       "      <th>1980-12-18</th>\n",
       "      <td>0.093165</td>\n",
       "      <td>0.093165</td>\n",
       "    </tr>\n",
       "  </tbody>\n",
       "</table>\n",
       "</div>"
      ],
      "text/plain": [
       "                Open     Close\n",
       "Date                          \n",
       "1980-12-12  0.100600  0.100600\n",
       "1980-12-15  0.095789  0.095352\n",
       "1980-12-16  0.088790  0.088353\n",
       "1980-12-17  0.090540  0.090540\n",
       "1980-12-18  0.093165  0.093165"
      ]
     },
     "metadata": {},
     "execution_count": 6
    }
   ],
   "metadata": {}
  },
  {
   "cell_type": "code",
   "execution_count": 7,
   "source": [
    "df1.info()"
   ],
   "outputs": [
    {
     "output_type": "stream",
     "name": "stdout",
     "text": [
      "<class 'pandas.core.frame.DataFrame'>\n",
      "Index: 10014 entries, 1980-12-12 to 2020-08-28\n",
      "Data columns (total 2 columns):\n",
      " #   Column  Non-Null Count  Dtype  \n",
      "---  ------  --------------  -----  \n",
      " 0   Open    10014 non-null  float64\n",
      " 1   Close   10014 non-null  float64\n",
      "dtypes: float64(2)\n",
      "memory usage: 234.7+ KB\n"
     ]
    }
   ],
   "metadata": {}
  },
  {
   "cell_type": "code",
   "execution_count": 8,
   "source": [
    "df1"
   ],
   "outputs": [
    {
     "output_type": "execute_result",
     "data": {
      "text/html": [
       "<div>\n",
       "<style scoped>\n",
       "    .dataframe tbody tr th:only-of-type {\n",
       "        vertical-align: middle;\n",
       "    }\n",
       "\n",
       "    .dataframe tbody tr th {\n",
       "        vertical-align: top;\n",
       "    }\n",
       "\n",
       "    .dataframe thead th {\n",
       "        text-align: right;\n",
       "    }\n",
       "</style>\n",
       "<table border=\"1\" class=\"dataframe\">\n",
       "  <thead>\n",
       "    <tr style=\"text-align: right;\">\n",
       "      <th></th>\n",
       "      <th>Open</th>\n",
       "      <th>Close</th>\n",
       "    </tr>\n",
       "    <tr>\n",
       "      <th>Date</th>\n",
       "      <th></th>\n",
       "      <th></th>\n",
       "    </tr>\n",
       "  </thead>\n",
       "  <tbody>\n",
       "    <tr>\n",
       "      <th>1980-12-12</th>\n",
       "      <td>0.100600</td>\n",
       "      <td>0.100600</td>\n",
       "    </tr>\n",
       "    <tr>\n",
       "      <th>1980-12-15</th>\n",
       "      <td>0.095789</td>\n",
       "      <td>0.095352</td>\n",
       "    </tr>\n",
       "    <tr>\n",
       "      <th>1980-12-16</th>\n",
       "      <td>0.088790</td>\n",
       "      <td>0.088353</td>\n",
       "    </tr>\n",
       "    <tr>\n",
       "      <th>1980-12-17</th>\n",
       "      <td>0.090540</td>\n",
       "      <td>0.090540</td>\n",
       "    </tr>\n",
       "    <tr>\n",
       "      <th>1980-12-18</th>\n",
       "      <td>0.093165</td>\n",
       "      <td>0.093165</td>\n",
       "    </tr>\n",
       "    <tr>\n",
       "      <th>...</th>\n",
       "      <td>...</td>\n",
       "      <td>...</td>\n",
       "    </tr>\n",
       "    <tr>\n",
       "      <th>2020-08-24</th>\n",
       "      <td>127.875024</td>\n",
       "      <td>125.053177</td>\n",
       "    </tr>\n",
       "    <tr>\n",
       "      <th>2020-08-25</th>\n",
       "      <td>123.900603</td>\n",
       "      <td>124.027283</td>\n",
       "    </tr>\n",
       "    <tr>\n",
       "      <th>2020-08-26</th>\n",
       "      <td>125.373618</td>\n",
       "      <td>125.713928</td>\n",
       "    </tr>\n",
       "    <tr>\n",
       "      <th>2020-08-27</th>\n",
       "      <td>126.329969</td>\n",
       "      <td>124.211098</td>\n",
       "    </tr>\n",
       "    <tr>\n",
       "      <th>2020-08-28</th>\n",
       "      <td>125.207189</td>\n",
       "      <td>124.009895</td>\n",
       "    </tr>\n",
       "  </tbody>\n",
       "</table>\n",
       "<p>10014 rows × 2 columns</p>\n",
       "</div>"
      ],
      "text/plain": [
       "                  Open       Close\n",
       "Date                              \n",
       "1980-12-12    0.100600    0.100600\n",
       "1980-12-15    0.095789    0.095352\n",
       "1980-12-16    0.088790    0.088353\n",
       "1980-12-17    0.090540    0.090540\n",
       "1980-12-18    0.093165    0.093165\n",
       "...                ...         ...\n",
       "2020-08-24  127.875024  125.053177\n",
       "2020-08-25  123.900603  124.027283\n",
       "2020-08-26  125.373618  125.713928\n",
       "2020-08-27  126.329969  124.211098\n",
       "2020-08-28  125.207189  124.009895\n",
       "\n",
       "[10014 rows x 2 columns]"
      ]
     },
     "metadata": {},
     "execution_count": 8
    }
   ],
   "metadata": {}
  },
  {
   "cell_type": "code",
   "execution_count": null,
   "source": [],
   "outputs": [],
   "metadata": {}
  }
 ],
 "metadata": {
  "interpreter": {
   "hash": "31f2aee4e71d21fbe5cf8b01ff0e069b9275f58929596ceb00d14d90e3e16cd6"
  },
  "kernelspec": {
   "name": "python3",
   "display_name": "Python 3.8.2 64-bit"
  },
  "language_info": {
   "codemirror_mode": {
    "name": "ipython",
    "version": 3
   },
   "file_extension": ".py",
   "mimetype": "text/x-python",
   "name": "python",
   "nbconvert_exporter": "python",
   "pygments_lexer": "ipython3",
   "version": "3.8.2"
  }
 },
 "nbformat": 4,
 "nbformat_minor": 5
}