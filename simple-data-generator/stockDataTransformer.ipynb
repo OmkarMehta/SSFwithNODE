{
 "cells": [
  {
   "cell_type": "markdown",
   "source": [
    "* Given a stock data, which has open and close prices for each trading day, we want to create an array of (n_samples, n_prices). \n",
    "> n_prices = 10\n",
    "\n",
    "> n_samples = np.floor(stock_data's length/n_prices)\n",
    "\n"
   ],
   "metadata": {}
  },
  {
   "cell_type": "code",
   "execution_count": 2,
   "source": [
    "import pandas as pd\n",
    "dict_tickers = {\n",
    "    'Apple': 'AAPL',\n",
    "    'Microsoft': 'MSFT',\n",
    "    'Google': 'GOOG',\n",
    "    'Bitcoin': 'BTC-USD',\n",
    "    'Facebook': 'FB'\n",
    "}"
   ],
   "outputs": [],
   "metadata": {}
  },
  {
   "cell_type": "code",
   "execution_count": 19,
   "source": [
    "df = pd.read_csv('raw-stock-data/Apple.csv')# .set_index('Date')\n",
    "df.head()\n",
    "df.set_index('Date', inplace=True)\n",
    "df.head()\n",
    "df1 = df[['Open', 'Close']].copy()\n",
    "df1.head()\n"
   ],
   "outputs": [
    {
     "output_type": "execute_result",
     "data": {
      "text/html": [
       "<div>\n",
       "<style scoped>\n",
       "    .dataframe tbody tr th:only-of-type {\n",
       "        vertical-align: middle;\n",
       "    }\n",
       "\n",
       "    .dataframe tbody tr th {\n",
       "        vertical-align: top;\n",
       "    }\n",
       "\n",
       "    .dataframe thead th {\n",
       "        text-align: right;\n",
       "    }\n",
       "</style>\n",
       "<table border=\"1\" class=\"dataframe\">\n",
       "  <thead>\n",
       "    <tr style=\"text-align: right;\">\n",
       "      <th></th>\n",
       "      <th>Open</th>\n",
       "      <th>Close</th>\n",
       "    </tr>\n",
       "    <tr>\n",
       "      <th>Date</th>\n",
       "      <th></th>\n",
       "      <th></th>\n",
       "    </tr>\n",
       "  </thead>\n",
       "  <tbody>\n",
       "    <tr>\n",
       "      <th>2010-01-04</th>\n",
       "      <td>6.544805</td>\n",
       "      <td>6.562591</td>\n",
       "    </tr>\n",
       "    <tr>\n",
       "      <th>2010-01-05</th>\n",
       "      <td>6.580681</td>\n",
       "      <td>6.573935</td>\n",
       "    </tr>\n",
       "    <tr>\n",
       "      <th>2010-01-06</th>\n",
       "      <td>6.573936</td>\n",
       "      <td>6.469369</td>\n",
       "    </tr>\n",
       "    <tr>\n",
       "      <th>2010-01-07</th>\n",
       "      <td>6.493286</td>\n",
       "      <td>6.457407</td>\n",
       "    </tr>\n",
       "    <tr>\n",
       "      <th>2010-01-08</th>\n",
       "      <td>6.448822</td>\n",
       "      <td>6.500339</td>\n",
       "    </tr>\n",
       "  </tbody>\n",
       "</table>\n",
       "</div>"
      ],
      "text/plain": [
       "                Open     Close\n",
       "Date                          \n",
       "2010-01-04  6.544805  6.562591\n",
       "2010-01-05  6.580681  6.573935\n",
       "2010-01-06  6.573936  6.469369\n",
       "2010-01-07  6.493286  6.457407\n",
       "2010-01-08  6.448822  6.500339"
      ]
     },
     "metadata": {},
     "execution_count": 19
    }
   ],
   "metadata": {}
  },
  {
   "cell_type": "code",
   "execution_count": null,
   "source": [],
   "outputs": [],
   "metadata": {}
  },
  {
   "cell_type": "code",
   "execution_count": 18,
   "source": [
    "data = df1.values\n",
    "data.shape"
   ],
   "outputs": [
    {
     "output_type": "execute_result",
     "data": {
      "text/plain": [
       "(2532, 2)"
      ]
     },
     "metadata": {},
     "execution_count": 18
    }
   ],
   "metadata": {}
  },
  {
   "cell_type": "code",
   "execution_count": null,
   "source": [
    "data[:5]"
   ],
   "outputs": [],
   "metadata": {}
  },
  {
   "cell_type": "code",
   "execution_count": null,
   "source": [
    "def stockDataTransformer(filename, ):\n",
    "\n",
    "    # Pandas reads the csv data and loads it into the dataframe\n",
    "\n",
    "    # Filter data from columns of open and close prices\n",
    "\n",
    "    # Get numpy arrays from the dataframe\n",
    "\n",
    "    # "
   ],
   "outputs": [],
   "metadata": {}
  }
 ],
 "metadata": {
  "orig_nbformat": 4,
  "language_info": {
   "name": "python",
   "version": "3.8.9",
   "mimetype": "text/x-python",
   "codemirror_mode": {
    "name": "ipython",
    "version": 3
   },
   "pygments_lexer": "ipython3",
   "nbconvert_exporter": "python",
   "file_extension": ".py"
  },
  "kernelspec": {
   "name": "python3",
   "display_name": "Python 3.8.9 64-bit"
  },
  "interpreter": {
   "hash": "df0893f56f349688326838aaeea0de204df53a132722cbd565e54b24a8fec5f6"
  }
 },
 "nbformat": 4,
 "nbformat_minor": 2
}