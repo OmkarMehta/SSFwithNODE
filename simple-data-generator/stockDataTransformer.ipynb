{
 "cells": [
  {
   "cell_type": "markdown",
   "metadata": {},
   "source": [
    "* Given a stock data, which has open and close prices for each trading day, we want to create an array of (n_samples, n_prices). \n",
    "> n_prices = 10\n",
    "\n",
    "> n_samples = np.floor(stock_data's length/n_prices)\n",
    "\n"
   ]
  },
  {
   "cell_type": "code",
   "execution_count": 9,
   "metadata": {},
   "outputs": [],
   "source": [
    "import pandas as pd\n",
    "import numpy as np\n",
    "\n",
    "dict_tickers = {\n",
    "    'Apple': 'AAPL',\n",
    "    'Microsoft': 'MSFT',\n",
    "    'Google': 'GOOG',\n",
    "    'Bitcoin': 'BTC-USD',\n",
    "    'Facebook': 'FB'\n",
    "}"
   ]
  },
  {
   "cell_type": "code",
   "execution_count": 47,
   "metadata": {},
   "outputs": [],
   "source": [
    "def stockDataTransformer(filepath):\n",
    "    df = pd.read_csv(filepath)\n",
    "    df.set_index('Date', inplace=True)\n",
    "    df1 = df[['Open', 'Close']].copy()\n",
    "    data = df1.values\n",
    "    n_samples = data.shape[0]//10*10\n",
    "    reshape_number = data.shape[0]*data.shape[1]//10\n",
    "    data1 = data[:n_samples].reshape((reshape_number, 10))\n",
    "    return data1"
   ]
  },
  {
   "cell_type": "code",
   "execution_count": 48,
   "metadata": {},
   "outputs": [
    {
     "data": {
      "text/plain": [
       "array([[ 6.54480497,  6.5625906 ,  6.58068146, ...,  6.45740747,\n",
       "         6.4488221 ,  6.50033903],\n",
       "       [ 6.52548444,  6.4429965 ,  6.41478572, ...,  6.42214251,\n",
       "         6.46814064,  6.31481647],\n",
       "       [ 6.38841375,  6.59417486,  6.5901885 , ...,  6.06397772,\n",
       "         6.20994379,  6.22711611],\n",
       "       ...,\n",
       "       [71.52583212, 72.44355774, 73.08250094, ..., 73.96076965,\n",
       "        73.97064133, 73.6129303 ],\n",
       "       [73.30947816, 74.79708099, 75.79621627, ..., 78.1941452 ,\n",
       "        78.13000006, 77.13825989],\n",
       "       [76.93352072, 76.80770111, 77.36276707, ..., 78.09793854,\n",
       "        78.59380663, 78.37671661]])"
      ]
     },
     "execution_count": 48,
     "metadata": {},
     "output_type": "execute_result"
    }
   ],
   "source": [
    "tickerName = 'Apple'\n",
    "filepath = f\"raw-stock-data/{tickerName}.csv\"\n",
    "stockDataTransformer(filepath)"
   ]
  }
 ],
 "metadata": {
  "interpreter": {
   "hash": "df0893f56f349688326838aaeea0de204df53a132722cbd565e54b24a8fec5f6"
  },
  "kernelspec": {
   "display_name": "Python 3 (ipykernel)",
   "language": "python",
   "name": "python3"
  },
  "language_info": {
   "codemirror_mode": {
    "name": "ipython",
    "version": 3
   },
   "file_extension": ".py",
   "mimetype": "text/x-python",
   "name": "python",
   "nbconvert_exporter": "python",
   "pygments_lexer": "ipython3",
   "version": "3.8.9"
  }
 },
 "nbformat": 4,
 "nbformat_minor": 2
}
