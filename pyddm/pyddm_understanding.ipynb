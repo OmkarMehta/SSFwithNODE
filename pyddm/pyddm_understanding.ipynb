{
 "cells": [
  {
   "cell_type": "markdown",
   "metadata": {},
   "source": [
    "# Pyddm\n",
    "## &copy;  [Omkar Mehta](omehta2@illinois.edu) ##\n",
    "### Industrial and Enterprise Systems Engineering, The Grainger College of Engineering,  UIUC ###\n",
    "\n",
    "<hr style=\"border:2px solid blue\"> </hr>\n",
    "\n",
    "\n",
    "PyDDM can simulate models and generate artificial data, or it can fit them to data. Below are high-level overviews for how to accomplish each.\n",
    "\n",
    "To simulate models and generate artificial data:\n",
    "\n",
    "1. Optionally, define unique components of your model. Models are modular, and allow specifying a dynamic drift rate, noise level, diffusion bounds, starting position of the integrator, or post-simulation modifications to the RT histogram. Many common models for these are included by default, but for advance functionality you may need to subclass [Drift](https://pyddm.readthedocs.io/en/stable/apidoc/dependences.html#ddm.models.drift.Drift), [Noise](https://pyddm.readthedocs.io/en/stable/apidoc/dependences.html#ddm.models.noise.Noise), [Bound](https://pyddm.readthedocs.io/en/stable/apidoc/dependences.html#ddm.models.bound.Bound), [InitialCondition](https://pyddm.readthedocs.io/en/stable/apidoc/dependences.html#ddm.models.ic.InitialCondition), or [Overlay](https://pyddm.readthedocs.io/en/stable/apidoc/dependences.html#ddm.models.overlay.Overlay). These model components may depend on “conditions”, i.e. prespecified values associated with the behavioral task which change from trial to trial (e.g. stimulus coherence), or “parameters”, i.e. values which apply to all trials and should be fit to the subject.\n",
    "2. Define a model. Models are represented by creating an instance of the [Model](https://pyddm.readthedocs.io/en/stable/apidoc/model.html#ddm.model.Model) class, and specifying the model components to use for it. These model component can [either be the model components included in PyDDM](https://pyddm.readthedocs.io/en/stable/apidoc/dependences.html) or ones you created in step 1. Values must be specified for all parameters required by model components.\n",
    "3. Simulate the model using the [Model.solve()](https://pyddm.readthedocs.io/en/stable/apidoc/model.html#ddm.model.Model.solve) method to generate a [Solution](https://pyddm.readthedocs.io/en/stable/apidoc/model.html#ddm.solution.Solution) object. If you have multiple conditions, you must run [Model.solve()](https://pyddm.readthedocs.io/en/stable/apidoc/model.html#ddm.model.Model.solve) separately for each set of conditions and generate separate [Solution](https://pyddm.readthedocs.io/en/stable/apidoc/model.html#ddm.solution.Solution) objects.\n",
    "4. Run the [Solution.resample()](https://pyddm.readthedocs.io/en/stable/apidoc/model.html#ddm.solution.Solution.resample) method of the [Solution](https://pyddm.readthedocs.io/en/stable/apidoc/model.html#ddm.solution.Solution) object to generate a [Sample](https://pyddm.readthedocs.io/en/stable/apidoc/model.html#ddm.sample.Sample). If you have multiple [Solution](https://pyddm.readthedocs.io/en/stable/apidoc/model.html#ddm.solution.Solution) objects (for multiple task conditions), you will need to generate multiple [Sample](https://pyddm.readthedocs.io/en/stable/apidoc/model.html#ddm.sample.Sample) objects as well. These can be added together with the “+” operator to form one single [Sample](https://pyddm.readthedocs.io/en/stable/apidoc/model.html#ddm.sample.Sample) object.\n"
   ]
  },
  {
   "cell_type": "code",
   "execution_count": null,
   "metadata": {},
   "outputs": [
    {
     "name": "stdout",
     "output_type": "stream",
     "text": [
      "Defaulting to user installation because normal site-packages is not writeable\n",
      "Requirement already satisfied: scipy in /home/vscode/.local/lib/python3.9/site-packages (1.7.1)\n",
      "Requirement already satisfied: numpy<1.23.0,>=1.16.5 in /home/vscode/.local/lib/python3.9/site-packages (from scipy) (1.21.1)\n",
      "\u001b[33mWARNING: You are using pip version 21.2.1; however, version 21.2.3 is available.\n",
      "You should consider upgrading via the '/usr/local/bin/python -m pip install --upgrade pip' command.\u001b[0m\n",
      "Defaulting to user installation because normal site-packages is not writeable\n",
      "Requirement already satisfied: numpy in /home/vscode/.local/lib/python3.9/site-packages (1.21.1)\n",
      "\u001b[33mWARNING: You are using pip version 21.2.1; however, version 21.2.3 is available.\n",
      "You should consider upgrading via the '/usr/local/bin/python -m pip install --upgrade pip' command.\u001b[0m\n",
      "Defaulting to user installation because normal site-packages is not writeable\n",
      "Collecting pyddm\n",
      "  Downloading pyddm-0.5.1-py3-none-any.whl (73 kB)\n",
      "\u001b[K     |████████████████████████████████| 73 kB 842 kB/s \n",
      "\u001b[?25hCollecting paranoid-scientist>=0.2.1\n",
      "  Downloading paranoid_scientist-0.2.2-py3-none-any.whl (25 kB)\n",
      "Collecting matplotlib\n",
      "  Downloading matplotlib-3.4.2-cp39-cp39-manylinux1_x86_64.whl (10.3 MB)\n",
      "\u001b[K     |████████████████████████████████| 10.3 MB 4.6 MB/s \n",
      "\u001b[?25hRequirement already satisfied: scipy>=0.16 in /home/vscode/.local/lib/python3.9/site-packages (from pyddm) (1.7.1)\n",
      "Requirement already satisfied: numpy>=1.9.2 in /home/vscode/.local/lib/python3.9/site-packages (from pyddm) (1.21.1)\n",
      "Collecting pyparsing>=2.2.1\n",
      "  Downloading pyparsing-2.4.7-py2.py3-none-any.whl (67 kB)\n",
      "\u001b[K     |████████████████████████████████| 67 kB 934 kB/s \n",
      "\u001b[?25hRequirement already satisfied: python-dateutil>=2.7 in /home/vscode/.local/lib/python3.9/site-packages (from matplotlib->pyddm) (2.8.2)\n",
      "Collecting kiwisolver>=1.0.1\n",
      "  Downloading kiwisolver-1.3.1-cp39-cp39-manylinux1_x86_64.whl (1.2 MB)\n",
      "\u001b[K     |████████████████████████████████| 1.2 MB 4.8 MB/s \n",
      "\u001b[?25hCollecting pillow>=6.2.0\n",
      "  Downloading Pillow-8.3.1-cp39-cp39-manylinux_2_5_x86_64.manylinux1_x86_64.whl (3.0 MB)\n",
      "\u001b[K     |████████████████████████████████| 3.0 MB 492 kB/s \n",
      "\u001b[?25hCollecting cycler>=0.10\n",
      "  Downloading cycler-0.10.0-py2.py3-none-any.whl (6.5 kB)\n",
      "Requirement already satisfied: six in /home/vscode/.local/lib/python3.9/site-packages (from cycler>=0.10->matplotlib->pyddm) (1.16.0)\n",
      "Installing collected packages: pyparsing, pillow, kiwisolver, cycler, paranoid-scientist, matplotlib, pyddm\n",
      "Successfully installed cycler-0.10.0 kiwisolver-1.3.1 matplotlib-3.4.2 paranoid-scientist-0.2.2 pillow-8.3.1 pyddm-0.5.1 pyparsing-2.4.7\n",
      "\u001b[33mWARNING: You are using pip version 21.2.1; however, version 21.2.3 is available.\n",
      "You should consider upgrading via the '/usr/local/bin/python -m pip install --upgrade pip' command.\u001b[0m\n",
      "Defaulting to user installation because normal site-packages is not writeable\n",
      "Requirement already satisfied: matplotlib in /home/vscode/.local/lib/python3.9/site-packages (3.4.2)\n",
      "Requirement already satisfied: pyparsing>=2.2.1 in /home/vscode/.local/lib/python3.9/site-packages (from matplotlib) (2.4.7)\n",
      "Requirement already satisfied: pillow>=6.2.0 in /home/vscode/.local/lib/python3.9/site-packages (from matplotlib) (8.3.1)\n",
      "Requirement already satisfied: cycler>=0.10 in /home/vscode/.local/lib/python3.9/site-packages (from matplotlib) (0.10.0)\n",
      "Requirement already satisfied: python-dateutil>=2.7 in /home/vscode/.local/lib/python3.9/site-packages (from matplotlib) (2.8.2)\n",
      "Requirement already satisfied: kiwisolver>=1.0.1 in /home/vscode/.local/lib/python3.9/site-packages (from matplotlib) (1.3.1)\n",
      "Requirement already satisfied: numpy>=1.16 in /home/vscode/.local/lib/python3.9/site-packages (from matplotlib) (1.21.1)\n",
      "Requirement already satisfied: six in /home/vscode/.local/lib/python3.9/site-packages (from cycler>=0.10->matplotlib) (1.16.0)\n",
      "\u001b[33mWARNING: You are using pip version 21.2.1; however, version 21.2.3 is available.\n",
      "You should consider upgrading via the '/usr/local/bin/python -m pip install --upgrade pip' command.\u001b[0m\n",
      "Defaulting to user installation because normal site-packages is not writeable\n",
      "Collecting pandas\n",
      "  Downloading pandas-1.3.1-cp39-cp39-manylinux_2_17_x86_64.manylinux2014_x86_64.whl (11.7 MB)\n",
      "\u001b[K     |████████████████████████████████| 11.7 MB 1.6 MB/s \n",
      "\u001b[?25hCollecting pytz>=2017.3\n",
      "  Downloading pytz-2021.1-py2.py3-none-any.whl (510 kB)\n",
      "\u001b[K     |████████████████████████████████| 510 kB 2.2 MB/s \n",
      "\u001b[?25hRequirement already satisfied: numpy>=1.17.3 in /home/vscode/.local/lib/python3.9/site-packages (from pandas) (1.21.1)\n",
      "Requirement already satisfied: python-dateutil>=2.7.3 in /home/vscode/.local/lib/python3.9/site-packages (from pandas) (2.8.2)\n",
      "Requirement already satisfied: six>=1.5 in /home/vscode/.local/lib/python3.9/site-packages (from python-dateutil>=2.7.3->pandas) (1.16.0)\n",
      "Installing collected packages: pytz, pandas\n",
      "Successfully installed pandas-1.3.1 pytz-2021.1\n",
      "\u001b[33mWARNING: You are using pip version 21.2.1; however, version 21.2.3 is available.\n",
      "You should consider upgrading via the '/usr/local/bin/python -m pip install --upgrade pip' command.\u001b[0m\n",
      "Defaulting to user installation because normal site-packages is not writeable\n",
      "Requirement already satisfied: paranoid-scientist in /home/vscode/.local/lib/python3.9/site-packages (0.2.2)\n",
      "\u001b[33mWARNING: You are using pip version 21.2.1; however, version 21.2.3 is available.\n",
      "You should consider upgrading via the '/usr/local/bin/python -m pip install --upgrade pip' command.\u001b[0m\n",
      "Defaulting to user installation because normal site-packages is not writeable\n",
      "Collecting pathos\n",
      "  Downloading pathos-0.2.8-py2.py3-none-any.whl (81 kB)\n",
      "\u001b[K     |████████████████████████████████| 81 kB 313 kB/s \n",
      "\u001b[?25hCollecting pox>=0.3.0\n",
      "  Downloading pox-0.3.0-py2.py3-none-any.whl (30 kB)\n",
      "Collecting multiprocess>=0.70.12\n",
      "  Downloading multiprocess-0.70.12.2-py39-none-any.whl (128 kB)\n",
      "\u001b[K     |████████████████████████████████| 128 kB 6.0 MB/s \n",
      "\u001b[?25hCollecting ppft>=1.6.6.4\n",
      "  Downloading ppft-1.6.6.4-py3-none-any.whl (65 kB)\n",
      "\u001b[K     |████████████████████████████████| 65 kB 498 kB/s \n",
      "\u001b[?25hCollecting dill>=0.3.4\n",
      "  Downloading dill-0.3.4-py2.py3-none-any.whl (86 kB)\n",
      "\u001b[K     |████████████████████████████████| 86 kB 2.2 MB/s \n",
      "\u001b[?25hRequirement already satisfied: six>=1.7.3 in /home/vscode/.local/lib/python3.9/site-packages (from ppft>=1.6.6.4->pathos) (1.16.0)\n",
      "Installing collected packages: dill, ppft, pox, multiprocess, pathos\n",
      "Successfully installed dill-0.3.4 multiprocess-0.70.12.2 pathos-0.2.8 pox-0.3.0 ppft-1.6.6.4\n",
      "\u001b[33mWARNING: You are using pip version 21.2.1; however, version 21.2.3 is available.\n",
      "You should consider upgrading via the '/usr/local/bin/python -m pip install --upgrade pip' command.\u001b[0m\n",
      "Defaulting to user installation because normal site-packages is not writeable\n",
      "Collecting plotly\n",
      "  Downloading plotly-5.1.0-py2.py3-none-any.whl (20.6 MB)\n",
      "\u001b[K     |████████████████████████████████| 20.6 MB 104 kB/s \n",
      "\u001b[?25hRequirement already satisfied: six in /home/vscode/.local/lib/python3.9/site-packages (from plotly) (1.16.0)\n",
      "Collecting tenacity>=6.2.0\n",
      "  Downloading tenacity-8.0.1-py3-none-any.whl (24 kB)\n",
      "Installing collected packages: tenacity, plotly\n",
      "Successfully installed plotly-5.1.0 tenacity-8.0.1\n",
      "\u001b[33mWARNING: You are using pip version 21.2.1; however, version 21.2.3 is available.\n",
      "You should consider upgrading via the '/usr/local/bin/python -m pip install --upgrade pip' command.\u001b[0m\n"
     ]
    }
   ],
   "source": [
    "!pip install scipy\n",
    "!pip install numpy\n",
    "!pip install pyddm\n",
    "!pip install matplotlib\n",
    "!pip install pandas\n",
    "!pip install paranoid-scientist\n",
    "!pip install pathos\n",
    "!pip install plotly"
   ]
  },
  {
   "cell_type": "code",
   "execution_count": 5,
   "metadata": {},
   "outputs": [],
   "source": [
    "# libraries\n",
    "from ddm import Model\n",
    "from ddm.models import DriftConstant, NoiseConstant, BoundConstant, OverlayNonDecision\n",
    "from ddm.functions import fit_adjust_model, display_model\n",
    "\n",
    "model = Model(name='Simple model',\n",
    "              drift=DriftConstant(drift=2.0),\n",
    "              noise=NoiseConstant(noise=1.5),\n",
    "              bound=BoundConstant(B=1.1),\n",
    "              overlay=OverlayNonDecision(nondectime=.1),\n",
    "              dx=.001, dt=.01, T_dur=2)\n"
   ]
  },
  {
   "cell_type": "code",
   "execution_count": 16,
   "metadata": {},
   "outputs": [
    {
     "name": "stdout",
     "output_type": "stream",
     "text": [
      "Number of timesteps is 201.0\n",
      "Shape of t_domain() is (201,)\n",
      "Number of x_steps is 2201.0\n"
     ]
    }
   ],
   "source": [
    "print(f'Number of timesteps is {2/0.01+1}')  # considers initial state\n",
    "model.t_domain()\n",
    "print(f\"Shape of t_domain() is {model.t_domain().shape}\")\n",
    "# print(f'Number of x_steps is {1.1/0.001+1}') since B=1.1\n",
    "print(f'Number of x_steps is {2*1.1/0.001+1}')"
   ]
  },
  {
   "cell_type": "code",
   "execution_count": 4,
   "metadata": {},
   "outputs": [
    {
     "name": "stdout",
     "output_type": "stream",
     "text": [
      "Model Simple model information:\n",
      "Drift component DriftConstant:\n",
      "    constant\n",
      "    Fixed parameters:\n",
      "    - drift: 2.200000\n",
      "Noise component NoiseConstant:\n",
      "    constant\n",
      "    Fixed parameters:\n",
      "    - noise: 1.500000\n",
      "Bound component BoundConstant:\n",
      "    constant\n",
      "    Fixed parameters:\n",
      "    - B: 1.100000\n",
      "IC component ICPointSourceCenter:\n",
      "    point_source_center\n",
      "    (No parameters)\n",
      "Overlay component OverlayNonDecision:\n",
      "    Add a non-decision by shifting the histogram\n",
      "    Fixed parameters:\n",
      "    - nondectime: 0.100000\n",
      "\n"
     ]
    }
   ],
   "source": [
    "display_model(model)"
   ]
  },
  {
   "cell_type": "code",
   "execution_count": 19,
   "metadata": {},
   "outputs": [
    {
     "data": {
      "text/plain": "array([-1.21236354e-13, -1.21236354e-13, -1.21236354e-13, -1.21236354e-13,\n       -1.21236354e-13, -1.21236354e-13, -1.21236354e-13, -1.21236354e-13,\n       -1.21236354e-13, -1.21236354e-13, -1.21236354e-13,  1.31238761e-01,\n        3.84175819e-01,  6.39265892e-02,  2.83958396e-01,  1.77549788e-01,\n        4.93038456e-01,  7.02956235e-01,  6.47074754e-01,  1.04885487e+00,\n        1.23097666e+00])"
     },
     "execution_count": 19,
     "metadata": {},
     "output_type": "execute_result"
    }
   ],
   "source": [
    "# simulate_trial() simulates decision variable for a single trial. Uses Runge-Kutta by default.\n",
    "model.simulate_trial()"
   ]
  },
  {
   "cell_type": "code",
   "execution_count": null,
   "metadata": {},
   "outputs": [],
   "source": [
    "# simulated_solution() simulate individual trials (simulate_trial) 1000 times by default to yield a histogram.\n",
    "# model.simulated_solution() "
   ]
  },
  {
   "cell_type": "code",
   "execution_count": 6,
   "metadata": {},
   "outputs": [],
   "source": [
    "# solve() solves the model using an analytical solution and returns a Solution object describing the joing PDF distrobution of reaction times\n",
    "sol = model.solve(return_evolution=True)"
   ]
  },
  {
   "cell_type": "code",
   "execution_count": 7,
   "metadata": {},
   "outputs": [
    {
     "data": {
      "text/plain": "201"
     },
     "execution_count": 7,
     "metadata": {},
     "output_type": "execute_result"
    }
   ],
   "source": [
    "# returns the pdf of correct reaction times\n",
    "len(sol.pdf_corr())"
   ]
  },
  {
   "cell_type": "code",
   "execution_count": 21,
   "metadata": {},
   "outputs": [
    {
     "name": "stdout",
     "output_type": "stream",
     "text": [
      "[0.00000000e+00 0.00000000e+00 0.00000000e+00 0.00000000e+00\n",
      " 0.00000000e+00 0.00000000e+00 0.00000000e+00 0.00000000e+00\n",
      " 0.00000000e+00 0.00000000e+00 0.00000000e+00 7.88741941e-05\n",
      " 4.07558114e-04 1.15395962e-03 2.38553265e-03 4.04539430e-03\n",
      " 5.99153633e-03 8.05449549e-03 1.00817200e-02 1.19595367e-02\n",
      " 1.36171456e-02 1.50206115e-02 1.61632978e-02 1.70564869e-02\n",
      " 1.77217854e-02 1.81856426e-02 1.84757301e-02 1.86187457e-02\n",
      " 1.86392178e-02 1.85589684e-02 1.83969821e-02 1.81695104e-02\n",
      " 1.78902979e-02 1.75708619e-02 1.72207811e-02 1.68479734e-02\n",
      " 1.64589483e-02 1.60590309e-02 1.56525566e-02 1.52430372e-02\n",
      " 1.48333016e-02 1.44256151e-02 1.40217778e-02 1.36232075e-02\n",
      " 1.32310083e-02 1.28460275e-02 1.24689022e-02 1.21000983e-02\n",
      " 1.17399423e-02 1.13886478e-02 1.10463369e-02 1.07130582e-02\n",
      " 1.03888013e-02 1.00735085e-02 9.76708522e-03 9.46940753e-03\n",
      " 9.18032894e-03 8.89968570e-03 8.62730123e-03 8.36298964e-03\n",
      " 8.10655864e-03 7.85781189e-03 7.61655086e-03 7.38257639e-03\n",
      " 7.15568989e-03 6.93569431e-03 6.72239488e-03 6.51559974e-03\n",
      " 6.31512040e-03 6.12077204e-03 5.93237384e-03 5.74974910e-03\n",
      " 5.57272541e-03 5.40113469e-03 5.23481325e-03 5.07360180e-03\n",
      " 4.91734541e-03 4.76589347e-03 4.61909967e-03 4.47682189e-03\n",
      " 4.33892215e-03 4.20526651e-03 4.07572499e-03 3.95017148e-03\n",
      " 3.82848365e-03 3.71054283e-03 3.59623395e-03 3.48544539e-03\n",
      " 3.37806895e-03 3.27399970e-03 3.17313591e-03 3.07537897e-03\n",
      " 2.98063326e-03 2.88880612e-03 2.79980769e-03 2.71355088e-03\n",
      " 2.62995129e-03 2.54892710e-03 2.47039898e-03 2.39429007e-03\n",
      " 2.32052586e-03 2.24903414e-03 2.17974490e-03 2.11259030e-03\n",
      " 2.04750460e-03 1.98442405e-03 1.92328689e-03 1.86403325e-03\n",
      " 1.80660511e-03 1.75094623e-03 1.69700211e-03 1.64471992e-03\n",
      " 1.59404846e-03 1.54493810e-03 1.49734076e-03 1.45120983e-03\n",
      " 1.40650011e-03 1.36316784e-03 1.32117057e-03 1.28046717e-03\n",
      " 1.24101779e-03 1.20278378e-03 1.16572771e-03 1.12981328e-03\n",
      " 1.09500533e-03 1.06126975e-03 1.02857353e-03 9.96884625e-04\n",
      " 9.66172012e-04 9.36405612e-04 9.07556272e-04 8.79595739e-04\n",
      " 8.52496631e-04 8.26232408e-04 8.00777349e-04 7.76106525e-04\n",
      " 7.52195773e-04 7.29021679e-04 7.06561545e-04 6.84793377e-04\n",
      " 6.63695855e-04 6.43248318e-04 6.23430741e-04 6.04223716e-04\n",
      " 5.85608432e-04 5.67566659e-04 5.50080728e-04 5.33133514e-04\n",
      " 5.16708419e-04 5.00789359e-04 4.85360742e-04 4.70407459e-04\n",
      " 4.55914866e-04 4.41868770e-04 4.28255414e-04 4.15061466e-04\n",
      " 4.02274006e-04 3.89880509e-04 3.77868838e-04 3.66227230e-04\n",
      " 3.54944283e-04 3.44008949e-04 3.33410516e-04 3.23138607e-04\n",
      " 3.13183160e-04 3.03534427e-04 2.94182958e-04 2.85119594e-04\n",
      " 2.76335460e-04 2.67821952e-04 2.59570734e-04 2.51573725e-04\n",
      " 2.43823092e-04 2.36311245e-04 2.29030827e-04 2.21974709e-04\n",
      " 2.15135980e-04 2.08507943e-04 2.02084106e-04 1.95858179e-04\n",
      " 1.89824063e-04 1.83975851e-04 1.78307813e-04 1.72814400e-04\n",
      " 1.67490231e-04 1.62330092e-04 1.57328930e-04 1.52481847e-04\n",
      " 1.47784095e-04 1.43231075e-04 1.38818327e-04 1.34541529e-04\n",
      " 1.30396494e-04 1.26379161e-04 1.22485597e-04 1.18711987e-04\n",
      " 1.15054638e-04 1.11509966e-04 1.08074501e-04 1.04744877e-04\n",
      " 1.01517835e-04]\n",
      "\n",
      "\n",
      "[0.         0.         0.         0.         0.         0.\n",
      " 0.         0.         0.         0.         0.         0.00788742\n",
      " 0.04075581 0.11539596 0.23855327 0.40453943 0.59915363 0.80544955\n",
      " 1.008172   1.19595367 1.36171456 1.50206115 1.61632978 1.70564869\n",
      " 1.77217854 1.81856426 1.84757301 1.86187457 1.86392178 1.85589684\n",
      " 1.83969821 1.81695104 1.78902979 1.75708619 1.72207811 1.68479734\n",
      " 1.64589483 1.60590309 1.56525566 1.52430372 1.48333016 1.44256151\n",
      " 1.40217778 1.36232075 1.32310083 1.28460275 1.24689022 1.21000983\n",
      " 1.17399423 1.13886478 1.10463369 1.07130582 1.03888013 1.00735085\n",
      " 0.97670852 0.94694075 0.91803289 0.88996857 0.86273012 0.83629896\n",
      " 0.81065586 0.78578119 0.76165509 0.73825764 0.71556899 0.69356943\n",
      " 0.67223949 0.65155997 0.63151204 0.6120772  0.59323738 0.57497491\n",
      " 0.55727254 0.54011347 0.52348133 0.50736018 0.49173454 0.47658935\n",
      " 0.46190997 0.44768219 0.43389221 0.42052665 0.4075725  0.39501715\n",
      " 0.38284837 0.37105428 0.35962339 0.34854454 0.33780689 0.32739997\n",
      " 0.31731359 0.3075379  0.29806333 0.28888061 0.27998077 0.27135509\n",
      " 0.26299513 0.25489271 0.2470399  0.23942901 0.23205259 0.22490341\n",
      " 0.21797449 0.21125903 0.20475046 0.1984424  0.19232869 0.18640332\n",
      " 0.18066051 0.17509462 0.16970021 0.16447199 0.15940485 0.15449381\n",
      " 0.14973408 0.14512098 0.14065001 0.13631678 0.13211706 0.12804672\n",
      " 0.12410178 0.12027838 0.11657277 0.11298133 0.10950053 0.10612698\n",
      " 0.10285735 0.09968846 0.0966172  0.09364056 0.09075563 0.08795957\n",
      " 0.08524966 0.08262324 0.08007773 0.07761065 0.07521958 0.07290217\n",
      " 0.07065615 0.06847934 0.06636959 0.06432483 0.06234307 0.06042237\n",
      " 0.05856084 0.05675667 0.05500807 0.05331335 0.05167084 0.05007894\n",
      " 0.04853607 0.04704075 0.04559149 0.04418688 0.04282554 0.04150615\n",
      " 0.0402274  0.03898805 0.03778688 0.03662272 0.03549443 0.03440089\n",
      " 0.03334105 0.03231386 0.03131832 0.03035344 0.0294183  0.02851196\n",
      " 0.02763355 0.0267822  0.02595707 0.02515737 0.02438231 0.02363112\n",
      " 0.02290308 0.02219747 0.0215136  0.02085079 0.02020841 0.01958582\n",
      " 0.01898241 0.01839759 0.01783078 0.01728144 0.01674902 0.01623301\n",
      " 0.01573289 0.01524818 0.01477841 0.01432311 0.01388183 0.01345415\n",
      " 0.01303965 0.01263792 0.01224856 0.0118712  0.01150546 0.011151\n",
      " 0.01080745 0.01047449 0.01015178]\n"
     ]
    }
   ],
   "source": [
    "print(sol.corr)\n",
    "\n",
    "print('\\n')\n",
    "\n",
    "print(sol.pdf_corr())"
   ]
  },
  {
   "cell_type": "code",
   "execution_count": 11,
   "metadata": {},
   "outputs": [
    {
     "name": "stdout",
     "output_type": "stream",
     "text": [
      "WARNING: Probability evolution accessed for model with overlays.  Probability evolution applies *before* overlays.  Please see the evolution docs for more information and to prevent misunderstanding.\n"
     ]
    }
   ],
   "source": [
    "# stores the pdf evolution of the reaction times. Returns x_domain by t_domain numpy error\n",
    "pdf_evol = sol.pdf_evolution()"
   ]
  },
  {
   "cell_type": "code",
   "execution_count": 13,
   "metadata": {},
   "outputs": [
    {
     "data": {
      "text/plain": "(2201, 201)"
     },
     "execution_count": 13,
     "metadata": {},
     "output_type": "execute_result"
    }
   ],
   "source": [
    "# print(f'Number of x_steps is {1.1/0.001+1}') since B=1.1\n",
    "pdf_evol.shape"
   ]
  },
  {
   "cell_type": "markdown",
   "metadata": {},
   "source": [
    "## Plot PDF evolution using Plotly\n"
   ]
  },
  {
   "cell_type": "code",
   "execution_count": null,
   "metadata": {},
   "outputs": [],
   "source": [
    "import plotly.graph_objects as go\n",
    "\n",
    "z=pdf_evol\n",
    "sh_0, sh_1 = z.shape\n",
    "x, y = np.linspace(0, 2.2, sh_0), np.linspace(0, 2, sh_1)\n",
    "fig = go.Figure(data=[go.Surface(z=z)])\n",
    "\n",
    "fig.update_layout(title='PDF Evolution', autosize=False,\n",
    "                  width=500, height=500,\n",
    "                  margin=dict(l=65, r=50, b=65, t=90))\n",
    "\n",
    "fig.show()\n"
   ]
  },
  {
   "cell_type": "code",
   "execution_count": 21,
   "metadata": {},
   "outputs": [],
   "source": [
    "samp=sol.resample(k = 10)"
   ]
  },
  {
   "cell_type": "code",
   "execution_count": 22,
   "metadata": {},
   "outputs": [],
   "source": [
    "samp_df = samp.to_pandas_dataframe()"
   ]
  },
  {
   "cell_type": "code",
   "execution_count": 23,
   "metadata": {},
   "outputs": [
    {
     "name": "stdout",
     "output_type": "stream",
     "text": [
      "<class 'pandas.core.frame.DataFrame'>\n",
      "RangeIndex: 10 entries, 0 to 9\n",
      "Data columns (total 2 columns):\n",
      " #   Column   Non-Null Count  Dtype  \n",
      "---  ------   --------------  -----  \n",
      " 0   correct  10 non-null     int64  \n",
      " 1   RT       10 non-null     float64\n",
      "dtypes: float64(1), int64(1)\n",
      "memory usage: 288.0 bytes\n"
     ]
    }
   ],
   "source": [
    "samp_df.info()"
   ]
  },
  {
   "cell_type": "code",
   "execution_count": 24,
   "metadata": {},
   "outputs": [
    {
     "data": {
      "text/html": "<div>\n<style scoped>\n    .dataframe tbody tr th:only-of-type {\n        vertical-align: middle;\n    }\n\n    .dataframe tbody tr th {\n        vertical-align: top;\n    }\n\n    .dataframe thead th {\n        text-align: right;\n    }\n</style>\n<table border=\"1\" class=\"dataframe\">\n  <thead>\n    <tr style=\"text-align: right;\">\n      <th></th>\n      <th>correct</th>\n      <th>RT</th>\n    </tr>\n  </thead>\n  <tbody>\n    <tr>\n      <th>0</th>\n      <td>1</td>\n      <td>1.070170</td>\n    </tr>\n    <tr>\n      <th>1</th>\n      <td>1</td>\n      <td>0.193883</td>\n    </tr>\n    <tr>\n      <th>2</th>\n      <td>1</td>\n      <td>0.359876</td>\n    </tr>\n    <tr>\n      <th>3</th>\n      <td>1</td>\n      <td>0.590755</td>\n    </tr>\n    <tr>\n      <th>4</th>\n      <td>1</td>\n      <td>0.391765</td>\n    </tr>\n    <tr>\n      <th>5</th>\n      <td>1</td>\n      <td>0.568277</td>\n    </tr>\n    <tr>\n      <th>6</th>\n      <td>1</td>\n      <td>1.494951</td>\n    </tr>\n    <tr>\n      <th>7</th>\n      <td>1</td>\n      <td>0.259402</td>\n    </tr>\n    <tr>\n      <th>8</th>\n      <td>1</td>\n      <td>0.409133</td>\n    </tr>\n    <tr>\n      <th>9</th>\n      <td>0</td>\n      <td>0.373702</td>\n    </tr>\n  </tbody>\n</table>\n</div>",
      "text/plain": "   correct        RT\n0        1  1.070170\n1        1  0.193883\n2        1  0.359876\n3        1  0.590755\n4        1  0.391765\n5        1  0.568277\n6        1  1.494951\n7        1  0.259402\n8        1  0.409133\n9        0  0.373702"
     },
     "execution_count": 24,
     "metadata": {},
     "output_type": "execute_result"
    }
   ],
   "source": [
    "samp_df"
   ]
  },
  {
   "cell_type": "code",
   "execution_count": 26,
   "metadata": {},
   "outputs": [
    {
     "data": {
      "text/plain": "<ddm.sample._Sample_Iter_Wraper at 0x407d12b760>"
     },
     "execution_count": 26,
     "metadata": {},
     "output_type": "execute_result"
    }
   ],
   "source": [
    "samp.items(correct=True)"
   ]
  },
  {
   "cell_type": "code",
   "execution_count": 28,
   "metadata": {},
   "outputs": [
    {
     "data": {
      "text/plain": "[]"
     },
     "execution_count": 28,
     "metadata": {},
     "output_type": "execute_result"
    }
   ],
   "source": [
    "samp.condition_names()"
   ]
  },
  {
   "cell_type": "code",
   "execution_count": 29,
   "metadata": {},
   "outputs": [
    {
     "data": {
      "text/plain": "array([0.  , 0.01, 0.02, 0.03, 0.04, 0.05, 0.06, 0.07, 0.08, 0.09, 0.1 ,\n       0.11, 0.12, 0.13, 0.14, 0.15, 0.16, 0.17, 0.18, 0.19, 0.2 , 0.21,\n       0.22, 0.23, 0.24, 0.25, 0.26, 0.27, 0.28, 0.29, 0.3 , 0.31, 0.32,\n       0.33, 0.34, 0.35, 0.36, 0.37, 0.38, 0.39, 0.4 , 0.41, 0.42, 0.43,\n       0.44, 0.45, 0.46, 0.47, 0.48, 0.49, 0.5 , 0.51, 0.52, 0.53, 0.54,\n       0.55, 0.56, 0.57, 0.58, 0.59, 0.6 , 0.61, 0.62, 0.63, 0.64, 0.65,\n       0.66, 0.67, 0.68, 0.69, 0.7 , 0.71, 0.72, 0.73, 0.74, 0.75, 0.76,\n       0.77, 0.78, 0.79, 0.8 , 0.81, 0.82, 0.83, 0.84, 0.85, 0.86, 0.87,\n       0.88, 0.89, 0.9 , 0.91, 0.92, 0.93, 0.94, 0.95, 0.96, 0.97, 0.98,\n       0.99, 1.  , 1.01, 1.02, 1.03, 1.04, 1.05, 1.06, 1.07, 1.08, 1.09,\n       1.1 , 1.11, 1.12, 1.13, 1.14, 1.15, 1.16, 1.17, 1.18, 1.19, 1.2 ,\n       1.21, 1.22, 1.23, 1.24, 1.25, 1.26, 1.27, 1.28, 1.29, 1.3 , 1.31,\n       1.32, 1.33, 1.34, 1.35, 1.36, 1.37, 1.38, 1.39, 1.4 , 1.41, 1.42,\n       1.43, 1.44, 1.45, 1.46, 1.47, 1.48, 1.49, 1.5 , 1.51, 1.52, 1.53,\n       1.54, 1.55, 1.56, 1.57, 1.58, 1.59, 1.6 , 1.61, 1.62, 1.63, 1.64,\n       1.65, 1.66, 1.67, 1.68, 1.69, 1.7 , 1.71, 1.72, 1.73, 1.74, 1.75,\n       1.76, 1.77, 1.78, 1.79, 1.8 , 1.81, 1.82, 1.83, 1.84, 1.85, 1.86,\n       1.87, 1.88, 1.89, 1.9 , 1.91, 1.92, 1.93, 1.94, 1.95, 1.96, 1.97,\n       1.98, 1.99, 2.  ])"
     },
     "execution_count": 29,
     "metadata": {},
     "output_type": "execute_result"
    }
   ],
   "source": [
    "samp.t_domain()"
   ]
  },
  {
   "cell_type": "code",
   "execution_count": 30,
   "metadata": {},
   "outputs": [
    {
     "data": {
      "text/plain": "array([ 0.,  0.,  0.,  0.,  0.,  0.,  0.,  0.,  0.,  0.,  0.,  0.,  0.,\n        0.,  0.,  0.,  0.,  0.,  0., 10.,  0.,  0.,  0.,  0.,  0.,  0.,\n       10.,  0.,  0.,  0.,  0.,  0.,  0.,  0.,  0.,  0., 10.,  0.,  0.,\n       10.,  0., 10.,  0.,  0.,  0.,  0.,  0.,  0.,  0.,  0.,  0.,  0.,\n        0.,  0.,  0.,  0.,  0., 10.,  0., 10.,  0.,  0.,  0.,  0.,  0.,\n        0.,  0.,  0.,  0.,  0.,  0.,  0.,  0.,  0.,  0.,  0.,  0.,  0.,\n        0.,  0.,  0.,  0.,  0.,  0.,  0.,  0.,  0.,  0.,  0.,  0.,  0.,\n        0.,  0.,  0.,  0.,  0.,  0.,  0.,  0.,  0.,  0.,  0.,  0.,  0.,\n        0.,  0.,  0., 10.,  0.,  0.,  0.,  0.,  0.,  0.,  0.,  0.,  0.,\n        0.,  0.,  0.,  0.,  0.,  0.,  0.,  0.,  0.,  0.,  0.,  0.,  0.,\n        0.,  0.,  0.,  0.,  0.,  0.,  0.,  0.,  0.,  0.,  0.,  0.,  0.,\n        0.,  0.,  0.,  0.,  0.,  0., 10.,  0.,  0.,  0.,  0.,  0.,  0.,\n        0.,  0.,  0.,  0.,  0.,  0.,  0.,  0.,  0.,  0.,  0.,  0.,  0.,\n        0.,  0.,  0.,  0.,  0.,  0.,  0.,  0.,  0.,  0.,  0.,  0.,  0.,\n        0.,  0.,  0.,  0.,  0.,  0.,  0.,  0.,  0.,  0.,  0.,  0.,  0.,\n        0.,  0.,  0.,  0.,  0.,  0.])"
     },
     "execution_count": 30,
     "metadata": {},
     "output_type": "execute_result"
    }
   ],
   "source": [
    "samp.pdf_corr()"
   ]
  },
  {
   "cell_type": "code",
   "execution_count": 32,
   "metadata": {},
   "outputs": [
    {
     "data": {
      "text/plain": "array([1.07017047, 0.19388311, 0.35987629, 0.59075526, 0.39176538,\n       0.56827721, 1.49495124, 0.25940165, 0.40913304])"
     },
     "execution_count": 32,
     "metadata": {},
     "output_type": "execute_result"
    }
   ],
   "source": [
    "samp.corr"
   ]
  },
  {
   "cell_type": "code",
   "execution_count": null,
   "metadata": {},
   "outputs": [],
   "source": []
  }
 ],
 "metadata": {
  "kernelspec": {
   "display_name": "Python 3.9.6 64-bit",
   "name": "python396jvsc74a57bd04cd7ab41f5fca4b9b44701077e38c5ffd31fe66a6cab21e0214b68d958d0e462"
  },
  "language_info": {
   "name": "python",
   "version": ""
  },
  "metadata": {
   "interpreter": {
    "hash": "4cd7ab41f5fca4b9b44701077e38c5ffd31fe66a6cab21e0214b68d958d0e462"
   }
  },
  "orig_nbformat": 2
 },
 "nbformat": 4,
 "nbformat_minor": 2
}