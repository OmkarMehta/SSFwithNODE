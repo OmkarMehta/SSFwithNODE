{
 "cells": [
  {
   "cell_type": "markdown",
   "metadata": {},
   "source": [
    "System requirements\n",
    "\n",
    "* Python 3.5 or higher\n",
    "* Scipy/numpy\n",
    "* Paranoid scientist (pip install paranoid-scientist)\n",
    "* For plotting features, matplotlib\n",
    "* For parallelization support, pathos\n",
    "\n",
    "## Hello World!\n"
   ]
  },
  {
   "cell_type": "code",
   "execution_count": 2,
   "metadata": {},
   "outputs": [
    {
     "data": {
      "image/png": "[encoded data removed]",
      "text/plain": "<Figure size 432x288 with 1 Axes>"
     },
     "metadata": {
      "needs_background": "light"
     },
     "output_type": "display_data"
    }
   ],
   "source": [
    "import matplotlib.pyplot as plt\n",
    "from ddm import Model\n",
    "m = Model()\n",
    "s = m.solve()\n",
    "plt.plot(s.model.t_domain(), s.pdf_corr())\n",
    "plt.savefig(\"helloworld.png\")\n",
    "plt.show()"
   ]
  },
  {
   "cell_type": "code",
   "execution_count": 4,
   "metadata": {},
   "outputs": [
    {
     "data": {
      "text/plain": "Model(name='', drift=DriftConstant(drift=0), noise=NoiseConstant(noise=1), bound=BoundConstant(B=1), IC=ICPointSourceCenter(), overlay=OverlayNone(), dx=0.005, dt=0.005, T_dur=2.0)"
     },
     "execution_count": 4,
     "metadata": {},
     "output_type": "execute_result"
    }
   ],
   "source": [
    "s.model"
   ]
  },
  {
   "cell_type": "code",
   "execution_count": 6,
   "metadata": {},
   "outputs": [
    {
     "name": "stdout",
     "output_type": "stream",
     "text": [
      "Help on class Model in module ddm.model:\n",
      "\n",
      "class Model(builtins.object)\n",
      " |  Model(drift=DriftConstant(drift=0), noise=NoiseConstant(noise=1), bound=BoundConstant(B=1), IC=ICPointSourceCenter(), overlay=OverlayNone(), name='', dx=0.005, dt=0.005, T_dur=2.0, fitresult=None)\n",
      " |  \n",
      " |  A full simulation of a single DDM-style model.\n",
      " |  \n",
      " |  Each model simulation depends on five key components:\n",
      " |  \n",
      " |  - A description of how drift rate (drift) changes throughout the simulation.\n",
      " |  - A description of how variability (noise) changes throughout the simulation.\n",
      " |  - A description of how the boundary changes throughout the simulation.\n",
      " |  - Starting conditions for the model\n",
      " |  - Specific details of a task which cause dynamic changes in the model (e.g. a stimulus intensity change)\n",
      " |  \n",
      " |  This class manages these, and also provides the affiliated\n",
      " |  services, such as analytical or numerical simulations of the\n",
      " |  resulting reaction time distribution.\n",
      " |  \n",
      " |  Methods defined here:\n",
      " |  \n",
      " |  IC(self, conditions)\n",
      " |      The initial distribution at t=0.\n",
      " |      \n",
      " |      Returns a length N ndarray (where N is the size of x_domain())\n",
      " |      which should sum to 1.\n",
      " |  \n",
      " |  __init__(self, drift=DriftConstant(drift=0), noise=NoiseConstant(noise=1), bound=BoundConstant(B=1), IC=ICPointSourceCenter(), overlay=OverlayNone(), name='', dx=0.005, dt=0.005, T_dur=2.0, fitresult=None)\n",
      " |      Construct a Model object from the 5 key components.\n",
      " |      \n",
      " |      The five key components of our DDM-style models describe how\n",
      " |      the drift rate (`drift`), noise (`noise`), and bounds (`bound`)\n",
      " |      change over time, and the initial conditions (`IC`).\n",
      " |      \n",
      " |      These five components are given by the parameters `drift`,\n",
      " |      `noise`, `bound`, and `IC`, respectively.  They should be\n",
      " |      types which inherit from the types Drift, Noise, Bound, and\n",
      " |      InitialCondition, respectively.  They default to constant\n",
      " |      unitary values.\n",
      " |      \n",
      " |      Additionally, simulation parameters can be set, such as time\n",
      " |      and spacial precision (`dt` and `dx`) and the simulation\n",
      " |      duration `T_dur`.  If not specified, they will be taken from\n",
      " |      the defaults specified in the parameters file.\n",
      " |      \n",
      " |      If you are creating a model, `fitresult` should always be\n",
      " |      None.  This is provided as an optional parameter because when\n",
      " |      models are output as a string (using \"str\" or \"repr\"), they\n",
      " |      must save fitting information.  Thus, this allows you to fit a\n",
      " |      model, convert it to a string, save that string to a text\n",
      " |      file, and then run \"exec\" on that file in a new script to load\n",
      " |      the model.\n",
      " |      \n",
      " |      The `name` parameter is exclusively for convenience, and may\n",
      " |      be used in plotting or in debugging.\n",
      " |  \n",
      " |  __repr__(self, pretty=False)\n",
      " |      Return repr(self).\n",
      " |  \n",
      " |  __str__(self)\n",
      " |      Return str(self).\n",
      " |  \n",
      " |  can_solve_cn(self, conditions={})\n",
      " |      Check whether this model is compatible with Crank-Nicolson solver.\n",
      " |      \n",
      " |      All bound functions which do not depend on time are compatible.\n",
      " |  \n",
      " |  can_solve_explicit(self, conditions={})\n",
      " |      Check explicit method stability criterion\n",
      " |  \n",
      " |  check_conditions_satisfied(self, conditions)\n",
      " |  \n",
      " |  flux(self, x, t, conditions)\n",
      " |      The flux across the boundary at position `x` at time `t`.\n",
      " |  \n",
      " |  get_dependence(self, name)\n",
      " |      Return the dependence object given by the string `name`.\n",
      " |  \n",
      " |  get_fit_result(self)\n",
      " |      Returns a FitResult object describing how the model was fit.\n",
      " |      \n",
      " |      Returns the FitResult object describing the last time this\n",
      " |      model was fit to data, including the loss function, fitting\n",
      " |      method, and the loss function value.  If the model was never\n",
      " |      fit to data, this will return FitResultEmpty.\n",
      " |  \n",
      " |  get_model_parameter_names(self)\n",
      " |      Get an ordered list of the names of all parameters in the model.\n",
      " |      \n",
      " |      Returns the name of each model parameter.  The ordering is\n",
      " |      arbitrary, but is uaranteed to be in the same order as\n",
      " |      get_model_parameters() and set_model_parameters(). If multiple\n",
      " |      parameters refer to the same \"Fittable\" object, then that\n",
      " |      object will only be listed once, however the names of the\n",
      " |      parameters will be separated by a \"/\" character.\n",
      " |  \n",
      " |  get_model_parameters(self)\n",
      " |      Get an ordered list of all model parameters.\n",
      " |      \n",
      " |      Returns a list of each model parameter which can be varied\n",
      " |      during a fitting procedure.  The ordering is arbitrary but is\n",
      " |      guaranteed to be in the same order as\n",
      " |      get_model_parameter_names() and set_model_parameters().  If\n",
      " |      multiple parameters refer to the same \"Fittable\" object, then\n",
      " |      that object will only be listed once.\n",
      " |  \n",
      " |  get_model_type(self)\n",
      " |      Return a dictionary which fully specifies the class of the five key model components.\n",
      " |  \n",
      " |  has_analytical_solution(self)\n",
      " |      Is it possible to find an analytic solution for this model?\n",
      " |  \n",
      " |  set_model_parameters(self, params)\n",
      " |      Set the parameters of the model from an ordered list.\n",
      " |      \n",
      " |      Takes as an argument a list of parameters in the same order as\n",
      " |      those from get_model_parameters().  Sets the associated\n",
      " |      parameters as a \"Fitted\" object. If multiple parameters refer\n",
      " |      to the same \"Fittable\" object, then that object will only be\n",
      " |      listed once.\n",
      " |  \n",
      " |  simulate_trial(self, conditions={}, cutoff=True, rk4=True, seed=0)\n",
      " |      Simulate the decision variable for one trial.\n",
      " |      \n",
      " |      Given conditions `conditions`, this function will simulate the\n",
      " |      decision variable for a single trial.  It will cut off the\n",
      " |      simulation when the decision variable crosses the boundary\n",
      " |      unless `cutoff` is set to False.  By default, Runge-Kutta is\n",
      " |      used to simulate the trial, however if `rk4` is set to False,\n",
      " |      the less efficient Euler's method is used instead. This\n",
      " |      returns a trajectory of the simulated trial over time as a\n",
      " |      numpy array.\n",
      " |      \n",
      " |      Note that this will return the same trajectory on each run\n",
      " |      unless the random seed `seed` is varied.\n",
      " |      \n",
      " |      Also note that you shouldn't normally need to use this\n",
      " |      function.  To simulate an entire probability distributions,\n",
      " |      call Model.solve() and the results of the simulation will be\n",
      " |      in the returned Solution object.  This is only useful for\n",
      " |      finding individual trajectories instead of the probability\n",
      " |      distribution as a whole.\n",
      " |  \n",
      " |  simulated_solution(self, conditions={}, size=1000, rk4=True, seed=0)\n",
      " |      Simulate individual trials to obtain a distribution.\n",
      " |      \n",
      " |      Given conditions `conditions` and the number `size` of trials\n",
      " |      to simulate, this will run the function \"simulate_trial\"\n",
      " |      `size` times, and use the result to find a histogram analogous\n",
      " |      to solve.  Returns a Sample object.\n",
      " |      \n",
      " |      Note that in practice you should never need to use this\n",
      " |      function.  This function uses an outdated method to simulate\n",
      " |      the model and should be used for comparison perposes only.  To\n",
      " |      produce a probability density function of boundary crosses,\n",
      " |      use Model.solve().  To sample from the probability\n",
      " |      distribution (e.g. for finding confidence intervals for\n",
      " |      limited amounts of data), call Model.solve() and then use the\n",
      " |      Solution.resample() function of the resulting Solution.\n",
      " |  \n",
      " |  solve(self, conditions={}, return_evolution=False)\n",
      " |      Solve the model using an analytic solution if possible, and a numeric solution if not.\n",
      " |      \n",
      " |      Return a Solution object describing the joint PDF distribution of reaction times.\n",
      " |  \n",
      " |  solve_analytical(self, conditions={})\n",
      " |      Solve the model with an analytic solution, if possible.\n",
      " |      \n",
      " |      Analytic solutions are only possible in a select number of\n",
      " |      special cases; in particular, it works for simple DDM and for\n",
      " |      linearly collapsing bounds and arbitrary single-point initial \n",
      " |      conditions. (See Anderson (1960) for implementation details.)  \n",
      " |      For most reasonably complex models, the method will fail.  \n",
      " |      Check whether a solution is possible with has_analytic_solution().\n",
      " |      \n",
      " |      If successful, this returns a Solution object describing the\n",
      " |      joint PDF.  If unsuccessful, this will raise an exception.\n",
      " |  \n",
      " |  solve_numerical(self, method='cn', conditions={}, return_evolution=False)\n",
      " |      Solve the DDM model numerically.\n",
      " |      \n",
      " |      Use `method` to solve the DDM.  `method` can either be\n",
      " |      \"explicit\", \"implicit\", or \"cn\" (for Crank-Nicolson).  This is\n",
      " |      the core DDM solver of this library.\n",
      " |      \n",
      " |      Crank-Nicolson is the default and works for any model with\n",
      " |      constant bounds.\n",
      " |      \n",
      " |      Implicit is the fallback method.  It should work well in most\n",
      " |      cases and is generally stable.\n",
      " |      \n",
      " |      Normally, the explicit method should not be used. Also note\n",
      " |      the stability criteria for explicit method is:\n",
      " |      \n",
      " |        | noise^2/2 * dt/dx^2 < 1/2\n",
      " |      \n",
      " |      It returns a Solution object describing the joint PDF.  This\n",
      " |      method should not fail for any model type.\n",
      " |      \n",
      " |      return_evolution(default=False) governs whether or not the function \n",
      " |      returns the full evolution of the pdf as part of the Solution object. \n",
      " |      This only works with methods \"explicit\" or \"implicit\", not with \"cn\".\n",
      " |  \n",
      " |  solve_numerical_cn(self, conditions={})\n",
      " |      Solve the DDM model numerically using Crank-Nicolson.\n",
      " |      \n",
      " |      This uses the Crank Nicolson method to solve the DDM at each\n",
      " |      timepoint.  Results are then compiled together.  This is the\n",
      " |      core DDM solver of this library.\n",
      " |      \n",
      " |      It returns a Solution object describing the joint PDF.\n",
      " |  \n",
      " |  solve_numerical_explicit(self, conditions={}, **kwargs)\n",
      " |      Solve the model using the explicit method (Forward Euler).\n",
      " |  \n",
      " |  solve_numerical_implicit(self, conditions={}, **kwargs)\n",
      " |      Solve the model using the implicit method (Backward Euler).\n",
      " |  \n",
      " |  t_domain(self)\n",
      " |      A list of all of the timepoints over which the joint PDF will be defined (increments of dt from 0 to T_dur).\n",
      " |  \n",
      " |  x_domain(self, conditions, t=None)\n",
      " |      A list which spans from the lower boundary to the upper boundary by increments of dx.\n",
      " |  \n",
      " |  ----------------------------------------------------------------------\n",
      " |  Data descriptors defined here:\n",
      " |  \n",
      " |  __dict__\n",
      " |      dictionary for instance variables (if defined)\n",
      " |  \n",
      " |  __weakref__\n",
      " |      list of weak references to the object (if defined)\n",
      " |  \n",
      " |  ----------------------------------------------------------------------\n",
      " |  Data and other attributes defined here:\n",
      " |  \n",
      " |  __slotnames__ = []\n",
      "\n"
     ]
    }
   ],
   "source": [
    "help(Model)"
   ]
  },
  {
   "cell_type": "code",
   "execution_count": 7,
   "metadata": {},
   "outputs": [
    {
     "name": "stdout",
     "output_type": "stream",
     "text": [
      "Model Simple model information:\n",
      "Drift component DriftConstant:\n",
      "    constant\n",
      "    Fixed parameters:\n",
      "    - drift: 2.200000\n",
      "Noise component NoiseConstant:\n",
      "    constant\n",
      "    Fixed parameters:\n",
      "    - noise: 1.500000\n",
      "Bound component BoundConstant:\n",
      "    constant\n",
      "    Fixed parameters:\n",
      "    - B: 1.100000\n",
      "IC component ICPointSourceCenter:\n",
      "    point_source_center\n",
      "    (No parameters)\n",
      "Overlay component OverlayNonDecision:\n",
      "    Add a non-decision by shifting the histogram\n",
      "    Fixed parameters:\n",
      "    - nondectime: 0.100000\n",
      "\n"
     ]
    }
   ],
   "source": [
    "from ddm import Model\n",
    "from ddm.models import DriftConstant, NoiseConstant, BoundConstant, OverlayNonDecision\n",
    "from ddm.functions import fit_adjust_model, display_model\n",
    "\n",
    "model = Model(name='Simple model',\n",
    "              drift=DriftConstant(drift=2.2),\n",
    "              noise=NoiseConstant(noise=1.5),\n",
    "              bound=BoundConstant(B=1.1),\n",
    "              overlay=OverlayNonDecision(nondectime=.1),\n",
    "              dx=.001, dt=.01, T_dur=2)\n",
    "display_model(model)\n",
    "sol = model.solve()"
   ]
  },
  {
   "cell_type": "code",
   "execution_count": 8,
   "metadata": {},
   "outputs": [],
   "source": [
    "samp = sol.resample(1000)"
   ]
  },
  {
   "cell_type": "code",
   "execution_count": 9,
   "metadata": {},
   "outputs": [
    {
     "name": "stdout",
     "output_type": "stream",
     "text": [
      "Params [2.27693733 1.51047783 0.11324672] gave 423.26628146043083\n"
     ]
    },
    {
     "data": {
      "text/plain": "Model(name='Simple model (fitted)', drift=DriftConstant(drift=Fitted(2.276937328188291, minval=0, maxval=4)), noise=NoiseConstant(noise=Fitted(1.5104778270785275, minval=0.5, maxval=4)), bound=BoundConstant(B=1.1), IC=ICPointSourceCenter(), overlay=OverlayNonDecision(nondectime=Fitted(0.11324671945877413, minval=0, maxval=1)), dx=0.001, dt=0.01, T_dur=2, fitresult=FitResult(fitting_method='differential_evolution', method='auto', loss='BIC', value=423.26628146043083, nparams=3, samplesize=1000, mess=''))"
     },
     "execution_count": 9,
     "metadata": {},
     "output_type": "execute_result"
    }
   ],
   "source": [
    "from ddm import Fittable\n",
    "from ddm.models import LossRobustBIC\n",
    "from ddm.functions import fit_adjust_model\n",
    "model_fit = Model(name='Simple model (fitted)',\n",
    "                  drift=DriftConstant(drift=Fittable(minval=0, maxval=4)),\n",
    "                  noise=NoiseConstant(noise=Fittable(minval=.5, maxval=4)),\n",
    "                  bound=BoundConstant(B=1.1),\n",
    "                  overlay=OverlayNonDecision(nondectime=Fittable(minval=0, maxval=1)),\n",
    "                  dx=.001, dt=.01, T_dur=2)\n",
    "\n",
    "fit_adjust_model(samp, model_fit,\n",
    "                 fitting_method=\"differential_evolution\",\n",
    "                 lossfunction=LossRobustBIC, verbose=False)"
   ]
  },
  {
   "cell_type": "code",
   "execution_count": 10,
   "metadata": {},
   "outputs": [
    {
     "name": "stdout",
     "output_type": "stream",
     "text": [
      "Model Simple model (fitted) information:\n",
      "Drift component DriftConstant:\n",
      "    constant\n",
      "    Fitted parameters:\n",
      "    - drift: 2.276937\n",
      "Noise component NoiseConstant:\n",
      "    constant\n",
      "    Fitted parameters:\n",
      "    - noise: 1.510478\n",
      "Bound component BoundConstant:\n",
      "    constant\n",
      "    Fixed parameters:\n",
      "    - B: 1.100000\n",
      "IC component ICPointSourceCenter:\n",
      "    point_source_center\n",
      "    (No parameters)\n",
      "Overlay component OverlayNonDecision:\n",
      "    Add a non-decision by shifting the histogram\n",
      "    Fitted parameters:\n",
      "    - nondectime: 0.113247\n",
      "Fit information:\n",
      "    Loss function: BIC\n",
      "    Loss function value: 423.26628146043083\n",
      "    Fitting method: differential_evolution\n",
      "    Solver: auto\n",
      "    Other properties:\n",
      "        - nparams: 3\n",
      "        - samplesize: 1000\n",
      "        - mess: ''\n",
      "\n"
     ]
    }
   ],
   "source": [
    "display_model(model_fit)"
   ]
  },
  {
   "cell_type": "code",
   "execution_count": 11,
   "metadata": {},
   "outputs": [
    {
     "data": {
      "text/plain": "<ddm.sample.Sample at 0x40819f8400>"
     },
     "execution_count": 11,
     "metadata": {},
     "output_type": "execute_result"
    }
   ],
   "source": [
    "samp"
   ]
  },
  {
   "cell_type": "code",
   "execution_count": 12,
   "metadata": {},
   "outputs": [
    {
     "data": {
      "image/png": "[encoded data removed]",
      "text/plain": "<Figure size 432x288 with 2 Axes>"
     },
     "metadata": {
      "needs_background": "light"
     },
     "output_type": "display_data"
    }
   ],
   "source": [
    "import ddm.plot\n",
    "import matplotlib.pyplot as plt\n",
    "ddm.plot.plot_fit_diagnostics(model=model_fit, sample=samp)\n",
    "plt.savefig(\"simple-fit.png\")\n",
    "plt.show()"
   ]
  },
  {
   "cell_type": "code",
   "execution_count": 13,
   "metadata": {},
   "outputs": [
    {
     "name": "stdout",
     "output_type": "stream",
     "text": [
      "0.8937015385162344\n",
      "[0.00000000e+00 0.00000000e+00 0.00000000e+00 0.00000000e+00\n",
      " 0.00000000e+00 0.00000000e+00 0.00000000e+00 0.00000000e+00\n",
      " 0.00000000e+00 0.00000000e+00 0.00000000e+00 2.07365499e-10\n",
      " 5.00458955e-05 2.38145936e-03 1.43848498e-02 3.90619605e-02\n",
      " 7.20389916e-02 1.07279501e-01 1.40406765e-01 1.69113545e-01\n",
      " 1.92585355e-01 2.10874478e-01 2.24459235e-01 2.33980790e-01\n",
      " 2.40101611e-01 2.43437087e-01 2.44527962e-01 2.43834117e-01\n",
      " 2.41738697e-01 2.38556580e-01 2.34544091e-01 2.29908443e-01\n",
      " 2.24816229e-01 2.19400774e-01 2.13768322e-01 2.08003174e-01\n",
      " 2.02171914e-01 1.96326847e-01 1.90508801e-01 1.84749393e-01\n",
      " 1.79072854e-01 1.73497511e-01 1.68036971e-01 1.62701084e-01\n",
      " 1.57496705e-01 1.52428321e-01 1.47498541e-01 1.42708501e-01\n",
      " 1.38058181e-01 1.33546658e-01 1.29172320e-01 1.24933024e-01\n",
      " 1.20826228e-01 1.16849097e-01 1.12998587e-01 1.09271511e-01\n",
      " 1.05664589e-01 1.02174491e-01 9.87978738e-02 9.55313982e-02\n",
      " 9.23717551e-02 8.93156782e-02 8.63599563e-02 8.35014413e-02\n",
      " 8.07370549e-02 7.80637930e-02 7.54787285e-02 7.29790134e-02\n",
      " 7.05618794e-02 6.82246385e-02 6.59646820e-02 6.37794804e-02\n",
      " 6.16665817e-02 5.96236104e-02 5.76482658e-02 5.57383200e-02\n",
      " 5.38916167e-02 5.21060687e-02 5.03796566e-02 4.87104263e-02\n",
      " 4.70964875e-02 4.55360117e-02 4.40272304e-02 4.25684328e-02\n",
      " 4.11579646e-02 3.97942261e-02 3.84756698e-02 3.72007998e-02\n",
      " 3.59681692e-02 3.47763792e-02 3.36240768e-02 3.25099542e-02\n",
      " 3.14327466e-02 3.03912310e-02 2.93842250e-02 2.84105853e-02\n",
      " 2.74692065e-02 2.65590197e-02 2.56789915e-02 2.48281226e-02\n",
      " 2.40054469e-02 2.32100303e-02 2.24409695e-02 2.16973914e-02\n",
      " 2.09784515e-02 2.02833335e-02 1.96112481e-02 1.89614321e-02\n",
      " 1.83331477e-02 1.77256813e-02 1.71383432e-02 1.65704665e-02\n",
      " 1.60214063e-02 1.54905391e-02 1.49772621e-02 1.44809925e-02\n",
      " 1.40011666e-02 1.35372398e-02 1.30886851e-02 1.26549932e-02\n",
      " 1.22356716e-02 1.18302442e-02 1.14382506e-02 1.10592456e-02\n",
      " 1.06927990e-02 1.03384944e-02 9.99592974e-03 9.66471589e-03\n",
      " 9.34447676e-03 9.03484872e-03 8.73548016e-03 8.44603115e-03\n",
      " 8.16617298e-03 7.89558788e-03 7.63396859e-03 7.38101801e-03\n",
      " 7.13644892e-03 6.89998360e-03 6.67135353e-03 6.45029908e-03\n",
      " 6.23656924e-03 6.02992132e-03 5.83012064e-03 5.63694034e-03\n",
      " 5.45016104e-03 5.26957065e-03 5.09496410e-03 4.92614312e-03\n",
      " 4.76291599e-03 4.60509738e-03 4.45250807e-03 4.30497478e-03\n",
      " 4.16232999e-03 4.02441172e-03 3.89106335e-03 3.76213346e-03\n",
      " 3.63747565e-03 3.51694836e-03 3.40041472e-03 3.28774242e-03\n",
      " 3.17880349e-03 3.07347424e-03 2.97163507e-03 2.87317032e-03\n",
      " 2.77796819e-03 2.68592056e-03 2.59692293e-03 2.51087422e-03\n",
      " 2.42767672e-03 2.34723596e-03 2.26946060e-03 2.19426231e-03\n",
      " 2.12155571e-03 2.05125823e-03 1.98329005e-03 1.91757399e-03\n",
      " 1.85403542e-03 1.79260220e-03 1.73320455e-03 1.67577504e-03\n",
      " 1.62024845e-03 1.56656172e-03 1.51465390e-03 1.46446604e-03\n",
      " 1.41594114e-03 1.36902411e-03 1.32366167e-03 1.27980231e-03\n",
      " 1.23739623e-03 1.19639526e-03 1.15675286e-03 1.11842400e-03\n",
      " 1.08136516e-03 1.04553426e-03 1.01089062e-03 9.77394888e-04\n",
      " 9.45009033e-04 9.13696280e-04 8.83421070e-04 8.54149026e-04\n",
      " 8.25846907e-04]\n"
     ]
    }
   ],
   "source": [
    "print(sol.prob_correct())\n",
    "print(sol.pdf_err())"
   ]
  },
  {
   "cell_type": "code",
   "execution_count": 15,
   "metadata": {},
   "outputs": [
    {
     "data": {
      "text/html": "<div>\n<style scoped>\n    .dataframe tbody tr th:only-of-type {\n        vertical-align: middle;\n    }\n\n    .dataframe tbody tr th {\n        vertical-align: top;\n    }\n\n    .dataframe thead th {\n        text-align: right;\n    }\n</style>\n<table border=\"1\" class=\"dataframe\">\n  <thead>\n    <tr style=\"text-align: right;\">\n      <th></th>\n      <th>monkey</th>\n      <th>rt</th>\n      <th>coh</th>\n      <th>correct</th>\n      <th>trgchoice</th>\n    </tr>\n  </thead>\n  <tbody>\n    <tr>\n      <th>0</th>\n      <td>1</td>\n      <td>0.355</td>\n      <td>0.512</td>\n      <td>1.0</td>\n      <td>2.0</td>\n    </tr>\n    <tr>\n      <th>1</th>\n      <td>1</td>\n      <td>0.359</td>\n      <td>0.256</td>\n      <td>1.0</td>\n      <td>1.0</td>\n    </tr>\n    <tr>\n      <th>2</th>\n      <td>1</td>\n      <td>0.525</td>\n      <td>0.128</td>\n      <td>1.0</td>\n      <td>1.0</td>\n    </tr>\n    <tr>\n      <th>3</th>\n      <td>1</td>\n      <td>0.332</td>\n      <td>0.512</td>\n      <td>1.0</td>\n      <td>1.0</td>\n    </tr>\n    <tr>\n      <th>4</th>\n      <td>1</td>\n      <td>0.302</td>\n      <td>0.032</td>\n      <td>0.0</td>\n      <td>2.0</td>\n    </tr>\n    <tr>\n      <th>...</th>\n      <td>...</td>\n      <td>...</td>\n      <td>...</td>\n      <td>...</td>\n      <td>...</td>\n    </tr>\n    <tr>\n      <th>6144</th>\n      <td>2</td>\n      <td>0.627</td>\n      <td>0.032</td>\n      <td>1.0</td>\n      <td>1.0</td>\n    </tr>\n    <tr>\n      <th>6145</th>\n      <td>2</td>\n      <td>0.581</td>\n      <td>0.256</td>\n      <td>1.0</td>\n      <td>1.0</td>\n    </tr>\n    <tr>\n      <th>6146</th>\n      <td>2</td>\n      <td>0.293</td>\n      <td>0.512</td>\n      <td>1.0</td>\n      <td>1.0</td>\n    </tr>\n    <tr>\n      <th>6147</th>\n      <td>2</td>\n      <td>0.373</td>\n      <td>0.128</td>\n      <td>1.0</td>\n      <td>2.0</td>\n    </tr>\n    <tr>\n      <th>6148</th>\n      <td>2</td>\n      <td>0.685</td>\n      <td>0.000</td>\n      <td>0.0</td>\n      <td>1.0</td>\n    </tr>\n  </tbody>\n</table>\n<p>6149 rows × 5 columns</p>\n</div>",
      "text/plain": "      monkey     rt    coh  correct  trgchoice\n0          1  0.355  0.512      1.0        2.0\n1          1  0.359  0.256      1.0        1.0\n2          1  0.525  0.128      1.0        1.0\n3          1  0.332  0.512      1.0        1.0\n4          1  0.302  0.032      0.0        2.0\n...      ...    ...    ...      ...        ...\n6144       2  0.627  0.032      1.0        1.0\n6145       2  0.581  0.256      1.0        1.0\n6146       2  0.293  0.512      1.0        1.0\n6147       2  0.373  0.128      1.0        2.0\n6148       2  0.685  0.000      0.0        1.0\n\n[6149 rows x 5 columns]"
     },
     "execution_count": 15,
     "metadata": {},
     "output_type": "execute_result"
    }
   ],
   "source": [
    "from ddm import Sample\n",
    "import pandas\n",
    "df_rt = pandas.read_csv(\"https://raw.githubusercontent.com/mwshinn/PyDDM/master/doc/downloads/roitman_rts.csv\")\n",
    "df_rt"
   ]
  },
  {
   "cell_type": "code",
   "execution_count": 16,
   "metadata": {},
   "outputs": [],
   "source": [
    "df_rt = df_rt[df_rt[\"monkey\"] == 1] # Only monkey 1\n",
    "  \n",
    "# Remove short and long RTs, as in 10.1523/JNEUROSCI.4684-04.2005.\n",
    "# This is not strictly necessary, but is performed here for\n",
    "# compatibility with this study.\n",
    "df_rt = df_rt[df_rt[\"rt\"] > .1] # Remove trials less than 100ms\n",
    "df_rt = df_rt[df_rt[\"rt\"] < 1.65] # Remove trials greater than 1650ms\n",
    "  \n",
    "# Create a sample object from our data.  This is the standard input\n",
    "# format for fitting procedures.  Since RT and correct/error are\n",
    "# both mandatory columns, their names are specified by command line\n",
    "# arguments.\n",
    "roitman_sample = Sample.from_pandas_dataframe(df_rt, rt_column_name=\"rt\", correct_column_name=\"correct\")\n"
   ]
  },
  {
   "cell_type": "code",
   "execution_count": 17,
   "metadata": {},
   "outputs": [],
   "source": [
    "import ddm.models\n",
    "class DriftCoherence(ddm.models.Drift):\n",
    "    name = \"Drift depends linearly on coherence\"\n",
    "    required_parameters = [\"driftcoh\"] # <-- Parameters we want to include in the model\n",
    "    required_conditions = [\"coh\"] # <-- Task parameters (\"conditions\"). Should be the same name as in the sample.\n",
    "    \n",
    "    # We must always define the get_drift function, which is used to compute the instantaneous value of drift.\n",
    "    def get_drift(self, conditions, **kwargs):\n",
    "        return self.driftcoh * conditions['coh']"
   ]
  },
  {
   "cell_type": "code",
   "execution_count": 18,
   "metadata": {},
   "outputs": [
    {
     "name": "stdout",
     "output_type": "stream",
     "text": [
      "Params [10.36415557  0.74406192  0.3119136 ] gave 199.33384553433308\n"
     ]
    }
   ],
   "source": [
    "from ddm import Model, Fittable\n",
    "from ddm.functions import fit_adjust_model, display_model\n",
    "from ddm.models import NoiseConstant, BoundConstant, OverlayChain, OverlayNonDecision, OverlayPoissonMixture\n",
    "model_rs = Model(name='Roitman data, drift varies with coherence',\n",
    "                 drift=DriftCoherence(driftcoh=Fittable(minval=0, maxval=20)),\n",
    "                 noise=NoiseConstant(noise=1),\n",
    "                 bound=BoundConstant(B=Fittable(minval=.1, maxval=1.5)),\n",
    "                 # Since we can only have one overlay, we use\n",
    "                 # OverlayChain to string together multiple overlays.\n",
    "                 # They are applied sequentially in order.  OverlayNonDecision\n",
    "                 # implements a non-decision time by shifting the\n",
    "                 # resulting distribution of response times by\n",
    "                 # `nondectime` seconds.\n",
    "                 overlay=OverlayChain(overlays=[OverlayNonDecision(nondectime=Fittable(minval=0, maxval=.4)),\n",
    "                                                OverlayPoissonMixture(pmixturecoef=.02,\n",
    "                                                                      rate=1)]),\n",
    "                 dx=.001, dt=.01, T_dur=2)\n",
    "\n",
    "# Fitting this will also be fast because PyDDM can automatically\n",
    "# determine that DriftCoherence will allow an analytical solution.\n",
    "fit_model_rs = fit_adjust_model(sample=roitman_sample, model=model_rs, verbose=False)"
   ]
  },
  {
   "cell_type": "code",
   "execution_count": 19,
   "metadata": {},
   "outputs": [
    {
     "name": "stdout",
     "output_type": "stream",
     "text": [
      "Model Roitman data, drift varies with coherence information:\n",
      "Drift component DriftCoherence:\n",
      "    Drift depends linearly on coherence\n",
      "    Fitted parameters:\n",
      "    - driftcoh: 10.364156\n",
      "Noise component NoiseConstant:\n",
      "    constant\n",
      "    Fixed parameters:\n",
      "    - noise: 1.000000\n",
      "Bound component BoundConstant:\n",
      "    constant\n",
      "    Fitted parameters:\n",
      "    - B: 0.744062\n",
      "IC component ICPointSourceCenter:\n",
      "    point_source_center\n",
      "    (No parameters)\n",
      "Overlay component OverlayChain:\n",
      "    Overlay component OverlayNonDecision:\n",
      "        Add a non-decision by shifting the histogram\n",
      "        Fitted parameters:\n",
      "        - nondectime: 0.311914\n",
      "    Overlay component OverlayPoissonMixture:\n",
      "        Poisson distribution mixture model (lapse rate)\n",
      "        Fixed parameters:\n",
      "        - pmixturecoef: 0.020000\n",
      "        - rate: 1.000000\n",
      "Fit information:\n",
      "    Loss function: Negative log likelihood\n",
      "    Loss function value: 199.33384553433308\n",
      "    Fitting method: differential_evolution\n",
      "    Solver: auto\n",
      "    Other properties:\n",
      "        - nparams: 3\n",
      "        - samplesize: 2611\n",
      "        - mess: ''\n",
      "\n"
     ]
    }
   ],
   "source": [
    "display_model(fit_model_rs)"
   ]
  },
  {
   "cell_type": "code",
   "execution_count": 20,
   "metadata": {},
   "outputs": [
    {
     "data": {
      "image/png": "[encoded data removed]",
      "text/plain": "<Figure size 432x288 with 2 Axes>"
     },
     "metadata": {
      "needs_background": "light"
     },
     "output_type": "display_data"
    }
   ],
   "source": [
    "import ddm.plot\n",
    "import matplotlib.pyplot as plt\n",
    "ddm.plot.plot_fit_diagnostics(model=fit_model_rs, sample=roitman_sample)\n",
    "plt.savefig(\"roitman-fit.png\")\n",
    "plt.show()"
   ]
  },
  {
   "cell_type": "code",
   "execution_count": 21,
   "metadata": {},
   "outputs": [
    {
     "ename": "TclError",
     "evalue": "no display name and no $DISPLAY environment variable",
     "output_type": "error",
     "traceback": [
      "\u001b[0;31m---------------------------------------------------------------------------\u001b[0m",
      "\u001b[0;31mTclError\u001b[0m                                  Traceback (most recent call last)",
      "\u001b[0;32m/tmp/ipykernel_1437/2937108103.py\u001b[0m in \u001b[0;36m<module>\u001b[0;34m\u001b[0m\n\u001b[0;32m----> 1\u001b[0;31m \u001b[0mddm\u001b[0m\u001b[0;34m.\u001b[0m\u001b[0mplot\u001b[0m\u001b[0;34m.\u001b[0m\u001b[0mmodel_gui\u001b[0m\u001b[0;34m(\u001b[0m\u001b[0mmodel\u001b[0m\u001b[0;34m=\u001b[0m\u001b[0mfit_model_rs\u001b[0m\u001b[0;34m,\u001b[0m \u001b[0msample\u001b[0m\u001b[0;34m=\u001b[0m\u001b[0mroitman_sample\u001b[0m\u001b[0;34m)\u001b[0m\u001b[0;34m\u001b[0m\u001b[0;34m\u001b[0m\u001b[0m\n\u001b[0m",
      "\u001b[0;32m~/.local/lib/python3.9/site-packages/ddm/plot.py\u001b[0m in \u001b[0;36mmodel_gui\u001b[0;34m(model, sample, data_dt, plot, conditions, verify)\u001b[0m\n\u001b[1;32m    368\u001b[0m \u001b[0;34m\u001b[0m\u001b[0m\n\u001b[1;32m    369\u001b[0m     \u001b[0;31m# Initialize the TK (tkinter) subsystem.\u001b[0m\u001b[0;34m\u001b[0m\u001b[0;34m\u001b[0m\u001b[0;34m\u001b[0m\u001b[0m\n\u001b[0;32m--> 370\u001b[0;31m     \u001b[0mroot\u001b[0m \u001b[0;34m=\u001b[0m \u001b[0mtk\u001b[0m\u001b[0;34m.\u001b[0m\u001b[0mTk\u001b[0m\u001b[0;34m(\u001b[0m\u001b[0;34m)\u001b[0m\u001b[0;34m\u001b[0m\u001b[0;34m\u001b[0m\u001b[0m\n\u001b[0m\u001b[1;32m    371\u001b[0m     \u001b[0mroot\u001b[0m\u001b[0;34m.\u001b[0m\u001b[0mwm_title\u001b[0m\u001b[0;34m(\u001b[0m\u001b[0;34m\"Model: %s\"\u001b[0m \u001b[0;34m%\u001b[0m \u001b[0mm\u001b[0m\u001b[0;34m.\u001b[0m\u001b[0mname\u001b[0m \u001b[0;32mif\u001b[0m \u001b[0mm\u001b[0m \u001b[0;32melse\u001b[0m \u001b[0;34m\"Data\"\u001b[0m\u001b[0;34m)\u001b[0m\u001b[0;34m\u001b[0m\u001b[0;34m\u001b[0m\u001b[0m\n\u001b[1;32m    372\u001b[0m     \u001b[0mroot\u001b[0m\u001b[0;34m.\u001b[0m\u001b[0mgrid_columnconfigure\u001b[0m\u001b[0;34m(\u001b[0m\u001b[0;36m1\u001b[0m\u001b[0;34m,\u001b[0m \u001b[0mweight\u001b[0m\u001b[0;34m=\u001b[0m\u001b[0;36m0\u001b[0m\u001b[0;34m)\u001b[0m\u001b[0;34m\u001b[0m\u001b[0;34m\u001b[0m\u001b[0m\n",
      "\u001b[0;32m/usr/local/lib/python3.9/tkinter/__init__.py\u001b[0m in \u001b[0;36m__init__\u001b[0;34m(self, screenName, baseName, className, useTk, sync, use)\u001b[0m\n\u001b[1;32m   2268\u001b[0m                 \u001b[0mbaseName\u001b[0m \u001b[0;34m=\u001b[0m \u001b[0mbaseName\u001b[0m \u001b[0;34m+\u001b[0m \u001b[0mext\u001b[0m\u001b[0;34m\u001b[0m\u001b[0;34m\u001b[0m\u001b[0m\n\u001b[1;32m   2269\u001b[0m         \u001b[0minteractive\u001b[0m \u001b[0;34m=\u001b[0m \u001b[0;32mFalse\u001b[0m\u001b[0;34m\u001b[0m\u001b[0;34m\u001b[0m\u001b[0m\n\u001b[0;32m-> 2270\u001b[0;31m         \u001b[0mself\u001b[0m\u001b[0;34m.\u001b[0m\u001b[0mtk\u001b[0m \u001b[0;34m=\u001b[0m \u001b[0m_tkinter\u001b[0m\u001b[0;34m.\u001b[0m\u001b[0mcreate\u001b[0m\u001b[0;34m(\u001b[0m\u001b[0mscreenName\u001b[0m\u001b[0;34m,\u001b[0m \u001b[0mbaseName\u001b[0m\u001b[0;34m,\u001b[0m \u001b[0mclassName\u001b[0m\u001b[0;34m,\u001b[0m \u001b[0minteractive\u001b[0m\u001b[0;34m,\u001b[0m \u001b[0mwantobjects\u001b[0m\u001b[0;34m,\u001b[0m \u001b[0museTk\u001b[0m\u001b[0;34m,\u001b[0m \u001b[0msync\u001b[0m\u001b[0;34m,\u001b[0m \u001b[0muse\u001b[0m\u001b[0;34m)\u001b[0m\u001b[0;34m\u001b[0m\u001b[0;34m\u001b[0m\u001b[0m\n\u001b[0m\u001b[1;32m   2271\u001b[0m         \u001b[0;32mif\u001b[0m \u001b[0museTk\u001b[0m\u001b[0;34m:\u001b[0m\u001b[0;34m\u001b[0m\u001b[0;34m\u001b[0m\u001b[0m\n\u001b[1;32m   2272\u001b[0m             \u001b[0mself\u001b[0m\u001b[0;34m.\u001b[0m\u001b[0m_loadtk\u001b[0m\u001b[0;34m(\u001b[0m\u001b[0;34m)\u001b[0m\u001b[0;34m\u001b[0m\u001b[0;34m\u001b[0m\u001b[0m\n",
      "\u001b[0;31mTclError\u001b[0m: no display name and no $DISPLAY environment variable"
     ]
    }
   ],
   "source": [
    "ddm.plot.model_gui(model=fit_model_rs, sample=roitman_sample)"
   ]
  },
  {
   "cell_type": "code",
   "execution_count": 22,
   "metadata": {},
   "outputs": [],
   "source": [
    "class DriftCoherenceLeak(ddm.models.Drift):\n",
    "    name = \"Leaky drift depends linearly on coherence\"\n",
    "    required_parameters = [\"driftcoh\", \"leak\"] # <-- Parameters we want to include in the model\n",
    "    required_conditions = [\"coh\"] # <-- Task parameters (\"conditions\"). Should be the same name as in the sample.\n",
    "    \n",
    "    # We must always define the get_drift function, which is used to compute the instantaneous value of drift.\n",
    "    def get_drift(self, x, conditions, **kwargs):\n",
    "        return self.driftcoh * conditions['coh'] + self.leak * x"
   ]
  },
  {
   "cell_type": "code",
   "execution_count": 23,
   "metadata": {},
   "outputs": [],
   "source": [
    "from ddm.models import BoundCollapsingExponential\n",
    "model_leak = Model(name='Roitman data, leaky drift varies with coherence',\n",
    "                   drift=DriftCoherenceLeak(driftcoh=Fittable(minval=0, maxval=20),\n",
    "                                            leak=Fittable(minval=-10, maxval=10)),\n",
    "                   noise=NoiseConstant(noise=1),\n",
    "                   bound=BoundCollapsingExponential(B=Fittable(minval=0.5, maxval=3),\n",
    "                                                    tau=Fittable(minval=.0001, maxval=5)),\n",
    "                   # Since we can only have one overlay, we use\n",
    "                   # OverlayChain to string together multiple overlays.\n",
    "                   # They are applied sequentially in order.  OverlayDelay\n",
    "                   # implements a non-decision time by shifting the\n",
    "                   # resulting distribution of response times by\n",
    "                   # `delaytime` seconds.\n",
    "                   overlay=OverlayChain(overlays=[OverlayNonDecision(nondectime=Fittable(minval=0, maxval=.4)),\n",
    "                                                  OverlayPoissonMixture(pmixturecoef=.02,\n",
    "                                                                        rate=1)]),\n",
    "                   dx=.01, dt=.01, T_dur=2)"
   ]
  },
  {
   "cell_type": "code",
   "execution_count": 24,
   "metadata": {},
   "outputs": [
    {
     "ename": "TclError",
     "evalue": "no display name and no $DISPLAY environment variable",
     "output_type": "error",
     "traceback": [
      "\u001b[0;31m---------------------------------------------------------------------------\u001b[0m",
      "\u001b[0;31mTclError\u001b[0m                                  Traceback (most recent call last)",
      "\u001b[0;32m/tmp/ipykernel_1437/2453528923.py\u001b[0m in \u001b[0;36m<module>\u001b[0;34m\u001b[0m\n\u001b[1;32m      1\u001b[0m \u001b[0;32mfrom\u001b[0m \u001b[0mddm\u001b[0m\u001b[0;34m.\u001b[0m\u001b[0mplot\u001b[0m \u001b[0;32mimport\u001b[0m \u001b[0mmodel_gui\u001b[0m\u001b[0;34m\u001b[0m\u001b[0;34m\u001b[0m\u001b[0m\n\u001b[0;32m----> 2\u001b[0;31m \u001b[0mmodel_gui\u001b[0m\u001b[0;34m(\u001b[0m\u001b[0mmodel_leak\u001b[0m\u001b[0;34m,\u001b[0m \u001b[0msample\u001b[0m\u001b[0;34m=\u001b[0m\u001b[0mroitman_sample\u001b[0m\u001b[0;34m)\u001b[0m\u001b[0;34m\u001b[0m\u001b[0;34m\u001b[0m\u001b[0m\n\u001b[0m",
      "\u001b[0;32m~/.local/lib/python3.9/site-packages/ddm/plot.py\u001b[0m in \u001b[0;36mmodel_gui\u001b[0;34m(model, sample, data_dt, plot, conditions, verify)\u001b[0m\n\u001b[1;32m    368\u001b[0m \u001b[0;34m\u001b[0m\u001b[0m\n\u001b[1;32m    369\u001b[0m     \u001b[0;31m# Initialize the TK (tkinter) subsystem.\u001b[0m\u001b[0;34m\u001b[0m\u001b[0;34m\u001b[0m\u001b[0;34m\u001b[0m\u001b[0m\n\u001b[0;32m--> 370\u001b[0;31m     \u001b[0mroot\u001b[0m \u001b[0;34m=\u001b[0m \u001b[0mtk\u001b[0m\u001b[0;34m.\u001b[0m\u001b[0mTk\u001b[0m\u001b[0;34m(\u001b[0m\u001b[0;34m)\u001b[0m\u001b[0;34m\u001b[0m\u001b[0;34m\u001b[0m\u001b[0m\n\u001b[0m\u001b[1;32m    371\u001b[0m     \u001b[0mroot\u001b[0m\u001b[0;34m.\u001b[0m\u001b[0mwm_title\u001b[0m\u001b[0;34m(\u001b[0m\u001b[0;34m\"Model: %s\"\u001b[0m \u001b[0;34m%\u001b[0m \u001b[0mm\u001b[0m\u001b[0;34m.\u001b[0m\u001b[0mname\u001b[0m \u001b[0;32mif\u001b[0m \u001b[0mm\u001b[0m \u001b[0;32melse\u001b[0m \u001b[0;34m\"Data\"\u001b[0m\u001b[0;34m)\u001b[0m\u001b[0;34m\u001b[0m\u001b[0;34m\u001b[0m\u001b[0m\n\u001b[1;32m    372\u001b[0m     \u001b[0mroot\u001b[0m\u001b[0;34m.\u001b[0m\u001b[0mgrid_columnconfigure\u001b[0m\u001b[0;34m(\u001b[0m\u001b[0;36m1\u001b[0m\u001b[0;34m,\u001b[0m \u001b[0mweight\u001b[0m\u001b[0;34m=\u001b[0m\u001b[0;36m0\u001b[0m\u001b[0;34m)\u001b[0m\u001b[0;34m\u001b[0m\u001b[0;34m\u001b[0m\u001b[0m\n",
      "\u001b[0;32m/usr/local/lib/python3.9/tkinter/__init__.py\u001b[0m in \u001b[0;36m__init__\u001b[0;34m(self, screenName, baseName, className, useTk, sync, use)\u001b[0m\n\u001b[1;32m   2268\u001b[0m                 \u001b[0mbaseName\u001b[0m \u001b[0;34m=\u001b[0m \u001b[0mbaseName\u001b[0m \u001b[0;34m+\u001b[0m \u001b[0mext\u001b[0m\u001b[0;34m\u001b[0m\u001b[0;34m\u001b[0m\u001b[0m\n\u001b[1;32m   2269\u001b[0m         \u001b[0minteractive\u001b[0m \u001b[0;34m=\u001b[0m \u001b[0;32mFalse\u001b[0m\u001b[0;34m\u001b[0m\u001b[0;34m\u001b[0m\u001b[0m\n\u001b[0;32m-> 2270\u001b[0;31m         \u001b[0mself\u001b[0m\u001b[0;34m.\u001b[0m\u001b[0mtk\u001b[0m \u001b[0;34m=\u001b[0m \u001b[0m_tkinter\u001b[0m\u001b[0;34m.\u001b[0m\u001b[0mcreate\u001b[0m\u001b[0;34m(\u001b[0m\u001b[0mscreenName\u001b[0m\u001b[0;34m,\u001b[0m \u001b[0mbaseName\u001b[0m\u001b[0;34m,\u001b[0m \u001b[0mclassName\u001b[0m\u001b[0;34m,\u001b[0m \u001b[0minteractive\u001b[0m\u001b[0;34m,\u001b[0m \u001b[0mwantobjects\u001b[0m\u001b[0;34m,\u001b[0m \u001b[0museTk\u001b[0m\u001b[0;34m,\u001b[0m \u001b[0msync\u001b[0m\u001b[0;34m,\u001b[0m \u001b[0muse\u001b[0m\u001b[0;34m)\u001b[0m\u001b[0;34m\u001b[0m\u001b[0;34m\u001b[0m\u001b[0m\n\u001b[0m\u001b[1;32m   2271\u001b[0m         \u001b[0;32mif\u001b[0m \u001b[0museTk\u001b[0m\u001b[0;34m:\u001b[0m\u001b[0;34m\u001b[0m\u001b[0;34m\u001b[0m\u001b[0m\n\u001b[1;32m   2272\u001b[0m             \u001b[0mself\u001b[0m\u001b[0;34m.\u001b[0m\u001b[0m_loadtk\u001b[0m\u001b[0;34m(\u001b[0m\u001b[0;34m)\u001b[0m\u001b[0;34m\u001b[0m\u001b[0;34m\u001b[0m\u001b[0m\n",
      "\u001b[0;31mTclError\u001b[0m: no display name and no $DISPLAY environment variable"
     ]
    }
   ],
   "source": [
    "from ddm.plot import model_gui\n",
    "model_gui(model_leak, sample=roitman_sample)"
   ]
  },
  {
   "cell_type": "code",
   "execution_count": 25,
   "metadata": {},
   "outputs": [
    {
     "name": "stdout",
     "output_type": "stream",
     "text": [
      "Model(name='Roitman data, leaky drift varies with coherence', drift=DriftCoherenceLeak(driftcoh=Fitted(9.542903321809481, minval=0, maxval=20), leak=Fitted(1.7326521345463863, minval=-10, maxval=10)), noise=NoiseConstant(noise=1), bound=BoundCollapsingExponential(B=Fitted(0.6897102161309165, minval=0.5, maxval=3), tau=Fitted(2.3832278058729726, minval=0.0001, maxval=5)), IC=ICPointSourceCenter(), overlay=OverlayChain(overlays=[OverlayNonDecision(nondectime=Fitted(0.35096334903519405, minval=0, maxval=0.4)), OverlayPoissonMixture(pmixturecoef=0.02, rate=1)]), dx=0.01, dt=0.01, T_dur=2) loss=1967.1418614641623\n",
      "Model(name='Roitman data, leaky drift varies with coherence', drift=DriftCoherenceLeak(driftcoh=Fitted(7.177639592668301, minval=0, maxval=20), leak=Fitted(9.110567517297387, minval=-10, maxval=10)), noise=NoiseConstant(noise=1), bound=BoundCollapsingExponential(B=Fitted(2.142464682107733, minval=0.5, maxval=3), tau=Fitted(0.9120053245906932, minval=0.0001, maxval=5)), IC=ICPointSourceCenter(), overlay=OverlayChain(overlays=[OverlayNonDecision(nondectime=Fitted(0.06305226749400683, minval=0, maxval=0.4)), OverlayPoissonMixture(pmixturecoef=0.02, rate=1)]), dx=0.01, dt=0.01, T_dur=2) loss=5739.193193187177\n",
      "Model(name='Roitman data, leaky drift varies with coherence', drift=DriftCoherenceLeak(driftcoh=Fitted(18.211484734330153, minval=0, maxval=20), leak=Fitted(-5.222361158255124, minval=-10, maxval=10)), noise=NoiseConstant(noise=1), bound=BoundCollapsingExponential(B=Fitted(1.4033542968189374, minval=0.5, maxval=3), tau=Fitted(3.554566351511098, minval=0.0001, maxval=5)), IC=ICPointSourceCenter(), overlay=OverlayChain(overlays=[OverlayNonDecision(nondectime=Fitted(0.3999651366249339, minval=0, maxval=0.4)), OverlayPoissonMixture(pmixturecoef=0.02, rate=1)]), dx=0.01, dt=0.01, T_dur=2) loss=1957.1724192501015\n",
      "Model(name='Roitman data, leaky drift varies with coherence', drift=DriftCoherenceLeak(driftcoh=Fitted(7.361573370519599, minval=0, maxval=20), leak=Fitted(1.835438487253862, minval=-10, maxval=10)), noise=NoiseConstant(noise=1), bound=BoundCollapsingExponential(B=Fitted(2.757022772156284, minval=0.5, maxval=3), tau=Fitted(4.877765735792014, minval=0.0001, maxval=5)), IC=ICPointSourceCenter(), overlay=OverlayChain(overlays=[OverlayNonDecision(nondectime=Fitted(0.38577218494091436, minval=0, maxval=0.4)), OverlayPoissonMixture(pmixturecoef=0.02, rate=1)]), dx=0.01, dt=0.01, T_dur=2) loss=2805.2526298289877\n",
      "Model(name='Roitman data, leaky drift varies with coherence', drift=DriftCoherenceLeak(driftcoh=Fitted(15.537436835568695, minval=0, maxval=20), leak=Fitted(-6.39078185666055, minval=-10, maxval=10)), noise=NoiseConstant(noise=1), bound=BoundCollapsingExponential(B=Fitted(1.551943416899259, minval=0.5, maxval=3), tau=Fitted(4.0837129155818195, minval=0.0001, maxval=5)), IC=ICPointSourceCenter(), overlay=OverlayChain(overlays=[OverlayNonDecision(nondectime=Fitted(0.17437538882229442, minval=0, maxval=0.4)), OverlayPoissonMixture(pmixturecoef=0.02, rate=1)]), dx=0.01, dt=0.01, T_dur=2) loss=3796.138259254554\n",
      "Model(name='Roitman data, leaky drift varies with coherence', drift=DriftCoherenceLeak(driftcoh=Fitted(10.984442854482344, minval=0, maxval=20), leak=Fitted(0.724221849309914, minval=-10, maxval=10)), noise=NoiseConstant(noise=1), bound=BoundCollapsingExponential(B=Fitted(0.540173801190216, minval=0.5, maxval=3), tau=Fitted(1.781842043390649, minval=0.0001, maxval=5)), IC=ICPointSourceCenter(), overlay=OverlayChain(overlays=[OverlayNonDecision(nondectime=Fitted(0.27575674887090934, minval=0, maxval=0.4)), OverlayPoissonMixture(pmixturecoef=0.02, rate=1)]), dx=0.01, dt=0.01, T_dur=2) loss=4121.032247360254\n",
      "Model(name='Roitman data, leaky drift varies with coherence', drift=DriftCoherenceLeak(driftcoh=Fitted(14.114991807937429, minval=0, maxval=20), leak=Fitted(-5.116286791213202, minval=-10, maxval=10)), noise=NoiseConstant(noise=1), bound=BoundCollapsingExponential(B=Fitted(2.39670851796677, minval=0.5, maxval=3), tau=Fitted(1.9350929617331754, minval=0.0001, maxval=5)), IC=ICPointSourceCenter(), overlay=OverlayChain(overlays=[OverlayNonDecision(nondectime=Fitted(0.2910116926278514, minval=0, maxval=0.4)), OverlayPoissonMixture(pmixturecoef=0.02, rate=1)]), dx=0.01, dt=0.01, T_dur=2) loss=6720.728702005034\n",
      "Model(name='Roitman data, leaky drift varies with coherence', drift=DriftCoherenceLeak(driftcoh=Fitted(3.3506744846401055, minval=0, maxval=20), leak=Fitted(-0.9499488780508014, minval=-10, maxval=10)), noise=NoiseConstant(noise=1), bound=BoundCollapsingExponential(B=Fitted(0.8901959220308424, minval=0.5, maxval=3), tau=Fitted(1.6978901989510478, minval=0.0001, maxval=5)), IC=ICPointSourceCenter(), overlay=OverlayChain(overlays=[OverlayNonDecision(nondectime=Fitted(0.1481958916723394, minval=0, maxval=0.4)), OverlayPoissonMixture(pmixturecoef=0.02, rate=1)]), dx=0.01, dt=0.01, T_dur=2) loss=1936.3671952445093\n",
      "Model(name='Roitman data, leaky drift varies with coherence', drift=DriftCoherenceLeak(driftcoh=Fitted(6.35931026055852, minval=0, maxval=20), leak=Fitted(-3.5854375013312225, minval=-10, maxval=10)), noise=NoiseConstant(noise=1), bound=BoundCollapsingExponential(B=Fitted(2.76999957298265, minval=0.5, maxval=3), tau=Fitted(2.659565600940745, minval=0.0001, maxval=5)), IC=ICPointSourceCenter(), overlay=OverlayChain(overlays=[OverlayNonDecision(nondectime=Fitted(0.37701582645469495, minval=0, maxval=0.4)), OverlayPoissonMixture(pmixturecoef=0.02, rate=1)]), dx=0.01, dt=0.01, T_dur=2) loss=8021.808762332517\n",
      "Model(name='Roitman data, leaky drift varies with coherence', drift=DriftCoherenceLeak(driftcoh=Fitted(16.34142114372201, minval=0, maxval=20), leak=Fitted(-9.157961677811606, minval=-10, maxval=10)), noise=NoiseConstant(noise=1), bound=BoundCollapsingExponential(B=Fitted(2.5227808245057424, minval=0.5, maxval=3), tau=Fitted(0.03123285865883485, minval=0.0001, maxval=5)), IC=ICPointSourceCenter(), overlay=OverlayChain(overlays=[OverlayNonDecision(nondectime=Fitted(0.12236997682960665, minval=0, maxval=0.4)), OverlayPoissonMixture(pmixturecoef=0.02, rate=1)]), dx=0.01, dt=0.01, T_dur=2) loss=110939.6746665163\n",
      "Model(name='Roitman data, leaky drift varies with coherence', drift=DriftCoherenceLeak(driftcoh=Fitted(19.412827887291158, minval=0, maxval=20), leak=Fitted(-4.120283854196999, minval=-10, maxval=10)), noise=NoiseConstant(noise=1), bound=BoundCollapsingExponential(B=Fitted(2.118103761745533, minval=0.5, maxval=3), tau=Fitted(4.317386728046326, minval=0.0001, maxval=5)), IC=ICPointSourceCenter(), overlay=OverlayChain(overlays=[OverlayNonDecision(nondectime=Fitted(0.25839703424567373, minval=0, maxval=0.4)), OverlayPoissonMixture(pmixturecoef=0.02, rate=1)]), dx=0.01, dt=0.01, T_dur=2) loss=1473.3540186071227\n",
      "Model(name='Roitman data, leaky drift varies with coherence', drift=DriftCoherenceLeak(driftcoh=Fitted(17.19128285503821, minval=0, maxval=20), leak=Fitted(7.080754899714408, minval=-10, maxval=10)), noise=NoiseConstant(noise=1), bound=BoundCollapsingExponential(B=Fitted(1.918483591292807, minval=0.5, maxval=3), tau=Fitted(2.803798308945293, minval=0.0001, maxval=5)), IC=ICPointSourceCenter(), overlay=OverlayChain(overlays=[OverlayNonDecision(nondectime=Fitted(0.32444858966643536, minval=0, maxval=0.4)), OverlayPoissonMixture(pmixturecoef=0.02, rate=1)]), dx=0.01, dt=0.01, T_dur=2) loss=1559.7075397244919\n",
      "Model(name='Roitman data, leaky drift varies with coherence', drift=DriftCoherenceLeak(driftcoh=Fitted(6.126986236229552, minval=0, maxval=20), leak=Fitted(-6.757327480032124, minval=-10, maxval=10)), noise=NoiseConstant(noise=1), bound=BoundCollapsingExponential(B=Fitted(1.0985219833565336, minval=0.5, maxval=3), tau=Fitted(3.9734756207680704, minval=0.0001, maxval=5)), IC=ICPointSourceCenter(), overlay=OverlayChain(overlays=[OverlayNonDecision(nondectime=Fitted(0.24577080399663306, minval=0, maxval=0.4)), OverlayPoissonMixture(pmixturecoef=0.02, rate=1)]), dx=0.01, dt=0.01, T_dur=2) loss=2705.4085137652946\n",
      "Model(name='Roitman data, leaky drift varies with coherence', drift=DriftCoherenceLeak(driftcoh=Fitted(9.81024590295237, minval=0, maxval=20), leak=Fitted(4.414833168535617, minval=-10, maxval=10)), noise=NoiseConstant(noise=1), bound=BoundCollapsingExponential(B=Fitted(1.9352040071677286, minval=0.5, maxval=3), tau=Fitted(3.1794317538415537, minval=0.0001, maxval=5)), IC=ICPointSourceCenter(), overlay=OverlayChain(overlays=[OverlayNonDecision(nondectime=Fitted(0.0981190149127948, minval=0, maxval=0.4)), OverlayPoissonMixture(pmixturecoef=0.02, rate=1)]), dx=0.01, dt=0.01, T_dur=2) loss=5725.197278222273\n",
      "Model(name='Roitman data, leaky drift varies with coherence', drift=DriftCoherenceLeak(driftcoh=Fitted(8.917671444921647, minval=0, maxval=20), leak=Fitted(7.405944933563182, minval=-10, maxval=10)), noise=NoiseConstant(noise=1), bound=BoundCollapsingExponential(B=Fitted(1.655355543598668, minval=0.5, maxval=3), tau=Fitted(2.0514875797889305, minval=0.0001, maxval=5)), IC=ICPointSourceCenter(), overlay=OverlayChain(overlays=[OverlayNonDecision(nondectime=Fitted(0.27138708958235086, minval=0, maxval=0.4)), OverlayPoissonMixture(pmixturecoef=0.02, rate=1)]), dx=0.01, dt=0.01, T_dur=2) loss=1579.2415886404933\n",
      "Model(name='Roitman data, leaky drift varies with coherence', drift=DriftCoherenceLeak(driftcoh=Fitted(8.391054383955462, minval=0, maxval=20), leak=Fitted(-2.1854671146279236, minval=-10, maxval=10)), noise=NoiseConstant(noise=1), bound=BoundCollapsingExponential(B=Fitted(1.4490639030090307, minval=0.5, maxval=3), tau=Fitted(1.4782935430434794, minval=0.0001, maxval=5)), IC=ICPointSourceCenter(), overlay=OverlayChain(overlays=[OverlayNonDecision(nondectime=Fitted(0.21509780576878035, minval=0, maxval=0.4)), OverlayPoissonMixture(pmixturecoef=0.02, rate=1)]), dx=0.01, dt=0.01, T_dur=2) loss=5.977359880538344\n",
      "Model(name='Roitman data, leaky drift varies with coherence', drift=DriftCoherenceLeak(driftcoh=Fitted(19.12120117315572, minval=0, maxval=20), leak=Fitted(-2.5773791958162207, minval=-10, maxval=10)), noise=NoiseConstant(noise=1), bound=BoundCollapsingExponential(B=Fitted(1.305815159227506, minval=0.5, maxval=3), tau=Fitted(3.9329276265909474, minval=0.0001, maxval=5)), IC=ICPointSourceCenter(), overlay=OverlayChain(overlays=[OverlayNonDecision(nondectime=Fitted(0.14048189022126337, minval=0, maxval=0.4)), OverlayPoissonMixture(pmixturecoef=0.02, rate=1)]), dx=0.01, dt=0.01, T_dur=2) loss=8208.892193784584\n",
      "Model(name='Roitman data, leaky drift varies with coherence', drift=DriftCoherenceLeak(driftcoh=Fitted(19.66213550801708, minval=0, maxval=20), leak=Fitted(-4.208674746394895, minval=-10, maxval=10)), noise=NoiseConstant(noise=1), bound=BoundCollapsingExponential(B=Fitted(2.098494814172506, minval=0.5, maxval=3), tau=Fitted(1.4316826901558302, minval=0.0001, maxval=5)), IC=ICPointSourceCenter(), overlay=OverlayChain(overlays=[OverlayNonDecision(nondectime=Fitted(0.3934259309190975, minval=0, maxval=0.4)), OverlayPoissonMixture(pmixturecoef=0.02, rate=1)]), dx=0.01, dt=0.01, T_dur=2) loss=8326.03249439039\n",
      "Model(name='Roitman data, leaky drift varies with coherence', drift=DriftCoherenceLeak(driftcoh=Fitted(11.216828411447018, minval=0, maxval=20), leak=Fitted(-9.966378924477729, minval=-10, maxval=10)), noise=NoiseConstant(noise=1), bound=BoundCollapsingExponential(B=Fitted(0.9564300459216292, minval=0.5, maxval=3), tau=Fitted(0.5442469163506545, minval=0.0001, maxval=5)), IC=ICPointSourceCenter(), overlay=OverlayChain(overlays=[OverlayNonDecision(nondectime=Fitted(0.1081117292070683, minval=0, maxval=0.4)), OverlayPoissonMixture(pmixturecoef=0.02, rate=1)]), dx=0.01, dt=0.01, T_dur=2) loss=3258.4974691630673\n",
      "Model(name='Roitman data, leaky drift varies with coherence', drift=DriftCoherenceLeak(driftcoh=Fitted(17.006821549469127, minval=0, maxval=20), leak=Fitted(8.296713581353528, minval=-10, maxval=10)), noise=NoiseConstant(noise=1), bound=BoundCollapsingExponential(B=Fitted(0.525446664499696, minval=0.5, maxval=3), tau=Fitted(4.213534769524867, minval=0.0001, maxval=5)), IC=ICPointSourceCenter(), overlay=OverlayChain(overlays=[OverlayNonDecision(nondectime=Fitted(0.10287346403935989, minval=0, maxval=0.4)), OverlayPoissonMixture(pmixturecoef=0.02, rate=1)]), dx=0.01, dt=0.01, T_dur=2) loss=13202.694860671027\n",
      "Model(name='Roitman data, leaky drift varies with coherence', drift=DriftCoherenceLeak(driftcoh=Fitted(5.57059882668626, minval=0, maxval=20), leak=Fitted(6.453336787925689, minval=-10, maxval=10)), noise=NoiseConstant(noise=1), bound=BoundCollapsingExponential(B=Fitted(0.593777457196794, minval=0.5, maxval=3), tau=Fitted(2.225800734802238, minval=0.0001, maxval=5)), IC=ICPointSourceCenter(), overlay=OverlayChain(overlays=[OverlayNonDecision(nondectime=Fitted(0.3427598005743314, minval=0, maxval=0.4)), OverlayPoissonMixture(pmixturecoef=0.02, rate=1)]), dx=0.01, dt=0.01, T_dur=2) loss=3530.998519492379\n",
      "Model(name='Roitman data, leaky drift varies with coherence', drift=DriftCoherenceLeak(driftcoh=Fitted(4.711925034412583, minval=0, maxval=20), leak=Fitted(-4.524427340656998, minval=-10, maxval=10)), noise=NoiseConstant(noise=1), bound=BoundCollapsingExponential(B=Fitted(2.048837296006622, minval=0.5, maxval=3), tau=Fitted(0.09086413073586863, minval=0.0001, maxval=5)), IC=ICPointSourceCenter(), overlay=OverlayChain(overlays=[OverlayNonDecision(nondectime=Fitted(0.23912047849103146, minval=0, maxval=0.4)), OverlayPoissonMixture(pmixturecoef=0.02, rate=1)]), dx=0.01, dt=0.01, T_dur=2) loss=35489.39082112373\n",
      "Model(name='Roitman data, leaky drift varies with coherence', drift=DriftCoherenceLeak(driftcoh=Fitted(3.4873034093977395, minval=0, maxval=20), leak=Fitted(7.862200205180187, minval=-10, maxval=10)), noise=NoiseConstant(noise=1), bound=BoundCollapsingExponential(B=Fitted(2.658720623711777, minval=0.5, maxval=3), tau=Fitted(3.6804994246028446, minval=0.0001, maxval=5)), IC=ICPointSourceCenter(), overlay=OverlayChain(overlays=[OverlayNonDecision(nondectime=Fitted(0.16709734085887742, minval=0, maxval=0.4)), OverlayPoissonMixture(pmixturecoef=0.02, rate=1)]), dx=0.01, dt=0.01, T_dur=2) loss=4541.311579476601\n",
      "Model(name='Roitman data, leaky drift varies with coherence', drift=DriftCoherenceLeak(driftcoh=Fitted(1.1353143538374226, minval=0, maxval=20), leak=Fitted(-2.8121188665411245, minval=-10, maxval=10)), noise=NoiseConstant(noise=1), bound=BoundCollapsingExponential(B=Fitted(2.453826207432596, minval=0.5, maxval=3), tau=Fitted(3.330241670960722, minval=0.0001, maxval=5)), IC=ICPointSourceCenter(), overlay=OverlayChain(overlays=[OverlayNonDecision(nondectime=Fitted(0.32564344640727416, minval=0, maxval=0.4)), OverlayPoissonMixture(pmixturecoef=0.02, rate=1)]), dx=0.01, dt=0.01, T_dur=2) loss=4519.117293834119\n",
      "Model(name='Roitman data, leaky drift varies with coherence', drift=DriftCoherenceLeak(driftcoh=Fitted(14.370686383947106, minval=0, maxval=20), leak=Fitted(3.9982082504333527, minval=-10, maxval=10)), noise=NoiseConstant(noise=1), bound=BoundCollapsingExponential(B=Fitted(2.5796426752518755, minval=0.5, maxval=3), tau=Fitted(0.21677000693464388, minval=0.0001, maxval=5)), IC=ICPointSourceCenter(), overlay=OverlayChain(overlays=[OverlayNonDecision(nondectime=Fitted(0.301243260529459, minval=0, maxval=0.4)), OverlayPoissonMixture(pmixturecoef=0.02, rate=1)]), dx=0.01, dt=0.01, T_dur=2) loss=748.6499972205659\n",
      "Model(name='Roitman data, leaky drift varies with coherence', drift=DriftCoherenceLeak(driftcoh=Fitted(0.0712151382052344, minval=0, maxval=20), leak=Fitted(-5.6704408999905676, minval=-10, maxval=10)), noise=NoiseConstant(noise=1), bound=BoundCollapsingExponential(B=Fitted(2.935522069829656, minval=0.5, maxval=3), tau=Fitted(1.215142701277994, minval=0.0001, maxval=5)), IC=ICPointSourceCenter(), overlay=OverlayChain(overlays=[OverlayNonDecision(nondectime=Fitted(0.1378720789603346, minval=0, maxval=0.4)), OverlayPoissonMixture(pmixturecoef=0.02, rate=1)]), dx=0.01, dt=0.01, T_dur=2) loss=12838.190216137778\n",
      "Model(name='Roitman data, leaky drift varies with coherence', drift=DriftCoherenceLeak(driftcoh=Fitted(1.8299866002008507, minval=0, maxval=20), leak=Fitted(2.665109717414569, minval=-10, maxval=10)), noise=NoiseConstant(noise=1), bound=BoundCollapsingExponential(B=Fitted(1.6043895098200496, minval=0.5, maxval=3), tau=Fitted(0.7628835045867504, minval=0.0001, maxval=5)), IC=ICPointSourceCenter(), overlay=OverlayChain(overlays=[OverlayNonDecision(nondectime=Fitted(0.3549721335761616, minval=0, maxval=0.4)), OverlayPoissonMixture(pmixturecoef=0.02, rate=1)]), dx=0.01, dt=0.01, T_dur=2) loss=2758.9336741567736\n",
      "Model(name='Roitman data, leaky drift varies with coherence', drift=DriftCoherenceLeak(driftcoh=Fitted(12.999457436591813, minval=0, maxval=20), leak=Fitted(9.543538477726898, minval=-10, maxval=10)), noise=NoiseConstant(noise=1), bound=BoundCollapsingExponential(B=Fitted(0.7178716574987491, minval=0.5, maxval=3), tau=Fitted(2.307142454359793, minval=0.0001, maxval=5)), IC=ICPointSourceCenter(), overlay=OverlayChain(overlays=[OverlayNonDecision(nondectime=Fitted(0.31306104895877596, minval=0, maxval=0.4)), OverlayPoissonMixture(pmixturecoef=0.02, rate=1)]), dx=0.01, dt=0.01, T_dur=2) loss=4641.146769079277\n",
      "Model(name='Roitman data, leaky drift varies with coherence', drift=DriftCoherenceLeak(driftcoh=Fitted(18.660808240049093, minval=0, maxval=20), leak=Fitted(3.0662351866574444, minval=-10, maxval=10)), noise=NoiseConstant(noise=1), bound=BoundCollapsingExponential(B=Fitted(1.1385992312550393, minval=0.5, maxval=3), tau=Fitted(4.647611917032916, minval=0.0001, maxval=5)), IC=ICPointSourceCenter(), overlay=OverlayChain(overlays=[OverlayNonDecision(nondectime=Fitted(0.2043855464714325, minval=0, maxval=0.4)), OverlayPoissonMixture(pmixturecoef=0.02, rate=1)]), dx=0.01, dt=0.01, T_dur=2) loss=9269.37809315032\n",
      "Model(name='Roitman data, leaky drift varies with coherence', drift=DriftCoherenceLeak(driftcoh=Fitted(11.70982377885155, minval=0, maxval=20), leak=Fitted(-6.800419298248432, minval=-10, maxval=10)), noise=NoiseConstant(noise=1), bound=BoundCollapsingExponential(B=Fitted(0.768239565824627, minval=0.5, maxval=3), tau=Fitted(3.434876920678647, minval=0.0001, maxval=5)), IC=ICPointSourceCenter(), overlay=OverlayChain(overlays=[OverlayNonDecision(nondectime=Fitted(0.02110817111991392, minval=0, maxval=0.4)), OverlayPoissonMixture(pmixturecoef=0.02, rate=1)]), dx=0.01, dt=0.01, T_dur=2) loss=11889.195042078032\n",
      "Model(name='Roitman data, leaky drift varies with coherence', drift=DriftCoherenceLeak(driftcoh=Fitted(14.66832697413967, minval=0, maxval=20), leak=Fitted(0.4921644982503892, minval=-10, maxval=10)), noise=NoiseConstant(noise=1), bound=BoundCollapsingExponential(B=Fitted(2.007061826588362, minval=0.5, maxval=3), tau=Fitted(4.4207994818298415, minval=0.0001, maxval=5)), IC=ICPointSourceCenter(), overlay=OverlayChain(overlays=[OverlayNonDecision(nondectime=Fitted(0.31615391918460084, minval=0, maxval=0.4)), OverlayPoissonMixture(pmixturecoef=0.02, rate=1)]), dx=0.01, dt=0.01, T_dur=2) loss=1368.1487255451202\n",
      "Model(name='Roitman data, leaky drift varies with coherence', drift=DriftCoherenceLeak(driftcoh=Fitted(16.56756363481516, minval=0, maxval=20), leak=Fitted(-0.7223831507908851, minval=-10, maxval=10)), noise=NoiseConstant(noise=1), bound=BoundCollapsingExponential(B=Fitted(2.1706431859183954, minval=0.5, maxval=3), tau=Fitted(4.760261191611825, minval=0.0001, maxval=5)), IC=ICPointSourceCenter(), overlay=OverlayChain(overlays=[OverlayNonDecision(nondectime=Fitted(0.003398693824390203, minval=0, maxval=0.4)), OverlayPoissonMixture(pmixturecoef=0.02, rate=1)]), dx=0.01, dt=0.01, T_dur=2) loss=11393.171159361424\n",
      "Model(name='Roitman data, leaky drift varies with coherence', drift=DriftCoherenceLeak(driftcoh=Fitted(12.309148771071909, minval=0, maxval=20), leak=Fitted(1.20077183637195, minval=-10, maxval=10)), noise=NoiseConstant(noise=1), bound=BoundCollapsingExponential(B=Fitted(2.880016048851676, minval=0.5, maxval=3), tau=Fitted(1.6489022704849163, minval=0.0001, maxval=5)), IC=ICPointSourceCenter(), overlay=OverlayChain(overlays=[OverlayNonDecision(nondectime=Fitted(0.22556979725823584, minval=0, maxval=0.4)), OverlayPoissonMixture(pmixturecoef=0.02, rate=1)]), dx=0.01, dt=0.01, T_dur=2) loss=227.09667567265478\n",
      "Model(name='Roitman data, leaky drift varies with coherence', drift=DriftCoherenceLeak(driftcoh=Fitted(1.4040191927759373, minval=0, maxval=20), leak=Fitted(-7.458202688675208, minval=-10, maxval=10)), noise=NoiseConstant(noise=1), bound=BoundCollapsingExponential(B=Fitted(2.930354826761679, minval=0.5, maxval=3), tau=Fitted(1.147736682894549, minval=0.0001, maxval=5)), IC=ICPointSourceCenter(), overlay=OverlayChain(overlays=[OverlayNonDecision(nondectime=Fitted(0.36630733420361733, minval=0, maxval=0.4)), OverlayPoissonMixture(pmixturecoef=0.02, rate=1)]), dx=0.01, dt=0.01, T_dur=2) loss=15402.661413883514\n",
      "Model(name='Roitman data, leaky drift varies with coherence', drift=DriftCoherenceLeak(driftcoh=Fitted(14.479588546075604, minval=0, maxval=20), leak=Fitted(-8.083588713055905, minval=-10, maxval=10)), noise=NoiseConstant(noise=1), bound=BoundCollapsingExponential(B=Fitted(1.5857379388951123, minval=0.5, maxval=3), tau=Fitted(2.741601596966736, minval=0.0001, maxval=5)), IC=ICPointSourceCenter(), overlay=OverlayChain(overlays=[OverlayNonDecision(nondectime=Fitted(0.007638713549017462, minval=0, maxval=0.4)), OverlayPoissonMixture(pmixturecoef=0.02, rate=1)]), dx=0.01, dt=0.01, T_dur=2) loss=3515.124593902118\n",
      "Model(name='Roitman data, leaky drift varies with coherence', drift=DriftCoherenceLeak(driftcoh=Fitted(6.613485659215479, minval=0, maxval=20), leak=Fitted(5.610907275252828, minval=-10, maxval=10)), noise=NoiseConstant(noise=1), bound=BoundCollapsingExponential(B=Fitted(2.728550946841991, minval=0.5, maxval=3), tau=Fitted(4.811698419792194, minval=0.0001, maxval=5)), IC=ICPointSourceCenter(), overlay=OverlayChain(overlays=[OverlayNonDecision(nondectime=Fitted(0.1977654856630871, minval=0, maxval=0.4)), OverlayPoissonMixture(pmixturecoef=0.02, rate=1)]), dx=0.01, dt=0.01, T_dur=2) loss=4132.9363106519\n",
      "Model(name='Roitman data, leaky drift varies with coherence', drift=DriftCoherenceLeak(driftcoh=Fitted(2.768243432964475, minval=0, maxval=20), leak=Fitted(6.651869885618041, minval=-10, maxval=10)), noise=NoiseConstant(noise=1), bound=BoundCollapsingExponential(B=Fitted(2.5462735049372647, minval=0.5, maxval=3), tau=Fitted(2.975245704454408, minval=0.0001, maxval=5)), IC=ICPointSourceCenter(), overlay=OverlayChain(overlays=[OverlayNonDecision(nondectime=Fitted(0.052871738019870135, minval=0, maxval=0.4)), OverlayPoissonMixture(pmixturecoef=0.02, rate=1)]), dx=0.01, dt=0.01, T_dur=2) loss=5674.582123415394\n",
      "Model(name='Roitman data, leaky drift varies with coherence', drift=DriftCoherenceLeak(driftcoh=Fitted(19.87760106313388, minval=0, maxval=20), leak=Fitted(-4.689791661264407, minval=-10, maxval=10)), noise=NoiseConstant(noise=1), bound=BoundCollapsingExponential(B=Fitted(2.2175369170718895, minval=0.5, maxval=3), tau=Fitted(4.3692084278773615, minval=0.0001, maxval=5)), IC=ICPointSourceCenter(), overlay=OverlayChain(overlays=[OverlayNonDecision(nondectime=Fitted(0.17849619532548983, minval=0, maxval=0.4)), OverlayPoissonMixture(pmixturecoef=0.02, rate=1)]), dx=0.01, dt=0.01, T_dur=2) loss=3660.0579299619585\n",
      "Model(name='Roitman data, leaky drift varies with coherence', drift=DriftCoherenceLeak(driftcoh=Fitted(0.7176539080728208, minval=0, maxval=20), leak=Fitted(-6.123605808671152, minval=-10, maxval=10)), noise=NoiseConstant(noise=1), bound=BoundCollapsingExponential(B=Fitted(1.4808650722680083, minval=0.5, maxval=3), tau=Fitted(0.4024966300783519, minval=0.0001, maxval=5)), IC=ICPointSourceCenter(), overlay=OverlayChain(overlays=[OverlayNonDecision(nondectime=Fitted(0.23239227009674812, minval=0, maxval=0.4)), OverlayPoissonMixture(pmixturecoef=0.02, rate=1)]), dx=0.01, dt=0.01, T_dur=2) loss=16633.0704465021\n",
      "Model(name='Roitman data, leaky drift varies with coherence', drift=DriftCoherenceLeak(driftcoh=Fitted(13.697174232648194, minval=0, maxval=20), leak=Fitted(2.4802866112250532, minval=-10, maxval=10)), noise=NoiseConstant(noise=1), bound=BoundCollapsingExponential(B=Fitted(0.8186190795707172, minval=0.5, maxval=3), tau=Fitted(0.6306430523062001, minval=0.0001, maxval=5)), IC=ICPointSourceCenter(), overlay=OverlayChain(overlays=[OverlayNonDecision(nondectime=Fitted(0.3396716168192412, minval=0, maxval=0.4)), OverlayPoissonMixture(pmixturecoef=0.02, rate=1)]), dx=0.01, dt=0.01, T_dur=2) loss=199.13580478471357\n",
      "Model(name='Roitman data, leaky drift varies with coherence', drift=DriftCoherenceLeak(driftcoh=Fitted(4.140131462331764, minval=0, maxval=20), leak=Fitted(-3.295448348387735, minval=-10, maxval=10)), noise=NoiseConstant(noise=1), bound=BoundCollapsingExponential(B=Fitted(1.0147392628521819, minval=0.5, maxval=3), tau=Fitted(0.2727993774320825, minval=0.0001, maxval=5)), IC=ICPointSourceCenter(), overlay=OverlayChain(overlays=[OverlayNonDecision(nondectime=Fitted(0.3040557136066886, minval=0, maxval=0.4)), OverlayPoissonMixture(pmixturecoef=0.02, rate=1)]), dx=0.01, dt=0.01, T_dur=2) loss=3918.5874695538973\n",
      "Model(name='Roitman data, leaky drift varies with coherence', drift=DriftCoherenceLeak(driftcoh=Fitted(0.9371837294167698, minval=0, maxval=20), leak=Fitted(8.678046234879712, minval=-10, maxval=10)), noise=NoiseConstant(noise=1), bound=BoundCollapsingExponential(B=Fitted(0.8385964901930111, minval=0.5, maxval=3), tau=Fitted(0.33899151106509073, minval=0.0001, maxval=5)), IC=ICPointSourceCenter(), overlay=OverlayChain(overlays=[OverlayNonDecision(nondectime=Fitted(0.2558495815752162, minval=0, maxval=0.4)), OverlayPoissonMixture(pmixturecoef=0.02, rate=1)]), dx=0.01, dt=0.01, T_dur=2) loss=3019.5929609492505\n",
      "Model(name='Roitman data, leaky drift varies with coherence', drift=DriftCoherenceLeak(driftcoh=Fitted(6.8302846986629895, minval=0, maxval=20), leak=Fitted(-1.8397239066369875, minval=-10, maxval=10)), noise=NoiseConstant(noise=1), bound=BoundCollapsingExponential(B=Fitted(1.994137164942317, minval=0.5, maxval=3), tau=Fitted(4.976977522418319, minval=0.0001, maxval=5)), IC=ICPointSourceCenter(), overlay=OverlayChain(overlays=[OverlayNonDecision(nondectime=Fitted(0.0846322352619368, minval=0, maxval=0.4)), OverlayPoissonMixture(pmixturecoef=0.02, rate=1)]), dx=0.01, dt=0.01, T_dur=2) loss=7381.92344546412\n",
      "Model(name='Roitman data, leaky drift varies with coherence', drift=DriftCoherenceLeak(driftcoh=Fitted(2.2345893901175797, minval=0, maxval=20), leak=Fitted(-9.598513056448347, minval=-10, maxval=10)), noise=NoiseConstant(noise=1), bound=BoundCollapsingExponential(B=Fitted(2.3579775682328874, minval=0.5, maxval=3), tau=Fitted(3.7720005213129983, minval=0.0001, maxval=5)), IC=ICPointSourceCenter(), overlay=OverlayChain(overlays=[OverlayNonDecision(nondectime=Fitted(0.2618198776780116, minval=0, maxval=0.4)), OverlayPoissonMixture(pmixturecoef=0.02, rate=1)]), dx=0.01, dt=0.01, T_dur=2) loss=4673.784562370676\n",
      "Model(name='Roitman data, leaky drift varies with coherence', drift=DriftCoherenceLeak(driftcoh=Fitted(4.351449214510761, minval=0, maxval=20), leak=Fitted(-7.640677644016273, minval=-10, maxval=10)), noise=NoiseConstant(noise=1), bound=BoundCollapsingExponential(B=Fitted(2.9980286214857284, minval=0.5, maxval=3), tau=Fitted(3.6609646989721103, minval=0.0001, maxval=5)), IC=ICPointSourceCenter(), overlay=OverlayChain(overlays=[OverlayNonDecision(nondectime=Fitted(0.08977706360900047, minval=0, maxval=0.4)), OverlayPoissonMixture(pmixturecoef=0.02, rate=1)]), dx=0.01, dt=0.01, T_dur=2) loss=1430.2727961320163\n",
      "Model(name='Roitman data, leaky drift varies with coherence', drift=DriftCoherenceLeak(driftcoh=Fitted(2.097668447771248, minval=0, maxval=20), leak=Fitted(1.1050392579272583, minval=-10, maxval=10)), noise=NoiseConstant(noise=1), bound=BoundCollapsingExponential(B=Fitted(1.754224624802943, minval=0.5, maxval=3), tau=Fitted(1.2761400938548721, minval=0.0001, maxval=5)), IC=ICPointSourceCenter(), overlay=OverlayChain(overlays=[OverlayNonDecision(nondectime=Fitted(0.033954524422048105, minval=0, maxval=0.4)), OverlayPoissonMixture(pmixturecoef=0.02, rate=1)]), dx=0.01, dt=0.01, T_dur=2) loss=910.5143627705725\n",
      "Model(name='Roitman data, leaky drift varies with coherence', drift=DriftCoherenceLeak(driftcoh=Fitted(17.432397101751327, minval=0, maxval=20), leak=Fitted(7.966952743267273, minval=-10, maxval=10)), noise=NoiseConstant(noise=1), bound=BoundCollapsingExponential(B=Fitted(1.223147186414273, minval=0.5, maxval=3), tau=Fitted(3.031993511787069, minval=0.0001, maxval=5)), IC=ICPointSourceCenter(), overlay=OverlayChain(overlays=[OverlayNonDecision(nondectime=Fitted(0.05412793876149302, minval=0, maxval=0.4)), OverlayPoissonMixture(pmixturecoef=0.02, rate=1)]), dx=0.01, dt=0.01, T_dur=2) loss=11595.143943251012\n",
      "Model(name='Roitman data, leaky drift varies with coherence', drift=DriftCoherenceLeak(driftcoh=Fitted(17.854937808756773, minval=0, maxval=20), leak=Fitted(-0.023713932836334495, minval=-10, maxval=10)), noise=NoiseConstant(noise=1), bound=BoundCollapsingExponential(B=Fitted(1.3868171233530586, minval=0.5, maxval=3), tau=Fitted(3.068387460510192, minval=0.0001, maxval=5)), IC=ICPointSourceCenter(), overlay=OverlayChain(overlays=[OverlayNonDecision(nondectime=Fitted(0.029135050402059298, minval=0, maxval=0.4)), OverlayPoissonMixture(pmixturecoef=0.02, rate=1)]), dx=0.01, dt=0.01, T_dur=2) loss=9796.14257814092\n",
      "Model(name='Roitman data, leaky drift varies with coherence', drift=DriftCoherenceLeak(driftcoh=Fitted(13.095299194503195, minval=0, maxval=20), leak=Fitted(-1.2925682982632958, minval=-10, maxval=10)), noise=NoiseConstant(noise=1), bound=BoundCollapsingExponential(B=Fitted(2.8277960615919016, minval=0.5, maxval=3), tau=Fitted(3.840091695030771, minval=0.0001, maxval=5)), IC=ICPointSourceCenter(), overlay=OverlayChain(overlays=[OverlayNonDecision(nondectime=Fitted(0.3681091197050326, minval=0, maxval=0.4)), OverlayPoissonMixture(pmixturecoef=0.02, rate=1)]), dx=0.01, dt=0.01, T_dur=2) loss=2922.3568809585418\n",
      "Model(name='Roitman data, leaky drift varies with coherence', drift=DriftCoherenceLeak(driftcoh=Fitted(5.033928127058024, minval=0, maxval=20), leak=Fitted(5.3826627252158605, minval=-10, maxval=10)), noise=NoiseConstant(noise=1), bound=BoundCollapsingExponential(B=Fitted(0.7337821458473746, minval=0.5, maxval=3), tau=Fitted(3.337819224730601, minval=0.0001, maxval=5)), IC=ICPointSourceCenter(), overlay=OverlayChain(overlays=[OverlayNonDecision(nondectime=Fitted(0.28600721699298964, minval=0, maxval=0.4)), OverlayPoissonMixture(pmixturecoef=0.02, rate=1)]), dx=0.01, dt=0.01, T_dur=2) loss=5168.037646690568\n",
      "Model(name='Roitman data, leaky drift varies with coherence', drift=DriftCoherenceLeak(driftcoh=Fitted(12.702433836139917, minval=0, maxval=20), leak=Fitted(8.608034815576236, minval=-10, maxval=10)), noise=NoiseConstant(noise=1), bound=BoundCollapsingExponential(B=Fitted(1.8858020748929802, minval=0.5, maxval=3), tau=Fitted(4.189471356341522, minval=0.0001, maxval=5)), IC=ICPointSourceCenter(), overlay=OverlayChain(overlays=[OverlayNonDecision(nondectime=Fitted(0.21238957010308723, minval=0, maxval=0.4)), OverlayPoissonMixture(pmixturecoef=0.02, rate=1)]), dx=0.01, dt=0.01, T_dur=2) loss=6116.063969021941\n",
      "Model(name='Roitman data, leaky drift varies with coherence', drift=DriftCoherenceLeak(driftcoh=Fitted(16.247637590788464, minval=0, maxval=20), leak=Fitted(5.815824166809809, minval=-10, maxval=10)), noise=NoiseConstant(noise=1), bound=BoundCollapsingExponential(B=Fitted(2.298298780848644, minval=0.5, maxval=3), tau=Fitted(2.55458213701347, minval=0.0001, maxval=5)), IC=ICPointSourceCenter(), overlay=OverlayChain(overlays=[OverlayNonDecision(nondectime=Fitted(0.14955147274135394, minval=0, maxval=0.4)), OverlayPoissonMixture(pmixturecoef=0.02, rate=1)]), dx=0.01, dt=0.01, T_dur=2) loss=4866.129011550723\n",
      "Model(name='Roitman data, leaky drift varies with coherence', drift=DriftCoherenceLeak(driftcoh=Fitted(5.7037694419760365, minval=0, maxval=20), leak=Fitted(3.0767010714797083, minval=-10, maxval=10)), noise=NoiseConstant(noise=1), bound=BoundCollapsingExponential(B=Fitted(1.2479916281903285, minval=0.5, maxval=3), tau=Fitted(4.0099368320020465, minval=0.0001, maxval=5)), IC=ICPointSourceCenter(), overlay=OverlayChain(overlays=[OverlayNonDecision(nondectime=Fitted(0.02425187113048538, minval=0, maxval=0.4)), OverlayPoissonMixture(pmixturecoef=0.02, rate=1)]), dx=0.01, dt=0.01, T_dur=2) loss=10711.822437041805\n",
      "Model(name='Roitman data, leaky drift varies with coherence', drift=DriftCoherenceLeak(driftcoh=Fitted(10.135246248015699, minval=0, maxval=20), leak=Fitted(-3.6529078992319794, minval=-10, maxval=10)), noise=NoiseConstant(noise=1), bound=BoundCollapsingExponential(B=Fitted(2.473513674657285, minval=0.5, maxval=3), tau=Fitted(2.5093587784326203, minval=0.0001, maxval=5)), IC=ICPointSourceCenter(), overlay=OverlayChain(overlays=[OverlayNonDecision(nondectime=Fitted(0.2981010930285442, minval=0, maxval=0.4)), OverlayPoissonMixture(pmixturecoef=0.02, rate=1)]), dx=0.01, dt=0.01, T_dur=2) loss=4107.875190970431\n",
      "Model(name='Roitman data, leaky drift varies with coherence', drift=DriftCoherenceLeak(driftcoh=Fitted(7.965445486292698, minval=0, maxval=20), leak=Fitted(6.09854969896179, minval=-10, maxval=10)), noise=NoiseConstant(noise=1), bound=BoundCollapsingExponential(B=Fitted(2.8567488192353405, minval=0.5, maxval=3), tau=Fitted(1.1205908389257007, minval=0.0001, maxval=5)), IC=ICPointSourceCenter(), overlay=OverlayChain(overlays=[OverlayNonDecision(nondectime=Fitted(0.07164077207750025, minval=0, maxval=0.4)), OverlayPoissonMixture(pmixturecoef=0.02, rate=1)]), dx=0.01, dt=0.01, T_dur=2) loss=2497.237146893574\n",
      "Model(name='Roitman data, leaky drift varies with coherence', drift=DriftCoherenceLeak(driftcoh=Fitted(2.4418113305347493, minval=0, maxval=20), leak=Fitted(-2.318545253277735, minval=-10, maxval=10)), noise=NoiseConstant(noise=1), bound=BoundCollapsingExponential(B=Fitted(2.6676960872636872, minval=0.5, maxval=3), tau=Fitted(0.8291335515347067, minval=0.0001, maxval=5)), IC=ICPointSourceCenter(), overlay=OverlayChain(overlays=[OverlayNonDecision(nondectime=Fitted(0.3326860755268224, minval=0, maxval=0.4)), OverlayPoissonMixture(pmixturecoef=0.02, rate=1)]), dx=0.01, dt=0.01, T_dur=2) loss=14051.406623579034\n",
      "Model(name='Roitman data, leaky drift varies with coherence', drift=DriftCoherenceLeak(driftcoh=Fitted(18.874059812656853, minval=0, maxval=20), leak=Fitted(-9.264806254942792, minval=-10, maxval=10)), noise=NoiseConstant(noise=1), bound=BoundCollapsingExponential(B=Fitted(1.335271652340373, minval=0.5, maxval=3), tau=Fitted(3.2414297956653177, minval=0.0001, maxval=5)), IC=ICPointSourceCenter(), overlay=OverlayChain(overlays=[OverlayNonDecision(nondectime=Fitted(0.15639762791172174, minval=0, maxval=0.4)), OverlayPoissonMixture(pmixturecoef=0.02, rate=1)]), dx=0.01, dt=0.01, T_dur=2) loss=3084.382010808882\n",
      "Model(name='Roitman data, leaky drift varies with coherence', drift=DriftCoherenceLeak(driftcoh=Fitted(18.115485475179923, minval=0, maxval=20), leak=Fitted(9.76035404612401, minval=-10, maxval=10)), noise=NoiseConstant(noise=1), bound=BoundCollapsingExponential(B=Fitted(1.0387090837885962, minval=0.5, maxval=3), tau=Fitted(2.926426954353281, minval=0.0001, maxval=5)), IC=ICPointSourceCenter(), overlay=OverlayChain(overlays=[OverlayNonDecision(nondectime=Fitted(0.09389283633411788, minval=0, maxval=0.4)), OverlayPoissonMixture(pmixturecoef=0.02, rate=1)]), dx=0.01, dt=0.01, T_dur=2) loss=11703.462227270162\n",
      "Model(name='Roitman data, leaky drift varies with coherence', drift=DriftCoherenceLeak(driftcoh=Fitted(15.319445216058758, minval=0, maxval=20), leak=Fitted(-7.160128053810691, minval=-10, maxval=10)), noise=NoiseConstant(noise=1), bound=BoundCollapsingExponential(B=Fitted(0.9988101569884702, minval=0.5, maxval=3), tau=Fitted(1.5500080068614421, minval=0.0001, maxval=5)), IC=ICPointSourceCenter(), overlay=OverlayChain(overlays=[OverlayNonDecision(nondectime=Fitted(0.07952921319990024, minval=0, maxval=0.4)), OverlayPoissonMixture(pmixturecoef=0.02, rate=1)]), dx=0.01, dt=0.01, T_dur=2) loss=1918.515221275764\n",
      "Model(name='Roitman data, leaky drift varies with coherence', drift=DriftCoherenceLeak(driftcoh=Fitted(0.41151112341340124, minval=0, maxval=20), leak=Fitted(3.734489470969884, minval=-10, maxval=10)), noise=NoiseConstant(noise=1), bound=BoundCollapsingExponential(B=Fitted(1.5023023263287958, minval=0.5, maxval=3), tau=Fitted(3.5189911037998582, minval=0.0001, maxval=5)), IC=ICPointSourceCenter(), overlay=OverlayChain(overlays=[OverlayNonDecision(nondectime=Fitted(0.12792306250838692, minval=0, maxval=0.4)), OverlayPoissonMixture(pmixturecoef=0.02, rate=1)]), dx=0.01, dt=0.01, T_dur=2) loss=5700.599866115208\n",
      "Model(name='Roitman data, leaky drift varies with coherence', drift=DriftCoherenceLeak(driftcoh=Fitted(7.492467774029389, minval=0, maxval=20), leak=Fitted(5.179148533812548, minval=-10, maxval=10)), noise=NoiseConstant(noise=1), bound=BoundCollapsingExponential(B=Fitted(1.272088821411123, minval=0.5, maxval=3), tau=Fitted(0.4746260598418126, minval=0.0001, maxval=5)), IC=ICPointSourceCenter(), overlay=OverlayChain(overlays=[OverlayNonDecision(nondectime=Fitted(0.18295318033591187, minval=0, maxval=0.4)), OverlayPoissonMixture(pmixturecoef=0.02, rate=1)]), dx=0.01, dt=0.01, T_dur=2) loss=1314.1954146433582\n",
      "Model(name='Roitman data, leaky drift varies with coherence', drift=DriftCoherenceLeak(driftcoh=Fitted(3.131685916749026, minval=0, maxval=20), leak=Fitted(-1.6369537914847654, minval=-10, maxval=10)), noise=NoiseConstant(noise=1), bound=BoundCollapsingExponential(B=Fitted(1.8497389644488924, minval=0.5, maxval=3), tau=Fitted(2.1450754610217073, minval=0.0001, maxval=5)), IC=ICPointSourceCenter(), overlay=OverlayChain(overlays=[OverlayNonDecision(nondectime=Fitted(0.2446236118474111, minval=0, maxval=0.4)), OverlayPoissonMixture(pmixturecoef=0.02, rate=1)]), dx=0.01, dt=0.01, T_dur=2) loss=1555.6402114185046\n",
      "Model(name='Roitman data, leaky drift varies with coherence', drift=DriftCoherenceLeak(driftcoh=Fitted(9.97816556884581, minval=0, maxval=20), leak=Fitted(9.218727106303186, minval=-10, maxval=10)), noise=NoiseConstant(noise=1), bound=BoundCollapsingExponential(B=Fitted(2.4186468519374333, minval=0.5, maxval=3), tau=Fitted(2.0696698736790857, minval=0.0001, maxval=5)), IC=ICPointSourceCenter(), overlay=OverlayChain(overlays=[OverlayNonDecision(nondectime=Fitted(0.22353786432043876, minval=0, maxval=0.4)), OverlayPoissonMixture(pmixturecoef=0.02, rate=1)]), dx=0.01, dt=0.01, T_dur=2) loss=2824.1212855656267\n",
      "Model(name='Roitman data, leaky drift varies with coherence', drift=DriftCoherenceLeak(driftcoh=Fitted(12.130794747676992, minval=0, maxval=20), leak=Fitted(-8.378174193167938, minval=-10, maxval=10)), noise=NoiseConstant(noise=1), bound=BoundCollapsingExponential(B=Fitted(1.120967153573368, minval=0.5, maxval=3), tau=Fitted(4.595099419092333, minval=0.0001, maxval=5)), IC=ICPointSourceCenter(), overlay=OverlayChain(overlays=[OverlayNonDecision(nondectime=Fitted(0.011282016195194061, minval=0, maxval=0.4)), OverlayPoissonMixture(pmixturecoef=0.02, rate=1)]), dx=0.01, dt=0.01, T_dur=2) loss=11865.280258517882\n",
      "Model(name='Roitman data, leaky drift varies with coherence', drift=DriftCoherenceLeak(driftcoh=Fitted(15.736428538344015, minval=0, maxval=20), leak=Fitted(4.337923085167345, minval=-10, maxval=10)), noise=NoiseConstant(noise=1), bound=BoundCollapsingExponential(B=Fitted(1.8138709836241098, minval=0.5, maxval=3), tau=Fitted(1.341157441249478, minval=0.0001, maxval=5)), IC=ICPointSourceCenter(), overlay=OverlayChain(overlays=[OverlayNonDecision(nondectime=Fitted(0.11262107474762145, minval=0, maxval=0.4)), OverlayPoissonMixture(pmixturecoef=0.02, rate=1)]), dx=0.01, dt=0.01, T_dur=2) loss=3716.475746666648\n",
      "Model(name='Roitman data, leaky drift varies with coherence', drift=DriftCoherenceLeak(driftcoh=Fitted(8.158738994504727, minval=0, maxval=20), leak=Fitted(-8.92787024034189, minval=-10, maxval=10)), noise=NoiseConstant(noise=1), bound=BoundCollapsingExponential(B=Fitted(0.637107399032391, minval=0.5, maxval=3), tau=Fitted(4.519237281549787, minval=0.0001, maxval=5)), IC=ICPointSourceCenter(), overlay=OverlayChain(overlays=[OverlayNonDecision(nondectime=Fitted(0.16214827796079723, minval=0, maxval=0.4)), OverlayPoissonMixture(pmixturecoef=0.02, rate=1)]), dx=0.01, dt=0.01, T_dur=2) loss=10086.981486610955\n",
      "Model(name='Roitman data, leaky drift varies with coherence', drift=DriftCoherenceLeak(driftcoh=Fitted(5.07736352504598, minval=0, maxval=20), leak=Fitted(2.1692218478468472, minval=-10, maxval=10)), noise=NoiseConstant(noise=1), bound=BoundCollapsingExponential(B=Fitted(0.9308972639560213, minval=0.5, maxval=3), tau=Fitted(2.729213947363532, minval=0.0001, maxval=5)), IC=ICPointSourceCenter(), overlay=OverlayChain(overlays=[OverlayNonDecision(nondectime=Fitted(0.3582859249792929, minval=0, maxval=0.4)), OverlayPoissonMixture(pmixturecoef=0.02, rate=1)]), dx=0.01, dt=0.01, T_dur=2) loss=1551.6500644191292\n",
      "Model(name='Roitman data, leaky drift varies with coherence', drift=DriftCoherenceLeak(driftcoh=Fitted(9.195784907101164, minval=0, maxval=20), leak=Fitted(-0.634128222238517, minval=-10, maxval=10)), noise=NoiseConstant(noise=1), bound=BoundCollapsingExponential(B=Fitted(1.7275366191710877, minval=0.5, maxval=3), tau=Fitted(1.0105794789631546, minval=0.0001, maxval=5)), IC=ICPointSourceCenter(), overlay=OverlayChain(overlays=[OverlayNonDecision(nondectime=Fitted(0.38225275452393476, minval=0, maxval=0.4)), OverlayPoissonMixture(pmixturecoef=0.02, rate=1)]), dx=0.01, dt=0.01, T_dur=2) loss=4859.228062059125\n",
      "Model(name='Roitman data, leaky drift varies with coherence', drift=DriftCoherenceLeak(driftcoh=Fitted(10.75478051188384, minval=0, maxval=20), leak=Fitted(6.926044749350597, minval=-10, maxval=10)), noise=NoiseConstant(noise=1), bound=BoundCollapsingExponential(B=Fitted(1.17195400042819, minval=0.5, maxval=3), tau=Fitted(0.9509342990648704, minval=0.0001, maxval=5)), IC=ICPointSourceCenter(), overlay=OverlayChain(overlays=[OverlayNonDecision(nondectime=Fitted(0.04395197557249128, minval=0, maxval=0.4)), OverlayPoissonMixture(pmixturecoef=0.02, rate=1)]), dx=0.01, dt=0.01, T_dur=2) loss=6787.318453629327\n",
      "Model(name='Roitman data, leaky drift varies with coherence', drift=DriftCoherenceLeak(driftcoh=Fitted(11.75023712195693, minval=0, maxval=20), leak=Fitted(4.761203475521604, minval=-10, maxval=10)), noise=NoiseConstant(noise=1), bound=BoundCollapsingExponential(B=Fitted(2.3188580067266935, minval=0.5, maxval=3), tau=Fitted(1.9280731114113079, minval=0.0001, maxval=5)), IC=ICPointSourceCenter(), overlay=OverlayChain(overlays=[OverlayNonDecision(nondectime=Fitted(0.27854824849303894, minval=0, maxval=0.4)), OverlayPoissonMixture(pmixturecoef=0.02, rate=1)]), dx=0.01, dt=0.01, T_dur=2) loss=148.26536686434358\n",
      "Model(name='Roitman data, leaky drift varies with coherence', drift=DriftCoherenceLeak(driftcoh=Fitted(3.929745510940739, minval=0, maxval=20), leak=Fitted(-8.513001799241383, minval=-10, maxval=10)), noise=NoiseConstant(noise=1), bound=BoundCollapsingExponential(B=Fitted(2.264255810724807, minval=0.5, maxval=3), tau=Fitted(1.834733483203609, minval=0.0001, maxval=5)), IC=ICPointSourceCenter(), overlay=OverlayChain(overlays=[OverlayNonDecision(nondectime=Fitted(0.06882639883914962, minval=0, maxval=0.4)), OverlayPoissonMixture(pmixturecoef=0.02, rate=1)]), dx=0.01, dt=0.01, T_dur=2) loss=6116.339554106975\n",
      "Model(name='Roitman data, leaky drift varies with coherence', drift=DriftCoherenceLeak(driftcoh=Fitted(13.382050034722042, minval=0, maxval=20), leak=Fitted(3.403308982057378, minval=-10, maxval=10)), noise=NoiseConstant(noise=1), bound=BoundCollapsingExponential(B=Fitted(1.6876900285185692, minval=0.5, maxval=3), tau=Fitted(0.6908389365686176, minval=0.0001, maxval=5)), IC=ICPointSourceCenter(), overlay=OverlayChain(overlays=[OverlayNonDecision(nondectime=Fitted(0.1917525800789167, minval=0, maxval=0.4)), OverlayPoissonMixture(pmixturecoef=0.02, rate=1)]), dx=0.01, dt=0.01, T_dur=2) loss=488.8152567644936\n",
      "Model(name='Roitman data, leaky drift varies with coherence', drift=DriftCoherenceLeak(driftcoh=Fitted(15.058824051176941, minval=0, maxval=20), leak=Fitted(0.29084723156440395, minval=-10, maxval=10)), noise=NoiseConstant(noise=1), bound=BoundCollapsingExponential(B=Fitted(2.6130143450127488, minval=0.5, maxval=3), tau=Fitted(2.4512508631219534, minval=0.0001, maxval=5)), IC=ICPointSourceCenter(), overlay=OverlayChain(overlays=[OverlayNonDecision(nondectime=Fitted(0.12881041223235157, minval=0, maxval=0.4)), OverlayPoissonMixture(pmixturecoef=0.02, rate=1)]), dx=0.01, dt=0.01, T_dur=2) loss=1007.8810749413897\n",
      "Model(name='Roitman data, leaky drift varies with coherence', drift=DriftCoherenceLeak(driftcoh=Fitted(8.612390244269072, minval=0, maxval=20), leak=Fitted(-0.3729560259449616, minval=-10, maxval=10)), noise=NoiseConstant(noise=1), bound=BoundCollapsingExponential(B=Fitted(1.7777129860097391, minval=0.5, maxval=3), tau=Fitted(4.681630673641353, minval=0.0001, maxval=5)), IC=ICPointSourceCenter(), overlay=OverlayChain(overlays=[OverlayNonDecision(nondectime=Fitted(0.039743950711769394, minval=0, maxval=0.4)), OverlayPoissonMixture(pmixturecoef=0.02, rate=1)]), dx=0.01, dt=0.01, T_dur=2) loss=9897.91181771521\n",
      "Model(name='Roitman data, leaky drift varies with coherence', drift=DriftCoherenceLeak(driftcoh=Fitted(10.555671912814596, minval=0, maxval=20), leak=Fitted(-5.949036813966995, minval=-10, maxval=10)), noise=NoiseConstant(noise=1), bound=BoundCollapsingExponential(B=Fitted(0.602440177910261, minval=0.5, maxval=3), tau=Fitted(0.16250845781116308, minval=0.0001, maxval=5)), IC=ICPointSourceCenter(), overlay=OverlayChain(overlays=[OverlayNonDecision(nondectime=Fitted(0.19606580553769165, minval=0, maxval=0.4)), OverlayPoissonMixture(pmixturecoef=0.02, rate=1)]), dx=0.01, dt=0.01, T_dur=2) loss=1043.7127285194201\n",
      "Model(name='Roitman data, leaky drift varies with coherence', drift=DriftCoherenceLeak(driftcoh=Fitted(18.633175070355268, minval=0, maxval=20), leak=Fitted(2.9426498519521216, minval=-10, maxval=10)), noise=NoiseConstant(noise=1), bound=BoundCollapsingExponential(B=Fitted(0.7912804091437411, minval=0.5, maxval=3), tau=Fitted(1.8727547291615798, minval=0.0001, maxval=5)), IC=ICPointSourceCenter(), overlay=OverlayChain(overlays=[OverlayNonDecision(nondectime=Fitted(0.04556059671628637, minval=0, maxval=0.4)), OverlayPoissonMixture(pmixturecoef=0.02, rate=1)]), dx=0.01, dt=0.01, T_dur=2) loss=10515.351648296488\n",
      "Model(name='Roitman data, leaky drift varies with coherence', drift=DriftCoherenceLeak(driftcoh=Fitted(7.177639592668301, minval=0, maxval=20), leak=Fitted(-2.7732756281299373, minval=-10, maxval=10)), noise=NoiseConstant(noise=1), bound=BoundCollapsingExponential(B=Fitted(1.6499713835665564, minval=0.5, maxval=3), tau=Fitted(0.15991237771251665, minval=0.0001, maxval=5)), IC=ICPointSourceCenter(), overlay=OverlayChain(overlays=[OverlayNonDecision(nondectime=Fitted(0.2325819535725826, minval=0, maxval=0.4)), OverlayPoissonMixture(pmixturecoef=0.02, rate=1)]), dx=0.01, dt=0.01, T_dur=2) loss=10836.651712564677\n",
      "Model(name='Roitman data, leaky drift varies with coherence', drift=DriftCoherenceLeak(driftcoh=Fitted(18.245415657354524, minval=0, maxval=20), leak=Fitted(-5.222361158255124, minval=-10, maxval=10)), noise=NoiseConstant(noise=1), bound=BoundCollapsingExponential(B=Fitted(1.5179466343422772, minval=0.5, maxval=3), tau=Fitted(2.2160879204509123, minval=0.0001, maxval=5)), IC=ICPointSourceCenter(), overlay=OverlayChain(overlays=[OverlayNonDecision(nondectime=Fitted(0.28259232164498344, minval=0, maxval=0.4)), OverlayPoissonMixture(pmixturecoef=0.02, rate=1)]), dx=0.01, dt=0.01, T_dur=2) loss=306.0458202355835\n",
      "Model(name='Roitman data, leaky drift varies with coherence', drift=DriftCoherenceLeak(driftcoh=Fitted(5.032351282036291, minval=0, maxval=20), leak=Fitted(-8.574228848939452, minval=-10, maxval=10)), noise=NoiseConstant(noise=1), bound=BoundCollapsingExponential(B=Fitted(1.8727569344306074, minval=0.5, maxval=3), tau=Fitted(3.5197901890770176, minval=0.0001, maxval=5)), IC=ICPointSourceCenter(), overlay=OverlayChain(overlays=[OverlayNonDecision(nondectime=Fitted(0.38577218494091436, minval=0, maxval=0.4)), OverlayPoissonMixture(pmixturecoef=0.02, rate=1)]), dx=0.01, dt=0.01, T_dur=2) loss=6004.304481858265\n",
      "Model(name='Roitman data, leaky drift varies with coherence', drift=DriftCoherenceLeak(driftcoh=Fitted(1.0941031469211353, minval=0, maxval=20), leak=Fitted(-7.8887808037076335, minval=-10, maxval=10)), noise=NoiseConstant(noise=1), bound=BoundCollapsingExponential(B=Fitted(1.036293904732351, minval=0.5, maxval=3), tau=Fitted(0.5784053833287157, minval=0.0001, maxval=5)), IC=ICPointSourceCenter(), overlay=OverlayChain(overlays=[OverlayNonDecision(nondectime=Fitted(0.17437538882229442, minval=0, maxval=0.4)), OverlayPoissonMixture(pmixturecoef=0.02, rate=1)]), dx=0.01, dt=0.01, T_dur=2) loss=6709.259517732059\n",
      "Model(name='Roitman data, leaky drift varies with coherence', drift=DriftCoherenceLeak(driftcoh=Fitted(3.7487232551192484, minval=0, maxval=20), leak=Fitted(-1.1956538641787873, minval=-10, maxval=10)), noise=NoiseConstant(noise=1), bound=BoundCollapsingExponential(B=Fitted(2.6215919901851876, minval=0.5, maxval=3), tau=Fitted(1.781842043390649, minval=0.0001, maxval=5)), IC=ICPointSourceCenter(), overlay=OverlayChain(overlays=[OverlayNonDecision(nondectime=Fitted(0.39046092600319604, minval=0, maxval=0.4)), OverlayPoissonMixture(pmixturecoef=0.02, rate=1)]), dx=0.01, dt=0.01, T_dur=2) loss=8740.40953339932\n",
      "Model(name='Roitman data, leaky drift varies with coherence', drift=DriftCoherenceLeak(driftcoh=Fitted(14.114991807937429, minval=0, maxval=20), leak=Fitted(1.6658105236257992, minval=-10, maxval=10)), noise=NoiseConstant(noise=1), bound=BoundCollapsingExponential(B=Fitted(2.39670851796677, minval=0.5, maxval=3), tau=Fitted(1.9350929617331754, minval=0.0001, maxval=5)), IC=ICPointSourceCenter(), overlay=OverlayChain(overlays=[OverlayNonDecision(nondectime=Fitted(0.17821901284133113, minval=0, maxval=0.4)), OverlayPoissonMixture(pmixturecoef=0.02, rate=1)]), dx=0.01, dt=0.01, T_dur=2) loss=264.61209836094935\n",
      "Model(name='Roitman data, leaky drift varies with coherence', drift=DriftCoherenceLeak(driftcoh=Fitted(6.763244580969381, minval=0, maxval=20), leak=Fitted(8.503765112251756, minval=-10, maxval=10)), noise=NoiseConstant(noise=1), bound=BoundCollapsingExponential(B=Fitted(1.2762355399285328, minval=0.5, maxval=3), tau=Fitted(0.33657775238292054, minval=0.0001, maxval=5)), IC=ICPointSourceCenter(), overlay=OverlayChain(overlays=[OverlayNonDecision(nondectime=Fitted(0.23466684745835298, minval=0, maxval=0.4)), OverlayPoissonMixture(pmixturecoef=0.02, rate=1)]), dx=0.01, dt=0.01, T_dur=2) loss=2113.985195490566\n",
      "Model(name='Roitman data, leaky drift varies with coherence', drift=DriftCoherenceLeak(driftcoh=Fitted(1.1469688107246263, minval=0, maxval=20), leak=Fitted(-6.9544019619031285, minval=-10, maxval=10)), noise=NoiseConstant(noise=1), bound=BoundCollapsingExponential(B=Fitted(1.1810652850008085, minval=0.5, maxval=3), tau=Fitted(0.05750692202537655, minval=0.0001, maxval=5)), IC=ICPointSourceCenter(), overlay=OverlayChain(overlays=[OverlayNonDecision(nondectime=Fitted(0.26201605481746043, minval=0, maxval=0.4)), OverlayPoissonMixture(pmixturecoef=0.02, rate=1)]), dx=0.01, dt=0.01, T_dur=2) loss=18388.061364274854\n",
      "Model(name='Roitman data, leaky drift varies with coherence', drift=DriftCoherenceLeak(driftcoh=Fitted(5.150974385146232, minval=0, maxval=20), leak=Fitted(-9.157961677811606, minval=-10, maxval=10)), noise=NoiseConstant(noise=1), bound=BoundCollapsingExponential(B=Fitted(1.9666084048953891, minval=0.5, maxval=3), tau=Fitted(2.386875299912956, minval=0.0001, maxval=5)), IC=ICPointSourceCenter(), overlay=OverlayChain(overlays=[OverlayNonDecision(nondectime=Fitted(0.33817342276866946, minval=0, maxval=0.4)), OverlayPoissonMixture(pmixturecoef=0.02, rate=1)]), dx=0.01, dt=0.01, T_dur=2) loss=8530.345479010568\n",
      "Model(name='Roitman data, leaky drift varies with coherence', drift=DriftCoherenceLeak(driftcoh=Fitted(19.412827887291158, minval=0, maxval=20), leak=Fitted(-4.120283854196999, minval=-10, maxval=10)), noise=NoiseConstant(noise=1), bound=BoundCollapsingExponential(B=Fitted(2.2584286191222667, minval=0.5, maxval=3), tau=Fitted(4.317386728046326, minval=0.0001, maxval=5)), IC=ICPointSourceCenter(), overlay=OverlayChain(overlays=[OverlayNonDecision(nondectime=Fitted(0.23790484341348322, minval=0, maxval=0.4)), OverlayPoissonMixture(pmixturecoef=0.02, rate=1)]), dx=0.01, dt=0.01, T_dur=2) loss=1632.7416171856587\n",
      "Model(name='Roitman data, leaky drift varies with coherence', drift=DriftCoherenceLeak(driftcoh=Fitted(17.19128285503821, minval=0, maxval=20), leak=Fitted(3.042744215720403, minval=-10, maxval=10)), noise=NoiseConstant(noise=1), bound=BoundCollapsingExponential(B=Fitted(1.5229053167906894, minval=0.5, maxval=3), tau=Fitted(1.137964266248994, minval=0.0001, maxval=5)), IC=ICPointSourceCenter(), overlay=OverlayChain(overlays=[OverlayNonDecision(nondectime=Fitted(0.26426723151034004, minval=0, maxval=0.4)), OverlayPoissonMixture(pmixturecoef=0.02, rate=1)]), dx=0.01, dt=0.01, T_dur=2) loss=336.31598507188727\n",
      "Model(name='Roitman data, leaky drift varies with coherence', drift=DriftCoherenceLeak(driftcoh=Fitted(6.126986236229552, minval=0, maxval=20), leak=Fitted(-6.757327480032124, minval=-10, maxval=10)), noise=NoiseConstant(noise=1), bound=BoundCollapsingExponential(B=Fitted(0.8159379662640016, minval=0.5, maxval=3), tau=Fitted(0.16990373857938357, minval=0.0001, maxval=5)), IC=ICPointSourceCenter(), overlay=OverlayChain(overlays=[OverlayNonDecision(nondectime=Fitted(0.24577080399663306, minval=0, maxval=0.4)), OverlayPoissonMixture(pmixturecoef=0.02, rate=1)]), dx=0.01, dt=0.01, T_dur=2) loss=3474.9065062038835\n",
      "Model(name='Roitman data, leaky drift varies with coherence', drift=DriftCoherenceLeak(driftcoh=Fitted(6.923032283615042, minval=0, maxval=20), leak=Fitted(-7.0413233175597, minval=-10, maxval=10)), noise=NoiseConstant(noise=1), bound=BoundCollapsingExponential(B=Fitted(2.4838893981141563, minval=0.5, maxval=3), tau=Fitted(4.174064309618435, minval=0.0001, maxval=5)), IC=ICPointSourceCenter(), overlay=OverlayChain(overlays=[OverlayNonDecision(nondectime=Fitted(0.1825594842728903, minval=0, maxval=0.4)), OverlayPoissonMixture(pmixturecoef=0.02, rate=1)]), dx=0.01, dt=0.01, T_dur=2) loss=1303.554042021748\n",
      "Model(name='Roitman data, leaky drift varies with coherence', drift=DriftCoherenceLeak(driftcoh=Fitted(0.23606223467272436, minval=0, maxval=20), leak=Fitted(0.9201856860335278, minval=-10, maxval=10)), noise=NoiseConstant(noise=1), bound=BoundCollapsingExponential(B=Fitted(1.5667322102297176, minval=0.5, maxval=3), tau=Fitted(2.2839104588929735, minval=0.0001, maxval=5)), IC=ICPointSourceCenter(), overlay=OverlayChain(overlays=[OverlayNonDecision(nondectime=Fitted(0.3888624455039846, minval=0, maxval=0.4)), OverlayPoissonMixture(pmixturecoef=0.02, rate=1)]), dx=0.01, dt=0.01, T_dur=2) loss=3212.8750653863444\n",
      "Model(name='Roitman data, leaky drift varies with coherence', drift=DriftCoherenceLeak(driftcoh=Fitted(15.276289157855704, minval=0, maxval=20), leak=Fitted(-7.909247015845818, minval=-10, maxval=10)), noise=NoiseConstant(noise=1), bound=BoundCollapsingExponential(B=Fitted(1.2421829626931944, minval=0.5, maxval=3), tau=Fitted(2.261709202293513, minval=0.0001, maxval=5)), IC=ICPointSourceCenter(), overlay=OverlayChain(overlays=[OverlayNonDecision(nondectime=Fitted(0.028467789798590742, minval=0, maxval=0.4)), OverlayPoissonMixture(pmixturecoef=0.02, rate=1)]), dx=0.01, dt=0.01, T_dur=2) loss=3320.712876903319\n",
      "Model(name='Roitman data, leaky drift varies with coherence', drift=DriftCoherenceLeak(driftcoh=Fitted(19.12120117315572, minval=0, maxval=20), leak=Fitted(7.094435287704652, minval=-10, maxval=10)), noise=NoiseConstant(noise=1), bound=BoundCollapsingExponential(B=Fitted(1.305815159227506, minval=0.5, maxval=3), tau=Fitted(1.622372597716939, minval=0.0001, maxval=5)), IC=ICPointSourceCenter(), overlay=OverlayChain(overlays=[OverlayNonDecision(nondectime=Fitted(0.10576877554035645, minval=0, maxval=0.4)), OverlayPoissonMixture(pmixturecoef=0.02, rate=1)]), dx=0.01, dt=0.01, T_dur=2) loss=8063.1730799142215\n",
      "Model(name='Roitman data, leaky drift varies with coherence', drift=DriftCoherenceLeak(driftcoh=Fitted(19.66213550801708, minval=0, maxval=20), leak=Fitted(3.6809812547409204, minval=-10, maxval=10)), noise=NoiseConstant(noise=1), bound=BoundCollapsingExponential(B=Fitted(2.8313611587623053, minval=0.5, maxval=3), tau=Fitted(1.4316826901558302, minval=0.0001, maxval=5)), IC=ICPointSourceCenter(), overlay=OverlayChain(overlays=[OverlayNonDecision(nondectime=Fitted(0.20134870703174315, minval=0, maxval=0.4)), OverlayPoissonMixture(pmixturecoef=0.02, rate=1)]), dx=0.01, dt=0.01, T_dur=2) loss=651.2415025082522\n",
      "Model(name='Roitman data, leaky drift varies with coherence', drift=DriftCoherenceLeak(driftcoh=Fitted(16.25181346188174, minval=0, maxval=20), leak=Fitted(-2.4254529177533124, minval=-10, maxval=10)), noise=NoiseConstant(noise=1), bound=BoundCollapsingExponential(B=Fitted(1.179779368859593, minval=0.5, maxval=3), tau=Fitted(0.5442469163506545, minval=0.0001, maxval=5)), IC=ICPointSourceCenter(), overlay=OverlayChain(overlays=[OverlayNonDecision(nondectime=Fitted(0.1081117292070683, minval=0, maxval=0.4)), OverlayPoissonMixture(pmixturecoef=0.02, rate=1)]), dx=0.01, dt=0.01, T_dur=2) loss=2035.324035338101\n",
      "Model(name='Roitman data, leaky drift varies with coherence', drift=DriftCoherenceLeak(driftcoh=Fitted(11.45444379571422, minval=0, maxval=20), leak=Fitted(-5.997431298208199, minval=-10, maxval=10)), noise=NoiseConstant(noise=1), bound=BoundCollapsingExponential(B=Fitted(2.038323579842466, minval=0.5, maxval=3), tau=Fitted(3.769206840061745, minval=0.0001, maxval=5)), IC=ICPointSourceCenter(), overlay=OverlayChain(overlays=[OverlayNonDecision(nondectime=Fitted(0.10287346403935989, minval=0, maxval=0.4)), OverlayPoissonMixture(pmixturecoef=0.02, rate=1)]), dx=0.01, dt=0.01, T_dur=2) loss=2486.0113455175047\n",
      "Model(name='Roitman data, leaky drift varies with coherence', drift=DriftCoherenceLeak(driftcoh=Fitted(19.432686042064855, minval=0, maxval=20), leak=Fitted(6.902221678448313, minval=-10, maxval=10)), noise=NoiseConstant(noise=1), bound=BoundCollapsingExponential(B=Fitted(0.58892915169679, minval=0.5, maxval=3), tau=Fitted(1.6273041327701616, minval=0.0001, maxval=5)), IC=ICPointSourceCenter(), overlay=OverlayChain(overlays=[OverlayNonDecision(nondectime=Fitted(0.019658911574563925, minval=0, maxval=0.4)), OverlayPoissonMixture(pmixturecoef=0.02, rate=1)]), dx=0.01, dt=0.01, T_dur=2) loss=12727.453033736896\n",
      "Model(name='Roitman data, leaky drift varies with coherence', drift=DriftCoherenceLeak(driftcoh=Fitted(4.711925034412583, minval=0, maxval=20), leak=Fitted(0.4158797298327954, minval=-10, maxval=10)), noise=NoiseConstant(noise=1), bound=BoundCollapsingExponential(B=Fitted(0.9450598847411802, minval=0.5, maxval=3), tau=Fitted(0.10380212724333093, minval=0.0001, maxval=5)), IC=ICPointSourceCenter(), overlay=OverlayChain(overlays=[OverlayNonDecision(nondectime=Fitted(0.30055665869816695, minval=0, maxval=0.4)), OverlayPoissonMixture(pmixturecoef=0.02, rate=1)]), dx=0.01, dt=0.01, T_dur=2) loss=966.2330726758762\n",
      "Model(name='Roitman data, leaky drift varies with coherence', drift=DriftCoherenceLeak(driftcoh=Fitted(9.132448184096729, minval=0, maxval=20), leak=Fitted(0.8322960621072584, minval=-10, maxval=10)), noise=NoiseConstant(noise=1), bound=BoundCollapsingExponential(B=Fitted(0.9100936017445269, minval=0.5, maxval=3), tau=Fitted(3.6804994246028446, minval=0.0001, maxval=5)), IC=ICPointSourceCenter(), overlay=OverlayChain(overlays=[OverlayNonDecision(nondectime=Fitted(0.16709734085887742, minval=0, maxval=0.4)), OverlayPoissonMixture(pmixturecoef=0.02, rate=1)]), dx=0.01, dt=0.01, T_dur=2) loss=7787.322583946367\n",
      "Model(name='Roitman data, leaky drift varies with coherence', drift=DriftCoherenceLeak(driftcoh=Fitted(12.419045041059247, minval=0, maxval=20), leak=Fitted(4.518334614202795, minval=-10, maxval=10)), noise=NoiseConstant(noise=1), bound=BoundCollapsingExponential(B=Fitted(1.0267168884367341, minval=0.5, maxval=3), tau=Fitted(3.330241670960722, minval=0.0001, maxval=5)), IC=ICPointSourceCenter(), overlay=OverlayChain(overlays=[OverlayNonDecision(nondectime=Fitted(0.38975778682277096, minval=0, maxval=0.4)), OverlayPoissonMixture(pmixturecoef=0.02, rate=1)]), dx=0.01, dt=0.01, T_dur=2) loss=2191.868273446236\n",
      "Model(name='Roitman data, leaky drift varies with coherence', drift=DriftCoherenceLeak(driftcoh=Fitted(10.887199241883467, minval=0, maxval=20), leak=Fitted(3.186115209641305, minval=-10, maxval=10)), noise=NoiseConstant(noise=1), bound=BoundCollapsingExponential(B=Fitted(2.5796426752518755, minval=0.5, maxval=3), tau=Fitted(0.7783257393934342, minval=0.0001, maxval=5)), IC=ICPointSourceCenter(), overlay=OverlayChain(overlays=[OverlayNonDecision(nondectime=Fitted(0.12028083562498915, minval=0, maxval=0.4)), OverlayPoissonMixture(pmixturecoef=0.02, rate=1)]), dx=0.01, dt=0.01, T_dur=2) loss=86.62449676660279\n",
      "Model(name='Roitman data, leaky drift varies with coherence', drift=DriftCoherenceLeak(driftcoh=Fitted(2.715544457691456, minval=0, maxval=20), leak=Fitted(5.753293066971716, minval=-10, maxval=10)), noise=NoiseConstant(noise=1), bound=BoundCollapsingExponential(B=Fitted(1.5051177894204255, minval=0.5, maxval=3), tau=Fitted(1.8372109942152275, minval=0.0001, maxval=5)), IC=ICPointSourceCenter(), overlay=OverlayChain(overlays=[OverlayNonDecision(nondectime=Fitted(0.1378720789603346, minval=0, maxval=0.4)), OverlayPoissonMixture(pmixturecoef=0.02, rate=1)]), dx=0.01, dt=0.01, T_dur=2) loss=3319.18289418731\n",
      "Model(name='Roitman data, leaky drift varies with coherence', drift=DriftCoherenceLeak(driftcoh=Fitted(1.8299866002008507, minval=0, maxval=20), leak=Fitted(-2.4632447891831264, minval=-10, maxval=10)), noise=NoiseConstant(noise=1), bound=BoundCollapsingExponential(B=Fitted(1.3221144107138207, minval=0.5, maxval=3), tau=Fitted(0.7628835045867504, minval=0.0001, maxval=5)), IC=ICPointSourceCenter(), overlay=OverlayChain(overlays=[OverlayNonDecision(nondectime=Fitted(0.2709628073618001, minval=0, maxval=0.4)), OverlayPoissonMixture(pmixturecoef=0.02, rate=1)]), dx=0.01, dt=0.01, T_dur=2) loss=4475.280133770362\n",
      "Model(name='Roitman data, leaky drift varies with coherence', drift=DriftCoherenceLeak(driftcoh=Fitted(12.999457436591813, minval=0, maxval=20), leak=Fitted(1.2718909682488921, minval=-10, maxval=10)), noise=NoiseConstant(noise=1), bound=BoundCollapsingExponential(B=Fitted(1.2860221196567776, minval=0.5, maxval=3), tau=Fitted(2.9421079894278273, minval=0.0001, maxval=5)), IC=ICPointSourceCenter(), overlay=OverlayChain(overlays=[OverlayNonDecision(nondectime=Fitted(0.23481982886635808, minval=0, maxval=0.4)), OverlayPoissonMixture(pmixturecoef=0.02, rate=1)]), dx=0.01, dt=0.01, T_dur=2) loss=2355.5372862732725\n",
      "Model(name='Roitman data, leaky drift varies with coherence', drift=DriftCoherenceLeak(driftcoh=Fitted(2.8967168080372243, minval=0, maxval=20), leak=Fitted(3.0662351866574444, minval=-10, maxval=10)), noise=NoiseConstant(noise=1), bound=BoundCollapsingExponential(B=Fitted(2.8020613941783195, minval=0.5, maxval=3), tau=Fitted(4.412389672086954, minval=0.0001, maxval=5)), IC=ICPointSourceCenter(), overlay=OverlayChain(overlays=[OverlayNonDecision(nondectime=Fitted(0.31553451737382776, minval=0, maxval=0.4)), OverlayPoissonMixture(pmixturecoef=0.02, rate=1)]), dx=0.01, dt=0.01, T_dur=2) loss=2168.4392328219365\n",
      "Model(name='Roitman data, leaky drift varies with coherence', drift=DriftCoherenceLeak(driftcoh=Fitted(11.70982377885155, minval=0, maxval=20), leak=Fitted(7.863172372076321, minval=-10, maxval=10)), noise=NoiseConstant(noise=1), bound=BoundCollapsingExponential(B=Fitted(0.768239565824627, minval=0.5, maxval=3), tau=Fitted(2.60296712130035, minval=0.0001, maxval=5)), IC=ICPointSourceCenter(), overlay=OverlayChain(overlays=[OverlayNonDecision(nondectime=Fitted(0.14553332983088546, minval=0, maxval=0.4)), OverlayPoissonMixture(pmixturecoef=0.02, rate=1)]), dx=0.01, dt=0.01, T_dur=2) loss=9889.206847440599\n",
      "Model(name='Roitman data, leaky drift varies with coherence', drift=DriftCoherenceLeak(driftcoh=Fitted(1.3050947149827792, minval=0, maxval=20), leak=Fitted(-3.9992946133123395, minval=-10, maxval=10)), noise=NoiseConstant(noise=1), bound=BoundCollapsingExponential(B=Fitted(1.9241259046818622, minval=0.5, maxval=3), tau=Fitted(0.8042436980951486, minval=0.0001, maxval=5)), IC=ICPointSourceCenter(), overlay=OverlayChain(overlays=[OverlayNonDecision(nondectime=Fitted(0.35183867874727925, minval=0, maxval=0.4)), OverlayPoissonMixture(pmixturecoef=0.02, rate=1)]), dx=0.01, dt=0.01, T_dur=2) loss=13191.397897380946\n",
      "Model(name='Roitman data, leaky drift varies with coherence', drift=DriftCoherenceLeak(driftcoh=Fitted(0.17362053727563875, minval=0, maxval=20), leak=Fitted(-0.37504863979786807, minval=-10, maxval=10)), noise=NoiseConstant(noise=1), bound=BoundCollapsingExponential(B=Fitted(1.3084109697503705, minval=0.5, maxval=3), tau=Fitted(2.361454056987139, minval=0.0001, maxval=5)), IC=ICPointSourceCenter(), overlay=OverlayChain(overlays=[OverlayNonDecision(nondectime=Fitted(0.17358848011658626, minval=0, maxval=0.4)), OverlayPoissonMixture(pmixturecoef=0.02, rate=1)]), dx=0.01, dt=0.01, T_dur=2) loss=1650.1069363268557\n",
      "Model(name='Roitman data, leaky drift varies with coherence', drift=DriftCoherenceLeak(driftcoh=Fitted(10.210590482601162, minval=0, maxval=20), leak=Fitted(-4.946621452593096, minval=-10, maxval=10)), noise=NoiseConstant(noise=1), bound=BoundCollapsingExponential(B=Fitted(1.0066866739031262, minval=0.5, maxval=3), tau=Fitted(2.1654891016642623, minval=0.0001, maxval=5)), IC=ICPointSourceCenter(), overlay=OverlayChain(overlays=[OverlayNonDecision(nondectime=Fitted(0.38490376381875374, minval=0, maxval=0.4)), OverlayPoissonMixture(pmixturecoef=0.02, rate=1)]), dx=0.01, dt=0.01, T_dur=2) loss=1364.1683940937573\n",
      "Model(name='Roitman data, leaky drift varies with coherence', drift=DriftCoherenceLeak(driftcoh=Fitted(1.4040191927759373, minval=0, maxval=20), leak=Fitted(2.4372515393029093, minval=-10, maxval=10)), noise=NoiseConstant(noise=1), bound=BoundCollapsingExponential(B=Fitted(2.2469716829726964, minval=0.5, maxval=3), tau=Fitted(1.147736682894549, minval=0.0001, maxval=5)), IC=ICPointSourceCenter(), overlay=OverlayChain(overlays=[OverlayNonDecision(nondectime=Fitted(0.19960321335391282, minval=0, maxval=0.4)), OverlayPoissonMixture(pmixturecoef=0.02, rate=1)]), dx=0.01, dt=0.01, T_dur=2) loss=1152.6179211971235\n",
      "Model(name='Roitman data, leaky drift varies with coherence', drift=DriftCoherenceLeak(driftcoh=Fitted(8.178805860028826, minval=0, maxval=20), leak=Fitted(2.4433690356689874, minval=-10, maxval=10)), noise=NoiseConstant(noise=1), bound=BoundCollapsingExponential(B=Fitted(1.4192257320205275, minval=0.5, maxval=3), tau=Fitted(2.741601596966736, minval=0.0001, maxval=5)), IC=ICPointSourceCenter(), overlay=OverlayChain(overlays=[OverlayNonDecision(nondectime=Fitted(0.2795035824647591, minval=0, maxval=0.4)), OverlayPoissonMixture(pmixturecoef=0.02, rate=1)]), dx=0.01, dt=0.01, T_dur=2) loss=784.460201307262\n",
      "Model(name='Roitman data, leaky drift varies with coherence', drift=DriftCoherenceLeak(driftcoh=Fitted(12.644984028494372, minval=0, maxval=20), leak=Fitted(4.975384120125437, minval=-10, maxval=10)), noise=NoiseConstant(noise=1), bound=BoundCollapsingExponential(B=Fitted(1.3478785686910941, minval=0.5, maxval=3), tau=Fitted(0.47927329974438715, minval=0.0001, maxval=5)), IC=ICPointSourceCenter(), overlay=OverlayChain(overlays=[OverlayNonDecision(nondectime=Fitted(0.1458072969537393, minval=0, maxval=0.4)), OverlayPoissonMixture(pmixturecoef=0.02, rate=1)]), dx=0.01, dt=0.01, T_dur=2) loss=2623.342867497741\n",
      "Model(name='Roitman data, leaky drift varies with coherence', drift=DriftCoherenceLeak(driftcoh=Fitted(2.768243432964475, minval=0, maxval=20), leak=Fitted(6.651869885618041, minval=-10, maxval=10)), noise=NoiseConstant(noise=1), bound=BoundCollapsingExponential(B=Fitted(1.8625502523091897, minval=0.5, maxval=3), tau=Fitted(2.113218538902111, minval=0.0001, maxval=5)), IC=ICPointSourceCenter(), overlay=OverlayChain(overlays=[OverlayNonDecision(nondectime=Fitted(0.1354818474465036, minval=0, maxval=0.4)), OverlayPoissonMixture(pmixturecoef=0.02, rate=1)]), dx=0.01, dt=0.01, T_dur=2) loss=3609.6352514531645\n",
      "Model(name='Roitman data, leaky drift varies with coherence', drift=DriftCoherenceLeak(driftcoh=Fitted(9.78948364557884, minval=0, maxval=20), leak=Fitted(-4.227290510243346, minval=-10, maxval=10)), noise=NoiseConstant(noise=1), bound=BoundCollapsingExponential(B=Fitted(0.5840070528386396, minval=0.5, maxval=3), tau=Fitted(3.8173983558565743, minval=0.0001, maxval=5)), IC=ICPointSourceCenter(), overlay=OverlayChain(overlays=[OverlayNonDecision(nondectime=Fitted(0.20355892249128, minval=0, maxval=0.4)), OverlayPoissonMixture(pmixturecoef=0.02, rate=1)]), dx=0.01, dt=0.01, T_dur=2) loss=9044.758282498413\n",
      "Model(name='Roitman data, leaky drift varies with coherence', drift=DriftCoherenceLeak(driftcoh=Fitted(7.323689585606194, minval=0, maxval=20), leak=Fitted(4.868079403726466, minval=-10, maxval=10)), noise=NoiseConstant(noise=1), bound=BoundCollapsingExponential(B=Fitted(1.4808650722680083, minval=0.5, maxval=3), tau=Fitted(0.4024966300783519, minval=0.0001, maxval=5)), IC=ICPointSourceCenter(), overlay=OverlayChain(overlays=[OverlayNonDecision(nondectime=Fitted(0.04362629469565876, minval=0, maxval=0.4)), OverlayPoissonMixture(pmixturecoef=0.02, rate=1)]), dx=0.01, dt=0.01, T_dur=2) loss=2838.4973274770637\n",
      "Model(name='Roitman data, leaky drift varies with coherence', drift=DriftCoherenceLeak(driftcoh=Fitted(7.113888772857074, minval=0, maxval=20), leak=Fitted(-1.2292033130883118, minval=-10, maxval=10)), noise=NoiseConstant(noise=1), bound=BoundCollapsingExponential(B=Fitted(0.8186190795707172, minval=0.5, maxval=3), tau=Fitted(0.809721576748591, minval=0.0001, maxval=5)), IC=ICPointSourceCenter(), overlay=OverlayChain(overlays=[OverlayNonDecision(nondectime=Fitted(0.3396716168192412, minval=0, maxval=0.4)), OverlayPoissonMixture(pmixturecoef=0.02, rate=1)]), dx=0.01, dt=0.01, T_dur=2) loss=178.38812351346144\n",
      "Model(name='Roitman data, leaky drift varies with coherence', drift=DriftCoherenceLeak(driftcoh=Fitted(4.140131462331764, minval=0, maxval=20), leak=Fitted(-6.878237969200105, minval=-10, maxval=10)), noise=NoiseConstant(noise=1), bound=BoundCollapsingExponential(B=Fitted(2.6768390742704717, minval=0.5, maxval=3), tau=Fitted(3.3859283162430316, minval=0.0001, maxval=5)), IC=ICPointSourceCenter(), overlay=OverlayChain(overlays=[OverlayNonDecision(nondectime=Fitted(0.24157138203891004, minval=0, maxval=0.4)), OverlayPoissonMixture(pmixturecoef=0.02, rate=1)]), dx=0.01, dt=0.01, T_dur=2) loss=4428.963490281947\n",
      "Model(name='Roitman data, leaky drift varies with coherence', drift=DriftCoherenceLeak(driftcoh=Fitted(7.7884663626077275, minval=0, maxval=20), leak=Fitted(-9.064242244883317, minval=-10, maxval=10)), noise=NoiseConstant(noise=1), bound=BoundCollapsingExponential(B=Fitted(2.46536724380734, minval=0.5, maxval=3), tau=Fitted(2.8117962359382513, minval=0.0001, maxval=5)), IC=ICPointSourceCenter(), overlay=OverlayChain(overlays=[OverlayNonDecision(nondectime=Fitted(0.036573727108380694, minval=0, maxval=0.4)), OverlayPoissonMixture(pmixturecoef=0.02, rate=1)]), dx=0.01, dt=0.01, T_dur=2) loss=467.1475751700994\n",
      "Model(name='Roitman data, leaky drift varies with coherence', drift=DriftCoherenceLeak(driftcoh=Fitted(9.457409125010907, minval=0, maxval=20), leak=Fitted(-1.8397239066369875, minval=-10, maxval=10)), noise=NoiseConstant(noise=1), bound=BoundCollapsingExponential(B=Fitted(1.4895889059291028, minval=0.5, maxval=3), tau=Fitted(4.681969284699878, minval=0.0001, maxval=5)), IC=ICPointSourceCenter(), overlay=OverlayChain(overlays=[OverlayNonDecision(nondectime=Fitted(0.36056019217123914, minval=0, maxval=0.4)), OverlayPoissonMixture(pmixturecoef=0.02, rate=1)]), dx=0.01, dt=0.01, T_dur=2) loss=2218.4438701127733\n",
      "Model(name='Roitman data, leaky drift varies with coherence', drift=DriftCoherenceLeak(driftcoh=Fitted(2.2345893901175797, minval=0, maxval=20), leak=Fitted(-9.598513056448347, minval=-10, maxval=10)), noise=NoiseConstant(noise=1), bound=BoundCollapsingExponential(B=Fitted(1.8821662168820863, minval=0.5, maxval=3), tau=Fitted(3.2638565474120957, minval=0.0001, maxval=5)), IC=ICPointSourceCenter(), overlay=OverlayChain(overlays=[OverlayNonDecision(nondectime=Fitted(0.14353502703096754, minval=0, maxval=0.4)), OverlayPoissonMixture(pmixturecoef=0.02, rate=1)]), dx=0.01, dt=0.01, T_dur=2) loss=1909.8689139792361\n",
      "Model(name='Roitman data, leaky drift varies with coherence', drift=DriftCoherenceLeak(driftcoh=Fitted(4.351449214510761, minval=0, maxval=20), leak=Fitted(-7.640677644016273, minval=-10, maxval=10)), noise=NoiseConstant(noise=1), bound=BoundCollapsingExponential(B=Fitted(2.772845994532273, minval=0.5, maxval=3), tau=Fitted(2.9815972476291326, minval=0.0001, maxval=5)), IC=ICPointSourceCenter(), overlay=OverlayChain(overlays=[OverlayNonDecision(nondectime=Fitted(0.34757531087397553, minval=0, maxval=0.4)), OverlayPoissonMixture(pmixturecoef=0.02, rate=1)]), dx=0.01, dt=0.01, T_dur=2) loss=9247.35327296847\n",
      "Model(name='Roitman data, leaky drift varies with coherence', drift=DriftCoherenceLeak(driftcoh=Fitted(18.378862618576637, minval=0, maxval=20), leak=Fitted(1.1050392579272583, minval=-10, maxval=10)), noise=NoiseConstant(noise=1), bound=BoundCollapsingExponential(B=Fitted(0.7342139240249221, minval=0.5, maxval=3), tau=Fitted(1.2761400938548721, minval=0.0001, maxval=5)), IC=ICPointSourceCenter(), overlay=OverlayChain(overlays=[OverlayNonDecision(nondectime=Fitted(0.02690500499091747, minval=0, maxval=0.4)), OverlayPoissonMixture(pmixturecoef=0.02, rate=1)]), dx=0.01, dt=0.01, T_dur=2) loss=9069.04346940431\n",
      "Model(name='Roitman data, leaky drift varies with coherence', drift=DriftCoherenceLeak(driftcoh=Fitted(17.432397101751327, minval=0, maxval=20), leak=Fitted(-2.093112017516301, minval=-10, maxval=10)), noise=NoiseConstant(noise=1), bound=BoundCollapsingExponential(B=Fitted(1.223147186414273, minval=0.5, maxval=3), tau=Fitted(3.8942413834439513, minval=0.0001, maxval=5)), IC=ICPointSourceCenter(), overlay=OverlayChain(overlays=[OverlayNonDecision(nondectime=Fitted(0.06467513908524367, minval=0, maxval=0.4)), OverlayPoissonMixture(pmixturecoef=0.02, rate=1)]), dx=0.01, dt=0.01, T_dur=2) loss=10889.164182201774\n",
      "Model(name='Roitman data, leaky drift varies with coherence', drift=DriftCoherenceLeak(driftcoh=Fitted(19.210371543960207, minval=0, maxval=20), leak=Fitted(1.6088979030929895, minval=-10, maxval=10)), noise=NoiseConstant(noise=1), bound=BoundCollapsingExponential(B=Fitted(1.3868171233530586, minval=0.5, maxval=3), tau=Fitted(0.6255873307037183, minval=0.0001, maxval=5)), IC=ICPointSourceCenter(), overlay=OverlayChain(overlays=[OverlayNonDecision(nondectime=Fitted(0.02055958932280086, minval=0, maxval=0.4)), OverlayPoissonMixture(pmixturecoef=0.02, rate=1)]), dx=0.01, dt=0.01, T_dur=2) loss=4762.827143861732\n",
      "Model(name='Roitman data, leaky drift varies with coherence', drift=DriftCoherenceLeak(driftcoh=Fitted(7.118718129151924, minval=0, maxval=20), leak=Fitted(-0.8744984182011528, minval=-10, maxval=10)), noise=NoiseConstant(noise=1), bound=BoundCollapsingExponential(B=Fitted(1.3936153536061715, minval=0.5, maxval=3), tau=Fitted(2.9467736148429857, minval=0.0001, maxval=5)), IC=ICPointSourceCenter(), overlay=OverlayChain(overlays=[OverlayNonDecision(nondectime=Fitted(0.2803183880992397, minval=0, maxval=0.4)), OverlayPoissonMixture(pmixturecoef=0.02, rate=1)]), dx=0.01, dt=0.01, T_dur=2) loss=435.57359287873123\n",
      "Model(name='Roitman data, leaky drift varies with coherence', drift=DriftCoherenceLeak(driftcoh=Fitted(15.35997854333647, minval=0, maxval=20), leak=Fitted(5.3826627252158605, minval=-10, maxval=10)), noise=NoiseConstant(noise=1), bound=BoundCollapsingExponential(B=Fitted(1.4392695340523893, minval=0.5, maxval=3), tau=Fitted(3.337819224730601, minval=0.0001, maxval=5)), IC=ICPointSourceCenter(), overlay=OverlayChain(overlays=[OverlayNonDecision(nondectime=Fitted(0.39432053335096107, minval=0, maxval=0.4)), OverlayPoissonMixture(pmixturecoef=0.02, rate=1)]), dx=0.01, dt=0.01, T_dur=2) loss=1952.0756768588285\n",
      "Model(name='Roitman data, leaky drift varies with coherence', drift=DriftCoherenceLeak(driftcoh=Fitted(12.702433836139917, minval=0, maxval=20), leak=Fitted(-6.601916508458457, minval=-10, maxval=10)), noise=NoiseConstant(noise=1), bound=BoundCollapsingExponential(B=Fitted(0.6230036788327551, minval=0.5, maxval=3), tau=Fitted(0.8042452921230834, minval=0.0001, maxval=5)), IC=ICPointSourceCenter(), overlay=OverlayChain(overlays=[OverlayNonDecision(nondectime=Fitted(0.29556760018728573, minval=0, maxval=0.4)), OverlayPoissonMixture(pmixturecoef=0.02, rate=1)]), dx=0.01, dt=0.01, T_dur=2) loss=-91.16602467745601\n",
      "Model(name='Roitman data, leaky drift varies with coherence', drift=DriftCoherenceLeak(driftcoh=Fitted(16.247637590788464, minval=0, maxval=20), leak=Fitted(5.815824166809809, minval=-10, maxval=10)), noise=NoiseConstant(noise=1), bound=BoundCollapsingExponential(B=Fitted(0.8298275145056786, minval=0.5, maxval=3), tau=Fitted(3.9298873186842167, minval=0.0001, maxval=5)), IC=ICPointSourceCenter(), overlay=OverlayChain(overlays=[OverlayNonDecision(nondectime=Fitted(0.22796457388424743, minval=0, maxval=0.4)), OverlayPoissonMixture(pmixturecoef=0.02, rate=1)]), dx=0.01, dt=0.01, T_dur=2) loss=9183.294368740324\n",
      "Model(name='Roitman data, leaky drift varies with coherence', drift=DriftCoherenceLeak(driftcoh=Fitted(5.7037694419760365, minval=0, maxval=20), leak=Fitted(-5.257025637118092, minval=-10, maxval=10)), noise=NoiseConstant(noise=1), bound=BoundCollapsingExponential(B=Fitted(0.7134299318005117, minval=0.5, maxval=3), tau=Fitted(4.0099368320020465, minval=0.0001, maxval=5)), IC=ICPointSourceCenter(), overlay=OverlayChain(overlays=[OverlayNonDecision(nondectime=Fitted(0.28289024440727784, minval=0, maxval=0.4)), OverlayPoissonMixture(pmixturecoef=0.02, rate=1)]), dx=0.01, dt=0.01, T_dur=2) loss=4576.613768769817\n",
      "Model(name='Roitman data, leaky drift varies with coherence', drift=DriftCoherenceLeak(driftcoh=Fitted(17.047673689467132, minval=0, maxval=20), leak=Fitted(-2.376881454347597, minval=-10, maxval=10)), noise=NoiseConstant(noise=1), bound=BoundCollapsingExponential(B=Fitted(1.3289518889167964, minval=0.5, maxval=3), tau=Fitted(2.5093587784326203, minval=0.0001, maxval=5)), IC=ICPointSourceCenter(), overlay=OverlayChain(overlays=[OverlayNonDecision(nondectime=Fitted(0.3692288665673356, minval=0, maxval=0.4)), OverlayPoissonMixture(pmixturecoef=0.02, rate=1)]), dx=0.01, dt=0.01, T_dur=2) loss=795.3321870925315\n",
      "Model(name='Roitman data, leaky drift varies with coherence', drift=DriftCoherenceLeak(driftcoh=Fitted(14.884631267090228, minval=0, maxval=20), leak=Fitted(-8.639414901543098, minval=-10, maxval=10)), noise=NoiseConstant(noise=1), bound=BoundCollapsingExponential(B=Fitted(1.134163360744393, minval=0.5, maxval=3), tau=Fitted(1.1205908389257007, minval=0.0001, maxval=5)), IC=ICPointSourceCenter(), overlay=OverlayChain(overlays=[OverlayNonDecision(nondectime=Fitted(0.30108452878111325, minval=0, maxval=0.4)), OverlayPoissonMixture(pmixturecoef=0.02, rate=1)]), dx=0.01, dt=0.01, T_dur=2) loss=3142.285711277733\n"
     ]
    }
   ],
   "source": [
    "fit_model_leak = fit_adjust_model(sample=roitman_sample, model=model_leak)\n",
    "ddm.plot.plot_fit_diagnostics(model=fit_model_leak, sample=roitman_sample)\n",
    "plt.savefig(\"leak-collapse-fit.png\")"
   ]
  },
  {
   "cell_type": "markdown",
   "metadata": {},
   "source": [
    "PyDDM can simulate models and generate artificial data, or it can fit them to data. Below are high-level overviews for how to accomplish each.\n",
    "\n",
    "To simulate models and generate artificial data:\n",
    "\n",
    "Optionally, define unique components of your model. Models are modular, and allow specifying a dynamic drift rate, noise level, diffusion bounds, starting position of the integrator, or post-simulation modifications to the RT histogram. Many common models for these are included by default, but for advance functionality you may need to subclass Drift, Noise, Bound, InitialCondition, or Overlay. These model components may depend on “conditions”, i.e. prespecified values associated with the behavioral task which change from trial to trial (e.g. stimulus coherence), or “parameters”, i.e. values which apply to all trials and should be fit to the subject.\n",
    "Define a model. Models are represented by creating an instance of the Model class, and specifying the model components to use for it. These model component can either be the model components included in PyDDM or ones you created in step 1. Values must be specified for all parameters required by model components.\n",
    "Simulate the model using the Model.solve() method to generate a Solution object. If you have multiple conditions, you must run Model.solve() separately for each set of conditions and generate separate Solution objects.\n",
    "Run the Solution.resample() method of the Solution object to generate a Sample. If you have multiple Solution objects (for multiple task conditions), you will need to generate multiple Sample objects as well. These can be added together with the “+” operator to form one single Sample object."
   ]
  }
 ],
 "metadata": {
  "kernelspec": {
   "display_name": "Python 3.9.6 64-bit",
   "name": "python396jvsc74a57bd0b0fa6594d8f4cbf19f97940f81e996739fb7646882a419484c72d19e05852a7e"
  },
  "language_info": {
   "name": "python",
   "version": ""
  },
  "metadata": {
   "interpreter": {
    "hash": "b0fa6594d8f4cbf19f97940f81e996739fb7646882a419484c72d19e05852a7e"
   }
  },
  "orig_nbformat": 2
 },
 "nbformat": 4,
 "nbformat_minor": 2
}