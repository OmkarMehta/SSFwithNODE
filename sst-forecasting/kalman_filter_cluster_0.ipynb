{
 "cells": [
  {
   "cell_type": "code",
   "execution_count": null,
   "metadata": {},
   "outputs": [],
   "source": [
    "# import libraries\n",
    "import numpy as np\n",
    "import pandas as pd\n",
    "import matplotlib.pyplot as plt\n",
    "import seaborn as sns\n",
    "import scipy.stats as stats\n",
    "import statsmodels.api as sm\n",
    "\n",
    "from filterpy.kalman import KalmanFilter\n",
    "\n"
   ]
  },
  {
   "cell_type": "code",
   "execution_count": null,
   "metadata": {},
   "outputs": [],
   "source": [
    "# data path is 'data/trial-1'\n",
    "data_path = 'data/trial-1'\n",
    "# get cluster_1 fron .npy file\n",
    "cluster_1 = np.load(data_path + '/cluster_1.npy')\n",
    "print(cluster_1.shape)"
   ]
  },
  {
   "cell_type": "code",
   "execution_count": null,
   "metadata": {},
   "outputs": [],
   "source": [
    "# cluster_1 has shape (n_sequences, n_time_steps)\n",
    "# apply kalman filter to cluster_1 to get forecasted values\n",
    "def kalman_filter_cluster_1(cluster_1):\n",
    "    # define parameters\n",
    "    n_sequences = cluster_1.shape[0]\n",
    "    n_time_steps = cluster_1.shape[1]\n",
    "    n_dimensions = 1\n",
    "    n_observations = n_time_steps\n",
    "    n_states = n_dimensions\n",
    "    n_controls = 0\n",
    "    n_measurements = n_dimensions\n",
    "    n_outputs = n_dimensions\n",
    "    n_inputs = n_controls + n_measurements\n",
    "    n_params = n_states + n_inputs\n",
    "    # define initial values\n",
    "    x_0 = np.zeros((n_states, 1))\n",
    "    P_0 = np.eye(n_states)\n",
    "    Q = np.eye(n_states)\n",
    "    R = np.eye(n_measurements)\n",
    "    # define transition matrix\n",
    "    F = np.eye(n_states)\n",
    "    # define observation matrix\n",
    "    H = np.eye(n_outputs)\n",
    "    # define control matrix\n",
    "    B = np.zeros((n_states, n_controls))\n",
    "    # define measurement matrix\n",
    "    C = np.eye(n_outputs)\n",
    "    # define control noise covariance matrix\n",
    "    U = np.zeros((n_controls, n_states))\n",
    "\n",
    "    kf = KalmanFilter(dim_x=n_states, dim_z=n_measurements, dim_u=n_controls)\n",
    "\n",
    "    # define forecasted values\n",
    "    forecasted_values = np.zeros((n_sequences, n_time_steps))\n",
    "    # apply kalman filter to cluster_1\n",
    "    for i in range(n_sequences):\n",
    "        # get sequence\n",
    "        sequence = cluster_1[i]\n",
    "        # apply kalman filter to sequence\n",
    "        forecasted_values[i] = kf.batch_filter(sequence, F=F, B=B, H=H, R=R, Q=Q, x_0=x_0, P_0=P_0, U=U)\n",
    "    return forecasted_values\n",
    "\n"
   ]
  },
  {
   "cell_type": "code",
   "execution_count": null,
   "metadata": {},
   "outputs": [],
   "source": [
    "# apply kalman filter to cluster_1\n",
    "forecasted_values = kalman_filter_cluster_1(cluster_1)\n",
    "print(forecasted_values.shape)\n"
   ]
  }
 ],
 "metadata": {
  "language_info": {
   "name": "python"
  },
  "orig_nbformat": 4
 },
 "nbformat": 4,
 "nbformat_minor": 2
}
