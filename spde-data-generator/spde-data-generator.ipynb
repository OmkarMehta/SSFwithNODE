{
 "cells": [
  {
   "cell_type": "markdown",
   "id": "a4cd249d",
   "metadata": {},
   "source": [
    "# References\n",
    "\n",
    "- https://becarioprecario.bitbucket.io/spde-gitbook/ch-intro.html\n",
    "- https://rss.onlinelibrary.wiley.com/doi/abs/10.1111/rssb.12061\n",
    "\n",
    "- https://github.com/maziarraissi/FBSNNs\n",
    "- https://github.com/lululxvi/deepxde"
   ]
  }
 ],
 "metadata": {
  "kernelspec": {
   "display_name": "Python 3.8.5 64-bit ('base': conda)",
   "language": "python",
   "name": "python385jvsc74a57bd0dca0ade3e726a953b501b15e8e990130d2b7799f14cfd9f4271676035ebe5511"
  },
  "language_info": {
   "codemirror_mode": {
    "name": "ipython",
    "version": 3
   },
   "file_extension": ".py",
   "mimetype": "text/x-python",
   "name": "python",
   "nbconvert_exporter": "python",
   "pygments_lexer": "ipython3",
   "version": "3.8.5"
  }
 },
 "nbformat": 4,
 "nbformat_minor": 5
}
