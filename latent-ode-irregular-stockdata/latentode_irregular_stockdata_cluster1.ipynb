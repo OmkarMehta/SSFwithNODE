{
  "nbformat": 4,
  "nbformat_minor": 0,
  "metadata": {
    "colab": {
      "name": "latentode_irregular_stockdata_cluster1.ipynb",
      "provenance": [],
      "collapsed_sections": [],
      "machine_shape": "hm"
    },
    "kernelspec": {
      "display_name": "Python 3",
      "name": "python3"
    },
    "language_info": {
      "name": "python"
    },
    "orig_nbformat": 4,
    "accelerator": "GPU"
  },
  "cells": [
    {
      "cell_type": "markdown",
      "metadata": {
        "id": "7UmYrQ38hy_g"
      },
      "source": [
        "# Latent ODE for Stock Data\n",
        "\n"
      ]
    },
    {
      "cell_type": "code",
      "metadata": {
        "colab": {
          "base_uri": "https://localhost:8080/"
        },
        "id": "c8BMb4s2hy_h",
        "outputId": "4f983906-bdcf-4690-9214-1f15c7bc64c4"
      },
      "source": [
        "# Install the latest version of author's repo neural ode implementation\n",
        "!git clone https://github.com/rtqichen/torchdiffeq.git\n",
        "!cd torchdiffeq && pip install -e .\n",
        "!pip install yfinance\n",
        "!ls torchdiffeq/torchdiffeq"
      ],
      "execution_count": 1,
      "outputs": [
        {
          "output_type": "stream",
          "name": "stdout",
          "text": [
            "Cloning into 'torchdiffeq'...\n",
            "remote: Enumerating objects: 1138, done.\u001b[K\n",
            "remote: Counting objects: 100% (434/434), done.\u001b[K\n",
            "remote: Compressing objects: 100% (194/194), done.\u001b[K\n",
            "remote: Total 1138 (delta 256), reused 401 (delta 240), pack-reused 704\u001b[K\n",
            "Receiving objects: 100% (1138/1138), 8.29 MiB | 18.26 MiB/s, done.\n",
            "Resolving deltas: 100% (682/682), done.\n",
            "Obtaining file:///content/torchdiffeq\n",
            "Requirement already satisfied: torch>=1.3.0 in /usr/local/lib/python3.7/dist-packages (from torchdiffeq==0.2.2) (1.9.0+cu111)\n",
            "Requirement already satisfied: scipy>=1.4.0 in /usr/local/lib/python3.7/dist-packages (from torchdiffeq==0.2.2) (1.4.1)\n",
            "Requirement already satisfied: numpy>=1.13.3 in /usr/local/lib/python3.7/dist-packages (from scipy>=1.4.0->torchdiffeq==0.2.2) (1.19.5)\n",
            "Requirement already satisfied: typing-extensions in /usr/local/lib/python3.7/dist-packages (from torch>=1.3.0->torchdiffeq==0.2.2) (3.7.4.3)\n",
            "Installing collected packages: torchdiffeq\n",
            "  Running setup.py develop for torchdiffeq\n",
            "Successfully installed torchdiffeq-0.2.2\n",
            "Collecting yfinance\n",
            "  Downloading yfinance-0.1.64.tar.gz (26 kB)\n",
            "Requirement already satisfied: pandas>=0.24 in /usr/local/lib/python3.7/dist-packages (from yfinance) (1.1.5)\n",
            "Requirement already satisfied: numpy>=1.15 in /usr/local/lib/python3.7/dist-packages (from yfinance) (1.19.5)\n",
            "Requirement already satisfied: requests>=2.20 in /usr/local/lib/python3.7/dist-packages (from yfinance) (2.23.0)\n",
            "Requirement already satisfied: multitasking>=0.0.7 in /usr/local/lib/python3.7/dist-packages (from yfinance) (0.0.9)\n",
            "Collecting lxml>=4.5.1\n",
            "  Downloading lxml-4.6.3-cp37-cp37m-manylinux2014_x86_64.whl (6.3 MB)\n",
            "\u001b[K     |████████████████████████████████| 6.3 MB 12.6 MB/s \n",
            "\u001b[?25hRequirement already satisfied: python-dateutil>=2.7.3 in /usr/local/lib/python3.7/dist-packages (from pandas>=0.24->yfinance) (2.8.2)\n",
            "Requirement already satisfied: pytz>=2017.2 in /usr/local/lib/python3.7/dist-packages (from pandas>=0.24->yfinance) (2018.9)\n",
            "Requirement already satisfied: six>=1.5 in /usr/local/lib/python3.7/dist-packages (from python-dateutil>=2.7.3->pandas>=0.24->yfinance) (1.15.0)\n",
            "Requirement already satisfied: certifi>=2017.4.17 in /usr/local/lib/python3.7/dist-packages (from requests>=2.20->yfinance) (2021.5.30)\n",
            "Requirement already satisfied: chardet<4,>=3.0.2 in /usr/local/lib/python3.7/dist-packages (from requests>=2.20->yfinance) (3.0.4)\n",
            "Requirement already satisfied: urllib3!=1.25.0,!=1.25.1,<1.26,>=1.21.1 in /usr/local/lib/python3.7/dist-packages (from requests>=2.20->yfinance) (1.24.3)\n",
            "Requirement already satisfied: idna<3,>=2.5 in /usr/local/lib/python3.7/dist-packages (from requests>=2.20->yfinance) (2.10)\n",
            "Building wheels for collected packages: yfinance\n",
            "  Building wheel for yfinance (setup.py) ... \u001b[?25l\u001b[?25hdone\n",
            "  Created wheel for yfinance: filename=yfinance-0.1.64-py2.py3-none-any.whl size=24109 sha256=bace6e39d66a025173f8cfc2ebba62b857cf1d95e8405456c0fd5d6c7df9a92c\n",
            "  Stored in directory: /root/.cache/pip/wheels/86/fe/9b/a4d3d78796b699e37065e5b6c27b75cff448ddb8b24943c288\n",
            "Successfully built yfinance\n",
            "Installing collected packages: lxml, yfinance\n",
            "  Attempting uninstall: lxml\n",
            "    Found existing installation: lxml 4.2.6\n",
            "    Uninstalling lxml-4.2.6:\n",
            "      Successfully uninstalled lxml-4.2.6\n",
            "Successfully installed lxml-4.6.3 yfinance-0.1.64\n",
            "_impl  __init__.py\n"
          ]
        }
      ]
    },
    {
      "cell_type": "markdown",
      "metadata": {
        "id": "9cSqPUFvhy_j"
      },
      "source": [
        "# Libraries"
      ]
    },
    {
      "cell_type": "code",
      "metadata": {
        "id": "gnauJ9FBhy_k"
      },
      "source": [
        "# run_models.py\n",
        "import os\n",
        "import sys\n",
        "import matplotlib\n",
        "matplotlib.use('Agg')\n",
        "import matplotlib.pyplot\n",
        "import matplotlib.pyplot as plt\n",
        "\n",
        "import time\n",
        "import datetime\n",
        "import argparse\n",
        "import numpy as np\n",
        "import pandas as pd\n",
        "from random import SystemRandom\n",
        "from sklearn import model_selection\n",
        "\n",
        "import torch\n",
        "import torch.nn as nn\n",
        "from torch.nn.functional import relu\n",
        "import torch.optim as optim\n",
        "\n",
        "import utils as utils\n",
        "from data import *\n",
        "# from lib.plotting import *\n",
        "\n",
        "# from lib.rnn_baselines import *\n",
        "# from lib.ode_rnn import *\n",
        "# from lib.create_latent_ode_model import create_LatentODE_model\n",
        "# from lib.parse_datasets import parse_datasets\n",
        "# from lib.ode_func import ODEFunc, ODEFunc_w_Poisson\n",
        "from diffeq_solver import DiffeqSolver\n",
        "# from mujoco_physics import HopperPhysics\n",
        "\n",
        "from utils import compute_loss_all_batches\n",
        "\n",
        "import sys\n",
        "# print(sys.argv[1:])\n",
        "\n",
        "# Libraries for downloading data\n",
        "from pandas_datareader import data as pdr\n",
        "import yfinance as yf\n",
        "import os\n",
        "import matplotlib.pyplot as plt\n",
        "import pandas as pd\n",
        "import numpy as np\n",
        "\n",
        "# Libraries for parsing data\n",
        "from torch.distributions import uniform\n",
        "from torch.utils.data import DataLoader\n",
        "from sklearn import model_selection\n",
        "import random\n",
        "from utils import get_dict_template\n",
        "\n",
        "# Libraries for encoder_decoder.py\n",
        "from torch.distributions import Categorical, Normal\n",
        "from torch.nn.modules.rnn import LSTM, GRU\n",
        "from utils import get_device\n",
        "\n",
        "# Libraries for likelihood_eval.py\n",
        "import gc\n",
        "import sklearn as sk\n",
        "from torch.distributions.multivariate_normal import MultivariateNormal\n",
        "from torch.distributions.normal import Normal\n",
        "from torch.distributions import kl_divergence, Independent\n",
        "\n",
        "# Libraries for base_models.py\n",
        "from torch.nn.modules.rnn import GRUCell, LSTMCell, RNNCellBase\n",
        "from torch.nn.parameter import Parameter\n",
        "\n",
        "# Libraries for ode_func.py\n",
        "from torch.nn.utils.spectral_norm import spectral_norm"
      ],
      "execution_count": 2,
      "outputs": []
    },
    {
      "cell_type": "markdown",
      "metadata": {
        "id": "PMVN3oEthy_l"
      },
      "source": [
        "# Parameters, Manual Seed, ExperimentID"
      ]
    },
    {
      "cell_type": "code",
      "metadata": {
        "id": "UJGcORZ0hy_l"
      },
      "source": [
        "# Generative model for noisy data based on ODE\n",
        "parser = argparse.ArgumentParser('Latent ODE')\n",
        "# n = size of the dataset\n",
        "parser.add_argument('-n',  type=int, default=2000, help=\"Size of the dataset\")\n",
        "# n_iters = 50\n",
        "parser.add_argument('--niters', type=int, default=100)\n",
        "parser.add_argument('--lr',  type=float, default=1e-3, help=\"Starting learning rate.\")\n",
        "# batch_size = 50\n",
        "parser.add_argument('-b', '--batch-size', type=int, default=50)\n",
        "parser.add_argument('--viz', action='store_true', help=\"Show plots while training\")\n",
        "\n",
        "parser.add_argument('--save', type=str, default='experiments/', help=\"Path for save checkpoints\")\n",
        "parser.add_argument('--load', type=str, default=None, help=\"ID of the experiment to load for evaluation. If None, run a new experiment.\")\n",
        "parser.add_argument('-r', '--random-seed', type=int, default=1991, help=\"Random_seed\")\n",
        "# dataset = stock_lag5_forecast5\n",
        "parser.add_argument('--dataset', type=str, default='stock_lag5_forecast5', help=\"Dataset to load. Available: stock_lag5_forecast5\")\n",
        "parser.add_argument('-s', '--sample-tp', type=float, default=None, help=\"Number of time points to sub-sample.\"\n",
        "\t\"If > 1, subsample exact number of points. If the number is in [0,1], take a percentage of available points per time series. If None, do not subsample\")\n",
        "\n",
        "parser.add_argument('-c', '--cut-tp', type=int, default=None, help=\"Cut out the section of the timeline of the specified length (in number of points).\"\n",
        "\t\"Used for periodic function demo.\")\n",
        "\n",
        "parser.add_argument('--quantization', type=float, default=0.1, help=\"Quantization on the physionet dataset.\"\n",
        "\t\"Value 1 means quantization by 1 hour, value 0.1 means quantization by 0.1 hour = 6 min\")\n",
        "\n",
        "parser.add_argument('--latent-ode', default = True, action='store_true', help=\"Run Latent ODE seq2seq model\")\n",
        "parser.add_argument('--z0-encoder', type=str, default='odernn', help=\"Type of encoder for Latent ODE model: odernn or rnn\")\n",
        "\n",
        "parser.add_argument('--classic-rnn', action='store_true', help=\"Run RNN baseline: classic RNN that sees true points at every point. Used for interpolation only.\")\n",
        "parser.add_argument('--rnn-cell', default=\"gru\", help=\"RNN Cell type. Available: gru (default), expdecay\")\n",
        "parser.add_argument('--input-decay', action='store_true', help=\"For RNN: use the input that is the weighted average of impirical mean and previous value (like in GRU-D)\")\n",
        "\n",
        "parser.add_argument('--ode-rnn', action='store_true', help=\"Run ODE-RNN baseline: RNN-style that sees true points at every point. Used for interpolation only.\")\n",
        "\n",
        "parser.add_argument('--rnn-vae', action='store_true', help=\"Run RNN baseline: seq2seq model with sampling of the h0 and ELBO loss.\")\n",
        "# latents = input_dim\n",
        "parser.add_argument('-l', '--latents', type=int, default=10, help=\"Size of the latent state\")\n",
        "# rec_dims = more than 2*input_dim\n",
        "parser.add_argument('--rec-dims', type=int, default=25, help=\"Dimensionality of the recognition model (ODE or RNN).\")\n",
        "\n",
        "parser.add_argument('--rec-layers', type=int, default=3, help=\"Number of layers in ODE func in recognition ODE\")\n",
        "parser.add_argument('--gen-layers', type=int, default=3, help=\"Number of layers in ODE func in generative ODE\")\n",
        "# units for ODE func\n",
        "parser.add_argument('-u', '--units', type=int, default=300, help=\"Number of units per layer in ODE func\")\n",
        "# units for GRU\n",
        "parser.add_argument('-g', '--gru-units', type=int, default=100, help=\"Number of units per layer in each of GRU update networks\")\n",
        "\n",
        "parser.add_argument('--poisson', action='store_true', help=\"Model poisson-process likelihood for the density of events in addition to reconstruction.\")\n",
        "parser.add_argument('--classif', action='store_true', help=\"Include binary classification loss -- used for Physionet dataset for hospiral mortality\")\n",
        "\n",
        "parser.add_argument('--linear-classif', action='store_true', help=\"If using a classifier, use a linear classifier instead of 1-layer NN\")\n",
        "# extrap = True\n",
        "parser.add_argument('--extrap', default = True, action='store_true', help=\"Set extrapolation mode. If this flag is not set, run interpolation mode.\")\n",
        "# timesteps = lag+forecast\n",
        "parser.add_argument('-t', '--timepoints', type=int, default=10, help=\"Total number of time-points\")\n",
        "parser.add_argument('--max-t',  type=float, default=5., help=\"We subsample points in the interval [0, args.max_tp]\")\n",
        "parser.add_argument('--noise-weight', type=float, default=0.01, help=\"Noise amplitude for generated traejctories\")\n",
        "\n",
        "sys.argv = ['-f']\n",
        "args = parser.parse_args()\n",
        "\n",
        "device = torch.device(\"cuda:0\" if torch.cuda.is_available() else \"cpu\")\n",
        "# file_name = os.path.basename(__file__)[:-3]\n",
        "utils.makedirs(args.save)  # saves in 'experiments/' folder\n",
        "\n"
      ],
      "execution_count": 3,
      "outputs": []
    },
    {
      "cell_type": "code",
      "metadata": {
        "colab": {
          "base_uri": "https://localhost:8080/"
        },
        "id": "gbFeze76hy_n",
        "outputId": "06ad8d43-b9be-4b2f-ed8f-485ced8ee284"
      },
      "source": [
        "torch.manual_seed(args.random_seed)\n",
        "np.random.seed(args.random_seed)\n",
        "\n",
        "experimentID = args.load  # None\n",
        "# print(f\"experimentID is {experimentID}\")\n",
        "\n",
        "if experimentID is None:\n",
        "    # Make a new experiment ID\n",
        "    experimentID = int(SystemRandom().random()*100000) # from random import SystemRandom\n",
        "print(f\"experimentID is {experimentID}\")\n",
        "ckpt_path = os.path.join(args.save, \"experiment_\" + str(experimentID) + '.ckpt') \n",
        "# print(f\"ckpt_path is {ckpt_path}\")\n",
        "\n",
        "start = time.time()\n",
        "# print(\"Sampling dataset of {} training examples\".format(args.n))  # n is size of the dataset\n",
        "\n",
        "# print(f\"args is {str(args)}\")\n",
        "\n",
        "input_command = sys.argv\n",
        "# print(f\"input_command is {input_command}\")\n",
        "\n",
        "ind = [i for i in range(len(input_command)) if input_command[i] == \"--load\"]\n",
        "# print(f\"ind is {ind}\")\n",
        "# print(f\"len(ind) is {len(ind)}\")\n",
        "\n",
        "if len(ind) == 1:\n",
        "    ind = ind[0]\n",
        "    input_command = input_command[:ind] + input_command[(ind+2):]\n",
        "input_command = \" \".join(input_command)\n",
        "# print(f\"input_command is {input_command}\")\n",
        "utils.makedirs(\"results/\")\n"
      ],
      "execution_count": 4,
      "outputs": [
        {
          "output_type": "stream",
          "name": "stdout",
          "text": [
            "experimentID is 77\n"
          ]
        }
      ]
    },
    {
      "cell_type": "markdown",
      "metadata": {
        "id": "b8Ld41k7hy_o"
      },
      "source": [
        "# Get Dataset"
      ]
    },
    {
      "cell_type": "code",
      "metadata": {
        "id": "zC70xR81hy_p"
      },
      "source": [
        "# # Uncomment to get the training data of stock data with lag and forecast\n",
        "# # 1. Get Open and Close Price of asset (o, c) for each trading day.\n",
        "# # libraries\n",
        "\n",
        "# dict_tickers = {\n",
        "#     'Apple': 'AAPL',\n",
        "#     'Microsoft': 'MSFT',\n",
        "#     'Google': 'GOOG',\n",
        "#     'Bitcoin': 'BTC-USD',\n",
        "#     'Facebook': 'FB',\n",
        "#     'Walmart': 'WMT',\n",
        "#     'Amazon': 'AMZN',\n",
        "#     'CVS': 'CVS',\n",
        "#     'Berkshire': 'BRK-B',\n",
        "#     'ExxonMobil': 'XOM',\n",
        "#     'AtandT': 'T',\n",
        "#     'Costco': 'COST',\n",
        "#     'Walgreens': 'WBA',\n",
        "#     'Kroger': 'KR',\n",
        "#     'JPMorgan': 'JPM',\n",
        "#     'Verizon': 'VZ',\n",
        "#     'FordMotor': 'F',\n",
        "#     'GeneralMotors': 'GM',\n",
        "#     'Dell': 'DELL',\n",
        "#     'BankOfAmerica': 'BAC',\n",
        "#     'Target': 'TGT',\n",
        "#     'GeneralElectric': 'GE',\n",
        "#     'JohnsonandJohnson': 'JNJ',\n",
        "#     'Nvidia': 'NVDA',\n",
        "#     'Intel': 'INTC',\n",
        "# }\n",
        "\n",
        "# period = '1d'\n",
        "# start='2000-1-1'\n",
        "# end='2021-8-31'\n",
        "\n",
        "# # Creating a path to save the data\n",
        "# path = f\"raw-stock-data/data-{start.split('-')[0]}-{end.split('-')[0]}\"\n",
        "# if not os.path.exists(path):\n",
        "#     # https://appdividend.com/2021/07/03/how-to-create-directory-if-not-exist-in-python/\n",
        "#     # Create a new directory\n",
        "#     os.makedirs(path)\n",
        "#     print(f\"{path} directory is created\")\n",
        "\n",
        "# # Downloading the data\n",
        "# for tickerName, ticker in dict_tickers.items():\n",
        "#     tickerName = tickerName\n",
        "#     ticker = ticker\n",
        "#     filepath = f\"{path}/{tickerName}.csv\"\n",
        "#     download_raw_stock_data(filepath, ticker, start, end, period)\n",
        "\n",
        "# # print('\\n')\n",
        "\n",
        "# # print(f\"The size of each asset\")\n",
        "# for tickerName in dict_tickers.keys():\n",
        "#     df = pd.read_csv(f\"{path}/{tickerName}.csv\")\n",
        "#     print(f\"{tickerName} size: {len(df)}\")\n",
        "\n",
        "# # 2. Get weekly data.\n",
        "# # 3. Transform $d_{i}$ to sequences of lag * len($d_{i}$) length.\n",
        "\n",
        "\n",
        "# week_sequence = {}\n",
        "# lag = 5\n",
        "# forecast = 5\n",
        "# for tickerName in dict_tickers.keys():\n",
        "#     filepath = f\"{path}/{tickerName}.csv\"\n",
        "#     # Get the data in the required format\n",
        "#     data = stockDataTransformer(filepath)\n",
        "#     # # Total Data Size\n",
        "#     data_size = data.shape[0]\n",
        "#     # print(f\"{tickerName} data.shape {data.shape}\")\n",
        "#     data_orig = series_to_supervised(data, lag, forecast).values\n",
        "#     # print(f'{tickerName} Data Original after series to supervised on data {data_orig.shape}')\n",
        "#     week_sequence[tickerName] = data_orig\n",
        "#     # print('\\n')\n",
        "\n",
        "# # 4. Bundle all sequences together\n",
        "# data = week_sequence['Apple']\n",
        "# for tickerName in week_sequence.keys():\n",
        "#     if tickerName != 'Apple':\n",
        "#         data1 = week_sequence[tickerName]\n",
        "#         data = np.concatenate((data, data1))\n",
        "#         print(f\"data.shape {data.shape}\")\n",
        "\n"
      ],
      "execution_count": 5,
      "outputs": []
    },
    {
      "cell_type": "code",
      "metadata": {
        "id": "imjYAxRYi2Xc"
      },
      "source": [
        "# training_path = 'data'\n",
        "# if not os.path.exists(training_path):\n",
        "#     # https://appdividend.com/2021/07/03/how-to-create-directory-if-not-exist-in-python/\n",
        "#     # Create a new directory\n",
        "#     os.makedirs(training_path)\n",
        "#     print(f\"{path} directory is created\")\n",
        "# data_df = pd.DataFrame(data)\n",
        "# data_df.to_csv(f\"{training_path}/data-lag{lag}-forecast{forecast}.csv\")"
      ],
      "execution_count": 6,
      "outputs": []
    },
    {
      "cell_type": "code",
      "metadata": {
        "colab": {
          "base_uri": "https://localhost:8080/"
        },
        "id": "S4Tlm4XYhy_p",
        "outputId": "c8a1a0a3-1adf-40ef-d88e-7a45d126ffa9"
      },
      "source": [
        "# Importing the data with index as the first column\n",
        "training_path = 'data'\n",
        "cluster = 1\n",
        "lag = 5\n",
        "forecast = 5\n",
        "data = np.load(f\"{training_path}/cluster_{cluster}.npy\")\n",
        "data_df = pd.DataFrame(data)\n",
        "data_df.to_csv(f\"{training_path}/cluster_{cluster}.csv\")\n",
        "print(f\"data.shape {data.shape}\")\n",
        "# Reshape data to (data.shape[0], lag+forecast, data.shape[1])\n",
        "data = data.reshape(data.shape[0], lag+forecast, 10)\n",
        "# print(f\"data.shape {data.shape}\")\n",
        "\n",
        "# Convert data to tensor\n",
        "data = torch.from_numpy(data).float().to(device)\n",
        "print(f\"data.shape {data.shape}\")"
      ],
      "execution_count": 7,
      "outputs": [
        {
          "output_type": "stream",
          "name": "stdout",
          "text": [
            "data.shape (15329, 100)\n",
            "data.shape torch.Size([15329, 10, 10])\n"
          ]
        }
      ]
    },
    {
      "cell_type": "markdown",
      "metadata": {
        "id": "XkMnH9Gbhy_q"
      },
      "source": [
        "# Parse Dataset"
      ]
    },
    {
      "cell_type": "code",
      "metadata": {
        "id": "K-Rkuecghy_q"
      },
      "source": [
        "###########################\n",
        "# Latent ODEs for Stock Data \n",
        "# Authors: Omkar Mehta \n",
        "###########################\n",
        "\n",
        "class StockData(object):\n",
        "\n",
        "\tdef __init__(self, root, download = True, generate=False, device = torch.device(\"cpu\")):\n",
        "\t\tself.root = root\n",
        "\t\tif download:\n",
        "\t\t\tdata = self._download()\n",
        "\n",
        "\t\tif generate:\n",
        "\t\t\tself._generate_dataset()\n",
        "\n",
        "\t\tif not self._check_exists():\n",
        "\t\t\traise RuntimeError('Dataset not found.' + ' You can use download=True to download it')\n",
        "\n",
        "\t\tdata_file = os.path.join(self.data_folder, training_file)\n",
        "\t\tdata = pd.read_csv(os.path.join(self.root, training_file), index_col=0).values\n",
        "\t\t# Reshape data to (data.shape[0], lag+forecast, data.shape[1])\n",
        "\t\tdata = data.reshape(data.shape[0], lag+forecast, D)\n",
        "\t\t# Convert data to tensor\n",
        "\t\tself.data = torch.from_numpy(data).float().to(device)\n",
        "\t\tself.data, self.data_min, self.data_max = utils.normalize_data(self.data)\n",
        "\n",
        "\t\tself.device =device\n",
        "\n",
        "\tdef _download(self):\n",
        "\t\tif self._check_exists():\n",
        "\t\t\treturn\n",
        "\t\tif not os.path.exists(self.data_folder):\n",
        "\t\t\tos.makedirs(self.data_folder, exist_ok=True)\n",
        "\t\tdata = pd.read_csv(os.path.join(self.root, training_file), index_col=0).values\n",
        "\t\t# Reshape data to (data.shape[0], lag+forecast, data.shape[1])\n",
        "\t\tdata = data.reshape(data.shape[0], lag+forecast, data.shape[1])\n",
        "\t\treturn data\n",
        "\tdef _check_exists(self):\n",
        "\t\treturn os.path.exists(os.path.join(self.data_folder, training_file))\n",
        "\n",
        "\t@property\n",
        "\tdef data_folder(self):\n",
        "\t\treturn os.path.join(self.root)\n",
        "\n",
        "\t# def __getitem__(self, index):\n",
        "\t#     return self.data[index]\n",
        "\n",
        "\tdef get_dataset(self):\n",
        "\t\treturn self.data\n",
        "\n",
        "\tdef __len__(self):\n",
        "\t\treturn len(self.data)\n",
        "\n",
        "\tdef size(self, ind = None):\n",
        "\t\tif ind is not None:\n",
        "\t\t\treturn self.data.shape[ind]\n",
        "\t\treturn self.data.shape\n",
        "\t\t\t\n",
        "\tdef __repr__(self):\n",
        "\t\tfmt_str = 'Dataset ' + self.__class__.__name__ + '\\n'\n",
        "\t\tfmt_str += '    Number of datapoints: {}\\n'.format(self.__len__())\n",
        "\t\tfmt_str += '    Root Location: {}\\n'.format(self.root)\n",
        "\t\treturn fmt_str\n",
        "\n"
      ],
      "execution_count": 8,
      "outputs": []
    },
    {
      "cell_type": "code",
      "metadata": {
        "id": "TEI5y8U2hy_r"
      },
      "source": [
        "def parse_datasets(args, device):\n",
        "\t\n",
        "\t# Parse datasets\n",
        "\tdef basic_collate_fn(batch, time_steps, args = args, device = device, data_type = \"train\"):\n",
        "\t\tbatch = torch.stack(batch)\n",
        "\t\tdata_dict = {\n",
        "\t\t\t\"data\": batch, \n",
        "\t\t\t\"time_steps\": time_steps}\n",
        "\n",
        "\t\tdata_dict = utils.split_and_subsample_batch(data_dict, args, data_type = data_type)\n",
        "\t\treturn data_dict\n",
        "\n",
        "\n",
        "\tdataset_name = args.dataset\n",
        "\n",
        "\tn_total_tp = args.timepoints + args.extrap\n",
        "\tmax_t_extrap = args.max_t / args.timepoints * n_total_tp\n",
        "\n",
        "\t##################################################################\n",
        "\t# Stock Data with lag and forecast dataset\n",
        "\tif dataset_name == \"stock_lag5_forecast5\":\n",
        "\t\tdataset_obj = StockData(root='data', download=True, generate=False, device = device)\n",
        "\t\tdataset = dataset_obj.get_dataset()\n",
        "\t\tdataset = dataset.to(device)\n",
        "\n",
        "\n",
        "\t\tn_tp_data = dataset[:].shape[1]\n",
        "\n",
        "\t\t# Time steps that are used later on for exrapolation\n",
        "\t\ttime_steps = torch.arange(start=0, end = n_tp_data, step=1).float().to(device)\n",
        "\t\ttime_steps = time_steps / len(time_steps)\n",
        "\n",
        "\t\tdataset = dataset.to(device)\n",
        "\t\ttime_steps = time_steps.to(device)\n",
        "\n",
        "\t\tif not args.extrap:\n",
        "\t\t\t# Creating dataset for interpolation\n",
        "\t\t\t# sample time points from different parts of the timeline, \n",
        "\t\t\t# so that the model learns from different parts of hopper trajectory\n",
        "\t\t\tn_traj = len(dataset)\n",
        "\t\t\tn_tp_data = dataset.shape[1]\n",
        "\t\t\tn_reduced_tp = args.timepoints\n",
        "\n",
        "\t\t\t# sample time points from different parts of the timeline, \n",
        "\t\t\t# so that the model learns from different parts of hopper trajectory\n",
        "\t\t\tstart_ind = np.random.randint(0, high=n_tp_data - n_reduced_tp +1, size=n_traj)\n",
        "\t\t\tend_ind = start_ind + n_reduced_tp\n",
        "\t\t\tsliced = []\n",
        "\t\t\tfor i in range(n_traj):\n",
        "\t\t\t\t  sliced.append(dataset[i, start_ind[i] : end_ind[i], :])\n",
        "\t\t\tdataset = torch.stack(sliced).to(device)\n",
        "\t\t\ttime_steps = time_steps[:n_reduced_tp]\n",
        "\n",
        "\t\t# Split into train and test by the time sequences\n",
        "\t\ttrain_y, test_y = utils.split_train_test(dataset, train_fraq = 0.8)\n",
        "\n",
        "\t\tn_samples = len(dataset)\n",
        "\t\tinput_dim = dataset.size(-1)\n",
        "\n",
        "\t\tbatch_size = min(args.batch_size, args.n)\n",
        "\t\ttrain_dataloader = DataLoader(train_y, batch_size = batch_size, shuffle=False,\n",
        "\t\t\tcollate_fn= lambda batch: basic_collate_fn(batch, time_steps, data_type = \"train\"))\n",
        "\t\ttest_dataloader = DataLoader(test_y, batch_size = n_samples, shuffle=False,\n",
        "\t\t\tcollate_fn= lambda batch: basic_collate_fn(batch, time_steps, data_type = \"test\"))\n",
        "\t\t\n",
        "\t\tdata_objects = {\"dataset_obj\": dataset_obj, \n",
        "\t\t\t\t\t\"train_dataloader\": utils.inf_generator(train_dataloader), \n",
        "\t\t\t\t\t\"test_dataloader\": utils.inf_generator(test_dataloader),\n",
        "\t\t\t\t\t\"input_dim\": input_dim,\n",
        "\t\t\t\t\t\"n_train_batches\": len(train_dataloader),\n",
        "\t\t\t\t\t\"n_test_batches\": len(test_dataloader)}\n",
        "\t\treturn data_objects\n",
        "\n",
        "\t##################################################################\n",
        "\t# Physionet dataset\n",
        "\n",
        "\tif dataset_name == \"physionet\":\n",
        "\t\ttrain_dataset_obj = PhysioNet('data/physionet', train=True, \n",
        "\t\t\t\t\t\t\t\t\t\tquantization = args.quantization,\n",
        "\t\t\t\t\t\t\t\t\t\tdownload=True, n_samples = min(10000, args.n), \n",
        "\t\t\t\t\t\t\t\t\t\tdevice = device)\n",
        "\t\t# Use custom collate_fn to combine samples with arbitrary time observations.\n",
        "\t\t# Returns the dataset along with mask and time steps\n",
        "\t\ttest_dataset_obj = PhysioNet('data/physionet', train=False, \n",
        "\t\t\t\t\t\t\t\t\t\tquantization = args.quantization,\n",
        "\t\t\t\t\t\t\t\t\t\tdownload=True, n_samples = min(10000, args.n), \n",
        "\t\t\t\t\t\t\t\t\t\tdevice = device)\n",
        "\n",
        "\t\t# Combine and shuffle samples from physionet Train and physionet Test\n",
        "\t\ttotal_dataset = train_dataset_obj[:len(train_dataset_obj)]\n",
        "\n",
        "\t\tif not args.classif:\n",
        "\t\t\t# Concatenate samples from original Train and Test sets\n",
        "\t\t\t# Only 'training' physionet samples are have labels. Therefore, if we do classifiction task, we don't need physionet 'test' samples.\n",
        "\t\t\ttotal_dataset = total_dataset + test_dataset_obj[:len(test_dataset_obj)]\n",
        "\n",
        "\t\t# Shuffle and split\n",
        "\t\ttrain_data, test_data = model_selection.train_test_split(total_dataset, train_size= 0.8, \n",
        "\t\t\trandom_state = 42, shuffle = True)\n",
        "\n",
        "\t\trecord_id, tt, vals, mask, labels = train_data[0]\n",
        "\n",
        "\t\tn_samples = len(total_dataset)\n",
        "\t\tinput_dim = vals.size(-1)\n",
        "\n",
        "\t\tbatch_size = min(min(len(train_dataset_obj), args.batch_size), args.n)\n",
        "\t\tdata_min, data_max = get_data_min_max(total_dataset)\n",
        "\n",
        "\t\ttrain_dataloader = DataLoader(train_data, batch_size= batch_size, shuffle=False, \n",
        "\t\t\tcollate_fn= lambda batch: variable_time_collate_fn(batch, args, device, data_type = \"train\",\n",
        "\t\t\t\tdata_min = data_min, data_max = data_max))\n",
        "\t\ttest_dataloader = DataLoader(test_data, batch_size = n_samples, shuffle=False, \n",
        "\t\t\tcollate_fn= lambda batch: variable_time_collate_fn(batch, args, device, data_type = \"test\",\n",
        "\t\t\t\tdata_min = data_min, data_max = data_max))\n",
        "\n",
        "\t\tattr_names = train_dataset_obj.params\n",
        "\t\tdata_objects = {\"dataset_obj\": train_dataset_obj, \n",
        "\t\t\t\t\t\"train_dataloader\": utils.inf_generator(train_dataloader), \n",
        "\t\t\t\t\t\"test_dataloader\": utils.inf_generator(test_dataloader),\n",
        "\t\t\t\t\t\"input_dim\": input_dim,\n",
        "\t\t\t\t\t\"n_train_batches\": len(train_dataloader),\n",
        "\t\t\t\t\t\"n_test_batches\": len(test_dataloader),\n",
        "\t\t\t\t\t\"attr\": attr_names, #optional\n",
        "\t\t\t\t\t\"classif_per_tp\": False, #optional\n",
        "\t\t\t\t\t\"n_labels\": 1} #optional\n",
        "\t\treturn data_objects\n",
        "\n",
        "\t##################################################################\n",
        "\t# Human activity dataset\n",
        "\n",
        "\tif dataset_name == \"activity\":\n",
        "\t\tn_samples =  min(10000, args.n)\n",
        "\t\tdataset_obj = PersonActivity('data/PersonActivity', \n",
        "\t\t\t\t\t\t\tdownload=True, n_samples =  n_samples, device = device)\n",
        "\t\tprint(dataset_obj)\n",
        "\t\t# Use custom collate_fn to combine samples with arbitrary time observations.\n",
        "\t\t# Returns the dataset along with mask and time steps\n",
        "\n",
        "\t\t# Shuffle and split\n",
        "\t\ttrain_data, test_data = model_selection.train_test_split(dataset_obj, train_size= 0.8, \n",
        "\t\t\trandom_state = 42, shuffle = True)\n",
        "\n",
        "\t\ttrain_data = [train_data[i] for i in np.random.choice(len(train_data), len(train_data))]\n",
        "\t\ttest_data = [test_data[i] for i in np.random.choice(len(test_data), len(test_data))]\n",
        "\n",
        "\t\trecord_id, tt, vals, mask, labels = train_data[0]\n",
        "\t\tinput_dim = vals.size(-1)\n",
        "\n",
        "\t\tbatch_size = min(min(len(dataset_obj), args.batch_size), args.n)\n",
        "\t\ttrain_dataloader = DataLoader(train_data, batch_size= batch_size, shuffle=False, \n",
        "\t\t\tcollate_fn= lambda batch: variable_time_collate_fn_activity(batch, args, device, data_type = \"train\"))\n",
        "\t\ttest_dataloader = DataLoader(test_data, batch_size=n_samples, shuffle=False, \n",
        "\t\t\tcollate_fn= lambda batch: variable_time_collate_fn_activity(batch, args, device, data_type = \"test\"))\n",
        "\n",
        "\t\tdata_objects = {\"dataset_obj\": dataset_obj, \n",
        "\t\t\t\t\t\"train_dataloader\": utils.inf_generator(train_dataloader), \n",
        "\t\t\t\t\t\"test_dataloader\": utils.inf_generator(test_dataloader),\n",
        "\t\t\t\t\t\"input_dim\": input_dim,\n",
        "\t\t\t\t\t\"n_train_batches\": len(train_dataloader),\n",
        "\t\t\t\t\t\"n_test_batches\": len(test_dataloader),\n",
        "\t\t\t\t\t\"classif_per_tp\": True, #optional\n",
        "\t\t\t\t\t\"n_labels\": labels.size(-1)}\n",
        "\n",
        "\t\treturn data_objects\n",
        "\n",
        "\t########### 1d datasets ###########\n",
        "\n",
        "\t# Sampling args.timepoints time points in the interval [0, args.max_t]\n",
        "\t# Sample points for both training sequence and explapolation (test)\n",
        "\tdistribution = uniform.Uniform(torch.Tensor([0.0]),torch.Tensor([max_t_extrap]))\n",
        "\ttime_steps_extrap =  distribution.sample(torch.Size([n_total_tp-1]))[:,0]\n",
        "\ttime_steps_extrap = torch.cat((torch.Tensor([0.0]), time_steps_extrap))\n",
        "\ttime_steps_extrap = torch.sort(time_steps_extrap)[0]\n",
        "\n",
        "\tdataset_obj = None\n",
        "\t##################################################################\n",
        "\t# Sample a periodic function\n",
        "\tif dataset_name == \"periodic\":\n",
        "\t\tdataset_obj = Periodic_1d(\n",
        "\t\t\tinit_freq = None, init_amplitude = 1.,\n",
        "\t\t\tfinal_amplitude = 1., final_freq = None, \n",
        "\t\t\tz0 = 1.)\n",
        "\n",
        "\t##################################################################\n",
        "\n",
        "\tif dataset_obj is None:\n",
        "\t\traise Exception(\"Unknown dataset: {}\".format(dataset_name))\n",
        "\n",
        "\tdataset = dataset_obj.sample_traj(time_steps_extrap, n_samples = args.n, \n",
        "\t\tnoise_weight = args.noise_weight)\n",
        "\n",
        "\t# Process small datasets\n",
        "\tdataset = dataset.to(device)\n",
        "\ttime_steps_extrap = time_steps_extrap.to(device)\n",
        "\n",
        "\ttrain_y, test_y = utils.split_train_test(dataset, train_fraq = 0.8)\n",
        "\n",
        "\tn_samples = len(dataset)\n",
        "\tinput_dim = dataset.size(-1)\n",
        "\n",
        "\tbatch_size = min(args.batch_size, args.n)\n",
        "\ttrain_dataloader = DataLoader(train_y, batch_size = batch_size, shuffle=False,\n",
        "\t\tcollate_fn= lambda batch: basic_collate_fn(batch, time_steps_extrap, data_type = \"train\"))\n",
        "\ttest_dataloader = DataLoader(test_y, batch_size = args.n, shuffle=False,\n",
        "\t\tcollate_fn= lambda batch: basic_collate_fn(batch, time_steps_extrap, data_type = \"test\"))\n",
        "\t\n",
        "\tdata_objects = {#\"dataset_obj\": dataset_obj, \n",
        "\t\t\t\t\"train_dataloader\": utils.inf_generator(train_dataloader), \n",
        "\t\t\t\t\"test_dataloader\": utils.inf_generator(test_dataloader),\n",
        "\t\t\t\t\"input_dim\": input_dim,\n",
        "\t\t\t\t\"n_train_batches\": len(train_dataloader),\n",
        "\t\t\t\t\"n_test_batches\": len(test_dataloader)}\n",
        "\n",
        "\treturn data_objects\n",
        "\n",
        "\n"
      ],
      "execution_count": 9,
      "outputs": []
    },
    {
      "cell_type": "code",
      "metadata": {
        "colab": {
          "base_uri": "https://localhost:8080/"
        },
        "id": "xvdaU1g4hy_s",
        "outputId": "9aefa63c-89b2-42b0-80ed-54c0a7ff6cbd"
      },
      "source": [
        "lag = 5\n",
        "forecast = 5\n",
        "\n",
        "T = lag+forecast\n",
        "print(f\"T is {T}\")\n",
        "D = 10\n",
        "print(f\"D is {D}\")\n",
        "root = 'data'\n",
        "n_training_samples = data.shape[0]\n",
        "training_file = f'cluster_{cluster}.csv'\n",
        "\n",
        "data_obj = parse_datasets(args, device)\n",
        "input_dim = data_obj[\"input_dim\"]\n",
        "print(f\"input_dim is {input_dim}\")\n",
        "\n",
        "classif_per_tp = False\n",
        "if (\"classif_per_tp\" in data_obj):\n",
        "    # do classification per time point rather than on a time series as a whole\n",
        "    classif_per_tp = data_obj[\"classif_per_tp\"]\n",
        "\n",
        "if args.classif and (args.dataset == \"hopper\" or args.dataset == \"periodic\"):\n",
        "    raise Exception(\"Classification task is not available for MuJoCo and 1d datasets\")\n"
      ],
      "execution_count": 10,
      "outputs": [
        {
          "output_type": "stream",
          "name": "stdout",
          "text": [
            "T is 10\n",
            "D is 10\n",
            "input_dim is 10\n"
          ]
        }
      ]
    },
    {
      "cell_type": "markdown",
      "metadata": {
        "id": "vN8eEmH-hy_s"
      },
      "source": [
        "# n_labels, obsrv_std, z0_prior"
      ]
    },
    {
      "cell_type": "code",
      "metadata": {
        "id": "5wMtb7FQhy_s"
      },
      "source": [
        "n_labels = 1\n",
        "if args.classif:\n",
        "    if (\"n_labels\" in data_obj):\n",
        "        n_labels = data_obj[\"n_labels\"]\n",
        "    else:\n",
        "        raise Exception(\"Please provide number of labels for classification task\")\n",
        "\n",
        "##################################################################\n",
        "# Create the model\n",
        "obsrv_std = 0.01\n",
        "if args.dataset == \"stock_lag5_forecast5\":\n",
        "    obsrv_std = 1e-3 \n",
        "\n",
        "obsrv_std = torch.Tensor([obsrv_std]).to(device)\n",
        "\n",
        "z0_prior = Normal(torch.Tensor([0.0]).to(device), torch.Tensor([1.]).to(device))"
      ],
      "execution_count": 11,
      "outputs": []
    },
    {
      "cell_type": "markdown",
      "metadata": {
        "id": "58GzgLWxhy_s"
      },
      "source": [
        "# args.latent_ode"
      ]
    },
    {
      "cell_type": "markdown",
      "metadata": {
        "id": "ExKiCiHthy_s"
      },
      "source": [
        "## encoder_decoder.py"
      ]
    },
    {
      "cell_type": "code",
      "metadata": {
        "id": "1pKHw5pqhy_t"
      },
      "source": [
        "# GRU description: \n",
        "# http://www.wildml.com/2015/10/recurrent-neural-network-tutorial-part-4-implementing-a-grulstm-rnn-with-python-and-theano/\n",
        "class GRU_unit(nn.Module):\n",
        "\tdef __init__(self, latent_dim, input_dim, \n",
        "\t\tupdate_gate = None,\n",
        "\t\treset_gate = None,\n",
        "\t\tnew_state_net = None,\n",
        "\t\tn_units = 100,\n",
        "\t\tdevice = torch.device(\"cpu\")):\n",
        "\t\tsuper(GRU_unit, self).__init__()\n",
        "\n",
        "\t\tif update_gate is None:\n",
        "\t\t\tself.update_gate = nn.Sequential(\n",
        "\t\t\t   nn.Linear(latent_dim * 2 + input_dim, n_units),\n",
        "\t\t\t   nn.Tanh(),\n",
        "\t\t\t   nn.Linear(n_units, latent_dim),\n",
        "\t\t\t   nn.Sigmoid())\n",
        "\t\t\tutils.init_network_weights(self.update_gate)\n",
        "\t\telse: \n",
        "\t\t\tself.update_gate  = update_gate\n",
        "\n",
        "\t\tif reset_gate is None:\n",
        "\t\t\tself.reset_gate = nn.Sequential(\n",
        "\t\t\t   nn.Linear(latent_dim * 2 + input_dim, n_units),\n",
        "\t\t\t   nn.Tanh(),\n",
        "\t\t\t   nn.Linear(n_units, latent_dim),\n",
        "\t\t\t   nn.Sigmoid())\n",
        "\t\t\tutils.init_network_weights(self.reset_gate)\n",
        "\t\telse: \n",
        "\t\t\tself.reset_gate  = reset_gate\n",
        "\n",
        "\t\tif new_state_net is None:\n",
        "\t\t\tself.new_state_net = nn.Sequential(\n",
        "\t\t\t   nn.Linear(latent_dim * 2 + input_dim, n_units),\n",
        "\t\t\t   nn.Tanh(),\n",
        "\t\t\t   nn.Linear(n_units, latent_dim * 2))\n",
        "\t\t\tutils.init_network_weights(self.new_state_net)\n",
        "\t\telse: \n",
        "\t\t\tself.new_state_net  = new_state_net\n",
        "\n",
        "\n",
        "\tdef forward(self, y_mean, y_std, x, masked_update = True):\n",
        "\t\ty_concat = torch.cat([y_mean, y_std, x], -1)\n",
        "\n",
        "\t\tupdate_gate = self.update_gate(y_concat)\n",
        "\t\treset_gate = self.reset_gate(y_concat)\n",
        "\t\tconcat = torch.cat([y_mean * reset_gate, y_std * reset_gate, x], -1)\n",
        "\t\t\n",
        "\t\tnew_state, new_state_std = utils.split_last_dim(self.new_state_net(concat))\n",
        "\t\tnew_state_std = new_state_std.abs()\n",
        "\n",
        "\t\tnew_y = (1-update_gate) * new_state + update_gate * y_mean\n",
        "\t\tnew_y_std = (1-update_gate) * new_state_std + update_gate * y_std\n",
        "\n",
        "\t\tassert(not torch.isnan(new_y).any())\n",
        "\n",
        "\t\tif masked_update:\n",
        "\t\t\t# IMPORTANT: assumes that x contains both data and mask\n",
        "\t\t\t# update only the hidden states for hidden state only if at least one feature is present for the current time point\n",
        "\t\t\tn_data_dims = x.size(-1)//2\n",
        "\t\t\tmask = x[:, :, n_data_dims:]\n",
        "\t\t\tutils.check_mask(x[:, :, :n_data_dims], mask)\n",
        "\t\t\t\n",
        "\t\t\tmask = (torch.sum(mask, -1, keepdim = True) > 0).float()\n",
        "\n",
        "\t\t\tassert(not torch.isnan(mask).any())\n",
        "\n",
        "\t\t\tnew_y = mask * new_y + (1-mask) * y_mean\n",
        "\t\t\tnew_y_std = mask * new_y_std + (1-mask) * y_std\n",
        "\n",
        "\t\t\tif torch.isnan(new_y).any():\n",
        "\t\t\t\tprint(\"new_y is nan!\")\n",
        "\t\t\t\tprint(mask)\n",
        "\t\t\t\tprint(y_mean)\n",
        "\t\t\t\tprint(prev_new_y)\n",
        "\t\t\t\texit()\n",
        "\n",
        "\t\tnew_y_std = new_y_std.abs()\n",
        "\t\treturn new_y, new_y_std\n",
        "\n",
        "\n",
        "\n",
        "class Encoder_z0_RNN(nn.Module):\n",
        "\tdef __init__(self, latent_dim, input_dim, lstm_output_size = 20, \n",
        "\t\tuse_delta_t = True, device = torch.device(\"cpu\")):\n",
        "\t\t\n",
        "\t\tsuper(Encoder_z0_RNN, self).__init__()\n",
        "\t\n",
        "\t\tself.gru_rnn_output_size = lstm_output_size\n",
        "\t\tself.latent_dim = latent_dim\n",
        "\t\tself.input_dim = input_dim\n",
        "\t\tself.device = device\n",
        "\t\tself.use_delta_t = use_delta_t\n",
        "\n",
        "\t\tself.hiddens_to_z0 = nn.Sequential(\n",
        "\t\t   nn.Linear(self.gru_rnn_output_size, 50),\n",
        "\t\t   nn.Tanh(),\n",
        "\t\t   nn.Linear(50, latent_dim * 2),)\n",
        "\n",
        "\t\tutils.init_network_weights(self.hiddens_to_z0)\n",
        "\n",
        "\t\tinput_dim = self.input_dim\n",
        "\n",
        "\t\tif use_delta_t:\n",
        "\t\t\tself.input_dim += 1\n",
        "\t\tself.gru_rnn = GRU(self.input_dim, self.gru_rnn_output_size).to(device)\n",
        "\n",
        "\tdef forward(self, data, time_steps, run_backwards = True):\n",
        "\t\t# IMPORTANT: assumes that 'data' already has mask concatenated to it \n",
        "\n",
        "\t\t# data shape: [n_traj, n_tp, n_dims]\n",
        "\t\t# shape required for rnn: (seq_len, batch, input_size)\n",
        "\t\t# t0: not used here\n",
        "\t\tn_traj = data.size(0)\n",
        "\n",
        "\t\tassert(not torch.isnan(data).any())\n",
        "\t\tassert(not torch.isnan(time_steps).any())\n",
        "\n",
        "\t\tdata = data.permute(1,0,2) \n",
        "\n",
        "\t\tif run_backwards:\n",
        "\t\t\t# Look at data in the reverse order: from later points to the first\n",
        "\t\t\tdata = utils.reverse(data)\n",
        "\n",
        "\t\tif self.use_delta_t:\n",
        "\t\t\tdelta_t = time_steps[1:] - time_steps[:-1]\n",
        "\t\t\tif run_backwards:\n",
        "\t\t\t\t# we are going backwards in time with\n",
        "\t\t\t\tdelta_t = utils.reverse(delta_t)\n",
        "\t\t\t# append zero delta t in the end\n",
        "\t\t\tdelta_t = torch.cat((delta_t, torch.zeros(1).to(self.device)))\n",
        "\t\t\tdelta_t = delta_t.unsqueeze(1).repeat((1,n_traj)).unsqueeze(-1)\n",
        "\t\t\tdata = torch.cat((delta_t, data),-1)\n",
        "\n",
        "\t\toutputs, _ = self.gru_rnn(data)\n",
        "\n",
        "\t\t# LSTM output shape: (seq_len, batch, num_directions * hidden_size)\n",
        "\t\tlast_output = outputs[-1]\n",
        "\n",
        "\t\tself.extra_info ={\"rnn_outputs\": outputs, \"time_points\": time_steps}\n",
        "\n",
        "\t\tmean, std = utils.split_last_dim(self.hiddens_to_z0(last_output))\n",
        "\t\tstd = std.abs()\n",
        "\n",
        "\t\tassert(not torch.isnan(mean).any())\n",
        "\t\tassert(not torch.isnan(std).any())\n",
        "\n",
        "\t\treturn mean.unsqueeze(0), std.unsqueeze(0)\n",
        "\n",
        "\n",
        "\n",
        "\n",
        "\n",
        "class Encoder_z0_ODE_RNN(nn.Module):\n",
        "\t# Derive z0 by running ode backwards.\n",
        "\t# For every y_i we have two versions: encoded from data and derived from ODE by running it backwards from t_i+1 to t_i\n",
        "\t# Compute a weighted sum of y_i from data and y_i from ode. Use weighted y_i as an initial value for ODE runing from t_i to t_i-1\n",
        "\t# Continue until we get to z0\n",
        "\tdef __init__(self, latent_dim, input_dim, z0_diffeq_solver = None, \n",
        "\t\tz0_dim = None, GRU_update = None, \n",
        "\t\tn_gru_units = 100, \n",
        "\t\tdevice = torch.device(\"cpu\")):\n",
        "\t\t\n",
        "\t\tsuper(Encoder_z0_ODE_RNN, self).__init__()\n",
        "\n",
        "\t\tif z0_dim is None:\n",
        "\t\t\tself.z0_dim = latent_dim\n",
        "\t\telse:\n",
        "\t\t\tself.z0_dim = z0_dim\n",
        "\n",
        "\t\tif GRU_update is None:\n",
        "\t\t\tself.GRU_update = GRU_unit(latent_dim, input_dim, \n",
        "\t\t\t\tn_units = n_gru_units, \n",
        "\t\t\t\tdevice=device).to(device)\n",
        "\t\telse:\n",
        "\t\t\tself.GRU_update = GRU_update\n",
        "\n",
        "\t\tself.z0_diffeq_solver = z0_diffeq_solver\n",
        "\t\tself.latent_dim = latent_dim\n",
        "\t\tself.input_dim = input_dim\n",
        "\t\tself.device = device\n",
        "\t\tself.extra_info = None\n",
        "\n",
        "\t\tself.transform_z0 = nn.Sequential(\n",
        "\t\t   nn.Linear(latent_dim * 2, 100),\n",
        "\t\t   nn.Tanh(),\n",
        "\t\t   nn.Linear(100, self.z0_dim * 2),)\n",
        "\t\tutils.init_network_weights(self.transform_z0)\n",
        "\n",
        "\n",
        "\tdef forward(self, data, time_steps, run_backwards = False, save_info = False):\n",
        "\t\t# data, time_steps -- observations and their time stamps\n",
        "\t\t# IMPORTANT: assumes that 'data' already has mask concatenated to it \n",
        "\t\tassert(not torch.isnan(data).any())\n",
        "\t\tassert(not torch.isnan(time_steps).any())\n",
        "\n",
        "\t\tn_traj, n_tp, n_dims = data.size()\n",
        "\t\tif len(time_steps) == 1:\n",
        "\t\t\tprev_y = torch.zeros((1, n_traj, self.latent_dim)).to(self.device)\n",
        "\t\t\tprev_std = torch.zeros((1, n_traj, self.latent_dim)).to(self.device)\n",
        "\n",
        "\t\t\txi = data[:,0,:].unsqueeze(0)\n",
        "\n",
        "\t\t\tlast_yi, last_yi_std = self.GRU_update(prev_y, prev_std, xi)\n",
        "\t\t\textra_info = None\n",
        "\t\telse:\n",
        "\t\t\t\n",
        "\t\t\tlast_yi, last_yi_std, _, extra_info = self.run_odernn(\n",
        "\t\t\t\tdata, time_steps, run_backwards = run_backwards,\n",
        "\t\t\t\tsave_info = save_info)\n",
        "\n",
        "\t\tmeans_z0 = last_yi.reshape(1, n_traj, self.latent_dim)\n",
        "\t\tstd_z0 = last_yi_std.reshape(1, n_traj, self.latent_dim)\n",
        "\n",
        "\t\tmean_z0, std_z0 = utils.split_last_dim( self.transform_z0( torch.cat((means_z0, std_z0), -1)))\n",
        "\t\tstd_z0 = std_z0.abs()\n",
        "\t\tif save_info:\n",
        "\t\t\tself.extra_info = extra_info\n",
        "\n",
        "\t\treturn mean_z0, std_z0\n",
        "\n",
        "\n",
        "\tdef run_odernn(self, data, time_steps, \n",
        "\t\trun_backwards = True, save_info = False):\n",
        "\t\t# IMPORTANT: assumes that 'data' already has mask concatenated to it \n",
        "\n",
        "\t\tn_traj, n_tp, n_dims = data.size()\n",
        "\t\textra_info = []\n",
        "\n",
        "\t\tt0 = time_steps[-1]\n",
        "\t\tif run_backwards:\n",
        "\t\t\tt0 = time_steps[0]\n",
        "\n",
        "\t\tdevice = get_device(data)\n",
        "\n",
        "\t\tprev_y = torch.zeros((1, n_traj, self.latent_dim)).to(device)\n",
        "\t\tprev_std = torch.zeros((1, n_traj, self.latent_dim)).to(device)\n",
        "\n",
        "\t\tprev_t, t_i = time_steps[-1] + 0.01,  time_steps[-1]\n",
        "\n",
        "\t\tinterval_length = time_steps[-1] - time_steps[0]\n",
        "\t\tminimum_step = interval_length / 50\n",
        "\n",
        "\t\t#print(\"minimum step: {}\".format(minimum_step))\n",
        "\n",
        "\t\tassert(not torch.isnan(data).any())\n",
        "\t\tassert(not torch.isnan(time_steps).any())\n",
        "\n",
        "\t\tlatent_ys = []\n",
        "\t\t# Run ODE backwards and combine the y(t) estimates using gating\n",
        "\t\ttime_points_iter = range(0, len(time_steps))\n",
        "\t\tif run_backwards:\n",
        "\t\t\ttime_points_iter = reversed(time_points_iter)\n",
        "\n",
        "\t\tfor i in time_points_iter:\n",
        "\t\t\tif (prev_t - t_i) < minimum_step:\n",
        "\t\t\t\ttime_points = torch.stack((prev_t, t_i))\n",
        "\t\t\t\tinc = self.z0_diffeq_solver.ode_func(prev_t, prev_y) * (t_i - prev_t)\n",
        "\n",
        "\t\t\t\tassert(not torch.isnan(inc).any())\n",
        "\n",
        "\t\t\t\tode_sol = prev_y + inc\n",
        "\t\t\t\tode_sol = torch.stack((prev_y, ode_sol), 2).to(device)\n",
        "\n",
        "\t\t\t\tassert(not torch.isnan(ode_sol).any())\n",
        "\t\t\telse:\n",
        "\t\t\t\tn_intermediate_tp = max(2, ((prev_t - t_i) / minimum_step).int())\n",
        "\n",
        "\t\t\t\ttime_points = utils.linspace_vector(prev_t, t_i, n_intermediate_tp)\n",
        "\t\t\t\tode_sol = self.z0_diffeq_solver(prev_y, time_points)\n",
        "\n",
        "\t\t\t\tassert(not torch.isnan(ode_sol).any())\n",
        "\n",
        "\t\t\tif torch.mean(ode_sol[:, :, 0, :]  - prev_y) >= 0.001:\n",
        "\t\t\t\tprint(\"Error: first point of the ODE is not equal to initial value\")\n",
        "\t\t\t\tprint(torch.mean(ode_sol[:, :, 0, :]  - prev_y))\n",
        "\t\t\t\texit()\n",
        "\t\t\t#assert(torch.mean(ode_sol[:, :, 0, :]  - prev_y) < 0.001)\n",
        "\n",
        "\t\t\tyi_ode = ode_sol[:, :, -1, :]\n",
        "\t\t\txi = data[:,i,:].unsqueeze(0)\n",
        "\t\t\t\n",
        "\t\t\tyi, yi_std = self.GRU_update(yi_ode, prev_std, xi)\n",
        "\n",
        "\t\t\tprev_y, prev_std = yi, yi_std\t\t\t\n",
        "\t\t\tprev_t, t_i = time_steps[i],  time_steps[i-1]\n",
        "\n",
        "\t\t\tlatent_ys.append(yi)\n",
        "\n",
        "\t\t\tif save_info:\n",
        "\t\t\t\td = {\"yi_ode\": yi_ode.detach(), #\"yi_from_data\": yi_from_data,\n",
        "\t\t\t\t\t \"yi\": yi.detach(), \"yi_std\": yi_std.detach(), \n",
        "\t\t\t\t\t \"time_points\": time_points.detach(), \"ode_sol\": ode_sol.detach()}\n",
        "\t\t\t\textra_info.append(d)\n",
        "\n",
        "\t\tlatent_ys = torch.stack(latent_ys, 1)\n",
        "\n",
        "\t\tassert(not torch.isnan(yi).any())\n",
        "\t\tassert(not torch.isnan(yi_std).any())\n",
        "\n",
        "\t\treturn yi, yi_std, latent_ys, extra_info\n",
        "\n",
        "\n",
        "\n",
        "class Decoder(nn.Module):\n",
        "\tdef __init__(self, latent_dim, input_dim):\n",
        "\t\tsuper(Decoder, self).__init__()\n",
        "\t\t# decode data from latent space where we are solving an ODE back to the data space\n",
        "\n",
        "\t\tdecoder = nn.Sequential(\n",
        "\t\t   nn.Linear(latent_dim, input_dim),)\n",
        "\n",
        "\t\tutils.init_network_weights(decoder)\t\n",
        "\t\tself.decoder = decoder\n",
        "\n",
        "\tdef forward(self, data):\n",
        "\t\treturn self.decoder(data)\n",
        "\n",
        "\n"
      ],
      "execution_count": 12,
      "outputs": []
    },
    {
      "cell_type": "markdown",
      "metadata": {
        "id": "5MtrsGDjhy_t"
      },
      "source": [
        "## likelihood_eval.py"
      ]
    },
    {
      "cell_type": "code",
      "metadata": {
        "id": "YPhI4WBuhy_u"
      },
      "source": [
        "def gaussian_log_likelihood(mu_2d, data_2d, obsrv_std, indices = None):\n",
        "\tn_data_points = mu_2d.size()[-1]\n",
        "\n",
        "\tif n_data_points > 0:\n",
        "\t\tgaussian = Independent(Normal(loc = mu_2d, scale = obsrv_std.repeat(n_data_points)), 1)\n",
        "\t\tlog_prob = gaussian.log_prob(data_2d) \n",
        "\t\tlog_prob = log_prob / n_data_points \n",
        "\telse:\n",
        "\t\tlog_prob = torch.zeros([1]).to(get_device(data_2d)).squeeze()\n",
        "\treturn log_prob\n",
        "\n",
        "\n",
        "def poisson_log_likelihood(masked_log_lambdas, masked_data, indices, int_lambdas):\n",
        "\t# masked_log_lambdas and masked_data \n",
        "\tn_data_points = masked_data.size()[-1]\n",
        "\n",
        "\tif n_data_points > 0:\n",
        "\t\tlog_prob = torch.sum(masked_log_lambdas) - int_lambdas[indices]\n",
        "\t\t#log_prob = log_prob / n_data_points\n",
        "\telse:\n",
        "\t\tlog_prob = torch.zeros([1]).to(get_device(masked_data)).squeeze()\n",
        "\treturn log_prob\n",
        "\n",
        "\n",
        "\n",
        "def compute_binary_CE_loss(label_predictions, mortality_label):\n",
        "\t#print(\"Computing binary classification loss: compute_CE_loss\")\n",
        "\n",
        "\tmortality_label = mortality_label.reshape(-1)\n",
        "\n",
        "\tif len(label_predictions.size()) == 1:\n",
        "\t\tlabel_predictions = label_predictions.unsqueeze(0)\n",
        " \n",
        "\tn_traj_samples = label_predictions.size(0)\n",
        "\tlabel_predictions = label_predictions.reshape(n_traj_samples, -1)\n",
        "\t\n",
        "\tidx_not_nan = ~torch.isnan(mortality_label)\n",
        "\tif len(idx_not_nan) == 0.:\n",
        "\t\tprint(\"All are labels are NaNs!\")\n",
        "\t\tce_loss = torch.Tensor(0.).to(get_device(mortality_label))\n",
        "\n",
        "\tlabel_predictions = label_predictions[:,idx_not_nan]\n",
        "\tmortality_label = mortality_label[idx_not_nan]\n",
        "\n",
        "\tif torch.sum(mortality_label == 0.) == 0 or torch.sum(mortality_label == 1.) == 0:\n",
        "\t\tprint(\"Warning: all examples in a batch belong to the same class -- please increase the batch size.\")\n",
        "\n",
        "\tassert(not torch.isnan(label_predictions).any())\n",
        "\tassert(not torch.isnan(mortality_label).any())\n",
        "\n",
        "\t# For each trajectory, we get n_traj_samples samples from z0 -- compute loss on all of them\n",
        "\tmortality_label = mortality_label.repeat(n_traj_samples, 1)\n",
        "\tce_loss = nn.BCEWithLogitsLoss()(label_predictions, mortality_label)\n",
        "\n",
        "\t# divide by number of patients in a batch\n",
        "\tce_loss = ce_loss / n_traj_samples\n",
        "\treturn ce_loss\n",
        "\n",
        "\n",
        "def compute_multiclass_CE_loss(label_predictions, true_label, mask):\n",
        "\t#print(\"Computing multi-class classification loss: compute_multiclass_CE_loss\")\n",
        "\n",
        "\tif (len(label_predictions.size()) == 3):\n",
        "\t\tlabel_predictions = label_predictions.unsqueeze(0)\n",
        "\n",
        "\tn_traj_samples, n_traj, n_tp, n_dims = label_predictions.size()\n",
        "\n",
        "\t# assert(not torch.isnan(label_predictions).any())\n",
        "\t# assert(not torch.isnan(true_label).any())\n",
        "\n",
        "\t# For each trajectory, we get n_traj_samples samples from z0 -- compute loss on all of them\n",
        "\ttrue_label = true_label.repeat(n_traj_samples, 1, 1)\n",
        "\n",
        "\tlabel_predictions = label_predictions.reshape(n_traj_samples * n_traj * n_tp, n_dims)\n",
        "\ttrue_label = true_label.reshape(n_traj_samples * n_traj * n_tp, n_dims)\n",
        "\n",
        "\t# choose time points with at least one measurement\n",
        "\tmask = torch.sum(mask, -1) > 0\n",
        "\n",
        "\t# repeat the mask for each label to mark that the label for this time point is present\n",
        "\tpred_mask = mask.repeat(n_dims, 1,1).permute(1,2,0)\n",
        "\n",
        "\tlabel_mask = mask\n",
        "\tpred_mask = pred_mask.repeat(n_traj_samples,1,1,1)\n",
        "\tlabel_mask = label_mask.repeat(n_traj_samples,1,1,1)\n",
        "\n",
        "\tpred_mask = pred_mask.reshape(n_traj_samples * n_traj * n_tp,  n_dims)\n",
        "\tlabel_mask = label_mask.reshape(n_traj_samples * n_traj * n_tp, 1)\n",
        "\n",
        "\tif (label_predictions.size(-1) > 1) and (true_label.size(-1) > 1):\n",
        "\t\tassert(label_predictions.size(-1) == true_label.size(-1))\n",
        "\t\t# targets are in one-hot encoding -- convert to indices\n",
        "\t\t_, true_label = true_label.max(-1)\n",
        "\n",
        "\tres = []\n",
        "\tfor i in range(true_label.size(0)):\n",
        "\t\tpred_masked = torch.masked_select(label_predictions[i], pred_mask[i].bool())\n",
        "\t\tlabels = torch.masked_select(true_label[i], label_mask[i].bool())\n",
        "\t\n",
        "\t\tpred_masked = pred_masked.reshape(-1, n_dims)\n",
        "\n",
        "\t\tif (len(labels) == 0):\n",
        "\t\t\tcontinue\n",
        "\n",
        "\t\tce_loss = nn.CrossEntropyLoss()(pred_masked, labels.long())\n",
        "\t\tres.append(ce_loss)\n",
        "\n",
        "\tce_loss = torch.stack(res, 0).to(get_device(label_predictions))\n",
        "\tce_loss = torch.mean(ce_loss)\n",
        "\t# # divide by number of patients in a batch\n",
        "\t# ce_loss = ce_loss / n_traj_samples\n",
        "\treturn ce_loss\n",
        "\n",
        "\n",
        "\n",
        "\n",
        "def compute_masked_likelihood(mu, data, mask, likelihood_func):\n",
        "\t# Compute the likelihood per patient and per attribute so that we don't priorize patients with more measurements\n",
        "\tn_traj_samples, n_traj, n_timepoints, n_dims = data.size()\n",
        "\n",
        "\tres = []\n",
        "\tfor i in range(n_traj_samples):\n",
        "\t\tfor k in range(n_traj):\n",
        "\t\t\tfor j in range(n_dims):\n",
        "\t\t\t\tdata_masked = torch.masked_select(data[i,k,:,j], mask[i,k,:,j].bool())\n",
        "\t\t\t\t\n",
        "\t\t\t\t#assert(torch.sum(data_masked == 0.) < 10)\n",
        "\n",
        "\t\t\t\tmu_masked = torch.masked_select(mu[i,k,:,j], mask[i,k,:,j].bool())\n",
        "\t\t\t\tlog_prob = likelihood_func(mu_masked, data_masked, indices = (i,k,j))\n",
        "\t\t\t\tres.append(log_prob)\n",
        "\t# shape: [n_traj*n_traj_samples, 1]\n",
        "\n",
        "\tres = torch.stack(res, 0).to(get_device(data))\n",
        "\tres = res.reshape((n_traj_samples, n_traj, n_dims))\n",
        "\t# Take mean over the number of dimensions\n",
        "\tres = torch.mean(res, -1) # !!!!!!!!!!! changed from sum to mean\n",
        "\tres = res.transpose(0,1)\n",
        "\treturn res\n",
        "\n",
        "\n",
        "def masked_gaussian_log_density(mu, data, obsrv_std, mask = None):\n",
        "\t# these cases are for plotting through plot_estim_density\n",
        "\tif (len(mu.size()) == 3):\n",
        "\t\t# add additional dimension for gp samples\n",
        "\t\tmu = mu.unsqueeze(0)\n",
        "\n",
        "\tif (len(data.size()) == 2):\n",
        "\t\t# add additional dimension for gp samples and time step\n",
        "\t\tdata = data.unsqueeze(0).unsqueeze(2)\n",
        "\telif (len(data.size()) == 3):\n",
        "\t\t# add additional dimension for gp samples\n",
        "\t\tdata = data.unsqueeze(0)\n",
        "\n",
        "\tn_traj_samples, n_traj, n_timepoints, n_dims = mu.size()\n",
        "\n",
        "\tassert(data.size()[-1] == n_dims)\n",
        "\n",
        "\t# Shape after permutation: [n_traj, n_traj_samples, n_timepoints, n_dims]\n",
        "\tif mask is None:\n",
        "\t\tmu_flat = mu.reshape(n_traj_samples*n_traj, n_timepoints * n_dims)\n",
        "\t\tn_traj_samples, n_traj, n_timepoints, n_dims = data.size()\n",
        "\t\tdata_flat = data.reshape(n_traj_samples*n_traj, n_timepoints * n_dims)\n",
        "\t\n",
        "\t\tres = gaussian_log_likelihood(mu_flat, data_flat, obsrv_std)\n",
        "\t\tres = res.reshape(n_traj_samples, n_traj).transpose(0,1)\n",
        "\telse:\n",
        "\t\t# Compute the likelihood per patient so that we don't priorize patients with more measurements\n",
        "\t\tfunc = lambda mu, data, indices: gaussian_log_likelihood(mu, data, obsrv_std = obsrv_std, indices = indices)\n",
        "\t\tres = compute_masked_likelihood(mu, data, mask, func)\n",
        "\treturn res\n",
        "\n",
        "\n",
        "\n",
        "def mse(mu, data, indices = None):\n",
        "\tn_data_points = mu.size()[-1]\n",
        "\n",
        "\tif n_data_points > 0:\n",
        "\t\tmse = nn.MSELoss()(mu, data)\n",
        "\telse:\n",
        "\t\tmse = torch.zeros([1]).to(get_device(data)).squeeze()\n",
        "\treturn mse\n",
        "\n",
        "\n",
        "def compute_mse(mu, data, mask = None):\n",
        "\t# these cases are for plotting through plot_estim_density\n",
        "\tif (len(mu.size()) == 3):\n",
        "\t\t# add additional dimension for gp samples\n",
        "\t\tmu = mu.unsqueeze(0)\n",
        "\n",
        "\tif (len(data.size()) == 2):\n",
        "\t\t# add additional dimension for gp samples and time step\n",
        "\t\tdata = data.unsqueeze(0).unsqueeze(2)\n",
        "\telif (len(data.size()) == 3):\n",
        "\t\t# add additional dimension for gp samples\n",
        "\t\tdata = data.unsqueeze(0)\n",
        "\n",
        "\tn_traj_samples, n_traj, n_timepoints, n_dims = mu.size()\n",
        "\tassert(data.size()[-1] == n_dims)\n",
        "\n",
        "\t# Shape after permutation: [n_traj, n_traj_samples, n_timepoints, n_dims]\n",
        "\tif mask is None:\n",
        "\t\tmu_flat = mu.reshape(n_traj_samples*n_traj, n_timepoints * n_dims)\n",
        "\t\tn_traj_samples, n_traj, n_timepoints, n_dims = data.size()\n",
        "\t\tdata_flat = data.reshape(n_traj_samples*n_traj, n_timepoints * n_dims)\n",
        "\t\tres = mse(mu_flat, data_flat)\n",
        "\telse:\n",
        "\t\t# Compute the likelihood per patient so that we don't priorize patients with more measurements\n",
        "\t\tres = compute_masked_likelihood(mu, data, mask, mse)\n",
        "\treturn res\n",
        "\n",
        "\n",
        "\n",
        "\n",
        "def compute_poisson_proc_likelihood(truth, pred_y, info, mask = None):\n",
        "\t# Compute Poisson likelihood\n",
        "\t# https://math.stackexchange.com/questions/344487/log-likelihood-of-a-realization-of-a-poisson-process\n",
        "\t# Sum log lambdas across all time points\n",
        "\tif mask is None:\n",
        "\t\tpoisson_log_l = torch.sum(info[\"log_lambda_y\"], 2) - info[\"int_lambda\"]\n",
        "\t\t# Sum over data dims\n",
        "\t\tpoisson_log_l = torch.mean(poisson_log_l, -1)\n",
        "\telse:\n",
        "\t\t# Compute likelihood of the data under the predictions\n",
        "\t\ttruth_repeated = truth.repeat(pred_y.size(0), 1, 1, 1)\n",
        "\t\tmask_repeated = mask.repeat(pred_y.size(0), 1, 1, 1)\n",
        "\n",
        "\t\t# Compute the likelihood per patient and per attribute so that we don't priorize patients with more measurements\n",
        "\t\tint_lambda = info[\"int_lambda\"]\n",
        "\t\tf = lambda log_lam, data, indices: poisson_log_likelihood(log_lam, data, indices, int_lambda)\n",
        "\t\tpoisson_log_l = compute_masked_likelihood(info[\"log_lambda_y\"], truth_repeated, mask_repeated, f)\n",
        "\t\tpoisson_log_l = poisson_log_l.permute(1,0)\n",
        "\t\t# Take mean over n_traj\n",
        "\t\t#poisson_log_l = torch.mean(poisson_log_l, 1)\n",
        "\t\t\n",
        "\t# poisson_log_l shape: [n_traj_samples, n_traj]\n",
        "\treturn poisson_log_l\n",
        "\n",
        "\t\n",
        "\n"
      ],
      "execution_count": 13,
      "outputs": []
    },
    {
      "cell_type": "markdown",
      "metadata": {
        "id": "O4dZh3AMhy_v"
      },
      "source": [
        "## base_models.py"
      ]
    },
    {
      "cell_type": "code",
      "metadata": {
        "id": "AX5bWiLXhy_v"
      },
      "source": [
        "###########################\n",
        "# Latent ODEs for Irregularly-Sampled Time Series\n",
        "# Author: Yulia Rubanova\n",
        "###########################\n",
        "\n",
        "\n",
        "def create_classifier(z0_dim, n_labels):\n",
        "\treturn nn.Sequential(\n",
        "\t\t\tnn.Linear(z0_dim, 300),\n",
        "\t\t\tnn.ReLU(),\n",
        "\t\t\tnn.Linear(300, 300),\n",
        "\t\t\tnn.ReLU(),\n",
        "\t\t\tnn.Linear(300, n_labels),)\n",
        "\n",
        "\n",
        "class Baseline(nn.Module):\n",
        "\tdef __init__(self, input_dim, latent_dim, device, \n",
        "\t\tobsrv_std = 0.01, use_binary_classif = False,\n",
        "\t\tclassif_per_tp = False,\n",
        "\t\tuse_poisson_proc = False,\n",
        "\t\tlinear_classifier = False,\n",
        "\t\tn_labels = 1,\n",
        "\t\ttrain_classif_w_reconstr = False):\n",
        "\t\tsuper(Baseline, self).__init__()\n",
        "\n",
        "\t\tself.input_dim = input_dim\n",
        "\t\tself.latent_dim = latent_dim\n",
        "\t\tself.n_labels = n_labels\n",
        "\n",
        "\t\tself.obsrv_std = torch.Tensor([obsrv_std]).to(device)\n",
        "\t\tself.device = device\n",
        "\n",
        "\t\tself.use_binary_classif = use_binary_classif\n",
        "\t\tself.classif_per_tp = classif_per_tp\n",
        "\t\tself.use_poisson_proc = use_poisson_proc\n",
        "\t\tself.linear_classifier = linear_classifier\n",
        "\t\tself.train_classif_w_reconstr = train_classif_w_reconstr\n",
        "\n",
        "\t\tz0_dim = latent_dim\n",
        "\t\tif use_poisson_proc:\n",
        "\t\t\tz0_dim += latent_dim\n",
        "\n",
        "\t\tif use_binary_classif: \n",
        "\t\t\tif linear_classifier:\n",
        "\t\t\t\tself.classifier = nn.Sequential(\n",
        "\t\t\t\t\tnn.Linear(z0_dim, n_labels))\n",
        "\t\t\telse:\n",
        "\t\t\t\tself.classifier = create_classifier(z0_dim, n_labels)\n",
        "\t\t\tutils.init_network_weights(self.classifier)\n",
        "\n",
        "\n",
        "\tdef get_gaussian_likelihood(self, truth, pred_y, mask = None):\n",
        "\t\t# pred_y shape [n_traj_samples, n_traj, n_tp, n_dim]\n",
        "\t\t# truth shape  [n_traj, n_tp, n_dim]\n",
        "\t\tif mask is not None:\n",
        "\t\t\tmask = mask.repeat(pred_y.size(0), 1, 1, 1)\n",
        "\n",
        "\t\t# Compute likelihood of the data under the predictions\n",
        "\t\tlog_density_data = masked_gaussian_log_density(pred_y, truth, \n",
        "\t\t\tobsrv_std = self.obsrv_std, mask = mask)\n",
        "\t\tlog_density_data = log_density_data.permute(1,0)\n",
        "\n",
        "\t\t# Compute the total density\n",
        "\t\t# Take mean over n_traj_samples\n",
        "\t\tlog_density = torch.mean(log_density_data, 0)\n",
        "\n",
        "\t\t# shape: [n_traj]\n",
        "\t\treturn log_density\n",
        "\n",
        "\n",
        "\tdef get_mse(self, truth, pred_y, mask = None):\n",
        "\t\t# pred_y shape [n_traj_samples, n_traj, n_tp, n_dim]\n",
        "\t\t# truth shape  [n_traj, n_tp, n_dim]\n",
        "\t\tif mask is not None:\n",
        "\t\t\tmask = mask.repeat(pred_y.size(0), 1, 1, 1)\n",
        "\n",
        "\t\t# Compute likelihood of the data under the predictions\n",
        "\t\tlog_density_data = compute_mse(pred_y, truth, mask = mask)\n",
        "\t\t# shape: [1]\n",
        "\t\treturn torch.mean(log_density_data)\n",
        "\n",
        "\n",
        "\tdef compute_all_losses(self, batch_dict,\n",
        "\t\tn_tp_to_sample = None, n_traj_samples = 1, kl_coef = 1.):\n",
        "\n",
        "\t\t# Condition on subsampled points\n",
        "\t\t# Make predictions for all the points\n",
        "\t\tpred_x, info = self.get_reconstruction(batch_dict[\"tp_to_predict\"], \n",
        "\t\t\tbatch_dict[\"observed_data\"], batch_dict[\"observed_tp\"], \n",
        "\t\t\tmask = batch_dict[\"observed_mask\"], n_traj_samples = n_traj_samples,\n",
        "\t\t\tmode = batch_dict[\"mode\"])\n",
        "\n",
        "\t\t# Compute likelihood of all the points\n",
        "\t\tlikelihood = self.get_gaussian_likelihood(batch_dict[\"data_to_predict\"], pred_x,\n",
        "\t\t\tmask = batch_dict[\"mask_predicted_data\"])\n",
        "\n",
        "\t\tmse = self.get_mse(batch_dict[\"data_to_predict\"], pred_x,\n",
        "\t\t\tmask = batch_dict[\"mask_predicted_data\"])\n",
        "\n",
        "\t\t################################\n",
        "\t\t# Compute CE loss for binary classification on Physionet\n",
        "\t\t# Use only last attribute -- mortatility in the hospital \n",
        "\t\tdevice = get_device(batch_dict[\"data_to_predict\"])\n",
        "\t\tce_loss = torch.Tensor([0.]).to(device)\n",
        "\t\t\n",
        "\t\tif (batch_dict[\"labels\"] is not None) and self.use_binary_classif:\n",
        "\t\t\tif (batch_dict[\"labels\"].size(-1) == 1) or (len(batch_dict[\"labels\"].size()) == 1):\n",
        "\t\t\t\tce_loss = compute_binary_CE_loss(\n",
        "\t\t\t\t\tinfo[\"label_predictions\"], \n",
        "\t\t\t\t\tbatch_dict[\"labels\"])\n",
        "\t\t\telse:\n",
        "\t\t\t\tce_loss = compute_multiclass_CE_loss(\n",
        "\t\t\t\t\tinfo[\"label_predictions\"], \n",
        "\t\t\t\t\tbatch_dict[\"labels\"],\n",
        "\t\t\t\t\tmask = batch_dict[\"mask_predicted_data\"])\n",
        "\n",
        "\t\t\tif torch.isnan(ce_loss):\n",
        "\t\t\t\tprint(\"label pred\")\n",
        "\t\t\t\tprint(info[\"label_predictions\"])\n",
        "\t\t\t\tprint(\"labels\")\n",
        "\t\t\t\tprint( batch_dict[\"labels\"])\n",
        "\t\t\t\traise Exception(\"CE loss is Nan!\")\n",
        "\n",
        "\t\tpois_log_likelihood = torch.Tensor([0.]).to(get_device(batch_dict[\"data_to_predict\"]))\n",
        "\t\tif self.use_poisson_proc:\n",
        "\t\t\tpois_log_likelihood = compute_poisson_proc_likelihood(\n",
        "\t\t\t\tbatch_dict[\"data_to_predict\"], pred_x, \n",
        "\t\t\t\tinfo, mask = batch_dict[\"mask_predicted_data\"])\n",
        "\t\t\t# Take mean over n_traj\n",
        "\t\t\tpois_log_likelihood = torch.mean(pois_log_likelihood, 1)\n",
        "\n",
        "\t\tloss = - torch.mean(likelihood)\n",
        "\n",
        "\t\tif self.use_poisson_proc:\n",
        "\t\t\tloss = loss - 0.1 * pois_log_likelihood \n",
        "\n",
        "\t\tif self.use_binary_classif:\n",
        "\t\t\tif self.train_classif_w_reconstr:\n",
        "\t\t\t\tloss = loss +  ce_loss * 100\n",
        "\t\t\telse:\n",
        "\t\t\t\tloss =  ce_loss\n",
        "\n",
        "\t\t# Take mean over the number of samples in a batch\n",
        "\t\tresults = {}\n",
        "\t\tresults[\"loss\"] = torch.mean(loss)\n",
        "\t\tresults[\"likelihood\"] = torch.mean(likelihood).detach()\n",
        "\t\tresults[\"mse\"] = torch.mean(mse).detach()\n",
        "\t\tresults[\"pois_likelihood\"] = torch.mean(pois_log_likelihood).detach()\n",
        "\t\tresults[\"ce_loss\"] = torch.mean(ce_loss).detach()\n",
        "\t\tresults[\"kl\"] = 0.\n",
        "\t\tresults[\"kl_first_p\"] =  0.\n",
        "\t\tresults[\"std_first_p\"] = 0.\n",
        "\n",
        "\t\tif batch_dict[\"labels\"] is not None and self.use_binary_classif:\n",
        "\t\t\tresults[\"label_predictions\"] = info[\"label_predictions\"].detach()\n",
        "\t\treturn results\n",
        "\n",
        "\n",
        "\n",
        "class VAE_Baseline(nn.Module):\n",
        "\tdef __init__(self, input_dim, latent_dim, \n",
        "\t\tz0_prior, device,\n",
        "\t\tobsrv_std = 0.01, \n",
        "\t\tuse_binary_classif = False,\n",
        "\t\tclassif_per_tp = False,\n",
        "\t\tuse_poisson_proc = False,\n",
        "\t\tlinear_classifier = False,\n",
        "\t\tn_labels = 1,\n",
        "\t\ttrain_classif_w_reconstr = False):\n",
        "\n",
        "\t\tsuper(VAE_Baseline, self).__init__()\n",
        "\t\t\n",
        "\t\tself.input_dim = input_dim\n",
        "\t\tself.latent_dim = latent_dim\n",
        "\t\tself.device = device\n",
        "\t\tself.n_labels = n_labels\n",
        "\n",
        "\t\tself.obsrv_std = torch.Tensor([obsrv_std]).to(device)\n",
        "\n",
        "\t\tself.z0_prior = z0_prior\n",
        "\t\tself.use_binary_classif = use_binary_classif\n",
        "\t\tself.classif_per_tp = classif_per_tp\n",
        "\t\tself.use_poisson_proc = use_poisson_proc\n",
        "\t\tself.linear_classifier = linear_classifier\n",
        "\t\tself.train_classif_w_reconstr = train_classif_w_reconstr\n",
        "\n",
        "\t\tz0_dim = latent_dim\n",
        "\t\tif use_poisson_proc:\n",
        "\t\t\tz0_dim += latent_dim\n",
        "\n",
        "\t\tif use_binary_classif: \n",
        "\t\t\tif linear_classifier:\n",
        "\t\t\t\tself.classifier = nn.Sequential(\n",
        "\t\t\t\t\tnn.Linear(z0_dim, n_labels))\n",
        "\t\t\telse:\n",
        "\t\t\t\tself.classifier = create_classifier(z0_dim, n_labels)\n",
        "\t\t\tutils.init_network_weights(self.classifier)\n",
        "\n",
        "\n",
        "\tdef get_gaussian_likelihood(self, truth, pred_y, mask = None):\n",
        "\t\t# pred_y shape [n_traj_samples, n_traj, n_tp, n_dim]\n",
        "\t\t# truth shape  [n_traj, n_tp, n_dim]\n",
        "\t\tn_traj, n_tp, n_dim = truth.size()\n",
        "\n",
        "\t\t# Compute likelihood of the data under the predictions\n",
        "\t\ttruth_repeated = truth.repeat(pred_y.size(0), 1, 1, 1)\n",
        "\t\t\n",
        "\t\tif mask is not None:\n",
        "\t\t\tmask = mask.repeat(pred_y.size(0), 1, 1, 1)\n",
        "\t\tlog_density_data = masked_gaussian_log_density(pred_y, truth_repeated, \n",
        "\t\t\tobsrv_std = self.obsrv_std, mask = mask)\n",
        "\t\tlog_density_data = log_density_data.permute(1,0)\n",
        "\t\tlog_density = torch.mean(log_density_data, 1)\n",
        "\n",
        "\t\t# shape: [n_traj_samples]\n",
        "\t\treturn log_density\n",
        "\n",
        "\n",
        "\tdef get_mse(self, truth, pred_y, mask = None):\n",
        "\t\t# pred_y shape [n_traj_samples, n_traj, n_tp, n_dim]\n",
        "\t\t# truth shape  [n_traj, n_tp, n_dim]\n",
        "\t\tn_traj, n_tp, n_dim = truth.size()\n",
        "\n",
        "\t\t# Compute likelihood of the data under the predictions\n",
        "\t\ttruth_repeated = truth.repeat(pred_y.size(0), 1, 1, 1)\n",
        "\t\t\n",
        "\t\tif mask is not None:\n",
        "\t\t\tmask = mask.repeat(pred_y.size(0), 1, 1, 1)\n",
        "\n",
        "\t\t# Compute likelihood of the data under the predictions\n",
        "\t\tlog_density_data = compute_mse(pred_y, truth_repeated, mask = mask)\n",
        "\t\t# shape: [1]\n",
        "\t\treturn torch.mean(log_density_data)\n",
        "\n",
        "\n",
        "\tdef compute_all_losses(self, batch_dict, n_traj_samples = 1, kl_coef = 1.):\n",
        "\t\t# Condition on subsampled points\n",
        "\t\t# Make predictions for all the points\n",
        "\t\tpred_y, info = self.get_reconstruction(batch_dict[\"tp_to_predict\"], \n",
        "\t\t\tbatch_dict[\"observed_data\"], batch_dict[\"observed_tp\"], \n",
        "\t\t\tmask = batch_dict[\"observed_mask\"], n_traj_samples = n_traj_samples,\n",
        "\t\t\tmode = batch_dict[\"mode\"])\n",
        "\n",
        "\t\t#print(\"get_reconstruction done -- computing likelihood\")\n",
        "\t\tfp_mu, fp_std, fp_enc = info[\"first_point\"]\n",
        "\t\tfp_std = fp_std.abs()\n",
        "\t\tfp_distr = Normal(fp_mu, fp_std)\n",
        "\n",
        "\t\tassert(torch.sum(fp_std < 0) == 0.)\n",
        "\n",
        "\t\tkldiv_z0 = kl_divergence(fp_distr, self.z0_prior)\n",
        "\n",
        "\t\tif torch.isnan(kldiv_z0).any():\n",
        "\t\t\tprint(fp_mu)\n",
        "\t\t\tprint(fp_std)\n",
        "\t\t\traise Exception(\"kldiv_z0 is Nan!\")\n",
        "\n",
        "\t\t# Mean over number of latent dimensions\n",
        "\t\t# kldiv_z0 shape: [n_traj_samples, n_traj, n_latent_dims] if prior is a mixture of gaussians (KL is estimated)\n",
        "\t\t# kldiv_z0 shape: [1, n_traj, n_latent_dims] if prior is a standard gaussian (KL is computed exactly)\n",
        "\t\t# shape after: [n_traj_samples]\n",
        "\t\tkldiv_z0 = torch.mean(kldiv_z0,(1,2))\n",
        "\n",
        "\t\t# Compute likelihood of all the points\n",
        "\t\trec_likelihood = self.get_gaussian_likelihood(\n",
        "\t\t\tbatch_dict[\"data_to_predict\"], pred_y,\n",
        "\t\t\tmask = batch_dict[\"mask_predicted_data\"])\n",
        "\n",
        "\t\tmse = self.get_mse(\n",
        "\t\t\tbatch_dict[\"data_to_predict\"], pred_y,\n",
        "\t\t\tmask = batch_dict[\"mask_predicted_data\"])\n",
        "\n",
        "\t\tpois_log_likelihood = torch.Tensor([0.]).to(get_device(batch_dict[\"data_to_predict\"]))\n",
        "\t\tif self.use_poisson_proc:\n",
        "\t\t\tpois_log_likelihood = compute_poisson_proc_likelihood(\n",
        "\t\t\t\tbatch_dict[\"data_to_predict\"], pred_y, \n",
        "\t\t\t\tinfo, mask = batch_dict[\"mask_predicted_data\"])\n",
        "\t\t\t# Take mean over n_traj\n",
        "\t\t\tpois_log_likelihood = torch.mean(pois_log_likelihood, 1)\n",
        "\n",
        "\t\t################################\n",
        "\t\t# Compute CE loss for binary classification on Physionet\n",
        "\t\tdevice = get_device(batch_dict[\"data_to_predict\"])\n",
        "\t\tce_loss = torch.Tensor([0.]).to(device)\n",
        "\t\tif (batch_dict[\"labels\"] is not None) and self.use_binary_classif:\n",
        "\n",
        "\t\t\tif (batch_dict[\"labels\"].size(-1) == 1) or (len(batch_dict[\"labels\"].size()) == 1):\n",
        "\t\t\t\tce_loss = compute_binary_CE_loss(\n",
        "\t\t\t\t\tinfo[\"label_predictions\"], \n",
        "\t\t\t\t\tbatch_dict[\"labels\"])\n",
        "\t\t\telse:\n",
        "\t\t\t\tce_loss = compute_multiclass_CE_loss(\n",
        "\t\t\t\t\tinfo[\"label_predictions\"], \n",
        "\t\t\t\t\tbatch_dict[\"labels\"],\n",
        "\t\t\t\t\tmask = batch_dict[\"mask_predicted_data\"])\n",
        "\n",
        "\t\t# IWAE loss\n",
        "\t\tloss = - torch.logsumexp(rec_likelihood -  kl_coef * kldiv_z0,0)\n",
        "\t\tif torch.isnan(loss):\n",
        "\t\t\tloss = - torch.mean(rec_likelihood - kl_coef * kldiv_z0,0)\n",
        "\t\t\t\n",
        "\t\tif self.use_poisson_proc:\n",
        "\t\t\tloss = loss - 0.1 * pois_log_likelihood \n",
        "\n",
        "\t\tif self.use_binary_classif:\n",
        "\t\t\tif self.train_classif_w_reconstr:\n",
        "\t\t\t\tloss = loss +  ce_loss * 100\n",
        "\t\t\telse:\n",
        "\t\t\t\tloss =  ce_loss\n",
        "\n",
        "\t\tresults = {}\n",
        "\t\tresults['pred_y'] = pred_y\n",
        "\t\tresults['true_y'] = batch_dict[\"data_to_predict\"]\n",
        "\t\tresults[\"loss\"] = torch.mean(loss)\n",
        "\t\tresults[\"likelihood\"] = torch.mean(rec_likelihood).detach()\n",
        "\t\tresults[\"mse\"] = torch.mean(mse).detach()\n",
        "\t\tresults[\"pois_likelihood\"] = torch.mean(pois_log_likelihood).detach()\n",
        "\t\tresults[\"ce_loss\"] = torch.mean(ce_loss).detach()\n",
        "\t\tresults[\"kl_first_p\"] =  torch.mean(kldiv_z0).detach()\n",
        "\t\tresults[\"std_first_p\"] = torch.mean(fp_std).detach()\n",
        "\n",
        "\t\tif batch_dict[\"labels\"] is not None and self.use_binary_classif:\n",
        "\t\t\tresults[\"label_predictions\"] = info[\"label_predictions\"].detach()\n",
        "\n",
        "\t\treturn results\n",
        "\n",
        "\n",
        "\n"
      ],
      "execution_count": 14,
      "outputs": []
    },
    {
      "cell_type": "markdown",
      "metadata": {
        "id": "Ppm_XPFfhy_w"
      },
      "source": [
        "## ode_run.py"
      ]
    },
    {
      "cell_type": "code",
      "metadata": {
        "id": "BBD0-pmThy_w"
      },
      "source": [
        "class ODE_RNN(Baseline):\n",
        "\tdef __init__(self, input_dim, latent_dim, device = torch.device(\"cpu\"),\n",
        "\t\tz0_diffeq_solver = None, n_gru_units = 100,  n_units = 100,\n",
        "\t\tconcat_mask = False, obsrv_std = 0.1, use_binary_classif = False,\n",
        "\t\tclassif_per_tp = False, n_labels = 1, train_classif_w_reconstr = False):\n",
        "\n",
        "\t\tBaseline.__init__(self, input_dim, latent_dim, device = device, \n",
        "\t\t\tobsrv_std = obsrv_std, use_binary_classif = use_binary_classif,\n",
        "\t\t\tclassif_per_tp = classif_per_tp,\n",
        "\t\t\tn_labels = n_labels,\n",
        "\t\t\ttrain_classif_w_reconstr = train_classif_w_reconstr)\n",
        "\n",
        "\t\tode_rnn_encoder_dim = latent_dim\n",
        "\t\n",
        "\t\tself.ode_gru = Encoder_z0_ODE_RNN( \n",
        "\t\t\tlatent_dim = ode_rnn_encoder_dim, \n",
        "\t\t\tinput_dim = (input_dim) * 2, # input and the mask\n",
        "\t\t\tz0_diffeq_solver = z0_diffeq_solver, \n",
        "\t\t\tn_gru_units = n_gru_units, \n",
        "\t\t\tdevice = device).to(device)\n",
        "\n",
        "\t\tself.z0_diffeq_solver = z0_diffeq_solver\n",
        "\n",
        "\t\tself.decoder = nn.Sequential(\n",
        "\t\t\tnn.Linear(latent_dim, n_units),\n",
        "\t\t\tnn.Tanh(),\n",
        "\t\t\tnn.Linear(n_units, input_dim),)\n",
        "\n",
        "\t\tutils.init_network_weights(self.decoder)\n",
        "\n",
        "\n",
        "\tdef get_reconstruction(self, time_steps_to_predict, data, truth_time_steps, \n",
        "\t\tmask = None, n_traj_samples = None, mode = None):\n",
        "\n",
        "\t\tif (len(truth_time_steps) != len(time_steps_to_predict)) or (torch.sum(time_steps_to_predict - truth_time_steps) != 0):\n",
        "\t\t\traise Exception(\"Extrapolation mode not implemented for ODE-RNN\")\n",
        "\n",
        "\t\t# time_steps_to_predict and truth_time_steps should be the same \n",
        "\t\tassert(len(truth_time_steps) == len(time_steps_to_predict))\n",
        "\t\tassert(mask is not None)\n",
        "\t\t\n",
        "\t\tdata_and_mask = data\n",
        "\t\tif mask is not None:\n",
        "\t\t\tdata_and_mask = torch.cat([data, mask],-1)\n",
        "\n",
        "\t\t_, _, latent_ys, _ = self.ode_gru.run_odernn(\n",
        "\t\t\tdata_and_mask, truth_time_steps, run_backwards = False)\n",
        "\t\t\n",
        "\t\tlatent_ys = latent_ys.permute(0,2,1,3)\n",
        "\t\tlast_hidden = latent_ys[:,:,-1,:]\n",
        "\n",
        "\t\t\t#assert(torch.sum(int_lambda[0,0,-1,:] <= 0) == 0.)\n",
        "\n",
        "\t\toutputs = self.decoder(latent_ys)\n",
        "\t\t# Shift outputs for computing the loss -- we should compare the first output to the second data point, etc.\n",
        "\t\tfirst_point = data[:,0,:]\n",
        "\t\toutputs = utils.shift_outputs(outputs, first_point)\n",
        "\n",
        "\t\textra_info = {\"first_point\": (latent_ys[:,:,-1,:], 0.0, latent_ys[:,:,-1,:])}\n",
        "\n",
        "\t\tif self.use_binary_classif:\n",
        "\t\t\tif self.classif_per_tp:\n",
        "\t\t\t\textra_info[\"label_predictions\"] = self.classifier(latent_ys)\n",
        "\t\t\telse:\n",
        "\t\t\t\textra_info[\"label_predictions\"] = self.classifier(last_hidden).squeeze(-1)\n",
        "\n",
        "\t\t# outputs shape: [n_traj_samples, n_traj, n_tp, n_dims]\n",
        "\t\treturn outputs, extra_info\n",
        "\n",
        "\n",
        "\n",
        "\n"
      ],
      "execution_count": 15,
      "outputs": []
    },
    {
      "cell_type": "markdown",
      "metadata": {
        "id": "PDnVAqzWhy_w"
      },
      "source": [
        "## latent_ode.py"
      ]
    },
    {
      "cell_type": "code",
      "metadata": {
        "id": "WF67TleQhy_x"
      },
      "source": [
        "class LatentODE(VAE_Baseline):\n",
        "\tdef __init__(self, input_dim, latent_dim, encoder_z0, decoder, diffeq_solver, \n",
        "\t\tz0_prior, device, obsrv_std = None, \n",
        "\t\tuse_binary_classif = False, use_poisson_proc = False,\n",
        "\t\tlinear_classifier = False,\n",
        "\t\tclassif_per_tp = False,\n",
        "\t\tn_labels = 1,\n",
        "\t\ttrain_classif_w_reconstr = False):\n",
        "\n",
        "\t\tsuper(LatentODE, self).__init__(\n",
        "\t\t\tinput_dim = input_dim, latent_dim = latent_dim, \n",
        "\t\t\tz0_prior = z0_prior, \n",
        "\t\t\tdevice = device, obsrv_std = obsrv_std, \n",
        "\t\t\tuse_binary_classif = use_binary_classif,\n",
        "\t\t\tclassif_per_tp = classif_per_tp, \n",
        "\t\t\tlinear_classifier = linear_classifier,\n",
        "\t\t\tuse_poisson_proc = use_poisson_proc,\n",
        "\t\t\tn_labels = n_labels,\n",
        "\t\t\ttrain_classif_w_reconstr = train_classif_w_reconstr)\n",
        "\n",
        "\t\tself.encoder_z0 = encoder_z0\n",
        "\t\tself.diffeq_solver = diffeq_solver\n",
        "\t\tself.decoder = decoder\n",
        "\t\tself.use_poisson_proc = use_poisson_proc\n",
        "\n",
        "\tdef get_reconstruction(self, time_steps_to_predict, truth, truth_time_steps, \n",
        "\t\tmask = None, n_traj_samples = 1, run_backwards = True, mode = None):\n",
        "\n",
        "\t\tif isinstance(self.encoder_z0, Encoder_z0_ODE_RNN) or \\\n",
        "\t\t\tisinstance(self.encoder_z0, Encoder_z0_RNN):\n",
        "\n",
        "\t\t\ttruth_w_mask = truth\n",
        "\t\t\tif mask is not None:\n",
        "\t\t\t\ttruth_w_mask = torch.cat((truth, mask), -1)\n",
        "\t\t\tfirst_point_mu, first_point_std = self.encoder_z0(\n",
        "\t\t\t\ttruth_w_mask, truth_time_steps, run_backwards = run_backwards)\n",
        "\n",
        "\t\t\tmeans_z0 = first_point_mu.repeat(n_traj_samples, 1, 1)\n",
        "\t\t\tsigma_z0 = first_point_std.repeat(n_traj_samples, 1, 1)\n",
        "\t\t\tfirst_point_enc = utils.sample_standard_gaussian(means_z0, sigma_z0)\n",
        "\n",
        "\t\telse:\n",
        "\t\t\traise Exception(\"Unknown encoder type {}\".format(type(self.encoder_z0).__name__))\n",
        "\t\t\n",
        "\t\tfirst_point_std = first_point_std.abs()\n",
        "\t\tassert(torch.sum(first_point_std < 0) == 0.)\n",
        "\n",
        "\t\tif self.use_poisson_proc:\n",
        "\t\t\tn_traj_samples, n_traj, n_dims = first_point_enc.size()\n",
        "\t\t\t# append a vector of zeros to compute the integral of lambda\n",
        "\t\t\tzeros = torch.zeros([n_traj_samples, n_traj,self.input_dim]).to(get_device(truth))\n",
        "\t\t\tfirst_point_enc_aug = torch.cat((first_point_enc, zeros), -1)\n",
        "\t\t\tmeans_z0_aug = torch.cat((means_z0, zeros), -1)\n",
        "\t\telse:\n",
        "\t\t\tfirst_point_enc_aug = first_point_enc\n",
        "\t\t\tmeans_z0_aug = means_z0\n",
        "\t\t\t\n",
        "\t\tassert(not torch.isnan(time_steps_to_predict).any())\n",
        "\t\tassert(not torch.isnan(first_point_enc).any())\n",
        "\t\tassert(not torch.isnan(first_point_enc_aug).any())\n",
        "\n",
        "\t\t# Shape of sol_y [n_traj_samples, n_samples, n_timepoints, n_latents]\n",
        "\t\tsol_y = self.diffeq_solver(first_point_enc_aug, time_steps_to_predict)\n",
        "\n",
        "\t\tif self.use_poisson_proc:\n",
        "\t\t\tsol_y, log_lambda_y, int_lambda, _ = self.diffeq_solver.ode_func.extract_poisson_rate(sol_y)\n",
        "\n",
        "\t\t\tassert(torch.sum(int_lambda[:,:,0,:]) == 0.)\n",
        "\t\t\tassert(torch.sum(int_lambda[0,0,-1,:] <= 0) == 0.)\n",
        "\n",
        "\t\tpred_x = self.decoder(sol_y)\n",
        "\n",
        "\t\tall_extra_info = {\n",
        "\t\t\t\"first_point\": (first_point_mu, first_point_std, first_point_enc),\n",
        "\t\t\t\"latent_traj\": sol_y.detach()\n",
        "\t\t}\n",
        "\n",
        "\t\tif self.use_poisson_proc:\n",
        "\t\t\t# intergral of lambda from the last step of ODE Solver\n",
        "\t\t\tall_extra_info[\"int_lambda\"] = int_lambda[:,:,-1,:]\n",
        "\t\t\tall_extra_info[\"log_lambda_y\"] = log_lambda_y\n",
        "\n",
        "\t\tif self.use_binary_classif:\n",
        "\t\t\tif self.classif_per_tp:\n",
        "\t\t\t\tall_extra_info[\"label_predictions\"] = self.classifier(sol_y)\n",
        "\t\t\telse:\n",
        "\t\t\t\tall_extra_info[\"label_predictions\"] = self.classifier(first_point_enc).squeeze(-1)\n",
        "\n",
        "\t\treturn pred_x, all_extra_info\n",
        "\n",
        "\n",
        "\tdef sample_traj_from_prior(self, time_steps_to_predict, n_traj_samples = 1):\n",
        "\t\t# input_dim = starting_point.size()[-1]\n",
        "\t\t# starting_point = starting_point.view(1,1,input_dim)\n",
        "\n",
        "\t\t# Sample z0 from prior\n",
        "\t\tstarting_point_enc = self.z0_prior.sample([n_traj_samples, 1, self.latent_dim]).squeeze(-1)\n",
        "\n",
        "\t\tstarting_point_enc_aug = starting_point_enc\n",
        "\t\tif self.use_poisson_proc:\n",
        "\t\t\tn_traj_samples, n_traj, n_dims = starting_point_enc.size()\n",
        "\t\t\t# append a vector of zeros to compute the integral of lambda\n",
        "\t\t\tzeros = torch.zeros(n_traj_samples, n_traj,self.input_dim).to(self.device)\n",
        "\t\t\tstarting_point_enc_aug = torch.cat((starting_point_enc, zeros), -1)\n",
        "\n",
        "\t\tsol_y = self.diffeq_solver.sample_traj_from_prior(starting_point_enc_aug, time_steps_to_predict, \n",
        "\t\t\tn_traj_samples = 3)\n",
        "\n",
        "\t\tif self.use_poisson_proc:\n",
        "\t\t\tsol_y, log_lambda_y, int_lambda, _ = self.diffeq_solver.ode_func.extract_poisson_rate(sol_y)\n",
        "\t\t\n",
        "\t\treturn self.decoder(sol_y)\n",
        "\n",
        "\n"
      ],
      "execution_count": 16,
      "outputs": []
    },
    {
      "cell_type": "markdown",
      "metadata": {
        "id": "w7EhkS2Uhy_x"
      },
      "source": [
        "## ode_func.py"
      ]
    },
    {
      "cell_type": "code",
      "metadata": {
        "id": "ard2Qg5chy_x"
      },
      "source": [
        "class ODEFunc(nn.Module):\n",
        "\tdef __init__(self, input_dim, latent_dim, ode_func_net, device = torch.device(\"cpu\")):\n",
        "\t\t\"\"\"\n",
        "\t\tinput_dim: dimensionality of the input\n",
        "\t\tlatent_dim: dimensionality used for ODE. Analog of a continous latent state\n",
        "\t\t\"\"\"\n",
        "\t\t# print(f\"Inside ODEFunc class\")\n",
        "\t\tsuper(ODEFunc, self).__init__()\n",
        "\n",
        "\t\tself.input_dim = input_dim\n",
        "\t\t# print(f\"input_dim is {input_dim}\")\n",
        "\t\t# print(f\"latent_dim is {latent_dim}\")\n",
        "\t\tself.device = device\n",
        "\n",
        "\t\tutils.init_network_weights(ode_func_net)\n",
        "\t\tself.gradient_net = ode_func_net\n",
        "\n",
        "\tdef forward(self, t_local, y, backwards = False):\n",
        "\t\t\"\"\"\n",
        "\t\tPerform one step in solving ODE. Given current data point y and current time point t_local, returns gradient dy/dt at this time point\n",
        "\n",
        "\t\tt_local: current time point\n",
        "\t\ty: value at the current time point\n",
        "\t\t\"\"\"\n",
        "\t\tgrad = self.get_ode_gradient_nn(t_local, y)\n",
        "\t\tif backwards:\n",
        "\t\t\tgrad = -grad\n",
        "\t\treturn grad\n",
        "\n",
        "\tdef get_ode_gradient_nn(self, t_local, y):\n",
        "\t\treturn self.gradient_net(y)\n",
        "\n",
        "\tdef sample_next_point_from_prior(self, t_local, y):\n",
        "\t\t\"\"\"\n",
        "\t\tt_local: current time point\n",
        "\t\ty: value at the current time point\n",
        "\t\t\"\"\"\n",
        "\t\treturn self.get_ode_gradient_nn(t_local, y)\n",
        "\n",
        "#####################################################################################################\n",
        "\n",
        "class ODEFunc_w_Poisson(ODEFunc):\n",
        "\t\n",
        "\tdef __init__(self, input_dim, latent_dim, ode_func_net,\n",
        "\t\tlambda_net, device = torch.device(\"cpu\")):\n",
        "\t\t\"\"\"\n",
        "\t\tinput_dim: dimensionality of the input\n",
        "\t\tlatent_dim: dimensionality used for ODE. Analog of a continous latent state\n",
        "\t\t\"\"\"\n",
        "\t\tsuper(ODEFunc_w_Poisson, self).__init__(input_dim, latent_dim, ode_func_net, device)\n",
        "\n",
        "\t\tself.latent_ode = ODEFunc(input_dim = input_dim, \n",
        "\t\t\tlatent_dim = latent_dim, \n",
        "\t\t\tode_func_net = ode_func_net,\n",
        "\t\t\tdevice = device)\n",
        "\n",
        "\t\tself.latent_dim = latent_dim\n",
        "\t\tself.lambda_net = lambda_net\n",
        "\t\t# The computation of poisson likelihood can become numerically unstable. \n",
        "\t\t#The integral lambda(t) dt can take large values. In fact, it is equal to the expected number of events on the interval [0,T]\n",
        "\t\t#Exponent of lambda can also take large values\n",
        "\t\t# So we divide lambda by the constant and then multiply the integral of lambda by the constant\n",
        "\t\tself.const_for_lambda = torch.Tensor([100.]).to(device)\n",
        "\n",
        "\tdef extract_poisson_rate(self, augmented, final_result = True):\n",
        "\t\ty, log_lambdas, int_lambda = None, None, None\n",
        "\n",
        "\t\tassert(augmented.size(-1) == self.latent_dim + self.input_dim)\t\t\n",
        "\t\tlatent_lam_dim = self.latent_dim // 2\n",
        "\n",
        "\t\tif len(augmented.size()) == 3:\n",
        "\t\t\tint_lambda  = augmented[:,:,-self.input_dim:] \n",
        "\t\t\ty_latent_lam = augmented[:,:,:-self.input_dim]\n",
        "\n",
        "\t\t\tlog_lambdas  = self.lambda_net(y_latent_lam[:,:,-latent_lam_dim:])\n",
        "\t\t\ty = y_latent_lam[:,:,:-latent_lam_dim]\n",
        "\n",
        "\t\telif len(augmented.size()) == 4:\n",
        "\t\t\tint_lambda  = augmented[:,:,:,-self.input_dim:]\n",
        "\t\t\ty_latent_lam = augmented[:,:,:,:-self.input_dim]\n",
        "\n",
        "\t\t\tlog_lambdas  = self.lambda_net(y_latent_lam[:,:,:,-latent_lam_dim:])\n",
        "\t\t\ty = y_latent_lam[:,:,:,:-latent_lam_dim]\n",
        "\n",
        "\t\t# Multiply the intergral over lambda by a constant \n",
        "\t\t# only when we have finished the integral computation (i.e. this is not a call in get_ode_gradient_nn)\n",
        "\t\tif final_result:\n",
        "\t\t\tint_lambda = int_lambda * self.const_for_lambda\n",
        "\t\t\t\n",
        "\t\t# Latents for performing reconstruction (y) have the same size as latent poisson rate (log_lambdas)\n",
        "\t\tassert(y.size(-1) == latent_lam_dim)\n",
        "\n",
        "\t\treturn y, log_lambdas, int_lambda, y_latent_lam\n",
        "\n",
        "\n",
        "\tdef get_ode_gradient_nn(self, t_local, augmented):\n",
        "\t\ty, log_lam, int_lambda, y_latent_lam = self.extract_poisson_rate(augmented, final_result = False)\n",
        "\t\tdydt_dldt = self.latent_ode(t_local, y_latent_lam)\n",
        "\n",
        "\t\tlog_lam = log_lam - torch.log(self.const_for_lambda)\n",
        "\t\treturn torch.cat((dydt_dldt, torch.exp(log_lam)),-1)\n",
        "\n",
        "\n",
        "\n",
        "\n"
      ],
      "execution_count": 17,
      "outputs": []
    },
    {
      "cell_type": "markdown",
      "metadata": {
        "id": "98sA9jVlhy_y"
      },
      "source": [
        "## create_latent_ode_model.py"
      ]
    },
    {
      "cell_type": "code",
      "metadata": {
        "id": "kv36UrKvhy_y"
      },
      "source": [
        "def create_LatentODE_model(args, input_dim, z0_prior, obsrv_std, device, \n",
        "\tclassif_per_tp = False, n_labels = 1):\n",
        "\n",
        "\tdim = args.latents\n",
        "\tif args.poisson:\n",
        "\t\tlambda_net = utils.create_net(dim, input_dim, \n",
        "\t\t\tn_layers = 1, n_units = args.units, nonlinear = nn.Tanh)\n",
        "\n",
        "\t\t# ODE function produces the gradient for latent state and for poisson rate\n",
        "\t\tode_func_net = utils.create_net(dim * 2, args.latents * 2, \n",
        "\t\t\tn_layers = args.gen_layers, n_units = args.units, nonlinear = nn.Tanh)\n",
        "\n",
        "\t\tgen_ode_func = ODEFunc_w_Poisson(\n",
        "\t\t\tinput_dim = input_dim, \n",
        "\t\t\tlatent_dim = args.latents * 2,\n",
        "\t\t\tode_func_net = ode_func_net,\n",
        "\t\t\tlambda_net = lambda_net,\n",
        "\t\t\tdevice = device).to(device)\n",
        "\telse:\n",
        "\t\tdim = args.latents \n",
        "\t\tode_func_net = utils.create_net(dim, args.latents, \n",
        "\t\t\tn_layers = args.gen_layers, n_units = args.units, nonlinear = nn.Tanh)\n",
        "\n",
        "\t\tgen_ode_func = ODEFunc(\n",
        "\t\t\tinput_dim = input_dim, \n",
        "\t\t\tlatent_dim = args.latents, \n",
        "\t\t\tode_func_net = ode_func_net,\n",
        "\t\t\tdevice = device).to(device)\n",
        "\n",
        "\tz0_diffeq_solver = None\n",
        "\tn_rec_dims = args.rec_dims\n",
        "\tenc_input_dim = int(input_dim) * 2 # we concatenate the mask\n",
        "\tgen_data_dim = input_dim\n",
        "\n",
        "\tz0_dim = args.latents\n",
        "\tif args.poisson:\n",
        "\t\tz0_dim += args.latents # predict the initial poisson rate\n",
        "\n",
        "\tif args.z0_encoder == \"odernn\":\n",
        "\t\tode_func_net = utils.create_net(n_rec_dims, n_rec_dims, \n",
        "\t\t\tn_layers = args.rec_layers, n_units = args.units, nonlinear = nn.Tanh)\n",
        "\n",
        "\t\trec_ode_func = ODEFunc(\n",
        "\t\t\tinput_dim = enc_input_dim, \n",
        "\t\t\tlatent_dim = n_rec_dims,\n",
        "\t\t\tode_func_net = ode_func_net,\n",
        "\t\t\tdevice = device).to(device)\n",
        "\n",
        "\t\tz0_diffeq_solver = DiffeqSolver(enc_input_dim, rec_ode_func, \"euler\", args.latents, \n",
        "\t\t\todeint_rtol = 1e-3, odeint_atol = 1e-4, device = device)\n",
        "\t\t\n",
        "\t\tencoder_z0 = Encoder_z0_ODE_RNN(n_rec_dims, enc_input_dim, z0_diffeq_solver, \n",
        "\t\t\tz0_dim = z0_dim, n_gru_units = args.gru_units, device = device).to(device)\n",
        "\n",
        "\telif args.z0_encoder == \"rnn\":\n",
        "\t\tencoder_z0 = Encoder_z0_RNN(z0_dim, enc_input_dim,\n",
        "\t\t\tlstm_output_size = n_rec_dims, device = device).to(device)\n",
        "\telse:\n",
        "\t\traise Exception(\"Unknown encoder for Latent ODE model: \" + args.z0_encoder)\n",
        "\n",
        "\tdecoder = Decoder(args.latents, gen_data_dim).to(device)\n",
        "\n",
        "\tdiffeq_solver = DiffeqSolver(gen_data_dim, gen_ode_func, 'dopri5', args.latents, \n",
        "\t\todeint_rtol = 1e-3, odeint_atol = 1e-4, device = device)\n",
        "\n",
        "\tmodel = LatentODE(\n",
        "\t\tinput_dim = gen_data_dim, \n",
        "\t\tlatent_dim = args.latents, \n",
        "\t\tencoder_z0 = encoder_z0, \n",
        "\t\tdecoder = decoder, \n",
        "\t\tdiffeq_solver = diffeq_solver, \n",
        "\t\tz0_prior = z0_prior, \n",
        "\t\tdevice = device,\n",
        "\t\tobsrv_std = obsrv_std,\n",
        "\t\tuse_poisson_proc = args.poisson, \n",
        "\t\tuse_binary_classif = args.classif,\n",
        "\t\tlinear_classifier = args.linear_classif,\n",
        "\t\tclassif_per_tp = classif_per_tp,\n",
        "\t\tn_labels = n_labels,\n",
        "\t\ttrain_classif_w_reconstr = (args.dataset == \"physionet\")\n",
        "\t\t).to(device)\n",
        "\n",
        "\treturn model\n"
      ],
      "execution_count": 18,
      "outputs": []
    },
    {
      "cell_type": "code",
      "metadata": {
        "id": "KzYUKIc9hy_z"
      },
      "source": [
        "if args.latent_ode:\n",
        "    model = create_LatentODE_model(args, input_dim, z0_prior, obsrv_std, device, \n",
        "        classif_per_tp = classif_per_tp,\n",
        "        n_labels = n_labels)\n",
        "else:\n",
        "\traise Exception(\"Model not specified\")"
      ],
      "execution_count": 19,
      "outputs": []
    },
    {
      "cell_type": "markdown",
      "metadata": {
        "id": "afWXMKznhy_z"
      },
      "source": [
        "# Training"
      ]
    },
    {
      "cell_type": "code",
      "metadata": {
        "id": "NYyCKxi5NxMf"
      },
      "source": [
        "train_lr_list = []\n",
        "kl_coef_list = []\n",
        "train_pred_y_list = []\n",
        "train_true_y_list = []\n",
        "train_loss_list = [] # ELBO\n",
        "train_likelihood_list = [] # Rec Likelihood\n",
        "train_mse_list = []\n",
        "train_kl_first_p_list = [] # KL Divergence between z0\n",
        "train_std_first_p_list = []\n",
        "\n",
        "\n",
        "test_pred_y_list = []\n",
        "test_true_y_list = []\n",
        "test_loss_list = [] # ELBO\n",
        "test_likelihood_list = [] # Rec Likelihood\n",
        "test_mse_list = []\n",
        "test_kl_first_p_list = [] # KL Divergence between z0\n",
        "test_std_first_p_list = []"
      ],
      "execution_count": 20,
      "outputs": []
    },
    {
      "cell_type": "code",
      "metadata": {
        "colab": {
          "base_uri": "https://localhost:8080/"
        },
        "id": "y99JVbgThy_z",
        "outputId": "93ef98df-29c3-4b28-e8b8-4d89ca3a4ba2"
      },
      "source": [
        "#Load checkpoint and evaluate the model\n",
        "if args.load is not None:\n",
        "\tutils.get_ckpt_model(ckpt_path, model, device)\n",
        "\texit()\n",
        "else:\n",
        "\tfile_name = os.path.abspath('')\n",
        "\tlog_path = \"logs/\" + file_name + \"_\" + str(experimentID) + \".log\"\n",
        "\tif not os.path.exists(\"logs/\"):\n",
        "\t\tutils.makedirs(\"logs/\")\n",
        "\tlogger = utils.get_logger(logpath=log_path, filepath=os.path.abspath(''))\n",
        "\tlogger.info(input_command)\n",
        "\n",
        "\toptimizer = optim.Adamax(model.parameters(), lr=args.lr)\n",
        "\t# print(f\"optimizer is {optimizer}\")\n",
        "\tnum_batches = data_obj[\"n_train_batches\"]\n",
        "\tprint(f\"num_batches is {num_batches}\")\n",
        "\n",
        "\tfor itr in range(1, num_batches * (args.niters + 1)):\n",
        "\t\toptimizer.zero_grad()\n",
        "\t\tutils.update_learning_rate(optimizer, decay_rate = 0.999, lowest = args.lr / 10)\n",
        "\n",
        "\t\twait_until_kl_inc = 10\n",
        "\t\tif itr // num_batches < wait_until_kl_inc:\n",
        "\t\t\tkl_coef = 0.\n",
        "\t\telse:\n",
        "\t\t\tkl_coef = (1-0.99** (itr // num_batches - wait_until_kl_inc))\n",
        "\t\tkl_coef_list.append(kl_coef)\n",
        "\t\tbatch_dict = utils.get_next_batch(data_obj[\"train_dataloader\"])\n",
        "\t\ttrain_res = model.compute_all_losses(batch_dict, n_traj_samples = 1, kl_coef = kl_coef)\n",
        "\t\t\n",
        "\t\ttrain_loss_list.append(train_res['loss'].cpu().item())\n",
        "\t\ttrain_likelihood_list.append(train_res['likelihood'].cpu().item())\n",
        "\t\ttrain_mse_list.append(train_res['mse'].cpu().item())\n",
        "\t\ttrain_kl_first_p_list.append(train_res['kl_first_p'].cpu().item())\n",
        "\t\ttrain_std_first_p_list.append(train_res['std_first_p'].cpu().item())\n",
        "\t\ttrain_res[\"loss\"].backward()\n",
        "\t\toptimizer.step()\n",
        "\n",
        "\t\tn_iters_to_viz = 1\n",
        "\t\tif itr % (n_iters_to_viz * num_batches) == 0:\n",
        "\t\t\twith torch.no_grad():\n",
        "\n",
        "\t\t\t\ttest_res = compute_loss_all_batches(model, \n",
        "\t\t\t\t\tdata_obj[\"test_dataloader\"], args,\n",
        "\t\t\t\t\tn_batches = data_obj[\"n_test_batches\"],\n",
        "\t\t\t\t\texperimentID = experimentID,\n",
        "\t\t\t\t\tdevice = device,\n",
        "\t\t\t\t\tn_traj_samples = 1, kl_coef = kl_coef)\n",
        "\t\t\t\t\n",
        "\t\t\t\ttest_loss_list.append(test_res['loss'].cpu().item())\n",
        "\t\t\t\ttest_likelihood_list.append(test_res['likelihood'].cpu().item())\n",
        "\t\t\t\ttest_mse_list.append(test_res['mse'].cpu().item())\n",
        "\t\t\t\ttest_kl_first_p_list.append(test_res['kl_first_p'].cpu().item())\n",
        "\t\t\t\ttest_std_first_p_list.append(test_res['std_first_p'].cpu().item())\n",
        "\n",
        "\t\t\t\tmessage = 'Epoch {:04d} [Test seq (cond on sampled tp)] | Loss {:.6f} | Likelihood {:.6f} | KL fp {:.4f} | FP STD {:.4f}|'.format(\n",
        "\t\t\t\t\titr//num_batches, \n",
        "\t\t\t\t\ttest_res[\"loss\"].detach(), test_res[\"likelihood\"].detach(), \n",
        "\t\t\t\t\ttest_res[\"kl_first_p\"], test_res[\"std_first_p\"])\n",
        "\t\t\t\n",
        "\t\t\t\tlogger.info(\"Experiment \" + str(experimentID))\n",
        "\t\t\t\tlogger.info(message)\n",
        "\t\t\t\tlogger.info(\"KL coef: {}\".format(kl_coef))\n",
        "\t\t\t\tlogger.info(\"Train loss (one batch): {}\".format(train_res[\"loss\"].detach()))\n",
        "\t\t\t\tlogger.info(\"Train CE loss (one batch): {}\".format(train_res[\"ce_loss\"].detach()))\n",
        "\t\t\t\t\n",
        "\t\t\t\tif \"auc\" in test_res:\n",
        "\t\t\t\t\tlogger.info(\"Classification AUC (TEST): {:.4f}\".format(test_res[\"auc\"]))\n",
        "\n",
        "\t\t\t\tif \"mse\" in test_res:\n",
        "\t\t\t\t\tlogger.info(\"Test MSE: {}\".format(test_res[\"mse\"]))\n",
        "\n",
        "\t\t\t\tif \"accuracy\" in train_res:\n",
        "\t\t\t\t\tlogger.info(\"Classification accuracy (TRAIN): {:.4f}\".format(train_res[\"accuracy\"]))\n",
        "\n",
        "\t\t\t\tif \"accuracy\" in test_res:\n",
        "\t\t\t\t\tlogger.info(\"Classification accuracy (TEST): {:.4f}\".format(test_res[\"accuracy\"]))\n",
        "\n",
        "\t\t\t\tif \"pois_likelihood\" in test_res:\n",
        "\t\t\t\t\tlogger.info(\"Poisson likelihood: {}\".format(test_res[\"pois_likelihood\"]))\n",
        "\n",
        "\t\t\t\tif \"ce_loss\" in test_res:\n",
        "\t\t\t\t\tlogger.info(\"CE loss: {}\".format(test_res[\"ce_loss\"]))\n",
        "\n",
        "\t\t\ttorch.save({\n",
        "\t\t\t\t'args': args,\n",
        "\t\t\t\t'state_dict': model.state_dict(),\n",
        "\t\t\t}, ckpt_path)\n",
        "\n",
        "\n",
        "\t\t\t# Plotting\n",
        "\t\t\tif args.viz:\n",
        "\t\t\t\twith torch.no_grad():\n",
        "\t\t\t\t\ttest_dict = utils.get_next_batch(data_obj[\"test_dataloader\"])\n",
        "\n",
        "\t\t\t\t\tprint(\"plotting....\")\n",
        "\t\t\t\t\tif isinstance(model, LatentODE) and (args.dataset == \"periodic\"): #and not args.classic_rnn and not args.ode_rnn:\n",
        "\t\t\t\t\t\tplot_id = itr // num_batches // n_iters_to_viz\n",
        "\t\t\t\t\t\tviz.draw_all_plots_one_dim(test_dict, model, \n",
        "\t\t\t\t\t\t\tplot_name = file_name + \"_\" + str(experimentID) + \"_{:03d}\".format(plot_id) + \".png\",\n",
        "\t\t\t\t\t\t\texperimentID = experimentID, save=True)\n",
        "\t\t\t\t\t\tplt.pause(0.01)\n",
        "\t# train_pred_y_list.append(train_res['pred_y'].cpu().numpy())\n",
        "\t# train_true_y_list.append(train_res['true_y'].cpu().numpy())\n",
        "\t# test_pred_y_list.append(test_res['pred_y'].cpu().numpy())\n",
        "\t# test_true_y_list.append(test_res['true_y'].cpu().numpy())\n",
        "\ttorch.save({\n",
        "\t\t'args': args,\n",
        "\t\t'state_dict': model.state_dict(),\n",
        "\t}, ckpt_path)\n",
        "\n"
      ],
      "execution_count": 21,
      "outputs": [
        {
          "metadata": {
            "tags": null
          },
          "name": "stderr",
          "output_type": "stream",
          "text": [
            "/content\n",
            "-f\n",
            "/content/torchdiffeq/torchdiffeq/_impl/misc.py:296: UserWarning: t is not on the same device as y0. Coercing to y0.device.\n",
            "  warnings.warn(\"t is not on the same device as y0. Coercing to y0.device.\")\n"
          ]
        },
        {
          "metadata": {
            "tags": null
          },
          "name": "stdout",
          "output_type": "stream",
          "text": [
            "num_batches is 246\n"
          ]
        },
        {
          "metadata": {
            "tags": null
          },
          "name": "stderr",
          "output_type": "stream",
          "text": [
            "Experiment 77\n",
            "Epoch 0001 [Test seq (cond on sampled tp)] | Loss -5.165035 | Likelihood 5.165035 | KL fp 8.2192 | FP STD 0.0003|\n",
            "KL coef: 0.0\n",
            "Train loss (one batch): -5.631572723388672\n",
            "Train CE loss (one batch): 0.0\n",
            "Test MSE: 1.6475640904900501e-06\n",
            "Poisson likelihood: 0.0\n",
            "CE loss: 0.0\n"
          ]
        },
        {
          "metadata": {
            "tags": null
          },
          "name": "stdout",
          "output_type": "stream",
          "text": [
            "Computing loss... 0\n"
          ]
        },
        {
          "metadata": {
            "tags": null
          },
          "name": "stderr",
          "output_type": "stream",
          "text": [
            "Experiment 77\n",
            "Epoch 0002 [Test seq (cond on sampled tp)] | Loss -5.255980 | Likelihood 5.255980 | KL fp 8.3378 | FP STD 0.0002|\n",
            "KL coef: 0.0\n",
            "Train loss (one batch): -5.699134349822998\n",
            "Train CE loss (one batch): 0.0\n",
            "Test MSE: 1.4656742450824822e-06\n",
            "Poisson likelihood: 0.0\n",
            "CE loss: 0.0\n"
          ]
        },
        {
          "metadata": {
            "tags": null
          },
          "name": "stdout",
          "output_type": "stream",
          "text": [
            "Computing loss... 0\n"
          ]
        },
        {
          "metadata": {
            "tags": null
          },
          "name": "stderr",
          "output_type": "stream",
          "text": [
            "Experiment 77\n",
            "Epoch 0003 [Test seq (cond on sampled tp)] | Loss -5.345564 | Likelihood 5.345564 | KL fp 8.3804 | FP STD 0.0002|\n",
            "KL coef: 0.0\n",
            "Train loss (one batch): -5.767877101898193\n",
            "Train CE loss (one batch): 0.0\n",
            "Test MSE: 1.2865046983279171e-06\n",
            "Poisson likelihood: 0.0\n",
            "CE loss: 0.0\n"
          ]
        },
        {
          "metadata": {
            "tags": null
          },
          "name": "stdout",
          "output_type": "stream",
          "text": [
            "Computing loss... 0\n"
          ]
        },
        {
          "metadata": {
            "tags": null
          },
          "name": "stderr",
          "output_type": "stream",
          "text": [
            "Experiment 77\n",
            "Epoch 0004 [Test seq (cond on sampled tp)] | Loss -5.399508 | Likelihood 5.399508 | KL fp 8.5235 | FP STD 0.0002|\n",
            "KL coef: 0.0\n",
            "Train loss (one batch): -5.804723739624023\n",
            "Train CE loss (one batch): 0.0\n",
            "Test MSE: 1.1786162303906167e-06\n",
            "Poisson likelihood: 0.0\n",
            "CE loss: 0.0\n"
          ]
        },
        {
          "metadata": {
            "tags": null
          },
          "name": "stdout",
          "output_type": "stream",
          "text": [
            "Computing loss... 0\n"
          ]
        },
        {
          "metadata": {
            "tags": null
          },
          "name": "stderr",
          "output_type": "stream",
          "text": [
            "Experiment 77\n",
            "Epoch 0005 [Test seq (cond on sampled tp)] | Loss -5.461563 | Likelihood 5.461563 | KL fp 8.5583 | FP STD 0.0002|\n",
            "KL coef: 0.0\n",
            "Train loss (one batch): -5.834036350250244\n",
            "Train CE loss (one batch): 0.0\n",
            "Test MSE: 1.0545074928813847e-06\n",
            "Poisson likelihood: 0.0\n",
            "CE loss: 0.0\n"
          ]
        },
        {
          "metadata": {
            "tags": null
          },
          "name": "stdout",
          "output_type": "stream",
          "text": [
            "Computing loss... 0\n"
          ]
        },
        {
          "metadata": {
            "tags": null
          },
          "name": "stderr",
          "output_type": "stream",
          "text": [
            "Experiment 77\n",
            "Epoch 0006 [Test seq (cond on sampled tp)] | Loss -5.521194 | Likelihood 5.521194 | KL fp 8.5835 | FP STD 0.0002|\n",
            "KL coef: 0.0\n",
            "Train loss (one batch): -5.8401641845703125\n",
            "Train CE loss (one batch): 0.0\n",
            "Test MSE: 9.352454526379006e-07\n",
            "Poisson likelihood: 0.0\n",
            "CE loss: 0.0\n"
          ]
        },
        {
          "metadata": {
            "tags": null
          },
          "name": "stdout",
          "output_type": "stream",
          "text": [
            "Computing loss... 0\n"
          ]
        },
        {
          "metadata": {
            "tags": null
          },
          "name": "stderr",
          "output_type": "stream",
          "text": [
            "Experiment 77\n",
            "Epoch 0007 [Test seq (cond on sampled tp)] | Loss -5.595784 | Likelihood 5.595784 | KL fp 8.9788 | FP STD 0.0002|\n",
            "KL coef: 0.0\n",
            "Train loss (one batch): -5.84492301940918\n",
            "Train CE loss (one batch): 0.0\n",
            "Test MSE: 7.860674600124185e-07\n",
            "Poisson likelihood: 0.0\n",
            "CE loss: 0.0\n"
          ]
        },
        {
          "metadata": {
            "tags": null
          },
          "name": "stdout",
          "output_type": "stream",
          "text": [
            "Computing loss... 0\n"
          ]
        },
        {
          "metadata": {
            "tags": null
          },
          "name": "stderr",
          "output_type": "stream",
          "text": [
            "Experiment 77\n",
            "Epoch 0008 [Test seq (cond on sampled tp)] | Loss -5.661940 | Likelihood 5.661940 | KL fp 8.7542 | FP STD 0.0002|\n",
            "KL coef: 0.0\n",
            "Train loss (one batch): -5.834474086761475\n",
            "Train CE loss (one batch): 0.0\n",
            "Test MSE: 6.537537728945608e-07\n",
            "Poisson likelihood: 0.0\n",
            "CE loss: 0.0\n"
          ]
        },
        {
          "metadata": {
            "tags": null
          },
          "name": "stdout",
          "output_type": "stream",
          "text": [
            "Computing loss... 0\n"
          ]
        },
        {
          "metadata": {
            "tags": null
          },
          "name": "stderr",
          "output_type": "stream",
          "text": [
            "Experiment 77\n",
            "Epoch 0009 [Test seq (cond on sampled tp)] | Loss -5.682959 | Likelihood 5.682959 | KL fp 8.3254 | FP STD 0.0002|\n",
            "KL coef: 0.0\n",
            "Train loss (one batch): -5.83857536315918\n",
            "Train CE loss (one batch): 0.0\n",
            "Test MSE: 6.117159614404954e-07\n",
            "Poisson likelihood: 0.0\n",
            "CE loss: 0.0\n"
          ]
        },
        {
          "metadata": {
            "tags": null
          },
          "name": "stdout",
          "output_type": "stream",
          "text": [
            "Computing loss... 0\n"
          ]
        },
        {
          "metadata": {
            "tags": null
          },
          "name": "stderr",
          "output_type": "stream",
          "text": [
            "Experiment 77\n",
            "Epoch 0010 [Test seq (cond on sampled tp)] | Loss -5.673684 | Likelihood 5.673684 | KL fp 8.3405 | FP STD 0.0003|\n",
            "KL coef: 0.0\n",
            "Train loss (one batch): -5.832010269165039\n",
            "Train CE loss (one batch): 0.0\n",
            "Test MSE: 6.302649921963166e-07\n",
            "Poisson likelihood: 0.0\n",
            "CE loss: 0.0\n"
          ]
        },
        {
          "metadata": {
            "tags": null
          },
          "name": "stdout",
          "output_type": "stream",
          "text": [
            "Computing loss... 0\n"
          ]
        },
        {
          "metadata": {
            "tags": null
          },
          "name": "stderr",
          "output_type": "stream",
          "text": [
            "Experiment 77\n",
            "Epoch 0011 [Test seq (cond on sampled tp)] | Loss -5.596350 | Likelihood 5.678356 | KL fp 8.2006 | FP STD 0.0003|\n",
            "KL coef: 0.010000000000000009\n",
            "Train loss (one batch): -5.754854679107666\n",
            "Train CE loss (one batch): 0.0\n",
            "Test MSE: 6.209212415342336e-07\n",
            "Poisson likelihood: 0.0\n",
            "CE loss: 0.0\n"
          ]
        },
        {
          "metadata": {
            "tags": null
          },
          "name": "stdout",
          "output_type": "stream",
          "text": [
            "Computing loss... 0\n"
          ]
        },
        {
          "metadata": {
            "tags": null
          },
          "name": "stderr",
          "output_type": "stream",
          "text": [
            "Experiment 77\n",
            "Epoch 0012 [Test seq (cond on sampled tp)] | Loss -5.541952 | Likelihood 5.690841 | KL fp 7.4819 | FP STD 0.0004|\n",
            "KL coef: 0.01990000000000003\n",
            "Train loss (one batch): -5.701506614685059\n",
            "Train CE loss (one batch): 0.0\n",
            "Test MSE: 5.959516329312464e-07\n",
            "Poisson likelihood: 0.0\n",
            "CE loss: 0.0\n"
          ]
        },
        {
          "metadata": {
            "tags": null
          },
          "name": "stdout",
          "output_type": "stream",
          "text": [
            "Computing loss... 0\n"
          ]
        },
        {
          "metadata": {
            "tags": null
          },
          "name": "stderr",
          "output_type": "stream",
          "text": [
            "Experiment 77\n",
            "Epoch 0013 [Test seq (cond on sampled tp)] | Loss -5.424495 | Likelihood 5.636868 | KL fp 7.1504 | FP STD 0.0006|\n",
            "KL coef: 0.029700999999999977\n",
            "Train loss (one batch): -5.622042179107666\n",
            "Train CE loss (one batch): 0.0\n",
            "Test MSE: 7.038988769636489e-07\n",
            "Poisson likelihood: 0.0\n",
            "CE loss: 0.0\n"
          ]
        },
        {
          "metadata": {
            "tags": null
          },
          "name": "stdout",
          "output_type": "stream",
          "text": [
            "Computing loss... 0\n"
          ]
        },
        {
          "metadata": {
            "tags": null
          },
          "name": "stderr",
          "output_type": "stream",
          "text": [
            "Experiment 77\n",
            "Epoch 0014 [Test seq (cond on sampled tp)] | Loss -5.422822 | Likelihood 5.700308 | KL fp 7.0421 | FP STD 0.0006|\n",
            "KL coef: 0.039403990000000055\n",
            "Train loss (one batch): -5.569478988647461\n",
            "Train CE loss (one batch): 0.0\n",
            "Test MSE: 5.77017203795549e-07\n",
            "Poisson likelihood: 0.0\n",
            "CE loss: 0.0\n"
          ]
        },
        {
          "metadata": {
            "tags": null
          },
          "name": "stdout",
          "output_type": "stream",
          "text": [
            "Computing loss... 0\n"
          ]
        },
        {
          "metadata": {
            "tags": null
          },
          "name": "stderr",
          "output_type": "stream",
          "text": [
            "Experiment 77\n",
            "Epoch 0015 [Test seq (cond on sampled tp)] | Loss -5.315626 | Likelihood 5.651172 | KL fp 6.8465 | FP STD 0.0007|\n",
            "KL coef: 0.04900995010000009\n",
            "Train loss (one batch): -5.504343509674072\n",
            "Train CE loss (one batch): 0.0\n",
            "Test MSE: 6.752900389983552e-07\n",
            "Poisson likelihood: 0.0\n",
            "CE loss: 0.0\n"
          ]
        },
        {
          "metadata": {
            "tags": null
          },
          "name": "stdout",
          "output_type": "stream",
          "text": [
            "Computing loss... 0\n"
          ]
        },
        {
          "metadata": {
            "tags": null
          },
          "name": "stderr",
          "output_type": "stream",
          "text": [
            "Experiment 77\n",
            "Epoch 0016 [Test seq (cond on sampled tp)] | Loss -4.770300 | Likelihood 5.143177 | KL fp 6.3718 | FP STD 0.0023|\n",
            "KL coef: 0.058519850599\n",
            "Train loss (one batch): -5.126426696777344\n",
            "Train CE loss (one batch): 0.0\n",
            "Test MSE: 1.6912791807044414e-06\n",
            "Poisson likelihood: 0.0\n",
            "CE loss: 0.0\n"
          ]
        },
        {
          "metadata": {
            "tags": null
          },
          "name": "stdout",
          "output_type": "stream",
          "text": [
            "Computing loss... 0\n"
          ]
        },
        {
          "metadata": {
            "tags": null
          },
          "name": "stderr",
          "output_type": "stream",
          "text": [
            "Experiment 77\n",
            "Epoch 0017 [Test seq (cond on sampled tp)] | Loss -5.173963 | Likelihood 5.616019 | KL fp 6.5071 | FP STD 0.0013|\n",
            "KL coef: 0.06793465209301008\n",
            "Train loss (one batch): -5.376862049102783\n",
            "Train CE loss (one batch): 0.0\n",
            "Test MSE: 7.455944341927534e-07\n",
            "Poisson likelihood: 0.0\n",
            "CE loss: 0.0\n"
          ]
        },
        {
          "metadata": {
            "tags": null
          },
          "name": "stdout",
          "output_type": "stream",
          "text": [
            "Computing loss... 0\n"
          ]
        },
        {
          "metadata": {
            "tags": null
          },
          "name": "stderr",
          "output_type": "stream",
          "text": [
            "Experiment 77\n",
            "Epoch 0018 [Test seq (cond on sampled tp)] | Loss -5.196383 | Likelihood 5.698884 | KL fp 6.5044 | FP STD 0.0012|\n",
            "KL coef: 0.07725530557207994\n",
            "Train loss (one batch): -5.319175720214844\n",
            "Train CE loss (one batch): 0.0\n",
            "Test MSE: 5.798651727673132e-07\n",
            "Poisson likelihood: 0.0\n",
            "CE loss: 0.0\n"
          ]
        },
        {
          "metadata": {
            "tags": null
          },
          "name": "stdout",
          "output_type": "stream",
          "text": [
            "Computing loss... 0\n"
          ]
        },
        {
          "metadata": {
            "tags": null
          },
          "name": "stderr",
          "output_type": "stream",
          "text": [
            "Experiment 77\n",
            "Epoch 0019 [Test seq (cond on sampled tp)] | Loss -5.087292 | Likelihood 5.649998 | KL fp 6.5066 | FP STD 0.0011|\n",
            "KL coef: 0.08648275251635917\n",
            "Train loss (one batch): -5.2636308670043945\n",
            "Train CE loss (one batch): 0.0\n",
            "Test MSE: 6.77638695378846e-07\n",
            "Poisson likelihood: 0.0\n",
            "CE loss: 0.0\n"
          ]
        },
        {
          "metadata": {
            "tags": null
          },
          "name": "stdout",
          "output_type": "stream",
          "text": [
            "Computing loss... 0\n"
          ]
        },
        {
          "metadata": {
            "tags": null
          },
          "name": "stderr",
          "output_type": "stream",
          "text": [
            "Experiment 77\n",
            "Epoch 0020 [Test seq (cond on sampled tp)] | Loss -4.727920 | Likelihood 5.322073 | KL fp 6.2138 | FP STD 0.0021|\n",
            "KL coef: 0.09561792499119559\n",
            "Train loss (one batch): -4.592934608459473\n",
            "Train CE loss (one batch): 0.0\n",
            "Test MSE: 1.333487830379454e-06\n",
            "Poisson likelihood: 0.0\n",
            "CE loss: 0.0\n"
          ]
        },
        {
          "metadata": {
            "tags": null
          },
          "name": "stdout",
          "output_type": "stream",
          "text": [
            "Computing loss... 0\n"
          ]
        },
        {
          "metadata": {
            "tags": null
          },
          "name": "stderr",
          "output_type": "stream",
          "text": [
            "Experiment 77\n",
            "Epoch 0021 [Test seq (cond on sampled tp)] | Loss -4.966187 | Likelihood 5.625678 | KL fp 6.3012 | FP STD 0.0013|\n",
            "KL coef: 0.10466174574128362\n",
            "Train loss (one batch): -5.159356117248535\n",
            "Train CE loss (one batch): 0.0\n",
            "Test MSE: 7.262785288730811e-07\n",
            "Poisson likelihood: 0.0\n",
            "CE loss: 0.0\n"
          ]
        },
        {
          "metadata": {
            "tags": null
          },
          "name": "stdout",
          "output_type": "stream",
          "text": [
            "Computing loss... 0\n"
          ]
        },
        {
          "metadata": {
            "tags": null
          },
          "name": "stderr",
          "output_type": "stream",
          "text": [
            "Experiment 77\n",
            "Epoch 0022 [Test seq (cond on sampled tp)] | Loss -5.039505 | Likelihood 5.763203 | KL fp 6.3697 | FP STD 0.0012|\n",
            "KL coef: 0.11361512828387077\n",
            "Train loss (one batch): -5.12125301361084\n",
            "Train CE loss (one batch): 0.0\n",
            "Test MSE: 4.51227549547184e-07\n",
            "Poisson likelihood: 0.0\n",
            "CE loss: 0.0\n"
          ]
        },
        {
          "metadata": {
            "tags": null
          },
          "name": "stdout",
          "output_type": "stream",
          "text": [
            "Computing loss... 0\n"
          ]
        },
        {
          "metadata": {
            "tags": null
          },
          "name": "stderr",
          "output_type": "stream",
          "text": [
            "Experiment 77\n",
            "Epoch 0023 [Test seq (cond on sampled tp)] | Loss -4.865133 | Likelihood 5.627398 | KL fp 6.2236 | FP STD 0.0014|\n",
            "KL coef: 0.12247897700103216\n",
            "Train loss (one batch): -5.064194202423096\n",
            "Train CE loss (one batch): 0.0\n",
            "Test MSE: 7.228372282952478e-07\n",
            "Poisson likelihood: 0.0\n",
            "CE loss: 0.0\n"
          ]
        },
        {
          "metadata": {
            "tags": null
          },
          "name": "stdout",
          "output_type": "stream",
          "text": [
            "Computing loss... 0\n"
          ]
        },
        {
          "metadata": {
            "tags": null
          },
          "name": "stderr",
          "output_type": "stream",
          "text": [
            "Experiment 77\n",
            "Epoch 0024 [Test seq (cond on sampled tp)] | Loss -4.913993 | Likelihood 5.733438 | KL fp 6.2432 | FP STD 0.0014|\n",
            "KL coef: 0.13125418723102178\n",
            "Train loss (one batch): -5.015027046203613\n",
            "Train CE loss (one batch): 0.0\n",
            "Test MSE: 5.107595484332705e-07\n",
            "Poisson likelihood: 0.0\n",
            "CE loss: 0.0\n"
          ]
        },
        {
          "metadata": {
            "tags": null
          },
          "name": "stdout",
          "output_type": "stream",
          "text": [
            "Computing loss... 0\n"
          ]
        },
        {
          "metadata": {
            "tags": null
          },
          "name": "stderr",
          "output_type": "stream",
          "text": [
            "Experiment 77\n",
            "Epoch 0025 [Test seq (cond on sampled tp)] | Loss -4.746090 | Likelihood 5.591451 | KL fp 6.0408 | FP STD 0.0015|\n",
            "KL coef: 0.13994164535871156\n",
            "Train loss (one batch): -4.99436092376709\n",
            "Train CE loss (one batch): 0.0\n",
            "Test MSE: 7.947315339151828e-07\n",
            "Poisson likelihood: 0.0\n",
            "CE loss: 0.0\n"
          ]
        },
        {
          "metadata": {
            "tags": null
          },
          "name": "stdout",
          "output_type": "stream",
          "text": [
            "Computing loss... 0\n"
          ]
        },
        {
          "metadata": {
            "tags": null
          },
          "name": "stderr",
          "output_type": "stream",
          "text": [
            "Experiment 77\n",
            "Epoch 0026 [Test seq (cond on sampled tp)] | Loss -4.850972 | Likelihood 5.760272 | KL fp 6.1215 | FP STD 0.0015|\n",
            "KL coef: 0.14854222890512447\n",
            "Train loss (one batch): -4.872929096221924\n",
            "Train CE loss (one batch): 0.0\n",
            "Test MSE: 4.570899534428463e-07\n",
            "Poisson likelihood: 0.0\n",
            "CE loss: 0.0\n"
          ]
        },
        {
          "metadata": {
            "tags": null
          },
          "name": "stdout",
          "output_type": "stream",
          "text": [
            "Computing loss... 0\n"
          ]
        },
        {
          "metadata": {
            "tags": null
          },
          "name": "stderr",
          "output_type": "stream",
          "text": [
            "Experiment 77\n",
            "Epoch 0027 [Test seq (cond on sampled tp)] | Loss -4.653597 | Likelihood 5.606251 | KL fp 6.0657 | FP STD 0.0016|\n",
            "KL coef: 0.15705680661607324\n",
            "Train loss (one batch): -4.867513656616211\n",
            "Train CE loss (one batch): 0.0\n",
            "Test MSE: 7.651310625078622e-07\n",
            "Poisson likelihood: 0.0\n",
            "CE loss: 0.0\n"
          ]
        },
        {
          "metadata": {
            "tags": null
          },
          "name": "stdout",
          "output_type": "stream",
          "text": [
            "Computing loss... 0\n"
          ]
        },
        {
          "metadata": {
            "tags": null
          },
          "name": "stderr",
          "output_type": "stream",
          "text": [
            "Experiment 77\n",
            "Epoch 0028 [Test seq (cond on sampled tp)] | Loss -4.714623 | Likelihood 5.717507 | KL fp 6.0602 | FP STD 0.0015|\n",
            "KL coef: 0.1654862385499125\n",
            "Train loss (one batch): -4.832339763641357\n",
            "Train CE loss (one batch): 0.0\n",
            "Test MSE: 5.42620853138942e-07\n",
            "Poisson likelihood: 0.0\n",
            "CE loss: 0.0\n"
          ]
        },
        {
          "metadata": {
            "tags": null
          },
          "name": "stdout",
          "output_type": "stream",
          "text": [
            "Computing loss... 0\n"
          ]
        },
        {
          "metadata": {
            "tags": null
          },
          "name": "stderr",
          "output_type": "stream",
          "text": [
            "Experiment 77\n",
            "Epoch 0029 [Test seq (cond on sampled tp)] | Loss -4.560853 | Likelihood 5.604158 | KL fp 6.0018 | FP STD 0.0017|\n",
            "KL coef: 0.17383137616441335\n",
            "Train loss (one batch): -4.799846172332764\n",
            "Train CE loss (one batch): 0.0\n",
            "Test MSE: 7.693190582358511e-07\n",
            "Poisson likelihood: 0.0\n",
            "CE loss: 0.0\n"
          ]
        },
        {
          "metadata": {
            "tags": null
          },
          "name": "stdout",
          "output_type": "stream",
          "text": [
            "Computing loss... 0\n"
          ]
        },
        {
          "metadata": {
            "tags": null
          },
          "name": "stderr",
          "output_type": "stream",
          "text": [
            "Experiment 77\n",
            "Epoch 0030 [Test seq (cond on sampled tp)] | Loss -4.612391 | Likelihood 5.698905 | KL fp 5.9668 | FP STD 0.0017|\n",
            "KL coef: 0.18209306240276923\n",
            "Train loss (one batch): -4.676161289215088\n",
            "Train CE loss (one batch): 0.0\n",
            "Test MSE: 5.798239612886391e-07\n",
            "Poisson likelihood: 0.0\n",
            "CE loss: 0.0\n"
          ]
        },
        {
          "metadata": {
            "tags": null
          },
          "name": "stdout",
          "output_type": "stream",
          "text": [
            "Computing loss... 0\n"
          ]
        },
        {
          "metadata": {
            "tags": null
          },
          "name": "stderr",
          "output_type": "stream",
          "text": [
            "Experiment 77\n",
            "Epoch 0031 [Test seq (cond on sampled tp)] | Loss -4.470501 | Likelihood 5.592123 | KL fp 5.8948 | FP STD 0.0018|\n",
            "KL coef: 0.19027213177874158\n",
            "Train loss (one batch): -4.6551055908203125\n",
            "Train CE loss (one batch): 0.0\n",
            "Test MSE: 7.933866186249361e-07\n",
            "Poisson likelihood: 0.0\n",
            "CE loss: 0.0\n"
          ]
        },
        {
          "metadata": {
            "tags": null
          },
          "name": "stdout",
          "output_type": "stream",
          "text": [
            "Computing loss... 0\n"
          ]
        },
        {
          "metadata": {
            "tags": null
          },
          "name": "stderr",
          "output_type": "stream",
          "text": [
            "Experiment 77\n",
            "Epoch 0032 [Test seq (cond on sampled tp)] | Loss -4.539443 | Likelihood 5.718795 | KL fp 5.9452 | FP STD 0.0017|\n",
            "KL coef: 0.19836941046095413\n",
            "Train loss (one batch): -4.624222755432129\n",
            "Train CE loss (one batch): 0.0\n",
            "Test MSE: 5.400443114922382e-07\n",
            "Poisson likelihood: 0.0\n",
            "CE loss: 0.0\n"
          ]
        },
        {
          "metadata": {
            "tags": null
          },
          "name": "stdout",
          "output_type": "stream",
          "text": [
            "Computing loss... 0\n"
          ]
        },
        {
          "metadata": {
            "tags": null
          },
          "name": "stderr",
          "output_type": "stream",
          "text": [
            "Experiment 77\n",
            "Epoch 0033 [Test seq (cond on sampled tp)] | Loss -4.374914 | Likelihood 5.569600 | KL fp 5.7886 | FP STD 0.0019|\n",
            "KL coef: 0.20638571635634462\n",
            "Train loss (one batch): -4.6146979331970215\n",
            "Train CE loss (one batch): 0.0\n",
            "Test MSE: 8.384338912037492e-07\n",
            "Poisson likelihood: 0.0\n",
            "CE loss: 0.0\n"
          ]
        },
        {
          "metadata": {
            "tags": null
          },
          "name": "stdout",
          "output_type": "stream",
          "text": [
            "Computing loss... 0\n"
          ]
        },
        {
          "metadata": {
            "tags": null
          },
          "name": "stderr",
          "output_type": "stream",
          "text": [
            "Experiment 77\n",
            "Epoch 0034 [Test seq (cond on sampled tp)] | Loss -4.425686 | Likelihood 5.692475 | KL fp 5.9107 | FP STD 0.0020|\n",
            "KL coef: 0.21432185919278124\n",
            "Train loss (one batch): -4.522186756134033\n",
            "Train CE loss (one batch): 0.0\n",
            "Test MSE: 5.926833637204254e-07\n",
            "Poisson likelihood: 0.0\n",
            "CE loss: 0.0\n"
          ]
        },
        {
          "metadata": {
            "tags": null
          },
          "name": "stdout",
          "output_type": "stream",
          "text": [
            "Computing loss... 0\n"
          ]
        },
        {
          "metadata": {
            "tags": null
          },
          "name": "stderr",
          "output_type": "stream",
          "text": [
            "Experiment 77\n",
            "Epoch 0035 [Test seq (cond on sampled tp)] | Loss -4.295349 | Likelihood 5.588133 | KL fp 5.8187 | FP STD 0.0019|\n",
            "KL coef: 0.22217864060085335\n",
            "Train loss (one batch): -4.524391174316406\n",
            "Train CE loss (one batch): 0.0\n",
            "Test MSE: 8.013673209461558e-07\n",
            "Poisson likelihood: 0.0\n",
            "CE loss: 0.0\n"
          ]
        },
        {
          "metadata": {
            "tags": null
          },
          "name": "stdout",
          "output_type": "stream",
          "text": [
            "Computing loss... 0\n"
          ]
        },
        {
          "metadata": {
            "tags": null
          },
          "name": "stderr",
          "output_type": "stream",
          "text": [
            "Experiment 77\n",
            "Epoch 0036 [Test seq (cond on sampled tp)] | Loss -4.382124 | Likelihood 5.723812 | KL fp 5.8345 | FP STD 0.0019|\n",
            "KL coef: 0.2299568541948449\n",
            "Train loss (one batch): -4.4549455642700195\n",
            "Train CE loss (one batch): 0.0\n",
            "Test MSE: 5.300101975080906e-07\n",
            "Poisson likelihood: 0.0\n",
            "CE loss: 0.0\n"
          ]
        },
        {
          "metadata": {
            "tags": null
          },
          "name": "stdout",
          "output_type": "stream",
          "text": [
            "Computing loss... 0\n"
          ]
        },
        {
          "metadata": {
            "tags": null
          },
          "name": "stderr",
          "output_type": "stream",
          "text": [
            "Experiment 77\n",
            "Epoch 0037 [Test seq (cond on sampled tp)] | Loss -4.216089 | Likelihood 5.573350 | KL fp 5.7110 | FP STD 0.0021|\n",
            "KL coef: 0.23765728565289646\n",
            "Train loss (one batch): -4.421517848968506\n",
            "Train CE loss (one batch): 0.0\n",
            "Test MSE: 8.309334589284845e-07\n",
            "Poisson likelihood: 0.0\n",
            "CE loss: 0.0\n"
          ]
        },
        {
          "metadata": {
            "tags": null
          },
          "name": "stdout",
          "output_type": "stream",
          "text": [
            "Computing loss... 0\n"
          ]
        },
        {
          "metadata": {
            "tags": null
          },
          "name": "stderr",
          "output_type": "stream",
          "text": [
            "Experiment 77\n",
            "Epoch 0038 [Test seq (cond on sampled tp)] | Loss -4.276094 | Likelihood 5.737723 | KL fp 5.9590 | FP STD 0.0018|\n",
            "KL coef: 0.24528071279636743\n",
            "Train loss (one batch): -4.3471269607543945\n",
            "Train CE loss (one batch): 0.0\n",
            "Test MSE: 5.021879019295739e-07\n",
            "Poisson likelihood: 0.0\n",
            "CE loss: 0.0\n"
          ]
        },
        {
          "metadata": {
            "tags": null
          },
          "name": "stdout",
          "output_type": "stream",
          "text": [
            "Computing loss... 0\n"
          ]
        },
        {
          "metadata": {
            "tags": null
          },
          "name": "stderr",
          "output_type": "stream",
          "text": [
            "Experiment 77\n",
            "Epoch 0039 [Test seq (cond on sampled tp)] | Loss -4.137794 | Likelihood 5.582061 | KL fp 5.7124 | FP STD 0.0021|\n",
            "KL coef: 0.25282790566840385\n",
            "Train loss (one batch): -4.367004871368408\n",
            "Train CE loss (one batch): 0.0\n",
            "Test MSE: 8.135125995067938e-07\n",
            "Poisson likelihood: 0.0\n",
            "CE loss: 0.0\n"
          ]
        },
        {
          "metadata": {
            "tags": null
          },
          "name": "stdout",
          "output_type": "stream",
          "text": [
            "Computing loss... 0\n"
          ]
        },
        {
          "metadata": {
            "tags": null
          },
          "name": "stderr",
          "output_type": "stream",
          "text": [
            "Experiment 77\n",
            "Epoch 0040 [Test seq (cond on sampled tp)] | Loss -4.213707 | Likelihood 5.728437 | KL fp 5.8192 | FP STD 0.0020|\n",
            "KL coef: 0.2602996266117198\n",
            "Train loss (one batch): -4.260339260101318\n",
            "Train CE loss (one batch): 0.0\n",
            "Test MSE: 5.207590447753319e-07\n",
            "Poisson likelihood: 0.0\n",
            "CE loss: 0.0\n"
          ]
        },
        {
          "metadata": {
            "tags": null
          },
          "name": "stdout",
          "output_type": "stream",
          "text": [
            "Computing loss... 0\n"
          ]
        },
        {
          "metadata": {
            "tags": null
          },
          "name": "stderr",
          "output_type": "stream",
          "text": [
            "Experiment 77\n",
            "Epoch 0041 [Test seq (cond on sampled tp)] | Loss -4.058334 | Likelihood 5.560201 | KL fp 5.6103 | FP STD 0.0023|\n",
            "KL coef: 0.26769663034560254\n",
            "Train loss (one batch): -4.282951354980469\n",
            "Train CE loss (one batch): 0.0\n",
            "Test MSE: 8.572320098210184e-07\n",
            "Poisson likelihood: 0.0\n",
            "CE loss: 0.0\n"
          ]
        },
        {
          "metadata": {
            "tags": null
          },
          "name": "stdout",
          "output_type": "stream",
          "text": [
            "Computing loss... 0\n"
          ]
        },
        {
          "metadata": {
            "tags": null
          },
          "name": "stderr",
          "output_type": "stream",
          "text": [
            "Experiment 77\n",
            "Epoch 0042 [Test seq (cond on sampled tp)] | Loss -4.105815 | Likelihood 5.714419 | KL fp 5.8491 | FP STD 0.0020|\n",
            "KL coef: 0.2750196640421466\n",
            "Train loss (one batch): -4.182113170623779\n",
            "Train CE loss (one batch): 0.0\n",
            "Test MSE: 5.48795583199535e-07\n",
            "Poisson likelihood: 0.0\n",
            "CE loss: 0.0\n"
          ]
        },
        {
          "metadata": {
            "tags": null
          },
          "name": "stdout",
          "output_type": "stream",
          "text": [
            "Computing loss... 0\n"
          ]
        },
        {
          "metadata": {
            "tags": null
          },
          "name": "stderr",
          "output_type": "stream",
          "text": [
            "Experiment 77\n",
            "Epoch 0043 [Test seq (cond on sampled tp)] | Loss -3.955288 | Likelihood 5.570687 | KL fp 5.7229 | FP STD 0.0022|\n",
            "KL coef: 0.2822694674017251\n",
            "Train loss (one batch): -4.172986030578613\n",
            "Train CE loss (one batch): 0.0\n",
            "Test MSE: 8.362587777810404e-07\n",
            "Poisson likelihood: 0.0\n",
            "CE loss: 0.0\n"
          ]
        },
        {
          "metadata": {
            "tags": null
          },
          "name": "stdout",
          "output_type": "stream",
          "text": [
            "Computing loss... 0\n"
          ]
        },
        {
          "metadata": {
            "tags": null
          },
          "name": "stderr",
          "output_type": "stream",
          "text": [
            "Experiment 77\n",
            "Epoch 0044 [Test seq (cond on sampled tp)] | Loss -4.032304 | Likelihood 5.709221 | KL fp 5.7935 | FP STD 0.0021|\n",
            "KL coef: 0.2894467727277079\n",
            "Train loss (one batch): -4.149449348449707\n",
            "Train CE loss (one batch): 0.0\n",
            "Test MSE: 5.591924718828523e-07\n",
            "Poisson likelihood: 0.0\n",
            "CE loss: 0.0\n"
          ]
        },
        {
          "metadata": {
            "tags": null
          },
          "name": "stdout",
          "output_type": "stream",
          "text": [
            "Computing loss... 0\n"
          ]
        },
        {
          "metadata": {
            "tags": null
          },
          "name": "stderr",
          "output_type": "stream",
          "text": [
            "Experiment 77\n",
            "Epoch 0045 [Test seq (cond on sampled tp)] | Loss -3.887520 | Likelihood 5.549762 | KL fp 5.6052 | FP STD 0.0024|\n",
            "KL coef: 0.29655230500043084\n",
            "Train loss (one batch): -4.085195541381836\n",
            "Train CE loss (one batch): 0.0\n",
            "Test MSE: 8.781101428212423e-07\n",
            "Poisson likelihood: 0.0\n",
            "CE loss: 0.0\n"
          ]
        },
        {
          "metadata": {
            "tags": null
          },
          "name": "stdout",
          "output_type": "stream",
          "text": [
            "Computing loss... 0\n"
          ]
        },
        {
          "metadata": {
            "tags": null
          },
          "name": "stderr",
          "output_type": "stream",
          "text": [
            "Experiment 77\n",
            "Epoch 0046 [Test seq (cond on sampled tp)] | Loss -3.962308 | Likelihood 5.696939 | KL fp 5.7138 | FP STD 0.0022|\n",
            "KL coef: 0.30358678195042654\n",
            "Train loss (one batch): -4.036923408508301\n",
            "Train CE loss (one batch): 0.0\n",
            "Test MSE: 5.837541152686754e-07\n",
            "Poisson likelihood: 0.0\n",
            "CE loss: 0.0\n"
          ]
        },
        {
          "metadata": {
            "tags": null
          },
          "name": "stdout",
          "output_type": "stream",
          "text": [
            "Computing loss... 0\n"
          ]
        },
        {
          "metadata": {
            "tags": null
          },
          "name": "stderr",
          "output_type": "stream",
          "text": [
            "Experiment 77\n",
            "Epoch 0047 [Test seq (cond on sampled tp)] | Loss -3.864963 | Likelihood 5.602540 | KL fp 5.5951 | FP STD 0.0025|\n",
            "KL coef: 0.3105509141309223\n",
            "Train loss (one batch): -4.053325176239014\n",
            "Train CE loss (one batch): 0.0\n",
            "Test MSE: 7.72554301420314e-07\n",
            "Poisson likelihood: 0.0\n",
            "CE loss: 0.0\n"
          ]
        },
        {
          "metadata": {
            "tags": null
          },
          "name": "stdout",
          "output_type": "stream",
          "text": [
            "Computing loss... 0\n"
          ]
        },
        {
          "metadata": {
            "tags": null
          },
          "name": "stderr",
          "output_type": "stream",
          "text": [
            "Experiment 77\n",
            "Epoch 0048 [Test seq (cond on sampled tp)] | Loss -3.870716 | Likelihood 5.685480 | KL fp 5.7168 | FP STD 0.0023|\n",
            "KL coef: 0.31744540498961304\n",
            "Train loss (one batch): -3.9531688690185547\n",
            "Train CE loss (one batch): 0.0\n",
            "Test MSE: 6.06673438596772e-07\n",
            "Poisson likelihood: 0.0\n",
            "CE loss: 0.0\n"
          ]
        },
        {
          "metadata": {
            "tags": null
          },
          "name": "stdout",
          "output_type": "stream",
          "text": [
            "Computing loss... 0\n"
          ]
        },
        {
          "metadata": {
            "tags": null
          },
          "name": "stderr",
          "output_type": "stream",
          "text": [
            "Experiment 77\n",
            "Epoch 0049 [Test seq (cond on sampled tp)] | Loss -3.359056 | Likelihood 5.126281 | KL fp 5.4498 | FP STD 0.0035|\n",
            "KL coef: 0.3242709509397169\n",
            "Train loss (one batch): -3.736156463623047\n",
            "Train CE loss (one batch): 0.0\n",
            "Test MSE: 1.7250711152883014e-06\n",
            "Poisson likelihood: 0.0\n",
            "CE loss: 0.0\n"
          ]
        },
        {
          "metadata": {
            "tags": null
          },
          "name": "stdout",
          "output_type": "stream",
          "text": [
            "Computing loss... 0\n"
          ]
        },
        {
          "metadata": {
            "tags": null
          },
          "name": "stderr",
          "output_type": "stream",
          "text": [
            "Experiment 77\n",
            "Epoch 0050 [Test seq (cond on sampled tp)] | Loss -3.772043 | Likelihood 5.616063 | KL fp 5.5706 | FP STD 0.0026|\n",
            "KL coef: 0.3310282414303197\n",
            "Train loss (one batch): -3.9006645679473877\n",
            "Train CE loss (one batch): 0.0\n",
            "Test MSE: 7.455094532815565e-07\n",
            "Poisson likelihood: 0.0\n",
            "CE loss: 0.0\n"
          ]
        },
        {
          "metadata": {
            "tags": null
          },
          "name": "stdout",
          "output_type": "stream",
          "text": [
            "Computing loss... 0\n"
          ]
        },
        {
          "metadata": {
            "tags": null
          },
          "name": "stderr",
          "output_type": "stream",
          "text": [
            "Experiment 77\n",
            "Epoch 0051 [Test seq (cond on sampled tp)] | Loss -3.724802 | Likelihood 5.578238 | KL fp 5.4881 | FP STD 0.0027|\n",
            "KL coef: 0.33771795901601653\n",
            "Train loss (one batch): -3.863614797592163\n",
            "Train CE loss (one batch): 0.0\n",
            "Test MSE: 8.211563908844255e-07\n",
            "Poisson likelihood: 0.0\n",
            "CE loss: 0.0\n"
          ]
        },
        {
          "metadata": {
            "tags": null
          },
          "name": "stdout",
          "output_type": "stream",
          "text": [
            "Computing loss... 0\n"
          ]
        },
        {
          "metadata": {
            "tags": null
          },
          "name": "stderr",
          "output_type": "stream",
          "text": [
            "Experiment 77\n",
            "Epoch 0052 [Test seq (cond on sampled tp)] | Loss -3.754051 | Likelihood 5.665305 | KL fp 5.5505 | FP STD 0.0025|\n",
            "KL coef: 0.3443407794258564\n",
            "Train loss (one batch): -3.8370699882507324\n",
            "Train CE loss (one batch): 0.0\n",
            "Test MSE: 6.470241373790486e-07\n",
            "Poisson likelihood: 0.0\n",
            "CE loss: 0.0\n"
          ]
        },
        {
          "metadata": {
            "tags": null
          },
          "name": "stdout",
          "output_type": "stream",
          "text": [
            "Computing loss... 0\n"
          ]
        },
        {
          "metadata": {
            "tags": null
          },
          "name": "stderr",
          "output_type": "stream",
          "text": [
            "Experiment 77\n",
            "Epoch 0053 [Test seq (cond on sampled tp)] | Loss -3.661254 | Likelihood 5.550936 | KL fp 5.3853 | FP STD 0.0029|\n",
            "KL coef: 0.35089737163159784\n",
            "Train loss (one batch): -3.821770668029785\n",
            "Train CE loss (one batch): 0.0\n",
            "Test MSE: 8.757613159104949e-07\n",
            "Poisson likelihood: 0.0\n",
            "CE loss: 0.0\n"
          ]
        },
        {
          "metadata": {
            "tags": null
          },
          "name": "stdout",
          "output_type": "stream",
          "text": [
            "Computing loss... 0\n"
          ]
        },
        {
          "metadata": {
            "tags": null
          },
          "name": "stderr",
          "output_type": "stream",
          "text": [
            "Experiment 77\n",
            "Epoch 0054 [Test seq (cond on sampled tp)] | Loss -3.679070 | Likelihood 5.674713 | KL fp 5.5840 | FP STD 0.0025|\n",
            "KL coef: 0.3573883979152819\n",
            "Train loss (one batch): -3.7726874351501465\n",
            "Train CE loss (one batch): 0.0\n",
            "Test MSE: 6.282085678321891e-07\n",
            "Poisson likelihood: 0.0\n",
            "CE loss: 0.0\n"
          ]
        },
        {
          "metadata": {
            "tags": null
          },
          "name": "stdout",
          "output_type": "stream",
          "text": [
            "Computing loss... 0\n"
          ]
        },
        {
          "metadata": {
            "tags": null
          },
          "name": "stderr",
          "output_type": "stream",
          "text": [
            "Experiment 77\n",
            "Epoch 0055 [Test seq (cond on sampled tp)] | Loss -2.033519 | Likelihood 3.897937 | KL fp 5.1246 | FP STD 0.0055|\n",
            "KL coef: 0.36381451393612907\n",
            "Train loss (one batch): -0.10031533241271973\n",
            "Train CE loss (one batch): 0.0\n",
            "Test MSE: 4.181760687060887e-06\n",
            "Poisson likelihood: 0.0\n",
            "CE loss: 0.0\n"
          ]
        },
        {
          "metadata": {
            "tags": null
          },
          "name": "stdout",
          "output_type": "stream",
          "text": [
            "Computing loss... 0\n"
          ]
        },
        {
          "metadata": {
            "tags": null
          },
          "name": "stderr",
          "output_type": "stream",
          "text": [
            "Experiment 77\n",
            "Epoch 0056 [Test seq (cond on sampled tp)] | Loss -3.153579 | Likelihood 5.142564 | KL fp 5.3731 | FP STD 0.0036|\n",
            "KL coef: 0.37017636879676774\n",
            "Train loss (one batch): -2.6932716369628906\n",
            "Train CE loss (one batch): 0.0\n",
            "Test MSE: 1.6925058616834576e-06\n",
            "Poisson likelihood: 0.0\n",
            "CE loss: 0.0\n"
          ]
        },
        {
          "metadata": {
            "tags": null
          },
          "name": "stdout",
          "output_type": "stream",
          "text": [
            "Computing loss... 0\n"
          ]
        },
        {
          "metadata": {
            "tags": null
          },
          "name": "stderr",
          "output_type": "stream",
          "text": [
            "Experiment 77\n",
            "Epoch 0057 [Test seq (cond on sampled tp)] | Loss -3.455450 | Likelihood 5.469027 | KL fp 5.3485 | FP STD 0.0033|\n",
            "KL coef: 0.37647460510880004\n",
            "Train loss (one batch): -3.5810985565185547\n",
            "Train CE loss (one batch): 0.0\n",
            "Test MSE: 1.039579387906997e-06\n",
            "Poisson likelihood: 0.0\n",
            "CE loss: 0.0\n"
          ]
        },
        {
          "metadata": {
            "tags": null
          },
          "name": "stdout",
          "output_type": "stream",
          "text": [
            "Computing loss... 0\n"
          ]
        },
        {
          "metadata": {
            "tags": null
          },
          "name": "stderr",
          "output_type": "stream",
          "text": [
            "Experiment 77\n",
            "Epoch 0058 [Test seq (cond on sampled tp)] | Loss -3.552736 | Likelihood 5.623465 | KL fp 5.4107 | FP STD 0.0029|\n",
            "KL coef: 0.38270985905771204\n",
            "Train loss (one batch): -3.65901780128479\n",
            "Train CE loss (one batch): 0.0\n",
            "Test MSE: 7.307034479708818e-07\n",
            "Poisson likelihood: 0.0\n",
            "CE loss: 0.0\n"
          ]
        },
        {
          "metadata": {
            "tags": null
          },
          "name": "stdout",
          "output_type": "stream",
          "text": [
            "Computing loss... 0\n"
          ]
        },
        {
          "metadata": {
            "tags": null
          },
          "name": "stderr",
          "output_type": "stream",
          "text": [
            "Experiment 77\n",
            "Epoch 0059 [Test seq (cond on sampled tp)] | Loss -3.449809 | Likelihood 5.545627 | KL fp 5.3893 | FP STD 0.0030|\n",
            "KL coef: 0.388882760467135\n",
            "Train loss (one batch): -3.7127625942230225\n",
            "Train CE loss (one batch): 0.0\n",
            "Test MSE: 8.863793823365995e-07\n",
            "Poisson likelihood: 0.0\n",
            "CE loss: 0.0\n"
          ]
        },
        {
          "metadata": {
            "tags": null
          },
          "name": "stdout",
          "output_type": "stream",
          "text": [
            "Computing loss... 0\n"
          ]
        },
        {
          "metadata": {
            "tags": null
          },
          "name": "stderr",
          "output_type": "stream",
          "text": [
            "Experiment 77\n",
            "Epoch 0060 [Test seq (cond on sampled tp)] | Loss -2.695350 | Likelihood 4.793178 | KL fp 5.3110 | FP STD 0.0043|\n",
            "KL coef: 0.39499393286246365\n",
            "Train loss (one batch): -3.0959551334381104\n",
            "Train CE loss (one batch): 0.0\n",
            "Test MSE: 2.3912782580737257e-06\n",
            "Poisson likelihood: 0.0\n",
            "CE loss: 0.0\n"
          ]
        },
        {
          "metadata": {
            "tags": null
          },
          "name": "stdout",
          "output_type": "stream",
          "text": [
            "Computing loss... 0\n"
          ]
        },
        {
          "metadata": {
            "tags": null
          },
          "name": "stderr",
          "output_type": "stream",
          "text": [
            "Experiment 77\n",
            "Epoch 0061 [Test seq (cond on sampled tp)] | Loss -3.255760 | Likelihood 5.356369 | KL fp 5.2379 | FP STD 0.0038|\n",
            "KL coef: 0.401043993533839\n",
            "Train loss (one batch): -3.599503517150879\n",
            "Train CE loss (one batch): 0.0\n",
            "Test MSE: 1.2648962410821696e-06\n",
            "Poisson likelihood: 0.0\n",
            "CE loss: 0.0\n"
          ]
        },
        {
          "metadata": {
            "tags": null
          },
          "name": "stdout",
          "output_type": "stream",
          "text": [
            "Computing loss... 0\n"
          ]
        },
        {
          "metadata": {
            "tags": null
          },
          "name": "stderr",
          "output_type": "stream",
          "text": [
            "Experiment 77\n",
            "Epoch 0062 [Test seq (cond on sampled tp)] | Loss -3.418379 | Likelihood 5.604078 | KL fp 5.3698 | FP STD 0.0030|\n",
            "KL coef: 0.4070335535985006\n",
            "Train loss (one batch): -3.4866132736206055\n",
            "Train CE loss (one batch): 0.0\n",
            "Test MSE: 7.694781629652425e-07\n",
            "Poisson likelihood: 0.0\n",
            "CE loss: 0.0\n"
          ]
        },
        {
          "metadata": {
            "tags": null
          },
          "name": "stdout",
          "output_type": "stream",
          "text": [
            "Computing loss... 0\n"
          ]
        },
        {
          "metadata": {
            "tags": null
          },
          "name": "stderr",
          "output_type": "stream",
          "text": [
            "Experiment 77\n",
            "Epoch 0063 [Test seq (cond on sampled tp)] | Loss -3.343578 | Likelihood 5.541908 | KL fp 5.3233 | FP STD 0.0032|\n",
            "KL coef: 0.41296321806251557\n",
            "Train loss (one batch): -3.555067300796509\n",
            "Train CE loss (one batch): 0.0\n",
            "Test MSE: 8.938172868511174e-07\n",
            "Poisson likelihood: 0.0\n",
            "CE loss: 0.0\n"
          ]
        },
        {
          "metadata": {
            "tags": null
          },
          "name": "stdout",
          "output_type": "stream",
          "text": [
            "Computing loss... 0\n"
          ]
        },
        {
          "metadata": {
            "tags": null
          },
          "name": "stderr",
          "output_type": "stream",
          "text": [
            "Experiment 77\n",
            "Epoch 0064 [Test seq (cond on sampled tp)] | Loss -3.395457 | Likelihood 5.668546 | KL fp 5.4272 | FP STD 0.0029|\n",
            "KL coef: 0.41883358588189046\n",
            "Train loss (one batch): -3.4687325954437256\n",
            "Train CE loss (one batch): 0.0\n",
            "Test MSE: 6.405416002053244e-07\n",
            "Poisson likelihood: 0.0\n",
            "CE loss: 0.0\n"
          ]
        },
        {
          "metadata": {
            "tags": null
          },
          "name": "stdout",
          "output_type": "stream",
          "text": [
            "Computing loss... 0\n"
          ]
        },
        {
          "metadata": {
            "tags": null
          },
          "name": "stderr",
          "output_type": "stream",
          "text": [
            "Experiment 77\n",
            "Epoch 0065 [Test seq (cond on sampled tp)] | Loss -3.303321 | Likelihood 5.561050 | KL fp 5.3167 | FP STD 0.0031|\n",
            "KL coef: 0.4246452500230715\n",
            "Train loss (one batch): -3.475104331970215\n",
            "Train CE loss (one batch): 0.0\n",
            "Test MSE: 8.55532505283918e-07\n",
            "Poisson likelihood: 0.0\n",
            "CE loss: 0.0\n"
          ]
        },
        {
          "metadata": {
            "tags": null
          },
          "name": "stdout",
          "output_type": "stream",
          "text": [
            "Computing loss... 0\n"
          ]
        },
        {
          "metadata": {
            "tags": null
          },
          "name": "stderr",
          "output_type": "stream",
          "text": [
            "Experiment 77\n",
            "Epoch 0066 [Test seq (cond on sampled tp)] | Loss -3.349299 | Likelihood 5.692186 | KL fp 5.4435 | FP STD 0.0028|\n",
            "KL coef: 0.4303987975228408\n",
            "Train loss (one batch): -3.373307704925537\n",
            "Train CE loss (one batch): 0.0\n",
            "Test MSE: 5.932617455073341e-07\n",
            "Poisson likelihood: 0.0\n",
            "CE loss: 0.0\n"
          ]
        },
        {
          "metadata": {
            "tags": null
          },
          "name": "stdout",
          "output_type": "stream",
          "text": [
            "Computing loss... 0\n"
          ]
        },
        {
          "metadata": {
            "tags": null
          },
          "name": "stderr",
          "output_type": "stream",
          "text": [
            "Experiment 77\n",
            "Epoch 0067 [Test seq (cond on sampled tp)] | Loss -3.212437 | Likelihood 5.517931 | KL fp 5.2867 | FP STD 0.0032|\n",
            "KL coef: 0.4360948095476125\n",
            "Train loss (one batch): -3.3902013301849365\n",
            "Train CE loss (one batch): 0.0\n",
            "Test MSE: 9.417719297744043e-07\n",
            "Poisson likelihood: 0.0\n",
            "CE loss: 0.0\n"
          ]
        },
        {
          "metadata": {
            "tags": null
          },
          "name": "stdout",
          "output_type": "stream",
          "text": [
            "Computing loss... 0\n"
          ]
        },
        {
          "metadata": {
            "tags": null
          },
          "name": "stderr",
          "output_type": "stream",
          "text": [
            "Experiment 77\n",
            "Epoch 0068 [Test seq (cond on sampled tp)] | Loss -0.219204 | Likelihood 2.445055 | KL fp 5.0389 | FP STD 0.0067|\n",
            "KL coef: 0.44173386145213633\n",
            "Train loss (one batch): -0.23180413246154785\n",
            "Train CE loss (one batch): 0.0\n",
            "Test MSE: 7.087523954396602e-06\n",
            "Poisson likelihood: 0.0\n",
            "CE loss: 0.0\n"
          ]
        },
        {
          "metadata": {
            "tags": null
          },
          "name": "stdout",
          "output_type": "stream",
          "text": [
            "Computing loss... 0\n"
          ]
        },
        {
          "metadata": {
            "tags": null
          },
          "name": "stderr",
          "output_type": "stream",
          "text": [
            "Experiment 77\n",
            "Epoch 0069 [Test seq (cond on sampled tp)] | Loss -1.079885 | Likelihood 3.354209 | KL fp 5.0844 | FP STD 0.0061|\n",
            "KL coef: 0.4473165228376149\n",
            "Train loss (one batch): -1.9998383522033691\n",
            "Train CE loss (one batch): 0.0\n",
            "Test MSE: 5.2692143981403206e-06\n",
            "Poisson likelihood: 0.0\n",
            "CE loss: 0.0\n"
          ]
        },
        {
          "metadata": {
            "tags": null
          },
          "name": "stdout",
          "output_type": "stream",
          "text": [
            "Computing loss... 0\n"
          ]
        },
        {
          "metadata": {
            "tags": null
          },
          "name": "stderr",
          "output_type": "stream",
          "text": [
            "Experiment 77\n",
            "Epoch 0070 [Test seq (cond on sampled tp)] | Loss -1.493150 | Likelihood 3.804149 | KL fp 5.1033 | FP STD 0.0058|\n",
            "KL coef: 0.4528433576092388\n",
            "Train loss (one batch): -1.435539722442627\n",
            "Train CE loss (one batch): 0.0\n",
            "Test MSE: 4.369335329101887e-06\n",
            "Poisson likelihood: 0.0\n",
            "CE loss: 0.0\n"
          ]
        },
        {
          "metadata": {
            "tags": null
          },
          "name": "stdout",
          "output_type": "stream",
          "text": [
            "Computing loss... 0\n"
          ]
        },
        {
          "metadata": {
            "tags": null
          },
          "name": "stderr",
          "output_type": "stream",
          "text": [
            "Experiment 77\n",
            "Epoch 0071 [Test seq (cond on sampled tp)] | Loss -1.973919 | Likelihood 4.305885 | KL fp 5.0881 | FP STD 0.0056|\n",
            "KL coef: 0.45831492403314644\n",
            "Train loss (one batch): -2.353736639022827\n",
            "Train CE loss (one batch): 0.0\n",
            "Test MSE: 3.3658629945421126e-06\n",
            "Poisson likelihood: 0.0\n",
            "CE loss: 0.0\n"
          ]
        },
        {
          "metadata": {
            "tags": null
          },
          "name": "stdout",
          "output_type": "stream",
          "text": [
            "Computing loss... 0\n"
          ]
        },
        {
          "metadata": {
            "tags": null
          },
          "name": "stderr",
          "output_type": "stream",
          "text": [
            "Experiment 77\n",
            "Epoch 0072 [Test seq (cond on sampled tp)] | Loss -2.268410 | Likelihood 4.640245 | KL fp 5.1147 | FP STD 0.0053|\n",
            "KL coef: 0.463731774792815\n",
            "Train loss (one batch): -2.0375208854675293\n",
            "Train CE loss (one batch): 0.0\n",
            "Test MSE: 2.6971438273903914e-06\n",
            "Poisson likelihood: 0.0\n",
            "CE loss: 0.0\n"
          ]
        },
        {
          "metadata": {
            "tags": null
          },
          "name": "stdout",
          "output_type": "stream",
          "text": [
            "Computing loss... 0\n"
          ]
        },
        {
          "metadata": {
            "tags": null
          },
          "name": "stderr",
          "output_type": "stream",
          "text": [
            "Experiment 77\n",
            "Epoch 0073 [Test seq (cond on sampled tp)] | Loss -2.555398 | Likelihood 4.928275 | KL fp 5.0584 | FP STD 0.0052|\n",
            "KL coef: 0.46909445704488684\n",
            "Train loss (one batch): -2.2105345726013184\n",
            "Train CE loss (one batch): 0.0\n",
            "Test MSE: 2.1210826162132435e-06\n",
            "Poisson likelihood: 0.0\n",
            "CE loss: 0.0\n"
          ]
        },
        {
          "metadata": {
            "tags": null
          },
          "name": "stdout",
          "output_type": "stream",
          "text": [
            "Computing loss... 0\n"
          ]
        },
        {
          "metadata": {
            "tags": null
          },
          "name": "stderr",
          "output_type": "stream",
          "text": [
            "Experiment 77\n",
            "Epoch 0074 [Test seq (cond on sampled tp)] | Loss -2.692093 | Likelihood 5.110868 | KL fp 5.0986 | FP STD 0.0047|\n",
            "KL coef: 0.474403512474438\n",
            "Train loss (one batch): -2.597130537033081\n",
            "Train CE loss (one batch): 0.0\n",
            "Test MSE: 1.755899120325921e-06\n",
            "Poisson likelihood: 0.0\n",
            "CE loss: 0.0\n"
          ]
        },
        {
          "metadata": {
            "tags": null
          },
          "name": "stdout",
          "output_type": "stream",
          "text": [
            "Computing loss... 0\n"
          ]
        },
        {
          "metadata": {
            "tags": null
          },
          "name": "stderr",
          "output_type": "stream",
          "text": [
            "Experiment 77\n",
            "Epoch 0075 [Test seq (cond on sampled tp)] | Loss -2.825491 | Likelihood 5.267112 | KL fp 5.0903 | FP STD 0.0045|\n",
            "KL coef: 0.4796594773496936\n",
            "Train loss (one batch): -2.9265902042388916\n",
            "Train CE loss (one batch): 0.0\n",
            "Test MSE: 1.4434104969041073e-06\n",
            "Poisson likelihood: 0.0\n",
            "CE loss: 0.0\n"
          ]
        },
        {
          "metadata": {
            "tags": null
          },
          "name": "stdout",
          "output_type": "stream",
          "text": [
            "Computing loss... 0\n"
          ]
        },
        {
          "metadata": {
            "tags": null
          },
          "name": "stderr",
          "output_type": "stream",
          "text": [
            "Experiment 77\n",
            "Epoch 0076 [Test seq (cond on sampled tp)] | Loss -2.930277 | Likelihood 5.438397 | KL fp 5.1728 | FP STD 0.0040|\n",
            "KL coef: 0.4848628825761967\n",
            "Train loss (one batch): -3.1285269260406494\n",
            "Train CE loss (one batch): 0.0\n",
            "Test MSE: 1.1008397677869652e-06\n",
            "Poisson likelihood: 0.0\n",
            "CE loss: 0.0\n"
          ]
        },
        {
          "metadata": {
            "tags": null
          },
          "name": "stdout",
          "output_type": "stream",
          "text": [
            "Computing loss... 0\n"
          ]
        },
        {
          "metadata": {
            "tags": null
          },
          "name": "stderr",
          "output_type": "stream",
          "text": [
            "Experiment 77\n",
            "Epoch 0077 [Test seq (cond on sampled tp)] | Loss -2.914718 | Likelihood 5.403149 | KL fp 5.0783 | FP STD 0.0041|\n",
            "KL coef: 0.4900142537504347\n",
            "Train loss (one batch): -3.0732083320617676\n",
            "Train CE loss (one batch): 0.0\n",
            "Test MSE: 1.1713353842424112e-06\n",
            "Poisson likelihood: 0.0\n",
            "CE loss: 0.0\n"
          ]
        },
        {
          "metadata": {
            "tags": null
          },
          "name": "stdout",
          "output_type": "stream",
          "text": [
            "Computing loss... 0\n"
          ]
        },
        {
          "metadata": {
            "tags": null
          },
          "name": "stderr",
          "output_type": "stream",
          "text": [
            "Experiment 77\n",
            "Epoch 0078 [Test seq (cond on sampled tp)] | Loss -3.002631 | Likelihood 5.588003 | KL fp 5.2218 | FP STD 0.0035|\n",
            "KL coef: 0.49511411121293036\n",
            "Train loss (one batch): -3.012866735458374\n",
            "Train CE loss (one batch): 0.0\n",
            "Test MSE: 8.016268679966743e-07\n",
            "Poisson likelihood: 0.0\n",
            "CE loss: 0.0\n"
          ]
        },
        {
          "metadata": {
            "tags": null
          },
          "name": "stdout",
          "output_type": "stream",
          "text": [
            "Computing loss... 0\n"
          ]
        },
        {
          "metadata": {
            "tags": null
          },
          "name": "stderr",
          "output_type": "stream",
          "text": [
            "Experiment 77\n",
            "Epoch 0079 [Test seq (cond on sampled tp)] | Loss -2.929574 | Likelihood 5.529587 | KL fp 5.1983 | FP STD 0.0036|\n",
            "KL coef: 0.500162970100801\n",
            "Train loss (one batch): -3.160949230194092\n",
            "Train CE loss (one batch): 0.0\n",
            "Test MSE: 9.184587383970211e-07\n",
            "Poisson likelihood: 0.0\n",
            "CE loss: 0.0\n"
          ]
        },
        {
          "metadata": {
            "tags": null
          },
          "name": "stdout",
          "output_type": "stream",
          "text": [
            "Computing loss... 0\n"
          ]
        },
        {
          "metadata": {
            "tags": null
          },
          "name": "stderr",
          "output_type": "stream",
          "text": [
            "Experiment 77\n",
            "Epoch 0080 [Test seq (cond on sampled tp)] | Loss -2.962084 | Likelihood 5.638305 | KL fp 5.2978 | FP STD 0.0033|\n",
            "KL coef: 0.505161340399793\n",
            "Train loss (one batch): -3.0005276203155518\n",
            "Train CE loss (one batch): 0.0\n",
            "Test MSE: 7.010233389337373e-07\n",
            "Poisson likelihood: 0.0\n",
            "CE loss: 0.0\n"
          ]
        },
        {
          "metadata": {
            "tags": null
          },
          "name": "stdout",
          "output_type": "stream",
          "text": [
            "Computing loss... 0\n"
          ]
        },
        {
          "metadata": {
            "tags": null
          },
          "name": "stderr",
          "output_type": "stream",
          "text": [
            "Experiment 77\n",
            "Epoch 0081 [Test seq (cond on sampled tp)] | Loss -2.865427 | Likelihood 5.512766 | KL fp 5.1897 | FP STD 0.0036|\n",
            "KL coef: 0.510109726995795\n",
            "Train loss (one batch): -3.1136767864227295\n",
            "Train CE loss (one batch): 0.0\n",
            "Test MSE: 9.521010611024394e-07\n",
            "Poisson likelihood: 0.0\n",
            "CE loss: 0.0\n"
          ]
        },
        {
          "metadata": {
            "tags": null
          },
          "name": "stdout",
          "output_type": "stream",
          "text": [
            "Computing loss... 0\n"
          ]
        },
        {
          "metadata": {
            "tags": null
          },
          "name": "stderr",
          "output_type": "stream",
          "text": [
            "Experiment 77\n",
            "Epoch 0082 [Test seq (cond on sampled tp)] | Loss -2.915361 | Likelihood 5.664683 | KL fp 5.3384 | FP STD 0.0032|\n",
            "KL coef: 0.5150086297258372\n",
            "Train loss (one batch): -3.0627543926239014\n",
            "Train CE loss (one batch): 0.0\n",
            "Test MSE: 6.482666208285082e-07\n",
            "Poisson likelihood: 0.0\n",
            "CE loss: 0.0\n"
          ]
        },
        {
          "metadata": {
            "tags": null
          },
          "name": "stdout",
          "output_type": "stream",
          "text": [
            "Computing loss... 0\n"
          ]
        },
        {
          "metadata": {
            "tags": null
          },
          "name": "stderr",
          "output_type": "stream",
          "text": [
            "Experiment 77\n",
            "Epoch 0083 [Test seq (cond on sampled tp)] | Loss -2.737509 | Likelihood 5.397444 | KL fp 5.1167 | FP STD 0.0040|\n",
            "KL coef: 0.5198585434285787\n",
            "Train loss (one batch): -2.8873140811920166\n",
            "Train CE loss (one batch): 0.0\n",
            "Test MSE: 1.1827454500235035e-06\n",
            "Poisson likelihood: 0.0\n",
            "CE loss: 0.0\n"
          ]
        },
        {
          "metadata": {
            "tags": null
          },
          "name": "stdout",
          "output_type": "stream",
          "text": [
            "Computing loss... 0\n"
          ]
        },
        {
          "metadata": {
            "tags": null
          },
          "name": "stderr",
          "output_type": "stream",
          "text": [
            "Experiment 77\n",
            "Epoch 0084 [Test seq (cond on sampled tp)] | Loss -2.761956 | Likelihood 5.470516 | KL fp 5.1625 | FP STD 0.0042|\n",
            "KL coef: 0.524659957994293\n",
            "Train loss (one batch): -2.8376176357269287\n",
            "Train CE loss (one batch): 0.0\n",
            "Test MSE: 1.0366018159402302e-06\n",
            "Poisson likelihood: 0.0\n",
            "CE loss: 0.0\n"
          ]
        },
        {
          "metadata": {
            "tags": null
          },
          "name": "stdout",
          "output_type": "stream",
          "text": [
            "Computing loss... 0\n"
          ]
        },
        {
          "metadata": {
            "tags": null
          },
          "name": "stderr",
          "output_type": "stream",
          "text": [
            "Experiment 77\n",
            "Epoch 0085 [Test seq (cond on sampled tp)] | Loss -2.792107 | Likelihood 5.510895 | KL fp 5.1355 | FP STD 0.0038|\n",
            "KL coef: 0.5294133584143501\n",
            "Train loss (one batch): -2.9949920177459717\n",
            "Train CE loss (one batch): 0.0\n",
            "Test MSE: 9.558447118251934e-07\n",
            "Poisson likelihood: 0.0\n",
            "CE loss: 0.0\n"
          ]
        },
        {
          "metadata": {
            "tags": null
          },
          "name": "stdout",
          "output_type": "stream",
          "text": [
            "Computing loss... 0\n"
          ]
        },
        {
          "metadata": {
            "tags": null
          },
          "name": "stderr",
          "output_type": "stream",
          "text": [
            "Experiment 77\n",
            "Epoch 0086 [Test seq (cond on sampled tp)] | Loss -2.807422 | Likelihood 5.632886 | KL fp 5.2900 | FP STD 0.0034|\n",
            "KL coef: 0.5341192248302067\n",
            "Train loss (one batch): -2.882938861846924\n",
            "Train CE loss (one batch): 0.0\n",
            "Test MSE: 7.118611051737389e-07\n",
            "Poisson likelihood: 0.0\n",
            "CE loss: 0.0\n"
          ]
        },
        {
          "metadata": {
            "tags": null
          },
          "name": "stdout",
          "output_type": "stream",
          "text": [
            "Computing loss... 0\n"
          ]
        },
        {
          "metadata": {
            "tags": null
          },
          "name": "stderr",
          "output_type": "stream",
          "text": [
            "Experiment 77\n",
            "Epoch 0087 [Test seq (cond on sampled tp)] | Loss -2.710889 | Likelihood 5.437773 | KL fp 5.0612 | FP STD 0.0042|\n",
            "KL coef: 0.5387780325819045\n",
            "Train loss (one batch): -2.9825401306152344\n",
            "Train CE loss (one batch): 0.0\n",
            "Test MSE: 1.1020867987099336e-06\n",
            "Poisson likelihood: 0.0\n",
            "CE loss: 0.0\n"
          ]
        },
        {
          "metadata": {
            "tags": null
          },
          "name": "stdout",
          "output_type": "stream",
          "text": [
            "Computing loss... 0\n"
          ]
        },
        {
          "metadata": {
            "tags": null
          },
          "name": "stderr",
          "output_type": "stream",
          "text": [
            "Experiment 77\n",
            "Epoch 0088 [Test seq (cond on sampled tp)] | Loss -2.768555 | Likelihood 5.600665 | KL fp 5.2119 | FP STD 0.0036|\n",
            "KL coef: 0.5433902522560855\n",
            "Train loss (one batch): -2.907400608062744\n",
            "Train CE loss (one batch): 0.0\n",
            "Test MSE: 7.763042049191426e-07\n",
            "Poisson likelihood: 0.0\n",
            "CE loss: 0.0\n"
          ]
        },
        {
          "metadata": {
            "tags": null
          },
          "name": "stdout",
          "output_type": "stream",
          "text": [
            "Computing loss... 0\n"
          ]
        },
        {
          "metadata": {
            "tags": null
          },
          "name": "stderr",
          "output_type": "stream",
          "text": [
            "Experiment 77\n",
            "Epoch 0089 [Test seq (cond on sampled tp)] | Loss -2.648082 | Likelihood 5.446754 | KL fp 5.1075 | FP STD 0.0039|\n",
            "KL coef: 0.5479563497335247\n",
            "Train loss (one batch): -2.791924238204956\n",
            "Train CE loss (one batch): 0.0\n",
            "Test MSE: 1.0841250741577824e-06\n",
            "Poisson likelihood: 0.0\n",
            "CE loss: 0.0\n"
          ]
        },
        {
          "metadata": {
            "tags": null
          },
          "name": "stdout",
          "output_type": "stream",
          "text": [
            "Computing loss... 0\n"
          ]
        },
        {
          "metadata": {
            "tags": null
          },
          "name": "stderr",
          "output_type": "stream",
          "text": [
            "Experiment 77\n",
            "Epoch 0090 [Test seq (cond on sampled tp)] | Loss -2.716817 | Likelihood 5.592723 | KL fp 5.2055 | FP STD 0.0036|\n",
            "KL coef: 0.5524767862361895\n",
            "Train loss (one batch): -2.8559939861297607\n",
            "Train CE loss (one batch): 0.0\n",
            "Test MSE: 7.921881888250937e-07\n",
            "Poisson likelihood: 0.0\n",
            "CE loss: 0.0\n"
          ]
        },
        {
          "metadata": {
            "tags": null
          },
          "name": "stdout",
          "output_type": "stream",
          "text": [
            "Computing loss... 0\n"
          ]
        },
        {
          "metadata": {
            "tags": null
          },
          "name": "stderr",
          "output_type": "stream",
          "text": [
            "Experiment 77\n",
            "Epoch 0091 [Test seq (cond on sampled tp)] | Loss -2.637343 | Likelihood 5.477343 | KL fp 5.0992 | FP STD 0.0039|\n",
            "KL coef: 0.5569520183738275\n",
            "Train loss (one batch): -2.861827850341797\n",
            "Train CE loss (one batch): 0.0\n",
            "Test MSE: 1.0229477993561886e-06\n",
            "Poisson likelihood: 0.0\n",
            "CE loss: 0.0\n"
          ]
        },
        {
          "metadata": {
            "tags": null
          },
          "name": "stdout",
          "output_type": "stream",
          "text": [
            "Computing loss... 0\n"
          ]
        },
        {
          "metadata": {
            "tags": null
          },
          "name": "stderr",
          "output_type": "stream",
          "text": [
            "Experiment 77\n",
            "Epoch 0092 [Test seq (cond on sampled tp)] | Loss -2.690123 | Likelihood 5.573106 | KL fp 5.1355 | FP STD 0.0037|\n",
            "KL coef: 0.5613824981900892\n",
            "Train loss (one batch): -2.7558679580688477\n",
            "Train CE loss (one batch): 0.0\n",
            "Test MSE: 8.314212891491479e-07\n",
            "Poisson likelihood: 0.0\n",
            "CE loss: 0.0\n"
          ]
        },
        {
          "metadata": {
            "tags": null
          },
          "name": "stdout",
          "output_type": "stream",
          "text": [
            "Computing loss... 0\n"
          ]
        },
        {
          "metadata": {
            "tags": null
          },
          "name": "stderr",
          "output_type": "stream",
          "text": [
            "Experiment 77\n",
            "Epoch 0093 [Test seq (cond on sampled tp)] | Loss -2.612539 | Likelihood 5.494834 | KL fp 5.0945 | FP STD 0.0039|\n",
            "KL coef: 0.5657686732081884\n",
            "Train loss (one batch): -2.7930104732513428\n",
            "Train CE loss (one batch): 0.0\n",
            "Test MSE: 9.879645403998438e-07\n",
            "Poisson likelihood: 0.0\n",
            "CE loss: 0.0\n"
          ]
        },
        {
          "metadata": {
            "tags": null
          },
          "name": "stdout",
          "output_type": "stream",
          "text": [
            "Computing loss... 0\n"
          ]
        },
        {
          "metadata": {
            "tags": null
          },
          "name": "stderr",
          "output_type": "stream",
          "text": [
            "Experiment 77\n",
            "Epoch 0094 [Test seq (cond on sampled tp)] | Loss -2.649884 | Likelihood 5.576115 | KL fp 5.1327 | FP STD 0.0038|\n",
            "KL coef: 0.5701109864761065\n",
            "Train loss (one batch): -2.7480618953704834\n",
            "Train CE loss (one batch): 0.0\n",
            "Test MSE: 8.254051522271766e-07\n",
            "Poisson likelihood: 0.0\n",
            "CE loss: 0.0\n"
          ]
        },
        {
          "metadata": {
            "tags": null
          },
          "name": "stdout",
          "output_type": "stream",
          "text": [
            "Computing loss... 0\n"
          ]
        },
        {
          "metadata": {
            "tags": null
          },
          "name": "stderr",
          "output_type": "stream",
          "text": [
            "Experiment 77\n",
            "Epoch 0095 [Test seq (cond on sampled tp)] | Loss -2.555809 | Likelihood 5.468465 | KL fp 5.0707 | FP STD 0.0040|\n",
            "KL coef: 0.5744098766113455\n",
            "Train loss (one batch): -2.7609195709228516\n",
            "Train CE loss (one batch): 0.0\n",
            "Test MSE: 1.0407039781057392e-06\n",
            "Poisson likelihood: 0.0\n",
            "CE loss: 0.0\n"
          ]
        },
        {
          "metadata": {
            "tags": null
          },
          "name": "stdout",
          "output_type": "stream",
          "text": [
            "Computing loss... 0\n"
          ]
        },
        {
          "metadata": {
            "tags": null
          },
          "name": "stderr",
          "output_type": "stream",
          "text": [
            "Experiment 77\n",
            "Epoch 0096 [Test seq (cond on sampled tp)] | Loss -2.615197 | Likelihood 5.597548 | KL fp 5.1538 | FP STD 0.0037|\n",
            "KL coef: 0.578665777845232\n",
            "Train loss (one batch): -2.703885078430176\n",
            "Train CE loss (one batch): 0.0\n",
            "Test MSE: 7.825378247616754e-07\n",
            "Poisson likelihood: 0.0\n",
            "CE loss: 0.0\n"
          ]
        },
        {
          "metadata": {
            "tags": null
          },
          "name": "stdout",
          "output_type": "stream",
          "text": [
            "Computing loss... 0\n"
          ]
        },
        {
          "metadata": {
            "tags": null
          },
          "name": "stderr",
          "output_type": "stream",
          "text": [
            "Experiment 77\n",
            "Epoch 0097 [Test seq (cond on sampled tp)] | Loss -2.501294 | Likelihood 5.471032 | KL fp 5.0949 | FP STD 0.0039|\n",
            "KL coef: 0.5828791200667797\n",
            "Train loss (one batch): -2.7535815238952637\n",
            "Train CE loss (one batch): 0.0\n",
            "Test MSE: 1.0355699942010688e-06\n",
            "Poisson likelihood: 0.0\n",
            "CE loss: 0.0\n"
          ]
        },
        {
          "metadata": {
            "tags": null
          },
          "name": "stdout",
          "output_type": "stream",
          "text": [
            "Computing loss... 0\n"
          ]
        },
        {
          "metadata": {
            "tags": null
          },
          "name": "stderr",
          "output_type": "stream",
          "text": [
            "Experiment 77\n",
            "Epoch 0098 [Test seq (cond on sampled tp)] | Loss -1.707071 | Likelihood 4.651053 | KL fp 5.0149 | FP STD 0.0055|\n",
            "KL coef: 0.5870503288661119\n",
            "Train loss (one batch): -1.6493842601776123\n",
            "Train CE loss (one batch): 0.0\n",
            "Test MSE: 2.675527866813354e-06\n",
            "Poisson likelihood: 0.0\n",
            "CE loss: 0.0\n"
          ]
        },
        {
          "metadata": {
            "tags": null
          },
          "name": "stdout",
          "output_type": "stream",
          "text": [
            "Computing loss... 0\n"
          ]
        },
        {
          "output_type": "stream",
          "name": "stderr",
          "text": [
            "Experiment 77\n",
            "Epoch 0099 [Test seq (cond on sampled tp)] | Loss -2.333178 | Likelihood 5.282394 | KL fp 4.9887 | FP STD 0.0048|\n",
            "KL coef: 0.5911798255774507\n",
            "Train loss (one batch): -2.440790891647339\n",
            "Train CE loss (one batch): 0.0\n",
            "Test MSE: 1.4128449947747868e-06\n",
            "Poisson likelihood: 0.0\n",
            "CE loss: 0.0\n"
          ]
        },
        {
          "output_type": "stream",
          "name": "stdout",
          "text": [
            "Computing loss... 0\n"
          ]
        },
        {
          "output_type": "stream",
          "name": "stderr",
          "text": [
            "Experiment 77\n",
            "Epoch 0100 [Test seq (cond on sampled tp)] | Loss -2.466790 | Likelihood 5.464222 | KL fp 5.0354 | FP STD 0.0043|\n",
            "KL coef: 0.5952680273216762\n",
            "Train loss (one batch): -2.5317130088806152\n",
            "Train CE loss (one batch): 0.0\n",
            "Test MSE: 1.0491886541785789e-06\n",
            "Poisson likelihood: 0.0\n",
            "CE loss: 0.0\n"
          ]
        },
        {
          "output_type": "stream",
          "name": "stdout",
          "text": [
            "Computing loss... 0\n"
          ]
        }
      ]
    },
    {
      "cell_type": "code",
      "metadata": {
        "colab": {
          "base_uri": "https://localhost:8080/"
        },
        "id": "1dZyy6zdARJe",
        "outputId": "4486b8cb-cb90-400a-876d-d61b31483bfd"
      },
      "source": [
        "test_res['pred_y'][0][0].shape"
      ],
      "execution_count": 22,
      "outputs": [
        {
          "output_type": "execute_result",
          "data": {
            "text/plain": [
              "(3066, 5, 10)"
            ]
          },
          "metadata": {},
          "execution_count": 22
        }
      ]
    },
    {
      "cell_type": "code",
      "metadata": {
        "id": "xfWim6o0ABUH"
      },
      "source": [
        "train_pred_y_list = []\n",
        "train_true_y_list = []\n",
        "with torch.no_grad():\n",
        "    train_pred_y_list.append(train_res['pred_y'].cpu().numpy())\n",
        "    train_true_y_list.append(train_res['true_y'].cpu().numpy())\n",
        "    test_pred_y_list = test_res['pred_y']\n",
        "    test_true_y_list = test_res['true_y']"
      ],
      "execution_count": 23,
      "outputs": []
    },
    {
      "cell_type": "code",
      "metadata": {
        "colab": {
          "base_uri": "https://localhost:8080/"
        },
        "id": "vmGOoPDQAxtt",
        "outputId": "74fb1599-2d05-46f3-8b41-63516acfd9b9"
      },
      "source": [
        "train_pred_y_list[0][0].shape"
      ],
      "execution_count": 24,
      "outputs": [
        {
          "output_type": "execute_result",
          "data": {
            "text/plain": [
              "(50, 5, 10)"
            ]
          },
          "metadata": {},
          "execution_count": 24
        }
      ]
    },
    {
      "cell_type": "code",
      "metadata": {
        "id": "xXfq6eEnmA4l"
      },
      "source": [
        "def plot_train_loss(train_loss_list):\n",
        "    plt.plot(train_loss_list)\n",
        "    plt.title(f\"Train ELBO Loss\")\n",
        "    plt.ylabel('Train ELBO Loss')\n",
        "    plt.xlabel('Epochs')\n",
        "    if not os.path.exists(\"plots/\"):\n",
        "        utils.makedirs(\"plots/\")\n",
        "    plt.savefig(f\"plots/ELBO Train Loss cluster_{cluster}.pdf\", dpi = 150)\n",
        "    plt.show()\n",
        "\n",
        "def plot_test_loss(test_loss_list):\n",
        "    plt.plot(test_loss_list)\n",
        "    plt.title(f\"Test ELBO Loss\")\n",
        "    plt.ylabel('Test ELBO Loss')\n",
        "    plt.xlabel('Epochs')\n",
        "    if not os.path.exists(\"plots/\"):\n",
        "        utils.makedirs(\"plots/\")\n",
        "    plt.savefig(f\"plots/ELBO Test Loss cluster_{cluster}.pdf\", dpi = 150)\n",
        "    plt.show()\n",
        "\n",
        "def plot_train_likelihood(train_likelihood_list):\n",
        "    plt.plot(train_likelihood_list)\n",
        "    plt.title(f\"Train Likelihood\")\n",
        "    plt.ylabel('Train Likelihood')\n",
        "    plt.xlabel('#Batches')\n",
        "    if not os.path.exists(\"plots/\"):\n",
        "        utils.makedirs(\"plots/\")\n",
        "    plt.savefig(f\"plots/Likelihood Train cluster_{cluster}.pdf\", dpi = 150)\n",
        "    plt.show()\n",
        "\n",
        "def plot_test_likelihood(test_likelihood_list):\n",
        "    plt.plot(test_likelihood_list)\n",
        "    plt.title(f\"Test Likelihood\")\n",
        "    plt.ylabel('Test Likelihood')\n",
        "    plt.xlabel('Epochs')\n",
        "    if not os.path.exists(\"plots/\"):\n",
        "        utils.makedirs(\"plots/\")\n",
        "    plt.savefig(f\"plots/Likelihood Test cluster_{cluster}.pdf\", dpi = 150)\n",
        "    plt.show()\n",
        "\n",
        "def plot_train_mse(train_mse_list):\n",
        "    plt.plot(train_mse_list)\n",
        "    plt.title(f\"Train MSE Loss\")\n",
        "    plt.ylabel('Train MSE Loss')\n",
        "    plt.xlabel('Epochs')\n",
        "    if not os.path.exists(\"plots/\"):\n",
        "        utils.makedirs(\"plots/\")\n",
        "    plt.savefig(f\"plots/MSE Loss Train cluster_{cluster}.pdf\", dpi = 150)\n",
        "    plt.show()\n",
        "\n",
        "def plot_test_mse(test_mse_list):\n",
        "    plt.plot(test_mse_list)\n",
        "    plt.title(f\"test MSE Loss\")\n",
        "    plt.ylabel('test MSE Loss')\n",
        "    plt.xlabel('Epochs')\n",
        "    if not os.path.exists(\"plots/\"):\n",
        "        utils.makedirs(\"plots/\")\n",
        "    plt.savefig(f\"plots/MSE Loss Test cluster_{cluster}.pdf\", dpi = 150)\n",
        "    plt.show()"
      ],
      "execution_count": 25,
      "outputs": []
    },
    {
      "cell_type": "markdown",
      "metadata": {
        "id": "TzhnA8xU_wHT"
      },
      "source": [
        "## Plots"
      ]
    },
    {
      "cell_type": "code",
      "metadata": {
        "id": "NjfsNJEyYeLJ"
      },
      "source": [
        "plot_train_loss(train_loss_list)"
      ],
      "execution_count": 26,
      "outputs": []
    },
    {
      "cell_type": "code",
      "metadata": {
        "id": "AZPkaJI0_vqv"
      },
      "source": [
        "plot_test_loss(test_loss_list)"
      ],
      "execution_count": 27,
      "outputs": []
    },
    {
      "cell_type": "code",
      "metadata": {
        "id": "7k4P_ep7BQa9"
      },
      "source": [
        "plot_train_likelihood(train_likelihood_list)"
      ],
      "execution_count": 28,
      "outputs": []
    },
    {
      "cell_type": "code",
      "metadata": {
        "id": "3WvrTlxvBSif"
      },
      "source": [
        "plot_test_likelihood(test_likelihood_list)"
      ],
      "execution_count": 29,
      "outputs": []
    },
    {
      "cell_type": "code",
      "metadata": {
        "id": "hx6k654gBUj5"
      },
      "source": [
        "plot_train_mse(train_mse_list)"
      ],
      "execution_count": 30,
      "outputs": []
    },
    {
      "cell_type": "code",
      "metadata": {
        "id": "IuViIrJzBWd-"
      },
      "source": [
        "plot_test_mse(test_mse_list)"
      ],
      "execution_count": 31,
      "outputs": []
    },
    {
      "cell_type": "markdown",
      "metadata": {
        "id": "7QJJVSCfCQEs"
      },
      "source": [
        "## Save Train Pred_y, Test_y, kl_first_p, std_first_p, kl_coeff_list"
      ]
    },
    {
      "cell_type": "code",
      "metadata": {
        "id": "VumeLhaSBYRy"
      },
      "source": [
        "np.save(f\"train pred y cluster_{cluster}.npy\", train_pred_y_list[0][0])"
      ],
      "execution_count": 32,
      "outputs": []
    },
    {
      "cell_type": "code",
      "metadata": {
        "colab": {
          "base_uri": "https://localhost:8080/"
        },
        "id": "5Gwjaw_yCs0I",
        "outputId": "4d7d2560-1702-4610-d46e-9dc2289889b6"
      },
      "source": [
        "np.load(f\"train pred y cluster_{cluster}.npy\").shape"
      ],
      "execution_count": 33,
      "outputs": [
        {
          "output_type": "execute_result",
          "data": {
            "text/plain": [
              "(50, 5, 10)"
            ]
          },
          "metadata": {},
          "execution_count": 33
        }
      ]
    },
    {
      "cell_type": "code",
      "metadata": {
        "id": "fcS5F20MCvsQ"
      },
      "source": [
        "np.save(f\"test_pred_y_cluster_{cluster}.npy\", train_pred_y_list[0][0])"
      ],
      "execution_count": 34,
      "outputs": []
    },
    {
      "cell_type": "code",
      "metadata": {
        "colab": {
          "base_uri": "https://localhost:8080/"
        },
        "id": "nSDfgsxeDS-B",
        "outputId": "e64faafc-0442-40ac-e1c7-11c1e547866e"
      },
      "source": [
        "train_true_y_list[0].shape"
      ],
      "execution_count": 35,
      "outputs": [
        {
          "output_type": "execute_result",
          "data": {
            "text/plain": [
              "(50, 5, 10)"
            ]
          },
          "metadata": {},
          "execution_count": 35
        }
      ]
    },
    {
      "cell_type": "code",
      "metadata": {
        "id": "ppolIJF2C_qD"
      },
      "source": [
        "np.save(f\"train_true_y_cluster_{cluster}.npy\", train_true_y_list[0])"
      ],
      "execution_count": 36,
      "outputs": []
    },
    {
      "cell_type": "code",
      "metadata": {
        "colab": {
          "base_uri": "https://localhost:8080/"
        },
        "id": "xqLOllPQDk41",
        "outputId": "f30f086a-9432-47fe-e967-90dc99df4efc"
      },
      "source": [
        "test_true_y_list[0].shape"
      ],
      "execution_count": 37,
      "outputs": [
        {
          "output_type": "execute_result",
          "data": {
            "text/plain": [
              "(3066, 5, 10)"
            ]
          },
          "metadata": {},
          "execution_count": 37
        }
      ]
    },
    {
      "cell_type": "code",
      "metadata": {
        "id": "m4ZwraTvDeVC"
      },
      "source": [
        "np.save(f\"test_true_y_cluster_{cluster}.npy\", test_true_y_list[0])"
      ],
      "execution_count": 38,
      "outputs": []
    },
    {
      "cell_type": "code",
      "metadata": {
        "colab": {
          "base_uri": "https://localhost:8080/"
        },
        "id": "4FOsakfVD73-",
        "outputId": "11ef28b2-b467-4bba-bfa8-24e686985d5a"
      },
      "source": [
        "train_loss_list"
      ],
      "execution_count": 39,
      "outputs": [
        {
          "output_type": "execute_result",
          "data": {
            "text/plain": [
              "[3276.739501953125,\n",
              " 2920.664306640625,\n",
              " 461.4305419921875,\n",
              " 317.3164367675781,\n",
              " 318.7496337890625,\n",
              " 271.8492431640625,\n",
              " 287.3353576660156,\n",
              " 219.75946044921875,\n",
              " 163.190185546875,\n",
              " 133.1577911376953,\n",
              " 100.71495819091797,\n",
              " 80.91064453125,\n",
              " 62.520652770996094,\n",
              " 39.75196075439453,\n",
              " 30.393606185913086,\n",
              " 20.089929580688477,\n",
              " 15.540987968444824,\n",
              " 13.530719757080078,\n",
              " 12.245956420898438,\n",
              " 11.795924186706543,\n",
              " 10.747262001037598,\n",
              " 12.55239200592041,\n",
              " 10.901999473571777,\n",
              " 10.148476600646973,\n",
              " 8.464446067810059,\n",
              " 11.16843318939209,\n",
              " 8.295126914978027,\n",
              " 8.250383377075195,\n",
              " 20.59849739074707,\n",
              " 26.04522132873535,\n",
              " 44.2275276184082,\n",
              " 83.30768585205078,\n",
              " 130.8942413330078,\n",
              " 67.14681243896484,\n",
              " 2415.7646484375,\n",
              " 6455.341796875,\n",
              " 58537.87890625,\n",
              " 182.7602081298828,\n",
              " 277.54705810546875,\n",
              " 325.77557373046875,\n",
              " 335.4677734375,\n",
              " 301.1307678222656,\n",
              " 289.7886657714844,\n",
              " 225.11463928222656,\n",
              " 169.99179077148438,\n",
              " 132.07044982910156,\n",
              " 105.00956726074219,\n",
              " 94.87106323242188,\n",
              " 83.3184585571289,\n",
              " 83.02446746826172,\n",
              " 80.54010772705078,\n",
              " 70.31486511230469,\n",
              " 70.73112487792969,\n",
              " 60.71479415893555,\n",
              " 54.065277099609375,\n",
              " 47.69965744018555,\n",
              " 38.72800827026367,\n",
              " 32.43278884887695,\n",
              " 28.507102966308594,\n",
              " 29.08443260192871,\n",
              " 24.97612190246582,\n",
              " 22.157758712768555,\n",
              " 15.694069862365723,\n",
              " 11.54117202758789,\n",
              " 9.718381881713867,\n",
              " 22.351287841796875,\n",
              " 120.6385726928711,\n",
              " 388.8996276855469,\n",
              " 705.2462158203125,\n",
              " 18.751779556274414,\n",
              " 23.097490310668945,\n",
              " 27.290239334106445,\n",
              " 26.213075637817383,\n",
              " 27.88337516784668,\n",
              " 26.68173599243164,\n",
              " 27.59749412536621,\n",
              " 28.16849136352539,\n",
              " 21.990915298461914,\n",
              " 19.72508430480957,\n",
              " 15.595939636230469,\n",
              " 15.652899742126465,\n",
              " 11.664731979370117,\n",
              " 11.311137199401855,\n",
              " 9.851977348327637,\n",
              " 7.528248310089111,\n",
              " 5.721259593963623,\n",
              " 4.47437047958374,\n",
              " 3.2992935180664062,\n",
              " 2.053898334503174,\n",
              " 1.629175066947937,\n",
              " 1.318916916847229,\n",
              " 0.9355477690696716,\n",
              " 0.6101766228675842,\n",
              " -0.13530950248241425,\n",
              " -0.701709508895874,\n",
              " -0.7818710207939148,\n",
              " -0.8851902484893799,\n",
              " -0.883814811706543,\n",
              " -0.7106441855430603,\n",
              " -0.8126727938652039,\n",
              " 1.1636725664138794,\n",
              " 0.9236041307449341,\n",
              " 0.5873381495475769,\n",
              " 0.3878002166748047,\n",
              " -0.07479289174079895,\n",
              " -0.5545702576637268,\n",
              " -1.2076269388198853,\n",
              " -1.1576131582260132,\n",
              " -1.3427093029022217,\n",
              " -1.8853750228881836,\n",
              " -2.284496784210205,\n",
              " -2.6209394931793213,\n",
              " -2.591310977935791,\n",
              " -2.8533012866973877,\n",
              " -2.914785385131836,\n",
              " -3.000809907913208,\n",
              " -2.5849437713623047,\n",
              " -1.5893088579177856,\n",
              " -1.5301257371902466,\n",
              " -1.6263043880462646,\n",
              " -1.7257899045944214,\n",
              " -2.066944122314453,\n",
              " -2.1987340450286865,\n",
              " -2.231351137161255,\n",
              " -2.4375298023223877,\n",
              " -2.6528866291046143,\n",
              " -2.83064866065979,\n",
              " -2.951767921447754,\n",
              " -3.075572967529297,\n",
              " -3.3143608570098877,\n",
              " -3.342590808868408,\n",
              " -3.3847198486328125,\n",
              " -3.529560089111328,\n",
              " -3.5577235221862793,\n",
              " -3.6144354343414307,\n",
              " -3.603563070297241,\n",
              " -3.7966527938842773,\n",
              " -3.9568235874176025,\n",
              " -4.112293720245361,\n",
              " -4.1805877685546875,\n",
              " -4.239377498626709,\n",
              " -4.496886253356934,\n",
              " -4.684706211090088,\n",
              " -4.792948246002197,\n",
              " -4.807633399963379,\n",
              " -4.732882499694824,\n",
              " -4.386200904846191,\n",
              " -2.2826900482177734,\n",
              " 0.8430002927780151,\n",
              " -3.835395336151123,\n",
              " -4.116219997406006,\n",
              " -4.074497699737549,\n",
              " -4.19753885269165,\n",
              " -4.226547718048096,\n",
              " -4.204522132873535,\n",
              " -4.053034782409668,\n",
              " -4.173754692077637,\n",
              " -4.178521633148193,\n",
              " -4.708672523498535,\n",
              " -5.065006732940674,\n",
              " -5.095953464508057,\n",
              " -5.008088111877441,\n",
              " -4.789194107055664,\n",
              " -4.288846969604492,\n",
              " -4.063819408416748,\n",
              " -4.054781913757324,\n",
              " -4.110261917114258,\n",
              " -4.1995768547058105,\n",
              " -4.316335201263428,\n",
              " -4.339630603790283,\n",
              " -4.375074863433838,\n",
              " -4.440639972686768,\n",
              " -4.528066158294678,\n",
              " -4.772246360778809,\n",
              " -4.90076208114624,\n",
              " -4.832228660583496,\n",
              " -4.861281394958496,\n",
              " -4.961917400360107,\n",
              " -4.852095603942871,\n",
              " -4.850362300872803,\n",
              " -4.897270679473877,\n",
              " -4.972174644470215,\n",
              " -5.031868934631348,\n",
              " -5.010410785675049,\n",
              " -5.051060199737549,\n",
              " -5.07899808883667,\n",
              " -5.201283931732178,\n",
              " -5.2545037269592285,\n",
              " -5.293529510498047,\n",
              " -5.255637168884277,\n",
              " -5.214587688446045,\n",
              " -4.979557514190674,\n",
              " -5.029966831207275,\n",
              " -4.976095676422119,\n",
              " -4.992117881774902,\n",
              " -4.984391212463379,\n",
              " -5.0361328125,\n",
              " -5.058945655822754,\n",
              " -5.046014785766602,\n",
              " -5.1490678787231445,\n",
              " -5.226901531219482,\n",
              " -5.304025650024414,\n",
              " -5.334826946258545,\n",
              " -5.356290817260742,\n",
              " -5.381302833557129,\n",
              " -5.435413837432861,\n",
              " -5.482494354248047,\n",
              " -5.498505592346191,\n",
              " -5.203836441040039,\n",
              " -5.070955276489258,\n",
              " -5.076784610748291,\n",
              " -5.058048725128174,\n",
              " -5.08156681060791,\n",
              " -5.137671947479248,\n",
              " -5.195265769958496,\n",
              " -5.200889587402344,\n",
              " -5.2029709815979,\n",
              " -5.2139716148376465,\n",
              " -5.213615417480469,\n",
              " -5.308383464813232,\n",
              " -5.382126808166504,\n",
              " -5.417389869689941,\n",
              " -5.430335521697998,\n",
              " -5.470046043395996,\n",
              " -5.482367038726807,\n",
              " -5.485255241394043,\n",
              " -5.520580291748047,\n",
              " -5.440990924835205,\n",
              " -5.400040149688721,\n",
              " -5.451573848724365,\n",
              " -5.493583679199219,\n",
              " -5.51633358001709,\n",
              " -5.548872947692871,\n",
              " -5.551226615905762,\n",
              " -5.420614719390869,\n",
              " -5.356746673583984,\n",
              " -5.410961627960205,\n",
              " -5.417869567871094,\n",
              " -5.497855186462402,\n",
              " -5.534201622009277,\n",
              " -5.541593074798584,\n",
              " -5.52740478515625,\n",
              " -5.54282808303833,\n",
              " -5.5918426513671875,\n",
              " -5.607581615447998,\n",
              " -5.631572723388672,\n",
              " -5.320894241333008,\n",
              " -5.3301849365234375,\n",
              " -5.374084949493408,\n",
              " -5.423039436340332,\n",
              " -5.492545127868652,\n",
              " -5.52087926864624,\n",
              " -5.592596530914307,\n",
              " -5.616525650024414,\n",
              " -5.611428737640381,\n",
              " -5.26133918762207,\n",
              " -5.5520477294921875,\n",
              " -5.5549163818359375,\n",
              " -5.568592548370361,\n",
              " -5.584508419036865,\n",
              " -5.595813274383545,\n",
              " -5.587690353393555,\n",
              " -5.600137233734131,\n",
              " -5.6219072341918945,\n",
              " -5.654603004455566,\n",
              " -5.680802345275879,\n",
              " -5.681761264801025,\n",
              " -5.581605911254883,\n",
              " -5.088896751403809,\n",
              " -2.787355899810791,\n",
              " -2.9268834590911865,\n",
              " -0.7373868227005005,\n",
              " 0.04987400025129318,\n",
              " 2.208470106124878,\n",
              " 19.960695266723633,\n",
              " 31.013771057128906,\n",
              " 57.56645202636719,\n",
              " 106.32235717773438,\n",
              " 163.934326171875,\n",
              " 73.03532409667969,\n",
              " 2400.003662109375,\n",
              " 6626.56982421875,\n",
              " 56230.46875,\n",
              " 23.718652725219727,\n",
              " 41.78929901123047,\n",
              " 58.13630294799805,\n",
              " 79.7156982421875,\n",
              " 107.71043395996094,\n",
              " 144.15237426757812,\n",
              " 153.62745666503906,\n",
              " 147.61582946777344,\n",
              " 143.56822204589844,\n",
              " 126.32090759277344,\n",
              " 109.51004791259766,\n",
              " 89.24299621582031,\n",
              " 70.55499267578125,\n",
              " 54.21546936035156,\n",
              " 42.857635498046875,\n",
              " 32.19374084472656,\n",
              " 26.42603874206543,\n",
              " 21.400014877319336,\n",
              " 20.543270111083984,\n",
              " 19.029653549194336,\n",
              " 15.991164207458496,\n",
              " 15.822890281677246,\n",
              " 15.771899223327637,\n",
              " 13.43124771118164,\n",
              " 12.948575019836426,\n",
              " 10.973456382751465,\n",
              " 13.357325553894043,\n",
              " 15.98482894897461,\n",
              " 38.35731506347656,\n",
              " 159.25254821777344,\n",
              " 439.37982177734375,\n",
              " 734.904052734375,\n",
              " 9.648896217346191,\n",
              " 15.38939380645752,\n",
              " 18.119640350341797,\n",
              " 20.70918083190918,\n",
              " 23.032142639160156,\n",
              " 23.609853744506836,\n",
              " 22.466554641723633,\n",
              " 19.479129791259766,\n",
              " 15.26354694366455,\n",
              " 11.091235160827637,\n",
              " 8.9087495803833,\n",
              " 7.595477104187012,\n",
              " 5.515038967132568,\n",
              " 5.970004081726074,\n",
              " 5.222603797912598,\n",
              " 3.6777138710021973,\n",
              " 2.713312864303589,\n",
              " 2.700162887573242,\n",
              " 3.056201219558716,\n",
              " 1.743441104888916,\n",
              " 1.5115514993667603,\n",
              " 1.2442481517791748,\n",
              " 0.35343989729881287,\n",
              " 0.15121974050998688,\n",
              " -1.0293827056884766,\n",
              " -1.9229052066802979,\n",
              " -2.430025815963745,\n",
              " -2.8953912258148193,\n",
              " -3.0474672317504883,\n",
              " -3.456019878387451,\n",
              " -3.078644275665283,\n",
              " -1.4012653827667236,\n",
              " -1.1564850807189941,\n",
              " -1.0723546743392944,\n",
              " -1.2648353576660156,\n",
              " -1.6330623626708984,\n",
              " -1.9111541509628296,\n",
              " -2.4237685203552246,\n",
              " -2.316230535507202,\n",
              " -2.3817343711853027,\n",
              " -3.0136001110076904,\n",
              " -3.3774783611297607,\n",
              " -3.6835646629333496,\n",
              " -3.6502773761749268,\n",
              " -3.9109950065612793,\n",
              " -3.955169200897217,\n",
              " -4.038962364196777,\n",
              " -3.7211875915527344,\n",
              " -3.0192699432373047,\n",
              " -2.9593217372894287,\n",
              " -3.0190391540527344,\n",
              " -3.1007912158966064,\n",
              " -3.2798705101013184,\n",
              " -3.3163821697235107,\n",
              " -3.315258741378784,\n",
              " -3.4453349113464355,\n",
              " -3.579681396484375,\n",
              " -3.678400754928589,\n",
              " -3.7831063270568848,\n",
              " -3.8897531032562256,\n",
              " -4.036933422088623,\n",
              " -4.091326713562012,\n",
              " -4.120711803436279,\n",
              " -4.227935314178467,\n",
              " -4.258580207824707,\n",
              " -4.300212383270264,\n",
              " -4.276575088500977,\n",
              " -4.417980670928955,\n",
              " -4.531611442565918,\n",
              " -4.657331943511963,\n",
              " -4.696523666381836,\n",
              " -4.7319769859313965,\n",
              " -4.951080322265625,\n",
              " -5.102296829223633,\n",
              " -5.163238525390625,\n",
              " -5.169680118560791,\n",
              " -5.08054780960083,\n",
              " -4.710329532623291,\n",
              " -2.695218563079834,\n",
              " 0.3115420937538147,\n",
              " -4.159797668457031,\n",
              " -4.392909526824951,\n",
              " -4.281320571899414,\n",
              " -4.447011947631836,\n",
              " -4.443336486816406,\n",
              " -4.4264984130859375,\n",
              " -4.291804313659668,\n",
              " -4.438436985015869,\n",
              " -4.46241569519043,\n",
              " -4.997441291809082,\n",
              " -5.334799766540527,\n",
              " -5.360571384429932,\n",
              " -5.285172462463379,\n",
              " -5.085681438446045,\n",
              " -4.628915309906006,\n",
              " -4.422050476074219,\n",
              " -4.41210412979126,\n",
              " -4.45756721496582,\n",
              " -4.540245056152344,\n",
              " -4.643942356109619,\n",
              " -4.657678127288818,\n",
              " -4.68299674987793,\n",
              " -4.731762409210205,\n",
              " -4.8021087646484375,\n",
              " -5.003433704376221,\n",
              " -5.107219696044922,\n",
              " -5.050727367401123,\n",
              " -5.079282760620117,\n",
              " -5.160556316375732,\n",
              " -5.072835445404053,\n",
              " -5.074835777282715,\n",
              " -5.116368293762207,\n",
              " -5.177957534790039,\n",
              " -5.22489070892334,\n",
              " -5.206208229064941,\n",
              " -5.237010478973389,\n",
              " -5.267322063446045,\n",
              " -5.3619842529296875,\n",
              " -5.405882358551025,\n",
              " -5.429132461547852,\n",
              " -5.392729759216309,\n",
              " -5.355706691741943,\n",
              " -5.127260684967041,\n",
              " -5.168099880218506,\n",
              " -5.111125946044922,\n",
              " -5.119377136230469,\n",
              " -5.104973793029785,\n",
              " -5.161041259765625,\n",
              " -5.19016170501709,\n",
              " -5.180685520172119,\n",
              " -5.283321857452393,\n",
              " -5.361058235168457,\n",
              " -5.434729099273682,\n",
              " -5.461580753326416,\n",
              " -5.478995323181152,\n",
              " -5.499571323394775,\n",
              " -5.545344829559326,\n",
              " -5.588538646697998,\n",
              " -5.594337463378906,\n",
              " -5.3270440101623535,\n",
              " -5.203690052032471,\n",
              " -5.205597400665283,\n",
              " -5.185816764831543,\n",
              " -5.208066463470459,\n",
              " -5.257821083068848,\n",
              " -5.31156063079834,\n",
              " -5.315585613250732,\n",
              " -5.315358638763428,\n",
              " -5.325533390045166,\n",
              " -5.322731018066406,\n",
              " -5.409322261810303,\n",
              " -5.476149559020996,\n",
              " -5.508002281188965,\n",
              " -5.517956256866455,\n",
              " -5.555378437042236,\n",
              " -5.565892219543457,\n",
              " -5.569573879241943,\n",
              " -5.602691650390625,\n",
              " -5.530439853668213,\n",
              " -5.485038757324219,\n",
              " -5.533286094665527,\n",
              " -5.573215007781982,\n",
              " -5.594279766082764,\n",
              " -5.626800537109375,\n",
              " -5.629117488861084,\n",
              " -5.491891384124756,\n",
              " -5.425742149353027,\n",
              " -5.479259014129639,\n",
              " -5.486612319946289,\n",
              " -5.567766189575195,\n",
              " -5.60514497756958,\n",
              " -5.612437725067139,\n",
              " -5.5974602699279785,\n",
              " -5.612283706665039,\n",
              " -5.661430358886719,\n",
              " -5.675709247589111,\n",
              " -5.699134349822998,\n",
              " -5.391401290893555,\n",
              " -5.401642322540283,\n",
              " -5.441679954528809,\n",
              " -5.489691257476807,\n",
              " -5.556288242340088,\n",
              " -5.583104133605957,\n",
              " -5.651283264160156,\n",
              " -5.673399925231934,\n",
              " -5.671275615692139,\n",
              " -5.33405065536499,\n",
              " -5.609981536865234,\n",
              " -5.612261772155762,\n",
              " -5.625368595123291,\n",
              " -5.640841484069824,\n",
              " -5.65200662612915,\n",
              " -5.642726898193359,\n",
              " -5.654739856719971,\n",
              " -5.676900386810303,\n",
              " -5.711733341217041,\n",
              " -5.742404460906982,\n",
              " -5.749426364898682,\n",
              " -5.669599533081055,\n",
              " -5.223132133483887,\n",
              " -3.0930745601654053,\n",
              " -3.269412040710449,\n",
              " -1.2792134284973145,\n",
              " -0.6648598909378052,\n",
              " 1.1890240907669067,\n",
              " 17.58287811279297,\n",
              " 27.388614654541016,\n",
              " 51.817596435546875,\n",
              " 96.43929290771484,\n",
              " 148.1590576171875,\n",
              " 66.56768035888672,\n",
              " 2291.718505859375,\n",
              " 6240.86572265625,\n",
              " 52922.05859375,\n",
              " 44.58699417114258,\n",
              " 73.53260803222656,\n",
              " 96.78628540039062,\n",
              " 132.91693115234375,\n",
              " 176.30191040039062,\n",
              " 208.42042541503906,\n",
              " 228.1061248779297,\n",
              " 207.4044647216797,\n",
              " 188.2933807373047,\n",
              " 156.135498046875,\n",
              " 120.18099975585938,\n",
              " 88.32160186767578,\n",
              " 65.95223999023438,\n",
              " 40.559967041015625,\n",
              " 29.240646362304688,\n",
              " 23.294076919555664,\n",
              " 23.772817611694336,\n",
              " 25.671850204467773,\n",
              " 28.431631088256836,\n",
              " 32.07733917236328,\n",
              " 36.51711654663086,\n",
              " 39.37778091430664,\n",
              " 30.78586769104004,\n",
              " 27.828237533569336,\n",
              " 20.486703872680664,\n",
              " 19.53877067565918,\n",
              " 18.29145050048828,\n",
              " 18.32781410217285,\n",
              " 35.792396545410156,\n",
              " 151.09486389160156,\n",
              " 415.7525634765625,\n",
              " 673.8999633789062,\n",
              " 10.040166854858398,\n",
              " 15.050612449645996,\n",
              " 28.79148292541504,\n",
              " 33.13148498535156,\n",
              " 43.47146987915039,\n",
              " 47.578269958496094,\n",
              " 45.03540802001953,\n",
              " 40.39342498779297,\n",
              " 32.67724609375,\n",
              " 27.844066619873047,\n",
              " 20.897384643554688,\n",
              " 18.02246856689453,\n",
              " 11.907719612121582,\n",
              " 7.697947025299072,\n",
              " 5.132503509521484,\n",
              " 2.221792221069336,\n",
              " 0.10966043174266815,\n",
              " -1.2330071926116943,\n",
              " -1.4921526908874512,\n",
              " -1.7957651615142822,\n",
              " -0.8377180099487305,\n",
              " -1.0297085046768188,\n",
              " -0.20701736211776733,\n",
              " 0.4115179479122162,\n",
              " 1.113334059715271,\n",
              " 1.3183561563491821,\n",
              " 0.7759669423103333,\n",
              " 1.7410956621170044,\n",
              " 1.5148205757141113,\n",
              " 1.2115734815597534,\n",
              " 0.48260486125946045,\n",
              " -2.5145273208618164,\n",
              " -2.903373956680298,\n",
              " -3.1662182807922363,\n",
              " -3.4250895977020264,\n",
              " -3.7108001708984375,\n",
              " -3.860480785369873,\n",
              " -4.065629959106445,\n",
              " -3.8726513385772705,\n",
              " -3.819295644760132,\n",
              " -4.006836891174316,\n",
              " -4.078868865966797,\n",
              " -4.262396812438965,\n",
              " -4.0959792137146,\n",
              " -4.289463520050049,\n",
              " -4.311888694763184,\n",
              " -4.31570291519165,\n",
              " -4.068931579589844,\n",
              " -3.2920804023742676,\n",
              " -3.3515501022338867,\n",
              " -3.408928394317627,\n",
              " -3.548785924911499,\n",
              " -3.8620073795318604,\n",
              " -4.004795551300049,\n",
              " -4.039992809295654,\n",
              " -4.225409507751465,\n",
              " -4.370533466339111,\n",
              " -4.477029323577881,\n",
              " -4.526941299438477,\n",
              " -4.5575361251831055,\n",
              " -4.66473388671875,\n",
              " -4.667106628417969,\n",
              " -4.6395978927612305,\n",
              " -4.707678318023682,\n",
              " -4.696656703948975,\n",
              " -4.701712608337402,\n",
              " -4.7101874351501465,\n",
              " -4.786681652069092,\n",
              " -4.832484722137451,\n",
              " -4.9422407150268555,\n",
              " -4.970437526702881,\n",
              " -5.050639629364014,\n",
              " -5.134716510772705,\n",
              " -5.192393779754639,\n",
              " -5.204734802246094,\n",
              " -5.1302103996276855,\n",
              " -5.0384297370910645,\n",
              " -4.651122093200684,\n",
              " -2.555971622467041,\n",
              " 0.35342270135879517,\n",
              " -4.520209312438965,\n",
              " -4.6883978843688965,\n",
              " -4.57916259765625,\n",
              " -4.6273088455200195,\n",
              " -4.62045431137085,\n",
              " -4.537711143493652,\n",
              " -4.429773330688477,\n",
              " -4.5067362785339355,\n",
              " -4.556072235107422,\n",
              " -5.067873477935791,\n",
              " -5.428811550140381,\n",
              " -5.4844160079956055,\n",
              " -5.42615270614624,\n",
              " -5.2365031242370605,\n",
              " -4.834139823913574,\n",
              " -4.668839454650879,\n",
              " -4.695711135864258,\n",
              " -4.76731538772583,\n",
              " -4.868591785430908,\n",
              " -4.978321552276611,\n",
              " -5.007111549377441,\n",
              " -5.037344455718994,\n",
              " -5.079870700836182,\n",
              " -5.127429008483887,\n",
              " -5.2594218254089355,\n",
              " -5.320168972015381,\n",
              " -5.263298034667969,\n",
              " -5.2503838539123535,\n",
              " -5.286161422729492,\n",
              " -5.23960542678833,\n",
              " -5.247528553009033,\n",
              " -5.28481912612915,\n",
              " -5.318798542022705,\n",
              " -5.3601579666137695,\n",
              " -5.3611955642700195,\n",
              " -5.389772891998291,\n",
              " -5.4105424880981445,\n",
              " -5.479167461395264,\n",
              " -5.510847091674805,\n",
              " -5.527566909790039,\n",
              " -5.4198150634765625,\n",
              " -5.403907299041748,\n",
              " -5.2306084632873535,\n",
              " -5.360853672027588,\n",
              " -5.299142837524414,\n",
              " -5.289557456970215,\n",
              " -5.265425205230713,\n",
              " -5.298976898193359,\n",
              " -5.317978382110596,\n",
              " -5.298159122467041,\n",
              " -5.397914886474609,\n",
              " -5.471994400024414,\n",
              " -5.547041416168213,\n",
              " -5.5745463371276855,\n",
              " -5.597200870513916,\n",
              " -5.620043754577637,\n",
              " -5.664876461029053,\n",
              " -5.703836441040039,\n",
              " -5.711871147155762,\n",
              " -5.464386463165283,\n",
              " -5.353663444519043,\n",
              " -5.360950946807861,\n",
              " -5.34471321105957,\n",
              " -5.368478298187256,\n",
              " -5.414251804351807,\n",
              " -5.461128234863281,\n",
              " -5.465220928192139,\n",
              " -5.465149879455566,\n",
              " -5.4726243019104,\n",
              " -5.470821380615234,\n",
              " -5.53316593170166,\n",
              " -5.581591606140137,\n",
              " -5.60060453414917,\n",
              " -5.607577800750732,\n",
              " -5.625390529632568,\n",
              " -5.635499954223633,\n",
              " -5.630407810211182,\n",
              " -5.648629188537598,\n",
              " -5.564605712890625,\n",
              " -5.593354225158691,\n",
              " -5.63245964050293,\n",
              " -5.6642351150512695,\n",
              " -5.682398319244385,\n",
              " -5.707521915435791,\n",
              " -5.710273265838623,\n",
              " -5.594435691833496,\n",
              " -5.533814430236816,\n",
              " -5.577685832977295,\n",
              " -5.581179141998291,\n",
              " -5.653639793395996,\n",
              " -5.686025142669678,\n",
              " -5.690967082977295,\n",
              " -5.677194595336914,\n",
              " -5.689965724945068,\n",
              " -5.73531436920166,\n",
              " -5.748569011688232,\n",
              " -5.767877101898193,\n",
              " -5.482088565826416,\n",
              " -5.491550922393799,\n",
              " -5.532098770141602,\n",
              " -5.577722072601318,\n",
              " -5.639609336853027,\n",
              " -5.664287090301514,\n",
              " -5.724163055419922,\n",
              " -5.7400946617126465,\n",
              " -5.718586444854736,\n",
              " -5.385243892669678,\n",
              " -5.686397552490234,\n",
              " -5.687731742858887,\n",
              " -5.69842004776001,\n",
              " -5.711114406585693,\n",
              " -5.720354080200195,\n",
              " -5.712378978729248,\n",
              " -5.722246170043945,\n",
              " -5.740515232086182,\n",
              " -5.767795085906982,\n",
              " -5.790167331695557,\n",
              " -5.789270877838135,\n",
              " -5.698424339294434,\n",
              " -5.259199619293213,\n",
              " -3.203739881515503,\n",
              " -3.4123802185058594,\n",
              " -1.5428262948989868,\n",
              " -1.0325392484664917,\n",
              " 0.6355934739112854,\n",
              " 15.829204559326172,\n",
              " 24.630069732666016,\n",
              " 46.95603561401367,\n",
              " 87.7857666015625,\n",
              " 135.79635620117188,\n",
              " 59.223934173583984,\n",
              " 2136.14697265625,\n",
              " 5796.8056640625,\n",
              " 48843.7734375,\n",
              " 43.60432434082031,\n",
              " 72.92802429199219,\n",
              " 105.60306549072266,\n",
              " 132.43199157714844,\n",
              " 182.38241577148438,\n",
              " 227.89544677734375,\n",
              " 239.96604919433594,\n",
              " 246.97732543945312,\n",
              " 209.85476684570312,\n",
              " 187.5467987060547,\n",
              " 152.4120635986328,\n",
              " 107.49739837646484,\n",
              " 76.4448471069336,\n",
              " 44.67473220825195,\n",
              " 27.56437110900879,\n",
              " 14.28219985961914,\n",
              " 10.084427833557129,\n",
              " 10.17575740814209,\n",
              " 17.515506744384766,\n",
              " 23.08294677734375,\n",
              " 27.75285530090332,\n",
              " 35.58517837524414,\n",
              " 37.27523422241211,\n",
              " 30.392406463623047,\n",
              " 26.562551498413086,\n",
              " 29.777904510498047,\n",
              " 30.60296058654785,\n",
              " 30.627050399780273,\n",
              " 55.5703010559082,\n",
              " 168.30007934570312,\n",
              " 409.44622802734375,\n",
              " 641.3943481445312,\n",
              " 3.1101346015930176,\n",
              " 12.843239784240723,\n",
              " 24.825199127197266,\n",
              " 34.75802993774414,\n",
              " 40.55634689331055,\n",
              " 48.72365188598633,\n",
              " 50.19027328491211,\n",
              " 48.16376876831055,\n",
              " 37.78311538696289,\n",
              " 30.318092346191406,\n",
              " 26.361005783081055,\n",
              " 22.407289505004883,\n",
              " 16.8522891998291,\n",
              " 10.948822975158691,\n",
              " 6.794451713562012,\n",
              " 3.207540273666382,\n",
              " -0.3181250989437103,\n",
              " -2.0381665229797363,\n",
              " -2.979377269744873,\n",
              " -3.6935887336730957,\n",
              " -3.15605092048645,\n",
              " -2.2414259910583496,\n",
              " -1.2304770946502686,\n",
              " -0.8675318956375122,\n",
              " 0.7151874899864197,\n",
              " 1.8706425428390503,\n",
              " 1.7801951169967651,\n",
              " 2.811335325241089,\n",
              " 3.485511302947998,\n",
              " 2.319448232650757,\n",
              " 1.4713045358657837,\n",
              " -3.105416774749756,\n",
              " -3.571054697036743,\n",
              " -3.9422600269317627,\n",
              " -4.213840007781982,\n",
              " -4.467230319976807,\n",
              " -4.61473274230957,\n",
              " -4.785008430480957,\n",
              " -4.625300407409668,\n",
              " -4.517526149749756,\n",
              " -4.605661869049072,\n",
              " -4.67889404296875,\n",
              " -4.799069404602051,\n",
              " -4.679533958435059,\n",
              " -4.717789173126221,\n",
              " -4.734903335571289,\n",
              " -4.747833728790283,\n",
              " -4.345587730407715,\n",
              " -3.7478487491607666,\n",
              " -3.717296600341797,\n",
              " -3.83516526222229,\n",
              " -4.095670700073242,\n",
              " -4.340270042419434,\n",
              " -4.5122528076171875,\n",
              " -4.564607620239258,\n",
              " -4.70613431930542,\n",
              " -4.849794387817383,\n",
              " -4.9337077140808105,\n",
              " -4.975722789764404,\n",
              " -4.9977874755859375,\n",
              " -5.05218505859375,\n",
              " -5.023436069488525,\n",
              " -5.019643306732178,\n",
              " -5.005609035491943,\n",
              " -5.013680458068848,\n",
              " -5.053841590881348,\n",
              " -5.041890621185303,\n",
              " -5.103920936584473,\n",
              " -5.125072956085205,\n",
              " -5.197093963623047,\n",
              " -5.221491813659668,\n",
              " -5.276419639587402,\n",
              " -5.314263343811035,\n",
              " -5.346993923187256,\n",
              " -5.33604097366333,\n",
              " -5.230024337768555,\n",
              " -5.135321140289307,\n",
              " -4.735566139221191,\n",
              " -2.701296329498291,\n",
              " -0.05438932403922081,\n",
              " -4.725108623504639,\n",
              " -4.885049343109131,\n",
              " -4.7190446853637695,\n",
              " -4.7594218254089355,\n",
              " -4.775904655456543,\n",
              " -4.670422077178955,\n",
              " -4.491034030914307,\n",
              " -4.639673233032227,\n",
              " -4.714602470397949,\n",
              " -5.19087028503418,\n",
              " -5.536521911621094,\n",
              " -5.590849876403809,\n",
              " -5.550589561462402,\n",
              " -5.411460876464844,\n",
              " -5.06722354888916,\n",
              " -4.917255401611328,\n",
              " -4.955390453338623,\n",
              " -5.030174255371094,\n",
              " -5.132682800292969,\n",
              " -5.234160423278809,\n",
              " -5.257037162780762,\n",
              " -5.28001070022583,\n",
              " -5.3116679191589355,\n",
              " -5.339671611785889,\n",
              " -5.426433086395264,\n",
              " -5.443486213684082,\n",
              " -5.413419723510742,\n",
              " -5.394294261932373,\n",
              " -5.42153263092041,\n",
              " -5.40413236618042,\n",
              " -5.400790691375732,\n",
              " -5.417273044586182,\n",
              " -5.457424640655518,\n",
              " -5.482422828674316,\n",
              " -5.499833106994629,\n",
              " -5.524650573730469,\n",
              " -5.546070575714111,\n",
              " -5.579872131347656,\n",
              " -5.612037658691406,\n",
              " -5.622224807739258,\n",
              " -5.500673770904541,\n",
              " -5.47520112991333,\n",
              " -5.311855316162109,\n",
              " -5.483618259429932,\n",
              " -5.416055679321289,\n",
              " -5.403059005737305,\n",
              " -5.366229057312012,\n",
              " -5.396833419799805,\n",
              " -5.419910907745361,\n",
              " -5.398913383483887,\n",
              " -5.493690013885498,\n",
              " -5.566551208496094,\n",
              " -5.636516094207764,\n",
              " -5.664772987365723,\n",
              " -5.683510780334473,\n",
              " -5.704141139984131,\n",
              " -5.740020751953125,\n",
              " -5.766715049743652,\n",
              " -5.770190238952637,\n",
              " -5.570925712585449,\n",
              " -5.479652404785156,\n",
              " -5.484948635101318,\n",
              " -5.469179153442383,\n",
              " -5.492830753326416,\n",
              " -5.530746936798096,\n",
              " -5.568401336669922,\n",
              " -5.569324016571045,\n",
              " -5.570812702178955,\n",
              " -5.573367595672607,\n",
              " -5.57329797744751,\n",
              " -5.619242191314697,\n",
              " -5.655665874481201,\n",
              " -5.664158821105957,\n",
              " -5.673188209533691,\n",
              " -5.686255931854248,\n",
              " -5.691203594207764,\n",
              " -5.685953140258789,\n",
              " -5.693674564361572,\n",
              " -5.618086814880371,\n",
              " -5.668540954589844,\n",
              " -5.7000041007995605,\n",
              " -5.725335597991943,\n",
              " -5.741176128387451,\n",
              " -5.761904239654541,\n",
              " -5.763744831085205,\n",
              " -5.660067558288574,\n",
              " -5.602112770080566,\n",
              " -5.642295837402344,\n",
              " -5.642470359802246,\n",
              " -5.708262920379639,\n",
              " -5.738126277923584,\n",
              " -5.742336750030518,\n",
              " -5.729727745056152,\n",
              " -5.740461349487305,\n",
              " -5.779377460479736,\n",
              " -5.790004730224609,\n",
              " -5.804723739624023,\n",
              " -5.555906772613525,\n",
              " -5.564345359802246,\n",
              " -5.600000858306885,\n",
              " -5.64060115814209,\n",
              " -5.69464635848999,\n",
              " -5.715821266174316,\n",
              " -5.764986515045166,\n",
              " -5.775074481964111,\n",
              " -5.742499828338623,\n",
              " -5.4235687255859375,\n",
              " -5.733078479766846,\n",
              " -5.733671188354492,\n",
              " -5.742477893829346,\n",
              " -5.752806186676025,\n",
              " -5.760197639465332,\n",
              " -5.752979755401611,\n",
              " ...]"
            ]
          },
          "metadata": {},
          "execution_count": 39
        }
      ]
    },
    {
      "cell_type": "code",
      "metadata": {
        "id": "K8iM1vIvDoCk"
      },
      "source": [
        "np.save(f\"train_elboloss_cluster_{cluster}.npy\", train_loss_list)"
      ],
      "execution_count": 40,
      "outputs": []
    },
    {
      "cell_type": "code",
      "metadata": {
        "colab": {
          "base_uri": "https://localhost:8080/"
        },
        "id": "xAlIUPE5EHPv",
        "outputId": "0cff1309-4065-455f-aa59-9189c7d5ca3a"
      },
      "source": [
        "len(test_loss_list)"
      ],
      "execution_count": 41,
      "outputs": [
        {
          "output_type": "execute_result",
          "data": {
            "text/plain": [
              "100"
            ]
          },
          "metadata": {},
          "execution_count": 41
        }
      ]
    },
    {
      "cell_type": "code",
      "metadata": {
        "colab": {
          "base_uri": "https://localhost:8080/",
          "height": 295
        },
        "id": "T2dVE07rEJFA",
        "outputId": "c715c6d4-d23b-4239-f9ca-223999d2a106"
      },
      "source": [
        "%matplotlib inline\n",
        "plt.plot(test_loss_list)\n",
        "plt.title(f\"Test ELBO Loss\")\n",
        "plt.ylabel('Test ELBO Loss')\n",
        "plt.xlabel('Epochs')\n",
        "if not os.path.exists(\"plots/\"):\n",
        "    utils.makedirs(\"plots/\")\n",
        "plt.savefig(f\"plots/ELBO Test Loss cluster_{cluster}.pdf\", dpi = 150)\n",
        "plt.show()"
      ],
      "execution_count": 42,
      "outputs": [
        {
          "output_type": "display_data",
          "data": {
            "image/png": "[encoded data removed]",
            "text/plain": [
              "<Figure size 432x288 with 1 Axes>"
            ]
          },
          "metadata": {
            "needs_background": "light"
          }
        }
      ]
    },
    {
      "cell_type": "code",
      "metadata": {
        "colab": {
          "base_uri": "https://localhost:8080/",
          "height": 295
        },
        "id": "1lWIEN6XEmxa",
        "outputId": "c7f3dd47-c548-448f-99c0-a03b32a836a5"
      },
      "source": [
        "plt.plot(train_loss_list)\n",
        "plt.title(f\"Train ELBO Loss\")\n",
        "plt.ylabel('Train ELBO Loss')\n",
        "plt.xlabel('Epochs')\n",
        "if not os.path.exists(\"plots/\"):\n",
        "    utils.makedirs(\"plots/\")\n",
        "plt.savefig(f\"plots/ELBO Train Loss cluster_{cluster}.pdf\", dpi = 150)\n",
        "plt.show()"
      ],
      "execution_count": 43,
      "outputs": [
        {
          "output_type": "display_data",
          "data": {
            "image/png": "[encoded data removed]",
            "text/plain": [
              "<Figure size 432x288 with 1 Axes>"
            ]
          },
          "metadata": {
            "needs_background": "light"
          }
        }
      ]
    },
    {
      "cell_type": "code",
      "metadata": {
        "colab": {
          "base_uri": "https://localhost:8080/",
          "height": 295
        },
        "id": "ILPUH3qsE2ZX",
        "outputId": "d2c646c0-8419-4f5b-a16a-44d5eecd12b2"
      },
      "source": [
        "plt.plot(train_likelihood_list)\n",
        "plt.title(f\"Train Likelihood\")\n",
        "plt.ylabel('Train Likelihood')\n",
        "plt.xlabel('#Batches')\n",
        "if not os.path.exists(\"plots/\"):\n",
        "    utils.makedirs(\"plots/\")\n",
        "plt.savefig(f\"plots/Likelihood Train cluster_{cluster}.pdf\", dpi = 150)\n",
        "plt.show()"
      ],
      "execution_count": 44,
      "outputs": [
        {
          "output_type": "display_data",
          "data": {
            "image/png": "[encoded data removed]",
            "text/plain": [
              "<Figure size 432x288 with 1 Axes>"
            ]
          },
          "metadata": {
            "needs_background": "light"
          }
        }
      ]
    },
    {
      "cell_type": "code",
      "metadata": {
        "colab": {
          "base_uri": "https://localhost:8080/",
          "height": 295
        },
        "id": "vX3R8sncFI90",
        "outputId": "155e90b6-fdb5-446c-cdab-526801a76910"
      },
      "source": [
        "plt.plot(test_likelihood_list)\n",
        "plt.title(f\"Test Likelihood\")\n",
        "plt.ylabel('Test Likelihood')\n",
        "plt.xlabel('Epochs')\n",
        "if not os.path.exists(\"plots/\"):\n",
        "    utils.makedirs(\"plots/\")\n",
        "plt.savefig(f\"plots/Likelihood Test cluster_{cluster}.pdf\", dpi = 150)\n",
        "plt.show()"
      ],
      "execution_count": 45,
      "outputs": [
        {
          "output_type": "display_data",
          "data": {
            "image/png": "[encoded data removed]",
            "text/plain": [
              "<Figure size 432x288 with 1 Axes>"
            ]
          },
          "metadata": {
            "needs_background": "light"
          }
        }
      ]
    },
    {
      "cell_type": "code",
      "metadata": {
        "colab": {
          "base_uri": "https://localhost:8080/",
          "height": 295
        },
        "id": "yerz5IScFW7u",
        "outputId": "38d9a048-8513-4a34-882e-0d7d1c6b1511"
      },
      "source": [
        "plt.plot(train_mse_list)\n",
        "plt.title(f\"Train MSE Loss\")\n",
        "plt.ylabel('Train MSE Loss')\n",
        "plt.xlabel('Epochs')\n",
        "if not os.path.exists(\"plots/\"):\n",
        "    utils.makedirs(\"plots/\")\n",
        "plt.savefig(f\"plots/MSE Loss Train cluster_{cluster}.pdf\", dpi = 150)\n",
        "plt.show()"
      ],
      "execution_count": 46,
      "outputs": [
        {
          "output_type": "display_data",
          "data": {
            "image/png": "[encoded data removed]",
            "text/plain": [
              "<Figure size 432x288 with 1 Axes>"
            ]
          },
          "metadata": {
            "needs_background": "light"
          }
        }
      ]
    },
    {
      "cell_type": "code",
      "metadata": {
        "colab": {
          "base_uri": "https://localhost:8080/",
          "height": 295
        },
        "id": "WpGef5KWFdfT",
        "outputId": "e74e26c5-dd0f-4a47-8e05-9b91e67a78a8"
      },
      "source": [
        "plt.plot(test_mse_list)\n",
        "plt.title(f\"test MSE Loss\")\n",
        "plt.ylabel('test MSE Loss')\n",
        "plt.xlabel('Epochs')\n",
        "if not os.path.exists(\"plots/\"):\n",
        "    utils.makedirs(\"plots/\")\n",
        "plt.savefig(f\"plots/MSE Loss Test cluster_{cluster}.pdf\", dpi = 150)\n",
        "plt.show()"
      ],
      "execution_count": 47,
      "outputs": [
        {
          "output_type": "display_data",
          "data": {
            "image/png": "[encoded data removed]",
            "text/plain": [
              "<Figure size 432x288 with 1 Axes>"
            ]
          },
          "metadata": {
            "needs_background": "light"
          }
        }
      ]
    },
    {
      "cell_type": "code",
      "metadata": {
        "id": "Oj6OnGfKFoFG"
      },
      "source": [
        "np.save(f\"test_elboloss_cluster_{cluster}.npy\", test_loss_list)"
      ],
      "execution_count": 48,
      "outputs": []
    },
    {
      "cell_type": "code",
      "metadata": {
        "id": "orWx90auGH9n"
      },
      "source": [
        "np.save(f\"train_likelihood_cluster_{cluster}.npy\", train_likelihood_list)\n",
        "np.save(f\"test_likelihood_cluster_{cluster}.npy\", test_likelihood_list)\n",
        "np.save(f\"train_mse_cluster_{cluster}.npy\", train_mse_list)\n",
        "np.save(f\"test_mse_cluster_{cluster}.npy\", test_mse_list)\n",
        "np.save(f\"train_kl_first_p_cluster_{cluster}.npy\", train_kl_first_p_list)\n",
        "np.save(f\"test_kl_first_p_cluster_{cluster}.npy\", test_kl_first_p_list)\n",
        "np.save(f\"train_std_first_p_cluster_{cluster}.npy\", train_std_first_p_list)\n",
        "np.save(f\"test_std_first_p_cluster_{cluster}.npy\", test_std_first_p_list)"
      ],
      "execution_count": 49,
      "outputs": []
    },
    {
      "cell_type": "code",
      "metadata": {
        "id": "pXNcWkhqGR-0"
      },
      "source": [
        "np.save(f\"kl_coef_cluster_{cluster}.npy\", kl_coef_list)"
      ],
      "execution_count": 50,
      "outputs": []
    },
    {
      "cell_type": "code",
      "metadata": {
        "colab": {
          "base_uri": "https://localhost:8080/",
          "height": 295
        },
        "id": "BEt3CIogHfUY",
        "outputId": "de442765-5626-4341-a91b-ed68a2efccdd"
      },
      "source": [
        "plt.plot(train_kl_first_p_list)\n",
        "plt.title(f\"Train KL divergence\")\n",
        "plt.ylabel('Train KL divergence')\n",
        "plt.xlabel('Epochs')\n",
        "if not os.path.exists(\"plots/\"):\n",
        "    utils.makedirs(\"plots/\")\n",
        "plt.savefig(f\"plots/KL Divergence Train cluster_{cluster}.pdf\", dpi = 150)\n",
        "plt.show()"
      ],
      "execution_count": 51,
      "outputs": [
        {
          "output_type": "display_data",
          "data": {
            "image/png": "[encoded data removed]",
            "text/plain": [
              "<Figure size 432x288 with 1 Axes>"
            ]
          },
          "metadata": {
            "needs_background": "light"
          }
        }
      ]
    },
    {
      "cell_type": "code",
      "metadata": {
        "colab": {
          "base_uri": "https://localhost:8080/",
          "height": 295
        },
        "id": "k2ahGKdFK6B9",
        "outputId": "6b6e3b4e-137d-4687-f189-9c2b6d4f5b65"
      },
      "source": [
        "plt.plot(test_kl_first_p_list)\n",
        "plt.title(f\"Test KL divergence\")\n",
        "plt.ylabel('Test KL divergence')\n",
        "plt.xlabel('Epochs')\n",
        "if not os.path.exists(\"plots/\"):\n",
        "    utils.makedirs(\"plots/\")\n",
        "plt.savefig(f\"plots/KL Divergence Test cluster_{cluster}.pdf\", dpi = 150)\n",
        "plt.show()"
      ],
      "execution_count": 52,
      "outputs": [
        {
          "output_type": "display_data",
          "data": {
            "image/png": "[encoded data removed]",
            "text/plain": [
              "<Figure size 432x288 with 1 Axes>"
            ]
          },
          "metadata": {
            "needs_background": "light"
          }
        }
      ]
    },
    {
      "cell_type": "code",
      "metadata": {
        "id": "wkbMiOy8LRym"
      },
      "source": [
        ""
      ],
      "execution_count": null,
      "outputs": []
    }
  ]
}