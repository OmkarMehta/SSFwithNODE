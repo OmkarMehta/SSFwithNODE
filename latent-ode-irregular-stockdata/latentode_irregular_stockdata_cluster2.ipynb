{
  "nbformat": 4,
  "nbformat_minor": 0,
  "metadata": {
    "colab": {
      "name": "latentode_irregular_stockdata_cluster2.ipynb",
      "provenance": [],
      "collapsed_sections": [],
      "machine_shape": "hm"
    },
    "kernelspec": {
      "display_name": "Python 3",
      "name": "python3"
    },
    "language_info": {
      "name": "python"
    },
    "orig_nbformat": 4,
    "accelerator": "GPU"
  },
  "cells": [
    {
      "cell_type": "markdown",
      "metadata": {
        "id": "7UmYrQ38hy_g"
      },
      "source": [
        "# Latent ODE for Stock Data\n",
        "\n"
      ]
    },
    {
      "cell_type": "code",
      "metadata": {
        "colab": {
          "base_uri": "https://localhost:8080/"
        },
        "id": "c8BMb4s2hy_h",
        "outputId": "5bf86755-b1c1-4d42-9db0-d34f236f70eb"
      },
      "source": [
        "# Install the latest version of author's repo neural ode implementation\n",
        "!git clone https://github.com/rtqichen/torchdiffeq.git\n",
        "!cd torchdiffeq && pip install -e .\n",
        "!pip install yfinance\n",
        "!ls torchdiffeq/torchdiffeq"
      ],
      "execution_count": 1,
      "outputs": [
        {
          "output_type": "stream",
          "name": "stdout",
          "text": [
            "Cloning into 'torchdiffeq'...\n",
            "remote: Enumerating objects: 1138, done.\u001b[K\n",
            "remote: Counting objects: 100% (434/434), done.\u001b[K\n",
            "remote: Compressing objects: 100% (194/194), done.\u001b[K\n",
            "remote: Total 1138 (delta 256), reused 401 (delta 240), pack-reused 704\u001b[K\n",
            "Receiving objects: 100% (1138/1138), 8.29 MiB | 10.20 MiB/s, done.\n",
            "Resolving deltas: 100% (682/682), done.\n",
            "Obtaining file:///content/torchdiffeq\n",
            "Requirement already satisfied: torch>=1.3.0 in /usr/local/lib/python3.7/dist-packages (from torchdiffeq==0.2.2) (1.9.0+cu111)\n",
            "Requirement already satisfied: scipy>=1.4.0 in /usr/local/lib/python3.7/dist-packages (from torchdiffeq==0.2.2) (1.4.1)\n",
            "Requirement already satisfied: numpy>=1.13.3 in /usr/local/lib/python3.7/dist-packages (from scipy>=1.4.0->torchdiffeq==0.2.2) (1.19.5)\n",
            "Requirement already satisfied: typing-extensions in /usr/local/lib/python3.7/dist-packages (from torch>=1.3.0->torchdiffeq==0.2.2) (3.7.4.3)\n",
            "Installing collected packages: torchdiffeq\n",
            "  Running setup.py develop for torchdiffeq\n",
            "Successfully installed torchdiffeq-0.2.2\n",
            "Collecting yfinance\n",
            "  Downloading yfinance-0.1.64.tar.gz (26 kB)\n",
            "Requirement already satisfied: pandas>=0.24 in /usr/local/lib/python3.7/dist-packages (from yfinance) (1.1.5)\n",
            "Requirement already satisfied: numpy>=1.15 in /usr/local/lib/python3.7/dist-packages (from yfinance) (1.19.5)\n",
            "Requirement already satisfied: requests>=2.20 in /usr/local/lib/python3.7/dist-packages (from yfinance) (2.23.0)\n",
            "Requirement already satisfied: multitasking>=0.0.7 in /usr/local/lib/python3.7/dist-packages (from yfinance) (0.0.9)\n",
            "Collecting lxml>=4.5.1\n",
            "  Downloading lxml-4.6.3-cp37-cp37m-manylinux2014_x86_64.whl (6.3 MB)\n",
            "\u001b[K     |████████████████████████████████| 6.3 MB 5.7 MB/s \n",
            "\u001b[?25hRequirement already satisfied: python-dateutil>=2.7.3 in /usr/local/lib/python3.7/dist-packages (from pandas>=0.24->yfinance) (2.8.2)\n",
            "Requirement already satisfied: pytz>=2017.2 in /usr/local/lib/python3.7/dist-packages (from pandas>=0.24->yfinance) (2018.9)\n",
            "Requirement already satisfied: six>=1.5 in /usr/local/lib/python3.7/dist-packages (from python-dateutil>=2.7.3->pandas>=0.24->yfinance) (1.15.0)\n",
            "Requirement already satisfied: chardet<4,>=3.0.2 in /usr/local/lib/python3.7/dist-packages (from requests>=2.20->yfinance) (3.0.4)\n",
            "Requirement already satisfied: idna<3,>=2.5 in /usr/local/lib/python3.7/dist-packages (from requests>=2.20->yfinance) (2.10)\n",
            "Requirement already satisfied: urllib3!=1.25.0,!=1.25.1,<1.26,>=1.21.1 in /usr/local/lib/python3.7/dist-packages (from requests>=2.20->yfinance) (1.24.3)\n",
            "Requirement already satisfied: certifi>=2017.4.17 in /usr/local/lib/python3.7/dist-packages (from requests>=2.20->yfinance) (2021.5.30)\n",
            "Building wheels for collected packages: yfinance\n",
            "  Building wheel for yfinance (setup.py) ... \u001b[?25l\u001b[?25hdone\n",
            "  Created wheel for yfinance: filename=yfinance-0.1.64-py2.py3-none-any.whl size=24109 sha256=c625ac4222431845b9fd2bf4eccb4af016c2ab19095afe2bf23ca45435106432\n",
            "  Stored in directory: /root/.cache/pip/wheels/86/fe/9b/a4d3d78796b699e37065e5b6c27b75cff448ddb8b24943c288\n",
            "Successfully built yfinance\n",
            "Installing collected packages: lxml, yfinance\n",
            "  Attempting uninstall: lxml\n",
            "    Found existing installation: lxml 4.2.6\n",
            "    Uninstalling lxml-4.2.6:\n",
            "      Successfully uninstalled lxml-4.2.6\n",
            "Successfully installed lxml-4.6.3 yfinance-0.1.64\n",
            "_impl  __init__.py\n"
          ]
        }
      ]
    },
    {
      "cell_type": "markdown",
      "metadata": {
        "id": "9cSqPUFvhy_j"
      },
      "source": [
        "# Libraries"
      ]
    },
    {
      "cell_type": "code",
      "metadata": {
        "id": "gnauJ9FBhy_k"
      },
      "source": [
        "# run_models.py\n",
        "import os\n",
        "import sys\n",
        "import matplotlib\n",
        "matplotlib.use('Agg')\n",
        "import matplotlib.pyplot\n",
        "import matplotlib.pyplot as plt\n",
        "\n",
        "import time\n",
        "import datetime\n",
        "import argparse\n",
        "import numpy as np\n",
        "import pandas as pd\n",
        "from random import SystemRandom\n",
        "from sklearn import model_selection\n",
        "\n",
        "import torch\n",
        "import torch.nn as nn\n",
        "from torch.nn.functional import relu\n",
        "import torch.optim as optim\n",
        "\n",
        "import utils as utils\n",
        "from data import *\n",
        "# from lib.plotting import *\n",
        "\n",
        "# from lib.rnn_baselines import *\n",
        "# from lib.ode_rnn import *\n",
        "# from lib.create_latent_ode_model import create_LatentODE_model\n",
        "# from lib.parse_datasets import parse_datasets\n",
        "# from lib.ode_func import ODEFunc, ODEFunc_w_Poisson\n",
        "from diffeq_solver import DiffeqSolver\n",
        "# from mujoco_physics import HopperPhysics\n",
        "\n",
        "from utils import compute_loss_all_batches\n",
        "\n",
        "import sys\n",
        "# print(sys.argv[1:])\n",
        "\n",
        "# Libraries for downloading data\n",
        "from pandas_datareader import data as pdr\n",
        "import yfinance as yf\n",
        "import os\n",
        "import matplotlib.pyplot as plt\n",
        "import pandas as pd\n",
        "import numpy as np\n",
        "\n",
        "# Libraries for parsing data\n",
        "from torch.distributions import uniform\n",
        "from torch.utils.data import DataLoader\n",
        "from sklearn import model_selection\n",
        "import random\n",
        "from utils import get_dict_template\n",
        "\n",
        "# Libraries for encoder_decoder.py\n",
        "from torch.distributions import Categorical, Normal\n",
        "from torch.nn.modules.rnn import LSTM, GRU\n",
        "from utils import get_device\n",
        "\n",
        "# Libraries for likelihood_eval.py\n",
        "import gc\n",
        "import sklearn as sk\n",
        "from torch.distributions.multivariate_normal import MultivariateNormal\n",
        "from torch.distributions.normal import Normal\n",
        "from torch.distributions import kl_divergence, Independent\n",
        "\n",
        "# Libraries for base_models.py\n",
        "from torch.nn.modules.rnn import GRUCell, LSTMCell, RNNCellBase\n",
        "from torch.nn.parameter import Parameter\n",
        "\n",
        "# Libraries for ode_func.py\n",
        "from torch.nn.utils.spectral_norm import spectral_norm"
      ],
      "execution_count": 2,
      "outputs": []
    },
    {
      "cell_type": "markdown",
      "metadata": {
        "id": "PMVN3oEthy_l"
      },
      "source": [
        "# Parameters, Manual Seed, ExperimentID"
      ]
    },
    {
      "cell_type": "code",
      "metadata": {
        "id": "UJGcORZ0hy_l"
      },
      "source": [
        "# Generative model for noisy data based on ODE\n",
        "parser = argparse.ArgumentParser('Latent ODE')\n",
        "# n = size of the dataset\n",
        "parser.add_argument('-n',  type=int, default=2000, help=\"Size of the dataset\")\n",
        "# n_iters = 50\n",
        "parser.add_argument('--niters', type=int, default=100)\n",
        "parser.add_argument('--lr',  type=float, default=1e-3, help=\"Starting learning rate.\")\n",
        "# batch_size = 50\n",
        "parser.add_argument('-b', '--batch-size', type=int, default=50)\n",
        "parser.add_argument('--viz', action='store_true', help=\"Show plots while training\")\n",
        "\n",
        "parser.add_argument('--save', type=str, default='experiments/', help=\"Path for save checkpoints\")\n",
        "parser.add_argument('--load', type=str, default=None, help=\"ID of the experiment to load for evaluation. If None, run a new experiment.\")\n",
        "parser.add_argument('-r', '--random-seed', type=int, default=1991, help=\"Random_seed\")\n",
        "# dataset = stock_lag5_forecast5\n",
        "parser.add_argument('--dataset', type=str, default='stock_lag5_forecast5', help=\"Dataset to load. Available: stock_lag5_forecast5\")\n",
        "parser.add_argument('-s', '--sample-tp', type=float, default=None, help=\"Number of time points to sub-sample.\"\n",
        "\t\"If > 1, subsample exact number of points. If the number is in [0,1], take a percentage of available points per time series. If None, do not subsample\")\n",
        "\n",
        "parser.add_argument('-c', '--cut-tp', type=int, default=None, help=\"Cut out the section of the timeline of the specified length (in number of points).\"\n",
        "\t\"Used for periodic function demo.\")\n",
        "\n",
        "parser.add_argument('--quantization', type=float, default=0.1, help=\"Quantization on the physionet dataset.\"\n",
        "\t\"Value 1 means quantization by 1 hour, value 0.1 means quantization by 0.1 hour = 6 min\")\n",
        "\n",
        "parser.add_argument('--latent-ode', default = True, action='store_true', help=\"Run Latent ODE seq2seq model\")\n",
        "parser.add_argument('--z0-encoder', type=str, default='odernn', help=\"Type of encoder for Latent ODE model: odernn or rnn\")\n",
        "\n",
        "parser.add_argument('--classic-rnn', action='store_true', help=\"Run RNN baseline: classic RNN that sees true points at every point. Used for interpolation only.\")\n",
        "parser.add_argument('--rnn-cell', default=\"gru\", help=\"RNN Cell type. Available: gru (default), expdecay\")\n",
        "parser.add_argument('--input-decay', action='store_true', help=\"For RNN: use the input that is the weighted average of impirical mean and previous value (like in GRU-D)\")\n",
        "\n",
        "parser.add_argument('--ode-rnn', action='store_true', help=\"Run ODE-RNN baseline: RNN-style that sees true points at every point. Used for interpolation only.\")\n",
        "\n",
        "parser.add_argument('--rnn-vae', action='store_true', help=\"Run RNN baseline: seq2seq model with sampling of the h0 and ELBO loss.\")\n",
        "# latents = input_dim\n",
        "parser.add_argument('-l', '--latents', type=int, default=10, help=\"Size of the latent state\")\n",
        "# rec_dims = more than 2*input_dim\n",
        "parser.add_argument('--rec-dims', type=int, default=25, help=\"Dimensionality of the recognition model (ODE or RNN).\")\n",
        "\n",
        "parser.add_argument('--rec-layers', type=int, default=3, help=\"Number of layers in ODE func in recognition ODE\")\n",
        "parser.add_argument('--gen-layers', type=int, default=3, help=\"Number of layers in ODE func in generative ODE\")\n",
        "# units for ODE func\n",
        "parser.add_argument('-u', '--units', type=int, default=300, help=\"Number of units per layer in ODE func\")\n",
        "# units for GRU\n",
        "parser.add_argument('-g', '--gru-units', type=int, default=100, help=\"Number of units per layer in each of GRU update networks\")\n",
        "\n",
        "parser.add_argument('--poisson', action='store_true', help=\"Model poisson-process likelihood for the density of events in addition to reconstruction.\")\n",
        "parser.add_argument('--classif', action='store_true', help=\"Include binary classification loss -- used for Physionet dataset for hospiral mortality\")\n",
        "\n",
        "parser.add_argument('--linear-classif', action='store_true', help=\"If using a classifier, use a linear classifier instead of 1-layer NN\")\n",
        "# extrap = True\n",
        "parser.add_argument('--extrap', default = True, action='store_true', help=\"Set extrapolation mode. If this flag is not set, run interpolation mode.\")\n",
        "# timesteps = lag+forecast\n",
        "parser.add_argument('-t', '--timepoints', type=int, default=10, help=\"Total number of time-points\")\n",
        "parser.add_argument('--max-t',  type=float, default=5., help=\"We subsample points in the interval [0, args.max_tp]\")\n",
        "parser.add_argument('--noise-weight', type=float, default=0.01, help=\"Noise amplitude for generated traejctories\")\n",
        "\n",
        "sys.argv = ['-f']\n",
        "args = parser.parse_args()\n",
        "\n",
        "device = torch.device(\"cuda:0\" if torch.cuda.is_available() else \"cpu\")\n",
        "# file_name = os.path.basename(__file__)[:-3]\n",
        "utils.makedirs(args.save)  # saves in 'experiments/' folder\n",
        "\n"
      ],
      "execution_count": 3,
      "outputs": []
    },
    {
      "cell_type": "code",
      "metadata": {
        "colab": {
          "base_uri": "https://localhost:8080/"
        },
        "id": "gbFeze76hy_n",
        "outputId": "0ce229ac-0b24-4657-bad8-6a9a94ca986f"
      },
      "source": [
        "torch.manual_seed(args.random_seed)\n",
        "np.random.seed(args.random_seed)\n",
        "\n",
        "experimentID = args.load  # None\n",
        "# print(f\"experimentID is {experimentID}\")\n",
        "\n",
        "if experimentID is None:\n",
        "    # Make a new experiment ID\n",
        "    experimentID = int(SystemRandom().random()*100000) # from random import SystemRandom\n",
        "print(f\"experimentID is {experimentID}\")\n",
        "ckpt_path = os.path.join(args.save, \"experiment_\" + str(experimentID) + '.ckpt') \n",
        "# print(f\"ckpt_path is {ckpt_path}\")\n",
        "\n",
        "start = time.time()\n",
        "# print(\"Sampling dataset of {} training examples\".format(args.n))  # n is size of the dataset\n",
        "\n",
        "# print(f\"args is {str(args)}\")\n",
        "\n",
        "input_command = sys.argv\n",
        "# print(f\"input_command is {input_command}\")\n",
        "\n",
        "ind = [i for i in range(len(input_command)) if input_command[i] == \"--load\"]\n",
        "# print(f\"ind is {ind}\")\n",
        "# print(f\"len(ind) is {len(ind)}\")\n",
        "\n",
        "if len(ind) == 1:\n",
        "    ind = ind[0]\n",
        "    input_command = input_command[:ind] + input_command[(ind+2):]\n",
        "input_command = \" \".join(input_command)\n",
        "# print(f\"input_command is {input_command}\")\n",
        "utils.makedirs(\"results/\")\n"
      ],
      "execution_count": 4,
      "outputs": [
        {
          "output_type": "stream",
          "name": "stdout",
          "text": [
            "experimentID is 43321\n"
          ]
        }
      ]
    },
    {
      "cell_type": "markdown",
      "metadata": {
        "id": "b8Ld41k7hy_o"
      },
      "source": [
        "# Get Dataset"
      ]
    },
    {
      "cell_type": "code",
      "metadata": {
        "id": "zC70xR81hy_p"
      },
      "source": [
        "# # Uncomment to get the training data of stock data with lag and forecast\n",
        "# # 1. Get Open and Close Price of asset (o, c) for each trading day.\n",
        "# # libraries\n",
        "\n",
        "# dict_tickers = {\n",
        "#     'Apple': 'AAPL',\n",
        "#     'Microsoft': 'MSFT',\n",
        "#     'Google': 'GOOG',\n",
        "#     'Bitcoin': 'BTC-USD',\n",
        "#     'Facebook': 'FB',\n",
        "#     'Walmart': 'WMT',\n",
        "#     'Amazon': 'AMZN',\n",
        "#     'CVS': 'CVS',\n",
        "#     'Berkshire': 'BRK-B',\n",
        "#     'ExxonMobil': 'XOM',\n",
        "#     'AtandT': 'T',\n",
        "#     'Costco': 'COST',\n",
        "#     'Walgreens': 'WBA',\n",
        "#     'Kroger': 'KR',\n",
        "#     'JPMorgan': 'JPM',\n",
        "#     'Verizon': 'VZ',\n",
        "#     'FordMotor': 'F',\n",
        "#     'GeneralMotors': 'GM',\n",
        "#     'Dell': 'DELL',\n",
        "#     'BankOfAmerica': 'BAC',\n",
        "#     'Target': 'TGT',\n",
        "#     'GeneralElectric': 'GE',\n",
        "#     'JohnsonandJohnson': 'JNJ',\n",
        "#     'Nvidia': 'NVDA',\n",
        "#     'Intel': 'INTC',\n",
        "# }\n",
        "\n",
        "# period = '1d'\n",
        "# start='2000-1-1'\n",
        "# end='2021-8-31'\n",
        "\n",
        "# # Creating a path to save the data\n",
        "# path = f\"raw-stock-data/data-{start.split('-')[0]}-{end.split('-')[0]}\"\n",
        "# if not os.path.exists(path):\n",
        "#     # https://appdividend.com/2021/07/03/how-to-create-directory-if-not-exist-in-python/\n",
        "#     # Create a new directory\n",
        "#     os.makedirs(path)\n",
        "#     print(f\"{path} directory is created\")\n",
        "\n",
        "# # Downloading the data\n",
        "# for tickerName, ticker in dict_tickers.items():\n",
        "#     tickerName = tickerName\n",
        "#     ticker = ticker\n",
        "#     filepath = f\"{path}/{tickerName}.csv\"\n",
        "#     download_raw_stock_data(filepath, ticker, start, end, period)\n",
        "\n",
        "# # print('\\n')\n",
        "\n",
        "# # print(f\"The size of each asset\")\n",
        "# for tickerName in dict_tickers.keys():\n",
        "#     df = pd.read_csv(f\"{path}/{tickerName}.csv\")\n",
        "#     print(f\"{tickerName} size: {len(df)}\")\n",
        "\n",
        "# # 2. Get weekly data.\n",
        "# # 3. Transform $d_{i}$ to sequences of lag * len($d_{i}$) length.\n",
        "\n",
        "\n",
        "# week_sequence = {}\n",
        "# lag = 5\n",
        "# forecast = 5\n",
        "# for tickerName in dict_tickers.keys():\n",
        "#     filepath = f\"{path}/{tickerName}.csv\"\n",
        "#     # Get the data in the required format\n",
        "#     data = stockDataTransformer(filepath)\n",
        "#     # # Total Data Size\n",
        "#     data_size = data.shape[0]\n",
        "#     # print(f\"{tickerName} data.shape {data.shape}\")\n",
        "#     data_orig = series_to_supervised(data, lag, forecast).values\n",
        "#     # print(f'{tickerName} Data Original after series to supervised on data {data_orig.shape}')\n",
        "#     week_sequence[tickerName] = data_orig\n",
        "#     # print('\\n')\n",
        "\n",
        "# # 4. Bundle all sequences together\n",
        "# data = week_sequence['Apple']\n",
        "# for tickerName in week_sequence.keys():\n",
        "#     if tickerName != 'Apple':\n",
        "#         data1 = week_sequence[tickerName]\n",
        "#         data = np.concatenate((data, data1))\n",
        "#         print(f\"data.shape {data.shape}\")\n",
        "\n"
      ],
      "execution_count": 5,
      "outputs": []
    },
    {
      "cell_type": "code",
      "metadata": {
        "id": "imjYAxRYi2Xc"
      },
      "source": [
        "# training_path = 'data'\n",
        "# if not os.path.exists(training_path):\n",
        "#     # https://appdividend.com/2021/07/03/how-to-create-directory-if-not-exist-in-python/\n",
        "#     # Create a new directory\n",
        "#     os.makedirs(training_path)\n",
        "#     print(f\"{path} directory is created\")\n",
        "# data_df = pd.DataFrame(data)\n",
        "# data_df.to_csv(f\"{training_path}/data-lag{lag}-forecast{forecast}.csv\")"
      ],
      "execution_count": 6,
      "outputs": []
    },
    {
      "cell_type": "code",
      "metadata": {
        "colab": {
          "base_uri": "https://localhost:8080/"
        },
        "id": "S4Tlm4XYhy_p",
        "outputId": "215657c1-076e-487f-e87e-0fb92f19b064"
      },
      "source": [
        "# Importing the data with index as the first column\n",
        "training_path = 'data'\n",
        "cluster = 2\n",
        "lag = 5\n",
        "forecast = 5\n",
        "data = np.load(f\"{training_path}/cluster_{cluster}.npy\")\n",
        "data_df = pd.DataFrame(data)\n",
        "data_df.to_csv(f\"{training_path}/cluster_{cluster}.csv\")\n",
        "print(f\"data.shape {data.shape}\")\n",
        "# Reshape data to (data.shape[0], lag+forecast, data.shape[1])\n",
        "data = data.reshape(data.shape[0], lag+forecast, 10)\n",
        "# print(f\"data.shape {data.shape}\")\n",
        "\n",
        "# Convert data to tensor\n",
        "data = torch.from_numpy(data).float().to(device)\n",
        "print(f\"data.shape {data.shape}\")"
      ],
      "execution_count": 7,
      "outputs": [
        {
          "output_type": "stream",
          "name": "stdout",
          "text": [
            "data.shape (2470, 100)\n",
            "data.shape torch.Size([2470, 10, 10])\n"
          ]
        }
      ]
    },
    {
      "cell_type": "markdown",
      "metadata": {
        "id": "XkMnH9Gbhy_q"
      },
      "source": [
        "# Parse Dataset"
      ]
    },
    {
      "cell_type": "code",
      "metadata": {
        "id": "K-Rkuecghy_q"
      },
      "source": [
        "###########################\n",
        "# Latent ODEs for Stock Data \n",
        "# Authors: Omkar Mehta \n",
        "###########################\n",
        "\n",
        "class StockData(object):\n",
        "\n",
        "\tdef __init__(self, root, download = True, generate=False, device = torch.device(\"cpu\")):\n",
        "\t\tself.root = root\n",
        "\t\tif download:\n",
        "\t\t\tdata = self._download()\n",
        "\n",
        "\t\tif generate:\n",
        "\t\t\tself._generate_dataset()\n",
        "\n",
        "\t\tif not self._check_exists():\n",
        "\t\t\traise RuntimeError('Dataset not found.' + ' You can use download=True to download it')\n",
        "\n",
        "\t\tdata_file = os.path.join(self.data_folder, training_file)\n",
        "\t\tdata = pd.read_csv(os.path.join(self.root, training_file), index_col=0).values\n",
        "\t\t# Reshape data to (data.shape[0], lag+forecast, data.shape[1])\n",
        "\t\tdata = data.reshape(data.shape[0], lag+forecast, D)\n",
        "\t\t# Convert data to tensor\n",
        "\t\tself.data = torch.from_numpy(data).float().to(device)\n",
        "\t\tself.data, self.data_min, self.data_max = utils.normalize_data(self.data)\n",
        "\n",
        "\t\tself.device =device\n",
        "\n",
        "\tdef _download(self):\n",
        "\t\tif self._check_exists():\n",
        "\t\t\treturn\n",
        "\t\tif not os.path.exists(self.data_folder):\n",
        "\t\t\tos.makedirs(self.data_folder, exist_ok=True)\n",
        "\t\tdata = pd.read_csv(os.path.join(self.root, training_file), index_col=0).values\n",
        "\t\t# Reshape data to (data.shape[0], lag+forecast, data.shape[1])\n",
        "\t\tdata = data.reshape(data.shape[0], lag+forecast, data.shape[1])\n",
        "\t\treturn data\n",
        "\tdef _check_exists(self):\n",
        "\t\treturn os.path.exists(os.path.join(self.data_folder, training_file))\n",
        "\n",
        "\t@property\n",
        "\tdef data_folder(self):\n",
        "\t\treturn os.path.join(self.root)\n",
        "\n",
        "\t# def __getitem__(self, index):\n",
        "\t#     return self.data[index]\n",
        "\n",
        "\tdef get_dataset(self):\n",
        "\t\treturn self.data\n",
        "\n",
        "\tdef __len__(self):\n",
        "\t\treturn len(self.data)\n",
        "\n",
        "\tdef size(self, ind = None):\n",
        "\t\tif ind is not None:\n",
        "\t\t\treturn self.data.shape[ind]\n",
        "\t\treturn self.data.shape\n",
        "\t\t\t\n",
        "\tdef __repr__(self):\n",
        "\t\tfmt_str = 'Dataset ' + self.__class__.__name__ + '\\n'\n",
        "\t\tfmt_str += '    Number of datapoints: {}\\n'.format(self.__len__())\n",
        "\t\tfmt_str += '    Root Location: {}\\n'.format(self.root)\n",
        "\t\treturn fmt_str\n",
        "\n"
      ],
      "execution_count": 8,
      "outputs": []
    },
    {
      "cell_type": "code",
      "metadata": {
        "id": "TEI5y8U2hy_r"
      },
      "source": [
        "def parse_datasets(args, device):\n",
        "\t\n",
        "\t# Parse datasets\n",
        "\tdef basic_collate_fn(batch, time_steps, args = args, device = device, data_type = \"train\"):\n",
        "\t\tbatch = torch.stack(batch)\n",
        "\t\tdata_dict = {\n",
        "\t\t\t\"data\": batch, \n",
        "\t\t\t\"time_steps\": time_steps}\n",
        "\n",
        "\t\tdata_dict = utils.split_and_subsample_batch(data_dict, args, data_type = data_type)\n",
        "\t\treturn data_dict\n",
        "\n",
        "\n",
        "\tdataset_name = args.dataset\n",
        "\n",
        "\tn_total_tp = args.timepoints + args.extrap\n",
        "\tmax_t_extrap = args.max_t / args.timepoints * n_total_tp\n",
        "\n",
        "\t##################################################################\n",
        "\t# Stock Data with lag and forecast dataset\n",
        "\tif dataset_name == \"stock_lag5_forecast5\":\n",
        "\t\tdataset_obj = StockData(root='data', download=True, generate=False, device = device)\n",
        "\t\tdataset = dataset_obj.get_dataset()\n",
        "\t\tdataset = dataset.to(device)\n",
        "\n",
        "\n",
        "\t\tn_tp_data = dataset[:].shape[1]\n",
        "\n",
        "\t\t# Time steps that are used later on for exrapolation\n",
        "\t\ttime_steps = torch.arange(start=0, end = n_tp_data, step=1).float().to(device)\n",
        "\t\ttime_steps = time_steps / len(time_steps)\n",
        "\n",
        "\t\tdataset = dataset.to(device)\n",
        "\t\ttime_steps = time_steps.to(device)\n",
        "\n",
        "\t\tif not args.extrap:\n",
        "\t\t\t# Creating dataset for interpolation\n",
        "\t\t\t# sample time points from different parts of the timeline, \n",
        "\t\t\t# so that the model learns from different parts of hopper trajectory\n",
        "\t\t\tn_traj = len(dataset)\n",
        "\t\t\tn_tp_data = dataset.shape[1]\n",
        "\t\t\tn_reduced_tp = args.timepoints\n",
        "\n",
        "\t\t\t# sample time points from different parts of the timeline, \n",
        "\t\t\t# so that the model learns from different parts of hopper trajectory\n",
        "\t\t\tstart_ind = np.random.randint(0, high=n_tp_data - n_reduced_tp +1, size=n_traj)\n",
        "\t\t\tend_ind = start_ind + n_reduced_tp\n",
        "\t\t\tsliced = []\n",
        "\t\t\tfor i in range(n_traj):\n",
        "\t\t\t\t  sliced.append(dataset[i, start_ind[i] : end_ind[i], :])\n",
        "\t\t\tdataset = torch.stack(sliced).to(device)\n",
        "\t\t\ttime_steps = time_steps[:n_reduced_tp]\n",
        "\n",
        "\t\t# Split into train and test by the time sequences\n",
        "\t\ttrain_y, test_y = utils.split_train_test(dataset, train_fraq = 0.8)\n",
        "\n",
        "\t\tn_samples = len(dataset)\n",
        "\t\tinput_dim = dataset.size(-1)\n",
        "\n",
        "\t\tbatch_size = min(args.batch_size, args.n)\n",
        "\t\ttrain_dataloader = DataLoader(train_y, batch_size = batch_size, shuffle=False,\n",
        "\t\t\tcollate_fn= lambda batch: basic_collate_fn(batch, time_steps, data_type = \"train\"))\n",
        "\t\ttest_dataloader = DataLoader(test_y, batch_size = n_samples, shuffle=False,\n",
        "\t\t\tcollate_fn= lambda batch: basic_collate_fn(batch, time_steps, data_type = \"test\"))\n",
        "\t\t\n",
        "\t\tdata_objects = {\"dataset_obj\": dataset_obj, \n",
        "\t\t\t\t\t\"train_dataloader\": utils.inf_generator(train_dataloader), \n",
        "\t\t\t\t\t\"test_dataloader\": utils.inf_generator(test_dataloader),\n",
        "\t\t\t\t\t\"input_dim\": input_dim,\n",
        "\t\t\t\t\t\"n_train_batches\": len(train_dataloader),\n",
        "\t\t\t\t\t\"n_test_batches\": len(test_dataloader)}\n",
        "\t\treturn data_objects\n",
        "\n",
        "\t##################################################################\n",
        "\t# Physionet dataset\n",
        "\n",
        "\tif dataset_name == \"physionet\":\n",
        "\t\ttrain_dataset_obj = PhysioNet('data/physionet', train=True, \n",
        "\t\t\t\t\t\t\t\t\t\tquantization = args.quantization,\n",
        "\t\t\t\t\t\t\t\t\t\tdownload=True, n_samples = min(10000, args.n), \n",
        "\t\t\t\t\t\t\t\t\t\tdevice = device)\n",
        "\t\t# Use custom collate_fn to combine samples with arbitrary time observations.\n",
        "\t\t# Returns the dataset along with mask and time steps\n",
        "\t\ttest_dataset_obj = PhysioNet('data/physionet', train=False, \n",
        "\t\t\t\t\t\t\t\t\t\tquantization = args.quantization,\n",
        "\t\t\t\t\t\t\t\t\t\tdownload=True, n_samples = min(10000, args.n), \n",
        "\t\t\t\t\t\t\t\t\t\tdevice = device)\n",
        "\n",
        "\t\t# Combine and shuffle samples from physionet Train and physionet Test\n",
        "\t\ttotal_dataset = train_dataset_obj[:len(train_dataset_obj)]\n",
        "\n",
        "\t\tif not args.classif:\n",
        "\t\t\t# Concatenate samples from original Train and Test sets\n",
        "\t\t\t# Only 'training' physionet samples are have labels. Therefore, if we do classifiction task, we don't need physionet 'test' samples.\n",
        "\t\t\ttotal_dataset = total_dataset + test_dataset_obj[:len(test_dataset_obj)]\n",
        "\n",
        "\t\t# Shuffle and split\n",
        "\t\ttrain_data, test_data = model_selection.train_test_split(total_dataset, train_size= 0.8, \n",
        "\t\t\trandom_state = 42, shuffle = True)\n",
        "\n",
        "\t\trecord_id, tt, vals, mask, labels = train_data[0]\n",
        "\n",
        "\t\tn_samples = len(total_dataset)\n",
        "\t\tinput_dim = vals.size(-1)\n",
        "\n",
        "\t\tbatch_size = min(min(len(train_dataset_obj), args.batch_size), args.n)\n",
        "\t\tdata_min, data_max = get_data_min_max(total_dataset)\n",
        "\n",
        "\t\ttrain_dataloader = DataLoader(train_data, batch_size= batch_size, shuffle=False, \n",
        "\t\t\tcollate_fn= lambda batch: variable_time_collate_fn(batch, args, device, data_type = \"train\",\n",
        "\t\t\t\tdata_min = data_min, data_max = data_max))\n",
        "\t\ttest_dataloader = DataLoader(test_data, batch_size = n_samples, shuffle=False, \n",
        "\t\t\tcollate_fn= lambda batch: variable_time_collate_fn(batch, args, device, data_type = \"test\",\n",
        "\t\t\t\tdata_min = data_min, data_max = data_max))\n",
        "\n",
        "\t\tattr_names = train_dataset_obj.params\n",
        "\t\tdata_objects = {\"dataset_obj\": train_dataset_obj, \n",
        "\t\t\t\t\t\"train_dataloader\": utils.inf_generator(train_dataloader), \n",
        "\t\t\t\t\t\"test_dataloader\": utils.inf_generator(test_dataloader),\n",
        "\t\t\t\t\t\"input_dim\": input_dim,\n",
        "\t\t\t\t\t\"n_train_batches\": len(train_dataloader),\n",
        "\t\t\t\t\t\"n_test_batches\": len(test_dataloader),\n",
        "\t\t\t\t\t\"attr\": attr_names, #optional\n",
        "\t\t\t\t\t\"classif_per_tp\": False, #optional\n",
        "\t\t\t\t\t\"n_labels\": 1} #optional\n",
        "\t\treturn data_objects\n",
        "\n",
        "\t##################################################################\n",
        "\t# Human activity dataset\n",
        "\n",
        "\tif dataset_name == \"activity\":\n",
        "\t\tn_samples =  min(10000, args.n)\n",
        "\t\tdataset_obj = PersonActivity('data/PersonActivity', \n",
        "\t\t\t\t\t\t\tdownload=True, n_samples =  n_samples, device = device)\n",
        "\t\tprint(dataset_obj)\n",
        "\t\t# Use custom collate_fn to combine samples with arbitrary time observations.\n",
        "\t\t# Returns the dataset along with mask and time steps\n",
        "\n",
        "\t\t# Shuffle and split\n",
        "\t\ttrain_data, test_data = model_selection.train_test_split(dataset_obj, train_size= 0.8, \n",
        "\t\t\trandom_state = 42, shuffle = True)\n",
        "\n",
        "\t\ttrain_data = [train_data[i] for i in np.random.choice(len(train_data), len(train_data))]\n",
        "\t\ttest_data = [test_data[i] for i in np.random.choice(len(test_data), len(test_data))]\n",
        "\n",
        "\t\trecord_id, tt, vals, mask, labels = train_data[0]\n",
        "\t\tinput_dim = vals.size(-1)\n",
        "\n",
        "\t\tbatch_size = min(min(len(dataset_obj), args.batch_size), args.n)\n",
        "\t\ttrain_dataloader = DataLoader(train_data, batch_size= batch_size, shuffle=False, \n",
        "\t\t\tcollate_fn= lambda batch: variable_time_collate_fn_activity(batch, args, device, data_type = \"train\"))\n",
        "\t\ttest_dataloader = DataLoader(test_data, batch_size=n_samples, shuffle=False, \n",
        "\t\t\tcollate_fn= lambda batch: variable_time_collate_fn_activity(batch, args, device, data_type = \"test\"))\n",
        "\n",
        "\t\tdata_objects = {\"dataset_obj\": dataset_obj, \n",
        "\t\t\t\t\t\"train_dataloader\": utils.inf_generator(train_dataloader), \n",
        "\t\t\t\t\t\"test_dataloader\": utils.inf_generator(test_dataloader),\n",
        "\t\t\t\t\t\"input_dim\": input_dim,\n",
        "\t\t\t\t\t\"n_train_batches\": len(train_dataloader),\n",
        "\t\t\t\t\t\"n_test_batches\": len(test_dataloader),\n",
        "\t\t\t\t\t\"classif_per_tp\": True, #optional\n",
        "\t\t\t\t\t\"n_labels\": labels.size(-1)}\n",
        "\n",
        "\t\treturn data_objects\n",
        "\n",
        "\t########### 1d datasets ###########\n",
        "\n",
        "\t# Sampling args.timepoints time points in the interval [0, args.max_t]\n",
        "\t# Sample points for both training sequence and explapolation (test)\n",
        "\tdistribution = uniform.Uniform(torch.Tensor([0.0]),torch.Tensor([max_t_extrap]))\n",
        "\ttime_steps_extrap =  distribution.sample(torch.Size([n_total_tp-1]))[:,0]\n",
        "\ttime_steps_extrap = torch.cat((torch.Tensor([0.0]), time_steps_extrap))\n",
        "\ttime_steps_extrap = torch.sort(time_steps_extrap)[0]\n",
        "\n",
        "\tdataset_obj = None\n",
        "\t##################################################################\n",
        "\t# Sample a periodic function\n",
        "\tif dataset_name == \"periodic\":\n",
        "\t\tdataset_obj = Periodic_1d(\n",
        "\t\t\tinit_freq = None, init_amplitude = 1.,\n",
        "\t\t\tfinal_amplitude = 1., final_freq = None, \n",
        "\t\t\tz0 = 1.)\n",
        "\n",
        "\t##################################################################\n",
        "\n",
        "\tif dataset_obj is None:\n",
        "\t\traise Exception(\"Unknown dataset: {}\".format(dataset_name))\n",
        "\n",
        "\tdataset = dataset_obj.sample_traj(time_steps_extrap, n_samples = args.n, \n",
        "\t\tnoise_weight = args.noise_weight)\n",
        "\n",
        "\t# Process small datasets\n",
        "\tdataset = dataset.to(device)\n",
        "\ttime_steps_extrap = time_steps_extrap.to(device)\n",
        "\n",
        "\ttrain_y, test_y = utils.split_train_test(dataset, train_fraq = 0.8)\n",
        "\n",
        "\tn_samples = len(dataset)\n",
        "\tinput_dim = dataset.size(-1)\n",
        "\n",
        "\tbatch_size = min(args.batch_size, args.n)\n",
        "\ttrain_dataloader = DataLoader(train_y, batch_size = batch_size, shuffle=False,\n",
        "\t\tcollate_fn= lambda batch: basic_collate_fn(batch, time_steps_extrap, data_type = \"train\"))\n",
        "\ttest_dataloader = DataLoader(test_y, batch_size = args.n, shuffle=False,\n",
        "\t\tcollate_fn= lambda batch: basic_collate_fn(batch, time_steps_extrap, data_type = \"test\"))\n",
        "\t\n",
        "\tdata_objects = {#\"dataset_obj\": dataset_obj, \n",
        "\t\t\t\t\"train_dataloader\": utils.inf_generator(train_dataloader), \n",
        "\t\t\t\t\"test_dataloader\": utils.inf_generator(test_dataloader),\n",
        "\t\t\t\t\"input_dim\": input_dim,\n",
        "\t\t\t\t\"n_train_batches\": len(train_dataloader),\n",
        "\t\t\t\t\"n_test_batches\": len(test_dataloader)}\n",
        "\n",
        "\treturn data_objects\n",
        "\n",
        "\n"
      ],
      "execution_count": 9,
      "outputs": []
    },
    {
      "cell_type": "code",
      "metadata": {
        "colab": {
          "base_uri": "https://localhost:8080/"
        },
        "id": "xvdaU1g4hy_s",
        "outputId": "e527fc6d-f40f-497a-fac2-59599e60211e"
      },
      "source": [
        "lag = 5\n",
        "forecast = 5\n",
        "\n",
        "T = lag+forecast\n",
        "print(f\"T is {T}\")\n",
        "D = 10\n",
        "print(f\"D is {D}\")\n",
        "root = 'data'\n",
        "n_training_samples = data.shape[0]\n",
        "training_file = f'cluster_{cluster}.csv'\n",
        "\n",
        "data_obj = parse_datasets(args, device)\n",
        "input_dim = data_obj[\"input_dim\"]\n",
        "print(f\"input_dim is {input_dim}\")\n",
        "\n",
        "classif_per_tp = False\n",
        "if (\"classif_per_tp\" in data_obj):\n",
        "    # do classification per time point rather than on a time series as a whole\n",
        "    classif_per_tp = data_obj[\"classif_per_tp\"]\n",
        "\n",
        "if args.classif and (args.dataset == \"hopper\" or args.dataset == \"periodic\"):\n",
        "    raise Exception(\"Classification task is not available for MuJoCo and 1d datasets\")\n"
      ],
      "execution_count": 10,
      "outputs": [
        {
          "output_type": "stream",
          "name": "stdout",
          "text": [
            "T is 10\n",
            "D is 10\n",
            "input_dim is 10\n"
          ]
        }
      ]
    },
    {
      "cell_type": "markdown",
      "metadata": {
        "id": "vN8eEmH-hy_s"
      },
      "source": [
        "# n_labels, obsrv_std, z0_prior"
      ]
    },
    {
      "cell_type": "code",
      "metadata": {
        "id": "5wMtb7FQhy_s"
      },
      "source": [
        "n_labels = 1\n",
        "if args.classif:\n",
        "    if (\"n_labels\" in data_obj):\n",
        "        n_labels = data_obj[\"n_labels\"]\n",
        "    else:\n",
        "        raise Exception(\"Please provide number of labels for classification task\")\n",
        "\n",
        "##################################################################\n",
        "# Create the model\n",
        "obsrv_std = 0.01\n",
        "if args.dataset == \"stock_lag5_forecast5\":\n",
        "    obsrv_std = 1e-3 \n",
        "\n",
        "obsrv_std = torch.Tensor([obsrv_std]).to(device)\n",
        "\n",
        "z0_prior = Normal(torch.Tensor([0.0]).to(device), torch.Tensor([1.]).to(device))"
      ],
      "execution_count": 11,
      "outputs": []
    },
    {
      "cell_type": "markdown",
      "metadata": {
        "id": "58GzgLWxhy_s"
      },
      "source": [
        "# args.latent_ode"
      ]
    },
    {
      "cell_type": "markdown",
      "metadata": {
        "id": "ExKiCiHthy_s"
      },
      "source": [
        "## encoder_decoder.py"
      ]
    },
    {
      "cell_type": "code",
      "metadata": {
        "id": "1pKHw5pqhy_t"
      },
      "source": [
        "# GRU description: \n",
        "# http://www.wildml.com/2015/10/recurrent-neural-network-tutorial-part-4-implementing-a-grulstm-rnn-with-python-and-theano/\n",
        "class GRU_unit(nn.Module):\n",
        "\tdef __init__(self, latent_dim, input_dim, \n",
        "\t\tupdate_gate = None,\n",
        "\t\treset_gate = None,\n",
        "\t\tnew_state_net = None,\n",
        "\t\tn_units = 100,\n",
        "\t\tdevice = torch.device(\"cpu\")):\n",
        "\t\tsuper(GRU_unit, self).__init__()\n",
        "\n",
        "\t\tif update_gate is None:\n",
        "\t\t\tself.update_gate = nn.Sequential(\n",
        "\t\t\t   nn.Linear(latent_dim * 2 + input_dim, n_units),\n",
        "\t\t\t   nn.Tanh(),\n",
        "\t\t\t   nn.Linear(n_units, latent_dim),\n",
        "\t\t\t   nn.Sigmoid())\n",
        "\t\t\tutils.init_network_weights(self.update_gate)\n",
        "\t\telse: \n",
        "\t\t\tself.update_gate  = update_gate\n",
        "\n",
        "\t\tif reset_gate is None:\n",
        "\t\t\tself.reset_gate = nn.Sequential(\n",
        "\t\t\t   nn.Linear(latent_dim * 2 + input_dim, n_units),\n",
        "\t\t\t   nn.Tanh(),\n",
        "\t\t\t   nn.Linear(n_units, latent_dim),\n",
        "\t\t\t   nn.Sigmoid())\n",
        "\t\t\tutils.init_network_weights(self.reset_gate)\n",
        "\t\telse: \n",
        "\t\t\tself.reset_gate  = reset_gate\n",
        "\n",
        "\t\tif new_state_net is None:\n",
        "\t\t\tself.new_state_net = nn.Sequential(\n",
        "\t\t\t   nn.Linear(latent_dim * 2 + input_dim, n_units),\n",
        "\t\t\t   nn.Tanh(),\n",
        "\t\t\t   nn.Linear(n_units, latent_dim * 2))\n",
        "\t\t\tutils.init_network_weights(self.new_state_net)\n",
        "\t\telse: \n",
        "\t\t\tself.new_state_net  = new_state_net\n",
        "\n",
        "\n",
        "\tdef forward(self, y_mean, y_std, x, masked_update = True):\n",
        "\t\ty_concat = torch.cat([y_mean, y_std, x], -1)\n",
        "\n",
        "\t\tupdate_gate = self.update_gate(y_concat)\n",
        "\t\treset_gate = self.reset_gate(y_concat)\n",
        "\t\tconcat = torch.cat([y_mean * reset_gate, y_std * reset_gate, x], -1)\n",
        "\t\t\n",
        "\t\tnew_state, new_state_std = utils.split_last_dim(self.new_state_net(concat))\n",
        "\t\tnew_state_std = new_state_std.abs()\n",
        "\n",
        "\t\tnew_y = (1-update_gate) * new_state + update_gate * y_mean\n",
        "\t\tnew_y_std = (1-update_gate) * new_state_std + update_gate * y_std\n",
        "\n",
        "\t\tassert(not torch.isnan(new_y).any())\n",
        "\n",
        "\t\tif masked_update:\n",
        "\t\t\t# IMPORTANT: assumes that x contains both data and mask\n",
        "\t\t\t# update only the hidden states for hidden state only if at least one feature is present for the current time point\n",
        "\t\t\tn_data_dims = x.size(-1)//2\n",
        "\t\t\tmask = x[:, :, n_data_dims:]\n",
        "\t\t\tutils.check_mask(x[:, :, :n_data_dims], mask)\n",
        "\t\t\t\n",
        "\t\t\tmask = (torch.sum(mask, -1, keepdim = True) > 0).float()\n",
        "\n",
        "\t\t\tassert(not torch.isnan(mask).any())\n",
        "\n",
        "\t\t\tnew_y = mask * new_y + (1-mask) * y_mean\n",
        "\t\t\tnew_y_std = mask * new_y_std + (1-mask) * y_std\n",
        "\n",
        "\t\t\tif torch.isnan(new_y).any():\n",
        "\t\t\t\tprint(\"new_y is nan!\")\n",
        "\t\t\t\tprint(mask)\n",
        "\t\t\t\tprint(y_mean)\n",
        "\t\t\t\tprint(prev_new_y)\n",
        "\t\t\t\texit()\n",
        "\n",
        "\t\tnew_y_std = new_y_std.abs()\n",
        "\t\treturn new_y, new_y_std\n",
        "\n",
        "\n",
        "\n",
        "class Encoder_z0_RNN(nn.Module):\n",
        "\tdef __init__(self, latent_dim, input_dim, lstm_output_size = 20, \n",
        "\t\tuse_delta_t = True, device = torch.device(\"cpu\")):\n",
        "\t\t\n",
        "\t\tsuper(Encoder_z0_RNN, self).__init__()\n",
        "\t\n",
        "\t\tself.gru_rnn_output_size = lstm_output_size\n",
        "\t\tself.latent_dim = latent_dim\n",
        "\t\tself.input_dim = input_dim\n",
        "\t\tself.device = device\n",
        "\t\tself.use_delta_t = use_delta_t\n",
        "\n",
        "\t\tself.hiddens_to_z0 = nn.Sequential(\n",
        "\t\t   nn.Linear(self.gru_rnn_output_size, 50),\n",
        "\t\t   nn.Tanh(),\n",
        "\t\t   nn.Linear(50, latent_dim * 2),)\n",
        "\n",
        "\t\tutils.init_network_weights(self.hiddens_to_z0)\n",
        "\n",
        "\t\tinput_dim = self.input_dim\n",
        "\n",
        "\t\tif use_delta_t:\n",
        "\t\t\tself.input_dim += 1\n",
        "\t\tself.gru_rnn = GRU(self.input_dim, self.gru_rnn_output_size).to(device)\n",
        "\n",
        "\tdef forward(self, data, time_steps, run_backwards = True):\n",
        "\t\t# IMPORTANT: assumes that 'data' already has mask concatenated to it \n",
        "\n",
        "\t\t# data shape: [n_traj, n_tp, n_dims]\n",
        "\t\t# shape required for rnn: (seq_len, batch, input_size)\n",
        "\t\t# t0: not used here\n",
        "\t\tn_traj = data.size(0)\n",
        "\n",
        "\t\tassert(not torch.isnan(data).any())\n",
        "\t\tassert(not torch.isnan(time_steps).any())\n",
        "\n",
        "\t\tdata = data.permute(1,0,2) \n",
        "\n",
        "\t\tif run_backwards:\n",
        "\t\t\t# Look at data in the reverse order: from later points to the first\n",
        "\t\t\tdata = utils.reverse(data)\n",
        "\n",
        "\t\tif self.use_delta_t:\n",
        "\t\t\tdelta_t = time_steps[1:] - time_steps[:-1]\n",
        "\t\t\tif run_backwards:\n",
        "\t\t\t\t# we are going backwards in time with\n",
        "\t\t\t\tdelta_t = utils.reverse(delta_t)\n",
        "\t\t\t# append zero delta t in the end\n",
        "\t\t\tdelta_t = torch.cat((delta_t, torch.zeros(1).to(self.device)))\n",
        "\t\t\tdelta_t = delta_t.unsqueeze(1).repeat((1,n_traj)).unsqueeze(-1)\n",
        "\t\t\tdata = torch.cat((delta_t, data),-1)\n",
        "\n",
        "\t\toutputs, _ = self.gru_rnn(data)\n",
        "\n",
        "\t\t# LSTM output shape: (seq_len, batch, num_directions * hidden_size)\n",
        "\t\tlast_output = outputs[-1]\n",
        "\n",
        "\t\tself.extra_info ={\"rnn_outputs\": outputs, \"time_points\": time_steps}\n",
        "\n",
        "\t\tmean, std = utils.split_last_dim(self.hiddens_to_z0(last_output))\n",
        "\t\tstd = std.abs()\n",
        "\n",
        "\t\tassert(not torch.isnan(mean).any())\n",
        "\t\tassert(not torch.isnan(std).any())\n",
        "\n",
        "\t\treturn mean.unsqueeze(0), std.unsqueeze(0)\n",
        "\n",
        "\n",
        "\n",
        "\n",
        "\n",
        "class Encoder_z0_ODE_RNN(nn.Module):\n",
        "\t# Derive z0 by running ode backwards.\n",
        "\t# For every y_i we have two versions: encoded from data and derived from ODE by running it backwards from t_i+1 to t_i\n",
        "\t# Compute a weighted sum of y_i from data and y_i from ode. Use weighted y_i as an initial value for ODE runing from t_i to t_i-1\n",
        "\t# Continue until we get to z0\n",
        "\tdef __init__(self, latent_dim, input_dim, z0_diffeq_solver = None, \n",
        "\t\tz0_dim = None, GRU_update = None, \n",
        "\t\tn_gru_units = 100, \n",
        "\t\tdevice = torch.device(\"cpu\")):\n",
        "\t\t\n",
        "\t\tsuper(Encoder_z0_ODE_RNN, self).__init__()\n",
        "\n",
        "\t\tif z0_dim is None:\n",
        "\t\t\tself.z0_dim = latent_dim\n",
        "\t\telse:\n",
        "\t\t\tself.z0_dim = z0_dim\n",
        "\n",
        "\t\tif GRU_update is None:\n",
        "\t\t\tself.GRU_update = GRU_unit(latent_dim, input_dim, \n",
        "\t\t\t\tn_units = n_gru_units, \n",
        "\t\t\t\tdevice=device).to(device)\n",
        "\t\telse:\n",
        "\t\t\tself.GRU_update = GRU_update\n",
        "\n",
        "\t\tself.z0_diffeq_solver = z0_diffeq_solver\n",
        "\t\tself.latent_dim = latent_dim\n",
        "\t\tself.input_dim = input_dim\n",
        "\t\tself.device = device\n",
        "\t\tself.extra_info = None\n",
        "\n",
        "\t\tself.transform_z0 = nn.Sequential(\n",
        "\t\t   nn.Linear(latent_dim * 2, 100),\n",
        "\t\t   nn.Tanh(),\n",
        "\t\t   nn.Linear(100, self.z0_dim * 2),)\n",
        "\t\tutils.init_network_weights(self.transform_z0)\n",
        "\n",
        "\n",
        "\tdef forward(self, data, time_steps, run_backwards = False, save_info = False):\n",
        "\t\t# data, time_steps -- observations and their time stamps\n",
        "\t\t# IMPORTANT: assumes that 'data' already has mask concatenated to it \n",
        "\t\tassert(not torch.isnan(data).any())\n",
        "\t\tassert(not torch.isnan(time_steps).any())\n",
        "\n",
        "\t\tn_traj, n_tp, n_dims = data.size()\n",
        "\t\tif len(time_steps) == 1:\n",
        "\t\t\tprev_y = torch.zeros((1, n_traj, self.latent_dim)).to(self.device)\n",
        "\t\t\tprev_std = torch.zeros((1, n_traj, self.latent_dim)).to(self.device)\n",
        "\n",
        "\t\t\txi = data[:,0,:].unsqueeze(0)\n",
        "\n",
        "\t\t\tlast_yi, last_yi_std = self.GRU_update(prev_y, prev_std, xi)\n",
        "\t\t\textra_info = None\n",
        "\t\telse:\n",
        "\t\t\t\n",
        "\t\t\tlast_yi, last_yi_std, _, extra_info = self.run_odernn(\n",
        "\t\t\t\tdata, time_steps, run_backwards = run_backwards,\n",
        "\t\t\t\tsave_info = save_info)\n",
        "\n",
        "\t\tmeans_z0 = last_yi.reshape(1, n_traj, self.latent_dim)\n",
        "\t\tstd_z0 = last_yi_std.reshape(1, n_traj, self.latent_dim)\n",
        "\n",
        "\t\tmean_z0, std_z0 = utils.split_last_dim( self.transform_z0( torch.cat((means_z0, std_z0), -1)))\n",
        "\t\tstd_z0 = std_z0.abs()\n",
        "\t\tif save_info:\n",
        "\t\t\tself.extra_info = extra_info\n",
        "\n",
        "\t\treturn mean_z0, std_z0\n",
        "\n",
        "\n",
        "\tdef run_odernn(self, data, time_steps, \n",
        "\t\trun_backwards = True, save_info = False):\n",
        "\t\t# IMPORTANT: assumes that 'data' already has mask concatenated to it \n",
        "\n",
        "\t\tn_traj, n_tp, n_dims = data.size()\n",
        "\t\textra_info = []\n",
        "\n",
        "\t\tt0 = time_steps[-1]\n",
        "\t\tif run_backwards:\n",
        "\t\t\tt0 = time_steps[0]\n",
        "\n",
        "\t\tdevice = get_device(data)\n",
        "\n",
        "\t\tprev_y = torch.zeros((1, n_traj, self.latent_dim)).to(device)\n",
        "\t\tprev_std = torch.zeros((1, n_traj, self.latent_dim)).to(device)\n",
        "\n",
        "\t\tprev_t, t_i = time_steps[-1] + 0.01,  time_steps[-1]\n",
        "\n",
        "\t\tinterval_length = time_steps[-1] - time_steps[0]\n",
        "\t\tminimum_step = interval_length / 50\n",
        "\n",
        "\t\t#print(\"minimum step: {}\".format(minimum_step))\n",
        "\n",
        "\t\tassert(not torch.isnan(data).any())\n",
        "\t\tassert(not torch.isnan(time_steps).any())\n",
        "\n",
        "\t\tlatent_ys = []\n",
        "\t\t# Run ODE backwards and combine the y(t) estimates using gating\n",
        "\t\ttime_points_iter = range(0, len(time_steps))\n",
        "\t\tif run_backwards:\n",
        "\t\t\ttime_points_iter = reversed(time_points_iter)\n",
        "\n",
        "\t\tfor i in time_points_iter:\n",
        "\t\t\tif (prev_t - t_i) < minimum_step:\n",
        "\t\t\t\ttime_points = torch.stack((prev_t, t_i))\n",
        "\t\t\t\tinc = self.z0_diffeq_solver.ode_func(prev_t, prev_y) * (t_i - prev_t)\n",
        "\n",
        "\t\t\t\tassert(not torch.isnan(inc).any())\n",
        "\n",
        "\t\t\t\tode_sol = prev_y + inc\n",
        "\t\t\t\tode_sol = torch.stack((prev_y, ode_sol), 2).to(device)\n",
        "\n",
        "\t\t\t\tassert(not torch.isnan(ode_sol).any())\n",
        "\t\t\telse:\n",
        "\t\t\t\tn_intermediate_tp = max(2, ((prev_t - t_i) / minimum_step).int())\n",
        "\n",
        "\t\t\t\ttime_points = utils.linspace_vector(prev_t, t_i, n_intermediate_tp)\n",
        "\t\t\t\tode_sol = self.z0_diffeq_solver(prev_y, time_points)\n",
        "\n",
        "\t\t\t\tassert(not torch.isnan(ode_sol).any())\n",
        "\n",
        "\t\t\tif torch.mean(ode_sol[:, :, 0, :]  - prev_y) >= 0.001:\n",
        "\t\t\t\tprint(\"Error: first point of the ODE is not equal to initial value\")\n",
        "\t\t\t\tprint(torch.mean(ode_sol[:, :, 0, :]  - prev_y))\n",
        "\t\t\t\texit()\n",
        "\t\t\t#assert(torch.mean(ode_sol[:, :, 0, :]  - prev_y) < 0.001)\n",
        "\n",
        "\t\t\tyi_ode = ode_sol[:, :, -1, :]\n",
        "\t\t\txi = data[:,i,:].unsqueeze(0)\n",
        "\t\t\t\n",
        "\t\t\tyi, yi_std = self.GRU_update(yi_ode, prev_std, xi)\n",
        "\n",
        "\t\t\tprev_y, prev_std = yi, yi_std\t\t\t\n",
        "\t\t\tprev_t, t_i = time_steps[i],  time_steps[i-1]\n",
        "\n",
        "\t\t\tlatent_ys.append(yi)\n",
        "\n",
        "\t\t\tif save_info:\n",
        "\t\t\t\td = {\"yi_ode\": yi_ode.detach(), #\"yi_from_data\": yi_from_data,\n",
        "\t\t\t\t\t \"yi\": yi.detach(), \"yi_std\": yi_std.detach(), \n",
        "\t\t\t\t\t \"time_points\": time_points.detach(), \"ode_sol\": ode_sol.detach()}\n",
        "\t\t\t\textra_info.append(d)\n",
        "\n",
        "\t\tlatent_ys = torch.stack(latent_ys, 1)\n",
        "\n",
        "\t\tassert(not torch.isnan(yi).any())\n",
        "\t\tassert(not torch.isnan(yi_std).any())\n",
        "\n",
        "\t\treturn yi, yi_std, latent_ys, extra_info\n",
        "\n",
        "\n",
        "\n",
        "class Decoder(nn.Module):\n",
        "\tdef __init__(self, latent_dim, input_dim):\n",
        "\t\tsuper(Decoder, self).__init__()\n",
        "\t\t# decode data from latent space where we are solving an ODE back to the data space\n",
        "\n",
        "\t\tdecoder = nn.Sequential(\n",
        "\t\t   nn.Linear(latent_dim, input_dim),)\n",
        "\n",
        "\t\tutils.init_network_weights(decoder)\t\n",
        "\t\tself.decoder = decoder\n",
        "\n",
        "\tdef forward(self, data):\n",
        "\t\treturn self.decoder(data)\n",
        "\n",
        "\n"
      ],
      "execution_count": 12,
      "outputs": []
    },
    {
      "cell_type": "markdown",
      "metadata": {
        "id": "5MtrsGDjhy_t"
      },
      "source": [
        "## likelihood_eval.py"
      ]
    },
    {
      "cell_type": "code",
      "metadata": {
        "id": "YPhI4WBuhy_u"
      },
      "source": [
        "def gaussian_log_likelihood(mu_2d, data_2d, obsrv_std, indices = None):\n",
        "\tn_data_points = mu_2d.size()[-1]\n",
        "\n",
        "\tif n_data_points > 0:\n",
        "\t\tgaussian = Independent(Normal(loc = mu_2d, scale = obsrv_std.repeat(n_data_points)), 1)\n",
        "\t\tlog_prob = gaussian.log_prob(data_2d) \n",
        "\t\tlog_prob = log_prob / n_data_points \n",
        "\telse:\n",
        "\t\tlog_prob = torch.zeros([1]).to(get_device(data_2d)).squeeze()\n",
        "\treturn log_prob\n",
        "\n",
        "\n",
        "def poisson_log_likelihood(masked_log_lambdas, masked_data, indices, int_lambdas):\n",
        "\t# masked_log_lambdas and masked_data \n",
        "\tn_data_points = masked_data.size()[-1]\n",
        "\n",
        "\tif n_data_points > 0:\n",
        "\t\tlog_prob = torch.sum(masked_log_lambdas) - int_lambdas[indices]\n",
        "\t\t#log_prob = log_prob / n_data_points\n",
        "\telse:\n",
        "\t\tlog_prob = torch.zeros([1]).to(get_device(masked_data)).squeeze()\n",
        "\treturn log_prob\n",
        "\n",
        "\n",
        "\n",
        "def compute_binary_CE_loss(label_predictions, mortality_label):\n",
        "\t#print(\"Computing binary classification loss: compute_CE_loss\")\n",
        "\n",
        "\tmortality_label = mortality_label.reshape(-1)\n",
        "\n",
        "\tif len(label_predictions.size()) == 1:\n",
        "\t\tlabel_predictions = label_predictions.unsqueeze(0)\n",
        " \n",
        "\tn_traj_samples = label_predictions.size(0)\n",
        "\tlabel_predictions = label_predictions.reshape(n_traj_samples, -1)\n",
        "\t\n",
        "\tidx_not_nan = ~torch.isnan(mortality_label)\n",
        "\tif len(idx_not_nan) == 0.:\n",
        "\t\tprint(\"All are labels are NaNs!\")\n",
        "\t\tce_loss = torch.Tensor(0.).to(get_device(mortality_label))\n",
        "\n",
        "\tlabel_predictions = label_predictions[:,idx_not_nan]\n",
        "\tmortality_label = mortality_label[idx_not_nan]\n",
        "\n",
        "\tif torch.sum(mortality_label == 0.) == 0 or torch.sum(mortality_label == 1.) == 0:\n",
        "\t\tprint(\"Warning: all examples in a batch belong to the same class -- please increase the batch size.\")\n",
        "\n",
        "\tassert(not torch.isnan(label_predictions).any())\n",
        "\tassert(not torch.isnan(mortality_label).any())\n",
        "\n",
        "\t# For each trajectory, we get n_traj_samples samples from z0 -- compute loss on all of them\n",
        "\tmortality_label = mortality_label.repeat(n_traj_samples, 1)\n",
        "\tce_loss = nn.BCEWithLogitsLoss()(label_predictions, mortality_label)\n",
        "\n",
        "\t# divide by number of patients in a batch\n",
        "\tce_loss = ce_loss / n_traj_samples\n",
        "\treturn ce_loss\n",
        "\n",
        "\n",
        "def compute_multiclass_CE_loss(label_predictions, true_label, mask):\n",
        "\t#print(\"Computing multi-class classification loss: compute_multiclass_CE_loss\")\n",
        "\n",
        "\tif (len(label_predictions.size()) == 3):\n",
        "\t\tlabel_predictions = label_predictions.unsqueeze(0)\n",
        "\n",
        "\tn_traj_samples, n_traj, n_tp, n_dims = label_predictions.size()\n",
        "\n",
        "\t# assert(not torch.isnan(label_predictions).any())\n",
        "\t# assert(not torch.isnan(true_label).any())\n",
        "\n",
        "\t# For each trajectory, we get n_traj_samples samples from z0 -- compute loss on all of them\n",
        "\ttrue_label = true_label.repeat(n_traj_samples, 1, 1)\n",
        "\n",
        "\tlabel_predictions = label_predictions.reshape(n_traj_samples * n_traj * n_tp, n_dims)\n",
        "\ttrue_label = true_label.reshape(n_traj_samples * n_traj * n_tp, n_dims)\n",
        "\n",
        "\t# choose time points with at least one measurement\n",
        "\tmask = torch.sum(mask, -1) > 0\n",
        "\n",
        "\t# repeat the mask for each label to mark that the label for this time point is present\n",
        "\tpred_mask = mask.repeat(n_dims, 1,1).permute(1,2,0)\n",
        "\n",
        "\tlabel_mask = mask\n",
        "\tpred_mask = pred_mask.repeat(n_traj_samples,1,1,1)\n",
        "\tlabel_mask = label_mask.repeat(n_traj_samples,1,1,1)\n",
        "\n",
        "\tpred_mask = pred_mask.reshape(n_traj_samples * n_traj * n_tp,  n_dims)\n",
        "\tlabel_mask = label_mask.reshape(n_traj_samples * n_traj * n_tp, 1)\n",
        "\n",
        "\tif (label_predictions.size(-1) > 1) and (true_label.size(-1) > 1):\n",
        "\t\tassert(label_predictions.size(-1) == true_label.size(-1))\n",
        "\t\t# targets are in one-hot encoding -- convert to indices\n",
        "\t\t_, true_label = true_label.max(-1)\n",
        "\n",
        "\tres = []\n",
        "\tfor i in range(true_label.size(0)):\n",
        "\t\tpred_masked = torch.masked_select(label_predictions[i], pred_mask[i].bool())\n",
        "\t\tlabels = torch.masked_select(true_label[i], label_mask[i].bool())\n",
        "\t\n",
        "\t\tpred_masked = pred_masked.reshape(-1, n_dims)\n",
        "\n",
        "\t\tif (len(labels) == 0):\n",
        "\t\t\tcontinue\n",
        "\n",
        "\t\tce_loss = nn.CrossEntropyLoss()(pred_masked, labels.long())\n",
        "\t\tres.append(ce_loss)\n",
        "\n",
        "\tce_loss = torch.stack(res, 0).to(get_device(label_predictions))\n",
        "\tce_loss = torch.mean(ce_loss)\n",
        "\t# # divide by number of patients in a batch\n",
        "\t# ce_loss = ce_loss / n_traj_samples\n",
        "\treturn ce_loss\n",
        "\n",
        "\n",
        "\n",
        "\n",
        "def compute_masked_likelihood(mu, data, mask, likelihood_func):\n",
        "\t# Compute the likelihood per patient and per attribute so that we don't priorize patients with more measurements\n",
        "\tn_traj_samples, n_traj, n_timepoints, n_dims = data.size()\n",
        "\n",
        "\tres = []\n",
        "\tfor i in range(n_traj_samples):\n",
        "\t\tfor k in range(n_traj):\n",
        "\t\t\tfor j in range(n_dims):\n",
        "\t\t\t\tdata_masked = torch.masked_select(data[i,k,:,j], mask[i,k,:,j].bool())\n",
        "\t\t\t\t\n",
        "\t\t\t\t#assert(torch.sum(data_masked == 0.) < 10)\n",
        "\n",
        "\t\t\t\tmu_masked = torch.masked_select(mu[i,k,:,j], mask[i,k,:,j].bool())\n",
        "\t\t\t\tlog_prob = likelihood_func(mu_masked, data_masked, indices = (i,k,j))\n",
        "\t\t\t\tres.append(log_prob)\n",
        "\t# shape: [n_traj*n_traj_samples, 1]\n",
        "\n",
        "\tres = torch.stack(res, 0).to(get_device(data))\n",
        "\tres = res.reshape((n_traj_samples, n_traj, n_dims))\n",
        "\t# Take mean over the number of dimensions\n",
        "\tres = torch.mean(res, -1) # !!!!!!!!!!! changed from sum to mean\n",
        "\tres = res.transpose(0,1)\n",
        "\treturn res\n",
        "\n",
        "\n",
        "def masked_gaussian_log_density(mu, data, obsrv_std, mask = None):\n",
        "\t# these cases are for plotting through plot_estim_density\n",
        "\tif (len(mu.size()) == 3):\n",
        "\t\t# add additional dimension for gp samples\n",
        "\t\tmu = mu.unsqueeze(0)\n",
        "\n",
        "\tif (len(data.size()) == 2):\n",
        "\t\t# add additional dimension for gp samples and time step\n",
        "\t\tdata = data.unsqueeze(0).unsqueeze(2)\n",
        "\telif (len(data.size()) == 3):\n",
        "\t\t# add additional dimension for gp samples\n",
        "\t\tdata = data.unsqueeze(0)\n",
        "\n",
        "\tn_traj_samples, n_traj, n_timepoints, n_dims = mu.size()\n",
        "\n",
        "\tassert(data.size()[-1] == n_dims)\n",
        "\n",
        "\t# Shape after permutation: [n_traj, n_traj_samples, n_timepoints, n_dims]\n",
        "\tif mask is None:\n",
        "\t\tmu_flat = mu.reshape(n_traj_samples*n_traj, n_timepoints * n_dims)\n",
        "\t\tn_traj_samples, n_traj, n_timepoints, n_dims = data.size()\n",
        "\t\tdata_flat = data.reshape(n_traj_samples*n_traj, n_timepoints * n_dims)\n",
        "\t\n",
        "\t\tres = gaussian_log_likelihood(mu_flat, data_flat, obsrv_std)\n",
        "\t\tres = res.reshape(n_traj_samples, n_traj).transpose(0,1)\n",
        "\telse:\n",
        "\t\t# Compute the likelihood per patient so that we don't priorize patients with more measurements\n",
        "\t\tfunc = lambda mu, data, indices: gaussian_log_likelihood(mu, data, obsrv_std = obsrv_std, indices = indices)\n",
        "\t\tres = compute_masked_likelihood(mu, data, mask, func)\n",
        "\treturn res\n",
        "\n",
        "\n",
        "\n",
        "def mse(mu, data, indices = None):\n",
        "\tn_data_points = mu.size()[-1]\n",
        "\n",
        "\tif n_data_points > 0:\n",
        "\t\tmse = nn.MSELoss()(mu, data)\n",
        "\telse:\n",
        "\t\tmse = torch.zeros([1]).to(get_device(data)).squeeze()\n",
        "\treturn mse\n",
        "\n",
        "\n",
        "def compute_mse(mu, data, mask = None):\n",
        "\t# these cases are for plotting through plot_estim_density\n",
        "\tif (len(mu.size()) == 3):\n",
        "\t\t# add additional dimension for gp samples\n",
        "\t\tmu = mu.unsqueeze(0)\n",
        "\n",
        "\tif (len(data.size()) == 2):\n",
        "\t\t# add additional dimension for gp samples and time step\n",
        "\t\tdata = data.unsqueeze(0).unsqueeze(2)\n",
        "\telif (len(data.size()) == 3):\n",
        "\t\t# add additional dimension for gp samples\n",
        "\t\tdata = data.unsqueeze(0)\n",
        "\n",
        "\tn_traj_samples, n_traj, n_timepoints, n_dims = mu.size()\n",
        "\tassert(data.size()[-1] == n_dims)\n",
        "\n",
        "\t# Shape after permutation: [n_traj, n_traj_samples, n_timepoints, n_dims]\n",
        "\tif mask is None:\n",
        "\t\tmu_flat = mu.reshape(n_traj_samples*n_traj, n_timepoints * n_dims)\n",
        "\t\tn_traj_samples, n_traj, n_timepoints, n_dims = data.size()\n",
        "\t\tdata_flat = data.reshape(n_traj_samples*n_traj, n_timepoints * n_dims)\n",
        "\t\tres = mse(mu_flat, data_flat)\n",
        "\telse:\n",
        "\t\t# Compute the likelihood per patient so that we don't priorize patients with more measurements\n",
        "\t\tres = compute_masked_likelihood(mu, data, mask, mse)\n",
        "\treturn res\n",
        "\n",
        "\n",
        "\n",
        "\n",
        "def compute_poisson_proc_likelihood(truth, pred_y, info, mask = None):\n",
        "\t# Compute Poisson likelihood\n",
        "\t# https://math.stackexchange.com/questions/344487/log-likelihood-of-a-realization-of-a-poisson-process\n",
        "\t# Sum log lambdas across all time points\n",
        "\tif mask is None:\n",
        "\t\tpoisson_log_l = torch.sum(info[\"log_lambda_y\"], 2) - info[\"int_lambda\"]\n",
        "\t\t# Sum over data dims\n",
        "\t\tpoisson_log_l = torch.mean(poisson_log_l, -1)\n",
        "\telse:\n",
        "\t\t# Compute likelihood of the data under the predictions\n",
        "\t\ttruth_repeated = truth.repeat(pred_y.size(0), 1, 1, 1)\n",
        "\t\tmask_repeated = mask.repeat(pred_y.size(0), 1, 1, 1)\n",
        "\n",
        "\t\t# Compute the likelihood per patient and per attribute so that we don't priorize patients with more measurements\n",
        "\t\tint_lambda = info[\"int_lambda\"]\n",
        "\t\tf = lambda log_lam, data, indices: poisson_log_likelihood(log_lam, data, indices, int_lambda)\n",
        "\t\tpoisson_log_l = compute_masked_likelihood(info[\"log_lambda_y\"], truth_repeated, mask_repeated, f)\n",
        "\t\tpoisson_log_l = poisson_log_l.permute(1,0)\n",
        "\t\t# Take mean over n_traj\n",
        "\t\t#poisson_log_l = torch.mean(poisson_log_l, 1)\n",
        "\t\t\n",
        "\t# poisson_log_l shape: [n_traj_samples, n_traj]\n",
        "\treturn poisson_log_l\n",
        "\n",
        "\t\n",
        "\n"
      ],
      "execution_count": 13,
      "outputs": []
    },
    {
      "cell_type": "markdown",
      "metadata": {
        "id": "O4dZh3AMhy_v"
      },
      "source": [
        "## base_models.py"
      ]
    },
    {
      "cell_type": "code",
      "metadata": {
        "id": "AX5bWiLXhy_v"
      },
      "source": [
        "###########################\n",
        "# Latent ODEs for Irregularly-Sampled Time Series\n",
        "# Author: Yulia Rubanova\n",
        "###########################\n",
        "\n",
        "\n",
        "def create_classifier(z0_dim, n_labels):\n",
        "\treturn nn.Sequential(\n",
        "\t\t\tnn.Linear(z0_dim, 300),\n",
        "\t\t\tnn.ReLU(),\n",
        "\t\t\tnn.Linear(300, 300),\n",
        "\t\t\tnn.ReLU(),\n",
        "\t\t\tnn.Linear(300, n_labels),)\n",
        "\n",
        "\n",
        "class Baseline(nn.Module):\n",
        "\tdef __init__(self, input_dim, latent_dim, device, \n",
        "\t\tobsrv_std = 0.01, use_binary_classif = False,\n",
        "\t\tclassif_per_tp = False,\n",
        "\t\tuse_poisson_proc = False,\n",
        "\t\tlinear_classifier = False,\n",
        "\t\tn_labels = 1,\n",
        "\t\ttrain_classif_w_reconstr = False):\n",
        "\t\tsuper(Baseline, self).__init__()\n",
        "\n",
        "\t\tself.input_dim = input_dim\n",
        "\t\tself.latent_dim = latent_dim\n",
        "\t\tself.n_labels = n_labels\n",
        "\n",
        "\t\tself.obsrv_std = torch.Tensor([obsrv_std]).to(device)\n",
        "\t\tself.device = device\n",
        "\n",
        "\t\tself.use_binary_classif = use_binary_classif\n",
        "\t\tself.classif_per_tp = classif_per_tp\n",
        "\t\tself.use_poisson_proc = use_poisson_proc\n",
        "\t\tself.linear_classifier = linear_classifier\n",
        "\t\tself.train_classif_w_reconstr = train_classif_w_reconstr\n",
        "\n",
        "\t\tz0_dim = latent_dim\n",
        "\t\tif use_poisson_proc:\n",
        "\t\t\tz0_dim += latent_dim\n",
        "\n",
        "\t\tif use_binary_classif: \n",
        "\t\t\tif linear_classifier:\n",
        "\t\t\t\tself.classifier = nn.Sequential(\n",
        "\t\t\t\t\tnn.Linear(z0_dim, n_labels))\n",
        "\t\t\telse:\n",
        "\t\t\t\tself.classifier = create_classifier(z0_dim, n_labels)\n",
        "\t\t\tutils.init_network_weights(self.classifier)\n",
        "\n",
        "\n",
        "\tdef get_gaussian_likelihood(self, truth, pred_y, mask = None):\n",
        "\t\t# pred_y shape [n_traj_samples, n_traj, n_tp, n_dim]\n",
        "\t\t# truth shape  [n_traj, n_tp, n_dim]\n",
        "\t\tif mask is not None:\n",
        "\t\t\tmask = mask.repeat(pred_y.size(0), 1, 1, 1)\n",
        "\n",
        "\t\t# Compute likelihood of the data under the predictions\n",
        "\t\tlog_density_data = masked_gaussian_log_density(pred_y, truth, \n",
        "\t\t\tobsrv_std = self.obsrv_std, mask = mask)\n",
        "\t\tlog_density_data = log_density_data.permute(1,0)\n",
        "\n",
        "\t\t# Compute the total density\n",
        "\t\t# Take mean over n_traj_samples\n",
        "\t\tlog_density = torch.mean(log_density_data, 0)\n",
        "\n",
        "\t\t# shape: [n_traj]\n",
        "\t\treturn log_density\n",
        "\n",
        "\n",
        "\tdef get_mse(self, truth, pred_y, mask = None):\n",
        "\t\t# pred_y shape [n_traj_samples, n_traj, n_tp, n_dim]\n",
        "\t\t# truth shape  [n_traj, n_tp, n_dim]\n",
        "\t\tif mask is not None:\n",
        "\t\t\tmask = mask.repeat(pred_y.size(0), 1, 1, 1)\n",
        "\n",
        "\t\t# Compute likelihood of the data under the predictions\n",
        "\t\tlog_density_data = compute_mse(pred_y, truth, mask = mask)\n",
        "\t\t# shape: [1]\n",
        "\t\treturn torch.mean(log_density_data)\n",
        "\n",
        "\n",
        "\tdef compute_all_losses(self, batch_dict,\n",
        "\t\tn_tp_to_sample = None, n_traj_samples = 1, kl_coef = 1.):\n",
        "\n",
        "\t\t# Condition on subsampled points\n",
        "\t\t# Make predictions for all the points\n",
        "\t\tpred_x, info = self.get_reconstruction(batch_dict[\"tp_to_predict\"], \n",
        "\t\t\tbatch_dict[\"observed_data\"], batch_dict[\"observed_tp\"], \n",
        "\t\t\tmask = batch_dict[\"observed_mask\"], n_traj_samples = n_traj_samples,\n",
        "\t\t\tmode = batch_dict[\"mode\"])\n",
        "\n",
        "\t\t# Compute likelihood of all the points\n",
        "\t\tlikelihood = self.get_gaussian_likelihood(batch_dict[\"data_to_predict\"], pred_x,\n",
        "\t\t\tmask = batch_dict[\"mask_predicted_data\"])\n",
        "\n",
        "\t\tmse = self.get_mse(batch_dict[\"data_to_predict\"], pred_x,\n",
        "\t\t\tmask = batch_dict[\"mask_predicted_data\"])\n",
        "\n",
        "\t\t################################\n",
        "\t\t# Compute CE loss for binary classification on Physionet\n",
        "\t\t# Use only last attribute -- mortatility in the hospital \n",
        "\t\tdevice = get_device(batch_dict[\"data_to_predict\"])\n",
        "\t\tce_loss = torch.Tensor([0.]).to(device)\n",
        "\t\t\n",
        "\t\tif (batch_dict[\"labels\"] is not None) and self.use_binary_classif:\n",
        "\t\t\tif (batch_dict[\"labels\"].size(-1) == 1) or (len(batch_dict[\"labels\"].size()) == 1):\n",
        "\t\t\t\tce_loss = compute_binary_CE_loss(\n",
        "\t\t\t\t\tinfo[\"label_predictions\"], \n",
        "\t\t\t\t\tbatch_dict[\"labels\"])\n",
        "\t\t\telse:\n",
        "\t\t\t\tce_loss = compute_multiclass_CE_loss(\n",
        "\t\t\t\t\tinfo[\"label_predictions\"], \n",
        "\t\t\t\t\tbatch_dict[\"labels\"],\n",
        "\t\t\t\t\tmask = batch_dict[\"mask_predicted_data\"])\n",
        "\n",
        "\t\t\tif torch.isnan(ce_loss):\n",
        "\t\t\t\tprint(\"label pred\")\n",
        "\t\t\t\tprint(info[\"label_predictions\"])\n",
        "\t\t\t\tprint(\"labels\")\n",
        "\t\t\t\tprint( batch_dict[\"labels\"])\n",
        "\t\t\t\traise Exception(\"CE loss is Nan!\")\n",
        "\n",
        "\t\tpois_log_likelihood = torch.Tensor([0.]).to(get_device(batch_dict[\"data_to_predict\"]))\n",
        "\t\tif self.use_poisson_proc:\n",
        "\t\t\tpois_log_likelihood = compute_poisson_proc_likelihood(\n",
        "\t\t\t\tbatch_dict[\"data_to_predict\"], pred_x, \n",
        "\t\t\t\tinfo, mask = batch_dict[\"mask_predicted_data\"])\n",
        "\t\t\t# Take mean over n_traj\n",
        "\t\t\tpois_log_likelihood = torch.mean(pois_log_likelihood, 1)\n",
        "\n",
        "\t\tloss = - torch.mean(likelihood)\n",
        "\n",
        "\t\tif self.use_poisson_proc:\n",
        "\t\t\tloss = loss - 0.1 * pois_log_likelihood \n",
        "\n",
        "\t\tif self.use_binary_classif:\n",
        "\t\t\tif self.train_classif_w_reconstr:\n",
        "\t\t\t\tloss = loss +  ce_loss * 100\n",
        "\t\t\telse:\n",
        "\t\t\t\tloss =  ce_loss\n",
        "\n",
        "\t\t# Take mean over the number of samples in a batch\n",
        "\t\tresults = {}\n",
        "\t\tresults[\"loss\"] = torch.mean(loss)\n",
        "\t\tresults[\"likelihood\"] = torch.mean(likelihood).detach()\n",
        "\t\tresults[\"mse\"] = torch.mean(mse).detach()\n",
        "\t\tresults[\"pois_likelihood\"] = torch.mean(pois_log_likelihood).detach()\n",
        "\t\tresults[\"ce_loss\"] = torch.mean(ce_loss).detach()\n",
        "\t\tresults[\"kl\"] = 0.\n",
        "\t\tresults[\"kl_first_p\"] =  0.\n",
        "\t\tresults[\"std_first_p\"] = 0.\n",
        "\n",
        "\t\tif batch_dict[\"labels\"] is not None and self.use_binary_classif:\n",
        "\t\t\tresults[\"label_predictions\"] = info[\"label_predictions\"].detach()\n",
        "\t\treturn results\n",
        "\n",
        "\n",
        "\n",
        "class VAE_Baseline(nn.Module):\n",
        "\tdef __init__(self, input_dim, latent_dim, \n",
        "\t\tz0_prior, device,\n",
        "\t\tobsrv_std = 0.01, \n",
        "\t\tuse_binary_classif = False,\n",
        "\t\tclassif_per_tp = False,\n",
        "\t\tuse_poisson_proc = False,\n",
        "\t\tlinear_classifier = False,\n",
        "\t\tn_labels = 1,\n",
        "\t\ttrain_classif_w_reconstr = False):\n",
        "\n",
        "\t\tsuper(VAE_Baseline, self).__init__()\n",
        "\t\t\n",
        "\t\tself.input_dim = input_dim\n",
        "\t\tself.latent_dim = latent_dim\n",
        "\t\tself.device = device\n",
        "\t\tself.n_labels = n_labels\n",
        "\n",
        "\t\tself.obsrv_std = torch.Tensor([obsrv_std]).to(device)\n",
        "\n",
        "\t\tself.z0_prior = z0_prior\n",
        "\t\tself.use_binary_classif = use_binary_classif\n",
        "\t\tself.classif_per_tp = classif_per_tp\n",
        "\t\tself.use_poisson_proc = use_poisson_proc\n",
        "\t\tself.linear_classifier = linear_classifier\n",
        "\t\tself.train_classif_w_reconstr = train_classif_w_reconstr\n",
        "\n",
        "\t\tz0_dim = latent_dim\n",
        "\t\tif use_poisson_proc:\n",
        "\t\t\tz0_dim += latent_dim\n",
        "\n",
        "\t\tif use_binary_classif: \n",
        "\t\t\tif linear_classifier:\n",
        "\t\t\t\tself.classifier = nn.Sequential(\n",
        "\t\t\t\t\tnn.Linear(z0_dim, n_labels))\n",
        "\t\t\telse:\n",
        "\t\t\t\tself.classifier = create_classifier(z0_dim, n_labels)\n",
        "\t\t\tutils.init_network_weights(self.classifier)\n",
        "\n",
        "\n",
        "\tdef get_gaussian_likelihood(self, truth, pred_y, mask = None):\n",
        "\t\t# pred_y shape [n_traj_samples, n_traj, n_tp, n_dim]\n",
        "\t\t# truth shape  [n_traj, n_tp, n_dim]\n",
        "\t\tn_traj, n_tp, n_dim = truth.size()\n",
        "\n",
        "\t\t# Compute likelihood of the data under the predictions\n",
        "\t\ttruth_repeated = truth.repeat(pred_y.size(0), 1, 1, 1)\n",
        "\t\t\n",
        "\t\tif mask is not None:\n",
        "\t\t\tmask = mask.repeat(pred_y.size(0), 1, 1, 1)\n",
        "\t\tlog_density_data = masked_gaussian_log_density(pred_y, truth_repeated, \n",
        "\t\t\tobsrv_std = self.obsrv_std, mask = mask)\n",
        "\t\tlog_density_data = log_density_data.permute(1,0)\n",
        "\t\tlog_density = torch.mean(log_density_data, 1)\n",
        "\n",
        "\t\t# shape: [n_traj_samples]\n",
        "\t\treturn log_density\n",
        "\n",
        "\n",
        "\tdef get_mse(self, truth, pred_y, mask = None):\n",
        "\t\t# pred_y shape [n_traj_samples, n_traj, n_tp, n_dim]\n",
        "\t\t# truth shape  [n_traj, n_tp, n_dim]\n",
        "\t\tn_traj, n_tp, n_dim = truth.size()\n",
        "\n",
        "\t\t# Compute likelihood of the data under the predictions\n",
        "\t\ttruth_repeated = truth.repeat(pred_y.size(0), 1, 1, 1)\n",
        "\t\t\n",
        "\t\tif mask is not None:\n",
        "\t\t\tmask = mask.repeat(pred_y.size(0), 1, 1, 1)\n",
        "\n",
        "\t\t# Compute likelihood of the data under the predictions\n",
        "\t\tlog_density_data = compute_mse(pred_y, truth_repeated, mask = mask)\n",
        "\t\t# shape: [1]\n",
        "\t\treturn torch.mean(log_density_data)\n",
        "\n",
        "\n",
        "\tdef compute_all_losses(self, batch_dict, n_traj_samples = 1, kl_coef = 1.):\n",
        "\t\t# Condition on subsampled points\n",
        "\t\t# Make predictions for all the points\n",
        "\t\tpred_y, info = self.get_reconstruction(batch_dict[\"tp_to_predict\"], \n",
        "\t\t\tbatch_dict[\"observed_data\"], batch_dict[\"observed_tp\"], \n",
        "\t\t\tmask = batch_dict[\"observed_mask\"], n_traj_samples = n_traj_samples,\n",
        "\t\t\tmode = batch_dict[\"mode\"])\n",
        "\n",
        "\t\t#print(\"get_reconstruction done -- computing likelihood\")\n",
        "\t\tfp_mu, fp_std, fp_enc = info[\"first_point\"]\n",
        "\t\tfp_std = fp_std.abs()\n",
        "\t\tfp_distr = Normal(fp_mu, fp_std)\n",
        "\n",
        "\t\tassert(torch.sum(fp_std < 0) == 0.)\n",
        "\n",
        "\t\tkldiv_z0 = kl_divergence(fp_distr, self.z0_prior)\n",
        "\n",
        "\t\tif torch.isnan(kldiv_z0).any():\n",
        "\t\t\tprint(fp_mu)\n",
        "\t\t\tprint(fp_std)\n",
        "\t\t\traise Exception(\"kldiv_z0 is Nan!\")\n",
        "\n",
        "\t\t# Mean over number of latent dimensions\n",
        "\t\t# kldiv_z0 shape: [n_traj_samples, n_traj, n_latent_dims] if prior is a mixture of gaussians (KL is estimated)\n",
        "\t\t# kldiv_z0 shape: [1, n_traj, n_latent_dims] if prior is a standard gaussian (KL is computed exactly)\n",
        "\t\t# shape after: [n_traj_samples]\n",
        "\t\tkldiv_z0 = torch.mean(kldiv_z0,(1,2))\n",
        "\n",
        "\t\t# Compute likelihood of all the points\n",
        "\t\trec_likelihood = self.get_gaussian_likelihood(\n",
        "\t\t\tbatch_dict[\"data_to_predict\"], pred_y,\n",
        "\t\t\tmask = batch_dict[\"mask_predicted_data\"])\n",
        "\n",
        "\t\tmse = self.get_mse(\n",
        "\t\t\tbatch_dict[\"data_to_predict\"], pred_y,\n",
        "\t\t\tmask = batch_dict[\"mask_predicted_data\"])\n",
        "\n",
        "\t\tpois_log_likelihood = torch.Tensor([0.]).to(get_device(batch_dict[\"data_to_predict\"]))\n",
        "\t\tif self.use_poisson_proc:\n",
        "\t\t\tpois_log_likelihood = compute_poisson_proc_likelihood(\n",
        "\t\t\t\tbatch_dict[\"data_to_predict\"], pred_y, \n",
        "\t\t\t\tinfo, mask = batch_dict[\"mask_predicted_data\"])\n",
        "\t\t\t# Take mean over n_traj\n",
        "\t\t\tpois_log_likelihood = torch.mean(pois_log_likelihood, 1)\n",
        "\n",
        "\t\t################################\n",
        "\t\t# Compute CE loss for binary classification on Physionet\n",
        "\t\tdevice = get_device(batch_dict[\"data_to_predict\"])\n",
        "\t\tce_loss = torch.Tensor([0.]).to(device)\n",
        "\t\tif (batch_dict[\"labels\"] is not None) and self.use_binary_classif:\n",
        "\n",
        "\t\t\tif (batch_dict[\"labels\"].size(-1) == 1) or (len(batch_dict[\"labels\"].size()) == 1):\n",
        "\t\t\t\tce_loss = compute_binary_CE_loss(\n",
        "\t\t\t\t\tinfo[\"label_predictions\"], \n",
        "\t\t\t\t\tbatch_dict[\"labels\"])\n",
        "\t\t\telse:\n",
        "\t\t\t\tce_loss = compute_multiclass_CE_loss(\n",
        "\t\t\t\t\tinfo[\"label_predictions\"], \n",
        "\t\t\t\t\tbatch_dict[\"labels\"],\n",
        "\t\t\t\t\tmask = batch_dict[\"mask_predicted_data\"])\n",
        "\n",
        "\t\t# IWAE loss\n",
        "\t\tloss = - torch.logsumexp(rec_likelihood -  kl_coef * kldiv_z0,0)\n",
        "\t\tif torch.isnan(loss):\n",
        "\t\t\tloss = - torch.mean(rec_likelihood - kl_coef * kldiv_z0,0)\n",
        "\t\t\t\n",
        "\t\tif self.use_poisson_proc:\n",
        "\t\t\tloss = loss - 0.1 * pois_log_likelihood \n",
        "\n",
        "\t\tif self.use_binary_classif:\n",
        "\t\t\tif self.train_classif_w_reconstr:\n",
        "\t\t\t\tloss = loss +  ce_loss * 100\n",
        "\t\t\telse:\n",
        "\t\t\t\tloss =  ce_loss\n",
        "\n",
        "\t\tresults = {}\n",
        "\t\tresults['pred_y'] = pred_y\n",
        "\t\tresults['true_y'] = batch_dict[\"data_to_predict\"]\n",
        "\t\tresults[\"loss\"] = torch.mean(loss)\n",
        "\t\tresults[\"likelihood\"] = torch.mean(rec_likelihood).detach()\n",
        "\t\tresults[\"mse\"] = torch.mean(mse).detach()\n",
        "\t\tresults[\"pois_likelihood\"] = torch.mean(pois_log_likelihood).detach()\n",
        "\t\tresults[\"ce_loss\"] = torch.mean(ce_loss).detach()\n",
        "\t\tresults[\"kl_first_p\"] =  torch.mean(kldiv_z0).detach()\n",
        "\t\tresults[\"std_first_p\"] = torch.mean(fp_std).detach()\n",
        "\n",
        "\t\tif batch_dict[\"labels\"] is not None and self.use_binary_classif:\n",
        "\t\t\tresults[\"label_predictions\"] = info[\"label_predictions\"].detach()\n",
        "\n",
        "\t\treturn results\n",
        "\n",
        "\n",
        "\n"
      ],
      "execution_count": 14,
      "outputs": []
    },
    {
      "cell_type": "markdown",
      "metadata": {
        "id": "Ppm_XPFfhy_w"
      },
      "source": [
        "## ode_run.py"
      ]
    },
    {
      "cell_type": "code",
      "metadata": {
        "id": "BBD0-pmThy_w"
      },
      "source": [
        "class ODE_RNN(Baseline):\n",
        "\tdef __init__(self, input_dim, latent_dim, device = torch.device(\"cpu\"),\n",
        "\t\tz0_diffeq_solver = None, n_gru_units = 100,  n_units = 100,\n",
        "\t\tconcat_mask = False, obsrv_std = 0.1, use_binary_classif = False,\n",
        "\t\tclassif_per_tp = False, n_labels = 1, train_classif_w_reconstr = False):\n",
        "\n",
        "\t\tBaseline.__init__(self, input_dim, latent_dim, device = device, \n",
        "\t\t\tobsrv_std = obsrv_std, use_binary_classif = use_binary_classif,\n",
        "\t\t\tclassif_per_tp = classif_per_tp,\n",
        "\t\t\tn_labels = n_labels,\n",
        "\t\t\ttrain_classif_w_reconstr = train_classif_w_reconstr)\n",
        "\n",
        "\t\tode_rnn_encoder_dim = latent_dim\n",
        "\t\n",
        "\t\tself.ode_gru = Encoder_z0_ODE_RNN( \n",
        "\t\t\tlatent_dim = ode_rnn_encoder_dim, \n",
        "\t\t\tinput_dim = (input_dim) * 2, # input and the mask\n",
        "\t\t\tz0_diffeq_solver = z0_diffeq_solver, \n",
        "\t\t\tn_gru_units = n_gru_units, \n",
        "\t\t\tdevice = device).to(device)\n",
        "\n",
        "\t\tself.z0_diffeq_solver = z0_diffeq_solver\n",
        "\n",
        "\t\tself.decoder = nn.Sequential(\n",
        "\t\t\tnn.Linear(latent_dim, n_units),\n",
        "\t\t\tnn.Tanh(),\n",
        "\t\t\tnn.Linear(n_units, input_dim),)\n",
        "\n",
        "\t\tutils.init_network_weights(self.decoder)\n",
        "\n",
        "\n",
        "\tdef get_reconstruction(self, time_steps_to_predict, data, truth_time_steps, \n",
        "\t\tmask = None, n_traj_samples = None, mode = None):\n",
        "\n",
        "\t\tif (len(truth_time_steps) != len(time_steps_to_predict)) or (torch.sum(time_steps_to_predict - truth_time_steps) != 0):\n",
        "\t\t\traise Exception(\"Extrapolation mode not implemented for ODE-RNN\")\n",
        "\n",
        "\t\t# time_steps_to_predict and truth_time_steps should be the same \n",
        "\t\tassert(len(truth_time_steps) == len(time_steps_to_predict))\n",
        "\t\tassert(mask is not None)\n",
        "\t\t\n",
        "\t\tdata_and_mask = data\n",
        "\t\tif mask is not None:\n",
        "\t\t\tdata_and_mask = torch.cat([data, mask],-1)\n",
        "\n",
        "\t\t_, _, latent_ys, _ = self.ode_gru.run_odernn(\n",
        "\t\t\tdata_and_mask, truth_time_steps, run_backwards = False)\n",
        "\t\t\n",
        "\t\tlatent_ys = latent_ys.permute(0,2,1,3)\n",
        "\t\tlast_hidden = latent_ys[:,:,-1,:]\n",
        "\n",
        "\t\t\t#assert(torch.sum(int_lambda[0,0,-1,:] <= 0) == 0.)\n",
        "\n",
        "\t\toutputs = self.decoder(latent_ys)\n",
        "\t\t# Shift outputs for computing the loss -- we should compare the first output to the second data point, etc.\n",
        "\t\tfirst_point = data[:,0,:]\n",
        "\t\toutputs = utils.shift_outputs(outputs, first_point)\n",
        "\n",
        "\t\textra_info = {\"first_point\": (latent_ys[:,:,-1,:], 0.0, latent_ys[:,:,-1,:])}\n",
        "\n",
        "\t\tif self.use_binary_classif:\n",
        "\t\t\tif self.classif_per_tp:\n",
        "\t\t\t\textra_info[\"label_predictions\"] = self.classifier(latent_ys)\n",
        "\t\t\telse:\n",
        "\t\t\t\textra_info[\"label_predictions\"] = self.classifier(last_hidden).squeeze(-1)\n",
        "\n",
        "\t\t# outputs shape: [n_traj_samples, n_traj, n_tp, n_dims]\n",
        "\t\treturn outputs, extra_info\n",
        "\n",
        "\n",
        "\n",
        "\n"
      ],
      "execution_count": 15,
      "outputs": []
    },
    {
      "cell_type": "markdown",
      "metadata": {
        "id": "PDnVAqzWhy_w"
      },
      "source": [
        "## latent_ode.py"
      ]
    },
    {
      "cell_type": "code",
      "metadata": {
        "id": "WF67TleQhy_x"
      },
      "source": [
        "class LatentODE(VAE_Baseline):\n",
        "\tdef __init__(self, input_dim, latent_dim, encoder_z0, decoder, diffeq_solver, \n",
        "\t\tz0_prior, device, obsrv_std = None, \n",
        "\t\tuse_binary_classif = False, use_poisson_proc = False,\n",
        "\t\tlinear_classifier = False,\n",
        "\t\tclassif_per_tp = False,\n",
        "\t\tn_labels = 1,\n",
        "\t\ttrain_classif_w_reconstr = False):\n",
        "\n",
        "\t\tsuper(LatentODE, self).__init__(\n",
        "\t\t\tinput_dim = input_dim, latent_dim = latent_dim, \n",
        "\t\t\tz0_prior = z0_prior, \n",
        "\t\t\tdevice = device, obsrv_std = obsrv_std, \n",
        "\t\t\tuse_binary_classif = use_binary_classif,\n",
        "\t\t\tclassif_per_tp = classif_per_tp, \n",
        "\t\t\tlinear_classifier = linear_classifier,\n",
        "\t\t\tuse_poisson_proc = use_poisson_proc,\n",
        "\t\t\tn_labels = n_labels,\n",
        "\t\t\ttrain_classif_w_reconstr = train_classif_w_reconstr)\n",
        "\n",
        "\t\tself.encoder_z0 = encoder_z0\n",
        "\t\tself.diffeq_solver = diffeq_solver\n",
        "\t\tself.decoder = decoder\n",
        "\t\tself.use_poisson_proc = use_poisson_proc\n",
        "\n",
        "\tdef get_reconstruction(self, time_steps_to_predict, truth, truth_time_steps, \n",
        "\t\tmask = None, n_traj_samples = 1, run_backwards = True, mode = None):\n",
        "\n",
        "\t\tif isinstance(self.encoder_z0, Encoder_z0_ODE_RNN) or \\\n",
        "\t\t\tisinstance(self.encoder_z0, Encoder_z0_RNN):\n",
        "\n",
        "\t\t\ttruth_w_mask = truth\n",
        "\t\t\tif mask is not None:\n",
        "\t\t\t\ttruth_w_mask = torch.cat((truth, mask), -1)\n",
        "\t\t\tfirst_point_mu, first_point_std = self.encoder_z0(\n",
        "\t\t\t\ttruth_w_mask, truth_time_steps, run_backwards = run_backwards)\n",
        "\n",
        "\t\t\tmeans_z0 = first_point_mu.repeat(n_traj_samples, 1, 1)\n",
        "\t\t\tsigma_z0 = first_point_std.repeat(n_traj_samples, 1, 1)\n",
        "\t\t\tfirst_point_enc = utils.sample_standard_gaussian(means_z0, sigma_z0)\n",
        "\n",
        "\t\telse:\n",
        "\t\t\traise Exception(\"Unknown encoder type {}\".format(type(self.encoder_z0).__name__))\n",
        "\t\t\n",
        "\t\tfirst_point_std = first_point_std.abs()\n",
        "\t\tassert(torch.sum(first_point_std < 0) == 0.)\n",
        "\n",
        "\t\tif self.use_poisson_proc:\n",
        "\t\t\tn_traj_samples, n_traj, n_dims = first_point_enc.size()\n",
        "\t\t\t# append a vector of zeros to compute the integral of lambda\n",
        "\t\t\tzeros = torch.zeros([n_traj_samples, n_traj,self.input_dim]).to(get_device(truth))\n",
        "\t\t\tfirst_point_enc_aug = torch.cat((first_point_enc, zeros), -1)\n",
        "\t\t\tmeans_z0_aug = torch.cat((means_z0, zeros), -1)\n",
        "\t\telse:\n",
        "\t\t\tfirst_point_enc_aug = first_point_enc\n",
        "\t\t\tmeans_z0_aug = means_z0\n",
        "\t\t\t\n",
        "\t\tassert(not torch.isnan(time_steps_to_predict).any())\n",
        "\t\tassert(not torch.isnan(first_point_enc).any())\n",
        "\t\tassert(not torch.isnan(first_point_enc_aug).any())\n",
        "\n",
        "\t\t# Shape of sol_y [n_traj_samples, n_samples, n_timepoints, n_latents]\n",
        "\t\tsol_y = self.diffeq_solver(first_point_enc_aug, time_steps_to_predict)\n",
        "\n",
        "\t\tif self.use_poisson_proc:\n",
        "\t\t\tsol_y, log_lambda_y, int_lambda, _ = self.diffeq_solver.ode_func.extract_poisson_rate(sol_y)\n",
        "\n",
        "\t\t\tassert(torch.sum(int_lambda[:,:,0,:]) == 0.)\n",
        "\t\t\tassert(torch.sum(int_lambda[0,0,-1,:] <= 0) == 0.)\n",
        "\n",
        "\t\tpred_x = self.decoder(sol_y)\n",
        "\n",
        "\t\tall_extra_info = {\n",
        "\t\t\t\"first_point\": (first_point_mu, first_point_std, first_point_enc),\n",
        "\t\t\t\"latent_traj\": sol_y.detach()\n",
        "\t\t}\n",
        "\n",
        "\t\tif self.use_poisson_proc:\n",
        "\t\t\t# intergral of lambda from the last step of ODE Solver\n",
        "\t\t\tall_extra_info[\"int_lambda\"] = int_lambda[:,:,-1,:]\n",
        "\t\t\tall_extra_info[\"log_lambda_y\"] = log_lambda_y\n",
        "\n",
        "\t\tif self.use_binary_classif:\n",
        "\t\t\tif self.classif_per_tp:\n",
        "\t\t\t\tall_extra_info[\"label_predictions\"] = self.classifier(sol_y)\n",
        "\t\t\telse:\n",
        "\t\t\t\tall_extra_info[\"label_predictions\"] = self.classifier(first_point_enc).squeeze(-1)\n",
        "\n",
        "\t\treturn pred_x, all_extra_info\n",
        "\n",
        "\n",
        "\tdef sample_traj_from_prior(self, time_steps_to_predict, n_traj_samples = 1):\n",
        "\t\t# input_dim = starting_point.size()[-1]\n",
        "\t\t# starting_point = starting_point.view(1,1,input_dim)\n",
        "\n",
        "\t\t# Sample z0 from prior\n",
        "\t\tstarting_point_enc = self.z0_prior.sample([n_traj_samples, 1, self.latent_dim]).squeeze(-1)\n",
        "\n",
        "\t\tstarting_point_enc_aug = starting_point_enc\n",
        "\t\tif self.use_poisson_proc:\n",
        "\t\t\tn_traj_samples, n_traj, n_dims = starting_point_enc.size()\n",
        "\t\t\t# append a vector of zeros to compute the integral of lambda\n",
        "\t\t\tzeros = torch.zeros(n_traj_samples, n_traj,self.input_dim).to(self.device)\n",
        "\t\t\tstarting_point_enc_aug = torch.cat((starting_point_enc, zeros), -1)\n",
        "\n",
        "\t\tsol_y = self.diffeq_solver.sample_traj_from_prior(starting_point_enc_aug, time_steps_to_predict, \n",
        "\t\t\tn_traj_samples = 3)\n",
        "\n",
        "\t\tif self.use_poisson_proc:\n",
        "\t\t\tsol_y, log_lambda_y, int_lambda, _ = self.diffeq_solver.ode_func.extract_poisson_rate(sol_y)\n",
        "\t\t\n",
        "\t\treturn self.decoder(sol_y)\n",
        "\n",
        "\n"
      ],
      "execution_count": 16,
      "outputs": []
    },
    {
      "cell_type": "markdown",
      "metadata": {
        "id": "w7EhkS2Uhy_x"
      },
      "source": [
        "## ode_func.py"
      ]
    },
    {
      "cell_type": "code",
      "metadata": {
        "id": "ard2Qg5chy_x"
      },
      "source": [
        "class ODEFunc(nn.Module):\n",
        "\tdef __init__(self, input_dim, latent_dim, ode_func_net, device = torch.device(\"cpu\")):\n",
        "\t\t\"\"\"\n",
        "\t\tinput_dim: dimensionality of the input\n",
        "\t\tlatent_dim: dimensionality used for ODE. Analog of a continous latent state\n",
        "\t\t\"\"\"\n",
        "\t\t# print(f\"Inside ODEFunc class\")\n",
        "\t\tsuper(ODEFunc, self).__init__()\n",
        "\n",
        "\t\tself.input_dim = input_dim\n",
        "\t\t# print(f\"input_dim is {input_dim}\")\n",
        "\t\t# print(f\"latent_dim is {latent_dim}\")\n",
        "\t\tself.device = device\n",
        "\n",
        "\t\tutils.init_network_weights(ode_func_net)\n",
        "\t\tself.gradient_net = ode_func_net\n",
        "\n",
        "\tdef forward(self, t_local, y, backwards = False):\n",
        "\t\t\"\"\"\n",
        "\t\tPerform one step in solving ODE. Given current data point y and current time point t_local, returns gradient dy/dt at this time point\n",
        "\n",
        "\t\tt_local: current time point\n",
        "\t\ty: value at the current time point\n",
        "\t\t\"\"\"\n",
        "\t\tgrad = self.get_ode_gradient_nn(t_local, y)\n",
        "\t\tif backwards:\n",
        "\t\t\tgrad = -grad\n",
        "\t\treturn grad\n",
        "\n",
        "\tdef get_ode_gradient_nn(self, t_local, y):\n",
        "\t\treturn self.gradient_net(y)\n",
        "\n",
        "\tdef sample_next_point_from_prior(self, t_local, y):\n",
        "\t\t\"\"\"\n",
        "\t\tt_local: current time point\n",
        "\t\ty: value at the current time point\n",
        "\t\t\"\"\"\n",
        "\t\treturn self.get_ode_gradient_nn(t_local, y)\n",
        "\n",
        "#####################################################################################################\n",
        "\n",
        "class ODEFunc_w_Poisson(ODEFunc):\n",
        "\t\n",
        "\tdef __init__(self, input_dim, latent_dim, ode_func_net,\n",
        "\t\tlambda_net, device = torch.device(\"cpu\")):\n",
        "\t\t\"\"\"\n",
        "\t\tinput_dim: dimensionality of the input\n",
        "\t\tlatent_dim: dimensionality used for ODE. Analog of a continous latent state\n",
        "\t\t\"\"\"\n",
        "\t\tsuper(ODEFunc_w_Poisson, self).__init__(input_dim, latent_dim, ode_func_net, device)\n",
        "\n",
        "\t\tself.latent_ode = ODEFunc(input_dim = input_dim, \n",
        "\t\t\tlatent_dim = latent_dim, \n",
        "\t\t\tode_func_net = ode_func_net,\n",
        "\t\t\tdevice = device)\n",
        "\n",
        "\t\tself.latent_dim = latent_dim\n",
        "\t\tself.lambda_net = lambda_net\n",
        "\t\t# The computation of poisson likelihood can become numerically unstable. \n",
        "\t\t#The integral lambda(t) dt can take large values. In fact, it is equal to the expected number of events on the interval [0,T]\n",
        "\t\t#Exponent of lambda can also take large values\n",
        "\t\t# So we divide lambda by the constant and then multiply the integral of lambda by the constant\n",
        "\t\tself.const_for_lambda = torch.Tensor([100.]).to(device)\n",
        "\n",
        "\tdef extract_poisson_rate(self, augmented, final_result = True):\n",
        "\t\ty, log_lambdas, int_lambda = None, None, None\n",
        "\n",
        "\t\tassert(augmented.size(-1) == self.latent_dim + self.input_dim)\t\t\n",
        "\t\tlatent_lam_dim = self.latent_dim // 2\n",
        "\n",
        "\t\tif len(augmented.size()) == 3:\n",
        "\t\t\tint_lambda  = augmented[:,:,-self.input_dim:] \n",
        "\t\t\ty_latent_lam = augmented[:,:,:-self.input_dim]\n",
        "\n",
        "\t\t\tlog_lambdas  = self.lambda_net(y_latent_lam[:,:,-latent_lam_dim:])\n",
        "\t\t\ty = y_latent_lam[:,:,:-latent_lam_dim]\n",
        "\n",
        "\t\telif len(augmented.size()) == 4:\n",
        "\t\t\tint_lambda  = augmented[:,:,:,-self.input_dim:]\n",
        "\t\t\ty_latent_lam = augmented[:,:,:,:-self.input_dim]\n",
        "\n",
        "\t\t\tlog_lambdas  = self.lambda_net(y_latent_lam[:,:,:,-latent_lam_dim:])\n",
        "\t\t\ty = y_latent_lam[:,:,:,:-latent_lam_dim]\n",
        "\n",
        "\t\t# Multiply the intergral over lambda by a constant \n",
        "\t\t# only when we have finished the integral computation (i.e. this is not a call in get_ode_gradient_nn)\n",
        "\t\tif final_result:\n",
        "\t\t\tint_lambda = int_lambda * self.const_for_lambda\n",
        "\t\t\t\n",
        "\t\t# Latents for performing reconstruction (y) have the same size as latent poisson rate (log_lambdas)\n",
        "\t\tassert(y.size(-1) == latent_lam_dim)\n",
        "\n",
        "\t\treturn y, log_lambdas, int_lambda, y_latent_lam\n",
        "\n",
        "\n",
        "\tdef get_ode_gradient_nn(self, t_local, augmented):\n",
        "\t\ty, log_lam, int_lambda, y_latent_lam = self.extract_poisson_rate(augmented, final_result = False)\n",
        "\t\tdydt_dldt = self.latent_ode(t_local, y_latent_lam)\n",
        "\n",
        "\t\tlog_lam = log_lam - torch.log(self.const_for_lambda)\n",
        "\t\treturn torch.cat((dydt_dldt, torch.exp(log_lam)),-1)\n",
        "\n",
        "\n",
        "\n",
        "\n"
      ],
      "execution_count": 17,
      "outputs": []
    },
    {
      "cell_type": "markdown",
      "metadata": {
        "id": "98sA9jVlhy_y"
      },
      "source": [
        "## create_latent_ode_model.py"
      ]
    },
    {
      "cell_type": "code",
      "metadata": {
        "id": "kv36UrKvhy_y"
      },
      "source": [
        "def create_LatentODE_model(args, input_dim, z0_prior, obsrv_std, device, \n",
        "\tclassif_per_tp = False, n_labels = 1):\n",
        "\n",
        "\tdim = args.latents\n",
        "\tif args.poisson:\n",
        "\t\tlambda_net = utils.create_net(dim, input_dim, \n",
        "\t\t\tn_layers = 1, n_units = args.units, nonlinear = nn.Tanh)\n",
        "\n",
        "\t\t# ODE function produces the gradient for latent state and for poisson rate\n",
        "\t\tode_func_net = utils.create_net(dim * 2, args.latents * 2, \n",
        "\t\t\tn_layers = args.gen_layers, n_units = args.units, nonlinear = nn.Tanh)\n",
        "\n",
        "\t\tgen_ode_func = ODEFunc_w_Poisson(\n",
        "\t\t\tinput_dim = input_dim, \n",
        "\t\t\tlatent_dim = args.latents * 2,\n",
        "\t\t\tode_func_net = ode_func_net,\n",
        "\t\t\tlambda_net = lambda_net,\n",
        "\t\t\tdevice = device).to(device)\n",
        "\telse:\n",
        "\t\tdim = args.latents \n",
        "\t\tode_func_net = utils.create_net(dim, args.latents, \n",
        "\t\t\tn_layers = args.gen_layers, n_units = args.units, nonlinear = nn.Tanh)\n",
        "\n",
        "\t\tgen_ode_func = ODEFunc(\n",
        "\t\t\tinput_dim = input_dim, \n",
        "\t\t\tlatent_dim = args.latents, \n",
        "\t\t\tode_func_net = ode_func_net,\n",
        "\t\t\tdevice = device).to(device)\n",
        "\n",
        "\tz0_diffeq_solver = None\n",
        "\tn_rec_dims = args.rec_dims\n",
        "\tenc_input_dim = int(input_dim) * 2 # we concatenate the mask\n",
        "\tgen_data_dim = input_dim\n",
        "\n",
        "\tz0_dim = args.latents\n",
        "\tif args.poisson:\n",
        "\t\tz0_dim += args.latents # predict the initial poisson rate\n",
        "\n",
        "\tif args.z0_encoder == \"odernn\":\n",
        "\t\tode_func_net = utils.create_net(n_rec_dims, n_rec_dims, \n",
        "\t\t\tn_layers = args.rec_layers, n_units = args.units, nonlinear = nn.Tanh)\n",
        "\n",
        "\t\trec_ode_func = ODEFunc(\n",
        "\t\t\tinput_dim = enc_input_dim, \n",
        "\t\t\tlatent_dim = n_rec_dims,\n",
        "\t\t\tode_func_net = ode_func_net,\n",
        "\t\t\tdevice = device).to(device)\n",
        "\n",
        "\t\tz0_diffeq_solver = DiffeqSolver(enc_input_dim, rec_ode_func, \"euler\", args.latents, \n",
        "\t\t\todeint_rtol = 1e-3, odeint_atol = 1e-4, device = device)\n",
        "\t\t\n",
        "\t\tencoder_z0 = Encoder_z0_ODE_RNN(n_rec_dims, enc_input_dim, z0_diffeq_solver, \n",
        "\t\t\tz0_dim = z0_dim, n_gru_units = args.gru_units, device = device).to(device)\n",
        "\n",
        "\telif args.z0_encoder == \"rnn\":\n",
        "\t\tencoder_z0 = Encoder_z0_RNN(z0_dim, enc_input_dim,\n",
        "\t\t\tlstm_output_size = n_rec_dims, device = device).to(device)\n",
        "\telse:\n",
        "\t\traise Exception(\"Unknown encoder for Latent ODE model: \" + args.z0_encoder)\n",
        "\n",
        "\tdecoder = Decoder(args.latents, gen_data_dim).to(device)\n",
        "\n",
        "\tdiffeq_solver = DiffeqSolver(gen_data_dim, gen_ode_func, 'dopri5', args.latents, \n",
        "\t\todeint_rtol = 1e-3, odeint_atol = 1e-4, device = device)\n",
        "\n",
        "\tmodel = LatentODE(\n",
        "\t\tinput_dim = gen_data_dim, \n",
        "\t\tlatent_dim = args.latents, \n",
        "\t\tencoder_z0 = encoder_z0, \n",
        "\t\tdecoder = decoder, \n",
        "\t\tdiffeq_solver = diffeq_solver, \n",
        "\t\tz0_prior = z0_prior, \n",
        "\t\tdevice = device,\n",
        "\t\tobsrv_std = obsrv_std,\n",
        "\t\tuse_poisson_proc = args.poisson, \n",
        "\t\tuse_binary_classif = args.classif,\n",
        "\t\tlinear_classifier = args.linear_classif,\n",
        "\t\tclassif_per_tp = classif_per_tp,\n",
        "\t\tn_labels = n_labels,\n",
        "\t\ttrain_classif_w_reconstr = (args.dataset == \"physionet\")\n",
        "\t\t).to(device)\n",
        "\n",
        "\treturn model\n"
      ],
      "execution_count": 18,
      "outputs": []
    },
    {
      "cell_type": "code",
      "metadata": {
        "id": "KzYUKIc9hy_z"
      },
      "source": [
        "if args.latent_ode:\n",
        "    model = create_LatentODE_model(args, input_dim, z0_prior, obsrv_std, device, \n",
        "        classif_per_tp = classif_per_tp,\n",
        "        n_labels = n_labels)\n",
        "else:\n",
        "\traise Exception(\"Model not specified\")"
      ],
      "execution_count": 19,
      "outputs": []
    },
    {
      "cell_type": "markdown",
      "metadata": {
        "id": "afWXMKznhy_z"
      },
      "source": [
        "# Training"
      ]
    },
    {
      "cell_type": "code",
      "metadata": {
        "id": "NYyCKxi5NxMf"
      },
      "source": [
        "train_lr_list = []\n",
        "kl_coef_list = []\n",
        "train_pred_y_list = []\n",
        "train_true_y_list = []\n",
        "train_loss_list = [] # ELBO\n",
        "train_likelihood_list = [] # Rec Likelihood\n",
        "train_mse_list = []\n",
        "train_kl_first_p_list = [] # KL Divergence between z0\n",
        "train_std_first_p_list = []\n",
        "\n",
        "\n",
        "test_pred_y_list = []\n",
        "test_true_y_list = []\n",
        "test_loss_list = [] # ELBO\n",
        "test_likelihood_list = [] # Rec Likelihood\n",
        "test_mse_list = []\n",
        "test_kl_first_p_list = [] # KL Divergence between z0\n",
        "test_std_first_p_list = []"
      ],
      "execution_count": 20,
      "outputs": []
    },
    {
      "cell_type": "code",
      "metadata": {
        "colab": {
          "base_uri": "https://localhost:8080/"
        },
        "id": "y99JVbgThy_z",
        "outputId": "4930a548-95c6-454d-e17b-4c65a4c0d761"
      },
      "source": [
        "#Load checkpoint and evaluate the model\n",
        "if args.load is not None:\n",
        "\tutils.get_ckpt_model(ckpt_path, model, device)\n",
        "\texit()\n",
        "else:\n",
        "\tfile_name = os.path.abspath('')\n",
        "\tlog_path = \"logs/\" + file_name + \"_\" + str(experimentID) + \".log\"\n",
        "\tif not os.path.exists(\"logs/\"):\n",
        "\t\tutils.makedirs(\"logs/\")\n",
        "\tlogger = utils.get_logger(logpath=log_path, filepath=os.path.abspath(''))\n",
        "\tlogger.info(input_command)\n",
        "\n",
        "\toptimizer = optim.Adamax(model.parameters(), lr=args.lr)\n",
        "\t# print(f\"optimizer is {optimizer}\")\n",
        "\tnum_batches = data_obj[\"n_train_batches\"]\n",
        "\tprint(f\"num_batches is {num_batches}\")\n",
        "\n",
        "\tfor itr in range(1, num_batches * (args.niters + 1)):\n",
        "\t\toptimizer.zero_grad()\n",
        "\t\tutils.update_learning_rate(optimizer, decay_rate = 0.999, lowest = args.lr / 10)\n",
        "\n",
        "\t\twait_until_kl_inc = 10\n",
        "\t\tif itr // num_batches < wait_until_kl_inc:\n",
        "\t\t\tkl_coef = 0.\n",
        "\t\telse:\n",
        "\t\t\tkl_coef = (1-0.99** (itr // num_batches - wait_until_kl_inc))\n",
        "\t\tkl_coef_list.append(kl_coef)\n",
        "\t\tbatch_dict = utils.get_next_batch(data_obj[\"train_dataloader\"])\n",
        "\t\ttrain_res = model.compute_all_losses(batch_dict, n_traj_samples = 1, kl_coef = kl_coef)\n",
        "\t\t\n",
        "\t\ttrain_loss_list.append(train_res['loss'].cpu().item())\n",
        "\t\ttrain_likelihood_list.append(train_res['likelihood'].cpu().item())\n",
        "\t\ttrain_mse_list.append(train_res['mse'].cpu().item())\n",
        "\t\ttrain_kl_first_p_list.append(train_res['kl_first_p'].cpu().item())\n",
        "\t\ttrain_std_first_p_list.append(train_res['std_first_p'].cpu().item())\n",
        "\t\ttrain_res[\"loss\"].backward()\n",
        "\t\toptimizer.step()\n",
        "\n",
        "\t\tn_iters_to_viz = 1\n",
        "\t\tif itr % (n_iters_to_viz * num_batches) == 0:\n",
        "\t\t\twith torch.no_grad():\n",
        "\n",
        "\t\t\t\ttest_res = compute_loss_all_batches(model, \n",
        "\t\t\t\t\tdata_obj[\"test_dataloader\"], args,\n",
        "\t\t\t\t\tn_batches = data_obj[\"n_test_batches\"],\n",
        "\t\t\t\t\texperimentID = experimentID,\n",
        "\t\t\t\t\tdevice = device,\n",
        "\t\t\t\t\tn_traj_samples = 1, kl_coef = kl_coef)\n",
        "\t\t\t\t\n",
        "\t\t\t\ttest_loss_list.append(test_res['loss'].cpu().item())\n",
        "\t\t\t\ttest_likelihood_list.append(test_res['likelihood'].cpu().item())\n",
        "\t\t\t\ttest_mse_list.append(test_res['mse'].cpu().item())\n",
        "\t\t\t\ttest_kl_first_p_list.append(test_res['kl_first_p'].cpu().item())\n",
        "\t\t\t\ttest_std_first_p_list.append(test_res['std_first_p'].cpu().item())\n",
        "\n",
        "\t\t\t\tmessage = 'Epoch {:04d} [Test seq (cond on sampled tp)] | Loss {:.6f} | Likelihood {:.6f} | KL fp {:.4f} | FP STD {:.4f}|'.format(\n",
        "\t\t\t\t\titr//num_batches, \n",
        "\t\t\t\t\ttest_res[\"loss\"].detach(), test_res[\"likelihood\"].detach(), \n",
        "\t\t\t\t\ttest_res[\"kl_first_p\"], test_res[\"std_first_p\"])\n",
        "\t\t\t\n",
        "\t\t\t\tlogger.info(\"Experiment \" + str(experimentID))\n",
        "\t\t\t\tlogger.info(message)\n",
        "\t\t\t\tlogger.info(\"KL coef: {}\".format(kl_coef))\n",
        "\t\t\t\tlogger.info(\"Train loss (one batch): {}\".format(train_res[\"loss\"].detach()))\n",
        "\t\t\t\tlogger.info(\"Train CE loss (one batch): {}\".format(train_res[\"ce_loss\"].detach()))\n",
        "\t\t\t\t\n",
        "\t\t\t\tif \"auc\" in test_res:\n",
        "\t\t\t\t\tlogger.info(\"Classification AUC (TEST): {:.4f}\".format(test_res[\"auc\"]))\n",
        "\n",
        "\t\t\t\tif \"mse\" in test_res:\n",
        "\t\t\t\t\tlogger.info(\"Test MSE: {}\".format(test_res[\"mse\"]))\n",
        "\n",
        "\t\t\t\tif \"accuracy\" in train_res:\n",
        "\t\t\t\t\tlogger.info(\"Classification accuracy (TRAIN): {:.4f}\".format(train_res[\"accuracy\"]))\n",
        "\n",
        "\t\t\t\tif \"accuracy\" in test_res:\n",
        "\t\t\t\t\tlogger.info(\"Classification accuracy (TEST): {:.4f}\".format(test_res[\"accuracy\"]))\n",
        "\n",
        "\t\t\t\tif \"pois_likelihood\" in test_res:\n",
        "\t\t\t\t\tlogger.info(\"Poisson likelihood: {}\".format(test_res[\"pois_likelihood\"]))\n",
        "\n",
        "\t\t\t\tif \"ce_loss\" in test_res:\n",
        "\t\t\t\t\tlogger.info(\"CE loss: {}\".format(test_res[\"ce_loss\"]))\n",
        "\n",
        "\t\t\ttorch.save({\n",
        "\t\t\t\t'args': args,\n",
        "\t\t\t\t'state_dict': model.state_dict(),\n",
        "\t\t\t}, ckpt_path)\n",
        "\n",
        "\n",
        "\t\t\t# Plotting\n",
        "\t\t\tif args.viz:\n",
        "\t\t\t\twith torch.no_grad():\n",
        "\t\t\t\t\ttest_dict = utils.get_next_batch(data_obj[\"test_dataloader\"])\n",
        "\n",
        "\t\t\t\t\tprint(\"plotting....\")\n",
        "\t\t\t\t\tif isinstance(model, LatentODE) and (args.dataset == \"periodic\"): #and not args.classic_rnn and not args.ode_rnn:\n",
        "\t\t\t\t\t\tplot_id = itr // num_batches // n_iters_to_viz\n",
        "\t\t\t\t\t\tviz.draw_all_plots_one_dim(test_dict, model, \n",
        "\t\t\t\t\t\t\tplot_name = file_name + \"_\" + str(experimentID) + \"_{:03d}\".format(plot_id) + \".png\",\n",
        "\t\t\t\t\t\t\texperimentID = experimentID, save=True)\n",
        "\t\t\t\t\t\tplt.pause(0.01)\n",
        "\t# train_pred_y_list.append(train_res['pred_y'].cpu().numpy())\n",
        "\t# train_true_y_list.append(train_res['true_y'].cpu().numpy())\n",
        "\t# test_pred_y_list.append(test_res['pred_y'].cpu().numpy())\n",
        "\t# test_true_y_list.append(test_res['true_y'].cpu().numpy())\n",
        "\ttorch.save({\n",
        "\t\t'args': args,\n",
        "\t\t'state_dict': model.state_dict(),\n",
        "\t}, ckpt_path)\n",
        "\n"
      ],
      "execution_count": 21,
      "outputs": [
        {
          "output_type": "stream",
          "name": "stderr",
          "text": [
            "/content\n",
            "-f\n",
            "/content/torchdiffeq/torchdiffeq/_impl/misc.py:296: UserWarning: t is not on the same device as y0. Coercing to y0.device.\n",
            "  warnings.warn(\"t is not on the same device as y0. Coercing to y0.device.\")\n"
          ]
        },
        {
          "output_type": "stream",
          "name": "stdout",
          "text": [
            "num_batches is 40\n"
          ]
        },
        {
          "output_type": "stream",
          "name": "stderr",
          "text": [
            "Experiment 43321\n",
            "Epoch 0001 [Test seq (cond on sampled tp)] | Loss 8.151137 | Likelihood -8.151137 | KL fp 4.1530 | FP STD 0.0109|\n",
            "KL coef: 0.0\n",
            "Train loss (one batch): 3.9030210971832275\n",
            "Train CE loss (one batch): 0.0\n",
            "Test MSE: 2.8279913749429397e-05\n",
            "Poisson likelihood: 0.0\n",
            "CE loss: 0.0\n"
          ]
        },
        {
          "output_type": "stream",
          "name": "stdout",
          "text": [
            "Computing loss... 0\n"
          ]
        },
        {
          "output_type": "stream",
          "name": "stderr",
          "text": [
            "Experiment 43321\n",
            "Epoch 0002 [Test seq (cond on sampled tp)] | Loss 6.594172 | Likelihood -6.594172 | KL fp 5.2568 | FP STD 0.0055|\n",
            "KL coef: 0.0\n",
            "Train loss (one batch): 0.8104729056358337\n",
            "Train CE loss (one batch): 0.0\n",
            "Test MSE: 2.5165980332531035e-05\n",
            "Poisson likelihood: 0.0\n",
            "CE loss: 0.0\n"
          ]
        },
        {
          "output_type": "stream",
          "name": "stdout",
          "text": [
            "Computing loss... 0\n"
          ]
        },
        {
          "output_type": "stream",
          "name": "stderr",
          "text": [
            "Experiment 43321\n",
            "Epoch 0003 [Test seq (cond on sampled tp)] | Loss 7.319493 | Likelihood -7.319493 | KL fp 5.3683 | FP STD 0.0039|\n",
            "KL coef: 0.0\n",
            "Train loss (one batch): 12.963706016540527\n",
            "Train CE loss (one batch): 0.0\n",
            "Test MSE: 2.6616624381858855e-05\n",
            "Poisson likelihood: 0.0\n",
            "CE loss: 0.0\n"
          ]
        },
        {
          "output_type": "stream",
          "name": "stdout",
          "text": [
            "Computing loss... 0\n"
          ]
        },
        {
          "output_type": "stream",
          "name": "stderr",
          "text": [
            "Experiment 43321\n",
            "Epoch 0004 [Test seq (cond on sampled tp)] | Loss 0.603713 | Likelihood -0.603713 | KL fp 5.2410 | FP STD 0.0042|\n",
            "KL coef: 0.0\n",
            "Train loss (one batch): 0.055892422795295715\n",
            "Train CE loss (one batch): 0.0\n",
            "Test MSE: 1.318506201641867e-05\n",
            "Poisson likelihood: 0.0\n",
            "CE loss: 0.0\n"
          ]
        },
        {
          "output_type": "stream",
          "name": "stdout",
          "text": [
            "Computing loss... 0\n"
          ]
        },
        {
          "output_type": "stream",
          "name": "stderr",
          "text": [
            "Experiment 43321\n",
            "Epoch 0005 [Test seq (cond on sampled tp)] | Loss 6.957807 | Likelihood -6.957807 | KL fp 5.0641 | FP STD 0.0041|\n",
            "KL coef: 0.0\n",
            "Train loss (one batch): 3.6469597816467285\n",
            "Train CE loss (one batch): 0.0\n",
            "Test MSE: 2.589324867585674e-05\n",
            "Poisson likelihood: 0.0\n",
            "CE loss: 0.0\n"
          ]
        },
        {
          "output_type": "stream",
          "name": "stdout",
          "text": [
            "Computing loss... 0\n"
          ]
        },
        {
          "output_type": "stream",
          "name": "stderr",
          "text": [
            "Experiment 43321\n",
            "Epoch 0006 [Test seq (cond on sampled tp)] | Loss 4.285606 | Likelihood -4.285606 | KL fp 5.6088 | FP STD 0.0043|\n",
            "KL coef: 0.0\n",
            "Train loss (one batch): 2.381470203399658\n",
            "Train CE loss (one batch): 0.0\n",
            "Test MSE: 2.0548848624457605e-05\n",
            "Poisson likelihood: 0.0\n",
            "CE loss: 0.0\n"
          ]
        },
        {
          "output_type": "stream",
          "name": "stdout",
          "text": [
            "Computing loss... 0\n"
          ]
        },
        {
          "output_type": "stream",
          "name": "stderr",
          "text": [
            "Experiment 43321\n",
            "Epoch 0007 [Test seq (cond on sampled tp)] | Loss -3.314881 | Likelihood 3.314881 | KL fp 6.2625 | FP STD 0.0016|\n",
            "KL coef: 0.0\n",
            "Train loss (one batch): -4.479276180267334\n",
            "Train CE loss (one batch): 0.0\n",
            "Test MSE: 5.3478711379284505e-06\n",
            "Poisson likelihood: 0.0\n",
            "CE loss: 0.0\n"
          ]
        },
        {
          "output_type": "stream",
          "name": "stdout",
          "text": [
            "Computing loss... 0\n"
          ]
        },
        {
          "output_type": "stream",
          "name": "stderr",
          "text": [
            "Experiment 43321\n",
            "Epoch 0008 [Test seq (cond on sampled tp)] | Loss -4.542387 | Likelihood 4.542387 | KL fp 6.9465 | FP STD 0.0009|\n",
            "KL coef: 0.0\n",
            "Train loss (one batch): -5.094338417053223\n",
            "Train CE loss (one batch): 0.0\n",
            "Test MSE: 2.892860038627987e-06\n",
            "Poisson likelihood: 0.0\n",
            "CE loss: 0.0\n"
          ]
        },
        {
          "output_type": "stream",
          "name": "stdout",
          "text": [
            "Computing loss... 0\n"
          ]
        },
        {
          "output_type": "stream",
          "name": "stderr",
          "text": [
            "Experiment 43321\n",
            "Epoch 0009 [Test seq (cond on sampled tp)] | Loss 0.474153 | Likelihood -0.474153 | KL fp 5.9472 | FP STD 0.0022|\n",
            "KL coef: 0.0\n",
            "Train loss (one batch): -0.4389541745185852\n",
            "Train CE loss (one batch): 0.0\n",
            "Test MSE: 1.292594060942065e-05\n",
            "Poisson likelihood: 0.0\n",
            "CE loss: 0.0\n"
          ]
        },
        {
          "output_type": "stream",
          "name": "stdout",
          "text": [
            "Computing loss... 0\n"
          ]
        },
        {
          "output_type": "stream",
          "name": "stderr",
          "text": [
            "Experiment 43321\n",
            "Epoch 0010 [Test seq (cond on sampled tp)] | Loss -1.868166 | Likelihood 1.868166 | KL fp 5.0082 | FP STD 0.0057|\n",
            "KL coef: 0.0\n",
            "Train loss (one batch): -2.0680899620056152\n",
            "Train CE loss (one batch): 0.0\n",
            "Test MSE: 8.241302566602826e-06\n",
            "Poisson likelihood: 0.0\n",
            "CE loss: 0.0\n"
          ]
        },
        {
          "output_type": "stream",
          "name": "stdout",
          "text": [
            "Computing loss... 0\n"
          ]
        },
        {
          "output_type": "stream",
          "name": "stderr",
          "text": [
            "Experiment 43321\n",
            "Epoch 0011 [Test seq (cond on sampled tp)] | Loss -1.139284 | Likelihood 1.193132 | KL fp 5.3848 | FP STD 0.0034|\n",
            "KL coef: 0.010000000000000009\n",
            "Train loss (one batch): 3.3730287551879883\n",
            "Train CE loss (one batch): 0.0\n",
            "Test MSE: 9.591370144335087e-06\n",
            "Poisson likelihood: 0.0\n",
            "CE loss: 0.0\n"
          ]
        },
        {
          "output_type": "stream",
          "name": "stdout",
          "text": [
            "Computing loss... 0\n"
          ]
        },
        {
          "output_type": "stream",
          "name": "stderr",
          "text": [
            "Experiment 43321\n",
            "Epoch 0012 [Test seq (cond on sampled tp)] | Loss -2.235185 | Likelihood 2.360305 | KL fp 6.2875 | FP STD 0.0017|\n",
            "KL coef: 0.01990000000000003\n",
            "Train loss (one batch): -2.9697678089141846\n",
            "Train CE loss (one batch): 0.0\n",
            "Test MSE: 7.257023298734566e-06\n",
            "Poisson likelihood: 0.0\n",
            "CE loss: 0.0\n"
          ]
        },
        {
          "output_type": "stream",
          "name": "stdout",
          "text": [
            "Computing loss... 0\n"
          ]
        },
        {
          "output_type": "stream",
          "name": "stderr",
          "text": [
            "Experiment 43321\n",
            "Epoch 0013 [Test seq (cond on sampled tp)] | Loss -4.368408 | Likelihood 4.543206 | KL fp 5.8853 | FP STD 0.0025|\n",
            "KL coef: 0.029700999999999977\n",
            "Train loss (one batch): -2.3801465034484863\n",
            "Train CE loss (one batch): 0.0\n",
            "Test MSE: 2.891221583922743e-06\n",
            "Poisson likelihood: 0.0\n",
            "CE loss: 0.0\n"
          ]
        },
        {
          "output_type": "stream",
          "name": "stdout",
          "text": [
            "Computing loss... 0\n"
          ]
        },
        {
          "output_type": "stream",
          "name": "stderr",
          "text": [
            "Experiment 43321\n",
            "Epoch 0014 [Test seq (cond on sampled tp)] | Loss -4.729861 | Likelihood 4.978258 | KL fp 6.3038 | FP STD 0.0020|\n",
            "KL coef: 0.039403990000000055\n",
            "Train loss (one batch): -4.4060211181640625\n",
            "Train CE loss (one batch): 0.0\n",
            "Test MSE: 2.0211186892993283e-06\n",
            "Poisson likelihood: 0.0\n",
            "CE loss: 0.0\n"
          ]
        },
        {
          "output_type": "stream",
          "name": "stdout",
          "text": [
            "Computing loss... 0\n"
          ]
        },
        {
          "output_type": "stream",
          "name": "stderr",
          "text": [
            "Experiment 43321\n",
            "Epoch 0015 [Test seq (cond on sampled tp)] | Loss -3.883445 | Likelihood 4.160756 | KL fp 5.6583 | FP STD 0.0024|\n",
            "KL coef: 0.04900995010000009\n",
            "Train loss (one batch): -1.9971848726272583\n",
            "Train CE loss (one batch): 0.0\n",
            "Test MSE: 3.6561214074026793e-06\n",
            "Poisson likelihood: 0.0\n",
            "CE loss: 0.0\n"
          ]
        },
        {
          "output_type": "stream",
          "name": "stdout",
          "text": [
            "Computing loss... 0\n"
          ]
        },
        {
          "output_type": "stream",
          "name": "stderr",
          "text": [
            "Experiment 43321\n",
            "Epoch 0016 [Test seq (cond on sampled tp)] | Loss -4.755758 | Likelihood 5.138898 | KL fp 6.5472 | FP STD 0.0012|\n",
            "KL coef: 0.058519850599\n",
            "Train loss (one batch): -4.529814720153809\n",
            "Train CE loss (one batch): 0.0\n",
            "Test MSE: 1.699836957413936e-06\n",
            "Poisson likelihood: 0.0\n",
            "CE loss: 0.0\n"
          ]
        },
        {
          "output_type": "stream",
          "name": "stdout",
          "text": [
            "Computing loss... 0\n"
          ]
        },
        {
          "output_type": "stream",
          "name": "stderr",
          "text": [
            "Experiment 43321\n",
            "Epoch 0017 [Test seq (cond on sampled tp)] | Loss -3.999049 | Likelihood 4.394090 | KL fp 5.8150 | FP STD 0.0021|\n",
            "KL coef: 0.06793465209301008\n",
            "Train loss (one batch): -1.0838433504104614\n",
            "Train CE loss (one batch): 0.0\n",
            "Test MSE: 3.189454218954779e-06\n",
            "Poisson likelihood: 0.0\n",
            "CE loss: 0.0\n"
          ]
        },
        {
          "output_type": "stream",
          "name": "stdout",
          "text": [
            "Computing loss... 0\n"
          ]
        },
        {
          "output_type": "stream",
          "name": "stderr",
          "text": [
            "Experiment 43321\n",
            "Epoch 0018 [Test seq (cond on sampled tp)] | Loss -4.311152 | Likelihood 4.765258 | KL fp 5.8780 | FP STD 0.0018|\n",
            "KL coef: 0.07725530557207994\n",
            "Train loss (one batch): -2.713391065597534\n",
            "Train CE loss (one batch): 0.0\n",
            "Test MSE: 2.4471180495311273e-06\n",
            "Poisson likelihood: 0.0\n",
            "CE loss: 0.0\n"
          ]
        },
        {
          "output_type": "stream",
          "name": "stdout",
          "text": [
            "Computing loss... 0\n"
          ]
        },
        {
          "output_type": "stream",
          "name": "stderr",
          "text": [
            "Experiment 43321\n",
            "Epoch 0019 [Test seq (cond on sampled tp)] | Loss -4.274201 | Likelihood 4.783804 | KL fp 5.8925 | FP STD 0.0024|\n",
            "KL coef: 0.08648275251635917\n",
            "Train loss (one batch): -1.8158670663833618\n",
            "Train CE loss (one batch): 0.0\n",
            "Test MSE: 2.4100247628666693e-06\n",
            "Poisson likelihood: 0.0\n",
            "CE loss: 0.0\n"
          ]
        },
        {
          "output_type": "stream",
          "name": "stdout",
          "text": [
            "Computing loss... 0\n"
          ]
        },
        {
          "output_type": "stream",
          "name": "stderr",
          "text": [
            "Experiment 43321\n",
            "Epoch 0020 [Test seq (cond on sampled tp)] | Loss -3.321841 | Likelihood 3.896278 | KL fp 6.0076 | FP STD 0.0019|\n",
            "KL coef: 0.09561792499119559\n",
            "Train loss (one batch): -1.1441161632537842\n",
            "Train CE loss (one batch): 0.0\n",
            "Test MSE: 4.185078523732955e-06\n",
            "Poisson likelihood: 0.0\n",
            "CE loss: 0.0\n"
          ]
        },
        {
          "output_type": "stream",
          "name": "stdout",
          "text": [
            "Computing loss... 0\n"
          ]
        },
        {
          "output_type": "stream",
          "name": "stderr",
          "text": [
            "Experiment 43321\n",
            "Epoch 0021 [Test seq (cond on sampled tp)] | Loss 0.463467 | Likelihood 0.095666 | KL fp 5.3423 | FP STD 0.0036|\n",
            "KL coef: 0.10466174574128362\n",
            "Train loss (one batch): 1.8500878810882568\n",
            "Train CE loss (one batch): 0.0\n",
            "Test MSE: 1.178630282083759e-05\n",
            "Poisson likelihood: 0.0\n",
            "CE loss: 0.0\n"
          ]
        },
        {
          "output_type": "stream",
          "name": "stdout",
          "text": [
            "Computing loss... 0\n"
          ]
        },
        {
          "output_type": "stream",
          "name": "stderr",
          "text": [
            "Experiment 43321\n",
            "Epoch 0022 [Test seq (cond on sampled tp)] | Loss -4.726656 | Likelihood 5.422784 | KL fp 6.1271 | FP STD 0.0018|\n",
            "KL coef: 0.11361512828387077\n",
            "Train loss (one batch): -4.520509243011475\n",
            "Train CE loss (one batch): 0.0\n",
            "Test MSE: 1.1320656767566106e-06\n",
            "Poisson likelihood: 0.0\n",
            "CE loss: 0.0\n"
          ]
        },
        {
          "output_type": "stream",
          "name": "stdout",
          "text": [
            "Computing loss... 0\n"
          ]
        },
        {
          "output_type": "stream",
          "name": "stderr",
          "text": [
            "Experiment 43321\n",
            "Epoch 0023 [Test seq (cond on sampled tp)] | Loss -3.440348 | Likelihood 4.087712 | KL fp 5.2855 | FP STD 0.0032|\n",
            "KL coef: 0.12247897700103216\n",
            "Train loss (one batch): -1.1017820835113525\n",
            "Train CE loss (one batch): 0.0\n",
            "Test MSE: 3.8022103581170086e-06\n",
            "Poisson likelihood: 0.0\n",
            "CE loss: 0.0\n"
          ]
        },
        {
          "output_type": "stream",
          "name": "stdout",
          "text": [
            "Computing loss... 0\n"
          ]
        },
        {
          "output_type": "stream",
          "name": "stderr",
          "text": [
            "Experiment 43321\n",
            "Epoch 0024 [Test seq (cond on sampled tp)] | Loss -4.299932 | Likelihood 5.058554 | KL fp 5.7798 | FP STD 0.0025|\n",
            "KL coef: 0.13125418723102178\n",
            "Train loss (one batch): -2.989866256713867\n",
            "Train CE loss (one batch): 0.0\n",
            "Test MSE: 1.8605254581416375e-06\n",
            "Poisson likelihood: 0.0\n",
            "CE loss: 0.0\n"
          ]
        },
        {
          "output_type": "stream",
          "name": "stdout",
          "text": [
            "Computing loss... 0\n"
          ]
        },
        {
          "output_type": "stream",
          "name": "stderr",
          "text": [
            "Experiment 43321\n",
            "Epoch 0025 [Test seq (cond on sampled tp)] | Loss -2.180256 | Likelihood 2.955952 | KL fp 5.5430 | FP STD 0.0030|\n",
            "KL coef: 0.13994164535871156\n",
            "Train loss (one batch): 1.011561632156372\n",
            "Train CE loss (one batch): 0.0\n",
            "Test MSE: 6.065731213311665e-06\n",
            "Poisson likelihood: 0.0\n",
            "CE loss: 0.0\n"
          ]
        },
        {
          "output_type": "stream",
          "name": "stdout",
          "text": [
            "Computing loss... 0\n"
          ]
        },
        {
          "output_type": "stream",
          "name": "stderr",
          "text": [
            "Experiment 43321\n",
            "Epoch 0026 [Test seq (cond on sampled tp)] | Loss -4.607739 | Likelihood 5.464750 | KL fp 5.7695 | FP STD 0.0022|\n",
            "KL coef: 0.14854222890512447\n",
            "Train loss (one batch): -3.9774131774902344\n",
            "Train CE loss (one batch): 0.0\n",
            "Test MSE: 1.0481332992640091e-06\n",
            "Poisson likelihood: 0.0\n",
            "CE loss: 0.0\n"
          ]
        },
        {
          "output_type": "stream",
          "name": "stdout",
          "text": [
            "Computing loss... 0\n"
          ]
        },
        {
          "output_type": "stream",
          "name": "stderr",
          "text": [
            "Experiment 43321\n",
            "Epoch 0027 [Test seq (cond on sampled tp)] | Loss -3.796654 | Likelihood 4.623960 | KL fp 5.2676 | FP STD 0.0041|\n",
            "KL coef: 0.15705680661607324\n",
            "Train loss (one batch): -2.022690773010254\n",
            "Train CE loss (one batch): 0.0\n",
            "Test MSE: 2.72971533377131e-06\n",
            "Poisson likelihood: 0.0\n",
            "CE loss: 0.0\n"
          ]
        },
        {
          "output_type": "stream",
          "name": "stdout",
          "text": [
            "Computing loss... 0\n"
          ]
        },
        {
          "output_type": "stream",
          "name": "stderr",
          "text": [
            "Experiment 43321\n",
            "Epoch 0028 [Test seq (cond on sampled tp)] | Loss 34.655807 | Likelihood -33.839024 | KL fp 4.9357 | FP STD 0.0173|\n",
            "KL coef: 0.1654862385499125\n",
            "Train loss (one batch): 36.61533737182617\n",
            "Train CE loss (one batch): 0.0\n",
            "Test MSE: 7.965568511281163e-05\n",
            "Poisson likelihood: 0.0\n",
            "CE loss: 0.0\n"
          ]
        },
        {
          "output_type": "stream",
          "name": "stdout",
          "text": [
            "Computing loss... 0\n"
          ]
        },
        {
          "output_type": "stream",
          "name": "stderr",
          "text": [
            "Experiment 43321\n",
            "Epoch 0029 [Test seq (cond on sampled tp)] | Loss 25.482073 | Likelihood -24.702486 | KL fp 4.4847 | FP STD 0.0157|\n",
            "KL coef: 0.17383137616441335\n",
            "Train loss (one batch): 35.67182159423828\n",
            "Train CE loss (one batch): 0.0\n",
            "Test MSE: 6.138261232990772e-05\n",
            "Poisson likelihood: 0.0\n",
            "CE loss: 0.0\n"
          ]
        },
        {
          "output_type": "stream",
          "name": "stdout",
          "text": [
            "Computing loss... 0\n"
          ]
        },
        {
          "output_type": "stream",
          "name": "stderr",
          "text": [
            "Experiment 43321\n",
            "Epoch 0030 [Test seq (cond on sampled tp)] | Loss 10.963433 | Likelihood -10.017592 | KL fp 5.1943 | FP STD 0.0118|\n",
            "KL coef: 0.18209306240276923\n",
            "Train loss (one batch): 12.658342361450195\n",
            "Train CE loss (one batch): 0.0\n",
            "Test MSE: 3.201282015652396e-05\n",
            "Poisson likelihood: 0.0\n",
            "CE loss: 0.0\n"
          ]
        },
        {
          "output_type": "stream",
          "name": "stdout",
          "text": [
            "Computing loss... 0\n"
          ]
        },
        {
          "output_type": "stream",
          "name": "stderr",
          "text": [
            "Experiment 43321\n",
            "Epoch 0031 [Test seq (cond on sampled tp)] | Loss 8.289006 | Likelihood -7.311396 | KL fp 5.1380 | FP STD 0.0100|\n",
            "KL coef: 0.19027213177874158\n",
            "Train loss (one batch): 8.315353393554688\n",
            "Train CE loss (one batch): 0.0\n",
            "Test MSE: 2.6600428100209683e-05\n",
            "Poisson likelihood: 0.0\n",
            "CE loss: 0.0\n"
          ]
        },
        {
          "output_type": "stream",
          "name": "stdout",
          "text": [
            "Computing loss... 0\n"
          ]
        },
        {
          "output_type": "stream",
          "name": "stderr",
          "text": [
            "Experiment 43321\n",
            "Epoch 0032 [Test seq (cond on sampled tp)] | Loss 5.267915 | Likelihood -4.230613 | KL fp 5.2291 | FP STD 0.0086|\n",
            "KL coef: 0.19836941046095413\n",
            "Train loss (one batch): 4.848302841186523\n",
            "Train CE loss (one batch): 0.0\n",
            "Test MSE: 2.04388616111828e-05\n",
            "Poisson likelihood: 0.0\n",
            "CE loss: 0.0\n"
          ]
        },
        {
          "output_type": "stream",
          "name": "stdout",
          "text": [
            "Computing loss... 0\n"
          ]
        },
        {
          "output_type": "stream",
          "name": "stderr",
          "text": [
            "Experiment 43321\n",
            "Epoch 0033 [Test seq (cond on sampled tp)] | Loss 3.178342 | Likelihood -2.084379 | KL fp 5.3006 | FP STD 0.0078|\n",
            "KL coef: 0.20638571635634462\n",
            "Train loss (one batch): 2.501504898071289\n",
            "Train CE loss (one batch): 0.0\n",
            "Test MSE: 1.614639040781185e-05\n",
            "Poisson likelihood: 0.0\n",
            "CE loss: 0.0\n"
          ]
        },
        {
          "output_type": "stream",
          "name": "stdout",
          "text": [
            "Computing loss... 0\n"
          ]
        },
        {
          "output_type": "stream",
          "name": "stderr",
          "text": [
            "Experiment 43321\n",
            "Epoch 0034 [Test seq (cond on sampled tp)] | Loss 1.172132 | Likelihood -0.033267 | KL fp 5.3138 | FP STD 0.0071|\n",
            "KL coef: 0.21432185919278124\n",
            "Train loss (one batch): 6.4029645919799805\n",
            "Train CE loss (one batch): 0.0\n",
            "Test MSE: 1.2044169125147164e-05\n",
            "Poisson likelihood: 0.0\n",
            "CE loss: 0.0\n"
          ]
        },
        {
          "output_type": "stream",
          "name": "stdout",
          "text": [
            "Computing loss... 0\n"
          ]
        },
        {
          "output_type": "stream",
          "name": "stderr",
          "text": [
            "Experiment 43321\n",
            "Epoch 0035 [Test seq (cond on sampled tp)] | Loss 0.098923 | Likelihood 1.058909 | KL fp 5.2113 | FP STD 0.0068|\n",
            "KL coef: 0.22217864060085335\n",
            "Train loss (one batch): 3.0406525135040283\n",
            "Train CE loss (one batch): 0.0\n",
            "Test MSE: 9.859815691015683e-06\n",
            "Poisson likelihood: 0.0\n",
            "CE loss: 0.0\n"
          ]
        },
        {
          "output_type": "stream",
          "name": "stdout",
          "text": [
            "Computing loss... 0\n"
          ]
        },
        {
          "output_type": "stream",
          "name": "stderr",
          "text": [
            "Experiment 43321\n",
            "Epoch 0036 [Test seq (cond on sampled tp)] | Loss -0.885750 | Likelihood 2.085330 | KL fp 5.2165 | FP STD 0.0064|\n",
            "KL coef: 0.2299568541948449\n",
            "Train loss (one batch): -0.14650118350982666\n",
            "Train CE loss (one batch): 0.0\n",
            "Test MSE: 7.806972462276462e-06\n",
            "Poisson likelihood: 0.0\n",
            "CE loss: 0.0\n"
          ]
        },
        {
          "output_type": "stream",
          "name": "stdout",
          "text": [
            "Computing loss... 0\n"
          ]
        },
        {
          "output_type": "stream",
          "name": "stderr",
          "text": [
            "Experiment 43321\n",
            "Epoch 0037 [Test seq (cond on sampled tp)] | Loss -1.782188 | Likelihood 3.013191 | KL fp 5.1797 | FP STD 0.0060|\n",
            "KL coef: 0.23765728565289646\n",
            "Train loss (one batch): -1.2748816013336182\n",
            "Train CE loss (one batch): 0.0\n",
            "Test MSE: 5.951251750957454e-06\n",
            "Poisson likelihood: 0.0\n",
            "CE loss: 0.0\n"
          ]
        },
        {
          "output_type": "stream",
          "name": "stdout",
          "text": [
            "Computing loss... 0\n"
          ]
        },
        {
          "output_type": "stream",
          "name": "stderr",
          "text": [
            "Experiment 43321\n",
            "Epoch 0038 [Test seq (cond on sampled tp)] | Loss -2.082344 | Likelihood 3.368317 | KL fp 5.2429 | FP STD 0.0055|\n",
            "KL coef: 0.24528071279636743\n",
            "Train loss (one batch): -0.750795841217041\n",
            "Train CE loss (one batch): 0.0\n",
            "Test MSE: 5.24099959875457e-06\n",
            "Poisson likelihood: 0.0\n",
            "CE loss: 0.0\n"
          ]
        },
        {
          "output_type": "stream",
          "name": "stdout",
          "text": [
            "Computing loss... 0\n"
          ]
        },
        {
          "output_type": "stream",
          "name": "stderr",
          "text": [
            "Experiment 43321\n",
            "Epoch 0039 [Test seq (cond on sampled tp)] | Loss -2.346736 | Likelihood 3.670884 | KL fp 5.2373 | FP STD 0.0052|\n",
            "KL coef: 0.25282790566840385\n",
            "Train loss (one batch): -2.624429225921631\n",
            "Train CE loss (one batch): 0.0\n",
            "Test MSE: 4.63586638943525e-06\n",
            "Poisson likelihood: 0.0\n",
            "CE loss: 0.0\n"
          ]
        },
        {
          "output_type": "stream",
          "name": "stdout",
          "text": [
            "Computing loss... 0\n"
          ]
        },
        {
          "output_type": "stream",
          "name": "stderr",
          "text": [
            "Experiment 43321\n",
            "Epoch 0040 [Test seq (cond on sampled tp)] | Loss -2.936737 | Likelihood 4.281822 | KL fp 5.1674 | FP STD 0.0052|\n",
            "KL coef: 0.2602996266117198\n",
            "Train loss (one batch): -3.5515313148498535\n",
            "Train CE loss (one batch): 0.0\n",
            "Test MSE: 3.413988906686427e-06\n",
            "Poisson likelihood: 0.0\n",
            "CE loss: 0.0\n"
          ]
        },
        {
          "output_type": "stream",
          "name": "stdout",
          "text": [
            "Computing loss... 0\n"
          ]
        },
        {
          "output_type": "stream",
          "name": "stderr",
          "text": [
            "Experiment 43321\n",
            "Epoch 0041 [Test seq (cond on sampled tp)] | Loss -2.967790 | Likelihood 4.366853 | KL fp 5.2263 | FP STD 0.0047|\n",
            "KL coef: 0.26769663034560254\n",
            "Train loss (one batch): -3.103372812271118\n",
            "Train CE loss (one batch): 0.0\n",
            "Test MSE: 3.2439284041174687e-06\n",
            "Poisson likelihood: 0.0\n",
            "CE loss: 0.0\n"
          ]
        },
        {
          "output_type": "stream",
          "name": "stdout",
          "text": [
            "Computing loss... 0\n"
          ]
        },
        {
          "output_type": "stream",
          "name": "stderr",
          "text": [
            "Experiment 43321\n",
            "Epoch 0042 [Test seq (cond on sampled tp)] | Loss -3.253538 | Likelihood 4.691321 | KL fp 5.2279 | FP STD 0.0045|\n",
            "KL coef: 0.2750196640421466\n",
            "Train loss (one batch): -3.1955156326293945\n",
            "Train CE loss (one batch): 0.0\n",
            "Test MSE: 2.594991883597686e-06\n",
            "Poisson likelihood: 0.0\n",
            "CE loss: 0.0\n"
          ]
        },
        {
          "output_type": "stream",
          "name": "stdout",
          "text": [
            "Computing loss... 0\n"
          ]
        },
        {
          "output_type": "stream",
          "name": "stderr",
          "text": [
            "Experiment 43321\n",
            "Epoch 0043 [Test seq (cond on sampled tp)] | Loss -3.266733 | Likelihood 4.735661 | KL fp 5.2040 | FP STD 0.0044|\n",
            "KL coef: 0.2822694674017251\n",
            "Train loss (one batch): -3.3121414184570312\n",
            "Train CE loss (one batch): 0.0\n",
            "Test MSE: 2.5063120574486675e-06\n",
            "Poisson likelihood: 0.0\n",
            "CE loss: 0.0\n"
          ]
        },
        {
          "output_type": "stream",
          "name": "stdout",
          "text": [
            "Computing loss... 0\n"
          ]
        },
        {
          "output_type": "stream",
          "name": "stderr",
          "text": [
            "Experiment 43321\n",
            "Epoch 0044 [Test seq (cond on sampled tp)] | Loss -3.463399 | Likelihood 4.999748 | KL fp 5.3079 | FP STD 0.0040|\n",
            "KL coef: 0.2894467727277079\n",
            "Train loss (one batch): -3.288583517074585\n",
            "Train CE loss (one batch): 0.0\n",
            "Test MSE: 1.978138698177645e-06\n",
            "Poisson likelihood: 0.0\n",
            "CE loss: 0.0\n"
          ]
        },
        {
          "output_type": "stream",
          "name": "stdout",
          "text": [
            "Computing loss... 0\n"
          ]
        },
        {
          "output_type": "stream",
          "name": "stderr",
          "text": [
            "Experiment 43321\n",
            "Epoch 0045 [Test seq (cond on sampled tp)] | Loss -3.542333 | Likelihood 5.110725 | KL fp 5.2888 | FP STD 0.0039|\n",
            "KL coef: 0.29655230500043084\n",
            "Train loss (one batch): -3.7356064319610596\n",
            "Train CE loss (one batch): 0.0\n",
            "Test MSE: 1.756182996359712e-06\n",
            "Poisson likelihood: 0.0\n",
            "CE loss: 0.0\n"
          ]
        },
        {
          "output_type": "stream",
          "name": "stdout",
          "text": [
            "Computing loss... 0\n"
          ]
        },
        {
          "output_type": "stream",
          "name": "stderr",
          "text": [
            "Experiment 43321\n",
            "Epoch 0046 [Test seq (cond on sampled tp)] | Loss -3.663308 | Likelihood 5.290258 | KL fp 5.3591 | FP STD 0.0036|\n",
            "KL coef: 0.30358678195042654\n",
            "Train loss (one batch): -3.2355504035949707\n",
            "Train CE loss (one batch): 0.0\n",
            "Test MSE: 1.3971172165838652e-06\n",
            "Poisson likelihood: 0.0\n",
            "CE loss: 0.0\n"
          ]
        },
        {
          "output_type": "stream",
          "name": "stdout",
          "text": [
            "Computing loss... 0\n"
          ]
        },
        {
          "output_type": "stream",
          "name": "stderr",
          "text": [
            "Experiment 43321\n",
            "Epoch 0047 [Test seq (cond on sampled tp)] | Loss -3.057561 | Likelihood 4.667255 | KL fp 5.1833 | FP STD 0.0049|\n",
            "KL coef: 0.3105509141309223\n",
            "Train loss (one batch): -3.1433801651000977\n",
            "Train CE loss (one batch): 0.0\n",
            "Test MSE: 2.643123252710211e-06\n",
            "Poisson likelihood: 0.0\n",
            "CE loss: 0.0\n"
          ]
        },
        {
          "output_type": "stream",
          "name": "stdout",
          "text": [
            "Computing loss... 0\n"
          ]
        },
        {
          "output_type": "stream",
          "name": "stderr",
          "text": [
            "Experiment 43321\n",
            "Epoch 0048 [Test seq (cond on sampled tp)] | Loss -2.926024 | Likelihood 4.509139 | KL fp 4.9870 | FP STD 0.0054|\n",
            "KL coef: 0.31744540498961304\n",
            "Train loss (one batch): -2.946589946746826\n",
            "Train CE loss (one batch): 0.0\n",
            "Test MSE: 2.9593552426376846e-06\n",
            "Poisson likelihood: 0.0\n",
            "CE loss: 0.0\n"
          ]
        },
        {
          "output_type": "stream",
          "name": "stdout",
          "text": [
            "Computing loss... 0\n"
          ]
        },
        {
          "output_type": "stream",
          "name": "stderr",
          "text": [
            "Experiment 43321\n",
            "Epoch 0049 [Test seq (cond on sampled tp)] | Loss -3.611571 | Likelihood 5.312376 | KL fp 5.2450 | FP STD 0.0038|\n",
            "KL coef: 0.3242709509397169\n",
            "Train loss (one batch): -3.695511817932129\n",
            "Train CE loss (one batch): 0.0\n",
            "Test MSE: 1.3528807585316827e-06\n",
            "Poisson likelihood: 0.0\n",
            "CE loss: 0.0\n"
          ]
        },
        {
          "output_type": "stream",
          "name": "stdout",
          "text": [
            "Computing loss... 0\n"
          ]
        },
        {
          "output_type": "stream",
          "name": "stderr",
          "text": [
            "Experiment 43321\n",
            "Epoch 0050 [Test seq (cond on sampled tp)] | Loss -3.626207 | Likelihood 5.358473 | KL fp 5.2330 | FP STD 0.0036|\n",
            "KL coef: 0.3310282414303197\n",
            "Train loss (one batch): -3.750507354736328\n",
            "Train CE loss (one batch): 0.0\n",
            "Test MSE: 1.2606882364707417e-06\n",
            "Poisson likelihood: 0.0\n",
            "CE loss: 0.0\n"
          ]
        },
        {
          "output_type": "stream",
          "name": "stdout",
          "text": [
            "Computing loss... 0\n"
          ]
        },
        {
          "output_type": "stream",
          "name": "stderr",
          "text": [
            "Experiment 43321\n",
            "Epoch 0051 [Test seq (cond on sampled tp)] | Loss -3.729779 | Likelihood 5.515215 | KL fp 5.2868 | FP STD 0.0034|\n",
            "KL coef: 0.33771795901601653\n",
            "Train loss (one batch): -3.5621719360351562\n",
            "Train CE loss (one batch): 0.0\n",
            "Test MSE: 9.472033184465545e-07\n",
            "Poisson likelihood: 0.0\n",
            "CE loss: 0.0\n"
          ]
        },
        {
          "output_type": "stream",
          "name": "stdout",
          "text": [
            "Computing loss... 0\n"
          ]
        },
        {
          "output_type": "stream",
          "name": "stderr",
          "text": [
            "Experiment 43321\n",
            "Epoch 0052 [Test seq (cond on sampled tp)] | Loss -3.654665 | Likelihood 5.467515 | KL fp 5.2647 | FP STD 0.0034|\n",
            "KL coef: 0.3443407794258564\n",
            "Train loss (one batch): -3.681807518005371\n",
            "Train CE loss (one batch): 0.0\n",
            "Test MSE: 1.0426024346088525e-06\n",
            "Poisson likelihood: 0.0\n",
            "CE loss: 0.0\n"
          ]
        },
        {
          "output_type": "stream",
          "name": "stdout",
          "text": [
            "Computing loss... 0\n"
          ]
        },
        {
          "output_type": "stream",
          "name": "stderr",
          "text": [
            "Experiment 43321\n",
            "Epoch 0053 [Test seq (cond on sampled tp)] | Loss -3.720839 | Likelihood 5.572110 | KL fp 5.2758 | FP STD 0.0033|\n",
            "KL coef: 0.35089737163159784\n",
            "Train loss (one batch): -3.594839096069336\n",
            "Train CE loss (one batch): 0.0\n",
            "Test MSE: 8.334147878485965e-07\n",
            "Poisson likelihood: 0.0\n",
            "CE loss: 0.0\n"
          ]
        },
        {
          "output_type": "stream",
          "name": "stdout",
          "text": [
            "Computing loss... 0\n"
          ]
        },
        {
          "output_type": "stream",
          "name": "stderr",
          "text": [
            "Experiment 43321\n",
            "Epoch 0054 [Test seq (cond on sampled tp)] | Loss -3.656115 | Likelihood 5.539749 | KL fp 5.2706 | FP STD 0.0033|\n",
            "KL coef: 0.3573883979152819\n",
            "Train loss (one batch): -3.6556105613708496\n",
            "Train CE loss (one batch): 0.0\n",
            "Test MSE: 8.981364203464182e-07\n",
            "Poisson likelihood: 0.0\n",
            "CE loss: 0.0\n"
          ]
        },
        {
          "output_type": "stream",
          "name": "stdout",
          "text": [
            "Computing loss... 0\n"
          ]
        },
        {
          "output_type": "stream",
          "name": "stderr",
          "text": [
            "Experiment 43321\n",
            "Epoch 0055 [Test seq (cond on sampled tp)] | Loss -3.661170 | Likelihood 5.587206 | KL fp 5.2940 | FP STD 0.0032|\n",
            "KL coef: 0.36381451393612907\n",
            "Train loss (one batch): -3.5316073894500732\n",
            "Train CE loss (one batch): 0.0\n",
            "Test MSE: 8.032227469811914e-07\n",
            "Poisson likelihood: 0.0\n",
            "CE loss: 0.0\n"
          ]
        },
        {
          "output_type": "stream",
          "name": "stdout",
          "text": [
            "Computing loss... 0\n"
          ]
        },
        {
          "output_type": "stream",
          "name": "stderr",
          "text": [
            "Experiment 43321\n",
            "Epoch 0056 [Test seq (cond on sampled tp)] | Loss -3.633275 | Likelihood 5.595445 | KL fp 5.3006 | FP STD 0.0032|\n",
            "KL coef: 0.37017636879676774\n",
            "Train loss (one batch): -3.6198601722717285\n",
            "Train CE loss (one batch): 0.0\n",
            "Test MSE: 7.86744351444213e-07\n",
            "Poisson likelihood: 0.0\n",
            "CE loss: 0.0\n"
          ]
        },
        {
          "output_type": "stream",
          "name": "stdout",
          "text": [
            "Computing loss... 0\n"
          ]
        },
        {
          "output_type": "stream",
          "name": "stderr",
          "text": [
            "Experiment 43321\n",
            "Epoch 0057 [Test seq (cond on sampled tp)] | Loss -3.435147 | Likelihood 5.402725 | KL fp 5.2263 | FP STD 0.0036|\n",
            "KL coef: 0.37647460510880004\n",
            "Train loss (one batch): -3.5325183868408203\n",
            "Train CE loss (one batch): 0.0\n",
            "Test MSE: 1.1721823511834373e-06\n",
            "Poisson likelihood: 0.0\n",
            "CE loss: 0.0\n"
          ]
        },
        {
          "output_type": "stream",
          "name": "stdout",
          "text": [
            "Computing loss... 0\n"
          ]
        },
        {
          "output_type": "stream",
          "name": "stderr",
          "text": [
            "Experiment 43321\n",
            "Epoch 0058 [Test seq (cond on sampled tp)] | Loss -3.597046 | Likelihood 5.627653 | KL fp 5.3059 | FP STD 0.0032|\n",
            "KL coef: 0.38270985905771204\n",
            "Train loss (one batch): -3.417555093765259\n",
            "Train CE loss (one batch): 0.0\n",
            "Test MSE: 7.223272291412286e-07\n",
            "Poisson likelihood: 0.0\n",
            "CE loss: 0.0\n"
          ]
        },
        {
          "output_type": "stream",
          "name": "stdout",
          "text": [
            "Computing loss... 0\n"
          ]
        },
        {
          "output_type": "stream",
          "name": "stderr",
          "text": [
            "Experiment 43321\n",
            "Epoch 0059 [Test seq (cond on sampled tp)] | Loss -3.569379 | Likelihood 5.619311 | KL fp 5.2713 | FP STD 0.0033|\n",
            "KL coef: 0.388882760467135\n",
            "Train loss (one batch): -3.5018041133880615\n",
            "Train CE loss (one batch): 0.0\n",
            "Test MSE: 7.390118526018341e-07\n",
            "Poisson likelihood: 0.0\n",
            "CE loss: 0.0\n"
          ]
        },
        {
          "output_type": "stream",
          "name": "stdout",
          "text": [
            "Computing loss... 0\n"
          ]
        },
        {
          "output_type": "stream",
          "name": "stderr",
          "text": [
            "Experiment 43321\n",
            "Epoch 0060 [Test seq (cond on sampled tp)] | Loss -3.515174 | Likelihood 5.623054 | KL fp 5.3365 | FP STD 0.0031|\n",
            "KL coef: 0.39499393286246365\n",
            "Train loss (one batch): -3.5781397819519043\n",
            "Train CE loss (one batch): 0.0\n",
            "Test MSE: 7.31526654362824e-07\n",
            "Poisson likelihood: 0.0\n",
            "CE loss: 0.0\n"
          ]
        },
        {
          "output_type": "stream",
          "name": "stdout",
          "text": [
            "Computing loss... 0\n"
          ]
        },
        {
          "output_type": "stream",
          "name": "stderr",
          "text": [
            "Experiment 43321\n",
            "Epoch 0061 [Test seq (cond on sampled tp)] | Loss -3.508281 | Likelihood 5.643871 | KL fp 5.3251 | FP STD 0.0031|\n",
            "KL coef: 0.401043993533839\n",
            "Train loss (one batch): -3.5572195053100586\n",
            "Train CE loss (one batch): 0.0\n",
            "Test MSE: 6.898921469655761e-07\n",
            "Poisson likelihood: 0.0\n",
            "CE loss: 0.0\n"
          ]
        },
        {
          "output_type": "stream",
          "name": "stdout",
          "text": [
            "Computing loss... 0\n"
          ]
        },
        {
          "output_type": "stream",
          "name": "stderr",
          "text": [
            "Experiment 43321\n",
            "Epoch 0062 [Test seq (cond on sampled tp)] | Loss -3.487020 | Likelihood 5.680832 | KL fp 5.3898 | FP STD 0.0030|\n",
            "KL coef: 0.4070335535985006\n",
            "Train loss (one batch): -3.5233824253082275\n",
            "Train CE loss (one batch): 0.0\n",
            "Test MSE: 6.159686449791479e-07\n",
            "Poisson likelihood: 0.0\n",
            "CE loss: 0.0\n"
          ]
        },
        {
          "output_type": "stream",
          "name": "stdout",
          "text": [
            "Computing loss... 0\n"
          ]
        },
        {
          "output_type": "stream",
          "name": "stderr",
          "text": [
            "Experiment 43321\n",
            "Epoch 0063 [Test seq (cond on sampled tp)] | Loss -3.434072 | Likelihood 5.647760 | KL fp 5.3605 | FP STD 0.0030|\n",
            "KL coef: 0.41296321806251557\n",
            "Train loss (one batch): -3.4653594493865967\n",
            "Train CE loss (one batch): 0.0\n",
            "Test MSE: 6.821134661549877e-07\n",
            "Poisson likelihood: 0.0\n",
            "CE loss: 0.0\n"
          ]
        },
        {
          "output_type": "stream",
          "name": "stdout",
          "text": [
            "Computing loss... 0\n"
          ]
        },
        {
          "output_type": "stream",
          "name": "stderr",
          "text": [
            "Experiment 43321\n",
            "Epoch 0064 [Test seq (cond on sampled tp)] | Loss -3.431806 | Likelihood 5.654768 | KL fp 5.3075 | FP STD 0.0032|\n",
            "KL coef: 0.41883358588189046\n",
            "Train loss (one batch): -3.384551525115967\n",
            "Train CE loss (one batch): 0.0\n",
            "Test MSE: 6.680992896690441e-07\n",
            "Poisson likelihood: 0.0\n",
            "CE loss: 0.0\n"
          ]
        },
        {
          "output_type": "stream",
          "name": "stdout",
          "text": [
            "Computing loss... 0\n"
          ]
        },
        {
          "output_type": "stream",
          "name": "stderr",
          "text": [
            "Experiment 43321\n",
            "Epoch 0065 [Test seq (cond on sampled tp)] | Loss -3.401044 | Likelihood 5.675575 | KL fp 5.3563 | FP STD 0.0031|\n",
            "KL coef: 0.4246452500230715\n",
            "Train loss (one batch): -3.354438304901123\n",
            "Train CE loss (one batch): 0.0\n",
            "Test MSE: 6.264838816605334e-07\n",
            "Poisson likelihood: 0.0\n",
            "CE loss: 0.0\n"
          ]
        },
        {
          "output_type": "stream",
          "name": "stdout",
          "text": [
            "Computing loss... 0\n"
          ]
        },
        {
          "output_type": "stream",
          "name": "stderr",
          "text": [
            "Experiment 43321\n",
            "Epoch 0066 [Test seq (cond on sampled tp)] | Loss -3.382663 | Likelihood 5.670968 | KL fp 5.3167 | FP STD 0.0031|\n",
            "KL coef: 0.4303987975228408\n",
            "Train loss (one batch): -3.290722608566284\n",
            "Train CE loss (one batch): 0.0\n",
            "Test MSE: 6.356980293276138e-07\n",
            "Poisson likelihood: 0.0\n",
            "CE loss: 0.0\n"
          ]
        },
        {
          "output_type": "stream",
          "name": "stdout",
          "text": [
            "Computing loss... 0\n"
          ]
        },
        {
          "output_type": "stream",
          "name": "stderr",
          "text": [
            "Experiment 43321\n",
            "Epoch 0067 [Test seq (cond on sampled tp)] | Loss -3.317530 | Likelihood 5.680499 | KL fp 5.4185 | FP STD 0.0029|\n",
            "KL coef: 0.4360948095476125\n",
            "Train loss (one batch): -3.2768046855926514\n",
            "Train CE loss (one batch): 0.0\n",
            "Test MSE: 6.166345656311023e-07\n",
            "Poisson likelihood: 0.0\n",
            "CE loss: 0.0\n"
          ]
        },
        {
          "output_type": "stream",
          "name": "stdout",
          "text": [
            "Computing loss... 0\n"
          ]
        },
        {
          "output_type": "stream",
          "name": "stderr",
          "text": [
            "Experiment 43321\n",
            "Epoch 0068 [Test seq (cond on sampled tp)] | Loss -3.127052 | Likelihood 5.380046 | KL fp 5.1003 | FP STD 0.0043|\n",
            "KL coef: 0.44173386145213633\n",
            "Train loss (one batch): -2.9655234813690186\n",
            "Train CE loss (one batch): 0.0\n",
            "Test MSE: 1.2175414667581208e-06\n",
            "Poisson likelihood: 0.0\n",
            "CE loss: 0.0\n"
          ]
        },
        {
          "output_type": "stream",
          "name": "stdout",
          "text": [
            "Computing loss... 0\n"
          ]
        },
        {
          "output_type": "stream",
          "name": "stderr",
          "text": [
            "Experiment 43321\n",
            "Epoch 0069 [Test seq (cond on sampled tp)] | Loss -3.232661 | Likelihood 5.657012 | KL fp 5.4198 | FP STD 0.0031|\n",
            "KL coef: 0.4473165228376149\n",
            "Train loss (one batch): -3.171959161758423\n",
            "Train CE loss (one batch): 0.0\n",
            "Test MSE: 6.636097964474175e-07\n",
            "Poisson likelihood: 0.0\n",
            "CE loss: 0.0\n"
          ]
        },
        {
          "output_type": "stream",
          "name": "stdout",
          "text": [
            "Computing loss... 0\n"
          ]
        },
        {
          "output_type": "stream",
          "name": "stderr",
          "text": [
            "Experiment 43321\n",
            "Epoch 0070 [Test seq (cond on sampled tp)] | Loss 1.136575 | Likelihood 1.051769 | KL fp 4.8325 | FP STD 0.0064|\n",
            "KL coef: 0.4528433576092388\n",
            "Train loss (one batch): 0.5891101360321045\n",
            "Train CE loss (one batch): 0.0\n",
            "Test MSE: 9.874096576822922e-06\n",
            "Poisson likelihood: 0.0\n",
            "CE loss: 0.0\n"
          ]
        },
        {
          "output_type": "stream",
          "name": "stdout",
          "text": [
            "Computing loss... 0\n"
          ]
        },
        {
          "output_type": "stream",
          "name": "stderr",
          "text": [
            "Experiment 43321\n",
            "Epoch 0071 [Test seq (cond on sampled tp)] | Loss -2.403716 | Likelihood 4.797975 | KL fp 5.2240 | FP STD 0.0039|\n",
            "KL coef: 0.45831492403314644\n",
            "Train loss (one batch): -2.4216339588165283\n",
            "Train CE loss (one batch): 0.0\n",
            "Test MSE: 2.3816830889700213e-06\n",
            "Poisson likelihood: 0.0\n",
            "CE loss: 0.0\n"
          ]
        },
        {
          "output_type": "stream",
          "name": "stdout",
          "text": [
            "Computing loss... 0\n"
          ]
        },
        {
          "output_type": "stream",
          "name": "stderr",
          "text": [
            "Experiment 43321\n",
            "Epoch 0072 [Test seq (cond on sampled tp)] | Loss -3.165443 | Likelihood 5.585127 | KL fp 5.2179 | FP STD 0.0034|\n",
            "KL coef: 0.463731774792815\n",
            "Train loss (one batch): -2.6056735515594482\n",
            "Train CE loss (one batch): 0.0\n",
            "Test MSE: 8.073786830209428e-07\n",
            "Poisson likelihood: 0.0\n",
            "CE loss: 0.0\n"
          ]
        },
        {
          "output_type": "stream",
          "name": "stdout",
          "text": [
            "Computing loss... 0\n"
          ]
        },
        {
          "output_type": "stream",
          "name": "stderr",
          "text": [
            "Experiment 43321\n",
            "Epoch 0073 [Test seq (cond on sampled tp)] | Loss -3.138741 | Likelihood 5.631152 | KL fp 5.3132 | FP STD 0.0031|\n",
            "KL coef: 0.46909445704488684\n",
            "Train loss (one batch): -3.1687710285186768\n",
            "Train CE loss (one batch): 0.0\n",
            "Test MSE: 7.153288947847614e-07\n",
            "Poisson likelihood: 0.0\n",
            "CE loss: 0.0\n"
          ]
        },
        {
          "output_type": "stream",
          "name": "stdout",
          "text": [
            "Computing loss... 0\n"
          ]
        },
        {
          "output_type": "stream",
          "name": "stderr",
          "text": [
            "Experiment 43321\n",
            "Epoch 0074 [Test seq (cond on sampled tp)] | Loss -3.138006 | Likelihood 5.640625 | KL fp 5.2753 | FP STD 0.0033|\n",
            "KL coef: 0.474403512474438\n",
            "Train loss (one batch): -3.0900843143463135\n",
            "Train CE loss (one batch): 0.0\n",
            "Test MSE: 6.963826990613597e-07\n",
            "Poisson likelihood: 0.0\n",
            "CE loss: 0.0\n"
          ]
        },
        {
          "output_type": "stream",
          "name": "stdout",
          "text": [
            "Computing loss... 0\n"
          ]
        },
        {
          "output_type": "stream",
          "name": "stderr",
          "text": [
            "Experiment 43321\n",
            "Epoch 0075 [Test seq (cond on sampled tp)] | Loss -3.129465 | Likelihood 5.669562 | KL fp 5.2956 | FP STD 0.0032|\n",
            "KL coef: 0.4796594773496936\n",
            "Train loss (one batch): -3.0541422367095947\n",
            "Train CE loss (one batch): 0.0\n",
            "Test MSE: 6.385099027284014e-07\n",
            "Poisson likelihood: 0.0\n",
            "CE loss: 0.0\n"
          ]
        },
        {
          "output_type": "stream",
          "name": "stdout",
          "text": [
            "Computing loss... 0\n"
          ]
        },
        {
          "output_type": "stream",
          "name": "stderr",
          "text": [
            "Experiment 43321\n",
            "Epoch 0076 [Test seq (cond on sampled tp)] | Loss -3.101569 | Likelihood 5.663694 | KL fp 5.2842 | FP STD 0.0032|\n",
            "KL coef: 0.4848628825761967\n",
            "Train loss (one batch): -3.031604528427124\n",
            "Train CE loss (one batch): 0.0\n",
            "Test MSE: 6.502447149614454e-07\n",
            "Poisson likelihood: 0.0\n",
            "CE loss: 0.0\n"
          ]
        },
        {
          "output_type": "stream",
          "name": "stdout",
          "text": [
            "Computing loss... 0\n"
          ]
        },
        {
          "output_type": "stream",
          "name": "stderr",
          "text": [
            "Experiment 43321\n",
            "Epoch 0077 [Test seq (cond on sampled tp)] | Loss -3.064788 | Likelihood 5.639327 | KL fp 5.2540 | FP STD 0.0034|\n",
            "KL coef: 0.4900142537504347\n",
            "Train loss (one batch): -3.0542948246002197\n",
            "Train CE loss (one batch): 0.0\n",
            "Test MSE: 6.989802727730421e-07\n",
            "Poisson likelihood: 0.0\n",
            "CE loss: 0.0\n"
          ]
        },
        {
          "output_type": "stream",
          "name": "stdout",
          "text": [
            "Computing loss... 0\n"
          ]
        },
        {
          "output_type": "stream",
          "name": "stderr",
          "text": [
            "Experiment 43321\n",
            "Epoch 0078 [Test seq (cond on sampled tp)] | Loss -3.047229 | Likelihood 5.641354 | KL fp 5.2394 | FP STD 0.0034|\n",
            "KL coef: 0.49511411121293036\n",
            "Train loss (one batch): -2.9133400917053223\n",
            "Train CE loss (one batch): 0.0\n",
            "Test MSE: 6.949252906451875e-07\n",
            "Poisson likelihood: 0.0\n",
            "CE loss: 0.0\n"
          ]
        },
        {
          "output_type": "stream",
          "name": "stdout",
          "text": [
            "Computing loss... 0\n"
          ]
        },
        {
          "output_type": "stream",
          "name": "stderr",
          "text": [
            "Experiment 43321\n",
            "Epoch 0079 [Test seq (cond on sampled tp)] | Loss -3.013284 | Likelihood 5.675155 | KL fp 5.3220 | FP STD 0.0032|\n",
            "KL coef: 0.500162970100801\n",
            "Train loss (one batch): -2.921159267425537\n",
            "Train CE loss (one batch): 0.0\n",
            "Test MSE: 6.273242547649716e-07\n",
            "Poisson likelihood: 0.0\n",
            "CE loss: 0.0\n"
          ]
        },
        {
          "output_type": "stream",
          "name": "stdout",
          "text": [
            "Computing loss... 0\n"
          ]
        },
        {
          "output_type": "stream",
          "name": "stderr",
          "text": [
            "Experiment 43321\n",
            "Epoch 0080 [Test seq (cond on sampled tp)] | Loss -2.999186 | Likelihood 5.639723 | KL fp 5.2271 | FP STD 0.0034|\n",
            "KL coef: 0.505161340399793\n",
            "Train loss (one batch): -2.9087061882019043\n",
            "Train CE loss (one batch): 0.0\n",
            "Test MSE: 6.981890123824996e-07\n",
            "Poisson likelihood: 0.0\n",
            "CE loss: 0.0\n"
          ]
        },
        {
          "output_type": "stream",
          "name": "stdout",
          "text": [
            "Computing loss... 0\n"
          ]
        },
        {
          "output_type": "stream",
          "name": "stderr",
          "text": [
            "Experiment 43321\n",
            "Epoch 0081 [Test seq (cond on sampled tp)] | Loss -2.952501 | Likelihood 5.659592 | KL fp 5.3069 | FP STD 0.0032|\n",
            "KL coef: 0.510109726995795\n",
            "Train loss (one batch): -2.837594747543335\n",
            "Train CE loss (one batch): 0.0\n",
            "Test MSE: 6.584494371963956e-07\n",
            "Poisson likelihood: 0.0\n",
            "CE loss: 0.0\n"
          ]
        },
        {
          "output_type": "stream",
          "name": "stdout",
          "text": [
            "Computing loss... 0\n"
          ]
        },
        {
          "output_type": "stream",
          "name": "stderr",
          "text": [
            "Experiment 43321\n",
            "Epoch 0082 [Test seq (cond on sampled tp)] | Loss -2.929852 | Likelihood 5.591945 | KL fp 5.1690 | FP STD 0.0036|\n",
            "KL coef: 0.5150086297258372\n",
            "Train loss (one batch): -2.7291462421417236\n",
            "Train CE loss (one batch): 0.0\n",
            "Test MSE: 7.937430837046122e-07\n",
            "Poisson likelihood: 0.0\n",
            "CE loss: 0.0\n"
          ]
        },
        {
          "output_type": "stream",
          "name": "stdout",
          "text": [
            "Computing loss... 0\n"
          ]
        },
        {
          "output_type": "stream",
          "name": "stderr",
          "text": [
            "Experiment 43321\n",
            "Epoch 0083 [Test seq (cond on sampled tp)] | Loss -2.854645 | Likelihood 5.631674 | KL fp 5.3419 | FP STD 0.0032|\n",
            "KL coef: 0.5198585434285787\n",
            "Train loss (one batch): -2.689927816390991\n",
            "Train CE loss (one batch): 0.0\n",
            "Test MSE: 7.142858180486655e-07\n",
            "Poisson likelihood: 0.0\n",
            "CE loss: 0.0\n"
          ]
        },
        {
          "output_type": "stream",
          "name": "stdout",
          "text": [
            "Computing loss... 0\n"
          ]
        },
        {
          "output_type": "stream",
          "name": "stderr",
          "text": [
            "Experiment 43321\n",
            "Epoch 0084 [Test seq (cond on sampled tp)] | Loss -2.904582 | Likelihood 5.610213 | KL fp 5.1569 | FP STD 0.0036|\n",
            "KL coef: 0.524659957994293\n",
            "Train loss (one batch): -2.735914945602417\n",
            "Train CE loss (one batch): 0.0\n",
            "Test MSE: 7.572070330752467e-07\n",
            "Poisson likelihood: 0.0\n",
            "CE loss: 0.0\n"
          ]
        },
        {
          "output_type": "stream",
          "name": "stdout",
          "text": [
            "Computing loss... 0\n"
          ]
        },
        {
          "output_type": "stream",
          "name": "stderr",
          "text": [
            "Experiment 43321\n",
            "Epoch 0085 [Test seq (cond on sampled tp)] | Loss -2.757579 | Likelihood 5.580352 | KL fp 5.3319 | FP STD 0.0032|\n",
            "KL coef: 0.5294133584143501\n",
            "Train loss (one batch): -2.6233909130096436\n",
            "Train CE loss (one batch): 0.0\n",
            "Test MSE: 8.169287752934906e-07\n",
            "Poisson likelihood: 0.0\n",
            "CE loss: 0.0\n"
          ]
        },
        {
          "output_type": "stream",
          "name": "stdout",
          "text": [
            "Computing loss... 0\n"
          ]
        },
        {
          "output_type": "stream",
          "name": "stderr",
          "text": [
            "Experiment 43321\n",
            "Epoch 0086 [Test seq (cond on sampled tp)] | Loss -2.841747 | Likelihood 5.615485 | KL fp 5.1931 | FP STD 0.0035|\n",
            "KL coef: 0.5341192248302067\n",
            "Train loss (one batch): -2.560131311416626\n",
            "Train CE loss (one batch): 0.0\n",
            "Test MSE: 7.466633746844309e-07\n",
            "Poisson likelihood: 0.0\n",
            "CE loss: 0.0\n"
          ]
        },
        {
          "output_type": "stream",
          "name": "stdout",
          "text": [
            "Computing loss... 0\n"
          ]
        },
        {
          "output_type": "stream",
          "name": "stderr",
          "text": [
            "Experiment 43321\n",
            "Epoch 0087 [Test seq (cond on sampled tp)] | Loss -2.787469 | Likelihood 5.617439 | KL fp 5.2526 | FP STD 0.0034|\n",
            "KL coef: 0.5387780325819045\n",
            "Train loss (one batch): -2.503145217895508\n",
            "Train CE loss (one batch): 0.0\n",
            "Test MSE: 7.427544232996297e-07\n",
            "Poisson likelihood: 0.0\n",
            "CE loss: 0.0\n"
          ]
        },
        {
          "output_type": "stream",
          "name": "stdout",
          "text": [
            "Computing loss... 0\n"
          ]
        },
        {
          "output_type": "stream",
          "name": "stderr",
          "text": [
            "Experiment 43321\n",
            "Epoch 0088 [Test seq (cond on sampled tp)] | Loss -2.808711 | Likelihood 5.626948 | KL fp 5.1864 | FP STD 0.0035|\n",
            "KL coef: 0.5433902522560855\n",
            "Train loss (one batch): -2.686145544052124\n",
            "Train CE loss (one batch): 0.0\n",
            "Test MSE: 7.237368890855578e-07\n",
            "Poisson likelihood: 0.0\n",
            "CE loss: 0.0\n"
          ]
        },
        {
          "output_type": "stream",
          "name": "stdout",
          "text": [
            "Computing loss... 0\n"
          ]
        },
        {
          "output_type": "stream",
          "name": "stderr",
          "text": [
            "Experiment 43321\n",
            "Epoch 0089 [Test seq (cond on sampled tp)] | Loss -2.748757 | Likelihood 5.639823 | KL fp 5.2761 | FP STD 0.0033|\n",
            "KL coef: 0.5479563497335247\n",
            "Train loss (one batch): -2.5865256786346436\n",
            "Train CE loss (one batch): 0.0\n",
            "Test MSE: 6.979874456192192e-07\n",
            "Poisson likelihood: 0.0\n",
            "CE loss: 0.0\n"
          ]
        },
        {
          "output_type": "stream",
          "name": "stdout",
          "text": [
            "Computing loss... 0\n"
          ]
        },
        {
          "output_type": "stream",
          "name": "stderr",
          "text": [
            "Experiment 43321\n",
            "Epoch 0090 [Test seq (cond on sampled tp)] | Loss -2.731525 | Likelihood 5.562880 | KL fp 5.1248 | FP STD 0.0037|\n",
            "KL coef: 0.5524767862361895\n",
            "Train loss (one batch): -2.8148865699768066\n",
            "Train CE loss (one batch): 0.0\n",
            "Test MSE: 8.518735512552666e-07\n",
            "Poisson likelihood: 0.0\n",
            "CE loss: 0.0\n"
          ]
        },
        {
          "output_type": "stream",
          "name": "stdout",
          "text": [
            "Computing loss... 0\n"
          ]
        },
        {
          "output_type": "stream",
          "name": "stderr",
          "text": [
            "Experiment 43321\n",
            "Epoch 0091 [Test seq (cond on sampled tp)] | Loss -2.694144 | Likelihood 5.599351 | KL fp 5.2163 | FP STD 0.0036|\n",
            "KL coef: 0.5569520183738275\n",
            "Train loss (one batch): -2.6289477348327637\n",
            "Train CE loss (one batch): 0.0\n",
            "Test MSE: 7.789317919559835e-07\n",
            "Poisson likelihood: 0.0\n",
            "CE loss: 0.0\n"
          ]
        },
        {
          "output_type": "stream",
          "name": "stdout",
          "text": [
            "Computing loss... 0\n"
          ]
        },
        {
          "output_type": "stream",
          "name": "stderr",
          "text": [
            "Experiment 43321\n",
            "Epoch 0092 [Test seq (cond on sampled tp)] | Loss -2.640017 | Likelihood 5.506321 | KL fp 5.1058 | FP STD 0.0038|\n",
            "KL coef: 0.5613824981900892\n",
            "Train loss (one batch): -2.707170009613037\n",
            "Train CE loss (one batch): 0.0\n",
            "Test MSE: 9.649907042330597e-07\n",
            "Poisson likelihood: 0.0\n",
            "CE loss: 0.0\n"
          ]
        },
        {
          "output_type": "stream",
          "name": "stdout",
          "text": [
            "Computing loss... 0\n"
          ]
        },
        {
          "output_type": "stream",
          "name": "stderr",
          "text": [
            "Experiment 43321\n",
            "Epoch 0093 [Test seq (cond on sampled tp)] | Loss -2.618610 | Likelihood 5.569491 | KL fp 5.2157 | FP STD 0.0036|\n",
            "KL coef: 0.5657686732081884\n",
            "Train loss (one batch): -2.4005064964294434\n",
            "Train CE loss (one batch): 0.0\n",
            "Test MSE: 8.386511467506352e-07\n",
            "Poisson likelihood: 0.0\n",
            "CE loss: 0.0\n"
          ]
        },
        {
          "output_type": "stream",
          "name": "stdout",
          "text": [
            "Computing loss... 0\n"
          ]
        },
        {
          "output_type": "stream",
          "name": "stderr",
          "text": [
            "Experiment 43321\n",
            "Epoch 0094 [Test seq (cond on sampled tp)] | Loss -2.645037 | Likelihood 5.588508 | KL fp 5.1630 | FP STD 0.0036|\n",
            "KL coef: 0.5701109864761065\n",
            "Train loss (one batch): -2.509093999862671\n",
            "Train CE loss (one batch): 0.0\n",
            "Test MSE: 8.006177836250572e-07\n",
            "Poisson likelihood: 0.0\n",
            "CE loss: 0.0\n"
          ]
        },
        {
          "output_type": "stream",
          "name": "stdout",
          "text": [
            "Computing loss... 0\n"
          ]
        },
        {
          "output_type": "stream",
          "name": "stderr",
          "text": [
            "Experiment 43321\n",
            "Epoch 0095 [Test seq (cond on sampled tp)] | Loss -2.616337 | Likelihood 5.624835 | KL fp 5.2375 | FP STD 0.0034|\n",
            "KL coef: 0.5744098766113455\n",
            "Train loss (one batch): -2.461773633956909\n",
            "Train CE loss (one batch): 0.0\n",
            "Test MSE: 7.279636520252097e-07\n",
            "Poisson likelihood: 0.0\n",
            "CE loss: 0.0\n"
          ]
        },
        {
          "output_type": "stream",
          "name": "stdout",
          "text": [
            "Computing loss... 0\n"
          ]
        },
        {
          "output_type": "stream",
          "name": "stderr",
          "text": [
            "Experiment 43321\n",
            "Epoch 0096 [Test seq (cond on sampled tp)] | Loss -2.609841 | Likelihood 5.592462 | KL fp 5.1543 | FP STD 0.0037|\n",
            "KL coef: 0.578665777845232\n",
            "Train loss (one batch): -2.6673197746276855\n",
            "Train CE loss (one batch): 0.0\n",
            "Test MSE: 7.92709954566817e-07\n",
            "Poisson likelihood: 0.0\n",
            "CE loss: 0.0\n"
          ]
        },
        {
          "output_type": "stream",
          "name": "stdout",
          "text": [
            "Computing loss... 0\n"
          ]
        },
        {
          "output_type": "stream",
          "name": "stderr",
          "text": [
            "Experiment 43321\n",
            "Epoch 0097 [Test seq (cond on sampled tp)] | Loss -2.530452 | Likelihood 5.560168 | KL fp 5.1978 | FP STD 0.0035|\n",
            "KL coef: 0.5828791200667797\n",
            "Train loss (one batch): -2.5635719299316406\n",
            "Train CE loss (one batch): 0.0\n",
            "Test MSE: 8.572968113185198e-07\n",
            "Poisson likelihood: 0.0\n",
            "CE loss: 0.0\n"
          ]
        },
        {
          "output_type": "stream",
          "name": "stdout",
          "text": [
            "Computing loss... 0\n"
          ]
        },
        {
          "output_type": "stream",
          "name": "stderr",
          "text": [
            "Experiment 43321\n",
            "Epoch 0098 [Test seq (cond on sampled tp)] | Loss -2.543632 | Likelihood 5.516716 | KL fp 5.0644 | FP STD 0.0040|\n",
            "KL coef: 0.5870503288661119\n",
            "Train loss (one batch): -2.668185234069824\n",
            "Train CE loss (one batch): 0.0\n",
            "Test MSE: 9.442030091122433e-07\n",
            "Poisson likelihood: 0.0\n",
            "CE loss: 0.0\n"
          ]
        },
        {
          "output_type": "stream",
          "name": "stdout",
          "text": [
            "Computing loss... 0\n"
          ]
        },
        {
          "output_type": "stream",
          "name": "stderr",
          "text": [
            "Experiment 43321\n",
            "Epoch 0099 [Test seq (cond on sampled tp)] | Loss -2.470795 | Likelihood 5.553493 | KL fp 5.2145 | FP STD 0.0035|\n",
            "KL coef: 0.5911798255774507\n",
            "Train loss (one batch): -2.567211151123047\n",
            "Train CE loss (one batch): 0.0\n",
            "Test MSE: 8.706478524800332e-07\n",
            "Poisson likelihood: 0.0\n",
            "CE loss: 0.0\n"
          ]
        },
        {
          "output_type": "stream",
          "name": "stdout",
          "text": [
            "Computing loss... 0\n"
          ]
        },
        {
          "output_type": "stream",
          "name": "stderr",
          "text": [
            "Experiment 43321\n",
            "Epoch 0100 [Test seq (cond on sampled tp)] | Loss -2.521516 | Likelihood 5.568146 | KL fp 5.1181 | FP STD 0.0038|\n",
            "KL coef: 0.5952680273216762\n",
            "Train loss (one batch): -2.47117280960083\n",
            "Train CE loss (one batch): 0.0\n",
            "Test MSE: 8.413417162955739e-07\n",
            "Poisson likelihood: 0.0\n",
            "CE loss: 0.0\n"
          ]
        },
        {
          "output_type": "stream",
          "name": "stdout",
          "text": [
            "Computing loss... 0\n"
          ]
        }
      ]
    },
    {
      "cell_type": "code",
      "metadata": {
        "colab": {
          "base_uri": "https://localhost:8080/"
        },
        "id": "1dZyy6zdARJe",
        "outputId": "ecc69c62-b05e-4e5f-8599-dabf1a2671b5"
      },
      "source": [
        "test_res['pred_y'][0][0].shape"
      ],
      "execution_count": 22,
      "outputs": [
        {
          "output_type": "execute_result",
          "data": {
            "text/plain": [
              "(494, 5, 10)"
            ]
          },
          "metadata": {},
          "execution_count": 22
        }
      ]
    },
    {
      "cell_type": "code",
      "metadata": {
        "id": "xfWim6o0ABUH"
      },
      "source": [
        "train_pred_y_list = []\n",
        "train_true_y_list = []\n",
        "with torch.no_grad():\n",
        "    train_pred_y_list.append(train_res['pred_y'].cpu().numpy())\n",
        "    train_true_y_list.append(train_res['true_y'].cpu().numpy())\n",
        "    test_pred_y_list = test_res['pred_y']\n",
        "    test_true_y_list = test_res['true_y']"
      ],
      "execution_count": 23,
      "outputs": []
    },
    {
      "cell_type": "code",
      "metadata": {
        "colab": {
          "base_uri": "https://localhost:8080/"
        },
        "id": "vmGOoPDQAxtt",
        "outputId": "6cfe37c8-f52f-4296-bcf4-3464017be084"
      },
      "source": [
        "train_pred_y_list[0][0].shape"
      ],
      "execution_count": 24,
      "outputs": [
        {
          "output_type": "execute_result",
          "data": {
            "text/plain": [
              "(50, 5, 10)"
            ]
          },
          "metadata": {},
          "execution_count": 24
        }
      ]
    },
    {
      "cell_type": "code",
      "metadata": {
        "id": "xXfq6eEnmA4l"
      },
      "source": [
        "def plot_train_loss(train_loss_list):\n",
        "    plt.plot(train_loss_list)\n",
        "    plt.title(f\"Train ELBO Loss\")\n",
        "    plt.ylabel('Train ELBO Loss')\n",
        "    plt.xlabel('Epochs')\n",
        "    if not os.path.exists(\"plots/\"):\n",
        "        utils.makedirs(\"plots/\")\n",
        "    plt.savefig(f\"plots/ELBO Train Loss cluster_{cluster}.pdf\", dpi = 150)\n",
        "    plt.show()\n",
        "\n",
        "def plot_test_loss(test_loss_list):\n",
        "    plt.plot(test_loss_list)\n",
        "    plt.title(f\"Test ELBO Loss\")\n",
        "    plt.ylabel('Test ELBO Loss')\n",
        "    plt.xlabel('Epochs')\n",
        "    if not os.path.exists(\"plots/\"):\n",
        "        utils.makedirs(\"plots/\")\n",
        "    plt.savefig(f\"plots/ELBO Test Loss cluster_{cluster}.pdf\", dpi = 150)\n",
        "    plt.show()\n",
        "\n",
        "def plot_train_likelihood(train_likelihood_list):\n",
        "    plt.plot(train_likelihood_list)\n",
        "    plt.title(f\"Train Likelihood\")\n",
        "    plt.ylabel('Train Likelihood')\n",
        "    plt.xlabel('#Batches')\n",
        "    if not os.path.exists(\"plots/\"):\n",
        "        utils.makedirs(\"plots/\")\n",
        "    plt.savefig(f\"plots/Likelihood Train cluster_{cluster}.pdf\", dpi = 150)\n",
        "    plt.show()\n",
        "\n",
        "def plot_test_likelihood(test_likelihood_list):\n",
        "    plt.plot(test_likelihood_list)\n",
        "    plt.title(f\"Test Likelihood\")\n",
        "    plt.ylabel('Test Likelihood')\n",
        "    plt.xlabel('Epochs')\n",
        "    if not os.path.exists(\"plots/\"):\n",
        "        utils.makedirs(\"plots/\")\n",
        "    plt.savefig(f\"plots/Likelihood Test cluster_{cluster}.pdf\", dpi = 150)\n",
        "    plt.show()\n",
        "\n",
        "def plot_train_mse(train_mse_list):\n",
        "    plt.plot(train_mse_list)\n",
        "    plt.title(f\"Train MSE Loss\")\n",
        "    plt.ylabel('Train MSE Loss')\n",
        "    plt.xlabel('Epochs')\n",
        "    if not os.path.exists(\"plots/\"):\n",
        "        utils.makedirs(\"plots/\")\n",
        "    plt.savefig(f\"plots/MSE Loss Train cluster_{cluster}.pdf\", dpi = 150)\n",
        "    plt.show()\n",
        "\n",
        "def plot_test_mse(test_mse_list):\n",
        "    plt.plot(test_mse_list)\n",
        "    plt.title(f\"test MSE Loss\")\n",
        "    plt.ylabel('test MSE Loss')\n",
        "    plt.xlabel('Epochs')\n",
        "    if not os.path.exists(\"plots/\"):\n",
        "        utils.makedirs(\"plots/\")\n",
        "    plt.savefig(f\"plots/MSE Loss Test cluster_{cluster}.pdf\", dpi = 150)\n",
        "    plt.show()"
      ],
      "execution_count": 25,
      "outputs": []
    },
    {
      "cell_type": "markdown",
      "metadata": {
        "id": "TzhnA8xU_wHT"
      },
      "source": [
        "## Plots"
      ]
    },
    {
      "cell_type": "code",
      "metadata": {
        "id": "NjfsNJEyYeLJ"
      },
      "source": [
        "plot_train_loss(train_loss_list)"
      ],
      "execution_count": 26,
      "outputs": []
    },
    {
      "cell_type": "code",
      "metadata": {
        "id": "AZPkaJI0_vqv"
      },
      "source": [
        "plot_test_loss(test_loss_list)"
      ],
      "execution_count": 27,
      "outputs": []
    },
    {
      "cell_type": "code",
      "metadata": {
        "id": "7k4P_ep7BQa9"
      },
      "source": [
        "plot_train_likelihood(train_likelihood_list)"
      ],
      "execution_count": 28,
      "outputs": []
    },
    {
      "cell_type": "code",
      "metadata": {
        "id": "3WvrTlxvBSif"
      },
      "source": [
        "plot_test_likelihood(test_likelihood_list)"
      ],
      "execution_count": 29,
      "outputs": []
    },
    {
      "cell_type": "code",
      "metadata": {
        "id": "hx6k654gBUj5"
      },
      "source": [
        "plot_train_mse(train_mse_list)"
      ],
      "execution_count": 30,
      "outputs": []
    },
    {
      "cell_type": "code",
      "metadata": {
        "id": "IuViIrJzBWd-"
      },
      "source": [
        "plot_test_mse(test_mse_list)"
      ],
      "execution_count": 31,
      "outputs": []
    },
    {
      "cell_type": "markdown",
      "metadata": {
        "id": "7QJJVSCfCQEs"
      },
      "source": [
        "## Save Train Pred_y, Test_y, kl_first_p, std_first_p, kl_coeff_list"
      ]
    },
    {
      "cell_type": "code",
      "metadata": {
        "id": "VumeLhaSBYRy"
      },
      "source": [
        "np.save(f\"train pred y cluster_{cluster}.npy\", train_pred_y_list[0][0])"
      ],
      "execution_count": 32,
      "outputs": []
    },
    {
      "cell_type": "code",
      "metadata": {
        "colab": {
          "base_uri": "https://localhost:8080/"
        },
        "id": "5Gwjaw_yCs0I",
        "outputId": "0e9ee435-8b4b-4d7f-82ed-6fbae4c66a4a"
      },
      "source": [
        "np.load(f\"train pred y cluster_{cluster}.npy\").shape"
      ],
      "execution_count": 33,
      "outputs": [
        {
          "output_type": "execute_result",
          "data": {
            "text/plain": [
              "(50, 5, 10)"
            ]
          },
          "metadata": {},
          "execution_count": 33
        }
      ]
    },
    {
      "cell_type": "code",
      "metadata": {
        "id": "fcS5F20MCvsQ"
      },
      "source": [
        "np.save(f\"test_pred_y_cluster_{cluster}.npy\", train_pred_y_list[0][0])"
      ],
      "execution_count": 34,
      "outputs": []
    },
    {
      "cell_type": "code",
      "metadata": {
        "colab": {
          "base_uri": "https://localhost:8080/"
        },
        "id": "nSDfgsxeDS-B",
        "outputId": "5e081012-7ab3-4daa-8fec-c1a7b0564919"
      },
      "source": [
        "train_true_y_list[0].shape"
      ],
      "execution_count": 35,
      "outputs": [
        {
          "output_type": "execute_result",
          "data": {
            "text/plain": [
              "(50, 5, 10)"
            ]
          },
          "metadata": {},
          "execution_count": 35
        }
      ]
    },
    {
      "cell_type": "code",
      "metadata": {
        "id": "ppolIJF2C_qD"
      },
      "source": [
        "np.save(f\"train_true_y_cluster_{cluster}.npy\", train_true_y_list[0])"
      ],
      "execution_count": 36,
      "outputs": []
    },
    {
      "cell_type": "code",
      "metadata": {
        "colab": {
          "base_uri": "https://localhost:8080/"
        },
        "id": "xqLOllPQDk41",
        "outputId": "8d857a0d-540a-44b4-927b-3bcdda55c7da"
      },
      "source": [
        "test_true_y_list[0].shape"
      ],
      "execution_count": 37,
      "outputs": [
        {
          "output_type": "execute_result",
          "data": {
            "text/plain": [
              "(494, 5, 10)"
            ]
          },
          "metadata": {},
          "execution_count": 37
        }
      ]
    },
    {
      "cell_type": "code",
      "metadata": {
        "id": "m4ZwraTvDeVC"
      },
      "source": [
        "np.save(f\"test_true_y_cluster_{cluster}.npy\", test_true_y_list[0])"
      ],
      "execution_count": 38,
      "outputs": []
    },
    {
      "cell_type": "code",
      "metadata": {
        "colab": {
          "base_uri": "https://localhost:8080/"
        },
        "id": "4FOsakfVD73-",
        "outputId": "201ca011-6323-42a2-f462-4cac4df814b0"
      },
      "source": [
        "train_loss_list"
      ],
      "execution_count": 39,
      "outputs": [
        {
          "output_type": "execute_result",
          "data": {
            "text/plain": [
              "[3276.721435546875,\n",
              " 2920.104248046875,\n",
              " 459.5970153808594,\n",
              " 317.787109375,\n",
              " 318.8835144042969,\n",
              " 316.583740234375,\n",
              " 4629.46435546875,\n",
              " 49526.02734375,\n",
              " 3087.22021484375,\n",
              " 477.6143493652344,\n",
              " 525.015869140625,\n",
              " 477.0356140136719,\n",
              " 327.64276123046875,\n",
              " 259.0085754394531,\n",
              " 213.2834930419922,\n",
              " 162.93572998046875,\n",
              " 142.76637268066406,\n",
              " 118.28882598876953,\n",
              " 87.83150482177734,\n",
              " 82.9603500366211,\n",
              " 61.34634017944336,\n",
              " 61.82337188720703,\n",
              " 51.71488952636719,\n",
              " 47.51041030883789,\n",
              " 45.02055740356445,\n",
              " 41.87656021118164,\n",
              " 38.622474670410156,\n",
              " 36.28941345214844,\n",
              " 33.85711669921875,\n",
              " 26.90667152404785,\n",
              " 25.677431106567383,\n",
              " 24.55046844482422,\n",
              " 18.725433349609375,\n",
              " 17.402971267700195,\n",
              " 16.91893196105957,\n",
              " 16.026756286621094,\n",
              " 12.700539588928223,\n",
              " 10.812397003173828,\n",
              " 7.939135551452637,\n",
              " 3.9030210971832275,\n",
              " 9.508683204650879,\n",
              " 8.603161811828613,\n",
              " 7.048442840576172,\n",
              " 7.413071155548096,\n",
              " 4.697185039520264,\n",
              " 30.92188835144043,\n",
              " 3903.094482421875,\n",
              " 44929.9609375,\n",
              " 2675.652099609375,\n",
              " 20.938106536865234,\n",
              " 42.94910430908203,\n",
              " 62.62202072143555,\n",
              " 66.57353973388672,\n",
              " 95.39639282226562,\n",
              " 98.80622863769531,\n",
              " 81.25309753417969,\n",
              " 82.94266510009766,\n",
              " 72.15803527832031,\n",
              " 50.00540542602539,\n",
              " 34.15717315673828,\n",
              " 23.54314613342285,\n",
              " 14.87160587310791,\n",
              " 14.502497673034668,\n",
              " 14.853787422180176,\n",
              " 17.385080337524414,\n",
              " 20.392187118530273,\n",
              " 24.822729110717773,\n",
              " 26.761659622192383,\n",
              " 27.637123107910156,\n",
              " 25.431787490844727,\n",
              " 22.022979736328125,\n",
              " 20.242145538330078,\n",
              " 16.973678588867188,\n",
              " 13.431890487670898,\n",
              " 10.819110870361328,\n",
              " 9.689565658569336,\n",
              " 7.952539920806885,\n",
              " 7.23402738571167,\n",
              " 4.429346084594727,\n",
              " 0.8104729056358337,\n",
              " 8.663793563842773,\n",
              " 8.131872177124023,\n",
              " 5.677072525024414,\n",
              " 6.438648700714111,\n",
              " 1.6326043605804443,\n",
              " 18.49162483215332,\n",
              " 3526.72216796875,\n",
              " 41162.546875,\n",
              " 2362.4765625,\n",
              " 58.02079772949219,\n",
              " 107.19210815429688,\n",
              " 146.68783569335938,\n",
              " 156.66604614257812,\n",
              " 170.24989318847656,\n",
              " 136.68173217773438,\n",
              " 78.48655700683594,\n",
              " 29.391637802124023,\n",
              " 14.819841384887695,\n",
              " 30.35581398010254,\n",
              " 72.61479187011719,\n",
              " 92.61357879638672,\n",
              " 84.34502410888672,\n",
              " 61.95464324951172,\n",
              " 27.516408920288086,\n",
              " 11.792360305786133,\n",
              " 12.112139701843262,\n",
              " 21.509674072265625,\n",
              " 34.179893493652344,\n",
              " 39.22081756591797,\n",
              " 36.93423843383789,\n",
              " 27.070716857910156,\n",
              " 19.490583419799805,\n",
              " 8.608598709106445,\n",
              " 4.053558349609375,\n",
              " 3.434687376022339,\n",
              " 5.705056667327881,\n",
              " 8.981571197509766,\n",
              " 10.733813285827637,\n",
              " 12.521994590759277,\n",
              " 12.963706016540527,\n",
              " 7.749612331390381,\n",
              " 4.228673458099365,\n",
              " 1.892508625984192,\n",
              " 1.516553282737732,\n",
              " -0.19111500680446625,\n",
              " 18.193405151367188,\n",
              " 2946.6455078125,\n",
              " 35490.76953125,\n",
              " 2028.489013671875,\n",
              " 212.11727905273438,\n",
              " 359.3219909667969,\n",
              " 385.2909240722656,\n",
              " 275.814697265625,\n",
              " 114.32032012939453,\n",
              " 9.365859031677246,\n",
              " 62.26634216308594,\n",
              " 188.79986572265625,\n",
              " 243.13575744628906,\n",
              " 148.30792236328125,\n",
              " 45.712158203125,\n",
              " 7.524270057678223,\n",
              " 28.93260383605957,\n",
              " 73.82621002197266,\n",
              " 92.62909698486328,\n",
              " 87.58840942382812,\n",
              " 67.81068420410156,\n",
              " 35.57007598876953,\n",
              " 14.897871017456055,\n",
              " 4.028534889221191,\n",
              " 3.8476357460021973,\n",
              " 10.792752265930176,\n",
              " 17.928508758544922,\n",
              " 23.48172378540039,\n",
              " 25.98116111755371,\n",
              " 23.51549530029297,\n",
              " 15.641196250915527,\n",
              " 9.947064399719238,\n",
              " 5.790991306304932,\n",
              " 2.0817182064056396,\n",
              " 0.055892422795295715,\n",
              " 1.4263498783111572,\n",
              " 2.362941026687622,\n",
              " 2.675269603729248,\n",
              " 5.067402362823486,\n",
              " 1.528329610824585,\n",
              " 11.706522941589355,\n",
              " 2631.61669921875,\n",
              " 30269.90234375,\n",
              " 1825.497314453125,\n",
              " 153.0171661376953,\n",
              " 275.9012145996094,\n",
              " 346.34014892578125,\n",
              " 269.6456298828125,\n",
              " 136.6793670654297,\n",
              " 14.48507022857666,\n",
              " 39.2670783996582,\n",
              " 188.54354858398438,\n",
              " 239.84600830078125,\n",
              " 140.2095947265625,\n",
              " 26.088069915771484,\n",
              " 6.39957857131958,\n",
              " 60.145301818847656,\n",
              " 117.88302612304688,\n",
              " 112.34225463867188,\n",
              " 63.67409896850586,\n",
              " 17.09568977355957,\n",
              " 1.50904381275177,\n",
              " 15.15429401397705,\n",
              " 42.531707763671875,\n",
              " 50.795013427734375,\n",
              " 35.440345764160156,\n",
              " 27.922565460205078,\n",
              " 10.032319068908691,\n",
              " 1.8469737768173218,\n",
              " 1.3664023876190186,\n",
              " 6.385445594787598,\n",
              " 10.888507843017578,\n",
              " 14.845346450805664,\n",
              " 9.987672805786133,\n",
              " 3.6469597816467285,\n",
              " 8.385586738586426,\n",
              " 3.6517772674560547,\n",
              " -0.20513245463371277,\n",
              " -1.3556432723999023,\n",
              " 0.05511751025915146,\n",
              " 26.04157829284668,\n",
              " 1771.54931640625,\n",
              " 23570.603515625,\n",
              " 1269.2530517578125,\n",
              " 97.84864044189453,\n",
              " 219.6287384033203,\n",
              " 262.2336730957031,\n",
              " 149.41998291015625,\n",
              " 28.859384536743164,\n",
              " 33.83250427246094,\n",
              " 155.80421447753906,\n",
              " 214.09983825683594,\n",
              " 72.71194458007812,\n",
              " 5.71824836730957,\n",
              " 37.46239471435547,\n",
              " 96.08169555664062,\n",
              " 96.31976318359375,\n",
              " 42.047664642333984,\n",
              " 8.560354232788086,\n",
              " 10.146662712097168,\n",
              " 34.28070068359375,\n",
              " 51.426551818847656,\n",
              " 47.27872085571289,\n",
              " 20.167715072631836,\n",
              " 7.24019193649292,\n",
              " 5.496464729309082,\n",
              " 10.780200004577637,\n",
              " 14.255293846130371,\n",
              " 16.262434005737305,\n",
              " 15.655972480773926,\n",
              " 7.819960594177246,\n",
              " 5.073826313018799,\n",
              " -0.34120216965675354,\n",
              " 1.4044475555419922,\n",
              " 2.381470203399658,\n",
              " 2.571545124053955,\n",
              " 3.7794127464294434,\n",
              " 2.0568037033081055,\n",
              " 0.8013014197349548,\n",
              " -1.1146361827850342,\n",
              " 11.861467361450195,\n",
              " 1398.2852783203125,\n",
              " 18141.572265625,\n",
              " 888.9622192382812,\n",
              " 14.218009948730469,\n",
              " 23.494840621948242,\n",
              " 23.46372413635254,\n",
              " 15.756491661071777,\n",
              " 21.628883361816406,\n",
              " 3.652158737182617,\n",
              " -0.7604973912239075,\n",
              " 0.49460387229919434,\n",
              " 3.6588172912597656,\n",
              " 7.991129398345947,\n",
              " 10.907544136047363,\n",
              " 7.603395938873291,\n",
              " 1.860905408859253,\n",
              " -0.5565641522407532,\n",
              " -1.7369146347045898,\n",
              " -1.1518502235412598,\n",
              " 0.6115303039550781,\n",
              " 1.37131667137146,\n",
              " 1.585425853729248,\n",
              " 0.7577056884765625,\n",
              " -0.8389072418212891,\n",
              " -2.4032692909240723,\n",
              " -2.933774948120117,\n",
              " -2.7050693035125732,\n",
              " -1.8933886289596558,\n",
              " -1.2546076774597168,\n",
              " -1.089268684387207,\n",
              " -1.8434820175170898,\n",
              " -2.7637956142425537,\n",
              " -3.4609344005584717,\n",
              " -4.479276180267334,\n",
              " -2.7831435203552246,\n",
              " -2.343543291091919,\n",
              " -2.857813596725464,\n",
              " -2.6365966796875,\n",
              " -4.168960094451904,\n",
              " 7.678467750549316,\n",
              " 1370.715576171875,\n",
              " 14780.1044921875,\n",
              " 684.9674682617188,\n",
              " -0.6872483491897583,\n",
              " -0.986781895160675,\n",
              " -1.8626530170440674,\n",
              " -1.9917598962783813,\n",
              " 18.20869255065918,\n",
              " -3.2807860374450684,\n",
              " -3.4263925552368164,\n",
              " -2.3909435272216797,\n",
              " -1.4414434432983398,\n",
              " -1.7959829568862915,\n",
              " -2.5639941692352295,\n",
              " -2.7758805751800537,\n",
              " -3.5246641635894775,\n",
              " -3.43351411819458,\n",
              " -3.576782703399658,\n",
              " -3.5499632358551025,\n",
              " -3.4490110874176025,\n",
              " -3.3087966442108154,\n",
              " -3.4174444675445557,\n",
              " -3.5980336666107178,\n",
              " -3.77604603767395,\n",
              " -3.886464834213257,\n",
              " -4.042942523956299,\n",
              " -4.229219913482666,\n",
              " -4.462913513183594,\n",
              " -4.178988933563232,\n",
              " -4.05186128616333,\n",
              " -4.210078716278076,\n",
              " -4.430436611175537,\n",
              " -4.915655612945557,\n",
              " -5.094338417053223,\n",
              " -4.182217121124268,\n",
              " -4.336531162261963,\n",
              " -4.760833740234375,\n",
              " -4.664289474487305,\n",
              " -4.272655487060547,\n",
              " 14.164835929870605,\n",
              " 809.0319213867188,\n",
              " 13486.26953125,\n",
              " 651.2323608398438,\n",
              " 51.997840881347656,\n",
              " 95.52495574951172,\n",
              " 99.86681365966797,\n",
              " 43.08130645751953,\n",
              " 5.41717529296875,\n",
              " 15.04908561706543,\n",
              " 73.64256286621094,\n",
              " 78.74065399169922,\n",
              " 16.75880241394043,\n",
              " -1.4604367017745972,\n",
              " 37.58622360229492,\n",
              " 52.11793518066406,\n",
              " 17.10712432861328,\n",
              " -1.773151159286499,\n",
              " 16.129776000976562,\n",
              " 32.41693878173828,\n",
              " 19.686851501464844,\n",
              " 3.737856388092041,\n",
              " 0.04673274978995323,\n",
              " 8.45218276977539,\n",
              " 13.598625183105469,\n",
              " 8.921637535095215,\n",
              " -1.4264521598815918,\n",
              " -2.5270116329193115,\n",
              " 4.038794040679932,\n",
              " 7.371174335479736,\n",
              " 2.1948049068450928,\n",
              " -3.46508526802063,\n",
              " -3.570858955383301,\n",
              " -1.6562752723693848,\n",
              " -0.4389541745185852,\n",
              " 1.2564928531646729,\n",
              " -2.615513324737549,\n",
              " -4.451480388641357,\n",
              " -3.0906333923339844,\n",
              " 0.025753596797585487,\n",
              " 7.912380695343018,\n",
              " 4623.40966796875,\n",
              " 12468.81640625,\n",
              " 556.6898803710938,\n",
              " 78.12541198730469,\n",
              " 90.10911560058594,\n",
              " 98.584228515625,\n",
              " 108.07218170166016,\n",
              " 140.73492431640625,\n",
              " 85.7658462524414,\n",
              " 70.2953872680664,\n",
              " 59.78036117553711,\n",
              " 47.68693161010742,\n",
              " 37.706207275390625,\n",
              " 30.173988342285156,\n",
              " 21.42556381225586,\n",
              " 18.31132698059082,\n",
              " 14.007908821105957,\n",
              " 9.977289199829102,\n",
              " 8.30691909790039,\n",
              " 8.050803184509277,\n",
              " 6.335204124450684,\n",
              " 7.520689487457275,\n",
              " 5.385024070739746,\n",
              " 4.718092441558838,\n",
              " 4.143995761871338,\n",
              " 4.836509704589844,\n",
              " 2.247253894805908,\n",
              " 2.661684513092041,\n",
              " 1.747762680053711,\n",
              " 1.0523207187652588,\n",
              " 0.3714020848274231,\n",
              " -0.5526403188705444,\n",
              " -1.4868212938308716,\n",
              " -2.0680899620056152,\n",
              " -1.4205230474472046,\n",
              " -1.9795069694519043,\n",
              " -2.9695873260498047,\n",
              " -2.815504789352417,\n",
              " -2.369407892227173,\n",
              " 29.344465255737305,\n",
              " 3574.476806640625,\n",
              " 30920.583984375,\n",
              " 1970.261474609375,\n",
              " 0.22661007940769196,\n",
              " 6.474495887756348,\n",
              " 8.636834144592285,\n",
              " 6.794383525848389,\n",
              " 37.506858825683594,\n",
              " 20.191028594970703,\n",
              " 19.609628677368164,\n",
              " 26.076534271240234,\n",
              " 26.84480094909668,\n",
              " 27.45033073425293,\n",
              " 23.415712356567383,\n",
              " 24.49468994140625,\n",
              " 21.23790168762207,\n",
              " 19.609384536743164,\n",
              " 13.487716674804688,\n",
              " 10.42045783996582,\n",
              " 6.816666603088379,\n",
              " 3.256685972213745,\n",
              " 1.097362995147705,\n",
              " -1.1216274499893188,\n",
              " -2.373109817504883,\n",
              " -3.5487444400787354,\n",
              " -4.071983337402344,\n",
              " -4.222933769226074,\n",
              " -3.600799083709717,\n",
              " -3.349168539047241,\n",
              " -2.749725818634033,\n",
              " -1.9392226934432983,\n",
              " -1.1868678331375122,\n",
              " 0.7843039631843567,\n",
              " 3.3730287551879883,\n",
              " -1.9583673477172852,\n",
              " -2.0828025341033936,\n",
              " -2.1023714542388916,\n",
              " -2.762814521789551,\n",
              " -0.3006998896598816,\n",
              " 32.26377868652344,\n",
              " 2524.4541015625,\n",
              " 17756.611328125,\n",
              " 839.7989501953125,\n",
              " 10.940420150756836,\n",
              " 28.336057662963867,\n",
              " 48.39832305908203,\n",
              " 51.22421646118164,\n",
              " 75.00366973876953,\n",
              " 89.70758056640625,\n",
              " 81.1856460571289,\n",
              " 78.39009857177734,\n",
              " 59.98872375488281,\n",
              " 33.59617233276367,\n",
              " 14.864734649658203,\n",
              " 2.4800729751586914,\n",
              " -2.8836820125579834,\n",
              " 0.6035712957382202,\n",
              " 9.592159271240234,\n",
              " 20.66691017150879,\n",
              " 29.66144561767578,\n",
              " 30.005199432373047,\n",
              " 27.46756935119629,\n",
              " 16.236251831054688,\n",
              " 7.336410999298096,\n",
              " -0.08583605289459229,\n",
              " -3.5578813552856445,\n",
              " -3.519162654876709,\n",
              " -1.4332505464553833,\n",
              " 3.290013074874878,\n",
              " 5.248745918273926,\n",
              " 6.22733211517334,\n",
              " 4.767714500427246,\n",
              " 0.841638445854187,\n",
              " -2.9697678089141846,\n",
              " -1.372930645942688,\n",
              " -3.643188714981079,\n",
              " -4.896016597747803,\n",
              " -4.559450149536133,\n",
              " -2.6937198638916016,\n",
              " 20.553377151489258,\n",
              " 1052.07470703125,\n",
              " 10885.7001953125,\n",
              " 437.8665466308594,\n",
              " 20.626514434814453,\n",
              " 56.37166213989258,\n",
              " 71.2137222290039,\n",
              " 65.17439270019531,\n",
              " 61.311798095703125,\n",
              " 44.834442138671875,\n",
              " 17.67915916442871,\n",
              " 7.144950866699219,\n",
              " 6.775547981262207,\n",
              " 14.093265533447266,\n",
              " 25.443462371826172,\n",
              " 32.9135856628418,\n",
              " 29.670135498046875,\n",
              " 16.904407501220703,\n",
              " 5.514171123504639,\n",
              " -0.8466668128967285,\n",
              " -0.39469167590141296,\n",
              " 2.957732915878296,\n",
              " 7.588665008544922,\n",
              " 11.239601135253906,\n",
              " 10.66312026977539,\n",
              " 6.104231357574463,\n",
              " 0.7706958651542664,\n",
              " -2.6481378078460693,\n",
              " -3.36510968208313,\n",
              " -2.1733133792877197,\n",
              " 1.1061272621154785,\n",
              " 0.928234338760376,\n",
              " 0.7809770107269287,\n",
              " -0.41432875394821167,\n",
              " -2.3801465034484863,\n",
              " -4.005997180938721,\n",
              " -4.211405277252197,\n",
              " -3.7934155464172363,\n",
              " -2.992335081100464,\n",
              " -3.0166146755218506,\n",
              " 2.544830560684204,\n",
              " 943.8807983398438,\n",
              " 9202.82421875,\n",
              " 376.1721496582031,\n",
              " -2.0131397247314453,\n",
              " -0.7181417942047119,\n",
              " -2.3376195430755615,\n",
              " -2.89736008644104,\n",
              " 8.601408958435059,\n",
              " -2.907681465148926,\n",
              " -3.520387649536133,\n",
              " -3.3097448348999023,\n",
              " -2.9725236892700195,\n",
              " -3.072782278060913,\n",
              " -3.7029659748077393,\n",
              " -3.5704574584960938,\n",
              " -4.01794958114624,\n",
              " -4.134873867034912,\n",
              " -4.225771903991699,\n",
              " -4.4083943367004395,\n",
              " -4.502011775970459,\n",
              " -4.682940483093262,\n",
              " -4.4950642585754395,\n",
              " -4.466572284698486,\n",
              " -4.394655227661133,\n",
              " -4.439216136932373,\n",
              " -4.517207622528076,\n",
              " -4.597164154052734,\n",
              " -4.794805526733398,\n",
              " -4.6113715171813965,\n",
              " -4.550404071807861,\n",
              " -4.696455955505371,\n",
              " -4.731361389160156,\n",
              " -4.742527484893799,\n",
              " -4.4060211181640625,\n",
              " -4.480062961578369,\n",
              " -4.591465950012207,\n",
              " -4.7957329750061035,\n",
              " -4.678257465362549,\n",
              " -4.309375286102295,\n",
              " 7.883041858673096,\n",
              " 669.8109741210938,\n",
              " 8568.013671875,\n",
              " 396.2168273925781,\n",
              " 9.586359024047852,\n",
              " 22.93023109436035,\n",
              " 27.28263282775879,\n",
              " 20.45743179321289,\n",
              " 20.61675453186035,\n",
              " 11.887415885925293,\n",
              " 3.569064140319824,\n",
              " -0.48624831438064575,\n",
              " -1.0357797145843506,\n",
              " 1.6383124589920044,\n",
              " 5.995275020599365,\n",
              " 8.44525146484375,\n",
              " 9.59281063079834,\n",
              " 6.20947265625,\n",
              " 2.069613456726074,\n",
              " -1.277588129043579,\n",
              " -3.448420286178589,\n",
              " -3.7229790687561035,\n",
              " -2.3419320583343506,\n",
              " -0.9260684847831726,\n",
              " 0.6514431238174438,\n",
              " 0.619569718837738,\n",
              " -0.8413442373275757,\n",
              " -2.4952335357666016,\n",
              " -4.088181495666504,\n",
              " -4.361888408660889,\n",
              " -4.256986618041992,\n",
              " -3.5538806915283203,\n",
              " -3.2311244010925293,\n",
              " -1.9504997730255127,\n",
              " -1.9971848726272583,\n",
              " -3.9747636318206787,\n",
              " -4.5007219314575195,\n",
              " -4.899537086486816,\n",
              " -4.753412246704102,\n",
              " -4.800522804260254,\n",
              " 0.5353100895881653,\n",
              " 1011.1265869140625,\n",
              " 7489.81689453125,\n",
              " 309.7510681152344,\n",
              " -4.791016101837158,\n",
              " -4.472297668457031,\n",
              " -4.4907073974609375,\n",
              " -2.9369020462036133,\n",
              " 10.257810592651367,\n",
              " -4.271145343780518,\n",
              " -4.390904426574707,\n",
              " -4.373814582824707,\n",
              " -4.147877216339111,\n",
              " -4.164953231811523,\n",
              " -4.286258220672607,\n",
              " -4.155239582061768,\n",
              " -4.4688825607299805,\n",
              " -4.1594133377075195,\n",
              " -4.163597583770752,\n",
              " -4.352502346038818,\n",
              " -4.417463302612305,\n",
              " -4.560246467590332,\n",
              " -4.525558948516846,\n",
              " -4.539825439453125,\n",
              " -4.5246453285217285,\n",
              " -4.540472030639648,\n",
              " -4.607000350952148,\n",
              " -4.597335338592529,\n",
              " -4.665821075439453,\n",
              " -4.614573955535889,\n",
              " -4.669075965881348,\n",
              " -4.691675186157227,\n",
              " -4.819769382476807,\n",
              " -4.747513294219971,\n",
              " -4.529814720153809,\n",
              " -4.590103626251221,\n",
              " -4.6037068367004395,\n",
              " -4.804927349090576,\n",
              " -4.665640830993652,\n",
              " -4.678671836853027,\n",
              " 8.155899047851562,\n",
              " 484.2742004394531,\n",
              " 7916.111328125,\n",
              " 261.5606689453125,\n",
              " 15.850726127624512,\n",
              " 31.6286678314209,\n",
              " 41.997127532958984,\n",
              " 34.9471549987793,\n",
              " 32.418758392333984,\n",
              " 20.89867401123047,\n",
              " 5.945476055145264,\n",
              " -1.320320725440979,\n",
              " -2.1973726749420166,\n",
              " 2.3617897033691406,\n",
              " 10.793106079101562,\n",
              " 14.957758903503418,\n",
              " 14.46093463897705,\n",
              " 10.009519577026367,\n",
              " 4.8813557624816895,\n",
              " -1.7826623916625977,\n",
              " -4.152362823486328,\n",
              " -2.7867047786712646,\n",
              " 0.44025951623916626,\n",
              " 3.3847427368164062,\n",
              " 4.931850910186768,\n",
              " 2.2188329696655273,\n",
              " -0.028789609670639038,\n",
              " -2.8956127166748047,\n",
              " -4.4988017082214355,\n",
              " -4.260760307312012,\n",
              " -2.966695785522461,\n",
              " -1.4712778329849243,\n",
              " -1.1747289896011353,\n",
              " -0.31591156125068665,\n",
              " -1.0838433504104614,\n",
              " -4.053755283355713,\n",
              " -4.693031311035156,\n",
              " -4.7252631187438965,\n",
              " -3.8542909622192383,\n",
              " -4.066356182098389,\n",
              " -0.25506994128227234,\n",
              " 1257.6947021484375,\n",
              " 6723.37158203125,\n",
              " 245.79034423828125,\n",
              " -1.6072126626968384,\n",
              " 0.24990588426589966,\n",
              " 1.4879908561706543,\n",
              " 6.614511013031006,\n",
              " 21.958763122558594,\n",
              " 0.029579490423202515,\n",
              " -1.5030848979949951,\n",
              " -2.461981773376465,\n",
              " -1.698538064956665,\n",
              " -1.7578067779541016,\n",
              " -1.4484491348266602,\n",
              " -0.9599202275276184,\n",
              " -1.172844648361206,\n",
              " -0.38913390040397644,\n",
              " -0.7734811305999756,\n",
              " -1.3403489589691162,\n",
              " -2.4812097549438477,\n",
              " -2.9665544033050537,\n",
              " -3.0885868072509766,\n",
              " -3.457519054412842,\n",
              " -3.711777448654175,\n",
              " -3.8603765964508057,\n",
              " -3.790165424346924,\n",
              " -3.972175359725952,\n",
              " -3.916823387145996,\n",
              " -3.912968873977661,\n",
              " -3.838418960571289,\n",
              " -3.8155529499053955,\n",
              " -3.971113681793213,\n",
              " -3.3775808811187744,\n",
              " -2.713391065597534,\n",
              " -4.365231513977051,\n",
              " -4.460372447967529,\n",
              " -4.580321788787842,\n",
              " -4.553539752960205,\n",
              " -4.094148635864258,\n",
              " 12.309072494506836,\n",
              " 766.5895385742188,\n",
              " 7861.50244140625,\n",
              " 274.8429870605469,\n",
              " 28.94147491455078,\n",
              " 53.80202865600586,\n",
              " 71.30524444580078,\n",
              " 66.880126953125,\n",
              " 67.5812759399414,\n",
              " 56.53123092651367,\n",
              " 31.697649002075195,\n",
              " 10.078851699829102,\n",
              " -0.9374642372131348,\n",
              " 3.2796175479888916,\n",
              " 19.5408935546875,\n",
              " 33.624969482421875,\n",
              " 38.92471694946289,\n",
              " 30.28076171875,\n",
              " 13.128007888793945,\n",
              " 1.5745975971221924,\n",
              " -3.300340175628662,\n",
              " 0.6393561959266663,\n",
              " 8.423643112182617,\n",
              " 13.737725257873535,\n",
              " 12.509822845458984,\n",
              " 8.735322952270508,\n",
              " 1.1287126541137695,\n",
              " -3.212507486343384,\n",
              " -4.219761848449707,\n",
              " -1.8260438442230225,\n",
              " 1.6083287000656128,\n",
              " 3.632992744445801,\n",
              " 3.289616107940674,\n",
              " 1.085852861404419,\n",
              " -1.8158670663833618,\n",
              " -4.275265693664551,\n",
              " -3.7096948623657227,\n",
              " -2.757354497909546,\n",
              " -0.9955718517303467,\n",
              " -1.7529475688934326,\n",
              " -0.13426780700683594,\n",
              " 1503.583740234375,\n",
              " 6104.83447265625,\n",
              " 216.2290802001953,\n",
              " 9.495967864990234,\n",
              " 15.488602638244629,\n",
              " 15.86160659790039,\n",
              " 22.339942932128906,\n",
              " 36.50177764892578,\n",
              " 6.566927909851074,\n",
              " 2.8807525634765625,\n",
              " 0.6991903185844421,\n",
              " -0.006919801235198975,\n",
              " 0.17589300870895386,\n",
              " 0.38384315371513367,\n",
              " 1.8230645656585693,\n",
              " 1.4259061813354492,\n",
              " 2.840496778488159,\n",
              " 3.2669191360473633,\n",
              " 1.7404465675354004,\n",
              " 0.822140097618103,\n",
              " -0.6901772022247314,\n",
              " -1.2160202264785767,\n",
              " -1.633960247039795,\n",
              " -2.7976303100585938,\n",
              " -3.1072163581848145,\n",
              " -3.687917709350586,\n",
              " -3.839702606201172,\n",
              " -3.8757882118225098,\n",
              " -3.7051703929901123,\n",
              " -3.5668718814849854,\n",
              " -3.5028469562530518,\n",
              " -3.3274056911468506,\n",
              " -2.3212943077087402,\n",
              " -1.1441161632537842,\n",
              " -3.593357563018799,\n",
              " -3.873347282409668,\n",
              " -3.8968567848205566,\n",
              " -4.0992431640625,\n",
              " -2.7680625915527344,\n",
              " 17.55046844482422,\n",
              " 1229.941650390625,\n",
              " 8328.2236328125,\n",
              " 287.70916748046875,\n",
              " 19.858959197998047,\n",
              " 41.88414001464844,\n",
              " 59.285274505615234,\n",
              " 61.744205474853516,\n",
              " 70.54345703125,\n",
              " 73.48389434814453,\n",
              " 53.549560546875,\n",
              " 30.82427978515625,\n",
              " 12.694254875183105,\n",
              " -0.7396153211593628,\n",
              " -1.4368040561676025,\n",
              " 7.518702507019043,\n",
              " 25.063533782958984,\n",
              " 31.47643280029297,\n",
              " 30.225263595581055,\n",
              " 22.99163246154785,\n",
              " 13.56314754486084,\n",
              " 2.33510684967041,\n",
              " -3.5575478076934814,\n",
              " -2.3473098278045654,\n",
              " 3.4868040084838867,\n",
              " 10.517621040344238,\n",
              " 12.36148452758789,\n",
              " 9.013632774353027,\n",
              " 4.507299423217773,\n",
              " 0.7152600288391113,\n",
              " -2.9011390209198,\n",
              " -4.495760917663574,\n",
              " -3.826235771179199,\n",
              " -0.24480313062667847,\n",
              " 1.8500878810882568,\n",
              " 0.022000014781951904,\n",
              " -0.9571318626403809,\n",
              " -0.8661093711853027,\n",
              " -0.9135017991065979,\n",
              " -1.7669975757598877,\n",
              " 7.548727035522461,\n",
              " 727.645751953125,\n",
              " 5437.69287109375,\n",
              " 173.39906311035156,\n",
              " 0.7145509123802185,\n",
              " 0.49294522404670715,\n",
              " 0.0930899977684021,\n",
              " -1.7001385688781738,\n",
              " 11.157927513122559,\n",
              " -2.8500447273254395,\n",
              " -3.669825315475464,\n",
              " -4.033262252807617,\n",
              " -4.124955177307129,\n",
              " -4.2022504806518555,\n",
              " -3.8919012546539307,\n",
              " -3.6696276664733887,\n",
              " -3.159238815307617,\n",
              " -3.3703298568725586,\n",
              " -3.5821382999420166,\n",
              " -3.607423782348633,\n",
              " -3.78462815284729,\n",
              " -3.8915657997131348,\n",
              " -3.9302515983581543,\n",
              " -4.186614990234375,\n",
              " -4.178877830505371,\n",
              " -4.286227226257324,\n",
              " -4.302148342132568,\n",
              " -4.4759626388549805,\n",
              " -4.668036937713623,\n",
              " -4.521731376647949,\n",
              " -4.511104106903076,\n",
              " -4.651972770690918,\n",
              " -4.784964084625244,\n",
              " -4.83696985244751,\n",
              " -4.520509243011475,\n",
              " -4.6465582847595215,\n",
              " -4.674751281738281,\n",
              " -4.817411422729492,\n",
              " -4.7578444480896,\n",
              " -4.202663898468018,\n",
              " 8.776726722717285,\n",
              " 426.9645690917969,\n",
              " 5398.71240234375,\n",
              " 156.72360229492188,\n",
              " 12.551714897155762,\n",
              " 26.11968231201172,\n",
              " 33.93913650512695,\n",
              " 27.128541946411133,\n",
              " 25.885272979736328,\n",
              " 19.70943832397461,\n",
              " 8.322851181030273,\n",
              " 0.6541971564292908,\n",
              " -2.197296619415283,\n",
              " 0.1665268838405609,\n",
              " 6.664093971252441,\n",
              " 10.689981460571289,\n",
              " 13.337562561035156,\n",
              " 8.32995891571045,\n",
              " 4.664654731750488,\n",
              " -0.5323165655136108,\n",
              " -3.189333915710449,\n",
              " -4.051602363586426,\n",
              " -1.899869680404663,\n",
              " 0.5899344682693481,\n",
              " 1.61818265914917,\n",
              " 1.100938081741333,\n",
              " -0.3329331874847412,\n",
              " -2.4184603691101074,\n",
              " -4.188665390014648,\n",
              " -4.473549842834473,\n",
              " -4.114654064178467,\n",
              " -2.795346975326538,\n",
              " -2.2021987438201904,\n",
              " -1.5756213665008545,\n",
              " -1.1017820835113525,\n",
              " -3.5559515953063965,\n",
              " -4.2886881828308105,\n",
              " -4.588783264160156,\n",
              " -4.335312843322754,\n",
              " -4.373375415802002,\n",
              " -1.318721055984497,\n",
              " 961.3701171875,\n",
              " 4756.2939453125,\n",
              " 128.78631591796875,\n",
              " -2.6780312061309814,\n",
              " -1.0321366786956787,\n",
              " -0.47363001108169556,\n",
              " 3.629039764404297,\n",
              " 16.06517219543457,\n",
              " -1.3522427082061768,\n",
              " -2.063098669052124,\n",
              " -3.104745388031006,\n",
              " -2.883371353149414,\n",
              " -2.1400530338287354,\n",
              " -2.683114528656006,\n",
              " -1.9038639068603516,\n",
              " -1.9799578189849854,\n",
              " -1.7137348651885986,\n",
              " -1.8809151649475098,\n",
              " -2.678420066833496,\n",
              " -3.1651182174682617,\n",
              " -3.778593063354492,\n",
              " -3.870784282684326,\n",
              " -3.91933274269104,\n",
              " -4.203193664550781,\n",
              " -4.1275410652160645,\n",
              " -4.054176330566406,\n",
              " -4.005053997039795,\n",
              " -3.830129861831665,\n",
              " -3.8965907096862793,\n",
              " -4.030669212341309,\n",
              " -4.120073318481445,\n",
              " -4.082641124725342,\n",
              " -3.6541941165924072,\n",
              " -2.989866256713867,\n",
              " -4.3180084228515625,\n",
              " -4.285034656524658,\n",
              " -4.3742241859436035,\n",
              " -4.1908440589904785,\n",
              " -4.006875038146973,\n",
              " 9.20857048034668,\n",
              " 479.0589904785156,\n",
              " 5409.9443359375,\n",
              " 143.38714599609375,\n",
              " 18.871505737304688,\n",
              " 34.98006820678711,\n",
              " 45.894371032714844,\n",
              " 41.206031799316406,\n",
              " 38.699642181396484,\n",
              " 29.51654052734375,\n",
              " 13.222122192382812,\n",
              " 2.670513868331909,\n",
              " -2.3436899185180664,\n",
              " -0.24429941177368164,\n",
              " 9.008916854858398,\n",
              " 15.280848503112793,\n",
              " 18.93292999267578,\n",
              " 17.850250244140625,\n",
              " 8.807538986206055,\n",
              " 2.2074594497680664,\n",
              " -2.213430404663086,\n",
              " -4.098656177520752,\n",
              " -1.941373348236084,\n",
              " 2.1904308795928955,\n",
              " 4.6790771484375,\n",
              " 5.1717000007629395,\n",
              " 3.4312500953674316,\n",
              " 0.025752663612365723,\n",
              " -2.84548020362854,\n",
              " -4.269251823425293,\n",
              " -4.109870433807373,\n",
              " -3.046621799468994,\n",
              " -1.3340418338775635,\n",
              " 0.7714694738388062,\n",
              " 1.011561632156372,\n",
              " ...]"
            ]
          },
          "metadata": {},
          "execution_count": 39
        }
      ]
    },
    {
      "cell_type": "code",
      "metadata": {
        "id": "K8iM1vIvDoCk"
      },
      "source": [
        "np.save(f\"train_elboloss_cluster_{cluster}.npy\", train_loss_list)"
      ],
      "execution_count": 40,
      "outputs": []
    },
    {
      "cell_type": "code",
      "metadata": {
        "colab": {
          "base_uri": "https://localhost:8080/"
        },
        "id": "xAlIUPE5EHPv",
        "outputId": "74d1af08-7c7f-4d48-d76d-3cf2e0a16e69"
      },
      "source": [
        "len(test_loss_list)"
      ],
      "execution_count": 41,
      "outputs": [
        {
          "output_type": "execute_result",
          "data": {
            "text/plain": [
              "100"
            ]
          },
          "metadata": {},
          "execution_count": 41
        }
      ]
    },
    {
      "cell_type": "code",
      "metadata": {
        "colab": {
          "base_uri": "https://localhost:8080/",
          "height": 295
        },
        "id": "T2dVE07rEJFA",
        "outputId": "1c35955a-578d-4af6-aaea-6cde99a4c7e0"
      },
      "source": [
        "%matplotlib inline\n",
        "plt.plot(test_loss_list)\n",
        "plt.title(f\"Test ELBO Loss\")\n",
        "plt.ylabel('Test ELBO Loss')\n",
        "plt.xlabel('Epochs')\n",
        "if not os.path.exists(\"plots/\"):\n",
        "    utils.makedirs(\"plots/\")\n",
        "plt.savefig(f\"plots/ELBO Test Loss cluster_{cluster}.pdf\", dpi = 150)\n",
        "plt.show()"
      ],
      "execution_count": 42,
      "outputs": [
        {
          "output_type": "display_data",
          "data": {
            "image/png": "[encoded data removed]",
            "text/plain": [
              "<Figure size 432x288 with 1 Axes>"
            ]
          },
          "metadata": {
            "needs_background": "light"
          }
        }
      ]
    },
    {
      "cell_type": "code",
      "metadata": {
        "colab": {
          "base_uri": "https://localhost:8080/",
          "height": 295
        },
        "id": "1lWIEN6XEmxa",
        "outputId": "3cadc4e0-51d8-4af7-e5a7-a9269e08eecf"
      },
      "source": [
        "plt.plot(train_loss_list)\n",
        "plt.title(f\"Train ELBO Loss\")\n",
        "plt.ylabel('Train ELBO Loss')\n",
        "plt.xlabel('Epochs')\n",
        "if not os.path.exists(\"plots/\"):\n",
        "    utils.makedirs(\"plots/\")\n",
        "plt.savefig(f\"plots/ELBO Train Loss cluster_{cluster}.pdf\", dpi = 150)\n",
        "plt.show()"
      ],
      "execution_count": 43,
      "outputs": [
        {
          "output_type": "display_data",
          "data": {
            "image/png": "[encoded data removed]",
            "text/plain": [
              "<Figure size 432x288 with 1 Axes>"
            ]
          },
          "metadata": {
            "needs_background": "light"
          }
        }
      ]
    },
    {
      "cell_type": "code",
      "metadata": {
        "colab": {
          "base_uri": "https://localhost:8080/",
          "height": 295
        },
        "id": "ILPUH3qsE2ZX",
        "outputId": "58ba5bf3-b426-4679-9caf-1ba80f42ed83"
      },
      "source": [
        "plt.plot(train_likelihood_list)\n",
        "plt.title(f\"Train Likelihood\")\n",
        "plt.ylabel('Train Likelihood')\n",
        "plt.xlabel('#Batches')\n",
        "if not os.path.exists(\"plots/\"):\n",
        "    utils.makedirs(\"plots/\")\n",
        "plt.savefig(f\"plots/Likelihood Train cluster_{cluster}.pdf\", dpi = 150)\n",
        "plt.show()"
      ],
      "execution_count": 44,
      "outputs": [
        {
          "output_type": "display_data",
          "data": {
            "image/png": "[encoded data removed]",
            "text/plain": [
              "<Figure size 432x288 with 1 Axes>"
            ]
          },
          "metadata": {
            "needs_background": "light"
          }
        }
      ]
    },
    {
      "cell_type": "code",
      "metadata": {
        "colab": {
          "base_uri": "https://localhost:8080/",
          "height": 295
        },
        "id": "vX3R8sncFI90",
        "outputId": "d2a3e582-c707-4083-e792-fa1d5178ea27"
      },
      "source": [
        "plt.plot(test_likelihood_list)\n",
        "plt.title(f\"Test Likelihood\")\n",
        "plt.ylabel('Test Likelihood')\n",
        "plt.xlabel('Epochs')\n",
        "if not os.path.exists(\"plots/\"):\n",
        "    utils.makedirs(\"plots/\")\n",
        "plt.savefig(f\"plots/Likelihood Test cluster_{cluster}.pdf\", dpi = 150)\n",
        "plt.show()"
      ],
      "execution_count": 45,
      "outputs": [
        {
          "output_type": "display_data",
          "data": {
            "image/png": "[encoded data removed]",
            "text/plain": [
              "<Figure size 432x288 with 1 Axes>"
            ]
          },
          "metadata": {
            "needs_background": "light"
          }
        }
      ]
    },
    {
      "cell_type": "code",
      "metadata": {
        "colab": {
          "base_uri": "https://localhost:8080/",
          "height": 295
        },
        "id": "yerz5IScFW7u",
        "outputId": "1eaf55e7-ebb0-4779-cd59-800e69cb9679"
      },
      "source": [
        "plt.plot(train_mse_list)\n",
        "plt.title(f\"Train MSE Loss\")\n",
        "plt.ylabel('Train MSE Loss')\n",
        "plt.xlabel('Epochs')\n",
        "if not os.path.exists(\"plots/\"):\n",
        "    utils.makedirs(\"plots/\")\n",
        "plt.savefig(f\"plots/MSE Loss Train cluster_{cluster}.pdf\", dpi = 150)\n",
        "plt.show()"
      ],
      "execution_count": 46,
      "outputs": [
        {
          "output_type": "display_data",
          "data": {
            "image/png": "[encoded data removed]",
            "text/plain": [
              "<Figure size 432x288 with 1 Axes>"
            ]
          },
          "metadata": {
            "needs_background": "light"
          }
        }
      ]
    },
    {
      "cell_type": "code",
      "metadata": {
        "colab": {
          "base_uri": "https://localhost:8080/",
          "height": 295
        },
        "id": "WpGef5KWFdfT",
        "outputId": "5aded9ca-027b-46d3-ea40-db8890b9578d"
      },
      "source": [
        "plt.plot(test_mse_list)\n",
        "plt.title(f\"test MSE Loss\")\n",
        "plt.ylabel('test MSE Loss')\n",
        "plt.xlabel('Epochs')\n",
        "if not os.path.exists(\"plots/\"):\n",
        "    utils.makedirs(\"plots/\")\n",
        "plt.savefig(f\"plots/MSE Loss Test cluster_{cluster}.pdf\", dpi = 150)\n",
        "plt.show()"
      ],
      "execution_count": 47,
      "outputs": [
        {
          "output_type": "display_data",
          "data": {
            "image/png": "[encoded data removed]",
            "text/plain": [
              "<Figure size 432x288 with 1 Axes>"
            ]
          },
          "metadata": {
            "needs_background": "light"
          }
        }
      ]
    },
    {
      "cell_type": "code",
      "metadata": {
        "id": "Oj6OnGfKFoFG"
      },
      "source": [
        "np.save(f\"test_elboloss_cluster_{cluster}.npy\", test_loss_list)"
      ],
      "execution_count": 48,
      "outputs": []
    },
    {
      "cell_type": "code",
      "metadata": {
        "id": "orWx90auGH9n"
      },
      "source": [
        "np.save(f\"train_likelihood_cluster_{cluster}.npy\", train_likelihood_list)\n",
        "np.save(f\"test_likelihood_cluster_{cluster}.npy\", test_likelihood_list)\n",
        "np.save(f\"train_mse_cluster_{cluster}.npy\", train_mse_list)\n",
        "np.save(f\"test_mse_cluster_{cluster}.npy\", test_mse_list)\n",
        "np.save(f\"train_kl_first_p_cluster_{cluster}.npy\", train_kl_first_p_list)\n",
        "np.save(f\"test_kl_first_p_cluster_{cluster}.npy\", test_kl_first_p_list)\n",
        "np.save(f\"train_std_first_p_cluster_{cluster}.npy\", train_std_first_p_list)\n",
        "np.save(f\"test_std_first_p_cluster_{cluster}.npy\", test_std_first_p_list)"
      ],
      "execution_count": 49,
      "outputs": []
    },
    {
      "cell_type": "code",
      "metadata": {
        "id": "pXNcWkhqGR-0"
      },
      "source": [
        "np.save(f\"kl_coef_cluster_{cluster}.npy\", kl_coef_list)"
      ],
      "execution_count": 50,
      "outputs": []
    },
    {
      "cell_type": "code",
      "metadata": {
        "colab": {
          "base_uri": "https://localhost:8080/",
          "height": 295
        },
        "id": "BEt3CIogHfUY",
        "outputId": "5132fb66-ae21-44b4-8d4c-8e72fbe59c7d"
      },
      "source": [
        "plt.plot(train_kl_first_p_list)\n",
        "plt.title(f\"Train KL divergence\")\n",
        "plt.ylabel('Train KL divergence')\n",
        "plt.xlabel('Epochs')\n",
        "if not os.path.exists(\"plots/\"):\n",
        "    utils.makedirs(\"plots/\")\n",
        "plt.savefig(f\"plots/KL Divergence Train cluster_{cluster}.pdf\", dpi = 150)\n",
        "plt.show()"
      ],
      "execution_count": 51,
      "outputs": [
        {
          "output_type": "display_data",
          "data": {
            "image/png": "[encoded data removed]",
            "text/plain": [
              "<Figure size 432x288 with 1 Axes>"
            ]
          },
          "metadata": {
            "needs_background": "light"
          }
        }
      ]
    },
    {
      "cell_type": "code",
      "metadata": {
        "colab": {
          "base_uri": "https://localhost:8080/",
          "height": 295
        },
        "id": "k2ahGKdFK6B9",
        "outputId": "7d35ab71-833f-4787-f72e-1e4a9e6adf41"
      },
      "source": [
        "plt.plot(test_kl_first_p_list)\n",
        "plt.title(f\"Test KL divergence\")\n",
        "plt.ylabel('Test KL divergence')\n",
        "plt.xlabel('Epochs')\n",
        "if not os.path.exists(\"plots/\"):\n",
        "    utils.makedirs(\"plots/\")\n",
        "plt.savefig(f\"plots/KL Divergence Test cluster_{cluster}.pdf\", dpi = 150)\n",
        "plt.show()"
      ],
      "execution_count": 52,
      "outputs": [
        {
          "output_type": "display_data",
          "data": {
            "image/png": "[encoded data removed]",
            "text/plain": [
              "<Figure size 432x288 with 1 Axes>"
            ]
          },
          "metadata": {
            "needs_background": "light"
          }
        }
      ]
    },
    {
      "cell_type": "code",
      "metadata": {
        "id": "wkbMiOy8LRym"
      },
      "source": [
        ""
      ],
      "execution_count": 52,
      "outputs": []
    }
  ]
}