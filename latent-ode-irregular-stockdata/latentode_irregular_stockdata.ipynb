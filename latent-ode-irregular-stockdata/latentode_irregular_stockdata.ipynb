{
 "cells": [
  {
   "cell_type": "markdown",
   "metadata": {},
   "source": [
    "# Latent ODE for Stock Data\n",
    "\n"
   ]
  },
  {
   "cell_type": "code",
   "execution_count": null,
   "metadata": {},
   "outputs": [],
   "source": [
    "# Install the latest version of author's repo neural ode implementation\n",
    "!git clone https://github.com/rtqichen/torchdiffeq.git\n",
    "!cd torchdiffeq && pip install -e .\n",
    "!ls torchdiffeq/torchdiffeq"
   ]
  },
  {
   "cell_type": "markdown",
   "metadata": {},
   "source": [
    "# Libraries"
   ]
  },
  {
   "cell_type": "code",
   "execution_count": null,
   "metadata": {},
   "outputs": [],
   "source": [
    "# run_models.py\n",
    "import os\n",
    "import sys\n",
    "import matplotlib\n",
    "matplotlib.use('Agg')\n",
    "import matplotlib.pyplot\n",
    "import matplotlib.pyplot as plt\n",
    "\n",
    "import time\n",
    "import datetime\n",
    "import argparse\n",
    "import numpy as np\n",
    "import pandas as pd\n",
    "from random import SystemRandom\n",
    "from sklearn import model_selection\n",
    "\n",
    "import torch\n",
    "import torch.nn as nn\n",
    "from torch.nn.functional import relu\n",
    "import torch.optim as optim\n",
    "\n",
    "import utils as utils\n",
    "# from lib.plotting import *\n",
    "\n",
    "from lib.rnn_baselines import *\n",
    "# from lib.ode_rnn import *\n",
    "# from lib.create_latent_ode_model import create_LatentODE_model\n",
    "# from lib.parse_datasets import parse_datasets\n",
    "# from lib.ode_func import ODEFunc, ODEFunc_w_Poisson\n",
    "from lib.diffeq_solver import DiffeqSolver\n",
    "# from mujoco_physics import HopperPhysics\n",
    "\n",
    "from lib.utils import compute_loss_all_batches\n",
    "\n",
    "import sys\n",
    "# print(sys.argv[1:])"
   ]
  }
 ],
 "metadata": {
  "language_info": {
   "name": "python"
  },
  "orig_nbformat": 4
 },
 "nbformat": 4,
 "nbformat_minor": 2
}
