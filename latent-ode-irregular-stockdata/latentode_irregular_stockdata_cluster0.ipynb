{
  "nbformat": 4,
  "nbformat_minor": 0,
  "metadata": {
    "colab": {
      "name": "latentode_irregular_stockdata_cluster0.ipynb",
      "provenance": [],
      "collapsed_sections": [],
      "machine_shape": "hm"
    },
    "kernelspec": {
      "display_name": "Python 3",
      "name": "python3"
    },
    "language_info": {
      "name": "python"
    },
    "orig_nbformat": 4,
    "accelerator": "GPU"
  },
  "cells": [
    {
      "cell_type": "markdown",
      "metadata": {
        "id": "7UmYrQ38hy_g"
      },
      "source": [
        "# Latent ODE for Stock Data\n",
        "\n"
      ]
    },
    {
      "cell_type": "code",
      "metadata": {
        "colab": {
          "base_uri": "https://localhost:8080/"
        },
        "id": "c8BMb4s2hy_h",
        "outputId": "40ad961b-4743-4c54-eca4-a30673440ad9"
      },
      "source": [
        "# Install the latest version of author's repo neural ode implementation\n",
        "!git clone https://github.com/rtqichen/torchdiffeq.git\n",
        "!cd torchdiffeq && pip install -e .\n",
        "!pip install yfinance\n",
        "!ls torchdiffeq/torchdiffeq"
      ],
      "execution_count": 1,
      "outputs": [
        {
          "output_type": "stream",
          "name": "stdout",
          "text": [
            "Cloning into 'torchdiffeq'...\n",
            "remote: Enumerating objects: 1138, done.\u001b[K\n",
            "remote: Counting objects: 100% (434/434), done.\u001b[K\n",
            "remote: Compressing objects: 100% (194/194), done.\u001b[K\n",
            "remote: Total 1138 (delta 256), reused 401 (delta 240), pack-reused 704\u001b[K\n",
            "Receiving objects: 100% (1138/1138), 8.29 MiB | 24.54 MiB/s, done.\n",
            "Resolving deltas: 100% (682/682), done.\n",
            "Obtaining file:///content/torchdiffeq\n",
            "Requirement already satisfied: torch>=1.3.0 in /usr/local/lib/python3.7/dist-packages (from torchdiffeq==0.2.2) (1.9.0+cu111)\n",
            "Requirement already satisfied: scipy>=1.4.0 in /usr/local/lib/python3.7/dist-packages (from torchdiffeq==0.2.2) (1.4.1)\n",
            "Requirement already satisfied: numpy>=1.13.3 in /usr/local/lib/python3.7/dist-packages (from scipy>=1.4.0->torchdiffeq==0.2.2) (1.19.5)\n",
            "Requirement already satisfied: typing-extensions in /usr/local/lib/python3.7/dist-packages (from torch>=1.3.0->torchdiffeq==0.2.2) (3.7.4.3)\n",
            "Installing collected packages: torchdiffeq\n",
            "  Running setup.py develop for torchdiffeq\n",
            "Successfully installed torchdiffeq-0.2.2\n",
            "Collecting yfinance\n",
            "  Downloading yfinance-0.1.64.tar.gz (26 kB)\n",
            "Requirement already satisfied: pandas>=0.24 in /usr/local/lib/python3.7/dist-packages (from yfinance) (1.1.5)\n",
            "Requirement already satisfied: numpy>=1.15 in /usr/local/lib/python3.7/dist-packages (from yfinance) (1.19.5)\n",
            "Requirement already satisfied: requests>=2.20 in /usr/local/lib/python3.7/dist-packages (from yfinance) (2.23.0)\n",
            "Requirement already satisfied: multitasking>=0.0.7 in /usr/local/lib/python3.7/dist-packages (from yfinance) (0.0.9)\n",
            "Collecting lxml>=4.5.1\n",
            "  Downloading lxml-4.6.3-cp37-cp37m-manylinux2014_x86_64.whl (6.3 MB)\n",
            "\u001b[K     |████████████████████████████████| 6.3 MB 10.7 MB/s \n",
            "\u001b[?25hRequirement already satisfied: pytz>=2017.2 in /usr/local/lib/python3.7/dist-packages (from pandas>=0.24->yfinance) (2018.9)\n",
            "Requirement already satisfied: python-dateutil>=2.7.3 in /usr/local/lib/python3.7/dist-packages (from pandas>=0.24->yfinance) (2.8.2)\n",
            "Requirement already satisfied: six>=1.5 in /usr/local/lib/python3.7/dist-packages (from python-dateutil>=2.7.3->pandas>=0.24->yfinance) (1.15.0)\n",
            "Requirement already satisfied: idna<3,>=2.5 in /usr/local/lib/python3.7/dist-packages (from requests>=2.20->yfinance) (2.10)\n",
            "Requirement already satisfied: urllib3!=1.25.0,!=1.25.1,<1.26,>=1.21.1 in /usr/local/lib/python3.7/dist-packages (from requests>=2.20->yfinance) (1.24.3)\n",
            "Requirement already satisfied: certifi>=2017.4.17 in /usr/local/lib/python3.7/dist-packages (from requests>=2.20->yfinance) (2021.5.30)\n",
            "Requirement already satisfied: chardet<4,>=3.0.2 in /usr/local/lib/python3.7/dist-packages (from requests>=2.20->yfinance) (3.0.4)\n",
            "Building wheels for collected packages: yfinance\n",
            "  Building wheel for yfinance (setup.py) ... \u001b[?25l\u001b[?25hdone\n",
            "  Created wheel for yfinance: filename=yfinance-0.1.64-py2.py3-none-any.whl size=24109 sha256=55c0bee9271b046b1b0c98189128c811113c912cf44880ca46a98ee22caab4ac\n",
            "  Stored in directory: /root/.cache/pip/wheels/86/fe/9b/a4d3d78796b699e37065e5b6c27b75cff448ddb8b24943c288\n",
            "Successfully built yfinance\n",
            "Installing collected packages: lxml, yfinance\n",
            "  Attempting uninstall: lxml\n",
            "    Found existing installation: lxml 4.2.6\n",
            "    Uninstalling lxml-4.2.6:\n",
            "      Successfully uninstalled lxml-4.2.6\n",
            "Successfully installed lxml-4.6.3 yfinance-0.1.64\n",
            "_impl  __init__.py\n"
          ]
        }
      ]
    },
    {
      "cell_type": "markdown",
      "metadata": {
        "id": "9cSqPUFvhy_j"
      },
      "source": [
        "# Libraries"
      ]
    },
    {
      "cell_type": "code",
      "metadata": {
        "id": "gnauJ9FBhy_k"
      },
      "source": [
        "# run_models.py\n",
        "import os\n",
        "import sys\n",
        "import matplotlib\n",
        "matplotlib.use('Agg')\n",
        "import matplotlib.pyplot\n",
        "import matplotlib.pyplot as plt\n",
        "\n",
        "import time\n",
        "import datetime\n",
        "import argparse\n",
        "import numpy as np\n",
        "import pandas as pd\n",
        "from random import SystemRandom\n",
        "from sklearn import model_selection\n",
        "\n",
        "import torch\n",
        "import torch.nn as nn\n",
        "from torch.nn.functional import relu\n",
        "import torch.optim as optim\n",
        "\n",
        "import utils as utils\n",
        "from data import *\n",
        "# from lib.plotting import *\n",
        "\n",
        "# from lib.rnn_baselines import *\n",
        "# from lib.ode_rnn import *\n",
        "# from lib.create_latent_ode_model import create_LatentODE_model\n",
        "# from lib.parse_datasets import parse_datasets\n",
        "# from lib.ode_func import ODEFunc, ODEFunc_w_Poisson\n",
        "from diffeq_solver import DiffeqSolver\n",
        "# from mujoco_physics import HopperPhysics\n",
        "\n",
        "from utils import compute_loss_all_batches\n",
        "\n",
        "import sys\n",
        "# print(sys.argv[1:])\n",
        "\n",
        "# Libraries for downloading data\n",
        "from pandas_datareader import data as pdr\n",
        "import yfinance as yf\n",
        "import os\n",
        "import matplotlib.pyplot as plt\n",
        "import pandas as pd\n",
        "import numpy as np\n",
        "\n",
        "# Libraries for parsing data\n",
        "from torch.distributions import uniform\n",
        "from torch.utils.data import DataLoader\n",
        "from sklearn import model_selection\n",
        "import random\n",
        "from utils import get_dict_template\n",
        "\n",
        "# Libraries for encoder_decoder.py\n",
        "from torch.distributions import Categorical, Normal\n",
        "from torch.nn.modules.rnn import LSTM, GRU\n",
        "from utils import get_device\n",
        "\n",
        "# Libraries for likelihood_eval.py\n",
        "import gc\n",
        "import sklearn as sk\n",
        "from torch.distributions.multivariate_normal import MultivariateNormal\n",
        "from torch.distributions.normal import Normal\n",
        "from torch.distributions import kl_divergence, Independent\n",
        "\n",
        "# Libraries for base_models.py\n",
        "from torch.nn.modules.rnn import GRUCell, LSTMCell, RNNCellBase\n",
        "from torch.nn.parameter import Parameter\n",
        "\n",
        "# Libraries for ode_func.py\n",
        "from torch.nn.utils.spectral_norm import spectral_norm"
      ],
      "execution_count": 2,
      "outputs": []
    },
    {
      "cell_type": "markdown",
      "metadata": {
        "id": "PMVN3oEthy_l"
      },
      "source": [
        "# Parameters, Manual Seed, ExperimentID"
      ]
    },
    {
      "cell_type": "code",
      "metadata": {
        "id": "UJGcORZ0hy_l"
      },
      "source": [
        "# Generative model for noisy data based on ODE\n",
        "parser = argparse.ArgumentParser('Latent ODE')\n",
        "# n = size of the dataset\n",
        "parser.add_argument('-n',  type=int, default=2000, help=\"Size of the dataset\")\n",
        "# n_iters = 50\n",
        "parser.add_argument('--niters', type=int, default=100)\n",
        "parser.add_argument('--lr',  type=float, default=1e-3, help=\"Starting learning rate.\")\n",
        "# batch_size = 50\n",
        "parser.add_argument('-b', '--batch-size', type=int, default=50)\n",
        "parser.add_argument('--viz', action='store_true', help=\"Show plots while training\")\n",
        "\n",
        "parser.add_argument('--save', type=str, default='experiments/', help=\"Path for save checkpoints\")\n",
        "parser.add_argument('--load', type=str, default=None, help=\"ID of the experiment to load for evaluation. If None, run a new experiment.\")\n",
        "parser.add_argument('-r', '--random-seed', type=int, default=1991, help=\"Random_seed\")\n",
        "# dataset = stock_lag5_forecast5\n",
        "parser.add_argument('--dataset', type=str, default='stock_lag5_forecast5', help=\"Dataset to load. Available: stock_lag5_forecast5\")\n",
        "parser.add_argument('-s', '--sample-tp', type=float, default=None, help=\"Number of time points to sub-sample.\"\n",
        "\t\"If > 1, subsample exact number of points. If the number is in [0,1], take a percentage of available points per time series. If None, do not subsample\")\n",
        "\n",
        "parser.add_argument('-c', '--cut-tp', type=int, default=None, help=\"Cut out the section of the timeline of the specified length (in number of points).\"\n",
        "\t\"Used for periodic function demo.\")\n",
        "\n",
        "parser.add_argument('--quantization', type=float, default=0.1, help=\"Quantization on the physionet dataset.\"\n",
        "\t\"Value 1 means quantization by 1 hour, value 0.1 means quantization by 0.1 hour = 6 min\")\n",
        "\n",
        "parser.add_argument('--latent-ode', default = True, action='store_true', help=\"Run Latent ODE seq2seq model\")\n",
        "parser.add_argument('--z0-encoder', type=str, default='odernn', help=\"Type of encoder for Latent ODE model: odernn or rnn\")\n",
        "\n",
        "parser.add_argument('--classic-rnn', action='store_true', help=\"Run RNN baseline: classic RNN that sees true points at every point. Used for interpolation only.\")\n",
        "parser.add_argument('--rnn-cell', default=\"gru\", help=\"RNN Cell type. Available: gru (default), expdecay\")\n",
        "parser.add_argument('--input-decay', action='store_true', help=\"For RNN: use the input that is the weighted average of impirical mean and previous value (like in GRU-D)\")\n",
        "\n",
        "parser.add_argument('--ode-rnn', action='store_true', help=\"Run ODE-RNN baseline: RNN-style that sees true points at every point. Used for interpolation only.\")\n",
        "\n",
        "parser.add_argument('--rnn-vae', action='store_true', help=\"Run RNN baseline: seq2seq model with sampling of the h0 and ELBO loss.\")\n",
        "# latents = input_dim\n",
        "parser.add_argument('-l', '--latents', type=int, default=10, help=\"Size of the latent state\")\n",
        "# rec_dims = more than 2*input_dim\n",
        "parser.add_argument('--rec-dims', type=int, default=25, help=\"Dimensionality of the recognition model (ODE or RNN).\")\n",
        "\n",
        "parser.add_argument('--rec-layers', type=int, default=3, help=\"Number of layers in ODE func in recognition ODE\")\n",
        "parser.add_argument('--gen-layers', type=int, default=3, help=\"Number of layers in ODE func in generative ODE\")\n",
        "# units for ODE func\n",
        "parser.add_argument('-u', '--units', type=int, default=300, help=\"Number of units per layer in ODE func\")\n",
        "# units for GRU\n",
        "parser.add_argument('-g', '--gru-units', type=int, default=100, help=\"Number of units per layer in each of GRU update networks\")\n",
        "\n",
        "parser.add_argument('--poisson', action='store_true', help=\"Model poisson-process likelihood for the density of events in addition to reconstruction.\")\n",
        "parser.add_argument('--classif', action='store_true', help=\"Include binary classification loss -- used for Physionet dataset for hospiral mortality\")\n",
        "\n",
        "parser.add_argument('--linear-classif', action='store_true', help=\"If using a classifier, use a linear classifier instead of 1-layer NN\")\n",
        "# extrap = True\n",
        "parser.add_argument('--extrap', default = True, action='store_true', help=\"Set extrapolation mode. If this flag is not set, run interpolation mode.\")\n",
        "# timesteps = lag+forecast\n",
        "parser.add_argument('-t', '--timepoints', type=int, default=10, help=\"Total number of time-points\")\n",
        "parser.add_argument('--max-t',  type=float, default=5., help=\"We subsample points in the interval [0, args.max_tp]\")\n",
        "parser.add_argument('--noise-weight', type=float, default=0.01, help=\"Noise amplitude for generated traejctories\")\n",
        "\n",
        "sys.argv = ['-f']\n",
        "args = parser.parse_args()\n",
        "\n",
        "device = torch.device(\"cuda:0\" if torch.cuda.is_available() else \"cpu\")\n",
        "# file_name = os.path.basename(__file__)[:-3]\n",
        "utils.makedirs(args.save)  # saves in 'experiments/' folder\n",
        "\n"
      ],
      "execution_count": 3,
      "outputs": []
    },
    {
      "cell_type": "code",
      "metadata": {
        "colab": {
          "base_uri": "https://localhost:8080/"
        },
        "id": "gbFeze76hy_n",
        "outputId": "590fe894-4a15-43e2-c2e0-369fba14579e"
      },
      "source": [
        "torch.manual_seed(args.random_seed)\n",
        "np.random.seed(args.random_seed)\n",
        "\n",
        "experimentID = args.load  # None\n",
        "# print(f\"experimentID is {experimentID}\")\n",
        "\n",
        "if experimentID is None:\n",
        "    # Make a new experiment ID\n",
        "    experimentID = int(SystemRandom().random()*100000) # from random import SystemRandom\n",
        "print(f\"experimentID is {experimentID}\")\n",
        "ckpt_path = os.path.join(args.save, \"experiment_\" + str(experimentID) + '.ckpt') \n",
        "# print(f\"ckpt_path is {ckpt_path}\")\n",
        "\n",
        "start = time.time()\n",
        "# print(\"Sampling dataset of {} training examples\".format(args.n))  # n is size of the dataset\n",
        "\n",
        "# print(f\"args is {str(args)}\")\n",
        "\n",
        "input_command = sys.argv\n",
        "# print(f\"input_command is {input_command}\")\n",
        "\n",
        "ind = [i for i in range(len(input_command)) if input_command[i] == \"--load\"]\n",
        "# print(f\"ind is {ind}\")\n",
        "# print(f\"len(ind) is {len(ind)}\")\n",
        "\n",
        "if len(ind) == 1:\n",
        "    ind = ind[0]\n",
        "    input_command = input_command[:ind] + input_command[(ind+2):]\n",
        "input_command = \" \".join(input_command)\n",
        "# print(f\"input_command is {input_command}\")\n",
        "utils.makedirs(\"results/\")\n"
      ],
      "execution_count": 4,
      "outputs": [
        {
          "output_type": "stream",
          "name": "stdout",
          "text": [
            "experimentID is 65442\n"
          ]
        }
      ]
    },
    {
      "cell_type": "markdown",
      "metadata": {
        "id": "b8Ld41k7hy_o"
      },
      "source": [
        "# Get Dataset"
      ]
    },
    {
      "cell_type": "code",
      "metadata": {
        "id": "zC70xR81hy_p"
      },
      "source": [
        "# # Uncomment to get the training data of stock data with lag and forecast\n",
        "# # 1. Get Open and Close Price of asset (o, c) for each trading day.\n",
        "# # libraries\n",
        "\n",
        "# dict_tickers = {\n",
        "#     'Apple': 'AAPL',\n",
        "#     'Microsoft': 'MSFT',\n",
        "#     'Google': 'GOOG',\n",
        "#     'Bitcoin': 'BTC-USD',\n",
        "#     'Facebook': 'FB',\n",
        "#     'Walmart': 'WMT',\n",
        "#     'Amazon': 'AMZN',\n",
        "#     'CVS': 'CVS',\n",
        "#     'Berkshire': 'BRK-B',\n",
        "#     'ExxonMobil': 'XOM',\n",
        "#     'AtandT': 'T',\n",
        "#     'Costco': 'COST',\n",
        "#     'Walgreens': 'WBA',\n",
        "#     'Kroger': 'KR',\n",
        "#     'JPMorgan': 'JPM',\n",
        "#     'Verizon': 'VZ',\n",
        "#     'FordMotor': 'F',\n",
        "#     'GeneralMotors': 'GM',\n",
        "#     'Dell': 'DELL',\n",
        "#     'BankOfAmerica': 'BAC',\n",
        "#     'Target': 'TGT',\n",
        "#     'GeneralElectric': 'GE',\n",
        "#     'JohnsonandJohnson': 'JNJ',\n",
        "#     'Nvidia': 'NVDA',\n",
        "#     'Intel': 'INTC',\n",
        "# }\n",
        "\n",
        "# period = '1d'\n",
        "# start='2000-1-1'\n",
        "# end='2021-8-31'\n",
        "\n",
        "# # Creating a path to save the data\n",
        "# path = f\"raw-stock-data/data-{start.split('-')[0]}-{end.split('-')[0]}\"\n",
        "# if not os.path.exists(path):\n",
        "#     # https://appdividend.com/2021/07/03/how-to-create-directory-if-not-exist-in-python/\n",
        "#     # Create a new directory\n",
        "#     os.makedirs(path)\n",
        "#     print(f\"{path} directory is created\")\n",
        "\n",
        "# # Downloading the data\n",
        "# for tickerName, ticker in dict_tickers.items():\n",
        "#     tickerName = tickerName\n",
        "#     ticker = ticker\n",
        "#     filepath = f\"{path}/{tickerName}.csv\"\n",
        "#     download_raw_stock_data(filepath, ticker, start, end, period)\n",
        "\n",
        "# # print('\\n')\n",
        "\n",
        "# # print(f\"The size of each asset\")\n",
        "# for tickerName in dict_tickers.keys():\n",
        "#     df = pd.read_csv(f\"{path}/{tickerName}.csv\")\n",
        "#     print(f\"{tickerName} size: {len(df)}\")\n",
        "\n",
        "# # 2. Get weekly data.\n",
        "# # 3. Transform $d_{i}$ to sequences of lag * len($d_{i}$) length.\n",
        "\n",
        "\n",
        "# week_sequence = {}\n",
        "# lag = 5\n",
        "# forecast = 5\n",
        "# for tickerName in dict_tickers.keys():\n",
        "#     filepath = f\"{path}/{tickerName}.csv\"\n",
        "#     # Get the data in the required format\n",
        "#     data = stockDataTransformer(filepath)\n",
        "#     # # Total Data Size\n",
        "#     data_size = data.shape[0]\n",
        "#     # print(f\"{tickerName} data.shape {data.shape}\")\n",
        "#     data_orig = series_to_supervised(data, lag, forecast).values\n",
        "#     # print(f'{tickerName} Data Original after series to supervised on data {data_orig.shape}')\n",
        "#     week_sequence[tickerName] = data_orig\n",
        "#     # print('\\n')\n",
        "\n",
        "# # 4. Bundle all sequences together\n",
        "# data = week_sequence['Apple']\n",
        "# for tickerName in week_sequence.keys():\n",
        "#     if tickerName != 'Apple':\n",
        "#         data1 = week_sequence[tickerName]\n",
        "#         data = np.concatenate((data, data1))\n",
        "#         print(f\"data.shape {data.shape}\")\n",
        "\n"
      ],
      "execution_count": 5,
      "outputs": []
    },
    {
      "cell_type": "code",
      "metadata": {
        "id": "imjYAxRYi2Xc"
      },
      "source": [
        "# training_path = 'data'\n",
        "# if not os.path.exists(training_path):\n",
        "#     # https://appdividend.com/2021/07/03/how-to-create-directory-if-not-exist-in-python/\n",
        "#     # Create a new directory\n",
        "#     os.makedirs(training_path)\n",
        "#     print(f\"{path} directory is created\")\n",
        "# data_df = pd.DataFrame(data)\n",
        "# data_df.to_csv(f\"{training_path}/data-lag{lag}-forecast{forecast}.csv\")"
      ],
      "execution_count": 6,
      "outputs": []
    },
    {
      "cell_type": "code",
      "metadata": {
        "colab": {
          "base_uri": "https://localhost:8080/"
        },
        "id": "S4Tlm4XYhy_p",
        "outputId": "4c8db0f3-c332-422b-9702-140613186408"
      },
      "source": [
        "# Importing the data with index as the first column\n",
        "training_path = 'data'\n",
        "cluster = 0\n",
        "lag = 5\n",
        "forecast = 5\n",
        "data = np.load(f\"{training_path}/cluster_{cluster}.npy\")\n",
        "data_df = pd.DataFrame(data)\n",
        "data_df.to_csv(f\"{training_path}/cluster_{cluster}.csv\")\n",
        "print(f\"data.shape {data.shape}\")\n",
        "# Reshape data to (data.shape[0], lag+forecast, data.shape[1])\n",
        "data = data.reshape(data.shape[0], lag+forecast, 10)\n",
        "# print(f\"data.shape {data.shape}\")\n",
        "\n",
        "# Convert data to tensor\n",
        "data = torch.from_numpy(data).float().to(device)\n",
        "print(f\"data.shape {data.shape}\")"
      ],
      "execution_count": 7,
      "outputs": [
        {
          "output_type": "stream",
          "name": "stdout",
          "text": [
            "data.shape (6388, 100)\n",
            "data.shape torch.Size([6388, 10, 10])\n"
          ]
        }
      ]
    },
    {
      "cell_type": "markdown",
      "metadata": {
        "id": "XkMnH9Gbhy_q"
      },
      "source": [
        "# Parse Dataset"
      ]
    },
    {
      "cell_type": "code",
      "metadata": {
        "id": "K-Rkuecghy_q"
      },
      "source": [
        "###########################\n",
        "# Latent ODEs for Stock Data \n",
        "# Authors: Omkar Mehta \n",
        "###########################\n",
        "\n",
        "class StockData(object):\n",
        "\n",
        "\tdef __init__(self, root, download = True, generate=False, device = torch.device(\"cpu\")):\n",
        "\t\tself.root = root\n",
        "\t\tif download:\n",
        "\t\t\tdata = self._download()\n",
        "\n",
        "\t\tif generate:\n",
        "\t\t\tself._generate_dataset()\n",
        "\n",
        "\t\tif not self._check_exists():\n",
        "\t\t\traise RuntimeError('Dataset not found.' + ' You can use download=True to download it')\n",
        "\n",
        "\t\tdata_file = os.path.join(self.data_folder, training_file)\n",
        "\t\tdata = pd.read_csv(os.path.join(self.root, training_file), index_col=0).values\n",
        "\t\t# Reshape data to (data.shape[0], lag+forecast, data.shape[1])\n",
        "\t\tdata = data.reshape(data.shape[0], lag+forecast, D)\n",
        "\t\t# Convert data to tensor\n",
        "\t\tself.data = torch.from_numpy(data).float().to(device)\n",
        "\t\tself.data, self.data_min, self.data_max = utils.normalize_data(self.data)\n",
        "\n",
        "\t\tself.device =device\n",
        "\n",
        "\tdef _download(self):\n",
        "\t\tif self._check_exists():\n",
        "\t\t\treturn\n",
        "\t\tif not os.path.exists(self.data_folder):\n",
        "\t\t\tos.makedirs(self.data_folder, exist_ok=True)\n",
        "\t\tdata = pd.read_csv(os.path.join(self.root, training_file), index_col=0).values\n",
        "\t\t# Reshape data to (data.shape[0], lag+forecast, data.shape[1])\n",
        "\t\tdata = data.reshape(data.shape[0], lag+forecast, data.shape[1])\n",
        "\t\treturn data\n",
        "\tdef _check_exists(self):\n",
        "\t\treturn os.path.exists(os.path.join(self.data_folder, training_file))\n",
        "\n",
        "\t@property\n",
        "\tdef data_folder(self):\n",
        "\t\treturn os.path.join(self.root)\n",
        "\n",
        "\t# def __getitem__(self, index):\n",
        "\t#     return self.data[index]\n",
        "\n",
        "\tdef get_dataset(self):\n",
        "\t\treturn self.data\n",
        "\n",
        "\tdef __len__(self):\n",
        "\t\treturn len(self.data)\n",
        "\n",
        "\tdef size(self, ind = None):\n",
        "\t\tif ind is not None:\n",
        "\t\t\treturn self.data.shape[ind]\n",
        "\t\treturn self.data.shape\n",
        "\t\t\t\n",
        "\tdef __repr__(self):\n",
        "\t\tfmt_str = 'Dataset ' + self.__class__.__name__ + '\\n'\n",
        "\t\tfmt_str += '    Number of datapoints: {}\\n'.format(self.__len__())\n",
        "\t\tfmt_str += '    Root Location: {}\\n'.format(self.root)\n",
        "\t\treturn fmt_str\n",
        "\n"
      ],
      "execution_count": 8,
      "outputs": []
    },
    {
      "cell_type": "code",
      "metadata": {
        "id": "TEI5y8U2hy_r"
      },
      "source": [
        "def parse_datasets(args, device):\n",
        "\t\n",
        "\t# Parse datasets\n",
        "\tdef basic_collate_fn(batch, time_steps, args = args, device = device, data_type = \"train\"):\n",
        "\t\tbatch = torch.stack(batch)\n",
        "\t\tdata_dict = {\n",
        "\t\t\t\"data\": batch, \n",
        "\t\t\t\"time_steps\": time_steps}\n",
        "\n",
        "\t\tdata_dict = utils.split_and_subsample_batch(data_dict, args, data_type = data_type)\n",
        "\t\treturn data_dict\n",
        "\n",
        "\n",
        "\tdataset_name = args.dataset\n",
        "\n",
        "\tn_total_tp = args.timepoints + args.extrap\n",
        "\tmax_t_extrap = args.max_t / args.timepoints * n_total_tp\n",
        "\n",
        "\t##################################################################\n",
        "\t# Stock Data with lag and forecast dataset\n",
        "\tif dataset_name == \"stock_lag5_forecast5\":\n",
        "\t\tdataset_obj = StockData(root='data', download=True, generate=False, device = device)\n",
        "\t\tdataset = dataset_obj.get_dataset()\n",
        "\t\tdataset = dataset.to(device)\n",
        "\n",
        "\n",
        "\t\tn_tp_data = dataset[:].shape[1]\n",
        "\n",
        "\t\t# Time steps that are used later on for exrapolation\n",
        "\t\ttime_steps = torch.arange(start=0, end = n_tp_data, step=1).float().to(device)\n",
        "\t\ttime_steps = time_steps / len(time_steps)\n",
        "\n",
        "\t\tdataset = dataset.to(device)\n",
        "\t\ttime_steps = time_steps.to(device)\n",
        "\n",
        "\t\tif not args.extrap:\n",
        "\t\t\t# Creating dataset for interpolation\n",
        "\t\t\t# sample time points from different parts of the timeline, \n",
        "\t\t\t# so that the model learns from different parts of hopper trajectory\n",
        "\t\t\tn_traj = len(dataset)\n",
        "\t\t\tn_tp_data = dataset.shape[1]\n",
        "\t\t\tn_reduced_tp = args.timepoints\n",
        "\n",
        "\t\t\t# sample time points from different parts of the timeline, \n",
        "\t\t\t# so that the model learns from different parts of hopper trajectory\n",
        "\t\t\tstart_ind = np.random.randint(0, high=n_tp_data - n_reduced_tp +1, size=n_traj)\n",
        "\t\t\tend_ind = start_ind + n_reduced_tp\n",
        "\t\t\tsliced = []\n",
        "\t\t\tfor i in range(n_traj):\n",
        "\t\t\t\t  sliced.append(dataset[i, start_ind[i] : end_ind[i], :])\n",
        "\t\t\tdataset = torch.stack(sliced).to(device)\n",
        "\t\t\ttime_steps = time_steps[:n_reduced_tp]\n",
        "\n",
        "\t\t# Split into train and test by the time sequences\n",
        "\t\ttrain_y, test_y = utils.split_train_test(dataset, train_fraq = 0.8)\n",
        "\n",
        "\t\tn_samples = len(dataset)\n",
        "\t\tinput_dim = dataset.size(-1)\n",
        "\n",
        "\t\tbatch_size = min(args.batch_size, args.n)\n",
        "\t\ttrain_dataloader = DataLoader(train_y, batch_size = batch_size, shuffle=False,\n",
        "\t\t\tcollate_fn= lambda batch: basic_collate_fn(batch, time_steps, data_type = \"train\"))\n",
        "\t\ttest_dataloader = DataLoader(test_y, batch_size = n_samples, shuffle=False,\n",
        "\t\t\tcollate_fn= lambda batch: basic_collate_fn(batch, time_steps, data_type = \"test\"))\n",
        "\t\t\n",
        "\t\tdata_objects = {\"dataset_obj\": dataset_obj, \n",
        "\t\t\t\t\t\"train_dataloader\": utils.inf_generator(train_dataloader), \n",
        "\t\t\t\t\t\"test_dataloader\": utils.inf_generator(test_dataloader),\n",
        "\t\t\t\t\t\"input_dim\": input_dim,\n",
        "\t\t\t\t\t\"n_train_batches\": len(train_dataloader),\n",
        "\t\t\t\t\t\"n_test_batches\": len(test_dataloader)}\n",
        "\t\treturn data_objects\n",
        "\n",
        "\t##################################################################\n",
        "\t# Physionet dataset\n",
        "\n",
        "\tif dataset_name == \"physionet\":\n",
        "\t\ttrain_dataset_obj = PhysioNet('data/physionet', train=True, \n",
        "\t\t\t\t\t\t\t\t\t\tquantization = args.quantization,\n",
        "\t\t\t\t\t\t\t\t\t\tdownload=True, n_samples = min(10000, args.n), \n",
        "\t\t\t\t\t\t\t\t\t\tdevice = device)\n",
        "\t\t# Use custom collate_fn to combine samples with arbitrary time observations.\n",
        "\t\t# Returns the dataset along with mask and time steps\n",
        "\t\ttest_dataset_obj = PhysioNet('data/physionet', train=False, \n",
        "\t\t\t\t\t\t\t\t\t\tquantization = args.quantization,\n",
        "\t\t\t\t\t\t\t\t\t\tdownload=True, n_samples = min(10000, args.n), \n",
        "\t\t\t\t\t\t\t\t\t\tdevice = device)\n",
        "\n",
        "\t\t# Combine and shuffle samples from physionet Train and physionet Test\n",
        "\t\ttotal_dataset = train_dataset_obj[:len(train_dataset_obj)]\n",
        "\n",
        "\t\tif not args.classif:\n",
        "\t\t\t# Concatenate samples from original Train and Test sets\n",
        "\t\t\t# Only 'training' physionet samples are have labels. Therefore, if we do classifiction task, we don't need physionet 'test' samples.\n",
        "\t\t\ttotal_dataset = total_dataset + test_dataset_obj[:len(test_dataset_obj)]\n",
        "\n",
        "\t\t# Shuffle and split\n",
        "\t\ttrain_data, test_data = model_selection.train_test_split(total_dataset, train_size= 0.8, \n",
        "\t\t\trandom_state = 42, shuffle = True)\n",
        "\n",
        "\t\trecord_id, tt, vals, mask, labels = train_data[0]\n",
        "\n",
        "\t\tn_samples = len(total_dataset)\n",
        "\t\tinput_dim = vals.size(-1)\n",
        "\n",
        "\t\tbatch_size = min(min(len(train_dataset_obj), args.batch_size), args.n)\n",
        "\t\tdata_min, data_max = get_data_min_max(total_dataset)\n",
        "\n",
        "\t\ttrain_dataloader = DataLoader(train_data, batch_size= batch_size, shuffle=False, \n",
        "\t\t\tcollate_fn= lambda batch: variable_time_collate_fn(batch, args, device, data_type = \"train\",\n",
        "\t\t\t\tdata_min = data_min, data_max = data_max))\n",
        "\t\ttest_dataloader = DataLoader(test_data, batch_size = n_samples, shuffle=False, \n",
        "\t\t\tcollate_fn= lambda batch: variable_time_collate_fn(batch, args, device, data_type = \"test\",\n",
        "\t\t\t\tdata_min = data_min, data_max = data_max))\n",
        "\n",
        "\t\tattr_names = train_dataset_obj.params\n",
        "\t\tdata_objects = {\"dataset_obj\": train_dataset_obj, \n",
        "\t\t\t\t\t\"train_dataloader\": utils.inf_generator(train_dataloader), \n",
        "\t\t\t\t\t\"test_dataloader\": utils.inf_generator(test_dataloader),\n",
        "\t\t\t\t\t\"input_dim\": input_dim,\n",
        "\t\t\t\t\t\"n_train_batches\": len(train_dataloader),\n",
        "\t\t\t\t\t\"n_test_batches\": len(test_dataloader),\n",
        "\t\t\t\t\t\"attr\": attr_names, #optional\n",
        "\t\t\t\t\t\"classif_per_tp\": False, #optional\n",
        "\t\t\t\t\t\"n_labels\": 1} #optional\n",
        "\t\treturn data_objects\n",
        "\n",
        "\t##################################################################\n",
        "\t# Human activity dataset\n",
        "\n",
        "\tif dataset_name == \"activity\":\n",
        "\t\tn_samples =  min(10000, args.n)\n",
        "\t\tdataset_obj = PersonActivity('data/PersonActivity', \n",
        "\t\t\t\t\t\t\tdownload=True, n_samples =  n_samples, device = device)\n",
        "\t\tprint(dataset_obj)\n",
        "\t\t# Use custom collate_fn to combine samples with arbitrary time observations.\n",
        "\t\t# Returns the dataset along with mask and time steps\n",
        "\n",
        "\t\t# Shuffle and split\n",
        "\t\ttrain_data, test_data = model_selection.train_test_split(dataset_obj, train_size= 0.8, \n",
        "\t\t\trandom_state = 42, shuffle = True)\n",
        "\n",
        "\t\ttrain_data = [train_data[i] for i in np.random.choice(len(train_data), len(train_data))]\n",
        "\t\ttest_data = [test_data[i] for i in np.random.choice(len(test_data), len(test_data))]\n",
        "\n",
        "\t\trecord_id, tt, vals, mask, labels = train_data[0]\n",
        "\t\tinput_dim = vals.size(-1)\n",
        "\n",
        "\t\tbatch_size = min(min(len(dataset_obj), args.batch_size), args.n)\n",
        "\t\ttrain_dataloader = DataLoader(train_data, batch_size= batch_size, shuffle=False, \n",
        "\t\t\tcollate_fn= lambda batch: variable_time_collate_fn_activity(batch, args, device, data_type = \"train\"))\n",
        "\t\ttest_dataloader = DataLoader(test_data, batch_size=n_samples, shuffle=False, \n",
        "\t\t\tcollate_fn= lambda batch: variable_time_collate_fn_activity(batch, args, device, data_type = \"test\"))\n",
        "\n",
        "\t\tdata_objects = {\"dataset_obj\": dataset_obj, \n",
        "\t\t\t\t\t\"train_dataloader\": utils.inf_generator(train_dataloader), \n",
        "\t\t\t\t\t\"test_dataloader\": utils.inf_generator(test_dataloader),\n",
        "\t\t\t\t\t\"input_dim\": input_dim,\n",
        "\t\t\t\t\t\"n_train_batches\": len(train_dataloader),\n",
        "\t\t\t\t\t\"n_test_batches\": len(test_dataloader),\n",
        "\t\t\t\t\t\"classif_per_tp\": True, #optional\n",
        "\t\t\t\t\t\"n_labels\": labels.size(-1)}\n",
        "\n",
        "\t\treturn data_objects\n",
        "\n",
        "\t########### 1d datasets ###########\n",
        "\n",
        "\t# Sampling args.timepoints time points in the interval [0, args.max_t]\n",
        "\t# Sample points for both training sequence and explapolation (test)\n",
        "\tdistribution = uniform.Uniform(torch.Tensor([0.0]),torch.Tensor([max_t_extrap]))\n",
        "\ttime_steps_extrap =  distribution.sample(torch.Size([n_total_tp-1]))[:,0]\n",
        "\ttime_steps_extrap = torch.cat((torch.Tensor([0.0]), time_steps_extrap))\n",
        "\ttime_steps_extrap = torch.sort(time_steps_extrap)[0]\n",
        "\n",
        "\tdataset_obj = None\n",
        "\t##################################################################\n",
        "\t# Sample a periodic function\n",
        "\tif dataset_name == \"periodic\":\n",
        "\t\tdataset_obj = Periodic_1d(\n",
        "\t\t\tinit_freq = None, init_amplitude = 1.,\n",
        "\t\t\tfinal_amplitude = 1., final_freq = None, \n",
        "\t\t\tz0 = 1.)\n",
        "\n",
        "\t##################################################################\n",
        "\n",
        "\tif dataset_obj is None:\n",
        "\t\traise Exception(\"Unknown dataset: {}\".format(dataset_name))\n",
        "\n",
        "\tdataset = dataset_obj.sample_traj(time_steps_extrap, n_samples = args.n, \n",
        "\t\tnoise_weight = args.noise_weight)\n",
        "\n",
        "\t# Process small datasets\n",
        "\tdataset = dataset.to(device)\n",
        "\ttime_steps_extrap = time_steps_extrap.to(device)\n",
        "\n",
        "\ttrain_y, test_y = utils.split_train_test(dataset, train_fraq = 0.8)\n",
        "\n",
        "\tn_samples = len(dataset)\n",
        "\tinput_dim = dataset.size(-1)\n",
        "\n",
        "\tbatch_size = min(args.batch_size, args.n)\n",
        "\ttrain_dataloader = DataLoader(train_y, batch_size = batch_size, shuffle=False,\n",
        "\t\tcollate_fn= lambda batch: basic_collate_fn(batch, time_steps_extrap, data_type = \"train\"))\n",
        "\ttest_dataloader = DataLoader(test_y, batch_size = args.n, shuffle=False,\n",
        "\t\tcollate_fn= lambda batch: basic_collate_fn(batch, time_steps_extrap, data_type = \"test\"))\n",
        "\t\n",
        "\tdata_objects = {#\"dataset_obj\": dataset_obj, \n",
        "\t\t\t\t\"train_dataloader\": utils.inf_generator(train_dataloader), \n",
        "\t\t\t\t\"test_dataloader\": utils.inf_generator(test_dataloader),\n",
        "\t\t\t\t\"input_dim\": input_dim,\n",
        "\t\t\t\t\"n_train_batches\": len(train_dataloader),\n",
        "\t\t\t\t\"n_test_batches\": len(test_dataloader)}\n",
        "\n",
        "\treturn data_objects\n",
        "\n",
        "\n"
      ],
      "execution_count": 9,
      "outputs": []
    },
    {
      "cell_type": "code",
      "metadata": {
        "colab": {
          "base_uri": "https://localhost:8080/"
        },
        "id": "xvdaU1g4hy_s",
        "outputId": "bb52c93a-b3cd-44e4-efe7-4e6bf3b9aaa6"
      },
      "source": [
        "lag = 5\n",
        "forecast = 5\n",
        "\n",
        "T = lag+forecast\n",
        "print(f\"T is {T}\")\n",
        "D = 10\n",
        "print(f\"D is {D}\")\n",
        "root = 'data'\n",
        "n_training_samples = data.shape[0]\n",
        "training_file = f'cluster_{cluster}.csv'\n",
        "\n",
        "data_obj = parse_datasets(args, device)\n",
        "input_dim = data_obj[\"input_dim\"]\n",
        "print(f\"input_dim is {input_dim}\")\n",
        "\n",
        "classif_per_tp = False\n",
        "if (\"classif_per_tp\" in data_obj):\n",
        "    # do classification per time point rather than on a time series as a whole\n",
        "    classif_per_tp = data_obj[\"classif_per_tp\"]\n",
        "\n",
        "if args.classif and (args.dataset == \"hopper\" or args.dataset == \"periodic\"):\n",
        "    raise Exception(\"Classification task is not available for MuJoCo and 1d datasets\")\n"
      ],
      "execution_count": 10,
      "outputs": [
        {
          "output_type": "stream",
          "name": "stdout",
          "text": [
            "T is 10\n",
            "D is 10\n",
            "input_dim is 10\n"
          ]
        }
      ]
    },
    {
      "cell_type": "markdown",
      "metadata": {
        "id": "vN8eEmH-hy_s"
      },
      "source": [
        "# n_labels, obsrv_std, z0_prior"
      ]
    },
    {
      "cell_type": "code",
      "metadata": {
        "id": "5wMtb7FQhy_s"
      },
      "source": [
        "n_labels = 1\n",
        "if args.classif:\n",
        "    if (\"n_labels\" in data_obj):\n",
        "        n_labels = data_obj[\"n_labels\"]\n",
        "    else:\n",
        "        raise Exception(\"Please provide number of labels for classification task\")\n",
        "\n",
        "##################################################################\n",
        "# Create the model\n",
        "obsrv_std = 0.01\n",
        "if args.dataset == \"stock_lag5_forecast5\":\n",
        "    obsrv_std = 1e-3 \n",
        "\n",
        "obsrv_std = torch.Tensor([obsrv_std]).to(device)\n",
        "\n",
        "z0_prior = Normal(torch.Tensor([0.0]).to(device), torch.Tensor([1.]).to(device))"
      ],
      "execution_count": 11,
      "outputs": []
    },
    {
      "cell_type": "markdown",
      "metadata": {
        "id": "58GzgLWxhy_s"
      },
      "source": [
        "# args.latent_ode"
      ]
    },
    {
      "cell_type": "markdown",
      "metadata": {
        "id": "ExKiCiHthy_s"
      },
      "source": [
        "## encoder_decoder.py"
      ]
    },
    {
      "cell_type": "code",
      "metadata": {
        "id": "1pKHw5pqhy_t"
      },
      "source": [
        "# GRU description: \n",
        "# http://www.wildml.com/2015/10/recurrent-neural-network-tutorial-part-4-implementing-a-grulstm-rnn-with-python-and-theano/\n",
        "class GRU_unit(nn.Module):\n",
        "\tdef __init__(self, latent_dim, input_dim, \n",
        "\t\tupdate_gate = None,\n",
        "\t\treset_gate = None,\n",
        "\t\tnew_state_net = None,\n",
        "\t\tn_units = 100,\n",
        "\t\tdevice = torch.device(\"cpu\")):\n",
        "\t\tsuper(GRU_unit, self).__init__()\n",
        "\n",
        "\t\tif update_gate is None:\n",
        "\t\t\tself.update_gate = nn.Sequential(\n",
        "\t\t\t   nn.Linear(latent_dim * 2 + input_dim, n_units),\n",
        "\t\t\t   nn.Tanh(),\n",
        "\t\t\t   nn.Linear(n_units, latent_dim),\n",
        "\t\t\t   nn.Sigmoid())\n",
        "\t\t\tutils.init_network_weights(self.update_gate)\n",
        "\t\telse: \n",
        "\t\t\tself.update_gate  = update_gate\n",
        "\n",
        "\t\tif reset_gate is None:\n",
        "\t\t\tself.reset_gate = nn.Sequential(\n",
        "\t\t\t   nn.Linear(latent_dim * 2 + input_dim, n_units),\n",
        "\t\t\t   nn.Tanh(),\n",
        "\t\t\t   nn.Linear(n_units, latent_dim),\n",
        "\t\t\t   nn.Sigmoid())\n",
        "\t\t\tutils.init_network_weights(self.reset_gate)\n",
        "\t\telse: \n",
        "\t\t\tself.reset_gate  = reset_gate\n",
        "\n",
        "\t\tif new_state_net is None:\n",
        "\t\t\tself.new_state_net = nn.Sequential(\n",
        "\t\t\t   nn.Linear(latent_dim * 2 + input_dim, n_units),\n",
        "\t\t\t   nn.Tanh(),\n",
        "\t\t\t   nn.Linear(n_units, latent_dim * 2))\n",
        "\t\t\tutils.init_network_weights(self.new_state_net)\n",
        "\t\telse: \n",
        "\t\t\tself.new_state_net  = new_state_net\n",
        "\n",
        "\n",
        "\tdef forward(self, y_mean, y_std, x, masked_update = True):\n",
        "\t\ty_concat = torch.cat([y_mean, y_std, x], -1)\n",
        "\n",
        "\t\tupdate_gate = self.update_gate(y_concat)\n",
        "\t\treset_gate = self.reset_gate(y_concat)\n",
        "\t\tconcat = torch.cat([y_mean * reset_gate, y_std * reset_gate, x], -1)\n",
        "\t\t\n",
        "\t\tnew_state, new_state_std = utils.split_last_dim(self.new_state_net(concat))\n",
        "\t\tnew_state_std = new_state_std.abs()\n",
        "\n",
        "\t\tnew_y = (1-update_gate) * new_state + update_gate * y_mean\n",
        "\t\tnew_y_std = (1-update_gate) * new_state_std + update_gate * y_std\n",
        "\n",
        "\t\tassert(not torch.isnan(new_y).any())\n",
        "\n",
        "\t\tif masked_update:\n",
        "\t\t\t# IMPORTANT: assumes that x contains both data and mask\n",
        "\t\t\t# update only the hidden states for hidden state only if at least one feature is present for the current time point\n",
        "\t\t\tn_data_dims = x.size(-1)//2\n",
        "\t\t\tmask = x[:, :, n_data_dims:]\n",
        "\t\t\tutils.check_mask(x[:, :, :n_data_dims], mask)\n",
        "\t\t\t\n",
        "\t\t\tmask = (torch.sum(mask, -1, keepdim = True) > 0).float()\n",
        "\n",
        "\t\t\tassert(not torch.isnan(mask).any())\n",
        "\n",
        "\t\t\tnew_y = mask * new_y + (1-mask) * y_mean\n",
        "\t\t\tnew_y_std = mask * new_y_std + (1-mask) * y_std\n",
        "\n",
        "\t\t\tif torch.isnan(new_y).any():\n",
        "\t\t\t\tprint(\"new_y is nan!\")\n",
        "\t\t\t\tprint(mask)\n",
        "\t\t\t\tprint(y_mean)\n",
        "\t\t\t\tprint(prev_new_y)\n",
        "\t\t\t\texit()\n",
        "\n",
        "\t\tnew_y_std = new_y_std.abs()\n",
        "\t\treturn new_y, new_y_std\n",
        "\n",
        "\n",
        "\n",
        "class Encoder_z0_RNN(nn.Module):\n",
        "\tdef __init__(self, latent_dim, input_dim, lstm_output_size = 20, \n",
        "\t\tuse_delta_t = True, device = torch.device(\"cpu\")):\n",
        "\t\t\n",
        "\t\tsuper(Encoder_z0_RNN, self).__init__()\n",
        "\t\n",
        "\t\tself.gru_rnn_output_size = lstm_output_size\n",
        "\t\tself.latent_dim = latent_dim\n",
        "\t\tself.input_dim = input_dim\n",
        "\t\tself.device = device\n",
        "\t\tself.use_delta_t = use_delta_t\n",
        "\n",
        "\t\tself.hiddens_to_z0 = nn.Sequential(\n",
        "\t\t   nn.Linear(self.gru_rnn_output_size, 50),\n",
        "\t\t   nn.Tanh(),\n",
        "\t\t   nn.Linear(50, latent_dim * 2),)\n",
        "\n",
        "\t\tutils.init_network_weights(self.hiddens_to_z0)\n",
        "\n",
        "\t\tinput_dim = self.input_dim\n",
        "\n",
        "\t\tif use_delta_t:\n",
        "\t\t\tself.input_dim += 1\n",
        "\t\tself.gru_rnn = GRU(self.input_dim, self.gru_rnn_output_size).to(device)\n",
        "\n",
        "\tdef forward(self, data, time_steps, run_backwards = True):\n",
        "\t\t# IMPORTANT: assumes that 'data' already has mask concatenated to it \n",
        "\n",
        "\t\t# data shape: [n_traj, n_tp, n_dims]\n",
        "\t\t# shape required for rnn: (seq_len, batch, input_size)\n",
        "\t\t# t0: not used here\n",
        "\t\tn_traj = data.size(0)\n",
        "\n",
        "\t\tassert(not torch.isnan(data).any())\n",
        "\t\tassert(not torch.isnan(time_steps).any())\n",
        "\n",
        "\t\tdata = data.permute(1,0,2) \n",
        "\n",
        "\t\tif run_backwards:\n",
        "\t\t\t# Look at data in the reverse order: from later points to the first\n",
        "\t\t\tdata = utils.reverse(data)\n",
        "\n",
        "\t\tif self.use_delta_t:\n",
        "\t\t\tdelta_t = time_steps[1:] - time_steps[:-1]\n",
        "\t\t\tif run_backwards:\n",
        "\t\t\t\t# we are going backwards in time with\n",
        "\t\t\t\tdelta_t = utils.reverse(delta_t)\n",
        "\t\t\t# append zero delta t in the end\n",
        "\t\t\tdelta_t = torch.cat((delta_t, torch.zeros(1).to(self.device)))\n",
        "\t\t\tdelta_t = delta_t.unsqueeze(1).repeat((1,n_traj)).unsqueeze(-1)\n",
        "\t\t\tdata = torch.cat((delta_t, data),-1)\n",
        "\n",
        "\t\toutputs, _ = self.gru_rnn(data)\n",
        "\n",
        "\t\t# LSTM output shape: (seq_len, batch, num_directions * hidden_size)\n",
        "\t\tlast_output = outputs[-1]\n",
        "\n",
        "\t\tself.extra_info ={\"rnn_outputs\": outputs, \"time_points\": time_steps}\n",
        "\n",
        "\t\tmean, std = utils.split_last_dim(self.hiddens_to_z0(last_output))\n",
        "\t\tstd = std.abs()\n",
        "\n",
        "\t\tassert(not torch.isnan(mean).any())\n",
        "\t\tassert(not torch.isnan(std).any())\n",
        "\n",
        "\t\treturn mean.unsqueeze(0), std.unsqueeze(0)\n",
        "\n",
        "\n",
        "\n",
        "\n",
        "\n",
        "class Encoder_z0_ODE_RNN(nn.Module):\n",
        "\t# Derive z0 by running ode backwards.\n",
        "\t# For every y_i we have two versions: encoded from data and derived from ODE by running it backwards from t_i+1 to t_i\n",
        "\t# Compute a weighted sum of y_i from data and y_i from ode. Use weighted y_i as an initial value for ODE runing from t_i to t_i-1\n",
        "\t# Continue until we get to z0\n",
        "\tdef __init__(self, latent_dim, input_dim, z0_diffeq_solver = None, \n",
        "\t\tz0_dim = None, GRU_update = None, \n",
        "\t\tn_gru_units = 100, \n",
        "\t\tdevice = torch.device(\"cpu\")):\n",
        "\t\t\n",
        "\t\tsuper(Encoder_z0_ODE_RNN, self).__init__()\n",
        "\n",
        "\t\tif z0_dim is None:\n",
        "\t\t\tself.z0_dim = latent_dim\n",
        "\t\telse:\n",
        "\t\t\tself.z0_dim = z0_dim\n",
        "\n",
        "\t\tif GRU_update is None:\n",
        "\t\t\tself.GRU_update = GRU_unit(latent_dim, input_dim, \n",
        "\t\t\t\tn_units = n_gru_units, \n",
        "\t\t\t\tdevice=device).to(device)\n",
        "\t\telse:\n",
        "\t\t\tself.GRU_update = GRU_update\n",
        "\n",
        "\t\tself.z0_diffeq_solver = z0_diffeq_solver\n",
        "\t\tself.latent_dim = latent_dim\n",
        "\t\tself.input_dim = input_dim\n",
        "\t\tself.device = device\n",
        "\t\tself.extra_info = None\n",
        "\n",
        "\t\tself.transform_z0 = nn.Sequential(\n",
        "\t\t   nn.Linear(latent_dim * 2, 100),\n",
        "\t\t   nn.Tanh(),\n",
        "\t\t   nn.Linear(100, self.z0_dim * 2),)\n",
        "\t\tutils.init_network_weights(self.transform_z0)\n",
        "\n",
        "\n",
        "\tdef forward(self, data, time_steps, run_backwards = False, save_info = False):\n",
        "\t\t# data, time_steps -- observations and their time stamps\n",
        "\t\t# IMPORTANT: assumes that 'data' already has mask concatenated to it \n",
        "\t\tassert(not torch.isnan(data).any())\n",
        "\t\tassert(not torch.isnan(time_steps).any())\n",
        "\n",
        "\t\tn_traj, n_tp, n_dims = data.size()\n",
        "\t\tif len(time_steps) == 1:\n",
        "\t\t\tprev_y = torch.zeros((1, n_traj, self.latent_dim)).to(self.device)\n",
        "\t\t\tprev_std = torch.zeros((1, n_traj, self.latent_dim)).to(self.device)\n",
        "\n",
        "\t\t\txi = data[:,0,:].unsqueeze(0)\n",
        "\n",
        "\t\t\tlast_yi, last_yi_std = self.GRU_update(prev_y, prev_std, xi)\n",
        "\t\t\textra_info = None\n",
        "\t\telse:\n",
        "\t\t\t\n",
        "\t\t\tlast_yi, last_yi_std, _, extra_info = self.run_odernn(\n",
        "\t\t\t\tdata, time_steps, run_backwards = run_backwards,\n",
        "\t\t\t\tsave_info = save_info)\n",
        "\n",
        "\t\tmeans_z0 = last_yi.reshape(1, n_traj, self.latent_dim)\n",
        "\t\tstd_z0 = last_yi_std.reshape(1, n_traj, self.latent_dim)\n",
        "\n",
        "\t\tmean_z0, std_z0 = utils.split_last_dim( self.transform_z0( torch.cat((means_z0, std_z0), -1)))\n",
        "\t\tstd_z0 = std_z0.abs()\n",
        "\t\tif save_info:\n",
        "\t\t\tself.extra_info = extra_info\n",
        "\n",
        "\t\treturn mean_z0, std_z0\n",
        "\n",
        "\n",
        "\tdef run_odernn(self, data, time_steps, \n",
        "\t\trun_backwards = True, save_info = False):\n",
        "\t\t# IMPORTANT: assumes that 'data' already has mask concatenated to it \n",
        "\n",
        "\t\tn_traj, n_tp, n_dims = data.size()\n",
        "\t\textra_info = []\n",
        "\n",
        "\t\tt0 = time_steps[-1]\n",
        "\t\tif run_backwards:\n",
        "\t\t\tt0 = time_steps[0]\n",
        "\n",
        "\t\tdevice = get_device(data)\n",
        "\n",
        "\t\tprev_y = torch.zeros((1, n_traj, self.latent_dim)).to(device)\n",
        "\t\tprev_std = torch.zeros((1, n_traj, self.latent_dim)).to(device)\n",
        "\n",
        "\t\tprev_t, t_i = time_steps[-1] + 0.01,  time_steps[-1]\n",
        "\n",
        "\t\tinterval_length = time_steps[-1] - time_steps[0]\n",
        "\t\tminimum_step = interval_length / 50\n",
        "\n",
        "\t\t#print(\"minimum step: {}\".format(minimum_step))\n",
        "\n",
        "\t\tassert(not torch.isnan(data).any())\n",
        "\t\tassert(not torch.isnan(time_steps).any())\n",
        "\n",
        "\t\tlatent_ys = []\n",
        "\t\t# Run ODE backwards and combine the y(t) estimates using gating\n",
        "\t\ttime_points_iter = range(0, len(time_steps))\n",
        "\t\tif run_backwards:\n",
        "\t\t\ttime_points_iter = reversed(time_points_iter)\n",
        "\n",
        "\t\tfor i in time_points_iter:\n",
        "\t\t\tif (prev_t - t_i) < minimum_step:\n",
        "\t\t\t\ttime_points = torch.stack((prev_t, t_i))\n",
        "\t\t\t\tinc = self.z0_diffeq_solver.ode_func(prev_t, prev_y) * (t_i - prev_t)\n",
        "\n",
        "\t\t\t\tassert(not torch.isnan(inc).any())\n",
        "\n",
        "\t\t\t\tode_sol = prev_y + inc\n",
        "\t\t\t\tode_sol = torch.stack((prev_y, ode_sol), 2).to(device)\n",
        "\n",
        "\t\t\t\tassert(not torch.isnan(ode_sol).any())\n",
        "\t\t\telse:\n",
        "\t\t\t\tn_intermediate_tp = max(2, ((prev_t - t_i) / minimum_step).int())\n",
        "\n",
        "\t\t\t\ttime_points = utils.linspace_vector(prev_t, t_i, n_intermediate_tp)\n",
        "\t\t\t\tode_sol = self.z0_diffeq_solver(prev_y, time_points)\n",
        "\n",
        "\t\t\t\tassert(not torch.isnan(ode_sol).any())\n",
        "\n",
        "\t\t\tif torch.mean(ode_sol[:, :, 0, :]  - prev_y) >= 0.001:\n",
        "\t\t\t\tprint(\"Error: first point of the ODE is not equal to initial value\")\n",
        "\t\t\t\tprint(torch.mean(ode_sol[:, :, 0, :]  - prev_y))\n",
        "\t\t\t\texit()\n",
        "\t\t\t#assert(torch.mean(ode_sol[:, :, 0, :]  - prev_y) < 0.001)\n",
        "\n",
        "\t\t\tyi_ode = ode_sol[:, :, -1, :]\n",
        "\t\t\txi = data[:,i,:].unsqueeze(0)\n",
        "\t\t\t\n",
        "\t\t\tyi, yi_std = self.GRU_update(yi_ode, prev_std, xi)\n",
        "\n",
        "\t\t\tprev_y, prev_std = yi, yi_std\t\t\t\n",
        "\t\t\tprev_t, t_i = time_steps[i],  time_steps[i-1]\n",
        "\n",
        "\t\t\tlatent_ys.append(yi)\n",
        "\n",
        "\t\t\tif save_info:\n",
        "\t\t\t\td = {\"yi_ode\": yi_ode.detach(), #\"yi_from_data\": yi_from_data,\n",
        "\t\t\t\t\t \"yi\": yi.detach(), \"yi_std\": yi_std.detach(), \n",
        "\t\t\t\t\t \"time_points\": time_points.detach(), \"ode_sol\": ode_sol.detach()}\n",
        "\t\t\t\textra_info.append(d)\n",
        "\n",
        "\t\tlatent_ys = torch.stack(latent_ys, 1)\n",
        "\n",
        "\t\tassert(not torch.isnan(yi).any())\n",
        "\t\tassert(not torch.isnan(yi_std).any())\n",
        "\n",
        "\t\treturn yi, yi_std, latent_ys, extra_info\n",
        "\n",
        "\n",
        "\n",
        "class Decoder(nn.Module):\n",
        "\tdef __init__(self, latent_dim, input_dim):\n",
        "\t\tsuper(Decoder, self).__init__()\n",
        "\t\t# decode data from latent space where we are solving an ODE back to the data space\n",
        "\n",
        "\t\tdecoder = nn.Sequential(\n",
        "\t\t   nn.Linear(latent_dim, input_dim),)\n",
        "\n",
        "\t\tutils.init_network_weights(decoder)\t\n",
        "\t\tself.decoder = decoder\n",
        "\n",
        "\tdef forward(self, data):\n",
        "\t\treturn self.decoder(data)\n",
        "\n",
        "\n"
      ],
      "execution_count": 12,
      "outputs": []
    },
    {
      "cell_type": "markdown",
      "metadata": {
        "id": "5MtrsGDjhy_t"
      },
      "source": [
        "## likelihood_eval.py"
      ]
    },
    {
      "cell_type": "code",
      "metadata": {
        "id": "YPhI4WBuhy_u"
      },
      "source": [
        "def gaussian_log_likelihood(mu_2d, data_2d, obsrv_std, indices = None):\n",
        "\tn_data_points = mu_2d.size()[-1]\n",
        "\n",
        "\tif n_data_points > 0:\n",
        "\t\tgaussian = Independent(Normal(loc = mu_2d, scale = obsrv_std.repeat(n_data_points)), 1)\n",
        "\t\tlog_prob = gaussian.log_prob(data_2d) \n",
        "\t\tlog_prob = log_prob / n_data_points \n",
        "\telse:\n",
        "\t\tlog_prob = torch.zeros([1]).to(get_device(data_2d)).squeeze()\n",
        "\treturn log_prob\n",
        "\n",
        "\n",
        "def poisson_log_likelihood(masked_log_lambdas, masked_data, indices, int_lambdas):\n",
        "\t# masked_log_lambdas and masked_data \n",
        "\tn_data_points = masked_data.size()[-1]\n",
        "\n",
        "\tif n_data_points > 0:\n",
        "\t\tlog_prob = torch.sum(masked_log_lambdas) - int_lambdas[indices]\n",
        "\t\t#log_prob = log_prob / n_data_points\n",
        "\telse:\n",
        "\t\tlog_prob = torch.zeros([1]).to(get_device(masked_data)).squeeze()\n",
        "\treturn log_prob\n",
        "\n",
        "\n",
        "\n",
        "def compute_binary_CE_loss(label_predictions, mortality_label):\n",
        "\t#print(\"Computing binary classification loss: compute_CE_loss\")\n",
        "\n",
        "\tmortality_label = mortality_label.reshape(-1)\n",
        "\n",
        "\tif len(label_predictions.size()) == 1:\n",
        "\t\tlabel_predictions = label_predictions.unsqueeze(0)\n",
        " \n",
        "\tn_traj_samples = label_predictions.size(0)\n",
        "\tlabel_predictions = label_predictions.reshape(n_traj_samples, -1)\n",
        "\t\n",
        "\tidx_not_nan = ~torch.isnan(mortality_label)\n",
        "\tif len(idx_not_nan) == 0.:\n",
        "\t\tprint(\"All are labels are NaNs!\")\n",
        "\t\tce_loss = torch.Tensor(0.).to(get_device(mortality_label))\n",
        "\n",
        "\tlabel_predictions = label_predictions[:,idx_not_nan]\n",
        "\tmortality_label = mortality_label[idx_not_nan]\n",
        "\n",
        "\tif torch.sum(mortality_label == 0.) == 0 or torch.sum(mortality_label == 1.) == 0:\n",
        "\t\tprint(\"Warning: all examples in a batch belong to the same class -- please increase the batch size.\")\n",
        "\n",
        "\tassert(not torch.isnan(label_predictions).any())\n",
        "\tassert(not torch.isnan(mortality_label).any())\n",
        "\n",
        "\t# For each trajectory, we get n_traj_samples samples from z0 -- compute loss on all of them\n",
        "\tmortality_label = mortality_label.repeat(n_traj_samples, 1)\n",
        "\tce_loss = nn.BCEWithLogitsLoss()(label_predictions, mortality_label)\n",
        "\n",
        "\t# divide by number of patients in a batch\n",
        "\tce_loss = ce_loss / n_traj_samples\n",
        "\treturn ce_loss\n",
        "\n",
        "\n",
        "def compute_multiclass_CE_loss(label_predictions, true_label, mask):\n",
        "\t#print(\"Computing multi-class classification loss: compute_multiclass_CE_loss\")\n",
        "\n",
        "\tif (len(label_predictions.size()) == 3):\n",
        "\t\tlabel_predictions = label_predictions.unsqueeze(0)\n",
        "\n",
        "\tn_traj_samples, n_traj, n_tp, n_dims = label_predictions.size()\n",
        "\n",
        "\t# assert(not torch.isnan(label_predictions).any())\n",
        "\t# assert(not torch.isnan(true_label).any())\n",
        "\n",
        "\t# For each trajectory, we get n_traj_samples samples from z0 -- compute loss on all of them\n",
        "\ttrue_label = true_label.repeat(n_traj_samples, 1, 1)\n",
        "\n",
        "\tlabel_predictions = label_predictions.reshape(n_traj_samples * n_traj * n_tp, n_dims)\n",
        "\ttrue_label = true_label.reshape(n_traj_samples * n_traj * n_tp, n_dims)\n",
        "\n",
        "\t# choose time points with at least one measurement\n",
        "\tmask = torch.sum(mask, -1) > 0\n",
        "\n",
        "\t# repeat the mask for each label to mark that the label for this time point is present\n",
        "\tpred_mask = mask.repeat(n_dims, 1,1).permute(1,2,0)\n",
        "\n",
        "\tlabel_mask = mask\n",
        "\tpred_mask = pred_mask.repeat(n_traj_samples,1,1,1)\n",
        "\tlabel_mask = label_mask.repeat(n_traj_samples,1,1,1)\n",
        "\n",
        "\tpred_mask = pred_mask.reshape(n_traj_samples * n_traj * n_tp,  n_dims)\n",
        "\tlabel_mask = label_mask.reshape(n_traj_samples * n_traj * n_tp, 1)\n",
        "\n",
        "\tif (label_predictions.size(-1) > 1) and (true_label.size(-1) > 1):\n",
        "\t\tassert(label_predictions.size(-1) == true_label.size(-1))\n",
        "\t\t# targets are in one-hot encoding -- convert to indices\n",
        "\t\t_, true_label = true_label.max(-1)\n",
        "\n",
        "\tres = []\n",
        "\tfor i in range(true_label.size(0)):\n",
        "\t\tpred_masked = torch.masked_select(label_predictions[i], pred_mask[i].bool())\n",
        "\t\tlabels = torch.masked_select(true_label[i], label_mask[i].bool())\n",
        "\t\n",
        "\t\tpred_masked = pred_masked.reshape(-1, n_dims)\n",
        "\n",
        "\t\tif (len(labels) == 0):\n",
        "\t\t\tcontinue\n",
        "\n",
        "\t\tce_loss = nn.CrossEntropyLoss()(pred_masked, labels.long())\n",
        "\t\tres.append(ce_loss)\n",
        "\n",
        "\tce_loss = torch.stack(res, 0).to(get_device(label_predictions))\n",
        "\tce_loss = torch.mean(ce_loss)\n",
        "\t# # divide by number of patients in a batch\n",
        "\t# ce_loss = ce_loss / n_traj_samples\n",
        "\treturn ce_loss\n",
        "\n",
        "\n",
        "\n",
        "\n",
        "def compute_masked_likelihood(mu, data, mask, likelihood_func):\n",
        "\t# Compute the likelihood per patient and per attribute so that we don't priorize patients with more measurements\n",
        "\tn_traj_samples, n_traj, n_timepoints, n_dims = data.size()\n",
        "\n",
        "\tres = []\n",
        "\tfor i in range(n_traj_samples):\n",
        "\t\tfor k in range(n_traj):\n",
        "\t\t\tfor j in range(n_dims):\n",
        "\t\t\t\tdata_masked = torch.masked_select(data[i,k,:,j], mask[i,k,:,j].bool())\n",
        "\t\t\t\t\n",
        "\t\t\t\t#assert(torch.sum(data_masked == 0.) < 10)\n",
        "\n",
        "\t\t\t\tmu_masked = torch.masked_select(mu[i,k,:,j], mask[i,k,:,j].bool())\n",
        "\t\t\t\tlog_prob = likelihood_func(mu_masked, data_masked, indices = (i,k,j))\n",
        "\t\t\t\tres.append(log_prob)\n",
        "\t# shape: [n_traj*n_traj_samples, 1]\n",
        "\n",
        "\tres = torch.stack(res, 0).to(get_device(data))\n",
        "\tres = res.reshape((n_traj_samples, n_traj, n_dims))\n",
        "\t# Take mean over the number of dimensions\n",
        "\tres = torch.mean(res, -1) # !!!!!!!!!!! changed from sum to mean\n",
        "\tres = res.transpose(0,1)\n",
        "\treturn res\n",
        "\n",
        "\n",
        "def masked_gaussian_log_density(mu, data, obsrv_std, mask = None):\n",
        "\t# these cases are for plotting through plot_estim_density\n",
        "\tif (len(mu.size()) == 3):\n",
        "\t\t# add additional dimension for gp samples\n",
        "\t\tmu = mu.unsqueeze(0)\n",
        "\n",
        "\tif (len(data.size()) == 2):\n",
        "\t\t# add additional dimension for gp samples and time step\n",
        "\t\tdata = data.unsqueeze(0).unsqueeze(2)\n",
        "\telif (len(data.size()) == 3):\n",
        "\t\t# add additional dimension for gp samples\n",
        "\t\tdata = data.unsqueeze(0)\n",
        "\n",
        "\tn_traj_samples, n_traj, n_timepoints, n_dims = mu.size()\n",
        "\n",
        "\tassert(data.size()[-1] == n_dims)\n",
        "\n",
        "\t# Shape after permutation: [n_traj, n_traj_samples, n_timepoints, n_dims]\n",
        "\tif mask is None:\n",
        "\t\tmu_flat = mu.reshape(n_traj_samples*n_traj, n_timepoints * n_dims)\n",
        "\t\tn_traj_samples, n_traj, n_timepoints, n_dims = data.size()\n",
        "\t\tdata_flat = data.reshape(n_traj_samples*n_traj, n_timepoints * n_dims)\n",
        "\t\n",
        "\t\tres = gaussian_log_likelihood(mu_flat, data_flat, obsrv_std)\n",
        "\t\tres = res.reshape(n_traj_samples, n_traj).transpose(0,1)\n",
        "\telse:\n",
        "\t\t# Compute the likelihood per patient so that we don't priorize patients with more measurements\n",
        "\t\tfunc = lambda mu, data, indices: gaussian_log_likelihood(mu, data, obsrv_std = obsrv_std, indices = indices)\n",
        "\t\tres = compute_masked_likelihood(mu, data, mask, func)\n",
        "\treturn res\n",
        "\n",
        "\n",
        "\n",
        "def mse(mu, data, indices = None):\n",
        "\tn_data_points = mu.size()[-1]\n",
        "\n",
        "\tif n_data_points > 0:\n",
        "\t\tmse = nn.MSELoss()(mu, data)\n",
        "\telse:\n",
        "\t\tmse = torch.zeros([1]).to(get_device(data)).squeeze()\n",
        "\treturn mse\n",
        "\n",
        "\n",
        "def compute_mse(mu, data, mask = None):\n",
        "\t# these cases are for plotting through plot_estim_density\n",
        "\tif (len(mu.size()) == 3):\n",
        "\t\t# add additional dimension for gp samples\n",
        "\t\tmu = mu.unsqueeze(0)\n",
        "\n",
        "\tif (len(data.size()) == 2):\n",
        "\t\t# add additional dimension for gp samples and time step\n",
        "\t\tdata = data.unsqueeze(0).unsqueeze(2)\n",
        "\telif (len(data.size()) == 3):\n",
        "\t\t# add additional dimension for gp samples\n",
        "\t\tdata = data.unsqueeze(0)\n",
        "\n",
        "\tn_traj_samples, n_traj, n_timepoints, n_dims = mu.size()\n",
        "\tassert(data.size()[-1] == n_dims)\n",
        "\n",
        "\t# Shape after permutation: [n_traj, n_traj_samples, n_timepoints, n_dims]\n",
        "\tif mask is None:\n",
        "\t\tmu_flat = mu.reshape(n_traj_samples*n_traj, n_timepoints * n_dims)\n",
        "\t\tn_traj_samples, n_traj, n_timepoints, n_dims = data.size()\n",
        "\t\tdata_flat = data.reshape(n_traj_samples*n_traj, n_timepoints * n_dims)\n",
        "\t\tres = mse(mu_flat, data_flat)\n",
        "\telse:\n",
        "\t\t# Compute the likelihood per patient so that we don't priorize patients with more measurements\n",
        "\t\tres = compute_masked_likelihood(mu, data, mask, mse)\n",
        "\treturn res\n",
        "\n",
        "\n",
        "\n",
        "\n",
        "def compute_poisson_proc_likelihood(truth, pred_y, info, mask = None):\n",
        "\t# Compute Poisson likelihood\n",
        "\t# https://math.stackexchange.com/questions/344487/log-likelihood-of-a-realization-of-a-poisson-process\n",
        "\t# Sum log lambdas across all time points\n",
        "\tif mask is None:\n",
        "\t\tpoisson_log_l = torch.sum(info[\"log_lambda_y\"], 2) - info[\"int_lambda\"]\n",
        "\t\t# Sum over data dims\n",
        "\t\tpoisson_log_l = torch.mean(poisson_log_l, -1)\n",
        "\telse:\n",
        "\t\t# Compute likelihood of the data under the predictions\n",
        "\t\ttruth_repeated = truth.repeat(pred_y.size(0), 1, 1, 1)\n",
        "\t\tmask_repeated = mask.repeat(pred_y.size(0), 1, 1, 1)\n",
        "\n",
        "\t\t# Compute the likelihood per patient and per attribute so that we don't priorize patients with more measurements\n",
        "\t\tint_lambda = info[\"int_lambda\"]\n",
        "\t\tf = lambda log_lam, data, indices: poisson_log_likelihood(log_lam, data, indices, int_lambda)\n",
        "\t\tpoisson_log_l = compute_masked_likelihood(info[\"log_lambda_y\"], truth_repeated, mask_repeated, f)\n",
        "\t\tpoisson_log_l = poisson_log_l.permute(1,0)\n",
        "\t\t# Take mean over n_traj\n",
        "\t\t#poisson_log_l = torch.mean(poisson_log_l, 1)\n",
        "\t\t\n",
        "\t# poisson_log_l shape: [n_traj_samples, n_traj]\n",
        "\treturn poisson_log_l\n",
        "\n",
        "\t\n",
        "\n"
      ],
      "execution_count": 13,
      "outputs": []
    },
    {
      "cell_type": "markdown",
      "metadata": {
        "id": "O4dZh3AMhy_v"
      },
      "source": [
        "## base_models.py"
      ]
    },
    {
      "cell_type": "code",
      "metadata": {
        "id": "AX5bWiLXhy_v"
      },
      "source": [
        "###########################\n",
        "# Latent ODEs for Irregularly-Sampled Time Series\n",
        "# Author: Yulia Rubanova\n",
        "###########################\n",
        "\n",
        "\n",
        "def create_classifier(z0_dim, n_labels):\n",
        "\treturn nn.Sequential(\n",
        "\t\t\tnn.Linear(z0_dim, 300),\n",
        "\t\t\tnn.ReLU(),\n",
        "\t\t\tnn.Linear(300, 300),\n",
        "\t\t\tnn.ReLU(),\n",
        "\t\t\tnn.Linear(300, n_labels),)\n",
        "\n",
        "\n",
        "class Baseline(nn.Module):\n",
        "\tdef __init__(self, input_dim, latent_dim, device, \n",
        "\t\tobsrv_std = 0.01, use_binary_classif = False,\n",
        "\t\tclassif_per_tp = False,\n",
        "\t\tuse_poisson_proc = False,\n",
        "\t\tlinear_classifier = False,\n",
        "\t\tn_labels = 1,\n",
        "\t\ttrain_classif_w_reconstr = False):\n",
        "\t\tsuper(Baseline, self).__init__()\n",
        "\n",
        "\t\tself.input_dim = input_dim\n",
        "\t\tself.latent_dim = latent_dim\n",
        "\t\tself.n_labels = n_labels\n",
        "\n",
        "\t\tself.obsrv_std = torch.Tensor([obsrv_std]).to(device)\n",
        "\t\tself.device = device\n",
        "\n",
        "\t\tself.use_binary_classif = use_binary_classif\n",
        "\t\tself.classif_per_tp = classif_per_tp\n",
        "\t\tself.use_poisson_proc = use_poisson_proc\n",
        "\t\tself.linear_classifier = linear_classifier\n",
        "\t\tself.train_classif_w_reconstr = train_classif_w_reconstr\n",
        "\n",
        "\t\tz0_dim = latent_dim\n",
        "\t\tif use_poisson_proc:\n",
        "\t\t\tz0_dim += latent_dim\n",
        "\n",
        "\t\tif use_binary_classif: \n",
        "\t\t\tif linear_classifier:\n",
        "\t\t\t\tself.classifier = nn.Sequential(\n",
        "\t\t\t\t\tnn.Linear(z0_dim, n_labels))\n",
        "\t\t\telse:\n",
        "\t\t\t\tself.classifier = create_classifier(z0_dim, n_labels)\n",
        "\t\t\tutils.init_network_weights(self.classifier)\n",
        "\n",
        "\n",
        "\tdef get_gaussian_likelihood(self, truth, pred_y, mask = None):\n",
        "\t\t# pred_y shape [n_traj_samples, n_traj, n_tp, n_dim]\n",
        "\t\t# truth shape  [n_traj, n_tp, n_dim]\n",
        "\t\tif mask is not None:\n",
        "\t\t\tmask = mask.repeat(pred_y.size(0), 1, 1, 1)\n",
        "\n",
        "\t\t# Compute likelihood of the data under the predictions\n",
        "\t\tlog_density_data = masked_gaussian_log_density(pred_y, truth, \n",
        "\t\t\tobsrv_std = self.obsrv_std, mask = mask)\n",
        "\t\tlog_density_data = log_density_data.permute(1,0)\n",
        "\n",
        "\t\t# Compute the total density\n",
        "\t\t# Take mean over n_traj_samples\n",
        "\t\tlog_density = torch.mean(log_density_data, 0)\n",
        "\n",
        "\t\t# shape: [n_traj]\n",
        "\t\treturn log_density\n",
        "\n",
        "\n",
        "\tdef get_mse(self, truth, pred_y, mask = None):\n",
        "\t\t# pred_y shape [n_traj_samples, n_traj, n_tp, n_dim]\n",
        "\t\t# truth shape  [n_traj, n_tp, n_dim]\n",
        "\t\tif mask is not None:\n",
        "\t\t\tmask = mask.repeat(pred_y.size(0), 1, 1, 1)\n",
        "\n",
        "\t\t# Compute likelihood of the data under the predictions\n",
        "\t\tlog_density_data = compute_mse(pred_y, truth, mask = mask)\n",
        "\t\t# shape: [1]\n",
        "\t\treturn torch.mean(log_density_data)\n",
        "\n",
        "\n",
        "\tdef compute_all_losses(self, batch_dict,\n",
        "\t\tn_tp_to_sample = None, n_traj_samples = 1, kl_coef = 1.):\n",
        "\n",
        "\t\t# Condition on subsampled points\n",
        "\t\t# Make predictions for all the points\n",
        "\t\tpred_x, info = self.get_reconstruction(batch_dict[\"tp_to_predict\"], \n",
        "\t\t\tbatch_dict[\"observed_data\"], batch_dict[\"observed_tp\"], \n",
        "\t\t\tmask = batch_dict[\"observed_mask\"], n_traj_samples = n_traj_samples,\n",
        "\t\t\tmode = batch_dict[\"mode\"])\n",
        "\n",
        "\t\t# Compute likelihood of all the points\n",
        "\t\tlikelihood = self.get_gaussian_likelihood(batch_dict[\"data_to_predict\"], pred_x,\n",
        "\t\t\tmask = batch_dict[\"mask_predicted_data\"])\n",
        "\n",
        "\t\tmse = self.get_mse(batch_dict[\"data_to_predict\"], pred_x,\n",
        "\t\t\tmask = batch_dict[\"mask_predicted_data\"])\n",
        "\n",
        "\t\t################################\n",
        "\t\t# Compute CE loss for binary classification on Physionet\n",
        "\t\t# Use only last attribute -- mortatility in the hospital \n",
        "\t\tdevice = get_device(batch_dict[\"data_to_predict\"])\n",
        "\t\tce_loss = torch.Tensor([0.]).to(device)\n",
        "\t\t\n",
        "\t\tif (batch_dict[\"labels\"] is not None) and self.use_binary_classif:\n",
        "\t\t\tif (batch_dict[\"labels\"].size(-1) == 1) or (len(batch_dict[\"labels\"].size()) == 1):\n",
        "\t\t\t\tce_loss = compute_binary_CE_loss(\n",
        "\t\t\t\t\tinfo[\"label_predictions\"], \n",
        "\t\t\t\t\tbatch_dict[\"labels\"])\n",
        "\t\t\telse:\n",
        "\t\t\t\tce_loss = compute_multiclass_CE_loss(\n",
        "\t\t\t\t\tinfo[\"label_predictions\"], \n",
        "\t\t\t\t\tbatch_dict[\"labels\"],\n",
        "\t\t\t\t\tmask = batch_dict[\"mask_predicted_data\"])\n",
        "\n",
        "\t\t\tif torch.isnan(ce_loss):\n",
        "\t\t\t\tprint(\"label pred\")\n",
        "\t\t\t\tprint(info[\"label_predictions\"])\n",
        "\t\t\t\tprint(\"labels\")\n",
        "\t\t\t\tprint( batch_dict[\"labels\"])\n",
        "\t\t\t\traise Exception(\"CE loss is Nan!\")\n",
        "\n",
        "\t\tpois_log_likelihood = torch.Tensor([0.]).to(get_device(batch_dict[\"data_to_predict\"]))\n",
        "\t\tif self.use_poisson_proc:\n",
        "\t\t\tpois_log_likelihood = compute_poisson_proc_likelihood(\n",
        "\t\t\t\tbatch_dict[\"data_to_predict\"], pred_x, \n",
        "\t\t\t\tinfo, mask = batch_dict[\"mask_predicted_data\"])\n",
        "\t\t\t# Take mean over n_traj\n",
        "\t\t\tpois_log_likelihood = torch.mean(pois_log_likelihood, 1)\n",
        "\n",
        "\t\tloss = - torch.mean(likelihood)\n",
        "\n",
        "\t\tif self.use_poisson_proc:\n",
        "\t\t\tloss = loss - 0.1 * pois_log_likelihood \n",
        "\n",
        "\t\tif self.use_binary_classif:\n",
        "\t\t\tif self.train_classif_w_reconstr:\n",
        "\t\t\t\tloss = loss +  ce_loss * 100\n",
        "\t\t\telse:\n",
        "\t\t\t\tloss =  ce_loss\n",
        "\n",
        "\t\t# Take mean over the number of samples in a batch\n",
        "\t\tresults = {}\n",
        "\t\tresults[\"loss\"] = torch.mean(loss)\n",
        "\t\tresults[\"likelihood\"] = torch.mean(likelihood).detach()\n",
        "\t\tresults[\"mse\"] = torch.mean(mse).detach()\n",
        "\t\tresults[\"pois_likelihood\"] = torch.mean(pois_log_likelihood).detach()\n",
        "\t\tresults[\"ce_loss\"] = torch.mean(ce_loss).detach()\n",
        "\t\tresults[\"kl\"] = 0.\n",
        "\t\tresults[\"kl_first_p\"] =  0.\n",
        "\t\tresults[\"std_first_p\"] = 0.\n",
        "\n",
        "\t\tif batch_dict[\"labels\"] is not None and self.use_binary_classif:\n",
        "\t\t\tresults[\"label_predictions\"] = info[\"label_predictions\"].detach()\n",
        "\t\treturn results\n",
        "\n",
        "\n",
        "\n",
        "class VAE_Baseline(nn.Module):\n",
        "\tdef __init__(self, input_dim, latent_dim, \n",
        "\t\tz0_prior, device,\n",
        "\t\tobsrv_std = 0.01, \n",
        "\t\tuse_binary_classif = False,\n",
        "\t\tclassif_per_tp = False,\n",
        "\t\tuse_poisson_proc = False,\n",
        "\t\tlinear_classifier = False,\n",
        "\t\tn_labels = 1,\n",
        "\t\ttrain_classif_w_reconstr = False):\n",
        "\n",
        "\t\tsuper(VAE_Baseline, self).__init__()\n",
        "\t\t\n",
        "\t\tself.input_dim = input_dim\n",
        "\t\tself.latent_dim = latent_dim\n",
        "\t\tself.device = device\n",
        "\t\tself.n_labels = n_labels\n",
        "\n",
        "\t\tself.obsrv_std = torch.Tensor([obsrv_std]).to(device)\n",
        "\n",
        "\t\tself.z0_prior = z0_prior\n",
        "\t\tself.use_binary_classif = use_binary_classif\n",
        "\t\tself.classif_per_tp = classif_per_tp\n",
        "\t\tself.use_poisson_proc = use_poisson_proc\n",
        "\t\tself.linear_classifier = linear_classifier\n",
        "\t\tself.train_classif_w_reconstr = train_classif_w_reconstr\n",
        "\n",
        "\t\tz0_dim = latent_dim\n",
        "\t\tif use_poisson_proc:\n",
        "\t\t\tz0_dim += latent_dim\n",
        "\n",
        "\t\tif use_binary_classif: \n",
        "\t\t\tif linear_classifier:\n",
        "\t\t\t\tself.classifier = nn.Sequential(\n",
        "\t\t\t\t\tnn.Linear(z0_dim, n_labels))\n",
        "\t\t\telse:\n",
        "\t\t\t\tself.classifier = create_classifier(z0_dim, n_labels)\n",
        "\t\t\tutils.init_network_weights(self.classifier)\n",
        "\n",
        "\n",
        "\tdef get_gaussian_likelihood(self, truth, pred_y, mask = None):\n",
        "\t\t# pred_y shape [n_traj_samples, n_traj, n_tp, n_dim]\n",
        "\t\t# truth shape  [n_traj, n_tp, n_dim]\n",
        "\t\tn_traj, n_tp, n_dim = truth.size()\n",
        "\n",
        "\t\t# Compute likelihood of the data under the predictions\n",
        "\t\ttruth_repeated = truth.repeat(pred_y.size(0), 1, 1, 1)\n",
        "\t\t\n",
        "\t\tif mask is not None:\n",
        "\t\t\tmask = mask.repeat(pred_y.size(0), 1, 1, 1)\n",
        "\t\tlog_density_data = masked_gaussian_log_density(pred_y, truth_repeated, \n",
        "\t\t\tobsrv_std = self.obsrv_std, mask = mask)\n",
        "\t\tlog_density_data = log_density_data.permute(1,0)\n",
        "\t\tlog_density = torch.mean(log_density_data, 1)\n",
        "\n",
        "\t\t# shape: [n_traj_samples]\n",
        "\t\treturn log_density\n",
        "\n",
        "\n",
        "\tdef get_mse(self, truth, pred_y, mask = None):\n",
        "\t\t# pred_y shape [n_traj_samples, n_traj, n_tp, n_dim]\n",
        "\t\t# truth shape  [n_traj, n_tp, n_dim]\n",
        "\t\tn_traj, n_tp, n_dim = truth.size()\n",
        "\n",
        "\t\t# Compute likelihood of the data under the predictions\n",
        "\t\ttruth_repeated = truth.repeat(pred_y.size(0), 1, 1, 1)\n",
        "\t\t\n",
        "\t\tif mask is not None:\n",
        "\t\t\tmask = mask.repeat(pred_y.size(0), 1, 1, 1)\n",
        "\n",
        "\t\t# Compute likelihood of the data under the predictions\n",
        "\t\tlog_density_data = compute_mse(pred_y, truth_repeated, mask = mask)\n",
        "\t\t# shape: [1]\n",
        "\t\treturn torch.mean(log_density_data)\n",
        "\n",
        "\n",
        "\tdef compute_all_losses(self, batch_dict, n_traj_samples = 1, kl_coef = 1.):\n",
        "\t\t# Condition on subsampled points\n",
        "\t\t# Make predictions for all the points\n",
        "\t\tpred_y, info = self.get_reconstruction(batch_dict[\"tp_to_predict\"], \n",
        "\t\t\tbatch_dict[\"observed_data\"], batch_dict[\"observed_tp\"], \n",
        "\t\t\tmask = batch_dict[\"observed_mask\"], n_traj_samples = n_traj_samples,\n",
        "\t\t\tmode = batch_dict[\"mode\"])\n",
        "\n",
        "\t\t#print(\"get_reconstruction done -- computing likelihood\")\n",
        "\t\tfp_mu, fp_std, fp_enc = info[\"first_point\"]\n",
        "\t\tfp_std = fp_std.abs()\n",
        "\t\tfp_distr = Normal(fp_mu, fp_std)\n",
        "\n",
        "\t\tassert(torch.sum(fp_std < 0) == 0.)\n",
        "\n",
        "\t\tkldiv_z0 = kl_divergence(fp_distr, self.z0_prior)\n",
        "\n",
        "\t\tif torch.isnan(kldiv_z0).any():\n",
        "\t\t\tprint(fp_mu)\n",
        "\t\t\tprint(fp_std)\n",
        "\t\t\traise Exception(\"kldiv_z0 is Nan!\")\n",
        "\n",
        "\t\t# Mean over number of latent dimensions\n",
        "\t\t# kldiv_z0 shape: [n_traj_samples, n_traj, n_latent_dims] if prior is a mixture of gaussians (KL is estimated)\n",
        "\t\t# kldiv_z0 shape: [1, n_traj, n_latent_dims] if prior is a standard gaussian (KL is computed exactly)\n",
        "\t\t# shape after: [n_traj_samples]\n",
        "\t\tkldiv_z0 = torch.mean(kldiv_z0,(1,2))\n",
        "\n",
        "\t\t# Compute likelihood of all the points\n",
        "\t\trec_likelihood = self.get_gaussian_likelihood(\n",
        "\t\t\tbatch_dict[\"data_to_predict\"], pred_y,\n",
        "\t\t\tmask = batch_dict[\"mask_predicted_data\"])\n",
        "\n",
        "\t\tmse = self.get_mse(\n",
        "\t\t\tbatch_dict[\"data_to_predict\"], pred_y,\n",
        "\t\t\tmask = batch_dict[\"mask_predicted_data\"])\n",
        "\n",
        "\t\tpois_log_likelihood = torch.Tensor([0.]).to(get_device(batch_dict[\"data_to_predict\"]))\n",
        "\t\tif self.use_poisson_proc:\n",
        "\t\t\tpois_log_likelihood = compute_poisson_proc_likelihood(\n",
        "\t\t\t\tbatch_dict[\"data_to_predict\"], pred_y, \n",
        "\t\t\t\tinfo, mask = batch_dict[\"mask_predicted_data\"])\n",
        "\t\t\t# Take mean over n_traj\n",
        "\t\t\tpois_log_likelihood = torch.mean(pois_log_likelihood, 1)\n",
        "\n",
        "\t\t################################\n",
        "\t\t# Compute CE loss for binary classification on Physionet\n",
        "\t\tdevice = get_device(batch_dict[\"data_to_predict\"])\n",
        "\t\tce_loss = torch.Tensor([0.]).to(device)\n",
        "\t\tif (batch_dict[\"labels\"] is not None) and self.use_binary_classif:\n",
        "\n",
        "\t\t\tif (batch_dict[\"labels\"].size(-1) == 1) or (len(batch_dict[\"labels\"].size()) == 1):\n",
        "\t\t\t\tce_loss = compute_binary_CE_loss(\n",
        "\t\t\t\t\tinfo[\"label_predictions\"], \n",
        "\t\t\t\t\tbatch_dict[\"labels\"])\n",
        "\t\t\telse:\n",
        "\t\t\t\tce_loss = compute_multiclass_CE_loss(\n",
        "\t\t\t\t\tinfo[\"label_predictions\"], \n",
        "\t\t\t\t\tbatch_dict[\"labels\"],\n",
        "\t\t\t\t\tmask = batch_dict[\"mask_predicted_data\"])\n",
        "\n",
        "\t\t# IWAE loss\n",
        "\t\tloss = - torch.logsumexp(rec_likelihood -  kl_coef * kldiv_z0,0)\n",
        "\t\tif torch.isnan(loss):\n",
        "\t\t\tloss = - torch.mean(rec_likelihood - kl_coef * kldiv_z0,0)\n",
        "\t\t\t\n",
        "\t\tif self.use_poisson_proc:\n",
        "\t\t\tloss = loss - 0.1 * pois_log_likelihood \n",
        "\n",
        "\t\tif self.use_binary_classif:\n",
        "\t\t\tif self.train_classif_w_reconstr:\n",
        "\t\t\t\tloss = loss +  ce_loss * 100\n",
        "\t\t\telse:\n",
        "\t\t\t\tloss =  ce_loss\n",
        "\n",
        "\t\tresults = {}\n",
        "\t\tresults['pred_y'] = pred_y\n",
        "\t\tresults['true_y'] = batch_dict[\"data_to_predict\"]\n",
        "\t\tresults[\"loss\"] = torch.mean(loss)\n",
        "\t\tresults[\"likelihood\"] = torch.mean(rec_likelihood).detach()\n",
        "\t\tresults[\"mse\"] = torch.mean(mse).detach()\n",
        "\t\tresults[\"pois_likelihood\"] = torch.mean(pois_log_likelihood).detach()\n",
        "\t\tresults[\"ce_loss\"] = torch.mean(ce_loss).detach()\n",
        "\t\tresults[\"kl_first_p\"] =  torch.mean(kldiv_z0).detach()\n",
        "\t\tresults[\"std_first_p\"] = torch.mean(fp_std).detach()\n",
        "\n",
        "\t\tif batch_dict[\"labels\"] is not None and self.use_binary_classif:\n",
        "\t\t\tresults[\"label_predictions\"] = info[\"label_predictions\"].detach()\n",
        "\n",
        "\t\treturn results\n",
        "\n",
        "\n",
        "\n"
      ],
      "execution_count": 14,
      "outputs": []
    },
    {
      "cell_type": "markdown",
      "metadata": {
        "id": "Ppm_XPFfhy_w"
      },
      "source": [
        "## ode_run.py"
      ]
    },
    {
      "cell_type": "code",
      "metadata": {
        "id": "BBD0-pmThy_w"
      },
      "source": [
        "class ODE_RNN(Baseline):\n",
        "\tdef __init__(self, input_dim, latent_dim, device = torch.device(\"cpu\"),\n",
        "\t\tz0_diffeq_solver = None, n_gru_units = 100,  n_units = 100,\n",
        "\t\tconcat_mask = False, obsrv_std = 0.1, use_binary_classif = False,\n",
        "\t\tclassif_per_tp = False, n_labels = 1, train_classif_w_reconstr = False):\n",
        "\n",
        "\t\tBaseline.__init__(self, input_dim, latent_dim, device = device, \n",
        "\t\t\tobsrv_std = obsrv_std, use_binary_classif = use_binary_classif,\n",
        "\t\t\tclassif_per_tp = classif_per_tp,\n",
        "\t\t\tn_labels = n_labels,\n",
        "\t\t\ttrain_classif_w_reconstr = train_classif_w_reconstr)\n",
        "\n",
        "\t\tode_rnn_encoder_dim = latent_dim\n",
        "\t\n",
        "\t\tself.ode_gru = Encoder_z0_ODE_RNN( \n",
        "\t\t\tlatent_dim = ode_rnn_encoder_dim, \n",
        "\t\t\tinput_dim = (input_dim) * 2, # input and the mask\n",
        "\t\t\tz0_diffeq_solver = z0_diffeq_solver, \n",
        "\t\t\tn_gru_units = n_gru_units, \n",
        "\t\t\tdevice = device).to(device)\n",
        "\n",
        "\t\tself.z0_diffeq_solver = z0_diffeq_solver\n",
        "\n",
        "\t\tself.decoder = nn.Sequential(\n",
        "\t\t\tnn.Linear(latent_dim, n_units),\n",
        "\t\t\tnn.Tanh(),\n",
        "\t\t\tnn.Linear(n_units, input_dim),)\n",
        "\n",
        "\t\tutils.init_network_weights(self.decoder)\n",
        "\n",
        "\n",
        "\tdef get_reconstruction(self, time_steps_to_predict, data, truth_time_steps, \n",
        "\t\tmask = None, n_traj_samples = None, mode = None):\n",
        "\n",
        "\t\tif (len(truth_time_steps) != len(time_steps_to_predict)) or (torch.sum(time_steps_to_predict - truth_time_steps) != 0):\n",
        "\t\t\traise Exception(\"Extrapolation mode not implemented for ODE-RNN\")\n",
        "\n",
        "\t\t# time_steps_to_predict and truth_time_steps should be the same \n",
        "\t\tassert(len(truth_time_steps) == len(time_steps_to_predict))\n",
        "\t\tassert(mask is not None)\n",
        "\t\t\n",
        "\t\tdata_and_mask = data\n",
        "\t\tif mask is not None:\n",
        "\t\t\tdata_and_mask = torch.cat([data, mask],-1)\n",
        "\n",
        "\t\t_, _, latent_ys, _ = self.ode_gru.run_odernn(\n",
        "\t\t\tdata_and_mask, truth_time_steps, run_backwards = False)\n",
        "\t\t\n",
        "\t\tlatent_ys = latent_ys.permute(0,2,1,3)\n",
        "\t\tlast_hidden = latent_ys[:,:,-1,:]\n",
        "\n",
        "\t\t\t#assert(torch.sum(int_lambda[0,0,-1,:] <= 0) == 0.)\n",
        "\n",
        "\t\toutputs = self.decoder(latent_ys)\n",
        "\t\t# Shift outputs for computing the loss -- we should compare the first output to the second data point, etc.\n",
        "\t\tfirst_point = data[:,0,:]\n",
        "\t\toutputs = utils.shift_outputs(outputs, first_point)\n",
        "\n",
        "\t\textra_info = {\"first_point\": (latent_ys[:,:,-1,:], 0.0, latent_ys[:,:,-1,:])}\n",
        "\n",
        "\t\tif self.use_binary_classif:\n",
        "\t\t\tif self.classif_per_tp:\n",
        "\t\t\t\textra_info[\"label_predictions\"] = self.classifier(latent_ys)\n",
        "\t\t\telse:\n",
        "\t\t\t\textra_info[\"label_predictions\"] = self.classifier(last_hidden).squeeze(-1)\n",
        "\n",
        "\t\t# outputs shape: [n_traj_samples, n_traj, n_tp, n_dims]\n",
        "\t\treturn outputs, extra_info\n",
        "\n",
        "\n",
        "\n",
        "\n"
      ],
      "execution_count": 15,
      "outputs": []
    },
    {
      "cell_type": "markdown",
      "metadata": {
        "id": "PDnVAqzWhy_w"
      },
      "source": [
        "## latent_ode.py"
      ]
    },
    {
      "cell_type": "code",
      "metadata": {
        "id": "WF67TleQhy_x"
      },
      "source": [
        "class LatentODE(VAE_Baseline):\n",
        "\tdef __init__(self, input_dim, latent_dim, encoder_z0, decoder, diffeq_solver, \n",
        "\t\tz0_prior, device, obsrv_std = None, \n",
        "\t\tuse_binary_classif = False, use_poisson_proc = False,\n",
        "\t\tlinear_classifier = False,\n",
        "\t\tclassif_per_tp = False,\n",
        "\t\tn_labels = 1,\n",
        "\t\ttrain_classif_w_reconstr = False):\n",
        "\n",
        "\t\tsuper(LatentODE, self).__init__(\n",
        "\t\t\tinput_dim = input_dim, latent_dim = latent_dim, \n",
        "\t\t\tz0_prior = z0_prior, \n",
        "\t\t\tdevice = device, obsrv_std = obsrv_std, \n",
        "\t\t\tuse_binary_classif = use_binary_classif,\n",
        "\t\t\tclassif_per_tp = classif_per_tp, \n",
        "\t\t\tlinear_classifier = linear_classifier,\n",
        "\t\t\tuse_poisson_proc = use_poisson_proc,\n",
        "\t\t\tn_labels = n_labels,\n",
        "\t\t\ttrain_classif_w_reconstr = train_classif_w_reconstr)\n",
        "\n",
        "\t\tself.encoder_z0 = encoder_z0\n",
        "\t\tself.diffeq_solver = diffeq_solver\n",
        "\t\tself.decoder = decoder\n",
        "\t\tself.use_poisson_proc = use_poisson_proc\n",
        "\n",
        "\tdef get_reconstruction(self, time_steps_to_predict, truth, truth_time_steps, \n",
        "\t\tmask = None, n_traj_samples = 1, run_backwards = True, mode = None):\n",
        "\n",
        "\t\tif isinstance(self.encoder_z0, Encoder_z0_ODE_RNN) or \\\n",
        "\t\t\tisinstance(self.encoder_z0, Encoder_z0_RNN):\n",
        "\n",
        "\t\t\ttruth_w_mask = truth\n",
        "\t\t\tif mask is not None:\n",
        "\t\t\t\ttruth_w_mask = torch.cat((truth, mask), -1)\n",
        "\t\t\tfirst_point_mu, first_point_std = self.encoder_z0(\n",
        "\t\t\t\ttruth_w_mask, truth_time_steps, run_backwards = run_backwards)\n",
        "\n",
        "\t\t\tmeans_z0 = first_point_mu.repeat(n_traj_samples, 1, 1)\n",
        "\t\t\tsigma_z0 = first_point_std.repeat(n_traj_samples, 1, 1)\n",
        "\t\t\tfirst_point_enc = utils.sample_standard_gaussian(means_z0, sigma_z0)\n",
        "\n",
        "\t\telse:\n",
        "\t\t\traise Exception(\"Unknown encoder type {}\".format(type(self.encoder_z0).__name__))\n",
        "\t\t\n",
        "\t\tfirst_point_std = first_point_std.abs()\n",
        "\t\tassert(torch.sum(first_point_std < 0) == 0.)\n",
        "\n",
        "\t\tif self.use_poisson_proc:\n",
        "\t\t\tn_traj_samples, n_traj, n_dims = first_point_enc.size()\n",
        "\t\t\t# append a vector of zeros to compute the integral of lambda\n",
        "\t\t\tzeros = torch.zeros([n_traj_samples, n_traj,self.input_dim]).to(get_device(truth))\n",
        "\t\t\tfirst_point_enc_aug = torch.cat((first_point_enc, zeros), -1)\n",
        "\t\t\tmeans_z0_aug = torch.cat((means_z0, zeros), -1)\n",
        "\t\telse:\n",
        "\t\t\tfirst_point_enc_aug = first_point_enc\n",
        "\t\t\tmeans_z0_aug = means_z0\n",
        "\t\t\t\n",
        "\t\tassert(not torch.isnan(time_steps_to_predict).any())\n",
        "\t\tassert(not torch.isnan(first_point_enc).any())\n",
        "\t\tassert(not torch.isnan(first_point_enc_aug).any())\n",
        "\n",
        "\t\t# Shape of sol_y [n_traj_samples, n_samples, n_timepoints, n_latents]\n",
        "\t\tsol_y = self.diffeq_solver(first_point_enc_aug, time_steps_to_predict)\n",
        "\n",
        "\t\tif self.use_poisson_proc:\n",
        "\t\t\tsol_y, log_lambda_y, int_lambda, _ = self.diffeq_solver.ode_func.extract_poisson_rate(sol_y)\n",
        "\n",
        "\t\t\tassert(torch.sum(int_lambda[:,:,0,:]) == 0.)\n",
        "\t\t\tassert(torch.sum(int_lambda[0,0,-1,:] <= 0) == 0.)\n",
        "\n",
        "\t\tpred_x = self.decoder(sol_y)\n",
        "\n",
        "\t\tall_extra_info = {\n",
        "\t\t\t\"first_point\": (first_point_mu, first_point_std, first_point_enc),\n",
        "\t\t\t\"latent_traj\": sol_y.detach()\n",
        "\t\t}\n",
        "\n",
        "\t\tif self.use_poisson_proc:\n",
        "\t\t\t# intergral of lambda from the last step of ODE Solver\n",
        "\t\t\tall_extra_info[\"int_lambda\"] = int_lambda[:,:,-1,:]\n",
        "\t\t\tall_extra_info[\"log_lambda_y\"] = log_lambda_y\n",
        "\n",
        "\t\tif self.use_binary_classif:\n",
        "\t\t\tif self.classif_per_tp:\n",
        "\t\t\t\tall_extra_info[\"label_predictions\"] = self.classifier(sol_y)\n",
        "\t\t\telse:\n",
        "\t\t\t\tall_extra_info[\"label_predictions\"] = self.classifier(first_point_enc).squeeze(-1)\n",
        "\n",
        "\t\treturn pred_x, all_extra_info\n",
        "\n",
        "\n",
        "\tdef sample_traj_from_prior(self, time_steps_to_predict, n_traj_samples = 1):\n",
        "\t\t# input_dim = starting_point.size()[-1]\n",
        "\t\t# starting_point = starting_point.view(1,1,input_dim)\n",
        "\n",
        "\t\t# Sample z0 from prior\n",
        "\t\tstarting_point_enc = self.z0_prior.sample([n_traj_samples, 1, self.latent_dim]).squeeze(-1)\n",
        "\n",
        "\t\tstarting_point_enc_aug = starting_point_enc\n",
        "\t\tif self.use_poisson_proc:\n",
        "\t\t\tn_traj_samples, n_traj, n_dims = starting_point_enc.size()\n",
        "\t\t\t# append a vector of zeros to compute the integral of lambda\n",
        "\t\t\tzeros = torch.zeros(n_traj_samples, n_traj,self.input_dim).to(self.device)\n",
        "\t\t\tstarting_point_enc_aug = torch.cat((starting_point_enc, zeros), -1)\n",
        "\n",
        "\t\tsol_y = self.diffeq_solver.sample_traj_from_prior(starting_point_enc_aug, time_steps_to_predict, \n",
        "\t\t\tn_traj_samples = 3)\n",
        "\n",
        "\t\tif self.use_poisson_proc:\n",
        "\t\t\tsol_y, log_lambda_y, int_lambda, _ = self.diffeq_solver.ode_func.extract_poisson_rate(sol_y)\n",
        "\t\t\n",
        "\t\treturn self.decoder(sol_y)\n",
        "\n",
        "\n"
      ],
      "execution_count": 16,
      "outputs": []
    },
    {
      "cell_type": "markdown",
      "metadata": {
        "id": "w7EhkS2Uhy_x"
      },
      "source": [
        "## ode_func.py"
      ]
    },
    {
      "cell_type": "code",
      "metadata": {
        "id": "ard2Qg5chy_x"
      },
      "source": [
        "class ODEFunc(nn.Module):\n",
        "\tdef __init__(self, input_dim, latent_dim, ode_func_net, device = torch.device(\"cpu\")):\n",
        "\t\t\"\"\"\n",
        "\t\tinput_dim: dimensionality of the input\n",
        "\t\tlatent_dim: dimensionality used for ODE. Analog of a continous latent state\n",
        "\t\t\"\"\"\n",
        "\t\t# print(f\"Inside ODEFunc class\")\n",
        "\t\tsuper(ODEFunc, self).__init__()\n",
        "\n",
        "\t\tself.input_dim = input_dim\n",
        "\t\t# print(f\"input_dim is {input_dim}\")\n",
        "\t\t# print(f\"latent_dim is {latent_dim}\")\n",
        "\t\tself.device = device\n",
        "\n",
        "\t\tutils.init_network_weights(ode_func_net)\n",
        "\t\tself.gradient_net = ode_func_net\n",
        "\n",
        "\tdef forward(self, t_local, y, backwards = False):\n",
        "\t\t\"\"\"\n",
        "\t\tPerform one step in solving ODE. Given current data point y and current time point t_local, returns gradient dy/dt at this time point\n",
        "\n",
        "\t\tt_local: current time point\n",
        "\t\ty: value at the current time point\n",
        "\t\t\"\"\"\n",
        "\t\tgrad = self.get_ode_gradient_nn(t_local, y)\n",
        "\t\tif backwards:\n",
        "\t\t\tgrad = -grad\n",
        "\t\treturn grad\n",
        "\n",
        "\tdef get_ode_gradient_nn(self, t_local, y):\n",
        "\t\treturn self.gradient_net(y)\n",
        "\n",
        "\tdef sample_next_point_from_prior(self, t_local, y):\n",
        "\t\t\"\"\"\n",
        "\t\tt_local: current time point\n",
        "\t\ty: value at the current time point\n",
        "\t\t\"\"\"\n",
        "\t\treturn self.get_ode_gradient_nn(t_local, y)\n",
        "\n",
        "#####################################################################################################\n",
        "\n",
        "class ODEFunc_w_Poisson(ODEFunc):\n",
        "\t\n",
        "\tdef __init__(self, input_dim, latent_dim, ode_func_net,\n",
        "\t\tlambda_net, device = torch.device(\"cpu\")):\n",
        "\t\t\"\"\"\n",
        "\t\tinput_dim: dimensionality of the input\n",
        "\t\tlatent_dim: dimensionality used for ODE. Analog of a continous latent state\n",
        "\t\t\"\"\"\n",
        "\t\tsuper(ODEFunc_w_Poisson, self).__init__(input_dim, latent_dim, ode_func_net, device)\n",
        "\n",
        "\t\tself.latent_ode = ODEFunc(input_dim = input_dim, \n",
        "\t\t\tlatent_dim = latent_dim, \n",
        "\t\t\tode_func_net = ode_func_net,\n",
        "\t\t\tdevice = device)\n",
        "\n",
        "\t\tself.latent_dim = latent_dim\n",
        "\t\tself.lambda_net = lambda_net\n",
        "\t\t# The computation of poisson likelihood can become numerically unstable. \n",
        "\t\t#The integral lambda(t) dt can take large values. In fact, it is equal to the expected number of events on the interval [0,T]\n",
        "\t\t#Exponent of lambda can also take large values\n",
        "\t\t# So we divide lambda by the constant and then multiply the integral of lambda by the constant\n",
        "\t\tself.const_for_lambda = torch.Tensor([100.]).to(device)\n",
        "\n",
        "\tdef extract_poisson_rate(self, augmented, final_result = True):\n",
        "\t\ty, log_lambdas, int_lambda = None, None, None\n",
        "\n",
        "\t\tassert(augmented.size(-1) == self.latent_dim + self.input_dim)\t\t\n",
        "\t\tlatent_lam_dim = self.latent_dim // 2\n",
        "\n",
        "\t\tif len(augmented.size()) == 3:\n",
        "\t\t\tint_lambda  = augmented[:,:,-self.input_dim:] \n",
        "\t\t\ty_latent_lam = augmented[:,:,:-self.input_dim]\n",
        "\n",
        "\t\t\tlog_lambdas  = self.lambda_net(y_latent_lam[:,:,-latent_lam_dim:])\n",
        "\t\t\ty = y_latent_lam[:,:,:-latent_lam_dim]\n",
        "\n",
        "\t\telif len(augmented.size()) == 4:\n",
        "\t\t\tint_lambda  = augmented[:,:,:,-self.input_dim:]\n",
        "\t\t\ty_latent_lam = augmented[:,:,:,:-self.input_dim]\n",
        "\n",
        "\t\t\tlog_lambdas  = self.lambda_net(y_latent_lam[:,:,:,-latent_lam_dim:])\n",
        "\t\t\ty = y_latent_lam[:,:,:,:-latent_lam_dim]\n",
        "\n",
        "\t\t# Multiply the intergral over lambda by a constant \n",
        "\t\t# only when we have finished the integral computation (i.e. this is not a call in get_ode_gradient_nn)\n",
        "\t\tif final_result:\n",
        "\t\t\tint_lambda = int_lambda * self.const_for_lambda\n",
        "\t\t\t\n",
        "\t\t# Latents for performing reconstruction (y) have the same size as latent poisson rate (log_lambdas)\n",
        "\t\tassert(y.size(-1) == latent_lam_dim)\n",
        "\n",
        "\t\treturn y, log_lambdas, int_lambda, y_latent_lam\n",
        "\n",
        "\n",
        "\tdef get_ode_gradient_nn(self, t_local, augmented):\n",
        "\t\ty, log_lam, int_lambda, y_latent_lam = self.extract_poisson_rate(augmented, final_result = False)\n",
        "\t\tdydt_dldt = self.latent_ode(t_local, y_latent_lam)\n",
        "\n",
        "\t\tlog_lam = log_lam - torch.log(self.const_for_lambda)\n",
        "\t\treturn torch.cat((dydt_dldt, torch.exp(log_lam)),-1)\n",
        "\n",
        "\n",
        "\n",
        "\n"
      ],
      "execution_count": 17,
      "outputs": []
    },
    {
      "cell_type": "markdown",
      "metadata": {
        "id": "98sA9jVlhy_y"
      },
      "source": [
        "## create_latent_ode_model.py"
      ]
    },
    {
      "cell_type": "code",
      "metadata": {
        "id": "kv36UrKvhy_y"
      },
      "source": [
        "def create_LatentODE_model(args, input_dim, z0_prior, obsrv_std, device, \n",
        "\tclassif_per_tp = False, n_labels = 1):\n",
        "\n",
        "\tdim = args.latents\n",
        "\tif args.poisson:\n",
        "\t\tlambda_net = utils.create_net(dim, input_dim, \n",
        "\t\t\tn_layers = 1, n_units = args.units, nonlinear = nn.Tanh)\n",
        "\n",
        "\t\t# ODE function produces the gradient for latent state and for poisson rate\n",
        "\t\tode_func_net = utils.create_net(dim * 2, args.latents * 2, \n",
        "\t\t\tn_layers = args.gen_layers, n_units = args.units, nonlinear = nn.Tanh)\n",
        "\n",
        "\t\tgen_ode_func = ODEFunc_w_Poisson(\n",
        "\t\t\tinput_dim = input_dim, \n",
        "\t\t\tlatent_dim = args.latents * 2,\n",
        "\t\t\tode_func_net = ode_func_net,\n",
        "\t\t\tlambda_net = lambda_net,\n",
        "\t\t\tdevice = device).to(device)\n",
        "\telse:\n",
        "\t\tdim = args.latents \n",
        "\t\tode_func_net = utils.create_net(dim, args.latents, \n",
        "\t\t\tn_layers = args.gen_layers, n_units = args.units, nonlinear = nn.Tanh)\n",
        "\n",
        "\t\tgen_ode_func = ODEFunc(\n",
        "\t\t\tinput_dim = input_dim, \n",
        "\t\t\tlatent_dim = args.latents, \n",
        "\t\t\tode_func_net = ode_func_net,\n",
        "\t\t\tdevice = device).to(device)\n",
        "\n",
        "\tz0_diffeq_solver = None\n",
        "\tn_rec_dims = args.rec_dims\n",
        "\tenc_input_dim = int(input_dim) * 2 # we concatenate the mask\n",
        "\tgen_data_dim = input_dim\n",
        "\n",
        "\tz0_dim = args.latents\n",
        "\tif args.poisson:\n",
        "\t\tz0_dim += args.latents # predict the initial poisson rate\n",
        "\n",
        "\tif args.z0_encoder == \"odernn\":\n",
        "\t\tode_func_net = utils.create_net(n_rec_dims, n_rec_dims, \n",
        "\t\t\tn_layers = args.rec_layers, n_units = args.units, nonlinear = nn.Tanh)\n",
        "\n",
        "\t\trec_ode_func = ODEFunc(\n",
        "\t\t\tinput_dim = enc_input_dim, \n",
        "\t\t\tlatent_dim = n_rec_dims,\n",
        "\t\t\tode_func_net = ode_func_net,\n",
        "\t\t\tdevice = device).to(device)\n",
        "\n",
        "\t\tz0_diffeq_solver = DiffeqSolver(enc_input_dim, rec_ode_func, \"euler\", args.latents, \n",
        "\t\t\todeint_rtol = 1e-3, odeint_atol = 1e-4, device = device)\n",
        "\t\t\n",
        "\t\tencoder_z0 = Encoder_z0_ODE_RNN(n_rec_dims, enc_input_dim, z0_diffeq_solver, \n",
        "\t\t\tz0_dim = z0_dim, n_gru_units = args.gru_units, device = device).to(device)\n",
        "\n",
        "\telif args.z0_encoder == \"rnn\":\n",
        "\t\tencoder_z0 = Encoder_z0_RNN(z0_dim, enc_input_dim,\n",
        "\t\t\tlstm_output_size = n_rec_dims, device = device).to(device)\n",
        "\telse:\n",
        "\t\traise Exception(\"Unknown encoder for Latent ODE model: \" + args.z0_encoder)\n",
        "\n",
        "\tdecoder = Decoder(args.latents, gen_data_dim).to(device)\n",
        "\n",
        "\tdiffeq_solver = DiffeqSolver(gen_data_dim, gen_ode_func, 'dopri5', args.latents, \n",
        "\t\todeint_rtol = 1e-3, odeint_atol = 1e-4, device = device)\n",
        "\n",
        "\tmodel = LatentODE(\n",
        "\t\tinput_dim = gen_data_dim, \n",
        "\t\tlatent_dim = args.latents, \n",
        "\t\tencoder_z0 = encoder_z0, \n",
        "\t\tdecoder = decoder, \n",
        "\t\tdiffeq_solver = diffeq_solver, \n",
        "\t\tz0_prior = z0_prior, \n",
        "\t\tdevice = device,\n",
        "\t\tobsrv_std = obsrv_std,\n",
        "\t\tuse_poisson_proc = args.poisson, \n",
        "\t\tuse_binary_classif = args.classif,\n",
        "\t\tlinear_classifier = args.linear_classif,\n",
        "\t\tclassif_per_tp = classif_per_tp,\n",
        "\t\tn_labels = n_labels,\n",
        "\t\ttrain_classif_w_reconstr = (args.dataset == \"physionet\")\n",
        "\t\t).to(device)\n",
        "\n",
        "\treturn model\n"
      ],
      "execution_count": 18,
      "outputs": []
    },
    {
      "cell_type": "code",
      "metadata": {
        "id": "KzYUKIc9hy_z"
      },
      "source": [
        "if args.latent_ode:\n",
        "    model = create_LatentODE_model(args, input_dim, z0_prior, obsrv_std, device, \n",
        "        classif_per_tp = classif_per_tp,\n",
        "        n_labels = n_labels)\n",
        "else:\n",
        "\traise Exception(\"Model not specified\")"
      ],
      "execution_count": 19,
      "outputs": []
    },
    {
      "cell_type": "markdown",
      "metadata": {
        "id": "afWXMKznhy_z"
      },
      "source": [
        "# Training"
      ]
    },
    {
      "cell_type": "code",
      "metadata": {
        "id": "NYyCKxi5NxMf"
      },
      "source": [
        "train_lr_list = []\n",
        "kl_coef_list = []\n",
        "train_pred_y_list = []\n",
        "train_true_y_list = []\n",
        "train_loss_list = [] # ELBO\n",
        "train_likelihood_list = [] # Rec Likelihood\n",
        "train_mse_list = []\n",
        "train_kl_first_p_list = [] # KL Divergence between z0\n",
        "train_std_first_p_list = []\n",
        "\n",
        "\n",
        "test_pred_y_list = []\n",
        "test_true_y_list = []\n",
        "test_loss_list = [] # ELBO\n",
        "test_likelihood_list = [] # Rec Likelihood\n",
        "test_mse_list = []\n",
        "test_kl_first_p_list = [] # KL Divergence between z0\n",
        "test_std_first_p_list = []"
      ],
      "execution_count": 22,
      "outputs": []
    },
    {
      "cell_type": "code",
      "metadata": {
        "colab": {
          "base_uri": "https://localhost:8080/",
          "height": 1000
        },
        "id": "y99JVbgThy_z",
        "outputId": "f2e5e231-f2df-4cc2-a9c6-4fefb1b5e3ea"
      },
      "source": [
        "#Load checkpoint and evaluate the model\n",
        "if args.load is not None:\n",
        "\tutils.get_ckpt_model(ckpt_path, model, device)\n",
        "\texit()\n",
        "else:\n",
        "\tfile_name = os.path.abspath('')\n",
        "\tlog_path = \"logs/\" + file_name + \"_\" + str(experimentID) + \".log\"\n",
        "\tif not os.path.exists(\"logs/\"):\n",
        "\t\tutils.makedirs(\"logs/\")\n",
        "\tlogger = utils.get_logger(logpath=log_path, filepath=os.path.abspath(''))\n",
        "\tlogger.info(input_command)\n",
        "\n",
        "\toptimizer = optim.Adamax(model.parameters(), lr=args.lr)\n",
        "\t# print(f\"optimizer is {optimizer}\")\n",
        "\tnum_batches = data_obj[\"n_train_batches\"]\n",
        "\tprint(f\"num_batches is {num_batches}\")\n",
        "\n",
        "\tfor itr in range(1, num_batches * (args.niters + 1)):\n",
        "\t\toptimizer.zero_grad()\n",
        "\t\tutils.update_learning_rate(optimizer, decay_rate = 0.999, lowest = args.lr / 10)\n",
        "\n",
        "\t\twait_until_kl_inc = 10\n",
        "\t\tif itr // num_batches < wait_until_kl_inc:\n",
        "\t\t\tkl_coef = 0.\n",
        "\t\telse:\n",
        "\t\t\tkl_coef = (1-0.99** (itr // num_batches - wait_until_kl_inc))\n",
        "\t\tkl_coef_list.append(kl_coef)\n",
        "\t\tbatch_dict = utils.get_next_batch(data_obj[\"train_dataloader\"])\n",
        "\t\ttrain_res = model.compute_all_losses(batch_dict, n_traj_samples = 1, kl_coef = kl_coef)\n",
        "\t\t\n",
        "\t\ttrain_loss_list.append(train_res['loss'].cpu().item())\n",
        "\t\ttrain_likelihood_list.append(train_res['likelihood'].cpu().item())\n",
        "\t\ttrain_mse_list.append(train_res['mse'].cpu().item())\n",
        "\t\ttrain_kl_first_p_list.append(train_res['kl_first_p'].cpu().item())\n",
        "\t\ttrain_std_first_p_list.append(train_res['std_first_p'].cpu().item())\n",
        "\t\ttrain_res[\"loss\"].backward()\n",
        "\t\toptimizer.step()\n",
        "\n",
        "\t\tn_iters_to_viz = 1\n",
        "\t\tif itr % (n_iters_to_viz * num_batches) == 0:\n",
        "\t\t\twith torch.no_grad():\n",
        "\n",
        "\t\t\t\ttest_res = compute_loss_all_batches(model, \n",
        "\t\t\t\t\tdata_obj[\"test_dataloader\"], args,\n",
        "\t\t\t\t\tn_batches = data_obj[\"n_test_batches\"],\n",
        "\t\t\t\t\texperimentID = experimentID,\n",
        "\t\t\t\t\tdevice = device,\n",
        "\t\t\t\t\tn_traj_samples = 1, kl_coef = kl_coef)\n",
        "\t\t\t\t\n",
        "\t\t\t\ttest_loss_list.append(test_res['loss'].cpu().item())\n",
        "\t\t\t\ttest_likelihood_list.append(test_res['likelihood'].cpu().item())\n",
        "\t\t\t\ttest_mse_list.append(test_res['mse'].cpu().item())\n",
        "\t\t\t\ttest_kl_first_p_list.append(test_res['kl_first_p'].cpu().item())\n",
        "\t\t\t\ttest_std_first_p_list.append(test_res['std_first_p'].cpu().item())\n",
        "\n",
        "\t\t\t\tmessage = 'Epoch {:04d} [Test seq (cond on sampled tp)] | Loss {:.6f} | Likelihood {:.6f} | KL fp {:.4f} | FP STD {:.4f}|'.format(\n",
        "\t\t\t\t\titr//num_batches, \n",
        "\t\t\t\t\ttest_res[\"loss\"].detach(), test_res[\"likelihood\"].detach(), \n",
        "\t\t\t\t\ttest_res[\"kl_first_p\"], test_res[\"std_first_p\"])\n",
        "\t\t\t\n",
        "\t\t\t\tlogger.info(\"Experiment \" + str(experimentID))\n",
        "\t\t\t\tlogger.info(message)\n",
        "\t\t\t\tlogger.info(\"KL coef: {}\".format(kl_coef))\n",
        "\t\t\t\tlogger.info(\"Train loss (one batch): {}\".format(train_res[\"loss\"].detach()))\n",
        "\t\t\t\tlogger.info(\"Train CE loss (one batch): {}\".format(train_res[\"ce_loss\"].detach()))\n",
        "\t\t\t\t\n",
        "\t\t\t\tif \"auc\" in test_res:\n",
        "\t\t\t\t\tlogger.info(\"Classification AUC (TEST): {:.4f}\".format(test_res[\"auc\"]))\n",
        "\n",
        "\t\t\t\tif \"mse\" in test_res:\n",
        "\t\t\t\t\tlogger.info(\"Test MSE: {}\".format(test_res[\"mse\"]))\n",
        "\n",
        "\t\t\t\tif \"accuracy\" in train_res:\n",
        "\t\t\t\t\tlogger.info(\"Classification accuracy (TRAIN): {:.4f}\".format(train_res[\"accuracy\"]))\n",
        "\n",
        "\t\t\t\tif \"accuracy\" in test_res:\n",
        "\t\t\t\t\tlogger.info(\"Classification accuracy (TEST): {:.4f}\".format(test_res[\"accuracy\"]))\n",
        "\n",
        "\t\t\t\tif \"pois_likelihood\" in test_res:\n",
        "\t\t\t\t\tlogger.info(\"Poisson likelihood: {}\".format(test_res[\"pois_likelihood\"]))\n",
        "\n",
        "\t\t\t\tif \"ce_loss\" in test_res:\n",
        "\t\t\t\t\tlogger.info(\"CE loss: {}\".format(test_res[\"ce_loss\"]))\n",
        "\n",
        "\t\t\ttorch.save({\n",
        "\t\t\t\t'args': args,\n",
        "\t\t\t\t'state_dict': model.state_dict(),\n",
        "\t\t\t}, ckpt_path)\n",
        "\n",
        "\n",
        "\t\t\t# Plotting\n",
        "\t\t\tif args.viz:\n",
        "\t\t\t\twith torch.no_grad():\n",
        "\t\t\t\t\ttest_dict = utils.get_next_batch(data_obj[\"test_dataloader\"])\n",
        "\n",
        "\t\t\t\t\tprint(\"plotting....\")\n",
        "\t\t\t\t\tif isinstance(model, LatentODE) and (args.dataset == \"periodic\"): #and not args.classic_rnn and not args.ode_rnn:\n",
        "\t\t\t\t\t\tplot_id = itr // num_batches // n_iters_to_viz\n",
        "\t\t\t\t\t\tviz.draw_all_plots_one_dim(test_dict, model, \n",
        "\t\t\t\t\t\t\tplot_name = file_name + \"_\" + str(experimentID) + \"_{:03d}\".format(plot_id) + \".png\",\n",
        "\t\t\t\t\t\t\texperimentID = experimentID, save=True)\n",
        "\t\t\t\t\t\tplt.pause(0.01)\n",
        "\t# train_pred_y_list.append(train_res['pred_y'].cpu().numpy())\n",
        "\t# train_true_y_list.append(train_res['true_y'].cpu().numpy())\n",
        "\t# test_pred_y_list.append(test_res['pred_y'].cpu().numpy())\n",
        "\t# test_true_y_list.append(test_res['true_y'].cpu().numpy())\n",
        "\ttorch.save({\n",
        "\t\t'args': args,\n",
        "\t\t'state_dict': model.state_dict(),\n",
        "\t}, ckpt_path)\n",
        "\n"
      ],
      "execution_count": 24,
      "outputs": [
        {
          "output_type": "stream",
          "name": "stderr",
          "text": [
            "/content\n",
            "-f\n",
            "/content/torchdiffeq/torchdiffeq/_impl/misc.py:296: UserWarning: t is not on the same device as y0. Coercing to y0.device.\n",
            "  warnings.warn(\"t is not on the same device as y0. Coercing to y0.device.\")\n"
          ]
        },
        {
          "output_type": "stream",
          "name": "stdout",
          "text": [
            "num_batches is 103\n"
          ]
        },
        {
          "output_type": "stream",
          "name": "stderr",
          "text": [
            "Experiment 65442\n",
            "Epoch 0001 [Test seq (cond on sampled tp)] | Loss 1.161179 | Likelihood -1.161179 | KL fp 6.0301 | FP STD 0.0022|\n",
            "KL coef: 0.0\n",
            "Train loss (one batch): 0.6265479922294617\n",
            "Train CE loss (one batch): 0.0\n",
            "Test MSE: 1.4299993381428067e-05\n",
            "Poisson likelihood: 0.0\n",
            "CE loss: 0.0\n"
          ]
        },
        {
          "output_type": "stream",
          "name": "stdout",
          "text": [
            "Computing loss... 0\n"
          ]
        },
        {
          "output_type": "stream",
          "name": "stderr",
          "text": [
            "Experiment 65442\n",
            "Epoch 0002 [Test seq (cond on sampled tp)] | Loss 0.231681 | Likelihood -0.231681 | KL fp 6.7826 | FP STD 0.0013|\n",
            "KL coef: 0.0\n",
            "Train loss (one batch): -0.23709125816822052\n",
            "Train CE loss (one batch): 0.0\n",
            "Test MSE: 1.244099621544592e-05\n",
            "Poisson likelihood: 0.0\n",
            "CE loss: 0.0\n"
          ]
        },
        {
          "output_type": "stream",
          "name": "stdout",
          "text": [
            "Computing loss... 0\n"
          ]
        },
        {
          "output_type": "stream",
          "name": "stderr",
          "text": [
            "Experiment 65442\n",
            "Epoch 0003 [Test seq (cond on sampled tp)] | Loss -1.436998 | Likelihood 1.436998 | KL fp 6.3223 | FP STD 0.0017|\n",
            "KL coef: 0.0\n",
            "Train loss (one batch): -1.846962332725525\n",
            "Train CE loss (one batch): 0.0\n",
            "Test MSE: 9.103638149099424e-06\n",
            "Poisson likelihood: 0.0\n",
            "CE loss: 0.0\n"
          ]
        },
        {
          "output_type": "stream",
          "name": "stdout",
          "text": [
            "Computing loss... 0\n"
          ]
        },
        {
          "output_type": "stream",
          "name": "stderr",
          "text": [
            "Experiment 65442\n",
            "Epoch 0004 [Test seq (cond on sampled tp)] | Loss -2.700646 | Likelihood 2.700646 | KL fp 6.8084 | FP STD 0.0009|\n",
            "KL coef: 0.0\n",
            "Train loss (one batch): -2.9967281818389893\n",
            "Train CE loss (one batch): 0.0\n",
            "Test MSE: 6.576341547770426e-06\n",
            "Poisson likelihood: 0.0\n",
            "CE loss: 0.0\n"
          ]
        },
        {
          "output_type": "stream",
          "name": "stdout",
          "text": [
            "Computing loss... 0\n"
          ]
        },
        {
          "output_type": "stream",
          "name": "stderr",
          "text": [
            "Experiment 65442\n",
            "Epoch 0005 [Test seq (cond on sampled tp)] | Loss -2.762788 | Likelihood 2.762788 | KL fp 6.2428 | FP STD 0.0015|\n",
            "KL coef: 0.0\n",
            "Train loss (one batch): -2.9437811374664307\n",
            "Train CE loss (one batch): 0.0\n",
            "Test MSE: 6.452058187278453e-06\n",
            "Poisson likelihood: 0.0\n",
            "CE loss: 0.0\n"
          ]
        },
        {
          "output_type": "stream",
          "name": "stdout",
          "text": [
            "Computing loss... 0\n"
          ]
        },
        {
          "output_type": "stream",
          "name": "stderr",
          "text": [
            "Experiment 65442\n",
            "Epoch 0006 [Test seq (cond on sampled tp)] | Loss -3.433793 | Likelihood 3.433793 | KL fp 6.1477 | FP STD 0.0015|\n",
            "KL coef: 0.0\n",
            "Train loss (one batch): -3.7938554286956787\n",
            "Train CE loss (one batch): 0.0\n",
            "Test MSE: 5.110048277856549e-06\n",
            "Poisson likelihood: 0.0\n",
            "CE loss: 0.0\n"
          ]
        },
        {
          "output_type": "stream",
          "name": "stdout",
          "text": [
            "Computing loss... 0\n"
          ]
        },
        {
          "output_type": "stream",
          "name": "stderr",
          "text": [
            "Experiment 65442\n",
            "Epoch 0007 [Test seq (cond on sampled tp)] | Loss -4.048208 | Likelihood 4.048208 | KL fp 6.6829 | FP STD 0.0009|\n",
            "KL coef: 0.0\n",
            "Train loss (one batch): -4.310068607330322\n",
            "Train CE loss (one batch): 0.0\n",
            "Test MSE: 3.881218162860023e-06\n",
            "Poisson likelihood: 0.0\n",
            "CE loss: 0.0\n"
          ]
        },
        {
          "output_type": "stream",
          "name": "stdout",
          "text": [
            "Computing loss... 0\n"
          ]
        },
        {
          "output_type": "stream",
          "name": "stderr",
          "text": [
            "Experiment 65442\n",
            "Epoch 0008 [Test seq (cond on sampled tp)] | Loss -3.678821 | Likelihood 3.678821 | KL fp 6.4530 | FP STD 0.0016|\n",
            "KL coef: 0.0\n",
            "Train loss (one batch): -4.07900333404541\n",
            "Train CE loss (one batch): 0.0\n",
            "Test MSE: 4.619992978405207e-06\n",
            "Poisson likelihood: 0.0\n",
            "CE loss: 0.0\n"
          ]
        },
        {
          "output_type": "stream",
          "name": "stdout",
          "text": [
            "Computing loss... 0\n"
          ]
        },
        {
          "output_type": "stream",
          "name": "stderr",
          "text": [
            "Experiment 65442\n",
            "Epoch 0009 [Test seq (cond on sampled tp)] | Loss -4.642906 | Likelihood 4.642906 | KL fp 7.4488 | FP STD 0.0005|\n",
            "KL coef: 0.0\n",
            "Train loss (one batch): -4.982412815093994\n",
            "Train CE loss (one batch): 0.0\n",
            "Test MSE: 2.691821919142967e-06\n",
            "Poisson likelihood: 0.0\n",
            "CE loss: 0.0\n"
          ]
        },
        {
          "output_type": "stream",
          "name": "stdout",
          "text": [
            "Computing loss... 0\n"
          ]
        },
        {
          "output_type": "stream",
          "name": "stderr",
          "text": [
            "Experiment 65442\n",
            "Epoch 0010 [Test seq (cond on sampled tp)] | Loss -4.587510 | Likelihood 4.587510 | KL fp 6.9092 | FP STD 0.0009|\n",
            "KL coef: 0.0\n",
            "Train loss (one batch): -4.838818550109863\n",
            "Train CE loss (one batch): 0.0\n",
            "Test MSE: 2.8026140626025153e-06\n",
            "Poisson likelihood: 0.0\n",
            "CE loss: 0.0\n"
          ]
        },
        {
          "output_type": "stream",
          "name": "stdout",
          "text": [
            "Computing loss... 0\n"
          ]
        },
        {
          "output_type": "stream",
          "name": "stderr",
          "text": [
            "Experiment 65442\n",
            "Epoch 0011 [Test seq (cond on sampled tp)] | Loss -4.494501 | Likelihood 4.568678 | KL fp 7.4177 | FP STD 0.0007|\n",
            "KL coef: 0.010000000000000009\n",
            "Train loss (one batch): -4.730733394622803\n",
            "Train CE loss (one batch): 0.0\n",
            "Test MSE: 2.8402773750713095e-06\n",
            "Poisson likelihood: 0.0\n",
            "CE loss: 0.0\n"
          ]
        },
        {
          "output_type": "stream",
          "name": "stdout",
          "text": [
            "Computing loss... 0\n"
          ]
        },
        {
          "output_type": "stream",
          "name": "stderr",
          "text": [
            "Experiment 65442\n",
            "Epoch 0012 [Test seq (cond on sampled tp)] | Loss -4.382927 | Likelihood 4.518919 | KL fp 6.8337 | FP STD 0.0008|\n",
            "KL coef: 0.01990000000000003\n",
            "Train loss (one batch): -4.509519577026367\n",
            "Train CE loss (one batch): 0.0\n",
            "Test MSE: 2.9397954222076805e-06\n",
            "Poisson likelihood: 0.0\n",
            "CE loss: 0.0\n"
          ]
        },
        {
          "output_type": "stream",
          "name": "stdout",
          "text": [
            "Computing loss... 0\n"
          ]
        },
        {
          "output_type": "stream",
          "name": "stderr",
          "text": [
            "Experiment 65442\n",
            "Epoch 0013 [Test seq (cond on sampled tp)] | Loss -4.258495 | Likelihood 4.467924 | KL fp 7.0513 | FP STD 0.0007|\n",
            "KL coef: 0.029700999999999977\n",
            "Train loss (one batch): -4.526764869689941\n",
            "Train CE loss (one batch): 0.0\n",
            "Test MSE: 3.041784793822444e-06\n",
            "Poisson likelihood: 0.0\n",
            "CE loss: 0.0\n"
          ]
        },
        {
          "output_type": "stream",
          "name": "stdout",
          "text": [
            "Computing loss... 0\n"
          ]
        },
        {
          "output_type": "stream",
          "name": "stderr",
          "text": [
            "Experiment 65442\n",
            "Epoch 0014 [Test seq (cond on sampled tp)] | Loss -4.402888 | Likelihood 4.671864 | KL fp 6.8261 | FP STD 0.0009|\n",
            "KL coef: 0.039403990000000055\n",
            "Train loss (one batch): -4.602964401245117\n",
            "Train CE loss (one batch): 0.0\n",
            "Test MSE: 2.633905296534067e-06\n",
            "Poisson likelihood: 0.0\n",
            "CE loss: 0.0\n"
          ]
        },
        {
          "output_type": "stream",
          "name": "stdout",
          "text": [
            "Computing loss... 0\n"
          ]
        },
        {
          "output_type": "stream",
          "name": "stderr",
          "text": [
            "Experiment 65442\n",
            "Epoch 0015 [Test seq (cond on sampled tp)] | Loss -4.237806 | Likelihood 4.572224 | KL fp 6.8235 | FP STD 0.0008|\n",
            "KL coef: 0.04900995010000009\n",
            "Train loss (one batch): -4.4950175285339355\n",
            "Train CE loss (one batch): 0.0\n",
            "Test MSE: 2.8331853627605597e-06\n",
            "Poisson likelihood: 0.0\n",
            "CE loss: 0.0\n"
          ]
        },
        {
          "output_type": "stream",
          "name": "stdout",
          "text": [
            "Computing loss... 0\n"
          ]
        },
        {
          "output_type": "stream",
          "name": "stderr",
          "text": [
            "Experiment 65442\n",
            "Epoch 0016 [Test seq (cond on sampled tp)] | Loss -4.358668 | Likelihood 4.727064 | KL fp 6.2952 | FP STD 0.0014|\n",
            "KL coef: 0.058519850599\n",
            "Train loss (one batch): -4.473273754119873\n",
            "Train CE loss (one batch): 0.0\n",
            "Test MSE: 2.52350628215936e-06\n",
            "Poisson likelihood: 0.0\n",
            "CE loss: 0.0\n"
          ]
        },
        {
          "output_type": "stream",
          "name": "stdout",
          "text": [
            "Computing loss... 0\n"
          ]
        },
        {
          "output_type": "stream",
          "name": "stderr",
          "text": [
            "Experiment 65442\n",
            "Epoch 0017 [Test seq (cond on sampled tp)] | Loss -2.588176 | Likelihood 2.986689 | KL fp 5.8661 | FP STD 0.0041|\n",
            "KL coef: 0.06793465209301008\n",
            "Train loss (one batch): -2.2969701290130615\n",
            "Train CE loss (one batch): 0.0\n",
            "Test MSE: 6.004255283187376e-06\n",
            "Poisson likelihood: 0.0\n",
            "CE loss: 0.0\n"
          ]
        },
        {
          "output_type": "stream",
          "name": "stdout",
          "text": [
            "Computing loss... 0\n"
          ]
        },
        {
          "output_type": "stream",
          "name": "stderr",
          "text": [
            "Experiment 65442\n",
            "Epoch 0018 [Test seq (cond on sampled tp)] | Loss -3.879202 | Likelihood 4.390881 | KL fp 6.6232 | FP STD 0.0020|\n",
            "KL coef: 0.07725530557207994\n",
            "Train loss (one batch): -3.7699837684631348\n",
            "Train CE loss (one batch): 0.0\n",
            "Test MSE: 3.195871158823138e-06\n",
            "Poisson likelihood: 0.0\n",
            "CE loss: 0.0\n"
          ]
        },
        {
          "output_type": "stream",
          "name": "stdout",
          "text": [
            "Computing loss... 0\n"
          ]
        },
        {
          "output_type": "stream",
          "name": "stderr",
          "text": [
            "Experiment 65442\n",
            "Epoch 0019 [Test seq (cond on sampled tp)] | Loss -2.009505 | Likelihood 2.507508 | KL fp 5.7584 | FP STD 0.0042|\n",
            "KL coef: 0.08648275251635917\n",
            "Train loss (one batch): -2.2311198711395264\n",
            "Train CE loss (one batch): 0.0\n",
            "Test MSE: 6.9626189542759676e-06\n",
            "Poisson likelihood: 0.0\n",
            "CE loss: 0.0\n"
          ]
        },
        {
          "output_type": "stream",
          "name": "stdout",
          "text": [
            "Computing loss... 0\n"
          ]
        },
        {
          "output_type": "stream",
          "name": "stderr",
          "text": [
            "Experiment 65442\n",
            "Epoch 0020 [Test seq (cond on sampled tp)] | Loss -3.625344 | Likelihood 4.188295 | KL fp 5.8875 | FP STD 0.0026|\n",
            "KL coef: 0.09561792499119559\n",
            "Train loss (one batch): -4.047102451324463\n",
            "Train CE loss (one batch): 0.0\n",
            "Test MSE: 3.6010428630106617e-06\n",
            "Poisson likelihood: 0.0\n",
            "CE loss: 0.0\n"
          ]
        },
        {
          "output_type": "stream",
          "name": "stdout",
          "text": [
            "Computing loss... 0\n"
          ]
        },
        {
          "output_type": "stream",
          "name": "stderr",
          "text": [
            "Experiment 65442\n",
            "Epoch 0021 [Test seq (cond on sampled tp)] | Loss -4.007180 | Likelihood 4.633309 | KL fp 5.9824 | FP STD 0.0020|\n",
            "KL coef: 0.10466174574128362\n",
            "Train loss (one batch): -4.138699054718018\n",
            "Train CE loss (one batch): 0.0\n",
            "Test MSE: 2.711016350076534e-06\n",
            "Poisson likelihood: 0.0\n",
            "CE loss: 0.0\n"
          ]
        },
        {
          "output_type": "stream",
          "name": "stdout",
          "text": [
            "Computing loss... 0\n"
          ]
        },
        {
          "output_type": "stream",
          "name": "stderr",
          "text": [
            "Experiment 65442\n",
            "Epoch 0022 [Test seq (cond on sampled tp)] | Loss -3.344374 | Likelihood 4.027582 | KL fp 6.0134 | FP STD 0.0027|\n",
            "KL coef: 0.11361512828387077\n",
            "Train loss (one batch): -4.07244348526001\n",
            "Train CE loss (one batch): 0.0\n",
            "Test MSE: 3.922469659300987e-06\n",
            "Poisson likelihood: 0.0\n",
            "CE loss: 0.0\n"
          ]
        },
        {
          "output_type": "stream",
          "name": "stdout",
          "text": [
            "Computing loss... 0\n"
          ]
        },
        {
          "output_type": "stream",
          "name": "stderr",
          "text": [
            "Experiment 65442\n",
            "Epoch 0023 [Test seq (cond on sampled tp)] | Loss -3.944820 | Likelihood 4.664578 | KL fp 5.8766 | FP STD 0.0020|\n",
            "KL coef: 0.12247897700103216\n",
            "Train loss (one batch): -3.959059715270996\n",
            "Train CE loss (one batch): 0.0\n",
            "Test MSE: 2.648477220645873e-06\n",
            "Poisson likelihood: 0.0\n",
            "CE loss: 0.0\n"
          ]
        },
        {
          "output_type": "stream",
          "name": "stdout",
          "text": [
            "Computing loss... 0\n"
          ]
        },
        {
          "output_type": "stream",
          "name": "stderr",
          "text": [
            "Experiment 65442\n",
            "Epoch 0024 [Test seq (cond on sampled tp)] | Loss -3.880552 | Likelihood 4.659068 | KL fp 5.9314 | FP STD 0.0025|\n",
            "KL coef: 0.13125418723102178\n",
            "Train loss (one batch): -3.9647252559661865\n",
            "Train CE loss (one batch): 0.0\n",
            "Test MSE: 2.6594971131999046e-06\n",
            "Poisson likelihood: 0.0\n",
            "CE loss: 0.0\n"
          ]
        },
        {
          "output_type": "stream",
          "name": "stdout",
          "text": [
            "Computing loss... 0\n"
          ]
        },
        {
          "output_type": "stream",
          "name": "stderr",
          "text": [
            "Experiment 65442\n",
            "Epoch 0025 [Test seq (cond on sampled tp)] | Loss -3.979818 | Likelihood 4.810402 | KL fp 5.9352 | FP STD 0.0021|\n",
            "KL coef: 0.13994164535871156\n",
            "Train loss (one batch): -4.092169761657715\n",
            "Train CE loss (one batch): 0.0\n",
            "Test MSE: 2.3568293272546725e-06\n",
            "Poisson likelihood: 0.0\n",
            "CE loss: 0.0\n"
          ]
        },
        {
          "output_type": "stream",
          "name": "stdout",
          "text": [
            "Computing loss... 0\n"
          ]
        },
        {
          "output_type": "stream",
          "name": "stderr",
          "text": [
            "Experiment 65442\n",
            "Epoch 0026 [Test seq (cond on sampled tp)] | Loss -3.927758 | Likelihood 4.778074 | KL fp 5.7244 | FP STD 0.0022|\n",
            "KL coef: 0.14854222890512447\n",
            "Train loss (one batch): -4.097345352172852\n",
            "Train CE loss (one batch): 0.0\n",
            "Test MSE: 2.4214846234826837e-06\n",
            "Poisson likelihood: 0.0\n",
            "CE loss: 0.0\n"
          ]
        },
        {
          "output_type": "stream",
          "name": "stdout",
          "text": [
            "Computing loss... 0\n"
          ]
        },
        {
          "output_type": "stream",
          "name": "stderr",
          "text": [
            "Experiment 65442\n",
            "Epoch 0027 [Test seq (cond on sampled tp)] | Loss -3.934289 | Likelihood 4.852870 | KL fp 5.8487 | FP STD 0.0022|\n",
            "KL coef: 0.15705680661607324\n",
            "Train loss (one batch): -4.042442321777344\n",
            "Train CE loss (one batch): 0.0\n",
            "Test MSE: 2.271892299177125e-06\n",
            "Poisson likelihood: 0.0\n",
            "CE loss: 0.0\n"
          ]
        },
        {
          "output_type": "stream",
          "name": "stdout",
          "text": [
            "Computing loss... 0\n"
          ]
        },
        {
          "output_type": "stream",
          "name": "stderr",
          "text": [
            "Experiment 65442\n",
            "Epoch 0028 [Test seq (cond on sampled tp)] | Loss -3.971608 | Likelihood 4.959054 | KL fp 5.9669 | FP STD 0.0020|\n",
            "KL coef: 0.1654862385499125\n",
            "Train loss (one batch): -4.10069465637207\n",
            "Train CE loss (one batch): 0.0\n",
            "Test MSE: 2.0595259684341727e-06\n",
            "Poisson likelihood: 0.0\n",
            "CE loss: 0.0\n"
          ]
        },
        {
          "output_type": "stream",
          "name": "stdout",
          "text": [
            "Computing loss... 0\n"
          ]
        },
        {
          "output_type": "stream",
          "name": "stderr",
          "text": [
            "Experiment 65442\n",
            "Epoch 0029 [Test seq (cond on sampled tp)] | Loss -3.908920 | Likelihood 4.940691 | KL fp 5.9355 | FP STD 0.0019|\n",
            "KL coef: 0.17383137616441335\n",
            "Train loss (one batch): -4.037203311920166\n",
            "Train CE loss (one batch): 0.0\n",
            "Test MSE: 2.0962504549970618e-06\n",
            "Poisson likelihood: 0.0\n",
            "CE loss: 0.0\n"
          ]
        },
        {
          "output_type": "stream",
          "name": "stdout",
          "text": [
            "Computing loss... 0\n"
          ]
        },
        {
          "output_type": "stream",
          "name": "stderr",
          "text": [
            "Experiment 65442\n",
            "Epoch 0030 [Test seq (cond on sampled tp)] | Loss -3.902338 | Likelihood 4.974650 | KL fp 5.8888 | FP STD 0.0019|\n",
            "KL coef: 0.18209306240276923\n",
            "Train loss (one batch): -4.066583633422852\n",
            "Train CE loss (one batch): 0.0\n",
            "Test MSE: 2.028333256021142e-06\n",
            "Poisson likelihood: 0.0\n",
            "CE loss: 0.0\n"
          ]
        },
        {
          "output_type": "stream",
          "name": "stdout",
          "text": [
            "Computing loss... 0\n"
          ]
        },
        {
          "output_type": "stream",
          "name": "stderr",
          "text": [
            "Experiment 65442\n",
            "Epoch 0031 [Test seq (cond on sampled tp)] | Loss 0.327104 | Likelihood 0.764436 | KL fp 5.7367 | FP STD 0.0036|\n",
            "KL coef: 0.19027213177874158\n",
            "Train loss (one batch): 9.37221908569336\n",
            "Train CE loss (one batch): 0.0\n",
            "Test MSE: 1.0448760804138146e-05\n",
            "Poisson likelihood: 0.0\n",
            "CE loss: 0.0\n"
          ]
        },
        {
          "output_type": "stream",
          "name": "stdout",
          "text": [
            "Computing loss... 0\n"
          ]
        },
        {
          "output_type": "stream",
          "name": "stderr",
          "text": [
            "Experiment 65442\n",
            "Epoch 0032 [Test seq (cond on sampled tp)] | Loss -3.713898 | Likelihood 4.866310 | KL fp 5.8094 | FP STD 0.0020|\n",
            "KL coef: 0.19836941046095413\n",
            "Train loss (one batch): -3.8156776428222656\n",
            "Train CE loss (one batch): 0.0\n",
            "Test MSE: 2.2450128653872525e-06\n",
            "Poisson likelihood: 0.0\n",
            "CE loss: 0.0\n"
          ]
        },
        {
          "output_type": "stream",
          "name": "stdout",
          "text": [
            "Computing loss... 0\n"
          ]
        },
        {
          "output_type": "stream",
          "name": "stderr",
          "text": [
            "Experiment 65442\n",
            "Epoch 0033 [Test seq (cond on sampled tp)] | Loss -3.748040 | Likelihood 4.951379 | KL fp 5.8305 | FP STD 0.0020|\n",
            "KL coef: 0.20638571635634462\n",
            "Train loss (one batch): -3.8954153060913086\n",
            "Train CE loss (one batch): 0.0\n",
            "Test MSE: 2.074875283142319e-06\n",
            "Poisson likelihood: 0.0\n",
            "CE loss: 0.0\n"
          ]
        },
        {
          "output_type": "stream",
          "name": "stdout",
          "text": [
            "Computing loss... 0\n"
          ]
        },
        {
          "output_type": "stream",
          "name": "stderr",
          "text": [
            "Experiment 65442\n",
            "Epoch 0034 [Test seq (cond on sampled tp)] | Loss -3.671587 | Likelihood 4.915499 | KL fp 5.8039 | FP STD 0.0022|\n",
            "KL coef: 0.21432185919278124\n",
            "Train loss (one batch): -3.7130446434020996\n",
            "Train CE loss (one batch): 0.0\n",
            "Test MSE: 2.146634869859554e-06\n",
            "Poisson likelihood: 0.0\n",
            "CE loss: 0.0\n"
          ]
        },
        {
          "output_type": "stream",
          "name": "stdout",
          "text": [
            "Computing loss... 0\n"
          ]
        },
        {
          "output_type": "stream",
          "name": "stderr",
          "text": [
            "Experiment 65442\n",
            "Epoch 0035 [Test seq (cond on sampled tp)] | Loss -3.690670 | Likelihood 4.975735 | KL fp 5.7839 | FP STD 0.0021|\n",
            "KL coef: 0.22217864060085335\n",
            "Train loss (one batch): -3.769251823425293\n",
            "Train CE loss (one batch): 0.0\n",
            "Test MSE: 2.02616229216801e-06\n",
            "Poisson likelihood: 0.0\n",
            "CE loss: 0.0\n"
          ]
        },
        {
          "output_type": "stream",
          "name": "stdout",
          "text": [
            "Computing loss... 0\n"
          ]
        },
        {
          "output_type": "stream",
          "name": "stderr",
          "text": [
            "Experiment 65442\n",
            "Epoch 0036 [Test seq (cond on sampled tp)] | Loss -3.704722 | Likelihood 5.047534 | KL fp 5.8394 | FP STD 0.0020|\n",
            "KL coef: 0.2299568541948449\n",
            "Train loss (one batch): -3.827202558517456\n",
            "Train CE loss (one batch): 0.0\n",
            "Test MSE: 1.8825656979970518e-06\n",
            "Poisson likelihood: 0.0\n",
            "CE loss: 0.0\n"
          ]
        },
        {
          "output_type": "stream",
          "name": "stdout",
          "text": [
            "Computing loss... 0\n"
          ]
        },
        {
          "output_type": "stream",
          "name": "stderr",
          "text": [
            "Experiment 65442\n",
            "Epoch 0037 [Test seq (cond on sampled tp)] | Loss -3.656586 | Likelihood 5.036164 | KL fp 5.8049 | FP STD 0.0021|\n",
            "KL coef: 0.23765728565289646\n",
            "Train loss (one batch): -3.8079748153686523\n",
            "Train CE loss (one batch): 0.0\n",
            "Test MSE: 1.9053064761465066e-06\n",
            "Poisson likelihood: 0.0\n",
            "CE loss: 0.0\n"
          ]
        },
        {
          "output_type": "stream",
          "name": "stdout",
          "text": [
            "Computing loss... 0\n"
          ]
        },
        {
          "output_type": "stream",
          "name": "stderr",
          "text": [
            "Experiment 65442\n",
            "Epoch 0038 [Test seq (cond on sampled tp)] | Loss -3.654624 | Likelihood 5.093385 | KL fp 5.8658 | FP STD 0.0020|\n",
            "KL coef: 0.24528071279636743\n",
            "Train loss (one batch): -3.7063636779785156\n",
            "Train CE loss (one batch): 0.0\n",
            "Test MSE: 1.7908624840856646e-06\n",
            "Poisson likelihood: 0.0\n",
            "CE loss: 0.0\n"
          ]
        },
        {
          "output_type": "stream",
          "name": "stdout",
          "text": [
            "Computing loss... 0\n"
          ]
        },
        {
          "output_type": "stream",
          "name": "stderr",
          "text": [
            "Experiment 65442\n",
            "Epoch 0039 [Test seq (cond on sampled tp)] | Loss -3.595633 | Likelihood 5.048611 | KL fp 5.7469 | FP STD 0.0022|\n",
            "KL coef: 0.25282790566840385\n",
            "Train loss (one batch): -3.693692207336426\n",
            "Train CE loss (one batch): 0.0\n",
            "Test MSE: 1.8804124692906043e-06\n",
            "Poisson likelihood: 0.0\n",
            "CE loss: 0.0\n"
          ]
        },
        {
          "output_type": "stream",
          "name": "stdout",
          "text": [
            "Computing loss... 0\n"
          ]
        },
        {
          "output_type": "stream",
          "name": "stderr",
          "text": [
            "Experiment 65442\n",
            "Epoch 0040 [Test seq (cond on sampled tp)] | Loss -3.481999 | Likelihood 4.936742 | KL fp 5.5887 | FP STD 0.0026|\n",
            "KL coef: 0.2602996266117198\n",
            "Train loss (one batch): -3.2325682640075684\n",
            "Train CE loss (one batch): 0.0\n",
            "Test MSE: 2.104149189108284e-06\n",
            "Poisson likelihood: 0.0\n",
            "CE loss: 0.0\n"
          ]
        },
        {
          "output_type": "stream",
          "name": "stdout",
          "text": [
            "Computing loss... 0\n"
          ]
        },
        {
          "output_type": "stream",
          "name": "stderr",
          "text": [
            "Experiment 65442\n",
            "Epoch 0041 [Test seq (cond on sampled tp)] | Loss -3.551819 | Likelihood 5.083039 | KL fp 5.7200 | FP STD 0.0023|\n",
            "KL coef: 0.26769663034560254\n",
            "Train loss (one batch): -3.658480644226074\n",
            "Train CE loss (one batch): 0.0\n",
            "Test MSE: 1.8115559896614286e-06\n",
            "Poisson likelihood: 0.0\n",
            "CE loss: 0.0\n"
          ]
        },
        {
          "output_type": "stream",
          "name": "stdout",
          "text": [
            "Computing loss... 0\n"
          ]
        },
        {
          "output_type": "stream",
          "name": "stderr",
          "text": [
            "Experiment 65442\n",
            "Epoch 0042 [Test seq (cond on sampled tp)] | Loss -3.569923 | Likelihood 5.153409 | KL fp 5.7577 | FP STD 0.0023|\n",
            "KL coef: 0.2750196640421466\n",
            "Train loss (one batch): -3.64280104637146\n",
            "Train CE loss (one batch): 0.0\n",
            "Test MSE: 1.6708148677935242e-06\n",
            "Poisson likelihood: 0.0\n",
            "CE loss: 0.0\n"
          ]
        },
        {
          "output_type": "stream",
          "name": "stdout",
          "text": [
            "Computing loss... 0\n"
          ]
        },
        {
          "output_type": "stream",
          "name": "stderr",
          "text": [
            "Experiment 65442\n",
            "Epoch 0043 [Test seq (cond on sampled tp)] | Loss -3.434442 | Likelihood 5.018581 | KL fp 5.6122 | FP STD 0.0028|\n",
            "KL coef: 0.2822694674017251\n",
            "Train loss (one batch): -3.4442138671875\n",
            "Train CE loss (one batch): 0.0\n",
            "Test MSE: 1.9404717477300437e-06\n",
            "Poisson likelihood: 0.0\n",
            "CE loss: 0.0\n"
          ]
        },
        {
          "output_type": "stream",
          "name": "stdout",
          "text": [
            "Computing loss... 0\n"
          ]
        },
        {
          "output_type": "stream",
          "name": "stderr",
          "text": [
            "Experiment 65442\n",
            "Epoch 0044 [Test seq (cond on sampled tp)] | Loss -3.495128 | Likelihood 5.194702 | KL fp 5.8718 | FP STD 0.0022|\n",
            "KL coef: 0.2894467727277079\n",
            "Train loss (one batch): -3.530951499938965\n",
            "Train CE loss (one batch): 0.0\n",
            "Test MSE: 1.5882293382674106e-06\n",
            "Poisson likelihood: 0.0\n",
            "CE loss: 0.0\n"
          ]
        },
        {
          "output_type": "stream",
          "name": "stdout",
          "text": [
            "Computing loss... 0\n"
          ]
        },
        {
          "output_type": "stream",
          "name": "stderr",
          "text": [
            "Experiment 65442\n",
            "Epoch 0045 [Test seq (cond on sampled tp)] | Loss -3.474629 | Likelihood 5.154813 | KL fp 5.6657 | FP STD 0.0024|\n",
            "KL coef: 0.29655230500043084\n",
            "Train loss (one batch): -3.6084697246551514\n",
            "Train CE loss (one batch): 0.0\n",
            "Test MSE: 1.6680066892149625e-06\n",
            "Poisson likelihood: 0.0\n",
            "CE loss: 0.0\n"
          ]
        },
        {
          "output_type": "stream",
          "name": "stdout",
          "text": [
            "Computing loss... 0\n"
          ]
        },
        {
          "output_type": "stream",
          "name": "stderr",
          "text": [
            "Experiment 65442\n",
            "Epoch 0046 [Test seq (cond on sampled tp)] | Loss -3.354940 | Likelihood 5.162267 | KL fp 5.9532 | FP STD 0.0023|\n",
            "KL coef: 0.30358678195042654\n",
            "Train loss (one batch): -3.475356101989746\n",
            "Train CE loss (one batch): 0.0\n",
            "Test MSE: 1.6530990478713647e-06\n",
            "Poisson likelihood: 0.0\n",
            "CE loss: 0.0\n"
          ]
        },
        {
          "output_type": "stream",
          "name": "stdout",
          "text": [
            "Computing loss... 0\n"
          ]
        },
        {
          "output_type": "stream",
          "name": "stderr",
          "text": [
            "Experiment 65442\n",
            "Epoch 0047 [Test seq (cond on sampled tp)] | Loss -3.403585 | Likelihood 5.164634 | KL fp 5.6707 | FP STD 0.0024|\n",
            "KL coef: 0.3105509141309223\n",
            "Train loss (one batch): -3.5304670333862305\n",
            "Train CE loss (one batch): 0.0\n",
            "Test MSE: 1.6483642184539349e-06\n",
            "Poisson likelihood: 0.0\n",
            "CE loss: 0.0\n"
          ]
        },
        {
          "output_type": "stream",
          "name": "stdout",
          "text": [
            "Computing loss... 0\n"
          ]
        },
        {
          "output_type": "stream",
          "name": "stderr",
          "text": [
            "Experiment 65442\n",
            "Epoch 0048 [Test seq (cond on sampled tp)] | Loss -3.413996 | Likelihood 5.235312 | KL fp 5.7374 | FP STD 0.0024|\n",
            "KL coef: 0.31744540498961304\n",
            "Train loss (one batch): -3.464172601699829\n",
            "Train CE loss (one batch): 0.0\n",
            "Test MSE: 1.507007823420281e-06\n",
            "Poisson likelihood: 0.0\n",
            "CE loss: 0.0\n"
          ]
        },
        {
          "output_type": "stream",
          "name": "stdout",
          "text": [
            "Computing loss... 0\n"
          ]
        },
        {
          "output_type": "stream",
          "name": "stderr",
          "text": [
            "Experiment 65442\n",
            "Epoch 0049 [Test seq (cond on sampled tp)] | Loss 6.226182 | Likelihood -4.548678 | KL fp 5.1732 | FP STD 0.0060|\n",
            "KL coef: 0.3242709509397169\n",
            "Train loss (one batch): 3.5763602256774902\n",
            "Train CE loss (one batch): 0.0\n",
            "Test MSE: 2.1074991309433244e-05\n",
            "Poisson likelihood: 0.0\n",
            "CE loss: 0.0\n"
          ]
        },
        {
          "output_type": "stream",
          "name": "stdout",
          "text": [
            "Computing loss... 0\n"
          ]
        },
        {
          "output_type": "stream",
          "name": "stderr",
          "text": [
            "Experiment 65442\n",
            "Epoch 0050 [Test seq (cond on sampled tp)] | Loss 2.521593 | Likelihood -0.682201 | KL fp 5.5566 | FP STD 0.0044|\n",
            "KL coef: 0.3310282414303197\n",
            "Train loss (one batch): 0.41206860542297363\n",
            "Train CE loss (one batch): 0.0\n",
            "Test MSE: 1.334203716396587e-05\n",
            "Poisson likelihood: 0.0\n",
            "CE loss: 0.0\n"
          ]
        },
        {
          "output_type": "stream",
          "name": "stdout",
          "text": [
            "Computing loss... 0\n"
          ]
        },
        {
          "output_type": "stream",
          "name": "stderr",
          "text": [
            "Experiment 65442\n",
            "Epoch 0051 [Test seq (cond on sampled tp)] | Loss -1.000657 | Likelihood 2.802536 | KL fp 5.3355 | FP STD 0.0041|\n",
            "KL coef: 0.33771795901601653\n",
            "Train loss (one batch): 0.8022353649139404\n",
            "Train CE loss (one batch): 0.0\n",
            "Test MSE: 6.372561983880587e-06\n",
            "Poisson likelihood: 0.0\n",
            "CE loss: 0.0\n"
          ]
        },
        {
          "output_type": "stream",
          "name": "stdout",
          "text": [
            "Computing loss... 0\n"
          ]
        },
        {
          "output_type": "stream",
          "name": "stderr",
          "text": [
            "Experiment 65442\n",
            "Epoch 0052 [Test seq (cond on sampled tp)] | Loss -2.008758 | Likelihood 3.903085 | KL fp 5.5013 | FP STD 0.0033|\n",
            "KL coef: 0.3443407794258564\n",
            "Train loss (one batch): -1.2027169466018677\n",
            "Train CE loss (one batch): 0.0\n",
            "Test MSE: 4.171463388047414e-06\n",
            "Poisson likelihood: 0.0\n",
            "CE loss: 0.0\n"
          ]
        },
        {
          "output_type": "stream",
          "name": "stdout",
          "text": [
            "Computing loss... 0\n"
          ]
        },
        {
          "output_type": "stream",
          "name": "stderr",
          "text": [
            "Experiment 65442\n",
            "Epoch 0053 [Test seq (cond on sampled tp)] | Loss -2.840517 | Likelihood 4.761483 | KL fp 5.4744 | FP STD 0.0030|\n",
            "KL coef: 0.35089737163159784\n",
            "Train loss (one batch): -2.730450391769409\n",
            "Train CE loss (one batch): 0.0\n",
            "Test MSE: 2.4546668555558426e-06\n",
            "Poisson likelihood: 0.0\n",
            "CE loss: 0.0\n"
          ]
        },
        {
          "output_type": "stream",
          "name": "stdout",
          "text": [
            "Computing loss... 0\n"
          ]
        },
        {
          "output_type": "stream",
          "name": "stderr",
          "text": [
            "Experiment 65442\n",
            "Epoch 0054 [Test seq (cond on sampled tp)] | Loss -3.082532 | Likelihood 5.075665 | KL fp 5.5769 | FP STD 0.0026|\n",
            "KL coef: 0.3573883979152819\n",
            "Train loss (one batch): -3.0159051418304443\n",
            "Train CE loss (one batch): 0.0\n",
            "Test MSE: 1.8263023093822994e-06\n",
            "Poisson likelihood: 0.0\n",
            "CE loss: 0.0\n"
          ]
        },
        {
          "output_type": "stream",
          "name": "stdout",
          "text": [
            "Computing loss... 0\n"
          ]
        },
        {
          "output_type": "stream",
          "name": "stderr",
          "text": [
            "Experiment 65442\n",
            "Epoch 0055 [Test seq (cond on sampled tp)] | Loss -3.263982 | Likelihood 5.283671 | KL fp 5.5514 | FP STD 0.0025|\n",
            "KL coef: 0.36381451393612907\n",
            "Train loss (one batch): -3.1815943717956543\n",
            "Train CE loss (one batch): 0.0\n",
            "Test MSE: 1.4102907925916952e-06\n",
            "Poisson likelihood: 0.0\n",
            "CE loss: 0.0\n"
          ]
        },
        {
          "output_type": "stream",
          "name": "stdout",
          "text": [
            "Computing loss... 0\n"
          ]
        },
        {
          "output_type": "stream",
          "name": "stderr",
          "text": [
            "Experiment 65442\n",
            "Epoch 0056 [Test seq (cond on sampled tp)] | Loss -3.253620 | Likelihood 5.329172 | KL fp 5.6069 | FP STD 0.0024|\n",
            "KL coef: 0.37017636879676774\n",
            "Train loss (one batch): -3.3856334686279297\n",
            "Train CE loss (one batch): 0.0\n",
            "Test MSE: 1.319288799095375e-06\n",
            "Poisson likelihood: 0.0\n",
            "CE loss: 0.0\n"
          ]
        },
        {
          "output_type": "stream",
          "name": "stdout",
          "text": [
            "Computing loss... 0\n"
          ]
        },
        {
          "output_type": "stream",
          "name": "stderr",
          "text": [
            "Experiment 65442\n",
            "Epoch 0057 [Test seq (cond on sampled tp)] | Loss -3.258342 | Likelihood 5.327284 | KL fp 5.4956 | FP STD 0.0027|\n",
            "KL coef: 0.37647460510880004\n",
            "Train loss (one batch): -3.355151653289795\n",
            "Train CE loss (one batch): 0.0\n",
            "Test MSE: 1.3230655895313248e-06\n",
            "Poisson likelihood: 0.0\n",
            "CE loss: 0.0\n"
          ]
        },
        {
          "output_type": "stream",
          "name": "stdout",
          "text": [
            "Computing loss... 0\n"
          ]
        },
        {
          "output_type": "stream",
          "name": "stderr",
          "text": [
            "Experiment 65442\n",
            "Epoch 0058 [Test seq (cond on sampled tp)] | Loss -3.211657 | Likelihood 5.378437 | KL fp 5.6617 | FP STD 0.0023|\n",
            "KL coef: 0.38270985905771204\n",
            "Train loss (one batch): -3.267306327819824\n",
            "Train CE loss (one batch): 0.0\n",
            "Test MSE: 1.2207597137603443e-06\n",
            "Poisson likelihood: 0.0\n",
            "CE loss: 0.0\n"
          ]
        },
        {
          "output_type": "stream",
          "name": "stdout",
          "text": [
            "Computing loss... 0\n"
          ]
        },
        {
          "output_type": "stream",
          "name": "stderr",
          "text": [
            "Experiment 65442\n",
            "Epoch 0059 [Test seq (cond on sampled tp)] | Loss -3.225560 | Likelihood 5.372457 | KL fp 5.5207 | FP STD 0.0027|\n",
            "KL coef: 0.388882760467135\n",
            "Train loss (one batch): -3.3183202743530273\n",
            "Train CE loss (one batch): 0.0\n",
            "Test MSE: 1.2327191143413074e-06\n",
            "Poisson likelihood: 0.0\n",
            "CE loss: 0.0\n"
          ]
        },
        {
          "output_type": "stream",
          "name": "stdout",
          "text": [
            "Computing loss... 0\n"
          ]
        },
        {
          "output_type": "stream",
          "name": "stderr",
          "text": [
            "Experiment 65442\n",
            "Epoch 0060 [Test seq (cond on sampled tp)] | Loss -3.124141 | Likelihood 5.302984 | KL fp 5.5161 | FP STD 0.0028|\n",
            "KL coef: 0.39499393286246365\n",
            "Train loss (one batch): -2.9133055210113525\n",
            "Train CE loss (one batch): 0.0\n",
            "Test MSE: 1.3716647799810744e-06\n",
            "Poisson likelihood: 0.0\n",
            "CE loss: 0.0\n"
          ]
        },
        {
          "output_type": "stream",
          "name": "stdout",
          "text": [
            "Computing loss... 0\n"
          ]
        },
        {
          "output_type": "stream",
          "name": "stderr",
          "text": [
            "Experiment 65442\n",
            "Epoch 0061 [Test seq (cond on sampled tp)] | Loss -3.164946 | Likelihood 5.338860 | KL fp 5.4206 | FP STD 0.0029|\n",
            "KL coef: 0.401043993533839\n",
            "Train loss (one batch): -3.2258431911468506\n",
            "Train CE loss (one batch): 0.0\n",
            "Test MSE: 1.2999132650293177e-06\n",
            "Poisson likelihood: 0.0\n",
            "CE loss: 0.0\n"
          ]
        },
        {
          "output_type": "stream",
          "name": "stdout",
          "text": [
            "Computing loss... 0\n"
          ]
        },
        {
          "output_type": "stream",
          "name": "stderr",
          "text": [
            "Experiment 65442\n",
            "Epoch 0062 [Test seq (cond on sampled tp)] | Loss -3.159894 | Likelihood 5.409134 | KL fp 5.5259 | FP STD 0.0027|\n",
            "KL coef: 0.4070335535985006\n",
            "Train loss (one batch): -3.187424898147583\n",
            "Train CE loss (one batch): 0.0\n",
            "Test MSE: 1.1593639328566496e-06\n",
            "Poisson likelihood: 0.0\n",
            "CE loss: 0.0\n"
          ]
        },
        {
          "output_type": "stream",
          "name": "stdout",
          "text": [
            "Computing loss... 0\n"
          ]
        },
        {
          "output_type": "stream",
          "name": "stderr",
          "text": [
            "Experiment 65442\n",
            "Epoch 0063 [Test seq (cond on sampled tp)] | Loss -3.126996 | Likelihood 5.360554 | KL fp 5.4086 | FP STD 0.0029|\n",
            "KL coef: 0.41296321806251557\n",
            "Train loss (one batch): -3.26473331451416\n",
            "Train CE loss (one batch): 0.0\n",
            "Test MSE: 1.2565258202812402e-06\n",
            "Poisson likelihood: 0.0\n",
            "CE loss: 0.0\n"
          ]
        },
        {
          "output_type": "stream",
          "name": "stdout",
          "text": [
            "Computing loss... 0\n"
          ]
        },
        {
          "output_type": "stream",
          "name": "stderr",
          "text": [
            "Experiment 65442\n",
            "Epoch 0064 [Test seq (cond on sampled tp)] | Loss -3.067425 | Likelihood 5.332773 | KL fp 5.4087 | FP STD 0.0030|\n",
            "KL coef: 0.41883358588189046\n",
            "Train loss (one batch): -3.2448887825012207\n",
            "Train CE loss (one batch): 0.0\n",
            "Test MSE: 1.3120870789862238e-06\n",
            "Poisson likelihood: 0.0\n",
            "CE loss: 0.0\n"
          ]
        },
        {
          "output_type": "stream",
          "name": "stdout",
          "text": [
            "Computing loss... 0\n"
          ]
        },
        {
          "output_type": "stream",
          "name": "stderr",
          "text": [
            "Experiment 65442\n",
            "Epoch 0065 [Test seq (cond on sampled tp)] | Loss -3.067244 | Likelihood 5.362499 | KL fp 5.4051 | FP STD 0.0029|\n",
            "KL coef: 0.4246452500230715\n",
            "Train loss (one batch): -3.2143871784210205\n",
            "Train CE loss (one batch): 0.0\n",
            "Test MSE: 1.2526348882602178e-06\n",
            "Poisson likelihood: 0.0\n",
            "CE loss: 0.0\n"
          ]
        },
        {
          "output_type": "stream",
          "name": "stdout",
          "text": [
            "Computing loss... 0\n"
          ]
        },
        {
          "output_type": "stream",
          "name": "stderr",
          "text": [
            "Experiment 65442\n",
            "Epoch 0066 [Test seq (cond on sampled tp)] | Loss -3.079652 | Likelihood 5.428266 | KL fp 5.4568 | FP STD 0.0028|\n",
            "KL coef: 0.4303987975228408\n",
            "Train loss (one batch): -3.070483446121216\n",
            "Train CE loss (one batch): 0.0\n",
            "Test MSE: 1.121100922318874e-06\n",
            "Poisson likelihood: 0.0\n",
            "CE loss: 0.0\n"
          ]
        },
        {
          "output_type": "stream",
          "name": "stdout",
          "text": [
            "Computing loss... 0\n"
          ]
        },
        {
          "output_type": "stream",
          "name": "stderr",
          "text": [
            "Experiment 65442\n",
            "Epoch 0067 [Test seq (cond on sampled tp)] | Loss -3.057959 | Likelihood 5.403058 | KL fp 5.3775 | FP STD 0.0029|\n",
            "KL coef: 0.4360948095476125\n",
            "Train loss (one batch): -3.0711588859558105\n",
            "Train CE loss (one batch): 0.0\n",
            "Test MSE: 1.1715177379301167e-06\n",
            "Poisson likelihood: 0.0\n",
            "CE loss: 0.0\n"
          ]
        },
        {
          "output_type": "stream",
          "name": "stdout",
          "text": [
            "Computing loss... 0\n"
          ]
        },
        {
          "output_type": "stream",
          "name": "stderr",
          "text": [
            "Experiment 65442\n",
            "Epoch 0068 [Test seq (cond on sampled tp)] | Loss -3.027760 | Likelihood 5.435143 | KL fp 5.4499 | FP STD 0.0028|\n",
            "KL coef: 0.44173386145213633\n",
            "Train loss (one batch): -3.0145273208618164\n",
            "Train CE loss (one batch): 0.0\n",
            "Test MSE: 1.1073462928834488e-06\n",
            "Poisson likelihood: 0.0\n",
            "CE loss: 0.0\n"
          ]
        },
        {
          "output_type": "stream",
          "name": "stdout",
          "text": [
            "Computing loss... 0\n"
          ]
        },
        {
          "output_type": "stream",
          "name": "stderr",
          "text": [
            "Experiment 65442\n",
            "Epoch 0069 [Test seq (cond on sampled tp)] | Loss -2.999993 | Likelihood 5.379892 | KL fp 5.3204 | FP STD 0.0032|\n",
            "KL coef: 0.4473165228376149\n",
            "Train loss (one batch): -3.1054043769836426\n",
            "Train CE loss (one batch): 0.0\n",
            "Test MSE: 1.2178494444015087e-06\n",
            "Poisson likelihood: 0.0\n",
            "CE loss: 0.0\n"
          ]
        },
        {
          "output_type": "stream",
          "name": "stdout",
          "text": [
            "Computing loss... 0\n"
          ]
        },
        {
          "output_type": "stream",
          "name": "stderr",
          "text": [
            "Experiment 65442\n",
            "Epoch 0070 [Test seq (cond on sampled tp)] | Loss -2.949481 | Likelihood 5.387904 | KL fp 5.3847 | FP STD 0.0030|\n",
            "KL coef: 0.4528433576092388\n",
            "Train loss (one batch): -3.070478677749634\n",
            "Train CE loss (one batch): 0.0\n",
            "Test MSE: 1.2018258530588355e-06\n",
            "Poisson likelihood: 0.0\n",
            "CE loss: 0.0\n"
          ]
        },
        {
          "output_type": "stream",
          "name": "stdout",
          "text": [
            "Computing loss... 0\n"
          ]
        },
        {
          "output_type": "stream",
          "name": "stderr",
          "text": [
            "Experiment 65442\n",
            "Epoch 0071 [Test seq (cond on sampled tp)] | Loss -2.974066 | Likelihood 5.409575 | KL fp 5.3141 | FP STD 0.0032|\n",
            "KL coef: 0.45831492403314644\n",
            "Train loss (one batch): -3.1146657466888428\n",
            "Train CE loss (one batch): 0.0\n",
            "Test MSE: 1.158484110419522e-06\n",
            "Poisson likelihood: 0.0\n",
            "CE loss: 0.0\n"
          ]
        },
        {
          "output_type": "stream",
          "name": "stdout",
          "text": [
            "Computing loss... 0\n"
          ]
        },
        {
          "output_type": "stream",
          "name": "stderr",
          "text": [
            "Experiment 65442\n",
            "Epoch 0072 [Test seq (cond on sampled tp)] | Loss -2.950719 | Likelihood 5.474885 | KL fp 5.4432 | FP STD 0.0029|\n",
            "KL coef: 0.463731774792815\n",
            "Train loss (one batch): -3.0667848587036133\n",
            "Train CE loss (one batch): 0.0\n",
            "Test MSE: 1.0278646414008108e-06\n",
            "Poisson likelihood: 0.0\n",
            "CE loss: 0.0\n"
          ]
        },
        {
          "output_type": "stream",
          "name": "stdout",
          "text": [
            "Computing loss... 0\n"
          ]
        },
        {
          "output_type": "stream",
          "name": "stderr",
          "text": [
            "Experiment 65442\n",
            "Epoch 0073 [Test seq (cond on sampled tp)] | Loss -2.944242 | Likelihood 5.444114 | KL fp 5.3291 | FP STD 0.0031|\n",
            "KL coef: 0.46909445704488684\n",
            "Train loss (one batch): -2.9324803352355957\n",
            "Train CE loss (one batch): 0.0\n",
            "Test MSE: 1.0894054867094383e-06\n",
            "Poisson likelihood: 0.0\n",
            "CE loss: 0.0\n"
          ]
        },
        {
          "output_type": "stream",
          "name": "stdout",
          "text": [
            "Computing loss... 0\n"
          ]
        },
        {
          "output_type": "stream",
          "name": "stderr",
          "text": [
            "Experiment 65442\n",
            "Epoch 0074 [Test seq (cond on sampled tp)] | Loss -2.880333 | Likelihood 5.478831 | KL fp 5.4774 | FP STD 0.0029|\n",
            "KL coef: 0.474403512474438\n",
            "Train loss (one batch): -2.8757314682006836\n",
            "Train CE loss (one batch): 0.0\n",
            "Test MSE: 1.0199712505709613e-06\n",
            "Poisson likelihood: 0.0\n",
            "CE loss: 0.0\n"
          ]
        },
        {
          "output_type": "stream",
          "name": "stdout",
          "text": [
            "Computing loss... 0\n"
          ]
        },
        {
          "output_type": "stream",
          "name": "stderr",
          "text": [
            "Experiment 65442\n",
            "Epoch 0075 [Test seq (cond on sampled tp)] | Loss -2.901554 | Likelihood 5.461833 | KL fp 5.3377 | FP STD 0.0031|\n",
            "KL coef: 0.4796594773496936\n",
            "Train loss (one batch): -2.9192066192626953\n",
            "Train CE loss (one batch): 0.0\n",
            "Test MSE: 1.0539663435338298e-06\n",
            "Poisson likelihood: 0.0\n",
            "CE loss: 0.0\n"
          ]
        },
        {
          "output_type": "stream",
          "name": "stdout",
          "text": [
            "Computing loss... 0\n"
          ]
        },
        {
          "output_type": "stream",
          "name": "stderr",
          "text": [
            "Experiment 65442\n",
            "Epoch 0076 [Test seq (cond on sampled tp)] | Loss -2.905226 | Likelihood 5.511632 | KL fp 5.3756 | FP STD 0.0030|\n",
            "KL coef: 0.4848628825761967\n",
            "Train loss (one batch): -2.9734928607940674\n",
            "Train CE loss (one batch): 0.0\n",
            "Test MSE: 9.543691703584045e-07\n",
            "Poisson likelihood: 0.0\n",
            "CE loss: 0.0\n"
          ]
        },
        {
          "output_type": "stream",
          "name": "stdout",
          "text": [
            "Computing loss... 0\n"
          ]
        },
        {
          "output_type": "stream",
          "name": "stderr",
          "text": [
            "Experiment 65442\n",
            "Epoch 0077 [Test seq (cond on sampled tp)] | Loss -2.848016 | Likelihood 5.453988 | KL fp 5.3182 | FP STD 0.0032|\n",
            "KL coef: 0.4900142537504347\n",
            "Train loss (one batch): -2.895202398300171\n",
            "Train CE loss (one batch): 0.0\n",
            "Test MSE: 1.0696580829971936e-06\n",
            "Poisson likelihood: 0.0\n",
            "CE loss: 0.0\n"
          ]
        },
        {
          "output_type": "stream",
          "name": "stdout",
          "text": [
            "Computing loss... 0\n"
          ]
        },
        {
          "output_type": "stream",
          "name": "stderr",
          "text": [
            "Experiment 65442\n",
            "Epoch 0078 [Test seq (cond on sampled tp)] | Loss -2.760172 | Likelihood 5.432910 | KL fp 5.3982 | FP STD 0.0031|\n",
            "KL coef: 0.49511411121293036\n",
            "Train loss (one batch): -2.7945656776428223\n",
            "Train CE loss (one batch): 0.0\n",
            "Test MSE: 1.111812707677018e-06\n",
            "Poisson likelihood: 0.0\n",
            "CE loss: 0.0\n"
          ]
        },
        {
          "output_type": "stream",
          "name": "stdout",
          "text": [
            "Computing loss... 0\n"
          ]
        },
        {
          "output_type": "stream",
          "name": "stderr",
          "text": [
            "Experiment 65442\n",
            "Epoch 0079 [Test seq (cond on sampled tp)] | Loss -2.780131 | Likelihood 5.436840 | KL fp 5.3117 | FP STD 0.0032|\n",
            "KL coef: 0.500162970100801\n",
            "Train loss (one batch): -2.9412808418273926\n",
            "Train CE loss (one batch): 0.0\n",
            "Test MSE: 1.1039543323931866e-06\n",
            "Poisson likelihood: 0.0\n",
            "CE loss: 0.0\n"
          ]
        },
        {
          "output_type": "stream",
          "name": "stdout",
          "text": [
            "Computing loss... 0\n"
          ]
        },
        {
          "output_type": "stream",
          "name": "stderr",
          "text": [
            "Experiment 65442\n",
            "Epoch 0080 [Test seq (cond on sampled tp)] | Loss -2.799548 | Likelihood 5.566390 | KL fp 5.4771 | FP STD 0.0029|\n",
            "KL coef: 0.505161340399793\n",
            "Train loss (one batch): -2.686107873916626\n",
            "Train CE loss (one batch): 0.0\n",
            "Test MSE: 8.448550943285227e-07\n",
            "Poisson likelihood: 0.0\n",
            "CE loss: 0.0\n"
          ]
        },
        {
          "output_type": "stream",
          "name": "stdout",
          "text": [
            "Computing loss... 0\n"
          ]
        },
        {
          "output_type": "stream",
          "name": "stderr",
          "text": [
            "Experiment 65442\n",
            "Epoch 0081 [Test seq (cond on sampled tp)] | Loss -2.799355 | Likelihood 5.486906 | KL fp 5.2686 | FP STD 0.0033|\n",
            "KL coef: 0.510109726995795\n",
            "Train loss (one batch): -2.8817763328552246\n",
            "Train CE loss (one batch): 0.0\n",
            "Test MSE: 1.0038221489594434e-06\n",
            "Poisson likelihood: 0.0\n",
            "CE loss: 0.0\n"
          ]
        },
        {
          "output_type": "stream",
          "name": "stdout",
          "text": [
            "Computing loss... 0\n"
          ]
        },
        {
          "output_type": "stream",
          "name": "stderr",
          "text": [
            "Experiment 65442\n",
            "Epoch 0082 [Test seq (cond on sampled tp)] | Loss -2.764148 | Likelihood 5.533879 | KL fp 5.3780 | FP STD 0.0031|\n",
            "KL coef: 0.5150086297258372\n",
            "Train loss (one batch): -2.8921597003936768\n",
            "Train CE loss (one batch): 0.0\n",
            "Test MSE: 9.098747568714316e-07\n",
            "Poisson likelihood: 0.0\n",
            "CE loss: 0.0\n"
          ]
        },
        {
          "output_type": "stream",
          "name": "stdout",
          "text": [
            "Computing loss... 0\n"
          ]
        },
        {
          "output_type": "stream",
          "name": "stderr",
          "text": [
            "Experiment 65442\n",
            "Epoch 0083 [Test seq (cond on sampled tp)] | Loss -2.750373 | Likelihood 5.488762 | KL fp 5.2676 | FP STD 0.0034|\n",
            "KL coef: 0.5198585434285787\n",
            "Train loss (one batch): -2.74812650680542\n",
            "Train CE loss (one batch): 0.0\n",
            "Test MSE: 1.0001083410315914e-06\n",
            "Poisson likelihood: 0.0\n",
            "CE loss: 0.0\n"
          ]
        },
        {
          "output_type": "stream",
          "name": "stdout",
          "text": [
            "Computing loss... 0\n"
          ]
        },
        {
          "output_type": "stream",
          "name": "stderr",
          "text": [
            "Experiment 65442\n",
            "Epoch 0084 [Test seq (cond on sampled tp)] | Loss -2.665304 | Likelihood 5.482814 | KL fp 5.3702 | FP STD 0.0031|\n",
            "KL coef: 0.524659957994293\n",
            "Train loss (one batch): -2.55568265914917\n",
            "Train CE loss (one batch): 0.0\n",
            "Test MSE: 1.0120049864781322e-06\n",
            "Poisson likelihood: 0.0\n",
            "CE loss: 0.0\n"
          ]
        },
        {
          "output_type": "stream",
          "name": "stdout",
          "text": [
            "Computing loss... 0\n"
          ]
        },
        {
          "output_type": "stream",
          "name": "stderr",
          "text": [
            "Experiment 65442\n",
            "Epoch 0085 [Test seq (cond on sampled tp)] | Loss -2.723490 | Likelihood 5.504132 | KL fp 5.2523 | FP STD 0.0034|\n",
            "KL coef: 0.5294133584143501\n",
            "Train loss (one batch): -2.7872474193573\n",
            "Train CE loss (one batch): 0.0\n",
            "Test MSE: 9.693699212220963e-07\n",
            "Poisson likelihood: 0.0\n",
            "CE loss: 0.0\n"
          ]
        },
        {
          "output_type": "stream",
          "name": "stdout",
          "text": [
            "Computing loss... 0\n"
          ]
        },
        {
          "output_type": "stream",
          "name": "stderr",
          "text": [
            "Experiment 65442\n",
            "Epoch 0086 [Test seq (cond on sampled tp)] | Loss -2.714768 | Likelihood 5.571401 | KL fp 5.3483 | FP STD 0.0031|\n",
            "KL coef: 0.5341192248302067\n",
            "Train loss (one batch): -2.836862087249756\n",
            "Train CE loss (one batch): 0.0\n",
            "Test MSE: 8.348312121597701e-07\n",
            "Poisson likelihood: 0.0\n",
            "CE loss: 0.0\n"
          ]
        },
        {
          "output_type": "stream",
          "name": "stdout",
          "text": [
            "Computing loss... 0\n"
          ]
        },
        {
          "output_type": "stream",
          "name": "stderr",
          "text": [
            "Experiment 65442\n",
            "Epoch 0087 [Test seq (cond on sampled tp)] | Loss -2.677164 | Likelihood 5.492557 | KL fp 5.2255 | FP STD 0.0034|\n",
            "KL coef: 0.5387780325819045\n",
            "Train loss (one batch): -2.807657480239868\n",
            "Train CE loss (one batch): 0.0\n",
            "Test MSE: 9.925181529979454e-07\n",
            "Poisson likelihood: 0.0\n",
            "CE loss: 0.0\n"
          ]
        },
        {
          "output_type": "stream",
          "name": "stdout",
          "text": [
            "Computing loss... 0\n"
          ]
        },
        {
          "output_type": "stream",
          "name": "stderr",
          "text": [
            "Experiment 65442\n",
            "Epoch 0088 [Test seq (cond on sampled tp)] | Loss -2.638381 | Likelihood 5.555478 | KL fp 5.3683 | FP STD 0.0030|\n",
            "KL coef: 0.5433902522560855\n",
            "Train loss (one batch): -2.5971262454986572\n",
            "Train CE loss (one batch): 0.0\n",
            "Test MSE: 8.666758617437154e-07\n",
            "Poisson likelihood: 0.0\n",
            "CE loss: 0.0\n"
          ]
        },
        {
          "output_type": "stream",
          "name": "stdout",
          "text": [
            "Computing loss... 0\n"
          ]
        },
        {
          "output_type": "stream",
          "name": "stderr",
          "text": [
            "Experiment 65442\n",
            "Epoch 0089 [Test seq (cond on sampled tp)] | Loss -2.555389 | Likelihood 5.433461 | KL fp 5.2524 | FP STD 0.0036|\n",
            "KL coef: 0.5479563497335247\n",
            "Train loss (one batch): -2.6194746494293213\n",
            "Train CE loss (one batch): 0.0\n",
            "Test MSE: 1.1107110822194954e-06\n",
            "Poisson likelihood: 0.0\n",
            "CE loss: 0.0\n"
          ]
        },
        {
          "output_type": "stream",
          "name": "stdout",
          "text": [
            "Computing loss... 0\n"
          ]
        },
        {
          "output_type": "stream",
          "name": "stderr",
          "text": [
            "Experiment 65442\n",
            "Epoch 0090 [Test seq (cond on sampled tp)] | Loss -2.596245 | Likelihood 5.592313 | KL fp 5.4230 | FP STD 0.0028|\n",
            "KL coef: 0.5524767862361895\n",
            "Train loss (one batch): -2.568028688430786\n",
            "Train CE loss (one batch): 0.0\n",
            "Test MSE: 7.930075867079722e-07\n",
            "Poisson likelihood: 0.0\n",
            "CE loss: 0.0\n"
          ]
        },
        {
          "output_type": "stream",
          "name": "stdout",
          "text": [
            "Computing loss... 0\n"
          ]
        },
        {
          "output_type": "stream",
          "name": "stderr",
          "text": [
            "Experiment 65442\n",
            "Epoch 0091 [Test seq (cond on sampled tp)] | Loss -2.589079 | Likelihood 5.529740 | KL fp 5.2799 | FP STD 0.0032|\n",
            "KL coef: 0.5569520183738275\n",
            "Train loss (one batch): -2.772467613220215\n",
            "Train CE loss (one batch): 0.0\n",
            "Test MSE: 9.181525797430368e-07\n",
            "Poisson likelihood: 0.0\n",
            "CE loss: 0.0\n"
          ]
        },
        {
          "output_type": "stream",
          "name": "stdout",
          "text": [
            "Computing loss... 0\n"
          ]
        },
        {
          "output_type": "stream",
          "name": "stderr",
          "text": [
            "Experiment 65442\n",
            "Epoch 0092 [Test seq (cond on sampled tp)] | Loss -2.569541 | Likelihood 5.582554 | KL fp 5.3671 | FP STD 0.0031|\n",
            "KL coef: 0.5613824981900892\n",
            "Train loss (one batch): -2.5406312942504883\n",
            "Train CE loss (one batch): 0.0\n",
            "Test MSE: 8.125248314172495e-07\n",
            "Poisson likelihood: 0.0\n",
            "CE loss: 0.0\n"
          ]
        },
        {
          "output_type": "stream",
          "name": "stdout",
          "text": [
            "Computing loss... 0\n"
          ]
        },
        {
          "output_type": "stream",
          "name": "stderr",
          "text": [
            "Experiment 65442\n",
            "Epoch 0093 [Test seq (cond on sampled tp)] | Loss -2.542501 | Likelihood 5.480000 | KL fp 5.1921 | FP STD 0.0035|\n",
            "KL coef: 0.5657686732081884\n",
            "Train loss (one batch): -2.7364413738250732\n",
            "Train CE loss (one batch): 0.0\n",
            "Test MSE: 1.0176332807532162e-06\n",
            "Poisson likelihood: 0.0\n",
            "CE loss: 0.0\n"
          ]
        },
        {
          "output_type": "stream",
          "name": "stdout",
          "text": [
            "Computing loss... 0\n"
          ]
        },
        {
          "output_type": "stream",
          "name": "stderr",
          "text": [
            "Experiment 65442\n",
            "Epoch 0094 [Test seq (cond on sampled tp)] | Loss -2.520766 | Likelihood 5.553073 | KL fp 5.3188 | FP STD 0.0032|\n",
            "KL coef: 0.5701109864761065\n",
            "Train loss (one batch): -2.556844711303711\n",
            "Train CE loss (one batch): 0.0\n",
            "Test MSE: 8.714857244740415e-07\n",
            "Poisson likelihood: 0.0\n",
            "CE loss: 0.0\n"
          ]
        },
        {
          "output_type": "stream",
          "name": "stdout",
          "text": [
            "Computing loss... 0\n"
          ]
        },
        {
          "output_type": "stream",
          "name": "stderr",
          "text": [
            "Experiment 65442\n",
            "Epoch 0095 [Test seq (cond on sampled tp)] | Loss -2.531002 | Likelihood 5.532417 | KL fp 5.2252 | FP STD 0.0034|\n",
            "KL coef: 0.5744098766113455\n",
            "Train loss (one batch): -2.593013286590576\n",
            "Train CE loss (one batch): 0.0\n",
            "Test MSE: 9.127989528678881e-07\n",
            "Poisson likelihood: 0.0\n",
            "CE loss: 0.0\n"
          ]
        },
        {
          "output_type": "stream",
          "name": "stdout",
          "text": [
            "Computing loss... 0\n"
          ]
        },
        {
          "output_type": "stream",
          "name": "stderr",
          "text": [
            "Experiment 65442\n",
            "Epoch 0096 [Test seq (cond on sampled tp)] | Loss -2.482939 | Likelihood 5.550713 | KL fp 5.3015 | FP STD 0.0032|\n",
            "KL coef: 0.578665777845232\n",
            "Train loss (one batch): -2.5809268951416016\n",
            "Train CE loss (one batch): 0.0\n",
            "Test MSE: 8.762075935919711e-07\n",
            "Poisson likelihood: 0.0\n",
            "CE loss: 0.0\n"
          ]
        },
        {
          "output_type": "stream",
          "name": "stdout",
          "text": [
            "Computing loss... 0\n"
          ]
        },
        {
          "output_type": "stream",
          "name": "stderr",
          "text": [
            "Experiment 65442\n",
            "Epoch 0097 [Test seq (cond on sampled tp)] | Loss -2.428135 | Likelihood 5.395493 | KL fp 5.0909 | FP STD 0.0039|\n",
            "KL coef: 0.5828791200667797\n",
            "Train loss (one batch): -2.556927442550659\n",
            "Train CE loss (one batch): 0.0\n",
            "Test MSE: 1.1866470686072716e-06\n",
            "Poisson likelihood: 0.0\n",
            "CE loss: 0.0\n"
          ]
        },
        {
          "output_type": "stream",
          "name": "stdout",
          "text": [
            "Computing loss... 0\n"
          ]
        },
        {
          "output_type": "stream",
          "name": "stderr",
          "text": [
            "Experiment 65442\n",
            "Epoch 0098 [Test seq (cond on sampled tp)] | Loss -2.425203 | Likelihood 5.539141 | KL fp 5.3044 | FP STD 0.0033|\n",
            "KL coef: 0.5870503288661119\n",
            "Train loss (one batch): -2.4354872703552246\n",
            "Train CE loss (one batch): 0.0\n",
            "Test MSE: 8.993516189548245e-07\n",
            "Poisson likelihood: 0.0\n",
            "CE loss: 0.0\n"
          ]
        },
        {
          "output_type": "stream",
          "name": "stdout",
          "text": [
            "Computing loss... 0\n"
          ]
        },
        {
          "output_type": "stream",
          "name": "stderr",
          "text": [
            "Experiment 65442\n",
            "Epoch 0099 [Test seq (cond on sampled tp)] | Loss -2.429455 | Likelihood 5.483665 | KL fp 5.1663 | FP STD 0.0037|\n",
            "KL coef: 0.5911798255774507\n",
            "Train loss (one batch): -2.465792655944824\n",
            "Train CE loss (one batch): 0.0\n",
            "Test MSE: 1.0103024123964133e-06\n",
            "Poisson likelihood: 0.0\n",
            "CE loss: 0.0\n"
          ]
        },
        {
          "output_type": "stream",
          "name": "stdout",
          "text": [
            "Computing loss... 0\n"
          ]
        },
        {
          "output_type": "stream",
          "name": "stderr",
          "text": [
            "Experiment 65442\n",
            "Epoch 0100 [Test seq (cond on sampled tp)] | Loss -2.392128 | Likelihood 5.545656 | KL fp 5.2977 | FP STD 0.0033|\n",
            "KL coef: 0.5952680273216762\n",
            "Train loss (one batch): -2.474534034729004\n",
            "Train CE loss (one batch): 0.0\n",
            "Test MSE: 8.863205493980786e-07\n",
            "Poisson likelihood: 0.0\n",
            "CE loss: 0.0\n"
          ]
        },
        {
          "output_type": "stream",
          "name": "stdout",
          "text": [
            "Computing loss... 0\n"
          ]
        },
        {
          "output_type": "error",
          "ename": "RuntimeError",
          "evalue": "ignored",
          "traceback": [
            "\u001b[0;31m---------------------------------------------------------------------------\u001b[0m",
            "\u001b[0;31mRuntimeError\u001b[0m                              Traceback (most recent call last)",
            "\u001b[0;32m<ipython-input-24-2b7fc37f40a0>\u001b[0m in \u001b[0;36m<module>\u001b[0;34m()\u001b[0m\n\u001b[1;32m    101\u001b[0m \t\t\t\t\t\t\texperimentID = experimentID, save=True)\n\u001b[1;32m    102\u001b[0m                                                 \u001b[0mplt\u001b[0m\u001b[0;34m.\u001b[0m\u001b[0mpause\u001b[0m\u001b[0;34m(\u001b[0m\u001b[0;36m0.01\u001b[0m\u001b[0;34m)\u001b[0m\u001b[0;34m\u001b[0m\u001b[0;34m\u001b[0m\u001b[0m\n\u001b[0;32m--> 103\u001b[0;31m         \u001b[0mtrain_pred_y_list\u001b[0m\u001b[0;34m.\u001b[0m\u001b[0mappend\u001b[0m\u001b[0;34m(\u001b[0m\u001b[0mtrain_res\u001b[0m\u001b[0;34m[\u001b[0m\u001b[0;34m'pred_y'\u001b[0m\u001b[0;34m]\u001b[0m\u001b[0;34m.\u001b[0m\u001b[0mcpu\u001b[0m\u001b[0;34m(\u001b[0m\u001b[0;34m)\u001b[0m\u001b[0;34m.\u001b[0m\u001b[0mnumpy\u001b[0m\u001b[0;34m(\u001b[0m\u001b[0;34m)\u001b[0m\u001b[0;34m)\u001b[0m\u001b[0;34m\u001b[0m\u001b[0;34m\u001b[0m\u001b[0m\n\u001b[0m\u001b[1;32m    104\u001b[0m         \u001b[0mtrain_true_y_list\u001b[0m\u001b[0;34m.\u001b[0m\u001b[0mappend\u001b[0m\u001b[0;34m(\u001b[0m\u001b[0mtrain_res\u001b[0m\u001b[0;34m[\u001b[0m\u001b[0;34m'true_y'\u001b[0m\u001b[0;34m]\u001b[0m\u001b[0;34m.\u001b[0m\u001b[0mcpu\u001b[0m\u001b[0;34m(\u001b[0m\u001b[0;34m)\u001b[0m\u001b[0;34m.\u001b[0m\u001b[0mnumpy\u001b[0m\u001b[0;34m(\u001b[0m\u001b[0;34m)\u001b[0m\u001b[0;34m)\u001b[0m\u001b[0;34m\u001b[0m\u001b[0;34m\u001b[0m\u001b[0m\n\u001b[1;32m    105\u001b[0m         \u001b[0mtest_pred_y_list\u001b[0m\u001b[0;34m.\u001b[0m\u001b[0mappend\u001b[0m\u001b[0;34m(\u001b[0m\u001b[0mtest_res\u001b[0m\u001b[0;34m[\u001b[0m\u001b[0;34m'pred_y'\u001b[0m\u001b[0;34m]\u001b[0m\u001b[0;34m.\u001b[0m\u001b[0mcpu\u001b[0m\u001b[0;34m(\u001b[0m\u001b[0;34m)\u001b[0m\u001b[0;34m.\u001b[0m\u001b[0mnumpy\u001b[0m\u001b[0;34m(\u001b[0m\u001b[0;34m)\u001b[0m\u001b[0;34m)\u001b[0m\u001b[0;34m\u001b[0m\u001b[0;34m\u001b[0m\u001b[0m\n",
            "\u001b[0;31mRuntimeError\u001b[0m: Can't call numpy() on Tensor that requires grad. Use tensor.detach().numpy() instead."
          ]
        }
      ]
    },
    {
      "cell_type": "code",
      "metadata": {
        "colab": {
          "base_uri": "https://localhost:8080/"
        },
        "id": "1dZyy6zdARJe",
        "outputId": "500d1d91-eb5e-469e-ee64-c967dd128b21"
      },
      "source": [
        "test_res['pred_y'][0][0].shape"
      ],
      "execution_count": 30,
      "outputs": [
        {
          "output_type": "execute_result",
          "data": {
            "text/plain": [
              "(1278, 5, 10)"
            ]
          },
          "metadata": {},
          "execution_count": 30
        }
      ]
    },
    {
      "cell_type": "code",
      "metadata": {
        "id": "xfWim6o0ABUH"
      },
      "source": [
        "train_pred_y_list = []\n",
        "train_true_y_list = []\n",
        "with torch.no_grad():\n",
        "    train_pred_y_list.append(train_res['pred_y'].cpu().numpy())\n",
        "    train_true_y_list.append(train_res['true_y'].cpu().numpy())\n",
        "    test_pred_y_list = test_res['pred_y']\n",
        "    test_true_y_list = test_res['true_y']"
      ],
      "execution_count": 31,
      "outputs": []
    },
    {
      "cell_type": "code",
      "metadata": {
        "colab": {
          "base_uri": "https://localhost:8080/"
        },
        "id": "vmGOoPDQAxtt",
        "outputId": "c93629a0-ab0e-4af2-8194-475be950c69a"
      },
      "source": [
        "train_pred_y_list[0][0].shape"
      ],
      "execution_count": 36,
      "outputs": [
        {
          "output_type": "execute_result",
          "data": {
            "text/plain": [
              "(50, 5, 10)"
            ]
          },
          "metadata": {},
          "execution_count": 36
        }
      ]
    },
    {
      "cell_type": "code",
      "metadata": {
        "id": "xXfq6eEnmA4l"
      },
      "source": [
        "def plot_train_loss(train_loss_list):\n",
        "    plt.plot(train_loss_list)\n",
        "    plt.title(f\"Train ELBO Loss\")\n",
        "    plt.ylabel('Train ELBO Loss')\n",
        "    plt.xlabel('Epochs')\n",
        "    if not os.path.exists(\"plots/\"):\n",
        "        utils.makedirs(\"plots/\")\n",
        "    plt.savefig(f\"plots/ELBO Train Loss cluster_{cluster}.pdf\", dpi = 150)\n",
        "    plt.show()\n",
        "\n",
        "def plot_test_loss(test_loss_list):\n",
        "    plt.plot(test_loss_list)\n",
        "    plt.title(f\"Test ELBO Loss\")\n",
        "    plt.ylabel('Test ELBO Loss')\n",
        "    plt.xlabel('Epochs')\n",
        "    if not os.path.exists(\"plots/\"):\n",
        "        utils.makedirs(\"plots/\")\n",
        "    plt.savefig(f\"plots/ELBO Test Loss cluster_{cluster}.pdf\", dpi = 150)\n",
        "    plt.show()\n",
        "\n",
        "def plot_train_likelihood(train_likelihood_list):\n",
        "    plt.plot(train_likelihood_list)\n",
        "    plt.title(f\"Train Likelihood\")\n",
        "    plt.ylabel('Train Likelihood')\n",
        "    plt.xlabel('#Batches')\n",
        "    if not os.path.exists(\"plots/\"):\n",
        "        utils.makedirs(\"plots/\")\n",
        "    plt.savefig(f\"plots/Likelihood Train cluster_{cluster}.pdf\", dpi = 150)\n",
        "    plt.show()\n",
        "\n",
        "def plot_test_likelihood(test_likelihood_list):\n",
        "    plt.plot(test_likelihood_list)\n",
        "    plt.title(f\"Test Likelihood\")\n",
        "    plt.ylabel('Test Likelihood')\n",
        "    plt.xlabel('Epochs')\n",
        "    if not os.path.exists(\"plots/\"):\n",
        "        utils.makedirs(\"plots/\")\n",
        "    plt.savefig(f\"plots/Likelihood Test cluster_{cluster}.pdf\", dpi = 150)\n",
        "    plt.show()\n",
        "\n",
        "def plot_train_mse(train_mse_list):\n",
        "    plt.plot(train_mse_list)\n",
        "    plt.title(f\"Train MSE Loss\")\n",
        "    plt.ylabel('Train MSE Loss')\n",
        "    plt.xlabel('Epochs')\n",
        "    if not os.path.exists(\"plots/\"):\n",
        "        utils.makedirs(\"plots/\")\n",
        "    plt.savefig(f\"plots/MSE Loss Train cluster_{cluster}.pdf\", dpi = 150)\n",
        "    plt.show()\n",
        "\n",
        "def plot_test_mse(test_mse_list):\n",
        "    plt.plot(test_mse_list)\n",
        "    plt.title(f\"test MSE Loss\")\n",
        "    plt.ylabel('test MSE Loss')\n",
        "    plt.xlabel('Epochs')\n",
        "    if not os.path.exists(\"plots/\"):\n",
        "        utils.makedirs(\"plots/\")\n",
        "    plt.savefig(f\"plots/MSE Loss Test cluster_{cluster}.pdf\", dpi = 150)\n",
        "    plt.show()"
      ],
      "execution_count": 38,
      "outputs": []
    },
    {
      "cell_type": "markdown",
      "metadata": {
        "id": "TzhnA8xU_wHT"
      },
      "source": [
        "## Plots"
      ]
    },
    {
      "cell_type": "code",
      "metadata": {
        "id": "NjfsNJEyYeLJ"
      },
      "source": [
        "plot_train_loss(train_loss_list)"
      ],
      "execution_count": 39,
      "outputs": []
    },
    {
      "cell_type": "code",
      "metadata": {
        "id": "AZPkaJI0_vqv"
      },
      "source": [
        "plot_test_loss(test_loss_list)"
      ],
      "execution_count": 40,
      "outputs": []
    },
    {
      "cell_type": "code",
      "metadata": {
        "id": "7k4P_ep7BQa9"
      },
      "source": [
        "plot_train_likelihood(train_likelihood_list)"
      ],
      "execution_count": 41,
      "outputs": []
    },
    {
      "cell_type": "code",
      "metadata": {
        "id": "3WvrTlxvBSif"
      },
      "source": [
        "plot_test_likelihood(test_likelihood_list)"
      ],
      "execution_count": 42,
      "outputs": []
    },
    {
      "cell_type": "code",
      "metadata": {
        "id": "hx6k654gBUj5"
      },
      "source": [
        "plot_train_mse(train_mse_list)"
      ],
      "execution_count": 43,
      "outputs": []
    },
    {
      "cell_type": "code",
      "metadata": {
        "id": "IuViIrJzBWd-"
      },
      "source": [
        "plot_test_mse(test_mse_list)"
      ],
      "execution_count": 44,
      "outputs": []
    },
    {
      "cell_type": "markdown",
      "metadata": {
        "id": "7QJJVSCfCQEs"
      },
      "source": [
        "## Save Train Pred_y, Test_y, kl_first_p, std_first_p, kl_coeff_list"
      ]
    },
    {
      "cell_type": "code",
      "metadata": {
        "id": "VumeLhaSBYRy"
      },
      "source": [
        "np.save(f\"train pred y cluster_{cluster}.npy\", train_pred_y_list[0][0])"
      ],
      "execution_count": 45,
      "outputs": []
    },
    {
      "cell_type": "code",
      "metadata": {
        "colab": {
          "base_uri": "https://localhost:8080/"
        },
        "id": "5Gwjaw_yCs0I",
        "outputId": "85b96301-710a-40ac-f73f-aca59ef0ae95"
      },
      "source": [
        "np.load(f\"train pred y cluster_{cluster}.npy\").shape"
      ],
      "execution_count": 47,
      "outputs": [
        {
          "output_type": "execute_result",
          "data": {
            "text/plain": [
              "(50, 5, 10)"
            ]
          },
          "metadata": {},
          "execution_count": 47
        }
      ]
    },
    {
      "cell_type": "code",
      "metadata": {
        "id": "fcS5F20MCvsQ"
      },
      "source": [
        "np.save(f\"test_pred_y_cluster_{cluster}.npy\", train_pred_y_list[0][0])"
      ],
      "execution_count": 48,
      "outputs": []
    },
    {
      "cell_type": "code",
      "metadata": {
        "colab": {
          "base_uri": "https://localhost:8080/"
        },
        "id": "nSDfgsxeDS-B",
        "outputId": "63364d43-c4e8-4a6d-9884-a7082e90e833"
      },
      "source": [
        "train_true_y_list[0].shape"
      ],
      "execution_count": 54,
      "outputs": [
        {
          "output_type": "execute_result",
          "data": {
            "text/plain": [
              "(50, 5, 10)"
            ]
          },
          "metadata": {},
          "execution_count": 54
        }
      ]
    },
    {
      "cell_type": "code",
      "metadata": {
        "id": "ppolIJF2C_qD"
      },
      "source": [
        "np.save(f\"train_true_y_cluster_{cluster}.npy\", train_true_y_list[0])"
      ],
      "execution_count": 56,
      "outputs": []
    },
    {
      "cell_type": "code",
      "metadata": {
        "colab": {
          "base_uri": "https://localhost:8080/"
        },
        "id": "xqLOllPQDk41",
        "outputId": "f48a4e84-7dd8-4e00-dee3-ce9ffa8cd58b"
      },
      "source": [
        "test_true_y_list[0].shape"
      ],
      "execution_count": 57,
      "outputs": [
        {
          "output_type": "execute_result",
          "data": {
            "text/plain": [
              "(1278, 5, 10)"
            ]
          },
          "metadata": {},
          "execution_count": 57
        }
      ]
    },
    {
      "cell_type": "code",
      "metadata": {
        "id": "m4ZwraTvDeVC"
      },
      "source": [
        "np.save(f\"test_true_y_cluster_{cluster}.npy\", test_true_y_list[0])"
      ],
      "execution_count": 58,
      "outputs": []
    },
    {
      "cell_type": "code",
      "metadata": {
        "colab": {
          "base_uri": "https://localhost:8080/"
        },
        "id": "4FOsakfVD73-",
        "outputId": "35df1b49-9923-4ff3-b73d-c2629e985854"
      },
      "source": [
        "train_loss_list"
      ],
      "execution_count": 62,
      "outputs": [
        {
          "output_type": "execute_result",
          "data": {
            "text/plain": [
              "3276.756103515625"
            ]
          },
          "metadata": {},
          "execution_count": 62
        }
      ]
    },
    {
      "cell_type": "code",
      "metadata": {
        "id": "K8iM1vIvDoCk"
      },
      "source": [
        "np.save(f\"train_elboloss_cluster_{cluster}.npy\", train_loss_list)"
      ],
      "execution_count": 63,
      "outputs": []
    },
    {
      "cell_type": "code",
      "metadata": {
        "colab": {
          "base_uri": "https://localhost:8080/"
        },
        "id": "xAlIUPE5EHPv",
        "outputId": "4f709c52-631e-4a65-a151-8a91a7c95e8b"
      },
      "source": [
        "len(test_loss_list)"
      ],
      "execution_count": 65,
      "outputs": [
        {
          "output_type": "execute_result",
          "data": {
            "text/plain": [
              "100"
            ]
          },
          "metadata": {},
          "execution_count": 65
        }
      ]
    },
    {
      "cell_type": "code",
      "metadata": {
        "colab": {
          "base_uri": "https://localhost:8080/",
          "height": 295
        },
        "id": "T2dVE07rEJFA",
        "outputId": "b47b33c3-7c1c-4c51-e45e-577884ca4123"
      },
      "source": [
        "%matplotlib inline\n",
        "plt.plot(test_loss_list)\n",
        "plt.title(f\"Test ELBO Loss\")\n",
        "plt.ylabel('Test ELBO Loss')\n",
        "plt.xlabel('Epochs')\n",
        "if not os.path.exists(\"plots/\"):\n",
        "    utils.makedirs(\"plots/\")\n",
        "plt.savefig(f\"plots/ELBO Test Loss cluster_{cluster}.pdf\", dpi = 150)\n",
        "plt.show()"
      ],
      "execution_count": 69,
      "outputs": [
        {
          "output_type": "display_data",
          "data": {
            "image/png": "[encoded data removed]",
            "text/plain": [
              "<Figure size 432x288 with 1 Axes>"
            ]
          },
          "metadata": {
            "needs_background": "light"
          }
        }
      ]
    },
    {
      "cell_type": "code",
      "metadata": {
        "colab": {
          "base_uri": "https://localhost:8080/",
          "height": 295
        },
        "id": "1lWIEN6XEmxa",
        "outputId": "bf77a7f7-889f-49c3-eef5-f96b3251d4e2"
      },
      "source": [
        "plt.plot(train_loss_list)\n",
        "plt.title(f\"Train ELBO Loss\")\n",
        "plt.ylabel('Train ELBO Loss')\n",
        "plt.xlabel('Epochs')\n",
        "if not os.path.exists(\"plots/\"):\n",
        "    utils.makedirs(\"plots/\")\n",
        "plt.savefig(f\"plots/ELBO Train Loss cluster_{cluster}.pdf\", dpi = 150)\n",
        "plt.show()"
      ],
      "execution_count": 70,
      "outputs": [
        {
          "output_type": "display_data",
          "data": {
            "image/png": "[encoded data removed]",
            "text/plain": [
              "<Figure size 432x288 with 1 Axes>"
            ]
          },
          "metadata": {
            "needs_background": "light"
          }
        }
      ]
    },
    {
      "cell_type": "code",
      "metadata": {
        "colab": {
          "base_uri": "https://localhost:8080/",
          "height": 295
        },
        "id": "ILPUH3qsE2ZX",
        "outputId": "aefd6dae-998e-43f0-9f4d-31cfc75c9afc"
      },
      "source": [
        "plt.plot(train_likelihood_list)\n",
        "plt.title(f\"Train Likelihood\")\n",
        "plt.ylabel('Train Likelihood')\n",
        "plt.xlabel('#Batches')\n",
        "if not os.path.exists(\"plots/\"):\n",
        "    utils.makedirs(\"plots/\")\n",
        "plt.savefig(f\"plots/Likelihood Train cluster_{cluster}.pdf\", dpi = 150)\n",
        "plt.show()"
      ],
      "execution_count": 71,
      "outputs": [
        {
          "output_type": "display_data",
          "data": {
            "image/png": "[encoded data removed]",
            "text/plain": [
              "<Figure size 432x288 with 1 Axes>"
            ]
          },
          "metadata": {
            "needs_background": "light"
          }
        }
      ]
    },
    {
      "cell_type": "code",
      "metadata": {
        "colab": {
          "base_uri": "https://localhost:8080/",
          "height": 295
        },
        "id": "vX3R8sncFI90",
        "outputId": "5390b4df-953d-426d-ba47-c91a62832e3e"
      },
      "source": [
        "plt.plot(test_likelihood_list)\n",
        "plt.title(f\"Test Likelihood\")\n",
        "plt.ylabel('Test Likelihood')\n",
        "plt.xlabel('Epochs')\n",
        "if not os.path.exists(\"plots/\"):\n",
        "    utils.makedirs(\"plots/\")\n",
        "plt.savefig(f\"plots/Likelihood Test cluster_{cluster}.pdf\", dpi = 150)\n",
        "plt.show()"
      ],
      "execution_count": 72,
      "outputs": [
        {
          "output_type": "display_data",
          "data": {
            "image/png": "[encoded data removed]",
            "text/plain": [
              "<Figure size 432x288 with 1 Axes>"
            ]
          },
          "metadata": {
            "needs_background": "light"
          }
        }
      ]
    },
    {
      "cell_type": "code",
      "metadata": {
        "colab": {
          "base_uri": "https://localhost:8080/",
          "height": 295
        },
        "id": "yerz5IScFW7u",
        "outputId": "c89cdad7-cfac-49fa-ad16-39ff6cd96681"
      },
      "source": [
        "plt.plot(train_mse_list)\n",
        "plt.title(f\"Train MSE Loss\")\n",
        "plt.ylabel('Train MSE Loss')\n",
        "plt.xlabel('Epochs')\n",
        "if not os.path.exists(\"plots/\"):\n",
        "    utils.makedirs(\"plots/\")\n",
        "plt.savefig(f\"plots/MSE Loss Train cluster_{cluster}.pdf\", dpi = 150)\n",
        "plt.show()"
      ],
      "execution_count": 73,
      "outputs": [
        {
          "output_type": "display_data",
          "data": {
            "image/png": "[encoded data removed]",
            "text/plain": [
              "<Figure size 432x288 with 1 Axes>"
            ]
          },
          "metadata": {
            "needs_background": "light"
          }
        }
      ]
    },
    {
      "cell_type": "code",
      "metadata": {
        "colab": {
          "base_uri": "https://localhost:8080/",
          "height": 295
        },
        "id": "WpGef5KWFdfT",
        "outputId": "bc15cbc1-f79c-460f-cd16-181dce662463"
      },
      "source": [
        "plt.plot(test_mse_list)\n",
        "plt.title(f\"test MSE Loss\")\n",
        "plt.ylabel('test MSE Loss')\n",
        "plt.xlabel('Epochs')\n",
        "if not os.path.exists(\"plots/\"):\n",
        "    utils.makedirs(\"plots/\")\n",
        "plt.savefig(f\"plots/MSE Loss Test cluster_{cluster}.pdf\", dpi = 150)\n",
        "plt.show()"
      ],
      "execution_count": 74,
      "outputs": [
        {
          "output_type": "display_data",
          "data": {
            "image/png": "[encoded data removed]",
            "text/plain": [
              "<Figure size 432x288 with 1 Axes>"
            ]
          },
          "metadata": {
            "needs_background": "light"
          }
        }
      ]
    },
    {
      "cell_type": "code",
      "metadata": {
        "id": "Oj6OnGfKFoFG"
      },
      "source": [
        "np.save(f\"test_elboloss_cluster_{cluster}.npy\", test_loss_list)"
      ],
      "execution_count": 75,
      "outputs": []
    },
    {
      "cell_type": "code",
      "metadata": {
        "id": "orWx90auGH9n"
      },
      "source": [
        "np.save(f\"train_likelihood_cluster_{cluster}.npy\", train_likelihood_list)\n",
        "np.save(f\"test_likelihood_cluster_{cluster}.npy\", test_likelihood_list)\n",
        "np.save(f\"train_mse_cluster_{cluster}.npy\", train_mse_list)\n",
        "np.save(f\"test_mse_cluster_{cluster}.npy\", test_mse_list)\n",
        "np.save(f\"train_kl_first_p_cluster_{cluster}.npy\", train_kl_first_p_list)\n",
        "np.save(f\"test_kl_first_p_cluster_{cluster}.npy\", test_kl_first_p_list)\n",
        "np.save(f\"train_std_first_p_cluster_{cluster}.npy\", train_std_first_p_list)\n",
        "np.save(f\"test_std_first_p_cluster_{cluster}.npy\", test_std_first_p_list)"
      ],
      "execution_count": 76,
      "outputs": []
    },
    {
      "cell_type": "code",
      "metadata": {
        "id": "pXNcWkhqGR-0"
      },
      "source": [
        "np.save(f\"kl_coef_cluster_{cluster}.npy\", kl_coef_list)"
      ],
      "execution_count": 77,
      "outputs": []
    },
    {
      "cell_type": "code",
      "metadata": {
        "colab": {
          "base_uri": "https://localhost:8080/",
          "height": 295
        },
        "id": "BEt3CIogHfUY",
        "outputId": "12f4df17-2ab7-40bb-9ce6-9b7ed288efb7"
      },
      "source": [
        "plt.plot(train_kl_first_p_list)\n",
        "plt.title(f\"Train KL divergence\")\n",
        "plt.ylabel('Train KL divergence')\n",
        "plt.xlabel('Epochs')\n",
        "if not os.path.exists(\"plots/\"):\n",
        "    utils.makedirs(\"plots/\")\n",
        "plt.savefig(f\"plots/KL Divergence Train cluster_{cluster}.pdf\", dpi = 150)\n",
        "plt.show()"
      ],
      "execution_count": 79,
      "outputs": [
        {
          "output_type": "display_data",
          "data": {
            "image/png": "[encoded data removed]",
            "text/plain": [
              "<Figure size 432x288 with 1 Axes>"
            ]
          },
          "metadata": {
            "needs_background": "light"
          }
        }
      ]
    },
    {
      "cell_type": "code",
      "metadata": {
        "colab": {
          "base_uri": "https://localhost:8080/",
          "height": 295
        },
        "id": "k2ahGKdFK6B9",
        "outputId": "ef2b993d-195e-43f5-92df-d409bf49e845"
      },
      "source": [
        "plt.plot(test_kl_first_p_list)\n",
        "plt.title(f\"Test KL divergence\")\n",
        "plt.ylabel('Test KL divergence')\n",
        "plt.xlabel('Epochs')\n",
        "if not os.path.exists(\"plots/\"):\n",
        "    utils.makedirs(\"plots/\")\n",
        "plt.savefig(f\"plots/KL Divergence Test cluster_{cluster}.pdf\", dpi = 150)\n",
        "plt.show()"
      ],
      "execution_count": 80,
      "outputs": [
        {
          "output_type": "display_data",
          "data": {
            "image/png": "[encoded data removed]",
            "text/plain": [
              "<Figure size 432x288 with 1 Axes>"
            ]
          },
          "metadata": {
            "needs_background": "light"
          }
        }
      ]
    },
    {
      "cell_type": "code",
      "metadata": {
        "id": "wkbMiOy8LRym"
      },
      "source": [
        ""
      ],
      "execution_count": null,
      "outputs": []
    }
  ]
}