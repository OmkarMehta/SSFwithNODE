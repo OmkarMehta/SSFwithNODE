{
  "nbformat": 4,
  "nbformat_minor": 0,
  "metadata": {
    "colab": {
      "name": "time_series_similarity.ipynb",
      "provenance": [],
      "collapsed_sections": [
        "i_oESKqElmfU",
        "kYItHghUnjBn"
      ],
      "toc_visible": true
    },
    "kernelspec": {
      "name": "python3",
      "display_name": "Python 3"
    },
    "language_info": {
      "name": "python"
    },
    "accelerator": "GPU"
  },
  "cells": [
    {
      "cell_type": "markdown",
      "metadata": {
        "id": "uA-p-8kPspwH"
      },
      "source": [
        "# Install this (important)"
      ]
    },
    {
      "cell_type": "code",
      "metadata": {
        "colab": {
          "base_uri": "https://localhost:8080/"
        },
        "id": "mModaxDbsFH9",
        "outputId": "6a0785a2-10d7-40a6-ee84-747470153823"
      },
      "source": [
        "# Install the latest version of author's repo neural ode implementation\n",
        "!git clone https://github.com/rtqichen/torchdiffeq.git\n",
        "!cd torchdiffeq && pip install -e .\n",
        "!ls torchdiffeq/torchdiffeq"
      ],
      "execution_count": 1,
      "outputs": [
        {
          "output_type": "stream",
          "name": "stdout",
          "text": [
            "Cloning into 'torchdiffeq'...\n",
            "remote: Enumerating objects: 1138, done.\u001b[K\n",
            "remote: Counting objects: 100% (434/434), done.\u001b[K\n",
            "remote: Compressing objects: 100% (194/194), done.\u001b[K\n",
            "remote: Total 1138 (delta 256), reused 400 (delta 240), pack-reused 704\u001b[K\n",
            "Receiving objects: 100% (1138/1138), 8.29 MiB | 36.28 MiB/s, done.\n",
            "Resolving deltas: 100% (682/682), done.\n",
            "Obtaining file:///content/torchdiffeq\n",
            "Requirement already satisfied: torch>=1.3.0 in /usr/local/lib/python3.7/dist-packages (from torchdiffeq==0.2.2) (1.9.0+cu102)\n",
            "Requirement already satisfied: scipy>=1.4.0 in /usr/local/lib/python3.7/dist-packages (from torchdiffeq==0.2.2) (1.4.1)\n",
            "Requirement already satisfied: numpy>=1.13.3 in /usr/local/lib/python3.7/dist-packages (from scipy>=1.4.0->torchdiffeq==0.2.2) (1.19.5)\n",
            "Requirement already satisfied: typing-extensions in /usr/local/lib/python3.7/dist-packages (from torch>=1.3.0->torchdiffeq==0.2.2) (3.7.4.3)\n",
            "Installing collected packages: torchdiffeq\n",
            "  Running setup.py develop for torchdiffeq\n",
            "Successfully installed torchdiffeq-0.2.2\n",
            "_impl  __init__.py\n"
          ]
        }
      ]
    },
    {
      "cell_type": "code",
      "metadata": {
        "colab": {
          "base_uri": "https://localhost:8080/"
        },
        "id": "LsnxSsoMzQrp",
        "outputId": "8a085eba-b228-4d47-f7f5-26eb1acae8eb"
      },
      "source": [
        "!pip install yfinance"
      ],
      "execution_count": 2,
      "outputs": [
        {
          "output_type": "stream",
          "name": "stdout",
          "text": [
            "Collecting yfinance\n",
            "  Downloading yfinance-0.1.63.tar.gz (26 kB)\n",
            "Requirement already satisfied: pandas>=0.24 in /usr/local/lib/python3.7/dist-packages (from yfinance) (1.1.5)\n",
            "Requirement already satisfied: numpy>=1.15 in /usr/local/lib/python3.7/dist-packages (from yfinance) (1.19.5)\n",
            "Requirement already satisfied: requests>=2.20 in /usr/local/lib/python3.7/dist-packages (from yfinance) (2.23.0)\n",
            "Requirement already satisfied: multitasking>=0.0.7 in /usr/local/lib/python3.7/dist-packages (from yfinance) (0.0.9)\n",
            "Collecting lxml>=4.5.1\n",
            "  Downloading lxml-4.6.3-cp37-cp37m-manylinux2014_x86_64.whl (6.3 MB)\n",
            "\u001b[K     |████████████████████████████████| 6.3 MB 7.1 MB/s \n",
            "\u001b[?25hRequirement already satisfied: pytz>=2017.2 in /usr/local/lib/python3.7/dist-packages (from pandas>=0.24->yfinance) (2018.9)\n",
            "Requirement already satisfied: python-dateutil>=2.7.3 in /usr/local/lib/python3.7/dist-packages (from pandas>=0.24->yfinance) (2.8.2)\n",
            "Requirement already satisfied: six>=1.5 in /usr/local/lib/python3.7/dist-packages (from python-dateutil>=2.7.3->pandas>=0.24->yfinance) (1.15.0)\n",
            "Requirement already satisfied: urllib3!=1.25.0,!=1.25.1,<1.26,>=1.21.1 in /usr/local/lib/python3.7/dist-packages (from requests>=2.20->yfinance) (1.24.3)\n",
            "Requirement already satisfied: certifi>=2017.4.17 in /usr/local/lib/python3.7/dist-packages (from requests>=2.20->yfinance) (2021.5.30)\n",
            "Requirement already satisfied: idna<3,>=2.5 in /usr/local/lib/python3.7/dist-packages (from requests>=2.20->yfinance) (2.10)\n",
            "Requirement already satisfied: chardet<4,>=3.0.2 in /usr/local/lib/python3.7/dist-packages (from requests>=2.20->yfinance) (3.0.4)\n",
            "Building wheels for collected packages: yfinance\n",
            "  Building wheel for yfinance (setup.py) ... \u001b[?25l\u001b[?25hdone\n",
            "  Created wheel for yfinance: filename=yfinance-0.1.63-py2.py3-none-any.whl size=23918 sha256=7c8f7685b72e240b35ead58c70e5779299a329abd477a688544351684114090e\n",
            "  Stored in directory: /root/.cache/pip/wheels/fe/87/8b/7ec24486e001d3926537f5f7801f57a74d181be25b11157983\n",
            "Successfully built yfinance\n",
            "Installing collected packages: lxml, yfinance\n",
            "  Attempting uninstall: lxml\n",
            "    Found existing installation: lxml 4.2.6\n",
            "    Uninstalling lxml-4.2.6:\n",
            "      Successfully uninstalled lxml-4.2.6\n",
            "Successfully installed lxml-4.6.3 yfinance-0.1.63\n"
          ]
        }
      ]
    },
    {
      "cell_type": "markdown",
      "metadata": {
        "id": "MmW7-fNXvpjK"
      },
      "source": [
        "# Data Collection and Clustering Algorithms"
      ]
    },
    {
      "cell_type": "code",
      "metadata": {
        "id": "rwJslKhovvNW"
      },
      "source": [
        ""
      ],
      "execution_count": null,
      "outputs": []
    },
    {
      "cell_type": "markdown",
      "metadata": {
        "id": "BcAd1jnYvt7H"
      },
      "source": [
        "## Rough of Data Collection\n",
        "\n",
        "1. Get Open and Close Price of asset (o, c) for each trading day.\n",
        "2. Transform it into sequences.\n",
        "    - $d_{i} : {o_{1}c_{1} ... o_{5}c_{5}}$\n",
        "    - where $d_{i}$ is a sequence of o and c for the week `i`.\n",
        "3. Transform $d_{i}$ to sequences of lag * len($d_{i}$) length.\n",
        "4. Normalize these sequences to a range (0, 1).\n",
        "5. Clustering algorithm. "
      ]
    },
    {
      "cell_type": "code",
      "metadata": {
        "colab": {
          "base_uri": "https://localhost:8080/"
        },
        "id": "vYHu8FG1w9E9",
        "outputId": "8500709d-2e67-46f6-8795-fdacb5573f41"
      },
      "source": [
        "# 1. Get Open and Close Price of asset (o, c) for each trading day.\n",
        "# libraries\n",
        "from pandas_datareader import data as pdr\n",
        "import yfinance as yf\n",
        "import os\n",
        "\n",
        "print(f\"Get Open and Close Price of Assets\")\n",
        "def download_raw_stock_data(filepath, tickers, start, end, period = '1d'):\n",
        "    \"\"\"\n",
        "    Download Stock tickers\n",
        "    :Parameters:\n",
        "        filepath: str\n",
        "            path to store the raw data\n",
        "        tickers : str, list\n",
        "            List of tickers to download\n",
        "        period: str\n",
        "            the frequency at which to gather the data; common options would include ‘1d’ (daily), ‘1mo’ (monthly), ‘1y’ (yearly)\n",
        "        start: str\n",
        "            the date to start gathering the data. For example ‘2010–1–1’\n",
        "        end: str\n",
        "            the date to end gathering the data. For example ‘2020–1–25’\n",
        "    \n",
        "    \"\"\"\n",
        "    #define the ticker symbol\n",
        "    tickerSymbol = tickers\n",
        "\n",
        "    #get data on this ticker\n",
        "    tickerData = yf.Ticker(tickerSymbol)\n",
        "\n",
        "    #get the historical prices for this ticker\n",
        "    tickerDf = tickerData.history(period=period, start=start, end=end)\n",
        "    tickerDf.to_csv(filepath)\n",
        "\n",
        "dict_tickers = {\n",
        "    'Apple': 'AAPL',\n",
        "    'Microsoft': 'MSFT',\n",
        "    'Google': 'GOOG',\n",
        "    'Bitcoin': 'BTC-USD',\n",
        "    'Facebook': 'FB',\n",
        "    'Walmart': 'WMT',\n",
        "    'Amazon': 'AMZN',\n",
        "    'CVS': 'CVS',\n",
        "    'Berkshire': 'BRK-B',\n",
        "    'ExxonMobil': 'XOM',\n",
        "    'AtandT': 'T',\n",
        "    'Costco': 'COST',\n",
        "    'Walgreens': 'WBA',\n",
        "    'Kroger': 'KR',\n",
        "    'JPMorgan': 'JPM',\n",
        "    'Verizon': 'VZ',\n",
        "    'FordMotor': 'F',\n",
        "    'GeneralMotors': 'GM',\n",
        "    'Dell': 'DELL',\n",
        "    'BankOfAmerica': 'BAC',\n",
        "    'Target': 'TGT',\n",
        "    'GeneralElectric': 'GE',\n",
        "    'JohnsonandJohnson': 'JNJ',\n",
        "    'Nvidia': 'NVDA',\n",
        "    'Intel': 'INTC',\n",
        "}\n",
        "\n",
        "path = f\"raw-stock-data/data-2000-2021\"\n",
        "if not os.path.exists(path):\n",
        "    # https://appdividend.com/2021/07/03/how-to-create-directory-if-not-exist-in-python/\n",
        "    # Create a new directory\n",
        "    os.makedirs(path)\n",
        "    print(f\"{path} directory is created\")\n",
        "period = '1d'\n",
        "start='2000-1-1'\n",
        "end='2021-8-31'\n",
        "for tickerName, ticker in dict_tickers.items():\n",
        "    tickerName = tickerName\n",
        "    ticker = ticker\n",
        "    filepath = f\"{path}/{tickerName}.csv\"\n",
        "    download_raw_stock_data(filepath, ticker, start, end, period)\n",
        "\n",
        "\n",
        "print('\\n')\n",
        "\n",
        "print(f\"The size of each asset\")\n",
        "import pandas as pd\n",
        "for tickerName in dict_tickers.keys():\n",
        "    df = pd.read_csv(f\"{path}/{tickerName}.csv\")\n",
        "    print(f\"{tickerName} size: {len(df)}\")"
      ],
      "execution_count": 3,
      "outputs": [
        {
          "output_type": "stream",
          "name": "stdout",
          "text": [
            "Get Open and Close Price of Assets\n",
            "raw-stock-data/data-2000-2021 directory is created\n",
            "\n",
            "\n",
            "The size of each asset\n",
            "Apple size: 5450\n",
            "Microsoft size: 5450\n",
            "Google size: 4288\n",
            "Bitcoin size: 2537\n",
            "Facebook size: 2336\n",
            "Walmart size: 5450\n",
            "Amazon size: 5450\n",
            "CVS size: 5450\n",
            "Berkshire size: 5450\n",
            "ExxonMobil size: 5450\n",
            "AtandT size: 5450\n",
            "Costco size: 5450\n",
            "Walgreens size: 5450\n",
            "Kroger size: 5450\n",
            "JPMorgan size: 5450\n",
            "Verizon size: 5450\n",
            "FordMotor size: 5450\n",
            "GeneralMotors size: 2713\n",
            "Dell size: 1268\n",
            "BankOfAmerica size: 5450\n",
            "Target size: 5450\n",
            "GeneralElectric size: 5450\n",
            "JohnsonandJohnson size: 5450\n",
            "Nvidia size: 5451\n",
            "Intel size: 5450\n"
          ]
        }
      ]
    },
    {
      "cell_type": "code",
      "metadata": {
        "colab": {
          "base_uri": "https://localhost:8080/"
        },
        "id": "i0mxiP_J4LvW",
        "outputId": "698beefe-f367-45ad-aef5-8a792c37e839"
      },
      "source": [
        "len(dict_tickers.keys())"
      ],
      "execution_count": 4,
      "outputs": [
        {
          "output_type": "execute_result",
          "data": {
            "text/plain": [
              "25"
            ]
          },
          "metadata": {},
          "execution_count": 4
        }
      ]
    },
    {
      "cell_type": "markdown",
      "metadata": {
        "id": "PslCRoOlBIEc"
      },
      "source": [
        "### 2. Transform it into sequences.\n",
        "    - $d_{i} : {o_{1}c_{1} ... o_{5}c_{5}}$\n",
        "    - where $d_{i}$ is a sequence of o and c for the week `i`.\n",
        "3. Transform $d_{i}$ to sequences of lag * len($d_{i}$) length.\n"
      ]
    },
    {
      "cell_type": "code",
      "metadata": {
        "id": "BL0nozG8ynms"
      },
      "source": [
        "# 2. Get weekly data.\n",
        "# 3. Transform $d_{i}$ to sequences of lag * len($d_{i}$) length.\n",
        "\n",
        "def stockDataTransformer(filepath):\n",
        "    df = pd.read_csv(filepath)\n",
        "    df.set_index('Date', inplace=True)\n",
        "    df1 = df[['Open', 'Close']].copy()\n",
        "    data = df1.values\n",
        "    n_samples = data.shape[0]//10*10\n",
        "    reshape_number = n_samples*data.shape[1]//10\n",
        "    data1 = data[:n_samples].reshape((reshape_number, 10))\n",
        "    return data1\n",
        "\n",
        "def series_to_supervised(data, n_in=1, n_out=1, dropnan=True):\n",
        "    \"\"\"\n",
        "    Frame a time series as a supervised learning dataset.\n",
        "    Arguments:\n",
        "        data: Sequence of observations as a list or NumPy array.\n",
        "        n_in: Number of lag observations as input (X).\n",
        "        n_out: Number of observations as output (y).\n",
        "        dropnan: Boolean whether or not to drop rows with NaN values.\n",
        "    Returns:\n",
        "        Pandas DataFrame of series framed for supervised learning.\n",
        "    \"\"\"\n",
        "    n_vars = 1 if type(data) is list else data.shape[1]\n",
        "    df = pd.DataFrame(data)\n",
        "    cols, names = list(), list()\n",
        "    # input sequence (t-n, ... t-1)\n",
        "    for i in range(n_in, 0, -1):\n",
        "        cols.append(df.shift(i))\n",
        "        names += [('var%d(t-%d)' % (j+1, i)) for j in range(n_vars)]\n",
        "    # forecast sequence (t, t+1, ... t+n)\n",
        "    for i in range(0, n_out):\n",
        "        cols.append(df.shift(-i))\n",
        "        if i == 0:\n",
        "            names += [('var%d(t)' % (j+1)) for j in range(n_vars)]\n",
        "        else:\n",
        "            names += [('var%d(t+%d)' % (j+1, i)) for j in range(n_vars)]\n",
        "    # put it all together\n",
        "    agg = concat(cols, axis=1)\n",
        "    agg.columns = names\n",
        "    # drop rows with NaN values\n",
        "    if dropnan:\n",
        "        agg.dropna(inplace=True)\n",
        "    return agg\n",
        "\n",
        "def split_data(perc_train, perc_valid, lag, data_orig, data_m1, n_features_orig, n_features_median):\n",
        "    values = data_m1\n",
        "    \n",
        "    sizeOfReframed = len(data_m1)\n",
        "    len_train = int(perc_train*sizeOfReframed) # int(sizeOfReframed - len_test) # - len_valid)\n",
        "    train_data_orig = data_orig[:len_train, :]\n",
        "    # valid = values[len_train:len_valid+len_train, :]\n",
        "    test_data_orig = data_orig[len_train:, :]  # [len_valid+len_train:, :]\n",
        "    # n_features = n_features\n",
        "    \n",
        "    train_data_ml = values[:len_train, :]\n",
        "    test_data_ml = values[len_train:, :] \n",
        "    # split into input and outputs\n",
        "    n_obs = lag * n_features_orig\n",
        "    n_obs_median = (lag+forecast) * n_features_median\n",
        "    train_X, train_y = train_data_orig[:, :n_obs], train_data_ml[:, :n_obs_median]\n",
        "    test_X, test_y = test_data_orig[:, :n_obs], test_data_ml[:, :n_obs_median]\n",
        "    # valid_X, valid_y = valid[:, :n_obs], valid[:, -1]\n",
        "    print(train_X.shape, len(train_X), train_y.shape)\n",
        "    \n",
        "    # reshape input to be 3D [samples, features, lag]\n",
        "    train_X = train_X.reshape((train_X.shape[0], n_features_orig, lag))\n",
        "    test_X = test_X.reshape((test_X.shape[0], n_features_orig, lag))\n",
        "    # valid_X = valid_X.reshape((valid_X.shape[0], lag, n_features))\n",
        "    print(train_X.shape, train_y.shape, test_X.shape, test_y.shape)  # , valid_X.shape, valid_y.shape)\n",
        "    \n",
        "    # Get the reconstruction train_y, test_y and extrapolated train_y, test_y\n",
        "    train_y_recon, train_y_extrapol = train_y[:, :lag], train_y[:, lag:]\n",
        "    test_y_recon, test_y_extrapol = test_y[:, :lag], test_y[:, lag:]\n",
        "    dataload = {\n",
        "        'train_data_orig': train_data_orig,\n",
        "        'test_data_orig': test_data_orig,\n",
        "        'train_data_ml': train_data_ml,\n",
        "        'test_data_ml': test_data_ml,\n",
        "        # 'valid': valid,\n",
        "        'train_X': train_X,\n",
        "        'train_y': train_y,\n",
        "        'test_X': test_X,\n",
        "        'test_y': test_y,\n",
        "        'n_features_orig': n_features_orig,\n",
        "        'n_features_median': n_features_median,\n",
        "        'n_obs': n_obs,\n",
        "        'n_obs_median': n_obs_median,\n",
        "        # 'valid_X': valid_X,\n",
        "        # 'valid_y': valid_y,\n",
        "        'train_y_recon': train_y_recon,\n",
        "        'train_y_extrapol': train_y_extrapol,\n",
        "        'test_y_recon': test_y_recon,\n",
        "        'test_y_extrapol': test_y_extrapol\n",
        "    }\n",
        "    \n",
        "    return dataload\n",
        "\n",
        "def get_median(array, axis = 1):\n",
        "    # https://numpy.org/doc/stable/reference/generated/numpy.median.html\n",
        "    return np.median(array, axis = axis).reshape(data_size, 1)  #, keepdims=True)\n",
        "    "
      ],
      "execution_count": 44,
      "outputs": []
    },
    {
      "cell_type": "code",
      "metadata": {
        "id": "7RLOgCZV_oUf"
      },
      "source": [
        ""
      ],
      "execution_count": 25,
      "outputs": []
    },
    {
      "cell_type": "code",
      "metadata": {
        "colab": {
          "base_uri": "https://localhost:8080/"
        },
        "id": "R8q5WFNK0eDZ",
        "outputId": "f8a1421b-d912-4b0a-feae-cdbdfa27526c"
      },
      "source": [
        "from pandas import concat\n",
        "import numpy as np\n",
        "week_sequence = {}\n",
        "median_data_dict = {}\n",
        "lag = 5\n",
        "for tickerName in dict_tickers.keys():\n",
        "    filepath = f\"{path}/{tickerName}.csv\"\n",
        "    # Get the data in the required format\n",
        "    data = stockDataTransformer(filepath)\n",
        "    # # Total Data Size\n",
        "    data_size = data.shape[0]\n",
        "    print(f\"{tickerName} data.shape {data.shape}\")\n",
        "    data_orig = series_to_supervised(data, lag).values\n",
        "    print(f'{tickerName} Data Original after series to supervised on data {data_orig.shape}')\n",
        "    week_sequence[tickerName] = data_orig\n",
        "\n",
        "    median_data = get_median(data)\n",
        "    print(f'{tickerName} Median data')\n",
        "    # Median data for each week\n",
        "    print(f\"{tickerName} median_data.shape {median_data.shape}\")\n",
        "    # print(pd.DataFrame(median_data, columns = ['median_stockprice_week']).head(10))\n",
        "    print('\\n')\n",
        "\n",
        "    # Convert median_data to (n_samples, 5) matrix\n",
        "    data_m1 = series_to_supervised(median_data, lag).values\n",
        "    median_data_dict[tickerName] = data_m1\n",
        "    print(f'{tickerName} Median data after series to supervised')\n",
        "    print(f\"{tickerName} data_m1.shape {data_m1.shape}\")\n",
        "    # print(pd.DataFrame(data_m1, columns = [f\"week i+{i}\" for i in range(1, lag+forecast+1)]))\n",
        "    print('\\n')\n",
        "\n",
        "\n",
        "\n"
      ],
      "execution_count": 26,
      "outputs": [
        {
          "output_type": "stream",
          "name": "stdout",
          "text": [
            "Apple data.shape (1090, 10)\n",
            "Apple Data Original after series to supervised on data (1085, 60)\n",
            "Apple Median data\n",
            "Apple median_data.shape (1090, 1)\n",
            "\n",
            "\n",
            "Apple Median data after series to supervised\n",
            "Apple data_m1.shape (1085, 6)\n",
            "\n",
            "\n",
            "Microsoft data.shape (1090, 10)\n",
            "Microsoft Data Original after series to supervised on data (1085, 60)\n",
            "Microsoft Median data\n",
            "Microsoft median_data.shape (1090, 1)\n",
            "\n",
            "\n",
            "Microsoft Median data after series to supervised\n",
            "Microsoft data_m1.shape (1085, 6)\n",
            "\n",
            "\n",
            "Google data.shape (856, 10)\n",
            "Google Data Original after series to supervised on data (851, 60)\n",
            "Google Median data\n",
            "Google median_data.shape (856, 1)\n",
            "\n",
            "\n",
            "Google Median data after series to supervised\n",
            "Google data_m1.shape (851, 6)\n",
            "\n",
            "\n",
            "Bitcoin data.shape (506, 10)\n",
            "Bitcoin Data Original after series to supervised on data (501, 60)\n",
            "Bitcoin Median data\n",
            "Bitcoin median_data.shape (506, 1)\n",
            "\n",
            "\n",
            "Bitcoin Median data after series to supervised\n",
            "Bitcoin data_m1.shape (501, 6)\n",
            "\n",
            "\n",
            "Facebook data.shape (466, 10)\n",
            "Facebook Data Original after series to supervised on data (461, 60)\n",
            "Facebook Median data\n",
            "Facebook median_data.shape (466, 1)\n",
            "\n",
            "\n",
            "Facebook Median data after series to supervised\n",
            "Facebook data_m1.shape (461, 6)\n",
            "\n",
            "\n",
            "Walmart data.shape (1090, 10)\n",
            "Walmart Data Original after series to supervised on data (1085, 60)\n",
            "Walmart Median data\n",
            "Walmart median_data.shape (1090, 1)\n",
            "\n",
            "\n",
            "Walmart Median data after series to supervised\n",
            "Walmart data_m1.shape (1085, 6)\n",
            "\n",
            "\n",
            "Amazon data.shape (1090, 10)\n",
            "Amazon Data Original after series to supervised on data (1085, 60)\n",
            "Amazon Median data\n",
            "Amazon median_data.shape (1090, 1)\n",
            "\n",
            "\n",
            "Amazon Median data after series to supervised\n",
            "Amazon data_m1.shape (1085, 6)\n",
            "\n",
            "\n",
            "CVS data.shape (1090, 10)\n",
            "CVS Data Original after series to supervised on data (1085, 60)\n",
            "CVS Median data\n",
            "CVS median_data.shape (1090, 1)\n",
            "\n",
            "\n",
            "CVS Median data after series to supervised\n",
            "CVS data_m1.shape (1085, 6)\n",
            "\n",
            "\n",
            "Berkshire data.shape (1090, 10)\n",
            "Berkshire Data Original after series to supervised on data (1085, 60)\n",
            "Berkshire Median data\n",
            "Berkshire median_data.shape (1090, 1)\n",
            "\n",
            "\n",
            "Berkshire Median data after series to supervised\n",
            "Berkshire data_m1.shape (1085, 6)\n",
            "\n",
            "\n",
            "ExxonMobil data.shape (1090, 10)\n",
            "ExxonMobil Data Original after series to supervised on data (1085, 60)\n",
            "ExxonMobil Median data\n",
            "ExxonMobil median_data.shape (1090, 1)\n",
            "\n",
            "\n",
            "ExxonMobil Median data after series to supervised\n",
            "ExxonMobil data_m1.shape (1085, 6)\n",
            "\n",
            "\n",
            "AtandT data.shape (1090, 10)\n",
            "AtandT Data Original after series to supervised on data (1085, 60)\n",
            "AtandT Median data\n",
            "AtandT median_data.shape (1090, 1)\n",
            "\n",
            "\n",
            "AtandT Median data after series to supervised\n",
            "AtandT data_m1.shape (1085, 6)\n",
            "\n",
            "\n",
            "Costco data.shape (1090, 10)\n",
            "Costco Data Original after series to supervised on data (1085, 60)\n",
            "Costco Median data\n",
            "Costco median_data.shape (1090, 1)\n",
            "\n",
            "\n",
            "Costco Median data after series to supervised\n",
            "Costco data_m1.shape (1085, 6)\n",
            "\n",
            "\n",
            "Walgreens data.shape (1090, 10)\n",
            "Walgreens Data Original after series to supervised on data (1085, 60)\n",
            "Walgreens Median data\n",
            "Walgreens median_data.shape (1090, 1)\n",
            "\n",
            "\n",
            "Walgreens Median data after series to supervised\n",
            "Walgreens data_m1.shape (1085, 6)\n",
            "\n",
            "\n",
            "Kroger data.shape (1090, 10)\n",
            "Kroger Data Original after series to supervised on data (1085, 60)\n",
            "Kroger Median data\n",
            "Kroger median_data.shape (1090, 1)\n",
            "\n",
            "\n",
            "Kroger Median data after series to supervised\n",
            "Kroger data_m1.shape (1085, 6)\n",
            "\n",
            "\n",
            "JPMorgan data.shape (1090, 10)\n",
            "JPMorgan Data Original after series to supervised on data (1085, 60)\n",
            "JPMorgan Median data\n",
            "JPMorgan median_data.shape (1090, 1)\n",
            "\n",
            "\n",
            "JPMorgan Median data after series to supervised\n",
            "JPMorgan data_m1.shape (1085, 6)\n",
            "\n",
            "\n",
            "Verizon data.shape (1090, 10)\n",
            "Verizon Data Original after series to supervised on data (1085, 60)\n",
            "Verizon Median data\n",
            "Verizon median_data.shape (1090, 1)\n",
            "\n",
            "\n",
            "Verizon Median data after series to supervised\n",
            "Verizon data_m1.shape (1085, 6)\n",
            "\n",
            "\n",
            "FordMotor data.shape (1090, 10)\n",
            "FordMotor Data Original after series to supervised on data (1085, 60)\n",
            "FordMotor Median data\n",
            "FordMotor median_data.shape (1090, 1)\n",
            "\n",
            "\n",
            "FordMotor Median data after series to supervised\n",
            "FordMotor data_m1.shape (1085, 6)\n",
            "\n",
            "\n",
            "GeneralMotors data.shape (542, 10)\n",
            "GeneralMotors Data Original after series to supervised on data (537, 60)\n",
            "GeneralMotors Median data\n",
            "GeneralMotors median_data.shape (542, 1)\n",
            "\n",
            "\n",
            "GeneralMotors Median data after series to supervised\n",
            "GeneralMotors data_m1.shape (537, 6)\n",
            "\n",
            "\n",
            "Dell data.shape (252, 10)\n",
            "Dell Data Original after series to supervised on data (247, 60)\n",
            "Dell Median data\n",
            "Dell median_data.shape (252, 1)\n",
            "\n",
            "\n",
            "Dell Median data after series to supervised\n",
            "Dell data_m1.shape (247, 6)\n",
            "\n",
            "\n",
            "BankOfAmerica data.shape (1090, 10)\n",
            "BankOfAmerica Data Original after series to supervised on data (1085, 60)\n",
            "BankOfAmerica Median data\n",
            "BankOfAmerica median_data.shape (1090, 1)\n",
            "\n",
            "\n",
            "BankOfAmerica Median data after series to supervised\n",
            "BankOfAmerica data_m1.shape (1085, 6)\n",
            "\n",
            "\n",
            "Target data.shape (1090, 10)\n",
            "Target Data Original after series to supervised on data (1085, 60)\n",
            "Target Median data\n",
            "Target median_data.shape (1090, 1)\n",
            "\n",
            "\n",
            "Target Median data after series to supervised\n",
            "Target data_m1.shape (1085, 6)\n",
            "\n",
            "\n",
            "GeneralElectric data.shape (1090, 10)\n",
            "GeneralElectric Data Original after series to supervised on data (1085, 60)\n",
            "GeneralElectric Median data\n",
            "GeneralElectric median_data.shape (1090, 1)\n",
            "\n",
            "\n",
            "GeneralElectric Median data after series to supervised\n",
            "GeneralElectric data_m1.shape (1085, 6)\n",
            "\n",
            "\n",
            "JohnsonandJohnson data.shape (1090, 10)\n",
            "JohnsonandJohnson Data Original after series to supervised on data (1085, 60)\n",
            "JohnsonandJohnson Median data\n",
            "JohnsonandJohnson median_data.shape (1090, 1)\n",
            "\n",
            "\n",
            "JohnsonandJohnson Median data after series to supervised\n",
            "JohnsonandJohnson data_m1.shape (1085, 6)\n",
            "\n",
            "\n",
            "Nvidia data.shape (1090, 10)\n",
            "Nvidia Data Original after series to supervised on data (1079, 60)\n",
            "Nvidia Median data\n",
            "Nvidia median_data.shape (1090, 1)\n",
            "\n",
            "\n",
            "Nvidia Median data after series to supervised\n",
            "Nvidia data_m1.shape (1079, 6)\n",
            "\n",
            "\n",
            "Intel data.shape (1090, 10)\n",
            "Intel Data Original after series to supervised on data (1085, 60)\n",
            "Intel Median data\n",
            "Intel median_data.shape (1090, 1)\n",
            "\n",
            "\n",
            "Intel Median data after series to supervised\n",
            "Intel data_m1.shape (1085, 6)\n",
            "\n",
            "\n"
          ]
        }
      ]
    },
    {
      "cell_type": "code",
      "metadata": {
        "colab": {
          "base_uri": "https://localhost:8080/"
        },
        "id": "SvIdGj4r1chm",
        "outputId": "3fc0f883-db37-42d3-d345-1996a71741a8"
      },
      "source": [
        "import numpy as np\n",
        "data = week_sequence['Apple']\n",
        "# 4. Bundle all sequences together\n",
        "for tickerName in week_sequence.keys():\n",
        "    if tickerName != 'Apple':\n",
        "        data1 = week_sequence[tickerName]\n",
        "        data = np.concatenate((data, data1))\n",
        "        print(f\"data.shape {data.shape}\")\n"
      ],
      "execution_count": 27,
      "outputs": [
        {
          "output_type": "stream",
          "name": "stdout",
          "text": [
            "data.shape (2170, 60)\n",
            "data.shape (3021, 60)\n",
            "data.shape (3522, 60)\n",
            "data.shape (3983, 60)\n",
            "data.shape (5068, 60)\n",
            "data.shape (6153, 60)\n",
            "data.shape (7238, 60)\n",
            "data.shape (8323, 60)\n",
            "data.shape (9408, 60)\n",
            "data.shape (10493, 60)\n",
            "data.shape (11578, 60)\n",
            "data.shape (12663, 60)\n",
            "data.shape (13748, 60)\n",
            "data.shape (14833, 60)\n",
            "data.shape (15918, 60)\n",
            "data.shape (17003, 60)\n",
            "data.shape (17540, 60)\n",
            "data.shape (17787, 60)\n",
            "data.shape (18872, 60)\n",
            "data.shape (19957, 60)\n",
            "data.shape (21042, 60)\n",
            "data.shape (22127, 60)\n",
            "data.shape (23206, 60)\n",
            "data.shape (24291, 60)\n"
          ]
        }
      ]
    },
    {
      "cell_type": "code",
      "metadata": {
        "id": "M_wWh2OJFJaB"
      },
      "source": [
        "data_df = pd.DataFrame(data)\n",
        "data_df.to_csv(f\"all_assets_sequences.csv\")"
      ],
      "execution_count": 28,
      "outputs": []
    },
    {
      "cell_type": "code",
      "metadata": {
        "colab": {
          "base_uri": "https://localhost:8080/"
        },
        "id": "Tgcw0tj54F6g",
        "outputId": "b750e64d-b2a0-4d17-ca21-33c8b45f86b6"
      },
      "source": [
        "data.shape"
      ],
      "execution_count": 29,
      "outputs": [
        {
          "output_type": "execute_result",
          "data": {
            "text/plain": [
              "(24291, 60)"
            ]
          },
          "metadata": {},
          "execution_count": 29
        }
      ]
    },
    {
      "cell_type": "code",
      "metadata": {
        "id": "AbdkOC5Uzde6"
      },
      "source": [
        "# import numpy as np\n",
        "# a1 = np.array([[1, 2, 3], [4, 5, 6]])\n",
        "# a2 = np.array([[7, 8, 9], [10, 11, 12], [13, 14, 15]])\n",
        "# a3 = np.array([[7, 8, 9], [10, 11, 12], [13, 14, 15]])\n",
        "# np.concatenate((a1, a2, a3))"
      ],
      "execution_count": 30,
      "outputs": []
    },
    {
      "cell_type": "code",
      "metadata": {
        "colab": {
          "base_uri": "https://localhost:8080/",
          "height": 220
        },
        "id": "M5MG5n5AG2u6",
        "outputId": "b8d67a87-710e-4662-f222-3a7b3844f2d9"
      },
      "source": [
        "data_df.head()"
      ],
      "execution_count": 31,
      "outputs": [
        {
          "output_type": "execute_result",
          "data": {
            "text/html": [
              "<div>\n",
              "<style scoped>\n",
              "    .dataframe tbody tr th:only-of-type {\n",
              "        vertical-align: middle;\n",
              "    }\n",
              "\n",
              "    .dataframe tbody tr th {\n",
              "        vertical-align: top;\n",
              "    }\n",
              "\n",
              "    .dataframe thead th {\n",
              "        text-align: right;\n",
              "    }\n",
              "</style>\n",
              "<table border=\"1\" class=\"dataframe\">\n",
              "  <thead>\n",
              "    <tr style=\"text-align: right;\">\n",
              "      <th></th>\n",
              "      <th>0</th>\n",
              "      <th>1</th>\n",
              "      <th>2</th>\n",
              "      <th>3</th>\n",
              "      <th>4</th>\n",
              "      <th>5</th>\n",
              "      <th>6</th>\n",
              "      <th>7</th>\n",
              "      <th>8</th>\n",
              "      <th>9</th>\n",
              "      <th>10</th>\n",
              "      <th>11</th>\n",
              "      <th>12</th>\n",
              "      <th>13</th>\n",
              "      <th>14</th>\n",
              "      <th>15</th>\n",
              "      <th>16</th>\n",
              "      <th>17</th>\n",
              "      <th>18</th>\n",
              "      <th>19</th>\n",
              "      <th>20</th>\n",
              "      <th>21</th>\n",
              "      <th>22</th>\n",
              "      <th>23</th>\n",
              "      <th>24</th>\n",
              "      <th>25</th>\n",
              "      <th>26</th>\n",
              "      <th>27</th>\n",
              "      <th>28</th>\n",
              "      <th>29</th>\n",
              "      <th>30</th>\n",
              "      <th>31</th>\n",
              "      <th>32</th>\n",
              "      <th>33</th>\n",
              "      <th>34</th>\n",
              "      <th>35</th>\n",
              "      <th>36</th>\n",
              "      <th>37</th>\n",
              "      <th>38</th>\n",
              "      <th>39</th>\n",
              "      <th>40</th>\n",
              "      <th>41</th>\n",
              "      <th>42</th>\n",
              "      <th>43</th>\n",
              "      <th>44</th>\n",
              "      <th>45</th>\n",
              "      <th>46</th>\n",
              "      <th>47</th>\n",
              "      <th>48</th>\n",
              "      <th>49</th>\n",
              "      <th>50</th>\n",
              "      <th>51</th>\n",
              "      <th>52</th>\n",
              "      <th>53</th>\n",
              "      <th>54</th>\n",
              "      <th>55</th>\n",
              "      <th>56</th>\n",
              "      <th>57</th>\n",
              "      <th>58</th>\n",
              "      <th>59</th>\n",
              "    </tr>\n",
              "  </thead>\n",
              "  <tbody>\n",
              "    <tr>\n",
              "      <th>0</th>\n",
              "      <td>0.803995</td>\n",
              "      <td>0.858137</td>\n",
              "      <td>0.829868</td>\n",
              "      <td>0.785788</td>\n",
              "      <td>0.795370</td>\n",
              "      <td>0.797286</td>\n",
              "      <td>0.813578</td>\n",
              "      <td>0.728291</td>\n",
              "      <td>0.739790</td>\n",
              "      <td>0.762789</td>\n",
              "      <td>0.781954</td>\n",
              "      <td>0.749373</td>\n",
              "      <td>0.735478</td>\n",
              "      <td>0.711042</td>\n",
              "      <td>0.728290</td>\n",
              "      <td>0.668398</td>\n",
              "      <td>0.724337</td>\n",
              "      <td>0.741706</td>\n",
              "      <td>0.766622</td>\n",
              "      <td>0.769976</td>\n",
              "      <td>0.774288</td>\n",
              "      <td>0.796807</td>\n",
              "      <td>0.809744</td>\n",
              "      <td>0.816931</td>\n",
              "      <td>0.885448</td>\n",
              "      <td>0.870116</td>\n",
              "      <td>0.875865</td>\n",
              "      <td>0.853346</td>\n",
              "      <td>0.831306</td>\n",
              "      <td>0.814536</td>\n",
              "      <td>0.804953</td>\n",
              "      <td>0.860533</td>\n",
              "      <td>0.843284</td>\n",
              "      <td>0.844721</td>\n",
              "      <td>0.834180</td>\n",
              "      <td>0.843284</td>\n",
              "      <td>0.829389</td>\n",
              "      <td>0.779079</td>\n",
              "      <td>0.774288</td>\n",
              "      <td>0.795370</td>\n",
              "      <td>0.797286</td>\n",
              "      <td>0.768538</td>\n",
              "      <td>0.772372</td>\n",
              "      <td>0.757518</td>\n",
              "      <td>0.769017</td>\n",
              "      <td>0.792016</td>\n",
              "      <td>0.796807</td>\n",
              "      <td>0.827952</td>\n",
              "      <td>0.827952</td>\n",
              "      <td>0.874428</td>\n",
              "      <td>0.873949</td>\n",
              "      <td>0.880657</td>\n",
              "      <td>0.874907</td>\n",
              "      <td>0.863407</td>\n",
              "      <td>0.865325</td>\n",
              "      <td>0.870116</td>\n",
              "      <td>0.871074</td>\n",
              "      <td>0.833701</td>\n",
              "      <td>0.838013</td>\n",
              "      <td>0.887844</td>\n",
              "    </tr>\n",
              "    <tr>\n",
              "      <th>1</th>\n",
              "      <td>0.781954</td>\n",
              "      <td>0.749373</td>\n",
              "      <td>0.735478</td>\n",
              "      <td>0.711042</td>\n",
              "      <td>0.728290</td>\n",
              "      <td>0.668398</td>\n",
              "      <td>0.724337</td>\n",
              "      <td>0.741706</td>\n",
              "      <td>0.766622</td>\n",
              "      <td>0.769976</td>\n",
              "      <td>0.774288</td>\n",
              "      <td>0.796807</td>\n",
              "      <td>0.809744</td>\n",
              "      <td>0.816931</td>\n",
              "      <td>0.885448</td>\n",
              "      <td>0.870116</td>\n",
              "      <td>0.875865</td>\n",
              "      <td>0.853346</td>\n",
              "      <td>0.831306</td>\n",
              "      <td>0.814536</td>\n",
              "      <td>0.804953</td>\n",
              "      <td>0.860533</td>\n",
              "      <td>0.843284</td>\n",
              "      <td>0.844721</td>\n",
              "      <td>0.834180</td>\n",
              "      <td>0.843284</td>\n",
              "      <td>0.829389</td>\n",
              "      <td>0.779079</td>\n",
              "      <td>0.774288</td>\n",
              "      <td>0.795370</td>\n",
              "      <td>0.797286</td>\n",
              "      <td>0.768538</td>\n",
              "      <td>0.772372</td>\n",
              "      <td>0.757518</td>\n",
              "      <td>0.769017</td>\n",
              "      <td>0.792016</td>\n",
              "      <td>0.796807</td>\n",
              "      <td>0.827952</td>\n",
              "      <td>0.827952</td>\n",
              "      <td>0.874428</td>\n",
              "      <td>0.873949</td>\n",
              "      <td>0.880657</td>\n",
              "      <td>0.874907</td>\n",
              "      <td>0.863407</td>\n",
              "      <td>0.865325</td>\n",
              "      <td>0.870116</td>\n",
              "      <td>0.871074</td>\n",
              "      <td>0.833701</td>\n",
              "      <td>0.838013</td>\n",
              "      <td>0.887844</td>\n",
              "      <td>0.883532</td>\n",
              "      <td>0.912280</td>\n",
              "      <td>0.902697</td>\n",
              "      <td>0.874907</td>\n",
              "      <td>0.883052</td>\n",
              "      <td>0.880657</td>\n",
              "      <td>0.878741</td>\n",
              "      <td>0.852867</td>\n",
              "      <td>0.844242</td>\n",
              "      <td>0.872511</td>\n",
              "    </tr>\n",
              "    <tr>\n",
              "      <th>2</th>\n",
              "      <td>0.774288</td>\n",
              "      <td>0.796807</td>\n",
              "      <td>0.809744</td>\n",
              "      <td>0.816931</td>\n",
              "      <td>0.885448</td>\n",
              "      <td>0.870116</td>\n",
              "      <td>0.875865</td>\n",
              "      <td>0.853346</td>\n",
              "      <td>0.831306</td>\n",
              "      <td>0.814536</td>\n",
              "      <td>0.804953</td>\n",
              "      <td>0.860533</td>\n",
              "      <td>0.843284</td>\n",
              "      <td>0.844721</td>\n",
              "      <td>0.834180</td>\n",
              "      <td>0.843284</td>\n",
              "      <td>0.829389</td>\n",
              "      <td>0.779079</td>\n",
              "      <td>0.774288</td>\n",
              "      <td>0.795370</td>\n",
              "      <td>0.797286</td>\n",
              "      <td>0.768538</td>\n",
              "      <td>0.772372</td>\n",
              "      <td>0.757518</td>\n",
              "      <td>0.769017</td>\n",
              "      <td>0.792016</td>\n",
              "      <td>0.796807</td>\n",
              "      <td>0.827952</td>\n",
              "      <td>0.827952</td>\n",
              "      <td>0.874428</td>\n",
              "      <td>0.873949</td>\n",
              "      <td>0.880657</td>\n",
              "      <td>0.874907</td>\n",
              "      <td>0.863407</td>\n",
              "      <td>0.865325</td>\n",
              "      <td>0.870116</td>\n",
              "      <td>0.871074</td>\n",
              "      <td>0.833701</td>\n",
              "      <td>0.838013</td>\n",
              "      <td>0.887844</td>\n",
              "      <td>0.883532</td>\n",
              "      <td>0.912280</td>\n",
              "      <td>0.902697</td>\n",
              "      <td>0.874907</td>\n",
              "      <td>0.883052</td>\n",
              "      <td>0.880657</td>\n",
              "      <td>0.878741</td>\n",
              "      <td>0.852867</td>\n",
              "      <td>0.844242</td>\n",
              "      <td>0.872511</td>\n",
              "      <td>0.868079</td>\n",
              "      <td>0.891198</td>\n",
              "      <td>0.899343</td>\n",
              "      <td>0.883172</td>\n",
              "      <td>0.880178</td>\n",
              "      <td>0.846159</td>\n",
              "      <td>0.844242</td>\n",
              "      <td>0.868199</td>\n",
              "      <td>0.870595</td>\n",
              "      <td>0.878740</td>\n",
              "    </tr>\n",
              "    <tr>\n",
              "      <th>3</th>\n",
              "      <td>0.804953</td>\n",
              "      <td>0.860533</td>\n",
              "      <td>0.843284</td>\n",
              "      <td>0.844721</td>\n",
              "      <td>0.834180</td>\n",
              "      <td>0.843284</td>\n",
              "      <td>0.829389</td>\n",
              "      <td>0.779079</td>\n",
              "      <td>0.774288</td>\n",
              "      <td>0.795370</td>\n",
              "      <td>0.797286</td>\n",
              "      <td>0.768538</td>\n",
              "      <td>0.772372</td>\n",
              "      <td>0.757518</td>\n",
              "      <td>0.769017</td>\n",
              "      <td>0.792016</td>\n",
              "      <td>0.796807</td>\n",
              "      <td>0.827952</td>\n",
              "      <td>0.827952</td>\n",
              "      <td>0.874428</td>\n",
              "      <td>0.873949</td>\n",
              "      <td>0.880657</td>\n",
              "      <td>0.874907</td>\n",
              "      <td>0.863407</td>\n",
              "      <td>0.865325</td>\n",
              "      <td>0.870116</td>\n",
              "      <td>0.871074</td>\n",
              "      <td>0.833701</td>\n",
              "      <td>0.838013</td>\n",
              "      <td>0.887844</td>\n",
              "      <td>0.883532</td>\n",
              "      <td>0.912280</td>\n",
              "      <td>0.902697</td>\n",
              "      <td>0.874907</td>\n",
              "      <td>0.883052</td>\n",
              "      <td>0.880657</td>\n",
              "      <td>0.878741</td>\n",
              "      <td>0.852867</td>\n",
              "      <td>0.844242</td>\n",
              "      <td>0.872511</td>\n",
              "      <td>0.868079</td>\n",
              "      <td>0.891198</td>\n",
              "      <td>0.899343</td>\n",
              "      <td>0.883172</td>\n",
              "      <td>0.880178</td>\n",
              "      <td>0.846159</td>\n",
              "      <td>0.844242</td>\n",
              "      <td>0.868199</td>\n",
              "      <td>0.870595</td>\n",
              "      <td>0.878740</td>\n",
              "      <td>0.908926</td>\n",
              "      <td>0.999003</td>\n",
              "      <td>0.973610</td>\n",
              "      <td>0.935279</td>\n",
              "      <td>0.957319</td>\n",
              "      <td>0.981276</td>\n",
              "      <td>0.965943</td>\n",
              "      <td>0.963548</td>\n",
              "      <td>0.969297</td>\n",
              "      <td>0.941986</td>\n",
              "    </tr>\n",
              "    <tr>\n",
              "      <th>4</th>\n",
              "      <td>0.797286</td>\n",
              "      <td>0.768538</td>\n",
              "      <td>0.772372</td>\n",
              "      <td>0.757518</td>\n",
              "      <td>0.769017</td>\n",
              "      <td>0.792016</td>\n",
              "      <td>0.796807</td>\n",
              "      <td>0.827952</td>\n",
              "      <td>0.827952</td>\n",
              "      <td>0.874428</td>\n",
              "      <td>0.873949</td>\n",
              "      <td>0.880657</td>\n",
              "      <td>0.874907</td>\n",
              "      <td>0.863407</td>\n",
              "      <td>0.865325</td>\n",
              "      <td>0.870116</td>\n",
              "      <td>0.871074</td>\n",
              "      <td>0.833701</td>\n",
              "      <td>0.838013</td>\n",
              "      <td>0.887844</td>\n",
              "      <td>0.883532</td>\n",
              "      <td>0.912280</td>\n",
              "      <td>0.902697</td>\n",
              "      <td>0.874907</td>\n",
              "      <td>0.883052</td>\n",
              "      <td>0.880657</td>\n",
              "      <td>0.878741</td>\n",
              "      <td>0.852867</td>\n",
              "      <td>0.844242</td>\n",
              "      <td>0.872511</td>\n",
              "      <td>0.868079</td>\n",
              "      <td>0.891198</td>\n",
              "      <td>0.899343</td>\n",
              "      <td>0.883172</td>\n",
              "      <td>0.880178</td>\n",
              "      <td>0.846159</td>\n",
              "      <td>0.844242</td>\n",
              "      <td>0.868199</td>\n",
              "      <td>0.870595</td>\n",
              "      <td>0.878740</td>\n",
              "      <td>0.908926</td>\n",
              "      <td>0.999003</td>\n",
              "      <td>0.973610</td>\n",
              "      <td>0.935279</td>\n",
              "      <td>0.957319</td>\n",
              "      <td>0.981276</td>\n",
              "      <td>0.965943</td>\n",
              "      <td>0.963548</td>\n",
              "      <td>0.969297</td>\n",
              "      <td>0.941986</td>\n",
              "      <td>0.941986</td>\n",
              "      <td>0.935279</td>\n",
              "      <td>0.926654</td>\n",
              "      <td>0.937195</td>\n",
              "      <td>0.932883</td>\n",
              "      <td>0.964027</td>\n",
              "      <td>0.936237</td>\n",
              "      <td>0.930008</td>\n",
              "      <td>0.929289</td>\n",
              "      <td>0.875865</td>\n",
              "    </tr>\n",
              "  </tbody>\n",
              "</table>\n",
              "</div>"
            ],
            "text/plain": [
              "         0         1         2   ...        57        58        59\n",
              "0  0.803995  0.858137  0.829868  ...  0.833701  0.838013  0.887844\n",
              "1  0.781954  0.749373  0.735478  ...  0.852867  0.844242  0.872511\n",
              "2  0.774288  0.796807  0.809744  ...  0.868199  0.870595  0.878740\n",
              "3  0.804953  0.860533  0.843284  ...  0.963548  0.969297  0.941986\n",
              "4  0.797286  0.768538  0.772372  ...  0.930008  0.929289  0.875865\n",
              "\n",
              "[5 rows x 60 columns]"
            ]
          },
          "metadata": {},
          "execution_count": 31
        }
      ]
    },
    {
      "cell_type": "code",
      "metadata": {
        "colab": {
          "base_uri": "https://localhost:8080/",
          "height": 310
        },
        "id": "W6ci3UIjCNPv",
        "outputId": "d6a7753d-3b59-47f5-dde4-6f33b5865e04"
      },
      "source": [
        "data_df.describe()"
      ],
      "execution_count": 32,
      "outputs": [
        {
          "output_type": "execute_result",
          "data": {
            "text/html": [
              "<div>\n",
              "<style scoped>\n",
              "    .dataframe tbody tr th:only-of-type {\n",
              "        vertical-align: middle;\n",
              "    }\n",
              "\n",
              "    .dataframe tbody tr th {\n",
              "        vertical-align: top;\n",
              "    }\n",
              "\n",
              "    .dataframe thead th {\n",
              "        text-align: right;\n",
              "    }\n",
              "</style>\n",
              "<table border=\"1\" class=\"dataframe\">\n",
              "  <thead>\n",
              "    <tr style=\"text-align: right;\">\n",
              "      <th></th>\n",
              "      <th>0</th>\n",
              "      <th>1</th>\n",
              "      <th>2</th>\n",
              "      <th>3</th>\n",
              "      <th>4</th>\n",
              "      <th>5</th>\n",
              "      <th>6</th>\n",
              "      <th>7</th>\n",
              "      <th>8</th>\n",
              "      <th>9</th>\n",
              "      <th>10</th>\n",
              "      <th>11</th>\n",
              "      <th>12</th>\n",
              "      <th>13</th>\n",
              "      <th>14</th>\n",
              "      <th>15</th>\n",
              "      <th>16</th>\n",
              "      <th>17</th>\n",
              "      <th>18</th>\n",
              "      <th>19</th>\n",
              "      <th>20</th>\n",
              "      <th>21</th>\n",
              "      <th>22</th>\n",
              "      <th>23</th>\n",
              "      <th>24</th>\n",
              "      <th>25</th>\n",
              "      <th>26</th>\n",
              "      <th>27</th>\n",
              "      <th>28</th>\n",
              "      <th>29</th>\n",
              "      <th>30</th>\n",
              "      <th>31</th>\n",
              "      <th>32</th>\n",
              "      <th>33</th>\n",
              "      <th>34</th>\n",
              "      <th>35</th>\n",
              "      <th>36</th>\n",
              "      <th>37</th>\n",
              "      <th>38</th>\n",
              "      <th>39</th>\n",
              "      <th>40</th>\n",
              "      <th>41</th>\n",
              "      <th>42</th>\n",
              "      <th>43</th>\n",
              "      <th>44</th>\n",
              "      <th>45</th>\n",
              "      <th>46</th>\n",
              "      <th>47</th>\n",
              "      <th>48</th>\n",
              "      <th>49</th>\n",
              "      <th>50</th>\n",
              "      <th>51</th>\n",
              "      <th>52</th>\n",
              "      <th>53</th>\n",
              "      <th>54</th>\n",
              "      <th>55</th>\n",
              "      <th>56</th>\n",
              "      <th>57</th>\n",
              "      <th>58</th>\n",
              "      <th>59</th>\n",
              "    </tr>\n",
              "  </thead>\n",
              "  <tbody>\n",
              "    <tr>\n",
              "      <th>count</th>\n",
              "      <td>24291.000000</td>\n",
              "      <td>24291.000000</td>\n",
              "      <td>24291.000000</td>\n",
              "      <td>24291.000000</td>\n",
              "      <td>24291.000000</td>\n",
              "      <td>24291.000000</td>\n",
              "      <td>24291.000000</td>\n",
              "      <td>24291.000000</td>\n",
              "      <td>24291.000000</td>\n",
              "      <td>24291.000000</td>\n",
              "      <td>24291.000000</td>\n",
              "      <td>24291.000000</td>\n",
              "      <td>24291.000000</td>\n",
              "      <td>24291.000000</td>\n",
              "      <td>24291.000000</td>\n",
              "      <td>24291.000000</td>\n",
              "      <td>24291.000000</td>\n",
              "      <td>24291.000000</td>\n",
              "      <td>24291.000000</td>\n",
              "      <td>24291.000000</td>\n",
              "      <td>24291.000000</td>\n",
              "      <td>24291.000000</td>\n",
              "      <td>24291.000000</td>\n",
              "      <td>24291.000000</td>\n",
              "      <td>24291.000000</td>\n",
              "      <td>24291.000000</td>\n",
              "      <td>24291.000000</td>\n",
              "      <td>24291.000000</td>\n",
              "      <td>24291.000000</td>\n",
              "      <td>24291.000000</td>\n",
              "      <td>24291.000000</td>\n",
              "      <td>24291.000000</td>\n",
              "      <td>24291.000000</td>\n",
              "      <td>24291.000000</td>\n",
              "      <td>24291.000000</td>\n",
              "      <td>24291.000000</td>\n",
              "      <td>24291.000000</td>\n",
              "      <td>24291.000000</td>\n",
              "      <td>24291.000000</td>\n",
              "      <td>24291.000000</td>\n",
              "      <td>24291.000000</td>\n",
              "      <td>24291.000000</td>\n",
              "      <td>24291.000000</td>\n",
              "      <td>24291.000000</td>\n",
              "      <td>24291.000000</td>\n",
              "      <td>24291.000000</td>\n",
              "      <td>24291.000000</td>\n",
              "      <td>24291.000000</td>\n",
              "      <td>24291.000000</td>\n",
              "      <td>24291.000000</td>\n",
              "      <td>24291.000000</td>\n",
              "      <td>24291.000000</td>\n",
              "      <td>24291.000000</td>\n",
              "      <td>24291.000000</td>\n",
              "      <td>24291.000000</td>\n",
              "      <td>24291.000000</td>\n",
              "      <td>24291.000000</td>\n",
              "      <td>24291.000000</td>\n",
              "      <td>24291.000000</td>\n",
              "      <td>24291.000000</td>\n",
              "    </tr>\n",
              "    <tr>\n",
              "      <th>mean</th>\n",
              "      <td>257.942420</td>\n",
              "      <td>258.324366</td>\n",
              "      <td>258.383159</td>\n",
              "      <td>258.962086</td>\n",
              "      <td>259.142222</td>\n",
              "      <td>258.840689</td>\n",
              "      <td>258.922543</td>\n",
              "      <td>260.337376</td>\n",
              "      <td>260.372314</td>\n",
              "      <td>259.930025</td>\n",
              "      <td>260.013808</td>\n",
              "      <td>260.368778</td>\n",
              "      <td>260.422094</td>\n",
              "      <td>260.941478</td>\n",
              "      <td>261.119010</td>\n",
              "      <td>260.787601</td>\n",
              "      <td>260.858516</td>\n",
              "      <td>262.231087</td>\n",
              "      <td>262.269657</td>\n",
              "      <td>261.890497</td>\n",
              "      <td>261.974576</td>\n",
              "      <td>262.378995</td>\n",
              "      <td>262.433904</td>\n",
              "      <td>263.033185</td>\n",
              "      <td>263.212621</td>\n",
              "      <td>262.955343</td>\n",
              "      <td>263.026792</td>\n",
              "      <td>264.363953</td>\n",
              "      <td>264.403324</td>\n",
              "      <td>264.128800</td>\n",
              "      <td>264.210119</td>\n",
              "      <td>264.585329</td>\n",
              "      <td>264.640921</td>\n",
              "      <td>265.238842</td>\n",
              "      <td>265.417756</td>\n",
              "      <td>265.115030</td>\n",
              "      <td>265.186943</td>\n",
              "      <td>266.662166</td>\n",
              "      <td>266.700987</td>\n",
              "      <td>266.399346</td>\n",
              "      <td>266.479319</td>\n",
              "      <td>266.851701</td>\n",
              "      <td>266.905003</td>\n",
              "      <td>267.459749</td>\n",
              "      <td>267.634594</td>\n",
              "      <td>267.283475</td>\n",
              "      <td>267.356393</td>\n",
              "      <td>268.838375</td>\n",
              "      <td>268.875706</td>\n",
              "      <td>268.656419</td>\n",
              "      <td>268.737152</td>\n",
              "      <td>269.218127</td>\n",
              "      <td>269.270869</td>\n",
              "      <td>269.807090</td>\n",
              "      <td>269.979251</td>\n",
              "      <td>269.646931</td>\n",
              "      <td>269.718590</td>\n",
              "      <td>271.211855</td>\n",
              "      <td>271.250314</td>\n",
              "      <td>270.957711</td>\n",
              "    </tr>\n",
              "    <tr>\n",
              "      <th>std</th>\n",
              "      <td>2106.976754</td>\n",
              "      <td>2106.867986</td>\n",
              "      <td>2107.362143</td>\n",
              "      <td>2112.155691</td>\n",
              "      <td>2114.011558</td>\n",
              "      <td>2107.115932</td>\n",
              "      <td>2106.734971</td>\n",
              "      <td>2135.458396</td>\n",
              "      <td>2135.620424</td>\n",
              "      <td>2124.529873</td>\n",
              "      <td>2124.252861</td>\n",
              "      <td>2123.678451</td>\n",
              "      <td>2124.037114</td>\n",
              "      <td>2127.629665</td>\n",
              "      <td>2129.419136</td>\n",
              "      <td>2122.032788</td>\n",
              "      <td>2121.621633</td>\n",
              "      <td>2149.390529</td>\n",
              "      <td>2149.596564</td>\n",
              "      <td>2139.722583</td>\n",
              "      <td>2139.445802</td>\n",
              "      <td>2139.744215</td>\n",
              "      <td>2140.099861</td>\n",
              "      <td>2145.222865</td>\n",
              "      <td>2147.011310</td>\n",
              "      <td>2141.127914</td>\n",
              "      <td>2140.736514</td>\n",
              "      <td>2167.606927</td>\n",
              "      <td>2167.807696</td>\n",
              "      <td>2160.214312</td>\n",
              "      <td>2159.865993</td>\n",
              "      <td>2159.554191</td>\n",
              "      <td>2159.918854</td>\n",
              "      <td>2164.986606</td>\n",
              "      <td>2166.744252</td>\n",
              "      <td>2159.936887</td>\n",
              "      <td>2159.558579</td>\n",
              "      <td>2189.089561</td>\n",
              "      <td>2189.303242</td>\n",
              "      <td>2181.150025</td>\n",
              "      <td>2180.803509</td>\n",
              "      <td>2180.449288</td>\n",
              "      <td>2180.785938</td>\n",
              "      <td>2184.918476</td>\n",
              "      <td>2186.600936</td>\n",
              "      <td>2178.800429</td>\n",
              "      <td>2178.419038</td>\n",
              "      <td>2207.790972</td>\n",
              "      <td>2207.954398</td>\n",
              "      <td>2201.553311</td>\n",
              "      <td>2201.215568</td>\n",
              "      <td>2203.202406</td>\n",
              "      <td>2203.524623</td>\n",
              "      <td>2207.229348</td>\n",
              "      <td>2208.861324</td>\n",
              "      <td>2201.555143</td>\n",
              "      <td>2201.150417</td>\n",
              "      <td>2230.452369</td>\n",
              "      <td>2230.629088</td>\n",
              "      <td>2222.634489</td>\n",
              "    </tr>\n",
              "    <tr>\n",
              "      <th>min</th>\n",
              "      <td>0.202388</td>\n",
              "      <td>0.201162</td>\n",
              "      <td>0.201315</td>\n",
              "      <td>0.201468</td>\n",
              "      <td>0.202081</td>\n",
              "      <td>0.207141</td>\n",
              "      <td>0.207448</td>\n",
              "      <td>0.205301</td>\n",
              "      <td>0.199168</td>\n",
              "      <td>0.203002</td>\n",
              "      <td>0.202388</td>\n",
              "      <td>0.201162</td>\n",
              "      <td>0.201315</td>\n",
              "      <td>0.201468</td>\n",
              "      <td>0.202081</td>\n",
              "      <td>0.207141</td>\n",
              "      <td>0.207448</td>\n",
              "      <td>0.205301</td>\n",
              "      <td>0.199168</td>\n",
              "      <td>0.203002</td>\n",
              "      <td>0.202388</td>\n",
              "      <td>0.201162</td>\n",
              "      <td>0.201315</td>\n",
              "      <td>0.201468</td>\n",
              "      <td>0.202081</td>\n",
              "      <td>0.207141</td>\n",
              "      <td>0.207448</td>\n",
              "      <td>0.205301</td>\n",
              "      <td>0.199168</td>\n",
              "      <td>0.203002</td>\n",
              "      <td>0.202388</td>\n",
              "      <td>0.201162</td>\n",
              "      <td>0.201315</td>\n",
              "      <td>0.201468</td>\n",
              "      <td>0.202081</td>\n",
              "      <td>0.207141</td>\n",
              "      <td>0.207448</td>\n",
              "      <td>0.205301</td>\n",
              "      <td>0.199168</td>\n",
              "      <td>0.203002</td>\n",
              "      <td>0.202388</td>\n",
              "      <td>0.201162</td>\n",
              "      <td>0.201315</td>\n",
              "      <td>0.201468</td>\n",
              "      <td>0.202081</td>\n",
              "      <td>0.207141</td>\n",
              "      <td>0.207448</td>\n",
              "      <td>0.205301</td>\n",
              "      <td>0.199168</td>\n",
              "      <td>0.203002</td>\n",
              "      <td>0.202388</td>\n",
              "      <td>0.201162</td>\n",
              "      <td>0.201315</td>\n",
              "      <td>0.201468</td>\n",
              "      <td>0.202081</td>\n",
              "      <td>0.207141</td>\n",
              "      <td>0.207448</td>\n",
              "      <td>0.205301</td>\n",
              "      <td>0.199168</td>\n",
              "      <td>0.203002</td>\n",
              "    </tr>\n",
              "    <tr>\n",
              "      <th>25%</th>\n",
              "      <td>18.362116</td>\n",
              "      <td>18.423944</td>\n",
              "      <td>18.413430</td>\n",
              "      <td>18.409833</td>\n",
              "      <td>18.452851</td>\n",
              "      <td>18.448128</td>\n",
              "      <td>18.423671</td>\n",
              "      <td>18.397959</td>\n",
              "      <td>18.388310</td>\n",
              "      <td>18.389986</td>\n",
              "      <td>18.387831</td>\n",
              "      <td>18.435725</td>\n",
              "      <td>18.435827</td>\n",
              "      <td>18.425581</td>\n",
              "      <td>18.462185</td>\n",
              "      <td>18.457376</td>\n",
              "      <td>18.438105</td>\n",
              "      <td>18.419571</td>\n",
              "      <td>18.409985</td>\n",
              "      <td>18.412809</td>\n",
              "      <td>18.426481</td>\n",
              "      <td>18.455744</td>\n",
              "      <td>18.447769</td>\n",
              "      <td>18.452794</td>\n",
              "      <td>18.485044</td>\n",
              "      <td>18.469670</td>\n",
              "      <td>18.466259</td>\n",
              "      <td>18.441863</td>\n",
              "      <td>18.426973</td>\n",
              "      <td>18.429255</td>\n",
              "      <td>18.436747</td>\n",
              "      <td>18.472028</td>\n",
              "      <td>18.459958</td>\n",
              "      <td>18.461533</td>\n",
              "      <td>18.500465</td>\n",
              "      <td>18.490541</td>\n",
              "      <td>18.491467</td>\n",
              "      <td>18.470839</td>\n",
              "      <td>18.464576</td>\n",
              "      <td>18.443175</td>\n",
              "      <td>18.458239</td>\n",
              "      <td>18.494814</td>\n",
              "      <td>18.477028</td>\n",
              "      <td>18.481440</td>\n",
              "      <td>18.517071</td>\n",
              "      <td>18.511426</td>\n",
              "      <td>18.508853</td>\n",
              "      <td>18.499479</td>\n",
              "      <td>18.479152</td>\n",
              "      <td>18.452854</td>\n",
              "      <td>18.484397</td>\n",
              "      <td>18.503348</td>\n",
              "      <td>18.490384</td>\n",
              "      <td>18.515896</td>\n",
              "      <td>18.538896</td>\n",
              "      <td>18.538166</td>\n",
              "      <td>18.518177</td>\n",
              "      <td>18.518827</td>\n",
              "      <td>18.509490</td>\n",
              "      <td>18.481358</td>\n",
              "    </tr>\n",
              "    <tr>\n",
              "      <th>50%</th>\n",
              "      <td>34.746685</td>\n",
              "      <td>34.758217</td>\n",
              "      <td>34.777424</td>\n",
              "      <td>34.793232</td>\n",
              "      <td>34.804672</td>\n",
              "      <td>34.780430</td>\n",
              "      <td>34.796540</td>\n",
              "      <td>34.797958</td>\n",
              "      <td>34.799999</td>\n",
              "      <td>34.795303</td>\n",
              "      <td>34.810001</td>\n",
              "      <td>34.804539</td>\n",
              "      <td>34.823267</td>\n",
              "      <td>34.855240</td>\n",
              "      <td>34.865431</td>\n",
              "      <td>34.840012</td>\n",
              "      <td>34.839424</td>\n",
              "      <td>34.853237</td>\n",
              "      <td>34.856812</td>\n",
              "      <td>34.839764</td>\n",
              "      <td>34.867111</td>\n",
              "      <td>34.864395</td>\n",
              "      <td>34.891097</td>\n",
              "      <td>34.926411</td>\n",
              "      <td>34.906628</td>\n",
              "      <td>34.910000</td>\n",
              "      <td>34.899687</td>\n",
              "      <td>34.905869</td>\n",
              "      <td>34.907185</td>\n",
              "      <td>34.896999</td>\n",
              "      <td>34.926243</td>\n",
              "      <td>34.955704</td>\n",
              "      <td>34.933842</td>\n",
              "      <td>34.968143</td>\n",
              "      <td>34.969525</td>\n",
              "      <td>34.965939</td>\n",
              "      <td>34.964528</td>\n",
              "      <td>34.953602</td>\n",
              "      <td>34.954407</td>\n",
              "      <td>34.954407</td>\n",
              "      <td>34.952654</td>\n",
              "      <td>35.018421</td>\n",
              "      <td>34.989779</td>\n",
              "      <td>35.041397</td>\n",
              "      <td>35.037642</td>\n",
              "      <td>35.023533</td>\n",
              "      <td>35.015546</td>\n",
              "      <td>35.026535</td>\n",
              "      <td>35.039879</td>\n",
              "      <td>35.005928</td>\n",
              "      <td>35.015163</td>\n",
              "      <td>35.070999</td>\n",
              "      <td>35.048457</td>\n",
              "      <td>35.086533</td>\n",
              "      <td>35.076053</td>\n",
              "      <td>35.071529</td>\n",
              "      <td>35.065399</td>\n",
              "      <td>35.099998</td>\n",
              "      <td>35.089286</td>\n",
              "      <td>35.070580</td>\n",
              "    </tr>\n",
              "    <tr>\n",
              "      <th>75%</th>\n",
              "      <td>71.441695</td>\n",
              "      <td>71.414925</td>\n",
              "      <td>71.489939</td>\n",
              "      <td>71.674980</td>\n",
              "      <td>71.665643</td>\n",
              "      <td>71.739998</td>\n",
              "      <td>71.768444</td>\n",
              "      <td>71.698997</td>\n",
              "      <td>71.670781</td>\n",
              "      <td>71.662079</td>\n",
              "      <td>71.563634</td>\n",
              "      <td>71.637566</td>\n",
              "      <td>71.643424</td>\n",
              "      <td>71.830044</td>\n",
              "      <td>71.800080</td>\n",
              "      <td>72.010029</td>\n",
              "      <td>71.922985</td>\n",
              "      <td>71.860001</td>\n",
              "      <td>71.835636</td>\n",
              "      <td>71.796227</td>\n",
              "      <td>71.707187</td>\n",
              "      <td>71.793213</td>\n",
              "      <td>71.780497</td>\n",
              "      <td>71.972172</td>\n",
              "      <td>71.923198</td>\n",
              "      <td>72.077496</td>\n",
              "      <td>72.131444</td>\n",
              "      <td>72.044800</td>\n",
              "      <td>72.000000</td>\n",
              "      <td>71.975086</td>\n",
              "      <td>71.883418</td>\n",
              "      <td>71.931091</td>\n",
              "      <td>72.000411</td>\n",
              "      <td>72.105000</td>\n",
              "      <td>72.135830</td>\n",
              "      <td>72.213409</td>\n",
              "      <td>72.239998</td>\n",
              "      <td>72.166969</td>\n",
              "      <td>72.229477</td>\n",
              "      <td>72.154816</td>\n",
              "      <td>72.035333</td>\n",
              "      <td>72.080002</td>\n",
              "      <td>72.139054</td>\n",
              "      <td>72.290058</td>\n",
              "      <td>72.365226</td>\n",
              "      <td>72.275715</td>\n",
              "      <td>72.329552</td>\n",
              "      <td>72.274166</td>\n",
              "      <td>72.314999</td>\n",
              "      <td>72.341660</td>\n",
              "      <td>72.199997</td>\n",
              "      <td>72.193905</td>\n",
              "      <td>72.268701</td>\n",
              "      <td>72.389999</td>\n",
              "      <td>72.469153</td>\n",
              "      <td>72.440712</td>\n",
              "      <td>72.425765</td>\n",
              "      <td>72.427498</td>\n",
              "      <td>72.437829</td>\n",
              "      <td>72.456116</td>\n",
              "    </tr>\n",
              "    <tr>\n",
              "      <th>max</th>\n",
              "      <td>61529.921875</td>\n",
              "      <td>61243.085938</td>\n",
              "      <td>61221.132812</td>\n",
              "      <td>63503.457031</td>\n",
              "      <td>63523.753906</td>\n",
              "      <td>63109.695312</td>\n",
              "      <td>63075.195312</td>\n",
              "      <td>63314.011719</td>\n",
              "      <td>63258.503906</td>\n",
              "      <td>61572.789062</td>\n",
              "      <td>61529.921875</td>\n",
              "      <td>61243.085938</td>\n",
              "      <td>61221.132812</td>\n",
              "      <td>63503.457031</td>\n",
              "      <td>63523.753906</td>\n",
              "      <td>63109.695312</td>\n",
              "      <td>63075.195312</td>\n",
              "      <td>63314.011719</td>\n",
              "      <td>63258.503906</td>\n",
              "      <td>61572.789062</td>\n",
              "      <td>61529.921875</td>\n",
              "      <td>61243.085938</td>\n",
              "      <td>61221.132812</td>\n",
              "      <td>63503.457031</td>\n",
              "      <td>63523.753906</td>\n",
              "      <td>63109.695312</td>\n",
              "      <td>63075.195312</td>\n",
              "      <td>63314.011719</td>\n",
              "      <td>63258.503906</td>\n",
              "      <td>61572.789062</td>\n",
              "      <td>61529.921875</td>\n",
              "      <td>61243.085938</td>\n",
              "      <td>61221.132812</td>\n",
              "      <td>63503.457031</td>\n",
              "      <td>63523.753906</td>\n",
              "      <td>63109.695312</td>\n",
              "      <td>63075.195312</td>\n",
              "      <td>63314.011719</td>\n",
              "      <td>63258.503906</td>\n",
              "      <td>61572.789062</td>\n",
              "      <td>61529.921875</td>\n",
              "      <td>61243.085938</td>\n",
              "      <td>61221.132812</td>\n",
              "      <td>63503.457031</td>\n",
              "      <td>63523.753906</td>\n",
              "      <td>63109.695312</td>\n",
              "      <td>63075.195312</td>\n",
              "      <td>63314.011719</td>\n",
              "      <td>63258.503906</td>\n",
              "      <td>61572.789062</td>\n",
              "      <td>61529.921875</td>\n",
              "      <td>61243.085938</td>\n",
              "      <td>61221.132812</td>\n",
              "      <td>63503.457031</td>\n",
              "      <td>63523.753906</td>\n",
              "      <td>63109.695312</td>\n",
              "      <td>63075.195312</td>\n",
              "      <td>63314.011719</td>\n",
              "      <td>63258.503906</td>\n",
              "      <td>61572.789062</td>\n",
              "    </tr>\n",
              "  </tbody>\n",
              "</table>\n",
              "</div>"
            ],
            "text/plain": [
              "                 0             1   ...            58            59\n",
              "count  24291.000000  24291.000000  ...  24291.000000  24291.000000\n",
              "mean     257.942420    258.324366  ...    271.250314    270.957711\n",
              "std     2106.976754   2106.867986  ...   2230.629088   2222.634489\n",
              "min        0.202388      0.201162  ...      0.199168      0.203002\n",
              "25%       18.362116     18.423944  ...     18.509490     18.481358\n",
              "50%       34.746685     34.758217  ...     35.089286     35.070580\n",
              "75%       71.441695     71.414925  ...     72.437829     72.456116\n",
              "max    61529.921875  61243.085938  ...  63258.503906  61572.789062\n",
              "\n",
              "[8 rows x 60 columns]"
            ]
          },
          "metadata": {},
          "execution_count": 32
        }
      ]
    },
    {
      "cell_type": "markdown",
      "metadata": {
        "id": "t5IdKSsxBO1H"
      },
      "source": [
        "### 4. Normalize these sequences to a range (0, 1).\n"
      ]
    },
    {
      "cell_type": "code",
      "metadata": {
        "id": "qoi5Czkuyr9C"
      },
      "source": [
        "# 4. Normalize these sequences to a range (0, 1).\n",
        "from sklearn import preprocessing \n",
        "# https://www.journaldev.com/45109/normalize-data-in-python\n",
        "# Normalizes the sample\n",
        "data_normalized = preprocessing.normalize(data_df)\n",
        "data_normalized_df = pd.DataFrame(data_normalized)\n",
        "data_normalized_df.to_csv(f\"all_assets_sequences_lag{lag+1}_normalized.csv\")"
      ],
      "execution_count": 33,
      "outputs": []
    },
    {
      "cell_type": "markdown",
      "metadata": {
        "id": "Ur_S8-Dk7yX-"
      },
      "source": [
        "### 5. Clustering algorithm. \n"
      ]
    },
    {
      "cell_type": "markdown",
      "metadata": {
        "id": "E1Be3yIbFqbi"
      },
      "source": [
        "#### k-means clustering"
      ]
    },
    {
      "cell_type": "code",
      "metadata": {
        "id": "CZLxTLr6GcBt"
      },
      "source": [
        "# 5. Clustering algorithm. \n",
        "# K Means\n",
        "\n",
        "# K-Means Clustering\n",
        "\n",
        "# One of the most commonly used methods of clustering is K-means Clustering \n",
        "# K Means allows us to define the required number of clusters\n",
        "# Now we first start by taking an arbitrary number of k. Let’s say we take k=3 \n",
        "# Now to form three groups from the set of data\n",
        "# Algorithm chooses three random points as the centroid \n",
        "# It also computes Euclidean distances from the centroid to all other data points\n",
        "# The algorithm after measuring the distances of all the data points \n",
        "# from the centroid associates each data point with a centroid based on its proximity\n",
        "\n",
        "# Silhouette Score\n",
        "# Clusters are well apart from each other as the silhouette score is closer to 1\n",
        "# Silhouette Coefficient score is a metric used to calculate the goodness of a clustering technique \n",
        "# Its value ranges from -1 to 1.\n",
        "# 1: Means clusters are well apart from each other and clearly distinguished.\n",
        "# 0: Means clusters are indifferent, or we can say that the distance between clusters is not significant.\n",
        "# -1: Means clusters are assigned in the wrong way.\n",
        "\n",
        "# Deciding Value of K\n",
        "# The most crucial aspect of K-Means clustering is deciding the value of K\n",
        "# We do this by performing Elbow Analysis \n",
        "\n",
        "# Library\n",
        "from sklearn.cluster import KMeans\n",
        "from sklearn.metrics import silhouette_score\n",
        "import matplotlib.pyplot as plt"
      ],
      "execution_count": null,
      "outputs": []
    },
    {
      "cell_type": "code",
      "metadata": {
        "id": "7VlMi0yZyr0n",
        "colab": {
          "base_uri": "https://localhost:8080/"
        },
        "outputId": "4d34345c-ade4-41c2-cf3b-da8f0cdb35a3"
      },
      "source": [
        "\n",
        "wcss=[]\n",
        "for i in range(1, 11):\n",
        "    kmeans = KMeans(n_clusters = i, init = 'k-means++', max_iter = 300,\n",
        "                    n_init = 10, random_state = 0)\n",
        "    kmeans.fit(data_normalized)\n",
        "    print(f\"Inertia for clusters = {i}: {kmeans.inertia_}\")\n",
        "    wcss.append(kmeans.inertia_)\n",
        "\n",
        "print('Within Cluster Sum of Square (WCSS) for 10 Clusters')\n",
        "\n",
        "# Inference : \n",
        "# Cluster 1 means only one cluster, inshort variance of the dataset\n",
        "# Variance in Cluster 1 = 1515\n",
        "# Cluster 2 means two cluster i.e, Variance in Cluster 2 = 104\n",
        "# Same way for Variance in Cluster 3 = 79\n",
        "# Vairance in Cluster is also knows as Within Cluster Sum of Square (WCSS)\n",
        "# Normally as we increase number of clusters, within Sum of Square will decrease "
      ],
      "execution_count": null,
      "outputs": [
        {
          "output_type": "stream",
          "name": "stdout",
          "text": [
            "Inertia for clusters = 1: 53.51396853362704\n",
            "Inertia for clusters = 2: 38.9029796135708\n",
            "Inertia for clusters = 3: 32.34956576868879\n",
            "Inertia for clusters = 4: 28.900089301208144\n",
            "Inertia for clusters = 5: 26.7906648177017\n",
            "Inertia for clusters = 6: 25.372281419899675\n",
            "Inertia for clusters = 7: 24.187005526624052\n",
            "Inertia for clusters = 8: 23.182055769122368\n",
            "Inertia for clusters = 9: 22.341811333072528\n",
            "Inertia for clusters = 10: 21.679584677245376\n",
            "Within Cluster Sum of Square (WCSS) for 10 Clusters\n"
          ]
        }
      ]
    },
    {
      "cell_type": "code",
      "metadata": {
        "colab": {
          "base_uri": "https://localhost:8080/",
          "height": 311
        },
        "id": "waK-0qDRF1z7",
        "outputId": "d713a08e-3ca4-4680-81b8-34ff22bdc20d"
      },
      "source": [
        "# We now plot the WCSS obtained \n",
        "\n",
        "# WCSS or within-cluster sum of squares is a measure of \n",
        "# how internally coherent the clusters are K-Means tries to minimize this criterion\n",
        "\n",
        "plt.plot(range(1, 11), wcss)\n",
        "plt.title('The elbow method')\n",
        "plt.xlabel('Number of clusters')\n",
        "plt.ylabel('WCSS')\n",
        "\n",
        "# Inference : \n",
        "# In the elbow graph, we look for the points where the drop falls and the line smoothens out\n",
        "# In the above graph, this happens for k=2. \n",
        "# Another way of understanding this is that we note the point at which the WCSS is less \n",
        "# and try to find the number of clusters for our dataset. \n",
        "# We see that at the number of clusters = 2, WCSS is less than 100, which is good for us. \n",
        "# So we take k =2.\n",
        "# We will check Silhouette Coefficient also for 2 and 3 Clusters respectively"
      ],
      "execution_count": null,
      "outputs": [
        {
          "output_type": "execute_result",
          "data": {
            "text/plain": [
              "Text(0, 0.5, 'WCSS')"
            ]
          },
          "metadata": {},
          "execution_count": 16
        },
        {
          "output_type": "display_data",
          "data": {
            "image/png": "[encoded data removed]",
            "text/plain": [
              "<Figure size 432x288 with 1 Axes>"
            ]
          },
          "metadata": {
            "needs_background": "light"
          }
        }
      ]
    },
    {
      "cell_type": "code",
      "metadata": {
        "colab": {
          "base_uri": "https://localhost:8080/"
        },
        "id": "tAPxJ-hZGW68",
        "outputId": "e322eb3a-8717-437d-eb69-42085e765278"
      },
      "source": [
        "# Running K-Means Model\n",
        "\n",
        "# We now run K-Means clustering for obtaining a 2 cluster solution.\n",
        "cluster_Kmeans = KMeans(n_clusters=3)\n",
        "model_kmeans = cluster_Kmeans.fit(data_normalized)\n",
        "pred_kmeans = model_kmeans.labels_\n",
        "# print(pred_kmeans)\n",
        "\n",
        "# Frequency count of the Output clusters\n",
        "unique, counts = np.unique(pred_kmeans, return_counts=True)\n",
        "dict(zip(unique, counts))"
      ],
      "execution_count": null,
      "outputs": [
        {
          "output_type": "execute_result",
          "data": {
            "text/plain": [
              "{0: 15618, 1: 2795, 2: 5878}"
            ]
          },
          "metadata": {},
          "execution_count": 31
        }
      ]
    },
    {
      "cell_type": "code",
      "metadata": {
        "colab": {
          "base_uri": "https://localhost:8080/"
        },
        "id": "g7P-7WdFHKyD",
        "outputId": "5f37e945-22ae-4213-e47b-f4e3aa23f428"
      },
      "source": [
        "# Frequency count of the Output clusters\n",
        "unique, counts = np.unique(pred_kmeans, return_counts=True)\n",
        "print('K Means Output Cluster Frequency')\n",
        "print(dict(zip(unique, counts)))\n",
        "# Silhouette Score\n",
        "print('Silhouette Score for 8 Clusters')\n",
        "print(silhouette_score(data_normalized,pred_kmeans))\n",
        "print(\"\\n\")\n",
        "\n",
        "# In the above output we got value labels: ‘0’, ‘1’\n",
        "\n",
        "# Inference :   \n",
        "# Silhouette Score = 0.91 which is great (should be tend to 1)"
      ],
      "execution_count": null,
      "outputs": [
        {
          "output_type": "stream",
          "name": "stdout",
          "text": [
            "K Means Output Cluster Frequency\n",
            "{0: 15618, 1: 2795, 2: 5878}\n",
            "Silhouette Score for 8 Clusters\n",
            "0.27894463003339465\n",
            "\n",
            "\n"
          ]
        }
      ]
    },
    {
      "cell_type": "code",
      "metadata": {
        "colab": {
          "base_uri": "https://localhost:8080/"
        },
        "id": "M5trhgeeHdwk",
        "outputId": "19eea4e4-efe8-4868-b022-0c36891ee338"
      },
      "source": [
        "# If we take 4 Cluster to Check Silhouetter Score\n",
        "cluster_Kmeans = KMeans(n_clusters=3)\n",
        "model_kmeans = cluster_Kmeans.fit(data_normalized)\n",
        "labels_1 = model_kmeans.labels_\n",
        "print(\"Silhouette Score for 3 Cluster\")\n",
        "print(silhouette_score(data_normalized,labels_1))\n",
        "\n",
        "# Inference : \n",
        "# As we can observe Score is 0.29 (decrease so reject 3 Cluster)\n",
        "# Optimal number of cluster=2 as its silhouette score is greater than that of 3 clusters"
      ],
      "execution_count": null,
      "outputs": [
        {
          "output_type": "stream",
          "name": "stdout",
          "text": [
            "Silhouette Score for 3 Cluster\n",
            "0.29355198034137153\n"
          ]
        }
      ]
    },
    {
      "cell_type": "markdown",
      "metadata": {
        "id": "YMFr8HnOLWz5"
      },
      "source": [
        "#### Hierarchial Clustering"
      ]
    },
    {
      "cell_type": "code",
      "metadata": {
        "id": "qH5JUeFzLFbj"
      },
      "source": [
        "# Hierarchical Clustering \n",
        "\n",
        "# Agglomerative Clustering which is a method of clustering \n",
        "# which builds a hierarchy of clusters by merging together small clusters\n",
        "\n",
        "# Silhouette Score\n",
        "# Clusters are well apart from each other as the silhouette score is closer to 1\n",
        "# Silhouette Coefficient score is a metric used to calculate the goodness of a clustering technique \n",
        "# Its value ranges from -1 to 1.\n",
        "# 1: Means clusters are well apart from each other and clearly distinguished.\n",
        "# 0: Means clusters are indifferent, or we can say that the distance between clusters is not significant.\n",
        "# -1: Means clusters are assigned in the wrong way.\n",
        "\n",
        "# Importing Libraries\n",
        "\n",
        "from sklearn.cluster import AgglomerativeClustering\n",
        "from sklearn.metrics import silhouette_score\n"
      ],
      "execution_count": null,
      "outputs": []
    },
    {
      "cell_type": "code",
      "metadata": {
        "id": "PV-80u_YLtq_"
      },
      "source": [
        "# Plotting of Dendrogram\n",
        "\n",
        "# We make use of dendrogram to decide the number of clusters required for our dataset\n",
        "# A dendrogram is a tree diagram which illustrates the arrangement of clusters.\n",
        "import scipy.cluster.hierarchy as sch\n",
        "import os\n",
        "# We finally plot a Dendrogram \n",
        "# which helps us in deciding what the threshold values should be for the clustering algorithm\n",
        "# Basically, we decide the number of clusters by using this dendrogram.\n",
        "path = f\"plots-similarity\"\n",
        "if not os.path.exists(path):\n",
        "    # https://appdividend.com/2021/07/03/how-to-create-directory-if-not-exist-in-python/\n",
        "    # Create a new directory\n",
        "    os.makedirs(path)\n",
        "    print(f\"{path} directory is created\")\n",
        "Z = sch.linkage(data_normalized, method = 'median')\n",
        "plt.figure(figsize=(20,7))\n",
        "den = sch.dendrogram(Z)\n",
        "plt.title('Dendrogram for the clustering of the data')\n",
        "plt.xlabel('Type')\n",
        "plt.ylabel('Euclidean distance in the space with other variables')\n",
        "plt.savefig(f\"{path}/Dendrogram for the clustering of the data (median).pdf\", dpi = 150)\n",
        "plt.show()"
      ],
      "execution_count": null,
      "outputs": []
    },
    {
      "cell_type": "code",
      "metadata": {
        "id": "OvHsqqeWPZfl"
      },
      "source": [
        "# Single Linkage - Nearest Point\n",
        "\n",
        "Z = sch.linkage(data_normalized, method = 'single')\n",
        "plt.figure(figsize=(20,7))\n",
        "den = sch.dendrogram(Z)\n",
        "plt.title('Dendrogram for the clustering of the data')\n",
        "plt.xlabel('Type')\n",
        "plt.ylabel('Euclidean distance in the space with other variables')\n",
        "plt.savefig(f\"{path}/Dendrogram for the clustering of the data (single linkage - nearest point).pdf\", dpi = 150)\n",
        "plt.show()"
      ],
      "execution_count": null,
      "outputs": []
    },
    {
      "cell_type": "code",
      "metadata": {
        "id": "A4pITkRoPhb_"
      },
      "source": [
        "# Complete Linkage - Farthest Point \n",
        "\n",
        "Z = sch.linkage(iris_X_1, method = 'complete')\n",
        "plt.figure(figsize=(20,7))\n",
        "den = sch.dendrogram(Z)\n",
        "plt.title('Dendrogram for the clustering of the dataset iris)')\n",
        "plt.xlabel('Type')\n",
        "plt.ylabel('Euclidean distance in the space with other variables')\n",
        "plt.savefig(f\"{path}/Dendrogram for the clustering of the data (complete linkage - farthest point).pdf\", dpi = 150)\n",
        "plt.show()"
      ],
      "execution_count": null,
      "outputs": []
    },
    {
      "cell_type": "code",
      "metadata": {
        "id": "HxOFuf5zQubY"
      },
      "source": [
        "# Average Linkage - Average Distance between all points\n",
        "\n",
        "Z = sch.linkage(iris_X_1, method = 'average')\n",
        "plt.figure(figsize=(20,7))\n",
        "den = sch.dendrogram(Z)\n",
        "plt.title('Dendrogram for the clustering of the dataset iris)')\n",
        "plt.xlabel('Type')\n",
        "plt.ylabel('Euclidean distance in the space with other variables')\n",
        "plt.savefig(f\"{path}/Dendrogram for the clustering of the data (average linkage).pdf\", dpi = 150)\n",
        "plt.show()"
      ],
      "execution_count": null,
      "outputs": []
    },
    {
      "cell_type": "code",
      "metadata": {
        "colab": {
          "base_uri": "https://localhost:8080/"
        },
        "id": "2zj9ZC0tQ9OB",
        "outputId": "6d8a148a-0137-46c1-ee9d-9ae493138d13"
      },
      "source": [
        "# Building an Agglomerative Clustering Model\n",
        "# Initialise Model\n",
        "# We analyse the above-created dendrogram \n",
        "# decide that we will be making 2 clusters for this data\n",
        "\n",
        "cluster_H = AgglomerativeClustering(n_clusters=2)\n",
        "cluster_H"
      ],
      "execution_count": null,
      "outputs": [
        {
          "output_type": "execute_result",
          "data": {
            "text/plain": [
              "AgglomerativeClustering(affinity='euclidean', compute_full_tree='auto',\n",
              "                        connectivity=None, distance_threshold=None,\n",
              "                        linkage='ward', memory=None, n_clusters=2)"
            ]
          },
          "metadata": {},
          "execution_count": 22
        }
      ]
    },
    {
      "cell_type": "code",
      "metadata": {
        "id": "9MHBIWsSRC2y"
      },
      "source": [
        "# Fitting Model\n",
        "# After building Agglomerative clustering, we will fit our data \n",
        "# Note that only the independent variables from the data \n",
        "# are taken into account for the purpose of clustering\n",
        "\n",
        "model_clt = cluster_H.fit(data_normalized)\n",
        "model_clt"
      ],
      "execution_count": null,
      "outputs": []
    },
    {
      "cell_type": "code",
      "metadata": {
        "id": "xeK_wKw9RKCx"
      },
      "source": [
        "# Predicting Output Class\n",
        "\n",
        "print('Output Clusters are')\n",
        "pred1 = model_clt.labels_\n",
        "print(pred1)\n",
        "# Frequency count of the Output clusters\n",
        "unique, counts = np.unique(pred1, return_counts=True)\n",
        "print(dict(zip(unique, counts)))"
      ],
      "execution_count": null,
      "outputs": []
    },
    {
      "cell_type": "code",
      "metadata": {
        "id": "n6BZvGrqRO9-"
      },
      "source": [
        "print('Hierarchical Clustering Output Cluster')\n",
        "print(dict(zip(unique, counts)))\n",
        "# Silhouette Score\n",
        "print('Silhouette Score for 2 Clusters')\n",
        "print(silhouette_score(data_normalized,pred1))\n",
        "print('\\n')\n",
        "\n"
      ],
      "execution_count": null,
      "outputs": []
    },
    {
      "cell_type": "markdown",
      "metadata": {
        "id": "dF-OVlo1SuLp"
      },
      "source": [
        "#### DBSCAN Clustering"
      ]
    },
    {
      "cell_type": "code",
      "metadata": {
        "id": "e5KtfrQDStDP"
      },
      "source": [
        "# DBSCAN\n",
        "\n",
        "# Density-based spatial clustering of applications with noise, or DBSCAN \n",
        "# It is a popular clustering algorithm used as a replacement for k-means clustering\n",
        "# To run it doesn’t require an input for the number of clusters \n",
        "# But DBSCAN does need to tune two other parameters\n",
        "# 'eps' parameter is the maximum distance between two data points \n",
        "# to be considered in the same neighborhood. \n",
        "# 'min_samples' parameter is the minimum amount of data points \n",
        "# in a neighborhood to be considered a cluster\n",
        "\n",
        "# Silhouette Score\n",
        "# Clusters are well apart from each other as the silhouette score is closer to 1\n",
        "# Silhouette Coefficient score is a metric used to calculate the goodness of a clustering technique \n",
        "# Its value ranges from -1 to 1.\n",
        "# 1: Means clusters are well apart from each other and clearly distinguished.\n",
        "# 0: Means clusters are indifferent, or we can say that the distance between clusters is not significant.\n",
        "# -1: Means clusters are assigned in the wrong way.\n",
        "\n",
        "from sklearn.cluster import DBSCAN"
      ],
      "execution_count": null,
      "outputs": []
    },
    {
      "cell_type": "code",
      "metadata": {
        "colab": {
          "base_uri": "https://localhost:8080/"
        },
        "id": "wvw7DhVNS-yQ",
        "outputId": "833697e4-839a-4b6f-c1aa-058c2b1016d2"
      },
      "source": [
        "# DBSCAN Clustering\n",
        "\n",
        "# Declaring Model\n",
        "clt_DB = DBSCAN()\n",
        "\n",
        "# By Default Parameters in dbscan\n",
        "clt_DB\n",
        "\n",
        "# Inference :\n",
        "# By Default \n",
        "# eps = 0.5, if we increase this size of cluster will increase\n",
        "# distance metric = euclidean\n",
        "# min_samples = 5"
      ],
      "execution_count": null,
      "outputs": [
        {
          "output_type": "execute_result",
          "data": {
            "text/plain": [
              "DBSCAN(algorithm='auto', eps=0.5, leaf_size=30, metric='euclidean',\n",
              "       metric_params=None, min_samples=5, n_jobs=None, p=None)"
            ]
          },
          "metadata": {},
          "execution_count": 7
        }
      ]
    },
    {
      "cell_type": "code",
      "metadata": {
        "id": "MujPpSykT1Oi"
      },
      "source": [
        "# Fitting the model\n",
        "model_dbscan = clt_DB.fit(data_normalized)\n",
        "pred_dbscan = model_dbscan.labels_\n",
        "print(\"DBScan Output Cluster v1\")\n",
        "# print(pred_dbscan)\n"
      ],
      "execution_count": null,
      "outputs": []
    },
    {
      "cell_type": "code",
      "metadata": {
        "id": "Ghcmdag2UI-6"
      },
      "source": [
        "#Frequency count of the Output clusters\n",
        "unique, counts = np.unique(pred_dbscan, return_counts=True)\n",
        "freq_1 = dict(zip(unique, counts))\n",
        "print(\"Frequency of DBScan Output Cluster v1\")\n",
        "print(freq_1)"
      ],
      "execution_count": null,
      "outputs": []
    },
    {
      "cell_type": "code",
      "metadata": {
        "id": "ZVVdv6z2USvg"
      },
      "source": [
        "# Optimize value of eps through Elbow Method\n",
        "\n",
        "# eps is the maximum distance between two points. \n",
        "# It is this distance that the algorithm uses to decide on whether to club the two points together\n",
        "# We will make use of the average distances of every point to its k nearest neighbors\n",
        "# These k distances are then plotted in ascending order\n",
        "# The point where you see an elbow like bend corresponds to the optimal *eps* value\n",
        "# At that point, a sharp change in the distance occurs, and thus this point serves as a threshold\n",
        "\n",
        "#! pip install rpy2\n",
        "%reload_ext rpy2.ipython"
      ],
      "execution_count": null,
      "outputs": []
    },
    {
      "cell_type": "code",
      "metadata": {
        "id": "QEbsA1GLUoAI"
      },
      "source": [
        "%%R\n",
        "#install.packages('dbscan')\n",
        "library(dbscan)\n",
        "data(iris)\n",
        "iris <- as.matrix(iris[,1:4])\n",
        "dbscan::kNNdistplot(iris[, -c(5,4,3)], k =  4)\n",
        "\n",
        "# Inference : \n",
        "# It looks like 0.42 is the optimal value for eps\n",
        "abline(h = 0.42, lty = 2)"
      ],
      "execution_count": null,
      "outputs": []
    },
    {
      "cell_type": "code",
      "metadata": {
        "id": "ZJ3jAcI3VfD6"
      },
      "source": [
        "# Now updating value of eps = 0.42\n",
        "\n",
        "clt_DB = DBSCAN(eps=0.42)\n",
        "model_dbscan = clt_DB.fit(data_normalized)\n",
        "pred_dbscan = model_dbscan.labels_\n",
        "\n",
        "# Frequency count of the Output clusters\n",
        "unique, counts = np.unique(pred_dbscan, return_counts=True)\n",
        "print('DBScan Output Cluster v2')\n",
        "print(dict(zip(unique, counts)))\n",
        "# Silhouette Score\n",
        "print('Silhouette Score for 2 Clusters')\n",
        "print(silhouette_score(data_normalized,pred_dbscan))\n",
        "\n",
        "print('\\n')\n",
        "\n",
        "# Inference : \n",
        "# In DBScan Cluster output Version 1,one class was missing i.e, no '2' class \n",
        "# But in DBScan New Output Cluster Version 2, distribution is much better\n",
        "# So we should check and set parameters correctly i.e, eps\n",
        "# All which are not classified in any Cluster are classified as OUTLIER\n",
        "# Silhouette Score is 0.35 which is too less"
      ],
      "execution_count": null,
      "outputs": []
    },
    {
      "cell_type": "markdown",
      "metadata": {
        "id": "vEbEP5LDVwTz"
      },
      "source": [
        "#### Gaussian Mixture Model"
      ]
    },
    {
      "cell_type": "code",
      "metadata": {
        "id": "jsWkbGAQVvja"
      },
      "source": [
        "# Gaussian Mixture Model\n",
        "\n",
        "# Gaussian Mixture Models are probabilistic models\n",
        "# It use the soft clustering approach for distributing the points in different clusters\n",
        "# Gaussian Mixture Models (GMMs) assume that there are a certain number of Gaussian distributions, \n",
        "# and each of these distributions represent a cluster.\n",
        "# Hence, a Gaussian Mixture Model tends to group the data points belonging to a single distribution together.\n",
        "\n",
        "# Silhouette Score\n",
        "# Clusters are well apart from each other as the silhouette score is closer to 1\n",
        "# Silhouette Coefficient score is a metric used to calculate the goodness of a clustering technique \n",
        "# Its value ranges from -1 to 1.\n",
        "# 1: Means clusters are well apart from each other and clearly distinguished.\n",
        "# 0: Means clusters are indifferent, or we can say that the distance between clusters is not significant.\n",
        "# -1: Means clusters are assigned in the wrong way.\n",
        "\n",
        "from sklearn.metrics import silhouette_score\n",
        "# Gaussian Mixture Model\n",
        "from sklearn.mixture import GaussianMixture\n",
        "\n"
      ],
      "execution_count": null,
      "outputs": []
    },
    {
      "cell_type": "code",
      "metadata": {
        "colab": {
          "base_uri": "https://localhost:8080/"
        },
        "id": "r6-TKahYWDzz",
        "outputId": "edc417a2-0b82-4c00-9628-99368678ffc1"
      },
      "source": [
        "gmm = GaussianMixture(n_components=2)\n",
        "model_gmm = gmm.fit(data_normalized)\n",
        "model_gmm"
      ],
      "execution_count": null,
      "outputs": [
        {
          "output_type": "execute_result",
          "data": {
            "text/plain": [
              "GaussianMixture(covariance_type='full', init_params='kmeans', max_iter=100,\n",
              "                means_init=None, n_components=2, n_init=1, precisions_init=None,\n",
              "                random_state=None, reg_covar=1e-06, tol=0.001, verbose=0,\n",
              "                verbose_interval=10, warm_start=False, weights_init=None)"
            ]
          },
          "metadata": {},
          "execution_count": 16
        }
      ]
    },
    {
      "cell_type": "code",
      "metadata": {
        "colab": {
          "base_uri": "https://localhost:8080/"
        },
        "id": "kO4A2az-WDb9",
        "outputId": "094c756c-d38a-4ea7-ebff-93e5211afa81"
      },
      "source": [
        "# GMM Output\n",
        "labels = model_gmm.predict(data_normalized)\n",
        "print(\"Gaussian Output Clusters\")\n",
        "# print(labels)\n",
        "unique, counts = np.unique(labels, return_counts=True)\n",
        "pred_2 = dict(zip(unique, counts))\n",
        "print(\"Frequency of Gaussian Output Cluster\")\n",
        "print(pred_2)"
      ],
      "execution_count": null,
      "outputs": [
        {
          "output_type": "stream",
          "name": "stdout",
          "text": [
            "Gaussian Output Clusters\n",
            "Frequency of Gaussian Output Cluster\n",
            "{0: 41935, 1: 2584}\n"
          ]
        }
      ]
    },
    {
      "cell_type": "code",
      "metadata": {
        "colab": {
          "base_uri": "https://localhost:8080/"
        },
        "id": "FplNlKFJWMwP",
        "outputId": "f7c9b265-41b9-4a96-b727-961777dca2d7"
      },
      "source": [
        "# Frequency count of the Output clusters\n",
        "unique, counts = np.unique(labels, return_counts=True)\n",
        "print('GaussianMixture Output Cluster Frequency')\n",
        "print(dict(zip(unique, counts)))\n",
        "# Silhouette Score\n",
        "print('Silhouette Score for 2 Clusters')\n",
        "print(silhouette_score(data_normalized,labels))\n",
        "print('\\n')"
      ],
      "execution_count": null,
      "outputs": [
        {
          "output_type": "stream",
          "name": "stdout",
          "text": [
            "GaussianMixture Output Cluster Frequency\n",
            "{0: 41935, 1: 2584}\n",
            "Silhouette Score for 2 Clusters\n",
            "0.9263142588077031\n",
            "\n",
            "\n"
          ]
        }
      ]
    },
    {
      "cell_type": "markdown",
      "metadata": {
        "id": "MYV-gs5ziCg8"
      },
      "source": [
        "# [Similarity Measures and Dimensionality Reduction Techniques for Time Series Data Mining](https://www.intechopen.com/chapters/39030)\n",
        "\n",
        "Salient points:\n",
        "- Lower bound effect\n",
        "- DTW\n",
        "- SVD\n",
        "- PLA\n",
        "- CHEB\n",
        "- SAX\n",
        "- PAA\n",
        "\n",
        "Other points:  \n",
        "* Motif Discovery\n",
        "* GEMINI (Generic Multimedia Indexity)\n",
        "\n",
        "**Dynamic Time Warping**\n",
        "\n",
        "**Longest Common Subsequence (LCSS) similarity measure**\n",
        "\n",
        "**Dimensionality Reduction Techniques**\n",
        "- DFT\n",
        "- DWT\n",
        "- SVD\n",
        "- PAA\n",
        "- APCA\n",
        "- PLA\n",
        "- Chebyshev Polynomial approximations.\n",
        "- SAX\n",
        "\n"
      ]
    },
    {
      "cell_type": "markdown",
      "metadata": {
        "id": "i_oESKqElmfU"
      },
      "source": [
        "## [Time Series Similarity Using Dynamic Time Warping -Explained](https://medium.com/walmartglobaltech/time-series-similarity-using-dynamic-time-warping-explained-9d09119e48ec) \n",
        "\n",
        "* Cost Matrix, M\n",
        "* Time Normalized Distance, D\n",
        "\n",
        "**Libraries**\n",
        "- [dtw-python](https://pypi.org/project/dtw-python/)\n",
        "- [dtw](https://pypi.org/project/dtw/)\n",
        "\n",
        "**Faster Implementations**\n",
        "- [PrunedDTW](http://sites.labic.icmc.usp.br/prunedDTW/)\n",
        "- [SparseDTW](https://arxiv.org/abs/1201.2969)\n",
        "- [FastDTW](https://cs.fit.edu/~pkc/papers/tdm04.pdf)\n",
        "- [MultiscaleDTW](https://www.researchgate.net/publication/334413562_Iterative_Multiscale_Dynamic_Time_Warping_IMs-DTW_A_tool_for_rainfall_time_series_comparison) \n",
        "\n"
      ]
    },
    {
      "cell_type": "code",
      "metadata": {
        "id": "kczoUmWZWSDi"
      },
      "source": [
        ""
      ],
      "execution_count": null,
      "outputs": []
    },
    {
      "cell_type": "markdown",
      "metadata": {
        "id": "kYItHghUnjBn"
      },
      "source": [
        "## [Dynamic Time Warping](https://medium.datadriveninvestor.com/dynamic-time-warping-dtw-d51d1a1e4afc) \n",
        "\n",
        "* Dynamic Time Warping (DTW) is one of the algorithms for measuring the similarity between two temporal time series sequences, which may vary in speed.\n",
        "\n",
        "* DTW gives a non-linear (elastic) alignment between two-time series. Simply, it looks for the best alignment between the two-time series. This produces a more intuitive similarity measure, allowing similar shapes to match even if they are out of phase in the time axis.\n",
        "\n",
        "* The basis of DTW is found on the computations of distance /confusion matrix between two-time series. It can be shown in the below figure (a). \n",
        "\n",
        "![image text](https://miro.medium.com/max/700/1*xC66E1ENK6HO2Z_FRFv25A.png \"Image Title\")\n",
        "\n",
        "* Warping Function: \n",
        "\n",
        "![Warping Function](https://miro.medium.com/max/441/1*2KNMT_Oezrcxbonc_QDrUg.png) \n",
        "\n",
        "```\n",
        "P = p1,…,ps,…,pk\n",
        "ps = (is,js)\n",
        "which minimizes the total distance between them.\n",
        "\n",
        "Here `P` is called a `Warping Function`.\n",
        "```\n",
        "\n",
        "**Time-Normalized Distance Measure**\n",
        "\n",
        "* Time-normalized distance between A and B is given by:\n",
        "\n",
        "![Time-Normalized Distance Measure](https://miro.medium.com/max/377/1*-_s3AWfIf43aFfNGAC7xUQ.png)\n",
        "\n",
        "```\n",
        "where;\n",
        "d(ps): distance between is and js \n",
        "ws > 0:weighting coefficient\n",
        "Best alignment path between A and B: Po=arg(p)min(D(A,B)).\n",
        "```\n",
        "\n",
        "**Boundary Conditions**\n",
        "\n",
        "```\n",
        " i1= 1, ik =n and j1 = 1, jk = m\n",
        " ```\n",
        "\n",
        " **Warping Window**\n",
        "\n",
        " ```\n",
        " |is–js|≤ r, where r > 0 is the window length.\n",
        " ```\n",
        "\n",
        " ![Warping Window](https://miro.medium.com/max/335/1*RCKFYyqNWWxLcDYtg-rjEg.png)\n",
        "\n",
        " \n"
      ]
    },
    {
      "cell_type": "code",
      "metadata": {
        "id": "P5H_WDt1rXvQ"
      },
      "source": [
        ""
      ],
      "execution_count": null,
      "outputs": []
    },
    {
      "cell_type": "markdown",
      "metadata": {
        "id": "waPkeyEGnXi2"
      },
      "source": [
        "## [Databricks | Part 1: Understanding Dynamic Time Warping](https://databricks.com/blog/2019/04/30/understanding-dynamic-time-warping.html) \n",
        "\n",
        "* Two-time series (the base time series and new time series) are considered similar when it is possible to map with function f(x) according to the following rules so as to match the magnitudes using an optimal (warping) path.\n",
        "\n",
        "![Two-time series similarity](https://databricks.com/wp-content/uploads/2019/04/dtw-rules-formula.png)\n",
        "\n",
        "\n"
      ]
    },
    {
      "cell_type": "markdown",
      "metadata": {
        "id": "e9HhUZDM3Gmp"
      },
      "source": [
        "## [Databricks | Part 2: Understanding Dynamic Time Warping](https://databricks.com/blog/2019/04/30/using-dynamic-time-warping-and-mlflow-to-detect-sales-trends.html) "
      ]
    },
    {
      "cell_type": "markdown",
      "metadata": {
        "id": "NeeQzdWuuW7o"
      },
      "source": [
        "## Code references\n",
        "\n",
        "* https://github.com/statefb/dtwalign\n",
        "* https://github.com/PeteWe/ts_similarity_tensorflow/blob/master/SoftDTWTF.py\n",
        "* https://github.com/holgerteichgraeber/TimeSeriesClustering.jl\n",
        "* https://github.com/divyashan/time_series\n",
        "* https://github.com/aditya1709/DTW_kmedoids/blob/master/K_mediods_DTW.py \n",
        "* https://github.com/npschafer/MTS-DA\n",
        "* https://github.com/DynamicTimeWarping/dtw-python\n",
        "* https://github.com/akyadav26/Time-Series-Forecast-with-Deep-Hybrid-Architecture \n",
        "* https://github.com/DavideNardone/MTSS-Multivariate-Time-Series-Software\n"
      ]
    },
    {
      "cell_type": "code",
      "metadata": {
        "id": "Uc6GzEbrunkF"
      },
      "source": [
        ""
      ],
      "execution_count": null,
      "outputs": []
    },
    {
      "cell_type": "markdown",
      "metadata": {
        "id": "j8uvraNawTTL"
      },
      "source": [
        "## Code for DTW on Stock data\n",
        "\n",
        "[Guide for dtw-python](https://dynamictimewarping.github.io/python/) \n"
      ]
    },
    {
      "cell_type": "code",
      "metadata": {
        "colab": {
          "base_uri": "https://localhost:8080/"
        },
        "id": "tOzuYSItyn3J",
        "outputId": "260b805a-7c7b-4b60-8e96-bb285955f31c"
      },
      "source": [
        "!pip install dtw-python"
      ],
      "execution_count": null,
      "outputs": [
        {
          "output_type": "stream",
          "name": "stdout",
          "text": [
            "Requirement already satisfied: dtw-python in /usr/local/lib/python3.7/dist-packages (1.1.10)\n",
            "Requirement already satisfied: scipy>=1.1 in /usr/local/lib/python3.7/dist-packages (from dtw-python) (1.4.1)\n",
            "Requirement already satisfied: numpy>=1.19 in /usr/local/lib/python3.7/dist-packages (from dtw-python) (1.19.5)\n"
          ]
        }
      ]
    },
    {
      "cell_type": "code",
      "metadata": {
        "colab": {
          "base_uri": "https://localhost:8080/"
        },
        "id": "uDIr1_tK0spy",
        "outputId": "b614fd21-8c9e-42ad-c525-88355a390b5c"
      },
      "source": [
        "# !pip uninstall --yes dtw\n"
      ],
      "execution_count": null,
      "outputs": [
        {
          "output_type": "stream",
          "name": "stdout",
          "text": [
            "Found existing installation: dtw 1.4.0\n",
            "Uninstalling dtw-1.4.0:\n",
            "  Successfully uninstalled dtw-1.4.0\n"
          ]
        }
      ]
    },
    {
      "cell_type": "code",
      "metadata": {
        "colab": {
          "base_uri": "https://localhost:8080/"
        },
        "id": "PQhWJR48wWjP",
        "outputId": "1e750133-03d7-49db-a3f1-a5f06fd19662"
      },
      "source": [
        "# 1. Get Open and Close Price of asset (o, c) for each trading day.\n",
        "# libraries\n",
        "from pandas_datareader import data as pdr\n",
        "import yfinance as yf\n",
        "import os\n",
        "\n",
        "print(f\"Get Open and Close Price of Assets\")\n",
        "def download_raw_stock_data(filepath, tickers, start, end, period = '1d'):\n",
        "    \"\"\"\n",
        "    Download Stock tickers\n",
        "    :Parameters:\n",
        "        filepath: str\n",
        "            path to store the raw data\n",
        "        tickers : str, list\n",
        "            List of tickers to download\n",
        "        period: str\n",
        "            the frequency at which to gather the data; common options would include ‘1d’ (daily), ‘1mo’ (monthly), ‘1y’ (yearly)\n",
        "        start: str\n",
        "            the date to start gathering the data. For example ‘2010–1–1’\n",
        "        end: str\n",
        "            the date to end gathering the data. For example ‘2020–1–25’\n",
        "    \n",
        "    \"\"\"\n",
        "    #define the ticker symbol\n",
        "    tickerSymbol = tickers\n",
        "\n",
        "    #get data on this ticker\n",
        "    tickerData = yf.Ticker(tickerSymbol)\n",
        "\n",
        "    #get the historical prices for this ticker\n",
        "    tickerDf = tickerData.history(period=period, start=start, end=end)\n",
        "    tickerDf.to_csv(filepath)\n",
        "\n",
        "dict_tickers = {\n",
        "    'Apple': 'AAPL',\n",
        "    'Microsoft': 'MSFT',\n",
        "    'Google': 'GOOG',\n",
        "    'Bitcoin': 'BTC-USD',\n",
        "    'Facebook': 'FB',\n",
        "    'Walmart': 'WMT',\n",
        "    'Amazon': 'AMZN',\n",
        "    'CVS': 'CVS',\n",
        "    'Berkshire': 'BRK-B',\n",
        "    'ExxonMobil': 'XOM',\n",
        "    'AtandT': 'T',\n",
        "    'Costco': 'COST',\n",
        "    'Walgreens': 'WBA',\n",
        "    'Kroger': 'KR',\n",
        "    'JPMorgan': 'JPM',\n",
        "    'Verizon': 'VZ',\n",
        "    'FordMotor': 'F',\n",
        "    'GeneralMotors': 'GM',\n",
        "    'Dell': 'DELL',\n",
        "    'BankOfAmerica': 'BAC',\n",
        "    'Target': 'TGT',\n",
        "    'GeneralElectric': 'GE',\n",
        "    'JohnsonandJohnson': 'JNJ',\n",
        "    'Nvidia': 'NVDA',\n",
        "    'Intel': 'INTC',\n",
        "}\n",
        "\n",
        "path = f\"raw-stock-data/data-2000-2021\"\n",
        "if not os.path.exists(path):\n",
        "    # https://appdividend.com/2021/07/03/how-to-create-directory-if-not-exist-in-python/\n",
        "    # Create a new directory\n",
        "    os.makedirs(path)\n",
        "    print(f\"{path} directory is created\")\n",
        "period = '1d'\n",
        "start='2000-1-1'\n",
        "end='2021-8-31'\n",
        "for tickerName, ticker in dict_tickers.items():\n",
        "    tickerName = tickerName\n",
        "    ticker = ticker\n",
        "    filepath = f\"{path}/{tickerName}.csv\"\n",
        "    download_raw_stock_data(filepath, ticker, start, end, period)\n",
        "\n",
        "\n",
        "print('\\n')\n",
        "\n",
        "print(f\"The size of each asset\")\n",
        "import pandas as pd\n",
        "for tickerName in dict_tickers.keys():\n",
        "    df = pd.read_csv(f\"{path}/{tickerName}.csv\")\n",
        "    print(f\"{tickerName} size: {len(df)}\")\n",
        "\n",
        "# 2. Get weekly data.\n",
        "# 3. Transform $d_{i}$ to sequences of lag * len($d_{i}$) length.\n",
        "\n",
        "def stockDataTransformer(filepath):\n",
        "    df = pd.read_csv(filepath)\n",
        "    df.set_index('Date', inplace=True)\n",
        "    df1 = df[['Open', 'Close']].copy()\n",
        "    data = df1.values\n",
        "    n_samples = data.shape[0]//10*10\n",
        "    reshape_number = n_samples*data.shape[1]//10\n",
        "    data1 = data[:n_samples].reshape((reshape_number, 10))\n",
        "    return data1\n",
        "\n",
        "def series_to_supervised(data, n_in=1, n_out=1, dropnan=True):\n",
        "    \"\"\"\n",
        "    Frame a time series as a supervised learning dataset.\n",
        "    Arguments:\n",
        "        data: Sequence of observations as a list or NumPy array.\n",
        "        n_in: Number of lag observations as input (X).\n",
        "        n_out: Number of observations as output (y).\n",
        "        dropnan: Boolean whether or not to drop rows with NaN values.\n",
        "    Returns:\n",
        "        Pandas DataFrame of series framed for supervised learning.\n",
        "    \"\"\"\n",
        "    n_vars = 1 if type(data) is list else data.shape[1]\n",
        "    df = pd.DataFrame(data)\n",
        "    cols, names = list(), list()\n",
        "    # input sequence (t-n, ... t-1)\n",
        "    for i in range(n_in, 0, -1):\n",
        "        cols.append(df.shift(i))\n",
        "        names += [('var%d(t-%d)' % (j+1, i)) for j in range(n_vars)]\n",
        "    # forecast sequence (t, t+1, ... t+n)\n",
        "    for i in range(0, n_out):\n",
        "        cols.append(df.shift(-i))\n",
        "        if i == 0:\n",
        "            names += [('var%d(t)' % (j+1)) for j in range(n_vars)]\n",
        "        else:\n",
        "            names += [('var%d(t+%d)' % (j+1, i)) for j in range(n_vars)]\n",
        "    # put it all together\n",
        "    agg = concat(cols, axis=1)\n",
        "    agg.columns = names\n",
        "    # drop rows with NaN values\n",
        "    if dropnan:\n",
        "        agg.dropna(inplace=True)\n",
        "    return agg\n",
        "\n",
        "from pandas import concat\n",
        "week_sequence = {}\n",
        "lag = 5\n",
        "for tickerName in dict_tickers.keys():\n",
        "    filepath = f\"{path}/{tickerName}.csv\"\n",
        "    # Get the data in the required format\n",
        "    data = stockDataTransformer(filepath)\n",
        "    print(f\"{tickerName} data.shape {data.shape}\")\n",
        "    data_orig = series_to_supervised(data, lag).values\n",
        "    print(f'{tickerName} Data Original after series to supervised on data {data_orig.shape}')\n",
        "    week_sequence[tickerName] = data_orig\n",
        "\n",
        "import numpy as np\n",
        "data = week_sequence['Apple']\n",
        "# 4. Bundle all sequences together\n",
        "for tickerName in week_sequence.keys():\n",
        "    if tickerName != 'Apple':\n",
        "        data1 = week_sequence[tickerName]\n",
        "        data = np.concatenate((data, data1))\n",
        "        print(f\"data.shape {data.shape}\")\n",
        "data_df = pd.DataFrame(data)\n",
        "data_df.to_csv(f\"all_assets_sequences.csv\")\n",
        "\n",
        "# 4. Normalize these sequences to a range (0, 1).\n",
        "from sklearn import preprocessing \n",
        "# https://www.journaldev.com/45109/normalize-data-in-python\n",
        "# Normalizes the sample\n",
        "data_normalized = preprocessing.normalize(data_df)\n",
        "data_normalized_df = pd.DataFrame(data_normalized)\n",
        "data_normalized_df.to_csv(f\"all_assets_sequences_lag{lag+1}_normalized.csv\")"
      ],
      "execution_count": null,
      "outputs": [
        {
          "output_type": "stream",
          "name": "stdout",
          "text": [
            "Get Open and Close Price of Assets\n",
            "\n",
            "\n",
            "The size of each asset\n",
            "Apple size: 5450\n",
            "Microsoft size: 5450\n",
            "Google size: 4288\n",
            "Bitcoin size: 2537\n",
            "Facebook size: 2336\n",
            "Walmart size: 5450\n",
            "Amazon size: 5450\n",
            "CVS size: 5450\n",
            "Berkshire size: 5450\n",
            "ExxonMobil size: 5450\n",
            "AtandT size: 5450\n",
            "Costco size: 5450\n",
            "Walgreens size: 5450\n",
            "Kroger size: 5450\n",
            "JPMorgan size: 5450\n",
            "Verizon size: 5450\n",
            "FordMotor size: 5450\n",
            "GeneralMotors size: 2713\n",
            "Dell size: 1268\n",
            "BankOfAmerica size: 5450\n",
            "Target size: 5450\n",
            "GeneralElectric size: 5450\n",
            "JohnsonandJohnson size: 5450\n",
            "Nvidia size: 5451\n",
            "Intel size: 5450\n",
            "Apple data.shape (1090, 10)\n",
            "Apple Data Original after series to supervised on data (1085, 60)\n",
            "Microsoft data.shape (1090, 10)\n",
            "Microsoft Data Original after series to supervised on data (1085, 60)\n",
            "Google data.shape (856, 10)\n",
            "Google Data Original after series to supervised on data (851, 60)\n",
            "Bitcoin data.shape (506, 10)\n",
            "Bitcoin Data Original after series to supervised on data (501, 60)\n",
            "Facebook data.shape (466, 10)\n",
            "Facebook Data Original after series to supervised on data (461, 60)\n",
            "Walmart data.shape (1090, 10)\n",
            "Walmart Data Original after series to supervised on data (1085, 60)\n",
            "Amazon data.shape (1090, 10)\n",
            "Amazon Data Original after series to supervised on data (1085, 60)\n",
            "CVS data.shape (1090, 10)\n",
            "CVS Data Original after series to supervised on data (1085, 60)\n",
            "Berkshire data.shape (1090, 10)\n",
            "Berkshire Data Original after series to supervised on data (1085, 60)\n",
            "ExxonMobil data.shape (1090, 10)\n",
            "ExxonMobil Data Original after series to supervised on data (1085, 60)\n",
            "AtandT data.shape (1090, 10)\n",
            "AtandT Data Original after series to supervised on data (1085, 60)\n",
            "Costco data.shape (1090, 10)\n",
            "Costco Data Original after series to supervised on data (1085, 60)\n",
            "Walgreens data.shape (1090, 10)\n",
            "Walgreens Data Original after series to supervised on data (1085, 60)\n",
            "Kroger data.shape (1090, 10)\n",
            "Kroger Data Original after series to supervised on data (1085, 60)\n",
            "JPMorgan data.shape (1090, 10)\n",
            "JPMorgan Data Original after series to supervised on data (1085, 60)\n",
            "Verizon data.shape (1090, 10)\n",
            "Verizon Data Original after series to supervised on data (1085, 60)\n",
            "FordMotor data.shape (1090, 10)\n",
            "FordMotor Data Original after series to supervised on data (1085, 60)\n",
            "GeneralMotors data.shape (542, 10)\n",
            "GeneralMotors Data Original after series to supervised on data (537, 60)\n",
            "Dell data.shape (252, 10)\n",
            "Dell Data Original after series to supervised on data (247, 60)\n",
            "BankOfAmerica data.shape (1090, 10)\n",
            "BankOfAmerica Data Original after series to supervised on data (1085, 60)\n",
            "Target data.shape (1090, 10)\n",
            "Target Data Original after series to supervised on data (1085, 60)\n",
            "GeneralElectric data.shape (1090, 10)\n",
            "GeneralElectric Data Original after series to supervised on data (1085, 60)\n",
            "JohnsonandJohnson data.shape (1090, 10)\n",
            "JohnsonandJohnson Data Original after series to supervised on data (1085, 60)\n",
            "Nvidia data.shape (1090, 10)\n",
            "Nvidia Data Original after series to supervised on data (1079, 60)\n",
            "Intel data.shape (1090, 10)\n",
            "Intel Data Original after series to supervised on data (1085, 60)\n",
            "data.shape (2170, 60)\n",
            "data.shape (3021, 60)\n",
            "data.shape (3522, 60)\n",
            "data.shape (3983, 60)\n",
            "data.shape (5068, 60)\n",
            "data.shape (6153, 60)\n",
            "data.shape (7238, 60)\n",
            "data.shape (8323, 60)\n",
            "data.shape (9408, 60)\n",
            "data.shape (10493, 60)\n",
            "data.shape (11578, 60)\n",
            "data.shape (12663, 60)\n",
            "data.shape (13748, 60)\n",
            "data.shape (14833, 60)\n",
            "data.shape (15918, 60)\n",
            "data.shape (17003, 60)\n",
            "data.shape (17540, 60)\n",
            "data.shape (17787, 60)\n",
            "data.shape (18872, 60)\n",
            "data.shape (19957, 60)\n",
            "data.shape (21042, 60)\n",
            "data.shape (22127, 60)\n",
            "data.shape (23206, 60)\n",
            "data.shape (24291, 60)\n"
          ]
        }
      ]
    },
    {
      "cell_type": "code",
      "metadata": {
        "id": "POT0R_IGyIul"
      },
      "source": [
        "p = data_normalized[0, :]\n",
        "q = data_normalized[2500, :]"
      ],
      "execution_count": null,
      "outputs": []
    },
    {
      "cell_type": "code",
      "metadata": {
        "colab": {
          "base_uri": "https://localhost:8080/",
          "height": 1000
        },
        "id": "fw4lO08Rztp_",
        "outputId": "5e6d0489-b02b-459e-a66a-04e09ef194db"
      },
      "source": [
        "## Find the best match with the canonical recursion formula\n",
        "from dtw import *\n",
        "alignment = dtw(p, q, keep_internals=True)\n",
        "\n",
        "## Display the warping curve, i.e. the alignment curve\n",
        "alignment.plot(type=\"threeway\")\n",
        "\n",
        "## Align and plot with the Rabiner-Juang type VI-c unsmoothed recursion\n",
        "dtw(p, q, keep_internals=True, \n",
        "    step_pattern=rabinerJuangStepPattern(6, \"c\"))\\\n",
        "    .plot(type=\"twoway\",offset=-2)\n",
        "\n",
        "## See the recursion relation, as formula and diagram\n",
        "print(rabinerJuangStepPattern(6,\"c\"))\n",
        "rabinerJuangStepPattern(6,\"c\").plot()"
      ],
      "execution_count": null,
      "outputs": [
        {
          "output_type": "stream",
          "name": "stdout",
          "text": [
            "Importing the dtw module. When using in academic works please cite:\n",
            "  T. Giorgino. Computing and Visualizing Dynamic Time Warping Alignments in R: The dtw Package.\n",
            "  J. Stat. Soft., doi:10.18637/jss.v031.i07.\n",
            "\n"
          ]
        },
        {
          "output_type": "display_data",
          "data": {
            "image/png": "[encoded data removed]",
            "text/plain": [
              "<Figure size 432x288 with 3 Axes>"
            ]
          },
          "metadata": {
            "needs_background": "light"
          }
        },
        {
          "output_type": "display_data",
          "data": {
            "image/png": "[encoded data removed]",
            "text/plain": [
              "<Figure size 432x288 with 2 Axes>"
            ]
          },
          "metadata": {
            "needs_background": "light"
          }
        },
        {
          "output_type": "stream",
          "name": "stdout",
          "text": [
            "Step pattern recursion:\n",
            " g[i,j] = min(\n",
            "     g[i-3,j-2] +     d[i-2,j-1] +     d[i-1,j  ] +     d[i  ,j  ] ,\n",
            "     g[i-1,j-1] +     d[i  ,j  ] ,\n",
            "     g[i-2,j-3] +     d[i-1,j-2] +     d[i  ,j-1] + 0 * d[i  ,j  ] ,\n",
            " ) \n",
            "\n",
            "Normalization hint: N\n",
            "\n"
          ]
        },
        {
          "output_type": "display_data",
          "data": {
            "image/png": "[encoded data removed]",
            "text/plain": [
              "<Figure size 432x432 with 1 Axes>"
            ]
          },
          "metadata": {
            "needs_background": "light"
          }
        },
        {
          "output_type": "execute_result",
          "data": {
            "text/plain": [
              "<matplotlib.axes._subplots.AxesSubplot at 0x7f849e9d0290>"
            ]
          },
          "metadata": {},
          "execution_count": 5
        }
      ]
    },
    {
      "cell_type": "code",
      "metadata": {
        "id": "L71gR5qw0iKa"
      },
      "source": [
        ""
      ],
      "execution_count": null,
      "outputs": []
    },
    {
      "cell_type": "markdown",
      "metadata": {
        "id": "On3e-7oQ86ON"
      },
      "source": [
        ""
      ]
    },
    {
      "cell_type": "code",
      "metadata": {
        "id": "dsJ3s4fx-UOr"
      },
      "source": [
        ""
      ],
      "execution_count": null,
      "outputs": []
    },
    {
      "cell_type": "markdown",
      "metadata": {
        "id": "A4oQROgX1zqK"
      },
      "source": [
        "# Rough"
      ]
    },
    {
      "cell_type": "code",
      "metadata": {
        "colab": {
          "base_uri": "https://localhost:8080/"
        },
        "id": "RSgEZxfp11kl",
        "outputId": "b98ecbfd-ef23-49dd-c7df-b26e561c9a38"
      },
      "source": [
        "# https://databricks.com/blog/2019/04/30/understanding-dynamic-time-warping.html\n",
        "# https://pages.databricks.com/rs/094-YMS-629/images/dynamic-time-warping-background.html?_ga=2.108023234.1343331699.1632589542-1320676935.1625150082 \n",
        "!pip install fastdtw"
      ],
      "execution_count": null,
      "outputs": [
        {
          "output_type": "stream",
          "name": "stdout",
          "text": [
            "Requirement already satisfied: fastdtw in /usr/local/lib/python3.7/dist-packages (0.3.4)\n",
            "Requirement already satisfied: numpy in /usr/local/lib/python3.7/dist-packages (from fastdtw) (1.19.5)\n"
          ]
        }
      ]
    },
    {
      "cell_type": "code",
      "metadata": {
        "colab": {
          "base_uri": "https://localhost:8080/"
        },
        "id": "DJ_bCP7u2Ac3",
        "outputId": "7018903f-60e6-462a-f08b-2d3ffd04b2ae"
      },
      "source": [
        "# Distance between p and q\n",
        "from fastdtw import fastdtw\n",
        "distance = fastdtw(p, q)[0]\n",
        "print(f\"The distance between the two clips is {distance}\")"
      ],
      "execution_count": null,
      "outputs": [
        {
          "output_type": "stream",
          "name": "stdout",
          "text": [
            "The distance between the two clips is 0.38544753883647087\n"
          ]
        }
      ]
    },
    {
      "cell_type": "code",
      "metadata": {
        "colab": {
          "base_uri": "https://localhost:8080/",
          "height": 445
        },
        "id": "pwM5SB2R2HvK",
        "outputId": "e2f30514-8004-4751-cf75-9d859bcc4f09"
      },
      "source": [
        "sales_dbfspath = \"Sales_Transactions_Dataset_Weekly.csv\"\n",
        "import pandas as pd\n",
        "\n",
        "# Use Pandas to read this data\n",
        "sales_pdf = pd.read_csv(sales_dbfspath)\n",
        "sales_pdf"
      ],
      "execution_count": null,
      "outputs": [
        {
          "output_type": "execute_result",
          "data": {
            "text/html": [
              "<div>\n",
              "<style scoped>\n",
              "    .dataframe tbody tr th:only-of-type {\n",
              "        vertical-align: middle;\n",
              "    }\n",
              "\n",
              "    .dataframe tbody tr th {\n",
              "        vertical-align: top;\n",
              "    }\n",
              "\n",
              "    .dataframe thead th {\n",
              "        text-align: right;\n",
              "    }\n",
              "</style>\n",
              "<table border=\"1\" class=\"dataframe\">\n",
              "  <thead>\n",
              "    <tr style=\"text-align: right;\">\n",
              "      <th></th>\n",
              "      <th>Product_Code</th>\n",
              "      <th>W0</th>\n",
              "      <th>W1</th>\n",
              "      <th>W2</th>\n",
              "      <th>W3</th>\n",
              "      <th>W4</th>\n",
              "      <th>W5</th>\n",
              "      <th>W6</th>\n",
              "      <th>W7</th>\n",
              "      <th>W8</th>\n",
              "      <th>W9</th>\n",
              "      <th>W10</th>\n",
              "      <th>W11</th>\n",
              "      <th>W12</th>\n",
              "      <th>W13</th>\n",
              "      <th>W14</th>\n",
              "      <th>W15</th>\n",
              "      <th>W16</th>\n",
              "      <th>W17</th>\n",
              "      <th>W18</th>\n",
              "      <th>W19</th>\n",
              "      <th>W20</th>\n",
              "      <th>W21</th>\n",
              "      <th>W22</th>\n",
              "      <th>W23</th>\n",
              "      <th>W24</th>\n",
              "      <th>W25</th>\n",
              "      <th>W26</th>\n",
              "      <th>W27</th>\n",
              "      <th>W28</th>\n",
              "      <th>W29</th>\n",
              "      <th>W30</th>\n",
              "      <th>W31</th>\n",
              "      <th>W32</th>\n",
              "      <th>W33</th>\n",
              "      <th>W34</th>\n",
              "      <th>W35</th>\n",
              "      <th>W36</th>\n",
              "      <th>W37</th>\n",
              "      <th>W38</th>\n",
              "      <th>...</th>\n",
              "      <th>Normalized 12</th>\n",
              "      <th>Normalized 13</th>\n",
              "      <th>Normalized 14</th>\n",
              "      <th>Normalized 15</th>\n",
              "      <th>Normalized 16</th>\n",
              "      <th>Normalized 17</th>\n",
              "      <th>Normalized 18</th>\n",
              "      <th>Normalized 19</th>\n",
              "      <th>Normalized 20</th>\n",
              "      <th>Normalized 21</th>\n",
              "      <th>Normalized 22</th>\n",
              "      <th>Normalized 23</th>\n",
              "      <th>Normalized 24</th>\n",
              "      <th>Normalized 25</th>\n",
              "      <th>Normalized 26</th>\n",
              "      <th>Normalized 27</th>\n",
              "      <th>Normalized 28</th>\n",
              "      <th>Normalized 29</th>\n",
              "      <th>Normalized 30</th>\n",
              "      <th>Normalized 31</th>\n",
              "      <th>Normalized 32</th>\n",
              "      <th>Normalized 33</th>\n",
              "      <th>Normalized 34</th>\n",
              "      <th>Normalized 35</th>\n",
              "      <th>Normalized 36</th>\n",
              "      <th>Normalized 37</th>\n",
              "      <th>Normalized 38</th>\n",
              "      <th>Normalized 39</th>\n",
              "      <th>Normalized 40</th>\n",
              "      <th>Normalized 41</th>\n",
              "      <th>Normalized 42</th>\n",
              "      <th>Normalized 43</th>\n",
              "      <th>Normalized 44</th>\n",
              "      <th>Normalized 45</th>\n",
              "      <th>Normalized 46</th>\n",
              "      <th>Normalized 47</th>\n",
              "      <th>Normalized 48</th>\n",
              "      <th>Normalized 49</th>\n",
              "      <th>Normalized 50</th>\n",
              "      <th>Normalized 51</th>\n",
              "    </tr>\n",
              "  </thead>\n",
              "  <tbody>\n",
              "    <tr>\n",
              "      <th>0</th>\n",
              "      <td>P1</td>\n",
              "      <td>11</td>\n",
              "      <td>12</td>\n",
              "      <td>10</td>\n",
              "      <td>8</td>\n",
              "      <td>13</td>\n",
              "      <td>12</td>\n",
              "      <td>14</td>\n",
              "      <td>21</td>\n",
              "      <td>6</td>\n",
              "      <td>14</td>\n",
              "      <td>11</td>\n",
              "      <td>14</td>\n",
              "      <td>16</td>\n",
              "      <td>9</td>\n",
              "      <td>9</td>\n",
              "      <td>9</td>\n",
              "      <td>14</td>\n",
              "      <td>9</td>\n",
              "      <td>3</td>\n",
              "      <td>12</td>\n",
              "      <td>5</td>\n",
              "      <td>11</td>\n",
              "      <td>7</td>\n",
              "      <td>12</td>\n",
              "      <td>5</td>\n",
              "      <td>9</td>\n",
              "      <td>7</td>\n",
              "      <td>10</td>\n",
              "      <td>5</td>\n",
              "      <td>11</td>\n",
              "      <td>7</td>\n",
              "      <td>10</td>\n",
              "      <td>12</td>\n",
              "      <td>6</td>\n",
              "      <td>5</td>\n",
              "      <td>14</td>\n",
              "      <td>10</td>\n",
              "      <td>9</td>\n",
              "      <td>12</td>\n",
              "      <td>...</td>\n",
              "      <td>0.72</td>\n",
              "      <td>0.33</td>\n",
              "      <td>0.33</td>\n",
              "      <td>0.33</td>\n",
              "      <td>0.61</td>\n",
              "      <td>0.33</td>\n",
              "      <td>0.00</td>\n",
              "      <td>0.50</td>\n",
              "      <td>0.11</td>\n",
              "      <td>0.44</td>\n",
              "      <td>0.22</td>\n",
              "      <td>0.50</td>\n",
              "      <td>0.11</td>\n",
              "      <td>0.33</td>\n",
              "      <td>0.22</td>\n",
              "      <td>0.39</td>\n",
              "      <td>0.11</td>\n",
              "      <td>0.44</td>\n",
              "      <td>0.22</td>\n",
              "      <td>0.39</td>\n",
              "      <td>0.50</td>\n",
              "      <td>0.17</td>\n",
              "      <td>0.11</td>\n",
              "      <td>0.61</td>\n",
              "      <td>0.39</td>\n",
              "      <td>0.33</td>\n",
              "      <td>0.50</td>\n",
              "      <td>0.78</td>\n",
              "      <td>0.22</td>\n",
              "      <td>0.44</td>\n",
              "      <td>0.06</td>\n",
              "      <td>0.22</td>\n",
              "      <td>0.28</td>\n",
              "      <td>0.39</td>\n",
              "      <td>0.50</td>\n",
              "      <td>0.00</td>\n",
              "      <td>0.22</td>\n",
              "      <td>0.17</td>\n",
              "      <td>0.11</td>\n",
              "      <td>0.39</td>\n",
              "    </tr>\n",
              "    <tr>\n",
              "      <th>1</th>\n",
              "      <td>P2</td>\n",
              "      <td>7</td>\n",
              "      <td>6</td>\n",
              "      <td>3</td>\n",
              "      <td>2</td>\n",
              "      <td>7</td>\n",
              "      <td>1</td>\n",
              "      <td>6</td>\n",
              "      <td>3</td>\n",
              "      <td>3</td>\n",
              "      <td>3</td>\n",
              "      <td>2</td>\n",
              "      <td>2</td>\n",
              "      <td>6</td>\n",
              "      <td>2</td>\n",
              "      <td>0</td>\n",
              "      <td>6</td>\n",
              "      <td>2</td>\n",
              "      <td>7</td>\n",
              "      <td>7</td>\n",
              "      <td>9</td>\n",
              "      <td>4</td>\n",
              "      <td>7</td>\n",
              "      <td>2</td>\n",
              "      <td>4</td>\n",
              "      <td>5</td>\n",
              "      <td>3</td>\n",
              "      <td>5</td>\n",
              "      <td>8</td>\n",
              "      <td>5</td>\n",
              "      <td>5</td>\n",
              "      <td>3</td>\n",
              "      <td>1</td>\n",
              "      <td>3</td>\n",
              "      <td>2</td>\n",
              "      <td>3</td>\n",
              "      <td>10</td>\n",
              "      <td>5</td>\n",
              "      <td>2</td>\n",
              "      <td>7</td>\n",
              "      <td>...</td>\n",
              "      <td>0.60</td>\n",
              "      <td>0.20</td>\n",
              "      <td>0.00</td>\n",
              "      <td>0.60</td>\n",
              "      <td>0.20</td>\n",
              "      <td>0.70</td>\n",
              "      <td>0.70</td>\n",
              "      <td>0.90</td>\n",
              "      <td>0.40</td>\n",
              "      <td>0.70</td>\n",
              "      <td>0.20</td>\n",
              "      <td>0.40</td>\n",
              "      <td>0.50</td>\n",
              "      <td>0.30</td>\n",
              "      <td>0.50</td>\n",
              "      <td>0.80</td>\n",
              "      <td>0.50</td>\n",
              "      <td>0.50</td>\n",
              "      <td>0.30</td>\n",
              "      <td>0.10</td>\n",
              "      <td>0.30</td>\n",
              "      <td>0.20</td>\n",
              "      <td>0.30</td>\n",
              "      <td>1.00</td>\n",
              "      <td>0.50</td>\n",
              "      <td>0.20</td>\n",
              "      <td>0.70</td>\n",
              "      <td>0.30</td>\n",
              "      <td>0.20</td>\n",
              "      <td>0.50</td>\n",
              "      <td>0.20</td>\n",
              "      <td>0.40</td>\n",
              "      <td>0.50</td>\n",
              "      <td>0.10</td>\n",
              "      <td>0.10</td>\n",
              "      <td>0.40</td>\n",
              "      <td>0.50</td>\n",
              "      <td>0.10</td>\n",
              "      <td>0.60</td>\n",
              "      <td>0.00</td>\n",
              "    </tr>\n",
              "    <tr>\n",
              "      <th>2</th>\n",
              "      <td>P3</td>\n",
              "      <td>7</td>\n",
              "      <td>11</td>\n",
              "      <td>8</td>\n",
              "      <td>9</td>\n",
              "      <td>10</td>\n",
              "      <td>8</td>\n",
              "      <td>7</td>\n",
              "      <td>13</td>\n",
              "      <td>12</td>\n",
              "      <td>6</td>\n",
              "      <td>14</td>\n",
              "      <td>9</td>\n",
              "      <td>4</td>\n",
              "      <td>7</td>\n",
              "      <td>12</td>\n",
              "      <td>8</td>\n",
              "      <td>7</td>\n",
              "      <td>11</td>\n",
              "      <td>10</td>\n",
              "      <td>7</td>\n",
              "      <td>7</td>\n",
              "      <td>13</td>\n",
              "      <td>11</td>\n",
              "      <td>8</td>\n",
              "      <td>10</td>\n",
              "      <td>8</td>\n",
              "      <td>14</td>\n",
              "      <td>5</td>\n",
              "      <td>3</td>\n",
              "      <td>13</td>\n",
              "      <td>11</td>\n",
              "      <td>9</td>\n",
              "      <td>7</td>\n",
              "      <td>8</td>\n",
              "      <td>7</td>\n",
              "      <td>9</td>\n",
              "      <td>6</td>\n",
              "      <td>12</td>\n",
              "      <td>12</td>\n",
              "      <td>...</td>\n",
              "      <td>0.09</td>\n",
              "      <td>0.36</td>\n",
              "      <td>0.82</td>\n",
              "      <td>0.45</td>\n",
              "      <td>0.36</td>\n",
              "      <td>0.73</td>\n",
              "      <td>0.64</td>\n",
              "      <td>0.36</td>\n",
              "      <td>0.36</td>\n",
              "      <td>0.91</td>\n",
              "      <td>0.73</td>\n",
              "      <td>0.45</td>\n",
              "      <td>0.64</td>\n",
              "      <td>0.45</td>\n",
              "      <td>1.00</td>\n",
              "      <td>0.18</td>\n",
              "      <td>0.00</td>\n",
              "      <td>0.91</td>\n",
              "      <td>0.73</td>\n",
              "      <td>0.55</td>\n",
              "      <td>0.36</td>\n",
              "      <td>0.45</td>\n",
              "      <td>0.36</td>\n",
              "      <td>0.55</td>\n",
              "      <td>0.27</td>\n",
              "      <td>0.82</td>\n",
              "      <td>0.82</td>\n",
              "      <td>0.55</td>\n",
              "      <td>0.00</td>\n",
              "      <td>0.18</td>\n",
              "      <td>0.27</td>\n",
              "      <td>1.00</td>\n",
              "      <td>0.18</td>\n",
              "      <td>0.18</td>\n",
              "      <td>0.36</td>\n",
              "      <td>0.45</td>\n",
              "      <td>1.00</td>\n",
              "      <td>0.45</td>\n",
              "      <td>0.45</td>\n",
              "      <td>0.36</td>\n",
              "    </tr>\n",
              "    <tr>\n",
              "      <th>3</th>\n",
              "      <td>P4</td>\n",
              "      <td>12</td>\n",
              "      <td>8</td>\n",
              "      <td>13</td>\n",
              "      <td>5</td>\n",
              "      <td>9</td>\n",
              "      <td>6</td>\n",
              "      <td>9</td>\n",
              "      <td>13</td>\n",
              "      <td>13</td>\n",
              "      <td>11</td>\n",
              "      <td>8</td>\n",
              "      <td>4</td>\n",
              "      <td>5</td>\n",
              "      <td>4</td>\n",
              "      <td>15</td>\n",
              "      <td>7</td>\n",
              "      <td>11</td>\n",
              "      <td>9</td>\n",
              "      <td>15</td>\n",
              "      <td>4</td>\n",
              "      <td>6</td>\n",
              "      <td>7</td>\n",
              "      <td>11</td>\n",
              "      <td>7</td>\n",
              "      <td>9</td>\n",
              "      <td>6</td>\n",
              "      <td>10</td>\n",
              "      <td>10</td>\n",
              "      <td>2</td>\n",
              "      <td>6</td>\n",
              "      <td>7</td>\n",
              "      <td>2</td>\n",
              "      <td>5</td>\n",
              "      <td>12</td>\n",
              "      <td>5</td>\n",
              "      <td>19</td>\n",
              "      <td>8</td>\n",
              "      <td>6</td>\n",
              "      <td>8</td>\n",
              "      <td>...</td>\n",
              "      <td>0.18</td>\n",
              "      <td>0.12</td>\n",
              "      <td>0.76</td>\n",
              "      <td>0.29</td>\n",
              "      <td>0.53</td>\n",
              "      <td>0.41</td>\n",
              "      <td>0.76</td>\n",
              "      <td>0.12</td>\n",
              "      <td>0.24</td>\n",
              "      <td>0.29</td>\n",
              "      <td>0.53</td>\n",
              "      <td>0.29</td>\n",
              "      <td>0.41</td>\n",
              "      <td>0.24</td>\n",
              "      <td>0.47</td>\n",
              "      <td>0.47</td>\n",
              "      <td>0.00</td>\n",
              "      <td>0.24</td>\n",
              "      <td>0.29</td>\n",
              "      <td>0.00</td>\n",
              "      <td>0.18</td>\n",
              "      <td>0.59</td>\n",
              "      <td>0.18</td>\n",
              "      <td>1.00</td>\n",
              "      <td>0.35</td>\n",
              "      <td>0.24</td>\n",
              "      <td>0.35</td>\n",
              "      <td>0.35</td>\n",
              "      <td>0.59</td>\n",
              "      <td>0.24</td>\n",
              "      <td>0.41</td>\n",
              "      <td>0.47</td>\n",
              "      <td>0.06</td>\n",
              "      <td>0.12</td>\n",
              "      <td>0.24</td>\n",
              "      <td>0.35</td>\n",
              "      <td>0.71</td>\n",
              "      <td>0.35</td>\n",
              "      <td>0.29</td>\n",
              "      <td>0.35</td>\n",
              "    </tr>\n",
              "    <tr>\n",
              "      <th>4</th>\n",
              "      <td>P5</td>\n",
              "      <td>8</td>\n",
              "      <td>5</td>\n",
              "      <td>13</td>\n",
              "      <td>11</td>\n",
              "      <td>6</td>\n",
              "      <td>7</td>\n",
              "      <td>9</td>\n",
              "      <td>14</td>\n",
              "      <td>9</td>\n",
              "      <td>9</td>\n",
              "      <td>11</td>\n",
              "      <td>18</td>\n",
              "      <td>8</td>\n",
              "      <td>4</td>\n",
              "      <td>13</td>\n",
              "      <td>8</td>\n",
              "      <td>10</td>\n",
              "      <td>15</td>\n",
              "      <td>6</td>\n",
              "      <td>13</td>\n",
              "      <td>11</td>\n",
              "      <td>6</td>\n",
              "      <td>10</td>\n",
              "      <td>9</td>\n",
              "      <td>8</td>\n",
              "      <td>12</td>\n",
              "      <td>8</td>\n",
              "      <td>9</td>\n",
              "      <td>13</td>\n",
              "      <td>3</td>\n",
              "      <td>5</td>\n",
              "      <td>3</td>\n",
              "      <td>5</td>\n",
              "      <td>5</td>\n",
              "      <td>9</td>\n",
              "      <td>7</td>\n",
              "      <td>4</td>\n",
              "      <td>8</td>\n",
              "      <td>8</td>\n",
              "      <td>...</td>\n",
              "      <td>0.33</td>\n",
              "      <td>0.07</td>\n",
              "      <td>0.67</td>\n",
              "      <td>0.33</td>\n",
              "      <td>0.47</td>\n",
              "      <td>0.80</td>\n",
              "      <td>0.20</td>\n",
              "      <td>0.67</td>\n",
              "      <td>0.53</td>\n",
              "      <td>0.20</td>\n",
              "      <td>0.47</td>\n",
              "      <td>0.40</td>\n",
              "      <td>0.33</td>\n",
              "      <td>0.60</td>\n",
              "      <td>0.33</td>\n",
              "      <td>0.40</td>\n",
              "      <td>0.67</td>\n",
              "      <td>0.00</td>\n",
              "      <td>0.13</td>\n",
              "      <td>0.00</td>\n",
              "      <td>0.13</td>\n",
              "      <td>0.13</td>\n",
              "      <td>0.40</td>\n",
              "      <td>0.27</td>\n",
              "      <td>0.07</td>\n",
              "      <td>0.33</td>\n",
              "      <td>0.33</td>\n",
              "      <td>0.13</td>\n",
              "      <td>0.13</td>\n",
              "      <td>0.33</td>\n",
              "      <td>0.27</td>\n",
              "      <td>0.53</td>\n",
              "      <td>0.27</td>\n",
              "      <td>0.60</td>\n",
              "      <td>0.20</td>\n",
              "      <td>0.20</td>\n",
              "      <td>0.13</td>\n",
              "      <td>0.53</td>\n",
              "      <td>0.33</td>\n",
              "      <td>0.40</td>\n",
              "    </tr>\n",
              "    <tr>\n",
              "      <th>...</th>\n",
              "      <td>...</td>\n",
              "      <td>...</td>\n",
              "      <td>...</td>\n",
              "      <td>...</td>\n",
              "      <td>...</td>\n",
              "      <td>...</td>\n",
              "      <td>...</td>\n",
              "      <td>...</td>\n",
              "      <td>...</td>\n",
              "      <td>...</td>\n",
              "      <td>...</td>\n",
              "      <td>...</td>\n",
              "      <td>...</td>\n",
              "      <td>...</td>\n",
              "      <td>...</td>\n",
              "      <td>...</td>\n",
              "      <td>...</td>\n",
              "      <td>...</td>\n",
              "      <td>...</td>\n",
              "      <td>...</td>\n",
              "      <td>...</td>\n",
              "      <td>...</td>\n",
              "      <td>...</td>\n",
              "      <td>...</td>\n",
              "      <td>...</td>\n",
              "      <td>...</td>\n",
              "      <td>...</td>\n",
              "      <td>...</td>\n",
              "      <td>...</td>\n",
              "      <td>...</td>\n",
              "      <td>...</td>\n",
              "      <td>...</td>\n",
              "      <td>...</td>\n",
              "      <td>...</td>\n",
              "      <td>...</td>\n",
              "      <td>...</td>\n",
              "      <td>...</td>\n",
              "      <td>...</td>\n",
              "      <td>...</td>\n",
              "      <td>...</td>\n",
              "      <td>...</td>\n",
              "      <td>...</td>\n",
              "      <td>...</td>\n",
              "      <td>...</td>\n",
              "      <td>...</td>\n",
              "      <td>...</td>\n",
              "      <td>...</td>\n",
              "      <td>...</td>\n",
              "      <td>...</td>\n",
              "      <td>...</td>\n",
              "      <td>...</td>\n",
              "      <td>...</td>\n",
              "      <td>...</td>\n",
              "      <td>...</td>\n",
              "      <td>...</td>\n",
              "      <td>...</td>\n",
              "      <td>...</td>\n",
              "      <td>...</td>\n",
              "      <td>...</td>\n",
              "      <td>...</td>\n",
              "      <td>...</td>\n",
              "      <td>...</td>\n",
              "      <td>...</td>\n",
              "      <td>...</td>\n",
              "      <td>...</td>\n",
              "      <td>...</td>\n",
              "      <td>...</td>\n",
              "      <td>...</td>\n",
              "      <td>...</td>\n",
              "      <td>...</td>\n",
              "      <td>...</td>\n",
              "      <td>...</td>\n",
              "      <td>...</td>\n",
              "      <td>...</td>\n",
              "      <td>...</td>\n",
              "      <td>...</td>\n",
              "      <td>...</td>\n",
              "      <td>...</td>\n",
              "      <td>...</td>\n",
              "      <td>...</td>\n",
              "      <td>...</td>\n",
              "    </tr>\n",
              "    <tr>\n",
              "      <th>806</th>\n",
              "      <td>P815</td>\n",
              "      <td>0</td>\n",
              "      <td>0</td>\n",
              "      <td>1</td>\n",
              "      <td>0</td>\n",
              "      <td>0</td>\n",
              "      <td>2</td>\n",
              "      <td>1</td>\n",
              "      <td>0</td>\n",
              "      <td>0</td>\n",
              "      <td>1</td>\n",
              "      <td>0</td>\n",
              "      <td>0</td>\n",
              "      <td>1</td>\n",
              "      <td>0</td>\n",
              "      <td>1</td>\n",
              "      <td>1</td>\n",
              "      <td>3</td>\n",
              "      <td>0</td>\n",
              "      <td>0</td>\n",
              "      <td>0</td>\n",
              "      <td>0</td>\n",
              "      <td>0</td>\n",
              "      <td>0</td>\n",
              "      <td>1</td>\n",
              "      <td>0</td>\n",
              "      <td>0</td>\n",
              "      <td>0</td>\n",
              "      <td>0</td>\n",
              "      <td>2</td>\n",
              "      <td>0</td>\n",
              "      <td>0</td>\n",
              "      <td>0</td>\n",
              "      <td>0</td>\n",
              "      <td>0</td>\n",
              "      <td>0</td>\n",
              "      <td>0</td>\n",
              "      <td>0</td>\n",
              "      <td>0</td>\n",
              "      <td>1</td>\n",
              "      <td>...</td>\n",
              "      <td>0.33</td>\n",
              "      <td>0.00</td>\n",
              "      <td>0.33</td>\n",
              "      <td>0.33</td>\n",
              "      <td>1.00</td>\n",
              "      <td>0.00</td>\n",
              "      <td>0.00</td>\n",
              "      <td>0.00</td>\n",
              "      <td>0.00</td>\n",
              "      <td>0.00</td>\n",
              "      <td>0.00</td>\n",
              "      <td>0.33</td>\n",
              "      <td>0.00</td>\n",
              "      <td>0.00</td>\n",
              "      <td>0.00</td>\n",
              "      <td>0.00</td>\n",
              "      <td>0.67</td>\n",
              "      <td>0.00</td>\n",
              "      <td>0.00</td>\n",
              "      <td>0.00</td>\n",
              "      <td>0.00</td>\n",
              "      <td>0.00</td>\n",
              "      <td>0.00</td>\n",
              "      <td>0.00</td>\n",
              "      <td>0.00</td>\n",
              "      <td>0.00</td>\n",
              "      <td>0.33</td>\n",
              "      <td>0.67</td>\n",
              "      <td>0.33</td>\n",
              "      <td>0.00</td>\n",
              "      <td>0.00</td>\n",
              "      <td>0.33</td>\n",
              "      <td>0.33</td>\n",
              "      <td>0.00</td>\n",
              "      <td>0.00</td>\n",
              "      <td>0.33</td>\n",
              "      <td>0.00</td>\n",
              "      <td>0.00</td>\n",
              "      <td>0.67</td>\n",
              "      <td>0.00</td>\n",
              "    </tr>\n",
              "    <tr>\n",
              "      <th>807</th>\n",
              "      <td>P816</td>\n",
              "      <td>0</td>\n",
              "      <td>1</td>\n",
              "      <td>0</td>\n",
              "      <td>0</td>\n",
              "      <td>1</td>\n",
              "      <td>2</td>\n",
              "      <td>2</td>\n",
              "      <td>6</td>\n",
              "      <td>0</td>\n",
              "      <td>1</td>\n",
              "      <td>0</td>\n",
              "      <td>2</td>\n",
              "      <td>2</td>\n",
              "      <td>0</td>\n",
              "      <td>5</td>\n",
              "      <td>1</td>\n",
              "      <td>1</td>\n",
              "      <td>1</td>\n",
              "      <td>2</td>\n",
              "      <td>3</td>\n",
              "      <td>1</td>\n",
              "      <td>0</td>\n",
              "      <td>2</td>\n",
              "      <td>1</td>\n",
              "      <td>7</td>\n",
              "      <td>3</td>\n",
              "      <td>3</td>\n",
              "      <td>3</td>\n",
              "      <td>2</td>\n",
              "      <td>2</td>\n",
              "      <td>3</td>\n",
              "      <td>1</td>\n",
              "      <td>1</td>\n",
              "      <td>4</td>\n",
              "      <td>5</td>\n",
              "      <td>4</td>\n",
              "      <td>3</td>\n",
              "      <td>2</td>\n",
              "      <td>4</td>\n",
              "      <td>...</td>\n",
              "      <td>0.29</td>\n",
              "      <td>0.00</td>\n",
              "      <td>0.71</td>\n",
              "      <td>0.14</td>\n",
              "      <td>0.14</td>\n",
              "      <td>0.14</td>\n",
              "      <td>0.29</td>\n",
              "      <td>0.43</td>\n",
              "      <td>0.14</td>\n",
              "      <td>0.00</td>\n",
              "      <td>0.29</td>\n",
              "      <td>0.14</td>\n",
              "      <td>1.00</td>\n",
              "      <td>0.43</td>\n",
              "      <td>0.43</td>\n",
              "      <td>0.43</td>\n",
              "      <td>0.29</td>\n",
              "      <td>0.29</td>\n",
              "      <td>0.43</td>\n",
              "      <td>0.14</td>\n",
              "      <td>0.14</td>\n",
              "      <td>0.57</td>\n",
              "      <td>0.71</td>\n",
              "      <td>0.57</td>\n",
              "      <td>0.43</td>\n",
              "      <td>0.29</td>\n",
              "      <td>0.57</td>\n",
              "      <td>0.86</td>\n",
              "      <td>0.86</td>\n",
              "      <td>1.00</td>\n",
              "      <td>0.43</td>\n",
              "      <td>0.43</td>\n",
              "      <td>0.57</td>\n",
              "      <td>0.29</td>\n",
              "      <td>0.57</td>\n",
              "      <td>0.71</td>\n",
              "      <td>0.71</td>\n",
              "      <td>0.71</td>\n",
              "      <td>0.86</td>\n",
              "      <td>0.71</td>\n",
              "    </tr>\n",
              "    <tr>\n",
              "      <th>808</th>\n",
              "      <td>P817</td>\n",
              "      <td>1</td>\n",
              "      <td>0</td>\n",
              "      <td>0</td>\n",
              "      <td>0</td>\n",
              "      <td>1</td>\n",
              "      <td>1</td>\n",
              "      <td>2</td>\n",
              "      <td>1</td>\n",
              "      <td>1</td>\n",
              "      <td>0</td>\n",
              "      <td>0</td>\n",
              "      <td>1</td>\n",
              "      <td>0</td>\n",
              "      <td>0</td>\n",
              "      <td>0</td>\n",
              "      <td>0</td>\n",
              "      <td>0</td>\n",
              "      <td>0</td>\n",
              "      <td>0</td>\n",
              "      <td>0</td>\n",
              "      <td>1</td>\n",
              "      <td>0</td>\n",
              "      <td>0</td>\n",
              "      <td>0</td>\n",
              "      <td>1</td>\n",
              "      <td>0</td>\n",
              "      <td>0</td>\n",
              "      <td>1</td>\n",
              "      <td>0</td>\n",
              "      <td>0</td>\n",
              "      <td>0</td>\n",
              "      <td>0</td>\n",
              "      <td>0</td>\n",
              "      <td>1</td>\n",
              "      <td>0</td>\n",
              "      <td>0</td>\n",
              "      <td>0</td>\n",
              "      <td>0</td>\n",
              "      <td>0</td>\n",
              "      <td>...</td>\n",
              "      <td>0.00</td>\n",
              "      <td>0.00</td>\n",
              "      <td>0.00</td>\n",
              "      <td>0.00</td>\n",
              "      <td>0.00</td>\n",
              "      <td>0.00</td>\n",
              "      <td>0.00</td>\n",
              "      <td>0.00</td>\n",
              "      <td>0.25</td>\n",
              "      <td>0.00</td>\n",
              "      <td>0.00</td>\n",
              "      <td>0.00</td>\n",
              "      <td>0.25</td>\n",
              "      <td>0.00</td>\n",
              "      <td>0.00</td>\n",
              "      <td>0.25</td>\n",
              "      <td>0.00</td>\n",
              "      <td>0.00</td>\n",
              "      <td>0.00</td>\n",
              "      <td>0.00</td>\n",
              "      <td>0.00</td>\n",
              "      <td>0.25</td>\n",
              "      <td>0.00</td>\n",
              "      <td>0.00</td>\n",
              "      <td>0.00</td>\n",
              "      <td>0.00</td>\n",
              "      <td>0.00</td>\n",
              "      <td>0.00</td>\n",
              "      <td>0.00</td>\n",
              "      <td>0.25</td>\n",
              "      <td>0.50</td>\n",
              "      <td>0.00</td>\n",
              "      <td>0.00</td>\n",
              "      <td>0.50</td>\n",
              "      <td>0.50</td>\n",
              "      <td>0.00</td>\n",
              "      <td>0.00</td>\n",
              "      <td>0.00</td>\n",
              "      <td>1.00</td>\n",
              "      <td>0.75</td>\n",
              "    </tr>\n",
              "    <tr>\n",
              "      <th>809</th>\n",
              "      <td>P818</td>\n",
              "      <td>0</td>\n",
              "      <td>0</td>\n",
              "      <td>0</td>\n",
              "      <td>1</td>\n",
              "      <td>0</td>\n",
              "      <td>0</td>\n",
              "      <td>0</td>\n",
              "      <td>0</td>\n",
              "      <td>1</td>\n",
              "      <td>0</td>\n",
              "      <td>0</td>\n",
              "      <td>0</td>\n",
              "      <td>0</td>\n",
              "      <td>0</td>\n",
              "      <td>0</td>\n",
              "      <td>0</td>\n",
              "      <td>0</td>\n",
              "      <td>0</td>\n",
              "      <td>0</td>\n",
              "      <td>1</td>\n",
              "      <td>0</td>\n",
              "      <td>0</td>\n",
              "      <td>1</td>\n",
              "      <td>0</td>\n",
              "      <td>2</td>\n",
              "      <td>1</td>\n",
              "      <td>1</td>\n",
              "      <td>0</td>\n",
              "      <td>1</td>\n",
              "      <td>1</td>\n",
              "      <td>0</td>\n",
              "      <td>1</td>\n",
              "      <td>1</td>\n",
              "      <td>1</td>\n",
              "      <td>0</td>\n",
              "      <td>0</td>\n",
              "      <td>0</td>\n",
              "      <td>0</td>\n",
              "      <td>0</td>\n",
              "      <td>...</td>\n",
              "      <td>0.00</td>\n",
              "      <td>0.00</td>\n",
              "      <td>0.00</td>\n",
              "      <td>0.00</td>\n",
              "      <td>0.00</td>\n",
              "      <td>0.00</td>\n",
              "      <td>0.00</td>\n",
              "      <td>0.50</td>\n",
              "      <td>0.00</td>\n",
              "      <td>0.00</td>\n",
              "      <td>0.50</td>\n",
              "      <td>0.00</td>\n",
              "      <td>1.00</td>\n",
              "      <td>0.50</td>\n",
              "      <td>0.50</td>\n",
              "      <td>0.00</td>\n",
              "      <td>0.50</td>\n",
              "      <td>0.50</td>\n",
              "      <td>0.00</td>\n",
              "      <td>0.50</td>\n",
              "      <td>0.50</td>\n",
              "      <td>0.50</td>\n",
              "      <td>0.00</td>\n",
              "      <td>0.00</td>\n",
              "      <td>0.00</td>\n",
              "      <td>0.00</td>\n",
              "      <td>0.00</td>\n",
              "      <td>0.00</td>\n",
              "      <td>0.00</td>\n",
              "      <td>0.00</td>\n",
              "      <td>0.00</td>\n",
              "      <td>0.00</td>\n",
              "      <td>0.00</td>\n",
              "      <td>0.50</td>\n",
              "      <td>0.50</td>\n",
              "      <td>0.00</td>\n",
              "      <td>0.00</td>\n",
              "      <td>0.00</td>\n",
              "      <td>1.00</td>\n",
              "      <td>0.00</td>\n",
              "    </tr>\n",
              "    <tr>\n",
              "      <th>810</th>\n",
              "      <td>P819</td>\n",
              "      <td>0</td>\n",
              "      <td>1</td>\n",
              "      <td>0</td>\n",
              "      <td>0</td>\n",
              "      <td>0</td>\n",
              "      <td>0</td>\n",
              "      <td>0</td>\n",
              "      <td>0</td>\n",
              "      <td>0</td>\n",
              "      <td>0</td>\n",
              "      <td>0</td>\n",
              "      <td>0</td>\n",
              "      <td>0</td>\n",
              "      <td>0</td>\n",
              "      <td>0</td>\n",
              "      <td>0</td>\n",
              "      <td>0</td>\n",
              "      <td>0</td>\n",
              "      <td>3</td>\n",
              "      <td>0</td>\n",
              "      <td>0</td>\n",
              "      <td>0</td>\n",
              "      <td>2</td>\n",
              "      <td>0</td>\n",
              "      <td>0</td>\n",
              "      <td>0</td>\n",
              "      <td>1</td>\n",
              "      <td>0</td>\n",
              "      <td>0</td>\n",
              "      <td>0</td>\n",
              "      <td>0</td>\n",
              "      <td>0</td>\n",
              "      <td>1</td>\n",
              "      <td>0</td>\n",
              "      <td>0</td>\n",
              "      <td>3</td>\n",
              "      <td>1</td>\n",
              "      <td>1</td>\n",
              "      <td>1</td>\n",
              "      <td>...</td>\n",
              "      <td>0.00</td>\n",
              "      <td>0.00</td>\n",
              "      <td>0.00</td>\n",
              "      <td>0.00</td>\n",
              "      <td>0.00</td>\n",
              "      <td>0.00</td>\n",
              "      <td>1.00</td>\n",
              "      <td>0.00</td>\n",
              "      <td>0.00</td>\n",
              "      <td>0.00</td>\n",
              "      <td>0.67</td>\n",
              "      <td>0.00</td>\n",
              "      <td>0.00</td>\n",
              "      <td>0.00</td>\n",
              "      <td>0.33</td>\n",
              "      <td>0.00</td>\n",
              "      <td>0.00</td>\n",
              "      <td>0.00</td>\n",
              "      <td>0.00</td>\n",
              "      <td>0.00</td>\n",
              "      <td>0.33</td>\n",
              "      <td>0.00</td>\n",
              "      <td>0.00</td>\n",
              "      <td>1.00</td>\n",
              "      <td>0.33</td>\n",
              "      <td>0.33</td>\n",
              "      <td>0.33</td>\n",
              "      <td>0.00</td>\n",
              "      <td>0.33</td>\n",
              "      <td>0.00</td>\n",
              "      <td>0.00</td>\n",
              "      <td>0.00</td>\n",
              "      <td>0.00</td>\n",
              "      <td>0.00</td>\n",
              "      <td>0.00</td>\n",
              "      <td>0.00</td>\n",
              "      <td>0.00</td>\n",
              "      <td>0.00</td>\n",
              "      <td>0.00</td>\n",
              "      <td>0.33</td>\n",
              "    </tr>\n",
              "  </tbody>\n",
              "</table>\n",
              "<p>811 rows × 107 columns</p>\n",
              "</div>"
            ],
            "text/plain": [
              "    Product_Code  W0  W1  ...  Normalized 49  Normalized 50  Normalized 51\n",
              "0             P1  11  12  ...           0.17           0.11           0.39\n",
              "1             P2   7   6  ...           0.10           0.60           0.00\n",
              "2             P3   7  11  ...           0.45           0.45           0.36\n",
              "3             P4  12   8  ...           0.35           0.29           0.35\n",
              "4             P5   8   5  ...           0.53           0.33           0.40\n",
              "..           ...  ..  ..  ...            ...            ...            ...\n",
              "806         P815   0   0  ...           0.00           0.67           0.00\n",
              "807         P816   0   1  ...           0.71           0.86           0.71\n",
              "808         P817   1   0  ...           0.00           1.00           0.75\n",
              "809         P818   0   0  ...           0.00           1.00           0.00\n",
              "810         P819   0   1  ...           0.00           0.00           0.33\n",
              "\n",
              "[811 rows x 107 columns]"
            ]
          },
          "metadata": {},
          "execution_count": 14
        }
      ]
    },
    {
      "cell_type": "code",
      "metadata": {
        "colab": {
          "base_uri": "https://localhost:8080/"
        },
        "id": "QosM61vk5UG0",
        "outputId": "1eaa3005-df1d-41d7-f23b-753fc8e3c391"
      },
      "source": [
        "!pip install ucrdtw"
      ],
      "execution_count": null,
      "outputs": [
        {
          "output_type": "stream",
          "name": "stdout",
          "text": [
            "Collecting ucrdtw\n",
            "  Downloading ucrdtw-0.201.tar.gz (18 kB)\n",
            "Building wheels for collected packages: ucrdtw\n",
            "  Building wheel for ucrdtw (setup.py) ... \u001b[?25l\u001b[?25hdone\n",
            "  Created wheel for ucrdtw: filename=ucrdtw-0.201-cp37-cp37m-linux_x86_64.whl size=39728 sha256=ee68721480db8b8802d07f275b8f6b2738d28a878cab6d6749fa002e24e8f3d4\n",
            "  Stored in directory: /root/.cache/pip/wheels/da/f2/c9/79fa74d21554ffbe14f03dc036dff75bf5a9af2ce19a3e3b0c\n",
            "Successfully built ucrdtw\n",
            "Installing collected packages: ucrdtw\n",
            "Successfully installed ucrdtw-0.201\n"
          ]
        }
      ]
    },
    {
      "cell_type": "code",
      "metadata": {
        "colab": {
          "base_uri": "https://localhost:8080/",
          "height": 430
        },
        "id": "JcuQaZd44vG1",
        "outputId": "83e82d2d-e7f1-4b27-e6ec-69208d637a76"
      },
      "source": [
        "# Calculate distance via dynamic time warping between product code and optimal time series\n",
        "import numpy as np\n",
        "import _ucrdtw\n",
        "\n",
        "def get_keyed_values(s):\n",
        "    return(s[0], s[1:])\n",
        "\n",
        "def compute_distance(row):\n",
        "    return(row[0], _ucrdtw.ucrdtw(list(row[1][0:52]), list(optimal_pattern), 0.05, True)[1])\n",
        "\n",
        "ts_values = pd.DataFrame(np.apply_along_axis(get_keyed_values, 1, sales_pdf.values))\n",
        "distances = pd.DataFrame(np.apply_along_axis(compute_distance, 1, ts_values.values))\n",
        "distances.columns = ['pcode', 'dtw_dist']"
      ],
      "execution_count": null,
      "outputs": [
        {
          "output_type": "stream",
          "name": "stderr",
          "text": [
            "/usr/local/lib/python3.7/dist-packages/numpy/core/_asarray.py:136: VisibleDeprecationWarning: Creating an ndarray from ragged nested sequences (which is a list-or-tuple of lists-or-tuples-or ndarrays with different lengths or shapes) is deprecated. If you meant to do this, you must specify 'dtype=object' when creating the ndarray\n",
            "  return array(a, dtype, copy=False, order=order, subok=True)\n"
          ]
        },
        {
          "output_type": "error",
          "ename": "NameError",
          "evalue": "ignored",
          "traceback": [
            "\u001b[0;31m---------------------------------------------------------------------------\u001b[0m",
            "\u001b[0;31mNameError\u001b[0m                                 Traceback (most recent call last)",
            "\u001b[0;32m<ipython-input-19-089005f9819d>\u001b[0m in \u001b[0;36m<module>\u001b[0;34m()\u001b[0m\n\u001b[1;32m     10\u001b[0m \u001b[0;34m\u001b[0m\u001b[0m\n\u001b[1;32m     11\u001b[0m \u001b[0mts_values\u001b[0m \u001b[0;34m=\u001b[0m \u001b[0mpd\u001b[0m\u001b[0;34m.\u001b[0m\u001b[0mDataFrame\u001b[0m\u001b[0;34m(\u001b[0m\u001b[0mnp\u001b[0m\u001b[0;34m.\u001b[0m\u001b[0mapply_along_axis\u001b[0m\u001b[0;34m(\u001b[0m\u001b[0mget_keyed_values\u001b[0m\u001b[0;34m,\u001b[0m \u001b[0;36m1\u001b[0m\u001b[0;34m,\u001b[0m \u001b[0msales_pdf\u001b[0m\u001b[0;34m.\u001b[0m\u001b[0mvalues\u001b[0m\u001b[0;34m)\u001b[0m\u001b[0;34m)\u001b[0m\u001b[0;34m\u001b[0m\u001b[0;34m\u001b[0m\u001b[0m\n\u001b[0;32m---> 12\u001b[0;31m \u001b[0mdistances\u001b[0m \u001b[0;34m=\u001b[0m \u001b[0mpd\u001b[0m\u001b[0;34m.\u001b[0m\u001b[0mDataFrame\u001b[0m\u001b[0;34m(\u001b[0m\u001b[0mnp\u001b[0m\u001b[0;34m.\u001b[0m\u001b[0mapply_along_axis\u001b[0m\u001b[0;34m(\u001b[0m\u001b[0mcompute_distance\u001b[0m\u001b[0;34m,\u001b[0m \u001b[0;36m1\u001b[0m\u001b[0;34m,\u001b[0m \u001b[0mts_values\u001b[0m\u001b[0;34m.\u001b[0m\u001b[0mvalues\u001b[0m\u001b[0;34m)\u001b[0m\u001b[0;34m)\u001b[0m\u001b[0;34m\u001b[0m\u001b[0;34m\u001b[0m\u001b[0m\n\u001b[0m\u001b[1;32m     13\u001b[0m \u001b[0mdistances\u001b[0m\u001b[0;34m.\u001b[0m\u001b[0mcolumns\u001b[0m \u001b[0;34m=\u001b[0m \u001b[0;34m[\u001b[0m\u001b[0;34m'pcode'\u001b[0m\u001b[0;34m,\u001b[0m \u001b[0;34m'dtw_dist'\u001b[0m\u001b[0;34m]\u001b[0m\u001b[0;34m\u001b[0m\u001b[0;34m\u001b[0m\u001b[0m\n",
            "\u001b[0;32m<__array_function__ internals>\u001b[0m in \u001b[0;36mapply_along_axis\u001b[0;34m(*args, **kwargs)\u001b[0m\n",
            "\u001b[0;32m/usr/local/lib/python3.7/dist-packages/numpy/lib/shape_base.py\u001b[0m in \u001b[0;36mapply_along_axis\u001b[0;34m(func1d, axis, arr, *args, **kwargs)\u001b[0m\n\u001b[1;32m    377\u001b[0m             \u001b[0;34m'Cannot apply_along_axis when any iteration dimensions are 0'\u001b[0m\u001b[0;34m\u001b[0m\u001b[0;34m\u001b[0m\u001b[0m\n\u001b[1;32m    378\u001b[0m         ) from None\n\u001b[0;32m--> 379\u001b[0;31m     \u001b[0mres\u001b[0m \u001b[0;34m=\u001b[0m \u001b[0masanyarray\u001b[0m\u001b[0;34m(\u001b[0m\u001b[0mfunc1d\u001b[0m\u001b[0;34m(\u001b[0m\u001b[0minarr_view\u001b[0m\u001b[0;34m[\u001b[0m\u001b[0mind0\u001b[0m\u001b[0;34m]\u001b[0m\u001b[0;34m,\u001b[0m \u001b[0;34m*\u001b[0m\u001b[0margs\u001b[0m\u001b[0;34m,\u001b[0m \u001b[0;34m**\u001b[0m\u001b[0mkwargs\u001b[0m\u001b[0;34m)\u001b[0m\u001b[0;34m)\u001b[0m\u001b[0;34m\u001b[0m\u001b[0;34m\u001b[0m\u001b[0m\n\u001b[0m\u001b[1;32m    380\u001b[0m \u001b[0;34m\u001b[0m\u001b[0m\n\u001b[1;32m    381\u001b[0m     \u001b[0;31m# build a buffer for storing evaluations of func1d.\u001b[0m\u001b[0;34m\u001b[0m\u001b[0;34m\u001b[0m\u001b[0;34m\u001b[0m\u001b[0m\n",
            "\u001b[0;32m<ipython-input-19-089005f9819d>\u001b[0m in \u001b[0;36mcompute_distance\u001b[0;34m(row)\u001b[0m\n\u001b[1;32m      7\u001b[0m \u001b[0;34m\u001b[0m\u001b[0m\n\u001b[1;32m      8\u001b[0m \u001b[0;32mdef\u001b[0m \u001b[0mcompute_distance\u001b[0m\u001b[0;34m(\u001b[0m\u001b[0mrow\u001b[0m\u001b[0;34m)\u001b[0m\u001b[0;34m:\u001b[0m\u001b[0;34m\u001b[0m\u001b[0;34m\u001b[0m\u001b[0m\n\u001b[0;32m----> 9\u001b[0;31m     \u001b[0;32mreturn\u001b[0m\u001b[0;34m(\u001b[0m\u001b[0mrow\u001b[0m\u001b[0;34m[\u001b[0m\u001b[0;36m0\u001b[0m\u001b[0;34m]\u001b[0m\u001b[0;34m,\u001b[0m \u001b[0m_ucrdtw\u001b[0m\u001b[0;34m.\u001b[0m\u001b[0mucrdtw\u001b[0m\u001b[0;34m(\u001b[0m\u001b[0mlist\u001b[0m\u001b[0;34m(\u001b[0m\u001b[0mrow\u001b[0m\u001b[0;34m[\u001b[0m\u001b[0;36m1\u001b[0m\u001b[0;34m]\u001b[0m\u001b[0;34m[\u001b[0m\u001b[0;36m0\u001b[0m\u001b[0;34m:\u001b[0m\u001b[0;36m52\u001b[0m\u001b[0;34m]\u001b[0m\u001b[0;34m)\u001b[0m\u001b[0;34m,\u001b[0m \u001b[0mlist\u001b[0m\u001b[0;34m(\u001b[0m\u001b[0moptimal_pattern\u001b[0m\u001b[0;34m)\u001b[0m\u001b[0;34m,\u001b[0m \u001b[0;36m0.05\u001b[0m\u001b[0;34m,\u001b[0m \u001b[0;32mTrue\u001b[0m\u001b[0;34m)\u001b[0m\u001b[0;34m[\u001b[0m\u001b[0;36m1\u001b[0m\u001b[0;34m]\u001b[0m\u001b[0;34m)\u001b[0m\u001b[0;34m\u001b[0m\u001b[0;34m\u001b[0m\u001b[0m\n\u001b[0m\u001b[1;32m     10\u001b[0m \u001b[0;34m\u001b[0m\u001b[0m\n\u001b[1;32m     11\u001b[0m \u001b[0mts_values\u001b[0m \u001b[0;34m=\u001b[0m \u001b[0mpd\u001b[0m\u001b[0;34m.\u001b[0m\u001b[0mDataFrame\u001b[0m\u001b[0;34m(\u001b[0m\u001b[0mnp\u001b[0m\u001b[0;34m.\u001b[0m\u001b[0mapply_along_axis\u001b[0m\u001b[0;34m(\u001b[0m\u001b[0mget_keyed_values\u001b[0m\u001b[0;34m,\u001b[0m \u001b[0;36m1\u001b[0m\u001b[0;34m,\u001b[0m \u001b[0msales_pdf\u001b[0m\u001b[0;34m.\u001b[0m\u001b[0mvalues\u001b[0m\u001b[0;34m)\u001b[0m\u001b[0;34m)\u001b[0m\u001b[0;34m\u001b[0m\u001b[0;34m\u001b[0m\u001b[0m\n",
            "\u001b[0;31mNameError\u001b[0m: name 'optimal_pattern' is not defined"
          ]
        }
      ]
    },
    {
      "cell_type": "code",
      "metadata": {
        "id": "bIoDrvYG5R1U"
      },
      "source": [
        ""
      ],
      "execution_count": null,
      "outputs": []
    },
    {
      "cell_type": "markdown",
      "metadata": {
        "id": "egeUjxrAdguN"
      },
      "source": [
        "# K-means clustering with DTW\n",
        "\n",
        "[Reference](https://towardsdatascience.com/how-to-apply-k-means-clustering-to-time-series-data-28d04a8f7da3) \n",
        "\n",
        "**Dynamic Time Warping Distance Metric for Time Series**\n",
        "\n",
        "- euclidean distance is unsuitable becasue it is invariant to time shifts, ignoring the dimenion of the data.\n",
        "- Instead, it is better to use dynamic time warping (DTW) to compare series. DTW is a technique to measure similarity between two temporal sequences that do not align exactly in time, speed, or length.\n",
        "\n",
        "**DTW Explained**\n",
        "\n",
        "Given series X=(x₀, …, xₙ) and series Y=(y₀, …, yₘ), the DTW distance from X to Y is formulated as the following optimization problem:\n",
        "\n",
        "![image](https://miro.medium.com/max/1178/1*uJIgUXGDH8cYOHkrIda8Ew.png) \n",
        "\n",
        "\n",
        "To summarize the DTW equation: DTW is calculated as the squared root of the sum of squared distances between each element in X and its nearest point in Y. Note that $DTW(X, Y) ≠ DTW(Y, X)$.\n",
        "\n",
        "DTW compares each element in series X with each element in series Y (n x m comparisons). The comparison, d(xᵢ, yⱼ), is just the simple subtraction xᵢ — yⱼ.\n",
        "\n",
        "Then for each xᵢ in X, DTW selects the nearest point in Y for distance calculation.\n",
        "\n",
        "![image](https://miro.medium.com/max/1308/1*m63OOTUf2NQYk5Y_69Y_XQ.png)\n",
        "\n",
        "This creates a warped “path” between X and Y that aligns each point in X to the nearest point in Y. The path is a temporal alignment of time series that minimizes the Euclidean distance between aligned series.\n",
        "\n",
        "\n",
        "![image](https://miro.medium.com/max/458/1*MuDrv0mZWhZiTEajmTMrag.png)\n",
        "\n",
        "\n",
        "Dynamic Time Warping is computed using dynamic programming with complexity O(MN). Click [here](https://en.wikipedia.org/wiki/Dynamic_time_warping) or [here](http://alexminnaar.com/2014/04/16/Time-Series-Classification-and-Clustering-with-Python.html) for more details about the specific algorithm.\n",
        "\n",
        "\n",
        "It is easy to compare two time series with DTW in python: \n",
        "```python\n",
        "from tslearn.metrics import dtw\n",
        "dtw_score = dtw(x, y)\n",
        "\n",
        "```\n",
        "\n",
        "**Variant of DTW: soft-DTW**\n",
        "\n",
        "- soft-DTW is a differentiable variant of DTW that replaces the non-differentiable min operation with a differentiable soft-min operation:\n",
        "\n",
        "![image](https://miro.medium.com/max/644/1*xE3ECmCkB5-CldCodRnbDQ.png)\n",
        "\n",
        "`Footnote: The main advantage of soft-DTW stems from the fact that it is differentiable everywhere. This allows soft-DTW to be used as a neural networks loss function, comparing a ground-truth series and a predicted series.`\n",
        "\n",
        "```python\n",
        "from tslearn.metrics import soft_dtw\n",
        "soft_dtw_score = soft_dtw(x, y, gamma=.1)\n",
        "```\n",
        "\n",
        "**K-means Clustering with Dynamic Time Warping**\n",
        "\n",
        "The k-means clustering algorithm can be applied to time series with dynamic time warping with the following modifications.\n",
        "\n",
        "- Dynamic Time Warping (DTW) is used to collect time series of similar shapes.\n",
        "- Cluster centroids, or barycenters, are computed with respect to DTW. A barycenter is the average sequence from a group of time series in DTW space. The [DTW Barycenter Averaging (DBA)](http://lig-membres.imag.fr/bisson/cours/M2INFO-AIW-ML/papers/PetitJean11.pdf) algorithm minimizes sum of squared DTW distance between the barycenter and the series in the cluster. The [soft-DTW algorithm](https://arxiv.org/abs/1703.01541) minimizes the weighted sum of soft-DTW distances between the barycenter and the series in the cluster. The weights can be tuned but must sum to 1.\n",
        "\n",
        "![image](https://miro.medium.com/max/1334/1*rKV7fP9oGWdaWTRg15ma7A.png)\n",
        "Top row: K-means clustering with DTW (DBA algorithm). Bottom row: K-means clustering with soft-DTW. Each column shows series from different clusters and their centroids, plotted in red. [Source + code](https://tslearn.readthedocs.io/en/stable/auto_examples/clustering/plot_kmeans.html#sphx-glr-auto-examples-clustering-plot-kmeans-py).\n",
        "\n",
        "```python\n",
        "from tslearn.clustering import TimeSeriesKMeans\n",
        "model = TimeSeriesKMeans(n_clusters=3, metric=\"dtw\", max_iter=10)\n",
        "model.fit(data)\n",
        "```\n",
        "\n",
        "`To use soft-DTW instead of DTW, simply set metric=\"softdtw\".`\n",
        "\n",
        "Note that tslearn expects a single time series to be formatted as two-dimensional array. A set of time series should be formatted as a three-dimensional array with shape (num_series, max_length, 1). \n",
        "\n",
        "[utility functions](https://tslearn.readthedocs.io/en/stable/gettingstarted.html#time-series-format) for formatting data and [integrates easily with other time series packages and data formats](https://tslearn.readthedocs.io/en/stable/integration_other_software.html).\n",
        "\n",
        "\n",
        "[tslearn](https://tslearn.readthedocs.io/en/stable/quickstart.html)\n",
        "\n"
      ]
    },
    {
      "cell_type": "markdown",
      "metadata": {
        "id": "3LoDp9h45pyW"
      },
      "source": [
        "### Install tslearn\n"
      ]
    },
    {
      "cell_type": "code",
      "metadata": {
        "colab": {
          "base_uri": "https://localhost:8080/"
        },
        "id": "gb65zB6GdhnM",
        "outputId": "b5bc3aec-4221-4d85-a35e-da526bd8d095"
      },
      "source": [
        "!pip install tslearn"
      ],
      "execution_count": 15,
      "outputs": [
        {
          "output_type": "stream",
          "name": "stdout",
          "text": [
            "Collecting tslearn\n",
            "  Downloading tslearn-0.5.2-cp37-cp37m-manylinux_2_5_x86_64.manylinux1_x86_64.manylinux_2_12_x86_64.manylinux2010_x86_64.whl (793 kB)\n",
            "\u001b[?25l\r\u001b[K     |▍                               | 10 kB 31.7 MB/s eta 0:00:01\r\u001b[K     |▉                               | 20 kB 21.0 MB/s eta 0:00:01\r\u001b[K     |█▎                              | 30 kB 10.9 MB/s eta 0:00:01\r\u001b[K     |█▋                              | 40 kB 8.7 MB/s eta 0:00:01\r\u001b[K     |██                              | 51 kB 5.2 MB/s eta 0:00:01\r\u001b[K     |██▌                             | 61 kB 5.4 MB/s eta 0:00:01\r\u001b[K     |███                             | 71 kB 5.4 MB/s eta 0:00:01\r\u001b[K     |███▎                            | 81 kB 6.0 MB/s eta 0:00:01\r\u001b[K     |███▊                            | 92 kB 6.1 MB/s eta 0:00:01\r\u001b[K     |████▏                           | 102 kB 5.1 MB/s eta 0:00:01\r\u001b[K     |████▌                           | 112 kB 5.1 MB/s eta 0:00:01\r\u001b[K     |█████                           | 122 kB 5.1 MB/s eta 0:00:01\r\u001b[K     |█████▍                          | 133 kB 5.1 MB/s eta 0:00:01\r\u001b[K     |█████▉                          | 143 kB 5.1 MB/s eta 0:00:01\r\u001b[K     |██████▏                         | 153 kB 5.1 MB/s eta 0:00:01\r\u001b[K     |██████▋                         | 163 kB 5.1 MB/s eta 0:00:01\r\u001b[K     |███████                         | 174 kB 5.1 MB/s eta 0:00:01\r\u001b[K     |███████▍                        | 184 kB 5.1 MB/s eta 0:00:01\r\u001b[K     |███████▉                        | 194 kB 5.1 MB/s eta 0:00:01\r\u001b[K     |████████▎                       | 204 kB 5.1 MB/s eta 0:00:01\r\u001b[K     |████████▊                       | 215 kB 5.1 MB/s eta 0:00:01\r\u001b[K     |█████████                       | 225 kB 5.1 MB/s eta 0:00:01\r\u001b[K     |█████████▌                      | 235 kB 5.1 MB/s eta 0:00:01\r\u001b[K     |██████████                      | 245 kB 5.1 MB/s eta 0:00:01\r\u001b[K     |██████████▎                     | 256 kB 5.1 MB/s eta 0:00:01\r\u001b[K     |██████████▊                     | 266 kB 5.1 MB/s eta 0:00:01\r\u001b[K     |███████████▏                    | 276 kB 5.1 MB/s eta 0:00:01\r\u001b[K     |███████████▋                    | 286 kB 5.1 MB/s eta 0:00:01\r\u001b[K     |████████████                    | 296 kB 5.1 MB/s eta 0:00:01\r\u001b[K     |████████████▍                   | 307 kB 5.1 MB/s eta 0:00:01\r\u001b[K     |████████████▉                   | 317 kB 5.1 MB/s eta 0:00:01\r\u001b[K     |█████████████▏                  | 327 kB 5.1 MB/s eta 0:00:01\r\u001b[K     |█████████████▋                  | 337 kB 5.1 MB/s eta 0:00:01\r\u001b[K     |██████████████                  | 348 kB 5.1 MB/s eta 0:00:01\r\u001b[K     |██████████████▌                 | 358 kB 5.1 MB/s eta 0:00:01\r\u001b[K     |██████████████▉                 | 368 kB 5.1 MB/s eta 0:00:01\r\u001b[K     |███████████████▎                | 378 kB 5.1 MB/s eta 0:00:01\r\u001b[K     |███████████████▊                | 389 kB 5.1 MB/s eta 0:00:01\r\u001b[K     |████████████████▏               | 399 kB 5.1 MB/s eta 0:00:01\r\u001b[K     |████████████████▌               | 409 kB 5.1 MB/s eta 0:00:01\r\u001b[K     |█████████████████               | 419 kB 5.1 MB/s eta 0:00:01\r\u001b[K     |█████████████████▍              | 430 kB 5.1 MB/s eta 0:00:01\r\u001b[K     |█████████████████▊              | 440 kB 5.1 MB/s eta 0:00:01\r\u001b[K     |██████████████████▏             | 450 kB 5.1 MB/s eta 0:00:01\r\u001b[K     |██████████████████▋             | 460 kB 5.1 MB/s eta 0:00:01\r\u001b[K     |███████████████████             | 471 kB 5.1 MB/s eta 0:00:01\r\u001b[K     |███████████████████▍            | 481 kB 5.1 MB/s eta 0:00:01\r\u001b[K     |███████████████████▉            | 491 kB 5.1 MB/s eta 0:00:01\r\u001b[K     |████████████████████▎           | 501 kB 5.1 MB/s eta 0:00:01\r\u001b[K     |████████████████████▋           | 512 kB 5.1 MB/s eta 0:00:01\r\u001b[K     |█████████████████████           | 522 kB 5.1 MB/s eta 0:00:01\r\u001b[K     |█████████████████████▌          | 532 kB 5.1 MB/s eta 0:00:01\r\u001b[K     |██████████████████████          | 542 kB 5.1 MB/s eta 0:00:01\r\u001b[K     |██████████████████████▎         | 552 kB 5.1 MB/s eta 0:00:01\r\u001b[K     |██████████████████████▊         | 563 kB 5.1 MB/s eta 0:00:01\r\u001b[K     |███████████████████████▏        | 573 kB 5.1 MB/s eta 0:00:01\r\u001b[K     |███████████████████████▌        | 583 kB 5.1 MB/s eta 0:00:01\r\u001b[K     |████████████████████████        | 593 kB 5.1 MB/s eta 0:00:01\r\u001b[K     |████████████████████████▍       | 604 kB 5.1 MB/s eta 0:00:01\r\u001b[K     |████████████████████████▉       | 614 kB 5.1 MB/s eta 0:00:01\r\u001b[K     |█████████████████████████▏      | 624 kB 5.1 MB/s eta 0:00:01\r\u001b[K     |█████████████████████████▋      | 634 kB 5.1 MB/s eta 0:00:01\r\u001b[K     |██████████████████████████      | 645 kB 5.1 MB/s eta 0:00:01\r\u001b[K     |██████████████████████████▍     | 655 kB 5.1 MB/s eta 0:00:01\r\u001b[K     |██████████████████████████▉     | 665 kB 5.1 MB/s eta 0:00:01\r\u001b[K     |███████████████████████████▎    | 675 kB 5.1 MB/s eta 0:00:01\r\u001b[K     |███████████████████████████▊    | 686 kB 5.1 MB/s eta 0:00:01\r\u001b[K     |████████████████████████████    | 696 kB 5.1 MB/s eta 0:00:01\r\u001b[K     |████████████████████████████▌   | 706 kB 5.1 MB/s eta 0:00:01\r\u001b[K     |█████████████████████████████   | 716 kB 5.1 MB/s eta 0:00:01\r\u001b[K     |█████████████████████████████▍  | 727 kB 5.1 MB/s eta 0:00:01\r\u001b[K     |█████████████████████████████▊  | 737 kB 5.1 MB/s eta 0:00:01\r\u001b[K     |██████████████████████████████▏ | 747 kB 5.1 MB/s eta 0:00:01\r\u001b[K     |██████████████████████████████▋ | 757 kB 5.1 MB/s eta 0:00:01\r\u001b[K     |███████████████████████████████ | 768 kB 5.1 MB/s eta 0:00:01\r\u001b[K     |███████████████████████████████▍| 778 kB 5.1 MB/s eta 0:00:01\r\u001b[K     |███████████████████████████████▉| 788 kB 5.1 MB/s eta 0:00:01\r\u001b[K     |████████████████████████████████| 793 kB 5.1 MB/s \n",
            "\u001b[?25hRequirement already satisfied: scikit-learn in /usr/local/lib/python3.7/dist-packages (from tslearn) (0.22.2.post1)\n",
            "Requirement already satisfied: scipy in /usr/local/lib/python3.7/dist-packages (from tslearn) (1.4.1)\n",
            "Requirement already satisfied: numpy in /usr/local/lib/python3.7/dist-packages (from tslearn) (1.19.5)\n",
            "Requirement already satisfied: Cython in /usr/local/lib/python3.7/dist-packages (from tslearn) (0.29.24)\n",
            "Requirement already satisfied: joblib in /usr/local/lib/python3.7/dist-packages (from tslearn) (1.0.1)\n",
            "Requirement already satisfied: numba in /usr/local/lib/python3.7/dist-packages (from tslearn) (0.51.2)\n",
            "Requirement already satisfied: setuptools in /usr/local/lib/python3.7/dist-packages (from numba->tslearn) (57.4.0)\n",
            "Requirement already satisfied: llvmlite<0.35,>=0.34.0.dev0 in /usr/local/lib/python3.7/dist-packages (from numba->tslearn) (0.34.0)\n",
            "Installing collected packages: tslearn\n",
            "Successfully installed tslearn-0.5.2\n"
          ]
        }
      ]
    },
    {
      "cell_type": "markdown",
      "metadata": {
        "id": "Ga-20Tp-6c45"
      },
      "source": [
        "## [tslearn.clustering.TimeSeriesKMeans](https://tslearn.readthedocs.io/en/stable/gen_modules/clustering/tslearn.clustering.TimeSeriesKMeans.html#tslearn.clustering.TimeSeriesKMeans)\n",
        "\n",
        "[Reference](https://tslearn.readthedocs.io/en/stable/variablelength.html#clustering)\n"
      ]
    },
    {
      "cell_type": "markdown",
      "metadata": {
        "id": "UKV0mFM7ozme"
      },
      "source": [
        "### Part 1: Used Data Normalized"
      ]
    },
    {
      "cell_type": "code",
      "metadata": {
        "colab": {
          "base_uri": "https://localhost:8080/"
        },
        "id": "tb-g5A9k6cOe",
        "outputId": "a7f11a8e-0901-476c-f202-04734719bd10"
      },
      "source": [
        "import numpy\n",
        "import matplotlib.pyplot as plt\n",
        "\n",
        "from tslearn.clustering import TimeSeriesKMeans, silhouette_score\n",
        "from tslearn.datasets import CachedDatasets\n",
        "from tslearn.preprocessing import TimeSeriesScalerMeanVariance, \\\n",
        "    TimeSeriesResampler\n",
        "\n",
        "seed = 0\n",
        "numpy.random.seed(seed)\n",
        "# X_train, y_train, X_test, y_test = CachedDatasets().load_dataset(\"Trace\")\n",
        "X_train = data_normalized_df.values\n",
        "print(f\"X_train.shape {X_train.shape}\")\n",
        "# print(f\"y_train.shape {y_train.shape}\")\n",
        "# print(f\"X_test.shape {X_test.shape}\")\n",
        "# print(f\"y_test.shape {y_test.shape}\") \n",
        "X_train = np.reshape(X_train, (X_train.shape[0], X_train.shape[1], 1))\n",
        "print(f\"X_train.shape {X_train.shape}\")\n"
      ],
      "execution_count": 71,
      "outputs": [
        {
          "output_type": "stream",
          "name": "stdout",
          "text": [
            "X_train.shape (24291, 60)\n",
            "X_train.shape (24291, 60, 1)\n"
          ]
        }
      ]
    },
    {
      "cell_type": "code",
      "metadata": {
        "colab": {
          "base_uri": "https://localhost:8080/"
        },
        "id": "tRuqY6wqlXME",
        "outputId": "44e8b435-3fde-4b96-db7f-f8f88a50402b"
      },
      "source": [
        "X_train"
      ],
      "execution_count": 35,
      "outputs": [
        {
          "output_type": "execute_result",
          "data": {
            "text/plain": [
              "array([[[0.12822904],\n",
              "        [0.13686424],\n",
              "        [0.13235557],\n",
              "        ...,\n",
              "        [0.13296691],\n",
              "        [0.13365458],\n",
              "        [0.14160206]],\n",
              "\n",
              "       [[0.12248537],\n",
              "        [0.11738187],\n",
              "        [0.11520536],\n",
              "        ...,\n",
              "        [0.13359321],\n",
              "        [0.13224219],\n",
              "        [0.13667026]],\n",
              "\n",
              "       [[0.11817667],\n",
              "        [0.12161365],\n",
              "        [0.12358811],\n",
              "        ...,\n",
              "        [0.13250995],\n",
              "        [0.13287556],\n",
              "        [0.13411881]],\n",
              "\n",
              "       ...,\n",
              "\n",
              "       [[0.13413008],\n",
              "        [0.13217421],\n",
              "        [0.13283402],\n",
              "        ...,\n",
              "        [0.1268665 ],\n",
              "        [0.12624983],\n",
              "        [0.12681906]],\n",
              "\n",
              "       [[0.13473304],\n",
              "        [0.13532794],\n",
              "        [0.13604181],\n",
              "        ...,\n",
              "        [0.12456732],\n",
              "        [0.12595646],\n",
              "        [0.1274893 ]],\n",
              "\n",
              "       [[0.13144529],\n",
              "        [0.13221118],\n",
              "        [0.13206758],\n",
              "        ...,\n",
              "        [0.12981825],\n",
              "        [0.13070956],\n",
              "        [0.1299387 ]]])"
            ]
          },
          "metadata": {},
          "execution_count": 35
        }
      ]
    },
    {
      "cell_type": "code",
      "metadata": {
        "colab": {
          "base_uri": "https://localhost:8080/"
        },
        "id": "hXeTmLGLoOwx",
        "outputId": "6bef0717-e9d3-42be-bda5-2a60650b5871"
      },
      "source": [
        "# Keep only 50 time series\n",
        "# X_train = TimeSeriesScalerMeanVariance().fit_transform(X_train)\n",
        "print(f\"X_train.shape {X_train.shape}\")\n"
      ],
      "execution_count": 22,
      "outputs": [
        {
          "output_type": "stream",
          "name": "stdout",
          "text": [
            "X_train.shape (24291, 60, 1)\n"
          ]
        }
      ]
    },
    {
      "cell_type": "code",
      "metadata": {
        "colab": {
          "base_uri": "https://localhost:8080/"
        },
        "id": "mRh__XOBmEzG",
        "outputId": "c66738c9-dc07-45f4-88f5-9c8fda998c7d"
      },
      "source": [
        "X_train"
      ],
      "execution_count": 23,
      "outputs": [
        {
          "output_type": "execute_result",
          "data": {
            "text/plain": [
              "array([[[-0.07676327],\n",
              "        [ 0.9947503 ],\n",
              "        [ 0.43528431],\n",
              "        ...,\n",
              "        [ 0.51114304],\n",
              "        [ 0.59647464],\n",
              "        [ 1.58265164]],\n",
              "\n",
              "       [[-0.74363309],\n",
              "        [-1.34290689],\n",
              "        [-1.59848149],\n",
              "        ...,\n",
              "        [ 0.56069496],\n",
              "        [ 0.40205262],\n",
              "        [ 0.92201493]],\n",
              "\n",
              "       [[-1.7864287 ],\n",
              "        [-1.21694869],\n",
              "        [-0.88979709],\n",
              "        ...,\n",
              "        [ 0.58848119],\n",
              "        [ 0.64906035],\n",
              "        [ 0.85505703]],\n",
              "\n",
              "       ...,\n",
              "\n",
              "       [[ 1.846281  ],\n",
              "        [ 1.13259119],\n",
              "        [ 1.37335345],\n",
              "        ...,\n",
              "        [-0.80418181],\n",
              "        [-1.02920248],\n",
              "        [-0.82149135]],\n",
              "\n",
              "       [[ 2.01678223],\n",
              "        [ 2.22860315],\n",
              "        [ 2.48278639],\n",
              "        ...,\n",
              "        [-1.60283413],\n",
              "        [-1.10821461],\n",
              "        [-0.56242979]],\n",
              "\n",
              "       [[ 1.184307  ],\n",
              "        [ 1.56845074],\n",
              "        [ 1.49642554],\n",
              "        ...,\n",
              "        [ 0.36824745],\n",
              "        [ 0.81529381],\n",
              "        [ 0.42865837]]])"
            ]
          },
          "metadata": {},
          "execution_count": 23
        }
      ]
    },
    {
      "cell_type": "code",
      "metadata": {
        "colab": {
          "base_uri": "https://localhost:8080/"
        },
        "id": "R3fUrI-6muPc",
        "outputId": "e63beee7-e339-4733-ff4b-5d462508f621"
      },
      "source": [
        "# Make time series shorter\n",
        "# X_train = TimeSeriesResampler(sz=40).fit_transform(X_train)\n",
        "sz = X_train.shape[1]\n",
        "print(f\"X_train.shape {X_train.shape}\")"
      ],
      "execution_count": 72,
      "outputs": [
        {
          "output_type": "stream",
          "name": "stdout",
          "text": [
            "X_train.shape (24291, 60, 1)\n"
          ]
        }
      ]
    },
    {
      "cell_type": "code",
      "metadata": {
        "colab": {
          "base_uri": "https://localhost:8080/"
        },
        "id": "WBhg3dmQnab1",
        "outputId": "4598f842-5eca-410b-95a8-813e12f001af"
      },
      "source": [
        "# Euclidean k-means\n",
        "print(\"Euclidean k-means\")\n",
        "km = TimeSeriesKMeans(n_clusters=2, verbose=True, random_state=seed)\n",
        "y_pred = km.fit_predict(X_train)\n",
        "print(f\"y_pred.shape {y_pred.shape}\")"
      ],
      "execution_count": 73,
      "outputs": [
        {
          "output_type": "stream",
          "name": "stdout",
          "text": [
            "Euclidean k-means\n",
            "0.002 --> 0.002 --> 0.002 --> 0.002 --> 0.002 --> 0.002 --> 0.002 --> 0.002 --> 0.002 --> 0.002 --> 0.002 --> \n",
            "y_pred.shape (24291,)\n"
          ]
        }
      ]
    },
    {
      "cell_type": "code",
      "metadata": {
        "colab": {
          "base_uri": "https://localhost:8080/",
          "height": 163
        },
        "id": "eAXsDM0znhah",
        "outputId": "285caf38-ccf8-4012-8c56-2dc7befbf3dc"
      },
      "source": [
        "plt.figure()\n",
        "for yi in range(2):\n",
        "    plt.subplot(2, 2, yi + 1)\n",
        "    for xx in X_train[y_pred == yi][:10]:\n",
        "        plt.plot(xx.ravel(), \"k-\", alpha=.2)\n",
        "    plt.plot(km.cluster_centers_[yi].ravel(), \"r-\")\n",
        "    plt.xlim(0, sz)\n",
        "    plt.ylim(0.1, 0.2)\n",
        "    plt.text(0.55, 0.85,'Cluster %d' % (yi + 1),\n",
        "             transform=plt.gca().transAxes)\n",
        "    if yi == 1:\n",
        "        plt.title(\"Euclidean $k$-means\")"
      ],
      "execution_count": 74,
      "outputs": [
        {
          "output_type": "display_data",
          "data": {
            "image/png": "[encoded data removed]",
            "text/plain": [
              "<Figure size 432x288 with 2 Axes>"
            ]
          },
          "metadata": {
            "needs_background": "light"
          }
        }
      ]
    },
    {
      "cell_type": "code",
      "metadata": {
        "colab": {
          "base_uri": "https://localhost:8080/",
          "height": 458
        },
        "id": "0wk0Fm8VugIl",
        "outputId": "ad69e88f-df0b-4d94-a500-2be74a48df80"
      },
      "source": [
        "# Frequency count of the Output clusters\n",
        "unique, counts = np.unique(y_pred, return_counts=True)\n",
        "print('K Means Output Cluster Frequency')\n",
        "print(dict(zip(unique, counts)))\n",
        "# Silhouette Score\n",
        "print('Silhouette Score')\n",
        "print(silhouette_score(X_train,y_pred))\n",
        "print(\"\\n\")"
      ],
      "execution_count": 75,
      "outputs": [
        {
          "output_type": "stream",
          "name": "stdout",
          "text": [
            "K Means Output Cluster Frequency\n",
            "{0: 13318, 1: 10973}\n",
            "Silhouette Score\n"
          ]
        },
        {
          "output_type": "error",
          "ename": "KeyboardInterrupt",
          "evalue": "ignored",
          "traceback": [
            "\u001b[0;31m---------------------------------------------------------------------------\u001b[0m",
            "\u001b[0;31mEmpty\u001b[0m                                     Traceback (most recent call last)",
            "\u001b[0;32m/usr/local/lib/python3.7/dist-packages/joblib/parallel.py\u001b[0m in \u001b[0;36mdispatch_one_batch\u001b[0;34m(self, iterator)\u001b[0m\n\u001b[1;32m    819\u001b[0m             \u001b[0;32mtry\u001b[0m\u001b[0;34m:\u001b[0m\u001b[0;34m\u001b[0m\u001b[0;34m\u001b[0m\u001b[0m\n\u001b[0;32m--> 820\u001b[0;31m                 \u001b[0mtasks\u001b[0m \u001b[0;34m=\u001b[0m \u001b[0mself\u001b[0m\u001b[0;34m.\u001b[0m\u001b[0m_ready_batches\u001b[0m\u001b[0;34m.\u001b[0m\u001b[0mget\u001b[0m\u001b[0;34m(\u001b[0m\u001b[0mblock\u001b[0m\u001b[0;34m=\u001b[0m\u001b[0;32mFalse\u001b[0m\u001b[0;34m)\u001b[0m\u001b[0;34m\u001b[0m\u001b[0;34m\u001b[0m\u001b[0m\n\u001b[0m\u001b[1;32m    821\u001b[0m             \u001b[0;32mexcept\u001b[0m \u001b[0mqueue\u001b[0m\u001b[0;34m.\u001b[0m\u001b[0mEmpty\u001b[0m\u001b[0;34m:\u001b[0m\u001b[0;34m\u001b[0m\u001b[0;34m\u001b[0m\u001b[0m\n",
            "\u001b[0;32m/usr/lib/python3.7/queue.py\u001b[0m in \u001b[0;36mget\u001b[0;34m(self, block, timeout)\u001b[0m\n\u001b[1;32m    166\u001b[0m                 \u001b[0;32mif\u001b[0m \u001b[0;32mnot\u001b[0m \u001b[0mself\u001b[0m\u001b[0;34m.\u001b[0m\u001b[0m_qsize\u001b[0m\u001b[0;34m(\u001b[0m\u001b[0;34m)\u001b[0m\u001b[0;34m:\u001b[0m\u001b[0;34m\u001b[0m\u001b[0;34m\u001b[0m\u001b[0m\n\u001b[0;32m--> 167\u001b[0;31m                     \u001b[0;32mraise\u001b[0m \u001b[0mEmpty\u001b[0m\u001b[0;34m\u001b[0m\u001b[0;34m\u001b[0m\u001b[0m\n\u001b[0m\u001b[1;32m    168\u001b[0m             \u001b[0;32melif\u001b[0m \u001b[0mtimeout\u001b[0m \u001b[0;32mis\u001b[0m \u001b[0;32mNone\u001b[0m\u001b[0;34m:\u001b[0m\u001b[0;34m\u001b[0m\u001b[0;34m\u001b[0m\u001b[0m\n",
            "\u001b[0;31mEmpty\u001b[0m: ",
            "\nDuring handling of the above exception, another exception occurred:\n",
            "\u001b[0;31mKeyboardInterrupt\u001b[0m                         Traceback (most recent call last)",
            "\u001b[0;32m<ipython-input-75-6263b4a8861c>\u001b[0m in \u001b[0;36m<module>\u001b[0;34m()\u001b[0m\n\u001b[1;32m      5\u001b[0m \u001b[0;31m# Silhouette Score\u001b[0m\u001b[0;34m\u001b[0m\u001b[0;34m\u001b[0m\u001b[0;34m\u001b[0m\u001b[0m\n\u001b[1;32m      6\u001b[0m \u001b[0mprint\u001b[0m\u001b[0;34m(\u001b[0m\u001b[0;34m'Silhouette Score'\u001b[0m\u001b[0;34m)\u001b[0m\u001b[0;34m\u001b[0m\u001b[0;34m\u001b[0m\u001b[0m\n\u001b[0;32m----> 7\u001b[0;31m \u001b[0mprint\u001b[0m\u001b[0;34m(\u001b[0m\u001b[0msilhouette_score\u001b[0m\u001b[0;34m(\u001b[0m\u001b[0mX_train\u001b[0m\u001b[0;34m,\u001b[0m\u001b[0my_pred\u001b[0m\u001b[0;34m)\u001b[0m\u001b[0;34m)\u001b[0m\u001b[0;34m\u001b[0m\u001b[0;34m\u001b[0m\u001b[0m\n\u001b[0m\u001b[1;32m      8\u001b[0m \u001b[0mprint\u001b[0m\u001b[0;34m(\u001b[0m\u001b[0;34m\"\\n\"\u001b[0m\u001b[0;34m)\u001b[0m\u001b[0;34m\u001b[0m\u001b[0;34m\u001b[0m\u001b[0m\n",
            "\u001b[0;32m/usr/local/lib/python3.7/dist-packages/tslearn/clustering/utils.py\u001b[0m in \u001b[0;36msilhouette_score\u001b[0;34m(X, labels, metric, sample_size, metric_params, n_jobs, verbose, random_state, **kwds)\u001b[0m\n\u001b[1;32m    172\u001b[0m     \u001b[0;32melif\u001b[0m \u001b[0mmetric\u001b[0m \u001b[0;34m==\u001b[0m \u001b[0;34m\"dtw\"\u001b[0m \u001b[0;32mor\u001b[0m \u001b[0mmetric\u001b[0m \u001b[0;32mis\u001b[0m \u001b[0;32mNone\u001b[0m\u001b[0;34m:\u001b[0m\u001b[0;34m\u001b[0m\u001b[0;34m\u001b[0m\u001b[0m\n\u001b[1;32m    173\u001b[0m         sklearn_X = cdist_dtw(X, n_jobs=n_jobs, verbose=verbose,\n\u001b[0;32m--> 174\u001b[0;31m                               **metric_params_)\n\u001b[0m\u001b[1;32m    175\u001b[0m     \u001b[0;32melif\u001b[0m \u001b[0mmetric\u001b[0m \u001b[0;34m==\u001b[0m \u001b[0;34m\"softdtw\"\u001b[0m\u001b[0;34m:\u001b[0m\u001b[0;34m\u001b[0m\u001b[0;34m\u001b[0m\u001b[0m\n\u001b[1;32m    176\u001b[0m         \u001b[0msklearn_X\u001b[0m \u001b[0;34m=\u001b[0m \u001b[0mcdist_soft_dtw_normalized\u001b[0m\u001b[0;34m(\u001b[0m\u001b[0mX\u001b[0m\u001b[0;34m,\u001b[0m \u001b[0;34m**\u001b[0m\u001b[0mmetric_params_\u001b[0m\u001b[0;34m)\u001b[0m\u001b[0;34m\u001b[0m\u001b[0;34m\u001b[0m\u001b[0m\n",
            "\u001b[0;32m/usr/local/lib/python3.7/dist-packages/tslearn/metrics/dtw_variants.py\u001b[0m in \u001b[0;36mcdist_dtw\u001b[0;34m(dataset1, dataset2, global_constraint, sakoe_chiba_radius, itakura_max_slope, n_jobs, verbose)\u001b[0m\n\u001b[1;32m   1227\u001b[0m                           \u001b[0mglobal_constraint\u001b[0m\u001b[0;34m=\u001b[0m\u001b[0mglobal_constraint\u001b[0m\u001b[0;34m,\u001b[0m\u001b[0;34m\u001b[0m\u001b[0;34m\u001b[0m\u001b[0m\n\u001b[1;32m   1228\u001b[0m                           \u001b[0msakoe_chiba_radius\u001b[0m\u001b[0;34m=\u001b[0m\u001b[0msakoe_chiba_radius\u001b[0m\u001b[0;34m,\u001b[0m\u001b[0;34m\u001b[0m\u001b[0;34m\u001b[0m\u001b[0m\n\u001b[0;32m-> 1229\u001b[0;31m                           itakura_max_slope=itakura_max_slope)\n\u001b[0m\u001b[1;32m   1230\u001b[0m \u001b[0;34m\u001b[0m\u001b[0m\n\u001b[1;32m   1231\u001b[0m \u001b[0;32mdef\u001b[0m \u001b[0mlb_keogh\u001b[0m\u001b[0;34m(\u001b[0m\u001b[0mts_query\u001b[0m\u001b[0;34m,\u001b[0m \u001b[0mts_candidate\u001b[0m\u001b[0;34m=\u001b[0m\u001b[0;32mNone\u001b[0m\u001b[0;34m,\u001b[0m \u001b[0mradius\u001b[0m\u001b[0;34m=\u001b[0m\u001b[0;36m1\u001b[0m\u001b[0;34m,\u001b[0m \u001b[0menvelope_candidate\u001b[0m\u001b[0;34m=\u001b[0m\u001b[0;32mNone\u001b[0m\u001b[0;34m)\u001b[0m\u001b[0;34m:\u001b[0m\u001b[0;34m\u001b[0m\u001b[0;34m\u001b[0m\u001b[0m\n",
            "\u001b[0;32m/usr/local/lib/python3.7/dist-packages/tslearn/metrics/utils.py\u001b[0m in \u001b[0;36m_cdist_generic\u001b[0;34m(dist_fun, dataset1, dataset2, n_jobs, verbose, compute_diagonal, dtype, *args, **kwargs)\u001b[0m\n\u001b[1;32m     67\u001b[0m                 \u001b[0;34m*\u001b[0m\u001b[0margs\u001b[0m\u001b[0;34m,\u001b[0m \u001b[0;34m**\u001b[0m\u001b[0mkwargs\u001b[0m\u001b[0;34m\u001b[0m\u001b[0;34m\u001b[0m\u001b[0m\n\u001b[1;32m     68\u001b[0m             )\n\u001b[0;32m---> 69\u001b[0;31m             \u001b[0;32mfor\u001b[0m \u001b[0mi\u001b[0m \u001b[0;32min\u001b[0m \u001b[0mrange\u001b[0m\u001b[0;34m(\u001b[0m\u001b[0mlen\u001b[0m\u001b[0;34m(\u001b[0m\u001b[0mdataset1\u001b[0m\u001b[0;34m)\u001b[0m\u001b[0;34m)\u001b[0m\u001b[0;34m\u001b[0m\u001b[0;34m\u001b[0m\u001b[0m\n\u001b[0m\u001b[1;32m     70\u001b[0m             for j in range(i if compute_diagonal else i + 1,\n\u001b[1;32m     71\u001b[0m                            len(dataset1))\n",
            "\u001b[0;32m/usr/local/lib/python3.7/dist-packages/joblib/parallel.py\u001b[0m in \u001b[0;36m__call__\u001b[0;34m(self, iterable)\u001b[0m\n\u001b[1;32m   1042\u001b[0m                 \u001b[0mself\u001b[0m\u001b[0;34m.\u001b[0m\u001b[0m_iterating\u001b[0m \u001b[0;34m=\u001b[0m \u001b[0mself\u001b[0m\u001b[0;34m.\u001b[0m\u001b[0m_original_iterator\u001b[0m \u001b[0;32mis\u001b[0m \u001b[0;32mnot\u001b[0m \u001b[0;32mNone\u001b[0m\u001b[0;34m\u001b[0m\u001b[0;34m\u001b[0m\u001b[0m\n\u001b[1;32m   1043\u001b[0m \u001b[0;34m\u001b[0m\u001b[0m\n\u001b[0;32m-> 1044\u001b[0;31m             \u001b[0;32mwhile\u001b[0m \u001b[0mself\u001b[0m\u001b[0;34m.\u001b[0m\u001b[0mdispatch_one_batch\u001b[0m\u001b[0;34m(\u001b[0m\u001b[0miterator\u001b[0m\u001b[0;34m)\u001b[0m\u001b[0;34m:\u001b[0m\u001b[0;34m\u001b[0m\u001b[0;34m\u001b[0m\u001b[0m\n\u001b[0m\u001b[1;32m   1045\u001b[0m                 \u001b[0;32mpass\u001b[0m\u001b[0;34m\u001b[0m\u001b[0;34m\u001b[0m\u001b[0m\n\u001b[1;32m   1046\u001b[0m \u001b[0;34m\u001b[0m\u001b[0m\n",
            "\u001b[0;32m/usr/local/lib/python3.7/dist-packages/joblib/parallel.py\u001b[0m in \u001b[0;36mdispatch_one_batch\u001b[0;34m(self, iterator)\u001b[0m\n\u001b[1;32m    849\u001b[0m                                          \u001b[0mself\u001b[0m\u001b[0;34m.\u001b[0m\u001b[0m_reducer_callback\u001b[0m\u001b[0;34m,\u001b[0m\u001b[0;34m\u001b[0m\u001b[0;34m\u001b[0m\u001b[0m\n\u001b[1;32m    850\u001b[0m                                          self._pickle_cache)\n\u001b[0;32m--> 851\u001b[0;31m                     \u001b[0mself\u001b[0m\u001b[0;34m.\u001b[0m\u001b[0m_ready_batches\u001b[0m\u001b[0;34m.\u001b[0m\u001b[0mput\u001b[0m\u001b[0;34m(\u001b[0m\u001b[0mtasks\u001b[0m\u001b[0;34m)\u001b[0m\u001b[0;34m\u001b[0m\u001b[0;34m\u001b[0m\u001b[0m\n\u001b[0m\u001b[1;32m    852\u001b[0m \u001b[0;34m\u001b[0m\u001b[0m\n\u001b[1;32m    853\u001b[0m                 \u001b[0;31m# finally, get one task.\u001b[0m\u001b[0;34m\u001b[0m\u001b[0;34m\u001b[0m\u001b[0;34m\u001b[0m\u001b[0m\n",
            "\u001b[0;32m/usr/lib/python3.7/queue.py\u001b[0m in \u001b[0;36mput\u001b[0;34m(self, item, block, timeout)\u001b[0m\n\u001b[1;32m    148\u001b[0m                         \u001b[0mself\u001b[0m\u001b[0;34m.\u001b[0m\u001b[0mnot_full\u001b[0m\u001b[0;34m.\u001b[0m\u001b[0mwait\u001b[0m\u001b[0;34m(\u001b[0m\u001b[0mremaining\u001b[0m\u001b[0;34m)\u001b[0m\u001b[0;34m\u001b[0m\u001b[0;34m\u001b[0m\u001b[0m\n\u001b[1;32m    149\u001b[0m             \u001b[0mself\u001b[0m\u001b[0;34m.\u001b[0m\u001b[0m_put\u001b[0m\u001b[0;34m(\u001b[0m\u001b[0mitem\u001b[0m\u001b[0;34m)\u001b[0m\u001b[0;34m\u001b[0m\u001b[0;34m\u001b[0m\u001b[0m\n\u001b[0;32m--> 150\u001b[0;31m             \u001b[0mself\u001b[0m\u001b[0;34m.\u001b[0m\u001b[0munfinished_tasks\u001b[0m \u001b[0;34m+=\u001b[0m \u001b[0;36m1\u001b[0m\u001b[0;34m\u001b[0m\u001b[0;34m\u001b[0m\u001b[0m\n\u001b[0m\u001b[1;32m    151\u001b[0m             \u001b[0mself\u001b[0m\u001b[0;34m.\u001b[0m\u001b[0mnot_empty\u001b[0m\u001b[0;34m.\u001b[0m\u001b[0mnotify\u001b[0m\u001b[0;34m(\u001b[0m\u001b[0;34m)\u001b[0m\u001b[0;34m\u001b[0m\u001b[0;34m\u001b[0m\u001b[0m\n\u001b[1;32m    152\u001b[0m \u001b[0;34m\u001b[0m\u001b[0m\n",
            "\u001b[0;31mKeyboardInterrupt\u001b[0m: "
          ]
        }
      ]
    },
    {
      "cell_type": "code",
      "metadata": {
        "id": "UHjOzsosCqwz"
      },
      "source": [
        "trial = 1\n",
        "km.to_pickle(f\"trial-{trial}-km.pkl\")"
      ],
      "execution_count": 76,
      "outputs": []
    },
    {
      "cell_type": "code",
      "metadata": {
        "colab": {
          "base_uri": "https://localhost:8080/"
        },
        "id": "Vhbb-oCAnvSd",
        "outputId": "033f41c5-b562-4aef-ffac-9a8380f2d36f"
      },
      "source": [
        "# DBA-k-means\n",
        "print(\"DBA k-means\")\n",
        "dba_km = TimeSeriesKMeans(n_clusters=2,\n",
        "                          n_init=1,\n",
        "                          max_iter = 10,\n",
        "                          metric=\"dtw\",\n",
        "                          verbose=True,\n",
        "                          max_iter_barycenter=10,\n",
        "                          random_state=seed)\n",
        "y_pred = dba_km.fit_predict(X_train)\n",
        "print(f\"y_pred.shape {y_pred.shape}\")\n"
      ],
      "execution_count": 77,
      "outputs": [
        {
          "output_type": "stream",
          "name": "stdout",
          "text": [
            "DBA k-means\n"
          ]
        },
        {
          "output_type": "stream",
          "name": "stderr",
          "text": [
            "[Parallel(n_jobs=1)]: Using backend SequentialBackend with 1 concurrent workers.\n",
            "[Parallel(n_jobs=1)]: Done 24291 out of 24291 | elapsed:    4.4s finished\n",
            "[Parallel(n_jobs=1)]: Using backend SequentialBackend with 1 concurrent workers.\n",
            "[Parallel(n_jobs=1)]: Done 48582 out of 48582 | elapsed:    8.7s finished\n",
            "[Parallel(n_jobs=1)]: Using backend SequentialBackend with 1 concurrent workers.\n",
            "[Parallel(n_jobs=1)]: Done 48582 out of 48582 | elapsed:    8.7s finished\n"
          ]
        },
        {
          "output_type": "stream",
          "name": "stdout",
          "text": [
            "0.001 --> "
          ]
        },
        {
          "output_type": "stream",
          "name": "stderr",
          "text": [
            "[Parallel(n_jobs=1)]: Using backend SequentialBackend with 1 concurrent workers.\n",
            "[Parallel(n_jobs=1)]: Done 48582 out of 48582 | elapsed:    8.7s finished\n"
          ]
        },
        {
          "output_type": "stream",
          "name": "stdout",
          "text": [
            "0.001 --> "
          ]
        },
        {
          "output_type": "stream",
          "name": "stderr",
          "text": [
            "[Parallel(n_jobs=1)]: Using backend SequentialBackend with 1 concurrent workers.\n",
            "[Parallel(n_jobs=1)]: Done 48582 out of 48582 | elapsed:    8.7s finished\n"
          ]
        },
        {
          "output_type": "stream",
          "name": "stdout",
          "text": [
            "0.001 --> "
          ]
        },
        {
          "output_type": "stream",
          "name": "stderr",
          "text": [
            "[Parallel(n_jobs=1)]: Using backend SequentialBackend with 1 concurrent workers.\n",
            "[Parallel(n_jobs=1)]: Done 48582 out of 48582 | elapsed:    8.7s finished\n"
          ]
        },
        {
          "output_type": "stream",
          "name": "stdout",
          "text": [
            "0.001 --> "
          ]
        },
        {
          "output_type": "stream",
          "name": "stderr",
          "text": [
            "[Parallel(n_jobs=1)]: Using backend SequentialBackend with 1 concurrent workers.\n",
            "[Parallel(n_jobs=1)]: Done 48582 out of 48582 | elapsed:    8.7s finished\n"
          ]
        },
        {
          "output_type": "stream",
          "name": "stdout",
          "text": [
            "0.001 --> "
          ]
        },
        {
          "output_type": "stream",
          "name": "stderr",
          "text": [
            "[Parallel(n_jobs=1)]: Using backend SequentialBackend with 1 concurrent workers.\n",
            "[Parallel(n_jobs=1)]: Done 48582 out of 48582 | elapsed:    8.8s finished\n"
          ]
        },
        {
          "output_type": "stream",
          "name": "stdout",
          "text": [
            "0.001 --> "
          ]
        },
        {
          "output_type": "stream",
          "name": "stderr",
          "text": [
            "[Parallel(n_jobs=1)]: Using backend SequentialBackend with 1 concurrent workers.\n",
            "[Parallel(n_jobs=1)]: Done 48582 out of 48582 | elapsed:    8.8s finished\n"
          ]
        },
        {
          "output_type": "stream",
          "name": "stdout",
          "text": [
            "0.001 --> "
          ]
        },
        {
          "output_type": "stream",
          "name": "stderr",
          "text": [
            "[Parallel(n_jobs=1)]: Using backend SequentialBackend with 1 concurrent workers.\n",
            "[Parallel(n_jobs=1)]: Done 48582 out of 48582 | elapsed:    8.8s finished\n"
          ]
        },
        {
          "output_type": "stream",
          "name": "stdout",
          "text": [
            "0.001 --> "
          ]
        },
        {
          "output_type": "stream",
          "name": "stderr",
          "text": [
            "[Parallel(n_jobs=1)]: Using backend SequentialBackend with 1 concurrent workers.\n",
            "[Parallel(n_jobs=1)]: Done 48582 out of 48582 | elapsed:    8.8s finished\n"
          ]
        },
        {
          "output_type": "stream",
          "name": "stdout",
          "text": [
            "0.001 --> "
          ]
        },
        {
          "output_type": "stream",
          "name": "stderr",
          "text": [
            "[Parallel(n_jobs=1)]: Using backend SequentialBackend with 1 concurrent workers.\n",
            "[Parallel(n_jobs=1)]: Done 48582 out of 48582 | elapsed:    8.9s finished\n"
          ]
        },
        {
          "output_type": "stream",
          "name": "stdout",
          "text": [
            "0.001 --> \n"
          ]
        },
        {
          "output_type": "stream",
          "name": "stderr",
          "text": [
            "[Parallel(n_jobs=1)]: Using backend SequentialBackend with 1 concurrent workers.\n"
          ]
        },
        {
          "output_type": "stream",
          "name": "stdout",
          "text": [
            "y_pred.shape (24291,)\n"
          ]
        },
        {
          "output_type": "stream",
          "name": "stderr",
          "text": [
            "[Parallel(n_jobs=1)]: Done 48582 out of 48582 | elapsed:    9.0s finished\n"
          ]
        }
      ]
    },
    {
      "cell_type": "code",
      "metadata": {
        "id": "j2qatNapquOD"
      },
      "source": [
        "trial = 1\n",
        "dba_km.to_pickle(f\"trial-{trial}-dba-km.pkl\")"
      ],
      "execution_count": 78,
      "outputs": []
    },
    {
      "cell_type": "code",
      "metadata": {
        "colab": {
          "base_uri": "https://localhost:8080/",
          "height": 163
        },
        "id": "9GUIRho0n18R",
        "outputId": "706161d1-2435-44be-a92d-ca7ffab30d67"
      },
      "source": [
        "for yi in range(2):\n",
        "    plt.subplot(2, 2, 1 + yi)\n",
        "    for xx in X_train[y_pred == yi][:10]:\n",
        "        plt.plot(xx.ravel(), \"k-\", alpha=.2)\n",
        "    plt.plot(dba_km.cluster_centers_[yi].ravel(), \"r-\")\n",
        "    plt.xlim(0, sz)\n",
        "    plt.ylim(0.1, 0.2)\n",
        "    plt.text(0.55, 0.85,'Cluster %d' % (yi + 1),\n",
        "             transform=plt.gca().transAxes)\n",
        "    if yi == 1:\n",
        "        plt.title(\"DBA $k$-means\")"
      ],
      "execution_count": 79,
      "outputs": [
        {
          "output_type": "display_data",
          "data": {
            "image/png": "[encoded data removed]",
            "text/plain": [
              "<Figure size 432x288 with 2 Axes>"
            ]
          },
          "metadata": {
            "needs_background": "light"
          }
        }
      ]
    },
    {
      "cell_type": "code",
      "metadata": {
        "colab": {
          "base_uri": "https://localhost:8080/"
        },
        "id": "B9A3ihqYEKH_",
        "outputId": "cff8c6da-bac2-4cf9-98fd-47a440f6c770"
      },
      "source": [
        "# Frequency count of the Output clusters\n",
        "unique, counts = np.unique(y_pred, return_counts=True)\n",
        "print('K Means DTW Output Cluster Frequency')\n",
        "print(dict(zip(unique, counts)))"
      ],
      "execution_count": 80,
      "outputs": [
        {
          "output_type": "stream",
          "name": "stdout",
          "text": [
            "K Means DTW Output Cluster Frequency\n",
            "{0: 13854, 1: 10437}\n"
          ]
        }
      ]
    },
    {
      "cell_type": "markdown",
      "metadata": {
        "id": "tlnRqCPJqedc"
      },
      "source": [
        "### Part 2: Use TimeSeriesScalerMeanVariance()"
      ]
    },
    {
      "cell_type": "code",
      "metadata": {
        "colab": {
          "base_uri": "https://localhost:8080/",
          "height": 322
        },
        "id": "ZGrqQZr-rY3t",
        "outputId": "62836177-ecbd-43ea-bd88-ee527f6ddf64"
      },
      "source": [
        "import numpy\n",
        "import matplotlib.pyplot as plt\n",
        "\n",
        "from tslearn.clustering import TimeSeriesKMeans\n",
        "from tslearn.datasets import CachedDatasets\n",
        "from tslearn.preprocessing import TimeSeriesScalerMeanVariance, \\\n",
        "    TimeSeriesResampler\n",
        "\n",
        "seed = 0\n",
        "numpy.random.seed(seed)\n",
        "# X_train, y_train, X_test, y_test = CachedDatasets().load_dataset(\"Trace\")\n",
        "X_train = data_df.values\n",
        "print(f\"X_train.shape {X_train.shape}\")\n",
        "# print(f\"y_train.shape {y_train.shape}\")\n",
        "# print(f\"X_test.shape {X_test.shape}\")\n",
        "# print(f\"y_test.shape {y_test.shape}\") \n",
        "X_train = np.reshape(X_train, (X_train.shape[0], X_train.shape[1], 1))\n",
        "print(f\"X_train.shape {X_train.shape}\")\n",
        "\n",
        "\n",
        "X_train = TimeSeriesScalerMeanVariance().fit_transform(X_train)\n",
        "print(f\"X_train.shape {X_train.shape}\")\n",
        "n_clusters = 5\n",
        "# Euclidean k-means\n",
        "print(\"Euclidean k-means\")\n",
        "km = TimeSeriesKMeans(n_clusters=n_clusters, verbose=True, random_state=seed)\n",
        "y_pred = km.fit_predict(X_train)\n",
        "print(f\"y_pred.shape {y_pred.shape}\")\n",
        "\n",
        "trial = 2\n",
        "path_km = f\"trial-{trial}-km.pkl\"\n",
        "km.to_pickle(f\"{path_km}.pkl\")\n",
        "plt.figure(figsize=(15,15))\n",
        "for yi in range(n_clusters):\n",
        "    plt.subplot(n_clusters, n_clusters, yi + 1)\n",
        "    for xx in X_train[y_pred == yi][:10]:\n",
        "        plt.plot(xx.ravel(), \"k-\", alpha=.2)\n",
        "    plt.plot(km.cluster_centers_[yi].ravel(), \"r-\")\n",
        "    plt.xlim(0, sz)\n",
        "    plt.ylim(-2.5, 2.5)\n",
        "    plt.text(0.55, 0.85,'Cluster %d' % (yi + 1),\n",
        "             transform=plt.gca().transAxes)\n",
        "    if yi == 1:\n",
        "        plt.title(\"Euclidean $k$-means\")"
      ],
      "execution_count": 69,
      "outputs": [
        {
          "output_type": "stream",
          "name": "stdout",
          "text": [
            "X_train.shape (24291, 60)\n",
            "X_train.shape (24291, 60, 1)\n",
            "X_train.shape (24291, 60, 1)\n",
            "Euclidean k-means\n",
            "45.452 --> 30.099 --> 29.615 --> 29.397 --> 29.253 --> 29.145 --> 29.065 --> 29.012 --> 28.973 --> 28.947 --> 28.926 --> 28.910 --> 28.899 --> 28.893 --> 28.888 --> 28.885 --> 28.883 --> 28.882 --> 28.882 --> 28.881 --> 28.881 --> 28.881 --> 28.881 --> 28.881 --> 28.881 --> 28.881 --> 28.881 --> 28.881 --> 28.881 --> 28.881 --> 28.881 --> 28.881 --> 28.881 --> 28.881 --> 28.881 --> 28.881 --> 28.881 --> 28.881 --> 28.881 --> 28.881 --> 28.881 --> 28.881 --> 28.881 --> \n",
            "y_pred.shape (24291,)\n"
          ]
        },
        {
          "output_type": "display_data",
          "data": {
            "image/png": "[encoded data removed]",
            "text/plain": [
              "<Figure size 1080x1080 with 5 Axes>"
            ]
          },
          "metadata": {
            "needs_background": "light"
          }
        }
      ]
    },
    {
      "cell_type": "code",
      "metadata": {
        "colab": {
          "base_uri": "https://localhost:8080/"
        },
        "id": "2ZNlZ0spsdVA",
        "outputId": "f1ea517a-8add-428d-f3e4-42146c4c32f0"
      },
      "source": [
        "n_clusters = 5\n",
        "# Euclidean k-means\n",
        "print(\"Euclidean k-means\")\n",
        "km = TimeSeriesKMeans()\n",
        "trial = 2\n",
        "path_km = f\"trial-{trial}-km.pkl.pkl\"\n",
        "km.from_pickle(path_km)\n",
        "\n",
        "km"
      ],
      "execution_count": 67,
      "outputs": [
        {
          "output_type": "stream",
          "name": "stdout",
          "text": [
            "Euclidean k-means\n"
          ]
        },
        {
          "output_type": "execute_result",
          "data": {
            "text/plain": [
              "TimeSeriesKMeans(dtw_inertia=False, init='k-means++', max_iter=50,\n",
              "                 max_iter_barycenter=100, metric='euclidean',\n",
              "                 metric_params=None, n_clusters=3, n_init=1, n_jobs=None,\n",
              "                 random_state=None, tol=1e-06, verbose=0)"
            ]
          },
          "metadata": {},
          "execution_count": 67
        }
      ]
    },
    {
      "cell_type": "code",
      "metadata": {
        "colab": {
          "base_uri": "https://localhost:8080/"
        },
        "id": "l05Krs_PAPrB",
        "outputId": "a38e8a8d-19b1-46c2-ed23-903f7116b387"
      },
      "source": [
        "# y_pred = km.predict(X_train)\n",
        "\n",
        "# Frequency count of the Output clusters\n",
        "unique, counts = np.unique(y_pred, return_counts=True)\n",
        "print(f'Trial {trial} Kmeans : Output Cluster Frequency')\n",
        "print(dict(zip(unique, counts)))"
      ],
      "execution_count": 70,
      "outputs": [
        {
          "output_type": "stream",
          "name": "stdout",
          "text": [
            "Trial 2 Kmeans : Output Cluster Frequency\n",
            "{0: 4971, 1: 5544, 2: 3596, 3: 6622, 4: 3558}\n"
          ]
        }
      ]
    },
    {
      "cell_type": "code",
      "metadata": {
        "colab": {
          "base_uri": "https://localhost:8080/"
        },
        "id": "a-4XZSA_sE6y",
        "outputId": "01191a76-c5f6-4352-fe8e-dbcd99638558"
      },
      "source": [
        "# DBA-k-means\n",
        "print(\"DBA k-means\")\n",
        "dba_km = TimeSeriesKMeans(n_clusters=5,\n",
        "                          n_init=1,\n",
        "                          max_iter = 10,\n",
        "                          metric=\"dtw\",\n",
        "                          verbose=True,\n",
        "                          max_iter_barycenter=10,\n",
        "                          random_state=seed)\n",
        "y_pred = dba_km.fit_predict(X_train)\n",
        "print(f\"y_pred.shape {y_pred.shape}\")\n",
        "\n",
        "dba_km.to_pickle(f\"trial-{trial}-dba-km.pkl\")"
      ],
      "execution_count": 57,
      "outputs": [
        {
          "output_type": "stream",
          "name": "stdout",
          "text": [
            "DBA k-means\n"
          ]
        },
        {
          "output_type": "stream",
          "name": "stderr",
          "text": [
            "[Parallel(n_jobs=1)]: Using backend SequentialBackend with 1 concurrent workers.\n",
            "[Parallel(n_jobs=1)]: Done 24291 out of 24291 | elapsed:    4.5s finished\n",
            "[Parallel(n_jobs=1)]: Using backend SequentialBackend with 1 concurrent workers.\n",
            "[Parallel(n_jobs=1)]: Done 72873 out of 72873 | elapsed:   13.9s finished\n",
            "[Parallel(n_jobs=1)]: Using backend SequentialBackend with 1 concurrent workers.\n",
            "[Parallel(n_jobs=1)]: Done 72873 out of 72873 | elapsed:   14.0s finished\n",
            "[Parallel(n_jobs=1)]: Using backend SequentialBackend with 1 concurrent workers.\n",
            "[Parallel(n_jobs=1)]: Done 72873 out of 72873 | elapsed:   14.0s finished\n",
            "[Parallel(n_jobs=1)]: Using backend SequentialBackend with 1 concurrent workers.\n",
            "[Parallel(n_jobs=1)]: Done 72873 out of 72873 | elapsed:   14.0s finished\n",
            "[Parallel(n_jobs=1)]: Using backend SequentialBackend with 1 concurrent workers.\n",
            "[Parallel(n_jobs=1)]: Done 121455 out of 121455 | elapsed:   22.7s finished\n"
          ]
        },
        {
          "output_type": "stream",
          "name": "stdout",
          "text": [
            "12.788 --> "
          ]
        },
        {
          "output_type": "stream",
          "name": "stderr",
          "text": [
            "[Parallel(n_jobs=1)]: Using backend SequentialBackend with 1 concurrent workers.\n",
            "[Parallel(n_jobs=1)]: Done 121455 out of 121455 | elapsed:   22.7s finished\n"
          ]
        },
        {
          "output_type": "stream",
          "name": "stdout",
          "text": [
            "9.013 --> "
          ]
        },
        {
          "output_type": "stream",
          "name": "stderr",
          "text": [
            "[Parallel(n_jobs=1)]: Using backend SequentialBackend with 1 concurrent workers.\n",
            "[Parallel(n_jobs=1)]: Done 121455 out of 121455 | elapsed:   22.8s finished\n"
          ]
        },
        {
          "output_type": "stream",
          "name": "stdout",
          "text": [
            "8.886 --> "
          ]
        },
        {
          "output_type": "stream",
          "name": "stderr",
          "text": [
            "[Parallel(n_jobs=1)]: Using backend SequentialBackend with 1 concurrent workers.\n",
            "[Parallel(n_jobs=1)]: Done 121455 out of 121455 | elapsed:   22.9s finished\n"
          ]
        },
        {
          "output_type": "stream",
          "name": "stdout",
          "text": [
            "8.829 --> "
          ]
        },
        {
          "output_type": "stream",
          "name": "stderr",
          "text": [
            "[Parallel(n_jobs=1)]: Using backend SequentialBackend with 1 concurrent workers.\n",
            "[Parallel(n_jobs=1)]: Done 121455 out of 121455 | elapsed:   22.9s finished\n"
          ]
        },
        {
          "output_type": "stream",
          "name": "stdout",
          "text": [
            "8.800 --> "
          ]
        },
        {
          "output_type": "stream",
          "name": "stderr",
          "text": [
            "[Parallel(n_jobs=1)]: Using backend SequentialBackend with 1 concurrent workers.\n",
            "[Parallel(n_jobs=1)]: Done 121455 out of 121455 | elapsed:   22.8s finished\n"
          ]
        },
        {
          "output_type": "stream",
          "name": "stdout",
          "text": [
            "8.782 --> "
          ]
        },
        {
          "output_type": "stream",
          "name": "stderr",
          "text": [
            "[Parallel(n_jobs=1)]: Using backend SequentialBackend with 1 concurrent workers.\n",
            "[Parallel(n_jobs=1)]: Done 121455 out of 121455 | elapsed:   22.7s finished\n"
          ]
        },
        {
          "output_type": "stream",
          "name": "stdout",
          "text": [
            "8.771 --> "
          ]
        },
        {
          "output_type": "stream",
          "name": "stderr",
          "text": [
            "[Parallel(n_jobs=1)]: Using backend SequentialBackend with 1 concurrent workers.\n",
            "[Parallel(n_jobs=1)]: Done 121455 out of 121455 | elapsed:   22.7s finished\n"
          ]
        },
        {
          "output_type": "stream",
          "name": "stdout",
          "text": [
            "8.766 --> "
          ]
        },
        {
          "output_type": "stream",
          "name": "stderr",
          "text": [
            "[Parallel(n_jobs=1)]: Using backend SequentialBackend with 1 concurrent workers.\n",
            "[Parallel(n_jobs=1)]: Done 121455 out of 121455 | elapsed:   22.8s finished\n"
          ]
        },
        {
          "output_type": "stream",
          "name": "stdout",
          "text": [
            "8.762 --> "
          ]
        },
        {
          "output_type": "stream",
          "name": "stderr",
          "text": [
            "[Parallel(n_jobs=1)]: Using backend SequentialBackend with 1 concurrent workers.\n",
            "[Parallel(n_jobs=1)]: Done 121455 out of 121455 | elapsed:   22.7s finished\n"
          ]
        },
        {
          "output_type": "stream",
          "name": "stdout",
          "text": [
            "8.759 --> \n"
          ]
        },
        {
          "output_type": "stream",
          "name": "stderr",
          "text": [
            "[Parallel(n_jobs=1)]: Using backend SequentialBackend with 1 concurrent workers.\n"
          ]
        },
        {
          "output_type": "stream",
          "name": "stdout",
          "text": [
            "y_pred.shape (24291,)\n"
          ]
        },
        {
          "output_type": "stream",
          "name": "stderr",
          "text": [
            "[Parallel(n_jobs=1)]: Done 121455 out of 121455 | elapsed:   23.0s finished\n"
          ]
        }
      ]
    },
    {
      "cell_type": "code",
      "metadata": {
        "colab": {
          "base_uri": "https://localhost:8080/",
          "height": 205
        },
        "id": "MArWzAwLtRW-",
        "outputId": "746095d5-f151-4930-8205-0d460a655d85"
      },
      "source": [
        "plt.figure(figsize=(15,15))\n",
        "for yi in range(n_clusters):\n",
        "    plt.subplot(n_clusters, n_clusters, yi + 1)\n",
        "    for xx in X_train[y_pred == yi][:10]:\n",
        "        plt.plot(xx.ravel(), \"k-\", alpha=.2)\n",
        "    plt.plot(km.cluster_centers_[yi].ravel(), \"r-\")\n",
        "    plt.xlim(0, sz)\n",
        "    plt.ylim(-2.5, 2.5)\n",
        "    plt.text(0.55, 0.85,'Cluster %d' % (yi + 1),\n",
        "             transform=plt.gca().transAxes)\n",
        "    if yi == 1:\n",
        "        plt.title(\"DBA $k$-means\")"
      ],
      "execution_count": 58,
      "outputs": [
        {
          "output_type": "display_data",
          "data": {
            "image/png": "[encoded data removed]",
            "text/plain": [
              "<Figure size 1080x1080 with 5 Axes>"
            ]
          },
          "metadata": {
            "needs_background": "light"
          }
        }
      ]
    },
    {
      "cell_type": "code",
      "metadata": {
        "colab": {
          "base_uri": "https://localhost:8080/"
        },
        "id": "Ef1s9WFl6kAs",
        "outputId": "0694bf49-c5d2-452e-e1a8-526fda35c666"
      },
      "source": [
        "from tslearn.clustering import silhouette_score\n",
        "# Frequency count of the Output clusters\n",
        "unique, counts = np.unique(y_pred, return_counts=True)\n",
        "print(f'Trial {trial} Kmeans DTW: Output Cluster Frequency')\n",
        "print(dict(zip(unique, counts)))\n",
        "# # Silhouette Score\n",
        "# print('Silhouette Score')\n",
        "# print(silhouette_score(X_train ,y_pred))\n",
        "# print(\"\\n\")"
      ],
      "execution_count": 61,
      "outputs": [
        {
          "output_type": "stream",
          "name": "stdout",
          "text": [
            "Trial 2 Kmeans DTW: Output Cluster Frequency\n",
            "{0: 5282, 1: 5552, 2: 4371, 3: 4367, 4: 4719}\n"
          ]
        }
      ]
    },
    {
      "cell_type": "markdown",
      "metadata": {
        "id": "LHV3J4q47KcD"
      },
      "source": [
        "## Rough of tslearn from this plot_kmeans.py code\n",
        "\n"
      ]
    },
    {
      "cell_type": "code",
      "metadata": {
        "colab": {
          "base_uri": "https://localhost:8080/"
        },
        "id": "J6254Lia7RHa",
        "outputId": "64f97287-e679-4372-84c6-e3d7a848c142"
      },
      "source": [
        "import numpy\n",
        "import matplotlib.pyplot as plt\n",
        "\n",
        "from tslearn.clustering import TimeSeriesKMeans\n",
        "from tslearn.datasets import CachedDatasets\n",
        "from tslearn.preprocessing import TimeSeriesScalerMeanVariance, \\\n",
        "    TimeSeriesResampler\n",
        "\n",
        "seed = 0\n",
        "numpy.random.seed(seed)\n",
        "X_train, y_train, X_test, y_test = CachedDatasets().load_dataset(\"Trace\")\n",
        "\n",
        "print(f\"X_train.shape {X_train.shape}\")\n",
        "print(f\"y_train.shape {y_train.shape}\")\n",
        "print(f\"X_test.shape {X_test.shape}\")\n",
        "print(f\"y_test.shape {y_test.shape}\") \n"
      ],
      "execution_count": 2,
      "outputs": [
        {
          "output_type": "stream",
          "name": "stdout",
          "text": [
            "X_train.shape (100, 275, 1)\n",
            "y_train.shape (100,)\n",
            "X_test.shape (100, 275, 1)\n",
            "y_test.shape (100,)\n"
          ]
        },
        {
          "output_type": "stream",
          "name": "stderr",
          "text": [
            "/usr/local/lib/python3.7/dist-packages/tslearn/clustering/kmeans.py:17: UserWarning: Scikit-learn <0.24 will be deprecated in a future release of tslearn\n",
            "  \"Scikit-learn <0.24 will be deprecated in a \"\n"
          ]
        }
      ]
    },
    {
      "cell_type": "code",
      "metadata": {
        "colab": {
          "base_uri": "https://localhost:8080/"
        },
        "id": "Q-GChzZU7v-7",
        "outputId": "862d2152-84ec-4196-ca8a-08f1a43f45da"
      },
      "source": [
        "y_train"
      ],
      "execution_count": 8,
      "outputs": [
        {
          "output_type": "execute_result",
          "data": {
            "text/plain": [
              "array([1, 2, 4, 3, 1, 4, 4, 1, 1, 4, 4, 4, 4, 3, 4, 1, 3, 2, 4, 4, 4, 4,\n",
              "       3, 2, 1, 2, 4, 4, 2, 4, 1, 1, 4, 4, 2, 1, 1, 2, 1, 1, 3, 3, 3, 3,\n",
              "       3, 1, 4, 4, 4, 2, 4, 3, 2, 1, 4, 2, 2, 2, 2, 1, 3, 2, 4, 3, 3, 2,\n",
              "       2, 1, 4, 4, 2, 3, 2, 1, 3, 4, 1, 1, 3, 3, 1, 3, 1, 3, 3, 3, 4, 1,\n",
              "       2, 1, 4, 4, 4, 1, 3, 1, 2, 4, 1, 2])"
            ]
          },
          "metadata": {},
          "execution_count": 8
        }
      ]
    },
    {
      "cell_type": "code",
      "metadata": {
        "colab": {
          "base_uri": "https://localhost:8080/"
        },
        "id": "AbT8fUBf7iw8",
        "outputId": "98747ce4-03d5-4ace-bcba-5f64195bf9cb"
      },
      "source": [
        "X_train = X_train[y_train < 4]  # Keep first 3 classes\n",
        "print(f\"X_train.shape {X_train.shape}\")"
      ],
      "execution_count": 3,
      "outputs": [
        {
          "output_type": "stream",
          "name": "stdout",
          "text": [
            "X_train.shape (69, 275, 1)\n"
          ]
        }
      ]
    },
    {
      "cell_type": "code",
      "metadata": {
        "colab": {
          "base_uri": "https://localhost:8080/"
        },
        "id": "FomMhiNK7syk",
        "outputId": "9702e993-693b-4ac1-d87c-a894b6591a75"
      },
      "source": [
        "numpy.random.shuffle(X_train)\n",
        "# Keep only 50 time series\n",
        "X_train = TimeSeriesScalerMeanVariance().fit_transform(X_train[:50])\n",
        "print(f\"X_train.shape {X_train.shape}\")"
      ],
      "execution_count": 9,
      "outputs": [
        {
          "output_type": "stream",
          "name": "stdout",
          "text": [
            "X_train.shape (50, 275, 1)\n"
          ]
        }
      ]
    },
    {
      "cell_type": "code",
      "metadata": {
        "colab": {
          "base_uri": "https://localhost:8080/"
        },
        "id": "Dh4Oqed68AD5",
        "outputId": "d0990f6d-5ec0-4ee8-acb6-a571bbfb1e16"
      },
      "source": [
        "# Make time series shorter\n",
        "X_train = TimeSeriesResampler(sz=40).fit_transform(X_train)\n",
        "sz = X_train.shape[1]\n",
        "print(f\"X_train.shape {X_train.shape}\")"
      ],
      "execution_count": 10,
      "outputs": [
        {
          "output_type": "stream",
          "name": "stdout",
          "text": [
            "X_train.shape (50, 40, 1)\n"
          ]
        }
      ]
    },
    {
      "cell_type": "code",
      "metadata": {
        "colab": {
          "base_uri": "https://localhost:8080/"
        },
        "id": "g-qP1Qgs8JiX",
        "outputId": "1456bf5b-aeb7-41dc-8b5f-7eb215643ad1"
      },
      "source": [
        "# Euclidean k-means\n",
        "print(\"Euclidean k-means\")\n",
        "km = TimeSeriesKMeans(n_clusters=3, verbose=True, random_state=seed)\n",
        "y_pred = km.fit_predict(X_train)\n",
        "print(f\"y_pred.shape {y_pred.shape}\")"
      ],
      "execution_count": 11,
      "outputs": [
        {
          "output_type": "stream",
          "name": "stdout",
          "text": [
            "Euclidean k-means\n",
            "16.434 --> 9.437 --> 9.437 --> \n",
            "y_pred.shape (50,)\n"
          ]
        }
      ]
    },
    {
      "cell_type": "code",
      "metadata": {
        "colab": {
          "base_uri": "https://localhost:8080/"
        },
        "id": "XR-Fo3Hq8SVY",
        "outputId": "ba0a251d-c01f-41d7-dea5-c816c481e5aa"
      },
      "source": [
        "X_train.shape"
      ],
      "execution_count": 13,
      "outputs": [
        {
          "output_type": "execute_result",
          "data": {
            "text/plain": [
              "(50, 40, 1)"
            ]
          },
          "metadata": {},
          "execution_count": 13
        }
      ]
    },
    {
      "cell_type": "code",
      "metadata": {
        "colab": {
          "base_uri": "https://localhost:8080/"
        },
        "id": "Vyt60Yi28w67",
        "outputId": "b41ee5ff-b028-4e2d-a6e6-8cbfefb64bde"
      },
      "source": [
        "X_train[y_pred==0]"
      ],
      "execution_count": 16,
      "outputs": [
        {
          "output_type": "execute_result",
          "data": {
            "text/plain": [
              "array([[[0.70284807],\n",
              "        [0.67041062],\n",
              "        [0.66094803],\n",
              "        ...,\n",
              "        [0.58290225],\n",
              "        [0.5847045 ],\n",
              "        [0.59973054]],\n",
              "\n",
              "       [[0.74917335],\n",
              "        [0.76323099],\n",
              "        [0.77555676],\n",
              "        ...,\n",
              "        [0.64616455],\n",
              "        [0.77923962],\n",
              "        [0.72560044]],\n",
              "\n",
              "       [[0.66507992],\n",
              "        [0.73198567],\n",
              "        [0.70753275],\n",
              "        ...,\n",
              "        [0.627022  ],\n",
              "        [0.66319598],\n",
              "        [0.68089868]],\n",
              "\n",
              "       ...,\n",
              "\n",
              "       [[0.60763547],\n",
              "        [0.62857076],\n",
              "        [0.66625345],\n",
              "        ...,\n",
              "        [0.60725015],\n",
              "        [0.56120968],\n",
              "        [0.55960805]],\n",
              "\n",
              "       [[0.75458352],\n",
              "        [0.78165687],\n",
              "        [0.80198359],\n",
              "        ...,\n",
              "        [0.74927489],\n",
              "        [0.7479381 ],\n",
              "        [0.74485583]],\n",
              "\n",
              "       [[0.66455793],\n",
              "        [0.56782604],\n",
              "        [0.65111839],\n",
              "        ...,\n",
              "        [0.55524164],\n",
              "        [0.55725016],\n",
              "        [0.56296336]]])"
            ]
          },
          "metadata": {},
          "execution_count": 16
        }
      ]
    },
    {
      "cell_type": "code",
      "metadata": {
        "colab": {
          "base_uri": "https://localhost:8080/"
        },
        "id": "NoJUgEG88qIL",
        "outputId": "ac81f2e4-d8af-4c36-d6a8-385358c96aa9"
      },
      "source": [
        "y_pred"
      ],
      "execution_count": 15,
      "outputs": [
        {
          "output_type": "execute_result",
          "data": {
            "text/plain": [
              "array([0, 2, 1, 0, 1, 0, 0, 0, 0, 1, 1, 1, 0, 0, 2, 1, 0, 0, 2, 1, 0, 1,\n",
              "       2, 2, 0, 1, 0, 1, 1, 2, 0, 0, 0, 0, 1, 0, 2, 0, 0, 0, 2, 0, 0, 2,\n",
              "       0, 0, 1, 0, 1, 0])"
            ]
          },
          "metadata": {},
          "execution_count": 15
        }
      ]
    },
    {
      "cell_type": "code",
      "metadata": {
        "colab": {
          "base_uri": "https://localhost:8080/",
          "height": 128
        },
        "id": "OjixGMXZ8eb6",
        "outputId": "984603b2-fd76-4021-ea6a-2fac9d40d174"
      },
      "source": [
        "plt.figure()\n",
        "for yi in range(3):\n",
        "    plt.subplot(3, 3, yi + 1)\n",
        "    for xx in X_train[y_pred == yi]:\n",
        "        plt.plot(xx.ravel(), \"k-\", alpha=.2)\n",
        "    plt.plot(km.cluster_centers_[yi].ravel(), \"r-\")\n",
        "    plt.xlim(0, sz)\n",
        "    plt.ylim(-4, 4)\n",
        "    plt.text(0.55, 0.85,'Cluster %d' % (yi + 1),\n",
        "             transform=plt.gca().transAxes)\n",
        "    if yi == 1:\n",
        "        plt.title(\"Euclidean $k$-means\")"
      ],
      "execution_count": 14,
      "outputs": [
        {
          "output_type": "display_data",
          "data": {
            "image/png": "[encoded data removed]",
            "text/plain": [
              "<Figure size 432x288 with 3 Axes>"
            ]
          },
          "metadata": {
            "needs_background": "light"
          }
        }
      ]
    },
    {
      "cell_type": "code",
      "metadata": {
        "colab": {
          "base_uri": "https://localhost:8080/",
          "height": 697
        },
        "id": "RKqLI9aL8kQR",
        "outputId": "d1d42e80-9a14-4c4f-844e-92fb293d27d2"
      },
      "source": [
        "# DBA-k-means\n",
        "print(\"DBA k-means\")\n",
        "dba_km = TimeSeriesKMeans(n_clusters=3,\n",
        "                          n_init=2,\n",
        "                          metric=\"dtw\",\n",
        "                          verbose=True,\n",
        "                          max_iter_barycenter=10,\n",
        "                          random_state=seed)\n",
        "y_pred = dba_km.fit_predict(X_train)\n",
        "\n",
        "for yi in range(3):\n",
        "    plt.subplot(3, 3, 4 + yi)\n",
        "    for xx in X_train[y_pred == yi]:\n",
        "        plt.plot(xx.ravel(), \"k-\", alpha=.2)\n",
        "    plt.plot(dba_km.cluster_centers_[yi].ravel(), \"r-\")\n",
        "    plt.xlim(0, sz)\n",
        "    plt.ylim(-4, 4)\n",
        "    plt.text(0.55, 0.85,'Cluster %d' % (yi + 1),\n",
        "             transform=plt.gca().transAxes)\n",
        "    if yi == 1:\n",
        "        plt.title(\"DBA $k$-means\")\n"
      ],
      "execution_count": 18,
      "outputs": [
        {
          "output_type": "stream",
          "name": "stdout",
          "text": [
            "DBA k-means\n",
            "Init 1\n"
          ]
        },
        {
          "output_type": "stream",
          "name": "stderr",
          "text": [
            "[Parallel(n_jobs=1)]: Using backend SequentialBackend with 1 concurrent workers.\n",
            "[Parallel(n_jobs=1)]: Done  50 out of  50 | elapsed:    1.0s finished\n",
            "[Parallel(n_jobs=1)]: Using backend SequentialBackend with 1 concurrent workers.\n",
            "[Parallel(n_jobs=1)]: Done 150 out of 150 | elapsed:    0.0s finished\n",
            "[Parallel(n_jobs=1)]: Using backend SequentialBackend with 1 concurrent workers.\n",
            "[Parallel(n_jobs=1)]: Done 150 out of 150 | elapsed:    0.0s finished\n",
            "[Parallel(n_jobs=1)]: Using backend SequentialBackend with 1 concurrent workers.\n",
            "[Parallel(n_jobs=1)]: Done 150 out of 150 | elapsed:    0.0s finished\n"
          ]
        },
        {
          "output_type": "stream",
          "name": "stdout",
          "text": [
            "0.637 --> "
          ]
        },
        {
          "output_type": "stream",
          "name": "stderr",
          "text": [
            "[Parallel(n_jobs=1)]: Using backend SequentialBackend with 1 concurrent workers.\n",
            "[Parallel(n_jobs=1)]: Done 150 out of 150 | elapsed:    0.0s finished\n",
            "[Parallel(n_jobs=1)]: Using backend SequentialBackend with 1 concurrent workers.\n",
            "[Parallel(n_jobs=1)]: Done 150 out of 150 | elapsed:    0.0s finished\n",
            "[Parallel(n_jobs=1)]: Using backend SequentialBackend with 1 concurrent workers.\n",
            "[Parallel(n_jobs=1)]: Done  50 out of  50 | elapsed:    0.0s finished\n",
            "[Parallel(n_jobs=1)]: Using backend SequentialBackend with 1 concurrent workers.\n",
            "[Parallel(n_jobs=1)]: Done 150 out of 150 | elapsed:    0.0s finished\n",
            "[Parallel(n_jobs=1)]: Using backend SequentialBackend with 1 concurrent workers.\n",
            "[Parallel(n_jobs=1)]: Done 150 out of 150 | elapsed:    0.0s finished\n",
            "[Parallel(n_jobs=1)]: Using backend SequentialBackend with 1 concurrent workers.\n",
            "[Parallel(n_jobs=1)]: Done 150 out of 150 | elapsed:    0.0s finished\n"
          ]
        },
        {
          "output_type": "stream",
          "name": "stdout",
          "text": [
            "0.458 --> 0.458 --> \n",
            "Init 2\n",
            "0.826 --> "
          ]
        },
        {
          "output_type": "stream",
          "name": "stderr",
          "text": [
            "[Parallel(n_jobs=1)]: Using backend SequentialBackend with 1 concurrent workers.\n",
            "[Parallel(n_jobs=1)]: Done 150 out of 150 | elapsed:    0.0s finished\n",
            "[Parallel(n_jobs=1)]: Using backend SequentialBackend with 1 concurrent workers.\n",
            "[Parallel(n_jobs=1)]: Done 150 out of 150 | elapsed:    0.0s finished\n"
          ]
        },
        {
          "output_type": "stream",
          "name": "stdout",
          "text": [
            "0.525 --> 0.477 --> "
          ]
        },
        {
          "output_type": "stream",
          "name": "stderr",
          "text": [
            "[Parallel(n_jobs=1)]: Using backend SequentialBackend with 1 concurrent workers.\n",
            "[Parallel(n_jobs=1)]: Done 150 out of 150 | elapsed:    0.0s finished\n",
            "[Parallel(n_jobs=1)]: Using backend SequentialBackend with 1 concurrent workers.\n",
            "[Parallel(n_jobs=1)]: Done 150 out of 150 | elapsed:    0.0s finished\n",
            "[Parallel(n_jobs=1)]: Using backend SequentialBackend with 1 concurrent workers.\n",
            "[Parallel(n_jobs=1)]: Done 150 out of 150 | elapsed:    0.0s finished\n"
          ]
        },
        {
          "output_type": "stream",
          "name": "stdout",
          "text": [
            "0.472 --> 0.472 --> \n"
          ]
        },
        {
          "output_type": "display_data",
          "data": {
            "image/png": "[encoded data removed]",
            "text/plain": [
              "<Figure size 432x288 with 3 Axes>"
            ]
          },
          "metadata": {
            "needs_background": "light"
          }
        }
      ]
    },
    {
      "cell_type": "code",
      "metadata": {
        "colab": {
          "base_uri": "https://localhost:8080/",
          "height": 161
        },
        "id": "HLGi1npn847B",
        "outputId": "5fe2f587-4f86-4a9b-8b08-77e418391371"
      },
      "source": [
        "# Soft-DTW-k-means\n",
        "print(\"Soft-DTW k-means\")\n",
        "sdtw_km = TimeSeriesKMeans(n_clusters=3,\n",
        "                           metric=\"softdtw\",\n",
        "                           metric_params={\"gamma\": .01},\n",
        "                           verbose=True,\n",
        "                           random_state=seed)\n",
        "y_pred = sdtw_km.fit_predict(X_train)\n",
        "\n",
        "for yi in range(3):\n",
        "    plt.subplot(3, 3, 7 + yi)\n",
        "    for xx in X_train[y_pred == yi]:\n",
        "        plt.plot(xx.ravel(), \"k-\", alpha=.2)\n",
        "    plt.plot(sdtw_km.cluster_centers_[yi].ravel(), \"r-\")\n",
        "    plt.xlim(0, sz)\n",
        "    plt.ylim(-4, 4)\n",
        "    plt.text(0.55, 0.85,'Cluster %d' % (yi + 1),\n",
        "             transform=plt.gca().transAxes)\n",
        "    if yi == 1:\n",
        "        plt.title(\"Soft-DTW $k$-means\")\n",
        "\n",
        "plt.tight_layout()\n",
        "plt.show()"
      ],
      "execution_count": 19,
      "outputs": [
        {
          "output_type": "stream",
          "name": "stdout",
          "text": [
            "Soft-DTW k-means\n",
            "0.472 --> 0.144 --> 0.142 --> 0.143 --> 0.142 --> 0.143 --> 0.142 --> 0.143 --> 0.142 --> 0.142 --> 0.142 --> 0.142 --> 0.142 --> 0.142 --> 0.142 --> 0.142 --> 0.142 --> 0.142 --> 0.142 --> 0.142 --> 0.142 --> \n"
          ]
        },
        {
          "output_type": "display_data",
          "data": {
            "image/png": "[encoded data removed]",
            "text/plain": [
              "<Figure size 432x288 with 3 Axes>"
            ]
          },
          "metadata": {
            "needs_background": "light"
          }
        }
      ]
    },
    {
      "cell_type": "code",
      "metadata": {
        "id": "fHiH4ISQ8955"
      },
      "source": [
        ""
      ],
      "execution_count": null,
      "outputs": []
    }
  ]
}